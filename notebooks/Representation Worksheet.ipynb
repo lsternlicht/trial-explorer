{
 "cells": [
  {
   "cell_type": "code",
   "execution_count": 6,
   "metadata": {},
   "outputs": [],
   "source": [
    "import pandas as pd\n",
    "import numpy as np\n",
    "import datetime as dt\n",
    "\n",
    "from tqdm import tqdm_notebook as tqdm\n",
    "import pdaactconn as pc\n",
    "from trialexplorer import AACTStudySet\n",
    "\n",
    "import matplotlib.pyplot as plt\n",
    "%matplotlib inline"
   ]
  },
  {
   "cell_type": "code",
   "execution_count": 7,
   "metadata": {},
   "outputs": [
    {
     "name": "stdout",
     "output_type": "stream",
     "text": [
      "251010 studies loaded!\n"
     ]
    }
   ],
   "source": [
    "# selecting all interventional studies\n",
    "conn = pc.AACTConnection(source=pc.AACTConnection.REMOTE)\n",
    "ss = AACTStudySet.AACTStudySet(conn= conn, tqdm_handler=tqdm)\n",
    "ss.add_constraint(\"study_type = 'Interventional'\")\n",
    "ss.add_constraint(\"start_date is not Null\")\n",
    "ss.load_studies()"
   ]
  },
  {
   "cell_type": "code",
   "execution_count": 8,
   "metadata": {},
   "outputs": [
    {
     "name": "stdout",
     "output_type": "stream",
     "text": [
      "Successfuly added these 3 dimensions: ['baseline_measurements', 'result_groups', 'outcome_analyses']\n",
      "Failed to add these 0 dimensions: []\n"
     ]
    },
    {
     "data": {
      "application/vnd.jupyter.widget-view+json": {
       "model_id": "28a592c8666342d3b8bd2afabf4629da",
       "version_major": 2,
       "version_minor": 0
      },
      "text/plain": [
       "HBox(children=(IntProgress(value=0, max=503), HTML(value='')))"
      ]
     },
     "metadata": {},
     "output_type": "display_data"
    },
    {
     "name": "stdout",
     "output_type": "stream",
     "text": [
      "Syncing the temp table temp_cur_studies in 503 chunks x 500 records each\n",
      "\n",
      "Creating index on the temp table\n",
      " - Loading dimension baseline_measurements\n",
      " -- Loading raw data\n",
      " -- Sorting index\n",
      " - Loading dimension result_groups\n",
      " -- Loading raw data\n",
      " -- Sorting index\n",
      " - Loading dimension outcome_analyses\n",
      " -- Loading raw data\n",
      " -- Sorting index\n"
     ]
    }
   ],
   "source": [
    "ss.add_dimensions(['baseline_measurements', 'result_groups', 'outcome_analyses'])\n",
    "ss.refresh_dim_data()\n",
    "rg = ss.dimensions['result_groups']\n",
    "bm = ss.dimensions['baseline_measurements']"
   ]
  },
  {
   "cell_type": "code",
   "execution_count": 9,
   "metadata": {},
   "outputs": [],
   "source": [
    "#Get studies with exactly two treatment groups besides \"Total\" and grab necessary columns\n",
    "combined_measures = pd.merge(rg.data, bm.data, left_on = ['nct_id', 'id'], right_on = ['nct_id', 'result_group_id'])\n",
    "combined_measures = combined_measures[combined_measures.title_x != 'Total']\n",
    "num_groups = combined_measures.groupby('nct_id').ctgov_group_code_x.nunique()\n",
    "num_groups = pd.DataFrame(num_groups)\n",
    "num_groups.columns.values[0] = 'n_groups'\n",
    "combined_measures = combined_measures.merge(num_groups, on=['nct_id'])\n",
    "combined_measures = combined_measures[combined_measures.n_groups==2]\n",
    "study_balance_dat = combined_measures[['ctgov_group_code_x', 'classification', 'category', 'title_y',\n",
    "                                       'param_type', 'param_value_num',\n",
    "                                       'dispersion_type', 'dispersion_value_num']]"
   ]
  },
  {
   "cell_type": "code",
   "execution_count": 40,
   "metadata": {},
   "outputs": [
    {
     "data": {
      "text/plain": [
       "Age                           65674\n",
       "Sex: Female, Male             64831\n",
       "Race (NIH/OMB)                49684\n",
       "Region of Enrollment          34487\n",
       "Race/Ethnicity, Customized    23658\n",
       "Ethnicity (NIH/OMB)           15127\n",
       "Age, Customized                8575\n",
       "Gender                         2318\n",
       "Sex/Gender, Customized         1174\n",
       "Weight                         1062\n",
       "Name: title_y, dtype: int64"
      ]
     },
     "execution_count": 40,
     "metadata": {},
     "output_type": "execute_result"
    }
   ],
   "source": [
    "study_balance_dat.title_y.value_counts().head(10)\n",
    "#We'll go with age and sex for now"
   ]
  },
  {
   "cell_type": "markdown",
   "metadata": {},
   "source": [
    "# Gender"
   ]
  },
  {
   "cell_type": "code",
   "execution_count": 58,
   "metadata": {},
   "outputs": [],
   "source": [
    "gender_title_y = ['Sex: Female, Male', \n",
    "                  'Gender']"
   ]
  },
  {
   "cell_type": "code",
   "execution_count": 71,
   "metadata": {},
   "outputs": [
    {
     "data": {
      "text/plain": [
       "array(['Male', 'Female'], dtype=object)"
      ]
     },
     "execution_count": 71,
     "metadata": {},
     "output_type": "execute_result"
    }
   ],
   "source": [
    "df[(df['title_y'].isin(gender_title_y)) & (df['category'] == '')]"
   ]
  },
  {
   "cell_type": "code",
   "execution_count": 78,
   "metadata": {},
   "outputs": [],
   "source": [
    "def get_gender(row):\n",
    "    if row['category'] == '':\n",
    "        return row['classification'].lower()\n",
    "    else: \n",
    "        return row['category'].lower()"
   ]
  },
  {
   "cell_type": "code",
   "execution_count": 79,
   "metadata": {},
   "outputs": [],
   "source": [
    "df = study_balance_dat.copy()\n",
    "df['filled_gender'] = df.apply(get_gender, axis=1)\n",
    "df['is_gender'] = df['title_y'].apply(lambda x: True if x in gender_title_y else False)\n",
    "dfj = df[df['is_gender']].join(ss.studies[['start_date']])\n",
    "dfj['start_year'] = dfj['start_date'].apply(lambda x: x.year)\n"
   ]
  },
  {
   "cell_type": "code",
   "execution_count": 80,
   "metadata": {},
   "outputs": [],
   "source": [
    "df_gender_year = dfj.groupby(['start_year', \n",
    "                              'filled_gender'])[['param_value_num']].sum().reset_index()\n",
    "df_gender_yearp = df_gender_year.pivot(index='start_year', \n",
    "                                       columns='filled_gender', \n",
    "                                       values='param_value_num')"
   ]
  },
  {
   "cell_type": "code",
   "execution_count": 85,
   "metadata": {},
   "outputs": [
    {
     "data": {
      "image/png": "[encoded data removed]",
      "text/plain": [
       "<Figure size 576x432 with 1 Axes>"
      ]
     },
     "metadata": {
      "needs_background": "light"
     },
     "output_type": "display_data"
    }
   ],
   "source": [
    "df_gender_yearp.plot.bar(figsize=(8, 6))\n",
    "plt.show()"
   ]
  },
  {
   "cell_type": "code",
   "execution_count": 88,
   "metadata": {},
   "outputs": [],
   "source": [
    "df_gres = dfj.groupby(['filled_gender'])[['param_value_num']].sum().reset_index()\n",
    "df_gres['pct'] = df_gres['param_value_num'] / df_gres['param_value_num'].sum()"
   ]
  },
  {
   "cell_type": "code",
   "execution_count": 89,
   "metadata": {},
   "outputs": [
    {
     "data": {
      "text/html": [
       "<div>\n",
       "<style scoped>\n",
       "    .dataframe tbody tr th:only-of-type {\n",
       "        vertical-align: middle;\n",
       "    }\n",
       "\n",
       "    .dataframe tbody tr th {\n",
       "        vertical-align: top;\n",
       "    }\n",
       "\n",
       "    .dataframe thead th {\n",
       "        text-align: right;\n",
       "    }\n",
       "</style>\n",
       "<table border=\"1\" class=\"dataframe\">\n",
       "  <thead>\n",
       "    <tr style=\"text-align: right;\">\n",
       "      <th></th>\n",
       "      <th>filled_gender</th>\n",
       "      <th>param_value_num</th>\n",
       "      <th>pct</th>\n",
       "    </tr>\n",
       "  </thead>\n",
       "  <tbody>\n",
       "    <tr>\n",
       "      <th>0</th>\n",
       "      <td>female</td>\n",
       "      <td>3549945.0</td>\n",
       "      <td>0.502189</td>\n",
       "    </tr>\n",
       "    <tr>\n",
       "      <th>1</th>\n",
       "      <td>male</td>\n",
       "      <td>3519000.0</td>\n",
       "      <td>0.497811</td>\n",
       "    </tr>\n",
       "  </tbody>\n",
       "</table>\n",
       "</div>"
      ],
      "text/plain": [
       "  filled_gender  param_value_num       pct\n",
       "0        female        3549945.0  0.502189\n",
       "1          male        3519000.0  0.497811"
      ]
     },
     "execution_count": 89,
     "metadata": {},
     "output_type": "execute_result"
    }
   ],
   "source": [
    "df_gres"
   ]
  },
  {
   "cell_type": "code",
   "execution_count": null,
   "metadata": {},
   "outputs": [],
   "source": []
  }
 ],
 "metadata": {
  "kernelspec": {
   "display_name": "Python 3",
   "language": "python",
   "name": "python3"
  },
  "language_info": {
   "codemirror_mode": {
    "name": "ipython",
    "version": 3
   },
   "file_extension": ".py",
   "mimetype": "text/x-python",
   "name": "python",
   "nbconvert_exporter": "python",
   "pygments_lexer": "ipython3",
   "version": "3.6.8"
  }
 },
 "nbformat": 4,
 "nbformat_minor": 2
}
