{
 "cells": [
  {
   "cell_type": "code",
   "execution_count": 1,
   "metadata": {},
   "outputs": [],
   "source": [
    "import pandas as pd\n",
    "import numpy as np\n",
    "from tqdm import tqdm_notebook\n",
    "import datetime as dt\n",
    "import pickle\n",
    "\n",
    "import matplotlib.pyplot as plt\n",
    "%matplotlib inline"
   ]
  },
  {
   "cell_type": "code",
   "execution_count": 3,
   "metadata": {},
   "outputs": [],
   "source": [
    "df = pd.read_pickle('raw_data/drug_demo.pkl')"
   ]
  },
  {
   "cell_type": "code",
   "execution_count": 4,
   "metadata": {},
   "outputs": [
    {
     "data": {
      "text/plain": [
       "(250136, 15)"
      ]
     },
     "execution_count": 4,
     "metadata": {},
     "output_type": "execute_result"
    }
   ],
   "source": [
    "df.shape"
   ]
  },
  {
   "cell_type": "code",
   "execution_count": 5,
   "metadata": {},
   "outputs": [
    {
     "data": {
      "text/html": [
       "<div>\n",
       "<style scoped>\n",
       "    .dataframe tbody tr th:only-of-type {\n",
       "        vertical-align: middle;\n",
       "    }\n",
       "\n",
       "    .dataframe tbody tr th {\n",
       "        vertical-align: top;\n",
       "    }\n",
       "\n",
       "    .dataframe thead th {\n",
       "        text-align: right;\n",
       "    }\n",
       "</style>\n",
       "<table border=\"1\" class=\"dataframe\">\n",
       "  <thead>\n",
       "    <tr style=\"text-align: right;\">\n",
       "      <th></th>\n",
       "      <th>start_date</th>\n",
       "      <th>start_date_type</th>\n",
       "      <th>enrollment_type</th>\n",
       "      <th>verification_date</th>\n",
       "      <th>phase</th>\n",
       "      <th>number_of_arms</th>\n",
       "      <th>source</th>\n",
       "      <th>cond_categories</th>\n",
       "      <th>start_year</th>\n",
       "      <th>sponsor_agency_class</th>\n",
       "      <th>sponsor_name</th>\n",
       "      <th>countries</th>\n",
       "      <th>is_orphan</th>\n",
       "      <th>conditions</th>\n",
       "      <th>closest_orphan</th>\n",
       "    </tr>\n",
       "    <tr>\n",
       "      <th>nct_id</th>\n",
       "      <th></th>\n",
       "      <th></th>\n",
       "      <th></th>\n",
       "      <th></th>\n",
       "      <th></th>\n",
       "      <th></th>\n",
       "      <th></th>\n",
       "      <th></th>\n",
       "      <th></th>\n",
       "      <th></th>\n",
       "      <th></th>\n",
       "      <th></th>\n",
       "      <th></th>\n",
       "      <th></th>\n",
       "      <th></th>\n",
       "    </tr>\n",
       "  </thead>\n",
       "  <tbody>\n",
       "    <tr>\n",
       "      <th>NCT03145155</th>\n",
       "      <td>2017-05-22</td>\n",
       "      <td>Actual</td>\n",
       "      <td>Actual</td>\n",
       "      <td>2018-07-31</td>\n",
       "      <td>N/A</td>\n",
       "      <td>2.0</td>\n",
       "      <td>Tokyo University</td>\n",
       "      <td>[other]</td>\n",
       "      <td>2017</td>\n",
       "      <td>Other</td>\n",
       "      <td>Tokyo University</td>\n",
       "      <td>[Japan]</td>\n",
       "      <td>False</td>\n",
       "      <td>[continuum of care, noncommunicable diseases]</td>\n",
       "      <td>[chronic granulomatous disease, multicentric c...</td>\n",
       "    </tr>\n",
       "    <tr>\n",
       "      <th>NCT03145142</th>\n",
       "      <td>2017-06-06</td>\n",
       "      <td>Actual</td>\n",
       "      <td>Actual</td>\n",
       "      <td>2019-09-30</td>\n",
       "      <td>N/A</td>\n",
       "      <td>2.0</td>\n",
       "      <td>Sharp HealthCare</td>\n",
       "      <td>[other, reproductivehealth]</td>\n",
       "      <td>2017</td>\n",
       "      <td>Other</td>\n",
       "      <td>Sharp HealthCare</td>\n",
       "      <td>[Canada, Germany, Ireland, United States]</td>\n",
       "      <td>False</td>\n",
       "      <td>[hypoxia, brain, premature birth]</td>\n",
       "      <td>[primary brain tumors, apnea prematurity]</td>\n",
       "    </tr>\n",
       "    <tr>\n",
       "      <th>NCT03145116</th>\n",
       "      <td>2017-09-22</td>\n",
       "      <td>Actual</td>\n",
       "      <td>Actual</td>\n",
       "      <td>2018-01-31</td>\n",
       "      <td>N/A</td>\n",
       "      <td>1.0</td>\n",
       "      <td>Carl Zeiss Meditec AG</td>\n",
       "      <td>[ocular]</td>\n",
       "      <td>2017</td>\n",
       "      <td>Industry</td>\n",
       "      <td>Carl Zeiss Meditec AG</td>\n",
       "      <td>[Germany]</td>\n",
       "      <td>False</td>\n",
       "      <td>[cataract]</td>\n",
       "      <td>[stargardt]</td>\n",
       "    </tr>\n",
       "    <tr>\n",
       "      <th>NCT03145103</th>\n",
       "      <td>2017-08-07</td>\n",
       "      <td>Actual</td>\n",
       "      <td>Actual</td>\n",
       "      <td>2018-07-31</td>\n",
       "      <td>N/A</td>\n",
       "      <td>1.0</td>\n",
       "      <td>Carl Zeiss Meditec AG</td>\n",
       "      <td>[ocular]</td>\n",
       "      <td>2017</td>\n",
       "      <td>Industry</td>\n",
       "      <td>Carl Zeiss Meditec AG</td>\n",
       "      <td>[Sweden]</td>\n",
       "      <td>False</td>\n",
       "      <td>[cataract]</td>\n",
       "      <td>[stargardt]</td>\n",
       "    </tr>\n",
       "    <tr>\n",
       "      <th>NCT03145077</th>\n",
       "      <td>2017-03-21</td>\n",
       "      <td>Actual</td>\n",
       "      <td>Anticipated</td>\n",
       "      <td>2018-12-31</td>\n",
       "      <td>N/A</td>\n",
       "      <td>4.0</td>\n",
       "      <td>M.D. Anderson Cancer Center</td>\n",
       "      <td>[cancer]</td>\n",
       "      <td>2017</td>\n",
       "      <td>Other</td>\n",
       "      <td>M.D. Anderson Cancer Center</td>\n",
       "      <td>[United States]</td>\n",
       "      <td>False</td>\n",
       "      <td>[head and neck cancer]</td>\n",
       "      <td>[head neck cancer]</td>\n",
       "    </tr>\n",
       "  </tbody>\n",
       "</table>\n",
       "</div>"
      ],
      "text/plain": [
       "             start_date start_date_type enrollment_type verification_date  \\\n",
       "nct_id                                                                      \n",
       "NCT03145155  2017-05-22          Actual          Actual        2018-07-31   \n",
       "NCT03145142  2017-06-06          Actual          Actual        2019-09-30   \n",
       "NCT03145116  2017-09-22          Actual          Actual        2018-01-31   \n",
       "NCT03145103  2017-08-07          Actual          Actual        2018-07-31   \n",
       "NCT03145077  2017-03-21          Actual     Anticipated        2018-12-31   \n",
       "\n",
       "            phase  number_of_arms                       source  \\\n",
       "nct_id                                                           \n",
       "NCT03145155   N/A             2.0             Tokyo University   \n",
       "NCT03145142   N/A             2.0             Sharp HealthCare   \n",
       "NCT03145116   N/A             1.0        Carl Zeiss Meditec AG   \n",
       "NCT03145103   N/A             1.0        Carl Zeiss Meditec AG   \n",
       "NCT03145077   N/A             4.0  M.D. Anderson Cancer Center   \n",
       "\n",
       "                         cond_categories  start_year sponsor_agency_class  \\\n",
       "nct_id                                                                      \n",
       "NCT03145155                      [other]        2017                Other   \n",
       "NCT03145142  [other, reproductivehealth]        2017                Other   \n",
       "NCT03145116                     [ocular]        2017             Industry   \n",
       "NCT03145103                     [ocular]        2017             Industry   \n",
       "NCT03145077                     [cancer]        2017                Other   \n",
       "\n",
       "                            sponsor_name  \\\n",
       "nct_id                                     \n",
       "NCT03145155             Tokyo University   \n",
       "NCT03145142             Sharp HealthCare   \n",
       "NCT03145116        Carl Zeiss Meditec AG   \n",
       "NCT03145103        Carl Zeiss Meditec AG   \n",
       "NCT03145077  M.D. Anderson Cancer Center   \n",
       "\n",
       "                                             countries  is_orphan  \\\n",
       "nct_id                                                              \n",
       "NCT03145155                                    [Japan]      False   \n",
       "NCT03145142  [Canada, Germany, Ireland, United States]      False   \n",
       "NCT03145116                                  [Germany]      False   \n",
       "NCT03145103                                   [Sweden]      False   \n",
       "NCT03145077                            [United States]      False   \n",
       "\n",
       "                                                conditions  \\\n",
       "nct_id                                                       \n",
       "NCT03145155  [continuum of care, noncommunicable diseases]   \n",
       "NCT03145142              [hypoxia, brain, premature birth]   \n",
       "NCT03145116                                     [cataract]   \n",
       "NCT03145103                                     [cataract]   \n",
       "NCT03145077                         [head and neck cancer]   \n",
       "\n",
       "                                                closest_orphan  \n",
       "nct_id                                                          \n",
       "NCT03145155  [chronic granulomatous disease, multicentric c...  \n",
       "NCT03145142          [primary brain tumors, apnea prematurity]  \n",
       "NCT03145116                                        [stargardt]  \n",
       "NCT03145103                                        [stargardt]  \n",
       "NCT03145077                                 [head neck cancer]  "
      ]
     },
     "execution_count": 5,
     "metadata": {},
     "output_type": "execute_result"
    }
   ],
   "source": [
    "df.head()"
   ]
  },
  {
   "cell_type": "code",
   "execution_count": 21,
   "metadata": {},
   "outputs": [],
   "source": [
    "df['is_US'] = df['countries'].apply(lambda x: 1 \n",
    "                                                     if 'United States' in x\n",
    "                                                     else 0)"
   ]
  },
  {
   "cell_type": "code",
   "execution_count": 27,
   "metadata": {},
   "outputs": [],
   "source": [
    "df_us = df[df['is_US'] == 1]"
   ]
  },
  {
   "cell_type": "code",
   "execution_count": 28,
   "metadata": {},
   "outputs": [],
   "source": [
    "sub_df = df_us[(df_us['sponsor_agency_class'] == 'Other')]"
   ]
  },
  {
   "cell_type": "code",
   "execution_count": 37,
   "metadata": {},
   "outputs": [],
   "source": [
    "s_us = sub_df.groupby('sponsor_name')['start_date'].count().sort_values(ascending=False)"
   ]
  },
  {
   "cell_type": "code",
   "execution_count": 40,
   "metadata": {},
   "outputs": [],
   "source": [
    "pd.DataFrame(s_us).to_csv('raw_data/us_other_sponsors.csv')"
   ]
  },
  {
   "cell_type": "markdown",
   "metadata": {},
   "source": [
    "### getting > 20 research counts"
   ]
  },
  {
   "cell_type": "code",
   "execution_count": 42,
   "metadata": {},
   "outputs": [
    {
     "data": {
      "text/plain": [
       "51365"
      ]
     },
     "execution_count": 42,
     "metadata": {},
     "output_type": "execute_result"
    }
   ],
   "source": [
    "# treat these as research organizations\n",
    "s_us[s_us > 20].sum()\n",
    "\n",
    "# break out university (fuzzy)"
   ]
  },
  {
   "cell_type": "code",
   "execution_count": null,
   "metadata": {},
   "outputs": [],
   "source": []
  },
  {
   "cell_type": "markdown",
   "metadata": {},
   "source": [
    "## TOdo: add collaborator sponsor"
   ]
  },
  {
   "cell_type": "code",
   "execution_count": 10,
   "metadata": {
    "scrolled": true
   },
   "outputs": [
    {
     "data": {
      "text/plain": [
       "array(['N/A', 'Phase 2', 'Phase 1', 'Phase 4', 'Phase 2/Phase 3',\n",
       "       'Early Phase 1', 'Phase 3', 'Phase 1/Phase 2'], dtype=object)"
      ]
     },
     "execution_count": 10,
     "metadata": {},
     "output_type": "execute_result"
    }
   ],
   "source": [
    "df['phase'].unique()"
   ]
  },
  {
   "cell_type": "code",
   "execution_count": 11,
   "metadata": {},
   "outputs": [
    {
     "data": {
      "text/plain": [
       "phase\n",
       "Early Phase 1        2914\n",
       "N/A                102710\n",
       "Phase 1             30570\n",
       "Phase 1/Phase 2     10375\n",
       "Phase 2             42734\n",
       "Phase 2/Phase 3      5051\n",
       "Phase 3             30131\n",
       "Phase 4             25651\n",
       "Name: start_date, dtype: int64"
      ]
     },
     "execution_count": 11,
     "metadata": {},
     "output_type": "execute_result"
    }
   ],
   "source": [
    "df.groupby('phase')['start_date'].count()"
   ]
  },
  {
   "cell_type": "code",
   "execution_count": null,
   "metadata": {},
   "outputs": [],
   "source": []
  }
 ],
 "metadata": {
  "kernelspec": {
   "display_name": "Python 3",
   "language": "python",
   "name": "python3"
  },
  "language_info": {
   "codemirror_mode": {
    "name": "ipython",
    "version": 3
   },
   "file_extension": ".py",
   "mimetype": "text/x-python",
   "name": "python",
   "nbconvert_exporter": "python",
   "pygments_lexer": "ipython3",
   "version": "3.6.8"
  }
 },
 "nbformat": 4,
 "nbformat_minor": 2
}
