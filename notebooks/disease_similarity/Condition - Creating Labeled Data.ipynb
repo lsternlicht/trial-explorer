{
 "cells": [
  {
   "cell_type": "code",
   "execution_count": 14,
   "metadata": {},
   "outputs": [],
   "source": [
    "import pandas as pd\n",
    "import numpy as np\n",
    "\n",
    "import datetime as dt\n",
    "import pickle\n",
    "from importlib import reload\n",
    "\n",
    "from fuzzywuzzy import fuzz\n",
    "from fuzzywuzzy import process\n",
    "\n",
    "from tqdm import tqdm_notebook as tqdm\n",
    "from tqdm import tqdm as tqdm_pandas\n",
    "\n",
    "import pdaactconn as pc\n",
    "from trialexplorer import AACTStudySet\n",
    "from trialexplorer import studysimilarity as ssim\n",
    "\n",
    "import matplotlib.pyplot as plt\n",
    "%matplotlib inline"
   ]
  },
  {
   "cell_type": "code",
   "execution_count": 15,
   "metadata": {},
   "outputs": [],
   "source": [
    "tqdm_pandas.pandas()"
   ]
  },
  {
   "cell_type": "code",
   "execution_count": 16,
   "metadata": {},
   "outputs": [],
   "source": [
    "## let's load bing's data and make sure we have only values that have data\n",
    "bd = pickle.load(open('raw_data/all_bing.p', 'rb'))\n",
    "new_bd = {}\n",
    "for k, v in bd.items():\n",
    "    if not ssim.has_no_data(v):\n",
    "        new_bd[k] = v\n",
    "bd = new_bd"
   ]
  },
  {
   "cell_type": "code",
   "execution_count": 17,
   "metadata": {},
   "outputs": [],
   "source": [
    "all_conds = pd.Series(list(bd.keys()))"
   ]
  },
  {
   "cell_type": "code",
   "execution_count": 18,
   "metadata": {},
   "outputs": [
    {
     "data": {
      "text/plain": [
       "0                                               Healthy\n",
       "1                                         Breast Cancer\n",
       "2                                               Obesity\n",
       "3                                        HIV Infections\n",
       "4                                          Hypertension\n",
       "                              ...                      \n",
       "34157                              Tumor of the Thyroid\n",
       "34158    Trochanteric and Subtrochanteric Hip Fractures\n",
       "34159                                   Tumors (Others)\n",
       "34160       Tumor, Desmoplastic Small Round Cell, Adult\n",
       "34161    Tumor Appearance of Biliary System Obstruction\n",
       "Length: 34162, dtype: object"
      ]
     },
     "execution_count": 18,
     "metadata": {},
     "output_type": "execute_result"
    }
   ],
   "source": [
    "all_conds"
   ]
  },
  {
   "cell_type": "code",
   "execution_count": 19,
   "metadata": {},
   "outputs": [],
   "source": [
    "SAME = 'same'\n",
    "NOTSAME = 'notsame'\n",
    "SAME_DIFF_QUAL = 'same_diff_qual'"
   ]
  },
  {
   "cell_type": "code",
   "execution_count": 20,
   "metadata": {},
   "outputs": [],
   "source": [
    "master_list = []"
   ]
  },
  {
   "cell_type": "code",
   "execution_count": 21,
   "metadata": {},
   "outputs": [],
   "source": [
    "def grp2train(df_in):\n",
    "    grp_dict = df_in['grp'].to_dict()\n",
    "    all_labels = []\n",
    "    for a in df_in.index:\n",
    "        for b in df_in.index:\n",
    "            if a != b:\n",
    "                d1, s1 = ssim.digstr2parts(grp_dict[a])\n",
    "                d2, s2 = ssim.digstr2parts(grp_dict[b])\n",
    "                if d1 == d2 and s1 == s2:\n",
    "                    cur_label = SAME\n",
    "                elif d1 == d2:\n",
    "                    cur_label = SAME_DIFF_QUAL\n",
    "                else:\n",
    "                    cur_label = NOTSAME\n",
    "                \n",
    "                all_labels.append({\n",
    "                    'cond1': a,\n",
    "                    'cond2': b,\n",
    "                    'label': cur_label\n",
    "                })\n",
    "    return pd.DataFrame(all_labels)"
   ]
  },
  {
   "cell_type": "markdown",
   "metadata": {},
   "source": [
    "### Parkinsons"
   ]
  },
  {
   "cell_type": "code",
   "execution_count": 63,
   "metadata": {},
   "outputs": [
    {
     "data": {
      "text/plain": [
       "{'condition': 'chronic hepatitis c genotype 1b',\n",
       " 'nouns': 'hepatitis c genotype',\n",
       " 'bing_tokens': {'hepatitis': 16, 'c': 9},\n",
       " 'bing_links': ['https://generichope.com/hepatitis-c-genotype-1a-1b-treatment-guidelines/',\n",
       "  'https://www.sharecare.com/health/hepatitis-c/what-prognosis-people-hepatitis-c',\n",
       "  'https://www.healthline.com/health/hepatitis-c/can-it-be-cured',\n",
       "  'https://www.sharecare.com/health/hepatitis/what-differences-hepatitis-a-b',\n",
       "  'https://www.hepatitisc.uw.edu/go/treatment-infection/treatment-genotype-1/core-concept/all',\n",
       "  'https://www.hepatitis.va.gov/provider/reviews/genotypes.asp',\n",
       "  'https://www.hcvguidelines.org/treatment-naive/gt1b/no-cirrhosis',\n",
       "  'https://www.ncbi.nlm.nih.gov/pmc/articles/PMC3628125/',\n",
       "  'https://academic.microsoft.com/search?iq=And(Ty%3d%270%27%2cRId%3d2049611986)&filters=&from=0&sort=0&q=papers%20citing%20early%20dynamics%20of%20viremia%20in%20patients%20with%20genotype%201b%20chronic%20hepatitis%20c%20peg%20ifnalpha2a%20shows%20earlier%20viral%20decline%20than%20peg%20ifnalpha2b%20in%20combination%20therapy%20with%20ribavirin',\n",
       "  'https://www.healthline.com/health/hepatitis-c/hepatitis-prognosis-and-life-expectancy',\n",
       "  'https://www.hepatitiscentral.com/hepatitis-c/',\n",
       "  'https://www.webmd.com/hepatitis/chronic-hepatitis-c',\n",
       "  'https://www.news-medical.net/news/20130730/Interferon-free-treatment-for-genotype-1b-hepatitis-C-patients-an-interview-with-Professor-Wulf-Boecher-Boehringer-Ingelheim.aspx',\n",
       "  'https://go.microsoft.com/fwlink/?linkid=2100071&clcid=0x409'],\n",
       " 'bing_wiki': [],\n",
       " 'stages': {'type': [],\n",
       "  'genotyp_': ['1b'],\n",
       "  'grade': [],\n",
       "  'stage': [],\n",
       "  'ajcc': [],\n",
       "  'hepatitis': ['c']},\n",
       " 'adj_and_verbs': (['chronic'], [])}"
      ]
     },
     "execution_count": 63,
     "metadata": {},
     "output_type": "execute_result"
    }
   ],
   "source": [
    "cur_cond = \"Chronic Hepatitis C Genotype 1B\"\n",
    "ssim.featurize_one_cond(cur_cond, bd)"
   ]
  },
  {
   "cell_type": "code",
   "execution_count": 23,
   "metadata": {},
   "outputs": [],
   "source": [
    "#s_park = [x for x in all_conds if 'parkin' in x.lower()]\n",
    "#pd.DataFrame(s_park).to_excel('training_data/p1.xls')"
   ]
  },
  {
   "cell_type": "code",
   "execution_count": 25,
   "metadata": {},
   "outputs": [
    {
     "data": {
      "text/html": [
       "<div>\n",
       "<style scoped>\n",
       "    .dataframe tbody tr th:only-of-type {\n",
       "        vertical-align: middle;\n",
       "    }\n",
       "\n",
       "    .dataframe tbody tr th {\n",
       "        vertical-align: top;\n",
       "    }\n",
       "\n",
       "    .dataframe thead th {\n",
       "        text-align: right;\n",
       "    }\n",
       "</style>\n",
       "<table border=\"1\" class=\"dataframe\">\n",
       "  <thead>\n",
       "    <tr style=\"text-align: right;\">\n",
       "      <th></th>\n",
       "      <th>grp</th>\n",
       "    </tr>\n",
       "    <tr>\n",
       "      <th>cond</th>\n",
       "      <th></th>\n",
       "    </tr>\n",
       "  </thead>\n",
       "  <tbody>\n",
       "    <tr>\n",
       "      <td>Parkinson's Disease</td>\n",
       "      <td>1a</td>\n",
       "    </tr>\n",
       "    <tr>\n",
       "      <td>Parkinson Disease</td>\n",
       "      <td>1a</td>\n",
       "    </tr>\n",
       "    <tr>\n",
       "      <td>Idiopathic Parkinson's Disease</td>\n",
       "      <td>1b</td>\n",
       "    </tr>\n",
       "    <tr>\n",
       "      <td>Parkinson's Disease (PD)</td>\n",
       "      <td>1a</td>\n",
       "    </tr>\n",
       "    <tr>\n",
       "      <td>Parkinson</td>\n",
       "      <td>1a</td>\n",
       "    </tr>\n",
       "  </tbody>\n",
       "</table>\n",
       "</div>"
      ],
      "text/plain": [
       "                               grp\n",
       "cond                              \n",
       "Parkinson's Disease             1a\n",
       "Parkinson Disease               1a\n",
       "Idiopathic Parkinson's Disease  1b\n",
       "Parkinson's Disease (PD)        1a\n",
       "Parkinson                       1a"
      ]
     },
     "execution_count": 25,
     "metadata": {},
     "output_type": "execute_result"
    }
   ],
   "source": [
    "df_in = pd.read_excel('training_data/p1.xls', index_col='cond')\n",
    "df_in.head()"
   ]
  },
  {
   "cell_type": "code",
   "execution_count": 26,
   "metadata": {},
   "outputs": [
    {
     "data": {
      "text/plain": [
       "1"
      ]
     },
     "execution_count": 26,
     "metadata": {},
     "output_type": "execute_result"
    }
   ],
   "source": [
    "master_list.append(grp2train(df_in))\n",
    "len(master_list)"
   ]
  },
  {
   "cell_type": "markdown",
   "metadata": {},
   "source": [
    "### Breast Cancer"
   ]
  },
  {
   "cell_type": "code",
   "execution_count": 123,
   "metadata": {},
   "outputs": [],
   "source": [
    "s_bc = [x for x in all_conds if 'breast' in x.lower()]\n",
    "#pd.DataFrame(s_bc).to_excel('training_data/p2.xls')"
   ]
  },
  {
   "cell_type": "code",
   "execution_count": 27,
   "metadata": {},
   "outputs": [
    {
     "data": {
      "text/html": [
       "<div>\n",
       "<style scoped>\n",
       "    .dataframe tbody tr th:only-of-type {\n",
       "        vertical-align: middle;\n",
       "    }\n",
       "\n",
       "    .dataframe tbody tr th {\n",
       "        vertical-align: top;\n",
       "    }\n",
       "\n",
       "    .dataframe thead th {\n",
       "        text-align: right;\n",
       "    }\n",
       "</style>\n",
       "<table border=\"1\" class=\"dataframe\">\n",
       "  <thead>\n",
       "    <tr style=\"text-align: right;\">\n",
       "      <th></th>\n",
       "      <th>grp</th>\n",
       "    </tr>\n",
       "    <tr>\n",
       "      <th>cond</th>\n",
       "      <th></th>\n",
       "    </tr>\n",
       "  </thead>\n",
       "  <tbody>\n",
       "    <tr>\n",
       "      <td>Breast Cancer</td>\n",
       "      <td>1a</td>\n",
       "    </tr>\n",
       "    <tr>\n",
       "      <td>Breast Neoplasms</td>\n",
       "      <td>1a</td>\n",
       "    </tr>\n",
       "    <tr>\n",
       "      <td>Metastatic Breast Cancer</td>\n",
       "      <td>1b</td>\n",
       "    </tr>\n",
       "    <tr>\n",
       "      <td>Stage IV Breast Cancer</td>\n",
       "      <td>1c</td>\n",
       "    </tr>\n",
       "    <tr>\n",
       "      <td>Triple Negative Breast Cancer</td>\n",
       "      <td>1d</td>\n",
       "    </tr>\n",
       "  </tbody>\n",
       "</table>\n",
       "</div>"
      ],
      "text/plain": [
       "                              grp\n",
       "cond                             \n",
       "Breast Cancer                  1a\n",
       "Breast Neoplasms               1a\n",
       "Metastatic Breast Cancer       1b\n",
       "Stage IV Breast Cancer         1c\n",
       "Triple Negative Breast Cancer  1d"
      ]
     },
     "execution_count": 27,
     "metadata": {},
     "output_type": "execute_result"
    }
   ],
   "source": [
    "df_in = pd.read_excel('training_data/p2.xls', index_col='cond')\n",
    "df_in.head()"
   ]
  },
  {
   "cell_type": "code",
   "execution_count": 28,
   "metadata": {},
   "outputs": [
    {
     "data": {
      "text/plain": [
       "2"
      ]
     },
     "execution_count": 28,
     "metadata": {},
     "output_type": "execute_result"
    }
   ],
   "source": [
    "master_list.append(grp2train(df_in))\n",
    "len(master_list)"
   ]
  },
  {
   "cell_type": "markdown",
   "metadata": {},
   "source": [
    "# HIV"
   ]
  },
  {
   "cell_type": "code",
   "execution_count": 132,
   "metadata": {},
   "outputs": [],
   "source": [
    "s_hiv = [x for x in all_conds if 'hiv' in x.lower()]\n",
    "#pd.DataFrame(s_hiv).to_excel('training_data/p3.xls')"
   ]
  },
  {
   "cell_type": "code",
   "execution_count": 29,
   "metadata": {},
   "outputs": [
    {
     "data": {
      "text/html": [
       "<div>\n",
       "<style scoped>\n",
       "    .dataframe tbody tr th:only-of-type {\n",
       "        vertical-align: middle;\n",
       "    }\n",
       "\n",
       "    .dataframe tbody tr th {\n",
       "        vertical-align: top;\n",
       "    }\n",
       "\n",
       "    .dataframe thead th {\n",
       "        text-align: right;\n",
       "    }\n",
       "</style>\n",
       "<table border=\"1\" class=\"dataframe\">\n",
       "  <thead>\n",
       "    <tr style=\"text-align: right;\">\n",
       "      <th></th>\n",
       "      <th>grp</th>\n",
       "    </tr>\n",
       "    <tr>\n",
       "      <th>cond</th>\n",
       "      <th></th>\n",
       "    </tr>\n",
       "  </thead>\n",
       "  <tbody>\n",
       "    <tr>\n",
       "      <td>- HIV</td>\n",
       "      <td>1a</td>\n",
       "    </tr>\n",
       "    <tr>\n",
       "      <td>Acute HIV Infection</td>\n",
       "      <td>1b</td>\n",
       "    </tr>\n",
       "    <tr>\n",
       "      <td>AIDS/HIV PROBLEM</td>\n",
       "      <td>1a</td>\n",
       "    </tr>\n",
       "    <tr>\n",
       "      <td>Aids/Hiv Problem</td>\n",
       "      <td>1a</td>\n",
       "    </tr>\n",
       "    <tr>\n",
       "      <td>Antiretroviral Therapy in HIV-1 Infected Children</td>\n",
       "      <td>2a</td>\n",
       "    </tr>\n",
       "  </tbody>\n",
       "</table>\n",
       "</div>"
      ],
      "text/plain": [
       "                                                  grp\n",
       "cond                                                 \n",
       "- HIV                                              1a\n",
       "Acute HIV Infection                                1b\n",
       "AIDS/HIV PROBLEM                                   1a\n",
       "Aids/Hiv Problem                                   1a\n",
       "Antiretroviral Therapy in HIV-1 Infected Children  2a"
      ]
     },
     "execution_count": 29,
     "metadata": {},
     "output_type": "execute_result"
    }
   ],
   "source": [
    "df_in = pd.read_excel('training_data/p3.xls', index_col='cond')\n",
    "df_in.head()"
   ]
  },
  {
   "cell_type": "code",
   "execution_count": 136,
   "metadata": {},
   "outputs": [
    {
     "data": {
      "text/plain": [
       "3"
      ]
     },
     "execution_count": 136,
     "metadata": {},
     "output_type": "execute_result"
    }
   ],
   "source": [
    "master_list.append(grp2train(df_in))\n",
    "len(master_list)"
   ]
  },
  {
   "cell_type": "markdown",
   "metadata": {},
   "source": [
    "# Colon"
   ]
  },
  {
   "cell_type": "code",
   "execution_count": 138,
   "metadata": {},
   "outputs": [],
   "source": [
    "s_colon = [x for x in all_conds if 'colon' in x.lower()]\n",
    "#pd.DataFrame(s_colon).to_excel('training_data/p4.xls')"
   ]
  },
  {
   "cell_type": "code",
   "execution_count": 30,
   "metadata": {},
   "outputs": [
    {
     "data": {
      "text/html": [
       "<div>\n",
       "<style scoped>\n",
       "    .dataframe tbody tr th:only-of-type {\n",
       "        vertical-align: middle;\n",
       "    }\n",
       "\n",
       "    .dataframe tbody tr th {\n",
       "        vertical-align: top;\n",
       "    }\n",
       "\n",
       "    .dataframe thead th {\n",
       "        text-align: right;\n",
       "    }\n",
       "</style>\n",
       "<table border=\"1\" class=\"dataframe\">\n",
       "  <thead>\n",
       "    <tr style=\"text-align: right;\">\n",
       "      <th></th>\n",
       "      <th>grp</th>\n",
       "    </tr>\n",
       "    <tr>\n",
       "      <th>cond</th>\n",
       "      <th></th>\n",
       "    </tr>\n",
       "  </thead>\n",
       "  <tbody>\n",
       "    <tr>\n",
       "      <td>Cancer Colon</td>\n",
       "      <td>1a</td>\n",
       "    </tr>\n",
       "    <tr>\n",
       "      <td>Cancer of Colon</td>\n",
       "      <td>1a</td>\n",
       "    </tr>\n",
       "    <tr>\n",
       "      <td>Cancer of the Colon</td>\n",
       "      <td>1a</td>\n",
       "    </tr>\n",
       "    <tr>\n",
       "      <td>Colon Cancer</td>\n",
       "      <td>1a</td>\n",
       "    </tr>\n",
       "    <tr>\n",
       "      <td>Colon Cancer Prevention</td>\n",
       "      <td>1a</td>\n",
       "    </tr>\n",
       "  </tbody>\n",
       "</table>\n",
       "</div>"
      ],
      "text/plain": [
       "                        grp\n",
       "cond                       \n",
       "Cancer Colon             1a\n",
       "Cancer of Colon          1a\n",
       "Cancer of the Colon      1a\n",
       "Colon Cancer             1a\n",
       "Colon Cancer Prevention  1a"
      ]
     },
     "execution_count": 30,
     "metadata": {},
     "output_type": "execute_result"
    }
   ],
   "source": [
    "df_in = pd.read_excel('training_data/p4.xls', index_col='cond')\n",
    "df_in.head()"
   ]
  },
  {
   "cell_type": "code",
   "execution_count": 31,
   "metadata": {},
   "outputs": [
    {
     "data": {
      "text/plain": [
       "3"
      ]
     },
     "execution_count": 31,
     "metadata": {},
     "output_type": "execute_result"
    }
   ],
   "source": [
    "master_list.append(grp2train(df_in))\n",
    "len(master_list)"
   ]
  },
  {
   "cell_type": "markdown",
   "metadata": {},
   "source": [
    "# Genotype"
   ]
  },
  {
   "cell_type": "code",
   "execution_count": 143,
   "metadata": {},
   "outputs": [],
   "source": [
    "s_genotype = [x for x in all_conds if 'genotype' in x.lower()]\n",
    "#pd.DataFrame(s_genotype).to_excel('training_data/p5.xls')"
   ]
  },
  {
   "cell_type": "code",
   "execution_count": 32,
   "metadata": {},
   "outputs": [
    {
     "data": {
      "text/html": [
       "<div>\n",
       "<style scoped>\n",
       "    .dataframe tbody tr th:only-of-type {\n",
       "        vertical-align: middle;\n",
       "    }\n",
       "\n",
       "    .dataframe tbody tr th {\n",
       "        vertical-align: top;\n",
       "    }\n",
       "\n",
       "    .dataframe thead th {\n",
       "        text-align: right;\n",
       "    }\n",
       "</style>\n",
       "<table border=\"1\" class=\"dataframe\">\n",
       "  <thead>\n",
       "    <tr style=\"text-align: right;\">\n",
       "      <th></th>\n",
       "      <th>grp</th>\n",
       "    </tr>\n",
       "    <tr>\n",
       "      <th>cond</th>\n",
       "      <th></th>\n",
       "    </tr>\n",
       "  </thead>\n",
       "  <tbody>\n",
       "    <tr>\n",
       "      <td>Carboxylesterase 1 (CES1) Genotype</td>\n",
       "      <td>1a</td>\n",
       "    </tr>\n",
       "    <tr>\n",
       "      <td>Chronic Genotype 1 Hepatitis C Virus Infection</td>\n",
       "      <td>2a</td>\n",
       "    </tr>\n",
       "    <tr>\n",
       "      <td>Chronic Hepatics C Virus (HCV) Genotype 1</td>\n",
       "      <td>2a</td>\n",
       "    </tr>\n",
       "    <tr>\n",
       "      <td>Chronic Hepatitis C Genotype 1</td>\n",
       "      <td>2a</td>\n",
       "    </tr>\n",
       "    <tr>\n",
       "      <td>Chronic Hepatitis C Genotype 1B</td>\n",
       "      <td>2b</td>\n",
       "    </tr>\n",
       "  </tbody>\n",
       "</table>\n",
       "</div>"
      ],
      "text/plain": [
       "                                               grp\n",
       "cond                                              \n",
       "Carboxylesterase 1 (CES1) Genotype              1a\n",
       "Chronic Genotype 1 Hepatitis C Virus Infection  2a\n",
       "Chronic Hepatics C Virus (HCV) Genotype 1       2a\n",
       "Chronic Hepatitis C Genotype 1                  2a\n",
       "Chronic Hepatitis C Genotype 1B                 2b"
      ]
     },
     "execution_count": 32,
     "metadata": {},
     "output_type": "execute_result"
    }
   ],
   "source": [
    "df_in = pd.read_excel('training_data/p5.xls', index_col='cond')\n",
    "df_in.head()"
   ]
  },
  {
   "cell_type": "code",
   "execution_count": 33,
   "metadata": {},
   "outputs": [
    {
     "data": {
      "text/plain": [
       "4"
      ]
     },
     "execution_count": 33,
     "metadata": {},
     "output_type": "execute_result"
    }
   ],
   "source": [
    "master_list.append(grp2train(df_in))\n",
    "len(master_list)"
   ]
  },
  {
   "cell_type": "markdown",
   "metadata": {},
   "source": [
    "# Grade"
   ]
  },
  {
   "cell_type": "code",
   "execution_count": 147,
   "metadata": {},
   "outputs": [],
   "source": [
    "s_grade = [x for x in all_conds if 'grade' in x.lower()]\n",
    "#pd.DataFrame(s_grade).to_excel('training_data/p6.xls')"
   ]
  },
  {
   "cell_type": "code",
   "execution_count": 34,
   "metadata": {},
   "outputs": [
    {
     "data": {
      "text/html": [
       "<div>\n",
       "<style scoped>\n",
       "    .dataframe tbody tr th:only-of-type {\n",
       "        vertical-align: middle;\n",
       "    }\n",
       "\n",
       "    .dataframe tbody tr th {\n",
       "        vertical-align: top;\n",
       "    }\n",
       "\n",
       "    .dataframe thead th {\n",
       "        text-align: right;\n",
       "    }\n",
       "</style>\n",
       "<table border=\"1\" class=\"dataframe\">\n",
       "  <thead>\n",
       "    <tr style=\"text-align: right;\">\n",
       "      <th></th>\n",
       "      <th>grp</th>\n",
       "    </tr>\n",
       "    <tr>\n",
       "      <th>cond</th>\n",
       "      <th></th>\n",
       "    </tr>\n",
       "  </thead>\n",
       "  <tbody>\n",
       "    <tr>\n",
       "      <td>Lymphoma, Low-Grade</td>\n",
       "      <td>1a</td>\n",
       "    </tr>\n",
       "    <tr>\n",
       "      <td>Lymphoma, Intermediate-Grade</td>\n",
       "      <td>1b</td>\n",
       "    </tr>\n",
       "    <tr>\n",
       "      <td>Lymphoma, High-Grade</td>\n",
       "      <td>1c</td>\n",
       "    </tr>\n",
       "    <tr>\n",
       "      <td>Low Grade Lymphoma</td>\n",
       "      <td>1a</td>\n",
       "    </tr>\n",
       "    <tr>\n",
       "      <td>Low-Grade Lymphoma</td>\n",
       "      <td>1a</td>\n",
       "    </tr>\n",
       "  </tbody>\n",
       "</table>\n",
       "</div>"
      ],
      "text/plain": [
       "                             grp\n",
       "cond                            \n",
       "Lymphoma, Low-Grade           1a\n",
       "Lymphoma, Intermediate-Grade  1b\n",
       "Lymphoma, High-Grade          1c\n",
       "Low Grade Lymphoma            1a\n",
       "Low-Grade Lymphoma            1a"
      ]
     },
     "execution_count": 34,
     "metadata": {},
     "output_type": "execute_result"
    }
   ],
   "source": [
    "df_in = pd.read_excel('training_data/p6.xls', index_col='cond')\n",
    "df_in.head()"
   ]
  },
  {
   "cell_type": "code",
   "execution_count": 35,
   "metadata": {},
   "outputs": [
    {
     "data": {
      "text/plain": [
       "5"
      ]
     },
     "execution_count": 35,
     "metadata": {},
     "output_type": "execute_result"
    }
   ],
   "source": [
    "master_list.append(grp2train(df_in))\n",
    "len(master_list)"
   ]
  },
  {
   "cell_type": "markdown",
   "metadata": {},
   "source": [
    "# Cardio"
   ]
  },
  {
   "cell_type": "code",
   "execution_count": 36,
   "metadata": {},
   "outputs": [],
   "source": [
    "s_card = [x for x in all_conds if 'cardio' in x.lower()]\n",
    "#pd.DataFrame(s_card).to_excel('training_data/p7.xls')"
   ]
  },
  {
   "cell_type": "code",
   "execution_count": 38,
   "metadata": {},
   "outputs": [
    {
     "data": {
      "text/html": [
       "<div>\n",
       "<style scoped>\n",
       "    .dataframe tbody tr th:only-of-type {\n",
       "        vertical-align: middle;\n",
       "    }\n",
       "\n",
       "    .dataframe tbody tr th {\n",
       "        vertical-align: top;\n",
       "    }\n",
       "\n",
       "    .dataframe thead th {\n",
       "        text-align: right;\n",
       "    }\n",
       "</style>\n",
       "<table border=\"1\" class=\"dataframe\">\n",
       "  <thead>\n",
       "    <tr style=\"text-align: right;\">\n",
       "      <th></th>\n",
       "      <th>grp</th>\n",
       "    </tr>\n",
       "    <tr>\n",
       "      <th>cond</th>\n",
       "      <th></th>\n",
       "    </tr>\n",
       "  </thead>\n",
       "  <tbody>\n",
       "    <tr>\n",
       "      <td>Cardiomyopathy</td>\n",
       "      <td>1a</td>\n",
       "    </tr>\n",
       "    <tr>\n",
       "      <td>Cardiomyopathy, Dilated</td>\n",
       "      <td>1b</td>\n",
       "    </tr>\n",
       "    <tr>\n",
       "      <td>Dilated Cardiomyopathy</td>\n",
       "      <td>1b</td>\n",
       "    </tr>\n",
       "    <tr>\n",
       "      <td>Ischemic Cardiomyopathy</td>\n",
       "      <td>1c</td>\n",
       "    </tr>\n",
       "    <tr>\n",
       "      <td>Cardiomyopathy Ischemic</td>\n",
       "      <td>1c</td>\n",
       "    </tr>\n",
       "  </tbody>\n",
       "</table>\n",
       "</div>"
      ],
      "text/plain": [
       "                        grp\n",
       "cond                       \n",
       "Cardiomyopathy           1a\n",
       "Cardiomyopathy, Dilated  1b\n",
       "Dilated Cardiomyopathy   1b\n",
       "Ischemic Cardiomyopathy  1c\n",
       "Cardiomyopathy Ischemic  1c"
      ]
     },
     "execution_count": 38,
     "metadata": {},
     "output_type": "execute_result"
    }
   ],
   "source": [
    "df_in = pd.read_excel('training_data/p7.xls', index_col='cond')\n",
    "df_in.head()"
   ]
  },
  {
   "cell_type": "code",
   "execution_count": 39,
   "metadata": {},
   "outputs": [
    {
     "data": {
      "text/plain": [
       "6"
      ]
     },
     "execution_count": 39,
     "metadata": {},
     "output_type": "execute_result"
    }
   ],
   "source": [
    "master_list.append(grp2train(df_in))\n",
    "len(master_list)"
   ]
  },
  {
   "cell_type": "code",
   "execution_count": 41,
   "metadata": {},
   "outputs": [
    {
     "data": {
      "text/plain": [
       "(60448, 3)"
      ]
     },
     "execution_count": 41,
     "metadata": {},
     "output_type": "execute_result"
    }
   ],
   "source": [
    "df_final = pd.concat(master_list)\n",
    "df_final.shape"
   ]
  },
  {
   "cell_type": "code",
   "execution_count": 161,
   "metadata": {},
   "outputs": [],
   "source": [
    "### random entries"
   ]
  },
  {
   "cell_type": "code",
   "execution_count": 42,
   "metadata": {},
   "outputs": [
    {
     "data": {
      "text/plain": [
       "39552"
      ]
     },
     "execution_count": 42,
     "metadata": {},
     "output_type": "execute_result"
    }
   ],
   "source": [
    "100000 - 60448"
   ]
  },
  {
   "cell_type": "code",
   "execution_count": 43,
   "metadata": {},
   "outputs": [
    {
     "data": {
      "application/vnd.jupyter.widget-view+json": {
       "model_id": "d311b03820de4ab7b89f6f128529fab8",
       "version_major": 2,
       "version_minor": 0
      },
      "text/plain": [
       "HBox(children=(IntProgress(value=0, max=40000), HTML(value='')))"
      ]
     },
     "metadata": {},
     "output_type": "display_data"
    },
    {
     "name": "stdout",
     "output_type": "stream",
     "text": [
      "\n"
     ]
    }
   ],
   "source": [
    "filler_list = []\n",
    "for i in tqdm(range(40000)):\n",
    "    a = np.random.choice(all_conds)\n",
    "    b = np.random.choice(all_conds)\n",
    "    if fuzz.ratio(a, b) < 50:\n",
    "        filler_list.append({\n",
    "            'cond1': a,\n",
    "            'cond2': b,\n",
    "            'label': NOTSAME\n",
    "        })"
   ]
  },
  {
   "cell_type": "code",
   "execution_count": 44,
   "metadata": {},
   "outputs": [],
   "source": [
    "df_filler = pd.DataFrame(filler_list)\n",
    "df_filler.to_excel('training_data/filler.xls')"
   ]
  },
  {
   "cell_type": "code",
   "execution_count": 45,
   "metadata": {},
   "outputs": [
    {
     "data": {
      "text/plain": [
       "(39694, 3)"
      ]
     },
     "execution_count": 45,
     "metadata": {},
     "output_type": "execute_result"
    }
   ],
   "source": [
    "df_filler.shape"
   ]
  },
  {
   "cell_type": "code",
   "execution_count": 46,
   "metadata": {},
   "outputs": [],
   "source": [
    "master_list.append(df_filler)"
   ]
  },
  {
   "cell_type": "markdown",
   "metadata": {},
   "source": [
    "# final blend"
   ]
  },
  {
   "cell_type": "code",
   "execution_count": 47,
   "metadata": {},
   "outputs": [
    {
     "data": {
      "text/plain": [
       "(100142, 3)"
      ]
     },
     "execution_count": 47,
     "metadata": {},
     "output_type": "execute_result"
    }
   ],
   "source": [
    "df_final = pd.concat(master_list)\n",
    "df_final.shape"
   ]
  },
  {
   "cell_type": "code",
   "execution_count": 48,
   "metadata": {},
   "outputs": [
    {
     "data": {
      "text/html": [
       "<div>\n",
       "<style scoped>\n",
       "    .dataframe tbody tr th:only-of-type {\n",
       "        vertical-align: middle;\n",
       "    }\n",
       "\n",
       "    .dataframe tbody tr th {\n",
       "        vertical-align: top;\n",
       "    }\n",
       "\n",
       "    .dataframe thead th {\n",
       "        text-align: right;\n",
       "    }\n",
       "</style>\n",
       "<table border=\"1\" class=\"dataframe\">\n",
       "  <thead>\n",
       "    <tr style=\"text-align: right;\">\n",
       "      <th></th>\n",
       "      <th>cond1</th>\n",
       "      <th>cond2</th>\n",
       "      <th>label</th>\n",
       "    </tr>\n",
       "  </thead>\n",
       "  <tbody>\n",
       "    <tr>\n",
       "      <td>0</td>\n",
       "      <td>Parkinson's Disease</td>\n",
       "      <td>Parkinson Disease</td>\n",
       "      <td>same</td>\n",
       "    </tr>\n",
       "    <tr>\n",
       "      <td>1</td>\n",
       "      <td>Parkinson's Disease</td>\n",
       "      <td>Idiopathic Parkinson's Disease</td>\n",
       "      <td>same_diff_qual</td>\n",
       "    </tr>\n",
       "    <tr>\n",
       "      <td>2</td>\n",
       "      <td>Parkinson's Disease</td>\n",
       "      <td>Parkinson's Disease (PD)</td>\n",
       "      <td>same</td>\n",
       "    </tr>\n",
       "    <tr>\n",
       "      <td>3</td>\n",
       "      <td>Parkinson's Disease</td>\n",
       "      <td>Parkinson</td>\n",
       "      <td>same</td>\n",
       "    </tr>\n",
       "    <tr>\n",
       "      <td>4</td>\n",
       "      <td>Parkinson's Disease</td>\n",
       "      <td>Idiopathic Parkinson Disease</td>\n",
       "      <td>same_diff_qual</td>\n",
       "    </tr>\n",
       "    <tr>\n",
       "      <td>...</td>\n",
       "      <td>...</td>\n",
       "      <td>...</td>\n",
       "      <td>...</td>\n",
       "    </tr>\n",
       "    <tr>\n",
       "      <td>39689</td>\n",
       "      <td>Adult Intensive Care Patients</td>\n",
       "      <td>Tangier Disease</td>\n",
       "      <td>notsame</td>\n",
       "    </tr>\n",
       "    <tr>\n",
       "      <td>39690</td>\n",
       "      <td>Stage IIIA Non-Small Cell Lung Cancer</td>\n",
       "      <td>NON-SMALL CELL LUNG CANCER</td>\n",
       "      <td>notsame</td>\n",
       "    </tr>\n",
       "    <tr>\n",
       "      <td>39691</td>\n",
       "      <td>Hidradenitis Suppurativa</td>\n",
       "      <td>Estrogen Receptor Breast Cancer</td>\n",
       "      <td>notsame</td>\n",
       "    </tr>\n",
       "    <tr>\n",
       "      <td>39692</td>\n",
       "      <td>Gender Relations</td>\n",
       "      <td>Complicated Intra-abdominal Infections</td>\n",
       "      <td>notsame</td>\n",
       "    </tr>\n",
       "    <tr>\n",
       "      <td>39693</td>\n",
       "      <td>WDHA Syndrome</td>\n",
       "      <td>Immunogenicity</td>\n",
       "      <td>notsame</td>\n",
       "    </tr>\n",
       "  </tbody>\n",
       "</table>\n",
       "<p>100142 rows × 3 columns</p>\n",
       "</div>"
      ],
      "text/plain": [
       "                                       cond1  \\\n",
       "0                        Parkinson's Disease   \n",
       "1                        Parkinson's Disease   \n",
       "2                        Parkinson's Disease   \n",
       "3                        Parkinson's Disease   \n",
       "4                        Parkinson's Disease   \n",
       "...                                      ...   \n",
       "39689          Adult Intensive Care Patients   \n",
       "39690  Stage IIIA Non-Small Cell Lung Cancer   \n",
       "39691               Hidradenitis Suppurativa   \n",
       "39692                       Gender Relations   \n",
       "39693                          WDHA Syndrome   \n",
       "\n",
       "                                        cond2           label  \n",
       "0                           Parkinson Disease            same  \n",
       "1              Idiopathic Parkinson's Disease  same_diff_qual  \n",
       "2                    Parkinson's Disease (PD)            same  \n",
       "3                                   Parkinson            same  \n",
       "4                Idiopathic Parkinson Disease  same_diff_qual  \n",
       "...                                       ...             ...  \n",
       "39689                         Tangier Disease         notsame  \n",
       "39690              NON-SMALL CELL LUNG CANCER         notsame  \n",
       "39691         Estrogen Receptor Breast Cancer         notsame  \n",
       "39692  Complicated Intra-abdominal Infections         notsame  \n",
       "39693                          Immunogenicity         notsame  \n",
       "\n",
       "[100142 rows x 3 columns]"
      ]
     },
     "execution_count": 48,
     "metadata": {},
     "output_type": "execute_result"
    }
   ],
   "source": [
    "df_final"
   ]
  },
  {
   "cell_type": "markdown",
   "metadata": {},
   "source": [
    "# Featurizing"
   ]
  },
  {
   "cell_type": "code",
   "execution_count": 49,
   "metadata": {},
   "outputs": [],
   "source": [
    "def featurize(row):\n",
    "    return ssim.featurize_cond_full(row['cond1'], row['cond2'], bd)"
   ]
  },
  {
   "cell_type": "code",
   "execution_count": 50,
   "metadata": {},
   "outputs": [
    {
     "name": "stderr",
     "output_type": "stream",
     "text": [
      "100%|██████████| 100142/100142 [05:17<00:00, 315.58it/s]\n"
     ]
    }
   ],
   "source": [
    "feature_res = df_final.progress_apply(featurize, axis=1)"
   ]
  },
  {
   "cell_type": "code",
   "execution_count": 51,
   "metadata": {},
   "outputs": [
    {
     "name": "stderr",
     "output_type": "stream",
     "text": [
      "100%|██████████| 100142/100142 [00:25<00:00, 3975.31it/s]\n"
     ]
    }
   ],
   "source": [
    "all_s = feature_res.progress_apply(pd.Series)"
   ]
  },
  {
   "cell_type": "code",
   "execution_count": 52,
   "metadata": {},
   "outputs": [],
   "source": [
    "df_final[[x for x in all_s.columns]] = all_s"
   ]
  },
  {
   "cell_type": "code",
   "execution_count": 54,
   "metadata": {},
   "outputs": [
    {
     "data": {
      "text/html": [
       "<div>\n",
       "<style scoped>\n",
       "    .dataframe tbody tr th:only-of-type {\n",
       "        vertical-align: middle;\n",
       "    }\n",
       "\n",
       "    .dataframe tbody tr th {\n",
       "        vertical-align: top;\n",
       "    }\n",
       "\n",
       "    .dataframe thead th {\n",
       "        text-align: right;\n",
       "    }\n",
       "</style>\n",
       "<table border=\"1\" class=\"dataframe\">\n",
       "  <thead>\n",
       "    <tr style=\"text-align: right;\">\n",
       "      <th></th>\n",
       "      <th>cond1</th>\n",
       "      <th>cond2</th>\n",
       "      <th>label</th>\n",
       "      <th>full_fuzzy_ratio</th>\n",
       "      <th>noun_fuzzy_ratio</th>\n",
       "      <th>bing_bagoword_dist</th>\n",
       "      <th>bing_link_sim</th>\n",
       "      <th>same_wiki</th>\n",
       "      <th>stage_dist</th>\n",
       "      <th>adj_dist</th>\n",
       "      <th>vb_dist</th>\n",
       "    </tr>\n",
       "  </thead>\n",
       "  <tbody>\n",
       "    <tr>\n",
       "      <td>0</td>\n",
       "      <td>Parkinson's Disease</td>\n",
       "      <td>Parkinson Disease</td>\n",
       "      <td>same</td>\n",
       "      <td>94.0</td>\n",
       "      <td>100.0</td>\n",
       "      <td>14.0</td>\n",
       "      <td>0.250000</td>\n",
       "      <td>1.0</td>\n",
       "      <td>0.0</td>\n",
       "      <td>0.0</td>\n",
       "      <td>0.0</td>\n",
       "    </tr>\n",
       "    <tr>\n",
       "      <td>1</td>\n",
       "      <td>Parkinson's Disease</td>\n",
       "      <td>Idiopathic Parkinson's Disease</td>\n",
       "      <td>same_diff_qual</td>\n",
       "      <td>78.0</td>\n",
       "      <td>100.0</td>\n",
       "      <td>12.0</td>\n",
       "      <td>0.080000</td>\n",
       "      <td>1.0</td>\n",
       "      <td>0.0</td>\n",
       "      <td>1.0</td>\n",
       "      <td>0.0</td>\n",
       "    </tr>\n",
       "    <tr>\n",
       "      <td>2</td>\n",
       "      <td>Parkinson's Disease</td>\n",
       "      <td>Parkinson's Disease (PD)</td>\n",
       "      <td>same</td>\n",
       "      <td>88.0</td>\n",
       "      <td>92.0</td>\n",
       "      <td>10.0</td>\n",
       "      <td>0.380952</td>\n",
       "      <td>1.0</td>\n",
       "      <td>0.0</td>\n",
       "      <td>0.0</td>\n",
       "      <td>0.0</td>\n",
       "    </tr>\n",
       "    <tr>\n",
       "      <td>3</td>\n",
       "      <td>Parkinson's Disease</td>\n",
       "      <td>Parkinson</td>\n",
       "      <td>same</td>\n",
       "      <td>64.0</td>\n",
       "      <td>69.0</td>\n",
       "      <td>2.0</td>\n",
       "      <td>0.142857</td>\n",
       "      <td>1.0</td>\n",
       "      <td>0.0</td>\n",
       "      <td>0.0</td>\n",
       "      <td>0.0</td>\n",
       "    </tr>\n",
       "    <tr>\n",
       "      <td>4</td>\n",
       "      <td>Parkinson's Disease</td>\n",
       "      <td>Idiopathic Parkinson Disease</td>\n",
       "      <td>same_diff_qual</td>\n",
       "      <td>72.0</td>\n",
       "      <td>100.0</td>\n",
       "      <td>18.0</td>\n",
       "      <td>0.080000</td>\n",
       "      <td>1.0</td>\n",
       "      <td>0.0</td>\n",
       "      <td>1.0</td>\n",
       "      <td>0.0</td>\n",
       "    </tr>\n",
       "  </tbody>\n",
       "</table>\n",
       "</div>"
      ],
      "text/plain": [
       "                 cond1                           cond2           label  \\\n",
       "0  Parkinson's Disease               Parkinson Disease            same   \n",
       "1  Parkinson's Disease  Idiopathic Parkinson's Disease  same_diff_qual   \n",
       "2  Parkinson's Disease        Parkinson's Disease (PD)            same   \n",
       "3  Parkinson's Disease                       Parkinson            same   \n",
       "4  Parkinson's Disease    Idiopathic Parkinson Disease  same_diff_qual   \n",
       "\n",
       "   full_fuzzy_ratio  noun_fuzzy_ratio  bing_bagoword_dist  bing_link_sim  \\\n",
       "0              94.0             100.0                14.0       0.250000   \n",
       "1              78.0             100.0                12.0       0.080000   \n",
       "2              88.0              92.0                10.0       0.380952   \n",
       "3              64.0              69.0                 2.0       0.142857   \n",
       "4              72.0             100.0                18.0       0.080000   \n",
       "\n",
       "   same_wiki  stage_dist  adj_dist  vb_dist  \n",
       "0        1.0         0.0       0.0      0.0  \n",
       "1        1.0         0.0       1.0      0.0  \n",
       "2        1.0         0.0       0.0      0.0  \n",
       "3        1.0         0.0       0.0      0.0  \n",
       "4        1.0         0.0       1.0      0.0  "
      ]
     },
     "execution_count": 54,
     "metadata": {},
     "output_type": "execute_result"
    }
   ],
   "source": [
    "df_final.head()"
   ]
  },
  {
   "cell_type": "code",
   "execution_count": 55,
   "metadata": {},
   "outputs": [],
   "source": [
    "df_final.to_pickle('training_data/all.p')"
   ]
  },
  {
   "cell_type": "markdown",
   "metadata": {},
   "source": [
    "## manual edits"
   ]
  },
  {
   "cell_type": "code",
   "execution_count": 4,
   "metadata": {},
   "outputs": [],
   "source": [
    "df = pd.read_pickle('training_data/all.p')"
   ]
  },
  {
   "cell_type": "code",
   "execution_count": 7,
   "metadata": {},
   "outputs": [],
   "source": [
    "df.to_excel('training_data/all.xlsx')"
   ]
  },
  {
   "cell_type": "code",
   "execution_count": 9,
   "metadata": {},
   "outputs": [],
   "source": [
    "df = pd.read_excel('training_data/all.xlsx')"
   ]
  },
  {
   "cell_type": "code",
   "execution_count": 13,
   "metadata": {},
   "outputs": [],
   "source": [
    "df.drop('Unnamed: 0', axis=1).to_pickle('training_data/all.p')"
   ]
  },
  {
   "cell_type": "code",
   "execution_count": null,
   "metadata": {},
   "outputs": [],
   "source": []
  }
 ],
 "metadata": {
  "kernelspec": {
   "display_name": "Python 3",
   "language": "python",
   "name": "python3"
  },
  "language_info": {
   "codemirror_mode": {
    "name": "ipython",
    "version": 3
   },
   "file_extension": ".py",
   "mimetype": "text/x-python",
   "name": "python",
   "nbconvert_exporter": "python",
   "pygments_lexer": "ipython3",
   "version": "3.6.9"
  }
 },
 "nbformat": 4,
 "nbformat_minor": 2
}
