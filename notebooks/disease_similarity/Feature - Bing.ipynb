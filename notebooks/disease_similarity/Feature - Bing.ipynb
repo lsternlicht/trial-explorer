{
 "cells": [
  {
   "cell_type": "code",
   "execution_count": 1,
   "metadata": {},
   "outputs": [],
   "source": [
    "import numpy as np\n",
    "import pandas as pd\n",
    "from importlib import reload\n",
    "\n",
    "from bs4 import BeautifulSoup\n",
    "import urllib\n",
    "import requests\n",
    "\n",
    "from tqdm import tqdm_notebook\n",
    "from tqdm import tqdm\n",
    "import datetime as dt\n",
    "\n",
    "import pdaactconn as pc\n",
    "from trialexplorer import AACTStudySet\n",
    "from trialexplorer import bing\n",
    "import pickle\n",
    "from collections import Counter\n",
    "\n",
    "import matplotlib.pyplot as plt\n",
    "%matplotlib inline\n",
    "\n",
    "tqdm.pandas()"
   ]
  },
  {
   "cell_type": "markdown",
   "metadata": {},
   "source": [
    "### Example"
   ]
  },
  {
   "cell_type": "code",
   "execution_count": null,
   "metadata": {},
   "outputs": [],
   "source": [
    "feat_doc, feat_links, feat_wiki = bing.bing('non small cell lung cancer')"
   ]
  },
  {
   "cell_type": "code",
   "execution_count": null,
   "metadata": {},
   "outputs": [],
   "source": [
    "feat_doc2, feat_links2, feat_wiki2 = bing.bing(\"carcinoma, non-small-cell lung\")"
   ]
  },
  {
   "cell_type": "code",
   "execution_count": null,
   "metadata": {},
   "outputs": [],
   "source": [
    "print(\"---STRING 1 ---\\n\")\n",
    "print(feat_doc)\n",
    "\n",
    "print(\"\\n---STRING 2 ---\\n\")\n",
    "print(feat_doc2)"
   ]
  },
  {
   "cell_type": "code",
   "execution_count": null,
   "metadata": {},
   "outputs": [],
   "source": [
    "print(\"---LINK 1 ---\\n\")\n",
    "print(feat_links)\n",
    "\n",
    "print(\"\\n---LINK 2 ---\\n\")\n",
    "print(feat_links2)"
   ]
  },
  {
   "cell_type": "code",
   "execution_count": null,
   "metadata": {},
   "outputs": [],
   "source": [
    "feat_wiki, feat_wiki2"
   ]
  },
  {
   "cell_type": "markdown",
   "metadata": {},
   "source": [
    "# What are all of the terms that we have to classify?"
   ]
  },
  {
   "cell_type": "code",
   "execution_count": 2,
   "metadata": {},
   "outputs": [
    {
     "name": "stdout",
     "output_type": "stream",
     "text": [
      "255092 studies loaded!\n"
     ]
    }
   ],
   "source": [
    "# selecting all interventional studies\n",
    "conn = pc.AACTConnection(source=pc.AACTConnection.REMOTE)\n",
    "ss = AACTStudySet.AACTStudySet(conn= conn, tqdm_handler=tqdm_notebook)\n",
    "ss.add_constraint(\"study_type = 'Interventional'\")\n",
    "ss.load_studies()"
   ]
  },
  {
   "cell_type": "code",
   "execution_count": 3,
   "metadata": {},
   "outputs": [
    {
     "name": "stdout",
     "output_type": "stream",
     "text": [
      "Successfuly added these 1 dimensions: ['browse_conditions']\n",
      "Failed to add these 0 dimensions: []\n",
      "Successfuly added these 1 dimensions: ['conditions']\n",
      "Failed to add these 0 dimensions: []\n"
     ]
    },
    {
     "data": {
      "application/vnd.jupyter.widget-view+json": {
       "model_id": "56f5d7db684741ddb151108c5c67de4a",
       "version_major": 2,
       "version_minor": 0
      },
      "text/plain": [
       "HBox(children=(IntProgress(value=0, max=511), HTML(value='')))"
      ]
     },
     "metadata": {},
     "output_type": "display_data"
    },
    {
     "name": "stdout",
     "output_type": "stream",
     "text": [
      "Syncing the temp table temp_cur_studies in 511 chunks x 500 records each\n",
      "\n",
      "Creating index on the temp table\n",
      " - Loading dimension browse_conditions\n",
      " -- Loading raw data\n",
      " -- Sorting index\n",
      " - Loading dimension conditions\n",
      " -- Loading raw data\n",
      " -- Sorting index\n"
     ]
    }
   ],
   "source": [
    "# loading all dimensional data\n",
    "ss.add_dimensions('browse_conditions')\n",
    "ss.add_dimensions('conditions')\n",
    "ss.refresh_dim_data()"
   ]
  },
  {
   "cell_type": "code",
   "execution_count": 4,
   "metadata": {},
   "outputs": [],
   "source": [
    "bc = ss.dimensions['browse_conditions']\n",
    "c = ss.dimensions['conditions']"
   ]
  },
  {
   "cell_type": "code",
   "execution_count": 5,
   "metadata": {},
   "outputs": [
    {
     "data": {
      "text/plain": [
       "65144"
      ]
     },
     "execution_count": 5,
     "metadata": {},
     "output_type": "execute_result"
    }
   ],
   "source": [
    "len(c.data['name'].unique())"
   ]
  },
  {
   "cell_type": "markdown",
   "metadata": {},
   "source": [
    "## Features:\n",
    "\n",
    "How to determine if 2 studies are studing the same condition?\n",
    "- condition names (lev distance)\n",
    "- condition bing results (bag of words)\n",
    "- mesh terms (jaccard distance)\n",
    "- mesh tree location (tree distance)\n",
    "- adjective descriptors (such as \"chronic\")\n",
    "- type, grade, stage, AJCC (type1, type2) etc.\n",
    "\n",
    "    "
   ]
  },
  {
   "cell_type": "code",
   "execution_count": 6,
   "metadata": {},
   "outputs": [],
   "source": [
    "c.data.to_pickle('raw_data/all_conditions.p')"
   ]
  },
  {
   "cell_type": "markdown",
   "metadata": {},
   "source": [
    "### doing top 100:"
   ]
  },
  {
   "cell_type": "code",
   "execution_count": 7,
   "metadata": {},
   "outputs": [],
   "source": [
    "NUM_BINGS = 100"
   ]
  },
  {
   "cell_type": "code",
   "execution_count": 8,
   "metadata": {},
   "outputs": [],
   "source": [
    "cond_counts = c.data.groupby('name').size().sort_values(ascending=False)\n",
    "to_bing = list(cond_counts[:NUM_BINGS].index)"
   ]
  },
  {
   "cell_type": "code",
   "execution_count": null,
   "metadata": {},
   "outputs": [],
   "source": [
    "bing_res = {}\n",
    "for cur_term in to_bing:\n",
    "    feat_doc, feat_links, feat_wiki = bing.bing(cur_term)\n",
    "    bing_res[cur_term] = {\n",
    "        'doc': feat_doc,\n",
    "        'links': feat_links,\n",
    "        'wiki': feat_wiki\n",
    "    }\n",
    "    bing.do_wait()  # don't forget to wait !!"
   ]
  },
  {
   "cell_type": "markdown",
   "metadata": {},
   "source": [
    "### next 900"
   ]
  },
  {
   "cell_type": "code",
   "execution_count": 17,
   "metadata": {},
   "outputs": [],
   "source": [
    "to_bing = list(cond_counts[100:1000].index)"
   ]
  },
  {
   "cell_type": "code",
   "execution_count": 19,
   "metadata": {},
   "outputs": [
    {
     "name": "stderr",
     "output_type": "stream",
     "text": [
      "100%|██████████| 900/900 [32:13<00:00,  2.15s/it]\n"
     ]
    }
   ],
   "source": [
    "for cur_term in tqdm(to_bing):\n",
    "    feat_doc, feat_links, feat_wiki = bing.bing(cur_term, do_print=False)\n",
    "    bing_res[cur_term] = {\n",
    "        'doc': feat_doc,\n",
    "        'links': feat_links,\n",
    "        'wiki': feat_wiki\n",
    "    }\n",
    "    bing.do_wait(multiple=0.5)  # don't forget to wait !!"
   ]
  },
  {
   "cell_type": "code",
   "execution_count": 21,
   "metadata": {},
   "outputs": [],
   "source": [
    "pickle.dump(bing_res, open('raw_data/top1000.p', 'wb'))"
   ]
  },
  {
   "cell_type": "markdown",
   "metadata": {},
   "source": [
    "### Top 10000"
   ]
  },
  {
   "cell_type": "code",
   "execution_count": 22,
   "metadata": {},
   "outputs": [],
   "source": [
    "to_bing = list(cond_counts[1000:10000].index)"
   ]
  },
  {
   "cell_type": "code",
   "execution_count": 23,
   "metadata": {},
   "outputs": [
    {
     "name": "stderr",
     "output_type": "stream",
     "text": [
      "100%|██████████| 9000/9000 [5:31:04<00:00,  2.21s/it]  \n"
     ]
    }
   ],
   "source": [
    "for cur_term in tqdm(to_bing):\n",
    "    feat_doc, feat_links, feat_wiki = bing.bing(cur_term, do_print=False)\n",
    "    bing_res[cur_term] = {\n",
    "        'doc': feat_doc,\n",
    "        'links': feat_links,\n",
    "        'wiki': feat_wiki\n",
    "    }\n",
    "    bing.do_wait(multiple=0.5)  # don't forget to wait !!"
   ]
  },
  {
   "cell_type": "code",
   "execution_count": 24,
   "metadata": {},
   "outputs": [],
   "source": [
    "pickle.dump(bing_res, open('raw_data/top10000.p', 'wb'))"
   ]
  },
  {
   "cell_type": "markdown",
   "metadata": {},
   "source": [
    "### Everything else:"
   ]
  },
  {
   "cell_type": "code",
   "execution_count": 26,
   "metadata": {},
   "outputs": [],
   "source": [
    "to_bing = list(cond_counts[10000:].index)"
   ]
  },
  {
   "cell_type": "code",
   "execution_count": null,
   "metadata": {},
   "outputs": [],
   "source": [
    "for cur_term in tqdm(to_bing):\n",
    "    feat_doc, feat_links, feat_wiki = bing.bing(cur_term, do_print=False)\n",
    "    bing_res[cur_term] = {\n",
    "        'doc': feat_doc,\n",
    "        'links': feat_links,\n",
    "        'wiki': feat_wiki\n",
    "    }\n",
    "    bing.do_wait(multiple=0.5)  # don't forget to wait !!"
   ]
  },
  {
   "cell_type": "code",
   "execution_count": 54,
   "metadata": {},
   "outputs": [],
   "source": [
    "pickle.dump(bing_res, open('raw_data/all_bing.p', 'wb'))"
   ]
  },
  {
   "cell_type": "code",
   "execution_count": null,
   "metadata": {},
   "outputs": [],
   "source": [
    "## LOAD !!!\n",
    "#bing_res = pickle.load(open('raw_data/all_bing.p', 'rb'))"
   ]
  },
  {
   "cell_type": "code",
   "execution_count": 52,
   "metadata": {},
   "outputs": [
    {
     "data": {
      "text/plain": [
       "46409"
      ]
     },
     "execution_count": 52,
     "metadata": {},
     "output_type": "execute_result"
    }
   ],
   "source": [
    "len(bing_res)"
   ]
  },
  {
   "cell_type": "markdown",
   "metadata": {},
   "source": [
    "# Aside: Which indices have no data?"
   ]
  },
  {
   "cell_type": "code",
   "execution_count": 85,
   "metadata": {},
   "outputs": [],
   "source": [
    "def has_no_data(bing_res_val):\n",
    "    for k, v in bing_res_val.items():\n",
    "        if len(v) > 0:\n",
    "            return False\n",
    "    return True"
   ]
  },
  {
   "cell_type": "code",
   "execution_count": 86,
   "metadata": {},
   "outputs": [
    {
     "data": {
      "text/plain": [
       "{'doc': [], 'links': [], 'wiki': []}"
      ]
     },
     "execution_count": 86,
     "metadata": {},
     "output_type": "execute_result"
    }
   ],
   "source": [
    "bing_res[list(bing_res.keys())[-1]]"
   ]
  },
  {
   "cell_type": "code",
   "execution_count": 66,
   "metadata": {},
   "outputs": [],
   "source": [
    "has_data_idx = []\n",
    "no_data_idx = []\n",
    "\n",
    "for i, k in enumerate(bing_res.keys()):\n",
    "    if has_no_data(bing_res[k]):\n",
    "        no_data_idx.append(i)\n",
    "    else:\n",
    "        has_data_idx.append(i)"
   ]
  },
  {
   "cell_type": "code",
   "execution_count": 69,
   "metadata": {},
   "outputs": [
    {
     "data": {
      "text/plain": [
       "(0, 46399)"
      ]
     },
     "execution_count": 69,
     "metadata": {},
     "output_type": "execute_result"
    }
   ],
   "source": [
    "has_data_idx[0], has_data_idx[-1]"
   ]
  },
  {
   "cell_type": "code",
   "execution_count": 72,
   "metadata": {},
   "outputs": [
    {
     "data": {
      "text/plain": [
       "34162"
      ]
     },
     "execution_count": 72,
     "metadata": {},
     "output_type": "execute_result"
    }
   ],
   "source": [
    "len(has_data_idx)"
   ]
  },
  {
   "cell_type": "code",
   "execution_count": 70,
   "metadata": {},
   "outputs": [
    {
     "data": {
      "text/plain": [
       "(30618, 46408)"
      ]
     },
     "execution_count": 70,
     "metadata": {},
     "output_type": "execute_result"
    }
   ],
   "source": [
    "no_data_idx[0], no_data_idx[-1]"
   ]
  },
  {
   "cell_type": "code",
   "execution_count": 71,
   "metadata": {},
   "outputs": [
    {
     "data": {
      "text/plain": [
       "12247"
      ]
     },
     "execution_count": 71,
     "metadata": {},
     "output_type": "execute_result"
    }
   ],
   "source": [
    "len(no_data_idx)"
   ]
  },
  {
   "cell_type": "code",
   "execution_count": 75,
   "metadata": {},
   "outputs": [
    {
     "data": {
      "text/plain": [
       "'Benign Conditions'"
      ]
     },
     "execution_count": 75,
     "metadata": {},
     "output_type": "execute_result"
    }
   ],
   "source": [
    "cur_no_data = list(bing_res.keys())[no_data_idx[0]]\n",
    "cur_no_data"
   ]
  },
  {
   "cell_type": "code",
   "execution_count": 84,
   "metadata": {},
   "outputs": [
    {
     "data": {
      "text/plain": [
       "0.5244074665356748"
      ]
     },
     "execution_count": 84,
     "metadata": {},
     "output_type": "execute_result"
    }
   ],
   "source": [
    "34162 / len(cond_counts)"
   ]
  },
  {
   "cell_type": "code",
   "execution_count": 108,
   "metadata": {},
   "outputs": [],
   "source": [
    "def include_content(cur_text, tag):\n",
    "    exclude_prefixes = ['Click to view', 'See more on', 'Advertise', 'Help', 'Image:']\n",
    "    if len(cur_text) == 0:\n",
    "        return False\n",
    "    for excl in exclude_prefixes:\n",
    "        if begins_with(cur_text, excl):\n",
    "            return False\n",
    "\n",
    "    if 'href' in tag.attrs:\n",
    "        if begins_with(tag['href'], 'https://'):\n",
    "            return True\n",
    "\n",
    "    return False\n",
    "\n",
    "def begins_with(full_text, sub_text):\n",
    "    if full_text[:len(sub_text)] == sub_text:\n",
    "        return True\n",
    "    return False\n",
    "\n",
    "def content_list_to_res(content_list, search_term):\n",
    "    # collecting terms\n",
    "    feat_doc = []\n",
    "    for i, c in enumerate(content_list):\n",
    "        cur_text = c.get_text().strip()\n",
    "\n",
    "        if 'href' in c.attrs:\n",
    "            cur_link = c['href']\n",
    "        else:\n",
    "            cur_link = 'NO LINK'\n",
    "\n",
    "        if include_content(cur_text, c):\n",
    "            feat_doc.append(cur_text)\n",
    "\n",
    "    return feat_doc"
   ]
  },
  {
   "cell_type": "code",
   "execution_count": 135,
   "metadata": {},
   "outputs": [],
   "source": [
    "cur_ua = 'Mozilla/5.0 (compatible; MSIE 9.0; Windows NT 6.1; Trident/5.0; Trident/5.0)'\n",
    "\n",
    "url = bing.search(cur_no_data)\n",
    "headers = {'User-Agent': cur_ua}\n",
    "r = requests.get(url, headers=headers)\n",
    "soup = BeautifulSoup(r.content, 'html5lib')\n",
    "content_list = soup.find_all('a')"
   ]
  },
  {
   "cell_type": "code",
   "execution_count": 136,
   "metadata": {},
   "outputs": [
    {
     "data": {
      "text/plain": [
       "[]"
      ]
     },
     "execution_count": 136,
     "metadata": {},
     "output_type": "execute_result"
    }
   ],
   "source": [
    "feat_doc =  content_list_to_res(content_list, cur_no_data)\n",
    "feat_doc"
   ]
  },
  {
   "cell_type": "code",
   "execution_count": null,
   "metadata": {},
   "outputs": [],
   "source": []
  },
  {
   "cell_type": "markdown",
   "metadata": {},
   "source": [
    "### More bings"
   ]
  },
  {
   "cell_type": "code",
   "execution_count": 50,
   "metadata": {},
   "outputs": [],
   "source": [
    "to_bing = list(cond_counts[46409:].index)"
   ]
  },
  {
   "cell_type": "code",
   "execution_count": null,
   "metadata": {},
   "outputs": [],
   "source": [
    "for cur_term in tqdm(to_bing):\n",
    "    feat_doc, feat_links, feat_wiki = bing.bing(cur_term, do_print=False)\n",
    "    bing_res[cur_term] = {\n",
    "        'doc': feat_doc,\n",
    "        'links': feat_links,\n",
    "        'wiki': feat_wiki\n",
    "    }\n",
    "    bing.do_wait(multiple=0.5)  # don't forget to wait !!"
   ]
  },
  {
   "cell_type": "code",
   "execution_count": null,
   "metadata": {},
   "outputs": [],
   "source": []
  }
 ],
 "metadata": {
  "kernelspec": {
   "display_name": "Python 3",
   "language": "python",
   "name": "python3"
  },
  "language_info": {
   "codemirror_mode": {
    "name": "ipython",
    "version": 3
   },
   "file_extension": ".py",
   "mimetype": "text/x-python",
   "name": "python",
   "nbconvert_exporter": "python",
   "pygments_lexer": "ipython3",
   "version": "3.6.9"
  }
 },
 "nbformat": 4,
 "nbformat_minor": 2
}
