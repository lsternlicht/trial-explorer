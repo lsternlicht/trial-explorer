{
 "cells": [
  {
   "cell_type": "code",
   "execution_count": 45,
   "metadata": {},
   "outputs": [
    {
     "data": {
      "text/html": [
       "<style>.container { width:100% !important; }</style>"
      ],
      "text/plain": [
       "<IPython.core.display.HTML object>"
      ]
     },
     "metadata": {},
     "output_type": "display_data"
    }
   ],
   "source": [
    "import pandas as pd\n",
    "import numpy as np\n",
    "from importlib import reload\n",
    "from tqdm import tqdm_notebook as tqdm\n",
    "import time\n",
    "from sklearn.linear_model import LinearRegression\n",
    "import statsmodels.api as sm\n",
    "import statsmodels.formula.api as smf\n",
    "from scipy.stats import norm, chi2\n",
    "from scipy import stats\n",
    "import matplotlib.pyplot as plt\n",
    "\n",
    "import pdaactconn as pc\n",
    "from trialexplorer import AACTStudySet\n",
    "from IPython.core.display import display, HTML\n",
    "display(HTML(\"<style>.container { width:100% !important; }</style>\"))"
   ]
  },
  {
   "cell_type": "code",
   "execution_count": 2,
   "metadata": {},
   "outputs": [
    {
     "name": "stdout",
     "output_type": "stream",
     "text": [
      "8751 studies loaded!\n"
     ]
    }
   ],
   "source": [
    "conn = pc.AACTConnection(source=pc.AACTConnection.REMOTE)\n",
    "ss = AACTStudySet.AACTStudySet(conn=conn, \n",
    "                               tqdm_handler=tqdm)\n",
    "ss.add_constraint(\"study_type = 'Interventional'\")\n",
    "ss.add_constraint(\"results_first_submitted_date is not null\")\n",
    "ss.add_constraint(\"enrollment_type = 'Actual'\")\n",
    "ss.add_constraint(\"enrollment >= 10\")\n",
    "ss.add_constraint(\"enrollment <= 500\")\n",
    "ss.add_constraint(\"phase = 'Phase 2'\")\n",
    "ss.load_studies()"
   ]
  },
  {
   "cell_type": "code",
   "execution_count": 3,
   "metadata": {},
   "outputs": [
    {
     "name": "stdout",
     "output_type": "stream",
     "text": [
      "Successfuly added these 6 dimensions: ['baseline_measurements', 'result_groups', 'outcomes', 'outcome_measurements', 'outcome_counts', 'outcome_analyses']\n",
      "Failed to add these 0 dimensions: []\n"
     ]
    },
    {
     "data": {
      "application/vnd.jupyter.widget-view+json": {
       "model_id": "d9546305a7b54335b12f013c9d024d35",
       "version_major": 2,
       "version_minor": 0
      },
      "text/plain": [
       "HBox(children=(IntProgress(value=0, max=18), HTML(value='')))"
      ]
     },
     "metadata": {},
     "output_type": "display_data"
    },
    {
     "name": "stdout",
     "output_type": "stream",
     "text": [
      "Syncing the temp table temp_cur_studies in 18 chunks x 500 records each\n",
      "\n",
      "Creating index on the temp table\n",
      " - Loading dimension baseline_measurements\n",
      " -- Loading raw data\n",
      " -- Sorting index\n",
      " - Loading dimension result_groups\n",
      " -- Loading raw data\n",
      " -- Sorting index\n",
      " - Loading dimension outcomes\n",
      " -- Loading raw data\n",
      " -- Sorting index\n",
      " - Loading dimension outcome_measurements\n",
      " -- Loading raw data\n",
      " -- Sorting index\n",
      " - Loading dimension outcome_counts\n",
      " -- Loading raw data\n",
      " -- Sorting index\n",
      " - Loading dimension outcome_analyses\n",
      " -- Loading raw data\n",
      " -- Sorting index\n"
     ]
    }
   ],
   "source": [
    "ss.add_dimensions(['baseline_measurements', 'result_groups', 'outcomes', 'outcome_measurements', 'outcome_counts', 'outcome_analyses'])\n",
    "ss.refresh_dim_data()\n",
    "rg = ss.dimensions['result_groups']\n",
    "bm = ss.dimensions['baseline_measurements']\n",
    "om = ss.dimensions['outcome_measurements']\n",
    "oa = ss.dimensions['outcome_analyses']\n",
    "oc = ss.dimensions['outcome_counts']\n",
    "out = ss.dimensions['outcomes']"
   ]
  },
  {
   "cell_type": "code",
   "execution_count": 4,
   "metadata": {},
   "outputs": [],
   "source": [
    "#Get studies with exactly two treatment groups besides \"Total\" and grab necessary columns\n",
    "combined_measures = pd.merge(rg.data, bm.data, left_on = ['nct_id', 'id'], right_on = ['nct_id', 'result_group_id'])\n",
    "combined_measures = combined_measures[combined_measures.title_x != 'Total']\n",
    "num_groups = combined_measures.groupby('nct_id').ctgov_group_code_x.nunique()\n",
    "num_groups = pd.DataFrame(num_groups)\n",
    "num_groups.columns.values[0] = 'n_groups'\n",
    "combined_measures = combined_measures.merge(num_groups, on=['nct_id'])\n",
    "combined_measures = combined_measures[combined_measures.n_groups==2]\n",
    "study_balance_dat = combined_measures[['ctgov_group_code_x', 'classification', 'category', 'title_y',\n",
    "                                       'param_type', 'param_value_num',\n",
    "                                       'dispersion_type', 'dispersion_value_num']]"
   ]
  },
  {
   "cell_type": "code",
   "execution_count": 5,
   "metadata": {},
   "outputs": [
    {
     "data": {
      "text/plain": [
       "Sex: Female, Male                                               11782\n",
       "Age                                                             11719\n",
       "Race (NIH/OMB)                                                  10955\n",
       "Region of Enrollment                                             5002\n",
       "Race/Ethnicity, Customized                                       3714\n",
       "Ethnicity (NIH/OMB)                                              3459\n",
       "Age, Customized                                                  1504\n",
       "Gender                                                            408\n",
       "Eastern Cooperative Oncology Group (ECOG) Performance Status      240\n",
       "Weight                                                            150\n",
       "Name: title_y, dtype: int64"
      ]
     },
     "execution_count": 5,
     "metadata": {},
     "output_type": "execute_result"
    }
   ],
   "source": [
    "study_balance_dat.title_y.value_counts().head(10)\n",
    "#We'll go with age and sex for now"
   ]
  },
  {
   "cell_type": "code",
   "execution_count": 6,
   "metadata": {},
   "outputs": [
    {
     "name": "stdout",
     "output_type": "stream",
     "text": [
      "1051\n",
      "2205\n"
     ]
    }
   ],
   "source": [
    "sb_age = study_balance_dat[study_balance_dat.title_y == 'Age']\n",
    "sb_age_cat = sb_age[sb_age.param_type=='Count of Participants']\n",
    "sb_age_con = sb_age[sb_age.param_type=='Mean']\n",
    "print(sb_age_cat.index.nunique())\n",
    "print(sb_age_con.index.nunique())\n",
    "#We'll choose the continuous version for now, since it has more"
   ]
  },
  {
   "cell_type": "code",
   "execution_count": 7,
   "metadata": {},
   "outputs": [
    {
     "data": {
      "text/html": [
       "<div>\n",
       "<style scoped>\n",
       "    .dataframe tbody tr th:only-of-type {\n",
       "        vertical-align: middle;\n",
       "    }\n",
       "\n",
       "    .dataframe tbody tr th {\n",
       "        vertical-align: top;\n",
       "    }\n",
       "\n",
       "    .dataframe thead th {\n",
       "        text-align: right;\n",
       "    }\n",
       "</style>\n",
       "<table border=\"1\" class=\"dataframe\">\n",
       "  <thead>\n",
       "    <tr style=\"text-align: right;\">\n",
       "      <th></th>\n",
       "      <th>ctgov_group_code_x</th>\n",
       "      <th>classification</th>\n",
       "      <th>category</th>\n",
       "      <th>title_y</th>\n",
       "      <th>param_type</th>\n",
       "      <th>param_value_num</th>\n",
       "      <th>dispersion_type</th>\n",
       "      <th>dispersion_value_num</th>\n",
       "    </tr>\n",
       "    <tr>\n",
       "      <th>nct_id</th>\n",
       "      <th></th>\n",
       "      <th></th>\n",
       "      <th></th>\n",
       "      <th></th>\n",
       "      <th></th>\n",
       "      <th></th>\n",
       "      <th></th>\n",
       "      <th></th>\n",
       "    </tr>\n",
       "  </thead>\n",
       "  <tbody>\n",
       "    <tr>\n",
       "      <th>NCT00000392</th>\n",
       "      <td>B2</td>\n",
       "      <td></td>\n",
       "      <td>Male</td>\n",
       "      <td>Sex: Female, Male</td>\n",
       "      <td>Count of Participants</td>\n",
       "      <td>104.00</td>\n",
       "      <td></td>\n",
       "      <td>NaN</td>\n",
       "    </tr>\n",
       "    <tr>\n",
       "      <th>NCT00000392</th>\n",
       "      <td>B2</td>\n",
       "      <td></td>\n",
       "      <td>Female</td>\n",
       "      <td>Sex: Female, Male</td>\n",
       "      <td>Count of Participants</td>\n",
       "      <td>5.00</td>\n",
       "      <td></td>\n",
       "      <td>NaN</td>\n",
       "    </tr>\n",
       "    <tr>\n",
       "      <th>NCT00000392</th>\n",
       "      <td>B1</td>\n",
       "      <td></td>\n",
       "      <td>Male</td>\n",
       "      <td>Sex: Female, Male</td>\n",
       "      <td>Count of Participants</td>\n",
       "      <td>101.00</td>\n",
       "      <td></td>\n",
       "      <td>NaN</td>\n",
       "    </tr>\n",
       "    <tr>\n",
       "      <th>NCT00000392</th>\n",
       "      <td>B1</td>\n",
       "      <td></td>\n",
       "      <td>Female</td>\n",
       "      <td>Sex: Female, Male</td>\n",
       "      <td>Count of Participants</td>\n",
       "      <td>5.00</td>\n",
       "      <td></td>\n",
       "      <td>NaN</td>\n",
       "    </tr>\n",
       "    <tr>\n",
       "      <th>NCT00001304</th>\n",
       "      <td>B2</td>\n",
       "      <td></td>\n",
       "      <td>Male</td>\n",
       "      <td>Sex: Female, Male</td>\n",
       "      <td>Count of Participants</td>\n",
       "      <td>4.00</td>\n",
       "      <td></td>\n",
       "      <td>NaN</td>\n",
       "    </tr>\n",
       "    <tr>\n",
       "      <th>NCT00001304</th>\n",
       "      <td>B2</td>\n",
       "      <td></td>\n",
       "      <td>Female</td>\n",
       "      <td>Sex: Female, Male</td>\n",
       "      <td>Count of Participants</td>\n",
       "      <td>10.00</td>\n",
       "      <td></td>\n",
       "      <td>NaN</td>\n",
       "    </tr>\n",
       "    <tr>\n",
       "      <th>NCT00001304</th>\n",
       "      <td>B1</td>\n",
       "      <td></td>\n",
       "      <td>Male</td>\n",
       "      <td>Sex: Female, Male</td>\n",
       "      <td>Count of Participants</td>\n",
       "      <td>6.00</td>\n",
       "      <td></td>\n",
       "      <td>NaN</td>\n",
       "    </tr>\n",
       "    <tr>\n",
       "      <th>NCT00001304</th>\n",
       "      <td>B1</td>\n",
       "      <td></td>\n",
       "      <td>Female</td>\n",
       "      <td>Sex: Female, Male</td>\n",
       "      <td>Count of Participants</td>\n",
       "      <td>7.00</td>\n",
       "      <td></td>\n",
       "      <td>NaN</td>\n",
       "    </tr>\n",
       "    <tr>\n",
       "      <th>NCT00001586</th>\n",
       "      <td>B2</td>\n",
       "      <td></td>\n",
       "      <td>Male</td>\n",
       "      <td>Sex: Female, Male</td>\n",
       "      <td>Count of Participants</td>\n",
       "      <td>35.00</td>\n",
       "      <td></td>\n",
       "      <td>NaN</td>\n",
       "    </tr>\n",
       "    <tr>\n",
       "      <th>NCT00001586</th>\n",
       "      <td>B2</td>\n",
       "      <td></td>\n",
       "      <td>Female</td>\n",
       "      <td>Sex: Female, Male</td>\n",
       "      <td>Count of Participants</td>\n",
       "      <td>21.00</td>\n",
       "      <td></td>\n",
       "      <td>NaN</td>\n",
       "    </tr>\n",
       "    <tr>\n",
       "      <th>NCT00001586</th>\n",
       "      <td>B2</td>\n",
       "      <td></td>\n",
       "      <td></td>\n",
       "      <td>Age</td>\n",
       "      <td>Mean</td>\n",
       "      <td>58.42</td>\n",
       "      <td>Standard Deviation</td>\n",
       "      <td>11.32</td>\n",
       "    </tr>\n",
       "    <tr>\n",
       "      <th>NCT00001586</th>\n",
       "      <td>B1</td>\n",
       "      <td></td>\n",
       "      <td>Male</td>\n",
       "      <td>Sex: Female, Male</td>\n",
       "      <td>Count of Participants</td>\n",
       "      <td>30.00</td>\n",
       "      <td></td>\n",
       "      <td>NaN</td>\n",
       "    </tr>\n",
       "    <tr>\n",
       "      <th>NCT00001586</th>\n",
       "      <td>B1</td>\n",
       "      <td></td>\n",
       "      <td>Female</td>\n",
       "      <td>Sex: Female, Male</td>\n",
       "      <td>Count of Participants</td>\n",
       "      <td>19.00</td>\n",
       "      <td></td>\n",
       "      <td>NaN</td>\n",
       "    </tr>\n",
       "    <tr>\n",
       "      <th>NCT00001586</th>\n",
       "      <td>B1</td>\n",
       "      <td></td>\n",
       "      <td></td>\n",
       "      <td>Age</td>\n",
       "      <td>Mean</td>\n",
       "      <td>56.20</td>\n",
       "      <td>Standard Deviation</td>\n",
       "      <td>9.34</td>\n",
       "    </tr>\n",
       "    <tr>\n",
       "      <th>NCT00001596</th>\n",
       "      <td>B2</td>\n",
       "      <td></td>\n",
       "      <td>Female</td>\n",
       "      <td>Sex: Female, Male</td>\n",
       "      <td>Count of Participants</td>\n",
       "      <td>6.00</td>\n",
       "      <td></td>\n",
       "      <td>NaN</td>\n",
       "    </tr>\n",
       "    <tr>\n",
       "      <th>NCT00001596</th>\n",
       "      <td>B2</td>\n",
       "      <td></td>\n",
       "      <td></td>\n",
       "      <td>Age</td>\n",
       "      <td>Mean</td>\n",
       "      <td>43.97</td>\n",
       "      <td>Standard Deviation</td>\n",
       "      <td>8.02</td>\n",
       "    </tr>\n",
       "    <tr>\n",
       "      <th>NCT00001596</th>\n",
       "      <td>B2</td>\n",
       "      <td></td>\n",
       "      <td>Male</td>\n",
       "      <td>Sex: Female, Male</td>\n",
       "      <td>Count of Participants</td>\n",
       "      <td>6.00</td>\n",
       "      <td></td>\n",
       "      <td>NaN</td>\n",
       "    </tr>\n",
       "    <tr>\n",
       "      <th>NCT00001596</th>\n",
       "      <td>B1</td>\n",
       "      <td></td>\n",
       "      <td>Female</td>\n",
       "      <td>Sex: Female, Male</td>\n",
       "      <td>Count of Participants</td>\n",
       "      <td>15.00</td>\n",
       "      <td></td>\n",
       "      <td>NaN</td>\n",
       "    </tr>\n",
       "    <tr>\n",
       "      <th>NCT00001596</th>\n",
       "      <td>B1</td>\n",
       "      <td></td>\n",
       "      <td></td>\n",
       "      <td>Age</td>\n",
       "      <td>Mean</td>\n",
       "      <td>39.53</td>\n",
       "      <td>Standard Deviation</td>\n",
       "      <td>11.00</td>\n",
       "    </tr>\n",
       "    <tr>\n",
       "      <th>NCT00001596</th>\n",
       "      <td>B1</td>\n",
       "      <td></td>\n",
       "      <td>Male</td>\n",
       "      <td>Sex: Female, Male</td>\n",
       "      <td>Count of Participants</td>\n",
       "      <td>8.00</td>\n",
       "      <td></td>\n",
       "      <td>NaN</td>\n",
       "    </tr>\n",
       "  </tbody>\n",
       "</table>\n",
       "</div>"
      ],
      "text/plain": [
       "            ctgov_group_code_x classification category            title_y  \\\n",
       "nct_id                                                                      \n",
       "NCT00000392                 B2                    Male  Sex: Female, Male   \n",
       "NCT00000392                 B2                  Female  Sex: Female, Male   \n",
       "NCT00000392                 B1                    Male  Sex: Female, Male   \n",
       "NCT00000392                 B1                  Female  Sex: Female, Male   \n",
       "NCT00001304                 B2                    Male  Sex: Female, Male   \n",
       "NCT00001304                 B2                  Female  Sex: Female, Male   \n",
       "NCT00001304                 B1                    Male  Sex: Female, Male   \n",
       "NCT00001304                 B1                  Female  Sex: Female, Male   \n",
       "NCT00001586                 B2                    Male  Sex: Female, Male   \n",
       "NCT00001586                 B2                  Female  Sex: Female, Male   \n",
       "NCT00001586                 B2                                        Age   \n",
       "NCT00001586                 B1                    Male  Sex: Female, Male   \n",
       "NCT00001586                 B1                  Female  Sex: Female, Male   \n",
       "NCT00001586                 B1                                        Age   \n",
       "NCT00001596                 B2                  Female  Sex: Female, Male   \n",
       "NCT00001596                 B2                                        Age   \n",
       "NCT00001596                 B2                    Male  Sex: Female, Male   \n",
       "NCT00001596                 B1                  Female  Sex: Female, Male   \n",
       "NCT00001596                 B1                                        Age   \n",
       "NCT00001596                 B1                    Male  Sex: Female, Male   \n",
       "\n",
       "                        param_type  param_value_num     dispersion_type  \\\n",
       "nct_id                                                                    \n",
       "NCT00000392  Count of Participants           104.00                       \n",
       "NCT00000392  Count of Participants             5.00                       \n",
       "NCT00000392  Count of Participants           101.00                       \n",
       "NCT00000392  Count of Participants             5.00                       \n",
       "NCT00001304  Count of Participants             4.00                       \n",
       "NCT00001304  Count of Participants            10.00                       \n",
       "NCT00001304  Count of Participants             6.00                       \n",
       "NCT00001304  Count of Participants             7.00                       \n",
       "NCT00001586  Count of Participants            35.00                       \n",
       "NCT00001586  Count of Participants            21.00                       \n",
       "NCT00001586                   Mean            58.42  Standard Deviation   \n",
       "NCT00001586  Count of Participants            30.00                       \n",
       "NCT00001586  Count of Participants            19.00                       \n",
       "NCT00001586                   Mean            56.20  Standard Deviation   \n",
       "NCT00001596  Count of Participants             6.00                       \n",
       "NCT00001596                   Mean            43.97  Standard Deviation   \n",
       "NCT00001596  Count of Participants             6.00                       \n",
       "NCT00001596  Count of Participants            15.00                       \n",
       "NCT00001596                   Mean            39.53  Standard Deviation   \n",
       "NCT00001596  Count of Participants             8.00                       \n",
       "\n",
       "             dispersion_value_num  \n",
       "nct_id                             \n",
       "NCT00000392                   NaN  \n",
       "NCT00000392                   NaN  \n",
       "NCT00000392                   NaN  \n",
       "NCT00000392                   NaN  \n",
       "NCT00001304                   NaN  \n",
       "NCT00001304                   NaN  \n",
       "NCT00001304                   NaN  \n",
       "NCT00001304                   NaN  \n",
       "NCT00001586                   NaN  \n",
       "NCT00001586                   NaN  \n",
       "NCT00001586                 11.32  \n",
       "NCT00001586                   NaN  \n",
       "NCT00001586                   NaN  \n",
       "NCT00001586                  9.34  \n",
       "NCT00001596                   NaN  \n",
       "NCT00001596                  8.02  \n",
       "NCT00001596                   NaN  \n",
       "NCT00001596                   NaN  \n",
       "NCT00001596                 11.00  \n",
       "NCT00001596                   NaN  "
      ]
     },
     "execution_count": 7,
     "metadata": {},
     "output_type": "execute_result"
    }
   ],
   "source": [
    "#Sex is always a count variable; only variability is capitalization of \"category\" field\n",
    "#Get rid of rows that aren't sex or age\n",
    "age_condition1 = study_balance_dat.title_y == 'Age'\n",
    "age_condition2 = study_balance_dat.param_type == 'Mean'\n",
    "sex_condition = study_balance_dat.title_y == 'Sex: Female, Male'\n",
    "full_condition = (age_condition1 & age_condition2) | sex_condition\n",
    "small_balance_dat = study_balance_dat[full_condition]\n",
    "small_balance_dat.head(20)"
   ]
  },
  {
   "cell_type": "code",
   "execution_count": 8,
   "metadata": {},
   "outputs": [],
   "source": [
    "#get studies that have both measures we're using\n",
    "num_measures = small_balance_dat.groupby('nct_id').title_y.nunique()\n",
    "num_measures = pd.DataFrame(num_measures)\n",
    "num_measures.columns.values[0] = 'n_measures'\n",
    "small_balance_dat = small_balance_dat.merge(num_measures, on=['nct_id'])\n",
    "small_balance_dat = small_balance_dat[small_balance_dat.n_measures==2]\n",
    "\n",
    "#assert that each study has 6 rows now--2 sex and 1 age for each of the 2 arms\n",
    "num_rows = small_balance_dat.groupby('nct_id').title_y.count()\n",
    "num_rows = pd.DataFrame(num_rows)\n",
    "num_rows.columns.values[0] = 'n_rows'\n",
    "small_balance_dat = small_balance_dat.merge(num_rows, on=['nct_id'])\n",
    "small_balance_dat = small_balance_dat[small_balance_dat.n_rows == 6]"
   ]
  },
  {
   "cell_type": "code",
   "execution_count": 9,
   "metadata": {},
   "outputs": [
    {
     "data": {
      "text/html": [
       "<div>\n",
       "<style scoped>\n",
       "    .dataframe tbody tr th:only-of-type {\n",
       "        vertical-align: middle;\n",
       "    }\n",
       "\n",
       "    .dataframe tbody tr th {\n",
       "        vertical-align: top;\n",
       "    }\n",
       "\n",
       "    .dataframe thead th {\n",
       "        text-align: right;\n",
       "    }\n",
       "</style>\n",
       "<table border=\"1\" class=\"dataframe\">\n",
       "  <thead>\n",
       "    <tr style=\"text-align: right;\">\n",
       "      <th></th>\n",
       "      <th>ctgov_group_code_x</th>\n",
       "      <th>classification</th>\n",
       "      <th>category</th>\n",
       "      <th>title_y</th>\n",
       "      <th>param_type</th>\n",
       "      <th>param_value_num</th>\n",
       "      <th>dispersion_type</th>\n",
       "      <th>dispersion_value_num</th>\n",
       "      <th>n_measures</th>\n",
       "      <th>n_rows</th>\n",
       "    </tr>\n",
       "    <tr>\n",
       "      <th>nct_id</th>\n",
       "      <th></th>\n",
       "      <th></th>\n",
       "      <th></th>\n",
       "      <th></th>\n",
       "      <th></th>\n",
       "      <th></th>\n",
       "      <th></th>\n",
       "      <th></th>\n",
       "      <th></th>\n",
       "      <th></th>\n",
       "    </tr>\n",
       "  </thead>\n",
       "  <tbody>\n",
       "    <tr>\n",
       "      <th>NCT00001586</th>\n",
       "      <td>B2</td>\n",
       "      <td></td>\n",
       "      <td>male</td>\n",
       "      <td>Sex: Female, Male</td>\n",
       "      <td>Count of Participants</td>\n",
       "      <td>35.00</td>\n",
       "      <td></td>\n",
       "      <td>NaN</td>\n",
       "      <td>2</td>\n",
       "      <td>6</td>\n",
       "    </tr>\n",
       "    <tr>\n",
       "      <th>NCT00001586</th>\n",
       "      <td>B2</td>\n",
       "      <td></td>\n",
       "      <td>female</td>\n",
       "      <td>Sex: Female, Male</td>\n",
       "      <td>Count of Participants</td>\n",
       "      <td>21.00</td>\n",
       "      <td></td>\n",
       "      <td>NaN</td>\n",
       "      <td>2</td>\n",
       "      <td>6</td>\n",
       "    </tr>\n",
       "    <tr>\n",
       "      <th>NCT00001586</th>\n",
       "      <td>B2</td>\n",
       "      <td></td>\n",
       "      <td></td>\n",
       "      <td>Age</td>\n",
       "      <td>Mean</td>\n",
       "      <td>58.42</td>\n",
       "      <td>Standard Deviation</td>\n",
       "      <td>11.32</td>\n",
       "      <td>2</td>\n",
       "      <td>6</td>\n",
       "    </tr>\n",
       "    <tr>\n",
       "      <th>NCT00001586</th>\n",
       "      <td>B1</td>\n",
       "      <td></td>\n",
       "      <td>male</td>\n",
       "      <td>Sex: Female, Male</td>\n",
       "      <td>Count of Participants</td>\n",
       "      <td>30.00</td>\n",
       "      <td></td>\n",
       "      <td>NaN</td>\n",
       "      <td>2</td>\n",
       "      <td>6</td>\n",
       "    </tr>\n",
       "    <tr>\n",
       "      <th>NCT00001586</th>\n",
       "      <td>B1</td>\n",
       "      <td></td>\n",
       "      <td>female</td>\n",
       "      <td>Sex: Female, Male</td>\n",
       "      <td>Count of Participants</td>\n",
       "      <td>19.00</td>\n",
       "      <td></td>\n",
       "      <td>NaN</td>\n",
       "      <td>2</td>\n",
       "      <td>6</td>\n",
       "    </tr>\n",
       "  </tbody>\n",
       "</table>\n",
       "</div>"
      ],
      "text/plain": [
       "            ctgov_group_code_x classification category            title_y  \\\n",
       "nct_id                                                                      \n",
       "NCT00001586                 B2                    male  Sex: Female, Male   \n",
       "NCT00001586                 B2                  female  Sex: Female, Male   \n",
       "NCT00001586                 B2                                        Age   \n",
       "NCT00001586                 B1                    male  Sex: Female, Male   \n",
       "NCT00001586                 B1                  female  Sex: Female, Male   \n",
       "\n",
       "                        param_type  param_value_num     dispersion_type  \\\n",
       "nct_id                                                                    \n",
       "NCT00001586  Count of Participants            35.00                       \n",
       "NCT00001586  Count of Participants            21.00                       \n",
       "NCT00001586                   Mean            58.42  Standard Deviation   \n",
       "NCT00001586  Count of Participants            30.00                       \n",
       "NCT00001586  Count of Participants            19.00                       \n",
       "\n",
       "             dispersion_value_num  n_measures  n_rows  \n",
       "nct_id                                                 \n",
       "NCT00001586                   NaN           2       6  \n",
       "NCT00001586                   NaN           2       6  \n",
       "NCT00001586                 11.32           2       6  \n",
       "NCT00001586                   NaN           2       6  \n",
       "NCT00001586                   NaN           2       6  "
      ]
     },
     "execution_count": 9,
     "metadata": {},
     "output_type": "execute_result"
    }
   ],
   "source": [
    "#handle aforementioned capitalization issue\n",
    "small_balance_dat.category = small_balance_dat.category.str.lower()\n",
    "small_balance_dat.head()"
   ]
  },
  {
   "cell_type": "code",
   "execution_count": 10,
   "metadata": {},
   "outputs": [],
   "source": [
    "def calculate_imbalance(study_frame):\n",
    "    nctid = study_frame.index[0]\n",
    "    group_codes = study_frame.ctgov_group_code_x.unique()\n",
    "    group1 = study_frame[study_frame.ctgov_group_code_x == group_codes[0]]\n",
    "    group2 = study_frame[study_frame.ctgov_group_code_x == group_codes[1]]\n",
    "    \n",
    "    sex_imbalance, group_size_imbalance = calculate_sex_imbalance(group1, group2)\n",
    "    age_imbalance = calculate_age_imbalance(group1, group2)\n",
    "    \n",
    "    return([nctid, sex_imbalance, age_imbalance, group_size_imbalance])\n",
    "\n",
    "def calculate_sex_imbalance(arm1, arm2):\n",
    "    arm1_sex = arm1[arm1.title_y == 'Sex: Female, Male']\n",
    "    arm2_sex = arm2[arm2.title_y == 'Sex: Female, Male']\n",
    "    \n",
    "    arm1_size = arm1_sex.param_value_num.sum()\n",
    "    arm2_size = arm2_sex.param_value_num.sum()\n",
    "    \n",
    "    arm1_men = arm1_sex[arm1_sex.category == 'male'].param_value_num[0]\n",
    "    arm2_men = arm2_sex[arm2_sex.category == 'male'].param_value_num[0]\n",
    "    \n",
    "    arm1_pct_men = arm1_men / arm1_size\n",
    "    arm2_pct_men = arm2_men / arm2_size\n",
    "    \n",
    "    sex_imbalance = abs(arm1_pct_men - arm2_pct_men)\n",
    "    group_size_imbalance = abs(0.5 - (arm1_size) / (arm1_size + arm2_size))\n",
    "    return((sex_imbalance, group_size_imbalance))\n",
    "\n",
    "def calculate_age_imbalance(arm1, arm2):\n",
    "    arm1_mean_age = arm1[arm1.title_y == 'Age'].param_value_num[0]\n",
    "    arm2_mean_age = arm2[arm2.title_y == 'Age'].param_value_num[0]\n",
    "    \n",
    "    age_imbalance = 12 * abs(arm1_mean_age - arm2_mean_age) \n",
    "    return(age_imbalance)"
   ]
  },
  {
   "cell_type": "code",
   "execution_count": 11,
   "metadata": {},
   "outputs": [
    {
     "name": "stdout",
     "output_type": "stream",
     "text": [
      "Calculating imbalance for 2099 studies\n",
      "Finished with 1000 studies.\n",
      "Finished with 2000 studies.\n"
     ]
    },
    {
     "data": {
      "text/html": [
       "<div>\n",
       "<style scoped>\n",
       "    .dataframe tbody tr th:only-of-type {\n",
       "        vertical-align: middle;\n",
       "    }\n",
       "\n",
       "    .dataframe tbody tr th {\n",
       "        vertical-align: top;\n",
       "    }\n",
       "\n",
       "    .dataframe thead th {\n",
       "        text-align: right;\n",
       "    }\n",
       "</style>\n",
       "<table border=\"1\" class=\"dataframe\">\n",
       "  <thead>\n",
       "    <tr style=\"text-align: right;\">\n",
       "      <th></th>\n",
       "      <th>nct_id</th>\n",
       "      <th>sex_imbalance</th>\n",
       "      <th>age_imbalance</th>\n",
       "      <th>group_size_imbalance</th>\n",
       "    </tr>\n",
       "  </thead>\n",
       "  <tbody>\n",
       "    <tr>\n",
       "      <th>0</th>\n",
       "      <td>NCT00001586</td>\n",
       "      <td>0.012755</td>\n",
       "      <td>26.64</td>\n",
       "      <td>0.033333</td>\n",
       "    </tr>\n",
       "    <tr>\n",
       "      <th>1</th>\n",
       "      <td>NCT00001596</td>\n",
       "      <td>0.152174</td>\n",
       "      <td>53.28</td>\n",
       "      <td>0.157143</td>\n",
       "    </tr>\n",
       "    <tr>\n",
       "      <th>2</th>\n",
       "      <td>NCT00001723</td>\n",
       "      <td>0.010000</td>\n",
       "      <td>1.56</td>\n",
       "      <td>0.000000</td>\n",
       "    </tr>\n",
       "    <tr>\n",
       "      <th>3</th>\n",
       "      <td>NCT00003222</td>\n",
       "      <td>0.217033</td>\n",
       "      <td>24.00</td>\n",
       "      <td>0.182927</td>\n",
       "    </tr>\n",
       "    <tr>\n",
       "      <th>4</th>\n",
       "      <td>NCT00004980</td>\n",
       "      <td>0.014493</td>\n",
       "      <td>4.80</td>\n",
       "      <td>0.040000</td>\n",
       "    </tr>\n",
       "  </tbody>\n",
       "</table>\n",
       "</div>"
      ],
      "text/plain": [
       "        nct_id  sex_imbalance  age_imbalance  group_size_imbalance\n",
       "0  NCT00001586       0.012755          26.64              0.033333\n",
       "1  NCT00001596       0.152174          53.28              0.157143\n",
       "2  NCT00001723       0.010000           1.56              0.000000\n",
       "3  NCT00003222       0.217033          24.00              0.182927\n",
       "4  NCT00004980       0.014493           4.80              0.040000"
      ]
     },
     "execution_count": 11,
     "metadata": {},
     "output_type": "execute_result"
    }
   ],
   "source": [
    "#Time to calculate imbalances\n",
    "imbalance_dat = []\n",
    "study_ids = small_balance_dat.index.unique()\n",
    "n_studies = study_ids.shape[0]\n",
    "print('Calculating imbalance for ' + str(n_studies) + ' studies')\n",
    "for i in range(n_studies):\n",
    "    current_id = study_ids[i]\n",
    "    current_study = small_balance_dat[small_balance_dat.index == current_id]\n",
    "    current_imbalances = calculate_imbalance(current_study)\n",
    "    imbalance_dat.append(current_imbalances)\n",
    "    if (i + 1) % 1000 == 0:\n",
    "        print('Finished with ' + str(i + 1) + ' studies.')\n",
    "imbalance_frame = pd.DataFrame(imbalance_dat, columns = ['nct_id', 'sex_imbalance', 'age_imbalance', 'group_size_imbalance'])\n",
    "imbalance_frame.head()"
   ]
  },
  {
   "cell_type": "code",
   "execution_count": 12,
   "metadata": {},
   "outputs": [],
   "source": [
    "om.data.reset_index(inplace=True)\n",
    "out.data.reset_index(inplace=True)\n",
    "rg.data.reset_index(inplace=True)\n",
    "oa.data.reset_index(inplace=True)\n",
    "oc.data.reset_index(inplace=True)\n",
    "out.data = out.data.add_prefix('out_')\n",
    "om.data = om.data.add_prefix('om_')\n",
    "rg.data = rg.data.add_prefix('rg_')\n",
    "oa.data = oa.data.add_prefix('oa_')\n",
    "oc.data = oc.data.add_prefix('oc_')"
   ]
  },
  {
   "cell_type": "code",
   "execution_count": 13,
   "metadata": {},
   "outputs": [],
   "source": [
    "combined_outcomes = om.data.merge(out.data, left_on = ['om_nct_id', 'om_outcome_id'], \n",
    "                                  right_on = ['out_nct_id', 'out_id'])\n",
    "\n",
    "combined_outcomes = combined_outcomes.merge(rg.data, left_on = ['om_nct_id','om_result_group_id'], \n",
    "                                            right_on = ['rg_nct_id','rg_id'])\n",
    "primary_outcomes = combined_outcomes[combined_outcomes.out_outcome_type == 'Primary']"
   ]
  },
  {
   "cell_type": "code",
   "execution_count": 14,
   "metadata": {},
   "outputs": [],
   "source": [
    "num_groups = primary_outcomes.groupby(['om_nct_id', 'om_outcome_id']).om_result_group_id.nunique()\n",
    "num_groups = pd.DataFrame(num_groups)\n",
    "num_groups.columns.values[0] = 'n_groups'\n",
    "primary_outcomes = primary_outcomes.merge(num_groups, on=['om_nct_id', 'om_outcome_id'])\n",
    "primary_outcomes = primary_outcomes[primary_outcomes.n_groups==2]"
   ]
  },
  {
   "cell_type": "code",
   "execution_count": 15,
   "metadata": {},
   "outputs": [],
   "source": [
    "primary_outcomes = primary_outcomes.merge(\n",
    "    oc.data.drop_duplicates(subset=['oc_nct_id', 'oc_result_group_id', 'oc_outcome_id'], keep='first'), \n",
    "    left_on=['om_nct_id', 'om_result_group_id', 'om_outcome_id'], right_on=['oc_nct_id', 'oc_result_group_id', 'oc_outcome_id'])"
   ]
  },
  {
   "cell_type": "code",
   "execution_count": 16,
   "metadata": {},
   "outputs": [
    {
     "data": {
      "text/html": [
       "<div>\n",
       "<style scoped>\n",
       "    .dataframe tbody tr th:only-of-type {\n",
       "        vertical-align: middle;\n",
       "    }\n",
       "\n",
       "    .dataframe tbody tr th {\n",
       "        vertical-align: top;\n",
       "    }\n",
       "\n",
       "    .dataframe thead th {\n",
       "        text-align: right;\n",
       "    }\n",
       "</style>\n",
       "<table border=\"1\" class=\"dataframe\">\n",
       "  <thead>\n",
       "    <tr style=\"text-align: right;\">\n",
       "      <th></th>\n",
       "      <th></th>\n",
       "      <th>om_nct_id</th>\n",
       "    </tr>\n",
       "    <tr>\n",
       "      <th>om_param_type</th>\n",
       "      <th>om_dispersion_type</th>\n",
       "      <th></th>\n",
       "    </tr>\n",
       "  </thead>\n",
       "  <tbody>\n",
       "    <tr>\n",
       "      <th>Number</th>\n",
       "      <th></th>\n",
       "      <td>981</td>\n",
       "    </tr>\n",
       "    <tr>\n",
       "      <th>Mean</th>\n",
       "      <th>Standard Deviation</th>\n",
       "      <td>888</td>\n",
       "    </tr>\n",
       "    <tr>\n",
       "      <th>Count of Participants</th>\n",
       "      <th></th>\n",
       "      <td>352</td>\n",
       "    </tr>\n",
       "    <tr>\n",
       "      <th>Number</th>\n",
       "      <th>95% Confidence Interval</th>\n",
       "      <td>294</td>\n",
       "    </tr>\n",
       "    <tr>\n",
       "      <th>Median</th>\n",
       "      <th>95% Confidence Interval</th>\n",
       "      <td>266</td>\n",
       "    </tr>\n",
       "    <tr>\n",
       "      <th>Least Squares Mean</th>\n",
       "      <th>Standard Error</th>\n",
       "      <td>169</td>\n",
       "    </tr>\n",
       "    <tr>\n",
       "      <th>Mean</th>\n",
       "      <th>Standard Error</th>\n",
       "      <td>162</td>\n",
       "    </tr>\n",
       "    <tr>\n",
       "      <th>Median</th>\n",
       "      <th>Inter-Quartile Range</th>\n",
       "      <td>114</td>\n",
       "    </tr>\n",
       "    <tr>\n",
       "      <th>Mean</th>\n",
       "      <th>95% Confidence Interval</th>\n",
       "      <td>91</td>\n",
       "    </tr>\n",
       "    <tr>\n",
       "      <th>Median</th>\n",
       "      <th>Full Range</th>\n",
       "      <td>84</td>\n",
       "    </tr>\n",
       "  </tbody>\n",
       "</table>\n",
       "</div>"
      ],
      "text/plain": [
       "                                               om_nct_id\n",
       "om_param_type         om_dispersion_type                \n",
       "Number                                               981\n",
       "Mean                  Standard Deviation             888\n",
       "Count of Participants                                352\n",
       "Number                95% Confidence Interval        294\n",
       "Median                95% Confidence Interval        266\n",
       "Least Squares Mean    Standard Error                 169\n",
       "Mean                  Standard Error                 162\n",
       "Median                Inter-Quartile Range           114\n",
       "Mean                  95% Confidence Interval         91\n",
       "Median                Full Range                      84"
      ]
     },
     "execution_count": 16,
     "metadata": {},
     "output_type": "execute_result"
    }
   ],
   "source": [
    "primary_outcomes.groupby(['om_param_type', 'om_dispersion_type']).agg({'om_nct_id':'nunique'}).sort_values(by='om_nct_id', ascending=False).head(10)"
   ]
  },
  {
   "cell_type": "code",
   "execution_count": 17,
   "metadata": {},
   "outputs": [],
   "source": [
    "primary_ids = primary_outcomes.om_nct_id.unique()"
   ]
  },
  {
   "cell_type": "code",
   "execution_count": 18,
   "metadata": {},
   "outputs": [
    {
     "data": {
      "text/plain": [
       "(3319, 15)"
      ]
     },
     "execution_count": 18,
     "metadata": {},
     "output_type": "execute_result"
    }
   ],
   "source": [
    "study_values = []\n",
    "for pid in primary_ids:\n",
    "    temp_frame = primary_outcomes[primary_outcomes.om_nct_id == pid]\n",
    "    temp_outcome_ids = temp_frame.om_outcome_id.unique()\n",
    "    sampled_index = np.random.choice(temp_outcome_ids.shape[0], 1, replace=False)\n",
    "    chosen_outcome = temp_frame[temp_frame.om_outcome_id == temp_outcome_ids[sampled_index][0]].reset_index()\n",
    "    chosen_param_type = chosen_outcome.om_param_type\n",
    "    chosen_params = chosen_outcome.om_param_value_num\n",
    "    chosen_dispersion_type = chosen_outcome.om_dispersion_type\n",
    "    chosen_dispersions = chosen_outcome.om_dispersion_value_num\n",
    "    chosen_dispersions_lower = chosen_outcome.om_dispersion_lower_limit\n",
    "    chosen_dispersions_upper = chosen_outcome.om_dispersion_upper_limit\n",
    "    chosen_n = chosen_outcome.oc_count\n",
    "    study_values.append(\n",
    "        [pid, chosen_outcome['om_result_group_id'][0], chosen_outcome['om_outcome_id'][0], chosen_n[0], chosen_n[1], chosen_param_type[0], \n",
    "         chosen_params[0], chosen_params[1], chosen_dispersion_type[0], chosen_dispersions[0], chosen_dispersions[1],\n",
    "        chosen_dispersions_lower[0], chosen_dispersions_upper[0], chosen_dispersions_lower[1], chosen_dispersions_upper[1]])\n",
    "study_values = pd.DataFrame(study_values, columns = ['nct_id', 'result_group_id', 'outcome_id', 'n1', 'n2', 'param_type', 'param1', 'param2', \n",
    "    'dispersion_type', 'dispersion1', 'dispersion2', 'dispersion1_lower', 'dispersion1_upper', 'dispersion2_lower', 'dispersion2_upper'])\n",
    "study_values.shape"
   ]
  },
  {
   "cell_type": "code",
   "execution_count": 19,
   "metadata": {},
   "outputs": [
    {
     "data": {
      "text/html": [
       "<div>\n",
       "<style scoped>\n",
       "    .dataframe tbody tr th:only-of-type {\n",
       "        vertical-align: middle;\n",
       "    }\n",
       "\n",
       "    .dataframe tbody tr th {\n",
       "        vertical-align: top;\n",
       "    }\n",
       "\n",
       "    .dataframe thead th {\n",
       "        text-align: right;\n",
       "    }\n",
       "</style>\n",
       "<table border=\"1\" class=\"dataframe\">\n",
       "  <thead>\n",
       "    <tr style=\"text-align: right;\">\n",
       "      <th></th>\n",
       "      <th>param_type</th>\n",
       "      <th>dispersion_type</th>\n",
       "      <th>nct_id</th>\n",
       "    </tr>\n",
       "  </thead>\n",
       "  <tbody>\n",
       "    <tr>\n",
       "      <th>33</th>\n",
       "      <td>Number</td>\n",
       "      <td></td>\n",
       "      <td>868</td>\n",
       "    </tr>\n",
       "    <tr>\n",
       "      <th>24</th>\n",
       "      <td>Mean</td>\n",
       "      <td>Standard Deviation</td>\n",
       "      <td>818</td>\n",
       "    </tr>\n",
       "    <tr>\n",
       "      <th>0</th>\n",
       "      <td>Count of Participants</td>\n",
       "      <td></td>\n",
       "      <td>307</td>\n",
       "    </tr>\n",
       "    <tr>\n",
       "      <th>37</th>\n",
       "      <td>Number</td>\n",
       "      <td>95% Confidence Interval</td>\n",
       "      <td>269</td>\n",
       "    </tr>\n",
       "    <tr>\n",
       "      <th>28</th>\n",
       "      <td>Median</td>\n",
       "      <td>95% Confidence Interval</td>\n",
       "      <td>251</td>\n",
       "    </tr>\n",
       "    <tr>\n",
       "      <th>25</th>\n",
       "      <td>Mean</td>\n",
       "      <td>Standard Error</td>\n",
       "      <td>155</td>\n",
       "    </tr>\n",
       "    <tr>\n",
       "      <th>17</th>\n",
       "      <td>Least Squares Mean</td>\n",
       "      <td>Standard Error</td>\n",
       "      <td>147</td>\n",
       "    </tr>\n",
       "    <tr>\n",
       "      <th>30</th>\n",
       "      <td>Median</td>\n",
       "      <td>Inter-Quartile Range</td>\n",
       "      <td>104</td>\n",
       "    </tr>\n",
       "    <tr>\n",
       "      <th>21</th>\n",
       "      <td>Mean</td>\n",
       "      <td>95% Confidence Interval</td>\n",
       "      <td>88</td>\n",
       "    </tr>\n",
       "    <tr>\n",
       "      <th>29</th>\n",
       "      <td>Median</td>\n",
       "      <td>Full Range</td>\n",
       "      <td>60</td>\n",
       "    </tr>\n",
       "  </tbody>\n",
       "</table>\n",
       "</div>"
      ],
      "text/plain": [
       "               param_type          dispersion_type  nct_id\n",
       "33                 Number                              868\n",
       "24                   Mean       Standard Deviation     818\n",
       "0   Count of Participants                              307\n",
       "37                 Number  95% Confidence Interval     269\n",
       "28                 Median  95% Confidence Interval     251\n",
       "25                   Mean           Standard Error     155\n",
       "17     Least Squares Mean           Standard Error     147\n",
       "30                 Median     Inter-Quartile Range     104\n",
       "21                   Mean  95% Confidence Interval      88\n",
       "29                 Median               Full Range      60"
      ]
     },
     "execution_count": 19,
     "metadata": {},
     "output_type": "execute_result"
    }
   ],
   "source": [
    "study_values.groupby(['param_type', 'dispersion_type']).agg({'nct_id':'nunique'}).reset_index().sort_values(by='nct_id', ascending=False).head(10)"
   ]
  },
  {
   "cell_type": "code",
   "execution_count": 20,
   "metadata": {},
   "outputs": [
    {
     "data": {
      "text/plain": [
       "(3166, 18)"
      ]
     },
     "execution_count": 20,
     "metadata": {},
     "output_type": "execute_result"
    }
   ],
   "source": [
    "#Only include studies with a single outcome analysis per outcome or no outcome analysis posted at all, drops ~200 studies\n",
    "\n",
    "oa_per_outcome = oa.data.groupby(['oa_outcome_id']).agg({'oa_nct_id':'count'}).reset_index()\n",
    "single_oa_per_outcome = oa_per_outcome[oa_per_outcome.oa_nct_id==1]['oa_outcome_id']\n",
    "\n",
    "study_values = study_values[study_values.outcome_id.isin(single_oa_per_outcome)|(~study_values.outcome_id.isin(oa.data.oa_outcome_id))]\\\n",
    "    .merge(oa.data.set_index('oa_outcome_id')[['oa_non_inferiority_type', 'oa_p_value', 'oa_method']], left_on=['outcome_id'], right_index=True, how='left')\n",
    "study_values.shape"
   ]
  },
  {
   "cell_type": "code",
   "execution_count": 21,
   "metadata": {},
   "outputs": [
    {
     "data": {
      "text/plain": [
       "(956, 18)"
      ]
     },
     "execution_count": 21,
     "metadata": {},
     "output_type": "execute_result"
    }
   ],
   "source": [
    "#Leaving only studies with reported p_values in single outcome_analysis\n",
    "study_values = study_values[study_values['oa_p_value'].notnull()]\n",
    "study_values.shape"
   ]
  },
  {
   "cell_type": "code",
   "execution_count": 22,
   "metadata": {},
   "outputs": [
    {
     "data": {
      "text/html": [
       "<div>\n",
       "<style scoped>\n",
       "    .dataframe tbody tr th:only-of-type {\n",
       "        vertical-align: middle;\n",
       "    }\n",
       "\n",
       "    .dataframe tbody tr th {\n",
       "        vertical-align: top;\n",
       "    }\n",
       "\n",
       "    .dataframe thead th {\n",
       "        text-align: right;\n",
       "    }\n",
       "</style>\n",
       "<table border=\"1\" class=\"dataframe\">\n",
       "  <thead>\n",
       "    <tr style=\"text-align: right;\">\n",
       "      <th></th>\n",
       "      <th>nct_id</th>\n",
       "      <th>result_group_id</th>\n",
       "      <th>outcome_id</th>\n",
       "      <th>n1</th>\n",
       "      <th>n2</th>\n",
       "      <th>param_type</th>\n",
       "      <th>param1</th>\n",
       "      <th>param2</th>\n",
       "      <th>dispersion_type</th>\n",
       "      <th>dispersion1</th>\n",
       "      <th>dispersion2</th>\n",
       "      <th>dispersion1_lower</th>\n",
       "      <th>dispersion1_upper</th>\n",
       "      <th>dispersion2_lower</th>\n",
       "      <th>dispersion2_upper</th>\n",
       "      <th>oa_non_inferiority_type</th>\n",
       "      <th>oa_p_value</th>\n",
       "      <th>oa_method</th>\n",
       "    </tr>\n",
       "  </thead>\n",
       "  <tbody>\n",
       "    <tr>\n",
       "      <th>0</th>\n",
       "      <td>NCT00000392</td>\n",
       "      <td>16233928</td>\n",
       "      <td>4908952</td>\n",
       "      <td>77</td>\n",
       "      <td>66</td>\n",
       "      <td>Mean</td>\n",
       "      <td>0.16</td>\n",
       "      <td>0.24</td>\n",
       "      <td>Standard Error</td>\n",
       "      <td>0.03</td>\n",
       "      <td>0.05</td>\n",
       "      <td>NaN</td>\n",
       "      <td>NaN</td>\n",
       "      <td>NaN</td>\n",
       "      <td>NaN</td>\n",
       "      <td>Superiority or Other</td>\n",
       "      <td>0.180</td>\n",
       "      <td>ANOVA</td>\n",
       "    </tr>\n",
       "    <tr>\n",
       "      <th>3</th>\n",
       "      <td>NCT00001723</td>\n",
       "      <td>16234019</td>\n",
       "      <td>4908959</td>\n",
       "      <td>100</td>\n",
       "      <td>100</td>\n",
       "      <td>Mean</td>\n",
       "      <td>-0.06</td>\n",
       "      <td>-0.12</td>\n",
       "      <td>Standard Error</td>\n",
       "      <td>0.02</td>\n",
       "      <td>0.02</td>\n",
       "      <td>NaN</td>\n",
       "      <td>NaN</td>\n",
       "      <td>NaN</td>\n",
       "      <td>NaN</td>\n",
       "      <td>Superiority or Other</td>\n",
       "      <td>0.007</td>\n",
       "      <td>ANCOVA</td>\n",
       "    </tr>\n",
       "    <tr>\n",
       "      <th>5</th>\n",
       "      <td>NCT00003222</td>\n",
       "      <td>16223036</td>\n",
       "      <td>4905604</td>\n",
       "      <td>10</td>\n",
       "      <td>8</td>\n",
       "      <td>Number</td>\n",
       "      <td>8.00</td>\n",
       "      <td>1.00</td>\n",
       "      <td></td>\n",
       "      <td>NaN</td>\n",
       "      <td>NaN</td>\n",
       "      <td>NaN</td>\n",
       "      <td>NaN</td>\n",
       "      <td>NaN</td>\n",
       "      <td>NaN</td>\n",
       "      <td>Superiority or Other</td>\n",
       "      <td>0.004</td>\n",
       "      <td>Chi-squared</td>\n",
       "    </tr>\n",
       "    <tr>\n",
       "      <th>10</th>\n",
       "      <td>NCT00004412</td>\n",
       "      <td>16234298</td>\n",
       "      <td>4909037</td>\n",
       "      <td>37</td>\n",
       "      <td>25</td>\n",
       "      <td>Number</td>\n",
       "      <td>78.00</td>\n",
       "      <td>24.00</td>\n",
       "      <td></td>\n",
       "      <td>NaN</td>\n",
       "      <td>NaN</td>\n",
       "      <td>NaN</td>\n",
       "      <td>NaN</td>\n",
       "      <td>NaN</td>\n",
       "      <td>NaN</td>\n",
       "      <td>Superiority or Other</td>\n",
       "      <td>0.050</td>\n",
       "      <td>Fisher Exact</td>\n",
       "    </tr>\n",
       "    <tr>\n",
       "      <th>12</th>\n",
       "      <td>NCT00004980</td>\n",
       "      <td>16233815</td>\n",
       "      <td>4908919</td>\n",
       "      <td>23</td>\n",
       "      <td>27</td>\n",
       "      <td>Mean</td>\n",
       "      <td>8.61</td>\n",
       "      <td>5.85</td>\n",
       "      <td>Standard Deviation</td>\n",
       "      <td>3.80</td>\n",
       "      <td>2.85</td>\n",
       "      <td>NaN</td>\n",
       "      <td>NaN</td>\n",
       "      <td>NaN</td>\n",
       "      <td>NaN</td>\n",
       "      <td>Superiority or Other</td>\n",
       "      <td>0.005</td>\n",
       "      <td>t-test, 2 sided</td>\n",
       "    </tr>\n",
       "  </tbody>\n",
       "</table>\n",
       "</div>"
      ],
      "text/plain": [
       "         nct_id  result_group_id  outcome_id   n1   n2 param_type  param1  \\\n",
       "0   NCT00000392         16233928     4908952   77   66       Mean    0.16   \n",
       "3   NCT00001723         16234019     4908959  100  100       Mean   -0.06   \n",
       "5   NCT00003222         16223036     4905604   10    8     Number    8.00   \n",
       "10  NCT00004412         16234298     4909037   37   25     Number   78.00   \n",
       "12  NCT00004980         16233815     4908919   23   27       Mean    8.61   \n",
       "\n",
       "    param2     dispersion_type  dispersion1  dispersion2  dispersion1_lower  \\\n",
       "0     0.24      Standard Error         0.03         0.05                NaN   \n",
       "3    -0.12      Standard Error         0.02         0.02                NaN   \n",
       "5     1.00                              NaN          NaN                NaN   \n",
       "10   24.00                              NaN          NaN                NaN   \n",
       "12    5.85  Standard Deviation         3.80         2.85                NaN   \n",
       "\n",
       "    dispersion1_upper  dispersion2_lower  dispersion2_upper  \\\n",
       "0                 NaN                NaN                NaN   \n",
       "3                 NaN                NaN                NaN   \n",
       "5                 NaN                NaN                NaN   \n",
       "10                NaN                NaN                NaN   \n",
       "12                NaN                NaN                NaN   \n",
       "\n",
       "   oa_non_inferiority_type  oa_p_value        oa_method  \n",
       "0     Superiority or Other       0.180            ANOVA  \n",
       "3     Superiority or Other       0.007           ANCOVA  \n",
       "5     Superiority or Other       0.004      Chi-squared  \n",
       "10    Superiority or Other       0.050     Fisher Exact  \n",
       "12    Superiority or Other       0.005  t-test, 2 sided  "
      ]
     },
     "execution_count": 22,
     "metadata": {},
     "output_type": "execute_result"
    }
   ],
   "source": [
    "study_values.head()"
   ]
  },
  {
   "cell_type": "code",
   "execution_count": 23,
   "metadata": {},
   "outputs": [
    {
     "data": {
      "text/html": [
       "<div>\n",
       "<style scoped>\n",
       "    .dataframe tbody tr th:only-of-type {\n",
       "        vertical-align: middle;\n",
       "    }\n",
       "\n",
       "    .dataframe tbody tr th {\n",
       "        vertical-align: top;\n",
       "    }\n",
       "\n",
       "    .dataframe thead th {\n",
       "        text-align: right;\n",
       "    }\n",
       "</style>\n",
       "<table border=\"1\" class=\"dataframe\">\n",
       "  <thead>\n",
       "    <tr style=\"text-align: right;\">\n",
       "      <th></th>\n",
       "      <th>param_type</th>\n",
       "      <th>dispersion_type</th>\n",
       "      <th>nct_id</th>\n",
       "    </tr>\n",
       "  </thead>\n",
       "  <tbody>\n",
       "    <tr>\n",
       "      <th>18</th>\n",
       "      <td>Mean</td>\n",
       "      <td>Standard Deviation</td>\n",
       "      <td>245</td>\n",
       "    </tr>\n",
       "    <tr>\n",
       "      <th>26</th>\n",
       "      <td>Number</td>\n",
       "      <td></td>\n",
       "      <td>169</td>\n",
       "    </tr>\n",
       "    <tr>\n",
       "      <th>22</th>\n",
       "      <td>Median</td>\n",
       "      <td>95% Confidence Interval</td>\n",
       "      <td>114</td>\n",
       "    </tr>\n",
       "    <tr>\n",
       "      <th>11</th>\n",
       "      <td>Least Squares Mean</td>\n",
       "      <td>Standard Error</td>\n",
       "      <td>91</td>\n",
       "    </tr>\n",
       "    <tr>\n",
       "      <th>19</th>\n",
       "      <td>Mean</td>\n",
       "      <td>Standard Error</td>\n",
       "      <td>59</td>\n",
       "    </tr>\n",
       "    <tr>\n",
       "      <th>0</th>\n",
       "      <td>Count of Participants</td>\n",
       "      <td></td>\n",
       "      <td>58</td>\n",
       "    </tr>\n",
       "    <tr>\n",
       "      <th>29</th>\n",
       "      <td>Number</td>\n",
       "      <td>95% Confidence Interval</td>\n",
       "      <td>39</td>\n",
       "    </tr>\n",
       "    <tr>\n",
       "      <th>24</th>\n",
       "      <td>Median</td>\n",
       "      <td>Inter-Quartile Range</td>\n",
       "      <td>38</td>\n",
       "    </tr>\n",
       "    <tr>\n",
       "      <th>15</th>\n",
       "      <td>Mean</td>\n",
       "      <td>95% Confidence Interval</td>\n",
       "      <td>33</td>\n",
       "    </tr>\n",
       "    <tr>\n",
       "      <th>9</th>\n",
       "      <td>Least Squares Mean</td>\n",
       "      <td>95% Confidence Interval</td>\n",
       "      <td>33</td>\n",
       "    </tr>\n",
       "  </tbody>\n",
       "</table>\n",
       "</div>"
      ],
      "text/plain": [
       "               param_type          dispersion_type  nct_id\n",
       "18                   Mean       Standard Deviation     245\n",
       "26                 Number                              169\n",
       "22                 Median  95% Confidence Interval     114\n",
       "11     Least Squares Mean           Standard Error      91\n",
       "19                   Mean           Standard Error      59\n",
       "0   Count of Participants                               58\n",
       "29                 Number  95% Confidence Interval      39\n",
       "24                 Median     Inter-Quartile Range      38\n",
       "15                   Mean  95% Confidence Interval      33\n",
       "9      Least Squares Mean  95% Confidence Interval      33"
      ]
     },
     "execution_count": 23,
     "metadata": {},
     "output_type": "execute_result"
    }
   ],
   "source": [
    "study_values.groupby(['param_type', 'dispersion_type']).agg({'nct_id':'nunique'}).reset_index().sort_values(by='nct_id', ascending=False).head(10)"
   ]
  },
  {
   "cell_type": "code",
   "execution_count": 24,
   "metadata": {},
   "outputs": [
    {
     "data": {
      "text/html": [
       "<div>\n",
       "<style scoped>\n",
       "    .dataframe tbody tr th:only-of-type {\n",
       "        vertical-align: middle;\n",
       "    }\n",
       "\n",
       "    .dataframe tbody tr th {\n",
       "        vertical-align: top;\n",
       "    }\n",
       "\n",
       "    .dataframe thead th {\n",
       "        text-align: right;\n",
       "    }\n",
       "</style>\n",
       "<table border=\"1\" class=\"dataframe\">\n",
       "  <thead>\n",
       "    <tr style=\"text-align: right;\">\n",
       "      <th></th>\n",
       "      <th>oa_non_inferiority_type</th>\n",
       "      <th>oa_method</th>\n",
       "      <th>nct_id</th>\n",
       "    </tr>\n",
       "  </thead>\n",
       "  <tbody>\n",
       "    <tr>\n",
       "      <th>104</th>\n",
       "      <td>Superiority or Other</td>\n",
       "      <td>ANCOVA</td>\n",
       "      <td>111</td>\n",
       "    </tr>\n",
       "    <tr>\n",
       "      <th>219</th>\n",
       "      <td>Superiority or Other</td>\n",
       "      <td>t-test, 2 sided</td>\n",
       "      <td>61</td>\n",
       "    </tr>\n",
       "    <tr>\n",
       "      <th>139</th>\n",
       "      <td>Superiority or Other</td>\n",
       "      <td>Log Rank</td>\n",
       "      <td>57</td>\n",
       "    </tr>\n",
       "    <tr>\n",
       "      <th>125</th>\n",
       "      <td>Superiority or Other</td>\n",
       "      <td>Fisher Exact</td>\n",
       "      <td>53</td>\n",
       "    </tr>\n",
       "    <tr>\n",
       "      <th>153</th>\n",
       "      <td>Superiority or Other</td>\n",
       "      <td>Mixed Models Analysis</td>\n",
       "      <td>46</td>\n",
       "    </tr>\n",
       "    <tr>\n",
       "      <th>196</th>\n",
       "      <td>Superiority or Other</td>\n",
       "      <td>Wilcoxon (Mann-Whitney)</td>\n",
       "      <td>44</td>\n",
       "    </tr>\n",
       "    <tr>\n",
       "      <th>110</th>\n",
       "      <td>Superiority or Other</td>\n",
       "      <td>Chi-squared</td>\n",
       "      <td>41</td>\n",
       "    </tr>\n",
       "    <tr>\n",
       "      <th>105</th>\n",
       "      <td>Superiority or Other</td>\n",
       "      <td>ANOVA</td>\n",
       "      <td>37</td>\n",
       "    </tr>\n",
       "    <tr>\n",
       "      <th>69</th>\n",
       "      <td>Superiority</td>\n",
       "      <td>Log Rank</td>\n",
       "      <td>28</td>\n",
       "    </tr>\n",
       "    <tr>\n",
       "      <th>77</th>\n",
       "      <td>Superiority</td>\n",
       "      <td>Mixed Models Analysis</td>\n",
       "      <td>23</td>\n",
       "    </tr>\n",
       "  </tbody>\n",
       "</table>\n",
       "</div>"
      ],
      "text/plain": [
       "    oa_non_inferiority_type                oa_method  nct_id\n",
       "104    Superiority or Other                   ANCOVA     111\n",
       "219    Superiority or Other          t-test, 2 sided      61\n",
       "139    Superiority or Other                 Log Rank      57\n",
       "125    Superiority or Other             Fisher Exact      53\n",
       "153    Superiority or Other    Mixed Models Analysis      46\n",
       "196    Superiority or Other  Wilcoxon (Mann-Whitney)      44\n",
       "110    Superiority or Other              Chi-squared      41\n",
       "105    Superiority or Other                    ANOVA      37\n",
       "69              Superiority                 Log Rank      28\n",
       "77              Superiority    Mixed Models Analysis      23"
      ]
     },
     "execution_count": 24,
     "metadata": {},
     "output_type": "execute_result"
    }
   ],
   "source": [
    "study_values.groupby(['oa_non_inferiority_type', 'oa_method']).agg({'nct_id':'nunique'}).reset_index().sort_values(by='nct_id', ascending=False).head(10)"
   ]
  },
  {
   "cell_type": "code",
   "execution_count": 25,
   "metadata": {},
   "outputs": [],
   "source": [
    "def compute_t_stat(row):\n",
    "    \n",
    "    n1 = float(row['n1'])\n",
    "    n2 = float(row['n2'])\n",
    "    \n",
    "    if row['param_type']=='Mean' and row['dispersion_type']=='Standard Deviation':\n",
    "        mean1=float(row['param1'])\n",
    "        mean2=float(row['param2'])\n",
    "        std1=float(row['dispersion1'])\n",
    "        std2=float(row['dispersion2'])\n",
    "        \n",
    "        if n1*n2!=0 and std1*std2!=0:\n",
    "            return (mean1-mean2) / np.sqrt((std1**2)/n1 + (std2**2)/n2)\n",
    "    \n",
    "    if row['param_type']=='Mean' and row['dispersion_type']=='Standard Error':\n",
    "        mean1=float(row['param1'])\n",
    "        mean2=float(row['param2'])\n",
    "        std1=float(row['dispersion1'])*np.sqrt(n1)\n",
    "        std2=float(row['dispersion2'])*np.sqrt(n2)\n",
    "        \n",
    "        if n1*n2!=0 and std1*std2!=0:\n",
    "            return (mean1-mean2) / np.sqrt((std1**2)/n1 + (std2**2)/n2)\n",
    "    \n",
    "    if row['param_type']=='Mean' and row['dispersion_type']=='95% Confidence Interval':\n",
    "        mean1=float(row['param1'])\n",
    "        mean2=float(row['param2'])\n",
    "        std1=np.sqrt(n1)*(float(row['dispersion1_upper']) - float(row['dispersion1_lower'])) / 3.92\n",
    "        std2=np.sqrt(n2)*(float(row['dispersion2_upper']) - float(row['dispersion2_lower'])) / 3.92\n",
    "        \n",
    "        if n1*n2!=0 and std1*std2!=0:\n",
    "            return (mean1-mean2) / np.sqrt((std1**2)/n1 + (std2**2)/n2)"
   ]
  },
  {
   "cell_type": "code",
   "execution_count": 26,
   "metadata": {},
   "outputs": [],
   "source": [
    "def compute_p_val(row):\n",
    "    return 1-norm.cdf(row['computed_t_stat'])"
   ]
  },
  {
   "cell_type": "code",
   "execution_count": 27,
   "metadata": {},
   "outputs": [],
   "source": [
    "study_values['computed_t_stat'] = study_values.apply(compute_t_stat, axis=1)"
   ]
  },
  {
   "cell_type": "code",
   "execution_count": 28,
   "metadata": {},
   "outputs": [],
   "source": [
    "study_values['computed_p_val'] = study_values.apply(compute_p_val, axis=1)"
   ]
  },
  {
   "cell_type": "code",
   "execution_count": 29,
   "metadata": {},
   "outputs": [
    {
     "data": {
      "text/plain": [
       "(956, 20)"
      ]
     },
     "execution_count": 29,
     "metadata": {},
     "output_type": "execute_result"
    }
   ],
   "source": [
    "study_values.shape"
   ]
  },
  {
   "cell_type": "code",
   "execution_count": 30,
   "metadata": {},
   "outputs": [
    {
     "data": {
      "text/html": [
       "<div>\n",
       "<style scoped>\n",
       "    .dataframe tbody tr th:only-of-type {\n",
       "        vertical-align: middle;\n",
       "    }\n",
       "\n",
       "    .dataframe tbody tr th {\n",
       "        vertical-align: top;\n",
       "    }\n",
       "\n",
       "    .dataframe thead th {\n",
       "        text-align: right;\n",
       "    }\n",
       "</style>\n",
       "<table border=\"1\" class=\"dataframe\">\n",
       "  <thead>\n",
       "    <tr style=\"text-align: right;\">\n",
       "      <th></th>\n",
       "      <th>oa_method</th>\n",
       "      <th>nct_id</th>\n",
       "    </tr>\n",
       "  </thead>\n",
       "  <tbody>\n",
       "    <tr>\n",
       "      <th>9</th>\n",
       "      <td>ANCOVA</td>\n",
       "      <td>143</td>\n",
       "    </tr>\n",
       "    <tr>\n",
       "      <th>61</th>\n",
       "      <td>Log Rank</td>\n",
       "      <td>104</td>\n",
       "    </tr>\n",
       "    <tr>\n",
       "      <th>166</th>\n",
       "      <td>t-test, 2 sided</td>\n",
       "      <td>89</td>\n",
       "    </tr>\n",
       "    <tr>\n",
       "      <th>82</th>\n",
       "      <td>Mixed Models Analysis</td>\n",
       "      <td>82</td>\n",
       "    </tr>\n",
       "    <tr>\n",
       "      <th>39</th>\n",
       "      <td>Fisher Exact</td>\n",
       "      <td>78</td>\n",
       "    </tr>\n",
       "    <tr>\n",
       "      <th>140</th>\n",
       "      <td>Wilcoxon (Mann-Whitney)</td>\n",
       "      <td>68</td>\n",
       "    </tr>\n",
       "    <tr>\n",
       "      <th>20</th>\n",
       "      <td>Chi-squared</td>\n",
       "      <td>60</td>\n",
       "    </tr>\n",
       "    <tr>\n",
       "      <th>10</th>\n",
       "      <td>ANOVA</td>\n",
       "      <td>47</td>\n",
       "    </tr>\n",
       "    <tr>\n",
       "      <th>23</th>\n",
       "      <td>Cochran-Mantel-Haenszel</td>\n",
       "      <td>32</td>\n",
       "    </tr>\n",
       "    <tr>\n",
       "      <th>109</th>\n",
       "      <td>Regression, Logistic</td>\n",
       "      <td>24</td>\n",
       "    </tr>\n",
       "  </tbody>\n",
       "</table>\n",
       "</div>"
      ],
      "text/plain": [
       "                   oa_method  nct_id\n",
       "9                     ANCOVA     143\n",
       "61                  Log Rank     104\n",
       "166          t-test, 2 sided      89\n",
       "82     Mixed Models Analysis      82\n",
       "39              Fisher Exact      78\n",
       "140  Wilcoxon (Mann-Whitney)      68\n",
       "20               Chi-squared      60\n",
       "10                     ANOVA      47\n",
       "23   Cochran-Mantel-Haenszel      32\n",
       "109     Regression, Logistic      24"
      ]
     },
     "execution_count": 30,
     "metadata": {},
     "output_type": "execute_result"
    }
   ],
   "source": [
    "study_values[study_values.oa_p_value.notnull()].groupby(['oa_method']).agg({'nct_id':'count'})\\\n",
    "    .reset_index().sort_values(by='nct_id', ascending=False).head(10)"
   ]
  },
  {
   "cell_type": "code",
   "execution_count": 31,
   "metadata": {},
   "outputs": [],
   "source": [
    "top_methods = study_values[study_values.oa_p_value.notnull()].groupby(['oa_method']).agg({'nct_id':'count'})\\\n",
    "    .reset_index().sort_values(by='nct_id', ascending=False).head(10).reset_index()['oa_method']"
   ]
  },
  {
   "cell_type": "code",
   "execution_count": 32,
   "metadata": {},
   "outputs": [
    {
     "data": {
      "text/plain": [
       "(335, 20)"
      ]
     },
     "execution_count": 32,
     "metadata": {},
     "output_type": "execute_result"
    }
   ],
   "source": [
    "study_values[study_values.computed_p_val.notnull()].shape"
   ]
  },
  {
   "cell_type": "code",
   "execution_count": 34,
   "metadata": {},
   "outputs": [],
   "source": [
    "study_values.loc[study_values['computed_p_val'].notnull(), 'p_val_diff']  = study_values['oa_p_value'] - study_values['computed_p_val']"
   ]
  },
  {
   "cell_type": "code",
   "execution_count": 47,
   "metadata": {},
   "outputs": [
    {
     "name": "stdout",
     "output_type": "stream",
     "text": [
      "ANCOVA\n"
     ]
    },
    {
     "data": {
      "image/png": "[encoded data removed]",
      "text/plain": [
       "<Figure size 432x288 with 1 Axes>"
      ]
     },
     "metadata": {
      "needs_background": "light"
     },
     "output_type": "display_data"
    },
    {
     "name": "stdout",
     "output_type": "stream",
     "text": [
      "\n",
      "Log Rank\n"
     ]
    },
    {
     "data": {
      "image/png": "[encoded data removed]",
      "text/plain": [
       "<Figure size 432x288 with 1 Axes>"
      ]
     },
     "metadata": {
      "needs_background": "light"
     },
     "output_type": "display_data"
    },
    {
     "name": "stdout",
     "output_type": "stream",
     "text": [
      "\n",
      "t-test, 2 sided\n"
     ]
    },
    {
     "data": {
      "image/png": "[encoded data removed]",
      "text/plain": [
       "<Figure size 432x288 with 1 Axes>"
      ]
     },
     "metadata": {
      "needs_background": "light"
     },
     "output_type": "display_data"
    },
    {
     "name": "stdout",
     "output_type": "stream",
     "text": [
      "\n",
      "Mixed Models Analysis\n"
     ]
    },
    {
     "data": {
      "image/png": "[encoded data removed]",
      "text/plain": [
       "<Figure size 432x288 with 1 Axes>"
      ]
     },
     "metadata": {
      "needs_background": "light"
     },
     "output_type": "display_data"
    },
    {
     "name": "stdout",
     "output_type": "stream",
     "text": [
      "\n",
      "Fisher Exact\n"
     ]
    },
    {
     "data": {
      "image/png": "[encoded data removed]",
      "text/plain": [
       "<Figure size 432x288 with 1 Axes>"
      ]
     },
     "metadata": {
      "needs_background": "light"
     },
     "output_type": "display_data"
    },
    {
     "name": "stdout",
     "output_type": "stream",
     "text": [
      "\n",
      "Wilcoxon (Mann-Whitney)\n"
     ]
    },
    {
     "data": {
      "image/png": "[encoded data removed]",
      "text/plain": [
       "<Figure size 432x288 with 1 Axes>"
      ]
     },
     "metadata": {
      "needs_background": "light"
     },
     "output_type": "display_data"
    },
    {
     "name": "stdout",
     "output_type": "stream",
     "text": [
      "\n",
      "Chi-squared\n"
     ]
    },
    {
     "data": {
      "image/png": "[encoded data removed]",
      "text/plain": [
       "<Figure size 432x288 with 1 Axes>"
      ]
     },
     "metadata": {
      "needs_background": "light"
     },
     "output_type": "display_data"
    },
    {
     "name": "stdout",
     "output_type": "stream",
     "text": [
      "\n",
      "ANOVA\n"
     ]
    },
    {
     "data": {
      "image/png": "[encoded data removed]",
      "text/plain": [
       "<Figure size 432x288 with 1 Axes>"
      ]
     },
     "metadata": {
      "needs_background": "light"
     },
     "output_type": "display_data"
    },
    {
     "name": "stdout",
     "output_type": "stream",
     "text": [
      "\n",
      "Cochran-Mantel-Haenszel\n"
     ]
    },
    {
     "data": {
      "image/png": "[encoded data removed]",
      "text/plain": [
       "<Figure size 432x288 with 1 Axes>"
      ]
     },
     "metadata": {
      "needs_background": "light"
     },
     "output_type": "display_data"
    },
    {
     "name": "stdout",
     "output_type": "stream",
     "text": [
      "\n",
      "Regression, Logistic\n"
     ]
    },
    {
     "data": {
      "image/png": "[encoded data removed]",
      "text/plain": [
       "<Figure size 432x288 with 1 Axes>"
      ]
     },
     "metadata": {
      "needs_background": "light"
     },
     "output_type": "display_data"
    },
    {
     "name": "stdout",
     "output_type": "stream",
     "text": [
      "\n"
     ]
    }
   ],
   "source": [
    "for method in top_methods:\n",
    "    print(method)\n",
    "    study_values[study_values.oa_method==method][['p_val_diff']].hist()\n",
    "    plt.title=method\n",
    "    plt.show()\n",
    "    print('')"
   ]
  },
  {
   "cell_type": "code",
   "execution_count": 37,
   "metadata": {},
   "outputs": [],
   "source": [
    "#Reproducing chi square for categorical results\n",
    "\n",
    "df = pd.DataFrame({'arm1':[207, 231], 'arm2':[282, 242]})\n",
    "\n",
    "df.index = ['response', 'no_response']\n",
    "\n",
    "df_exp = pd.DataFrame({\n",
    "    'arm1':\n",
    "        [df.sum(axis=1)['response']*df.sum(axis=0)['arm1']/df.sum().sum(),\n",
    "        df.sum(axis=1)['no_response']*df.sum(axis=0)['arm1']/df.sum().sum()],\n",
    "    'arm2':\n",
    "        [df.sum(axis=1)['response']*df.sum(axis=0)['arm2']/df.sum().sum(),\n",
    "        df.sum(axis=1)['no_response']*df.sum(axis=0)['arm2']/df.sum().sum()],\n",
    "    \n",
    "})\n",
    "df_exp.index=['response', 'no_response']\n",
    "\n",
    "df_diff = pd.DataFrame({\n",
    "    'arm1':[((df.arm1.response - df_exp.arm1.response)**2)/df_exp.arm1.response,\n",
    "           ((df.arm1.no_response - df_exp.arm1.no_response)**2)/df_exp.arm1.no_response\n",
    "    ],\n",
    "    'arm2':[((df.arm2.response - df_exp.arm2.response)**2)/df_exp.arm2.response,\n",
    "           ((df.arm1.no_response - df_exp.arm2.no_response)**2)/df_exp.arm2.no_response\n",
    "    ]\n",
    "})\n",
    "df_diff.index=['men', 'women']\n",
    "\n",
    "chi_square = df_diff.sum().sum()\n"
   ]
  },
  {
   "cell_type": "code",
   "execution_count": null,
   "metadata": {},
   "outputs": [],
   "source": []
  },
  {
   "cell_type": "code",
   "execution_count": null,
   "metadata": {},
   "outputs": [],
   "source": []
  },
  {
   "cell_type": "code",
   "execution_count": null,
   "metadata": {},
   "outputs": [],
   "source": []
  },
  {
   "cell_type": "code",
   "execution_count": null,
   "metadata": {},
   "outputs": [],
   "source": []
  },
  {
   "cell_type": "code",
   "execution_count": null,
   "metadata": {},
   "outputs": [],
   "source": []
  },
  {
   "cell_type": "code",
   "execution_count": null,
   "metadata": {},
   "outputs": [],
   "source": []
  },
  {
   "cell_type": "code",
   "execution_count": null,
   "metadata": {},
   "outputs": [],
   "source": []
  },
  {
   "cell_type": "code",
   "execution_count": null,
   "metadata": {},
   "outputs": [],
   "source": []
  }
 ],
 "metadata": {
  "kernelspec": {
   "display_name": "Python 3",
   "language": "python",
   "name": "python3"
  },
  "language_info": {
   "codemirror_mode": {
    "name": "ipython",
    "version": 3
   },
   "file_extension": ".py",
   "mimetype": "text/x-python",
   "name": "python",
   "nbconvert_exporter": "python",
   "pygments_lexer": "ipython3",
   "version": "3.7.2"
  }
 },
 "nbformat": 4,
 "nbformat_minor": 2
}
