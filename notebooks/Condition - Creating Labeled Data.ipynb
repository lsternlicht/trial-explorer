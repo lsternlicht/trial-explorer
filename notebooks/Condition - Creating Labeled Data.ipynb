{
 "cells": [
  {
   "cell_type": "code",
   "execution_count": 184,
   "metadata": {},
   "outputs": [],
   "source": [
    "import pandas as pd\n",
    "import numpy as np\n",
    "\n",
    "import datetime as dt\n",
    "import pickle\n",
    "from importlib import reload\n",
    "\n",
    "from fuzzywuzzy import fuzz\n",
    "from fuzzywuzzy import process\n",
    "\n",
    "from tqdm import tqdm_notebook as tqdm\n",
    "from tqdm import tqdm as tqdm_pandas\n",
    "\n",
    "import pdaactconn as pc\n",
    "from trialexplorer import AACTStudySet\n",
    "from trialexplorer import studysimilarity as ssim\n",
    "\n",
    "import matplotlib.pyplot as plt\n",
    "%matplotlib inline"
   ]
  },
  {
   "cell_type": "code",
   "execution_count": 185,
   "metadata": {},
   "outputs": [],
   "source": [
    "tqdm_pandas.pandas()"
   ]
  },
  {
   "cell_type": "code",
   "execution_count": 2,
   "metadata": {},
   "outputs": [],
   "source": [
    "## let's load bing's data and make sure we have only values that have data\n",
    "bd = pickle.load(open('raw_data/all_bing.p', 'rb'))\n",
    "new_bd = {}\n",
    "for k, v in bd.items():\n",
    "    if not ssim.has_no_data(v):\n",
    "        new_bd[k] = v\n",
    "bd = new_bd"
   ]
  },
  {
   "cell_type": "code",
   "execution_count": 21,
   "metadata": {},
   "outputs": [],
   "source": [
    "all_conds = pd.Series(list(bd.keys()))"
   ]
  },
  {
   "cell_type": "code",
   "execution_count": 22,
   "metadata": {},
   "outputs": [
    {
     "data": {
      "text/plain": [
       "0                                               Healthy\n",
       "1                                         Breast Cancer\n",
       "2                                               Obesity\n",
       "3                                        HIV Infections\n",
       "4                                          Hypertension\n",
       "                              ...                      \n",
       "34157                              Tumor of the Thyroid\n",
       "34158    Trochanteric and Subtrochanteric Hip Fractures\n",
       "34159                                   Tumors (Others)\n",
       "34160       Tumor, Desmoplastic Small Round Cell, Adult\n",
       "34161    Tumor Appearance of Biliary System Obstruction\n",
       "Length: 34162, dtype: object"
      ]
     },
     "execution_count": 22,
     "metadata": {},
     "output_type": "execute_result"
    }
   ],
   "source": [
    "all_conds"
   ]
  },
  {
   "cell_type": "code",
   "execution_count": 114,
   "metadata": {},
   "outputs": [],
   "source": [
    "SAME = 'same'\n",
    "NOTSAME = 'notsame'\n",
    "SAME_DIFF_QUAL = 'same_diff_qual'"
   ]
  },
  {
   "cell_type": "code",
   "execution_count": 121,
   "metadata": {},
   "outputs": [],
   "source": [
    "master_list = []"
   ]
  },
  {
   "cell_type": "code",
   "execution_count": 117,
   "metadata": {},
   "outputs": [],
   "source": [
    "def grp2train(df_in):\n",
    "    grp_dict = df_in['grp'].to_dict()\n",
    "    all_labels = []\n",
    "    for a in df_in.index:\n",
    "        for b in df_in.index:\n",
    "            if a != b:\n",
    "                d1, s1 = ssim.digstr2parts(grp_dict[a])\n",
    "                d2, s2 = ssim.digstr2parts(grp_dict[b])\n",
    "                if d1 == d2 and s1 == s2:\n",
    "                    cur_label = SAME\n",
    "                elif d1 == d2:\n",
    "                    cur_label = SAME_DIFF_QUAL\n",
    "                else:\n",
    "                    cur_label = NOTSAME\n",
    "                \n",
    "                all_labels.append({\n",
    "                    'cond1': a,\n",
    "                    'cond2': b,\n",
    "                    'label': cur_label\n",
    "                })\n",
    "    return pd.DataFrame(all_labels)"
   ]
  },
  {
   "cell_type": "markdown",
   "metadata": {},
   "source": [
    "### Parkinsons"
   ]
  },
  {
   "cell_type": "code",
   "execution_count": 125,
   "metadata": {},
   "outputs": [
    {
     "data": {
      "text/plain": [
       "{'condition': 'metastatic breast carcinoma',\n",
       " 'nouns': 'breast carcinoma',\n",
       " 'bing_tokens': {'breast': 13, 'cancer': 12},\n",
       " 'bing_links': ['https://www.breastcancer.org/symptoms/types/recur_metast',\n",
       "  'https://www.healthline.com/health/breast-cancer/metastatic-prognosis',\n",
       "  'https://ww5.komen.org/BreastCancer/RecommendedTreatmentsforMetastaticBreastCancer.html',\n",
       "  'https://www.verywell.com/stage-1-breast-cancer-429888',\n",
       "  'https://www.nationalbreastcancer.org/metastatic-breast-cancer',\n",
       "  'https://www.medpagetoday.com/hematologyoncology/breastcancer/83625',\n",
       "  'https://www.forbes.com/sites/danadovey/2019/11/29/japan-approves-genetic-testing-for-breast-cancer-treatment/',\n",
       "  'https://www.nature.com/articles/s41598-019-54471-w',\n",
       "  'https://www.webmd.com/breast-cancer/treatments-metastatic-breast-cancer',\n",
       "  'https://ww5.komen.org/BreastCancer/MetastaticBreastCancerIntroduction.html',\n",
       "  'https://www.healthline.com/health/breast-cancer/treatment-breakthroughs-2019',\n",
       "  'https://www.medicalnewstoday.com/articles/323824.php'],\n",
       " 'bing_wiki': ['Metastatic breast cancer - Wikipedia'],\n",
       " 'stages': None,\n",
       " 'adj_and_verbs': (['metastatic'], [])}"
      ]
     },
     "execution_count": 125,
     "metadata": {},
     "output_type": "execute_result"
    }
   ],
   "source": [
    "cur_cond = \"Metastatic Breast Carcinoma\"\n",
    "ssim.featurize_one_cond(cur_cond, bd)"
   ]
  },
  {
   "cell_type": "code",
   "execution_count": 99,
   "metadata": {},
   "outputs": [],
   "source": [
    "s_park = [x for x in all_conds if 'parkin' in x.lower()]\n",
    "pd.DataFrame(s_park).to_excel('training_data/p1.xls')"
   ]
  },
  {
   "cell_type": "code",
   "execution_count": 116,
   "metadata": {},
   "outputs": [
    {
     "data": {
      "text/html": [
       "<div>\n",
       "<style scoped>\n",
       "    .dataframe tbody tr th:only-of-type {\n",
       "        vertical-align: middle;\n",
       "    }\n",
       "\n",
       "    .dataframe tbody tr th {\n",
       "        vertical-align: top;\n",
       "    }\n",
       "\n",
       "    .dataframe thead th {\n",
       "        text-align: right;\n",
       "    }\n",
       "</style>\n",
       "<table border=\"1\" class=\"dataframe\">\n",
       "  <thead>\n",
       "    <tr style=\"text-align: right;\">\n",
       "      <th></th>\n",
       "      <th>grp</th>\n",
       "    </tr>\n",
       "    <tr>\n",
       "      <th>cond</th>\n",
       "      <th></th>\n",
       "    </tr>\n",
       "  </thead>\n",
       "  <tbody>\n",
       "    <tr>\n",
       "      <td>Parkinson's Disease</td>\n",
       "      <td>1a</td>\n",
       "    </tr>\n",
       "    <tr>\n",
       "      <td>Parkinson Disease</td>\n",
       "      <td>1a</td>\n",
       "    </tr>\n",
       "    <tr>\n",
       "      <td>Idiopathic Parkinson's Disease</td>\n",
       "      <td>1b</td>\n",
       "    </tr>\n",
       "    <tr>\n",
       "      <td>Parkinson's Disease (PD)</td>\n",
       "      <td>1a</td>\n",
       "    </tr>\n",
       "    <tr>\n",
       "      <td>Parkinson</td>\n",
       "      <td>1a</td>\n",
       "    </tr>\n",
       "  </tbody>\n",
       "</table>\n",
       "</div>"
      ],
      "text/plain": [
       "                               grp\n",
       "cond                              \n",
       "Parkinson's Disease             1a\n",
       "Parkinson Disease               1a\n",
       "Idiopathic Parkinson's Disease  1b\n",
       "Parkinson's Disease (PD)        1a\n",
       "Parkinson                       1a"
      ]
     },
     "execution_count": 116,
     "metadata": {},
     "output_type": "execute_result"
    }
   ],
   "source": [
    "df_in = pd.read_excel('training_data/p1.xls', index_col='cond')\n",
    "df_in.head()"
   ]
  },
  {
   "cell_type": "code",
   "execution_count": 122,
   "metadata": {},
   "outputs": [
    {
     "data": {
      "text/plain": [
       "1"
      ]
     },
     "execution_count": 122,
     "metadata": {},
     "output_type": "execute_result"
    }
   ],
   "source": [
    "master_list.append(grp2train(df_in))\n",
    "len(master_list)"
   ]
  },
  {
   "cell_type": "markdown",
   "metadata": {},
   "source": [
    "### Breast Cancer"
   ]
  },
  {
   "cell_type": "code",
   "execution_count": 123,
   "metadata": {},
   "outputs": [],
   "source": [
    "s_bc = [x for x in all_conds if 'breast' in x.lower()]\n",
    "pd.DataFrame(s_bc).to_excel('training_data/p2.xls')"
   ]
  },
  {
   "cell_type": "code",
   "execution_count": 126,
   "metadata": {},
   "outputs": [
    {
     "data": {
      "text/html": [
       "<div>\n",
       "<style scoped>\n",
       "    .dataframe tbody tr th:only-of-type {\n",
       "        vertical-align: middle;\n",
       "    }\n",
       "\n",
       "    .dataframe tbody tr th {\n",
       "        vertical-align: top;\n",
       "    }\n",
       "\n",
       "    .dataframe thead th {\n",
       "        text-align: right;\n",
       "    }\n",
       "</style>\n",
       "<table border=\"1\" class=\"dataframe\">\n",
       "  <thead>\n",
       "    <tr style=\"text-align: right;\">\n",
       "      <th></th>\n",
       "      <th>grp</th>\n",
       "    </tr>\n",
       "    <tr>\n",
       "      <th>cond</th>\n",
       "      <th></th>\n",
       "    </tr>\n",
       "  </thead>\n",
       "  <tbody>\n",
       "    <tr>\n",
       "      <td>Breast Cancer</td>\n",
       "      <td>1a</td>\n",
       "    </tr>\n",
       "    <tr>\n",
       "      <td>Breast Neoplasms</td>\n",
       "      <td>1a</td>\n",
       "    </tr>\n",
       "    <tr>\n",
       "      <td>Metastatic Breast Cancer</td>\n",
       "      <td>1b</td>\n",
       "    </tr>\n",
       "    <tr>\n",
       "      <td>Stage IV Breast Cancer</td>\n",
       "      <td>1c</td>\n",
       "    </tr>\n",
       "    <tr>\n",
       "      <td>Triple Negative Breast Cancer</td>\n",
       "      <td>1d</td>\n",
       "    </tr>\n",
       "  </tbody>\n",
       "</table>\n",
       "</div>"
      ],
      "text/plain": [
       "                              grp\n",
       "cond                             \n",
       "Breast Cancer                  1a\n",
       "Breast Neoplasms               1a\n",
       "Metastatic Breast Cancer       1b\n",
       "Stage IV Breast Cancer         1c\n",
       "Triple Negative Breast Cancer  1d"
      ]
     },
     "execution_count": 126,
     "metadata": {},
     "output_type": "execute_result"
    }
   ],
   "source": [
    "df_in = pd.read_excel('training_data/p2.xls', index_col='cond')\n",
    "df_in.head()"
   ]
  },
  {
   "cell_type": "code",
   "execution_count": 127,
   "metadata": {},
   "outputs": [
    {
     "data": {
      "text/plain": [
       "2"
      ]
     },
     "execution_count": 127,
     "metadata": {},
     "output_type": "execute_result"
    }
   ],
   "source": [
    "master_list.append(grp2train(df_in))\n",
    "len(master_list)"
   ]
  },
  {
   "cell_type": "markdown",
   "metadata": {},
   "source": [
    "# HIV"
   ]
  },
  {
   "cell_type": "code",
   "execution_count": 132,
   "metadata": {},
   "outputs": [],
   "source": [
    "s_hiv = [x for x in all_conds if 'hiv' in x.lower()]\n",
    "pd.DataFrame(s_hiv).to_excel('training_data/p3.xls')"
   ]
  },
  {
   "cell_type": "code",
   "execution_count": 135,
   "metadata": {},
   "outputs": [
    {
     "data": {
      "text/html": [
       "<div>\n",
       "<style scoped>\n",
       "    .dataframe tbody tr th:only-of-type {\n",
       "        vertical-align: middle;\n",
       "    }\n",
       "\n",
       "    .dataframe tbody tr th {\n",
       "        vertical-align: top;\n",
       "    }\n",
       "\n",
       "    .dataframe thead th {\n",
       "        text-align: right;\n",
       "    }\n",
       "</style>\n",
       "<table border=\"1\" class=\"dataframe\">\n",
       "  <thead>\n",
       "    <tr style=\"text-align: right;\">\n",
       "      <th></th>\n",
       "      <th>grp</th>\n",
       "    </tr>\n",
       "    <tr>\n",
       "      <th>cond</th>\n",
       "      <th></th>\n",
       "    </tr>\n",
       "  </thead>\n",
       "  <tbody>\n",
       "    <tr>\n",
       "      <td>- HIV</td>\n",
       "      <td>1a</td>\n",
       "    </tr>\n",
       "    <tr>\n",
       "      <td>Acute HIV Infection</td>\n",
       "      <td>1b</td>\n",
       "    </tr>\n",
       "    <tr>\n",
       "      <td>AIDS/HIV PROBLEM</td>\n",
       "      <td>1a</td>\n",
       "    </tr>\n",
       "    <tr>\n",
       "      <td>Aids/Hiv Problem</td>\n",
       "      <td>1a</td>\n",
       "    </tr>\n",
       "    <tr>\n",
       "      <td>Antiretroviral Therapy in HIV-1 Infected Children</td>\n",
       "      <td>2a</td>\n",
       "    </tr>\n",
       "  </tbody>\n",
       "</table>\n",
       "</div>"
      ],
      "text/plain": [
       "                                                  grp\n",
       "cond                                                 \n",
       "- HIV                                              1a\n",
       "Acute HIV Infection                                1b\n",
       "AIDS/HIV PROBLEM                                   1a\n",
       "Aids/Hiv Problem                                   1a\n",
       "Antiretroviral Therapy in HIV-1 Infected Children  2a"
      ]
     },
     "execution_count": 135,
     "metadata": {},
     "output_type": "execute_result"
    }
   ],
   "source": [
    "df_in = pd.read_excel('training_data/p3.xls', index_col='cond')\n",
    "df_in.head()"
   ]
  },
  {
   "cell_type": "code",
   "execution_count": 136,
   "metadata": {},
   "outputs": [
    {
     "data": {
      "text/plain": [
       "3"
      ]
     },
     "execution_count": 136,
     "metadata": {},
     "output_type": "execute_result"
    }
   ],
   "source": [
    "master_list.append(grp2train(df_in))\n",
    "len(master_list)"
   ]
  },
  {
   "cell_type": "markdown",
   "metadata": {},
   "source": [
    "# Colon"
   ]
  },
  {
   "cell_type": "code",
   "execution_count": 138,
   "metadata": {},
   "outputs": [],
   "source": [
    "s_colon = [x for x in all_conds if 'colon' in x.lower()]\n",
    "pd.DataFrame(s_colon).to_excel('training_data/p4.xls')"
   ]
  },
  {
   "cell_type": "code",
   "execution_count": 139,
   "metadata": {},
   "outputs": [
    {
     "data": {
      "text/html": [
       "<div>\n",
       "<style scoped>\n",
       "    .dataframe tbody tr th:only-of-type {\n",
       "        vertical-align: middle;\n",
       "    }\n",
       "\n",
       "    .dataframe tbody tr th {\n",
       "        vertical-align: top;\n",
       "    }\n",
       "\n",
       "    .dataframe thead th {\n",
       "        text-align: right;\n",
       "    }\n",
       "</style>\n",
       "<table border=\"1\" class=\"dataframe\">\n",
       "  <thead>\n",
       "    <tr style=\"text-align: right;\">\n",
       "      <th></th>\n",
       "      <th>grp</th>\n",
       "    </tr>\n",
       "    <tr>\n",
       "      <th>cond</th>\n",
       "      <th></th>\n",
       "    </tr>\n",
       "  </thead>\n",
       "  <tbody>\n",
       "    <tr>\n",
       "      <td>Cancer Colon</td>\n",
       "      <td>1a</td>\n",
       "    </tr>\n",
       "    <tr>\n",
       "      <td>Cancer of Colon</td>\n",
       "      <td>1a</td>\n",
       "    </tr>\n",
       "    <tr>\n",
       "      <td>Cancer of the Colon</td>\n",
       "      <td>1a</td>\n",
       "    </tr>\n",
       "    <tr>\n",
       "      <td>Colon Cancer</td>\n",
       "      <td>1a</td>\n",
       "    </tr>\n",
       "    <tr>\n",
       "      <td>Colon Cancer Prevention</td>\n",
       "      <td>1a</td>\n",
       "    </tr>\n",
       "  </tbody>\n",
       "</table>\n",
       "</div>"
      ],
      "text/plain": [
       "                        grp\n",
       "cond                       \n",
       "Cancer Colon             1a\n",
       "Cancer of Colon          1a\n",
       "Cancer of the Colon      1a\n",
       "Colon Cancer             1a\n",
       "Colon Cancer Prevention  1a"
      ]
     },
     "execution_count": 139,
     "metadata": {},
     "output_type": "execute_result"
    }
   ],
   "source": [
    "df_in = pd.read_excel('training_data/p4.xls', index_col='cond')\n",
    "df_in.head()"
   ]
  },
  {
   "cell_type": "code",
   "execution_count": 140,
   "metadata": {},
   "outputs": [
    {
     "data": {
      "text/plain": [
       "4"
      ]
     },
     "execution_count": 140,
     "metadata": {},
     "output_type": "execute_result"
    }
   ],
   "source": [
    "master_list.append(grp2train(df_in))\n",
    "len(master_list)"
   ]
  },
  {
   "cell_type": "markdown",
   "metadata": {},
   "source": [
    "# Genotype"
   ]
  },
  {
   "cell_type": "code",
   "execution_count": 143,
   "metadata": {},
   "outputs": [],
   "source": [
    "s_genotype = [x for x in all_conds if 'genotype' in x.lower()]\n",
    "pd.DataFrame(s_genotype).to_excel('training_data/p5.xls')"
   ]
  },
  {
   "cell_type": "code",
   "execution_count": 144,
   "metadata": {},
   "outputs": [
    {
     "data": {
      "text/html": [
       "<div>\n",
       "<style scoped>\n",
       "    .dataframe tbody tr th:only-of-type {\n",
       "        vertical-align: middle;\n",
       "    }\n",
       "\n",
       "    .dataframe tbody tr th {\n",
       "        vertical-align: top;\n",
       "    }\n",
       "\n",
       "    .dataframe thead th {\n",
       "        text-align: right;\n",
       "    }\n",
       "</style>\n",
       "<table border=\"1\" class=\"dataframe\">\n",
       "  <thead>\n",
       "    <tr style=\"text-align: right;\">\n",
       "      <th></th>\n",
       "      <th>grp</th>\n",
       "    </tr>\n",
       "    <tr>\n",
       "      <th>cond</th>\n",
       "      <th></th>\n",
       "    </tr>\n",
       "  </thead>\n",
       "  <tbody>\n",
       "    <tr>\n",
       "      <td>Carboxylesterase 1 (CES1) Genotype</td>\n",
       "      <td>1a</td>\n",
       "    </tr>\n",
       "    <tr>\n",
       "      <td>Chronic Genotype 1 Hepatitis C Virus Infection</td>\n",
       "      <td>2a</td>\n",
       "    </tr>\n",
       "    <tr>\n",
       "      <td>Chronic Hepatics C Virus (HCV) Genotype 1</td>\n",
       "      <td>2a</td>\n",
       "    </tr>\n",
       "    <tr>\n",
       "      <td>Chronic Hepatitis C Genotype 1</td>\n",
       "      <td>2a</td>\n",
       "    </tr>\n",
       "    <tr>\n",
       "      <td>Chronic Hepatitis C Genotype 1B</td>\n",
       "      <td>2b</td>\n",
       "    </tr>\n",
       "  </tbody>\n",
       "</table>\n",
       "</div>"
      ],
      "text/plain": [
       "                                               grp\n",
       "cond                                              \n",
       "Carboxylesterase 1 (CES1) Genotype              1a\n",
       "Chronic Genotype 1 Hepatitis C Virus Infection  2a\n",
       "Chronic Hepatics C Virus (HCV) Genotype 1       2a\n",
       "Chronic Hepatitis C Genotype 1                  2a\n",
       "Chronic Hepatitis C Genotype 1B                 2b"
      ]
     },
     "execution_count": 144,
     "metadata": {},
     "output_type": "execute_result"
    }
   ],
   "source": [
    "df_in = pd.read_excel('training_data/p5.xls', index_col='cond')\n",
    "df_in.head()"
   ]
  },
  {
   "cell_type": "code",
   "execution_count": 145,
   "metadata": {},
   "outputs": [
    {
     "data": {
      "text/plain": [
       "5"
      ]
     },
     "execution_count": 145,
     "metadata": {},
     "output_type": "execute_result"
    }
   ],
   "source": [
    "master_list.append(grp2train(df_in))\n",
    "len(master_list)"
   ]
  },
  {
   "cell_type": "markdown",
   "metadata": {},
   "source": [
    "# Grade"
   ]
  },
  {
   "cell_type": "code",
   "execution_count": 147,
   "metadata": {},
   "outputs": [],
   "source": [
    "s_grade = [x for x in all_conds if 'grade' in x.lower()]\n",
    "pd.DataFrame(s_grade).to_excel('training_data/p6.xls')"
   ]
  },
  {
   "cell_type": "code",
   "execution_count": 148,
   "metadata": {},
   "outputs": [
    {
     "data": {
      "text/html": [
       "<div>\n",
       "<style scoped>\n",
       "    .dataframe tbody tr th:only-of-type {\n",
       "        vertical-align: middle;\n",
       "    }\n",
       "\n",
       "    .dataframe tbody tr th {\n",
       "        vertical-align: top;\n",
       "    }\n",
       "\n",
       "    .dataframe thead th {\n",
       "        text-align: right;\n",
       "    }\n",
       "</style>\n",
       "<table border=\"1\" class=\"dataframe\">\n",
       "  <thead>\n",
       "    <tr style=\"text-align: right;\">\n",
       "      <th></th>\n",
       "      <th>grp</th>\n",
       "    </tr>\n",
       "    <tr>\n",
       "      <th>cond</th>\n",
       "      <th></th>\n",
       "    </tr>\n",
       "  </thead>\n",
       "  <tbody>\n",
       "    <tr>\n",
       "      <td>Lymphoma, Low-Grade</td>\n",
       "      <td>1a</td>\n",
       "    </tr>\n",
       "    <tr>\n",
       "      <td>Lymphoma, Intermediate-Grade</td>\n",
       "      <td>1b</td>\n",
       "    </tr>\n",
       "    <tr>\n",
       "      <td>Lymphoma, High-Grade</td>\n",
       "      <td>1c</td>\n",
       "    </tr>\n",
       "    <tr>\n",
       "      <td>Low Grade Lymphoma</td>\n",
       "      <td>1a</td>\n",
       "    </tr>\n",
       "    <tr>\n",
       "      <td>Low-Grade Lymphoma</td>\n",
       "      <td>1a</td>\n",
       "    </tr>\n",
       "  </tbody>\n",
       "</table>\n",
       "</div>"
      ],
      "text/plain": [
       "                             grp\n",
       "cond                            \n",
       "Lymphoma, Low-Grade           1a\n",
       "Lymphoma, Intermediate-Grade  1b\n",
       "Lymphoma, High-Grade          1c\n",
       "Low Grade Lymphoma            1a\n",
       "Low-Grade Lymphoma            1a"
      ]
     },
     "execution_count": 148,
     "metadata": {},
     "output_type": "execute_result"
    }
   ],
   "source": [
    "df_in = pd.read_excel('training_data/p6.xls', index_col='cond')\n",
    "df_in.head()"
   ]
  },
  {
   "cell_type": "code",
   "execution_count": 149,
   "metadata": {},
   "outputs": [
    {
     "data": {
      "text/plain": [
       "6"
      ]
     },
     "execution_count": 149,
     "metadata": {},
     "output_type": "execute_result"
    }
   ],
   "source": [
    "master_list.append(grp2train(df_in))\n",
    "len(master_list)"
   ]
  },
  {
   "cell_type": "markdown",
   "metadata": {},
   "source": [
    "# Cardio"
   ]
  },
  {
   "cell_type": "code",
   "execution_count": 154,
   "metadata": {},
   "outputs": [],
   "source": [
    "s_card = [x for x in all_conds if 'cardio' in x.lower()]\n",
    "pd.DataFrame(s_card).to_excel('training_data/p7.xls')"
   ]
  },
  {
   "cell_type": "code",
   "execution_count": 155,
   "metadata": {},
   "outputs": [
    {
     "data": {
      "text/html": [
       "<div>\n",
       "<style scoped>\n",
       "    .dataframe tbody tr th:only-of-type {\n",
       "        vertical-align: middle;\n",
       "    }\n",
       "\n",
       "    .dataframe tbody tr th {\n",
       "        vertical-align: top;\n",
       "    }\n",
       "\n",
       "    .dataframe thead th {\n",
       "        text-align: right;\n",
       "    }\n",
       "</style>\n",
       "<table border=\"1\" class=\"dataframe\">\n",
       "  <thead>\n",
       "    <tr style=\"text-align: right;\">\n",
       "      <th></th>\n",
       "      <th>grp</th>\n",
       "    </tr>\n",
       "    <tr>\n",
       "      <th>cond</th>\n",
       "      <th></th>\n",
       "    </tr>\n",
       "  </thead>\n",
       "  <tbody>\n",
       "    <tr>\n",
       "      <td>Cardiomyopathy</td>\n",
       "      <td>1a</td>\n",
       "    </tr>\n",
       "    <tr>\n",
       "      <td>Cardiomyopathy, Dilated</td>\n",
       "      <td>1b</td>\n",
       "    </tr>\n",
       "    <tr>\n",
       "      <td>Dilated Cardiomyopathy</td>\n",
       "      <td>1b</td>\n",
       "    </tr>\n",
       "    <tr>\n",
       "      <td>Ischemic Cardiomyopathy</td>\n",
       "      <td>1c</td>\n",
       "    </tr>\n",
       "    <tr>\n",
       "      <td>Cardiomyopathy Ischemic</td>\n",
       "      <td>1c</td>\n",
       "    </tr>\n",
       "  </tbody>\n",
       "</table>\n",
       "</div>"
      ],
      "text/plain": [
       "                        grp\n",
       "cond                       \n",
       "Cardiomyopathy           1a\n",
       "Cardiomyopathy, Dilated  1b\n",
       "Dilated Cardiomyopathy   1b\n",
       "Ischemic Cardiomyopathy  1c\n",
       "Cardiomyopathy Ischemic  1c"
      ]
     },
     "execution_count": 155,
     "metadata": {},
     "output_type": "execute_result"
    }
   ],
   "source": [
    "df_in = pd.read_excel('training_data/p7.xls', index_col='cond')\n",
    "df_in.head()"
   ]
  },
  {
   "cell_type": "code",
   "execution_count": 156,
   "metadata": {},
   "outputs": [
    {
     "data": {
      "text/plain": [
       "7"
      ]
     },
     "execution_count": 156,
     "metadata": {},
     "output_type": "execute_result"
    }
   ],
   "source": [
    "master_list.append(grp2train(df_in))\n",
    "len(master_list)"
   ]
  },
  {
   "cell_type": "code",
   "execution_count": 161,
   "metadata": {},
   "outputs": [],
   "source": [
    "### random entries"
   ]
  },
  {
   "cell_type": "code",
   "execution_count": 162,
   "metadata": {},
   "outputs": [
    {
     "data": {
      "text/plain": [
       "33700"
      ]
     },
     "execution_count": 162,
     "metadata": {},
     "output_type": "execute_result"
    }
   ],
   "source": [
    "100000 - 66300"
   ]
  },
  {
   "cell_type": "code",
   "execution_count": 168,
   "metadata": {},
   "outputs": [
    {
     "data": {
      "application/vnd.jupyter.widget-view+json": {
       "model_id": "d6bc6041149a494cb70507ed29ba7241",
       "version_major": 2,
       "version_minor": 0
      },
      "text/plain": [
       "HBox(children=(IntProgress(value=0, max=40000), HTML(value='')))"
      ]
     },
     "metadata": {},
     "output_type": "display_data"
    },
    {
     "name": "stdout",
     "output_type": "stream",
     "text": [
      "\n"
     ]
    }
   ],
   "source": [
    "filler_list = []\n",
    "for i in tqdm(range(40000)):\n",
    "    a = np.random.choice(all_conds)\n",
    "    b = np.random.choice(all_conds)\n",
    "    if fuzz.ratio(a, b) < 50:\n",
    "        filler_list.append({\n",
    "            'cond1': a,\n",
    "            'cond2': b,\n",
    "            'label': NOTSAME\n",
    "        })"
   ]
  },
  {
   "cell_type": "code",
   "execution_count": 170,
   "metadata": {},
   "outputs": [],
   "source": [
    "df_filler = pd.DataFrame(filler_list)\n",
    "df_filler.to_excel('training_data/filler.xls')"
   ]
  },
  {
   "cell_type": "code",
   "execution_count": 171,
   "metadata": {},
   "outputs": [
    {
     "data": {
      "text/plain": [
       "(39731, 3)"
      ]
     },
     "execution_count": 171,
     "metadata": {},
     "output_type": "execute_result"
    }
   ],
   "source": [
    "df_filler.shape"
   ]
  },
  {
   "cell_type": "code",
   "execution_count": 172,
   "metadata": {},
   "outputs": [],
   "source": [
    "master_list.append(df_filler)"
   ]
  },
  {
   "cell_type": "markdown",
   "metadata": {},
   "source": [
    "# final blend"
   ]
  },
  {
   "cell_type": "code",
   "execution_count": 173,
   "metadata": {},
   "outputs": [
    {
     "data": {
      "text/plain": [
       "(106031, 3)"
      ]
     },
     "execution_count": 173,
     "metadata": {},
     "output_type": "execute_result"
    }
   ],
   "source": [
    "df_final = pd.concat(master_list)\n",
    "df_final.shape"
   ]
  },
  {
   "cell_type": "code",
   "execution_count": 176,
   "metadata": {},
   "outputs": [
    {
     "data": {
      "text/html": [
       "<div>\n",
       "<style scoped>\n",
       "    .dataframe tbody tr th:only-of-type {\n",
       "        vertical-align: middle;\n",
       "    }\n",
       "\n",
       "    .dataframe tbody tr th {\n",
       "        vertical-align: top;\n",
       "    }\n",
       "\n",
       "    .dataframe thead th {\n",
       "        text-align: right;\n",
       "    }\n",
       "</style>\n",
       "<table border=\"1\" class=\"dataframe\">\n",
       "  <thead>\n",
       "    <tr style=\"text-align: right;\">\n",
       "      <th></th>\n",
       "      <th>cond1</th>\n",
       "      <th>cond2</th>\n",
       "      <th>label</th>\n",
       "    </tr>\n",
       "  </thead>\n",
       "  <tbody>\n",
       "    <tr>\n",
       "      <td>0</td>\n",
       "      <td>Parkinson's Disease</td>\n",
       "      <td>Parkinson Disease</td>\n",
       "      <td>same</td>\n",
       "    </tr>\n",
       "    <tr>\n",
       "      <td>1</td>\n",
       "      <td>Parkinson's Disease</td>\n",
       "      <td>Idiopathic Parkinson's Disease</td>\n",
       "      <td>same_diff_qual</td>\n",
       "    </tr>\n",
       "    <tr>\n",
       "      <td>2</td>\n",
       "      <td>Parkinson's Disease</td>\n",
       "      <td>Parkinson's Disease (PD)</td>\n",
       "      <td>same</td>\n",
       "    </tr>\n",
       "    <tr>\n",
       "      <td>3</td>\n",
       "      <td>Parkinson's Disease</td>\n",
       "      <td>Parkinson</td>\n",
       "      <td>same</td>\n",
       "    </tr>\n",
       "    <tr>\n",
       "      <td>4</td>\n",
       "      <td>Parkinson's Disease</td>\n",
       "      <td>Idiopathic Parkinson Disease</td>\n",
       "      <td>same_diff_qual</td>\n",
       "    </tr>\n",
       "    <tr>\n",
       "      <td>...</td>\n",
       "      <td>...</td>\n",
       "      <td>...</td>\n",
       "      <td>...</td>\n",
       "    </tr>\n",
       "    <tr>\n",
       "      <td>39726</td>\n",
       "      <td>Excess Weight</td>\n",
       "      <td>Congenital Malformations</td>\n",
       "      <td>notsame</td>\n",
       "    </tr>\n",
       "    <tr>\n",
       "      <td>39727</td>\n",
       "      <td>Reaction of Autonomic Nervous System</td>\n",
       "      <td>Elderly Patients (&gt;65 Years)</td>\n",
       "      <td>notsame</td>\n",
       "    </tr>\n",
       "    <tr>\n",
       "      <td>39728</td>\n",
       "      <td>Stage IVC Rectal Cancer AJCC v8</td>\n",
       "      <td>Colistin Resistant ABC</td>\n",
       "      <td>notsame</td>\n",
       "    </tr>\n",
       "    <tr>\n",
       "      <td>39729</td>\n",
       "      <td>Prostate Specific Antigen</td>\n",
       "      <td>Anesthesia and Analgesia</td>\n",
       "      <td>notsame</td>\n",
       "    </tr>\n",
       "    <tr>\n",
       "      <td>39730</td>\n",
       "      <td>Geriatric Hip Fracture Pain Management</td>\n",
       "      <td>Health Service for the Aged</td>\n",
       "      <td>notsame</td>\n",
       "    </tr>\n",
       "  </tbody>\n",
       "</table>\n",
       "<p>106031 rows × 3 columns</p>\n",
       "</div>"
      ],
      "text/plain": [
       "                                        cond1                           cond2  \\\n",
       "0                         Parkinson's Disease               Parkinson Disease   \n",
       "1                         Parkinson's Disease  Idiopathic Parkinson's Disease   \n",
       "2                         Parkinson's Disease        Parkinson's Disease (PD)   \n",
       "3                         Parkinson's Disease                       Parkinson   \n",
       "4                         Parkinson's Disease    Idiopathic Parkinson Disease   \n",
       "...                                       ...                             ...   \n",
       "39726                           Excess Weight        Congenital Malformations   \n",
       "39727    Reaction of Autonomic Nervous System    Elderly Patients (>65 Years)   \n",
       "39728         Stage IVC Rectal Cancer AJCC v8          Colistin Resistant ABC   \n",
       "39729               Prostate Specific Antigen        Anesthesia and Analgesia   \n",
       "39730  Geriatric Hip Fracture Pain Management     Health Service for the Aged   \n",
       "\n",
       "                label  \n",
       "0                same  \n",
       "1      same_diff_qual  \n",
       "2                same  \n",
       "3                same  \n",
       "4      same_diff_qual  \n",
       "...               ...  \n",
       "39726         notsame  \n",
       "39727         notsame  \n",
       "39728         notsame  \n",
       "39729         notsame  \n",
       "39730         notsame  \n",
       "\n",
       "[106031 rows x 3 columns]"
      ]
     },
     "execution_count": 176,
     "metadata": {},
     "output_type": "execute_result"
    }
   ],
   "source": [
    "df_final"
   ]
  },
  {
   "cell_type": "markdown",
   "metadata": {},
   "source": [
    "# Featurizing"
   ]
  },
  {
   "cell_type": "code",
   "execution_count": 179,
   "metadata": {},
   "outputs": [],
   "source": [
    "def featurize(row):\n",
    "    return ssim.featurize_cond_full(row['cond1'], row['cond2'], bd)"
   ]
  },
  {
   "cell_type": "code",
   "execution_count": 188,
   "metadata": {},
   "outputs": [
    {
     "name": "stderr",
     "output_type": "stream",
     "text": [
      "100%|██████████| 106031/106031 [05:37<00:00, 314.12it/s]\n"
     ]
    }
   ],
   "source": [
    "feature_res = df_final.progress_apply(featurize, axis=1)"
   ]
  },
  {
   "cell_type": "code",
   "execution_count": 193,
   "metadata": {},
   "outputs": [
    {
     "name": "stderr",
     "output_type": "stream",
     "text": [
      "100%|██████████| 106031/106031 [00:27<00:00, 3895.55it/s]\n"
     ]
    }
   ],
   "source": [
    "all_s = feature_res.progress_apply(pd.Series)"
   ]
  },
  {
   "cell_type": "code",
   "execution_count": 195,
   "metadata": {},
   "outputs": [],
   "source": [
    "df_final[[x for x in all_s.columns]] = all_s"
   ]
  },
  {
   "cell_type": "code",
   "execution_count": 196,
   "metadata": {},
   "outputs": [
    {
     "data": {
      "text/html": [
       "<div>\n",
       "<style scoped>\n",
       "    .dataframe tbody tr th:only-of-type {\n",
       "        vertical-align: middle;\n",
       "    }\n",
       "\n",
       "    .dataframe tbody tr th {\n",
       "        vertical-align: top;\n",
       "    }\n",
       "\n",
       "    .dataframe thead th {\n",
       "        text-align: right;\n",
       "    }\n",
       "</style>\n",
       "<table border=\"1\" class=\"dataframe\">\n",
       "  <thead>\n",
       "    <tr style=\"text-align: right;\">\n",
       "      <th></th>\n",
       "      <th>cond1</th>\n",
       "      <th>cond2</th>\n",
       "      <th>label</th>\n",
       "      <th>full_fuzzy_ratio</th>\n",
       "      <th>noun_fuzzy_ratio</th>\n",
       "      <th>bing_bagoword_dist</th>\n",
       "      <th>bing_link_sim</th>\n",
       "      <th>same_wiki</th>\n",
       "      <th>stage_dist</th>\n",
       "      <th>adj_dist</th>\n",
       "      <th>vb_dist</th>\n",
       "    </tr>\n",
       "  </thead>\n",
       "  <tbody>\n",
       "    <tr>\n",
       "      <td>0</td>\n",
       "      <td>Parkinson's Disease</td>\n",
       "      <td>Parkinson Disease</td>\n",
       "      <td>same</td>\n",
       "      <td>94.0</td>\n",
       "      <td>100.0</td>\n",
       "      <td>14.0</td>\n",
       "      <td>0.250000</td>\n",
       "      <td>1.0</td>\n",
       "      <td>0.0</td>\n",
       "      <td>0.0</td>\n",
       "      <td>0.0</td>\n",
       "    </tr>\n",
       "    <tr>\n",
       "      <td>1</td>\n",
       "      <td>Parkinson's Disease</td>\n",
       "      <td>Idiopathic Parkinson's Disease</td>\n",
       "      <td>same_diff_qual</td>\n",
       "      <td>78.0</td>\n",
       "      <td>100.0</td>\n",
       "      <td>12.0</td>\n",
       "      <td>0.080000</td>\n",
       "      <td>1.0</td>\n",
       "      <td>0.0</td>\n",
       "      <td>1.0</td>\n",
       "      <td>0.0</td>\n",
       "    </tr>\n",
       "    <tr>\n",
       "      <td>2</td>\n",
       "      <td>Parkinson's Disease</td>\n",
       "      <td>Parkinson's Disease (PD)</td>\n",
       "      <td>same</td>\n",
       "      <td>88.0</td>\n",
       "      <td>92.0</td>\n",
       "      <td>10.0</td>\n",
       "      <td>0.380952</td>\n",
       "      <td>1.0</td>\n",
       "      <td>0.0</td>\n",
       "      <td>0.0</td>\n",
       "      <td>0.0</td>\n",
       "    </tr>\n",
       "    <tr>\n",
       "      <td>3</td>\n",
       "      <td>Parkinson's Disease</td>\n",
       "      <td>Parkinson</td>\n",
       "      <td>same</td>\n",
       "      <td>64.0</td>\n",
       "      <td>69.0</td>\n",
       "      <td>2.0</td>\n",
       "      <td>0.142857</td>\n",
       "      <td>1.0</td>\n",
       "      <td>0.0</td>\n",
       "      <td>0.0</td>\n",
       "      <td>0.0</td>\n",
       "    </tr>\n",
       "    <tr>\n",
       "      <td>4</td>\n",
       "      <td>Parkinson's Disease</td>\n",
       "      <td>Idiopathic Parkinson Disease</td>\n",
       "      <td>same_diff_qual</td>\n",
       "      <td>72.0</td>\n",
       "      <td>100.0</td>\n",
       "      <td>18.0</td>\n",
       "      <td>0.080000</td>\n",
       "      <td>1.0</td>\n",
       "      <td>0.0</td>\n",
       "      <td>1.0</td>\n",
       "      <td>0.0</td>\n",
       "    </tr>\n",
       "    <tr>\n",
       "      <td>...</td>\n",
       "      <td>...</td>\n",
       "      <td>...</td>\n",
       "      <td>...</td>\n",
       "      <td>...</td>\n",
       "      <td>...</td>\n",
       "      <td>...</td>\n",
       "      <td>...</td>\n",
       "      <td>...</td>\n",
       "      <td>...</td>\n",
       "      <td>...</td>\n",
       "      <td>...</td>\n",
       "    </tr>\n",
       "    <tr>\n",
       "      <td>39726</td>\n",
       "      <td>Excess Weight</td>\n",
       "      <td>Congenital Malformations</td>\n",
       "      <td>notsame</td>\n",
       "      <td>22.0</td>\n",
       "      <td>11.0</td>\n",
       "      <td>50.0</td>\n",
       "      <td>0.000000</td>\n",
       "      <td>0.0</td>\n",
       "      <td>0.0</td>\n",
       "      <td>1.0</td>\n",
       "      <td>0.0</td>\n",
       "    </tr>\n",
       "    <tr>\n",
       "      <td>39727</td>\n",
       "      <td>Reaction of Autonomic Nervous System</td>\n",
       "      <td>Elderly Patients (&gt;65 Years)</td>\n",
       "      <td>notsame</td>\n",
       "      <td>31.0</td>\n",
       "      <td>48.0</td>\n",
       "      <td>50.0</td>\n",
       "      <td>0.000000</td>\n",
       "      <td>0.0</td>\n",
       "      <td>0.0</td>\n",
       "      <td>1.0</td>\n",
       "      <td>0.0</td>\n",
       "    </tr>\n",
       "    <tr>\n",
       "      <td>39728</td>\n",
       "      <td>Stage IVC Rectal Cancer AJCC v8</td>\n",
       "      <td>Colistin Resistant ABC</td>\n",
       "      <td>notsame</td>\n",
       "      <td>45.0</td>\n",
       "      <td>38.0</td>\n",
       "      <td>25.0</td>\n",
       "      <td>0.000000</td>\n",
       "      <td>0.0</td>\n",
       "      <td>10.0</td>\n",
       "      <td>1.0</td>\n",
       "      <td>0.0</td>\n",
       "    </tr>\n",
       "    <tr>\n",
       "      <td>39729</td>\n",
       "      <td>Prostate Specific Antigen</td>\n",
       "      <td>Anesthesia and Analgesia</td>\n",
       "      <td>notsame</td>\n",
       "      <td>41.0</td>\n",
       "      <td>44.0</td>\n",
       "      <td>25.0</td>\n",
       "      <td>0.000000</td>\n",
       "      <td>0.0</td>\n",
       "      <td>0.0</td>\n",
       "      <td>1.0</td>\n",
       "      <td>0.0</td>\n",
       "    </tr>\n",
       "    <tr>\n",
       "      <td>39730</td>\n",
       "      <td>Geriatric Hip Fracture Pain Management</td>\n",
       "      <td>Health Service for the Aged</td>\n",
       "      <td>notsame</td>\n",
       "      <td>46.0</td>\n",
       "      <td>38.0</td>\n",
       "      <td>46.0</td>\n",
       "      <td>0.000000</td>\n",
       "      <td>0.0</td>\n",
       "      <td>0.0</td>\n",
       "      <td>1.0</td>\n",
       "      <td>0.0</td>\n",
       "    </tr>\n",
       "  </tbody>\n",
       "</table>\n",
       "<p>106031 rows × 11 columns</p>\n",
       "</div>"
      ],
      "text/plain": [
       "                                        cond1                           cond2  \\\n",
       "0                         Parkinson's Disease               Parkinson Disease   \n",
       "1                         Parkinson's Disease  Idiopathic Parkinson's Disease   \n",
       "2                         Parkinson's Disease        Parkinson's Disease (PD)   \n",
       "3                         Parkinson's Disease                       Parkinson   \n",
       "4                         Parkinson's Disease    Idiopathic Parkinson Disease   \n",
       "...                                       ...                             ...   \n",
       "39726                           Excess Weight        Congenital Malformations   \n",
       "39727    Reaction of Autonomic Nervous System    Elderly Patients (>65 Years)   \n",
       "39728         Stage IVC Rectal Cancer AJCC v8          Colistin Resistant ABC   \n",
       "39729               Prostate Specific Antigen        Anesthesia and Analgesia   \n",
       "39730  Geriatric Hip Fracture Pain Management     Health Service for the Aged   \n",
       "\n",
       "                label  full_fuzzy_ratio  noun_fuzzy_ratio  bing_bagoword_dist  \\\n",
       "0                same              94.0             100.0                14.0   \n",
       "1      same_diff_qual              78.0             100.0                12.0   \n",
       "2                same              88.0              92.0                10.0   \n",
       "3                same              64.0              69.0                 2.0   \n",
       "4      same_diff_qual              72.0             100.0                18.0   \n",
       "...               ...               ...               ...                 ...   \n",
       "39726         notsame              22.0              11.0                50.0   \n",
       "39727         notsame              31.0              48.0                50.0   \n",
       "39728         notsame              45.0              38.0                25.0   \n",
       "39729         notsame              41.0              44.0                25.0   \n",
       "39730         notsame              46.0              38.0                46.0   \n",
       "\n",
       "       bing_link_sim  same_wiki  stage_dist  adj_dist  vb_dist  \n",
       "0           0.250000        1.0         0.0       0.0      0.0  \n",
       "1           0.080000        1.0         0.0       1.0      0.0  \n",
       "2           0.380952        1.0         0.0       0.0      0.0  \n",
       "3           0.142857        1.0         0.0       0.0      0.0  \n",
       "4           0.080000        1.0         0.0       1.0      0.0  \n",
       "...              ...        ...         ...       ...      ...  \n",
       "39726       0.000000        0.0         0.0       1.0      0.0  \n",
       "39727       0.000000        0.0         0.0       1.0      0.0  \n",
       "39728       0.000000        0.0        10.0       1.0      0.0  \n",
       "39729       0.000000        0.0         0.0       1.0      0.0  \n",
       "39730       0.000000        0.0         0.0       1.0      0.0  \n",
       "\n",
       "[106031 rows x 11 columns]"
      ]
     },
     "execution_count": 196,
     "metadata": {},
     "output_type": "execute_result"
    }
   ],
   "source": [
    "df_final"
   ]
  },
  {
   "cell_type": "code",
   "execution_count": 189,
   "metadata": {},
   "outputs": [
    {
     "data": {
      "text/html": [
       "<div>\n",
       "<style scoped>\n",
       "    .dataframe tbody tr th:only-of-type {\n",
       "        vertical-align: middle;\n",
       "    }\n",
       "\n",
       "    .dataframe tbody tr th {\n",
       "        vertical-align: top;\n",
       "    }\n",
       "\n",
       "    .dataframe thead th {\n",
       "        text-align: right;\n",
       "    }\n",
       "</style>\n",
       "<table border=\"1\" class=\"dataframe\">\n",
       "  <thead>\n",
       "    <tr style=\"text-align: right;\">\n",
       "      <th></th>\n",
       "      <th>cond1</th>\n",
       "      <th>cond2</th>\n",
       "      <th>label</th>\n",
       "    </tr>\n",
       "  </thead>\n",
       "  <tbody>\n",
       "    <tr>\n",
       "      <td>0</td>\n",
       "      <td>Parkinson's Disease</td>\n",
       "      <td>Parkinson Disease</td>\n",
       "      <td>same</td>\n",
       "    </tr>\n",
       "    <tr>\n",
       "      <td>1</td>\n",
       "      <td>Parkinson's Disease</td>\n",
       "      <td>Idiopathic Parkinson's Disease</td>\n",
       "      <td>same_diff_qual</td>\n",
       "    </tr>\n",
       "    <tr>\n",
       "      <td>2</td>\n",
       "      <td>Parkinson's Disease</td>\n",
       "      <td>Parkinson's Disease (PD)</td>\n",
       "      <td>same</td>\n",
       "    </tr>\n",
       "    <tr>\n",
       "      <td>3</td>\n",
       "      <td>Parkinson's Disease</td>\n",
       "      <td>Parkinson</td>\n",
       "      <td>same</td>\n",
       "    </tr>\n",
       "    <tr>\n",
       "      <td>4</td>\n",
       "      <td>Parkinson's Disease</td>\n",
       "      <td>Idiopathic Parkinson Disease</td>\n",
       "      <td>same_diff_qual</td>\n",
       "    </tr>\n",
       "  </tbody>\n",
       "</table>\n",
       "</div>"
      ],
      "text/plain": [
       "                 cond1                           cond2           label\n",
       "0  Parkinson's Disease               Parkinson Disease            same\n",
       "1  Parkinson's Disease  Idiopathic Parkinson's Disease  same_diff_qual\n",
       "2  Parkinson's Disease        Parkinson's Disease (PD)            same\n",
       "3  Parkinson's Disease                       Parkinson            same\n",
       "4  Parkinson's Disease    Idiopathic Parkinson Disease  same_diff_qual"
      ]
     },
     "execution_count": 189,
     "metadata": {},
     "output_type": "execute_result"
    }
   ],
   "source": [
    "df_final.head()"
   ]
  },
  {
   "cell_type": "code",
   "execution_count": 197,
   "metadata": {},
   "outputs": [],
   "source": [
    "df_final.to_pickle('training_data/all.p')"
   ]
  },
  {
   "cell_type": "code",
   "execution_count": null,
   "metadata": {},
   "outputs": [],
   "source": []
  }
 ],
 "metadata": {
  "kernelspec": {
   "display_name": "Python 3",
   "language": "python",
   "name": "python3"
  },
  "language_info": {
   "codemirror_mode": {
    "name": "ipython",
    "version": 3
   },
   "file_extension": ".py",
   "mimetype": "text/x-python",
   "name": "python",
   "nbconvert_exporter": "python",
   "pygments_lexer": "ipython3",
   "version": "3.6.9"
  }
 },
 "nbformat": 4,
 "nbformat_minor": 2
}
