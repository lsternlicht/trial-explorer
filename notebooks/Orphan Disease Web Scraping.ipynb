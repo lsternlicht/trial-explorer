{
 "cells": [
  {
   "cell_type": "code",
   "execution_count": 16,
   "metadata": {},
   "outputs": [],
   "source": [
    "import pandas as pd\n",
    "import requests\n",
    "import html5lib\n",
    "from bs4 import BeautifulSoup\n",
    "import urllib.request\n",
    "import string\n",
    "import re\n",
    "import random\n",
    "import time\n",
    "from collections import Counter\n",
    "\n",
    "from fuzzywuzzy import fuzz\n",
    "from fuzzywuzzy import process"
   ]
  },
  {
   "cell_type": "markdown",
   "metadata": {},
   "source": [
    "## NIH - List\n",
    "\n",
    "No stop words necessary"
   ]
  },
  {
   "cell_type": "code",
   "execution_count": 5,
   "metadata": {},
   "outputs": [],
   "source": [
    "url = u'https://rarediseases.info.nih.gov/diseases/fda-orphan-drugs/'"
   ]
  },
  {
   "cell_type": "code",
   "execution_count": 6,
   "metadata": {},
   "outputs": [
    {
     "data": {
      "text/plain": [
       "'ABCDEFGHIJKLMNOPQRSTUVWXYZ'"
      ]
     },
     "execution_count": 6,
     "metadata": {},
     "output_type": "execute_result"
    }
   ],
   "source": [
    "string.ascii_uppercase"
   ]
  },
  {
   "cell_type": "code",
   "execution_count": 7,
   "metadata": {},
   "outputs": [
    {
     "name": "stdout",
     "output_type": "stream",
     "text": [
      "processing A\n",
      "39 found ...\n",
      "processing B\n",
      "11 found ...\n",
      "processing C\n",
      "42 found ...\n",
      "processing D\n",
      "11 found ...\n",
      "processing E\n",
      "9 found ...\n",
      "processing F\n",
      "19 found ...\n",
      "processing G\n",
      "12 found ...\n",
      "processing H\n",
      "39 found ...\n",
      "processing I\n",
      "5 found ...\n",
      "processing J\n",
      "2 found ...\n",
      "processing K\n",
      "2 found ...\n",
      "processing L\n",
      "16 found ...\n",
      "processing M\n",
      "37 found ...\n",
      "processing N\n",
      "17 found ...\n",
      "processing O\n",
      "15 found ...\n",
      "processing P\n",
      "42 found ...\n",
      "processing Q\n",
      "0 found ...\n",
      "processing R\n",
      "5 found ...\n",
      "processing S\n",
      "20 found ...\n",
      "processing T\n",
      "18 found ...\n",
      "processing U\n",
      "2 found ...\n",
      "processing V\n",
      "4 found ...\n",
      "processing W\n",
      "3 found ...\n",
      "processing X\n",
      "1 found ...\n",
      "processing Y\n",
      "0 found ...\n",
      "processing Z\n",
      "1 found ...\n"
     ]
    }
   ],
   "source": [
    "all_orphans = []\n",
    "for ending in string.ascii_uppercase:\n",
    "    print(\"processing %s\" % ending)\n",
    "    cur_url = url + ending\n",
    "    r = requests.get(cur_url)\n",
    "    soup = BeautifulSoup(r.text, 'html5lib')\n",
    "    all_a = soup.find_all('a', attrs={\"class\": \"DiseaseClick\"})\n",
    "    print(\"%s found ...\" % len(all_a))\n",
    "    \n",
    "    for cur_a in all_a:\n",
    "        all_orphans.append(cur_a.text.lower().strip())\n",
    "        \n",
    "    time.sleep(random.uniform(1, 2))"
   ]
  },
  {
   "cell_type": "code",
   "execution_count": 8,
   "metadata": {},
   "outputs": [
    {
     "data": {
      "text/plain": [
       "372"
      ]
     },
     "execution_count": 8,
     "metadata": {},
     "output_type": "execute_result"
    }
   ],
   "source": [
    "len(all_orphans)"
   ]
  },
  {
   "cell_type": "markdown",
   "metadata": {},
   "source": [
    "## FDA - approved list\n",
    "\n",
    "here we need to figure out stopwords"
   ]
  },
  {
   "cell_type": "code",
   "execution_count": 2,
   "metadata": {},
   "outputs": [],
   "source": [
    "fp = r'xml/raw_fda.html'"
   ]
  },
  {
   "cell_type": "code",
   "execution_count": 3,
   "metadata": {},
   "outputs": [
    {
     "name": "stdout",
     "output_type": "stream",
     "text": [
      "<!DOCTYPE html PUBLIC \"-//W3C//DTD HTML 4.01 Transitional//EN\" \"http://www.w3c.org/TR/1999/REC-html401-19991224/loose.dtd\">\n",
      "<html xmlns=\"http://www.w3.org/1999/xhtml\" xmlns:addthis=\"http://www.addthis.com/help/api-spec\">\n",
      " <head>\n",
      "  <meta content=\"text/html; charset=utf-8\" http-equiv=\"Content-Type\"/>\n",
      "  <meta content=\"IE=7\" http-equiv=\"X-UA-Compatible\"/>\n",
      "  <script src=\"/scripts/includes/js/wcm.toggle.js\" type=\"text/javascript\">\n",
      "  </script>\n",
      "  <script src=\"/scripts/includes/js/ssajax_2012.js\" type=\"text/javascript\">\n",
      "  </script>\n",
      "  <script language=\"JavaScript\" src=\"fsrscripts\\listResult.js\" type=\"text/javascript\">\n",
      "  </script>\n",
      "  <title>\n",
      "   Search Orphan Drug Designations and Approvals\n",
      "  </title>\n",
      "  <!-- /**** Begin CSS References ****/-->\n",
      "  <link href=\"/scripts/includes/css/css_fda_gov_stylesheet-2013.css\" media=\"screen\" rel=\"stylesheet\" type=\"text/css\"/>\n",
      "  <link href=\"/scripts/includes/css/css_fda_gov_print_stylesheet-2013.css\" media=\"print\" rel=\"stylesheet\" type=\"text/css\"/>\n",
      "  <!--[if lt IE \n"
     ]
    }
   ],
   "source": [
    "soup = BeautifulSoup(open(fp, encoding='UTF-8'), 'html5lib')\n",
    "print(soup.prettify()[:1000])"
   ]
  },
  {
   "cell_type": "code",
   "execution_count": 4,
   "metadata": {},
   "outputs": [
    {
     "data": {
      "text/html": [
       "<div>\n",
       "<style scoped>\n",
       "    .dataframe tbody tr th:only-of-type {\n",
       "        vertical-align: middle;\n",
       "    }\n",
       "\n",
       "    .dataframe tbody tr th {\n",
       "        vertical-align: top;\n",
       "    }\n",
       "\n",
       "    .dataframe thead th {\n",
       "        text-align: right;\n",
       "    }\n",
       "</style>\n",
       "<table border=\"1\" class=\"dataframe\">\n",
       "  <thead>\n",
       "    <tr style=\"text-align: right;\">\n",
       "      <th></th>\n",
       "      <th>id</th>\n",
       "      <th>gen_name</th>\n",
       "      <th>orph</th>\n",
       "      <th>desig_dt</th>\n",
       "      <th>desig_status</th>\n",
       "    </tr>\n",
       "  </thead>\n",
       "  <tbody>\n",
       "    <tr>\n",
       "      <th>0</th>\n",
       "      <td>1</td>\n",
       "      <td>((1r, 4r)-N1-(2-benzyl-7-(2-methyl-2H-tetrazol...</td>\n",
       "      <td>Prevention of Graft-versus-Host-Disease</td>\n",
       "      <td>12/13/2018</td>\n",
       "      <td>Designated</td>\n",
       "    </tr>\n",
       "    <tr>\n",
       "      <th>1</th>\n",
       "      <td>2</td>\n",
       "      <td>(+)-(2S)-2-(4-chloro-2-methoxyphenyl)-2-{[3-me...</td>\n",
       "      <td>Treatment of dengue virus infection</td>\n",
       "      <td>12/26/2017</td>\n",
       "      <td>Designated</td>\n",
       "    </tr>\n",
       "    <tr>\n",
       "      <th>2</th>\n",
       "      <td>3</td>\n",
       "      <td>(+)-1-(3-(aminomethyl) phenyl)-N-(5-((3-cyanop...</td>\n",
       "      <td>Treatment of C1-inhibitor-dependent angioedema...</td>\n",
       "      <td>11/01/2017</td>\n",
       "      <td>Designated</td>\n",
       "    </tr>\n",
       "    <tr>\n",
       "      <th>3</th>\n",
       "      <td>4</td>\n",
       "      <td>(+)-a-dihydrotetrabenazine</td>\n",
       "      <td>Treatment pediatric patients with Tourette's s...</td>\n",
       "      <td>03/30/2017</td>\n",
       "      <td>Designated</td>\n",
       "    </tr>\n",
       "    <tr>\n",
       "      <th>4</th>\n",
       "      <td>5</td>\n",
       "      <td>(+)-alpha-dihydrotetrabenazine</td>\n",
       "      <td>Treatment of Huntington's disease.</td>\n",
       "      <td>12/05/2018</td>\n",
       "      <td>Designated</td>\n",
       "    </tr>\n",
       "  </tbody>\n",
       "</table>\n",
       "</div>"
      ],
      "text/plain": [
       "   id                                           gen_name  \\\n",
       "0   1  ((1r, 4r)-N1-(2-benzyl-7-(2-methyl-2H-tetrazol...   \n",
       "1   2  (+)-(2S)-2-(4-chloro-2-methoxyphenyl)-2-{[3-me...   \n",
       "2   3  (+)-1-(3-(aminomethyl) phenyl)-N-(5-((3-cyanop...   \n",
       "3   4                         (+)-a-dihydrotetrabenazine   \n",
       "4   5                     (+)-alpha-dihydrotetrabenazine   \n",
       "\n",
       "                                                orph    desig_dt desig_status  \n",
       "0            Prevention of Graft-versus-Host-Disease  12/13/2018   Designated  \n",
       "1                Treatment of dengue virus infection  12/26/2017   Designated  \n",
       "2  Treatment of C1-inhibitor-dependent angioedema...  11/01/2017   Designated  \n",
       "3  Treatment pediatric patients with Tourette's s...  03/30/2017   Designated  \n",
       "4                 Treatment of Huntington's disease.  12/05/2018   Designated  "
      ]
     },
     "execution_count": 4,
     "metadata": {},
     "output_type": "execute_result"
    }
   ],
   "source": [
    "tables = soup.find_all('table')\n",
    "datatable = tables[2]\n",
    "df = pd.read_html(str(datatable))[0]\n",
    "df.columns = ['id', 'gen_name', 'orph', 'desig_dt', 'desig_status']\n",
    "df.head()"
   ]
  },
  {
   "cell_type": "code",
   "execution_count": 14,
   "metadata": {},
   "outputs": [
    {
     "data": {
      "text/plain": [
       "(5165, 5)"
      ]
     },
     "execution_count": 14,
     "metadata": {},
     "output_type": "execute_result"
    }
   ],
   "source": [
    "df.shape"
   ]
  },
  {
   "cell_type": "code",
   "execution_count": 10,
   "metadata": {},
   "outputs": [
    {
     "data": {
      "text/plain": [
       "array(['Designated', 'Designated/Withdrawn', 'Designated/Approved',\n",
       "       'Designated/Approved/Withdrawn'], dtype=object)"
      ]
     },
     "execution_count": 10,
     "metadata": {},
     "output_type": "execute_result"
    }
   ],
   "source": [
    "df['desig_status'].unique()"
   ]
  },
  {
   "cell_type": "code",
   "execution_count": 27,
   "metadata": {},
   "outputs": [
    {
     "data": {
      "text/plain": [
       "(4436, 6)"
      ]
     },
     "execution_count": 27,
     "metadata": {},
     "output_type": "execute_result"
    }
   ],
   "source": [
    "df_desig = df[df['desig_status'].isin(['Designated', 'Designated/Approved'])].copy()\n",
    "df_desig.shape"
   ]
  },
  {
   "cell_type": "code",
   "execution_count": 28,
   "metadata": {},
   "outputs": [],
   "source": [
    "# let's count our tokens to figure out the stop words\n",
    "c = Counter()\n",
    "\n",
    "for cur_str in df_desig['orph']:\n",
    "    tokens = cur_str.split(' ')\n",
    "    for cur_token in tokens:\n",
    "        processed = cur_token.lower().translate(str.maketrans('', '', string.punctuation))\n",
    "        c[processed] += 1"
   ]
  },
  {
   "cell_type": "code",
   "execution_count": 29,
   "metadata": {
    "scrolled": true
   },
   "outputs": [
    {
     "data": {
      "text/plain": [
       "[('of', 4645),\n",
       " ('treatment', 4013),\n",
       " ('in', 608),\n",
       " ('with', 494),\n",
       " ('patients', 485),\n",
       " ('and', 419),\n",
       " ('the', 404),\n",
       " ('disease', 403),\n",
       " ('cancer', 387),\n",
       " ('for', 359),\n",
       " ('syndrome', 321),\n",
       " ('to', 294),\n",
       " ('acute', 277),\n",
       " ('leukemia', 267),\n",
       " ('cell', 233),\n",
       " ('or', 218),\n",
       " ('prevention', 213),\n",
       " ('lymphoma', 207),\n",
       " ('chronic', 163),\n",
       " ('pediatric', 149),\n",
       " ('carcinoma', 139),\n",
       " ('pancreatic', 131),\n",
       " ('pulmonary', 130),\n",
       " ('fibrosis', 128),\n",
       " ('sclerosis', 123),\n",
       " ('a', 121),\n",
       " ('deficiency', 117),\n",
       " ('multiple', 116),\n",
       " ('use', 113),\n",
       " ('type', 113),\n",
       " ('myeloid', 112),\n",
       " ('stage', 109),\n",
       " ('melanoma', 98),\n",
       " ('myeloma', 96),\n",
       " ('malignant', 94),\n",
       " ('ovarian', 90),\n",
       " ('cystic', 87),\n",
       " ('associated', 85),\n",
       " ('muscular', 84),\n",
       " ('lung', 83),\n",
       " ('primary', 80),\n",
       " ('dystrophy', 79),\n",
       " ('therapy', 79),\n",
       " ('iv', 74),\n",
       " ('tumors', 73),\n",
       " ('graft', 73),\n",
       " ('as', 73),\n",
       " ('idiopathic', 72),\n",
       " ('glioma', 71),\n",
       " ('lateral', 70),\n",
       " ('lymphocytic', 69),\n",
       " ('infection', 68),\n",
       " ('amyotrophic', 68),\n",
       " ('glioblastoma', 64),\n",
       " ('due', 64),\n",
       " ('tcell', 63),\n",
       " ('including', 62),\n",
       " ('congenital', 62),\n",
       " ('hypertension', 61),\n",
       " ('transplantation', 60),\n",
       " ('by', 60),\n",
       " ('renal', 58),\n",
       " ('hepatocellular', 56),\n",
       " ('who', 56),\n",
       " ('hemophilia', 55),\n",
       " ('management', 54),\n",
       " ('iib', 52),\n",
       " ('severe', 52),\n",
       " ('duchenne', 51),\n",
       " ('through', 51),\n",
       " ('arterial', 50),\n",
       " ('sarcoma', 49),\n",
       " ('b', 48),\n",
       " ('bcell', 46),\n",
       " ('virus', 45),\n",
       " ('growth', 45),\n",
       " ('sickle', 44),\n",
       " ('injury', 44),\n",
       " ('prophylaxis', 44),\n",
       " ('age', 44),\n",
       " ('infections', 43),\n",
       " ('1', 43),\n",
       " ('systemic', 42),\n",
       " ('host', 42),\n",
       " ('multiforme', 42),\n",
       " ('following', 42),\n",
       " ('years', 42),\n",
       " ('rejection', 41),\n",
       " ('organ', 41),\n",
       " ('tissue', 40),\n",
       " ('versus', 40),\n",
       " ('brain', 40),\n",
       " ('factor', 39),\n",
       " ('failure', 39),\n",
       " ('gastric', 37),\n",
       " ('bleeding', 37),\n",
       " ('16', 37),\n",
       " ('myelogenous', 36),\n",
       " ('respiratory', 36),\n",
       " ('cutaneous', 36)]"
      ]
     },
     "execution_count": 29,
     "metadata": {},
     "output_type": "execute_result"
    }
   ],
   "source": [
    "c.most_common(100)"
   ]
  },
  {
   "cell_type": "code",
   "execution_count": 30,
   "metadata": {},
   "outputs": [],
   "source": [
    "stop_words = [\n",
    "    'of',\n",
    "    'treatment',\n",
    "    'in',\n",
    "    'with',\n",
    "    'patients',\n",
    "    'and',\n",
    "    'the',\n",
    "    'for',\n",
    "    'to',\n",
    "    'disease',\n",
    "    'or',\n",
    "    'prevention',\n",
    "    'use',\n",
    "    'a',\n",
    "    'as',\n",
    "    'who',\n",
    "    'by',\n",
    "    'management',\n",
    "    'through',\n",
    "    'including',\n",
    "    'iib',\n",
    "    'diagnostic',\n",
    "    'be',\n",
    "    'used'\n",
    "]"
   ]
  },
  {
   "cell_type": "code",
   "execution_count": 31,
   "metadata": {},
   "outputs": [],
   "source": [
    "processed_col = []\n",
    "for cur_str in df_desig['orph']:\n",
    "    tokens = cur_str.split(' ')\n",
    "    processed_tokens = []\n",
    "    for cur_token in tokens:\n",
    "        cur_processed = cur_token.lower().translate(str.maketrans('', '', string.punctuation))\n",
    "        if cur_processed not in stop_words:\n",
    "            processed_tokens.append(cur_processed)\n",
    "    full_str = ' '.join(processed_tokens)\n",
    "    processed_col.append(full_str)"
   ]
  },
  {
   "cell_type": "code",
   "execution_count": 32,
   "metadata": {},
   "outputs": [],
   "source": [
    "df_desig['processed'] = processed_col"
   ]
  },
  {
   "cell_type": "code",
   "execution_count": 33,
   "metadata": {},
   "outputs": [
    {
     "data": {
      "text/html": [
       "<div>\n",
       "<style scoped>\n",
       "    .dataframe tbody tr th:only-of-type {\n",
       "        vertical-align: middle;\n",
       "    }\n",
       "\n",
       "    .dataframe tbody tr th {\n",
       "        vertical-align: top;\n",
       "    }\n",
       "\n",
       "    .dataframe thead th {\n",
       "        text-align: right;\n",
       "    }\n",
       "</style>\n",
       "<table border=\"1\" class=\"dataframe\">\n",
       "  <thead>\n",
       "    <tr style=\"text-align: right;\">\n",
       "      <th></th>\n",
       "      <th>processed</th>\n",
       "      <th>count</th>\n",
       "    </tr>\n",
       "  </thead>\n",
       "  <tbody>\n",
       "    <tr>\n",
       "      <th>0</th>\n",
       "      <td>pancreatic cancer</td>\n",
       "      <td>109</td>\n",
       "    </tr>\n",
       "    <tr>\n",
       "      <th>1</th>\n",
       "      <td>multiple myeloma</td>\n",
       "      <td>88</td>\n",
       "    </tr>\n",
       "    <tr>\n",
       "      <th>2</th>\n",
       "      <td>acute myeloid leukemia</td>\n",
       "      <td>84</td>\n",
       "    </tr>\n",
       "    <tr>\n",
       "      <th>3</th>\n",
       "      <td>ovarian cancer</td>\n",
       "      <td>68</td>\n",
       "    </tr>\n",
       "    <tr>\n",
       "      <th>4</th>\n",
       "      <td>cystic fibrosis</td>\n",
       "      <td>56</td>\n",
       "    </tr>\n",
       "  </tbody>\n",
       "</table>\n",
       "</div>"
      ],
      "text/plain": [
       "                processed  count\n",
       "0       pancreatic cancer    109\n",
       "1        multiple myeloma     88\n",
       "2  acute myeloid leukemia     84\n",
       "3          ovarian cancer     68\n",
       "4         cystic fibrosis     56"
      ]
     },
     "execution_count": 33,
     "metadata": {},
     "output_type": "execute_result"
    }
   ],
   "source": [
    "df_counts = df_desig.groupby('processed')[['id']].count().sort_values('id', ascending=False).reset_index()\n",
    "df_counts = df_counts.rename(columns={'id': 'count'})\n",
    "df_counts.head()"
   ]
  },
  {
   "cell_type": "markdown",
   "metadata": {},
   "source": [
    "## combining the 2 lists"
   ]
  },
  {
   "cell_type": "code",
   "execution_count": 34,
   "metadata": {},
   "outputs": [],
   "source": [
    "for cur_val in df_counts['processed'].values:\n",
    "    clean_val = cur_val.strip()\n",
    "    if clean_val not in all_orphans:\n",
    "        all_orphans.append(clean_val)"
   ]
  },
  {
   "cell_type": "code",
   "execution_count": 36,
   "metadata": {},
   "outputs": [
    {
     "data": {
      "text/plain": [
       "2488"
      ]
     },
     "execution_count": 36,
     "metadata": {},
     "output_type": "execute_result"
    }
   ],
   "source": [
    "len(all_orphans)"
   ]
  },
  {
   "cell_type": "code",
   "execution_count": 37,
   "metadata": {},
   "outputs": [],
   "source": [
    "import pickle"
   ]
  },
  {
   "cell_type": "code",
   "execution_count": 40,
   "metadata": {},
   "outputs": [],
   "source": [
    "pickle.dump(all_orphans, open('raw_data/orphan_list.pkl', 'wb'))"
   ]
  },
  {
   "cell_type": "code",
   "execution_count": null,
   "metadata": {},
   "outputs": [],
   "source": []
  }
 ],
 "metadata": {
  "kernelspec": {
   "display_name": "Python 3",
   "language": "python",
   "name": "python3"
  },
  "language_info": {
   "codemirror_mode": {
    "name": "ipython",
    "version": 3
   },
   "file_extension": ".py",
   "mimetype": "text/x-python",
   "name": "python",
   "nbconvert_exporter": "python",
   "pygments_lexer": "ipython3",
   "version": "3.6.9"
  }
 },
 "nbformat": 4,
 "nbformat_minor": 2
}
