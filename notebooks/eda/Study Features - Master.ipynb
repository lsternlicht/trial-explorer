{
 "cells": [
  {
   "cell_type": "markdown",
   "metadata": {},
   "source": [
    "## Featurizing Conditions of the Studies:\n",
    "\n",
    "How to determine if 2 studies are studing the same condition?\n",
    "- number of tagged conditions (num_matched, num_unmatched)\n",
    "- mesh terms (jaccard distance) - min, max, mean\n",
    "- mesh tree location (tree distance) - min, max, mean\n",
    "\n",
    "\n",
    "- matching conditions (based on model):\n",
    "    - remove stop words (maybe)\n",
    "    - condition names (lev distance using fuzzy wuzzy full ratio)\n",
    "    - nouns only lev dist using fuzzy wuzzy full ratio\n",
    "    - condition bing results (bag of words) - norm wass dist on top X words - min, max, mean(each cond pair)\n",
    "    - adjective verb descriptors distance (such as \"chronic\") - min, max, mean (on each cond pair)\n",
    "    - type, grade, stage, AJCC (type1, type2) etc. - min, max, mean (on every cond pair)"
   ]
  },
  {
   "cell_type": "code",
   "execution_count": 15,
   "metadata": {},
   "outputs": [],
   "source": [
    "import pandas as pd\n",
    "import numpy as np\n",
    "from tqdm import tqdm_notebook\n",
    "from tqdm import tqdm\n",
    "import datetime as dt\n",
    "import pickle\n",
    "from collections import Counter\n",
    "from importlib import reload\n",
    "\n",
    "import nltk\n",
    "\n",
    "import pdaactconn as pc\n",
    "from trialexplorer.mesh_terms import MeSHCatalog\n",
    "from trialexplorer import AACTStudySet\n",
    "from trialexplorer import studysimilarity as ssim\n",
    "\n",
    "import matplotlib.pyplot as plt\n",
    "%matplotlib inline"
   ]
  },
  {
   "cell_type": "code",
   "execution_count": 2,
   "metadata": {},
   "outputs": [],
   "source": [
    "tqdm.pandas()"
   ]
  },
  {
   "cell_type": "code",
   "execution_count": 5,
   "metadata": {},
   "outputs": [
    {
     "name": "stdout",
     "output_type": "stream",
     "text": [
      "250890 studies loaded!\n"
     ]
    }
   ],
   "source": [
    "# selecting all interventional studies\n",
    "conn = pc.AACTConnection(source=pc.AACTConnection.LOCAL)\n",
    "ss = AACTStudySet.AACTStudySet(conn= conn, tqdm_handler=tqdm_notebook)\n",
    "ss.add_constraint(\"study_type = 'Interventional'\")\n",
    "ss.load_studies()"
   ]
  },
  {
   "cell_type": "code",
   "execution_count": 6,
   "metadata": {},
   "outputs": [
    {
     "name": "stdout",
     "output_type": "stream",
     "text": [
      "Successfuly added these 1 dimensions: ['browse_conditions']\n",
      "Failed to add these 0 dimensions: []\n",
      "Successfuly added these 1 dimensions: ['conditions']\n",
      "Failed to add these 0 dimensions: []\n"
     ]
    },
    {
     "data": {
      "application/vnd.jupyter.widget-view+json": {
       "model_id": "b72858427b994a9da3984512f27eeccf",
       "version_major": 2,
       "version_minor": 0
      },
      "text/plain": [
       "HBox(children=(IntProgress(value=0, max=502), HTML(value='')))"
      ]
     },
     "metadata": {},
     "output_type": "display_data"
    },
    {
     "name": "stdout",
     "output_type": "stream",
     "text": [
      "Syncing the temp table temp_cur_studies in 502 chunks x 500 records each\n",
      "\n",
      "Creating index on the temp table\n",
      " - Loading dimension browse_conditions\n",
      " -- Loading raw data\n",
      " -- Sorting index\n",
      " - Loading dimension conditions\n",
      " -- Loading raw data\n",
      " -- Sorting index\n"
     ]
    }
   ],
   "source": [
    "# loading all dimensional data\n",
    "ss.add_dimensions('browse_conditions')\n",
    "ss.add_dimensions('conditions')\n",
    "ss.refresh_dim_data()"
   ]
  },
  {
   "cell_type": "markdown",
   "metadata": {},
   "source": [
    "# 1. Mesh Terms"
   ]
  },
  {
   "cell_type": "code",
   "execution_count": 7,
   "metadata": {},
   "outputs": [
    {
     "name": "stdout",
     "output_type": "stream",
     "text": [
      "Parsing MeSH xml: xml/desc2020.xml ...\n",
      "Parse Complete! (parsed ElementTree root can be found in the .root attribute)\n"
     ]
    }
   ],
   "source": [
    "# intializing MeSH object\n",
    "mc = MeSHCatalog()  "
   ]
  },
  {
   "cell_type": "code",
   "execution_count": 8,
   "metadata": {},
   "outputs": [],
   "source": [
    "bc = ss.dimensions['browse_conditions']\n",
    "c = ss.dimensions['conditions']"
   ]
  },
  {
   "cell_type": "code",
   "execution_count": 9,
   "metadata": {},
   "outputs": [
    {
     "data": {
      "text/html": [
       "<div>\n",
       "<style scoped>\n",
       "    .dataframe tbody tr th:only-of-type {\n",
       "        vertical-align: middle;\n",
       "    }\n",
       "\n",
       "    .dataframe tbody tr th {\n",
       "        vertical-align: top;\n",
       "    }\n",
       "\n",
       "    .dataframe thead th {\n",
       "        text-align: right;\n",
       "    }\n",
       "</style>\n",
       "<table border=\"1\" class=\"dataframe\">\n",
       "  <thead>\n",
       "    <tr style=\"text-align: right;\">\n",
       "      <th></th>\n",
       "      <th>id</th>\n",
       "      <th>mesh_term</th>\n",
       "      <th>downcase_mesh_term</th>\n",
       "    </tr>\n",
       "    <tr>\n",
       "      <th>nct_id</th>\n",
       "      <th></th>\n",
       "      <th></th>\n",
       "      <th></th>\n",
       "    </tr>\n",
       "  </thead>\n",
       "  <tbody>\n",
       "    <tr>\n",
       "      <td>NCT00000102</td>\n",
       "      <td>9144384</td>\n",
       "      <td>Adrenal Hyperplasia, Congenital</td>\n",
       "      <td>adrenal hyperplasia, congenital</td>\n",
       "    </tr>\n",
       "    <tr>\n",
       "      <td>NCT00000102</td>\n",
       "      <td>9144385</td>\n",
       "      <td>Adrenogenital Syndrome</td>\n",
       "      <td>adrenogenital syndrome</td>\n",
       "    </tr>\n",
       "    <tr>\n",
       "      <td>NCT00000102</td>\n",
       "      <td>9144386</td>\n",
       "      <td>Adrenocortical Hyperfunction</td>\n",
       "      <td>adrenocortical hyperfunction</td>\n",
       "    </tr>\n",
       "    <tr>\n",
       "      <td>NCT00000102</td>\n",
       "      <td>9144387</td>\n",
       "      <td>Hyperplasia</td>\n",
       "      <td>hyperplasia</td>\n",
       "    </tr>\n",
       "    <tr>\n",
       "      <td>NCT00000106</td>\n",
       "      <td>9143121</td>\n",
       "      <td>Rheumatic Diseases</td>\n",
       "      <td>rheumatic diseases</td>\n",
       "    </tr>\n",
       "  </tbody>\n",
       "</table>\n",
       "</div>"
      ],
      "text/plain": [
       "                  id                        mesh_term  \\\n",
       "nct_id                                                  \n",
       "NCT00000102  9144384  Adrenal Hyperplasia, Congenital   \n",
       "NCT00000102  9144385           Adrenogenital Syndrome   \n",
       "NCT00000102  9144386     Adrenocortical Hyperfunction   \n",
       "NCT00000102  9144387                      Hyperplasia   \n",
       "NCT00000106  9143121               Rheumatic Diseases   \n",
       "\n",
       "                          downcase_mesh_term  \n",
       "nct_id                                        \n",
       "NCT00000102  adrenal hyperplasia, congenital  \n",
       "NCT00000102           adrenogenital syndrome  \n",
       "NCT00000102     adrenocortical hyperfunction  \n",
       "NCT00000102                      hyperplasia  \n",
       "NCT00000106               rheumatic diseases  "
      ]
     },
     "execution_count": 9,
     "metadata": {},
     "output_type": "execute_result"
    }
   ],
   "source": [
    "bc.data.head()"
   ]
  },
  {
   "cell_type": "code",
   "execution_count": 10,
   "metadata": {},
   "outputs": [
    {
     "data": {
      "text/plain": [
       "3738"
      ]
     },
     "execution_count": 10,
     "metadata": {},
     "output_type": "execute_result"
    }
   ],
   "source": [
    "len(bc.data['mesh_term'].unique())"
   ]
  },
  {
   "cell_type": "code",
   "execution_count": 11,
   "metadata": {},
   "outputs": [],
   "source": [
    "s_mesh = bc.data.groupby('mesh_term').size().sort_values(ascending=False)"
   ]
  },
  {
   "cell_type": "code",
   "execution_count": 17,
   "metadata": {},
   "outputs": [
    {
     "data": {
      "text/plain": [
       "0.09090909090909091"
      ]
     },
     "execution_count": 17,
     "metadata": {},
     "output_type": "execute_result"
    }
   ],
   "source": [
    "ssim.mesh_jaccard_sim('NCT00000102', 'NCT03323658', bc.data)"
   ]
  },
  {
   "cell_type": "markdown",
   "metadata": {},
   "source": [
    "### To compute the jaccard distance, for 1 study vs all the others, takes approx 3.5min"
   ]
  },
  {
   "cell_type": "code",
   "execution_count": null,
   "metadata": {},
   "outputs": [],
   "source": [
    "jaccard_dist = {}\n",
    "for cur_nct in tqdm(list(bc.data.index.unique())):\n",
    "    jaccard_dist[cur_nct] = mesh_jaccard_dist('NCT00000102', cur_nct, bc.data)"
   ]
  },
  {
   "cell_type": "code",
   "execution_count": null,
   "metadata": {},
   "outputs": [],
   "source": [
    "dfjac = pd.DataFrame(jaccard_dist, index=['jdist']).T"
   ]
  },
  {
   "cell_type": "code",
   "execution_count": null,
   "metadata": {},
   "outputs": [],
   "source": [
    "dfjac[dfjac['jdist'] > 0].sort_values('jdist', ascending=False)"
   ]
  },
  {
   "cell_type": "markdown",
   "metadata": {},
   "source": [
    "## Computing the min, max, mean distance between the tagged mesh terms"
   ]
  },
  {
   "cell_type": "code",
   "execution_count": null,
   "metadata": {},
   "outputs": [],
   "source": [
    "def mesh_tree_dist(nctid1, nctid2, data, mc):\n",
    "    \"\"\" compute the set of all tree distances and returns tuple of min, max, mean \"\"\"\n",
    "    s1terms, s2terms = get_mesh_terms(nctid1, nctid2, data)\n",
    "    \n",
    "    all_dist = []\n",
    "    for t1 in s1terms:\n",
    "        for t2 in s2terms:\n",
    "            cur_dist = mc.shortest_mesh_dist(t1, t2)\n",
    "            all_dist.append(cur_dist)\n",
    "    \n",
    "    return min(all_dist), max(all_dist), np.mean(all_dist)"
   ]
  },
  {
   "cell_type": "code",
   "execution_count": null,
   "metadata": {},
   "outputs": [],
   "source": [
    "mesh_tree_dist('NCT00000102', 'NCT03323658', bc.data, mc)"
   ]
  },
  {
   "cell_type": "code",
   "execution_count": null,
   "metadata": {},
   "outputs": [],
   "source": []
  }
 ],
 "metadata": {
  "kernelspec": {
   "display_name": "Python 3",
   "language": "python",
   "name": "python3"
  },
  "language_info": {
   "codemirror_mode": {
    "name": "ipython",
    "version": 3
   },
   "file_extension": ".py",
   "mimetype": "text/x-python",
   "name": "python",
   "nbconvert_exporter": "python",
   "pygments_lexer": "ipython3",
   "version": "3.6.9"
  }
 },
 "nbformat": 4,
 "nbformat_minor": 2
}
