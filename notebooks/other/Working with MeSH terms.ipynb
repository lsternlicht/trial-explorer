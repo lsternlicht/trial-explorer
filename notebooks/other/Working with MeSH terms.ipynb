{
 "cells": [
  {
   "cell_type": "code",
   "execution_count": 3,
   "metadata": {},
   "outputs": [],
   "source": [
    "import pandas as pd\n",
    "import numpy as numpy\n",
    "\n",
    "from trialexplorer.mesh_terms import MeSHCatalog"
   ]
  },
  {
   "cell_type": "code",
   "execution_count": 12,
   "metadata": {},
   "outputs": [
    {
     "name": "stdout",
     "output_type": "stream",
     "text": [
      "Parsing MeSH xml: xml/desc2020.xml ...\n",
      "Parse Complete! (parsed ElementTree root can be found in the .root attribute)\n"
     ]
    }
   ],
   "source": [
    "mc = MeSHCatalog()  # intializing"
   ]
  },
  {
   "cell_type": "markdown",
   "metadata": {},
   "source": [
    "## Detailed Example"
   ]
  },
  {
   "cell_type": "code",
   "execution_count": 17,
   "metadata": {},
   "outputs": [],
   "source": [
    "cur_term = 'Coronary Artery Disease'"
   ]
  },
  {
   "cell_type": "code",
   "execution_count": 18,
   "metadata": {},
   "outputs": [
    {
     "data": {
      "text/plain": [
       "['C14.280.647.250.260', 'C14.907.137.126.339', 'C14.907.585.250.260']"
      ]
     },
     "execution_count": 18,
     "metadata": {},
     "output_type": "execute_result"
    }
   ],
   "source": [
    "mc.get_trees(cur_term)"
   ]
  },
  {
   "cell_type": "code",
   "execution_count": 20,
   "metadata": {},
   "outputs": [
    {
     "data": {
      "text/plain": [
       "[5]"
      ]
     },
     "execution_count": 20,
     "metadata": {},
     "output_type": "execute_result"
    }
   ],
   "source": [
    "cur_levels = mc.get_levels(cur_term)\n",
    "cur_levels"
   ]
  },
  {
   "cell_type": "code",
   "execution_count": 21,
   "metadata": {},
   "outputs": [
    {
     "name": "stdout",
     "output_type": "stream",
     "text": [
      "level 1 terms: ['Cardiovascular Diseases']\n",
      "level 2 terms: ['Heart Diseases', 'Vascular Diseases']\n",
      "level 3 terms: ['Arterial Occlusive Diseases', 'Myocardial Ischemia']\n",
      "level 4 terms: ['Arteriosclerosis', 'Coronary Disease']\n"
     ]
    }
   ],
   "source": [
    "for i in range(1, max(cur_levels)):\n",
    "    print(\"level %s terms:\" % i, mc.lookup_higher_level(cur_term, i))"
   ]
  },
  {
   "cell_type": "markdown",
   "metadata": {},
   "source": [
    "### Other Examples:"
   ]
  },
  {
   "cell_type": "code",
   "execution_count": 28,
   "metadata": {},
   "outputs": [
    {
     "name": "stdout",
     "output_type": "stream",
     "text": [
      "Looking up: Carcinoma\n",
      "level 1 terms: ['Neoplasms']\n",
      "level 2 terms: ['Neoplasms by Histologic Type']\n",
      "level 3 terms: ['Neoplasms, Glandular and Epithelial']\n",
      "\n",
      "\n",
      "Looking up: Osteoarthritis\n",
      "level 1 terms: ['Musculoskeletal Diseases']\n",
      "level 2 terms: ['Joint Diseases', 'Rheumatic Diseases']\n",
      "level 3 terms: ['Arthritis', 'Osteoarthritis']\n",
      "\n",
      "\n",
      "Looking up: Stroke\n",
      "level 1 terms: ['Cardiovascular Diseases', 'Nervous System Diseases']\n",
      "level 2 terms: ['Central Nervous System Diseases', 'Vascular Diseases']\n",
      "level 3 terms: ['Brain Diseases', 'Cerebrovascular Disorders']\n",
      "level 4 terms: ['Cerebrovascular Disorders', 'Stroke']\n",
      "\n",
      "\n",
      "Looking up: Schizophrenia\n",
      "level 1 terms: ['Mental Disorders']\n",
      "level 2 terms: ['Schizophrenia Spectrum and Other Psychotic Disorders']\n",
      "\n",
      "\n",
      "Looking up: Leukemia, Lymphoid\n",
      "level 1 terms: ['Hemic and Lymphatic Diseases', 'Immune System Diseases', 'Neoplasms']\n",
      "level 2 terms: ['Immunoproliferative Disorders', 'Lymphatic Diseases', 'Neoplasms by Histologic Type']\n",
      "level 3 terms: ['Leukemia', 'Lymphoproliferative Disorders']\n",
      "\n",
      "\n",
      "Looking up: Precancerous Conditions\n",
      "level 1 terms: ['Neoplasms']\n",
      "\n",
      "\n",
      "Looking up: Cancer Pain\n",
      "level 1 terms: ['Pathological Conditions, Signs and Symptoms']\n",
      "level 2 terms: ['Signs and Symptoms']\n",
      "level 3 terms: ['Neurologic Manifestations']\n",
      "level 4 terms: ['Pain']\n",
      "\n",
      "\n",
      "Looking up: Lung Neoplasms\n",
      "level 1 terms: ['Neoplasms', 'Respiratory Tract Diseases']\n",
      "level 2 terms: ['Lung Diseases', 'Neoplasms by Site', 'Respiratory Tract Neoplasms']\n",
      "level 3 terms: ['Lung Neoplasms', 'Thoracic Neoplasms']\n",
      "level 4 terms: ['Respiratory Tract Neoplasms']\n",
      "\n",
      "\n",
      "Looking up: Depressive Disorder\n",
      "level 1 terms: ['Mental Disorders']\n",
      "level 2 terms: ['Mood Disorders']\n",
      "\n",
      "\n"
     ]
    }
   ],
   "source": [
    "more_terms = ['Carcinoma', 'Osteoarthritis', 'Stroke', 'Schizophrenia', 'Leukemia, Lymphoid', \n",
    "              'Precancerous Conditions', 'Cancer Pain', 'Lung Neoplasms', 'Depressive Disorder']\n",
    "\n",
    "for cur_term in more_terms:\n",
    "    print(\"Looking up: %s\" % cur_term)\n",
    "    cur_levels = mc.get_levels(cur_term)\n",
    "    for i in range(1, max(cur_levels)):\n",
    "        print(\"level %s terms:\" % i, mc.lookup_higher_level(cur_term, i))\n",
    "    print('\\n')"
   ]
  },
  {
   "cell_type": "code",
   "execution_count": null,
   "metadata": {},
   "outputs": [],
   "source": []
  }
 ],
 "metadata": {
  "kernelspec": {
   "display_name": "Python 3",
   "language": "python",
   "name": "python3"
  },
  "language_info": {
   "codemirror_mode": {
    "name": "ipython",
    "version": 3
   },
   "file_extension": ".py",
   "mimetype": "text/x-python",
   "name": "python",
   "nbconvert_exporter": "python",
   "pygments_lexer": "ipython3",
   "version": "3.6.9"
  }
 },
 "nbformat": 4,
 "nbformat_minor": 2
}
