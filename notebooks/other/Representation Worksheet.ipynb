{
 "cells": [
  {
   "cell_type": "code",
   "execution_count": 39,
   "metadata": {},
   "outputs": [],
   "source": [
    "import pandas as pd\n",
    "import numpy as np\n",
    "import datetime as dt\n",
    "\n",
    "from tqdm import tqdm_notebook as tqdm\n",
    "import pdaactconn as pc\n",
    "from trialexplorer import AACTStudySet\n",
    "\n",
    "import matplotlib.pyplot as plt\n",
    "from matplotlib.ticker import PercentFormatter\n",
    "%matplotlib inline"
   ]
  },
  {
   "cell_type": "code",
   "execution_count": 2,
   "metadata": {},
   "outputs": [
    {
     "name": "stdout",
     "output_type": "stream",
     "text": [
      "251202 studies loaded!\n"
     ]
    }
   ],
   "source": [
    "# selecting all interventional studies\n",
    "conn = pc.AACTConnection(source=pc.AACTConnection.REMOTE)\n",
    "ss = AACTStudySet.AACTStudySet(conn= conn, tqdm_handler=tqdm)\n",
    "ss.add_constraint(\"study_type = 'Interventional'\")\n",
    "ss.add_constraint(\"start_date is not Null\")\n",
    "ss.load_studies()"
   ]
  },
  {
   "cell_type": "code",
   "execution_count": 3,
   "metadata": {},
   "outputs": [
    {
     "name": "stdout",
     "output_type": "stream",
     "text": [
      "Successfuly added these 3 dimensions: ['baseline_measurements', 'result_groups', 'outcome_analyses']\n",
      "Failed to add these 0 dimensions: []\n"
     ]
    },
    {
     "data": {
      "application/vnd.jupyter.widget-view+json": {
       "model_id": "756a9add9bd444fdbf7f62108c0ce9fd",
       "version_major": 2,
       "version_minor": 0
      },
      "text/plain": [
       "HBox(children=(IntProgress(value=0, max=503), HTML(value='')))"
      ]
     },
     "metadata": {},
     "output_type": "display_data"
    },
    {
     "name": "stdout",
     "output_type": "stream",
     "text": [
      "Syncing the temp table temp_cur_studies in 503 chunks x 500 records each\n",
      "\n",
      "Creating index on the temp table\n",
      " - Loading dimension baseline_measurements\n",
      " -- Loading raw data\n",
      " -- Sorting index\n",
      " - Loading dimension result_groups\n",
      " -- Loading raw data\n",
      " -- Sorting index\n",
      " - Loading dimension outcome_analyses\n",
      " -- Loading raw data\n",
      " -- Sorting index\n"
     ]
    }
   ],
   "source": [
    "ss.add_dimensions(['baseline_measurements', 'result_groups', 'outcome_analyses'])\n",
    "ss.refresh_dim_data()\n",
    "rg = ss.dimensions['result_groups']\n",
    "bm = ss.dimensions['baseline_measurements']"
   ]
  },
  {
   "cell_type": "code",
   "execution_count": 4,
   "metadata": {},
   "outputs": [],
   "source": [
    "#Get studies with exactly two treatment groups besides \"Total\" and grab necessary columns\n",
    "combined_measures = pd.merge(rg.data, bm.data, left_on = ['nct_id', 'id'], right_on = ['nct_id', 'result_group_id'])\n",
    "combined_measures = combined_measures[combined_measures.title_x != 'Total']\n",
    "num_groups = combined_measures.groupby('nct_id').ctgov_group_code_x.nunique()\n",
    "num_groups = pd.DataFrame(num_groups)\n",
    "num_groups.columns.values[0] = 'n_groups'\n",
    "combined_measures = combined_measures.merge(num_groups, on=['nct_id'])\n",
    "combined_measures = combined_measures[combined_measures.n_groups==2]\n",
    "study_balance_dat = combined_measures[['ctgov_group_code_x', 'classification', 'category', 'title_y',\n",
    "                                       'param_type', 'param_value_num',\n",
    "                                       'dispersion_type', 'dispersion_value_num']]"
   ]
  },
  {
   "cell_type": "code",
   "execution_count": 5,
   "metadata": {},
   "outputs": [
    {
     "data": {
      "text/plain": [
       "Age                           65726\n",
       "Sex: Female, Male             64895\n",
       "Race (NIH/OMB)                49782\n",
       "Region of Enrollment          34515\n",
       "Race/Ethnicity, Customized    23710\n",
       "Ethnicity (NIH/OMB)           15139\n",
       "Age, Customized                8579\n",
       "Gender                         2318\n",
       "Sex/Gender, Customized         1174\n",
       "Weight                         1064\n",
       "Name: title_y, dtype: int64"
      ]
     },
     "execution_count": 5,
     "metadata": {},
     "output_type": "execute_result"
    }
   ],
   "source": [
    "study_balance_dat.title_y.value_counts().head(10)\n",
    "#We'll go with age and sex for now"
   ]
  },
  {
   "cell_type": "markdown",
   "metadata": {},
   "source": [
    "# Gender"
   ]
  },
  {
   "cell_type": "code",
   "execution_count": 8,
   "metadata": {},
   "outputs": [],
   "source": [
    "df = study_balance_dat"
   ]
  },
  {
   "cell_type": "code",
   "execution_count": 9,
   "metadata": {},
   "outputs": [],
   "source": [
    "gender_title_y = ['Sex: Female, Male', \n",
    "                  'Gender']"
   ]
  },
  {
   "cell_type": "code",
   "execution_count": 10,
   "metadata": {},
   "outputs": [
    {
     "data": {
      "text/html": [
       "<div>\n",
       "<style scoped>\n",
       "    .dataframe tbody tr th:only-of-type {\n",
       "        vertical-align: middle;\n",
       "    }\n",
       "\n",
       "    .dataframe tbody tr th {\n",
       "        vertical-align: top;\n",
       "    }\n",
       "\n",
       "    .dataframe thead th {\n",
       "        text-align: right;\n",
       "    }\n",
       "</style>\n",
       "<table border=\"1\" class=\"dataframe\">\n",
       "  <thead>\n",
       "    <tr style=\"text-align: right;\">\n",
       "      <th></th>\n",
       "      <th>ctgov_group_code_x</th>\n",
       "      <th>classification</th>\n",
       "      <th>category</th>\n",
       "      <th>title_y</th>\n",
       "      <th>param_type</th>\n",
       "      <th>param_value_num</th>\n",
       "      <th>dispersion_type</th>\n",
       "      <th>dispersion_value_num</th>\n",
       "    </tr>\n",
       "    <tr>\n",
       "      <th>nct_id</th>\n",
       "      <th></th>\n",
       "      <th></th>\n",
       "      <th></th>\n",
       "      <th></th>\n",
       "      <th></th>\n",
       "      <th></th>\n",
       "      <th></th>\n",
       "      <th></th>\n",
       "    </tr>\n",
       "  </thead>\n",
       "  <tbody>\n",
       "    <tr>\n",
       "      <th>NCT00002525</th>\n",
       "      <td>B2</td>\n",
       "      <td>Male</td>\n",
       "      <td></td>\n",
       "      <td>Gender</td>\n",
       "      <td>Number</td>\n",
       "      <td>96.0</td>\n",
       "      <td></td>\n",
       "      <td>NaN</td>\n",
       "    </tr>\n",
       "    <tr>\n",
       "      <th>NCT00002525</th>\n",
       "      <td>B2</td>\n",
       "      <td>Female</td>\n",
       "      <td></td>\n",
       "      <td>Gender</td>\n",
       "      <td>Number</td>\n",
       "      <td>61.0</td>\n",
       "      <td></td>\n",
       "      <td>NaN</td>\n",
       "    </tr>\n",
       "    <tr>\n",
       "      <th>NCT00002525</th>\n",
       "      <td>B1</td>\n",
       "      <td>Male</td>\n",
       "      <td></td>\n",
       "      <td>Gender</td>\n",
       "      <td>Number</td>\n",
       "      <td>99.0</td>\n",
       "      <td></td>\n",
       "      <td>NaN</td>\n",
       "    </tr>\n",
       "    <tr>\n",
       "      <th>NCT00002525</th>\n",
       "      <td>B1</td>\n",
       "      <td>Female</td>\n",
       "      <td></td>\n",
       "      <td>Gender</td>\n",
       "      <td>Number</td>\n",
       "      <td>57.0</td>\n",
       "      <td></td>\n",
       "      <td>NaN</td>\n",
       "    </tr>\n",
       "    <tr>\n",
       "      <th>NCT00068588</th>\n",
       "      <td>B3</td>\n",
       "      <td>Male</td>\n",
       "      <td></td>\n",
       "      <td>Gender</td>\n",
       "      <td>Number</td>\n",
       "      <td>0.0</td>\n",
       "      <td></td>\n",
       "      <td>NaN</td>\n",
       "    </tr>\n",
       "    <tr>\n",
       "      <th>...</th>\n",
       "      <td>...</td>\n",
       "      <td>...</td>\n",
       "      <td>...</td>\n",
       "      <td>...</td>\n",
       "      <td>...</td>\n",
       "      <td>...</td>\n",
       "      <td>...</td>\n",
       "      <td>...</td>\n",
       "    </tr>\n",
       "    <tr>\n",
       "      <th>NCT01928693</th>\n",
       "      <td>B2</td>\n",
       "      <td>Female</td>\n",
       "      <td></td>\n",
       "      <td>Gender</td>\n",
       "      <td>Number</td>\n",
       "      <td>1.0</td>\n",
       "      <td></td>\n",
       "      <td>NaN</td>\n",
       "    </tr>\n",
       "    <tr>\n",
       "      <th>NCT02648022</th>\n",
       "      <td>B2</td>\n",
       "      <td>Male</td>\n",
       "      <td></td>\n",
       "      <td>Gender</td>\n",
       "      <td>Number</td>\n",
       "      <td>38.0</td>\n",
       "      <td></td>\n",
       "      <td>NaN</td>\n",
       "    </tr>\n",
       "    <tr>\n",
       "      <th>NCT02648022</th>\n",
       "      <td>B2</td>\n",
       "      <td>Female</td>\n",
       "      <td></td>\n",
       "      <td>Gender</td>\n",
       "      <td>Number</td>\n",
       "      <td>0.0</td>\n",
       "      <td></td>\n",
       "      <td>NaN</td>\n",
       "    </tr>\n",
       "    <tr>\n",
       "      <th>NCT02648022</th>\n",
       "      <td>B1</td>\n",
       "      <td>Male</td>\n",
       "      <td></td>\n",
       "      <td>Gender</td>\n",
       "      <td>Number</td>\n",
       "      <td>37.0</td>\n",
       "      <td></td>\n",
       "      <td>NaN</td>\n",
       "    </tr>\n",
       "    <tr>\n",
       "      <th>NCT02648022</th>\n",
       "      <td>B1</td>\n",
       "      <td>Female</td>\n",
       "      <td></td>\n",
       "      <td>Gender</td>\n",
       "      <td>Number</td>\n",
       "      <td>0.0</td>\n",
       "      <td></td>\n",
       "      <td>NaN</td>\n",
       "    </tr>\n",
       "  </tbody>\n",
       "</table>\n",
       "<p>300 rows × 8 columns</p>\n",
       "</div>"
      ],
      "text/plain": [
       "            ctgov_group_code_x classification category title_y param_type  \\\n",
       "nct_id                                                                      \n",
       "NCT00002525                 B2           Male           Gender     Number   \n",
       "NCT00002525                 B2         Female           Gender     Number   \n",
       "NCT00002525                 B1           Male           Gender     Number   \n",
       "NCT00002525                 B1         Female           Gender     Number   \n",
       "NCT00068588                 B3           Male           Gender     Number   \n",
       "...                        ...            ...      ...     ...        ...   \n",
       "NCT01928693                 B2         Female           Gender     Number   \n",
       "NCT02648022                 B2           Male           Gender     Number   \n",
       "NCT02648022                 B2         Female           Gender     Number   \n",
       "NCT02648022                 B1           Male           Gender     Number   \n",
       "NCT02648022                 B1         Female           Gender     Number   \n",
       "\n",
       "             param_value_num dispersion_type  dispersion_value_num  \n",
       "nct_id                                                              \n",
       "NCT00002525             96.0                                   NaN  \n",
       "NCT00002525             61.0                                   NaN  \n",
       "NCT00002525             99.0                                   NaN  \n",
       "NCT00002525             57.0                                   NaN  \n",
       "NCT00068588              0.0                                   NaN  \n",
       "...                      ...             ...                   ...  \n",
       "NCT01928693              1.0                                   NaN  \n",
       "NCT02648022             38.0                                   NaN  \n",
       "NCT02648022              0.0                                   NaN  \n",
       "NCT02648022             37.0                                   NaN  \n",
       "NCT02648022              0.0                                   NaN  \n",
       "\n",
       "[300 rows x 8 columns]"
      ]
     },
     "execution_count": 10,
     "metadata": {},
     "output_type": "execute_result"
    }
   ],
   "source": [
    "df[(df['title_y'].isin(gender_title_y)) & (df['category'] == '')]"
   ]
  },
  {
   "cell_type": "code",
   "execution_count": 11,
   "metadata": {},
   "outputs": [],
   "source": [
    "def get_gender(row):\n",
    "    if row['category'] == '':\n",
    "        return row['classification'].lower()\n",
    "    else: \n",
    "        return row['category'].lower()"
   ]
  },
  {
   "cell_type": "code",
   "execution_count": 12,
   "metadata": {},
   "outputs": [],
   "source": [
    "df = study_balance_dat.copy()\n",
    "df['filled_gender'] = df.apply(get_gender, axis=1)\n",
    "df['is_gender'] = df['title_y'].apply(lambda x: True if x in gender_title_y else False)\n",
    "dfj = df[df['is_gender']].join(ss.studies[['start_date']])\n",
    "dfj['start_year'] = dfj['start_date'].apply(lambda x: x.year)"
   ]
  },
  {
   "cell_type": "code",
   "execution_count": 13,
   "metadata": {},
   "outputs": [],
   "source": [
    "df_gender_year = dfj.groupby(['start_year', \n",
    "                              'filled_gender'])[['param_value_num']].sum().reset_index()\n",
    "df_gender_yearp = df_gender_year.pivot(index='start_year', \n",
    "                                       columns='filled_gender', \n",
    "                                       values='param_value_num')"
   ]
  },
  {
   "cell_type": "code",
   "execution_count": 15,
   "metadata": {},
   "outputs": [
    {
     "data": {
      "image/png": "[encoded data removed]",
      "text/plain": [
       "<Figure size 576x432 with 1 Axes>"
      ]
     },
     "metadata": {
      "needs_background": "light"
     },
     "output_type": "display_data"
    }
   ],
   "source": [
    "df_gender_yearp.plot.bar(figsize=(8, 6))\n",
    "plt.show()"
   ]
  },
  {
   "cell_type": "code",
   "execution_count": 16,
   "metadata": {},
   "outputs": [],
   "source": [
    "df_gres = dfj.groupby(['filled_gender'])[['param_value_num']].sum().reset_index()\n",
    "df_gres['pct'] = df_gres['param_value_num'] / df_gres['param_value_num'].sum()"
   ]
  },
  {
   "cell_type": "code",
   "execution_count": 17,
   "metadata": {},
   "outputs": [
    {
     "data": {
      "text/html": [
       "<div>\n",
       "<style scoped>\n",
       "    .dataframe tbody tr th:only-of-type {\n",
       "        vertical-align: middle;\n",
       "    }\n",
       "\n",
       "    .dataframe tbody tr th {\n",
       "        vertical-align: top;\n",
       "    }\n",
       "\n",
       "    .dataframe thead th {\n",
       "        text-align: right;\n",
       "    }\n",
       "</style>\n",
       "<table border=\"1\" class=\"dataframe\">\n",
       "  <thead>\n",
       "    <tr style=\"text-align: right;\">\n",
       "      <th></th>\n",
       "      <th>filled_gender</th>\n",
       "      <th>param_value_num</th>\n",
       "      <th>pct</th>\n",
       "    </tr>\n",
       "  </thead>\n",
       "  <tbody>\n",
       "    <tr>\n",
       "      <th>0</th>\n",
       "      <td>female</td>\n",
       "      <td>3567142.0</td>\n",
       "      <td>0.503318</td>\n",
       "    </tr>\n",
       "    <tr>\n",
       "      <th>1</th>\n",
       "      <td>male</td>\n",
       "      <td>3520105.0</td>\n",
       "      <td>0.496682</td>\n",
       "    </tr>\n",
       "  </tbody>\n",
       "</table>\n",
       "</div>"
      ],
      "text/plain": [
       "  filled_gender  param_value_num       pct\n",
       "0        female        3567142.0  0.503318\n",
       "1          male        3520105.0  0.496682"
      ]
     },
     "execution_count": 17,
     "metadata": {},
     "output_type": "execute_result"
    }
   ],
   "source": [
    "df_gres"
   ]
  },
  {
   "cell_type": "markdown",
   "metadata": {},
   "source": [
    "## Distribution of Female / Total"
   ]
  },
  {
   "cell_type": "code",
   "execution_count": 19,
   "metadata": {},
   "outputs": [
    {
     "data": {
      "text/plain": [
       "array(['Count of Participants', 'Number', 'Count of Units'], dtype=object)"
      ]
     },
     "execution_count": 19,
     "metadata": {},
     "output_type": "execute_result"
    }
   ],
   "source": [
    "dfj['param_type'].unique()"
   ]
  },
  {
   "cell_type": "code",
   "execution_count": 24,
   "metadata": {},
   "outputs": [
    {
     "data": {
      "text/html": [
       "<div>\n",
       "<style scoped>\n",
       "    .dataframe tbody tr th:only-of-type {\n",
       "        vertical-align: middle;\n",
       "    }\n",
       "\n",
       "    .dataframe tbody tr th {\n",
       "        vertical-align: top;\n",
       "    }\n",
       "\n",
       "    .dataframe thead th {\n",
       "        text-align: right;\n",
       "    }\n",
       "</style>\n",
       "<table border=\"1\" class=\"dataframe\">\n",
       "  <thead>\n",
       "    <tr style=\"text-align: right;\">\n",
       "      <th>filled_gender</th>\n",
       "      <th>female</th>\n",
       "      <th>male</th>\n",
       "    </tr>\n",
       "    <tr>\n",
       "      <th>nct_id</th>\n",
       "      <th></th>\n",
       "      <th></th>\n",
       "    </tr>\n",
       "  </thead>\n",
       "  <tbody>\n",
       "    <tr>\n",
       "      <th>NCT00000125</th>\n",
       "      <td>705.0</td>\n",
       "      <td>931.0</td>\n",
       "    </tr>\n",
       "    <tr>\n",
       "      <th>NCT00000135</th>\n",
       "      <td>22.0</td>\n",
       "      <td>187.0</td>\n",
       "    </tr>\n",
       "    <tr>\n",
       "      <th>NCT00000136</th>\n",
       "      <td>20.0</td>\n",
       "      <td>214.0</td>\n",
       "    </tr>\n",
       "    <tr>\n",
       "      <th>NCT00000143</th>\n",
       "      <td>12.0</td>\n",
       "      <td>49.0</td>\n",
       "    </tr>\n",
       "    <tr>\n",
       "      <th>NCT00000371</th>\n",
       "      <td>11.0</td>\n",
       "      <td>44.0</td>\n",
       "    </tr>\n",
       "  </tbody>\n",
       "</table>\n",
       "</div>"
      ],
      "text/plain": [
       "filled_gender  female   male\n",
       "nct_id                      \n",
       "NCT00000125     705.0  931.0\n",
       "NCT00000135      22.0  187.0\n",
       "NCT00000136      20.0  214.0\n",
       "NCT00000143      12.0   49.0\n",
       "NCT00000371      11.0   44.0"
      ]
     },
     "execution_count": 24,
     "metadata": {},
     "output_type": "execute_result"
    }
   ],
   "source": [
    "df_per_study = dfj.groupby([dfj.index, 'filled_gender'])[['param_value_num']].sum()\n",
    "df_psp = df_per_study.reset_index().pivot(index='nct_id', \n",
    "                                          columns='filled_gender',  \n",
    "                                          values='param_value_num')\n",
    "df_psp.head()"
   ]
  },
  {
   "cell_type": "code",
   "execution_count": 26,
   "metadata": {},
   "outputs": [],
   "source": [
    "df_psp['fratio'] = df_psp['female'] / (df_psp['female'] + df_psp['male'])"
   ]
  },
  {
   "cell_type": "code",
   "execution_count": 34,
   "metadata": {},
   "outputs": [],
   "source": [
    "fm, fs = df_psp['fratio'].mean(), df_psp['fratio'].std()"
   ]
  },
  {
   "cell_type": "code",
   "execution_count": 45,
   "metadata": {},
   "outputs": [
    {
     "data": {
      "image/png": "[encoded data removed]",
      "text/plain": [
       "<Figure size 576x432 with 1 Axes>"
      ]
     },
     "metadata": {
      "needs_background": "light"
     },
     "output_type": "display_data"
    }
   ],
   "source": [
    "df_psp['fratio'].plot.hist(figsize=(8,6), bins=50)\n",
    "plt.axvline(fm, linestyle='--', color='k', label='mean = %.1f%%' % (fm * 100))\n",
    "plt.axvline(fm + fs, linestyle='--', color='r', alpha=0.5,\n",
    "            label='+1SD = %.1f%%' % ((fm + fs) * 100))\n",
    "plt.axvline(fm - fs, linestyle='--', color='r', alpha=0.5,\n",
    "            label='-1SD = %.1f%%' % ((fm - fs) * 100))\n",
    "plt.gca().xaxis.set_major_formatter(PercentFormatter(xmax=1))\n",
    "plt.legend()\n",
    "plt.show()"
   ]
  },
  {
   "cell_type": "markdown",
   "metadata": {},
   "source": [
    "### How many are full women vs full men?"
   ]
  },
  {
   "cell_type": "code",
   "execution_count": 49,
   "metadata": {},
   "outputs": [
    {
     "data": {
      "text/plain": [
       "0.10936847754785617"
      ]
     },
     "execution_count": 49,
     "metadata": {},
     "output_type": "execute_result"
    }
   ],
   "source": [
    "(df_psp['fratio'] == 1.).sum() / df_psp.shape[0]"
   ]
  },
  {
   "cell_type": "code",
   "execution_count": 50,
   "metadata": {},
   "outputs": [
    {
     "data": {
      "text/plain": [
       "0.046872204663366925"
      ]
     },
     "execution_count": 50,
     "metadata": {},
     "output_type": "execute_result"
    }
   ],
   "source": [
    "(df_psp['fratio'] == 0.).sum() / df_psp.shape[0]"
   ]
  },
  {
   "cell_type": "code",
   "execution_count": null,
   "metadata": {},
   "outputs": [],
   "source": []
  }
 ],
 "metadata": {
  "kernelspec": {
   "display_name": "Python 3",
   "language": "python",
   "name": "python3"
  },
  "language_info": {
   "codemirror_mode": {
    "name": "ipython",
    "version": 3
   },
   "file_extension": ".py",
   "mimetype": "text/x-python",
   "name": "python",
   "nbconvert_exporter": "python",
   "pygments_lexer": "ipython3",
   "version": "3.6.8"
  }
 },
 "nbformat": 4,
 "nbformat_minor": 2
}
