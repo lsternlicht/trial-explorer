{
 "cells": [
  {
   "cell_type": "markdown",
   "metadata": {},
   "source": [
    "## Notes from meeting\n",
    "- Sensitive name matching\n",
    "- Documenting balance, (and representation)\n",
    "    - impact of balance\n",
    "- correctly understanding p-values\n",
    "- trial industry changes\n",
    "    - big pharma\n",
    "    - phase 3\n",
    "    - enrollment\n",
    "        - how is the enrollment slice and dice by time and by groups of companies\n",
    "    - responding to events?\n",
    "    - trial bloom?\n",
    "    - block buster cursors"
   ]
  },
  {
   "cell_type": "code",
   "execution_count": null,
   "metadata": {},
   "outputs": [],
   "source": []
  }
 ],
 "metadata": {
  "kernelspec": {
   "display_name": "Python 3",
   "language": "python",
   "name": "python3"
  },
  "language_info": {
   "codemirror_mode": {
    "name": "ipython",
    "version": 3
   },
   "file_extension": ".py",
   "mimetype": "text/x-python",
   "name": "python",
   "nbconvert_exporter": "python",
   "pygments_lexer": "ipython3",
   "version": "3.6.8"
  }
 },
 "nbformat": 4,
 "nbformat_minor": 2
}
