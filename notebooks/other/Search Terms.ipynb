{
 "cells": [
  {
   "cell_type": "code",
   "execution_count": 12,
   "metadata": {},
   "outputs": [],
   "source": [
    "import numpy as np\n",
    "import pandas as pd\n",
    "\n",
    "from bs4 import BeautifulSoup\n",
    "import urllib\n",
    "import requests"
   ]
  },
  {
   "cell_type": "code",
   "execution_count": 25,
   "metadata": {},
   "outputs": [],
   "source": [
    "def search(query):\n",
    "    return \"http://www.bing.com/search?q=%s\" % (urllib.parse.quote_plus(query))"
   ]
  },
  {
   "cell_type": "code",
   "execution_count": 26,
   "metadata": {},
   "outputs": [],
   "source": [
    "headers = {'User-Agent':\n",
    "           'Mozilla/5.0 (Windows NT 10.0; Win64; x64; rv:54.0) Gecko/20100101 Firefox/54.0'}"
   ]
  },
  {
   "cell_type": "code",
   "execution_count": 173,
   "metadata": {
    "scrolled": true
   },
   "outputs": [],
   "source": [
    "def begins_with(full_text, sub_text):\n",
    "    if full_text[:len(sub_text)] == sub_text:\n",
    "        return True\n",
    "    return False\n",
    "\n",
    "def include_content(cur_text, tag):\n",
    "    exclude_prefixes = ['Click to view', 'See more on', 'Advertise', 'Help', 'Image:']\n",
    "    if len(cur_text) == 0:\n",
    "        return False\n",
    "    for excl in exclude_prefixes:\n",
    "        if begins_with(cur_text, excl):\n",
    "            return False\n",
    "    \n",
    "    if 'href' in tag.attrs:\n",
    "        if begins_with(tag['href'], 'https://'):\n",
    "            return True\n",
    "        \n",
    "    return False\n",
    "\n",
    "def print_sres(content_list):\n",
    "    for i, c in enumerate(content_list):\n",
    "        if include_content(c):\n",
    "            print(c.get_text().strip() + \"\\n\" + c['href'] + \"\\n\")\n",
    "        \n",
    "            \n",
    "def bing(search_term):\n",
    "    wiki_prefix = 'https://en.wikipedia.org/'\n",
    "    feat_doc = []\n",
    "    feat_links = []\n",
    "    feat_wiki = []\n",
    "    \n",
    "    url = search(search_term)\n",
    "    r = requests.get(url, headers=headers)\n",
    "    soup = BeautifulSoup(r.content, 'html5lib')\n",
    "    content_list = soup.find_all('a')\n",
    "    \n",
    "    # collecting terms\n",
    "    for i, c in enumerate(content_list):\n",
    "        cur_text = c.get_text().strip()\n",
    "        if include_content(cur_text, c):\n",
    "            feat_doc.append(cur_text)\n",
    "            feat_links.append(c['href'])\n",
    "            \n",
    "            if begins_with(c['href'], wiki_prefix):\n",
    "                feat_wiki.append(c['href'].replace(wiki_prefix, ''))\n",
    "    \n",
    "    return feat_doc, feat_links, feat_wiki"
   ]
  },
  {
   "cell_type": "markdown",
   "metadata": {},
   "source": [
    "### Case 1"
   ]
  },
  {
   "cell_type": "code",
   "execution_count": 190,
   "metadata": {},
   "outputs": [],
   "source": [
    "feat_doc, feat_links, feat_wiki = bing('non small cell lung cancer')"
   ]
  },
  {
   "cell_type": "code",
   "execution_count": 191,
   "metadata": {},
   "outputs": [],
   "source": [
    "feat_doc2, feat_links2, feat_wiki2 = bing(\"carcinoma, non-small-cell lung\")"
   ]
  },
  {
   "cell_type": "code",
   "execution_count": 192,
   "metadata": {},
   "outputs": [
    {
     "name": "stdout",
     "output_type": "stream",
     "text": [
      "---STRING 1 ---\n",
      "\n",
      "['Non-Small-Cell Lung Cancer: Causes, Symptoms, and Treatment', 'What Is Non-Small-Cell Lung Cancer?', 'Types of Immunotherapy for Non', 'Non-Small-Cell Lung Cancer Treatments by St…', 'Treatment of Metastatic Non', 'Non-Small Cell Lung Cancer Treatment (PDQ®)–Patient ...', 'Non-Small Cell Lung Cancer - What You Need to Know', 'What Is Lung Cancer? | Types of Lung Cancer', 'What Is Non-Small Cell Lung Cancer? Symptoms, Treatment ...', 'Non-small-cell lung carcinoma - Wikipedia', 'Non-Small Cell Lung Cancer vs. Small Cell Lung Cancer ...', 'Small cell vs. non-small cell lung cancer: What are the ...', 'Lung cancer - Symptoms and causes - Mayo Clinic', 'Small Cell Lung Cancer Treatment (PDQ®)–Patient Version ...', 'What’s the Difference Between Small Cell Lung Cancer and Non-Small C…', 'Non-Small Cell Lung Cancer Treatment (PDQ®)—Patient ...', 'Overview of Stage 3 Lung Cancer Symptoms', 'Stage 4 Lung Cancer Symptoms']\n",
      "\n",
      "---STRING 2 ---\n",
      "\n",
      "['Non-Small-Cell Lung Cancer: Causes, Symptoms, and Treatment', 'Non-Small Cell Lung Carcinoma: Life Expectancy and Prognosis', 'Non-Small Cell Lung Cancer Treatment (PDQ®)–Patient ...', 'Non-Small Cell Lung Cancer - What You Need to Know', 'Non-small Cell Lung Cancer Treatment by Stage', 'Non-Small Cell Lung Cancer vs. Small Cell Lung Cancer ...', 'Non-small Cell Lung Cancer Treatment | Lung Cancer ...', 'What Is Non-Small Cell Lung Cancer? Symptoms, Treatment ...']\n"
     ]
    }
   ],
   "source": [
    "print(\"---STRING 1 ---\\n\")\n",
    "print(feat_doc)\n",
    "\n",
    "print(\"\\n---STRING 2 ---\\n\")\n",
    "print(feat_doc2)"
   ]
  },
  {
   "cell_type": "code",
   "execution_count": 193,
   "metadata": {},
   "outputs": [
    {
     "name": "stdout",
     "output_type": "stream",
     "text": [
      "---LINK 1 ---\n",
      "\n",
      "['https://www.webmd.com/lung-cancer/non-small-cell-lung-cancer', 'https://www.webmd.com/lung-cancer/what-is-nsclc', 'https://www.webmd.com/lung-cancer/non-small-cell-lung-cancer-immunotherapy', 'https://www.webmd.com/lung-cancer/non-small-cell-lung-cancer-treatment-stage', 'https://www.webmd.com/lung-cancer/metastatic-nsclc-treatments', 'https://www.cancer.gov/types/lung/patient/non-small-cell-lung-treatment-pdq', 'https://www.drugs.com/cg/non-small-cell-lung-cancer.html', 'https://www.cancer.org/cancer/lung-cancer/about/what-is.html', 'https://www.emedicinehealth.com/non-small-cell_lung_cancer/article_em.htm', 'https://en.wikipedia.org/wiki/Non-small-cell_lung_carcinoma', 'https://www.medicinenet.com/non-small_cell_lung_cancer_vs_small_cell/article.htm', 'https://www.medicalnewstoday.com/articles/316477.php', 'https://www.mayoclinic.org/diseases-conditions/lung-cancer/symptoms-causes/syc-20374620', 'https://www.cancer.gov/types/lung/patient/small-cell-lung-treatment-pdq', 'https://www.health.com/smoking/small-cell-lung-cancer-non-small-cell-lung-cancer', 'https://www.cancer.gov/types/lung/patient/non-small-cell-lung-treatment-pdq', 'https://www.verywell.com/what-is-stage-3-lung-cancer-life-expectancy-2249419', 'https://healthhearty.com/stage-4lung-cancer-symptoms']\n",
      "\n",
      "---LINK 2 ---\n",
      "\n",
      "['https://www.webmd.com/lung-cancer/non-small-cell-lung-cancer', 'https://www.healthline.com/health/lung-cancer/non-small-cell-lung-carcinoma-prognosis', 'https://www.cancer.gov/types/lung/patient/non-small-cell-lung-treatment-pdq', 'https://www.drugs.com/cg/non-small-cell-lung-cancer.html', 'https://www.cancer.org/cancer/lung-cancer/treating-non-small-cell/by-stage.html', 'https://www.medicinenet.com/non-small_cell_lung_cancer_vs_small_cell/article.htm', 'https://www.cancer.org/cancer/lung-cancer/treating-non-small-cell.html', 'https://www.emedicinehealth.com/non-small-cell_lung_cancer/article_em.htm']\n"
     ]
    }
   ],
   "source": [
    "print(\"---LINK 1 ---\\n\")\n",
    "print(feat_links)\n",
    "\n",
    "print(\"\\n---LINK 2 ---\\n\")\n",
    "print(feat_links2)"
   ]
  },
  {
   "cell_type": "code",
   "execution_count": 182,
   "metadata": {},
   "outputs": [
    {
     "data": {
      "text/plain": [
       "(['wiki/Non-small-cell_lung_carcinoma'],\n",
       " ['wiki/Non-small-cell_lung_carcinoma'])"
      ]
     },
     "execution_count": 182,
     "metadata": {},
     "output_type": "execute_result"
    }
   ],
   "source": [
    "feat_wiki, feat_wiki2"
   ]
  },
  {
   "cell_type": "markdown",
   "metadata": {},
   "source": [
    "## Case 2"
   ]
  },
  {
   "cell_type": "code",
   "execution_count": 183,
   "metadata": {},
   "outputs": [],
   "source": [
    "feat_doc, feat_links, feat_wiki = bing(\"parkinson's disease\")"
   ]
  },
  {
   "cell_type": "code",
   "execution_count": 184,
   "metadata": {},
   "outputs": [],
   "source": [
    "feat_doc2, feat_links2, feat_wiki2 = bing(\"parkinson disease\")"
   ]
  },
  {
   "cell_type": "code",
   "execution_count": 185,
   "metadata": {},
   "outputs": [
    {
     "data": {
      "text/plain": [
       "(['wiki/Parkinson%27s_disease', 'wiki/Parkinson%27s_disease'], [])"
      ]
     },
     "execution_count": 185,
     "metadata": {},
     "output_type": "execute_result"
    }
   ],
   "source": [
    "feat_wiki, feat_wiki2"
   ]
  },
  {
   "cell_type": "code",
   "execution_count": 188,
   "metadata": {
    "scrolled": true
   },
   "outputs": [
    {
     "name": "stdout",
     "output_type": "stream",
     "text": [
      "---STRING 1 ---\n",
      "\n",
      "[\"Parkinson's disease - Symptoms and causes - Mayo Clinic\", \"Parkinson's Disease Center: Symptoms, Treatments, Causes ...\", \"Parkinson's disease - Wikipedia\", 'Wikipedia', 'In DepthDifferentiation of multiple system atrophy from …Nature\\xa0· 5d', 'Parkinsons Disease Drugs Market Trends, Growth opportunities and Demand Forecast 2016-2022Nov 15, 2019 (AmericaNewsHour) -- Parkinson’s disease is a neurodegenerative …MarketWatch\\xa0· 1d', 'Parkinson’s Foundation: Better Lives. Together.', \"Parkinson's Disease Early and Later Symptoms, 5 Stages ...\", \"Parkinson's Disease | PD | MedlinePlus\", \"Symptoms | Parkinson's Disease\", \"Parkinson's disease: Early signs, causes, and risk factors\", 'Parkinson Disease - What You Need to Know', 'What Is Parkinson Disease (PD)?PD is a long-term movement disorder. The brain cells that control movement start to die and cause changes in how you move, feel, and act. Even thou...', 'What Increases My Risk For PD?1. Age 60 years or older 2. A family history of PD 3. Exposure to chemicals, such as pesticides or herbicides', 'What Are The Signs and Symptoms of PD?Symptoms often increase and get worse over time. You may have any of the following: 1. Tremors (shaking) that go away when you move or sleep 2. Tro...', 'Where Can I Find Support and More Information?1. American Parkinson Disease Association135 Parkinson Ave.Staten Island , NY 10305Phone: 1- 718 - 981-8001Web Address: http://www.apdaparkinson.or...', 'When Should I Seek Immediate Care?1. You feel like hurting or killing yourself or others. 2. You feel lightheaded, dizzy, or faint. 3. You have chest pain or shortness of breath. 4....', 'When Should I Contact My Healthcare Provider?1. You have a fever. 2. You are not sleeping well or you sleep more than usual. 3. You cannot eat or are eating more than usual. 4. You feel that y...', \"Parkinson's Disease Symptoms: 7 Early Warning Signs\", \"Parkinson's disease life expectancy | General center | SteadyHealth.com\", \"How Do You Die of Parkinson's Disease? - The New York Times\", 'New Medications available for managing Parkinson’s Disease | Neurolo…']\n",
      "\n",
      "---STRING 2 ---\n",
      "\n",
      "[\"Parkinson's disease - Symptoms and causes - Mayo Clinic\", \"Parkinson's Disease Center: Symptoms, Treatments, Causes ...\", 'How to Eat Right If You Have Parkinson’s Dis…', 'Parkinson’s Disease: How to Spot the Signs a…', \"The Basics on Parkinson's Disease\", \"What Is Parkinson's Disease?\", \"Parkinson's Disease - National Institute on Aging\", \"Scientists propose new theory of Parkinson's diseaseMedical News Today\\xa0· 4d\", 'In DepthDifferentiation of multiple system atrophy from …Nature\\xa0· 5d', 'Parkinson’s Foundation: Better Lives. Together.', \"Parkinson's Disease | PD | MedlinePlus\", 'Parkinson Disease - What You Need to Know', 'What Is Parkinson Disease (PD)?PD is a long-term movement disorder. The brain cells that control movement start to die and cause changes in how you move, feel, and act. Even thou...', 'What Increases My Risk For PD?1. Age 60 years or older 2. A family history of PD 3. Exposure to chemicals, such as pesticides or herbicides', 'What Are The Signs and Symptoms of PD?Symptoms often increase and get worse over time. You may have any of the following: 1. Tremors (shaking) that go away when you move or sleep 2. Tro...', 'Where Can I Find Support and More Information?1. American Parkinson Disease Association135 Parkinson Ave.Staten Island , NY 10305Phone: 1- 718 - 981-8001Web Address: http://www.apdaparkinson.or...', 'When Should I Seek Immediate Care?1. You feel like hurting or killing yourself or others. 2. You feel lightheaded, dizzy, or faint. 3. You have chest pain or shortness of breath. 4....', 'When Should I Contact My Healthcare Provider?1. You have a fever. 2. You are not sleeping well or you sleep more than usual. 3. You cannot eat or are eating more than usual. 4. You feel that y...', 'Learn more']\n"
     ]
    }
   ],
   "source": [
    "print(\"---STRING 1 ---\\n\")\n",
    "print(feat_doc)\n",
    "\n",
    "print(\"\\n---STRING 2 ---\\n\")\n",
    "print(feat_doc2)"
   ]
  },
  {
   "cell_type": "code",
   "execution_count": 189,
   "metadata": {
    "scrolled": true
   },
   "outputs": [
    {
     "name": "stdout",
     "output_type": "stream",
     "text": [
      "---LINK 1 ---\n",
      "\n",
      "['https://www.mayoclinic.org/diseases-conditions/parkinsons-disease/symptoms-causes/syc-20376055', 'https://www.webmd.com/parkinsons-disease/default.htm', 'https://en.wikipedia.org/wiki/Parkinson%27s_disease', 'https://en.wikipedia.org/wiki/Parkinson%27s_disease', 'https://www.nature.com/articles/s41598-019-52829-8', 'https://www.marketwatch.com/press-release/parkinsons-disease-drugs-market-trends-growth-opportunities-and-demand-forecast-2016-2022-2019-11-15', 'https://www.parkinson.org/understanding-parkinsons/what-is-parkinsons', 'https://www.medicinenet.com/parkinsons_disease/article.htm', 'https://medlineplus.gov/parkinsonsdisease.html', 'https://www.michaeljfox.org/symptoms', 'https://www.medicalnewstoday.com/articles/323396.php', 'https://www.drugs.com/cg/parkinson-disease.html', 'https://www.drugs.com/cg/parkinson-disease.html', 'https://www.drugs.com/cg/parkinson-disease.html', 'https://www.drugs.com/cg/parkinson-disease.html', 'https://www.drugs.com/cg/parkinson-disease.html', 'https://www.drugs.com/cg/parkinson-disease.html', 'https://www.drugs.com/cg/parkinson-disease.html', 'https://www.healthline.com/health/parkinsons-warning-signs', 'https://ic.steadyhealth.com/parkinsons-disease-life-expectancy', 'https://well.blogs.nytimes.com/2017/01/13/how-do-you-die-of-parkinsons-disease/', 'https://www.neurologysolutions.com/parkinsons-disease/new-medications-parkinsons-disease/']\n",
      "\n",
      "---LINK 2 ---\n",
      "\n",
      "['https://www.mayoclinic.org/diseases-conditions/parkinsons-disease/symptoms-causes/syc-20376055', 'https://www.webmd.com/parkinsons-disease/default.htm', 'https://www.webmd.com/parkinsons-disease/guide/eating-right-parkinsons', 'https://www.webmd.com/parkinsons-disease/guide/parkinsons-common-symptoms', 'https://www.webmd.com/parkinsons-disease/guide/understanding-parkinsons-disease-basics', 'https://www.webmd.com/parkinsons-disease/parkinsons-disease-overview', 'https://www.nia.nih.gov/health/parkinsons-disease', 'https://www.medicalnewstoday.com/articles/326989.php', 'https://www.nature.com/articles/s41598-019-52829-8', 'https://www.parkinson.org/understanding-parkinsons/what-is-parkinsons', 'https://medlineplus.gov/parkinsonsdisease.html', 'https://www.drugs.com/cg/parkinson-disease.html', 'https://www.drugs.com/cg/parkinson-disease.html', 'https://www.drugs.com/cg/parkinson-disease.html', 'https://www.drugs.com/cg/parkinson-disease.html', 'https://www.drugs.com/cg/parkinson-disease.html', 'https://www.drugs.com/cg/parkinson-disease.html', 'https://www.drugs.com/cg/parkinson-disease.html', 'https://go.microsoft.com/fwlink/?linkid=2100071&clcid=0x409']\n"
     ]
    }
   ],
   "source": [
    "print(\"---LINK 1 ---\\n\")\n",
    "print(feat_links)\n",
    "\n",
    "print(\"\\n---LINK 2 ---\\n\")\n",
    "print(feat_links2)"
   ]
  },
  {
   "cell_type": "code",
   "execution_count": null,
   "metadata": {},
   "outputs": [],
   "source": []
  }
 ],
 "metadata": {
  "kernelspec": {
   "display_name": "Python 3",
   "language": "python",
   "name": "python3"
  },
  "language_info": {
   "codemirror_mode": {
    "name": "ipython",
    "version": 3
   },
   "file_extension": ".py",
   "mimetype": "text/x-python",
   "name": "python",
   "nbconvert_exporter": "python",
   "pygments_lexer": "ipython3",
   "version": "3.6.8"
  }
 },
 "nbformat": 4,
 "nbformat_minor": 2
}
