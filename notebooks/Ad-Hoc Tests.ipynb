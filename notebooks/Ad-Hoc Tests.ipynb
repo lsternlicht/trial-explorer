{
 "cells": [
  {
   "cell_type": "code",
   "execution_count": 1,
   "metadata": {},
   "outputs": [],
   "source": [
    "import pandas as pd\n",
    "import numpy as numpy\n",
    "from importlib import reload\n",
    "from tqdm import tqdm_notebook as tqdm\n",
    "import time\n",
    "\n",
    "import pdaactconn as pc\n",
    "from trialexplorer import AACTStudySet\n",
    "\n",
    "import matplotlib.pyplot\n",
    "%matplotlib inline"
   ]
  },
  {
   "cell_type": "code",
   "execution_count": 2,
   "metadata": {},
   "outputs": [
    {
     "name": "stdout",
     "output_type": "stream",
     "text": [
      "12790 studies loaded!\n",
      "Successfuly added these 3 dimensions: ['result_groups', 'outcomes', 'outcome_counts']\n",
      "Failed to add these 0 dimensions: []\n"
     ]
    }
   ],
   "source": [
    "reload(AACTStudySet)\n",
    "\n",
    "tested_dims = ['result_groups',\n",
    "               'outcomes', \n",
    "               'outcome_counts',\n",
    "               'outcome_measurements']\n",
    "\n",
    "conn = pc.AACTConnection(source=pc.AACTConnection.REMOTE)\n",
    "ss = AACTStudySet.AACTStudySet(tqdm_handler=tqdm)\n",
    "ss.add_constraint(\"start_date >= '2018-06-30'\")\n",
    "ss.add_constraint(\"start_date <= '2018-12-31'\")\n",
    "ss.load_studies()\n",
    "\n",
    "ss.add_dimensions(tested_dims)\n"
   ]
  },
  {
   "cell_type": "code",
   "execution_count": 3,
   "metadata": {},
   "outputs": [
    {
     "data": {
      "application/vnd.jupyter.widget-view+json": {
       "model_id": "40fab83ef3014c369403bb5b2301b980",
       "version_major": 2,
       "version_minor": 0
      },
      "text/plain": [
       "HBox(children=(IntProgress(value=0, max=26), HTML(value='')))"
      ]
     },
     "metadata": {},
     "output_type": "display_data"
    },
    {
     "name": "stdout",
     "output_type": "stream",
     "text": [
      "Syncing the temp table temp_cur_studies in 26 chunks x 500 records each\n",
      "\n",
      "Creating index on the temp table\n",
      " - Loading dimension result_groups\n",
      " -- Loading raw data\n",
      " -- Creating memory pointers for the .data dictionary keyed by nct_id\n",
      " - Loading dimension outcomes\n",
      " -- Loading raw data\n",
      " -- Creating memory pointers for the .data dictionary keyed by nct_id\n",
      " - Loading dimension outcome_counts\n",
      " -- Loading raw data\n",
      " -- Creating memory pointers for the .data dictionary keyed by nct_id\n"
     ]
    }
   ],
   "source": [
    "ss.refresh_dim_data()"
   ]
  },
  {
   "cell_type": "code",
   "execution_count": 4,
   "metadata": {
    "scrolled": true
   },
   "outputs": [
    {
     "name": "stdout",
     "output_type": "stream",
     "text": [
      "*** result_groups\n"
     ]
    },
    {
     "data": {
      "text/html": [
       "<div>\n",
       "<style scoped>\n",
       "    .dataframe tbody tr th:only-of-type {\n",
       "        vertical-align: middle;\n",
       "    }\n",
       "\n",
       "    .dataframe tbody tr th {\n",
       "        vertical-align: top;\n",
       "    }\n",
       "\n",
       "    .dataframe thead th {\n",
       "        text-align: right;\n",
       "    }\n",
       "</style>\n",
       "<table border=\"1\" class=\"dataframe\">\n",
       "  <thead>\n",
       "    <tr style=\"text-align: right;\">\n",
       "      <th></th>\n",
       "      <th>id</th>\n",
       "      <th>nct_id</th>\n",
       "      <th>ctgov_group_code</th>\n",
       "      <th>result_type</th>\n",
       "      <th>title</th>\n",
       "      <th>description</th>\n",
       "    </tr>\n",
       "  </thead>\n",
       "  <tbody>\n",
       "    <tr>\n",
       "      <td>0</td>\n",
       "      <td>14105968</td>\n",
       "      <td>NCT02610972</td>\n",
       "      <td>B3</td>\n",
       "      <td>Baseline</td>\n",
       "      <td>Total</td>\n",
       "      <td>Total of all reporting groups</td>\n",
       "    </tr>\n",
       "    <tr>\n",
       "      <td>1</td>\n",
       "      <td>14105969</td>\n",
       "      <td>NCT02610972</td>\n",
       "      <td>B2</td>\n",
       "      <td>Baseline</td>\n",
       "      <td>CLINICALLY HEALTHY</td>\n",
       "      <td>Women with a delivery of a healthy normal baby...</td>\n",
       "    </tr>\n",
       "  </tbody>\n",
       "</table>\n",
       "</div>"
      ],
      "text/plain": [
       "         id       nct_id ctgov_group_code result_type               title  \\\n",
       "0  14105968  NCT02610972               B3    Baseline               Total   \n",
       "1  14105969  NCT02610972               B2    Baseline  CLINICALLY HEALTHY   \n",
       "\n",
       "                                         description  \n",
       "0                      Total of all reporting groups  \n",
       "1  Women with a delivery of a healthy normal baby...  "
      ]
     },
     "metadata": {},
     "output_type": "display_data"
    },
    {
     "name": "stdout",
     "output_type": "stream",
     "text": [
      "(510, 6)\n",
      "\n",
      "\n",
      "*** outcomes\n"
     ]
    },
    {
     "data": {
      "text/html": [
       "<div>\n",
       "<style scoped>\n",
       "    .dataframe tbody tr th:only-of-type {\n",
       "        vertical-align: middle;\n",
       "    }\n",
       "\n",
       "    .dataframe tbody tr th {\n",
       "        vertical-align: top;\n",
       "    }\n",
       "\n",
       "    .dataframe thead th {\n",
       "        text-align: right;\n",
       "    }\n",
       "</style>\n",
       "<table border=\"1\" class=\"dataframe\">\n",
       "  <thead>\n",
       "    <tr style=\"text-align: right;\">\n",
       "      <th></th>\n",
       "      <th>id</th>\n",
       "      <th>nct_id</th>\n",
       "      <th>outcome_type</th>\n",
       "      <th>title</th>\n",
       "      <th>description</th>\n",
       "      <th>time_frame</th>\n",
       "      <th>population</th>\n",
       "      <th>anticipated_posting_date</th>\n",
       "      <th>anticipated_posting_month_year</th>\n",
       "      <th>units</th>\n",
       "      <th>units_analyzed</th>\n",
       "      <th>dispersion_type</th>\n",
       "      <th>param_type</th>\n",
       "    </tr>\n",
       "  </thead>\n",
       "  <tbody>\n",
       "    <tr>\n",
       "      <td>0</td>\n",
       "      <td>4265972</td>\n",
       "      <td>NCT02610972</td>\n",
       "      <td>Primary</td>\n",
       "      <td>Prevalence of Urine Congophilia Using Congo Re...</td>\n",
       "      <td>Prevalence of urine congophilia using Congo Re...</td>\n",
       "      <td>within 72 hours of urine sample collection</td>\n",
       "      <td></td>\n",
       "      <td>None</td>\n",
       "      <td></td>\n",
       "      <td>Participants</td>\n",
       "      <td></td>\n",
       "      <td></td>\n",
       "      <td>Count of Participants</td>\n",
       "    </tr>\n",
       "    <tr>\n",
       "      <td>1</td>\n",
       "      <td>3947130</td>\n",
       "      <td>NCT03196349</td>\n",
       "      <td>Other Pre-specified</td>\n",
       "      <td>Major Bleeding</td>\n",
       "      <td>Major bleeding</td>\n",
       "      <td>Randomization to 12 months</td>\n",
       "      <td></td>\n",
       "      <td>None</td>\n",
       "      <td></td>\n",
       "      <td>Participants</td>\n",
       "      <td></td>\n",
       "      <td></td>\n",
       "      <td>Count of Participants</td>\n",
       "    </tr>\n",
       "  </tbody>\n",
       "</table>\n",
       "</div>"
      ],
      "text/plain": [
       "        id       nct_id         outcome_type  \\\n",
       "0  4265972  NCT02610972              Primary   \n",
       "1  3947130  NCT03196349  Other Pre-specified   \n",
       "\n",
       "                                               title  \\\n",
       "0  Prevalence of Urine Congophilia Using Congo Re...   \n",
       "1                                     Major Bleeding   \n",
       "\n",
       "                                         description  \\\n",
       "0  Prevalence of urine congophilia using Congo Re...   \n",
       "1                                     Major bleeding   \n",
       "\n",
       "                                   time_frame population  \\\n",
       "0  within 72 hours of urine sample collection              \n",
       "1                  Randomization to 12 months              \n",
       "\n",
       "  anticipated_posting_date anticipated_posting_month_year         units  \\\n",
       "0                     None                                 Participants   \n",
       "1                     None                                 Participants   \n",
       "\n",
       "  units_analyzed dispersion_type             param_type  \n",
       "0                                 Count of Participants  \n",
       "1                                 Count of Participants  "
      ]
     },
     "metadata": {},
     "output_type": "display_data"
    },
    {
     "name": "stdout",
     "output_type": "stream",
     "text": [
      "(157, 13)\n",
      "\n",
      "\n",
      "*** outcome_counts\n"
     ]
    },
    {
     "data": {
      "text/html": [
       "<div>\n",
       "<style scoped>\n",
       "    .dataframe tbody tr th:only-of-type {\n",
       "        vertical-align: middle;\n",
       "    }\n",
       "\n",
       "    .dataframe tbody tr th {\n",
       "        vertical-align: top;\n",
       "    }\n",
       "\n",
       "    .dataframe thead th {\n",
       "        text-align: right;\n",
       "    }\n",
       "</style>\n",
       "<table border=\"1\" class=\"dataframe\">\n",
       "  <thead>\n",
       "    <tr style=\"text-align: right;\">\n",
       "      <th></th>\n",
       "      <th>id</th>\n",
       "      <th>nct_id</th>\n",
       "      <th>outcome_id</th>\n",
       "      <th>result_group_id</th>\n",
       "      <th>ctgov_group_code</th>\n",
       "      <th>scope</th>\n",
       "      <th>units</th>\n",
       "      <th>count</th>\n",
       "    </tr>\n",
       "  </thead>\n",
       "  <tbody>\n",
       "    <tr>\n",
       "      <td>0</td>\n",
       "      <td>9298768</td>\n",
       "      <td>NCT03628599</td>\n",
       "      <td>3944249</td>\n",
       "      <td>13045835</td>\n",
       "      <td>O2</td>\n",
       "      <td>Measure</td>\n",
       "      <td>Eyes</td>\n",
       "      <td>36</td>\n",
       "    </tr>\n",
       "    <tr>\n",
       "      <td>1</td>\n",
       "      <td>9298768</td>\n",
       "      <td>NCT03628599</td>\n",
       "      <td>3944249</td>\n",
       "      <td>13045835</td>\n",
       "      <td>O2</td>\n",
       "      <td>Measure</td>\n",
       "      <td>Eyes</td>\n",
       "      <td>36</td>\n",
       "    </tr>\n",
       "  </tbody>\n",
       "</table>\n",
       "</div>"
      ],
      "text/plain": [
       "        id       nct_id  outcome_id  result_group_id ctgov_group_code  \\\n",
       "0  9298768  NCT03628599     3944249         13045835               O2   \n",
       "1  9298768  NCT03628599     3944249         13045835               O2   \n",
       "\n",
       "     scope units  count  \n",
       "0  Measure  Eyes     36  \n",
       "1  Measure  Eyes     36  "
      ]
     },
     "metadata": {},
     "output_type": "display_data"
    },
    {
     "name": "stdout",
     "output_type": "stream",
     "text": [
      "(338, 8)\n",
      "\n",
      "\n"
     ]
    }
   ],
   "source": [
    "for k, cur_dim in ss.dimensions.items():\n",
    "    print('***', k)\n",
    "    display(cur_dim.raw_data.head(2))\n",
    "    print(cur_dim.raw_data.shape)\n",
    "    print('\\n')"
   ]
  },
  {
   "cell_type": "code",
   "execution_count": null,
   "metadata": {},
   "outputs": [],
   "source": []
  }
 ],
 "metadata": {
  "kernelspec": {
   "display_name": "Python 3",
   "language": "python",
   "name": "python3"
  },
  "language_info": {
   "codemirror_mode": {
    "name": "ipython",
    "version": 3
   },
   "file_extension": ".py",
   "mimetype": "text/x-python",
   "name": "python",
   "nbconvert_exporter": "python",
   "pygments_lexer": "ipython3",
   "version": "3.6.9"
  }
 },
 "nbformat": 4,
 "nbformat_minor": 2
}
