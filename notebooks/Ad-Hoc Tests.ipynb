{
 "cells": [
  {
   "cell_type": "code",
   "execution_count": 19,
   "metadata": {},
   "outputs": [],
   "source": [
    "import pandas as pd\n",
    "import numpy as numpy\n",
    "from importlib import reload\n",
    "from tqdm import tqdm_notebook as tqdm\n",
    "import time\n",
    "import os\n",
    "import psutil\n",
    "\n",
    "import pdaactconn as pc\n",
    "from trialexplorer import AACTStudySet\n",
    "\n",
    "import matplotlib.pyplot\n",
    "%matplotlib inline"
   ]
  },
  {
   "cell_type": "code",
   "execution_count": 20,
   "metadata": {},
   "outputs": [
    {
     "name": "stdout",
     "output_type": "stream",
     "text": [
      "12790 studies loaded!\n",
      "Successfuly added these 4 dimensions: ['result_groups', 'outcomes', 'outcome_counts', 'outcome_measurements']\n",
      "Failed to add these 0 dimensions: []\n"
     ]
    }
   ],
   "source": [
    "reload(AACTStudySet)\n",
    "\n",
    "tested_dims = ['result_groups',\n",
    "               'outcomes', \n",
    "               'outcome_counts',\n",
    "               'outcome_measurements']\n",
    "\n",
    "conn = pc.AACTConnection(source=pc.AACTConnection.LOCAL)\n",
    "ss = AACTStudySet.AACTStudySet(conn= conn, tqdm_handler=tqdm)\n",
    "ss.add_constraint(\"start_date >= '2018-06-30'\")\n",
    "ss.add_constraint(\"start_date <= '2018-12-31'\")\n",
    "ss.load_studies()\n",
    "\n",
    "ss.add_dimensions(tested_dims)"
   ]
  },
  {
   "cell_type": "code",
   "execution_count": 28,
   "metadata": {},
   "outputs": [
    {
     "data": {
      "text/plain": [
       "(12790, 63)"
      ]
     },
     "execution_count": 28,
     "metadata": {},
     "output_type": "execute_result"
    }
   ],
   "source": [
    "ss.studies.shape"
   ]
  },
  {
   "cell_type": "code",
   "execution_count": 30,
   "metadata": {},
   "outputs": [
    {
     "data": {
      "application/vnd.jupyter.widget-view+json": {
       "model_id": "32bf910b54774fb5bcf98a36a6b08569",
       "version_major": 2,
       "version_minor": 0
      },
      "text/plain": [
       "HBox(children=(IntProgress(value=0, max=26), HTML(value='')))"
      ]
     },
     "metadata": {},
     "output_type": "display_data"
    },
    {
     "name": "stdout",
     "output_type": "stream",
     "text": [
      "Syncing the temp table temp_cur_studies in 26 chunks x 500 records each\n",
      "\n",
      "Creating index on the temp table\n",
      " - Loading dimension result_groups\n",
      " -- Loading raw data\n",
      " -- Sorting index\n",
      " - Loading dimension outcomes\n",
      " -- Loading raw data\n",
      " -- Sorting index\n",
      " - Loading dimension outcome_counts\n",
      " -- Loading raw data\n",
      " -- Sorting index\n",
      " - Loading dimension outcome_measurements\n",
      " -- Loading raw data\n",
      " -- Sorting index\n"
     ]
    }
   ],
   "source": [
    "ss.refresh_dim_data()"
   ]
  },
  {
   "cell_type": "code",
   "execution_count": 33,
   "metadata": {
    "scrolled": true
   },
   "outputs": [
    {
     "name": "stdout",
     "output_type": "stream",
     "text": [
      "** result_groups\n",
      "                   id ctgov_group_code result_type               title  \\\n",
      "nct_id                                                                   \n",
      "NCT02610972  14105968               B3    Baseline               Total   \n",
      "NCT02610972  14105969               B2    Baseline  CLINICALLY HEALTHY   \n",
      "\n",
      "                                                   description  \n",
      "nct_id                                                          \n",
      "NCT02610972                      Total of all reporting groups  \n",
      "NCT02610972  Women with a delivery of a healthy normal baby...  \n",
      "** outcomes\n",
      "                  id         outcome_type  \\\n",
      "nct_id                                      \n",
      "NCT02610972  4265972              Primary   \n",
      "NCT03196349  3947130  Other Pre-specified   \n",
      "\n",
      "                                                         title  \\\n",
      "nct_id                                                           \n",
      "NCT02610972  Prevalence of Urine Congophilia Using Congo Re...   \n",
      "NCT03196349                                     Major Bleeding   \n",
      "\n",
      "                                                   description  \\\n",
      "nct_id                                                           \n",
      "NCT02610972  Prevalence of urine congophilia using Congo Re...   \n",
      "NCT03196349                                     Major bleeding   \n",
      "\n",
      "                                             time_frame population  \\\n",
      "nct_id                                                               \n",
      "NCT02610972  within 72 hours of urine sample collection              \n",
      "NCT03196349                  Randomization to 12 months              \n",
      "\n",
      "            anticipated_posting_date anticipated_posting_month_year  \\\n",
      "nct_id                                                                \n",
      "NCT02610972                     None                                  \n",
      "NCT03196349                     None                                  \n",
      "\n",
      "                    units units_analyzed dispersion_type  \\\n",
      "nct_id                                                     \n",
      "NCT02610972  Participants                                  \n",
      "NCT03196349  Participants                                  \n",
      "\n",
      "                        param_type  \n",
      "nct_id                              \n",
      "NCT02610972  Count of Participants  \n",
      "NCT03196349  Count of Participants  \n",
      "** outcome_counts\n",
      "                                              id ctgov_group_code    scope  \\\n",
      "nct_id      result_group_id outcome_id                                       \n",
      "NCT02610972 14105973        4265972     10055373               O2  Measure   \n",
      "            14105974        4265972     10055374               O1  Measure   \n",
      "\n",
      "                                               units  count  \n",
      "nct_id      result_group_id outcome_id                       \n",
      "NCT02610972 14105973        4265972     Participants     50  \n",
      "            14105974        4265972     Participants    100  \n",
      "** outcome_measurements\n",
      "                                              id ctgov_group_code  \\\n",
      "nct_id      result_group_id outcome_id                              \n",
      "NCT02610972 14105973        4265972     31894991               O2   \n",
      "            14105974        4265972     31894992               O1   \n",
      "\n",
      "                                       classification category  \\\n",
      "nct_id      result_group_id outcome_id                           \n",
      "NCT02610972 14105973        4265972                              \n",
      "            14105974        4265972                              \n",
      "\n",
      "                                                                                    title  \\\n",
      "nct_id      result_group_id outcome_id                                                      \n",
      "NCT02610972 14105973        4265972     Prevalence of Urine Congophilia Using Congo Re...   \n",
      "            14105974        4265972     Prevalence of Urine Congophilia Using Congo Re...   \n",
      "\n",
      "                                                                              description  \\\n",
      "nct_id      result_group_id outcome_id                                                      \n",
      "NCT02610972 14105973        4265972     Prevalence of urine congophilia using Congo Re...   \n",
      "            14105974        4265972     Prevalence of urine congophilia using Congo Re...   \n",
      "\n",
      "                                               units             param_type  \\\n",
      "nct_id      result_group_id outcome_id                                        \n",
      "NCT02610972 14105973        4265972     Participants  Count of Participants   \n",
      "            14105974        4265972     Participants  Count of Participants   \n",
      "\n",
      "                                       param_value  param_value_num  \\\n",
      "nct_id      result_group_id outcome_id                                \n",
      "NCT02610972 14105973        4265972             18             18.0   \n",
      "            14105974        4265972             87             87.0   \n",
      "\n",
      "                                       dispersion_type dispersion_value  \\\n",
      "nct_id      result_group_id outcome_id                                    \n",
      "NCT02610972 14105973        4265972                                None   \n",
      "            14105974        4265972                                None   \n",
      "\n",
      "                                        dispersion_value_num  \\\n",
      "nct_id      result_group_id outcome_id                         \n",
      "NCT02610972 14105973        4265972                      NaN   \n",
      "            14105974        4265972                      NaN   \n",
      "\n",
      "                                        dispersion_lower_limit  \\\n",
      "nct_id      result_group_id outcome_id                           \n",
      "NCT02610972 14105973        4265972                        NaN   \n",
      "            14105974        4265972                        NaN   \n",
      "\n",
      "                                        dispersion_upper_limit  \\\n",
      "nct_id      result_group_id outcome_id                           \n",
      "NCT02610972 14105973        4265972                        NaN   \n",
      "            14105974        4265972                        NaN   \n",
      "\n",
      "                                       explanation_of_na  \n",
      "nct_id      result_group_id outcome_id                    \n",
      "NCT02610972 14105973        4265972                       \n",
      "            14105974        4265972                       \n"
     ]
    }
   ],
   "source": [
    "for dim_name, cur_dim in ss.dimensions.items():\n",
    "    print(\"**\", dim_name)\n",
    "    print(cur_dim.data.head(2))"
   ]
  },
  {
   "cell_type": "code",
   "execution_count": 34,
   "metadata": {},
   "outputs": [
    {
     "name": "stdout",
     "output_type": "stream",
     "text": [
      "started with 12790 studies\n",
      "ended with 12690 studies\n",
      "Dropping records from the result_groups dimension\n",
      "Dropping records from the outcomes dimension\n",
      "Dropping records from the outcome_counts dimension\n",
      "Dropping records from the outcome_measurements dimension\n"
     ]
    }
   ],
   "source": [
    "ss.drop_studies(ss.studies[:100].index)"
   ]
  },
  {
   "cell_type": "code",
   "execution_count": null,
   "metadata": {},
   "outputs": [],
   "source": []
  }
 ],
 "metadata": {
  "kernelspec": {
   "display_name": "Python 3",
   "language": "python",
   "name": "python3"
  },
  "language_info": {
   "codemirror_mode": {
    "name": "ipython",
    "version": 3
   },
   "file_extension": ".py",
   "mimetype": "text/x-python",
   "name": "python",
   "nbconvert_exporter": "python",
   "pygments_lexer": "ipython3",
   "version": "3.6.9"
  }
 },
 "nbformat": 4,
 "nbformat_minor": 2
}
