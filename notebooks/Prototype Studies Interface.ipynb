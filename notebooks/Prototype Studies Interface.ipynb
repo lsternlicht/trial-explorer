{
 "cells": [
  {
   "cell_type": "code",
   "execution_count": 1,
   "metadata": {},
   "outputs": [],
   "source": [
    "import pandas as pd\n",
    "import numpy as numpy\n",
    "from importlib import reload\n",
    "from tqdm import tqdm_notebook as tqdm\n",
    "import time\n",
    "\n",
    "import pdaactconn as pc\n",
    "from trialexplorer import AACTStudySet\n",
    "\n",
    "import matplotlib.pyplot\n",
    "%matplotlib inline"
   ]
  },
  {
   "cell_type": "markdown",
   "metadata": {},
   "source": [
    "## Create the StudySet object, if no conn as param, defaults to a local connection"
   ]
  },
  {
   "cell_type": "code",
   "execution_count": null,
   "metadata": {},
   "outputs": [],
   "source": [
    "ss = AACTStudySet.AACTStudySet(tqdm_handler=tqdm)"
   ]
  },
  {
   "cell_type": "markdown",
   "metadata": {},
   "source": [
    "### Alternatively can pass a explicit connection object to the class to connect to remote"
   ]
  },
  {
   "cell_type": "code",
   "execution_count": null,
   "metadata": {},
   "outputs": [],
   "source": [
    "conn = pc.AACTConnection(source=pc.AACTConnection.REMOTE)\n",
    "ss = AACTStudySet.AACTStudySet(conn=conn, \n",
    "                               tqdm_handler=tqdm)"
   ]
  },
  {
   "cell_type": "markdown",
   "metadata": {},
   "source": [
    "### Can also set the connection directly"
   ]
  },
  {
   "cell_type": "code",
   "execution_count": null,
   "metadata": {},
   "outputs": [],
   "source": [
    "ss.conn.set_source(conn.LOCAL)"
   ]
  },
  {
   "cell_type": "markdown",
   "metadata": {},
   "source": [
    "### The study set starts with no data, we need to define our primary filter first\n",
    "\n",
    "using the list_columns() function, we can see the initial columns that we can filter on"
   ]
  },
  {
   "cell_type": "code",
   "execution_count": null,
   "metadata": {
    "scrolled": true
   },
   "outputs": [],
   "source": [
    "ss.list_columns()[:10]"
   ]
  },
  {
   "cell_type": "code",
   "execution_count": null,
   "metadata": {},
   "outputs": [],
   "source": [
    "len(ss.list_columns())"
   ]
  },
  {
   "cell_type": "markdown",
   "metadata": {},
   "source": [
    "### All filters are added on a \"AND\" basis, but we can and \"OR\" filters by adding it as 1 filter\n",
    "\n",
    "filters are added in SQL syntax"
   ]
  },
  {
   "cell_type": "code",
   "execution_count": null,
   "metadata": {},
   "outputs": [],
   "source": [
    "ss.add_constraint(\"start_date >= '2018-01-01'\")\n",
    "ss.add_constraint(\"start_date <= '2018-12-31'\")"
   ]
  },
  {
   "cell_type": "code",
   "execution_count": null,
   "metadata": {
    "scrolled": true
   },
   "outputs": [],
   "source": [
    "ss.show_constraints()"
   ]
  },
  {
   "cell_type": "code",
   "execution_count": null,
   "metadata": {},
   "outputs": [],
   "source": [
    "# remove the 1st constraint (0 indexed)\n",
    "ss.remove_constraint(0)\n",
    "ss.show_constraints()"
   ]
  },
  {
   "cell_type": "code",
   "execution_count": null,
   "metadata": {},
   "outputs": [],
   "source": [
    "# add it back\n",
    "ss.add_constraint(\"start_date >= '2018-01-01'\")\n",
    "ss.show_constraints()"
   ]
  },
  {
   "cell_type": "markdown",
   "metadata": {},
   "source": [
    "### Loads the studies from the main table into memory, saved in the self.studies dataframe"
   ]
  },
  {
   "cell_type": "code",
   "execution_count": null,
   "metadata": {},
   "outputs": [],
   "source": [
    "ss.load_studies()"
   ]
  },
  {
   "cell_type": "code",
   "execution_count": null,
   "metadata": {},
   "outputs": [],
   "source": [
    "ss.studies.head()"
   ]
  },
  {
   "cell_type": "code",
   "execution_count": null,
   "metadata": {},
   "outputs": [],
   "source": [
    "ss.studies.shape"
   ]
  },
  {
   "cell_type": "markdown",
   "metadata": {},
   "source": [
    "### To add dimensions, we need to know the names of the dimensions\n",
    "\n",
    "This is loaded into this attribute on init, which includes a list of implemented dimensions"
   ]
  },
  {
   "cell_type": "code",
   "execution_count": null,
   "metadata": {},
   "outputs": [],
   "source": [
    "ss.avail_dims.list"
   ]
  },
  {
   "cell_type": "markdown",
   "metadata": {},
   "source": [
    "### The .avail_dims attribute also supports tab-completion of implemented attributes:"
   ]
  },
  {
   "cell_type": "code",
   "execution_count": null,
   "metadata": {},
   "outputs": [],
   "source": [
    "ss.avail_dims.brief_summaries"
   ]
  },
  {
   "cell_type": "markdown",
   "metadata": {},
   "source": [
    "### to add a dimension, we just need to add the key of the dimension using this method:\n",
    "\n",
    "This will call the constructor of the dimension handler and link that Object to the StudySet object"
   ]
  },
  {
   "cell_type": "code",
   "execution_count": null,
   "metadata": {},
   "outputs": [],
   "source": [
    "ss.add_dimensions(['brief_summaries', 'links', 'designs', 'design_outcomes'])"
   ]
  },
  {
   "cell_type": "code",
   "execution_count": null,
   "metadata": {},
   "outputs": [],
   "source": [
    "ss.dimensions"
   ]
  },
  {
   "cell_type": "markdown",
   "metadata": {},
   "source": [
    "### At init, it is empty, but we can call refresh_dim_data to load it from the database:\n",
    "\n",
    "this uses the self.studies dataframe as the master list, and creates a temp table in the database with its nct_ids\n",
    "\n",
    "it the joins the dimension tables to that temp table so we only load the needed data"
   ]
  },
  {
   "cell_type": "code",
   "execution_count": null,
   "metadata": {},
   "outputs": [],
   "source": [
    "ss.refresh_dim_data()"
   ]
  },
  {
   "cell_type": "markdown",
   "metadata": {},
   "source": [
    "### The dimensional data is loaded in the dim object\n",
    "\n",
    "in 2 forms, raw_data, is the direct return from the database"
   ]
  },
  {
   "cell_type": "code",
   "execution_count": null,
   "metadata": {},
   "outputs": [],
   "source": [
    "cur_dim = ss.dimensions['brief_summaries']"
   ]
  },
  {
   "cell_type": "code",
   "execution_count": null,
   "metadata": {},
   "outputs": [],
   "source": [
    "cur_dim.raw_data.head()"
   ]
  },
  {
   "cell_type": "markdown",
   "metadata": {},
   "source": [
    "this is split into a dict keyed by nct_id in .data for ease of use, these refer to the same mem location so do not use any more memory"
   ]
  },
  {
   "cell_type": "code",
   "execution_count": null,
   "metadata": {},
   "outputs": [],
   "source": [
    "test_nct_id = ss.studies.index[5]\n",
    "test_nct_id"
   ]
  },
  {
   "cell_type": "code",
   "execution_count": null,
   "metadata": {},
   "outputs": [],
   "source": [
    "cur_dim.data[test_nct_id]"
   ]
  },
  {
   "cell_type": "markdown",
   "metadata": {},
   "source": [
    "### can access other dims too"
   ]
  },
  {
   "cell_type": "code",
   "execution_count": null,
   "metadata": {},
   "outputs": [],
   "source": [
    "cur_dim = ss.dimensions['design_outcomes']"
   ]
  },
  {
   "cell_type": "code",
   "execution_count": null,
   "metadata": {},
   "outputs": [],
   "source": [
    "cur_dim.raw_data.head()"
   ]
  },
  {
   "cell_type": "code",
   "execution_count": null,
   "metadata": {},
   "outputs": [],
   "source": [
    "cur_dim.data[test_nct_id]"
   ]
  },
  {
   "cell_type": "markdown",
   "metadata": {},
   "source": [
    "### A key design choice is dropping records from the main studies table:\n",
    "\n",
    "It will drop the records from the ss.studies table, and clean up any dimensions associated with it.\n",
    "\n",
    "As a result it is a bit slow:"
   ]
  },
  {
   "cell_type": "code",
   "execution_count": null,
   "metadata": {},
   "outputs": [],
   "source": [
    "to_drop = [ss.studies.index[5], ss.studies.index[6], ss.studies.index[7]]\n",
    "to_drop"
   ]
  },
  {
   "cell_type": "code",
   "execution_count": null,
   "metadata": {},
   "outputs": [],
   "source": [
    "ss.drop_studies(to_drop)"
   ]
  },
  {
   "cell_type": "markdown",
   "metadata": {},
   "source": [
    "The memory reduction is key as the user iterates and modifies the active studies list, \n",
    "\n",
    "**so we should test the memory clearing functionality carefully!!**"
   ]
  },
  {
   "cell_type": "markdown",
   "metadata": {},
   "source": [
    "### Testing dropping of dimensions"
   ]
  },
  {
   "cell_type": "code",
   "execution_count": null,
   "metadata": {},
   "outputs": [],
   "source": [
    "to_drop = list(ss.dimensions.keys())\n",
    "ss.drop_dimensions(to_drop)"
   ]
  },
  {
   "cell_type": "code",
   "execution_count": null,
   "metadata": {},
   "outputs": [],
   "source": [
    "ss.dimensions"
   ]
  },
  {
   "cell_type": "markdown",
   "metadata": {},
   "source": [
    "### Reloading the test case"
   ]
  },
  {
   "cell_type": "code",
   "execution_count": 2,
   "metadata": {},
   "outputs": [
    {
     "name": "stdout",
     "output_type": "stream",
     "text": [
      "25837 studies loaded!\n",
      "Successfuly added these 2 dimensions: ['result_groups', 'milestones']\n",
      "Failed to add these 0 dimensions: []\n"
     ]
    },
    {
     "data": {
      "application/vnd.jupyter.widget-view+json": {
       "model_id": "ef1a466174644fe1908e5331c0310a45",
       "version_major": 2,
       "version_minor": 0
      },
      "text/plain": [
       "HBox(children=(IntProgress(value=0, max=52), HTML(value='')))"
      ]
     },
     "metadata": {},
     "output_type": "display_data"
    },
    {
     "name": "stdout",
     "output_type": "stream",
     "text": [
      "Syncing the temp table temp_cur_studies in 52 chunks x 500 records each\n",
      "\n",
      " - Loading dimension result_groups\n",
      " -- Loading raw data\n",
      " -- Creating memory pointers for the .data dictionary keyed by nct_id\n",
      " - Loading dimension milestones\n",
      " -- Loading raw data\n",
      " -- Creating memory pointers for the .data dictionary keyed by nct_id\n"
     ]
    }
   ],
   "source": [
    "reload(AACTStudySet)\n",
    "\n",
    "ss = AACTStudySet.AACTStudySet(tqdm_handler=tqdm)\n",
    "ss.add_constraint(\"start_date >= '2018-01-01'\")\n",
    "ss.add_constraint(\"start_date <= '2018-12-31'\")\n",
    "ss.load_studies()\n",
    "\n",
    "ss.add_dimensions(['result_groups', 'milestones'])\n",
    "ss.refresh_dim_data()"
   ]
  },
  {
   "cell_type": "code",
   "execution_count": 19,
   "metadata": {},
   "outputs": [
    {
     "data": {
      "text/html": [
       "<div>\n",
       "<style scoped>\n",
       "    .dataframe tbody tr th:only-of-type {\n",
       "        vertical-align: middle;\n",
       "    }\n",
       "\n",
       "    .dataframe tbody tr th {\n",
       "        vertical-align: top;\n",
       "    }\n",
       "\n",
       "    .dataframe thead th {\n",
       "        text-align: right;\n",
       "    }\n",
       "</style>\n",
       "<table border=\"1\" class=\"dataframe\">\n",
       "  <thead>\n",
       "    <tr style=\"text-align: right;\">\n",
       "      <th></th>\n",
       "      <th>id</th>\n",
       "      <th>nct_id</th>\n",
       "      <th>ctgov_group_code</th>\n",
       "      <th>result_type</th>\n",
       "      <th>title</th>\n",
       "      <th>description</th>\n",
       "    </tr>\n",
       "  </thead>\n",
       "  <tbody>\n",
       "    <tr>\n",
       "      <td>0</td>\n",
       "      <td>14105968</td>\n",
       "      <td>NCT02610972</td>\n",
       "      <td>B3</td>\n",
       "      <td>Baseline</td>\n",
       "      <td>Total</td>\n",
       "      <td>Total of all reporting groups</td>\n",
       "    </tr>\n",
       "    <tr>\n",
       "      <td>1</td>\n",
       "      <td>14105969</td>\n",
       "      <td>NCT02610972</td>\n",
       "      <td>B2</td>\n",
       "      <td>Baseline</td>\n",
       "      <td>CLINICALLY HEALTHY</td>\n",
       "      <td>Women with a delivery of a healthy normal baby...</td>\n",
       "    </tr>\n",
       "    <tr>\n",
       "      <td>2</td>\n",
       "      <td>14105970</td>\n",
       "      <td>NCT02610972</td>\n",
       "      <td>B1</td>\n",
       "      <td>Baseline</td>\n",
       "      <td>CLINICALLY CONFIRMED PREECLAMPSIA</td>\n",
       "      <td>Women clinically diagnosed with preeclampsia (...</td>\n",
       "    </tr>\n",
       "    <tr>\n",
       "      <td>3</td>\n",
       "      <td>14105971</td>\n",
       "      <td>NCT02610972</td>\n",
       "      <td>P2</td>\n",
       "      <td>Participant Flow</td>\n",
       "      <td>CLINICALLY HEALTHY</td>\n",
       "      <td>Women with a delivery of a healthy normal baby...</td>\n",
       "    </tr>\n",
       "    <tr>\n",
       "      <td>4</td>\n",
       "      <td>14105972</td>\n",
       "      <td>NCT02610972</td>\n",
       "      <td>P1</td>\n",
       "      <td>Participant Flow</td>\n",
       "      <td>CLINICALLY CONFIRMED PREECLAMPSIA</td>\n",
       "      <td>Women clinically diagnosed with preeclampsia (...</td>\n",
       "    </tr>\n",
       "  </tbody>\n",
       "</table>\n",
       "</div>"
      ],
      "text/plain": [
       "         id       nct_id ctgov_group_code       result_type  \\\n",
       "0  14105968  NCT02610972               B3          Baseline   \n",
       "1  14105969  NCT02610972               B2          Baseline   \n",
       "2  14105970  NCT02610972               B1          Baseline   \n",
       "3  14105971  NCT02610972               P2  Participant Flow   \n",
       "4  14105972  NCT02610972               P1  Participant Flow   \n",
       "\n",
       "                               title  \\\n",
       "0                              Total   \n",
       "1                 CLINICALLY HEALTHY   \n",
       "2  CLINICALLY CONFIRMED PREECLAMPSIA   \n",
       "3                 CLINICALLY HEALTHY   \n",
       "4  CLINICALLY CONFIRMED PREECLAMPSIA   \n",
       "\n",
       "                                         description  \n",
       "0                      Total of all reporting groups  \n",
       "1  Women with a delivery of a healthy normal baby...  \n",
       "2  Women clinically diagnosed with preeclampsia (...  \n",
       "3  Women with a delivery of a healthy normal baby...  \n",
       "4  Women clinically diagnosed with preeclampsia (...  "
      ]
     },
     "execution_count": 19,
     "metadata": {},
     "output_type": "execute_result"
    }
   ],
   "source": [
    "ss.dimensions['result_groups'].raw_data.head()"
   ]
  },
  {
   "cell_type": "code",
   "execution_count": 4,
   "metadata": {},
   "outputs": [],
   "source": [
    "cur_dim = ss.dimensions['milestones']"
   ]
  },
  {
   "cell_type": "code",
   "execution_count": 8,
   "metadata": {},
   "outputs": [
    {
     "data": {
      "text/html": [
       "<div>\n",
       "<style scoped>\n",
       "    .dataframe tbody tr th:only-of-type {\n",
       "        vertical-align: middle;\n",
       "    }\n",
       "\n",
       "    .dataframe tbody tr th {\n",
       "        vertical-align: top;\n",
       "    }\n",
       "\n",
       "    .dataframe thead th {\n",
       "        text-align: right;\n",
       "    }\n",
       "</style>\n",
       "<table border=\"1\" class=\"dataframe\">\n",
       "  <thead>\n",
       "    <tr style=\"text-align: right;\">\n",
       "      <th></th>\n",
       "      <th>id</th>\n",
       "      <th>nct_id</th>\n",
       "      <th>result_group_id</th>\n",
       "      <th>ctgov_group_code</th>\n",
       "      <th>title</th>\n",
       "      <th>period</th>\n",
       "      <th>description</th>\n",
       "      <th>count</th>\n",
       "    </tr>\n",
       "  </thead>\n",
       "  <tbody>\n",
       "    <tr>\n",
       "      <td>0</td>\n",
       "      <td>5324481</td>\n",
       "      <td>NCT03478891</td>\n",
       "      <td>13048059</td>\n",
       "      <td>P1</td>\n",
       "      <td>NOT COMPLETED</td>\n",
       "      <td>Overall Study</td>\n",
       "      <td></td>\n",
       "      <td>1</td>\n",
       "    </tr>\n",
       "    <tr>\n",
       "      <td>1</td>\n",
       "      <td>5324484</td>\n",
       "      <td>NCT03478891</td>\n",
       "      <td>13048059</td>\n",
       "      <td>P1</td>\n",
       "      <td>COMPLETED</td>\n",
       "      <td>Overall Study</td>\n",
       "      <td></td>\n",
       "      <td>2</td>\n",
       "    </tr>\n",
       "    <tr>\n",
       "      <td>2</td>\n",
       "      <td>5324487</td>\n",
       "      <td>NCT03478891</td>\n",
       "      <td>13048059</td>\n",
       "      <td>P1</td>\n",
       "      <td>Received MAb114</td>\n",
       "      <td>Overall Study</td>\n",
       "      <td></td>\n",
       "      <td>3</td>\n",
       "    </tr>\n",
       "    <tr>\n",
       "      <td>3</td>\n",
       "      <td>5324490</td>\n",
       "      <td>NCT03478891</td>\n",
       "      <td>13048059</td>\n",
       "      <td>P1</td>\n",
       "      <td>STARTED</td>\n",
       "      <td>Overall Study</td>\n",
       "      <td></td>\n",
       "      <td>3</td>\n",
       "    </tr>\n",
       "    <tr>\n",
       "      <td>4</td>\n",
       "      <td>5324631</td>\n",
       "      <td>NCT03465904</td>\n",
       "      <td>13048366</td>\n",
       "      <td>P1</td>\n",
       "      <td>NOT COMPLETED</td>\n",
       "      <td>Overall Study</td>\n",
       "      <td></td>\n",
       "      <td>89</td>\n",
       "    </tr>\n",
       "  </tbody>\n",
       "</table>\n",
       "</div>"
      ],
      "text/plain": [
       "        id       nct_id  result_group_id ctgov_group_code            title  \\\n",
       "0  5324481  NCT03478891         13048059               P1    NOT COMPLETED   \n",
       "1  5324484  NCT03478891         13048059               P1        COMPLETED   \n",
       "2  5324487  NCT03478891         13048059               P1  Received MAb114   \n",
       "3  5324490  NCT03478891         13048059               P1          STARTED   \n",
       "4  5324631  NCT03465904         13048366               P1    NOT COMPLETED   \n",
       "\n",
       "          period description  count  \n",
       "0  Overall Study                  1  \n",
       "1  Overall Study                  2  \n",
       "2  Overall Study                  3  \n",
       "3  Overall Study                  3  \n",
       "4  Overall Study                 89  "
      ]
     },
     "execution_count": 8,
     "metadata": {},
     "output_type": "execute_result"
    }
   ],
   "source": [
    "df = cur_dim.raw_data\n",
    "df.head()"
   ]
  },
  {
   "cell_type": "code",
   "execution_count": null,
   "metadata": {},
   "outputs": [],
   "source": []
  }
 ],
 "metadata": {
  "kernelspec": {
   "display_name": "Python 3",
   "language": "python",
   "name": "python3"
  },
  "language_info": {
   "codemirror_mode": {
    "name": "ipython",
    "version": 3
   },
   "file_extension": ".py",
   "mimetype": "text/x-python",
   "name": "python",
   "nbconvert_exporter": "python",
   "pygments_lexer": "ipython3",
   "version": "3.6.9"
  }
 },
 "nbformat": 4,
 "nbformat_minor": 2
}
