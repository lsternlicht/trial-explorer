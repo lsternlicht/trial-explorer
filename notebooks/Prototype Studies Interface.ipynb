{
 "cells": [
  {
   "cell_type": "code",
   "execution_count": 1,
   "metadata": {},
   "outputs": [],
   "source": [
    "import pandas as pd\n",
    "import numpy as numpy\n",
    "from importlib import reload\n",
    "from tqdm import tqdm_notebook as tqdm\n",
    "import time\n",
    "\n",
    "import pdaactconn as pc\n",
    "from trialexplorer import AACTStudySet\n",
    "\n",
    "import matplotlib.pyplot\n",
    "%matplotlib inline"
   ]
  },
  {
   "cell_type": "markdown",
   "metadata": {},
   "source": [
    "## Create the StudySet object, if no conn as param, defaults to a local connection"
   ]
  },
  {
   "cell_type": "code",
   "execution_count": null,
   "metadata": {},
   "outputs": [],
   "source": [
    "ss = AACTStudySet.AACTStudySet(tqdm_handler=tqdm)"
   ]
  },
  {
   "cell_type": "markdown",
   "metadata": {},
   "source": [
    "### Alternatively can pass a explicit connection object to the class to connect to remote"
   ]
  },
  {
   "cell_type": "code",
   "execution_count": null,
   "metadata": {},
   "outputs": [],
   "source": [
    "conn = pc.AACTConnection(source=pc.AACTConnection.REMOTE)\n",
    "ss = AACTStudySet.AACTStudySet(conn=conn, \n",
    "                               tqdm_handler=tqdm)"
   ]
  },
  {
   "cell_type": "markdown",
   "metadata": {},
   "source": [
    "### Can also set the connection directly"
   ]
  },
  {
   "cell_type": "code",
   "execution_count": null,
   "metadata": {},
   "outputs": [],
   "source": [
    "ss.conn.set_source(conn.LOCAL)"
   ]
  },
  {
   "cell_type": "markdown",
   "metadata": {},
   "source": [
    "### The study set starts with no data, we need to define our primary filter first\n",
    "\n",
    "using the list_columns() function, we can see the initial columns that we can filter on"
   ]
  },
  {
   "cell_type": "code",
   "execution_count": null,
   "metadata": {
    "scrolled": true
   },
   "outputs": [],
   "source": [
    "ss.list_columns()[:10]"
   ]
  },
  {
   "cell_type": "code",
   "execution_count": null,
   "metadata": {},
   "outputs": [],
   "source": [
    "len(ss.list_columns())"
   ]
  },
  {
   "cell_type": "markdown",
   "metadata": {},
   "source": [
    "### All filters are added on a \"AND\" basis, but we can and \"OR\" filters by adding it as 1 filter\n",
    "\n",
    "filters are added in SQL syntax"
   ]
  },
  {
   "cell_type": "code",
   "execution_count": null,
   "metadata": {},
   "outputs": [],
   "source": [
    "ss.add_constraint(\"start_date >= '2018-01-01'\")\n",
    "ss.add_constraint(\"start_date <= '2018-12-31'\")"
   ]
  },
  {
   "cell_type": "code",
   "execution_count": null,
   "metadata": {
    "scrolled": true
   },
   "outputs": [],
   "source": [
    "ss.show_constraints()"
   ]
  },
  {
   "cell_type": "code",
   "execution_count": null,
   "metadata": {},
   "outputs": [],
   "source": [
    "# remove the 1st constraint (0 indexed)\n",
    "ss.remove_constraint(0)\n",
    "ss.show_constraints()"
   ]
  },
  {
   "cell_type": "code",
   "execution_count": null,
   "metadata": {},
   "outputs": [],
   "source": [
    "# add it back\n",
    "ss.add_constraint(\"start_date >= '2018-01-01'\")\n",
    "ss.show_constraints()"
   ]
  },
  {
   "cell_type": "markdown",
   "metadata": {},
   "source": [
    "### Loads the studies from the main table into memory, saved in the self.studies dataframe"
   ]
  },
  {
   "cell_type": "code",
   "execution_count": null,
   "metadata": {},
   "outputs": [],
   "source": [
    "ss.load_studies()"
   ]
  },
  {
   "cell_type": "code",
   "execution_count": null,
   "metadata": {},
   "outputs": [],
   "source": [
    "ss.studies.head()"
   ]
  },
  {
   "cell_type": "code",
   "execution_count": null,
   "metadata": {},
   "outputs": [],
   "source": [
    "ss.studies.shape"
   ]
  },
  {
   "cell_type": "markdown",
   "metadata": {},
   "source": [
    "### To add dimensions, we need to know the names of the dimensions\n",
    "\n",
    "This is loaded into this attribute on init, which includes a list of implemented dimensions"
   ]
  },
  {
   "cell_type": "code",
   "execution_count": null,
   "metadata": {},
   "outputs": [],
   "source": [
    "ss.avail_dims.list"
   ]
  },
  {
   "cell_type": "markdown",
   "metadata": {},
   "source": [
    "### The .avail_dims attribute also supports tab-completion of implemented attributes:"
   ]
  },
  {
   "cell_type": "code",
   "execution_count": null,
   "metadata": {},
   "outputs": [],
   "source": [
    "ss.avail_dims.brief_summaries"
   ]
  },
  {
   "cell_type": "markdown",
   "metadata": {},
   "source": [
    "### to add a dimension, we just need to add the key of the dimension using this method:\n",
    "\n",
    "This will call the constructor of the dimension handler and link that Object to the StudySet object"
   ]
  },
  {
   "cell_type": "code",
   "execution_count": null,
   "metadata": {},
   "outputs": [],
   "source": [
    "ss.add_dimensions(['brief_summaries', 'links', 'designs', 'design_outcomes'])"
   ]
  },
  {
   "cell_type": "code",
   "execution_count": null,
   "metadata": {},
   "outputs": [],
   "source": [
    "ss.dimensions"
   ]
  },
  {
   "cell_type": "markdown",
   "metadata": {},
   "source": [
    "### At init, it is empty, but we can call refresh_dim_data to load it from the database:\n",
    "\n",
    "this uses the self.studies dataframe as the master list, and creates a temp table in the database with its nct_ids\n",
    "\n",
    "it the joins the dimension tables to that temp table so we only load the needed data"
   ]
  },
  {
   "cell_type": "code",
   "execution_count": null,
   "metadata": {},
   "outputs": [],
   "source": [
    "ss.refresh_dim_data()"
   ]
  },
  {
   "cell_type": "markdown",
   "metadata": {},
   "source": [
    "### The dimensional data is loaded in the dim object\n",
    "\n",
    "in 2 forms, raw_data, is the direct return from the database"
   ]
  },
  {
   "cell_type": "code",
   "execution_count": null,
   "metadata": {},
   "outputs": [],
   "source": [
    "cur_dim = ss.dimensions['brief_summaries']"
   ]
  },
  {
   "cell_type": "code",
   "execution_count": null,
   "metadata": {},
   "outputs": [],
   "source": [
    "cur_dim.raw_data.head()"
   ]
  },
  {
   "cell_type": "markdown",
   "metadata": {},
   "source": [
    "this is split into a dict keyed by nct_id in .data for ease of use, these refer to the same mem location so do not use any more memory"
   ]
  },
  {
   "cell_type": "code",
   "execution_count": null,
   "metadata": {},
   "outputs": [],
   "source": [
    "test_nct_id = ss.studies.index[5]\n",
    "test_nct_id"
   ]
  },
  {
   "cell_type": "code",
   "execution_count": null,
   "metadata": {},
   "outputs": [],
   "source": [
    "cur_dim.data[test_nct_id]"
   ]
  },
  {
   "cell_type": "markdown",
   "metadata": {},
   "source": [
    "### can access other dims too"
   ]
  },
  {
   "cell_type": "code",
   "execution_count": null,
   "metadata": {},
   "outputs": [],
   "source": [
    "cur_dim = ss.dimensions['design_outcomes']"
   ]
  },
  {
   "cell_type": "code",
   "execution_count": null,
   "metadata": {},
   "outputs": [],
   "source": [
    "cur_dim.raw_data.head()"
   ]
  },
  {
   "cell_type": "code",
   "execution_count": null,
   "metadata": {},
   "outputs": [],
   "source": [
    "cur_dim.data[test_nct_id]"
   ]
  },
  {
   "cell_type": "markdown",
   "metadata": {},
   "source": [
    "### A key design choice is dropping records from the main studies table:\n",
    "\n",
    "It will drop the records from the ss.studies table, and clean up any dimensions associated with it.\n",
    "\n",
    "As a result it is a bit slow:"
   ]
  },
  {
   "cell_type": "code",
   "execution_count": null,
   "metadata": {},
   "outputs": [],
   "source": [
    "to_drop = [ss.studies.index[5], ss.studies.index[6], ss.studies.index[7]]\n",
    "to_drop"
   ]
  },
  {
   "cell_type": "code",
   "execution_count": null,
   "metadata": {},
   "outputs": [],
   "source": [
    "ss.drop_studies(to_drop)"
   ]
  },
  {
   "cell_type": "markdown",
   "metadata": {},
   "source": [
    "The memory reduction is key as the user iterates and modifies the active studies list, \n",
    "\n",
    "**so we should test the memory clearing functionality carefully!!**"
   ]
  },
  {
   "cell_type": "markdown",
   "metadata": {},
   "source": [
    "### Testing dropping of dimensions"
   ]
  },
  {
   "cell_type": "code",
   "execution_count": null,
   "metadata": {},
   "outputs": [],
   "source": [
    "to_drop = list(ss.dimensions.keys())\n",
    "ss.drop_dimensions(to_drop)"
   ]
  },
  {
   "cell_type": "code",
   "execution_count": null,
   "metadata": {},
   "outputs": [],
   "source": [
    "ss.dimensions"
   ]
  },
  {
   "cell_type": "markdown",
   "metadata": {},
   "source": [
    "### Reloading the test case"
   ]
  },
  {
   "cell_type": "code",
   "execution_count": 2,
   "metadata": {
    "scrolled": true
   },
   "outputs": [
    {
     "name": "stdout",
     "output_type": "stream",
     "text": [
      "12790 studies loaded!\n",
      "Successfuly added these 2 dimensions: ['interventions', 'intervention_other_names']\n",
      "Failed to add these 0 dimensions: []\n"
     ]
    }
   ],
   "source": [
    "reload(AACTStudySet)\n",
    "\n",
    "tested_dims = ['result_groups', 'milestones']\n",
    "\n",
    "ss = AACTStudySet.AACTStudySet(tqdm_handler=tqdm)\n",
    "ss.add_constraint(\"start_date >= '2018-06-30'\")\n",
    "ss.add_constraint(\"start_date <= '2018-12-31'\")\n",
    "ss.load_studies()\n",
    "\n",
    "ss.add_dimensions(tested_dims)\n"
   ]
  },
  {
   "cell_type": "code",
   "execution_count": 3,
   "metadata": {},
   "outputs": [
    {
     "name": "stdout",
     "output_type": "stream",
     "text": [
      "\n",
      "                SELECT \n",
      "                    a.* \n",
      "                FROM interventions a\n",
      "                JOIN temp_cur_studies tmp ON tmp.nct_id = a.nct_id \n",
      "                \n"
     ]
    }
   ],
   "source": [
    "print(ss.dimensions['interventions']._generate_load_query())"
   ]
  },
  {
   "cell_type": "code",
   "execution_count": 5,
   "metadata": {},
   "outputs": [
    {
     "name": "stdout",
     "output_type": "stream",
     "text": [
      "\n",
      "                SELECT \n",
      "                    a.* \n",
      "                FROM interventions b\n",
      "                JOIN temp_cur_studies tmp ON tmp.nct_id = b.nct_id\n",
      "                JOIN intervention_other_names a on a.nct_id=tmp.nct_id and b.id = a.intervention_id\n",
      "                \n"
     ]
    }
   ],
   "source": [
    "print(ss.dimensions['intervention_other_names']._generate_load_query())"
   ]
  },
  {
   "cell_type": "code",
   "execution_count": null,
   "metadata": {},
   "outputs": [],
   "source": [
    "ss.refresh_dim_data()"
   ]
  },
  {
   "cell_type": "code",
   "execution_count": null,
   "metadata": {},
   "outputs": [],
   "source": [
    "for k, cur_dim in ss.dimensions.items():\n",
    "    print(k)\n",
    "    display(ss.dimensions[cur_dim].raw_data.head(2))"
   ]
  },
  {
   "cell_type": "code",
   "execution_count": null,
   "metadata": {},
   "outputs": [],
   "source": []
  }
 ],
 "metadata": {
  "kernelspec": {
   "display_name": "Python 3",
   "language": "python",
   "name": "python3"
  },
  "language_info": {
   "codemirror_mode": {
    "name": "ipython",
    "version": 3
   },
   "file_extension": ".py",
   "mimetype": "text/x-python",
   "name": "python",
   "nbconvert_exporter": "python",
   "pygments_lexer": "ipython3",
   "version": "3.6.9"
  }
 },
 "nbformat": 4,
 "nbformat_minor": 2
}
