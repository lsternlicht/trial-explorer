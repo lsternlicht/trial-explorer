{
 "cells": [
  {
   "cell_type": "code",
   "execution_count": 1,
   "metadata": {},
   "outputs": [],
   "source": [
    "import pandas as pd\n",
    "import numpy as numpy\n",
    "\n",
    "from importlib import reload\n",
    "from tqdm import tqdm_notebook as tqdm\n",
    "\n",
    "import matplotlib.pyplot\n",
    "%matplotlib inline"
   ]
  },
  {
   "cell_type": "markdown",
   "metadata": {},
   "source": [
    "### Local Imports"
   ]
  },
  {
   "cell_type": "code",
   "execution_count": 2,
   "metadata": {},
   "outputs": [],
   "source": [
    "import pdaactconn as pc\n",
    "from trialexplorer import AACTStudySet"
   ]
  },
  {
   "cell_type": "code",
   "execution_count": 3,
   "metadata": {},
   "outputs": [
    {
     "data": {
      "text/plain": [
       "<module 'trialexplorer.AACTStudySet' from '/home/rmfeng/Documents/GradSchool/capstone/trial-explorer/trialexplorer/AACTStudySet.py'>"
      ]
     },
     "execution_count": 3,
     "metadata": {},
     "output_type": "execute_result"
    }
   ],
   "source": [
    "reload(pc)\n",
    "reload(AACTStudySet)"
   ]
  },
  {
   "cell_type": "code",
   "execution_count": 4,
   "metadata": {},
   "outputs": [],
   "source": [
    "ss = AACTStudySet.AACTStudySet(tqdm_handler=tqdm)"
   ]
  },
  {
   "cell_type": "code",
   "execution_count": 17,
   "metadata": {
    "scrolled": true
   },
   "outputs": [
    {
     "data": {
      "text/plain": [
       "['nct_id',\n",
       " 'nlm_download_date_description',\n",
       " 'study_first_submitted_date',\n",
       " 'results_first_submitted_date',\n",
       " 'disposition_first_submitted_date',\n",
       " 'last_update_submitted_date',\n",
       " 'study_first_submitted_qc_date',\n",
       " 'study_first_posted_date',\n",
       " 'study_first_posted_date_type',\n",
       " 'results_first_submitted_qc_date']"
      ]
     },
     "execution_count": 17,
     "metadata": {},
     "output_type": "execute_result"
    }
   ],
   "source": [
    "ss.list_columns()[:10]"
   ]
  },
  {
   "cell_type": "code",
   "execution_count": 6,
   "metadata": {},
   "outputs": [],
   "source": [
    "ss.add_constraint(\"start_date >= '2018-01-01'\")\n",
    "ss.add_constraint(\"start_date <= '2018-12-31'\")"
   ]
  },
  {
   "cell_type": "code",
   "execution_count": 7,
   "metadata": {
    "scrolled": true
   },
   "outputs": [
    {
     "name": "stdout",
     "output_type": "stream",
     "text": [
      "WHERE 1=1 \n",
      "    AND (start_date >= '2018-01-01')\n",
      "    AND (start_date <= '2018-12-31')\n",
      "\n"
     ]
    }
   ],
   "source": [
    "ss.show_constraints()"
   ]
  },
  {
   "cell_type": "code",
   "execution_count": 8,
   "metadata": {},
   "outputs": [
    {
     "name": "stdout",
     "output_type": "stream",
     "text": [
      "WHERE 1=1 \n",
      "    AND (start_date <= '2018-12-31')\n",
      "\n"
     ]
    }
   ],
   "source": [
    "# remove the 1st constraint\n",
    "ss.remove_constraint(1)\n",
    "ss.show_constraints()"
   ]
  },
  {
   "cell_type": "code",
   "execution_count": 9,
   "metadata": {},
   "outputs": [
    {
     "name": "stdout",
     "output_type": "stream",
     "text": [
      "\n"
     ]
    }
   ],
   "source": [
    "# remove the 1st constraint\n",
    "ss.remove_constraint(1)\n",
    "ss.show_constraints()"
   ]
  },
  {
   "cell_type": "code",
   "execution_count": 10,
   "metadata": {},
   "outputs": [
    {
     "name": "stdout",
     "output_type": "stream",
     "text": [
      "317744 studies loaded!\n"
     ]
    }
   ],
   "source": [
    "ss.load_studies()"
   ]
  },
  {
   "cell_type": "code",
   "execution_count": 11,
   "metadata": {},
   "outputs": [
    {
     "data": {
      "text/html": [
       "<div>\n",
       "<style scoped>\n",
       "    .dataframe tbody tr th:only-of-type {\n",
       "        vertical-align: middle;\n",
       "    }\n",
       "\n",
       "    .dataframe tbody tr th {\n",
       "        vertical-align: top;\n",
       "    }\n",
       "\n",
       "    .dataframe thead th {\n",
       "        text-align: right;\n",
       "    }\n",
       "</style>\n",
       "<table border=\"1\" class=\"dataframe\">\n",
       "  <thead>\n",
       "    <tr style=\"text-align: right;\">\n",
       "      <th></th>\n",
       "      <th>nct_id</th>\n",
       "    </tr>\n",
       "  </thead>\n",
       "  <tbody>\n",
       "    <tr>\n",
       "      <td>0</td>\n",
       "      <td>NCT04072757</td>\n",
       "    </tr>\n",
       "    <tr>\n",
       "      <td>1</td>\n",
       "      <td>NCT03993119</td>\n",
       "    </tr>\n",
       "    <tr>\n",
       "      <td>2</td>\n",
       "      <td>NCT03991728</td>\n",
       "    </tr>\n",
       "    <tr>\n",
       "      <td>3</td>\n",
       "      <td>NCT03990818</td>\n",
       "    </tr>\n",
       "    <tr>\n",
       "      <td>4</td>\n",
       "      <td>NCT04073069</td>\n",
       "    </tr>\n",
       "    <tr>\n",
       "      <td>...</td>\n",
       "      <td>...</td>\n",
       "    </tr>\n",
       "    <tr>\n",
       "      <td>317739</td>\n",
       "      <td>NCT00378482</td>\n",
       "    </tr>\n",
       "    <tr>\n",
       "      <td>317740</td>\n",
       "      <td>NCT00344331</td>\n",
       "    </tr>\n",
       "    <tr>\n",
       "      <td>317741</td>\n",
       "      <td>NCT00193739</td>\n",
       "    </tr>\n",
       "    <tr>\n",
       "      <td>317742</td>\n",
       "      <td>NCT00140894</td>\n",
       "    </tr>\n",
       "    <tr>\n",
       "      <td>317743</td>\n",
       "      <td>NCT00001337</td>\n",
       "    </tr>\n",
       "  </tbody>\n",
       "</table>\n",
       "<p>317744 rows × 1 columns</p>\n",
       "</div>"
      ],
      "text/plain": [
       "             nct_id\n",
       "0       NCT04072757\n",
       "1       NCT03993119\n",
       "2       NCT03991728\n",
       "3       NCT03990818\n",
       "4       NCT04073069\n",
       "...             ...\n",
       "317739  NCT00378482\n",
       "317740  NCT00344331\n",
       "317741  NCT00193739\n",
       "317742  NCT00140894\n",
       "317743  NCT00001337\n",
       "\n",
       "[317744 rows x 1 columns]"
      ]
     },
     "execution_count": 11,
     "metadata": {},
     "output_type": "execute_result"
    }
   ],
   "source": [
    "ss.conn.query(\"SELECT * FROM temp_cur_studies\")"
   ]
  },
  {
   "cell_type": "code",
   "execution_count": 12,
   "metadata": {},
   "outputs": [],
   "source": [
    "ss._reset_temp_table()"
   ]
  },
  {
   "cell_type": "code",
   "execution_count": 13,
   "metadata": {},
   "outputs": [
    {
     "data": {
      "text/html": [
       "<div>\n",
       "<style scoped>\n",
       "    .dataframe tbody tr th:only-of-type {\n",
       "        vertical-align: middle;\n",
       "    }\n",
       "\n",
       "    .dataframe tbody tr th {\n",
       "        vertical-align: top;\n",
       "    }\n",
       "\n",
       "    .dataframe thead th {\n",
       "        text-align: right;\n",
       "    }\n",
       "</style>\n",
       "<table border=\"1\" class=\"dataframe\">\n",
       "  <thead>\n",
       "    <tr style=\"text-align: right;\">\n",
       "      <th></th>\n",
       "      <th>nct_id</th>\n",
       "    </tr>\n",
       "  </thead>\n",
       "  <tbody>\n",
       "  </tbody>\n",
       "</table>\n",
       "</div>"
      ],
      "text/plain": [
       "Empty DataFrame\n",
       "Columns: [nct_id]\n",
       "Index: []"
      ]
     },
     "execution_count": 13,
     "metadata": {},
     "output_type": "execute_result"
    }
   ],
   "source": [
    "ss.conn.query(\"SELECT * FROM temp_cur_studies\")"
   ]
  },
  {
   "cell_type": "code",
   "execution_count": 14,
   "metadata": {},
   "outputs": [
    {
     "data": {
      "application/vnd.jupyter.widget-view+json": {
       "model_id": "89984585077149689a1bfb7efed49a2f",
       "version_major": 2,
       "version_minor": 0
      },
      "text/plain": [
       "HBox(children=(IntProgress(value=0, max=636), HTML(value='')))"
      ]
     },
     "metadata": {},
     "output_type": "display_data"
    },
    {
     "name": "stdout",
     "output_type": "stream",
     "text": [
      "\n"
     ]
    }
   ],
   "source": [
    "ss._chunk_insert(500)\n",
    "        "
   ]
  },
  {
   "cell_type": "code",
   "execution_count": 15,
   "metadata": {},
   "outputs": [
    {
     "data": {
      "text/html": [
       "<div>\n",
       "<style scoped>\n",
       "    .dataframe tbody tr th:only-of-type {\n",
       "        vertical-align: middle;\n",
       "    }\n",
       "\n",
       "    .dataframe tbody tr th {\n",
       "        vertical-align: top;\n",
       "    }\n",
       "\n",
       "    .dataframe thead th {\n",
       "        text-align: right;\n",
       "    }\n",
       "</style>\n",
       "<table border=\"1\" class=\"dataframe\">\n",
       "  <thead>\n",
       "    <tr style=\"text-align: right;\">\n",
       "      <th></th>\n",
       "      <th>nct_id</th>\n",
       "    </tr>\n",
       "  </thead>\n",
       "  <tbody>\n",
       "    <tr>\n",
       "      <td>0</td>\n",
       "      <td>NCT04072757</td>\n",
       "    </tr>\n",
       "    <tr>\n",
       "      <td>1</td>\n",
       "      <td>NCT03993119</td>\n",
       "    </tr>\n",
       "    <tr>\n",
       "      <td>2</td>\n",
       "      <td>NCT03991728</td>\n",
       "    </tr>\n",
       "    <tr>\n",
       "      <td>3</td>\n",
       "      <td>NCT03990818</td>\n",
       "    </tr>\n",
       "    <tr>\n",
       "      <td>4</td>\n",
       "      <td>NCT04073069</td>\n",
       "    </tr>\n",
       "    <tr>\n",
       "      <td>...</td>\n",
       "      <td>...</td>\n",
       "    </tr>\n",
       "    <tr>\n",
       "      <td>317739</td>\n",
       "      <td>NCT00378482</td>\n",
       "    </tr>\n",
       "    <tr>\n",
       "      <td>317740</td>\n",
       "      <td>NCT00344331</td>\n",
       "    </tr>\n",
       "    <tr>\n",
       "      <td>317741</td>\n",
       "      <td>NCT00193739</td>\n",
       "    </tr>\n",
       "    <tr>\n",
       "      <td>317742</td>\n",
       "      <td>NCT00140894</td>\n",
       "    </tr>\n",
       "    <tr>\n",
       "      <td>317743</td>\n",
       "      <td>NCT00001337</td>\n",
       "    </tr>\n",
       "  </tbody>\n",
       "</table>\n",
       "<p>317744 rows × 1 columns</p>\n",
       "</div>"
      ],
      "text/plain": [
       "             nct_id\n",
       "0       NCT04072757\n",
       "1       NCT03993119\n",
       "2       NCT03991728\n",
       "3       NCT03990818\n",
       "4       NCT04073069\n",
       "...             ...\n",
       "317739  NCT00378482\n",
       "317740  NCT00344331\n",
       "317741  NCT00193739\n",
       "317742  NCT00140894\n",
       "317743  NCT00001337\n",
       "\n",
       "[317744 rows x 1 columns]"
      ]
     },
     "execution_count": 15,
     "metadata": {},
     "output_type": "execute_result"
    }
   ],
   "source": [
    "ss.conn.query(\"SELECT * FROM temp_cur_studies\")"
   ]
  },
  {
   "cell_type": "code",
   "execution_count": 16,
   "metadata": {},
   "outputs": [],
   "source": [
    "ss.conn.close()"
   ]
  },
  {
   "cell_type": "code",
   "execution_count": null,
   "metadata": {},
   "outputs": [],
   "source": []
  }
 ],
 "metadata": {
  "kernelspec": {
   "display_name": "Python 3",
   "language": "python",
   "name": "python3"
  },
  "language_info": {
   "codemirror_mode": {
    "name": "ipython",
    "version": 3
   },
   "file_extension": ".py",
   "mimetype": "text/x-python",
   "name": "python",
   "nbconvert_exporter": "python",
   "pygments_lexer": "ipython3",
   "version": "3.6.9"
  }
 },
 "nbformat": 4,
 "nbformat_minor": 2
}
