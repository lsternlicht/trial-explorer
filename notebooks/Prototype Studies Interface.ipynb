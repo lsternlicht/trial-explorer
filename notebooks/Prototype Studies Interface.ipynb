{
 "cells": [
  {
   "cell_type": "code",
   "execution_count": 1,
   "metadata": {},
   "outputs": [],
   "source": [
    "import pandas as pd\n",
    "import numpy as numpy\n",
    "from importlib import reload\n",
    "from tqdm import tqdm_notebook as tqdm\n",
    "import time\n",
    "\n",
    "import pdaactconn as pc\n",
    "from trialexplorer import AACTStudySet\n",
    "\n",
    "import matplotlib.pyplot\n",
    "%matplotlib inline"
   ]
  },
  {
   "cell_type": "markdown",
   "metadata": {},
   "source": [
    "## Create the StudySet object, if no conn as param, defaults to a local connection"
   ]
  },
  {
   "cell_type": "code",
   "execution_count": 2,
   "metadata": {},
   "outputs": [],
   "source": [
    "ss = AACTStudySet.AACTStudySet(tqdm_handler=tqdm)"
   ]
  },
  {
   "cell_type": "markdown",
   "metadata": {},
   "source": [
    "### Alternatively can pass a explicit connection object to the class to connect to remote"
   ]
  },
  {
   "cell_type": "code",
   "execution_count": 3,
   "metadata": {},
   "outputs": [],
   "source": [
    "conn = pc.AACTConnection(source=pc.AACTConnection.REMOTE)\n",
    "ss = AACTStudySet.AACTStudySet(conn=conn, \n",
    "                               tqdm_handler=tqdm)"
   ]
  },
  {
   "cell_type": "markdown",
   "metadata": {},
   "source": [
    "### Can also set the connection directly"
   ]
  },
  {
   "cell_type": "code",
   "execution_count": 4,
   "metadata": {},
   "outputs": [
    {
     "name": "stdout",
     "output_type": "stream",
     "text": [
      "local\n"
     ]
    }
   ],
   "source": [
    "ss.conn.set_source(conn.LOCAL)"
   ]
  },
  {
   "cell_type": "markdown",
   "metadata": {},
   "source": [
    "### The tqdm handler is to show progress bars in notebook or in console:"
   ]
  },
  {
   "cell_type": "code",
   "execution_count": 5,
   "metadata": {},
   "outputs": [
    {
     "data": {
      "application/vnd.jupyter.widget-view+json": {
       "model_id": "e768b31e11fa4955abdda450aee24d1a",
       "version_major": 2,
       "version_minor": 0
      },
      "text/plain": [
       "HBox(children=(IntProgress(value=0), HTML(value='')))"
      ]
     },
     "metadata": {},
     "output_type": "display_data"
    },
    {
     "name": "stdout",
     "output_type": "stream",
     "text": [
      "\n"
     ]
    }
   ],
   "source": [
    "# example of tqdm\n",
    "for i in tqdm(range(0, 100)):\n",
    "    time.sleep(0.01)"
   ]
  },
  {
   "cell_type": "markdown",
   "metadata": {},
   "source": [
    "### The study set starts with no data, we need to define our primary filter first\n",
    "\n",
    "using the list_columns() function, we can see the initial columns that we can filter on"
   ]
  },
  {
   "cell_type": "code",
   "execution_count": 6,
   "metadata": {
    "scrolled": true
   },
   "outputs": [
    {
     "data": {
      "text/plain": [
       "['nct_id',\n",
       " 'nlm_download_date_description',\n",
       " 'study_first_submitted_date',\n",
       " 'results_first_submitted_date',\n",
       " 'disposition_first_submitted_date',\n",
       " 'last_update_submitted_date',\n",
       " 'study_first_submitted_qc_date',\n",
       " 'study_first_posted_date',\n",
       " 'study_first_posted_date_type',\n",
       " 'results_first_submitted_qc_date']"
      ]
     },
     "execution_count": 6,
     "metadata": {},
     "output_type": "execute_result"
    }
   ],
   "source": [
    "ss.list_columns()[:10]"
   ]
  },
  {
   "cell_type": "markdown",
   "metadata": {},
   "source": [
    "### All filters are added on a \"AND\" basis, but we can and \"OR\" filters by adding it as 1 filter\n",
    "\n",
    "filters are added in SQL syntax"
   ]
  },
  {
   "cell_type": "code",
   "execution_count": 7,
   "metadata": {},
   "outputs": [],
   "source": [
    "ss.add_constraint(\"start_date >= '2018-01-01'\")\n",
    "ss.add_constraint(\"start_date <= '2018-12-31'\")"
   ]
  },
  {
   "cell_type": "code",
   "execution_count": 8,
   "metadata": {
    "scrolled": true
   },
   "outputs": [
    {
     "name": "stdout",
     "output_type": "stream",
     "text": [
      "WHERE 1=1 \n",
      "    AND (start_date >= '2018-01-01')\n",
      "    AND (start_date <= '2018-12-31')\n",
      "\n"
     ]
    }
   ],
   "source": [
    "ss.show_constraints()"
   ]
  },
  {
   "cell_type": "code",
   "execution_count": 9,
   "metadata": {},
   "outputs": [
    {
     "name": "stdout",
     "output_type": "stream",
     "text": [
      "WHERE 1=1 \n",
      "    AND (start_date <= '2018-12-31')\n",
      "\n"
     ]
    }
   ],
   "source": [
    "# remove the 1st constraint (0 indexed)\n",
    "ss.remove_constraint(0)\n",
    "ss.show_constraints()"
   ]
  },
  {
   "cell_type": "code",
   "execution_count": 10,
   "metadata": {},
   "outputs": [
    {
     "name": "stdout",
     "output_type": "stream",
     "text": [
      "WHERE 1=1 \n",
      "    AND (start_date <= '2018-12-31')\n",
      "    AND (start_date >= '2018-01-01')\n",
      "\n"
     ]
    }
   ],
   "source": [
    "# add it back\n",
    "ss.add_constraint(\"start_date >= '2018-01-01'\")\n",
    "ss.show_constraints()"
   ]
  },
  {
   "cell_type": "markdown",
   "metadata": {},
   "source": [
    "### Loads the studies from the main table into memory, saved in the self.studies dataframe"
   ]
  },
  {
   "cell_type": "code",
   "execution_count": 11,
   "metadata": {},
   "outputs": [
    {
     "name": "stdout",
     "output_type": "stream",
     "text": [
      "25837 studies loaded!\n"
     ]
    }
   ],
   "source": [
    "ss.load_studies()"
   ]
  },
  {
   "cell_type": "code",
   "execution_count": 15,
   "metadata": {},
   "outputs": [
    {
     "data": {
      "text/html": [
       "<div>\n",
       "<style scoped>\n",
       "    .dataframe tbody tr th:only-of-type {\n",
       "        vertical-align: middle;\n",
       "    }\n",
       "\n",
       "    .dataframe tbody tr th {\n",
       "        vertical-align: top;\n",
       "    }\n",
       "\n",
       "    .dataframe thead th {\n",
       "        text-align: right;\n",
       "    }\n",
       "</style>\n",
       "<table border=\"1\" class=\"dataframe\">\n",
       "  <thead>\n",
       "    <tr style=\"text-align: right;\">\n",
       "      <th></th>\n",
       "      <th>nlm_download_date_description</th>\n",
       "      <th>study_first_submitted_date</th>\n",
       "      <th>results_first_submitted_date</th>\n",
       "      <th>disposition_first_submitted_date</th>\n",
       "      <th>last_update_submitted_date</th>\n",
       "      <th>study_first_submitted_qc_date</th>\n",
       "      <th>study_first_posted_date</th>\n",
       "      <th>study_first_posted_date_type</th>\n",
       "      <th>results_first_submitted_qc_date</th>\n",
       "      <th>results_first_posted_date</th>\n",
       "      <th>...</th>\n",
       "      <th>is_us_export</th>\n",
       "      <th>biospec_retention</th>\n",
       "      <th>biospec_description</th>\n",
       "      <th>ipd_time_frame</th>\n",
       "      <th>ipd_access_criteria</th>\n",
       "      <th>ipd_url</th>\n",
       "      <th>plan_to_share_ipd</th>\n",
       "      <th>plan_to_share_ipd_description</th>\n",
       "      <th>created_at</th>\n",
       "      <th>updated_at</th>\n",
       "    </tr>\n",
       "    <tr>\n",
       "      <th>nct_id</th>\n",
       "      <th></th>\n",
       "      <th></th>\n",
       "      <th></th>\n",
       "      <th></th>\n",
       "      <th></th>\n",
       "      <th></th>\n",
       "      <th></th>\n",
       "      <th></th>\n",
       "      <th></th>\n",
       "      <th></th>\n",
       "      <th></th>\n",
       "      <th></th>\n",
       "      <th></th>\n",
       "      <th></th>\n",
       "      <th></th>\n",
       "      <th></th>\n",
       "      <th></th>\n",
       "      <th></th>\n",
       "      <th></th>\n",
       "      <th></th>\n",
       "      <th></th>\n",
       "    </tr>\n",
       "  </thead>\n",
       "  <tbody>\n",
       "    <tr>\n",
       "      <td>NCT04073056</td>\n",
       "      <td>ClinicalTrials.gov processed this data on Augu...</td>\n",
       "      <td>2019-07-31</td>\n",
       "      <td>None</td>\n",
       "      <td>None</td>\n",
       "      <td>2019-08-27</td>\n",
       "      <td>2019-08-27</td>\n",
       "      <td>2019-08-28</td>\n",
       "      <td>Actual</td>\n",
       "      <td>None</td>\n",
       "      <td>None</td>\n",
       "      <td>...</td>\n",
       "      <td>None</td>\n",
       "      <td>None</td>\n",
       "      <td></td>\n",
       "      <td>None</td>\n",
       "      <td>None</td>\n",
       "      <td>None</td>\n",
       "      <td>No</td>\n",
       "      <td>None</td>\n",
       "      <td>2019-09-01 05:13:56.358461</td>\n",
       "      <td>2019-09-01 05:13:56.358461</td>\n",
       "    </tr>\n",
       "    <tr>\n",
       "      <td>NCT04072848</td>\n",
       "      <td>ClinicalTrials.gov processed this data on Augu...</td>\n",
       "      <td>2019-01-23</td>\n",
       "      <td>None</td>\n",
       "      <td>None</td>\n",
       "      <td>2019-08-27</td>\n",
       "      <td>2019-08-27</td>\n",
       "      <td>2019-08-28</td>\n",
       "      <td>Actual</td>\n",
       "      <td>None</td>\n",
       "      <td>None</td>\n",
       "      <td>...</td>\n",
       "      <td>None</td>\n",
       "      <td>None</td>\n",
       "      <td></td>\n",
       "      <td>None</td>\n",
       "      <td>None</td>\n",
       "      <td>None</td>\n",
       "      <td>No</td>\n",
       "      <td>None</td>\n",
       "      <td>2019-09-01 05:13:58.784006</td>\n",
       "      <td>2019-09-01 05:13:58.784006</td>\n",
       "    </tr>\n",
       "    <tr>\n",
       "      <td>NCT04072809</td>\n",
       "      <td>ClinicalTrials.gov processed this data on Augu...</td>\n",
       "      <td>2019-08-26</td>\n",
       "      <td>None</td>\n",
       "      <td>None</td>\n",
       "      <td>2019-08-27</td>\n",
       "      <td>2019-08-27</td>\n",
       "      <td>2019-08-28</td>\n",
       "      <td>Actual</td>\n",
       "      <td>None</td>\n",
       "      <td>None</td>\n",
       "      <td>...</td>\n",
       "      <td>None</td>\n",
       "      <td>Samples With DNA</td>\n",
       "      <td>\\n      saliva whole blood\\n</td>\n",
       "      <td>indefinite</td>\n",
       "      <td>Researchers who would like to access IPD must ...</td>\n",
       "      <td>https://cifasd.org</td>\n",
       "      <td>Yes</td>\n",
       "      <td>The types of information that will be shared i...</td>\n",
       "      <td>2019-09-01 05:13:59.002051</td>\n",
       "      <td>2019-09-01 05:13:59.002051</td>\n",
       "    </tr>\n",
       "    <tr>\n",
       "      <td>NCT04072679</td>\n",
       "      <td>ClinicalTrials.gov processed this data on Augu...</td>\n",
       "      <td>2019-08-23</td>\n",
       "      <td>None</td>\n",
       "      <td>None</td>\n",
       "      <td>2019-08-27</td>\n",
       "      <td>2019-08-27</td>\n",
       "      <td>2019-08-28</td>\n",
       "      <td>Actual</td>\n",
       "      <td>None</td>\n",
       "      <td>None</td>\n",
       "      <td>...</td>\n",
       "      <td>None</td>\n",
       "      <td>None</td>\n",
       "      <td></td>\n",
       "      <td>None</td>\n",
       "      <td>None</td>\n",
       "      <td>None</td>\n",
       "      <td>None</td>\n",
       "      <td>None</td>\n",
       "      <td>2019-09-01 05:13:59.816225</td>\n",
       "      <td>2019-09-01 05:13:59.816225</td>\n",
       "    </tr>\n",
       "    <tr>\n",
       "      <td>NCT04072627</td>\n",
       "      <td>ClinicalTrials.gov processed this data on Augu...</td>\n",
       "      <td>2019-08-27</td>\n",
       "      <td>None</td>\n",
       "      <td>None</td>\n",
       "      <td>2019-08-27</td>\n",
       "      <td>2019-08-27</td>\n",
       "      <td>2019-08-28</td>\n",
       "      <td>Actual</td>\n",
       "      <td>None</td>\n",
       "      <td>None</td>\n",
       "      <td>...</td>\n",
       "      <td>None</td>\n",
       "      <td>Samples With DNA</td>\n",
       "      <td>\\n      Breast Milk\\n</td>\n",
       "      <td>None</td>\n",
       "      <td>None</td>\n",
       "      <td>None</td>\n",
       "      <td>No</td>\n",
       "      <td>None</td>\n",
       "      <td>2019-09-01 05:14:00.131683</td>\n",
       "      <td>2019-09-01 05:14:00.131683</td>\n",
       "    </tr>\n",
       "  </tbody>\n",
       "</table>\n",
       "<p>5 rows × 63 columns</p>\n",
       "</div>"
      ],
      "text/plain": [
       "                                 nlm_download_date_description  \\\n",
       "nct_id                                                           \n",
       "NCT04073056  ClinicalTrials.gov processed this data on Augu...   \n",
       "NCT04072848  ClinicalTrials.gov processed this data on Augu...   \n",
       "NCT04072809  ClinicalTrials.gov processed this data on Augu...   \n",
       "NCT04072679  ClinicalTrials.gov processed this data on Augu...   \n",
       "NCT04072627  ClinicalTrials.gov processed this data on Augu...   \n",
       "\n",
       "            study_first_submitted_date results_first_submitted_date  \\\n",
       "nct_id                                                                \n",
       "NCT04073056                 2019-07-31                         None   \n",
       "NCT04072848                 2019-01-23                         None   \n",
       "NCT04072809                 2019-08-26                         None   \n",
       "NCT04072679                 2019-08-23                         None   \n",
       "NCT04072627                 2019-08-27                         None   \n",
       "\n",
       "            disposition_first_submitted_date last_update_submitted_date  \\\n",
       "nct_id                                                                    \n",
       "NCT04073056                             None                 2019-08-27   \n",
       "NCT04072848                             None                 2019-08-27   \n",
       "NCT04072809                             None                 2019-08-27   \n",
       "NCT04072679                             None                 2019-08-27   \n",
       "NCT04072627                             None                 2019-08-27   \n",
       "\n",
       "            study_first_submitted_qc_date study_first_posted_date  \\\n",
       "nct_id                                                              \n",
       "NCT04073056                    2019-08-27              2019-08-28   \n",
       "NCT04072848                    2019-08-27              2019-08-28   \n",
       "NCT04072809                    2019-08-27              2019-08-28   \n",
       "NCT04072679                    2019-08-27              2019-08-28   \n",
       "NCT04072627                    2019-08-27              2019-08-28   \n",
       "\n",
       "            study_first_posted_date_type results_first_submitted_qc_date  \\\n",
       "nct_id                                                                     \n",
       "NCT04073056                       Actual                            None   \n",
       "NCT04072848                       Actual                            None   \n",
       "NCT04072809                       Actual                            None   \n",
       "NCT04072679                       Actual                            None   \n",
       "NCT04072627                       Actual                            None   \n",
       "\n",
       "            results_first_posted_date  ... is_us_export biospec_retention  \\\n",
       "nct_id                                 ...                                  \n",
       "NCT04073056                      None  ...         None              None   \n",
       "NCT04072848                      None  ...         None              None   \n",
       "NCT04072809                      None  ...         None  Samples With DNA   \n",
       "NCT04072679                      None  ...         None              None   \n",
       "NCT04072627                      None  ...         None  Samples With DNA   \n",
       "\n",
       "                          biospec_description ipd_time_frame  \\\n",
       "nct_id                                                         \n",
       "NCT04073056                                             None   \n",
       "NCT04072848                                             None   \n",
       "NCT04072809  \\n      saliva whole blood\\n         indefinite   \n",
       "NCT04072679                                             None   \n",
       "NCT04072627         \\n      Breast Milk\\n               None   \n",
       "\n",
       "                                           ipd_access_criteria  \\\n",
       "nct_id                                                           \n",
       "NCT04073056                                               None   \n",
       "NCT04072848                                               None   \n",
       "NCT04072809  Researchers who would like to access IPD must ...   \n",
       "NCT04072679                                               None   \n",
       "NCT04072627                                               None   \n",
       "\n",
       "                        ipd_url plan_to_share_ipd  \\\n",
       "nct_id                                              \n",
       "NCT04073056                None                No   \n",
       "NCT04072848                None                No   \n",
       "NCT04072809  https://cifasd.org               Yes   \n",
       "NCT04072679                None              None   \n",
       "NCT04072627                None                No   \n",
       "\n",
       "                                 plan_to_share_ipd_description  \\\n",
       "nct_id                                                           \n",
       "NCT04073056                                               None   \n",
       "NCT04072848                                               None   \n",
       "NCT04072809  The types of information that will be shared i...   \n",
       "NCT04072679                                               None   \n",
       "NCT04072627                                               None   \n",
       "\n",
       "                            created_at                 updated_at  \n",
       "nct_id                                                             \n",
       "NCT04073056 2019-09-01 05:13:56.358461 2019-09-01 05:13:56.358461  \n",
       "NCT04072848 2019-09-01 05:13:58.784006 2019-09-01 05:13:58.784006  \n",
       "NCT04072809 2019-09-01 05:13:59.002051 2019-09-01 05:13:59.002051  \n",
       "NCT04072679 2019-09-01 05:13:59.816225 2019-09-01 05:13:59.816225  \n",
       "NCT04072627 2019-09-01 05:14:00.131683 2019-09-01 05:14:00.131683  \n",
       "\n",
       "[5 rows x 63 columns]"
      ]
     },
     "execution_count": 15,
     "metadata": {},
     "output_type": "execute_result"
    }
   ],
   "source": [
    "ss.studies.head()"
   ]
  },
  {
   "cell_type": "code",
   "execution_count": 16,
   "metadata": {},
   "outputs": [
    {
     "data": {
      "text/plain": [
       "(25837, 63)"
      ]
     },
     "execution_count": 16,
     "metadata": {},
     "output_type": "execute_result"
    }
   ],
   "source": [
    "ss.studies.shape"
   ]
  },
  {
   "cell_type": "markdown",
   "metadata": {},
   "source": [
    "### To add dimensions, we need to know the names of the dimensions\n",
    "\n",
    "This is loaded into this attribute on init, which includes a list of implemented dimensions"
   ]
  },
  {
   "cell_type": "code",
   "execution_count": 18,
   "metadata": {},
   "outputs": [
    {
     "data": {
      "text/plain": [
       "['brief_summaries']"
      ]
     },
     "execution_count": 18,
     "metadata": {},
     "output_type": "execute_result"
    }
   ],
   "source": [
    "ss.avail_dims.list"
   ]
  },
  {
   "cell_type": "markdown",
   "metadata": {},
   "source": [
    "### The .avail_dims attribute also supports tab-completion of implemented attributes:"
   ]
  },
  {
   "cell_type": "code",
   "execution_count": 19,
   "metadata": {},
   "outputs": [
    {
     "data": {
      "text/plain": [
       "'brief_summaries'"
      ]
     },
     "execution_count": 19,
     "metadata": {},
     "output_type": "execute_result"
    }
   ],
   "source": [
    "ss.avail_dims.brief_summaries"
   ]
  },
  {
   "cell_type": "markdown",
   "metadata": {},
   "source": [
    "### to add a dimension, we just need to add the key of the dimension using this method:\n",
    "\n",
    "This will call the constructor of the dimension handler and link that Object to the StudySet object"
   ]
  },
  {
   "cell_type": "code",
   "execution_count": 20,
   "metadata": {},
   "outputs": [
    {
     "name": "stdout",
     "output_type": "stream",
     "text": [
      "added brief_summaries to dimensions list, now 1 active\n"
     ]
    }
   ],
   "source": [
    "ss.add_dimension(ss.avail_dims.brief_summaries)"
   ]
  },
  {
   "cell_type": "code",
   "execution_count": 21,
   "metadata": {},
   "outputs": [
    {
     "data": {
      "text/plain": [
       "{'brief_summaries': <trialexplorer.AACTStudyDimFlat.AACTStudyDimFlat at 0x7f198bc38f98>}"
      ]
     },
     "execution_count": 21,
     "metadata": {},
     "output_type": "execute_result"
    }
   ],
   "source": [
    "ss.dimensions"
   ]
  },
  {
   "cell_type": "markdown",
   "metadata": {},
   "source": [
    "### At init, it is empty, but we can call refresh_dim_data to load it from the database:\n",
    "\n",
    "this uses the self.studies dataframe as the master list, and creates a temp table in the database with its nct_ids\n",
    "\n",
    "it the joins the dimension tables to that temp table so we only load the needed data"
   ]
  },
  {
   "cell_type": "code",
   "execution_count": 22,
   "metadata": {},
   "outputs": [
    {
     "data": {
      "application/vnd.jupyter.widget-view+json": {
       "model_id": "09380e0c4d8a482e940ddcfcd153ea63",
       "version_major": 2,
       "version_minor": 0
      },
      "text/plain": [
       "HBox(children=(IntProgress(value=0, max=52), HTML(value='')))"
      ]
     },
     "metadata": {},
     "output_type": "display_data"
    },
    {
     "name": "stdout",
     "output_type": "stream",
     "text": [
      "Syncing the temp table temp_cur_studies in 52 chunks x 500 records each\n",
      "\n",
      " - Loading dimension brief_summaries\n",
      " -- Loading raw data\n",
      " -- Creating memory pointers for the .data dictionary keyed by nct_id\n"
     ]
    }
   ],
   "source": [
    "ss.refresh_dim_data()"
   ]
  },
  {
   "cell_type": "markdown",
   "metadata": {},
   "source": [
    "### The dimensional data is loaded in the dim object\n",
    "\n",
    "in 2 forms, raw_data, is the direct return from the database"
   ]
  },
  {
   "cell_type": "code",
   "execution_count": 26,
   "metadata": {},
   "outputs": [],
   "source": [
    "cur_dim = ss.dimensions['brief_summaries']"
   ]
  },
  {
   "cell_type": "code",
   "execution_count": 27,
   "metadata": {},
   "outputs": [
    {
     "data": {
      "text/html": [
       "<div>\n",
       "<style scoped>\n",
       "    .dataframe tbody tr th:only-of-type {\n",
       "        vertical-align: middle;\n",
       "    }\n",
       "\n",
       "    .dataframe tbody tr th {\n",
       "        vertical-align: top;\n",
       "    }\n",
       "\n",
       "    .dataframe thead th {\n",
       "        text-align: right;\n",
       "    }\n",
       "</style>\n",
       "<table border=\"1\" class=\"dataframe\">\n",
       "  <thead>\n",
       "    <tr style=\"text-align: right;\">\n",
       "      <th></th>\n",
       "      <th>id</th>\n",
       "      <th>nct_id</th>\n",
       "      <th>description</th>\n",
       "    </tr>\n",
       "  </thead>\n",
       "  <tbody>\n",
       "    <tr>\n",
       "      <td>0</td>\n",
       "      <td>4988612</td>\n",
       "      <td>NCT00583817</td>\n",
       "      <td>\\n      The purpose of this study is to assess...</td>\n",
       "    </tr>\n",
       "    <tr>\n",
       "      <td>1</td>\n",
       "      <td>4985667</td>\n",
       "      <td>NCT00623389</td>\n",
       "      <td>\\n      The purpose of this study is to evalua...</td>\n",
       "    </tr>\n",
       "    <tr>\n",
       "      <td>2</td>\n",
       "      <td>4969520</td>\n",
       "      <td>NCT00837291</td>\n",
       "      <td>\\n      This study will test the effectiveness...</td>\n",
       "    </tr>\n",
       "    <tr>\n",
       "      <td>3</td>\n",
       "      <td>4964003</td>\n",
       "      <td>NCT00910884</td>\n",
       "      <td>\\n      RATIONALE: Natural supplements and a s...</td>\n",
       "    </tr>\n",
       "    <tr>\n",
       "      <td>4</td>\n",
       "      <td>4953668</td>\n",
       "      <td>NCT01048138</td>\n",
       "      <td>\\n      There is no AED or medication that has...</td>\n",
       "    </tr>\n",
       "  </tbody>\n",
       "</table>\n",
       "</div>"
      ],
      "text/plain": [
       "        id       nct_id                                        description\n",
       "0  4988612  NCT00583817  \\n      The purpose of this study is to assess...\n",
       "1  4985667  NCT00623389  \\n      The purpose of this study is to evalua...\n",
       "2  4969520  NCT00837291  \\n      This study will test the effectiveness...\n",
       "3  4964003  NCT00910884  \\n      RATIONALE: Natural supplements and a s...\n",
       "4  4953668  NCT01048138  \\n      There is no AED or medication that has..."
      ]
     },
     "execution_count": 27,
     "metadata": {},
     "output_type": "execute_result"
    }
   ],
   "source": [
    "cur_dim.raw_data.head()"
   ]
  },
  {
   "cell_type": "markdown",
   "metadata": {},
   "source": [
    "this is split into a dict keyed by nct_id in .data for ease of use, these refer to the same mem location so do not use any more memory"
   ]
  },
  {
   "cell_type": "code",
   "execution_count": 29,
   "metadata": {},
   "outputs": [
    {
     "data": {
      "text/plain": [
       "'NCT04072510'"
      ]
     },
     "execution_count": 29,
     "metadata": {},
     "output_type": "execute_result"
    }
   ],
   "source": [
    "test_nct_id = ss.studies.index[5]\n",
    "test_nct_id"
   ]
  },
  {
   "cell_type": "code",
   "execution_count": 30,
   "metadata": {},
   "outputs": [
    {
     "data": {
      "text/html": [
       "<div>\n",
       "<style scoped>\n",
       "    .dataframe tbody tr th:only-of-type {\n",
       "        vertical-align: middle;\n",
       "    }\n",
       "\n",
       "    .dataframe tbody tr th {\n",
       "        vertical-align: top;\n",
       "    }\n",
       "\n",
       "    .dataframe thead th {\n",
       "        text-align: right;\n",
       "    }\n",
       "</style>\n",
       "<table border=\"1\" class=\"dataframe\">\n",
       "  <thead>\n",
       "    <tr style=\"text-align: right;\">\n",
       "      <th></th>\n",
       "      <th>id</th>\n",
       "      <th>nct_id</th>\n",
       "      <th>description</th>\n",
       "    </tr>\n",
       "  </thead>\n",
       "  <tbody>\n",
       "    <tr>\n",
       "      <td>25652</td>\n",
       "      <td>4722707</td>\n",
       "      <td>NCT04072510</td>\n",
       "      <td>\\n      Self-esteem group is a novel, manualis...</td>\n",
       "    </tr>\n",
       "  </tbody>\n",
       "</table>\n",
       "</div>"
      ],
      "text/plain": [
       "            id       nct_id                                        description\n",
       "25652  4722707  NCT04072510  \\n      Self-esteem group is a novel, manualis..."
      ]
     },
     "execution_count": 30,
     "metadata": {},
     "output_type": "execute_result"
    }
   ],
   "source": [
    "cur_dim.data[test_nct_id]"
   ]
  },
  {
   "cell_type": "markdown",
   "metadata": {},
   "source": [
    "### The key design choice is dropping records from the main studies table:\n",
    "\n",
    "It will drop the records from the ss.studies table, and clean up any dimensions associated with it.\n",
    "\n",
    "As a result it is a bit slow:"
   ]
  },
  {
   "cell_type": "code",
   "execution_count": 31,
   "metadata": {},
   "outputs": [
    {
     "data": {
      "text/plain": [
       "['NCT04072510', 'NCT04072497', 'NCT04072432']"
      ]
     },
     "execution_count": 31,
     "metadata": {},
     "output_type": "execute_result"
    }
   ],
   "source": [
    "to_drop = [ss.studies.index[5], ss.studies.index[6], ss.studies.index[7]]\n",
    "to_drop"
   ]
  },
  {
   "cell_type": "code",
   "execution_count": 32,
   "metadata": {},
   "outputs": [
    {
     "name": "stdout",
     "output_type": "stream",
     "text": [
      "started with 25837 studies\n",
      "ended with 25834 studies\n",
      "Dropping records from the brief_summaries dimension\n",
      " -- Creating memory pointers for the .data dictionary keyed by nct_id\n"
     ]
    }
   ],
   "source": [
    "ss.drop_studies(to_drop)"
   ]
  },
  {
   "cell_type": "markdown",
   "metadata": {},
   "source": [
    "The memory reduction is key as the user iterates and modifies the active studies list, \n",
    "\n",
    "**so we should test the memory clearing functionality carefully!!**"
   ]
  },
  {
   "cell_type": "markdown",
   "metadata": {},
   "source": [
    "### Next Steps:\n",
    "\n",
    "- Implement all of the dimensions\n",
    "- Write tests\n",
    "- Start using it for answer questions!"
   ]
  },
  {
   "cell_type": "code",
   "execution_count": null,
   "metadata": {},
   "outputs": [],
   "source": []
  }
 ],
 "metadata": {
  "kernelspec": {
   "display_name": "Python 3",
   "language": "python",
   "name": "python3"
  },
  "language_info": {
   "codemirror_mode": {
    "name": "ipython",
    "version": 3
   },
   "file_extension": ".py",
   "mimetype": "text/x-python",
   "name": "python",
   "nbconvert_exporter": "python",
   "pygments_lexer": "ipython3",
   "version": "3.6.9"
  }
 },
 "nbformat": 4,
 "nbformat_minor": 2
}
