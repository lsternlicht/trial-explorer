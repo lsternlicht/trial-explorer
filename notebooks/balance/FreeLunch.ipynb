{
 "cells": [
  {
   "cell_type": "markdown",
   "metadata": {},
   "source": [
    "## Free Lunch\n",
    "### Goals:\n",
    "1) Explore the baseline characteristics data, including figuring out when it exists and how/how consistently it is coded.\n",
    "\n",
    "2) Whittle down studies to those we can assess balance on.\n",
    "\n",
    "3) Assess balance of those studies. (This part is sketched but not written)."
   ]
  },
  {
   "cell_type": "code",
   "execution_count": 1,
   "metadata": {},
   "outputs": [],
   "source": [
    "import pandas as pd\n",
    "import numpy as numpy\n",
    "from importlib import reload\n",
    "from tqdm import tqdm_notebook as tqdm\n",
    "import time\n",
    "\n",
    "import pdaactconn as pc\n",
    "from trialexplorer import AACTStudySet\n",
    "\n",
    "import matplotlib.pyplot\n",
    "%matplotlib inline"
   ]
  },
  {
   "cell_type": "markdown",
   "metadata": {},
   "source": [
    "We'll consider studies from 2010 to 2017 for now. We get over 130,000 studies."
   ]
  },
  {
   "cell_type": "code",
   "execution_count": 2,
   "metadata": {},
   "outputs": [
    {
     "name": "stdout",
     "output_type": "stream",
     "text": [
      "132961 studies loaded!\n"
     ]
    }
   ],
   "source": [
    "conn = pc.AACTConnection(source=pc.AACTConnection.REMOTE)\n",
    "ss = AACTStudySet.AACTStudySet(conn=conn, \n",
    "                               tqdm_handler=tqdm)\n",
    "ss.add_constraint(\"start_date >= '2010-01-01'\")\n",
    "ss.add_constraint(\"start_date <= '2017-12-31'\")\n",
    "ss.add_constraint(\"study_type = 'Interventional'\")\n",
    "ss.load_studies()"
   ]
  },
  {
   "cell_type": "markdown",
   "metadata": {},
   "source": [
    "The baseline characterstics data that can be found on ClinicalTrials.gov exists in the \"baseline_measurements\" table in the AACT database."
   ]
  },
  {
   "cell_type": "code",
   "execution_count": 3,
   "metadata": {},
   "outputs": [
    {
     "name": "stdout",
     "output_type": "stream",
     "text": [
      "Successfuly added these 1 dimensions: ['baseline_measurements']\n",
      "Failed to add these 0 dimensions: []\n"
     ]
    },
    {
     "data": {
      "application/vnd.jupyter.widget-view+json": {
       "model_id": "b731b692cf2545d286b43a44196f0d54",
       "version_major": 2,
       "version_minor": 0
      },
      "text/plain": [
       "HBox(children=(IntProgress(value=0, max=266), HTML(value='')))"
      ]
     },
     "metadata": {},
     "output_type": "display_data"
    },
    {
     "name": "stdout",
     "output_type": "stream",
     "text": [
      "Syncing the temp table temp_cur_studies in 266 chunks x 500 records each\n",
      "\n",
      "Creating index on the temp table\n",
      " - Loading dimension baseline_measurements\n",
      " -- Loading raw data\n",
      " -- Sorting index\n"
     ]
    }
   ],
   "source": [
    "ss.add_dimensions(['baseline_measurements'])\n",
    "ss.refresh_dim_data()\n",
    "bm = ss.dimensions['baseline_measurements']"
   ]
  },
  {
   "cell_type": "markdown",
   "metadata": {},
   "source": [
    "Below we show the baseline measurements for the first study listed. There are twelve total measurements, four for each of three groups. We can intuit that Group B3 is all participants combined. We'll see that it is common to have one group be the total of the others. B1 and B2 are two different treatment groups. Unfortunately which type of group they are (e.g. treatment vs. control vs. total) is not in this table. We'll find that info soon.\n",
    "\n",
    "This study has two count measures, both under \"Gender\", for Male and Female. Count parameters don't have corresponding dispersion parameters. The other two measures are age and some medical scale. Both of these use a mean parameter and have standard deviation dispersion parameters."
   ]
  },
  {
   "cell_type": "code",
   "execution_count": 4,
   "metadata": {},
   "outputs": [
    {
     "data": {
      "text/html": [
       "<div>\n",
       "<style scoped>\n",
       "    .dataframe tbody tr th:only-of-type {\n",
       "        vertical-align: middle;\n",
       "    }\n",
       "\n",
       "    .dataframe tbody tr th {\n",
       "        vertical-align: top;\n",
       "    }\n",
       "\n",
       "    .dataframe thead th {\n",
       "        text-align: right;\n",
       "    }\n",
       "</style>\n",
       "<table border=\"1\" class=\"dataframe\">\n",
       "  <thead>\n",
       "    <tr style=\"text-align: right;\">\n",
       "      <th></th>\n",
       "      <th></th>\n",
       "      <th>id</th>\n",
       "      <th>ctgov_group_code</th>\n",
       "      <th>classification</th>\n",
       "      <th>category</th>\n",
       "      <th>title</th>\n",
       "      <th>description</th>\n",
       "      <th>units</th>\n",
       "      <th>param_type</th>\n",
       "      <th>param_value</th>\n",
       "      <th>param_value_num</th>\n",
       "      <th>dispersion_type</th>\n",
       "      <th>dispersion_value</th>\n",
       "      <th>dispersion_value_num</th>\n",
       "      <th>dispersion_lower_limit</th>\n",
       "      <th>dispersion_upper_limit</th>\n",
       "      <th>explanation_of_na</th>\n",
       "    </tr>\n",
       "    <tr>\n",
       "      <th>nct_id</th>\n",
       "      <th>result_group_id</th>\n",
       "      <th></th>\n",
       "      <th></th>\n",
       "      <th></th>\n",
       "      <th></th>\n",
       "      <th></th>\n",
       "      <th></th>\n",
       "      <th></th>\n",
       "      <th></th>\n",
       "      <th></th>\n",
       "      <th></th>\n",
       "      <th></th>\n",
       "      <th></th>\n",
       "      <th></th>\n",
       "      <th></th>\n",
       "      <th></th>\n",
       "      <th></th>\n",
       "    </tr>\n",
       "  </thead>\n",
       "  <tbody>\n",
       "    <tr>\n",
       "      <th rowspan=\"12\" valign=\"top\">NCT00125528</th>\n",
       "      <th>16204996</th>\n",
       "      <td>17336066</td>\n",
       "      <td>B3</td>\n",
       "      <td></td>\n",
       "      <td></td>\n",
       "      <td>Numeric Rating Scale (NRS-11)</td>\n",
       "      <td>Numeric rating scale is an 11-point rating sca...</td>\n",
       "      <td>units on a scale</td>\n",
       "      <td>Mean</td>\n",
       "      <td>6.54</td>\n",
       "      <td>6.54</td>\n",
       "      <td>Standard Deviation</td>\n",
       "      <td>1.45</td>\n",
       "      <td>1.45</td>\n",
       "      <td>NaN</td>\n",
       "      <td>NaN</td>\n",
       "      <td></td>\n",
       "    </tr>\n",
       "    <tr>\n",
       "      <th>16204996</th>\n",
       "      <td>17336069</td>\n",
       "      <td>B3</td>\n",
       "      <td></td>\n",
       "      <td>Male</td>\n",
       "      <td>Gender</td>\n",
       "      <td></td>\n",
       "      <td>Participants</td>\n",
       "      <td>Count of Participants</td>\n",
       "      <td>16</td>\n",
       "      <td>16.00</td>\n",
       "      <td></td>\n",
       "      <td>None</td>\n",
       "      <td>NaN</td>\n",
       "      <td>NaN</td>\n",
       "      <td>NaN</td>\n",
       "      <td></td>\n",
       "    </tr>\n",
       "    <tr>\n",
       "      <th>16204996</th>\n",
       "      <td>17336072</td>\n",
       "      <td>B3</td>\n",
       "      <td></td>\n",
       "      <td>Female</td>\n",
       "      <td>Gender</td>\n",
       "      <td></td>\n",
       "      <td>Participants</td>\n",
       "      <td>Count of Participants</td>\n",
       "      <td>25</td>\n",
       "      <td>25.00</td>\n",
       "      <td></td>\n",
       "      <td>None</td>\n",
       "      <td>NaN</td>\n",
       "      <td>NaN</td>\n",
       "      <td>NaN</td>\n",
       "      <td></td>\n",
       "    </tr>\n",
       "    <tr>\n",
       "      <th>16204996</th>\n",
       "      <td>17336075</td>\n",
       "      <td>B3</td>\n",
       "      <td></td>\n",
       "      <td></td>\n",
       "      <td>Age</td>\n",
       "      <td></td>\n",
       "      <td>years</td>\n",
       "      <td>Mean</td>\n",
       "      <td>54.71</td>\n",
       "      <td>54.71</td>\n",
       "      <td>Standard Deviation</td>\n",
       "      <td>11.06</td>\n",
       "      <td>11.06</td>\n",
       "      <td>NaN</td>\n",
       "      <td>NaN</td>\n",
       "      <td></td>\n",
       "    </tr>\n",
       "    <tr>\n",
       "      <th>16204997</th>\n",
       "      <td>17336067</td>\n",
       "      <td>B2</td>\n",
       "      <td></td>\n",
       "      <td></td>\n",
       "      <td>Numeric Rating Scale (NRS-11)</td>\n",
       "      <td>Numeric rating scale is an 11-point rating sca...</td>\n",
       "      <td>units on a scale</td>\n",
       "      <td>Mean</td>\n",
       "      <td>6.6</td>\n",
       "      <td>6.60</td>\n",
       "      <td>Standard Deviation</td>\n",
       "      <td>1.50</td>\n",
       "      <td>1.50</td>\n",
       "      <td>NaN</td>\n",
       "      <td>NaN</td>\n",
       "      <td></td>\n",
       "    </tr>\n",
       "    <tr>\n",
       "      <th>16204997</th>\n",
       "      <td>17336070</td>\n",
       "      <td>B2</td>\n",
       "      <td></td>\n",
       "      <td>Male</td>\n",
       "      <td>Gender</td>\n",
       "      <td></td>\n",
       "      <td>Participants</td>\n",
       "      <td>Count of Participants</td>\n",
       "      <td>10</td>\n",
       "      <td>10.00</td>\n",
       "      <td></td>\n",
       "      <td>None</td>\n",
       "      <td>NaN</td>\n",
       "      <td>NaN</td>\n",
       "      <td>NaN</td>\n",
       "      <td></td>\n",
       "    </tr>\n",
       "    <tr>\n",
       "      <th>16204997</th>\n",
       "      <td>17336076</td>\n",
       "      <td>B2</td>\n",
       "      <td></td>\n",
       "      <td></td>\n",
       "      <td>Age</td>\n",
       "      <td></td>\n",
       "      <td>years</td>\n",
       "      <td>Mean</td>\n",
       "      <td>54.76</td>\n",
       "      <td>54.76</td>\n",
       "      <td>Standard Deviation</td>\n",
       "      <td>10.84</td>\n",
       "      <td>10.84</td>\n",
       "      <td>NaN</td>\n",
       "      <td>NaN</td>\n",
       "      <td></td>\n",
       "    </tr>\n",
       "    <tr>\n",
       "      <th>16204997</th>\n",
       "      <td>17336073</td>\n",
       "      <td>B2</td>\n",
       "      <td></td>\n",
       "      <td>Female</td>\n",
       "      <td>Gender</td>\n",
       "      <td></td>\n",
       "      <td>Participants</td>\n",
       "      <td>Count of Participants</td>\n",
       "      <td>11</td>\n",
       "      <td>11.00</td>\n",
       "      <td></td>\n",
       "      <td>None</td>\n",
       "      <td>NaN</td>\n",
       "      <td>NaN</td>\n",
       "      <td>NaN</td>\n",
       "      <td></td>\n",
       "    </tr>\n",
       "    <tr>\n",
       "      <th>16204998</th>\n",
       "      <td>17336068</td>\n",
       "      <td>B1</td>\n",
       "      <td></td>\n",
       "      <td></td>\n",
       "      <td>Numeric Rating Scale (NRS-11)</td>\n",
       "      <td>Numeric rating scale is an 11-point rating sca...</td>\n",
       "      <td>units on a scale</td>\n",
       "      <td>Mean</td>\n",
       "      <td>6.47</td>\n",
       "      <td>6.47</td>\n",
       "      <td>Standard Deviation</td>\n",
       "      <td>1.40</td>\n",
       "      <td>1.40</td>\n",
       "      <td>NaN</td>\n",
       "      <td>NaN</td>\n",
       "      <td></td>\n",
       "    </tr>\n",
       "    <tr>\n",
       "      <th>16204998</th>\n",
       "      <td>17336071</td>\n",
       "      <td>B1</td>\n",
       "      <td></td>\n",
       "      <td>Male</td>\n",
       "      <td>Gender</td>\n",
       "      <td></td>\n",
       "      <td>Participants</td>\n",
       "      <td>Count of Participants</td>\n",
       "      <td>6</td>\n",
       "      <td>6.00</td>\n",
       "      <td></td>\n",
       "      <td>None</td>\n",
       "      <td>NaN</td>\n",
       "      <td>NaN</td>\n",
       "      <td>NaN</td>\n",
       "      <td></td>\n",
       "    </tr>\n",
       "    <tr>\n",
       "      <th>16204998</th>\n",
       "      <td>17336074</td>\n",
       "      <td>B1</td>\n",
       "      <td></td>\n",
       "      <td>Female</td>\n",
       "      <td>Gender</td>\n",
       "      <td></td>\n",
       "      <td>Participants</td>\n",
       "      <td>Count of Participants</td>\n",
       "      <td>14</td>\n",
       "      <td>14.00</td>\n",
       "      <td></td>\n",
       "      <td>None</td>\n",
       "      <td>NaN</td>\n",
       "      <td>NaN</td>\n",
       "      <td>NaN</td>\n",
       "      <td></td>\n",
       "    </tr>\n",
       "    <tr>\n",
       "      <th>16204998</th>\n",
       "      <td>17336077</td>\n",
       "      <td>B1</td>\n",
       "      <td></td>\n",
       "      <td></td>\n",
       "      <td>Age</td>\n",
       "      <td></td>\n",
       "      <td>years</td>\n",
       "      <td>Mean</td>\n",
       "      <td>54.65</td>\n",
       "      <td>54.65</td>\n",
       "      <td>Standard Deviation</td>\n",
       "      <td>11.56</td>\n",
       "      <td>11.56</td>\n",
       "      <td>NaN</td>\n",
       "      <td>NaN</td>\n",
       "      <td></td>\n",
       "    </tr>\n",
       "  </tbody>\n",
       "</table>\n",
       "</div>"
      ],
      "text/plain": [
       "                                   id ctgov_group_code classification  \\\n",
       "nct_id      result_group_id                                             \n",
       "NCT00125528 16204996         17336066               B3                  \n",
       "            16204996         17336069               B3                  \n",
       "            16204996         17336072               B3                  \n",
       "            16204996         17336075               B3                  \n",
       "            16204997         17336067               B2                  \n",
       "            16204997         17336070               B2                  \n",
       "            16204997         17336076               B2                  \n",
       "            16204997         17336073               B2                  \n",
       "            16204998         17336068               B1                  \n",
       "            16204998         17336071               B1                  \n",
       "            16204998         17336074               B1                  \n",
       "            16204998         17336077               B1                  \n",
       "\n",
       "                            category                          title  \\\n",
       "nct_id      result_group_id                                           \n",
       "NCT00125528 16204996                  Numeric Rating Scale (NRS-11)   \n",
       "            16204996            Male                         Gender   \n",
       "            16204996          Female                         Gender   \n",
       "            16204996                                            Age   \n",
       "            16204997                  Numeric Rating Scale (NRS-11)   \n",
       "            16204997            Male                         Gender   \n",
       "            16204997                                            Age   \n",
       "            16204997          Female                         Gender   \n",
       "            16204998                  Numeric Rating Scale (NRS-11)   \n",
       "            16204998            Male                         Gender   \n",
       "            16204998          Female                         Gender   \n",
       "            16204998                                            Age   \n",
       "\n",
       "                                                                   description  \\\n",
       "nct_id      result_group_id                                                      \n",
       "NCT00125528 16204996         Numeric rating scale is an 11-point rating sca...   \n",
       "            16204996                                                             \n",
       "            16204996                                                             \n",
       "            16204996                                                             \n",
       "            16204997         Numeric rating scale is an 11-point rating sca...   \n",
       "            16204997                                                             \n",
       "            16204997                                                             \n",
       "            16204997                                                             \n",
       "            16204998         Numeric rating scale is an 11-point rating sca...   \n",
       "            16204998                                                             \n",
       "            16204998                                                             \n",
       "            16204998                                                             \n",
       "\n",
       "                                        units             param_type  \\\n",
       "nct_id      result_group_id                                            \n",
       "NCT00125528 16204996         units on a scale                   Mean   \n",
       "            16204996             Participants  Count of Participants   \n",
       "            16204996             Participants  Count of Participants   \n",
       "            16204996                    years                   Mean   \n",
       "            16204997         units on a scale                   Mean   \n",
       "            16204997             Participants  Count of Participants   \n",
       "            16204997                    years                   Mean   \n",
       "            16204997             Participants  Count of Participants   \n",
       "            16204998         units on a scale                   Mean   \n",
       "            16204998             Participants  Count of Participants   \n",
       "            16204998             Participants  Count of Participants   \n",
       "            16204998                    years                   Mean   \n",
       "\n",
       "                            param_value  param_value_num     dispersion_type  \\\n",
       "nct_id      result_group_id                                                    \n",
       "NCT00125528 16204996               6.54             6.54  Standard Deviation   \n",
       "            16204996                 16            16.00                       \n",
       "            16204996                 25            25.00                       \n",
       "            16204996              54.71            54.71  Standard Deviation   \n",
       "            16204997                6.6             6.60  Standard Deviation   \n",
       "            16204997                 10            10.00                       \n",
       "            16204997              54.76            54.76  Standard Deviation   \n",
       "            16204997                 11            11.00                       \n",
       "            16204998               6.47             6.47  Standard Deviation   \n",
       "            16204998                  6             6.00                       \n",
       "            16204998                 14            14.00                       \n",
       "            16204998              54.65            54.65  Standard Deviation   \n",
       "\n",
       "                            dispersion_value  dispersion_value_num  \\\n",
       "nct_id      result_group_id                                          \n",
       "NCT00125528 16204996                    1.45                  1.45   \n",
       "            16204996                    None                   NaN   \n",
       "            16204996                    None                   NaN   \n",
       "            16204996                   11.06                 11.06   \n",
       "            16204997                    1.50                  1.50   \n",
       "            16204997                    None                   NaN   \n",
       "            16204997                   10.84                 10.84   \n",
       "            16204997                    None                   NaN   \n",
       "            16204998                    1.40                  1.40   \n",
       "            16204998                    None                   NaN   \n",
       "            16204998                    None                   NaN   \n",
       "            16204998                   11.56                 11.56   \n",
       "\n",
       "                             dispersion_lower_limit  dispersion_upper_limit  \\\n",
       "nct_id      result_group_id                                                   \n",
       "NCT00125528 16204996                            NaN                     NaN   \n",
       "            16204996                            NaN                     NaN   \n",
       "            16204996                            NaN                     NaN   \n",
       "            16204996                            NaN                     NaN   \n",
       "            16204997                            NaN                     NaN   \n",
       "            16204997                            NaN                     NaN   \n",
       "            16204997                            NaN                     NaN   \n",
       "            16204997                            NaN                     NaN   \n",
       "            16204998                            NaN                     NaN   \n",
       "            16204998                            NaN                     NaN   \n",
       "            16204998                            NaN                     NaN   \n",
       "            16204998                            NaN                     NaN   \n",
       "\n",
       "                            explanation_of_na  \n",
       "nct_id      result_group_id                    \n",
       "NCT00125528 16204996                           \n",
       "            16204996                           \n",
       "            16204996                           \n",
       "            16204996                           \n",
       "            16204997                           \n",
       "            16204997                           \n",
       "            16204997                           \n",
       "            16204997                           \n",
       "            16204998                           \n",
       "            16204998                           \n",
       "            16204998                           \n",
       "            16204998                           "
      ]
     },
     "execution_count": 4,
     "metadata": {},
     "output_type": "execute_result"
    }
   ],
   "source": [
    "bm.data.head(12)"
   ]
  },
  {
   "cell_type": "markdown",
   "metadata": {},
   "source": [
    "Now that we've seen how baseline measurements are coded, we check for completeness. Unfortunately it appears that less than 20,000 of our 130,000 studies have any baseline measurements."
   ]
  },
  {
   "cell_type": "code",
   "execution_count": 5,
   "metadata": {},
   "outputs": [
    {
     "data": {
      "text/plain": [
       "19812"
      ]
     },
     "execution_count": 5,
     "metadata": {},
     "output_type": "execute_result"
    }
   ],
   "source": [
    "bm.data.reset_index(drop=False, inplace=True)\n",
    "bm.data.nct_id.nunique()"
   ]
  },
  {
   "cell_type": "markdown",
   "metadata": {},
   "source": [
    "Since baseline_measurements is connected to studies through result_groups in the AACT schema, it's probably the case that baseline_measurements only exist for studies with results posted. We test that by joining baseline_measurements with the main studies table. We group by studies with and without a value for \"units\", which is in the baseline measurements and has no NA values there, and so is NA after the join iff the study doesn't have baseline measurements. We see that studies with measurements are almost exactly the studies with results submitted."
   ]
  },
  {
   "cell_type": "code",
   "execution_count": 6,
   "metadata": {},
   "outputs": [
    {
     "data": {
      "text/plain": [
       "0"
      ]
     },
     "execution_count": 6,
     "metadata": {},
     "output_type": "execute_result"
    }
   ],
   "source": [
    "bm.data.units.isna().sum()"
   ]
  },
  {
   "cell_type": "code",
   "execution_count": 7,
   "metadata": {},
   "outputs": [
    {
     "name": "stdout",
     "output_type": "stream",
     "text": [
      "0.9992487781597716\n",
      "0.0\n"
     ]
    }
   ],
   "source": [
    "bm_joined = ss.studies.merge(bm.data, how='outer', on='nct_id')\n",
    "print(bm_joined[bm_joined.units.isna() == True].results_first_submitted_date.isnull().mean())\n",
    "print(bm_joined[bm_joined.units.isna() == False].results_first_submitted_date.isnull().mean())"
   ]
  },
  {
   "cell_type": "markdown",
   "metadata": {},
   "source": [
    "We limit our investigation to studies with results, and add in the result_groups dimension to get more info on the groups (e.g. placebo vs. medication vs. total)."
   ]
  },
  {
   "cell_type": "code",
   "execution_count": 8,
   "metadata": {},
   "outputs": [
    {
     "name": "stdout",
     "output_type": "stream",
     "text": [
      "Successfuly added these 1 dimensions: ['result_groups']\n",
      "Failed to add these 0 dimensions: []\n",
      "19897 studies loaded!\n"
     ]
    },
    {
     "data": {
      "application/vnd.jupyter.widget-view+json": {
       "model_id": "a704dfac131e4e18af5d71baca5860b5",
       "version_major": 2,
       "version_minor": 0
      },
      "text/plain": [
       "HBox(children=(IntProgress(value=0, max=40), HTML(value='')))"
      ]
     },
     "metadata": {},
     "output_type": "display_data"
    },
    {
     "name": "stdout",
     "output_type": "stream",
     "text": [
      "Syncing the temp table temp_cur_studies in 40 chunks x 500 records each\n",
      "\n",
      "Creating index on the temp table\n",
      " - Loading dimension baseline_measurements\n",
      " -- Loading raw data\n",
      " -- Sorting index\n",
      " - Loading dimension result_groups\n",
      " -- Loading raw data\n",
      " -- Sorting index\n"
     ]
    }
   ],
   "source": [
    "ss.add_constraint(\"results_first_submitted_date is not null\")\n",
    "ss.add_dimensions(['result_groups'])\n",
    "ss.load_studies()\n",
    "ss.refresh_dim_data()\n",
    "bm = ss.dimensions['baseline_measurements']\n",
    "rg = ss.dimensions['result_groups']"
   ]
  },
  {
   "cell_type": "markdown",
   "metadata": {},
   "source": [
    "We can inner join result_groups and baseline_measures without dropping any rows of baseline_measures (not demonstrated but feel free to check). Now we can check informative group names rather than just \"B1\" or \"B2\" like we saw above. We see that \"Total\" is indeed a standard group. Unfortunately, although most studies do include a combined group called \"Total\", that nomenclature is not uniform. We also see \"All Study Participants\", \"All Participants\", and \"Entire Study Population\" in the top ten most common group titles. Treatment groups tend not to be so heavily repeated, since they're often called the name of the treatment."
   ]
  },
  {
   "cell_type": "code",
   "execution_count": 9,
   "metadata": {},
   "outputs": [
    {
     "data": {
      "text/plain": [
       "Total                      149420\n",
       "Placebo                     28275\n",
       "Control                      3983\n",
       "All Study Participants       2042\n",
       "Control Group                1973\n",
       "All Participants             1938\n",
       "Usual Care                   1924\n",
       "Standard of Care             1034\n",
       "Intervention                  967\n",
       "Entire Study Population       777\n",
       "Name: title_x, dtype: int64"
      ]
     },
     "execution_count": 9,
     "metadata": {},
     "output_type": "execute_result"
    }
   ],
   "source": [
    "combined_measures = pd.merge(rg.data, bm.data, left_on = ['nct_id', 'id'], right_on = ['nct_id', 'result_group_id'])\n",
    "combined_measures.title_x.value_counts().head(10)"
   ]
  },
  {
   "cell_type": "code",
   "execution_count": 10,
   "metadata": {},
   "outputs": [
    {
     "data": {
      "text/plain": [
       "MISSION-Vet - IU Case Management                        1\n",
       "Enhanced Implementation Approach GTO Case Management    1\n",
       "Ripple Mapping Guided AT Ablation                       1\n",
       "p52-p36- GAP Vaccine + Infectivity Challenge            1\n",
       "Fluorodeoxythymidine PET/CT (FLT-PET/CT)                1\n",
       "Clonidine as an Antimanic Agent                         1\n",
       "Transdermal Estradiol or Placebo                        1\n",
       "Infectivity Control                                     1\n",
       "Conventional AT Ablation                                1\n",
       "Cohort 16                                               1\n",
       "Name: title_x, dtype: int64"
      ]
     },
     "execution_count": 10,
     "metadata": {},
     "output_type": "execute_result"
    }
   ],
   "source": [
    "combined_measures.title_x.value_counts().tail(10)"
   ]
  },
  {
   "cell_type": "markdown",
   "metadata": {},
   "source": [
    "How can we efficiently compare group balance under such heterogeneity? Well, it turns out that most studies have exactly three groups, just as we saw in our example study above..."
   ]
  },
  {
   "cell_type": "code",
   "execution_count": 11,
   "metadata": {},
   "outputs": [
    {
     "data": {
      "text/plain": [
       "3    9150\n",
       "1    5928\n",
       "4    2298\n",
       "5    1193\n",
       "6     399\n",
       "Name: n_groups, dtype: int64"
      ]
     },
     "execution_count": 11,
     "metadata": {},
     "output_type": "execute_result"
    }
   ],
   "source": [
    "num_groups = pd.DataFrame(combined_measures.groupby('nct_id').ctgov_group_code_x.nunique())\n",
    "num_groups.columns = ['n_groups']\n",
    "num_groups.n_groups.value_counts().head()"
   ]
  },
  {
   "cell_type": "markdown",
   "metadata": {},
   "source": [
    "...and we actually see that for these studies, \"Total\" is the only common name for the total group."
   ]
  },
  {
   "cell_type": "code",
   "execution_count": 12,
   "metadata": {},
   "outputs": [
    {
     "data": {
      "text/plain": [
       "Total                 99303\n",
       "Placebo               17326\n",
       "Control                3151\n",
       "Control Group          1540\n",
       "Usual Care             1513\n",
       "Standard of Care        859\n",
       "Intervention            790\n",
       "Sugar Pill              625\n",
       "Intervention Group      426\n",
       "Control Arm             386\n",
       "Placebo Group           380\n",
       "Treatment               369\n",
       "Standard Care           366\n",
       "Vehicle                 347\n",
       "Normal Saline           322\n",
       "Name: title_x, dtype: int64"
      ]
     },
     "execution_count": 12,
     "metadata": {},
     "output_type": "execute_result"
    }
   ],
   "source": [
    "temp_combined_measures = combined_measures.merge(num_groups, on = 'nct_id')\n",
    "temp_combined_measures[temp_combined_measures.n_groups == 3].title_x.value_counts().head(15)"
   ]
  },
  {
   "cell_type": "markdown",
   "metadata": {},
   "source": [
    "So our strategy for creating a workable sample will be:\n",
    "\n",
    "1) Remove groups called \"Total\".\n",
    "\n",
    "2) Keep studies that have exactly 2 groups remaining after that removal."
   ]
  },
  {
   "cell_type": "code",
   "execution_count": 13,
   "metadata": {},
   "outputs": [],
   "source": [
    "combined_measures = combined_measures[combined_measures.title_x != 'Total']\n",
    "num_groups = combined_measures.groupby('nct_id').ctgov_group_code_x.nunique()\n",
    "num_groups = pd.DataFrame(num_groups)\n",
    "num_groups.columns.values[0] = 'n_groups'\n",
    "combined_measures = combined_measures.merge(num_groups, on=['nct_id'])\n",
    "combined_measures = combined_measures[combined_measures.n_groups==2]"
   ]
  },
  {
   "cell_type": "markdown",
   "metadata": {},
   "source": [
    "After all this, we have over 9,000 studies remaining out of our original population of almost 20,000 studies with balance measurements."
   ]
  },
  {
   "cell_type": "code",
   "execution_count": 14,
   "metadata": {},
   "outputs": [
    {
     "data": {
      "text/plain": [
       "9118"
      ]
     },
     "execution_count": 14,
     "metadata": {},
     "output_type": "execute_result"
    }
   ],
   "source": [
    "combined_measures.index.nunique()"
   ]
  },
  {
   "cell_type": "markdown",
   "metadata": {},
   "source": [
    "Our remaining studies look like the example below. We need to assess the imbalance of these studies."
   ]
  },
  {
   "cell_type": "code",
   "execution_count": 15,
   "metadata": {},
   "outputs": [
    {
     "data": {
      "text/html": [
       "<div>\n",
       "<style scoped>\n",
       "    .dataframe tbody tr th:only-of-type {\n",
       "        vertical-align: middle;\n",
       "    }\n",
       "\n",
       "    .dataframe tbody tr th {\n",
       "        vertical-align: top;\n",
       "    }\n",
       "\n",
       "    .dataframe thead th {\n",
       "        text-align: right;\n",
       "    }\n",
       "</style>\n",
       "<table border=\"1\" class=\"dataframe\">\n",
       "  <thead>\n",
       "    <tr style=\"text-align: right;\">\n",
       "      <th></th>\n",
       "      <th>ctgov_group_code_x</th>\n",
       "      <th>category</th>\n",
       "      <th>title_y</th>\n",
       "      <th>param_type</th>\n",
       "      <th>param_value_num</th>\n",
       "      <th>dispersion_type</th>\n",
       "      <th>dispersion_value_num</th>\n",
       "    </tr>\n",
       "    <tr>\n",
       "      <th>nct_id</th>\n",
       "      <th></th>\n",
       "      <th></th>\n",
       "      <th></th>\n",
       "      <th></th>\n",
       "      <th></th>\n",
       "      <th></th>\n",
       "      <th></th>\n",
       "    </tr>\n",
       "  </thead>\n",
       "  <tbody>\n",
       "    <tr>\n",
       "      <th>NCT00125528</th>\n",
       "      <td>B2</td>\n",
       "      <td></td>\n",
       "      <td>Age</td>\n",
       "      <td>Mean</td>\n",
       "      <td>54.76</td>\n",
       "      <td>Standard Deviation</td>\n",
       "      <td>10.84</td>\n",
       "    </tr>\n",
       "    <tr>\n",
       "      <th>NCT00125528</th>\n",
       "      <td>B2</td>\n",
       "      <td>Female</td>\n",
       "      <td>Gender</td>\n",
       "      <td>Count of Participants</td>\n",
       "      <td>11.00</td>\n",
       "      <td></td>\n",
       "      <td>NaN</td>\n",
       "    </tr>\n",
       "    <tr>\n",
       "      <th>NCT00125528</th>\n",
       "      <td>B2</td>\n",
       "      <td></td>\n",
       "      <td>Numeric Rating Scale (NRS-11)</td>\n",
       "      <td>Mean</td>\n",
       "      <td>6.60</td>\n",
       "      <td>Standard Deviation</td>\n",
       "      <td>1.50</td>\n",
       "    </tr>\n",
       "    <tr>\n",
       "      <th>NCT00125528</th>\n",
       "      <td>B2</td>\n",
       "      <td>Male</td>\n",
       "      <td>Gender</td>\n",
       "      <td>Count of Participants</td>\n",
       "      <td>10.00</td>\n",
       "      <td></td>\n",
       "      <td>NaN</td>\n",
       "    </tr>\n",
       "    <tr>\n",
       "      <th>NCT00125528</th>\n",
       "      <td>B1</td>\n",
       "      <td>Female</td>\n",
       "      <td>Gender</td>\n",
       "      <td>Count of Participants</td>\n",
       "      <td>14.00</td>\n",
       "      <td></td>\n",
       "      <td>NaN</td>\n",
       "    </tr>\n",
       "    <tr>\n",
       "      <th>NCT00125528</th>\n",
       "      <td>B1</td>\n",
       "      <td></td>\n",
       "      <td>Age</td>\n",
       "      <td>Mean</td>\n",
       "      <td>54.65</td>\n",
       "      <td>Standard Deviation</td>\n",
       "      <td>11.56</td>\n",
       "    </tr>\n",
       "    <tr>\n",
       "      <th>NCT00125528</th>\n",
       "      <td>B1</td>\n",
       "      <td></td>\n",
       "      <td>Numeric Rating Scale (NRS-11)</td>\n",
       "      <td>Mean</td>\n",
       "      <td>6.47</td>\n",
       "      <td>Standard Deviation</td>\n",
       "      <td>1.40</td>\n",
       "    </tr>\n",
       "    <tr>\n",
       "      <th>NCT00125528</th>\n",
       "      <td>B1</td>\n",
       "      <td>Male</td>\n",
       "      <td>Gender</td>\n",
       "      <td>Count of Participants</td>\n",
       "      <td>6.00</td>\n",
       "      <td></td>\n",
       "      <td>NaN</td>\n",
       "    </tr>\n",
       "  </tbody>\n",
       "</table>\n",
       "</div>"
      ],
      "text/plain": [
       "            ctgov_group_code_x category                        title_y  \\\n",
       "nct_id                                                                   \n",
       "NCT00125528                 B2                                     Age   \n",
       "NCT00125528                 B2   Female                         Gender   \n",
       "NCT00125528                 B2           Numeric Rating Scale (NRS-11)   \n",
       "NCT00125528                 B2     Male                         Gender   \n",
       "NCT00125528                 B1   Female                         Gender   \n",
       "NCT00125528                 B1                                     Age   \n",
       "NCT00125528                 B1           Numeric Rating Scale (NRS-11)   \n",
       "NCT00125528                 B1     Male                         Gender   \n",
       "\n",
       "                        param_type  param_value_num     dispersion_type  \\\n",
       "nct_id                                                                    \n",
       "NCT00125528                   Mean            54.76  Standard Deviation   \n",
       "NCT00125528  Count of Participants            11.00                       \n",
       "NCT00125528                   Mean             6.60  Standard Deviation   \n",
       "NCT00125528  Count of Participants            10.00                       \n",
       "NCT00125528  Count of Participants            14.00                       \n",
       "NCT00125528                   Mean            54.65  Standard Deviation   \n",
       "NCT00125528                   Mean             6.47  Standard Deviation   \n",
       "NCT00125528  Count of Participants             6.00                       \n",
       "\n",
       "             dispersion_value_num  \n",
       "nct_id                             \n",
       "NCT00125528                 10.84  \n",
       "NCT00125528                   NaN  \n",
       "NCT00125528                  1.50  \n",
       "NCT00125528                   NaN  \n",
       "NCT00125528                   NaN  \n",
       "NCT00125528                 11.56  \n",
       "NCT00125528                  1.40  \n",
       "NCT00125528                   NaN  "
      ]
     },
     "execution_count": 15,
     "metadata": {},
     "output_type": "execute_result"
    }
   ],
   "source": [
    "test_group = combined_measures[combined_measures.index=='NCT00125528'][['ctgov_group_code_x' ,'category', 'title_y',\n",
    "                                                                        'param_type', 'param_value_num',\n",
    "                                                                        'dispersion_type', 'dispersion_value_num']]\n",
    "test_group"
   ]
  },
  {
   "cell_type": "markdown",
   "metadata": {},
   "source": [
    "The function below takes the baseline measurements for an individual study like the one shown directly above, separates on the group code, and merges back so the corresponding parameters are now in the same row for comparison. We need to decide how exactly to calculate imbalance once the data is in that convenient format."
   ]
  },
  {
   "cell_type": "code",
   "execution_count": 16,
   "metadata": {},
   "outputs": [],
   "source": [
    "study_balance_dat = combined_measures[['ctgov_group_code_x' ,'category', 'title_y',\n",
    "                                       'param_type', 'param_value_num',\n",
    "                                       'dispersion_type', 'dispersion_value_num']]\n",
    "\n",
    "def calculate_imbalance_score(study_measures_df):\n",
    "    group_titles = study_measures_df.ctgov_group_code_x.unique()\n",
    "    g0 = group_titles[0]\n",
    "    g1 = group_titles[1]\n",
    "    dat0 = study_measures_df[study_measures_df.ctgov_group_code_x == g0]\n",
    "    dat1 = study_measures_df[study_measures_df.ctgov_group_code_x == g1]\n",
    "    dat0.columns= ['ctgov_group_code_0', 'category', 'title', 'param_type',\n",
    "                           'param_value_num_0', 'dispersion_type', 'dispersion_value_num_0']\n",
    "    dat1.columns = ['ctgov_group_code_1', 'category', 'title', 'param_type',\n",
    "                           'param_value_num_1', 'dispersion_type', 'dispersion_value_num_1']\n",
    "    dat_comb = pd.merge(dat0, dat1, on = ['category', 'title', 'param_type', 'dispersion_type'])\n",
    "    \n",
    "    #TO DO: Create actual imbalance metric\n",
    "    return(imbalance_metric)\n",
    "\n",
    "#Uncomment and run below after filling in imbalance calculation in function above.\n",
    "#all_balance_studies = list(study_balance_dat.index.unique())\n",
    "#imbalance_dict = dict()\n",
    "#for stud in all_balance_studies:\n",
    "    #current_study = all_balance_studies[all_balance_studies.index == stud]\n",
    "    #imbalance_dict[stud] = calculate_imbalance_score(current_study)"
   ]
  }
 ],
 "metadata": {
  "kernelspec": {
   "display_name": "Python 3",
   "language": "python",
   "name": "python3"
  },
  "language_info": {
   "codemirror_mode": {
    "name": "ipython",
    "version": 3
   },
   "file_extension": ".py",
   "mimetype": "text/x-python",
   "name": "python",
   "nbconvert_exporter": "python",
   "pygments_lexer": "ipython3",
   "version": "3.7.3"
  }
 },
 "nbformat": 4,
 "nbformat_minor": 2
}
