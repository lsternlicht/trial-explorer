{
 "cells": [
  {
   "cell_type": "code",
   "execution_count": 1,
   "metadata": {},
   "outputs": [],
   "source": [
    "import sys\n",
    "if \"../../\" not in sys.path:\n",
    "    sys.path.append(\"../../\")"
   ]
  },
  {
   "cell_type": "code",
   "execution_count": 134,
   "metadata": {},
   "outputs": [],
   "source": [
    "import pandas as pd\n",
    "import numpy as np\n",
    "from importlib import reload\n",
    "from tqdm import tqdm_notebook as tqdm\n",
    "import time\n",
    "import statsmodels.formula.api as smf\n",
    "\n",
    "import pdaactconn as pc\n",
    "from trialexplorer import AACTStudySet\n",
    "\n",
    "import matplotlib.pyplot as plt\n",
    "%matplotlib inline"
   ]
  },
  {
   "cell_type": "code",
   "execution_count": 4,
   "metadata": {},
   "outputs": [],
   "source": [
    "dfb = pd.read_pickle('balance_curated.p')\n",
    "dfo = pd.read_pickle('curated_outcomes.p')                    "
   ]
  },
  {
   "cell_type": "code",
   "execution_count": 20,
   "metadata": {},
   "outputs": [
    {
     "data": {
      "text/plain": [
       "(13568, 20)"
      ]
     },
     "execution_count": 20,
     "metadata": {},
     "output_type": "execute_result"
    }
   ],
   "source": [
    "used_dfb = dfb[dfb['nct_id'].isin(dfo['om_nct_id'].unique())]\n",
    "used_dfb.shape"
   ]
  },
  {
   "cell_type": "code",
   "execution_count": 10,
   "metadata": {},
   "outputs": [
    {
     "data": {
      "text/plain": [
       "(11448, 32)"
      ]
     },
     "execution_count": 10,
     "metadata": {},
     "output_type": "execute_result"
    }
   ],
   "source": [
    "dfo[dfo['om_nct_id'].isin(dfb['nct_id'].unique())].shape"
   ]
  },
  {
   "cell_type": "code",
   "execution_count": 11,
   "metadata": {},
   "outputs": [
    {
     "data": {
      "text/plain": [
       "(11448, 32)"
      ]
     },
     "execution_count": 11,
     "metadata": {},
     "output_type": "execute_result"
    }
   ],
   "source": [
    "dfo.shape"
   ]
  },
  {
   "cell_type": "markdown",
   "metadata": {},
   "source": [
    "## for the balance dataset, calculate the balance metrics"
   ]
  },
  {
   "cell_type": "code",
   "execution_count": 31,
   "metadata": {},
   "outputs": [],
   "source": [
    "num_gender_rows = used_dfb.groupby('nct_id')['is_male'].size()\n",
    "with_4_g_rows = num_gender_rows[num_gender_rows == 4].index"
   ]
  },
  {
   "cell_type": "code",
   "execution_count": 185,
   "metadata": {},
   "outputs": [
    {
     "data": {
      "text/html": [
       "<div>\n",
       "<style scoped>\n",
       "    .dataframe tbody tr th:only-of-type {\n",
       "        vertical-align: middle;\n",
       "    }\n",
       "\n",
       "    .dataframe tbody tr th {\n",
       "        vertical-align: top;\n",
       "    }\n",
       "\n",
       "    .dataframe thead th {\n",
       "        text-align: right;\n",
       "    }\n",
       "</style>\n",
       "<table border=\"1\" class=\"dataframe\">\n",
       "  <thead>\n",
       "    <tr style=\"text-align: right;\">\n",
       "      <th></th>\n",
       "      <th>nct_id</th>\n",
       "      <th>result_group_id</th>\n",
       "      <th>id</th>\n",
       "      <th>ctgov_group_code</th>\n",
       "      <th>classification</th>\n",
       "      <th>category</th>\n",
       "      <th>title</th>\n",
       "      <th>description</th>\n",
       "      <th>units</th>\n",
       "      <th>param_type</th>\n",
       "      <th>param_value</th>\n",
       "      <th>param_value_num</th>\n",
       "      <th>dispersion_type</th>\n",
       "      <th>dispersion_value</th>\n",
       "      <th>dispersion_value_num</th>\n",
       "      <th>dispersion_lower_limit</th>\n",
       "      <th>dispersion_upper_limit</th>\n",
       "      <th>explanation_of_na</th>\n",
       "      <th>is_male</th>\n",
       "      <th>title_rg</th>\n",
       "    </tr>\n",
       "  </thead>\n",
       "  <tbody>\n",
       "    <tr>\n",
       "      <td>38589</td>\n",
       "      <td>NCT00557362</td>\n",
       "      <td>2901092</td>\n",
       "      <td>3170881</td>\n",
       "      <td>B4</td>\n",
       "      <td></td>\n",
       "      <td>Male</td>\n",
       "      <td>Sex: Female, Male</td>\n",
       "      <td></td>\n",
       "      <td>Participants</td>\n",
       "      <td>Count of Participants</td>\n",
       "      <td>19</td>\n",
       "      <td>19.0</td>\n",
       "      <td></td>\n",
       "      <td>None</td>\n",
       "      <td>NaN</td>\n",
       "      <td>NaN</td>\n",
       "      <td>NaN</td>\n",
       "      <td></td>\n",
       "      <td>True</td>\n",
       "      <td>Topical Natamycin Without Corneal De-epithelia...</td>\n",
       "    </tr>\n",
       "    <tr>\n",
       "      <td>38590</td>\n",
       "      <td>NCT00557362</td>\n",
       "      <td>2901092</td>\n",
       "      <td>3170886</td>\n",
       "      <td>B4</td>\n",
       "      <td></td>\n",
       "      <td>Female</td>\n",
       "      <td>Sex: Female, Male</td>\n",
       "      <td></td>\n",
       "      <td>Participants</td>\n",
       "      <td>Count of Participants</td>\n",
       "      <td>11</td>\n",
       "      <td>11.0</td>\n",
       "      <td></td>\n",
       "      <td>None</td>\n",
       "      <td>NaN</td>\n",
       "      <td>NaN</td>\n",
       "      <td>NaN</td>\n",
       "      <td></td>\n",
       "      <td>False</td>\n",
       "      <td>Topical Natamycin Without Corneal De-epithelia...</td>\n",
       "    </tr>\n",
       "    <tr>\n",
       "      <td>38591</td>\n",
       "      <td>NCT00557362</td>\n",
       "      <td>2901093</td>\n",
       "      <td>3170882</td>\n",
       "      <td>B3</td>\n",
       "      <td></td>\n",
       "      <td>Male</td>\n",
       "      <td>Sex: Female, Male</td>\n",
       "      <td></td>\n",
       "      <td>Participants</td>\n",
       "      <td>Count of Participants</td>\n",
       "      <td>23</td>\n",
       "      <td>23.0</td>\n",
       "      <td></td>\n",
       "      <td>None</td>\n",
       "      <td>NaN</td>\n",
       "      <td>NaN</td>\n",
       "      <td>NaN</td>\n",
       "      <td></td>\n",
       "      <td>True</td>\n",
       "      <td>Topical Natamycin With Corneal De-epithelializ...</td>\n",
       "    </tr>\n",
       "    <tr>\n",
       "      <td>38592</td>\n",
       "      <td>NCT00557362</td>\n",
       "      <td>2901093</td>\n",
       "      <td>3170887</td>\n",
       "      <td>B3</td>\n",
       "      <td></td>\n",
       "      <td>Female</td>\n",
       "      <td>Sex: Female, Male</td>\n",
       "      <td></td>\n",
       "      <td>Participants</td>\n",
       "      <td>Count of Participants</td>\n",
       "      <td>7</td>\n",
       "      <td>7.0</td>\n",
       "      <td></td>\n",
       "      <td>None</td>\n",
       "      <td>NaN</td>\n",
       "      <td>NaN</td>\n",
       "      <td>NaN</td>\n",
       "      <td></td>\n",
       "      <td>False</td>\n",
       "      <td>Topical Natamycin With Corneal De-epithelializ...</td>\n",
       "    </tr>\n",
       "    <tr>\n",
       "      <td>38593</td>\n",
       "      <td>NCT00557362</td>\n",
       "      <td>2901094</td>\n",
       "      <td>3170883</td>\n",
       "      <td>B2</td>\n",
       "      <td></td>\n",
       "      <td>Male</td>\n",
       "      <td>Sex: Female, Male</td>\n",
       "      <td></td>\n",
       "      <td>Participants</td>\n",
       "      <td>Count of Participants</td>\n",
       "      <td>21</td>\n",
       "      <td>21.0</td>\n",
       "      <td></td>\n",
       "      <td>None</td>\n",
       "      <td>NaN</td>\n",
       "      <td>NaN</td>\n",
       "      <td>NaN</td>\n",
       "      <td></td>\n",
       "      <td>True</td>\n",
       "      <td>Topical Voriconazole Without Corneal De-epithe...</td>\n",
       "    </tr>\n",
       "    <tr>\n",
       "      <td>38594</td>\n",
       "      <td>NCT00557362</td>\n",
       "      <td>2901094</td>\n",
       "      <td>3170888</td>\n",
       "      <td>B2</td>\n",
       "      <td></td>\n",
       "      <td>Female</td>\n",
       "      <td>Sex: Female, Male</td>\n",
       "      <td></td>\n",
       "      <td>Participants</td>\n",
       "      <td>Count of Participants</td>\n",
       "      <td>9</td>\n",
       "      <td>9.0</td>\n",
       "      <td></td>\n",
       "      <td>None</td>\n",
       "      <td>NaN</td>\n",
       "      <td>NaN</td>\n",
       "      <td>NaN</td>\n",
       "      <td></td>\n",
       "      <td>False</td>\n",
       "      <td>Topical Voriconazole Without Corneal De-epithe...</td>\n",
       "    </tr>\n",
       "    <tr>\n",
       "      <td>38595</td>\n",
       "      <td>NCT00557362</td>\n",
       "      <td>2901095</td>\n",
       "      <td>3170884</td>\n",
       "      <td>B1</td>\n",
       "      <td></td>\n",
       "      <td>Male</td>\n",
       "      <td>Sex: Female, Male</td>\n",
       "      <td></td>\n",
       "      <td>Participants</td>\n",
       "      <td>Count of Participants</td>\n",
       "      <td>16</td>\n",
       "      <td>16.0</td>\n",
       "      <td></td>\n",
       "      <td>None</td>\n",
       "      <td>NaN</td>\n",
       "      <td>NaN</td>\n",
       "      <td>NaN</td>\n",
       "      <td></td>\n",
       "      <td>True</td>\n",
       "      <td>Topical Voriconazole With Corneal De-epithelia...</td>\n",
       "    </tr>\n",
       "    <tr>\n",
       "      <td>38596</td>\n",
       "      <td>NCT00557362</td>\n",
       "      <td>2901095</td>\n",
       "      <td>3170889</td>\n",
       "      <td>B1</td>\n",
       "      <td></td>\n",
       "      <td>Female</td>\n",
       "      <td>Sex: Female, Male</td>\n",
       "      <td></td>\n",
       "      <td>Participants</td>\n",
       "      <td>Count of Participants</td>\n",
       "      <td>14</td>\n",
       "      <td>14.0</td>\n",
       "      <td></td>\n",
       "      <td>None</td>\n",
       "      <td>NaN</td>\n",
       "      <td>NaN</td>\n",
       "      <td>NaN</td>\n",
       "      <td></td>\n",
       "      <td>False</td>\n",
       "      <td>Topical Voriconazole With Corneal De-epithelia...</td>\n",
       "    </tr>\n",
       "  </tbody>\n",
       "</table>\n",
       "</div>"
      ],
      "text/plain": [
       "            nct_id  result_group_id       id ctgov_group_code classification  \\\n",
       "38589  NCT00557362          2901092  3170881               B4                  \n",
       "38590  NCT00557362          2901092  3170886               B4                  \n",
       "38591  NCT00557362          2901093  3170882               B3                  \n",
       "38592  NCT00557362          2901093  3170887               B3                  \n",
       "38593  NCT00557362          2901094  3170883               B2                  \n",
       "38594  NCT00557362          2901094  3170888               B2                  \n",
       "38595  NCT00557362          2901095  3170884               B1                  \n",
       "38596  NCT00557362          2901095  3170889               B1                  \n",
       "\n",
       "      category              title description         units  \\\n",
       "38589     Male  Sex: Female, Male              Participants   \n",
       "38590   Female  Sex: Female, Male              Participants   \n",
       "38591     Male  Sex: Female, Male              Participants   \n",
       "38592   Female  Sex: Female, Male              Participants   \n",
       "38593     Male  Sex: Female, Male              Participants   \n",
       "38594   Female  Sex: Female, Male              Participants   \n",
       "38595     Male  Sex: Female, Male              Participants   \n",
       "38596   Female  Sex: Female, Male              Participants   \n",
       "\n",
       "                  param_type param_value  param_value_num dispersion_type  \\\n",
       "38589  Count of Participants          19             19.0                   \n",
       "38590  Count of Participants          11             11.0                   \n",
       "38591  Count of Participants          23             23.0                   \n",
       "38592  Count of Participants           7              7.0                   \n",
       "38593  Count of Participants          21             21.0                   \n",
       "38594  Count of Participants           9              9.0                   \n",
       "38595  Count of Participants          16             16.0                   \n",
       "38596  Count of Participants          14             14.0                   \n",
       "\n",
       "      dispersion_value  dispersion_value_num  dispersion_lower_limit  \\\n",
       "38589             None                   NaN                     NaN   \n",
       "38590             None                   NaN                     NaN   \n",
       "38591             None                   NaN                     NaN   \n",
       "38592             None                   NaN                     NaN   \n",
       "38593             None                   NaN                     NaN   \n",
       "38594             None                   NaN                     NaN   \n",
       "38595             None                   NaN                     NaN   \n",
       "38596             None                   NaN                     NaN   \n",
       "\n",
       "       dispersion_upper_limit explanation_of_na  is_male  \\\n",
       "38589                     NaN                       True   \n",
       "38590                     NaN                      False   \n",
       "38591                     NaN                       True   \n",
       "38592                     NaN                      False   \n",
       "38593                     NaN                       True   \n",
       "38594                     NaN                      False   \n",
       "38595                     NaN                       True   \n",
       "38596                     NaN                      False   \n",
       "\n",
       "                                                title_rg  \n",
       "38589  Topical Natamycin Without Corneal De-epithelia...  \n",
       "38590  Topical Natamycin Without Corneal De-epithelia...  \n",
       "38591  Topical Natamycin With Corneal De-epithelializ...  \n",
       "38592  Topical Natamycin With Corneal De-epithelializ...  \n",
       "38593  Topical Voriconazole Without Corneal De-epithe...  \n",
       "38594  Topical Voriconazole Without Corneal De-epithe...  \n",
       "38595  Topical Voriconazole With Corneal De-epithelia...  \n",
       "38596  Topical Voriconazole With Corneal De-epithelia...  "
      ]
     },
     "execution_count": 185,
     "metadata": {},
     "output_type": "execute_result"
    }
   ],
   "source": [
    "used_dfb[used_dfb['nct_id'] == 'NCT00557362']"
   ]
  },
  {
   "cell_type": "code",
   "execution_count": 183,
   "metadata": {},
   "outputs": [
    {
     "data": {
      "text/plain": [
       "Index(['NCT00167388', 'NCT00182091', 'NCT00262080', 'NCT00276016',\n",
       "       'NCT00284089', 'NCT00289289', 'NCT00472056', 'NCT00535587',\n",
       "       'NCT00557362', 'NCT00633880', 'NCT00634920', 'NCT00670111',\n",
       "       'NCT00738062', 'NCT00782340', 'NCT00785629', 'NCT00916149',\n",
       "       'NCT01005888', 'NCT01084135', 'NCT01087502', 'NCT01109602',\n",
       "       'NCT01118988', 'NCT01126541', 'NCT01134887', 'NCT01194245',\n",
       "       'NCT01203878', 'NCT01239121', 'NCT01242085', 'NCT01276223',\n",
       "       'NCT01305200', 'NCT01399697', 'NCT01415440', 'NCT01447849',\n",
       "       'NCT01541826', 'NCT01551355', 'NCT01565343', 'NCT01578031',\n",
       "       'NCT01610557', 'NCT01617083', 'NCT01672294', 'NCT01753115',\n",
       "       'NCT01927055', 'NCT02006576', 'NCT02105285', 'NCT02253160',\n",
       "       'NCT02275611', 'NCT02305238', 'NCT02405962', 'NCT02413333',\n",
       "       'NCT02596451', 'NCT02617888', 'NCT02708745', 'NCT02815293',\n",
       "       'NCT02815982', 'NCT02919267', 'NCT03118934', 'NCT03152136',\n",
       "       'NCT03230864'],\n",
       "      dtype='object', name='nct_id')"
      ]
     },
     "execution_count": 183,
     "metadata": {},
     "output_type": "execute_result"
    }
   ],
   "source": [
    "num_gender_rows[num_gender_rows != 4].index"
   ]
  },
  {
   "cell_type": "code",
   "execution_count": 35,
   "metadata": {},
   "outputs": [
    {
     "data": {
      "text/plain": [
       "(13568, 20)"
      ]
     },
     "execution_count": 35,
     "metadata": {},
     "output_type": "execute_result"
    }
   ],
   "source": [
    "used_dfb.shape"
   ]
  },
  {
   "cell_type": "code",
   "execution_count": 34,
   "metadata": {},
   "outputs": [
    {
     "data": {
      "text/plain": [
       "(13160, 20)"
      ]
     },
     "execution_count": 34,
     "metadata": {},
     "output_type": "execute_result"
    }
   ],
   "source": [
    "used_dfb_final = used_dfb[used_dfb['nct_id'].isin(with_4_g_rows)]\n",
    "used_dfb_final.shape"
   ]
  },
  {
   "cell_type": "code",
   "execution_count": 46,
   "metadata": {},
   "outputs": [
    {
     "data": {
      "text/html": [
       "<div>\n",
       "<style scoped>\n",
       "    .dataframe tbody tr th:only-of-type {\n",
       "        vertical-align: middle;\n",
       "    }\n",
       "\n",
       "    .dataframe tbody tr th {\n",
       "        vertical-align: top;\n",
       "    }\n",
       "\n",
       "    .dataframe thead th {\n",
       "        text-align: right;\n",
       "    }\n",
       "</style>\n",
       "<table border=\"1\" class=\"dataframe\">\n",
       "  <thead>\n",
       "    <tr style=\"text-align: right;\">\n",
       "      <th></th>\n",
       "      <th>nct_id</th>\n",
       "      <th>result_group_id</th>\n",
       "      <th>id</th>\n",
       "      <th>ctgov_group_code</th>\n",
       "      <th>classification</th>\n",
       "      <th>category</th>\n",
       "      <th>title</th>\n",
       "      <th>description</th>\n",
       "      <th>units</th>\n",
       "      <th>param_type</th>\n",
       "      <th>param_value</th>\n",
       "      <th>param_value_num</th>\n",
       "      <th>dispersion_type</th>\n",
       "      <th>dispersion_value</th>\n",
       "      <th>dispersion_value_num</th>\n",
       "      <th>dispersion_lower_limit</th>\n",
       "      <th>dispersion_upper_limit</th>\n",
       "      <th>explanation_of_na</th>\n",
       "      <th>is_male</th>\n",
       "      <th>title_rg</th>\n",
       "    </tr>\n",
       "  </thead>\n",
       "  <tbody>\n",
       "    <tr>\n",
       "      <td>119</td>\n",
       "      <td>NCT00114127</td>\n",
       "      <td>3065103</td>\n",
       "      <td>3336669</td>\n",
       "      <td>B2</td>\n",
       "      <td>Female</td>\n",
       "      <td></td>\n",
       "      <td>Sex/Gender, Customized</td>\n",
       "      <td></td>\n",
       "      <td>Participants</td>\n",
       "      <td>Number</td>\n",
       "      <td>4</td>\n",
       "      <td>4.0</td>\n",
       "      <td></td>\n",
       "      <td>None</td>\n",
       "      <td>NaN</td>\n",
       "      <td>NaN</td>\n",
       "      <td>NaN</td>\n",
       "      <td></td>\n",
       "      <td>False</td>\n",
       "      <td>Duloxetine 120mg/Day for 18 Weeks (Phase 2)</td>\n",
       "    </tr>\n",
       "    <tr>\n",
       "      <td>120</td>\n",
       "      <td>NCT00114127</td>\n",
       "      <td>3065103</td>\n",
       "      <td>3336666</td>\n",
       "      <td>B2</td>\n",
       "      <td>Male</td>\n",
       "      <td></td>\n",
       "      <td>Sex/Gender, Customized</td>\n",
       "      <td></td>\n",
       "      <td>Participants</td>\n",
       "      <td>Number</td>\n",
       "      <td>11</td>\n",
       "      <td>11.0</td>\n",
       "      <td></td>\n",
       "      <td>None</td>\n",
       "      <td>NaN</td>\n",
       "      <td>NaN</td>\n",
       "      <td>NaN</td>\n",
       "      <td></td>\n",
       "      <td>True</td>\n",
       "      <td>Duloxetine 120mg/Day for 18 Weeks (Phase 2)</td>\n",
       "    </tr>\n",
       "    <tr>\n",
       "      <td>121</td>\n",
       "      <td>NCT00114127</td>\n",
       "      <td>3065104</td>\n",
       "      <td>3336667</td>\n",
       "      <td>B1</td>\n",
       "      <td>Male</td>\n",
       "      <td></td>\n",
       "      <td>Sex/Gender, Customized</td>\n",
       "      <td></td>\n",
       "      <td>Participants</td>\n",
       "      <td>Number</td>\n",
       "      <td>6</td>\n",
       "      <td>6.0</td>\n",
       "      <td></td>\n",
       "      <td>None</td>\n",
       "      <td>NaN</td>\n",
       "      <td>NaN</td>\n",
       "      <td>NaN</td>\n",
       "      <td></td>\n",
       "      <td>True</td>\n",
       "      <td>Duloxetine 60mg/Day + Placebo for 18 Weeks(Pha...</td>\n",
       "    </tr>\n",
       "    <tr>\n",
       "      <td>122</td>\n",
       "      <td>NCT00114127</td>\n",
       "      <td>3065104</td>\n",
       "      <td>3336670</td>\n",
       "      <td>B1</td>\n",
       "      <td>Female</td>\n",
       "      <td></td>\n",
       "      <td>Sex/Gender, Customized</td>\n",
       "      <td></td>\n",
       "      <td>Participants</td>\n",
       "      <td>Number</td>\n",
       "      <td>7</td>\n",
       "      <td>7.0</td>\n",
       "      <td></td>\n",
       "      <td>None</td>\n",
       "      <td>NaN</td>\n",
       "      <td>NaN</td>\n",
       "      <td>NaN</td>\n",
       "      <td></td>\n",
       "      <td>False</td>\n",
       "      <td>Duloxetine 60mg/Day + Placebo for 18 Weeks(Pha...</td>\n",
       "    </tr>\n",
       "    <tr>\n",
       "      <td>195</td>\n",
       "      <td>NCT00180479</td>\n",
       "      <td>3046518</td>\n",
       "      <td>3318152</td>\n",
       "      <td>B2</td>\n",
       "      <td>Male</td>\n",
       "      <td></td>\n",
       "      <td>Gender</td>\n",
       "      <td>1 patient randomized never signed consent, the...</td>\n",
       "      <td>participants</td>\n",
       "      <td>Number</td>\n",
       "      <td>218</td>\n",
       "      <td>218.0</td>\n",
       "      <td></td>\n",
       "      <td>None</td>\n",
       "      <td>NaN</td>\n",
       "      <td>NaN</td>\n",
       "      <td>NaN</td>\n",
       "      <td></td>\n",
       "      <td>True</td>\n",
       "      <td>TAXUS® EXPRESS2™ ECSS</td>\n",
       "    </tr>\n",
       "  </tbody>\n",
       "</table>\n",
       "</div>"
      ],
      "text/plain": [
       "          nct_id  result_group_id       id ctgov_group_code classification  \\\n",
       "119  NCT00114127          3065103  3336669               B2         Female   \n",
       "120  NCT00114127          3065103  3336666               B2           Male   \n",
       "121  NCT00114127          3065104  3336667               B1           Male   \n",
       "122  NCT00114127          3065104  3336670               B1         Female   \n",
       "195  NCT00180479          3046518  3318152               B2           Male   \n",
       "\n",
       "    category                   title  \\\n",
       "119           Sex/Gender, Customized   \n",
       "120           Sex/Gender, Customized   \n",
       "121           Sex/Gender, Customized   \n",
       "122           Sex/Gender, Customized   \n",
       "195                           Gender   \n",
       "\n",
       "                                           description         units  \\\n",
       "119                                                     Participants   \n",
       "120                                                     Participants   \n",
       "121                                                     Participants   \n",
       "122                                                     Participants   \n",
       "195  1 patient randomized never signed consent, the...  participants   \n",
       "\n",
       "    param_type param_value  param_value_num dispersion_type dispersion_value  \\\n",
       "119     Number           4              4.0                             None   \n",
       "120     Number          11             11.0                             None   \n",
       "121     Number           6              6.0                             None   \n",
       "122     Number           7              7.0                             None   \n",
       "195     Number         218            218.0                             None   \n",
       "\n",
       "     dispersion_value_num  dispersion_lower_limit  dispersion_upper_limit  \\\n",
       "119                   NaN                     NaN                     NaN   \n",
       "120                   NaN                     NaN                     NaN   \n",
       "121                   NaN                     NaN                     NaN   \n",
       "122                   NaN                     NaN                     NaN   \n",
       "195                   NaN                     NaN                     NaN   \n",
       "\n",
       "    explanation_of_na  is_male  \\\n",
       "119                      False   \n",
       "120                       True   \n",
       "121                       True   \n",
       "122                      False   \n",
       "195                       True   \n",
       "\n",
       "                                              title_rg  \n",
       "119        Duloxetine 120mg/Day for 18 Weeks (Phase 2)  \n",
       "120        Duloxetine 120mg/Day for 18 Weeks (Phase 2)  \n",
       "121  Duloxetine 60mg/Day + Placebo for 18 Weeks(Pha...  \n",
       "122  Duloxetine 60mg/Day + Placebo for 18 Weeks(Pha...  \n",
       "195                              TAXUS® EXPRESS2™ ECSS  "
      ]
     },
     "execution_count": 46,
     "metadata": {},
     "output_type": "execute_result"
    }
   ],
   "source": [
    "used_dfb_final.head()"
   ]
  },
  {
   "cell_type": "code",
   "execution_count": 69,
   "metadata": {},
   "outputs": [
    {
     "data": {
      "application/vnd.jupyter.widget-view+json": {
       "model_id": "7aef54684f7946be9f4fac0c081f3bba",
       "version_major": 2,
       "version_minor": 0
      },
      "text/plain": [
       "HBox(children=(IntProgress(value=0, max=3290), HTML(value='')))"
      ]
     },
     "metadata": {},
     "output_type": "display_data"
    },
    {
     "name": "stdout",
     "output_type": "stream",
     "text": [
      "\n"
     ]
    }
   ],
   "source": [
    "imbal_dict = {}\n",
    "for nct_id in tqdm(used_dfb_final['nct_id'].unique()):\n",
    "    sub_df = used_dfb_final[used_dfb_final['nct_id'] == nct_id]\n",
    "    df_tot = sub_df.groupby('ctgov_group_code')[['param_value_num']].sum()\n",
    "    df_male = sub_df[sub_df['is_male']][['ctgov_group_code', 'param_value_num']].set_index('ctgov_group_code')\n",
    "    dfj = df_male.join(df_tot, rsuffix='_tot')\n",
    "    dfj['pct_male'] = dfj['param_value_num'] / dfj['param_value_num_tot']\n",
    "    imbal = abs(dfj['pct_male'].values[1] - dfj['pct_male'].values[0])\n",
    "    imbal_dict[nct_id] = imbal"
   ]
  },
  {
   "cell_type": "code",
   "execution_count": 88,
   "metadata": {},
   "outputs": [
    {
     "data": {
      "text/html": [
       "<div>\n",
       "<style scoped>\n",
       "    .dataframe tbody tr th:only-of-type {\n",
       "        vertical-align: middle;\n",
       "    }\n",
       "\n",
       "    .dataframe tbody tr th {\n",
       "        vertical-align: top;\n",
       "    }\n",
       "\n",
       "    .dataframe thead th {\n",
       "        text-align: right;\n",
       "    }\n",
       "</style>\n",
       "<table border=\"1\" class=\"dataframe\">\n",
       "  <thead>\n",
       "    <tr style=\"text-align: right;\">\n",
       "      <th></th>\n",
       "      <th>imbal</th>\n",
       "    </tr>\n",
       "  </thead>\n",
       "  <tbody>\n",
       "    <tr>\n",
       "      <td>NCT00114127</td>\n",
       "      <td>0.271795</td>\n",
       "    </tr>\n",
       "    <tr>\n",
       "      <td>NCT00180479</td>\n",
       "      <td>0.044420</td>\n",
       "    </tr>\n",
       "    <tr>\n",
       "      <td>NCT00189475</td>\n",
       "      <td>0.000000</td>\n",
       "    </tr>\n",
       "    <tr>\n",
       "      <td>NCT00405275</td>\n",
       "      <td>0.055921</td>\n",
       "    </tr>\n",
       "    <tr>\n",
       "      <td>NCT00446654</td>\n",
       "      <td>0.066667</td>\n",
       "    </tr>\n",
       "  </tbody>\n",
       "</table>\n",
       "</div>"
      ],
      "text/plain": [
       "                imbal\n",
       "NCT00114127  0.271795\n",
       "NCT00180479  0.044420\n",
       "NCT00189475  0.000000\n",
       "NCT00405275  0.055921\n",
       "NCT00446654  0.066667"
      ]
     },
     "execution_count": 88,
     "metadata": {},
     "output_type": "execute_result"
    }
   ],
   "source": [
    "df_imbal = pd.DataFrame(imbal_dict, index=['imbal']).T\n",
    "df_imbal.head()"
   ]
  },
  {
   "cell_type": "markdown",
   "metadata": {},
   "source": [
    "## For the outcome dataset, calculate the treatment effect"
   ]
  },
  {
   "cell_type": "code",
   "execution_count": 42,
   "metadata": {},
   "outputs": [],
   "source": [
    "num_group_codes = dfo.groupby('om_nct_id')['om_ctgov_group_code'].size()\n",
    "with_2_g_codes = num_group_codes[num_group_codes == 2].index"
   ]
  },
  {
   "cell_type": "code",
   "execution_count": 43,
   "metadata": {},
   "outputs": [
    {
     "data": {
      "text/plain": [
       "(4946, 32)"
      ]
     },
     "execution_count": 43,
     "metadata": {},
     "output_type": "execute_result"
    }
   ],
   "source": [
    "used_dfo = dfo[dfo['om_nct_id'].isin(with_2_g_codes)]\n",
    "used_dfo.shape"
   ]
  },
  {
   "cell_type": "code",
   "execution_count": 45,
   "metadata": {},
   "outputs": [
    {
     "data": {
      "text/plain": [
       "Index(['om_nct_id', 'om_result_group_id', 'om_outcome_id', 'om_id',\n",
       "       'om_ctgov_group_code', 'om_classification', 'om_category', 'om_title',\n",
       "       'om_description', 'om_units', 'om_param_type', 'om_param_value',\n",
       "       'om_param_value_num', 'om_dispersion_type', 'om_dispersion_value',\n",
       "       'om_dispersion_value_num', 'om_dispersion_lower_limit',\n",
       "       'om_dispersion_upper_limit', 'om_explanation_of_na', 'out_nct_id',\n",
       "       'out_id', 'out_outcome_type', 'out_title', 'out_description',\n",
       "       'out_time_frame', 'out_population', 'out_anticipated_posting_date',\n",
       "       'out_anticipated_posting_month_year', 'out_units', 'out_units_analyzed',\n",
       "       'out_dispersion_type', 'out_param_type'],\n",
       "      dtype='object')"
      ]
     },
     "execution_count": 45,
     "metadata": {},
     "output_type": "execute_result"
    }
   ],
   "source": [
    "used_dfo.columns"
   ]
  },
  {
   "cell_type": "code",
   "execution_count": 76,
   "metadata": {},
   "outputs": [
    {
     "data": {
      "text/html": [
       "<div>\n",
       "<style scoped>\n",
       "    .dataframe tbody tr th:only-of-type {\n",
       "        vertical-align: middle;\n",
       "    }\n",
       "\n",
       "    .dataframe tbody tr th {\n",
       "        vertical-align: top;\n",
       "    }\n",
       "\n",
       "    .dataframe thead th {\n",
       "        text-align: right;\n",
       "    }\n",
       "</style>\n",
       "<table border=\"1\" class=\"dataframe\">\n",
       "  <thead>\n",
       "    <tr style=\"text-align: right;\">\n",
       "      <th></th>\n",
       "      <th>om_ctgov_group_code</th>\n",
       "      <th>om_param_value_num</th>\n",
       "    </tr>\n",
       "  </thead>\n",
       "  <tbody>\n",
       "    <tr>\n",
       "      <td>22</td>\n",
       "      <td>O2</td>\n",
       "      <td>-0.41</td>\n",
       "    </tr>\n",
       "    <tr>\n",
       "      <td>23</td>\n",
       "      <td>O1</td>\n",
       "      <td>-0.46</td>\n",
       "    </tr>\n",
       "    <tr>\n",
       "      <td>42</td>\n",
       "      <td>O2</td>\n",
       "      <td>0.16</td>\n",
       "    </tr>\n",
       "    <tr>\n",
       "      <td>43</td>\n",
       "      <td>O1</td>\n",
       "      <td>0.24</td>\n",
       "    </tr>\n",
       "    <tr>\n",
       "      <td>173</td>\n",
       "      <td>O2</td>\n",
       "      <td>-20.93</td>\n",
       "    </tr>\n",
       "    <tr>\n",
       "      <td>...</td>\n",
       "      <td>...</td>\n",
       "      <td>...</td>\n",
       "    </tr>\n",
       "    <tr>\n",
       "      <td>2253951</td>\n",
       "      <td>O1</td>\n",
       "      <td>2.00</td>\n",
       "    </tr>\n",
       "    <tr>\n",
       "      <td>2253968</td>\n",
       "      <td>O2</td>\n",
       "      <td>36.70</td>\n",
       "    </tr>\n",
       "    <tr>\n",
       "      <td>2253969</td>\n",
       "      <td>O1</td>\n",
       "      <td>18.00</td>\n",
       "    </tr>\n",
       "    <tr>\n",
       "      <td>2256508</td>\n",
       "      <td>O2</td>\n",
       "      <td>-0.68</td>\n",
       "    </tr>\n",
       "    <tr>\n",
       "      <td>2256509</td>\n",
       "      <td>O1</td>\n",
       "      <td>-1.40</td>\n",
       "    </tr>\n",
       "  </tbody>\n",
       "</table>\n",
       "<p>4946 rows × 2 columns</p>\n",
       "</div>"
      ],
      "text/plain": [
       "        om_ctgov_group_code  om_param_value_num\n",
       "22                       O2               -0.41\n",
       "23                       O1               -0.46\n",
       "42                       O2                0.16\n",
       "43                       O1                0.24\n",
       "173                      O2              -20.93\n",
       "...                     ...                 ...\n",
       "2253951                  O1                2.00\n",
       "2253968                  O2               36.70\n",
       "2253969                  O1               18.00\n",
       "2256508                  O2               -0.68\n",
       "2256509                  O1               -1.40\n",
       "\n",
       "[4946 rows x 2 columns]"
      ]
     },
     "execution_count": 76,
     "metadata": {},
     "output_type": "execute_result"
    }
   ],
   "source": [
    "used_dfo[['om_ctgov_group_code', 'om_param_value_num']]"
   ]
  },
  {
   "cell_type": "code",
   "execution_count": 115,
   "metadata": {},
   "outputs": [
    {
     "data": {
      "application/vnd.jupyter.widget-view+json": {
       "model_id": "3461e09db9954bfba77e8292ea14b241",
       "version_major": 2,
       "version_minor": 0
      },
      "text/plain": [
       "HBox(children=(IntProgress(value=0, max=2473), HTML(value='')))"
      ]
     },
     "metadata": {},
     "output_type": "display_data"
    },
    {
     "name": "stdout",
     "output_type": "stream",
     "text": [
      "\n"
     ]
    }
   ],
   "source": [
    "effect_dict = {}\n",
    "for nct_id in tqdm(used_dfo['om_nct_id'].unique()):\n",
    "    sub_df = used_dfo[used_dfo['om_nct_id'] == nct_id]\n",
    "    m1 = sub_df['om_param_value_num'].values[0]\n",
    "    m2 = sub_df['om_param_value_num'].values[1]\n",
    "    \n",
    "    if m1 * m2 > 0:\n",
    "    \n",
    "        abs_sum = abs(m1) + abs(m2)\n",
    "        abs_diff = abs(m1 - m2)\n",
    "        abs_effect = abs_diff / abs_sum\n",
    "\n",
    "        effect_dict[nct_id] = abs_effect"
   ]
  },
  {
   "cell_type": "code",
   "execution_count": 116,
   "metadata": {},
   "outputs": [
    {
     "data": {
      "text/html": [
       "<div>\n",
       "<style scoped>\n",
       "    .dataframe tbody tr th:only-of-type {\n",
       "        vertical-align: middle;\n",
       "    }\n",
       "\n",
       "    .dataframe tbody tr th {\n",
       "        vertical-align: top;\n",
       "    }\n",
       "\n",
       "    .dataframe thead th {\n",
       "        text-align: right;\n",
       "    }\n",
       "</style>\n",
       "<table border=\"1\" class=\"dataframe\">\n",
       "  <thead>\n",
       "    <tr style=\"text-align: right;\">\n",
       "      <th></th>\n",
       "      <th>effect</th>\n",
       "    </tr>\n",
       "  </thead>\n",
       "  <tbody>\n",
       "    <tr>\n",
       "      <td>NCT00000371</td>\n",
       "      <td>0.057471</td>\n",
       "    </tr>\n",
       "    <tr>\n",
       "      <td>NCT00000392</td>\n",
       "      <td>0.200000</td>\n",
       "    </tr>\n",
       "    <tr>\n",
       "      <td>NCT00001596</td>\n",
       "      <td>0.058268</td>\n",
       "    </tr>\n",
       "    <tr>\n",
       "      <td>NCT00004500</td>\n",
       "      <td>0.114754</td>\n",
       "    </tr>\n",
       "    <tr>\n",
       "      <td>NCT00004563</td>\n",
       "      <td>0.007564</td>\n",
       "    </tr>\n",
       "  </tbody>\n",
       "</table>\n",
       "</div>"
      ],
      "text/plain": [
       "               effect\n",
       "NCT00000371  0.057471\n",
       "NCT00000392  0.200000\n",
       "NCT00001596  0.058268\n",
       "NCT00004500  0.114754\n",
       "NCT00004563  0.007564"
      ]
     },
     "execution_count": 116,
     "metadata": {},
     "output_type": "execute_result"
    }
   ],
   "source": [
    "df_effect = pd.DataFrame(effect_dict, index=['effect']).T\n",
    "df_effect.head()"
   ]
  },
  {
   "cell_type": "markdown",
   "metadata": {},
   "source": [
    "### comparison"
   ]
  },
  {
   "cell_type": "code",
   "execution_count": 180,
   "metadata": {},
   "outputs": [],
   "source": [
    "# sorted by effect\n",
    "dfj = df_effect.join(df_imbal, how='inner').dropna().sort_values('effect')"
   ]
  },
  {
   "cell_type": "code",
   "execution_count": 149,
   "metadata": {},
   "outputs": [
    {
     "data": {
      "text/plain": [
       "(2240, 2)"
      ]
     },
     "execution_count": 149,
     "metadata": {},
     "output_type": "execute_result"
    }
   ],
   "source": [
    "dfj.shape"
   ]
  },
  {
   "cell_type": "code",
   "execution_count": 181,
   "metadata": {},
   "outputs": [
    {
     "data": {
      "text/html": [
       "<div>\n",
       "<style scoped>\n",
       "    .dataframe tbody tr th:only-of-type {\n",
       "        vertical-align: middle;\n",
       "    }\n",
       "\n",
       "    .dataframe tbody tr th {\n",
       "        vertical-align: top;\n",
       "    }\n",
       "\n",
       "    .dataframe thead th {\n",
       "        text-align: right;\n",
       "    }\n",
       "</style>\n",
       "<table border=\"1\" class=\"dataframe\">\n",
       "  <thead>\n",
       "    <tr style=\"text-align: right;\">\n",
       "      <th></th>\n",
       "      <th>effect</th>\n",
       "      <th>imbal</th>\n",
       "    </tr>\n",
       "  </thead>\n",
       "  <tbody>\n",
       "    <tr>\n",
       "      <td>NCT01280266</td>\n",
       "      <td>0.000000</td>\n",
       "      <td>0.011905</td>\n",
       "    </tr>\n",
       "    <tr>\n",
       "      <td>NCT02159898</td>\n",
       "      <td>0.000000</td>\n",
       "      <td>0.066667</td>\n",
       "    </tr>\n",
       "    <tr>\n",
       "      <td>NCT00987623</td>\n",
       "      <td>0.000000</td>\n",
       "      <td>0.005419</td>\n",
       "    </tr>\n",
       "    <tr>\n",
       "      <td>NCT00641797</td>\n",
       "      <td>0.000000</td>\n",
       "      <td>0.393939</td>\n",
       "    </tr>\n",
       "    <tr>\n",
       "      <td>NCT01287221</td>\n",
       "      <td>0.000000</td>\n",
       "      <td>0.140000</td>\n",
       "    </tr>\n",
       "    <tr>\n",
       "      <td>...</td>\n",
       "      <td>...</td>\n",
       "      <td>...</td>\n",
       "    </tr>\n",
       "    <tr>\n",
       "      <td>NCT01340872</td>\n",
       "      <td>0.991189</td>\n",
       "      <td>0.046875</td>\n",
       "    </tr>\n",
       "    <tr>\n",
       "      <td>NCT01352221</td>\n",
       "      <td>0.991189</td>\n",
       "      <td>0.046875</td>\n",
       "    </tr>\n",
       "    <tr>\n",
       "      <td>NCT00433160</td>\n",
       "      <td>0.991886</td>\n",
       "      <td>0.008450</td>\n",
       "    </tr>\n",
       "    <tr>\n",
       "      <td>NCT02732899</td>\n",
       "      <td>0.996303</td>\n",
       "      <td>0.200000</td>\n",
       "    </tr>\n",
       "    <tr>\n",
       "      <td>NCT01099475</td>\n",
       "      <td>0.997585</td>\n",
       "      <td>0.000000</td>\n",
       "    </tr>\n",
       "  </tbody>\n",
       "</table>\n",
       "<p>2240 rows × 2 columns</p>\n",
       "</div>"
      ],
      "text/plain": [
       "               effect     imbal\n",
       "NCT01280266  0.000000  0.011905\n",
       "NCT02159898  0.000000  0.066667\n",
       "NCT00987623  0.000000  0.005419\n",
       "NCT00641797  0.000000  0.393939\n",
       "NCT01287221  0.000000  0.140000\n",
       "...               ...       ...\n",
       "NCT01340872  0.991189  0.046875\n",
       "NCT01352221  0.991189  0.046875\n",
       "NCT00433160  0.991886  0.008450\n",
       "NCT02732899  0.996303  0.200000\n",
       "NCT01099475  0.997585  0.000000\n",
       "\n",
       "[2240 rows x 2 columns]"
      ]
     },
     "execution_count": 181,
     "metadata": {},
     "output_type": "execute_result"
    }
   ],
   "source": [
    "dfj"
   ]
  },
  {
   "cell_type": "code",
   "execution_count": 182,
   "metadata": {},
   "outputs": [],
   "source": [
    "dfj.to_pickle('effect_imbal.p')"
   ]
  },
  {
   "cell_type": "code",
   "execution_count": 186,
   "metadata": {
    "scrolled": false
   },
   "outputs": [
    {
     "data": {
      "image/png": "[encoded data removed]",
      "text/plain": [
       "<Figure size 720x720 with 1 Axes>"
      ]
     },
     "metadata": {
      "needs_background": "light"
     },
     "output_type": "display_data"
    }
   ],
   "source": [
    "plt.figure(figsize=(10, 10))\n",
    "plt.scatter(dfj['effect'], dfj['imbal'])\n",
    "plt.xlabel(\"effect\")\n",
    "plt.ylabel(\"imbal\")\n",
    "plt.show()"
   ]
  },
  {
   "cell_type": "code",
   "execution_count": 152,
   "metadata": {
    "scrolled": false
   },
   "outputs": [],
   "source": [
    "num_q = 5\n",
    "dfj['effect_q'] = pd.qcut(dfj['effect'], num_q, labels=False)\n",
    "dfj['imbal_q'] = pd.qcut(dfj['imbal'], num_q, labels=False)"
   ]
  },
  {
   "cell_type": "code",
   "execution_count": 153,
   "metadata": {},
   "outputs": [
    {
     "data": {
      "text/html": [
       "<div>\n",
       "<style scoped>\n",
       "    .dataframe tbody tr th:only-of-type {\n",
       "        vertical-align: middle;\n",
       "    }\n",
       "\n",
       "    .dataframe tbody tr th {\n",
       "        vertical-align: top;\n",
       "    }\n",
       "\n",
       "    .dataframe thead th {\n",
       "        text-align: right;\n",
       "    }\n",
       "</style>\n",
       "<table border=\"1\" class=\"dataframe\">\n",
       "  <thead>\n",
       "    <tr style=\"text-align: right;\">\n",
       "      <th></th>\n",
       "      <th>effect</th>\n",
       "      <th>imbal</th>\n",
       "      <th>effect_q</th>\n",
       "      <th>imbal_q</th>\n",
       "    </tr>\n",
       "  </thead>\n",
       "  <tbody>\n",
       "    <tr>\n",
       "      <td>NCT01280266</td>\n",
       "      <td>0.000000</td>\n",
       "      <td>0.011905</td>\n",
       "      <td>0</td>\n",
       "      <td>0</td>\n",
       "    </tr>\n",
       "    <tr>\n",
       "      <td>NCT02159898</td>\n",
       "      <td>0.000000</td>\n",
       "      <td>0.066667</td>\n",
       "      <td>0</td>\n",
       "      <td>2</td>\n",
       "    </tr>\n",
       "    <tr>\n",
       "      <td>NCT00987623</td>\n",
       "      <td>0.000000</td>\n",
       "      <td>0.005419</td>\n",
       "      <td>0</td>\n",
       "      <td>0</td>\n",
       "    </tr>\n",
       "    <tr>\n",
       "      <td>NCT00641797</td>\n",
       "      <td>0.000000</td>\n",
       "      <td>0.393939</td>\n",
       "      <td>0</td>\n",
       "      <td>4</td>\n",
       "    </tr>\n",
       "    <tr>\n",
       "      <td>NCT01287221</td>\n",
       "      <td>0.000000</td>\n",
       "      <td>0.140000</td>\n",
       "      <td>0</td>\n",
       "      <td>4</td>\n",
       "    </tr>\n",
       "    <tr>\n",
       "      <td>...</td>\n",
       "      <td>...</td>\n",
       "      <td>...</td>\n",
       "      <td>...</td>\n",
       "      <td>...</td>\n",
       "    </tr>\n",
       "    <tr>\n",
       "      <td>NCT01340872</td>\n",
       "      <td>0.991189</td>\n",
       "      <td>0.046875</td>\n",
       "      <td>4</td>\n",
       "      <td>2</td>\n",
       "    </tr>\n",
       "    <tr>\n",
       "      <td>NCT01352221</td>\n",
       "      <td>0.991189</td>\n",
       "      <td>0.046875</td>\n",
       "      <td>4</td>\n",
       "      <td>2</td>\n",
       "    </tr>\n",
       "    <tr>\n",
       "      <td>NCT00433160</td>\n",
       "      <td>0.991886</td>\n",
       "      <td>0.008450</td>\n",
       "      <td>4</td>\n",
       "      <td>0</td>\n",
       "    </tr>\n",
       "    <tr>\n",
       "      <td>NCT02732899</td>\n",
       "      <td>0.996303</td>\n",
       "      <td>0.200000</td>\n",
       "      <td>4</td>\n",
       "      <td>4</td>\n",
       "    </tr>\n",
       "    <tr>\n",
       "      <td>NCT01099475</td>\n",
       "      <td>0.997585</td>\n",
       "      <td>0.000000</td>\n",
       "      <td>4</td>\n",
       "      <td>0</td>\n",
       "    </tr>\n",
       "  </tbody>\n",
       "</table>\n",
       "<p>2240 rows × 4 columns</p>\n",
       "</div>"
      ],
      "text/plain": [
       "               effect     imbal  effect_q  imbal_q\n",
       "NCT01280266  0.000000  0.011905         0        0\n",
       "NCT02159898  0.000000  0.066667         0        2\n",
       "NCT00987623  0.000000  0.005419         0        0\n",
       "NCT00641797  0.000000  0.393939         0        4\n",
       "NCT01287221  0.000000  0.140000         0        4\n",
       "...               ...       ...       ...      ...\n",
       "NCT01340872  0.991189  0.046875         4        2\n",
       "NCT01352221  0.991189  0.046875         4        2\n",
       "NCT00433160  0.991886  0.008450         4        0\n",
       "NCT02732899  0.996303  0.200000         4        4\n",
       "NCT01099475  0.997585  0.000000         4        0\n",
       "\n",
       "[2240 rows x 4 columns]"
      ]
     },
     "execution_count": 153,
     "metadata": {},
     "output_type": "execute_result"
    }
   ],
   "source": [
    "dfj"
   ]
  },
  {
   "cell_type": "markdown",
   "metadata": {},
   "source": [
    "Thesis: \n",
    "- when the true treatment effect is low, then the imbalance effect makes the absolute effect bigger\n",
    "- when the true treatment effect is high, then the imbalance effect has no impact on treatment effect"
   ]
  },
  {
   "cell_type": "code",
   "execution_count": 170,
   "metadata": {},
   "outputs": [],
   "source": [
    "low_treatment = dfj[dfj['effect_q'] == 0]\n",
    "lt_imbal_mean = low_treatment.groupby('imbal_q')['effect'].mean().values"
   ]
  },
  {
   "cell_type": "code",
   "execution_count": 171,
   "metadata": {},
   "outputs": [],
   "source": [
    "high_treatment = dfj[dfj['effect_q'] == 4]\n",
    "ht_imbal_mean = high_treatment.groupby('imbal_q')['effect'].mean().values"
   ]
  },
  {
   "cell_type": "code",
   "execution_count": 178,
   "metadata": {},
   "outputs": [
    {
     "data": {
      "image/png": "[encoded data removed]",
      "text/plain": [
       "<Figure size 432x288 with 1 Axes>"
      ]
     },
     "metadata": {
      "needs_background": "light"
     },
     "output_type": "display_data"
    }
   ],
   "source": [
    "plt.bar(np.arange(5), lt_imbal_mean)\n",
    "plt.show()"
   ]
  },
  {
   "cell_type": "code",
   "execution_count": null,
   "metadata": {},
   "outputs": [],
   "source": []
  }
 ],
 "metadata": {
  "kernelspec": {
   "display_name": "Python 3",
   "language": "python",
   "name": "python3"
  },
  "language_info": {
   "codemirror_mode": {
    "name": "ipython",
    "version": 3
   },
   "file_extension": ".py",
   "mimetype": "text/x-python",
   "name": "python",
   "nbconvert_exporter": "python",
   "pygments_lexer": "ipython3",
   "version": "3.6.9"
  }
 },
 "nbformat": 4,
 "nbformat_minor": 2
}
