{
 "cells": [
  {
   "cell_type": "code",
   "execution_count": 1,
   "metadata": {},
   "outputs": [],
   "source": [
    "import pandas as pd\n",
    "import numpy as numpy\n",
    "from importlib import reload\n",
    "from tqdm import tqdm_notebook as tqdm\n",
    "import time\n",
    "from sklearn.linear_model import LinearRegression\n",
    "import statsmodels.api as sm\n",
    "import statsmodels.formula.api as smf\n",
    "from scipy.stats import norm\n",
    "\n",
    "import pdaactconn as pc\n",
    "from trialexplorer import AACTStudySet"
   ]
  },
  {
   "cell_type": "code",
   "execution_count": 2,
   "metadata": {},
   "outputs": [
    {
     "name": "stdout",
     "output_type": "stream",
     "text": [
      "8780 studies loaded!\n"
     ]
    }
   ],
   "source": [
    "conn = pc.AACTConnection(source=pc.AACTConnection.REMOTE)\n",
    "ss = AACTStudySet.AACTStudySet(conn=conn, \n",
    "                               tqdm_handler=tqdm)\n",
    "ss.add_constraint(\"study_type = 'Interventional'\")\n",
    "ss.add_constraint(\"results_first_submitted_date is not null\")\n",
    "ss.add_constraint(\"enrollment_type = 'Actual'\")\n",
    "ss.add_constraint(\"enrollment >= 10\")\n",
    "ss.add_constraint(\"enrollment <= 500\")\n",
    "ss.add_constraint(\"phase = 'Phase 2'\")\n",
    "ss.load_studies()"
   ]
  },
  {
   "cell_type": "code",
   "execution_count": 3,
   "metadata": {},
   "outputs": [
    {
     "name": "stdout",
     "output_type": "stream",
     "text": [
      "Successfuly added these 6 dimensions: ['baseline_measurements', 'result_groups', 'outcomes', 'outcome_measurements', 'designs', 'eligibilities']\n",
      "Failed to add these 0 dimensions: []\n"
     ]
    },
    {
     "data": {
      "application/vnd.jupyter.widget-view+json": {
       "model_id": "8e6198f3ca7f4c1b8dcebdc9454833b1",
       "version_major": 2,
       "version_minor": 0
      },
      "text/plain": [
       "HBox(children=(IntProgress(value=0, max=18), HTML(value='')))"
      ]
     },
     "metadata": {},
     "output_type": "display_data"
    },
    {
     "name": "stdout",
     "output_type": "stream",
     "text": [
      "Syncing the temp table temp_cur_studies in 18 chunks x 500 records each\n",
      "\n",
      "Creating index on the temp table\n",
      " - Loading dimension baseline_measurements\n",
      " -- Loading raw data\n",
      " -- Sorting index\n",
      " - Loading dimension result_groups\n",
      " -- Loading raw data\n",
      " -- Sorting index\n",
      " - Loading dimension outcomes\n",
      " -- Loading raw data\n",
      " -- Sorting index\n",
      " - Loading dimension outcome_measurements\n",
      " -- Loading raw data\n",
      " -- Sorting index\n",
      " - Loading dimension designs\n",
      " -- Loading raw data\n",
      " -- Sorting index\n",
      " - Loading dimension eligibilities\n",
      " -- Loading raw data\n",
      " -- Sorting index\n"
     ]
    }
   ],
   "source": [
    "ss.add_dimensions(['baseline_measurements', 'result_groups', 'outcomes', 'outcome_measurements',\n",
    "                   'designs', 'eligibilities'])\n",
    "ss.refresh_dim_data()\n",
    "rg = ss.dimensions['result_groups']\n",
    "bm = ss.dimensions['baseline_measurements']\n",
    "om = ss.dimensions['outcome_measurements']\n",
    "out = ss.dimensions['outcomes']\n",
    "des = ss.dimensions['designs']"
   ]
  },
  {
   "cell_type": "code",
   "execution_count": 4,
   "metadata": {},
   "outputs": [
    {
     "data": {
      "text/plain": [
       "Randomized        4921\n",
       "NaN               2921\n",
       "Non-Randomized     938\n",
       "Name: allocation, dtype: int64"
      ]
     },
     "execution_count": 4,
     "metadata": {},
     "output_type": "execute_result"
    }
   ],
   "source": [
    "des.data.allocation.value_counts(dropna=False)"
   ]
  },
  {
   "cell_type": "code",
   "execution_count": 5,
   "metadata": {},
   "outputs": [],
   "source": [
    "des.data.allocation.fillna('Missing', inplace=True)"
   ]
  },
  {
   "cell_type": "code",
   "execution_count": 6,
   "metadata": {},
   "outputs": [
    {
     "data": {
      "text/plain": [
       "Randomized        4921\n",
       "Missing           2921\n",
       "Non-Randomized     938\n",
       "Name: allocation, dtype: int64"
      ]
     },
     "execution_count": 6,
     "metadata": {},
     "output_type": "execute_result"
    }
   ],
   "source": [
    "des.data.allocation.value_counts()"
   ]
  },
  {
   "cell_type": "code",
   "execution_count": 7,
   "metadata": {},
   "outputs": [
    {
     "name": "stdout",
     "output_type": "stream",
     "text": [
      "(61684, 22)\n",
      "(51574, 35)\n"
     ]
    }
   ],
   "source": [
    "#Get studies with exactly two treatment groups besides \"Total\" and grab necessary columns\n",
    "combined_measures = pd.merge(rg.data, bm.data, left_on = ['nct_id', 'id'], right_on = ['nct_id', 'result_group_id'])\n",
    "combined_measures = combined_measures[combined_measures.title_x != 'Total']\n",
    "num_groups = combined_measures.groupby('nct_id').ctgov_group_code_x.nunique()\n",
    "num_groups = pd.DataFrame(num_groups)\n",
    "num_groups.columns.values[0] = 'n_groups'\n",
    "combined_measures = combined_measures.merge(num_groups, on=['nct_id'])\n",
    "combined_measures = combined_measures[combined_measures.n_groups==2]\n",
    "print(combined_measures.shape)\n",
    "#Limit to randomized studies\n",
    "combined_measures = combined_measures.merge(des.data, on = 'nct_id')\n",
    "combined_measures = combined_measures[combined_measures.allocation == 'Randomized']\n",
    "print(combined_measures.shape)\n",
    "study_balance_dat = combined_measures[['ctgov_group_code_x', 'classification', 'category', 'title_y',\n",
    "                                       'param_type', 'param_value_num',\n",
    "                                       'dispersion_type', 'dispersion_value_num']]"
   ]
  },
  {
   "cell_type": "code",
   "execution_count": 8,
   "metadata": {},
   "outputs": [
    {
     "data": {
      "text/plain": [
       "Age                                                             10044\n",
       "Sex: Female, Male                                                9920\n",
       "Race (NIH/OMB)                                                   9198\n",
       "Region of Enrollment                                             4320\n",
       "Race/Ethnicity, Customized                                       3052\n",
       "Ethnicity (NIH/OMB)                                              2844\n",
       "Age, Customized                                                  1230\n",
       "Gender                                                            348\n",
       "Eastern Cooperative Oncology Group (ECOG) Performance Status      178\n",
       "Weight                                                            128\n",
       "Name: title_y, dtype: int64"
      ]
     },
     "execution_count": 8,
     "metadata": {},
     "output_type": "execute_result"
    }
   ],
   "source": [
    "study_balance_dat.title_y.value_counts().head(10)\n",
    "#We'll go with age and sex for now"
   ]
  },
  {
   "cell_type": "code",
   "execution_count": 9,
   "metadata": {},
   "outputs": [
    {
     "name": "stdout",
     "output_type": "stream",
     "text": [
      "914\n",
      "1935\n"
     ]
    }
   ],
   "source": [
    "sb_age = study_balance_dat[study_balance_dat.title_y == 'Age']\n",
    "sb_age_cat = sb_age[sb_age.param_type=='Count of Participants']\n",
    "sb_age_con = sb_age[sb_age.param_type=='Mean']\n",
    "print(sb_age_cat.index.nunique())\n",
    "print(sb_age_con.index.nunique())\n",
    "#We'll choose the continuous version for now, since it has more"
   ]
  },
  {
   "cell_type": "code",
   "execution_count": 10,
   "metadata": {},
   "outputs": [
    {
     "data": {
      "text/html": [
       "<div>\n",
       "<style scoped>\n",
       "    .dataframe tbody tr th:only-of-type {\n",
       "        vertical-align: middle;\n",
       "    }\n",
       "\n",
       "    .dataframe tbody tr th {\n",
       "        vertical-align: top;\n",
       "    }\n",
       "\n",
       "    .dataframe thead th {\n",
       "        text-align: right;\n",
       "    }\n",
       "</style>\n",
       "<table border=\"1\" class=\"dataframe\">\n",
       "  <thead>\n",
       "    <tr style=\"text-align: right;\">\n",
       "      <th></th>\n",
       "      <th>ctgov_group_code_x</th>\n",
       "      <th>classification</th>\n",
       "      <th>category</th>\n",
       "      <th>title_y</th>\n",
       "      <th>param_type</th>\n",
       "      <th>param_value_num</th>\n",
       "      <th>dispersion_type</th>\n",
       "      <th>dispersion_value_num</th>\n",
       "    </tr>\n",
       "    <tr>\n",
       "      <th>nct_id</th>\n",
       "      <th></th>\n",
       "      <th></th>\n",
       "      <th></th>\n",
       "      <th></th>\n",
       "      <th></th>\n",
       "      <th></th>\n",
       "      <th></th>\n",
       "      <th></th>\n",
       "    </tr>\n",
       "  </thead>\n",
       "  <tbody>\n",
       "    <tr>\n",
       "      <th>NCT00000392</th>\n",
       "      <td>B2</td>\n",
       "      <td></td>\n",
       "      <td>Male</td>\n",
       "      <td>Sex: Female, Male</td>\n",
       "      <td>Count of Participants</td>\n",
       "      <td>104.0</td>\n",
       "      <td></td>\n",
       "      <td>NaN</td>\n",
       "    </tr>\n",
       "    <tr>\n",
       "      <th>NCT00000392</th>\n",
       "      <td>B2</td>\n",
       "      <td></td>\n",
       "      <td>Female</td>\n",
       "      <td>Sex: Female, Male</td>\n",
       "      <td>Count of Participants</td>\n",
       "      <td>5.0</td>\n",
       "      <td></td>\n",
       "      <td>NaN</td>\n",
       "    </tr>\n",
       "    <tr>\n",
       "      <th>NCT00000392</th>\n",
       "      <td>B1</td>\n",
       "      <td></td>\n",
       "      <td>Male</td>\n",
       "      <td>Sex: Female, Male</td>\n",
       "      <td>Count of Participants</td>\n",
       "      <td>101.0</td>\n",
       "      <td></td>\n",
       "      <td>NaN</td>\n",
       "    </tr>\n",
       "    <tr>\n",
       "      <th>NCT00000392</th>\n",
       "      <td>B1</td>\n",
       "      <td></td>\n",
       "      <td>Female</td>\n",
       "      <td>Sex: Female, Male</td>\n",
       "      <td>Count of Participants</td>\n",
       "      <td>5.0</td>\n",
       "      <td></td>\n",
       "      <td>NaN</td>\n",
       "    </tr>\n",
       "    <tr>\n",
       "      <th>NCT00001304</th>\n",
       "      <td>B2</td>\n",
       "      <td></td>\n",
       "      <td>Male</td>\n",
       "      <td>Sex: Female, Male</td>\n",
       "      <td>Count of Participants</td>\n",
       "      <td>4.0</td>\n",
       "      <td></td>\n",
       "      <td>NaN</td>\n",
       "    </tr>\n",
       "  </tbody>\n",
       "</table>\n",
       "</div>"
      ],
      "text/plain": [
       "            ctgov_group_code_x classification category            title_y  \\\n",
       "nct_id                                                                      \n",
       "NCT00000392                 B2                    Male  Sex: Female, Male   \n",
       "NCT00000392                 B2                  Female  Sex: Female, Male   \n",
       "NCT00000392                 B1                    Male  Sex: Female, Male   \n",
       "NCT00000392                 B1                  Female  Sex: Female, Male   \n",
       "NCT00001304                 B2                    Male  Sex: Female, Male   \n",
       "\n",
       "                        param_type  param_value_num dispersion_type  \\\n",
       "nct_id                                                                \n",
       "NCT00000392  Count of Participants            104.0                   \n",
       "NCT00000392  Count of Participants              5.0                   \n",
       "NCT00000392  Count of Participants            101.0                   \n",
       "NCT00000392  Count of Participants              5.0                   \n",
       "NCT00001304  Count of Participants              4.0                   \n",
       "\n",
       "             dispersion_value_num  \n",
       "nct_id                             \n",
       "NCT00000392                   NaN  \n",
       "NCT00000392                   NaN  \n",
       "NCT00000392                   NaN  \n",
       "NCT00000392                   NaN  \n",
       "NCT00001304                   NaN  "
      ]
     },
     "execution_count": 10,
     "metadata": {},
     "output_type": "execute_result"
    }
   ],
   "source": [
    "#Sex is always a count variable; only variability is capitalization of \"category\" field\n",
    "#Get rid of rows that aren't sex or age\n",
    "age_condition1 = study_balance_dat.title_y == 'Age'\n",
    "age_condition2 = study_balance_dat.param_type == 'Mean'\n",
    "sex_condition = study_balance_dat.title_y == 'Sex: Female, Male'\n",
    "full_condition = (age_condition1 & age_condition2) | sex_condition\n",
    "small_balance_dat = study_balance_dat[full_condition]\n",
    "small_balance_dat.head(5)"
   ]
  },
  {
   "cell_type": "code",
   "execution_count": 11,
   "metadata": {},
   "outputs": [
    {
     "name": "stdout",
     "output_type": "stream",
     "text": [
      "1841\n"
     ]
    }
   ],
   "source": [
    "#get studies that have both measures we're using\n",
    "num_measures = small_balance_dat.groupby('nct_id').title_y.nunique()\n",
    "num_measures = pd.DataFrame(num_measures)\n",
    "num_measures.columns.values[0] = 'n_measures'\n",
    "small_balance_dat = small_balance_dat.merge(num_measures, on=['nct_id'])\n",
    "small_balance_dat = small_balance_dat[small_balance_dat.n_measures==2]\n",
    "\n",
    "#assert that each study has 6 rows now--2 sex and 1 age for each of the 2 arms\n",
    "num_rows = small_balance_dat.groupby('nct_id').title_y.count()\n",
    "num_rows = pd.DataFrame(num_rows)\n",
    "num_rows.columns.values[0] = 'n_rows'\n",
    "small_balance_dat = small_balance_dat.merge(num_rows, on=['nct_id'])\n",
    "small_balance_dat = small_balance_dat[small_balance_dat.n_rows == 6]\n",
    "print(small_balance_dat.index.nunique())"
   ]
  },
  {
   "cell_type": "code",
   "execution_count": 12,
   "metadata": {},
   "outputs": [
    {
     "data": {
      "text/html": [
       "<div>\n",
       "<style scoped>\n",
       "    .dataframe tbody tr th:only-of-type {\n",
       "        vertical-align: middle;\n",
       "    }\n",
       "\n",
       "    .dataframe tbody tr th {\n",
       "        vertical-align: top;\n",
       "    }\n",
       "\n",
       "    .dataframe thead th {\n",
       "        text-align: right;\n",
       "    }\n",
       "</style>\n",
       "<table border=\"1\" class=\"dataframe\">\n",
       "  <thead>\n",
       "    <tr style=\"text-align: right;\">\n",
       "      <th></th>\n",
       "      <th>ctgov_group_code_x</th>\n",
       "      <th>classification</th>\n",
       "      <th>category</th>\n",
       "      <th>title_y</th>\n",
       "      <th>param_type</th>\n",
       "      <th>param_value_num</th>\n",
       "      <th>dispersion_type</th>\n",
       "      <th>dispersion_value_num</th>\n",
       "      <th>n_measures</th>\n",
       "      <th>n_rows</th>\n",
       "    </tr>\n",
       "    <tr>\n",
       "      <th>nct_id</th>\n",
       "      <th></th>\n",
       "      <th></th>\n",
       "      <th></th>\n",
       "      <th></th>\n",
       "      <th></th>\n",
       "      <th></th>\n",
       "      <th></th>\n",
       "      <th></th>\n",
       "      <th></th>\n",
       "      <th></th>\n",
       "    </tr>\n",
       "  </thead>\n",
       "  <tbody>\n",
       "    <tr>\n",
       "      <th>NCT00001586</th>\n",
       "      <td>B2</td>\n",
       "      <td></td>\n",
       "      <td>male</td>\n",
       "      <td>Sex: Female, Male</td>\n",
       "      <td>Count of Participants</td>\n",
       "      <td>35.00</td>\n",
       "      <td></td>\n",
       "      <td>NaN</td>\n",
       "      <td>2</td>\n",
       "      <td>6</td>\n",
       "    </tr>\n",
       "    <tr>\n",
       "      <th>NCT00001586</th>\n",
       "      <td>B2</td>\n",
       "      <td></td>\n",
       "      <td>female</td>\n",
       "      <td>Sex: Female, Male</td>\n",
       "      <td>Count of Participants</td>\n",
       "      <td>21.00</td>\n",
       "      <td></td>\n",
       "      <td>NaN</td>\n",
       "      <td>2</td>\n",
       "      <td>6</td>\n",
       "    </tr>\n",
       "    <tr>\n",
       "      <th>NCT00001586</th>\n",
       "      <td>B2</td>\n",
       "      <td></td>\n",
       "      <td></td>\n",
       "      <td>Age</td>\n",
       "      <td>Mean</td>\n",
       "      <td>58.42</td>\n",
       "      <td>Standard Deviation</td>\n",
       "      <td>11.32</td>\n",
       "      <td>2</td>\n",
       "      <td>6</td>\n",
       "    </tr>\n",
       "    <tr>\n",
       "      <th>NCT00001586</th>\n",
       "      <td>B1</td>\n",
       "      <td></td>\n",
       "      <td>male</td>\n",
       "      <td>Sex: Female, Male</td>\n",
       "      <td>Count of Participants</td>\n",
       "      <td>30.00</td>\n",
       "      <td></td>\n",
       "      <td>NaN</td>\n",
       "      <td>2</td>\n",
       "      <td>6</td>\n",
       "    </tr>\n",
       "    <tr>\n",
       "      <th>NCT00001586</th>\n",
       "      <td>B1</td>\n",
       "      <td></td>\n",
       "      <td>female</td>\n",
       "      <td>Sex: Female, Male</td>\n",
       "      <td>Count of Participants</td>\n",
       "      <td>19.00</td>\n",
       "      <td></td>\n",
       "      <td>NaN</td>\n",
       "      <td>2</td>\n",
       "      <td>6</td>\n",
       "    </tr>\n",
       "  </tbody>\n",
       "</table>\n",
       "</div>"
      ],
      "text/plain": [
       "            ctgov_group_code_x classification category            title_y  \\\n",
       "nct_id                                                                      \n",
       "NCT00001586                 B2                    male  Sex: Female, Male   \n",
       "NCT00001586                 B2                  female  Sex: Female, Male   \n",
       "NCT00001586                 B2                                        Age   \n",
       "NCT00001586                 B1                    male  Sex: Female, Male   \n",
       "NCT00001586                 B1                  female  Sex: Female, Male   \n",
       "\n",
       "                        param_type  param_value_num     dispersion_type  \\\n",
       "nct_id                                                                    \n",
       "NCT00001586  Count of Participants            35.00                       \n",
       "NCT00001586  Count of Participants            21.00                       \n",
       "NCT00001586                   Mean            58.42  Standard Deviation   \n",
       "NCT00001586  Count of Participants            30.00                       \n",
       "NCT00001586  Count of Participants            19.00                       \n",
       "\n",
       "             dispersion_value_num  n_measures  n_rows  \n",
       "nct_id                                                 \n",
       "NCT00001586                   NaN           2       6  \n",
       "NCT00001586                   NaN           2       6  \n",
       "NCT00001586                 11.32           2       6  \n",
       "NCT00001586                   NaN           2       6  \n",
       "NCT00001586                   NaN           2       6  "
      ]
     },
     "execution_count": 12,
     "metadata": {},
     "output_type": "execute_result"
    }
   ],
   "source": [
    "#handle aforementioned capitalization issue\n",
    "small_balance_dat.category = small_balance_dat.category.str.lower()\n",
    "small_balance_dat.head()"
   ]
  },
  {
   "cell_type": "code",
   "execution_count": 13,
   "metadata": {},
   "outputs": [],
   "source": [
    "def calculate_imbalance(study_frame):\n",
    "    nctid = study_frame.index[0]\n",
    "    group_codes = study_frame.ctgov_group_code_x.unique()\n",
    "    group1 = study_frame[study_frame.ctgov_group_code_x == group_codes[0]]\n",
    "    group2 = study_frame[study_frame.ctgov_group_code_x == group_codes[1]]\n",
    "    \n",
    "    sex_imbalance, group_size_imbalance = calculate_sex_imbalance(group1, group2)\n",
    "    age_imbalance = calculate_age_imbalance(group1, group2)\n",
    "    \n",
    "    return([nctid, sex_imbalance, age_imbalance, group_size_imbalance])\n",
    "\n",
    "def calculate_sex_imbalance(arm1, arm2):\n",
    "    arm1_sex = arm1[arm1.title_y == 'Sex: Female, Male']\n",
    "    arm2_sex = arm2[arm2.title_y == 'Sex: Female, Male']\n",
    "    \n",
    "    arm1_size = arm1_sex.param_value_num.sum()\n",
    "    arm2_size = arm2_sex.param_value_num.sum()\n",
    "    \n",
    "    arm1_men = arm1_sex[arm1_sex.category == 'male'].param_value_num[0]\n",
    "    arm2_men = arm2_sex[arm2_sex.category == 'male'].param_value_num[0]\n",
    "    \n",
    "    arm1_pct_men = arm1_men / arm1_size\n",
    "    arm2_pct_men = arm2_men / arm2_size\n",
    "    \n",
    "    sex_imbalance = abs(arm1_pct_men - arm2_pct_men)\n",
    "    group_size_imbalance = abs(0.5 - (arm1_size) / (arm1_size + arm2_size))\n",
    "    return((sex_imbalance, group_size_imbalance))\n",
    "\n",
    "def calculate_age_imbalance(arm1, arm2):\n",
    "    arm1_mean_age = arm1[arm1.title_y == 'Age'].param_value_num[0]\n",
    "    arm2_mean_age = arm2[arm2.title_y == 'Age'].param_value_num[0]\n",
    "    \n",
    "    age_imbalance = 12 * abs(arm1_mean_age - arm2_mean_age) \n",
    "    return(age_imbalance)"
   ]
  },
  {
   "cell_type": "code",
   "execution_count": 14,
   "metadata": {},
   "outputs": [
    {
     "name": "stdout",
     "output_type": "stream",
     "text": [
      "Calculating imbalance for 1841 studies\n",
      "Finished with 1000 studies.\n"
     ]
    },
    {
     "data": {
      "text/html": [
       "<div>\n",
       "<style scoped>\n",
       "    .dataframe tbody tr th:only-of-type {\n",
       "        vertical-align: middle;\n",
       "    }\n",
       "\n",
       "    .dataframe tbody tr th {\n",
       "        vertical-align: top;\n",
       "    }\n",
       "\n",
       "    .dataframe thead th {\n",
       "        text-align: right;\n",
       "    }\n",
       "</style>\n",
       "<table border=\"1\" class=\"dataframe\">\n",
       "  <thead>\n",
       "    <tr style=\"text-align: right;\">\n",
       "      <th></th>\n",
       "      <th>nct_id</th>\n",
       "      <th>sex_imbalance</th>\n",
       "      <th>age_imbalance</th>\n",
       "      <th>group_size_imbalance</th>\n",
       "    </tr>\n",
       "  </thead>\n",
       "  <tbody>\n",
       "    <tr>\n",
       "      <th>0</th>\n",
       "      <td>NCT00001586</td>\n",
       "      <td>0.012755</td>\n",
       "      <td>26.64</td>\n",
       "      <td>0.033333</td>\n",
       "    </tr>\n",
       "    <tr>\n",
       "      <th>1</th>\n",
       "      <td>NCT00001596</td>\n",
       "      <td>0.152174</td>\n",
       "      <td>53.28</td>\n",
       "      <td>0.157143</td>\n",
       "    </tr>\n",
       "    <tr>\n",
       "      <th>2</th>\n",
       "      <td>NCT00001723</td>\n",
       "      <td>0.010000</td>\n",
       "      <td>1.56</td>\n",
       "      <td>0.000000</td>\n",
       "    </tr>\n",
       "    <tr>\n",
       "      <th>3</th>\n",
       "      <td>NCT00003222</td>\n",
       "      <td>0.217033</td>\n",
       "      <td>24.00</td>\n",
       "      <td>0.182927</td>\n",
       "    </tr>\n",
       "    <tr>\n",
       "      <th>4</th>\n",
       "      <td>NCT00004980</td>\n",
       "      <td>0.014493</td>\n",
       "      <td>4.80</td>\n",
       "      <td>0.040000</td>\n",
       "    </tr>\n",
       "  </tbody>\n",
       "</table>\n",
       "</div>"
      ],
      "text/plain": [
       "        nct_id  sex_imbalance  age_imbalance  group_size_imbalance\n",
       "0  NCT00001586       0.012755          26.64              0.033333\n",
       "1  NCT00001596       0.152174          53.28              0.157143\n",
       "2  NCT00001723       0.010000           1.56              0.000000\n",
       "3  NCT00003222       0.217033          24.00              0.182927\n",
       "4  NCT00004980       0.014493           4.80              0.040000"
      ]
     },
     "execution_count": 14,
     "metadata": {},
     "output_type": "execute_result"
    }
   ],
   "source": [
    "#Time to calculate imbalances\n",
    "imbalance_dat = []\n",
    "study_ids = small_balance_dat.index.unique()\n",
    "n_studies = study_ids.shape[0]\n",
    "print('Calculating imbalance for ' + str(n_studies) + ' studies')\n",
    "for i in range(n_studies):\n",
    "    current_id = study_ids[i]\n",
    "    current_study = small_balance_dat[small_balance_dat.index == current_id]\n",
    "    current_imbalances = calculate_imbalance(current_study)\n",
    "    imbalance_dat.append(current_imbalances)\n",
    "    if (i + 1) % 1000 == 0:\n",
    "        print('Finished with ' + str(i + 1) + ' studies.')\n",
    "imbalance_frame = pd.DataFrame(imbalance_dat, columns = ['nct_id', 'sex_imbalance', 'age_imbalance', 'group_size_imbalance'])\n",
    "imbalance_frame.head()"
   ]
  },
  {
   "cell_type": "code",
   "execution_count": 15,
   "metadata": {},
   "outputs": [
    {
     "data": {
      "text/plain": [
       "count    1841.000000\n",
       "mean        0.080448\n",
       "std         0.095739\n",
       "min         0.000000\n",
       "25%         0.010638\n",
       "50%         0.052288\n",
       "75%         0.111111\n",
       "max         0.750000\n",
       "Name: sex_imbalance, dtype: float64"
      ]
     },
     "execution_count": 15,
     "metadata": {},
     "output_type": "execute_result"
    }
   ],
   "source": [
    "imbalance_frame.sex_imbalance.describe()"
   ]
  },
  {
   "cell_type": "code",
   "execution_count": 16,
   "metadata": {},
   "outputs": [
    {
     "data": {
      "text/plain": [
       "count    1841.000000\n",
       "mean       25.597808\n",
       "std        30.253860\n",
       "min         0.000000\n",
       "25%         6.840000\n",
       "50%        16.800000\n",
       "75%        34.800000\n",
       "max       463.200000\n",
       "Name: age_imbalance, dtype: float64"
      ]
     },
     "execution_count": 16,
     "metadata": {},
     "output_type": "execute_result"
    }
   ],
   "source": [
    "imbalance_frame.age_imbalance.describe()"
   ]
  },
  {
   "cell_type": "code",
   "execution_count": 17,
   "metadata": {},
   "outputs": [],
   "source": [
    "om.data.reset_index(inplace=True)\n",
    "out.data.reset_index(inplace=True)\n",
    "rg.data.reset_index(inplace=True)\n",
    "out.data = out.data.add_prefix('out_')\n",
    "om.data = om.data.add_prefix('om_')\n",
    "rg.data = rg.data.add_prefix('rg_')"
   ]
  },
  {
   "cell_type": "code",
   "execution_count": 18,
   "metadata": {},
   "outputs": [
    {
     "data": {
      "text/html": [
       "<div>\n",
       "<style scoped>\n",
       "    .dataframe tbody tr th:only-of-type {\n",
       "        vertical-align: middle;\n",
       "    }\n",
       "\n",
       "    .dataframe tbody tr th {\n",
       "        vertical-align: top;\n",
       "    }\n",
       "\n",
       "    .dataframe thead th {\n",
       "        text-align: right;\n",
       "    }\n",
       "</style>\n",
       "<table border=\"1\" class=\"dataframe\">\n",
       "  <thead>\n",
       "    <tr style=\"text-align: right;\">\n",
       "      <th></th>\n",
       "      <th>out_nct_id</th>\n",
       "      <th>out_id</th>\n",
       "      <th>out_outcome_type</th>\n",
       "      <th>out_title</th>\n",
       "      <th>out_description</th>\n",
       "      <th>out_time_frame</th>\n",
       "      <th>out_population</th>\n",
       "      <th>out_anticipated_posting_date</th>\n",
       "      <th>out_anticipated_posting_month_year</th>\n",
       "      <th>out_units</th>\n",
       "      <th>out_units_analyzed</th>\n",
       "      <th>out_dispersion_type</th>\n",
       "      <th>out_param_type</th>\n",
       "    </tr>\n",
       "  </thead>\n",
       "  <tbody>\n",
       "    <tr>\n",
       "      <th>0</th>\n",
       "      <td>NCT00000392</td>\n",
       "      <td>306115</td>\n",
       "      <td>Secondary</td>\n",
       "      <td>Change in Neurocognitive Performance Domain z ...</td>\n",
       "      <td>Higher values for change in z-score represent ...</td>\n",
       "      <td>Baseline and 6 months</td>\n",
       "      <td></td>\n",
       "      <td>None</td>\n",
       "      <td></td>\n",
       "      <td>z score</td>\n",
       "      <td></td>\n",
       "      <td>Standard Error</td>\n",
       "      <td>Mean</td>\n",
       "    </tr>\n",
       "    <tr>\n",
       "      <th>1</th>\n",
       "      <td>NCT00000392</td>\n",
       "      <td>306116</td>\n",
       "      <td>Primary</td>\n",
       "      <td>Change in Global Neurocognitive Performance z ...</td>\n",
       "      <td>Higher values for change in z-score represent ...</td>\n",
       "      <td>Baseline and 6 months</td>\n",
       "      <td></td>\n",
       "      <td>None</td>\n",
       "      <td></td>\n",
       "      <td>z score</td>\n",
       "      <td></td>\n",
       "      <td>Standard Error</td>\n",
       "      <td>Mean</td>\n",
       "    </tr>\n",
       "    <tr>\n",
       "      <th>2</th>\n",
       "      <td>NCT00001213</td>\n",
       "      <td>306175</td>\n",
       "      <td>Primary</td>\n",
       "      <td>Number of Eyes With a Corneal Cystine Crystal ...</td>\n",
       "      <td>Response is defined as a decrease from baselin...</td>\n",
       "      <td>Any Time Point Up to 19 Years</td>\n",
       "      <td>One hundred sixty-one (161) participants were ...</td>\n",
       "      <td>None</td>\n",
       "      <td></td>\n",
       "      <td>eyes</td>\n",
       "      <td>Participants</td>\n",
       "      <td></td>\n",
       "      <td>Number</td>\n",
       "    </tr>\n",
       "    <tr>\n",
       "      <th>3</th>\n",
       "      <td>NCT00001213</td>\n",
       "      <td>306176</td>\n",
       "      <td>Primary</td>\n",
       "      <td>Number of Participants With Serious and Non-Se...</td>\n",
       "      <td>Since efficacy of ophthalmic cysteamine was es...</td>\n",
       "      <td>Any Time Point up to 27 Years</td>\n",
       "      <td></td>\n",
       "      <td>None</td>\n",
       "      <td></td>\n",
       "      <td>participants</td>\n",
       "      <td></td>\n",
       "      <td></td>\n",
       "      <td>Number</td>\n",
       "    </tr>\n",
       "    <tr>\n",
       "      <th>4</th>\n",
       "      <td>NCT00001304</td>\n",
       "      <td>306161</td>\n",
       "      <td>Primary</td>\n",
       "      <td>Urine Calcium Excretion Level</td>\n",
       "      <td>Measurements were taken1 hour before the morni...</td>\n",
       "      <td>3 years</td>\n",
       "      <td>All patients on the study</td>\n",
       "      <td>None</td>\n",
       "      <td></td>\n",
       "      <td>mmol/24 h</td>\n",
       "      <td></td>\n",
       "      <td>Standard Deviation</td>\n",
       "      <td>Mean</td>\n",
       "    </tr>\n",
       "  </tbody>\n",
       "</table>\n",
       "</div>"
      ],
      "text/plain": [
       "    out_nct_id  out_id out_outcome_type  \\\n",
       "0  NCT00000392  306115        Secondary   \n",
       "1  NCT00000392  306116          Primary   \n",
       "2  NCT00001213  306175          Primary   \n",
       "3  NCT00001213  306176          Primary   \n",
       "4  NCT00001304  306161          Primary   \n",
       "\n",
       "                                           out_title  \\\n",
       "0  Change in Neurocognitive Performance Domain z ...   \n",
       "1  Change in Global Neurocognitive Performance z ...   \n",
       "2  Number of Eyes With a Corneal Cystine Crystal ...   \n",
       "3  Number of Participants With Serious and Non-Se...   \n",
       "4                      Urine Calcium Excretion Level   \n",
       "\n",
       "                                     out_description  \\\n",
       "0  Higher values for change in z-score represent ...   \n",
       "1  Higher values for change in z-score represent ...   \n",
       "2  Response is defined as a decrease from baselin...   \n",
       "3  Since efficacy of ophthalmic cysteamine was es...   \n",
       "4  Measurements were taken1 hour before the morni...   \n",
       "\n",
       "                  out_time_frame  \\\n",
       "0          Baseline and 6 months   \n",
       "1          Baseline and 6 months   \n",
       "2  Any Time Point Up to 19 Years   \n",
       "3  Any Time Point up to 27 Years   \n",
       "4                        3 years   \n",
       "\n",
       "                                      out_population  \\\n",
       "0                                                      \n",
       "1                                                      \n",
       "2  One hundred sixty-one (161) participants were ...   \n",
       "3                                                      \n",
       "4                          All patients on the study   \n",
       "\n",
       "  out_anticipated_posting_date out_anticipated_posting_month_year  \\\n",
       "0                         None                                      \n",
       "1                         None                                      \n",
       "2                         None                                      \n",
       "3                         None                                      \n",
       "4                         None                                      \n",
       "\n",
       "      out_units out_units_analyzed out_dispersion_type out_param_type  \n",
       "0       z score                         Standard Error           Mean  \n",
       "1       z score                         Standard Error           Mean  \n",
       "2          eyes       Participants                             Number  \n",
       "3  participants                                                Number  \n",
       "4     mmol/24 h                     Standard Deviation           Mean  "
      ]
     },
     "execution_count": 18,
     "metadata": {},
     "output_type": "execute_result"
    }
   ],
   "source": [
    "out.data.head()"
   ]
  },
  {
   "cell_type": "code",
   "execution_count": 19,
   "metadata": {},
   "outputs": [],
   "source": [
    "combined_outcomes = om.data.merge(out.data, left_on = ['om_nct_id', 'om_outcome_id'], \n",
    "                                  right_on = ['out_nct_id', 'out_id'])\n",
    "\n",
    "combined_outcomes = combined_outcomes.merge(rg.data, left_on = ['om_nct_id','om_result_group_id'], \n",
    "                                            right_on = ['rg_nct_id','rg_id'])\n",
    "primary_outcomes = combined_outcomes[combined_outcomes.out_outcome_type == 'Primary']"
   ]
  },
  {
   "cell_type": "code",
   "execution_count": 20,
   "metadata": {},
   "outputs": [
    {
     "data": {
      "text/plain": [
       "Number                          52951\n",
       "Count of Participants           48707\n",
       "Mean                            38140\n",
       "Median                           7244\n",
       "Geometric Mean                   5319\n",
       "Least Squares Mean               3663\n",
       "Geometric Least Squares Mean      299\n",
       "Log Mean                           42\n",
       "Count of Units                     21\n",
       "                                    3\n",
       "Name: om_param_type, dtype: int64"
      ]
     },
     "execution_count": 20,
     "metadata": {},
     "output_type": "execute_result"
    }
   ],
   "source": [
    "primary_outcomes.om_param_type.value_counts()"
   ]
  },
  {
   "cell_type": "code",
   "execution_count": 21,
   "metadata": {},
   "outputs": [
    {
     "data": {
      "text/plain": [
       "(38140, 38)"
      ]
     },
     "execution_count": 21,
     "metadata": {},
     "output_type": "execute_result"
    }
   ],
   "source": [
    "primary_outcomes = primary_outcomes[primary_outcomes.om_param_type == 'Mean']\n",
    "primary_outcomes.shape"
   ]
  },
  {
   "cell_type": "code",
   "execution_count": 22,
   "metadata": {},
   "outputs": [
    {
     "data": {
      "text/plain": [
       "(37853, 38)"
      ]
     },
     "execution_count": 22,
     "metadata": {},
     "output_type": "execute_result"
    }
   ],
   "source": [
    "primary_outcomes = primary_outcomes[primary_outcomes.om_param_value != 'NA']\n",
    "primary_outcomes.shape"
   ]
  },
  {
   "cell_type": "code",
   "execution_count": 23,
   "metadata": {},
   "outputs": [
    {
     "data": {
      "text/plain": [
       "(10315, 39)"
      ]
     },
     "execution_count": 23,
     "metadata": {},
     "output_type": "execute_result"
    }
   ],
   "source": [
    "num_groups = primary_outcomes.groupby(['om_nct_id', 'om_outcome_id']).om_result_group_id.nunique()\n",
    "num_groups = pd.DataFrame(num_groups)\n",
    "num_groups.columns.values[0] = 'n_groups'\n",
    "primary_outcomes = primary_outcomes.merge(num_groups, on=['om_nct_id', 'om_outcome_id'])\n",
    "primary_outcomes = primary_outcomes[primary_outcomes.n_groups==2]\n",
    "primary_outcomes.shape"
   ]
  },
  {
   "cell_type": "code",
   "execution_count": 24,
   "metadata": {},
   "outputs": [],
   "source": [
    "study_means = []\n",
    "primary_ids = primary_outcomes.om_nct_id.unique()\n",
    "for pid in primary_ids:\n",
    "    temp_frame = primary_outcomes[primary_outcomes.om_nct_id == pid]\n",
    "    temp_outcome_ids = temp_frame.om_outcome_id.unique()\n",
    "    sampled_index = numpy.random.choice(temp_outcome_ids.shape[0], 1, replace=False)\n",
    "    chosen_outcome = temp_frame[temp_frame.om_outcome_id == temp_outcome_ids[sampled_index][0]].reset_index()\n",
    "    chosen_means = chosen_outcome.om_param_value_num\n",
    "    study_means.append([pid, chosen_means[0], chosen_means[1]])\n",
    "study_means = pd.DataFrame(study_means, columns = ['nct_id', 'mean1', 'mean2'])"
   ]
  },
  {
   "cell_type": "code",
   "execution_count": 25,
   "metadata": {},
   "outputs": [
    {
     "data": {
      "text/plain": [
       "(1164, 6)"
      ]
     },
     "execution_count": 25,
     "metadata": {},
     "output_type": "execute_result"
    }
   ],
   "source": [
    "study_means['abs_mean_dif'] = abs(study_means.mean1 - study_means.mean2)\n",
    "study_means['abs_mean_sum'] = abs(study_means.mean1) + abs(study_means.mean2)\n",
    "study_means['alt_test_statistic'] = study_means.abs_mean_dif / study_means.abs_mean_sum\n",
    "study_means.shape"
   ]
  },
  {
   "cell_type": "code",
   "execution_count": 26,
   "metadata": {},
   "outputs": [
    {
     "data": {
      "text/plain": [
       "count    1164.000000\n",
       "mean        0.317096\n",
       "std         0.340560\n",
       "min         0.000000\n",
       "5%          0.006781\n",
       "10%         0.015228\n",
       "25%         0.045041\n",
       "50%         0.164702\n",
       "75%         0.499264\n",
       "90%         1.000000\n",
       "95%         1.000000\n",
       "max         1.000000\n",
       "Name: alt_test_statistic, dtype: float64"
      ]
     },
     "execution_count": 26,
     "metadata": {},
     "output_type": "execute_result"
    }
   ],
   "source": [
    "study_means.alt_test_statistic.describe([.05, .1, .25, .50, .75, .90, .95])"
   ]
  },
  {
   "cell_type": "code",
   "execution_count": 27,
   "metadata": {},
   "outputs": [
    {
     "data": {
      "text/html": [
       "<div>\n",
       "<style scoped>\n",
       "    .dataframe tbody tr th:only-of-type {\n",
       "        vertical-align: middle;\n",
       "    }\n",
       "\n",
       "    .dataframe tbody tr th {\n",
       "        vertical-align: top;\n",
       "    }\n",
       "\n",
       "    .dataframe thead th {\n",
       "        text-align: right;\n",
       "    }\n",
       "</style>\n",
       "<table border=\"1\" class=\"dataframe\">\n",
       "  <thead>\n",
       "    <tr style=\"text-align: right;\">\n",
       "      <th></th>\n",
       "      <th>nct_id</th>\n",
       "      <th>mean1</th>\n",
       "      <th>mean2</th>\n",
       "      <th>abs_mean_dif</th>\n",
       "      <th>abs_mean_sum</th>\n",
       "      <th>alt_test_statistic</th>\n",
       "    </tr>\n",
       "  </thead>\n",
       "  <tbody>\n",
       "    <tr>\n",
       "      <th>0</th>\n",
       "      <td>NCT00000392</td>\n",
       "      <td>0.16</td>\n",
       "      <td>0.24</td>\n",
       "      <td>0.08</td>\n",
       "      <td>0.40</td>\n",
       "      <td>0.200000</td>\n",
       "    </tr>\n",
       "    <tr>\n",
       "      <th>1</th>\n",
       "      <td>NCT00001304</td>\n",
       "      <td>1.92</td>\n",
       "      <td>2.00</td>\n",
       "      <td>0.08</td>\n",
       "      <td>3.92</td>\n",
       "      <td>0.020408</td>\n",
       "    </tr>\n",
       "    <tr>\n",
       "      <th>2</th>\n",
       "      <td>NCT00001596</td>\n",
       "      <td>-20.93</td>\n",
       "      <td>-23.52</td>\n",
       "      <td>2.59</td>\n",
       "      <td>44.45</td>\n",
       "      <td>0.058268</td>\n",
       "    </tr>\n",
       "    <tr>\n",
       "      <th>3</th>\n",
       "      <td>NCT00001723</td>\n",
       "      <td>-0.06</td>\n",
       "      <td>-0.12</td>\n",
       "      <td>0.06</td>\n",
       "      <td>0.18</td>\n",
       "      <td>0.333333</td>\n",
       "    </tr>\n",
       "    <tr>\n",
       "      <th>4</th>\n",
       "      <td>NCT00003895</td>\n",
       "      <td>1.34</td>\n",
       "      <td>0.10</td>\n",
       "      <td>1.24</td>\n",
       "      <td>1.44</td>\n",
       "      <td>0.861111</td>\n",
       "    </tr>\n",
       "  </tbody>\n",
       "</table>\n",
       "</div>"
      ],
      "text/plain": [
       "        nct_id  mean1  mean2  abs_mean_dif  abs_mean_sum  alt_test_statistic\n",
       "0  NCT00000392   0.16   0.24          0.08          0.40            0.200000\n",
       "1  NCT00001304   1.92   2.00          0.08          3.92            0.020408\n",
       "2  NCT00001596 -20.93 -23.52          2.59         44.45            0.058268\n",
       "3  NCT00001723  -0.06  -0.12          0.06          0.18            0.333333\n",
       "4  NCT00003895   1.34   0.10          1.24          1.44            0.861111"
      ]
     },
     "execution_count": 27,
     "metadata": {},
     "output_type": "execute_result"
    }
   ],
   "source": [
    "study_means.head()"
   ]
  },
  {
   "cell_type": "code",
   "execution_count": 28,
   "metadata": {},
   "outputs": [
    {
     "data": {
      "text/plain": [
       "(1141, 6)"
      ]
     },
     "execution_count": 28,
     "metadata": {},
     "output_type": "execute_result"
    }
   ],
   "source": [
    "condition1 = study_means.alt_test_statistic > 0\n",
    "condition2 = study_means.alt_test_statistic < 3\n",
    "full_condition = condition1 & condition2\n",
    "study_means = study_means[full_condition]\n",
    "study_means.shape"
   ]
  },
  {
   "cell_type": "code",
   "execution_count": 29,
   "metadata": {},
   "outputs": [
    {
     "data": {
      "text/plain": [
       "(728, 9)"
      ]
     },
     "execution_count": 29,
     "metadata": {},
     "output_type": "execute_result"
    }
   ],
   "source": [
    "regression_data = study_means.merge(imbalance_frame, on = ['nct_id'])\n",
    "regression_data.shape\n",
    "#This is about 2x as many studies as the old way"
   ]
  },
  {
   "cell_type": "code",
   "execution_count": 30,
   "metadata": {},
   "outputs": [
    {
     "data": {
      "text/html": [
       "<div>\n",
       "<style scoped>\n",
       "    .dataframe tbody tr th:only-of-type {\n",
       "        vertical-align: middle;\n",
       "    }\n",
       "\n",
       "    .dataframe tbody tr th {\n",
       "        vertical-align: top;\n",
       "    }\n",
       "\n",
       "    .dataframe thead th {\n",
       "        text-align: right;\n",
       "    }\n",
       "</style>\n",
       "<table border=\"1\" class=\"dataframe\">\n",
       "  <thead>\n",
       "    <tr style=\"text-align: right;\">\n",
       "      <th></th>\n",
       "      <th>nct_id</th>\n",
       "      <th>mean1</th>\n",
       "      <th>mean2</th>\n",
       "      <th>abs_mean_dif</th>\n",
       "      <th>abs_mean_sum</th>\n",
       "      <th>alt_test_statistic</th>\n",
       "      <th>sex_imbalance</th>\n",
       "      <th>age_imbalance</th>\n",
       "      <th>group_size_imbalance</th>\n",
       "    </tr>\n",
       "  </thead>\n",
       "  <tbody>\n",
       "    <tr>\n",
       "      <th>0</th>\n",
       "      <td>NCT00001596</td>\n",
       "      <td>-20.93</td>\n",
       "      <td>-23.52</td>\n",
       "      <td>2.59</td>\n",
       "      <td>44.45</td>\n",
       "      <td>0.058268</td>\n",
       "      <td>0.152174</td>\n",
       "      <td>53.28</td>\n",
       "      <td>0.157143</td>\n",
       "    </tr>\n",
       "    <tr>\n",
       "      <th>1</th>\n",
       "      <td>NCT00001723</td>\n",
       "      <td>-0.06</td>\n",
       "      <td>-0.12</td>\n",
       "      <td>0.06</td>\n",
       "      <td>0.18</td>\n",
       "      <td>0.333333</td>\n",
       "      <td>0.010000</td>\n",
       "      <td>1.56</td>\n",
       "      <td>0.000000</td>\n",
       "    </tr>\n",
       "    <tr>\n",
       "      <th>2</th>\n",
       "      <td>NCT00004980</td>\n",
       "      <td>8.61</td>\n",
       "      <td>5.85</td>\n",
       "      <td>2.76</td>\n",
       "      <td>14.46</td>\n",
       "      <td>0.190871</td>\n",
       "      <td>0.014493</td>\n",
       "      <td>4.80</td>\n",
       "      <td>0.040000</td>\n",
       "    </tr>\n",
       "    <tr>\n",
       "      <th>3</th>\n",
       "      <td>NCT00005669</td>\n",
       "      <td>-0.07</td>\n",
       "      <td>-0.11</td>\n",
       "      <td>0.04</td>\n",
       "      <td>0.18</td>\n",
       "      <td>0.222222</td>\n",
       "      <td>0.072260</td>\n",
       "      <td>3.60</td>\n",
       "      <td>0.030000</td>\n",
       "    </tr>\n",
       "    <tr>\n",
       "      <th>4</th>\n",
       "      <td>NCT00005879</td>\n",
       "      <td>-0.80</td>\n",
       "      <td>-1.10</td>\n",
       "      <td>0.30</td>\n",
       "      <td>1.90</td>\n",
       "      <td>0.157895</td>\n",
       "      <td>0.000000</td>\n",
       "      <td>2.40</td>\n",
       "      <td>0.007538</td>\n",
       "    </tr>\n",
       "  </tbody>\n",
       "</table>\n",
       "</div>"
      ],
      "text/plain": [
       "        nct_id  mean1  mean2  abs_mean_dif  abs_mean_sum  alt_test_statistic  \\\n",
       "0  NCT00001596 -20.93 -23.52          2.59         44.45            0.058268   \n",
       "1  NCT00001723  -0.06  -0.12          0.06          0.18            0.333333   \n",
       "2  NCT00004980   8.61   5.85          2.76         14.46            0.190871   \n",
       "3  NCT00005669  -0.07  -0.11          0.04          0.18            0.222222   \n",
       "4  NCT00005879  -0.80  -1.10          0.30          1.90            0.157895   \n",
       "\n",
       "   sex_imbalance  age_imbalance  group_size_imbalance  \n",
       "0       0.152174          53.28              0.157143  \n",
       "1       0.010000           1.56              0.000000  \n",
       "2       0.014493           4.80              0.040000  \n",
       "3       0.072260           3.60              0.030000  \n",
       "4       0.000000           2.40              0.007538  "
      ]
     },
     "execution_count": 30,
     "metadata": {},
     "output_type": "execute_result"
    }
   ],
   "source": [
    "regression_data.head()"
   ]
  },
  {
   "cell_type": "code",
   "execution_count": 31,
   "metadata": {},
   "outputs": [
    {
     "name": "stdout",
     "output_type": "stream",
     "text": [
      "                            OLS Regression Results                            \n",
      "==============================================================================\n",
      "Dep. Variable:     alt_test_statistic   R-squared:                       0.001\n",
      "Model:                            OLS   Adj. R-squared:                 -0.001\n",
      "Method:                 Least Squares   F-statistic:                    0.5170\n",
      "Date:                Mon, 02 Dec 2019   Prob (F-statistic):              0.597\n",
      "Time:                        21:35:14   Log-Likelihood:                -239.57\n",
      "No. Observations:                 728   AIC:                             485.1\n",
      "Df Residuals:                     725   BIC:                             498.9\n",
      "Df Model:                           2                                         \n",
      "Covariance Type:            nonrobust                                         \n",
      "=================================================================================\n",
      "                    coef    std err          t      P>|t|      [0.025      0.975]\n",
      "---------------------------------------------------------------------------------\n",
      "Intercept         0.3049      0.019     15.791      0.000       0.267       0.343\n",
      "age_imbalance     0.0002      0.000      0.509      0.611      -0.001       0.001\n",
      "sex_imbalance     0.1030      0.129      0.800      0.424      -0.150       0.356\n",
      "==============================================================================\n",
      "Omnibus:                       97.727   Durbin-Watson:                   1.773\n",
      "Prob(Omnibus):                  0.000   Jarque-Bera (JB):              133.386\n",
      "Skew:                           1.035   Prob(JB):                     1.09e-29\n",
      "Kurtosis:                       2.662   Cond. No.                         401.\n",
      "==============================================================================\n",
      "\n",
      "Warnings:\n",
      "[1] Standard Errors assume that the covariance matrix of the errors is correctly specified.\n"
     ]
    }
   ],
   "source": [
    "linmod = smf.ols('alt_test_statistic ~ age_imbalance + sex_imbalance', data=regression_data).fit()\n",
    "print(linmod.summary())"
   ]
  }
 ],
 "metadata": {
  "kernelspec": {
   "display_name": "Python 3",
   "language": "python",
   "name": "python3"
  },
  "language_info": {
   "codemirror_mode": {
    "name": "ipython",
    "version": 3
   },
   "file_extension": ".py",
   "mimetype": "text/x-python",
   "name": "python",
   "nbconvert_exporter": "python",
   "pygments_lexer": "ipython3",
   "version": "3.7.3"
  }
 },
 "nbformat": 4,
 "nbformat_minor": 2
}
