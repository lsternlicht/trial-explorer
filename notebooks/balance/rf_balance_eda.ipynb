{
 "cells": [
  {
   "cell_type": "code",
   "execution_count": 1,
   "metadata": {},
   "outputs": [],
   "source": [
    "import sys\n",
    "if \"../../\" not in sys.path:\n",
    "    sys.path.append(\"../../\")"
   ]
  },
  {
   "cell_type": "code",
   "execution_count": 2,
   "metadata": {},
   "outputs": [],
   "source": [
    "import pandas as pd\n",
    "import numpy as np\n",
    "from importlib import reload\n",
    "from tqdm import tqdm_notebook as tqdm\n",
    "import time\n",
    "\n",
    "import pdaactconn as pc\n",
    "from trialexplorer import AACTStudySet\n",
    "\n",
    "import matplotlib.pyplot\n",
    "%matplotlib inline"
   ]
  },
  {
   "cell_type": "code",
   "execution_count": 3,
   "metadata": {},
   "outputs": [
    {
     "name": "stdout",
     "output_type": "stream",
     "text": [
      "257905 studies loaded!\n"
     ]
    }
   ],
   "source": [
    "conn = pc.AACTConnection(source=pc.AACTConnection.REMOTE)\n",
    "ss = AACTStudySet.AACTStudySet(conn=conn, \n",
    "                               tqdm_handler=tqdm)\n",
    "ss.add_constraint(\"study_type = 'Interventional'\")\n",
    "ss.load_studies()"
   ]
  },
  {
   "cell_type": "code",
   "execution_count": 4,
   "metadata": {},
   "outputs": [
    {
     "name": "stdout",
     "output_type": "stream",
     "text": [
      "Successfuly added these 1 dimensions: ['baseline_measurements']\n",
      "Failed to add these 0 dimensions: []\n",
      "Successfuly added these 1 dimensions: ['result_groups']\n",
      "Failed to add these 0 dimensions: []\n",
      "Successfuly added these 1 dimensions: ['eligibilities']\n",
      "Failed to add these 0 dimensions: []\n",
      "Successfuly added these 1 dimensions: ['outcomes']\n",
      "Failed to add these 0 dimensions: []\n",
      "Successfuly added these 1 dimensions: ['outcome_measurements']\n",
      "Failed to add these 0 dimensions: []\n"
     ]
    },
    {
     "data": {
      "application/vnd.jupyter.widget-view+json": {
       "model_id": "4e29453546134a44bb45a433ea22380d",
       "version_major": 2,
       "version_minor": 0
      },
      "text/plain": [
       "HBox(children=(IntProgress(value=0, max=516), HTML(value='')))"
      ]
     },
     "metadata": {},
     "output_type": "display_data"
    },
    {
     "name": "stdout",
     "output_type": "stream",
     "text": [
      "Syncing the temp table temp_cur_studies in 516 chunks x 500 records each\n",
      "\n",
      "Creating index on the temp table\n",
      " - Loading dimension baseline_measurements\n",
      " -- Loading raw data\n",
      " -- Sorting index\n",
      " - Loading dimension result_groups\n",
      " -- Loading raw data\n",
      " -- Sorting index\n",
      " - Loading dimension eligibilities\n",
      " -- Loading raw data\n",
      " -- Sorting index\n",
      " - Loading dimension outcomes\n",
      " -- Loading raw data\n",
      " -- Sorting index\n",
      " - Loading dimension outcome_measurements\n",
      " -- Loading raw data\n",
      " -- Sorting index\n"
     ]
    }
   ],
   "source": [
    "ss.add_dimensions(['baseline_measurements'])\n",
    "ss.add_dimensions(['result_groups'])\n",
    "ss.add_dimensions(['eligibilities'])\n",
    "ss.add_dimensions(['outcomes'])\n",
    "ss.add_dimensions(['outcome_measurements'])\n",
    "ss.refresh_dim_data()"
   ]
  },
  {
   "cell_type": "code",
   "execution_count": 5,
   "metadata": {},
   "outputs": [
    {
     "data": {
      "text/plain": [
       "257905"
      ]
     },
     "execution_count": 5,
     "metadata": {},
     "output_type": "execute_result"
    }
   ],
   "source": [
    "num_all = ss.studies.shape[0]\n",
    "num_all"
   ]
  },
  {
   "cell_type": "code",
   "execution_count": 6,
   "metadata": {},
   "outputs": [],
   "source": [
    "bm = ss.dimensions['baseline_measurements'].data\n",
    "rg = ss.dimensions['result_groups'].data\n",
    "el = ss.dimensions['eligibilities'].data\n",
    "out = ss.dimensions['outcomes'].data\n",
    "om = ss.dimensions['outcome_measurements'].data"
   ]
  },
  {
   "cell_type": "markdown",
   "metadata": {},
   "source": [
    "## Where are all the places we can find gender information in bm?"
   ]
  },
  {
   "cell_type": "code",
   "execution_count": 7,
   "metadata": {},
   "outputs": [
    {
     "data": {
      "text/html": [
       "<div>\n",
       "<style scoped>\n",
       "    .dataframe tbody tr th:only-of-type {\n",
       "        vertical-align: middle;\n",
       "    }\n",
       "\n",
       "    .dataframe tbody tr th {\n",
       "        vertical-align: top;\n",
       "    }\n",
       "\n",
       "    .dataframe thead th {\n",
       "        text-align: right;\n",
       "    }\n",
       "</style>\n",
       "<table border=\"1\" class=\"dataframe\">\n",
       "  <thead>\n",
       "    <tr style=\"text-align: right;\">\n",
       "      <th></th>\n",
       "      <th></th>\n",
       "      <th>id</th>\n",
       "      <th>ctgov_group_code</th>\n",
       "      <th>classification</th>\n",
       "      <th>category</th>\n",
       "      <th>title</th>\n",
       "      <th>description</th>\n",
       "      <th>units</th>\n",
       "      <th>param_type</th>\n",
       "      <th>param_value</th>\n",
       "      <th>param_value_num</th>\n",
       "      <th>dispersion_type</th>\n",
       "      <th>dispersion_value</th>\n",
       "      <th>dispersion_value_num</th>\n",
       "      <th>dispersion_lower_limit</th>\n",
       "      <th>dispersion_upper_limit</th>\n",
       "      <th>explanation_of_na</th>\n",
       "    </tr>\n",
       "    <tr>\n",
       "      <th>nct_id</th>\n",
       "      <th>result_group_id</th>\n",
       "      <th></th>\n",
       "      <th></th>\n",
       "      <th></th>\n",
       "      <th></th>\n",
       "      <th></th>\n",
       "      <th></th>\n",
       "      <th></th>\n",
       "      <th></th>\n",
       "      <th></th>\n",
       "      <th></th>\n",
       "      <th></th>\n",
       "      <th></th>\n",
       "      <th></th>\n",
       "      <th></th>\n",
       "      <th></th>\n",
       "      <th></th>\n",
       "    </tr>\n",
       "  </thead>\n",
       "  <tbody>\n",
       "    <tr>\n",
       "      <td rowspan=\"5\" valign=\"top\">NCT00000125</td>\n",
       "      <td>3090367</td>\n",
       "      <td>3368156</td>\n",
       "      <td>B3</td>\n",
       "      <td></td>\n",
       "      <td>Male</td>\n",
       "      <td>Sex: Female, Male</td>\n",
       "      <td></td>\n",
       "      <td>Participants</td>\n",
       "      <td>Count of Participants</td>\n",
       "      <td>931</td>\n",
       "      <td>931.0</td>\n",
       "      <td></td>\n",
       "      <td>None</td>\n",
       "      <td>NaN</td>\n",
       "      <td>NaN</td>\n",
       "      <td>NaN</td>\n",
       "      <td></td>\n",
       "    </tr>\n",
       "    <tr>\n",
       "      <td>3090367</td>\n",
       "      <td>3368159</td>\n",
       "      <td>B3</td>\n",
       "      <td></td>\n",
       "      <td>Female</td>\n",
       "      <td>Sex: Female, Male</td>\n",
       "      <td></td>\n",
       "      <td>Participants</td>\n",
       "      <td>Count of Participants</td>\n",
       "      <td>705</td>\n",
       "      <td>705.0</td>\n",
       "      <td></td>\n",
       "      <td>None</td>\n",
       "      <td>NaN</td>\n",
       "      <td>NaN</td>\n",
       "      <td>NaN</td>\n",
       "      <td></td>\n",
       "    </tr>\n",
       "    <tr>\n",
       "      <td>3090367</td>\n",
       "      <td>3368162</td>\n",
       "      <td>B3</td>\n",
       "      <td></td>\n",
       "      <td></td>\n",
       "      <td>Age</td>\n",
       "      <td></td>\n",
       "      <td>years</td>\n",
       "      <td>Mean</td>\n",
       "      <td>55.4</td>\n",
       "      <td>55.4</td>\n",
       "      <td>Standard Deviation</td>\n",
       "      <td>9.6</td>\n",
       "      <td>9.6</td>\n",
       "      <td>NaN</td>\n",
       "      <td>NaN</td>\n",
       "      <td></td>\n",
       "    </tr>\n",
       "    <tr>\n",
       "      <td>3090367</td>\n",
       "      <td>3368138</td>\n",
       "      <td>B3</td>\n",
       "      <td>Other</td>\n",
       "      <td></td>\n",
       "      <td>Race/Ethnicity, Customized</td>\n",
       "      <td></td>\n",
       "      <td>participants</td>\n",
       "      <td>Number</td>\n",
       "      <td>14</td>\n",
       "      <td>14.0</td>\n",
       "      <td></td>\n",
       "      <td>None</td>\n",
       "      <td>NaN</td>\n",
       "      <td>NaN</td>\n",
       "      <td>NaN</td>\n",
       "      <td></td>\n",
       "    </tr>\n",
       "    <tr>\n",
       "      <td>3090367</td>\n",
       "      <td>3368141</td>\n",
       "      <td>B3</td>\n",
       "      <td>White</td>\n",
       "      <td></td>\n",
       "      <td>Race/Ethnicity, Customized</td>\n",
       "      <td></td>\n",
       "      <td>participants</td>\n",
       "      <td>Number</td>\n",
       "      <td>1137</td>\n",
       "      <td>1137.0</td>\n",
       "      <td></td>\n",
       "      <td>None</td>\n",
       "      <td>NaN</td>\n",
       "      <td>NaN</td>\n",
       "      <td>NaN</td>\n",
       "      <td></td>\n",
       "    </tr>\n",
       "  </tbody>\n",
       "</table>\n",
       "</div>"
      ],
      "text/plain": [
       "                                  id ctgov_group_code classification category  \\\n",
       "nct_id      result_group_id                                                     \n",
       "NCT00000125 3090367          3368156               B3                    Male   \n",
       "            3090367          3368159               B3                  Female   \n",
       "            3090367          3368162               B3                           \n",
       "            3090367          3368138               B3          Other            \n",
       "            3090367          3368141               B3          White            \n",
       "\n",
       "                                                  title description  \\\n",
       "nct_id      result_group_id                                           \n",
       "NCT00000125 3090367                   Sex: Female, Male               \n",
       "            3090367                   Sex: Female, Male               \n",
       "            3090367                                 Age               \n",
       "            3090367          Race/Ethnicity, Customized               \n",
       "            3090367          Race/Ethnicity, Customized               \n",
       "\n",
       "                                    units             param_type param_value  \\\n",
       "nct_id      result_group_id                                                    \n",
       "NCT00000125 3090367          Participants  Count of Participants         931   \n",
       "            3090367          Participants  Count of Participants         705   \n",
       "            3090367                 years                   Mean        55.4   \n",
       "            3090367          participants                 Number          14   \n",
       "            3090367          participants                 Number        1137   \n",
       "\n",
       "                             param_value_num     dispersion_type  \\\n",
       "nct_id      result_group_id                                        \n",
       "NCT00000125 3090367                    931.0                       \n",
       "            3090367                    705.0                       \n",
       "            3090367                     55.4  Standard Deviation   \n",
       "            3090367                     14.0                       \n",
       "            3090367                   1137.0                       \n",
       "\n",
       "                            dispersion_value  dispersion_value_num  \\\n",
       "nct_id      result_group_id                                          \n",
       "NCT00000125 3090367                     None                   NaN   \n",
       "            3090367                     None                   NaN   \n",
       "            3090367                      9.6                   9.6   \n",
       "            3090367                     None                   NaN   \n",
       "            3090367                     None                   NaN   \n",
       "\n",
       "                             dispersion_lower_limit  dispersion_upper_limit  \\\n",
       "nct_id      result_group_id                                                   \n",
       "NCT00000125 3090367                             NaN                     NaN   \n",
       "            3090367                             NaN                     NaN   \n",
       "            3090367                             NaN                     NaN   \n",
       "            3090367                             NaN                     NaN   \n",
       "            3090367                             NaN                     NaN   \n",
       "\n",
       "                            explanation_of_na  \n",
       "nct_id      result_group_id                    \n",
       "NCT00000125 3090367                            \n",
       "            3090367                            \n",
       "            3090367                            \n",
       "            3090367                            \n",
       "            3090367                            "
      ]
     },
     "execution_count": 7,
     "metadata": {},
     "output_type": "execute_result"
    }
   ],
   "source": [
    "bm.head()"
   ]
  },
  {
   "cell_type": "code",
   "execution_count": 8,
   "metadata": {},
   "outputs": [
    {
     "data": {
      "text/plain": [
       "(1087993, 16)"
      ]
     },
     "execution_count": 8,
     "metadata": {},
     "output_type": "execute_result"
    }
   ],
   "source": [
    "bm.shape"
   ]
  },
  {
   "cell_type": "code",
   "execution_count": 9,
   "metadata": {},
   "outputs": [
    {
     "data": {
      "text/plain": [
       "38296"
      ]
     },
     "execution_count": 9,
     "metadata": {},
     "output_type": "execute_result"
    }
   ],
   "source": [
    "bm_all = bm.index.get_level_values(0).unique().shape[0]\n",
    "bm_all"
   ]
  },
  {
   "cell_type": "markdown",
   "metadata": {},
   "source": [
    "<hr>"
   ]
  },
  {
   "cell_type": "code",
   "execution_count": 200,
   "metadata": {},
   "outputs": [
    {
     "data": {
      "text/plain": [
       "0.14848878462999943"
      ]
     },
     "execution_count": 200,
     "metadata": {},
     "output_type": "execute_result"
    }
   ],
   "source": [
    "bm_all / num_all"
   ]
  },
  {
   "cell_type": "code",
   "execution_count": null,
   "metadata": {},
   "outputs": [],
   "source": []
  },
  {
   "cell_type": "markdown",
   "metadata": {},
   "source": [
    "##### searching in the \"classification\" field"
   ]
  },
  {
   "cell_type": "code",
   "execution_count": 10,
   "metadata": {},
   "outputs": [],
   "source": [
    "possible_classes = [x for x in bm['classification'].unique() if 'male' in x.lower()]"
   ]
  },
  {
   "cell_type": "code",
   "execution_count": 11,
   "metadata": {},
   "outputs": [
    {
     "data": {
      "text/plain": [
       "((5445, 16), 0.021621057029454775)"
      ]
     },
     "execution_count": 11,
     "metadata": {},
     "output_type": "execute_result"
    }
   ],
   "source": [
    "dfc = bm[bm['classification'].isin(possible_classes)]\n",
    "dfc.shape, dfc.index.get_level_values(0).unique().shape[0]/bm_all"
   ]
  },
  {
   "cell_type": "code",
   "execution_count": 12,
   "metadata": {},
   "outputs": [
    {
     "data": {
      "text/plain": [
       "array(['Gender', 'Sex/Gender, Customized',\n",
       "       'Family History of Coronary Artery Disease', 'Visit type', 'Age',\n",
       "       'History of Vomiting with Pregnancy',\n",
       "       'Clayton Sexual Functioning Questionnaire (CSFQ)',\n",
       "       'Gender at Beginning of Long term Follow-up Period',\n",
       "       'Gender, by Disease Type', 'Donor gender'], dtype=object)"
      ]
     },
     "execution_count": 12,
     "metadata": {},
     "output_type": "execute_result"
    }
   ],
   "source": [
    "dfc['title'].unique()[:10]"
   ]
  },
  {
   "cell_type": "code",
   "execution_count": 13,
   "metadata": {},
   "outputs": [
    {
     "data": {
      "text/plain": [
       "classification\n",
       "Female                                 1866\n",
       "Male                                   1848\n",
       "Female of Childbearing Potential        113\n",
       "Females                                  57\n",
       "Males                                    40\n",
       "N/A (Subject is Male)                    30\n",
       "Female of childbearing potential         30\n",
       "Females of Child-bearing Potential       26\n",
       "Sterilized Females                       26\n",
       "Males (Excluded from this analysis)      26\n",
       "dtype: int64"
      ]
     },
     "execution_count": 13,
     "metadata": {},
     "output_type": "execute_result"
    }
   ],
   "source": [
    "dfc.groupby('classification').size().sort_values(ascending=False)[:10]"
   ]
  },
  {
   "cell_type": "markdown",
   "metadata": {},
   "source": [
    "##### Use Female, Male and their plurals"
   ]
  },
  {
   "cell_type": "code",
   "execution_count": 14,
   "metadata": {},
   "outputs": [],
   "source": [
    "used_classes = ['female', 'male', 'females', 'males']"
   ]
  },
  {
   "cell_type": "code",
   "execution_count": 15,
   "metadata": {},
   "outputs": [
    {
     "data": {
      "text/plain": [
       "681"
      ]
     },
     "execution_count": 15,
     "metadata": {},
     "output_type": "execute_result"
    }
   ],
   "source": [
    "used_dfc = dfc[dfc['classification'].apply(lambda x: x.lower()).isin(used_classes)]\n",
    "res_studies_dfc = used_dfc.index.get_level_values(0).unique().shape[0]\n",
    "res_studies_dfc"
   ]
  },
  {
   "cell_type": "code",
   "execution_count": 16,
   "metadata": {},
   "outputs": [
    {
     "data": {
      "text/plain": [
       "array(['Male', 'Female', 'male', 'Males', 'Females', 'female', 'FEMALE',\n",
       "       'MALE', 'females', 'males'], dtype=object)"
      ]
     },
     "execution_count": 16,
     "metadata": {},
     "output_type": "execute_result"
    }
   ],
   "source": [
    "used_dfc['classification'].unique()"
   ]
  },
  {
   "cell_type": "code",
   "execution_count": 17,
   "metadata": {},
   "outputs": [
    {
     "data": {
      "text/plain": [
       "0.01778253603509505"
      ]
     },
     "execution_count": 17,
     "metadata": {},
     "output_type": "execute_result"
    }
   ],
   "source": [
    "pct_classes = res_studies_dfc / bm_all\n",
    "pct_classes"
   ]
  },
  {
   "cell_type": "markdown",
   "metadata": {},
   "source": [
    "##### conclusion: using the \"classification\" field for the gender infor gets us just under 2% of the 38k studies with baseline metrics, where else can we get gender information?"
   ]
  },
  {
   "cell_type": "markdown",
   "metadata": {},
   "source": [
    "<hr>"
   ]
  },
  {
   "cell_type": "markdown",
   "metadata": {},
   "source": [
    "##### searching in the \"category\" field"
   ]
  },
  {
   "cell_type": "code",
   "execution_count": 18,
   "metadata": {},
   "outputs": [
    {
     "data": {
      "text/plain": [
       "category\n",
       "                                          489196\n",
       "Male                                      107991\n",
       "Female                                    107973\n",
       "Unknown or Not Reported                    41581\n",
       ">=65 years                                 35307\n",
       "                                           ...  \n",
       "Age group at baseline: >12 to 18 years         1\n",
       "Age group at baseline: >18 years               1\n",
       "Age ≥ 60 years                                 1\n",
       "Aggressive systemic mastocytosis (ASM)         1\n",
       "Study provided device                          1\n",
       "Length: 7697, dtype: int64"
      ]
     },
     "execution_count": 18,
     "metadata": {},
     "output_type": "execute_result"
    }
   ],
   "source": [
    "bm.groupby('category').size().sort_values(ascending=False)"
   ]
  },
  {
   "cell_type": "code",
   "execution_count": 19,
   "metadata": {
    "scrolled": true
   },
   "outputs": [
    {
     "data": {
      "text/plain": [
       "['Male',\n",
       " 'Female',\n",
       " 'not applicable (male)',\n",
       " 'Female-Female',\n",
       " 'Male-Male',\n",
       " 'Female-Male',\n",
       " 'Male-Female',\n",
       " 'Male patients',\n",
       " 'High (>=102 cm for male and >=88 cm for female)',\n",
       " 'Low (<102 cm for male and <88 cm for female)',\n",
       " 'male',\n",
       " 'female',\n",
       " 'Male Donor, Male Recipient',\n",
       " 'Male Donor, Female Recipient',\n",
       " 'Female Donor, Male Recipient',\n",
       " 'Female Donor, Female Recipient',\n",
       " 'MALE',\n",
       " 'FEMALE',\n",
       " 'Transfemale',\n",
       " 'Females',\n",
       " 'Males',\n",
       " 'Sex (Female Only)',\n",
       " 'Male donor / Male Recipient',\n",
       " 'Female donor / Female Recipient',\n",
       " 'Female donor / Male Recipient',\n",
       " 'Male donor / Female Recipient',\n",
       " 'Female ≥4',\n",
       " 'Female <4',\n",
       " 'Male ≥8',\n",
       " 'Male <8',\n",
       " 'Female of Childbearing Potential',\n",
       " 'Female of childbearing potential',\n",
       " 'Not applicable (male participants)',\n",
       " 'Female - shirt collar >=16 in/41 cm',\n",
       " 'Female - shirt collar <16 in/41 cm',\n",
       " 'Male - shirt collar >= 17 in/43 cm',\n",
       " 'Male - shirt collar <17 in/43 cm',\n",
       " 'Not Applicable (Male)',\n",
       " 'Tubal and male factors',\n",
       " 'Male factor',\n",
       " 'Not applicable (Male)',\n",
       " 'Wife/Females Partner/Girlfriend',\n",
       " 'Transmale',\n",
       " 'Female/Transfemale']"
      ]
     },
     "execution_count": 19,
     "metadata": {},
     "output_type": "execute_result"
    }
   ],
   "source": [
    "possible_class_cat = [x for x in bm['category'].unique() if 'male' in x.lower()]\n",
    "possible_class_cat"
   ]
  },
  {
   "cell_type": "code",
   "execution_count": 20,
   "metadata": {},
   "outputs": [
    {
     "data": {
      "text/html": [
       "<div>\n",
       "<style scoped>\n",
       "    .dataframe tbody tr th:only-of-type {\n",
       "        vertical-align: middle;\n",
       "    }\n",
       "\n",
       "    .dataframe tbody tr th {\n",
       "        vertical-align: top;\n",
       "    }\n",
       "\n",
       "    .dataframe thead th {\n",
       "        text-align: right;\n",
       "    }\n",
       "</style>\n",
       "<table border=\"1\" class=\"dataframe\">\n",
       "  <thead>\n",
       "    <tr style=\"text-align: right;\">\n",
       "      <th></th>\n",
       "      <th></th>\n",
       "      <th>id</th>\n",
       "      <th>ctgov_group_code</th>\n",
       "      <th>classification</th>\n",
       "      <th>category</th>\n",
       "      <th>title</th>\n",
       "      <th>description</th>\n",
       "      <th>units</th>\n",
       "      <th>param_type</th>\n",
       "      <th>param_value</th>\n",
       "      <th>param_value_num</th>\n",
       "      <th>dispersion_type</th>\n",
       "      <th>dispersion_value</th>\n",
       "      <th>dispersion_value_num</th>\n",
       "      <th>dispersion_lower_limit</th>\n",
       "      <th>dispersion_upper_limit</th>\n",
       "      <th>explanation_of_na</th>\n",
       "    </tr>\n",
       "    <tr>\n",
       "      <th>nct_id</th>\n",
       "      <th>result_group_id</th>\n",
       "      <th></th>\n",
       "      <th></th>\n",
       "      <th></th>\n",
       "      <th></th>\n",
       "      <th></th>\n",
       "      <th></th>\n",
       "      <th></th>\n",
       "      <th></th>\n",
       "      <th></th>\n",
       "      <th></th>\n",
       "      <th></th>\n",
       "      <th></th>\n",
       "      <th></th>\n",
       "      <th></th>\n",
       "      <th></th>\n",
       "      <th></th>\n",
       "    </tr>\n",
       "  </thead>\n",
       "  <tbody>\n",
       "    <tr>\n",
       "      <td rowspan=\"4\" valign=\"top\">NCT00448357</td>\n",
       "      <td>2950959</td>\n",
       "      <td>3218413</td>\n",
       "      <td>B1</td>\n",
       "      <td></td>\n",
       "      <td>Female-Female</td>\n",
       "      <td>Donor-recipient sex</td>\n",
       "      <td></td>\n",
       "      <td>Participants</td>\n",
       "      <td>Count of Participants</td>\n",
       "      <td>14</td>\n",
       "      <td>14.0</td>\n",
       "      <td></td>\n",
       "      <td>None</td>\n",
       "      <td>NaN</td>\n",
       "      <td>NaN</td>\n",
       "      <td>NaN</td>\n",
       "      <td></td>\n",
       "    </tr>\n",
       "    <tr>\n",
       "      <td>2950959</td>\n",
       "      <td>3218414</td>\n",
       "      <td>B1</td>\n",
       "      <td></td>\n",
       "      <td>Male-Male</td>\n",
       "      <td>Donor-recipient sex</td>\n",
       "      <td></td>\n",
       "      <td>Participants</td>\n",
       "      <td>Count of Participants</td>\n",
       "      <td>22</td>\n",
       "      <td>22.0</td>\n",
       "      <td></td>\n",
       "      <td>None</td>\n",
       "      <td>NaN</td>\n",
       "      <td>NaN</td>\n",
       "      <td>NaN</td>\n",
       "      <td></td>\n",
       "    </tr>\n",
       "    <tr>\n",
       "      <td>2950959</td>\n",
       "      <td>3218415</td>\n",
       "      <td>B1</td>\n",
       "      <td></td>\n",
       "      <td>Female-Male</td>\n",
       "      <td>Donor-recipient sex</td>\n",
       "      <td></td>\n",
       "      <td>Participants</td>\n",
       "      <td>Count of Participants</td>\n",
       "      <td>12</td>\n",
       "      <td>12.0</td>\n",
       "      <td></td>\n",
       "      <td>None</td>\n",
       "      <td>NaN</td>\n",
       "      <td>NaN</td>\n",
       "      <td>NaN</td>\n",
       "      <td></td>\n",
       "    </tr>\n",
       "    <tr>\n",
       "      <td>2950959</td>\n",
       "      <td>3218416</td>\n",
       "      <td>B1</td>\n",
       "      <td></td>\n",
       "      <td>Male-Female</td>\n",
       "      <td>Donor-recipient sex</td>\n",
       "      <td></td>\n",
       "      <td>Participants</td>\n",
       "      <td>Count of Participants</td>\n",
       "      <td>6</td>\n",
       "      <td>6.0</td>\n",
       "      <td></td>\n",
       "      <td>None</td>\n",
       "      <td>NaN</td>\n",
       "      <td>NaN</td>\n",
       "      <td>NaN</td>\n",
       "      <td></td>\n",
       "    </tr>\n",
       "  </tbody>\n",
       "</table>\n",
       "</div>"
      ],
      "text/plain": [
       "                                  id ctgov_group_code classification  \\\n",
       "nct_id      result_group_id                                            \n",
       "NCT00448357 2950959          3218413               B1                  \n",
       "            2950959          3218414               B1                  \n",
       "            2950959          3218415               B1                  \n",
       "            2950959          3218416               B1                  \n",
       "\n",
       "                                  category                title description  \\\n",
       "nct_id      result_group_id                                                   \n",
       "NCT00448357 2950959          Female-Female  Donor-recipient sex               \n",
       "            2950959              Male-Male  Donor-recipient sex               \n",
       "            2950959            Female-Male  Donor-recipient sex               \n",
       "            2950959            Male-Female  Donor-recipient sex               \n",
       "\n",
       "                                    units             param_type param_value  \\\n",
       "nct_id      result_group_id                                                    \n",
       "NCT00448357 2950959          Participants  Count of Participants          14   \n",
       "            2950959          Participants  Count of Participants          22   \n",
       "            2950959          Participants  Count of Participants          12   \n",
       "            2950959          Participants  Count of Participants           6   \n",
       "\n",
       "                             param_value_num dispersion_type dispersion_value  \\\n",
       "nct_id      result_group_id                                                     \n",
       "NCT00448357 2950959                     14.0                             None   \n",
       "            2950959                     22.0                             None   \n",
       "            2950959                     12.0                             None   \n",
       "            2950959                      6.0                             None   \n",
       "\n",
       "                             dispersion_value_num  dispersion_lower_limit  \\\n",
       "nct_id      result_group_id                                                 \n",
       "NCT00448357 2950959                           NaN                     NaN   \n",
       "            2950959                           NaN                     NaN   \n",
       "            2950959                           NaN                     NaN   \n",
       "            2950959                           NaN                     NaN   \n",
       "\n",
       "                             dispersion_upper_limit explanation_of_na  \n",
       "nct_id      result_group_id                                            \n",
       "NCT00448357 2950959                             NaN                    \n",
       "            2950959                             NaN                    \n",
       "            2950959                             NaN                    \n",
       "            2950959                             NaN                    "
      ]
     },
     "execution_count": 20,
     "metadata": {},
     "output_type": "execute_result"
    }
   ],
   "source": [
    "# aside: what are those with both genders listed, such as 'Female-Male'?\n",
    "cur_list = ['Female-Female',\n",
    "'Male-Male',\n",
    "'Female-Male',\n",
    "'Male-Female',]\n",
    "\n",
    "cur_df = bm[bm['category'].isin(cur_list)]\n",
    "cur_df\n",
    "\n",
    "# ah donor to recipients"
   ]
  },
  {
   "cell_type": "code",
   "execution_count": 21,
   "metadata": {},
   "outputs": [
    {
     "data": {
      "text/plain": [
       "(216230, 16)"
      ]
     },
     "execution_count": 21,
     "metadata": {},
     "output_type": "execute_result"
    }
   ],
   "source": [
    "dfcat = bm[bm['category'].isin(possible_class_cat)]\n",
    "dfcat.shape"
   ]
  },
  {
   "cell_type": "code",
   "execution_count": 22,
   "metadata": {
    "scrolled": true
   },
   "outputs": [
    {
     "data": {
      "text/plain": [
       "category\n",
       "Male                                107991\n",
       "Female                              107973\n",
       "FEMALE                                  68\n",
       "MALE                                    68\n",
       "Female of childbearing potential        18\n",
       "Not Applicable (Male)                    5\n",
       "dtype: int64"
      ]
     },
     "execution_count": 22,
     "metadata": {},
     "output_type": "execute_result"
    }
   ],
   "source": [
    "dfcat.groupby('category').size().sort_values(ascending=False)[:6]"
   ]
  },
  {
   "cell_type": "markdown",
   "metadata": {},
   "source": [
    "Seems like if we just use \"Male, Female\" in any case, we will capture the vast majority of cases in this category"
   ]
  },
  {
   "cell_type": "code",
   "execution_count": 23,
   "metadata": {},
   "outputs": [],
   "source": [
    "used_cats = ['male', 'female']\n",
    "used_dfcat = bm[bm['category'].apply(lambda x: x.lower()).isin(used_cats)]"
   ]
  },
  {
   "cell_type": "code",
   "execution_count": 24,
   "metadata": {},
   "outputs": [
    {
     "data": {
      "text/plain": [
       "array(['Male', 'Female', 'male', 'female', 'MALE', 'FEMALE'], dtype=object)"
      ]
     },
     "execution_count": 24,
     "metadata": {},
     "output_type": "execute_result"
    }
   ],
   "source": [
    "used_dfcat['category'].unique()"
   ]
  },
  {
   "cell_type": "code",
   "execution_count": 25,
   "metadata": {},
   "outputs": [
    {
     "data": {
      "text/plain": [
       "0.9784311677459787"
      ]
     },
     "execution_count": 25,
     "metadata": {},
     "output_type": "execute_result"
    }
   ],
   "source": [
    "pct_cats = np.unique(used_dfcat.index.get_level_values(0)).shape[0] / bm_all\n",
    "pct_cats"
   ]
  },
  {
   "cell_type": "markdown",
   "metadata": {},
   "source": [
    "#### This seems a majority of our studies, is there overlap between identifying gender using classification vs using category?\n",
    "\n",
    "Let's analyse their intersections"
   ]
  },
  {
   "cell_type": "code",
   "execution_count": 26,
   "metadata": {},
   "outputs": [
    {
     "data": {
      "text/plain": [
       "array(['Male', 'Female', 'male', 'Males', 'Females', 'female', 'FEMALE',\n",
       "       'MALE', 'females', 'males'], dtype=object)"
      ]
     },
     "execution_count": 26,
     "metadata": {},
     "output_type": "execute_result"
    }
   ],
   "source": [
    "used_dfc['classification'].unique()"
   ]
  },
  {
   "cell_type": "code",
   "execution_count": 27,
   "metadata": {},
   "outputs": [
    {
     "data": {
      "text/plain": [
       "category\n",
       "                           3849\n",
       "Male                          7\n",
       "Female                        4\n",
       "Between 18 and 65 years       4\n",
       ">=65 years                    4\n",
       "<=18 years                    4\n",
       "Transfemale                   3\n",
       "dtype: int64"
      ]
     },
     "execution_count": 27,
     "metadata": {},
     "output_type": "execute_result"
    }
   ],
   "source": [
    "used_dfc.groupby('category').size().sort_values(ascending=False)"
   ]
  },
  {
   "cell_type": "markdown",
   "metadata": {},
   "source": [
    "Most of the valid classifications have null as category, what about the others?"
   ]
  },
  {
   "cell_type": "code",
   "execution_count": 28,
   "metadata": {},
   "outputs": [
    {
     "data": {
      "text/html": [
       "<div>\n",
       "<style scoped>\n",
       "    .dataframe tbody tr th:only-of-type {\n",
       "        vertical-align: middle;\n",
       "    }\n",
       "\n",
       "    .dataframe tbody tr th {\n",
       "        vertical-align: top;\n",
       "    }\n",
       "\n",
       "    .dataframe thead th {\n",
       "        text-align: right;\n",
       "    }\n",
       "</style>\n",
       "<table border=\"1\" class=\"dataframe\">\n",
       "  <thead>\n",
       "    <tr style=\"text-align: right;\">\n",
       "      <th></th>\n",
       "      <th></th>\n",
       "      <th>id</th>\n",
       "      <th>ctgov_group_code</th>\n",
       "      <th>classification</th>\n",
       "      <th>category</th>\n",
       "      <th>title</th>\n",
       "      <th>description</th>\n",
       "      <th>units</th>\n",
       "      <th>param_type</th>\n",
       "      <th>param_value</th>\n",
       "      <th>param_value_num</th>\n",
       "      <th>dispersion_type</th>\n",
       "      <th>dispersion_value</th>\n",
       "      <th>dispersion_value_num</th>\n",
       "      <th>dispersion_lower_limit</th>\n",
       "      <th>dispersion_upper_limit</th>\n",
       "      <th>explanation_of_na</th>\n",
       "    </tr>\n",
       "    <tr>\n",
       "      <th>nct_id</th>\n",
       "      <th>result_group_id</th>\n",
       "      <th></th>\n",
       "      <th></th>\n",
       "      <th></th>\n",
       "      <th></th>\n",
       "      <th></th>\n",
       "      <th></th>\n",
       "      <th></th>\n",
       "      <th></th>\n",
       "      <th></th>\n",
       "      <th></th>\n",
       "      <th></th>\n",
       "      <th></th>\n",
       "      <th></th>\n",
       "      <th></th>\n",
       "      <th></th>\n",
       "      <th></th>\n",
       "    </tr>\n",
       "  </thead>\n",
       "  <tbody>\n",
       "    <tr>\n",
       "      <td rowspan=\"3\" valign=\"top\">NCT01781806</td>\n",
       "      <td>2384509</td>\n",
       "      <td>2641670</td>\n",
       "      <td>B3</td>\n",
       "      <td>Male</td>\n",
       "      <td>Transfemale</td>\n",
       "      <td>Sex/Gender, Customized</td>\n",
       "      <td></td>\n",
       "      <td>Participants</td>\n",
       "      <td>Count of Participants</td>\n",
       "      <td>1</td>\n",
       "      <td>1.0</td>\n",
       "      <td></td>\n",
       "      <td>None</td>\n",
       "      <td>NaN</td>\n",
       "      <td>NaN</td>\n",
       "      <td>NaN</td>\n",
       "      <td></td>\n",
       "    </tr>\n",
       "    <tr>\n",
       "      <td>2384510</td>\n",
       "      <td>2641671</td>\n",
       "      <td>B2</td>\n",
       "      <td>Male</td>\n",
       "      <td>Transfemale</td>\n",
       "      <td>Sex/Gender, Customized</td>\n",
       "      <td></td>\n",
       "      <td>Participants</td>\n",
       "      <td>Count of Participants</td>\n",
       "      <td>0</td>\n",
       "      <td>0.0</td>\n",
       "      <td></td>\n",
       "      <td>None</td>\n",
       "      <td>NaN</td>\n",
       "      <td>NaN</td>\n",
       "      <td>NaN</td>\n",
       "      <td></td>\n",
       "    </tr>\n",
       "    <tr>\n",
       "      <td>2384511</td>\n",
       "      <td>2641672</td>\n",
       "      <td>B1</td>\n",
       "      <td>Male</td>\n",
       "      <td>Transfemale</td>\n",
       "      <td>Sex/Gender, Customized</td>\n",
       "      <td></td>\n",
       "      <td>Participants</td>\n",
       "      <td>Count of Participants</td>\n",
       "      <td>1</td>\n",
       "      <td>1.0</td>\n",
       "      <td></td>\n",
       "      <td>None</td>\n",
       "      <td>NaN</td>\n",
       "      <td>NaN</td>\n",
       "      <td>NaN</td>\n",
       "      <td></td>\n",
       "    </tr>\n",
       "    <tr>\n",
       "      <td rowspan=\"12\" valign=\"top\">NCT02844998</td>\n",
       "      <td>2115438</td>\n",
       "      <td>2314833</td>\n",
       "      <td>B4</td>\n",
       "      <td>Male</td>\n",
       "      <td>&gt;=65 years</td>\n",
       "      <td>Age</td>\n",
       "      <td></td>\n",
       "      <td>Participants</td>\n",
       "      <td>Count of Participants</td>\n",
       "      <td>0</td>\n",
       "      <td>0.0</td>\n",
       "      <td></td>\n",
       "      <td>None</td>\n",
       "      <td>NaN</td>\n",
       "      <td>NaN</td>\n",
       "      <td>NaN</td>\n",
       "      <td></td>\n",
       "    </tr>\n",
       "    <tr>\n",
       "      <td>2115438</td>\n",
       "      <td>2314837</td>\n",
       "      <td>B4</td>\n",
       "      <td>Male</td>\n",
       "      <td>Between 18 and 65 years</td>\n",
       "      <td>Age</td>\n",
       "      <td></td>\n",
       "      <td>Participants</td>\n",
       "      <td>Count of Participants</td>\n",
       "      <td>105</td>\n",
       "      <td>105.0</td>\n",
       "      <td></td>\n",
       "      <td>None</td>\n",
       "      <td>NaN</td>\n",
       "      <td>NaN</td>\n",
       "      <td>NaN</td>\n",
       "      <td></td>\n",
       "    </tr>\n",
       "    <tr>\n",
       "      <td>2115438</td>\n",
       "      <td>2314841</td>\n",
       "      <td>B4</td>\n",
       "      <td>Male</td>\n",
       "      <td>&lt;=18 years</td>\n",
       "      <td>Age</td>\n",
       "      <td></td>\n",
       "      <td>Participants</td>\n",
       "      <td>Count of Participants</td>\n",
       "      <td>0</td>\n",
       "      <td>0.0</td>\n",
       "      <td></td>\n",
       "      <td>None</td>\n",
       "      <td>NaN</td>\n",
       "      <td>NaN</td>\n",
       "      <td>NaN</td>\n",
       "      <td></td>\n",
       "    </tr>\n",
       "    <tr>\n",
       "      <td>2115439</td>\n",
       "      <td>2314834</td>\n",
       "      <td>B3</td>\n",
       "      <td>Male</td>\n",
       "      <td>&gt;=65 years</td>\n",
       "      <td>Age</td>\n",
       "      <td></td>\n",
       "      <td>Participants</td>\n",
       "      <td>Count of Participants</td>\n",
       "      <td>0</td>\n",
       "      <td>0.0</td>\n",
       "      <td></td>\n",
       "      <td>None</td>\n",
       "      <td>NaN</td>\n",
       "      <td>NaN</td>\n",
       "      <td>NaN</td>\n",
       "      <td></td>\n",
       "    </tr>\n",
       "    <tr>\n",
       "      <td>2115439</td>\n",
       "      <td>2314838</td>\n",
       "      <td>B3</td>\n",
       "      <td>Male</td>\n",
       "      <td>Between 18 and 65 years</td>\n",
       "      <td>Age</td>\n",
       "      <td></td>\n",
       "      <td>Participants</td>\n",
       "      <td>Count of Participants</td>\n",
       "      <td>35</td>\n",
       "      <td>35.0</td>\n",
       "      <td></td>\n",
       "      <td>None</td>\n",
       "      <td>NaN</td>\n",
       "      <td>NaN</td>\n",
       "      <td>NaN</td>\n",
       "      <td></td>\n",
       "    </tr>\n",
       "    <tr>\n",
       "      <td>2115439</td>\n",
       "      <td>2314842</td>\n",
       "      <td>B3</td>\n",
       "      <td>Male</td>\n",
       "      <td>&lt;=18 years</td>\n",
       "      <td>Age</td>\n",
       "      <td></td>\n",
       "      <td>Participants</td>\n",
       "      <td>Count of Participants</td>\n",
       "      <td>0</td>\n",
       "      <td>0.0</td>\n",
       "      <td></td>\n",
       "      <td>None</td>\n",
       "      <td>NaN</td>\n",
       "      <td>NaN</td>\n",
       "      <td>NaN</td>\n",
       "      <td></td>\n",
       "    </tr>\n",
       "    <tr>\n",
       "      <td>2115440</td>\n",
       "      <td>2314835</td>\n",
       "      <td>B2</td>\n",
       "      <td>Male</td>\n",
       "      <td>&gt;=65 years</td>\n",
       "      <td>Age</td>\n",
       "      <td></td>\n",
       "      <td>Participants</td>\n",
       "      <td>Count of Participants</td>\n",
       "      <td>0</td>\n",
       "      <td>0.0</td>\n",
       "      <td></td>\n",
       "      <td>None</td>\n",
       "      <td>NaN</td>\n",
       "      <td>NaN</td>\n",
       "      <td>NaN</td>\n",
       "      <td></td>\n",
       "    </tr>\n",
       "    <tr>\n",
       "      <td>2115440</td>\n",
       "      <td>2314839</td>\n",
       "      <td>B2</td>\n",
       "      <td>Male</td>\n",
       "      <td>Between 18 and 65 years</td>\n",
       "      <td>Age</td>\n",
       "      <td></td>\n",
       "      <td>Participants</td>\n",
       "      <td>Count of Participants</td>\n",
       "      <td>35</td>\n",
       "      <td>35.0</td>\n",
       "      <td></td>\n",
       "      <td>None</td>\n",
       "      <td>NaN</td>\n",
       "      <td>NaN</td>\n",
       "      <td>NaN</td>\n",
       "      <td></td>\n",
       "    </tr>\n",
       "    <tr>\n",
       "      <td>2115440</td>\n",
       "      <td>2314843</td>\n",
       "      <td>B2</td>\n",
       "      <td>Male</td>\n",
       "      <td>&lt;=18 years</td>\n",
       "      <td>Age</td>\n",
       "      <td></td>\n",
       "      <td>Participants</td>\n",
       "      <td>Count of Participants</td>\n",
       "      <td>0</td>\n",
       "      <td>0.0</td>\n",
       "      <td></td>\n",
       "      <td>None</td>\n",
       "      <td>NaN</td>\n",
       "      <td>NaN</td>\n",
       "      <td>NaN</td>\n",
       "      <td></td>\n",
       "    </tr>\n",
       "    <tr>\n",
       "      <td>2115441</td>\n",
       "      <td>2314836</td>\n",
       "      <td>B1</td>\n",
       "      <td>Male</td>\n",
       "      <td>&gt;=65 years</td>\n",
       "      <td>Age</td>\n",
       "      <td></td>\n",
       "      <td>Participants</td>\n",
       "      <td>Count of Participants</td>\n",
       "      <td>0</td>\n",
       "      <td>0.0</td>\n",
       "      <td></td>\n",
       "      <td>None</td>\n",
       "      <td>NaN</td>\n",
       "      <td>NaN</td>\n",
       "      <td>NaN</td>\n",
       "      <td></td>\n",
       "    </tr>\n",
       "    <tr>\n",
       "      <td>2115441</td>\n",
       "      <td>2314840</td>\n",
       "      <td>B1</td>\n",
       "      <td>Male</td>\n",
       "      <td>Between 18 and 65 years</td>\n",
       "      <td>Age</td>\n",
       "      <td></td>\n",
       "      <td>Participants</td>\n",
       "      <td>Count of Participants</td>\n",
       "      <td>35</td>\n",
       "      <td>35.0</td>\n",
       "      <td></td>\n",
       "      <td>None</td>\n",
       "      <td>NaN</td>\n",
       "      <td>NaN</td>\n",
       "      <td>NaN</td>\n",
       "      <td></td>\n",
       "    </tr>\n",
       "    <tr>\n",
       "      <td>2115441</td>\n",
       "      <td>2314844</td>\n",
       "      <td>B1</td>\n",
       "      <td>Male</td>\n",
       "      <td>&lt;=18 years</td>\n",
       "      <td>Age</td>\n",
       "      <td></td>\n",
       "      <td>Participants</td>\n",
       "      <td>Count of Participants</td>\n",
       "      <td>0</td>\n",
       "      <td>0.0</td>\n",
       "      <td></td>\n",
       "      <td>None</td>\n",
       "      <td>NaN</td>\n",
       "      <td>NaN</td>\n",
       "      <td>NaN</td>\n",
       "      <td></td>\n",
       "    </tr>\n",
       "  </tbody>\n",
       "</table>\n",
       "</div>"
      ],
      "text/plain": [
       "                                  id ctgov_group_code classification  \\\n",
       "nct_id      result_group_id                                            \n",
       "NCT01781806 2384509          2641670               B3           Male   \n",
       "            2384510          2641671               B2           Male   \n",
       "            2384511          2641672               B1           Male   \n",
       "NCT02844998 2115438          2314833               B4           Male   \n",
       "            2115438          2314837               B4           Male   \n",
       "            2115438          2314841               B4           Male   \n",
       "            2115439          2314834               B3           Male   \n",
       "            2115439          2314838               B3           Male   \n",
       "            2115439          2314842               B3           Male   \n",
       "            2115440          2314835               B2           Male   \n",
       "            2115440          2314839               B2           Male   \n",
       "            2115440          2314843               B2           Male   \n",
       "            2115441          2314836               B1           Male   \n",
       "            2115441          2314840               B1           Male   \n",
       "            2115441          2314844               B1           Male   \n",
       "\n",
       "                                            category                   title  \\\n",
       "nct_id      result_group_id                                                    \n",
       "NCT01781806 2384509                      Transfemale  Sex/Gender, Customized   \n",
       "            2384510                      Transfemale  Sex/Gender, Customized   \n",
       "            2384511                      Transfemale  Sex/Gender, Customized   \n",
       "NCT02844998 2115438                       >=65 years                     Age   \n",
       "            2115438          Between 18 and 65 years                     Age   \n",
       "            2115438                       <=18 years                     Age   \n",
       "            2115439                       >=65 years                     Age   \n",
       "            2115439          Between 18 and 65 years                     Age   \n",
       "            2115439                       <=18 years                     Age   \n",
       "            2115440                       >=65 years                     Age   \n",
       "            2115440          Between 18 and 65 years                     Age   \n",
       "            2115440                       <=18 years                     Age   \n",
       "            2115441                       >=65 years                     Age   \n",
       "            2115441          Between 18 and 65 years                     Age   \n",
       "            2115441                       <=18 years                     Age   \n",
       "\n",
       "                            description         units             param_type  \\\n",
       "nct_id      result_group_id                                                    \n",
       "NCT01781806 2384509                      Participants  Count of Participants   \n",
       "            2384510                      Participants  Count of Participants   \n",
       "            2384511                      Participants  Count of Participants   \n",
       "NCT02844998 2115438                      Participants  Count of Participants   \n",
       "            2115438                      Participants  Count of Participants   \n",
       "            2115438                      Participants  Count of Participants   \n",
       "            2115439                      Participants  Count of Participants   \n",
       "            2115439                      Participants  Count of Participants   \n",
       "            2115439                      Participants  Count of Participants   \n",
       "            2115440                      Participants  Count of Participants   \n",
       "            2115440                      Participants  Count of Participants   \n",
       "            2115440                      Participants  Count of Participants   \n",
       "            2115441                      Participants  Count of Participants   \n",
       "            2115441                      Participants  Count of Participants   \n",
       "            2115441                      Participants  Count of Participants   \n",
       "\n",
       "                            param_value  param_value_num dispersion_type  \\\n",
       "nct_id      result_group_id                                                \n",
       "NCT01781806 2384509                   1              1.0                   \n",
       "            2384510                   0              0.0                   \n",
       "            2384511                   1              1.0                   \n",
       "NCT02844998 2115438                   0              0.0                   \n",
       "            2115438                 105            105.0                   \n",
       "            2115438                   0              0.0                   \n",
       "            2115439                   0              0.0                   \n",
       "            2115439                  35             35.0                   \n",
       "            2115439                   0              0.0                   \n",
       "            2115440                   0              0.0                   \n",
       "            2115440                  35             35.0                   \n",
       "            2115440                   0              0.0                   \n",
       "            2115441                   0              0.0                   \n",
       "            2115441                  35             35.0                   \n",
       "            2115441                   0              0.0                   \n",
       "\n",
       "                            dispersion_value  dispersion_value_num  \\\n",
       "nct_id      result_group_id                                          \n",
       "NCT01781806 2384509                     None                   NaN   \n",
       "            2384510                     None                   NaN   \n",
       "            2384511                     None                   NaN   \n",
       "NCT02844998 2115438                     None                   NaN   \n",
       "            2115438                     None                   NaN   \n",
       "            2115438                     None                   NaN   \n",
       "            2115439                     None                   NaN   \n",
       "            2115439                     None                   NaN   \n",
       "            2115439                     None                   NaN   \n",
       "            2115440                     None                   NaN   \n",
       "            2115440                     None                   NaN   \n",
       "            2115440                     None                   NaN   \n",
       "            2115441                     None                   NaN   \n",
       "            2115441                     None                   NaN   \n",
       "            2115441                     None                   NaN   \n",
       "\n",
       "                             dispersion_lower_limit  dispersion_upper_limit  \\\n",
       "nct_id      result_group_id                                                   \n",
       "NCT01781806 2384509                             NaN                     NaN   \n",
       "            2384510                             NaN                     NaN   \n",
       "            2384511                             NaN                     NaN   \n",
       "NCT02844998 2115438                             NaN                     NaN   \n",
       "            2115438                             NaN                     NaN   \n",
       "            2115438                             NaN                     NaN   \n",
       "            2115439                             NaN                     NaN   \n",
       "            2115439                             NaN                     NaN   \n",
       "            2115439                             NaN                     NaN   \n",
       "            2115440                             NaN                     NaN   \n",
       "            2115440                             NaN                     NaN   \n",
       "            2115440                             NaN                     NaN   \n",
       "            2115441                             NaN                     NaN   \n",
       "            2115441                             NaN                     NaN   \n",
       "            2115441                             NaN                     NaN   \n",
       "\n",
       "                            explanation_of_na  \n",
       "nct_id      result_group_id                    \n",
       "NCT01781806 2384509                            \n",
       "            2384510                            \n",
       "            2384511                            \n",
       "NCT02844998 2115438                            \n",
       "            2115438                            \n",
       "            2115438                            \n",
       "            2115439                            \n",
       "            2115439                            \n",
       "            2115439                            \n",
       "            2115440                            \n",
       "            2115440                            \n",
       "            2115440                            \n",
       "            2115441                            \n",
       "            2115441                            \n",
       "            2115441                            "
      ]
     },
     "execution_count": 28,
     "metadata": {},
     "output_type": "execute_result"
    }
   ],
   "source": [
    "cur_to_investigate = used_dfc.groupby('category').size().sort_values(ascending=False)[3:].index\n",
    "used_dfc[used_dfc['category'].isin(cur_to_investigate)]"
   ]
  },
  {
   "cell_type": "markdown",
   "metadata": {},
   "source": [
    "### looks like this is only 2 studies, one is on transgender and the other is male only so we can exclude from our balance analysis"
   ]
  },
  {
   "cell_type": "code",
   "execution_count": 29,
   "metadata": {},
   "outputs": [
    {
     "data": {
      "text/plain": [
       "array(['Male', 'Female', 'male', 'female', 'MALE', 'FEMALE'], dtype=object)"
      ]
     },
     "execution_count": 29,
     "metadata": {},
     "output_type": "execute_result"
    }
   ],
   "source": [
    "used_dfcat['category'].unique()"
   ]
  },
  {
   "cell_type": "code",
   "execution_count": 30,
   "metadata": {},
   "outputs": [
    {
     "data": {
      "text/plain": [
       "classification\n",
       "                           214980\n",
       "Part 2                         60\n",
       "Sex                            58\n",
       "Gender                         50\n",
       "Part A                         34\n",
       "                            ...  \n",
       "Full analysis set (FAS)         2\n",
       "GIST                            2\n",
       "BiRD Phase                      2\n",
       "Baseline Period Sex             2\n",
       "Neuro-typical                   2\n",
       "Length: 147, dtype: int64"
      ]
     },
     "execution_count": 30,
     "metadata": {},
     "output_type": "execute_result"
    }
   ],
   "source": [
    "used_dfcat.groupby('classification').size().sort_values(ascending=False)"
   ]
  },
  {
   "cell_type": "code",
   "execution_count": 31,
   "metadata": {},
   "outputs": [
    {
     "data": {
      "text/plain": [
       "classification\n",
       "                           0.994790\n",
       "Part 2                     0.000278\n",
       "Sex                        0.000268\n",
       "Gender                     0.000231\n",
       "Part A                     0.000157\n",
       "                             ...   \n",
       "Full analysis set (FAS)    0.000009\n",
       "GIST                       0.000009\n",
       "BiRD Phase                 0.000009\n",
       "Baseline Period Sex        0.000009\n",
       "Neuro-typical              0.000009\n",
       "Length: 147, dtype: float64"
      ]
     },
     "execution_count": 31,
     "metadata": {},
     "output_type": "execute_result"
    }
   ],
   "source": [
    "used_dfcat.groupby('classification').size().sort_values(ascending=False) / used_dfcat.shape[0]"
   ]
  },
  {
   "cell_type": "markdown",
   "metadata": {},
   "source": [
    "##### This one looks like there is more crosses, but most of it still has '' - for simplicity let's just take the null studies"
   ]
  },
  {
   "cell_type": "code",
   "execution_count": 32,
   "metadata": {},
   "outputs": [
    {
     "data": {
      "text/plain": [
       "(3849, 16)"
      ]
     },
     "execution_count": 32,
     "metadata": {},
     "output_type": "execute_result"
    }
   ],
   "source": [
    "used_dfc_final = used_dfc[used_dfc['category'] == '']\n",
    "used_dfc_final.shape"
   ]
  },
  {
   "cell_type": "code",
   "execution_count": 33,
   "metadata": {},
   "outputs": [
    {
     "data": {
      "text/plain": [
       "(214980, 16)"
      ]
     },
     "execution_count": 33,
     "metadata": {},
     "output_type": "execute_result"
    }
   ],
   "source": [
    "used_dfcat_final = used_dfcat[used_dfcat['classification'] == '']\n",
    "used_dfcat_final.shape"
   ]
  },
  {
   "cell_type": "markdown",
   "metadata": {},
   "source": [
    "### what about the overlap between the two sets?"
   ]
  },
  {
   "cell_type": "code",
   "execution_count": 34,
   "metadata": {},
   "outputs": [],
   "source": [
    "i1 = used_dfc_final.index.get_level_values(0).unique()\n",
    "i2 = used_dfcat_final.index.get_level_values(0).unique()"
   ]
  },
  {
   "cell_type": "code",
   "execution_count": 35,
   "metadata": {},
   "outputs": [
    {
     "data": {
      "text/plain": [
       "(680, 37373, 38296)"
      ]
     },
     "execution_count": 35,
     "metadata": {},
     "output_type": "execute_result"
    }
   ],
   "source": [
    "len(i1), len(i2), bm_all"
   ]
  },
  {
   "cell_type": "code",
   "execution_count": 36,
   "metadata": {},
   "outputs": [
    {
     "data": {
      "text/plain": [
       "42"
      ]
     },
     "execution_count": 36,
     "metadata": {},
     "output_type": "execute_result"
    }
   ],
   "source": [
    "len_overlap = len([x for x in i1 if x in i2])\n",
    "len_overlap"
   ]
  },
  {
   "cell_type": "code",
   "execution_count": 37,
   "metadata": {},
   "outputs": [
    {
     "data": {
      "text/plain": [
       "['NCT00095303', 'NCT00247611', 'NCT00284089', 'NCT00287469', 'NCT00340834']"
      ]
     },
     "execution_count": 37,
     "metadata": {},
     "output_type": "execute_result"
    }
   ],
   "source": [
    "overlap_nctids = [x for x in i1 if x in i2]\n",
    "overlap_nctids[:5]"
   ]
  },
  {
   "cell_type": "markdown",
   "metadata": {},
   "source": [
    "Looks like 44 studies can be identified both ways"
   ]
  },
  {
   "cell_type": "code",
   "execution_count": 38,
   "metadata": {},
   "outputs": [
    {
     "data": {
      "text/plain": [
       "0.9925579695007312"
      ]
     },
     "execution_count": 38,
     "metadata": {},
     "output_type": "execute_result"
    }
   ],
   "source": [
    "(len(i1) + len(i2) - len_overlap) / bm_all"
   ]
  },
  {
   "cell_type": "markdown",
   "metadata": {},
   "source": [
    "##### we can cover 99.3% of our studies with baseline measurements just using these 2 ways of identifying gender - this is good enough"
   ]
  },
  {
   "cell_type": "code",
   "execution_count": 39,
   "metadata": {},
   "outputs": [
    {
     "data": {
      "text/plain": [
       "('NCT00002525', 'NCT00000125')"
      ]
     },
     "execution_count": 39,
     "metadata": {},
     "output_type": "execute_result"
    }
   ],
   "source": [
    "used_dfc_final.index[2][0], used_dfcat_final.index[0][0]"
   ]
  },
  {
   "cell_type": "code",
   "execution_count": 40,
   "metadata": {},
   "outputs": [
    {
     "data": {
      "text/html": [
       "<div>\n",
       "<style scoped>\n",
       "    .dataframe tbody tr th:only-of-type {\n",
       "        vertical-align: middle;\n",
       "    }\n",
       "\n",
       "    .dataframe tbody tr th {\n",
       "        vertical-align: top;\n",
       "    }\n",
       "\n",
       "    .dataframe thead th {\n",
       "        text-align: right;\n",
       "    }\n",
       "</style>\n",
       "<table border=\"1\" class=\"dataframe\">\n",
       "  <thead>\n",
       "    <tr style=\"text-align: right;\">\n",
       "      <th></th>\n",
       "      <th>id</th>\n",
       "      <th>ctgov_group_code</th>\n",
       "      <th>classification</th>\n",
       "      <th>category</th>\n",
       "      <th>title</th>\n",
       "      <th>description</th>\n",
       "      <th>units</th>\n",
       "      <th>param_type</th>\n",
       "      <th>param_value</th>\n",
       "      <th>param_value_num</th>\n",
       "      <th>dispersion_type</th>\n",
       "      <th>dispersion_value</th>\n",
       "      <th>dispersion_value_num</th>\n",
       "      <th>dispersion_lower_limit</th>\n",
       "      <th>dispersion_upper_limit</th>\n",
       "      <th>explanation_of_na</th>\n",
       "    </tr>\n",
       "    <tr>\n",
       "      <th>result_group_id</th>\n",
       "      <th></th>\n",
       "      <th></th>\n",
       "      <th></th>\n",
       "      <th></th>\n",
       "      <th></th>\n",
       "      <th></th>\n",
       "      <th></th>\n",
       "      <th></th>\n",
       "      <th></th>\n",
       "      <th></th>\n",
       "      <th></th>\n",
       "      <th></th>\n",
       "      <th></th>\n",
       "      <th></th>\n",
       "      <th></th>\n",
       "      <th></th>\n",
       "    </tr>\n",
       "  </thead>\n",
       "  <tbody>\n",
       "    <tr>\n",
       "      <td>3077994</td>\n",
       "      <td>3350816</td>\n",
       "      <td>B3</td>\n",
       "      <td>Male</td>\n",
       "      <td></td>\n",
       "      <td>Gender</td>\n",
       "      <td>1 patient on \"No perioperative 5-FU arm\" had m...</td>\n",
       "      <td>participants</td>\n",
       "      <td>Number</td>\n",
       "      <td>195</td>\n",
       "      <td>195.0</td>\n",
       "      <td></td>\n",
       "      <td>None</td>\n",
       "      <td>NaN</td>\n",
       "      <td>NaN</td>\n",
       "      <td>NaN</td>\n",
       "      <td></td>\n",
       "    </tr>\n",
       "    <tr>\n",
       "      <td>3077994</td>\n",
       "      <td>3350819</td>\n",
       "      <td>B3</td>\n",
       "      <td>Female</td>\n",
       "      <td></td>\n",
       "      <td>Gender</td>\n",
       "      <td>1 patient on \"No perioperative 5-FU arm\" had m...</td>\n",
       "      <td>participants</td>\n",
       "      <td>Number</td>\n",
       "      <td>118</td>\n",
       "      <td>118.0</td>\n",
       "      <td></td>\n",
       "      <td>None</td>\n",
       "      <td>NaN</td>\n",
       "      <td>NaN</td>\n",
       "      <td>NaN</td>\n",
       "      <td></td>\n",
       "    </tr>\n",
       "    <tr>\n",
       "      <td>3077995</td>\n",
       "      <td>3350817</td>\n",
       "      <td>B2</td>\n",
       "      <td>Male</td>\n",
       "      <td></td>\n",
       "      <td>Gender</td>\n",
       "      <td>1 patient on \"No perioperative 5-FU arm\" had m...</td>\n",
       "      <td>participants</td>\n",
       "      <td>Number</td>\n",
       "      <td>96</td>\n",
       "      <td>96.0</td>\n",
       "      <td></td>\n",
       "      <td>None</td>\n",
       "      <td>NaN</td>\n",
       "      <td>NaN</td>\n",
       "      <td>NaN</td>\n",
       "      <td></td>\n",
       "    </tr>\n",
       "    <tr>\n",
       "      <td>3077995</td>\n",
       "      <td>3350820</td>\n",
       "      <td>B2</td>\n",
       "      <td>Female</td>\n",
       "      <td></td>\n",
       "      <td>Gender</td>\n",
       "      <td>1 patient on \"No perioperative 5-FU arm\" had m...</td>\n",
       "      <td>participants</td>\n",
       "      <td>Number</td>\n",
       "      <td>61</td>\n",
       "      <td>61.0</td>\n",
       "      <td></td>\n",
       "      <td>None</td>\n",
       "      <td>NaN</td>\n",
       "      <td>NaN</td>\n",
       "      <td>NaN</td>\n",
       "      <td></td>\n",
       "    </tr>\n",
       "    <tr>\n",
       "      <td>3077996</td>\n",
       "      <td>3350818</td>\n",
       "      <td>B1</td>\n",
       "      <td>Male</td>\n",
       "      <td></td>\n",
       "      <td>Gender</td>\n",
       "      <td>1 patient on \"No perioperative 5-FU arm\" had m...</td>\n",
       "      <td>participants</td>\n",
       "      <td>Number</td>\n",
       "      <td>99</td>\n",
       "      <td>99.0</td>\n",
       "      <td></td>\n",
       "      <td>None</td>\n",
       "      <td>NaN</td>\n",
       "      <td>NaN</td>\n",
       "      <td>NaN</td>\n",
       "      <td></td>\n",
       "    </tr>\n",
       "    <tr>\n",
       "      <td>3077996</td>\n",
       "      <td>3350821</td>\n",
       "      <td>B1</td>\n",
       "      <td>Female</td>\n",
       "      <td></td>\n",
       "      <td>Gender</td>\n",
       "      <td>1 patient on \"No perioperative 5-FU arm\" had m...</td>\n",
       "      <td>participants</td>\n",
       "      <td>Number</td>\n",
       "      <td>57</td>\n",
       "      <td>57.0</td>\n",
       "      <td></td>\n",
       "      <td>None</td>\n",
       "      <td>NaN</td>\n",
       "      <td>NaN</td>\n",
       "      <td>NaN</td>\n",
       "      <td></td>\n",
       "    </tr>\n",
       "  </tbody>\n",
       "</table>\n",
       "</div>"
      ],
      "text/plain": [
       "                      id ctgov_group_code classification category   title  \\\n",
       "result_group_id                                                             \n",
       "3077994          3350816               B3           Male           Gender   \n",
       "3077994          3350819               B3         Female           Gender   \n",
       "3077995          3350817               B2           Male           Gender   \n",
       "3077995          3350820               B2         Female           Gender   \n",
       "3077996          3350818               B1           Male           Gender   \n",
       "3077996          3350821               B1         Female           Gender   \n",
       "\n",
       "                                                       description  \\\n",
       "result_group_id                                                      \n",
       "3077994          1 patient on \"No perioperative 5-FU arm\" had m...   \n",
       "3077994          1 patient on \"No perioperative 5-FU arm\" had m...   \n",
       "3077995          1 patient on \"No perioperative 5-FU arm\" had m...   \n",
       "3077995          1 patient on \"No perioperative 5-FU arm\" had m...   \n",
       "3077996          1 patient on \"No perioperative 5-FU arm\" had m...   \n",
       "3077996          1 patient on \"No perioperative 5-FU arm\" had m...   \n",
       "\n",
       "                        units param_type param_value  param_value_num  \\\n",
       "result_group_id                                                         \n",
       "3077994          participants     Number         195            195.0   \n",
       "3077994          participants     Number         118            118.0   \n",
       "3077995          participants     Number          96             96.0   \n",
       "3077995          participants     Number          61             61.0   \n",
       "3077996          participants     Number          99             99.0   \n",
       "3077996          participants     Number          57             57.0   \n",
       "\n",
       "                dispersion_type dispersion_value  dispersion_value_num  \\\n",
       "result_group_id                                                          \n",
       "3077994                                     None                   NaN   \n",
       "3077994                                     None                   NaN   \n",
       "3077995                                     None                   NaN   \n",
       "3077995                                     None                   NaN   \n",
       "3077996                                     None                   NaN   \n",
       "3077996                                     None                   NaN   \n",
       "\n",
       "                 dispersion_lower_limit  dispersion_upper_limit  \\\n",
       "result_group_id                                                   \n",
       "3077994                             NaN                     NaN   \n",
       "3077994                             NaN                     NaN   \n",
       "3077995                             NaN                     NaN   \n",
       "3077995                             NaN                     NaN   \n",
       "3077996                             NaN                     NaN   \n",
       "3077996                             NaN                     NaN   \n",
       "\n",
       "                explanation_of_na  \n",
       "result_group_id                    \n",
       "3077994                            \n",
       "3077994                            \n",
       "3077995                            \n",
       "3077995                            \n",
       "3077996                            \n",
       "3077996                            "
      ]
     },
     "execution_count": 40,
     "metadata": {},
     "output_type": "execute_result"
    }
   ],
   "source": [
    "used_dfc_final.loc['NCT00002525']"
   ]
  },
  {
   "cell_type": "code",
   "execution_count": 41,
   "metadata": {},
   "outputs": [
    {
     "data": {
      "text/html": [
       "<div>\n",
       "<style scoped>\n",
       "    .dataframe tbody tr th:only-of-type {\n",
       "        vertical-align: middle;\n",
       "    }\n",
       "\n",
       "    .dataframe tbody tr th {\n",
       "        vertical-align: top;\n",
       "    }\n",
       "\n",
       "    .dataframe thead th {\n",
       "        text-align: right;\n",
       "    }\n",
       "</style>\n",
       "<table border=\"1\" class=\"dataframe\">\n",
       "  <thead>\n",
       "    <tr style=\"text-align: right;\">\n",
       "      <th></th>\n",
       "      <th>id</th>\n",
       "      <th>ctgov_group_code</th>\n",
       "      <th>result_type</th>\n",
       "      <th>title</th>\n",
       "      <th>description</th>\n",
       "    </tr>\n",
       "    <tr>\n",
       "      <th>nct_id</th>\n",
       "      <th></th>\n",
       "      <th></th>\n",
       "      <th></th>\n",
       "      <th></th>\n",
       "      <th></th>\n",
       "    </tr>\n",
       "  </thead>\n",
       "  <tbody>\n",
       "    <tr>\n",
       "      <td>NCT00002525</td>\n",
       "      <td>3077994</td>\n",
       "      <td>B3</td>\n",
       "      <td>Baseline</td>\n",
       "      <td>Total</td>\n",
       "      <td>Total of all reporting groups</td>\n",
       "    </tr>\n",
       "    <tr>\n",
       "      <td>NCT00002525</td>\n",
       "      <td>3077995</td>\n",
       "      <td>B2</td>\n",
       "      <td>Baseline</td>\n",
       "      <td>No Perioperative 5-FU</td>\n",
       "      <td>Patients receive no perioperative fluorouracil...</td>\n",
       "    </tr>\n",
       "    <tr>\n",
       "      <td>NCT00002525</td>\n",
       "      <td>3077996</td>\n",
       "      <td>B1</td>\n",
       "      <td>Baseline</td>\n",
       "      <td>Perioperative 5-FU</td>\n",
       "      <td>Within 24 hours of the colon resection, patien...</td>\n",
       "    </tr>\n",
       "    <tr>\n",
       "      <td>NCT00002525</td>\n",
       "      <td>3077997</td>\n",
       "      <td>P2</td>\n",
       "      <td>Participant Flow</td>\n",
       "      <td>No Perioperative 5-FU</td>\n",
       "      <td>Patients receive no perioperative fluorouracil...</td>\n",
       "    </tr>\n",
       "    <tr>\n",
       "      <td>NCT00002525</td>\n",
       "      <td>3077998</td>\n",
       "      <td>P1</td>\n",
       "      <td>Participant Flow</td>\n",
       "      <td>Perioperative 5-FU</td>\n",
       "      <td>Within 24 hours of the colon resection, patien...</td>\n",
       "    </tr>\n",
       "    <tr>\n",
       "      <td>NCT00002525</td>\n",
       "      <td>3077999</td>\n",
       "      <td>O2</td>\n",
       "      <td>Outcome</td>\n",
       "      <td>No Perioperative 5-FU</td>\n",
       "      <td>Patients receive no perioperative fluorouracil...</td>\n",
       "    </tr>\n",
       "    <tr>\n",
       "      <td>NCT00002525</td>\n",
       "      <td>3078000</td>\n",
       "      <td>O1</td>\n",
       "      <td>Outcome</td>\n",
       "      <td>Perioperative 5-FU</td>\n",
       "      <td>Within 24 hours of the colon resection, patien...</td>\n",
       "    </tr>\n",
       "    <tr>\n",
       "      <td>NCT00002525</td>\n",
       "      <td>3078001</td>\n",
       "      <td>O2</td>\n",
       "      <td>Outcome</td>\n",
       "      <td>No Perioperative 5-FU</td>\n",
       "      <td>Patients receive no perioperative fluorouracil...</td>\n",
       "    </tr>\n",
       "    <tr>\n",
       "      <td>NCT00002525</td>\n",
       "      <td>3078002</td>\n",
       "      <td>O1</td>\n",
       "      <td>Outcome</td>\n",
       "      <td>Perioperative 5-FU</td>\n",
       "      <td>Within 24 hours of the colon resection, patien...</td>\n",
       "    </tr>\n",
       "    <tr>\n",
       "      <td>NCT00002525</td>\n",
       "      <td>3078003</td>\n",
       "      <td>O2</td>\n",
       "      <td>Outcome</td>\n",
       "      <td>No Perioperative 5-FU</td>\n",
       "      <td>Patients receive no perioperative fluorouracil...</td>\n",
       "    </tr>\n",
       "    <tr>\n",
       "      <td>NCT00002525</td>\n",
       "      <td>3078004</td>\n",
       "      <td>O1</td>\n",
       "      <td>Outcome</td>\n",
       "      <td>Perioperative 5-FU</td>\n",
       "      <td>Within 24 hours of the colon resection, patien...</td>\n",
       "    </tr>\n",
       "    <tr>\n",
       "      <td>NCT00002525</td>\n",
       "      <td>3078005</td>\n",
       "      <td>O2</td>\n",
       "      <td>Outcome</td>\n",
       "      <td>No Perioperative 5-FU</td>\n",
       "      <td>Patients receive no perioperative fluorouracil...</td>\n",
       "    </tr>\n",
       "    <tr>\n",
       "      <td>NCT00002525</td>\n",
       "      <td>3078006</td>\n",
       "      <td>O1</td>\n",
       "      <td>Outcome</td>\n",
       "      <td>Perioperative 5-FU</td>\n",
       "      <td>Within 24 hours of the colon resection, patien...</td>\n",
       "    </tr>\n",
       "    <tr>\n",
       "      <td>NCT00002525</td>\n",
       "      <td>3078007</td>\n",
       "      <td>E4</td>\n",
       "      <td>Reported Event</td>\n",
       "      <td>Adjuvant Chemotherapy-- 5-FU+Leucovovin</td>\n",
       "      <td>After surgery, patients with stage IIC or III ...</td>\n",
       "    </tr>\n",
       "    <tr>\n",
       "      <td>NCT00002525</td>\n",
       "      <td>3078008</td>\n",
       "      <td>E3</td>\n",
       "      <td>Reported Event</td>\n",
       "      <td>Adjuvant Chemotherapy-- 5-FU+Levamisolem</td>\n",
       "      <td>Beginning 21-35 days after surgery, patients w...</td>\n",
       "    </tr>\n",
       "    <tr>\n",
       "      <td>NCT00002525</td>\n",
       "      <td>3078009</td>\n",
       "      <td>E2</td>\n",
       "      <td>Reported Event</td>\n",
       "      <td>Arm II (No Perioperative 5-FU)</td>\n",
       "      <td>Patients receive no perioperative fluorouracil...</td>\n",
       "    </tr>\n",
       "    <tr>\n",
       "      <td>NCT00002525</td>\n",
       "      <td>3078010</td>\n",
       "      <td>E1</td>\n",
       "      <td>Reported Event</td>\n",
       "      <td>Arm I (Perioperative 5-FU)</td>\n",
       "      <td>Within 24 hours of the colon resection, patien...</td>\n",
       "    </tr>\n",
       "  </tbody>\n",
       "</table>\n",
       "</div>"
      ],
      "text/plain": [
       "                  id ctgov_group_code       result_type  \\\n",
       "nct_id                                                    \n",
       "NCT00002525  3077994               B3          Baseline   \n",
       "NCT00002525  3077995               B2          Baseline   \n",
       "NCT00002525  3077996               B1          Baseline   \n",
       "NCT00002525  3077997               P2  Participant Flow   \n",
       "NCT00002525  3077998               P1  Participant Flow   \n",
       "NCT00002525  3077999               O2           Outcome   \n",
       "NCT00002525  3078000               O1           Outcome   \n",
       "NCT00002525  3078001               O2           Outcome   \n",
       "NCT00002525  3078002               O1           Outcome   \n",
       "NCT00002525  3078003               O2           Outcome   \n",
       "NCT00002525  3078004               O1           Outcome   \n",
       "NCT00002525  3078005               O2           Outcome   \n",
       "NCT00002525  3078006               O1           Outcome   \n",
       "NCT00002525  3078007               E4    Reported Event   \n",
       "NCT00002525  3078008               E3    Reported Event   \n",
       "NCT00002525  3078009               E2    Reported Event   \n",
       "NCT00002525  3078010               E1    Reported Event   \n",
       "\n",
       "                                                title  \\\n",
       "nct_id                                                  \n",
       "NCT00002525                                     Total   \n",
       "NCT00002525                     No Perioperative 5-FU   \n",
       "NCT00002525                        Perioperative 5-FU   \n",
       "NCT00002525                     No Perioperative 5-FU   \n",
       "NCT00002525                        Perioperative 5-FU   \n",
       "NCT00002525                     No Perioperative 5-FU   \n",
       "NCT00002525                        Perioperative 5-FU   \n",
       "NCT00002525                     No Perioperative 5-FU   \n",
       "NCT00002525                        Perioperative 5-FU   \n",
       "NCT00002525                     No Perioperative 5-FU   \n",
       "NCT00002525                        Perioperative 5-FU   \n",
       "NCT00002525                     No Perioperative 5-FU   \n",
       "NCT00002525                        Perioperative 5-FU   \n",
       "NCT00002525   Adjuvant Chemotherapy-- 5-FU+Leucovovin   \n",
       "NCT00002525  Adjuvant Chemotherapy-- 5-FU+Levamisolem   \n",
       "NCT00002525            Arm II (No Perioperative 5-FU)   \n",
       "NCT00002525                Arm I (Perioperative 5-FU)   \n",
       "\n",
       "                                                   description  \n",
       "nct_id                                                          \n",
       "NCT00002525                      Total of all reporting groups  \n",
       "NCT00002525  Patients receive no perioperative fluorouracil...  \n",
       "NCT00002525  Within 24 hours of the colon resection, patien...  \n",
       "NCT00002525  Patients receive no perioperative fluorouracil...  \n",
       "NCT00002525  Within 24 hours of the colon resection, patien...  \n",
       "NCT00002525  Patients receive no perioperative fluorouracil...  \n",
       "NCT00002525  Within 24 hours of the colon resection, patien...  \n",
       "NCT00002525  Patients receive no perioperative fluorouracil...  \n",
       "NCT00002525  Within 24 hours of the colon resection, patien...  \n",
       "NCT00002525  Patients receive no perioperative fluorouracil...  \n",
       "NCT00002525  Within 24 hours of the colon resection, patien...  \n",
       "NCT00002525  Patients receive no perioperative fluorouracil...  \n",
       "NCT00002525  Within 24 hours of the colon resection, patien...  \n",
       "NCT00002525  After surgery, patients with stage IIC or III ...  \n",
       "NCT00002525  Beginning 21-35 days after surgery, patients w...  \n",
       "NCT00002525  Patients receive no perioperative fluorouracil...  \n",
       "NCT00002525  Within 24 hours of the colon resection, patien...  "
      ]
     },
     "execution_count": 41,
     "metadata": {},
     "output_type": "execute_result"
    }
   ],
   "source": [
    "rg.loc['NCT00002525']"
   ]
  },
  {
   "cell_type": "markdown",
   "metadata": {},
   "source": [
    "### let's build the gender information df using these 2 methods"
   ]
  },
  {
   "cell_type": "code",
   "execution_count": 42,
   "metadata": {},
   "outputs": [
    {
     "data": {
      "text/plain": [
       "(218829, 16)"
      ]
     },
     "execution_count": 42,
     "metadata": {},
     "output_type": "execute_result"
    }
   ],
   "source": [
    "used_df_both = pd.concat([used_dfc_final, used_dfcat_final])\n",
    "used_df_both.shape"
   ]
  },
  {
   "cell_type": "code",
   "execution_count": 43,
   "metadata": {},
   "outputs": [
    {
     "data": {
      "text/plain": [
       "array(['Male', 'Female', 'male', 'Males', 'Females', 'female', 'FEMALE',\n",
       "       'MALE', 'females', 'males', ''], dtype=object)"
      ]
     },
     "execution_count": 43,
     "metadata": {},
     "output_type": "execute_result"
    }
   ],
   "source": [
    "used_df_both['classification'].unique()"
   ]
  },
  {
   "cell_type": "code",
   "execution_count": 44,
   "metadata": {},
   "outputs": [
    {
     "data": {
      "text/plain": [
       "['female', 'male', 'females', 'males']"
      ]
     },
     "execution_count": 44,
     "metadata": {},
     "output_type": "execute_result"
    }
   ],
   "source": [
    "used_classes"
   ]
  },
  {
   "cell_type": "code",
   "execution_count": 45,
   "metadata": {},
   "outputs": [
    {
     "data": {
      "text/plain": [
       "array(['', 'Male', 'Female', 'male', 'female', 'MALE', 'FEMALE'],\n",
       "      dtype=object)"
      ]
     },
     "execution_count": 45,
     "metadata": {},
     "output_type": "execute_result"
    }
   ],
   "source": [
    "used_df_both['category'].unique()"
   ]
  },
  {
   "cell_type": "code",
   "execution_count": 46,
   "metadata": {},
   "outputs": [
    {
     "data": {
      "text/plain": [
       "['male', 'female']"
      ]
     },
     "execution_count": 46,
     "metadata": {},
     "output_type": "execute_result"
    }
   ],
   "source": [
    "used_cats"
   ]
  },
  {
   "cell_type": "code",
   "execution_count": 47,
   "metadata": {},
   "outputs": [],
   "source": [
    "def is_male(row):\n",
    "    cur_class = row['classification']\n",
    "    cur_cat = row['category']\n",
    "    if 'female' in cur_class.lower() or 'female' in cur_cat.lower():\n",
    "        return False\n",
    "    return True"
   ]
  },
  {
   "cell_type": "code",
   "execution_count": 48,
   "metadata": {},
   "outputs": [],
   "source": [
    "used_df_both['is_male'] = used_df_both.apply(is_male, axis=1)"
   ]
  },
  {
   "cell_type": "code",
   "execution_count": 49,
   "metadata": {},
   "outputs": [
    {
     "data": {
      "text/html": [
       "<div>\n",
       "<style scoped>\n",
       "    .dataframe tbody tr th:only-of-type {\n",
       "        vertical-align: middle;\n",
       "    }\n",
       "\n",
       "    .dataframe tbody tr th {\n",
       "        vertical-align: top;\n",
       "    }\n",
       "\n",
       "    .dataframe thead th {\n",
       "        text-align: right;\n",
       "    }\n",
       "</style>\n",
       "<table border=\"1\" class=\"dataframe\">\n",
       "  <thead>\n",
       "    <tr style=\"text-align: right;\">\n",
       "      <th></th>\n",
       "      <th></th>\n",
       "      <th>id</th>\n",
       "      <th>ctgov_group_code</th>\n",
       "      <th>classification</th>\n",
       "      <th>category</th>\n",
       "      <th>title</th>\n",
       "      <th>description</th>\n",
       "      <th>units</th>\n",
       "      <th>param_type</th>\n",
       "      <th>param_value</th>\n",
       "      <th>param_value_num</th>\n",
       "      <th>dispersion_type</th>\n",
       "      <th>dispersion_value</th>\n",
       "      <th>dispersion_value_num</th>\n",
       "      <th>dispersion_lower_limit</th>\n",
       "      <th>dispersion_upper_limit</th>\n",
       "      <th>explanation_of_na</th>\n",
       "      <th>is_male</th>\n",
       "    </tr>\n",
       "    <tr>\n",
       "      <th>nct_id</th>\n",
       "      <th>result_group_id</th>\n",
       "      <th></th>\n",
       "      <th></th>\n",
       "      <th></th>\n",
       "      <th></th>\n",
       "      <th></th>\n",
       "      <th></th>\n",
       "      <th></th>\n",
       "      <th></th>\n",
       "      <th></th>\n",
       "      <th></th>\n",
       "      <th></th>\n",
       "      <th></th>\n",
       "      <th></th>\n",
       "      <th></th>\n",
       "      <th></th>\n",
       "      <th></th>\n",
       "      <th></th>\n",
       "    </tr>\n",
       "  </thead>\n",
       "  <tbody>\n",
       "    <tr>\n",
       "      <td rowspan=\"2\" valign=\"top\">NCT00001213</td>\n",
       "      <td>3090179</td>\n",
       "      <td>3367810</td>\n",
       "      <td>B1</td>\n",
       "      <td>Male</td>\n",
       "      <td></td>\n",
       "      <td>Gender</td>\n",
       "      <td>Gender was captured for 326 out of 328 partici...</td>\n",
       "      <td>participants</td>\n",
       "      <td>Number</td>\n",
       "      <td>173</td>\n",
       "      <td>173.0</td>\n",
       "      <td></td>\n",
       "      <td>None</td>\n",
       "      <td>NaN</td>\n",
       "      <td>NaN</td>\n",
       "      <td>NaN</td>\n",
       "      <td></td>\n",
       "      <td>True</td>\n",
       "    </tr>\n",
       "    <tr>\n",
       "      <td>3090179</td>\n",
       "      <td>3367811</td>\n",
       "      <td>B1</td>\n",
       "      <td>Female</td>\n",
       "      <td></td>\n",
       "      <td>Gender</td>\n",
       "      <td>Gender was captured for 326 out of 328 partici...</td>\n",
       "      <td>participants</td>\n",
       "      <td>Number</td>\n",
       "      <td>153</td>\n",
       "      <td>153.0</td>\n",
       "      <td></td>\n",
       "      <td>None</td>\n",
       "      <td>NaN</td>\n",
       "      <td>NaN</td>\n",
       "      <td>NaN</td>\n",
       "      <td></td>\n",
       "      <td>False</td>\n",
       "    </tr>\n",
       "    <tr>\n",
       "      <td rowspan=\"3\" valign=\"top\">NCT00002525</td>\n",
       "      <td>3077994</td>\n",
       "      <td>3350816</td>\n",
       "      <td>B3</td>\n",
       "      <td>Male</td>\n",
       "      <td></td>\n",
       "      <td>Gender</td>\n",
       "      <td>1 patient on \"No perioperative 5-FU arm\" had m...</td>\n",
       "      <td>participants</td>\n",
       "      <td>Number</td>\n",
       "      <td>195</td>\n",
       "      <td>195.0</td>\n",
       "      <td></td>\n",
       "      <td>None</td>\n",
       "      <td>NaN</td>\n",
       "      <td>NaN</td>\n",
       "      <td>NaN</td>\n",
       "      <td></td>\n",
       "      <td>True</td>\n",
       "    </tr>\n",
       "    <tr>\n",
       "      <td>3077994</td>\n",
       "      <td>3350819</td>\n",
       "      <td>B3</td>\n",
       "      <td>Female</td>\n",
       "      <td></td>\n",
       "      <td>Gender</td>\n",
       "      <td>1 patient on \"No perioperative 5-FU arm\" had m...</td>\n",
       "      <td>participants</td>\n",
       "      <td>Number</td>\n",
       "      <td>118</td>\n",
       "      <td>118.0</td>\n",
       "      <td></td>\n",
       "      <td>None</td>\n",
       "      <td>NaN</td>\n",
       "      <td>NaN</td>\n",
       "      <td>NaN</td>\n",
       "      <td></td>\n",
       "      <td>False</td>\n",
       "    </tr>\n",
       "    <tr>\n",
       "      <td>3077995</td>\n",
       "      <td>3350817</td>\n",
       "      <td>B2</td>\n",
       "      <td>Male</td>\n",
       "      <td></td>\n",
       "      <td>Gender</td>\n",
       "      <td>1 patient on \"No perioperative 5-FU arm\" had m...</td>\n",
       "      <td>participants</td>\n",
       "      <td>Number</td>\n",
       "      <td>96</td>\n",
       "      <td>96.0</td>\n",
       "      <td></td>\n",
       "      <td>None</td>\n",
       "      <td>NaN</td>\n",
       "      <td>NaN</td>\n",
       "      <td>NaN</td>\n",
       "      <td></td>\n",
       "      <td>True</td>\n",
       "    </tr>\n",
       "  </tbody>\n",
       "</table>\n",
       "</div>"
      ],
      "text/plain": [
       "                                  id ctgov_group_code classification category  \\\n",
       "nct_id      result_group_id                                                     \n",
       "NCT00001213 3090179          3367810               B1           Male            \n",
       "            3090179          3367811               B1         Female            \n",
       "NCT00002525 3077994          3350816               B3           Male            \n",
       "            3077994          3350819               B3         Female            \n",
       "            3077995          3350817               B2           Male            \n",
       "\n",
       "                              title  \\\n",
       "nct_id      result_group_id           \n",
       "NCT00001213 3090179          Gender   \n",
       "            3090179          Gender   \n",
       "NCT00002525 3077994          Gender   \n",
       "            3077994          Gender   \n",
       "            3077995          Gender   \n",
       "\n",
       "                                                                   description  \\\n",
       "nct_id      result_group_id                                                      \n",
       "NCT00001213 3090179          Gender was captured for 326 out of 328 partici...   \n",
       "            3090179          Gender was captured for 326 out of 328 partici...   \n",
       "NCT00002525 3077994          1 patient on \"No perioperative 5-FU arm\" had m...   \n",
       "            3077994          1 patient on \"No perioperative 5-FU arm\" had m...   \n",
       "            3077995          1 patient on \"No perioperative 5-FU arm\" had m...   \n",
       "\n",
       "                                    units param_type param_value  \\\n",
       "nct_id      result_group_id                                        \n",
       "NCT00001213 3090179          participants     Number         173   \n",
       "            3090179          participants     Number         153   \n",
       "NCT00002525 3077994          participants     Number         195   \n",
       "            3077994          participants     Number         118   \n",
       "            3077995          participants     Number          96   \n",
       "\n",
       "                             param_value_num dispersion_type dispersion_value  \\\n",
       "nct_id      result_group_id                                                     \n",
       "NCT00001213 3090179                    173.0                             None   \n",
       "            3090179                    153.0                             None   \n",
       "NCT00002525 3077994                    195.0                             None   \n",
       "            3077994                    118.0                             None   \n",
       "            3077995                     96.0                             None   \n",
       "\n",
       "                             dispersion_value_num  dispersion_lower_limit  \\\n",
       "nct_id      result_group_id                                                 \n",
       "NCT00001213 3090179                           NaN                     NaN   \n",
       "            3090179                           NaN                     NaN   \n",
       "NCT00002525 3077994                           NaN                     NaN   \n",
       "            3077994                           NaN                     NaN   \n",
       "            3077995                           NaN                     NaN   \n",
       "\n",
       "                             dispersion_upper_limit explanation_of_na  is_male  \n",
       "nct_id      result_group_id                                                     \n",
       "NCT00001213 3090179                             NaN                       True  \n",
       "            3090179                             NaN                      False  \n",
       "NCT00002525 3077994                             NaN                       True  \n",
       "            3077994                             NaN                      False  \n",
       "            3077995                             NaN                       True  "
      ]
     },
     "execution_count": 49,
     "metadata": {},
     "output_type": "execute_result"
    }
   ],
   "source": [
    "used_df_both.head()"
   ]
  },
  {
   "cell_type": "markdown",
   "metadata": {},
   "source": [
    "### Q1: what is the distribution of studies by gender eligibility?"
   ]
  },
  {
   "cell_type": "code",
   "execution_count": 50,
   "metadata": {},
   "outputs": [
    {
     "data": {
      "text/plain": [
       "((257905,), (257905,))"
      ]
     },
     "execution_count": 50,
     "metadata": {},
     "output_type": "execute_result"
    }
   ],
   "source": [
    "# is the index on eligibility unique?\n",
    "el.index.shape, el.index.unique().shape\n",
    "\n",
    "# Yes"
   ]
  },
  {
   "cell_type": "code",
   "execution_count": 51,
   "metadata": {},
   "outputs": [
    {
     "data": {
      "text/plain": [
       "gender\n",
       "          0.000050\n",
       "All       0.850689\n",
       "Female    0.097679\n",
       "Male      0.051581\n",
       "dtype: float64"
      ]
     },
     "execution_count": 51,
     "metadata": {},
     "output_type": "execute_result"
    }
   ],
   "source": [
    "el.groupby('gender').size()/el.shape[0]"
   ]
  },
  {
   "cell_type": "markdown",
   "metadata": {},
   "source": [
    "### Q2: if the eligibility is only by gender, do the studies accurately recruit that gender?"
   ]
  },
  {
   "cell_type": "code",
   "execution_count": 52,
   "metadata": {},
   "outputs": [
    {
     "data": {
      "text/plain": [
       "(25192, 10)"
      ]
     },
     "execution_count": 52,
     "metadata": {},
     "output_type": "execute_result"
    }
   ],
   "source": [
    "el_female = el[el['gender'] == 'Female']\n",
    "el_female.shape"
   ]
  },
  {
   "cell_type": "code",
   "execution_count": 53,
   "metadata": {},
   "outputs": [
    {
     "data": {
      "text/html": [
       "<div>\n",
       "<style scoped>\n",
       "    .dataframe tbody tr th:only-of-type {\n",
       "        vertical-align: middle;\n",
       "    }\n",
       "\n",
       "    .dataframe tbody tr th {\n",
       "        vertical-align: top;\n",
       "    }\n",
       "\n",
       "    .dataframe thead th {\n",
       "        text-align: right;\n",
       "    }\n",
       "</style>\n",
       "<table border=\"1\" class=\"dataframe\">\n",
       "  <thead>\n",
       "    <tr style=\"text-align: right;\">\n",
       "      <th></th>\n",
       "      <th></th>\n",
       "      <th>id</th>\n",
       "      <th>ctgov_group_code</th>\n",
       "      <th>classification</th>\n",
       "      <th>category</th>\n",
       "      <th>title</th>\n",
       "      <th>description</th>\n",
       "      <th>units</th>\n",
       "      <th>param_type</th>\n",
       "      <th>param_value</th>\n",
       "      <th>param_value_num</th>\n",
       "      <th>dispersion_type</th>\n",
       "      <th>dispersion_value</th>\n",
       "      <th>dispersion_value_num</th>\n",
       "      <th>dispersion_lower_limit</th>\n",
       "      <th>dispersion_upper_limit</th>\n",
       "      <th>explanation_of_na</th>\n",
       "      <th>is_male</th>\n",
       "    </tr>\n",
       "    <tr>\n",
       "      <th>nct_id</th>\n",
       "      <th>result_group_id</th>\n",
       "      <th></th>\n",
       "      <th></th>\n",
       "      <th></th>\n",
       "      <th></th>\n",
       "      <th></th>\n",
       "      <th></th>\n",
       "      <th></th>\n",
       "      <th></th>\n",
       "      <th></th>\n",
       "      <th></th>\n",
       "      <th></th>\n",
       "      <th></th>\n",
       "      <th></th>\n",
       "      <th></th>\n",
       "      <th></th>\n",
       "      <th></th>\n",
       "      <th></th>\n",
       "    </tr>\n",
       "  </thead>\n",
       "  <tbody>\n",
       "    <tr>\n",
       "      <td rowspan=\"3\" valign=\"top\">NCT00004888</td>\n",
       "      <td>3085562</td>\n",
       "      <td>3362332</td>\n",
       "      <td>B3</td>\n",
       "      <td>Female</td>\n",
       "      <td></td>\n",
       "      <td>Sex/Gender, Customized</td>\n",
       "      <td>All participants are female.</td>\n",
       "      <td>participants</td>\n",
       "      <td>Number</td>\n",
       "      <td>84</td>\n",
       "      <td>84.0</td>\n",
       "      <td></td>\n",
       "      <td>None</td>\n",
       "      <td>NaN</td>\n",
       "      <td>NaN</td>\n",
       "      <td>NaN</td>\n",
       "      <td></td>\n",
       "      <td>False</td>\n",
       "    </tr>\n",
       "    <tr>\n",
       "      <td>3085563</td>\n",
       "      <td>3362333</td>\n",
       "      <td>B2</td>\n",
       "      <td>Female</td>\n",
       "      <td></td>\n",
       "      <td>Sex/Gender, Customized</td>\n",
       "      <td>All participants are female.</td>\n",
       "      <td>participants</td>\n",
       "      <td>Number</td>\n",
       "      <td>46</td>\n",
       "      <td>46.0</td>\n",
       "      <td></td>\n",
       "      <td>None</td>\n",
       "      <td>NaN</td>\n",
       "      <td>NaN</td>\n",
       "      <td>NaN</td>\n",
       "      <td></td>\n",
       "      <td>False</td>\n",
       "    </tr>\n",
       "    <tr>\n",
       "      <td>3085564</td>\n",
       "      <td>3362334</td>\n",
       "      <td>B1</td>\n",
       "      <td>Female</td>\n",
       "      <td></td>\n",
       "      <td>Sex/Gender, Customized</td>\n",
       "      <td>All participants are female.</td>\n",
       "      <td>participants</td>\n",
       "      <td>Number</td>\n",
       "      <td>38</td>\n",
       "      <td>38.0</td>\n",
       "      <td></td>\n",
       "      <td>None</td>\n",
       "      <td>NaN</td>\n",
       "      <td>NaN</td>\n",
       "      <td>NaN</td>\n",
       "      <td></td>\n",
       "      <td>False</td>\n",
       "    </tr>\n",
       "    <tr>\n",
       "      <td rowspan=\"2\" valign=\"top\">NCT00062751</td>\n",
       "      <td>3082311</td>\n",
       "      <td>3357259</td>\n",
       "      <td>B6</td>\n",
       "      <td>Female</td>\n",
       "      <td></td>\n",
       "      <td>Sex/Gender, Customized</td>\n",
       "      <td></td>\n",
       "      <td>participants</td>\n",
       "      <td>Number</td>\n",
       "      <td>108</td>\n",
       "      <td>108.0</td>\n",
       "      <td></td>\n",
       "      <td>None</td>\n",
       "      <td>NaN</td>\n",
       "      <td>NaN</td>\n",
       "      <td>NaN</td>\n",
       "      <td></td>\n",
       "      <td>False</td>\n",
       "    </tr>\n",
       "    <tr>\n",
       "      <td>3082312</td>\n",
       "      <td>3357260</td>\n",
       "      <td>B5</td>\n",
       "      <td>Female</td>\n",
       "      <td></td>\n",
       "      <td>Sex/Gender, Customized</td>\n",
       "      <td></td>\n",
       "      <td>participants</td>\n",
       "      <td>Number</td>\n",
       "      <td>6</td>\n",
       "      <td>6.0</td>\n",
       "      <td></td>\n",
       "      <td>None</td>\n",
       "      <td>NaN</td>\n",
       "      <td>NaN</td>\n",
       "      <td>NaN</td>\n",
       "      <td></td>\n",
       "      <td>False</td>\n",
       "    </tr>\n",
       "  </tbody>\n",
       "</table>\n",
       "</div>"
      ],
      "text/plain": [
       "                                  id ctgov_group_code classification category  \\\n",
       "nct_id      result_group_id                                                     \n",
       "NCT00004888 3085562          3362332               B3         Female            \n",
       "            3085563          3362333               B2         Female            \n",
       "            3085564          3362334               B1         Female            \n",
       "NCT00062751 3082311          3357259               B6         Female            \n",
       "            3082312          3357260               B5         Female            \n",
       "\n",
       "                                              title  \\\n",
       "nct_id      result_group_id                           \n",
       "NCT00004888 3085562          Sex/Gender, Customized   \n",
       "            3085563          Sex/Gender, Customized   \n",
       "            3085564          Sex/Gender, Customized   \n",
       "NCT00062751 3082311          Sex/Gender, Customized   \n",
       "            3082312          Sex/Gender, Customized   \n",
       "\n",
       "                                              description         units  \\\n",
       "nct_id      result_group_id                                               \n",
       "NCT00004888 3085562          All participants are female.  participants   \n",
       "            3085563          All participants are female.  participants   \n",
       "            3085564          All participants are female.  participants   \n",
       "NCT00062751 3082311                                        participants   \n",
       "            3082312                                        participants   \n",
       "\n",
       "                            param_type param_value  param_value_num  \\\n",
       "nct_id      result_group_id                                           \n",
       "NCT00004888 3085562             Number          84             84.0   \n",
       "            3085563             Number          46             46.0   \n",
       "            3085564             Number          38             38.0   \n",
       "NCT00062751 3082311             Number         108            108.0   \n",
       "            3082312             Number           6              6.0   \n",
       "\n",
       "                            dispersion_type dispersion_value  \\\n",
       "nct_id      result_group_id                                    \n",
       "NCT00004888 3085562                                     None   \n",
       "            3085563                                     None   \n",
       "            3085564                                     None   \n",
       "NCT00062751 3082311                                     None   \n",
       "            3082312                                     None   \n",
       "\n",
       "                             dispersion_value_num  dispersion_lower_limit  \\\n",
       "nct_id      result_group_id                                                 \n",
       "NCT00004888 3085562                           NaN                     NaN   \n",
       "            3085563                           NaN                     NaN   \n",
       "            3085564                           NaN                     NaN   \n",
       "NCT00062751 3082311                           NaN                     NaN   \n",
       "            3082312                           NaN                     NaN   \n",
       "\n",
       "                             dispersion_upper_limit explanation_of_na  is_male  \n",
       "nct_id      result_group_id                                                     \n",
       "NCT00004888 3085562                             NaN                      False  \n",
       "            3085563                             NaN                      False  \n",
       "            3085564                             NaN                      False  \n",
       "NCT00062751 3082311                             NaN                      False  \n",
       "            3082312                             NaN                      False  "
      ]
     },
     "execution_count": 53,
     "metadata": {},
     "output_type": "execute_result"
    }
   ],
   "source": [
    "df_female = el_female[[]].join(used_df_both)\n",
    "df_female.head()"
   ]
  },
  {
   "cell_type": "code",
   "execution_count": 54,
   "metadata": {},
   "outputs": [],
   "source": [
    "df_male_in_f_study = df_female[df_female['is_male']]"
   ]
  },
  {
   "cell_type": "code",
   "execution_count": 55,
   "metadata": {
    "scrolled": true
   },
   "outputs": [],
   "source": [
    "df_non_zero = df_male_in_f_study[(df_male_in_f_study['param_value'] != '0') & \n",
    "                                 (df_male_in_f_study['param_value'] != '0.0') &\n",
    "                                 (df_male_in_f_study['param_value'] != 'NA')]"
   ]
  },
  {
   "cell_type": "code",
   "execution_count": 56,
   "metadata": {},
   "outputs": [
    {
     "data": {
      "text/plain": [
       "Index(['NCT03628885', 'NCT00080301', 'NCT00275301', 'NCT00291577',\n",
       "       'NCT00394524', 'NCT00412841', 'NCT00421889', 'NCT00719862',\n",
       "       'NCT00743119', 'NCT00810108', 'NCT00846027', 'NCT00874094',\n",
       "       'NCT00878995', 'NCT00920621', 'NCT01032135', 'NCT01121250',\n",
       "       'NCT01147744', 'NCT01156792', 'NCT01181323', 'NCT01193920',\n",
       "       'NCT01211340', 'NCT01251744', 'NCT01269346', 'NCT01412801',\n",
       "       'NCT01443130', 'NCT01446289', 'NCT01615367', 'NCT01722266',\n",
       "       'NCT01737710', 'NCT01801475', 'NCT01919216', 'NCT02078713',\n",
       "       'NCT02175628', 'NCT02244424', 'NCT02263118', 'NCT02415166',\n",
       "       'NCT02487771', 'NCT02721147', 'NCT03098615'],\n",
       "      dtype='object', name='nct_id')"
      ]
     },
     "execution_count": 56,
     "metadata": {},
     "output_type": "execute_result"
    }
   ],
   "source": [
    "df_non_zero.index.get_level_values(0).unique()"
   ]
  },
  {
   "cell_type": "markdown",
   "metadata": {},
   "source": [
    "- Looks like some of the results included the genders of childern of those studied: NCT03628885\n",
    "- sometimes despite a female study such as breast cancer, we get a odd male participant: NCT00080301\n",
    "- sometimes the implementation is different from design, resulting in many males: NCT00275301\n",
    "\n",
    "Take away: we should limit it to studies that intended to study both genders at the start, which represents 85% of our study pop"
   ]
  },
  {
   "cell_type": "code",
   "execution_count": 57,
   "metadata": {},
   "outputs": [],
   "source": [
    "df_all_gender_idx = el[el['gender'] == 'All'][[]]"
   ]
  },
  {
   "cell_type": "code",
   "execution_count": 201,
   "metadata": {},
   "outputs": [
    {
     "data": {
      "text/html": [
       "<div>\n",
       "<style scoped>\n",
       "    .dataframe tbody tr th:only-of-type {\n",
       "        vertical-align: middle;\n",
       "    }\n",
       "\n",
       "    .dataframe tbody tr th {\n",
       "        vertical-align: top;\n",
       "    }\n",
       "\n",
       "    .dataframe thead th {\n",
       "        text-align: right;\n",
       "    }\n",
       "</style>\n",
       "<table border=\"1\" class=\"dataframe\">\n",
       "  <thead>\n",
       "    <tr style=\"text-align: right;\">\n",
       "      <th></th>\n",
       "    </tr>\n",
       "    <tr>\n",
       "      <th>nct_id</th>\n",
       "    </tr>\n",
       "  </thead>\n",
       "  <tbody>\n",
       "    <tr>\n",
       "      <td>NCT00000102</td>\n",
       "    </tr>\n",
       "    <tr>\n",
       "      <td>NCT00000106</td>\n",
       "    </tr>\n",
       "    <tr>\n",
       "      <td>NCT00000110</td>\n",
       "    </tr>\n",
       "    <tr>\n",
       "      <td>NCT00000111</td>\n",
       "    </tr>\n",
       "    <tr>\n",
       "      <td>NCT00000113</td>\n",
       "    </tr>\n",
       "    <tr>\n",
       "      <td>...</td>\n",
       "    </tr>\n",
       "    <tr>\n",
       "      <td>NCT04230889</td>\n",
       "    </tr>\n",
       "    <tr>\n",
       "      <td>NCT04230902</td>\n",
       "    </tr>\n",
       "    <tr>\n",
       "      <td>NCT04230915</td>\n",
       "    </tr>\n",
       "    <tr>\n",
       "      <td>NCT04230928</td>\n",
       "    </tr>\n",
       "    <tr>\n",
       "      <td>NCT04230941</td>\n",
       "    </tr>\n",
       "  </tbody>\n",
       "</table>\n",
       "<p>219397 rows × 0 columns</p>\n",
       "</div>"
      ],
      "text/plain": [
       "Empty DataFrame\n",
       "Columns: []\n",
       "Index: [NCT00000102, NCT00000106, NCT00000110, NCT00000111, NCT00000113, NCT00000114, NCT00000115, NCT00000116, NCT00000117, NCT00000118, NCT00000119, NCT00000120, NCT00000121, NCT00000122, NCT00000123, NCT00000124, NCT00000125, NCT00000127, NCT00000128, NCT00000129, NCT00000130, NCT00000131, NCT00000132, NCT00000133, NCT00000134, NCT00000135, NCT00000136, NCT00000137, NCT00000138, NCT00000139, NCT00000140, NCT00000142, NCT00000143, NCT00000144, NCT00000145, NCT00000146, NCT00000147, NCT00000148, NCT00000149, NCT00000150, NCT00000151, NCT00000153, NCT00000154, NCT00000156, NCT00000158, NCT00000159, NCT00000160, NCT00000162, NCT00000167, NCT00000170, NCT00000171, NCT00000172, NCT00000173, NCT00000174, NCT00000175, NCT00000178, NCT00000179, NCT00000180, NCT00000188, NCT00000191, NCT00000192, NCT00000195, NCT00000196, NCT00000197, NCT00000199, NCT00000200, NCT00000202, NCT00000203, NCT00000204, NCT00000205, NCT00000206, NCT00000207, NCT00000208, NCT00000209, NCT00000212, NCT00000213, NCT00000214, NCT00000215, NCT00000216, NCT00000217, NCT00000220, NCT00000221, NCT00000222, NCT00000223, NCT00000224, NCT00000225, NCT00000226, NCT00000227, NCT00000228, NCT00000229, NCT00000230, NCT00000231, NCT00000232, NCT00000233, NCT00000234, NCT00000235, NCT00000236, NCT00000237, NCT00000238, NCT00000239, ...]\n",
       "\n",
       "[219397 rows x 0 columns]"
      ]
     },
     "execution_count": 201,
     "metadata": {},
     "output_type": "execute_result"
    }
   ],
   "source": [
    "df_all_gender_idx"
   ]
  },
  {
   "cell_type": "markdown",
   "metadata": {},
   "source": [
    "### rebuilding the joint gender dataframe"
   ]
  },
  {
   "cell_type": "code",
   "execution_count": 58,
   "metadata": {},
   "outputs": [
    {
     "data": {
      "text/plain": [
       "(3849, 3092)"
      ]
     },
     "execution_count": 58,
     "metadata": {},
     "output_type": "execute_result"
    }
   ],
   "source": [
    "used_dfc_final2 = used_dfc_final.join(df_all_gender_idx, how='inner')\n",
    "used_dfc_final.shape[0], used_dfc_final2.shape[0]"
   ]
  },
  {
   "cell_type": "code",
   "execution_count": 59,
   "metadata": {},
   "outputs": [
    {
     "data": {
      "text/plain": [
       "(214980, 188856)"
      ]
     },
     "execution_count": 59,
     "metadata": {},
     "output_type": "execute_result"
    }
   ],
   "source": [
    "used_dfcat_final2 = used_dfcat_final.join(df_all_gender_idx, how='inner')\n",
    "used_dfcat_final.shape[0], used_dfcat_final2.shape[0]"
   ]
  },
  {
   "cell_type": "code",
   "execution_count": 60,
   "metadata": {},
   "outputs": [
    {
     "data": {
      "text/plain": [
       "(191948, 16)"
      ]
     },
     "execution_count": 60,
     "metadata": {},
     "output_type": "execute_result"
    }
   ],
   "source": [
    "used_df_both = pd.concat([used_dfc_final2, used_dfcat_final2])\n",
    "used_df_both.shape"
   ]
  },
  {
   "cell_type": "code",
   "execution_count": 61,
   "metadata": {},
   "outputs": [],
   "source": [
    "used_df_both['is_male'] = used_df_both.apply(is_male, axis=1)"
   ]
  },
  {
   "cell_type": "markdown",
   "metadata": {},
   "source": [
    "### removing odd param_types"
   ]
  },
  {
   "cell_type": "code",
   "execution_count": 62,
   "metadata": {},
   "outputs": [
    {
     "data": {
      "text/plain": [
       "param_type\n",
       "                             31\n",
       "Count of Participants    189080\n",
       "Count of Units              123\n",
       "Mean                         74\n",
       "Median                        6\n",
       "Number                     2634\n",
       "dtype: int64"
      ]
     },
     "execution_count": 62,
     "metadata": {},
     "output_type": "execute_result"
    }
   ],
   "source": [
    "used_df_both.groupby('param_type').size()"
   ]
  },
  {
   "cell_type": "code",
   "execution_count": 63,
   "metadata": {},
   "outputs": [],
   "source": [
    "used_df_both = used_df_both[used_df_both['param_type'].isin(['Count of Participants','Number'])]"
   ]
  },
  {
   "cell_type": "code",
   "execution_count": 64,
   "metadata": {},
   "outputs": [
    {
     "data": {
      "text/plain": [
       "(33164, 0.8659912262377272)"
      ]
     },
     "execution_count": 64,
     "metadata": {},
     "output_type": "execute_result"
    }
   ],
   "source": [
    "num_remain = used_df_both.index.get_level_values(0).unique().shape[0]\n",
    "num_remain, num_remain / bm_all"
   ]
  },
  {
   "cell_type": "markdown",
   "metadata": {},
   "source": [
    "##### we still have 33k and 87% of our studies that we started with in baseline measurements"
   ]
  },
  {
   "cell_type": "markdown",
   "metadata": {},
   "source": [
    "### Joining to result groups to get the group labels"
   ]
  },
  {
   "cell_type": "code",
   "execution_count": 65,
   "metadata": {},
   "outputs": [],
   "source": [
    "dfm = used_df_both.reset_index().merge(rg.reset_index()[['nct_id', 'ctgov_group_code', 'title']], \n",
    "                                       on=['nct_id', 'ctgov_group_code'], \n",
    "                                       how='inner', \n",
    "                                       suffixes=('', '_rg'))"
   ]
  },
  {
   "cell_type": "code",
   "execution_count": 66,
   "metadata": {
    "scrolled": true
   },
   "outputs": [
    {
     "data": {
      "text/plain": [
       "Index(['Total', 'Placebo', 'Control', 'Control Group', 'All Participants',\n",
       "       'All Study Participants', 'Usual Care', 'Entire Study Population',\n",
       "       'Overall Study', 'Treatment', 'Intervention', 'Placebo Group',\n",
       "       'Group 1', 'Standard of Care', 'Overall', 'Arm 1', 'Vehicle', 'Group 2',\n",
       "       'Sugar Pill', 'All Subjects', 'Arm 2', 'Cohort 1', 'Cohort 2', 'Arm I',\n",
       "       'Total Title', 'Group B', 'All Patients', 'Standard Care', 'Group A',\n",
       "       'Control Arm', 'Sitagliptin', 'Pregabalin', 'Varenicline',\n",
       "       'Intervention Group', 'Experimental', 'Normal Saline', 'Duloxetine',\n",
       "       'Cohort 3', 'Etanercept', 'Saline', 'Metformin', 'Treatment Arm',\n",
       "       'Sham', 'Arm A', 'Arm B', 'Erlotinib', 'Active', 'Treatment Group',\n",
       "       'Rituximab', 'Pioglitazone'],\n",
       "      dtype='object', name='title_rg')"
      ]
     },
     "execution_count": 66,
     "metadata": {},
     "output_type": "execute_result"
    }
   ],
   "source": [
    "dfm.groupby('title_rg').size().sort_values(ascending=False)[:50].index"
   ]
  },
  {
   "cell_type": "code",
   "execution_count": 67,
   "metadata": {},
   "outputs": [],
   "source": [
    "total_strings = ['Total', \n",
    "                 'All Participants', \n",
    "                 'All Study Participants', \n",
    "                 'Entire Study Population',\n",
    "                 'Overall Study',\n",
    "                 'Overall', \n",
    "                 'Total Title']"
   ]
  },
  {
   "cell_type": "markdown",
   "metadata": {},
   "source": [
    "- exclude the 'percent' unit types\n",
    "- just exclude the total group up front\n",
    "- remove studies where the number of people < x\n",
    "- then remove studies where there is only 1 non-zero group"
   ]
  },
  {
   "cell_type": "code",
   "execution_count": 68,
   "metadata": {},
   "outputs": [
    {
     "data": {
      "text/plain": [
       "(191714, 20)"
      ]
     },
     "execution_count": 68,
     "metadata": {},
     "output_type": "execute_result"
    }
   ],
   "source": [
    "dfm.shape"
   ]
  },
  {
   "cell_type": "markdown",
   "metadata": {},
   "source": [
    "### Excluding total groups"
   ]
  },
  {
   "cell_type": "code",
   "execution_count": 69,
   "metadata": {},
   "outputs": [
    {
     "data": {
      "text/plain": [
       "(143802, 20)"
      ]
     },
     "execution_count": 69,
     "metadata": {},
     "output_type": "execute_result"
    }
   ],
   "source": [
    "dfm_nontot = dfm[~dfm['title_rg'].isin(total_strings)]\n",
    "dfm_nontot.shape"
   ]
  },
  {
   "cell_type": "markdown",
   "metadata": {},
   "source": [
    "### excluding percent unit types"
   ]
  },
  {
   "cell_type": "code",
   "execution_count": 128,
   "metadata": {},
   "outputs": [
    {
     "data": {
      "text/html": [
       "<div>\n",
       "<style scoped>\n",
       "    .dataframe tbody tr th:only-of-type {\n",
       "        vertical-align: middle;\n",
       "    }\n",
       "\n",
       "    .dataframe tbody tr th {\n",
       "        vertical-align: top;\n",
       "    }\n",
       "\n",
       "    .dataframe thead th {\n",
       "        text-align: right;\n",
       "    }\n",
       "</style>\n",
       "<table border=\"1\" class=\"dataframe\">\n",
       "  <thead>\n",
       "    <tr style=\"text-align: right;\">\n",
       "      <th></th>\n",
       "      <th>nct_id</th>\n",
       "      <th>result_group_id</th>\n",
       "      <th>id</th>\n",
       "      <th>ctgov_group_code</th>\n",
       "      <th>classification</th>\n",
       "      <th>category</th>\n",
       "      <th>title</th>\n",
       "      <th>description</th>\n",
       "      <th>units</th>\n",
       "      <th>param_type</th>\n",
       "      <th>param_value</th>\n",
       "      <th>param_value_num</th>\n",
       "      <th>dispersion_type</th>\n",
       "      <th>dispersion_value</th>\n",
       "      <th>dispersion_value_num</th>\n",
       "      <th>dispersion_lower_limit</th>\n",
       "      <th>dispersion_upper_limit</th>\n",
       "      <th>explanation_of_na</th>\n",
       "      <th>is_male</th>\n",
       "      <th>title_rg</th>\n",
       "    </tr>\n",
       "  </thead>\n",
       "  <tbody>\n",
       "    <tr>\n",
       "      <td>0</td>\n",
       "      <td>NCT00001213</td>\n",
       "      <td>3090179</td>\n",
       "      <td>3367810</td>\n",
       "      <td>B1</td>\n",
       "      <td>Male</td>\n",
       "      <td></td>\n",
       "      <td>Gender</td>\n",
       "      <td>Gender was captured for 326 out of 328 partici...</td>\n",
       "      <td>participants</td>\n",
       "      <td>Number</td>\n",
       "      <td>173</td>\n",
       "      <td>173.0</td>\n",
       "      <td></td>\n",
       "      <td>None</td>\n",
       "      <td>NaN</td>\n",
       "      <td>NaN</td>\n",
       "      <td>NaN</td>\n",
       "      <td></td>\n",
       "      <td>True</td>\n",
       "      <td>Cysteamine Topical Solution</td>\n",
       "    </tr>\n",
       "    <tr>\n",
       "      <td>1</td>\n",
       "      <td>NCT00001213</td>\n",
       "      <td>3090179</td>\n",
       "      <td>3367811</td>\n",
       "      <td>B1</td>\n",
       "      <td>Female</td>\n",
       "      <td></td>\n",
       "      <td>Gender</td>\n",
       "      <td>Gender was captured for 326 out of 328 partici...</td>\n",
       "      <td>participants</td>\n",
       "      <td>Number</td>\n",
       "      <td>153</td>\n",
       "      <td>153.0</td>\n",
       "      <td></td>\n",
       "      <td>None</td>\n",
       "      <td>NaN</td>\n",
       "      <td>NaN</td>\n",
       "      <td>NaN</td>\n",
       "      <td></td>\n",
       "      <td>False</td>\n",
       "      <td>Cysteamine Topical Solution</td>\n",
       "    </tr>\n",
       "    <tr>\n",
       "      <td>4</td>\n",
       "      <td>NCT00002525</td>\n",
       "      <td>3077995</td>\n",
       "      <td>3350817</td>\n",
       "      <td>B2</td>\n",
       "      <td>Male</td>\n",
       "      <td></td>\n",
       "      <td>Gender</td>\n",
       "      <td>1 patient on \"No perioperative 5-FU arm\" had m...</td>\n",
       "      <td>participants</td>\n",
       "      <td>Number</td>\n",
       "      <td>96</td>\n",
       "      <td>96.0</td>\n",
       "      <td></td>\n",
       "      <td>None</td>\n",
       "      <td>NaN</td>\n",
       "      <td>NaN</td>\n",
       "      <td>NaN</td>\n",
       "      <td></td>\n",
       "      <td>True</td>\n",
       "      <td>No Perioperative 5-FU</td>\n",
       "    </tr>\n",
       "    <tr>\n",
       "      <td>5</td>\n",
       "      <td>NCT00002525</td>\n",
       "      <td>3077995</td>\n",
       "      <td>3350820</td>\n",
       "      <td>B2</td>\n",
       "      <td>Female</td>\n",
       "      <td></td>\n",
       "      <td>Gender</td>\n",
       "      <td>1 patient on \"No perioperative 5-FU arm\" had m...</td>\n",
       "      <td>participants</td>\n",
       "      <td>Number</td>\n",
       "      <td>61</td>\n",
       "      <td>61.0</td>\n",
       "      <td></td>\n",
       "      <td>None</td>\n",
       "      <td>NaN</td>\n",
       "      <td>NaN</td>\n",
       "      <td>NaN</td>\n",
       "      <td></td>\n",
       "      <td>False</td>\n",
       "      <td>No Perioperative 5-FU</td>\n",
       "    </tr>\n",
       "    <tr>\n",
       "      <td>6</td>\n",
       "      <td>NCT00002525</td>\n",
       "      <td>3077996</td>\n",
       "      <td>3350818</td>\n",
       "      <td>B1</td>\n",
       "      <td>Male</td>\n",
       "      <td></td>\n",
       "      <td>Gender</td>\n",
       "      <td>1 patient on \"No perioperative 5-FU arm\" had m...</td>\n",
       "      <td>participants</td>\n",
       "      <td>Number</td>\n",
       "      <td>99</td>\n",
       "      <td>99.0</td>\n",
       "      <td></td>\n",
       "      <td>None</td>\n",
       "      <td>NaN</td>\n",
       "      <td>NaN</td>\n",
       "      <td>NaN</td>\n",
       "      <td></td>\n",
       "      <td>True</td>\n",
       "      <td>Perioperative 5-FU</td>\n",
       "    </tr>\n",
       "    <tr>\n",
       "      <td>...</td>\n",
       "      <td>...</td>\n",
       "      <td>...</td>\n",
       "      <td>...</td>\n",
       "      <td>...</td>\n",
       "      <td>...</td>\n",
       "      <td>...</td>\n",
       "      <td>...</td>\n",
       "      <td>...</td>\n",
       "      <td>...</td>\n",
       "      <td>...</td>\n",
       "      <td>...</td>\n",
       "      <td>...</td>\n",
       "      <td>...</td>\n",
       "      <td>...</td>\n",
       "      <td>...</td>\n",
       "      <td>...</td>\n",
       "      <td>...</td>\n",
       "      <td>...</td>\n",
       "      <td>...</td>\n",
       "      <td>...</td>\n",
       "    </tr>\n",
       "    <tr>\n",
       "      <td>191709</td>\n",
       "      <td>NCT04144088</td>\n",
       "      <td>2058931</td>\n",
       "      <td>2243868</td>\n",
       "      <td>B3</td>\n",
       "      <td></td>\n",
       "      <td>Female</td>\n",
       "      <td>Sex: Female, Male</td>\n",
       "      <td></td>\n",
       "      <td>Participants</td>\n",
       "      <td>Count of Participants</td>\n",
       "      <td>1</td>\n",
       "      <td>1.0</td>\n",
       "      <td></td>\n",
       "      <td>None</td>\n",
       "      <td>NaN</td>\n",
       "      <td>NaN</td>\n",
       "      <td>NaN</td>\n",
       "      <td></td>\n",
       "      <td>False</td>\n",
       "      <td>Placebo</td>\n",
       "    </tr>\n",
       "    <tr>\n",
       "      <td>191710</td>\n",
       "      <td>NCT04144088</td>\n",
       "      <td>2058932</td>\n",
       "      <td>2243865</td>\n",
       "      <td>B2</td>\n",
       "      <td></td>\n",
       "      <td>Male</td>\n",
       "      <td>Sex: Female, Male</td>\n",
       "      <td></td>\n",
       "      <td>Participants</td>\n",
       "      <td>Count of Participants</td>\n",
       "      <td>18</td>\n",
       "      <td>18.0</td>\n",
       "      <td></td>\n",
       "      <td>None</td>\n",
       "      <td>NaN</td>\n",
       "      <td>NaN</td>\n",
       "      <td>NaN</td>\n",
       "      <td></td>\n",
       "      <td>True</td>\n",
       "      <td>Yin-Chen Wu Ling San</td>\n",
       "    </tr>\n",
       "    <tr>\n",
       "      <td>191711</td>\n",
       "      <td>NCT04144088</td>\n",
       "      <td>2058932</td>\n",
       "      <td>2243869</td>\n",
       "      <td>B2</td>\n",
       "      <td></td>\n",
       "      <td>Female</td>\n",
       "      <td>Sex: Female, Male</td>\n",
       "      <td></td>\n",
       "      <td>Participants</td>\n",
       "      <td>Count of Participants</td>\n",
       "      <td>2</td>\n",
       "      <td>2.0</td>\n",
       "      <td></td>\n",
       "      <td>None</td>\n",
       "      <td>NaN</td>\n",
       "      <td>NaN</td>\n",
       "      <td>NaN</td>\n",
       "      <td></td>\n",
       "      <td>False</td>\n",
       "      <td>Yin-Chen Wu Ling San</td>\n",
       "    </tr>\n",
       "    <tr>\n",
       "      <td>191712</td>\n",
       "      <td>NCT04144088</td>\n",
       "      <td>2058933</td>\n",
       "      <td>2243866</td>\n",
       "      <td>B1</td>\n",
       "      <td></td>\n",
       "      <td>Male</td>\n",
       "      <td>Sex: Female, Male</td>\n",
       "      <td></td>\n",
       "      <td>Participants</td>\n",
       "      <td>Count of Participants</td>\n",
       "      <td>18</td>\n",
       "      <td>18.0</td>\n",
       "      <td></td>\n",
       "      <td>None</td>\n",
       "      <td>NaN</td>\n",
       "      <td>NaN</td>\n",
       "      <td>NaN</td>\n",
       "      <td></td>\n",
       "      <td>True</td>\n",
       "      <td>Wu Ling San</td>\n",
       "    </tr>\n",
       "    <tr>\n",
       "      <td>191713</td>\n",
       "      <td>NCT04144088</td>\n",
       "      <td>2058933</td>\n",
       "      <td>2243870</td>\n",
       "      <td>B1</td>\n",
       "      <td></td>\n",
       "      <td>Female</td>\n",
       "      <td>Sex: Female, Male</td>\n",
       "      <td></td>\n",
       "      <td>Participants</td>\n",
       "      <td>Count of Participants</td>\n",
       "      <td>2</td>\n",
       "      <td>2.0</td>\n",
       "      <td></td>\n",
       "      <td>None</td>\n",
       "      <td>NaN</td>\n",
       "      <td>NaN</td>\n",
       "      <td>NaN</td>\n",
       "      <td></td>\n",
       "      <td>False</td>\n",
       "      <td>Wu Ling San</td>\n",
       "    </tr>\n",
       "  </tbody>\n",
       "</table>\n",
       "<p>143802 rows × 20 columns</p>\n",
       "</div>"
      ],
      "text/plain": [
       "             nct_id  result_group_id       id ctgov_group_code classification  \\\n",
       "0       NCT00001213          3090179  3367810               B1           Male   \n",
       "1       NCT00001213          3090179  3367811               B1         Female   \n",
       "4       NCT00002525          3077995  3350817               B2           Male   \n",
       "5       NCT00002525          3077995  3350820               B2         Female   \n",
       "6       NCT00002525          3077996  3350818               B1           Male   \n",
       "...             ...              ...      ...              ...            ...   \n",
       "191709  NCT04144088          2058931  2243868               B3                  \n",
       "191710  NCT04144088          2058932  2243865               B2                  \n",
       "191711  NCT04144088          2058932  2243869               B2                  \n",
       "191712  NCT04144088          2058933  2243866               B1                  \n",
       "191713  NCT04144088          2058933  2243870               B1                  \n",
       "\n",
       "       category              title  \\\n",
       "0                           Gender   \n",
       "1                           Gender   \n",
       "4                           Gender   \n",
       "5                           Gender   \n",
       "6                           Gender   \n",
       "...         ...                ...   \n",
       "191709   Female  Sex: Female, Male   \n",
       "191710     Male  Sex: Female, Male   \n",
       "191711   Female  Sex: Female, Male   \n",
       "191712     Male  Sex: Female, Male   \n",
       "191713   Female  Sex: Female, Male   \n",
       "\n",
       "                                              description         units  \\\n",
       "0       Gender was captured for 326 out of 328 partici...  participants   \n",
       "1       Gender was captured for 326 out of 328 partici...  participants   \n",
       "4       1 patient on \"No perioperative 5-FU arm\" had m...  participants   \n",
       "5       1 patient on \"No perioperative 5-FU arm\" had m...  participants   \n",
       "6       1 patient on \"No perioperative 5-FU arm\" had m...  participants   \n",
       "...                                                   ...           ...   \n",
       "191709                                                     Participants   \n",
       "191710                                                     Participants   \n",
       "191711                                                     Participants   \n",
       "191712                                                     Participants   \n",
       "191713                                                     Participants   \n",
       "\n",
       "                   param_type param_value  param_value_num dispersion_type  \\\n",
       "0                      Number         173            173.0                   \n",
       "1                      Number         153            153.0                   \n",
       "4                      Number          96             96.0                   \n",
       "5                      Number          61             61.0                   \n",
       "6                      Number          99             99.0                   \n",
       "...                       ...         ...              ...             ...   \n",
       "191709  Count of Participants           1              1.0                   \n",
       "191710  Count of Participants          18             18.0                   \n",
       "191711  Count of Participants           2              2.0                   \n",
       "191712  Count of Participants          18             18.0                   \n",
       "191713  Count of Participants           2              2.0                   \n",
       "\n",
       "       dispersion_value  dispersion_value_num  dispersion_lower_limit  \\\n",
       "0                  None                   NaN                     NaN   \n",
       "1                  None                   NaN                     NaN   \n",
       "4                  None                   NaN                     NaN   \n",
       "5                  None                   NaN                     NaN   \n",
       "6                  None                   NaN                     NaN   \n",
       "...                 ...                   ...                     ...   \n",
       "191709             None                   NaN                     NaN   \n",
       "191710             None                   NaN                     NaN   \n",
       "191711             None                   NaN                     NaN   \n",
       "191712             None                   NaN                     NaN   \n",
       "191713             None                   NaN                     NaN   \n",
       "\n",
       "        dispersion_upper_limit explanation_of_na  is_male  \\\n",
       "0                          NaN                       True   \n",
       "1                          NaN                      False   \n",
       "4                          NaN                       True   \n",
       "5                          NaN                      False   \n",
       "6                          NaN                       True   \n",
       "...                        ...               ...      ...   \n",
       "191709                     NaN                      False   \n",
       "191710                     NaN                       True   \n",
       "191711                     NaN                      False   \n",
       "191712                     NaN                       True   \n",
       "191713                     NaN                      False   \n",
       "\n",
       "                           title_rg  \n",
       "0       Cysteamine Topical Solution  \n",
       "1       Cysteamine Topical Solution  \n",
       "4             No Perioperative 5-FU  \n",
       "5             No Perioperative 5-FU  \n",
       "6                Perioperative 5-FU  \n",
       "...                             ...  \n",
       "191709                      Placebo  \n",
       "191710         Yin-Chen Wu Ling San  \n",
       "191711         Yin-Chen Wu Ling San  \n",
       "191712                  Wu Ling San  \n",
       "191713                  Wu Ling San  \n",
       "\n",
       "[143802 rows x 20 columns]"
      ]
     },
     "execution_count": 128,
     "metadata": {},
     "output_type": "execute_result"
    }
   ],
   "source": [
    "dfm_nontot"
   ]
  },
  {
   "cell_type": "code",
   "execution_count": null,
   "metadata": {},
   "outputs": [],
   "source": []
  },
  {
   "cell_type": "code",
   "execution_count": 70,
   "metadata": {},
   "outputs": [
    {
     "data": {
      "text/plain": [
       "(143790, 20)"
      ]
     },
     "execution_count": 70,
     "metadata": {},
     "output_type": "execute_result"
    }
   ],
   "source": [
    "dfm2 = dfm_nontot[dfm_nontot['units'].apply(lambda x: False if 'percent' in x.lower() else True)]\n",
    "dfm2.shape"
   ]
  },
  {
   "cell_type": "markdown",
   "metadata": {},
   "source": [
    "### Total participants:"
   ]
  },
  {
   "cell_type": "code",
   "execution_count": 71,
   "metadata": {},
   "outputs": [
    {
     "data": {
      "text/html": [
       "<div>\n",
       "<style scoped>\n",
       "    .dataframe tbody tr th:only-of-type {\n",
       "        vertical-align: middle;\n",
       "    }\n",
       "\n",
       "    .dataframe tbody tr th {\n",
       "        vertical-align: top;\n",
       "    }\n",
       "\n",
       "    .dataframe thead th {\n",
       "        text-align: right;\n",
       "    }\n",
       "</style>\n",
       "<table border=\"1\" class=\"dataframe\">\n",
       "  <thead>\n",
       "    <tr style=\"text-align: right;\">\n",
       "      <th></th>\n",
       "      <th>param_value_num</th>\n",
       "    </tr>\n",
       "    <tr>\n",
       "      <th>nct_id</th>\n",
       "      <th></th>\n",
       "    </tr>\n",
       "  </thead>\n",
       "  <tbody>\n",
       "    <tr>\n",
       "      <td>NCT00000125</td>\n",
       "      <td>1636.0</td>\n",
       "    </tr>\n",
       "    <tr>\n",
       "      <td>NCT00000134</td>\n",
       "      <td>279.0</td>\n",
       "    </tr>\n",
       "    <tr>\n",
       "      <td>NCT00000135</td>\n",
       "      <td>209.0</td>\n",
       "    </tr>\n",
       "    <tr>\n",
       "      <td>NCT00000136</td>\n",
       "      <td>234.0</td>\n",
       "    </tr>\n",
       "    <tr>\n",
       "      <td>NCT00000142</td>\n",
       "      <td>64.0</td>\n",
       "    </tr>\n",
       "  </tbody>\n",
       "</table>\n",
       "</div>"
      ],
      "text/plain": [
       "             param_value_num\n",
       "nct_id                      \n",
       "NCT00000125           1636.0\n",
       "NCT00000134            279.0\n",
       "NCT00000135            209.0\n",
       "NCT00000136            234.0\n",
       "NCT00000142             64.0"
      ]
     },
     "execution_count": 71,
     "metadata": {},
     "output_type": "execute_result"
    }
   ],
   "source": [
    "dftotals = dfm2.groupby('nct_id')[['param_value_num']].sum()\n",
    "dftotals.head()"
   ]
  },
  {
   "cell_type": "code",
   "execution_count": 72,
   "metadata": {
    "scrolled": true
   },
   "outputs": [
    {
     "name": "stdout",
     "output_type": "stream",
     "text": [
      "10 2954 0.09185037778676036\n",
      "11 3227 0.10033891980970741\n",
      "12 3637 0.11308727962438979\n",
      "13 3885 0.12079848263424645\n",
      "14 4169 0.12962905382295326\n",
      "15 4486 0.1394857125089394\n",
      "16 4824 0.14999533596592146\n",
      "17 5049 0.15699138708373495\n",
      "18 5369 0.16694132645129195\n",
      "19 5611 0.1744659680980069\n",
      "20 6215 0.1932464786542707\n",
      "21 6496 0.20198376916140667\n",
      "22 6758 0.21013028201859396\n",
      "23 6998 0.21759273654426167\n",
      "24 7415 0.23055875128260936\n"
     ]
    }
   ],
   "source": [
    "for i in range(10, 25):\n",
    "    sub_df = dftotals[dftotals['param_value_num'] <= i]\n",
    "    print(i, sub_df.shape[0], sub_df.shape[0]/dftotals.shape[0])"
   ]
  },
  {
   "cell_type": "markdown",
   "metadata": {},
   "source": [
    "##### Decision: exclude any studies with less than 20 people"
   ]
  },
  {
   "cell_type": "code",
   "execution_count": 73,
   "metadata": {},
   "outputs": [
    {
     "data": {
      "text/plain": [
       "(26550, 1)"
      ]
     },
     "execution_count": 73,
     "metadata": {},
     "output_type": "execute_result"
    }
   ],
   "source": [
    "df_totals_used = dftotals[dftotals['param_value_num'] >= 20]\n",
    "df_totals_used.shape"
   ]
  },
  {
   "cell_type": "code",
   "execution_count": 74,
   "metadata": {},
   "outputs": [
    {
     "data": {
      "text/plain": [
       "(127200, 20)"
      ]
     },
     "execution_count": 74,
     "metadata": {},
     "output_type": "execute_result"
    }
   ],
   "source": [
    "# excluding studies with < 30 total participants\n",
    "dfm3 = dfm2[dfm2['nct_id'].isin(df_totals_used.index)]\n",
    "dfm3.shape"
   ]
  },
  {
   "cell_type": "markdown",
   "metadata": {},
   "source": [
    "## what are the studies that do not have atleast 2 non-zero groups?"
   ]
  },
  {
   "cell_type": "code",
   "execution_count": 75,
   "metadata": {},
   "outputs": [
    {
     "data": {
      "text/html": [
       "<div>\n",
       "<style scoped>\n",
       "    .dataframe tbody tr th:only-of-type {\n",
       "        vertical-align: middle;\n",
       "    }\n",
       "\n",
       "    .dataframe tbody tr th {\n",
       "        vertical-align: top;\n",
       "    }\n",
       "\n",
       "    .dataframe thead th {\n",
       "        text-align: right;\n",
       "    }\n",
       "</style>\n",
       "<table border=\"1\" class=\"dataframe\">\n",
       "  <thead>\n",
       "    <tr style=\"text-align: right;\">\n",
       "      <th></th>\n",
       "      <th>nct_id</th>\n",
       "      <th>result_group_id</th>\n",
       "      <th>id</th>\n",
       "      <th>ctgov_group_code</th>\n",
       "      <th>classification</th>\n",
       "      <th>category</th>\n",
       "      <th>title</th>\n",
       "      <th>description</th>\n",
       "      <th>units</th>\n",
       "      <th>param_type</th>\n",
       "      <th>param_value</th>\n",
       "      <th>param_value_num</th>\n",
       "      <th>dispersion_type</th>\n",
       "      <th>dispersion_value</th>\n",
       "      <th>dispersion_value_num</th>\n",
       "      <th>dispersion_lower_limit</th>\n",
       "      <th>dispersion_upper_limit</th>\n",
       "      <th>explanation_of_na</th>\n",
       "      <th>is_male</th>\n",
       "      <th>title_rg</th>\n",
       "    </tr>\n",
       "  </thead>\n",
       "  <tbody>\n",
       "    <tr>\n",
       "      <td>0</td>\n",
       "      <td>NCT00001213</td>\n",
       "      <td>3090179</td>\n",
       "      <td>3367810</td>\n",
       "      <td>B1</td>\n",
       "      <td>Male</td>\n",
       "      <td></td>\n",
       "      <td>Gender</td>\n",
       "      <td>Gender was captured for 326 out of 328 partici...</td>\n",
       "      <td>participants</td>\n",
       "      <td>Number</td>\n",
       "      <td>173</td>\n",
       "      <td>173.0</td>\n",
       "      <td></td>\n",
       "      <td>None</td>\n",
       "      <td>NaN</td>\n",
       "      <td>NaN</td>\n",
       "      <td>NaN</td>\n",
       "      <td></td>\n",
       "      <td>True</td>\n",
       "      <td>Cysteamine Topical Solution</td>\n",
       "    </tr>\n",
       "    <tr>\n",
       "      <td>1</td>\n",
       "      <td>NCT00001213</td>\n",
       "      <td>3090179</td>\n",
       "      <td>3367811</td>\n",
       "      <td>B1</td>\n",
       "      <td>Female</td>\n",
       "      <td></td>\n",
       "      <td>Gender</td>\n",
       "      <td>Gender was captured for 326 out of 328 partici...</td>\n",
       "      <td>participants</td>\n",
       "      <td>Number</td>\n",
       "      <td>153</td>\n",
       "      <td>153.0</td>\n",
       "      <td></td>\n",
       "      <td>None</td>\n",
       "      <td>NaN</td>\n",
       "      <td>NaN</td>\n",
       "      <td>NaN</td>\n",
       "      <td></td>\n",
       "      <td>False</td>\n",
       "      <td>Cysteamine Topical Solution</td>\n",
       "    </tr>\n",
       "    <tr>\n",
       "      <td>4</td>\n",
       "      <td>NCT00002525</td>\n",
       "      <td>3077995</td>\n",
       "      <td>3350817</td>\n",
       "      <td>B2</td>\n",
       "      <td>Male</td>\n",
       "      <td></td>\n",
       "      <td>Gender</td>\n",
       "      <td>1 patient on \"No perioperative 5-FU arm\" had m...</td>\n",
       "      <td>participants</td>\n",
       "      <td>Number</td>\n",
       "      <td>96</td>\n",
       "      <td>96.0</td>\n",
       "      <td></td>\n",
       "      <td>None</td>\n",
       "      <td>NaN</td>\n",
       "      <td>NaN</td>\n",
       "      <td>NaN</td>\n",
       "      <td></td>\n",
       "      <td>True</td>\n",
       "      <td>No Perioperative 5-FU</td>\n",
       "    </tr>\n",
       "    <tr>\n",
       "      <td>5</td>\n",
       "      <td>NCT00002525</td>\n",
       "      <td>3077995</td>\n",
       "      <td>3350820</td>\n",
       "      <td>B2</td>\n",
       "      <td>Female</td>\n",
       "      <td></td>\n",
       "      <td>Gender</td>\n",
       "      <td>1 patient on \"No perioperative 5-FU arm\" had m...</td>\n",
       "      <td>participants</td>\n",
       "      <td>Number</td>\n",
       "      <td>61</td>\n",
       "      <td>61.0</td>\n",
       "      <td></td>\n",
       "      <td>None</td>\n",
       "      <td>NaN</td>\n",
       "      <td>NaN</td>\n",
       "      <td>NaN</td>\n",
       "      <td></td>\n",
       "      <td>False</td>\n",
       "      <td>No Perioperative 5-FU</td>\n",
       "    </tr>\n",
       "    <tr>\n",
       "      <td>6</td>\n",
       "      <td>NCT00002525</td>\n",
       "      <td>3077996</td>\n",
       "      <td>3350818</td>\n",
       "      <td>B1</td>\n",
       "      <td>Male</td>\n",
       "      <td></td>\n",
       "      <td>Gender</td>\n",
       "      <td>1 patient on \"No perioperative 5-FU arm\" had m...</td>\n",
       "      <td>participants</td>\n",
       "      <td>Number</td>\n",
       "      <td>99</td>\n",
       "      <td>99.0</td>\n",
       "      <td></td>\n",
       "      <td>None</td>\n",
       "      <td>NaN</td>\n",
       "      <td>NaN</td>\n",
       "      <td>NaN</td>\n",
       "      <td></td>\n",
       "      <td>True</td>\n",
       "      <td>Perioperative 5-FU</td>\n",
       "    </tr>\n",
       "  </tbody>\n",
       "</table>\n",
       "</div>"
      ],
      "text/plain": [
       "        nct_id  result_group_id       id ctgov_group_code classification  \\\n",
       "0  NCT00001213          3090179  3367810               B1           Male   \n",
       "1  NCT00001213          3090179  3367811               B1         Female   \n",
       "4  NCT00002525          3077995  3350817               B2           Male   \n",
       "5  NCT00002525          3077995  3350820               B2         Female   \n",
       "6  NCT00002525          3077996  3350818               B1           Male   \n",
       "\n",
       "  category   title                                        description  \\\n",
       "0           Gender  Gender was captured for 326 out of 328 partici...   \n",
       "1           Gender  Gender was captured for 326 out of 328 partici...   \n",
       "4           Gender  1 patient on \"No perioperative 5-FU arm\" had m...   \n",
       "5           Gender  1 patient on \"No perioperative 5-FU arm\" had m...   \n",
       "6           Gender  1 patient on \"No perioperative 5-FU arm\" had m...   \n",
       "\n",
       "          units param_type param_value  param_value_num dispersion_type  \\\n",
       "0  participants     Number         173            173.0                   \n",
       "1  participants     Number         153            153.0                   \n",
       "4  participants     Number          96             96.0                   \n",
       "5  participants     Number          61             61.0                   \n",
       "6  participants     Number          99             99.0                   \n",
       "\n",
       "  dispersion_value  dispersion_value_num  dispersion_lower_limit  \\\n",
       "0             None                   NaN                     NaN   \n",
       "1             None                   NaN                     NaN   \n",
       "4             None                   NaN                     NaN   \n",
       "5             None                   NaN                     NaN   \n",
       "6             None                   NaN                     NaN   \n",
       "\n",
       "   dispersion_upper_limit explanation_of_na  is_male  \\\n",
       "0                     NaN                       True   \n",
       "1                     NaN                      False   \n",
       "4                     NaN                       True   \n",
       "5                     NaN                      False   \n",
       "6                     NaN                       True   \n",
       "\n",
       "                      title_rg  \n",
       "0  Cysteamine Topical Solution  \n",
       "1  Cysteamine Topical Solution  \n",
       "4        No Perioperative 5-FU  \n",
       "5        No Perioperative 5-FU  \n",
       "6           Perioperative 5-FU  "
      ]
     },
     "execution_count": 75,
     "metadata": {},
     "output_type": "execute_result"
    }
   ],
   "source": [
    "dfm3.head()"
   ]
  },
  {
   "cell_type": "code",
   "execution_count": 76,
   "metadata": {},
   "outputs": [
    {
     "data": {
      "text/plain": [
       "(123859, 20)"
      ]
     },
     "execution_count": 76,
     "metadata": {},
     "output_type": "execute_result"
    }
   ],
   "source": [
    "df_nonzero = dfm3[dfm3['param_value_num'] > 0]\n",
    "df_nonzero.shape"
   ]
  },
  {
   "cell_type": "code",
   "execution_count": 77,
   "metadata": {},
   "outputs": [
    {
     "data": {
      "text/plain": [
       "(26550,)"
      ]
     },
     "execution_count": 77,
     "metadata": {},
     "output_type": "execute_result"
    }
   ],
   "source": [
    "df_nonzero_groups = df_nonzero.groupby(['nct_id'])['ctgov_group_code'].nunique()\n",
    "df_nonzero_groups.shape"
   ]
  },
  {
   "cell_type": "code",
   "execution_count": 78,
   "metadata": {},
   "outputs": [
    {
     "data": {
      "text/plain": [
       "nct_id\n",
       "NCT00001213    1\n",
       "NCT00001305    1\n",
       "NCT00001566    1\n",
       "NCT00001575    1\n",
       "NCT00001941    1\n",
       "              ..\n",
       "NCT03783780    1\n",
       "NCT03870737    1\n",
       "NCT03905642    1\n",
       "NCT03927950    1\n",
       "NCT04036838    1\n",
       "Name: ctgov_group_code, Length: 5953, dtype: int64"
      ]
     },
     "execution_count": 78,
     "metadata": {},
     "output_type": "execute_result"
    }
   ],
   "source": [
    "df_nonzero_groups[df_nonzero_groups <= 1]"
   ]
  },
  {
   "cell_type": "code",
   "execution_count": 79,
   "metadata": {},
   "outputs": [
    {
     "data": {
      "text/plain": [
       "20597"
      ]
     },
     "execution_count": 79,
     "metadata": {},
     "output_type": "execute_result"
    }
   ],
   "source": [
    "df_nonzero_used = df_nonzero_groups[df_nonzero_groups > 1].index\n",
    "len(df_nonzero_used)"
   ]
  },
  {
   "cell_type": "code",
   "execution_count": 80,
   "metadata": {},
   "outputs": [
    {
     "data": {
      "text/plain": [
       "(115232, 20)"
      ]
     },
     "execution_count": 80,
     "metadata": {},
     "output_type": "execute_result"
    }
   ],
   "source": [
    "dfm4 = dfm3[dfm3['nct_id'].isin(df_nonzero_used)]\n",
    "dfm4.shape"
   ]
  },
  {
   "cell_type": "code",
   "execution_count": 81,
   "metadata": {},
   "outputs": [
    {
     "data": {
      "text/plain": [
       "(0.5378368498015459, 20597)"
      ]
     },
     "execution_count": 81,
     "metadata": {},
     "output_type": "execute_result"
    }
   ],
   "source": [
    "len(dfm4['nct_id'].unique()) / bm_all, len(dfm4['nct_id'].unique()) "
   ]
  },
  {
   "cell_type": "markdown",
   "metadata": {},
   "source": [
    "## we have 54% or 21k of the studies remaining that have:\n",
    "- atleast 2 non-zero non-total groups\n",
    "- not measured in percent\n",
    "- have atleast a total of 20 participants"
   ]
  },
  {
   "cell_type": "code",
   "execution_count": 82,
   "metadata": {},
   "outputs": [],
   "source": [
    "dfm4.to_pickle('balance_curated.p')"
   ]
  },
  {
   "cell_type": "markdown",
   "metadata": {},
   "source": [
    "## Notes to detect imbalance issues:\n",
    "\n",
    "if the treatment effect is large, then the expectation of absolute value of effect should be around the true effect regardless of imbalance or no imbalance. On the otherhand if the treatment effect is small, then the expectation of absolute value of the treatmentment effect is larger for imbalanced datasets compared to balanced datasets\n",
    "\n",
    "The what we need to do:\n",
    "- create universe of studies\n",
    "- measure imbalance on each study\n",
    "- measure treatment effect\n",
    "- compare the average treatment effect on a grid of studies:\n",
    "    - high/low treatment effect \n",
    "    - high/low imbalance"
   ]
  },
  {
   "cell_type": "code",
   "execution_count": 134,
   "metadata": {},
   "outputs": [
    {
     "data": {
      "text/html": [
       "<div>\n",
       "<style scoped>\n",
       "    .dataframe tbody tr th:only-of-type {\n",
       "        vertical-align: middle;\n",
       "    }\n",
       "\n",
       "    .dataframe tbody tr th {\n",
       "        vertical-align: top;\n",
       "    }\n",
       "\n",
       "    .dataframe thead th {\n",
       "        text-align: right;\n",
       "    }\n",
       "</style>\n",
       "<table border=\"1\" class=\"dataframe\">\n",
       "  <thead>\n",
       "    <tr style=\"text-align: right;\">\n",
       "      <th></th>\n",
       "      <th>nct_id</th>\n",
       "      <th>result_group_id</th>\n",
       "      <th>id</th>\n",
       "      <th>ctgov_group_code</th>\n",
       "      <th>classification</th>\n",
       "      <th>category</th>\n",
       "      <th>title</th>\n",
       "      <th>description</th>\n",
       "      <th>units</th>\n",
       "      <th>param_type</th>\n",
       "      <th>param_value</th>\n",
       "      <th>param_value_num</th>\n",
       "      <th>dispersion_type</th>\n",
       "      <th>dispersion_value</th>\n",
       "      <th>dispersion_value_num</th>\n",
       "      <th>dispersion_lower_limit</th>\n",
       "      <th>dispersion_upper_limit</th>\n",
       "      <th>explanation_of_na</th>\n",
       "      <th>is_male</th>\n",
       "      <th>title_rg</th>\n",
       "    </tr>\n",
       "  </thead>\n",
       "  <tbody>\n",
       "    <tr>\n",
       "      <td>4</td>\n",
       "      <td>NCT00002525</td>\n",
       "      <td>3077995</td>\n",
       "      <td>3350817</td>\n",
       "      <td>B2</td>\n",
       "      <td>Male</td>\n",
       "      <td></td>\n",
       "      <td>Gender</td>\n",
       "      <td>1 patient on \"No perioperative 5-FU arm\" had m...</td>\n",
       "      <td>participants</td>\n",
       "      <td>Number</td>\n",
       "      <td>96</td>\n",
       "      <td>96.0</td>\n",
       "      <td></td>\n",
       "      <td>None</td>\n",
       "      <td>NaN</td>\n",
       "      <td>NaN</td>\n",
       "      <td>NaN</td>\n",
       "      <td></td>\n",
       "      <td>True</td>\n",
       "      <td>No Perioperative 5-FU</td>\n",
       "    </tr>\n",
       "    <tr>\n",
       "      <td>5</td>\n",
       "      <td>NCT00002525</td>\n",
       "      <td>3077995</td>\n",
       "      <td>3350820</td>\n",
       "      <td>B2</td>\n",
       "      <td>Female</td>\n",
       "      <td></td>\n",
       "      <td>Gender</td>\n",
       "      <td>1 patient on \"No perioperative 5-FU arm\" had m...</td>\n",
       "      <td>participants</td>\n",
       "      <td>Number</td>\n",
       "      <td>61</td>\n",
       "      <td>61.0</td>\n",
       "      <td></td>\n",
       "      <td>None</td>\n",
       "      <td>NaN</td>\n",
       "      <td>NaN</td>\n",
       "      <td>NaN</td>\n",
       "      <td></td>\n",
       "      <td>False</td>\n",
       "      <td>No Perioperative 5-FU</td>\n",
       "    </tr>\n",
       "    <tr>\n",
       "      <td>6</td>\n",
       "      <td>NCT00002525</td>\n",
       "      <td>3077996</td>\n",
       "      <td>3350818</td>\n",
       "      <td>B1</td>\n",
       "      <td>Male</td>\n",
       "      <td></td>\n",
       "      <td>Gender</td>\n",
       "      <td>1 patient on \"No perioperative 5-FU arm\" had m...</td>\n",
       "      <td>participants</td>\n",
       "      <td>Number</td>\n",
       "      <td>99</td>\n",
       "      <td>99.0</td>\n",
       "      <td></td>\n",
       "      <td>None</td>\n",
       "      <td>NaN</td>\n",
       "      <td>NaN</td>\n",
       "      <td>NaN</td>\n",
       "      <td></td>\n",
       "      <td>True</td>\n",
       "      <td>Perioperative 5-FU</td>\n",
       "    </tr>\n",
       "    <tr>\n",
       "      <td>7</td>\n",
       "      <td>NCT00002525</td>\n",
       "      <td>3077996</td>\n",
       "      <td>3350821</td>\n",
       "      <td>B1</td>\n",
       "      <td>Female</td>\n",
       "      <td></td>\n",
       "      <td>Gender</td>\n",
       "      <td>1 patient on \"No perioperative 5-FU arm\" had m...</td>\n",
       "      <td>participants</td>\n",
       "      <td>Number</td>\n",
       "      <td>57</td>\n",
       "      <td>57.0</td>\n",
       "      <td></td>\n",
       "      <td>None</td>\n",
       "      <td>NaN</td>\n",
       "      <td>NaN</td>\n",
       "      <td>NaN</td>\n",
       "      <td></td>\n",
       "      <td>False</td>\n",
       "      <td>Perioperative 5-FU</td>\n",
       "    </tr>\n",
       "    <tr>\n",
       "      <td>10</td>\n",
       "      <td>NCT00003641</td>\n",
       "      <td>3085820</td>\n",
       "      <td>3362852</td>\n",
       "      <td>B2</td>\n",
       "      <td>Male</td>\n",
       "      <td></td>\n",
       "      <td>Sex/Gender, Customized</td>\n",
       "      <td>1 patient on arm I and 1 patient on arm II had...</td>\n",
       "      <td>participants</td>\n",
       "      <td>Number</td>\n",
       "      <td>336</td>\n",
       "      <td>336.0</td>\n",
       "      <td></td>\n",
       "      <td>None</td>\n",
       "      <td>NaN</td>\n",
       "      <td>NaN</td>\n",
       "      <td>NaN</td>\n",
       "      <td></td>\n",
       "      <td>True</td>\n",
       "      <td>Interferon Alfa-2b</td>\n",
       "    </tr>\n",
       "  </tbody>\n",
       "</table>\n",
       "</div>"
      ],
      "text/plain": [
       "         nct_id  result_group_id       id ctgov_group_code classification  \\\n",
       "4   NCT00002525          3077995  3350817               B2           Male   \n",
       "5   NCT00002525          3077995  3350820               B2         Female   \n",
       "6   NCT00002525          3077996  3350818               B1           Male   \n",
       "7   NCT00002525          3077996  3350821               B1         Female   \n",
       "10  NCT00003641          3085820  3362852               B2           Male   \n",
       "\n",
       "   category                   title  \\\n",
       "4                            Gender   \n",
       "5                            Gender   \n",
       "6                            Gender   \n",
       "7                            Gender   \n",
       "10           Sex/Gender, Customized   \n",
       "\n",
       "                                          description         units  \\\n",
       "4   1 patient on \"No perioperative 5-FU arm\" had m...  participants   \n",
       "5   1 patient on \"No perioperative 5-FU arm\" had m...  participants   \n",
       "6   1 patient on \"No perioperative 5-FU arm\" had m...  participants   \n",
       "7   1 patient on \"No perioperative 5-FU arm\" had m...  participants   \n",
       "10  1 patient on arm I and 1 patient on arm II had...  participants   \n",
       "\n",
       "   param_type param_value  param_value_num dispersion_type dispersion_value  \\\n",
       "4      Number          96             96.0                             None   \n",
       "5      Number          61             61.0                             None   \n",
       "6      Number          99             99.0                             None   \n",
       "7      Number          57             57.0                             None   \n",
       "10     Number         336            336.0                             None   \n",
       "\n",
       "    dispersion_value_num  dispersion_lower_limit  dispersion_upper_limit  \\\n",
       "4                    NaN                     NaN                     NaN   \n",
       "5                    NaN                     NaN                     NaN   \n",
       "6                    NaN                     NaN                     NaN   \n",
       "7                    NaN                     NaN                     NaN   \n",
       "10                   NaN                     NaN                     NaN   \n",
       "\n",
       "   explanation_of_na  is_male               title_rg  \n",
       "4                        True  No Perioperative 5-FU  \n",
       "5                       False  No Perioperative 5-FU  \n",
       "6                        True     Perioperative 5-FU  \n",
       "7                       False     Perioperative 5-FU  \n",
       "10                       True     Interferon Alfa-2b  "
      ]
     },
     "execution_count": 134,
     "metadata": {},
     "output_type": "execute_result"
    }
   ],
   "source": [
    "dfm4.head()"
   ]
  },
  {
   "cell_type": "code",
   "execution_count": 136,
   "metadata": {},
   "outputs": [],
   "source": [
    "studies_w_gender_info = dfm4['nct_id'].unique()"
   ]
  },
  {
   "cell_type": "markdown",
   "metadata": {},
   "source": [
    "# Constructing the Outcome dataset"
   ]
  },
  {
   "cell_type": "markdown",
   "metadata": {},
   "source": [
    "##### Note: studies can have many primary outcome measurements: NCT01094184"
   ]
  },
  {
   "cell_type": "markdown",
   "metadata": {},
   "source": [
    "- measure a monotonicly increasing balance function\n",
    "- measure a monotonically increasing absolute effect size function\n",
    "- The studies where the treatment effect is large should not be affect by impacted by the imbalance\n",
    "- BUT the studies where the treatment effect is small, we should see a postive correlation to imbalance"
   ]
  },
  {
   "cell_type": "markdown",
   "metadata": {},
   "source": [
    "## For our baseline, let's just take the most restrictive study set, although it may be small\n",
    "- 2 outcome measure ctgov_group_codes\n",
    "- 1 primary outcome measure"
   ]
  },
  {
   "cell_type": "code",
   "execution_count": 161,
   "metadata": {},
   "outputs": [
    {
     "data": {
      "text/plain": [
       "20597"
      ]
     },
     "execution_count": 161,
     "metadata": {},
     "output_type": "execute_result"
    }
   ],
   "source": [
    "len(studies_w_gender_info)"
   ]
  },
  {
   "cell_type": "markdown",
   "metadata": {},
   "source": [
    "### getting studies with only 2 group codes"
   ]
  },
  {
   "cell_type": "code",
   "execution_count": 156,
   "metadata": {},
   "outputs": [],
   "source": [
    "num_grp_per_study = omj.groupby('om_nct_id')['om_ctgov_group_code'].nunique()"
   ]
  },
  {
   "cell_type": "code",
   "execution_count": 180,
   "metadata": {},
   "outputs": [],
   "source": [
    "studies_w_2_grps = num_grp_per_study[num_grp_per_study == 2].index"
   ]
  },
  {
   "cell_type": "code",
   "execution_count": 181,
   "metadata": {},
   "outputs": [
    {
     "data": {
      "text/plain": [
       "18138"
      ]
     },
     "execution_count": 181,
     "metadata": {},
     "output_type": "execute_result"
    }
   ],
   "source": [
    "len(studies_w_2_grps)"
   ]
  },
  {
   "cell_type": "code",
   "execution_count": 169,
   "metadata": {},
   "outputs": [],
   "source": [
    "outj_primary = outj[outj['out_outcome_type'] == 'Primary']"
   ]
  },
  {
   "cell_type": "code",
   "execution_count": 172,
   "metadata": {},
   "outputs": [],
   "source": [
    "num_outcomes_per_study = outj_primary.groupby('out_nct_id')['out_id'].size()"
   ]
  },
  {
   "cell_type": "code",
   "execution_count": 178,
   "metadata": {},
   "outputs": [],
   "source": [
    "studies_w_1_outcome = num_outcomes_per_study[num_outcomes_per_study == 1].index"
   ]
  },
  {
   "cell_type": "code",
   "execution_count": 179,
   "metadata": {},
   "outputs": [
    {
     "data": {
      "text/plain": [
       "38459"
      ]
     },
     "execution_count": 179,
     "metadata": {},
     "output_type": "execute_result"
    }
   ],
   "source": [
    "len(num_outcomes_per_study)"
   ]
  },
  {
   "cell_type": "markdown",
   "metadata": {},
   "source": [
    "### Joining Outcome and Outcome Measurements"
   ]
  },
  {
   "cell_type": "code",
   "execution_count": 107,
   "metadata": {},
   "outputs": [],
   "source": [
    "omj = om.reset_index().add_prefix('om_')\n",
    "outj = out.reset_index().add_prefix('out_')"
   ]
  },
  {
   "cell_type": "code",
   "execution_count": 109,
   "metadata": {},
   "outputs": [
    {
     "data": {
      "text/plain": [
       "Index(['om_nct_id', 'om_result_group_id', 'om_outcome_id', 'om_id',\n",
       "       'om_ctgov_group_code', 'om_classification', 'om_category', 'om_title',\n",
       "       'om_description', 'om_units', 'om_param_type', 'om_param_value',\n",
       "       'om_param_value_num', 'om_dispersion_type', 'om_dispersion_value',\n",
       "       'om_dispersion_value_num', 'om_dispersion_lower_limit',\n",
       "       'om_dispersion_upper_limit', 'om_explanation_of_na'],\n",
       "      dtype='object')"
      ]
     },
     "execution_count": 109,
     "metadata": {},
     "output_type": "execute_result"
    }
   ],
   "source": [
    "omj.columns"
   ]
  },
  {
   "cell_type": "code",
   "execution_count": 108,
   "metadata": {},
   "outputs": [
    {
     "data": {
      "text/plain": [
       "Index(['out_nct_id', 'out_id', 'out_outcome_type', 'out_title',\n",
       "       'out_description', 'out_time_frame', 'out_population',\n",
       "       'out_anticipated_posting_date', 'out_anticipated_posting_month_year',\n",
       "       'out_units', 'out_units_analyzed', 'out_dispersion_type',\n",
       "       'out_param_type'],\n",
       "      dtype='object')"
      ]
     },
     "execution_count": 108,
     "metadata": {},
     "output_type": "execute_result"
    }
   ],
   "source": [
    "outj.columns"
   ]
  },
  {
   "cell_type": "code",
   "execution_count": 111,
   "metadata": {},
   "outputs": [],
   "source": [
    "dfj = omj.merge(outj, \n",
    "                how='inner',\n",
    "                left_on=['om_nct_id', 'om_outcome_id'],\n",
    "                right_on=['out_nct_id', 'out_id'],)"
   ]
  },
  {
   "cell_type": "code",
   "execution_count": 182,
   "metadata": {
    "scrolled": true
   },
   "outputs": [],
   "source": [
    "dfj_used = dfj[(dfj['om_nct_id'].isin(studies_w_gender_info)) &\n",
    "               (dfj['om_nct_id'].isin(studies_w_2_grps)) & \n",
    "               (dfj['om_nct_id'].isin(studies_w_1_outcome))]"
   ]
  },
  {
   "cell_type": "code",
   "execution_count": 188,
   "metadata": {},
   "outputs": [
    {
     "data": {
      "text/plain": [
       "(8995, 0.2348809275120117)"
      ]
     },
     "execution_count": 188,
     "metadata": {},
     "output_type": "execute_result"
    }
   ],
   "source": [
    "num_left = len(dfj_used['om_nct_id'].unique())\n",
    "num_left, num_left / bm_all"
   ]
  },
  {
   "cell_type": "code",
   "execution_count": 189,
   "metadata": {},
   "outputs": [
    {
     "data": {
      "text/html": [
       "<div>\n",
       "<style scoped>\n",
       "    .dataframe tbody tr th:only-of-type {\n",
       "        vertical-align: middle;\n",
       "    }\n",
       "\n",
       "    .dataframe tbody tr th {\n",
       "        vertical-align: top;\n",
       "    }\n",
       "\n",
       "    .dataframe thead th {\n",
       "        text-align: right;\n",
       "    }\n",
       "</style>\n",
       "<table border=\"1\" class=\"dataframe\">\n",
       "  <thead>\n",
       "    <tr style=\"text-align: right;\">\n",
       "      <th></th>\n",
       "      <th>om_nct_id</th>\n",
       "      <th>om_result_group_id</th>\n",
       "      <th>om_outcome_id</th>\n",
       "      <th>om_id</th>\n",
       "      <th>om_ctgov_group_code</th>\n",
       "      <th>om_classification</th>\n",
       "      <th>om_category</th>\n",
       "      <th>om_title</th>\n",
       "      <th>om_description</th>\n",
       "      <th>om_units</th>\n",
       "      <th>...</th>\n",
       "      <th>out_title</th>\n",
       "      <th>out_description</th>\n",
       "      <th>out_time_frame</th>\n",
       "      <th>out_population</th>\n",
       "      <th>out_anticipated_posting_date</th>\n",
       "      <th>out_anticipated_posting_month_year</th>\n",
       "      <th>out_units</th>\n",
       "      <th>out_units_analyzed</th>\n",
       "      <th>out_dispersion_type</th>\n",
       "      <th>out_param_type</th>\n",
       "    </tr>\n",
       "  </thead>\n",
       "  <tbody>\n",
       "    <tr>\n",
       "      <td>22</td>\n",
       "      <td>NCT00000371</td>\n",
       "      <td>3090202</td>\n",
       "      <td>930699</td>\n",
       "      <td>7024090</td>\n",
       "      <td>O2</td>\n",
       "      <td></td>\n",
       "      <td></td>\n",
       "      <td>Scale for the Assessment of Negative Symptoms ...</td>\n",
       "      <td>The slope of SANS total score from baseline to...</td>\n",
       "      <td>units on a scale/weeks</td>\n",
       "      <td>...</td>\n",
       "      <td>Scale for the Assessment of Negative Symptoms ...</td>\n",
       "      <td>The slope of SANS total score from baseline to...</td>\n",
       "      <td>Baseline, Week 4, Week 8</td>\n",
       "      <td></td>\n",
       "      <td>None</td>\n",
       "      <td></td>\n",
       "      <td>units on a scale/weeks</td>\n",
       "      <td></td>\n",
       "      <td>Standard Error</td>\n",
       "      <td>Mean</td>\n",
       "    </tr>\n",
       "    <tr>\n",
       "      <td>23</td>\n",
       "      <td>NCT00000371</td>\n",
       "      <td>3090203</td>\n",
       "      <td>930699</td>\n",
       "      <td>7024091</td>\n",
       "      <td>O1</td>\n",
       "      <td></td>\n",
       "      <td></td>\n",
       "      <td>Scale for the Assessment of Negative Symptoms ...</td>\n",
       "      <td>The slope of SANS total score from baseline to...</td>\n",
       "      <td>units on a scale/weeks</td>\n",
       "      <td>...</td>\n",
       "      <td>Scale for the Assessment of Negative Symptoms ...</td>\n",
       "      <td>The slope of SANS total score from baseline to...</td>\n",
       "      <td>Baseline, Week 4, Week 8</td>\n",
       "      <td></td>\n",
       "      <td>None</td>\n",
       "      <td></td>\n",
       "      <td>units on a scale/weeks</td>\n",
       "      <td></td>\n",
       "      <td>Standard Error</td>\n",
       "      <td>Mean</td>\n",
       "    </tr>\n",
       "    <tr>\n",
       "      <td>24</td>\n",
       "      <td>NCT00000378</td>\n",
       "      <td>3090193</td>\n",
       "      <td>930698</td>\n",
       "      <td>7024086</td>\n",
       "      <td>O2</td>\n",
       "      <td>12 WEEK DATA</td>\n",
       "      <td></td>\n",
       "      <td>HAMILTON Rating Scale for DEPRESSION Range</td>\n",
       "      <td>Hamilton scale range 0-40, values below 7 are ...</td>\n",
       "      <td>units on a scale</td>\n",
       "      <td>...</td>\n",
       "      <td>HAMILTON Rating Scale for DEPRESSION Range</td>\n",
       "      <td>Hamilton scale range 0-40, values below 7 are ...</td>\n",
       "      <td>BASELINE COMPARED TO 12 WEEK MEASUREMENT</td>\n",
       "      <td>intent to treat analysis</td>\n",
       "      <td>None</td>\n",
       "      <td></td>\n",
       "      <td>units on a scale</td>\n",
       "      <td></td>\n",
       "      <td>Standard Deviation</td>\n",
       "      <td>Mean</td>\n",
       "    </tr>\n",
       "    <tr>\n",
       "      <td>25</td>\n",
       "      <td>NCT00000378</td>\n",
       "      <td>3090193</td>\n",
       "      <td>930698</td>\n",
       "      <td>7024088</td>\n",
       "      <td>O2</td>\n",
       "      <td>BASELINE</td>\n",
       "      <td></td>\n",
       "      <td>HAMILTON Rating Scale for DEPRESSION Range</td>\n",
       "      <td>Hamilton scale range 0-40, values below 7 are ...</td>\n",
       "      <td>units on a scale</td>\n",
       "      <td>...</td>\n",
       "      <td>HAMILTON Rating Scale for DEPRESSION Range</td>\n",
       "      <td>Hamilton scale range 0-40, values below 7 are ...</td>\n",
       "      <td>BASELINE COMPARED TO 12 WEEK MEASUREMENT</td>\n",
       "      <td>intent to treat analysis</td>\n",
       "      <td>None</td>\n",
       "      <td></td>\n",
       "      <td>units on a scale</td>\n",
       "      <td></td>\n",
       "      <td>Standard Deviation</td>\n",
       "      <td>Mean</td>\n",
       "    </tr>\n",
       "    <tr>\n",
       "      <td>26</td>\n",
       "      <td>NCT00000378</td>\n",
       "      <td>3090194</td>\n",
       "      <td>930698</td>\n",
       "      <td>7024087</td>\n",
       "      <td>O1</td>\n",
       "      <td>12 WEEK DATA</td>\n",
       "      <td></td>\n",
       "      <td>HAMILTON Rating Scale for DEPRESSION Range</td>\n",
       "      <td>Hamilton scale range 0-40, values below 7 are ...</td>\n",
       "      <td>units on a scale</td>\n",
       "      <td>...</td>\n",
       "      <td>HAMILTON Rating Scale for DEPRESSION Range</td>\n",
       "      <td>Hamilton scale range 0-40, values below 7 are ...</td>\n",
       "      <td>BASELINE COMPARED TO 12 WEEK MEASUREMENT</td>\n",
       "      <td>intent to treat analysis</td>\n",
       "      <td>None</td>\n",
       "      <td></td>\n",
       "      <td>units on a scale</td>\n",
       "      <td></td>\n",
       "      <td>Standard Deviation</td>\n",
       "      <td>Mean</td>\n",
       "    </tr>\n",
       "  </tbody>\n",
       "</table>\n",
       "<p>5 rows × 32 columns</p>\n",
       "</div>"
      ],
      "text/plain": [
       "      om_nct_id  om_result_group_id  om_outcome_id    om_id  \\\n",
       "22  NCT00000371             3090202         930699  7024090   \n",
       "23  NCT00000371             3090203         930699  7024091   \n",
       "24  NCT00000378             3090193         930698  7024086   \n",
       "25  NCT00000378             3090193         930698  7024088   \n",
       "26  NCT00000378             3090194         930698  7024087   \n",
       "\n",
       "   om_ctgov_group_code om_classification om_category  \\\n",
       "22                  O2                                 \n",
       "23                  O1                                 \n",
       "24                  O2      12 WEEK DATA               \n",
       "25                  O2          BASELINE               \n",
       "26                  O1      12 WEEK DATA               \n",
       "\n",
       "                                             om_title  \\\n",
       "22  Scale for the Assessment of Negative Symptoms ...   \n",
       "23  Scale for the Assessment of Negative Symptoms ...   \n",
       "24         HAMILTON Rating Scale for DEPRESSION Range   \n",
       "25         HAMILTON Rating Scale for DEPRESSION Range   \n",
       "26         HAMILTON Rating Scale for DEPRESSION Range   \n",
       "\n",
       "                                       om_description                om_units  \\\n",
       "22  The slope of SANS total score from baseline to...  units on a scale/weeks   \n",
       "23  The slope of SANS total score from baseline to...  units on a scale/weeks   \n",
       "24  Hamilton scale range 0-40, values below 7 are ...        units on a scale   \n",
       "25  Hamilton scale range 0-40, values below 7 are ...        units on a scale   \n",
       "26  Hamilton scale range 0-40, values below 7 are ...        units on a scale   \n",
       "\n",
       "    ...                                          out_title  \\\n",
       "22  ...  Scale for the Assessment of Negative Symptoms ...   \n",
       "23  ...  Scale for the Assessment of Negative Symptoms ...   \n",
       "24  ...         HAMILTON Rating Scale for DEPRESSION Range   \n",
       "25  ...         HAMILTON Rating Scale for DEPRESSION Range   \n",
       "26  ...         HAMILTON Rating Scale for DEPRESSION Range   \n",
       "\n",
       "                                      out_description  \\\n",
       "22  The slope of SANS total score from baseline to...   \n",
       "23  The slope of SANS total score from baseline to...   \n",
       "24  Hamilton scale range 0-40, values below 7 are ...   \n",
       "25  Hamilton scale range 0-40, values below 7 are ...   \n",
       "26  Hamilton scale range 0-40, values below 7 are ...   \n",
       "\n",
       "                              out_time_frame            out_population  \\\n",
       "22                  Baseline, Week 4, Week 8                             \n",
       "23                  Baseline, Week 4, Week 8                             \n",
       "24  BASELINE COMPARED TO 12 WEEK MEASUREMENT  intent to treat analysis   \n",
       "25  BASELINE COMPARED TO 12 WEEK MEASUREMENT  intent to treat analysis   \n",
       "26  BASELINE COMPARED TO 12 WEEK MEASUREMENT  intent to treat analysis   \n",
       "\n",
       "   out_anticipated_posting_date  out_anticipated_posting_month_year  \\\n",
       "22                         None                                       \n",
       "23                         None                                       \n",
       "24                         None                                       \n",
       "25                         None                                       \n",
       "26                         None                                       \n",
       "\n",
       "                 out_units  out_units_analyzed out_dispersion_type  \\\n",
       "22  units on a scale/weeks                          Standard Error   \n",
       "23  units on a scale/weeks                          Standard Error   \n",
       "24        units on a scale                      Standard Deviation   \n",
       "25        units on a scale                      Standard Deviation   \n",
       "26        units on a scale                      Standard Deviation   \n",
       "\n",
       "   out_param_type  \n",
       "22           Mean  \n",
       "23           Mean  \n",
       "24           Mean  \n",
       "25           Mean  \n",
       "26           Mean  \n",
       "\n",
       "[5 rows x 32 columns]"
      ]
     },
     "execution_count": 189,
     "metadata": {},
     "output_type": "execute_result"
    }
   ],
   "source": [
    "df_prim_mean = dfj_used[(dfj_used['out_param_type'] == 'Mean') & (dfj_used['out_outcome_type'] == 'Primary')]\n",
    "df_prim_mean.head()"
   ]
  },
  {
   "cell_type": "code",
   "execution_count": 190,
   "metadata": {},
   "outputs": [
    {
     "data": {
      "text/plain": [
       "Index(['om_nct_id', 'om_result_group_id', 'om_outcome_id', 'om_id',\n",
       "       'om_ctgov_group_code', 'om_classification', 'om_category', 'om_title',\n",
       "       'om_description', 'om_units', 'om_param_type', 'om_param_value',\n",
       "       'om_param_value_num', 'om_dispersion_type', 'om_dispersion_value',\n",
       "       'om_dispersion_value_num', 'om_dispersion_lower_limit',\n",
       "       'om_dispersion_upper_limit', 'om_explanation_of_na', 'out_nct_id',\n",
       "       'out_id', 'out_outcome_type', 'out_title', 'out_description',\n",
       "       'out_time_frame', 'out_population', 'out_anticipated_posting_date',\n",
       "       'out_anticipated_posting_month_year', 'out_units', 'out_units_analyzed',\n",
       "       'out_dispersion_type', 'out_param_type'],\n",
       "      dtype='object')"
      ]
     },
     "execution_count": 190,
     "metadata": {},
     "output_type": "execute_result"
    }
   ],
   "source": [
    "df_prim_mean.columns"
   ]
  },
  {
   "cell_type": "code",
   "execution_count": 191,
   "metadata": {},
   "outputs": [
    {
     "data": {
      "text/plain": [
       "(11448, 32)"
      ]
     },
     "execution_count": 191,
     "metadata": {},
     "output_type": "execute_result"
    }
   ],
   "source": [
    "df_prim_mean.shape"
   ]
  },
  {
   "cell_type": "code",
   "execution_count": 203,
   "metadata": {},
   "outputs": [
    {
     "data": {
      "text/plain": [
       "0.08739816168790474"
      ]
     },
     "execution_count": 203,
     "metadata": {},
     "output_type": "execute_result"
    }
   ],
   "source": [
    "num_left = len(df_prim_mean['om_nct_id'].unique())\n",
    "\n",
    "num_left / bm_all"
   ]
  },
  {
   "cell_type": "code",
   "execution_count": 204,
   "metadata": {},
   "outputs": [
    {
     "data": {
      "text/plain": [
       "3347"
      ]
     },
     "execution_count": 204,
     "metadata": {},
     "output_type": "execute_result"
    }
   ],
   "source": [
    "num_left"
   ]
  },
  {
   "cell_type": "code",
   "execution_count": 199,
   "metadata": {},
   "outputs": [],
   "source": [
    "df_prim_mean.to_pickle('curated_outcomes.p')"
   ]
  },
  {
   "cell_type": "code",
   "execution_count": null,
   "metadata": {},
   "outputs": [],
   "source": []
  },
  {
   "cell_type": "code",
   "execution_count": null,
   "metadata": {},
   "outputs": [],
   "source": []
  }
 ],
 "metadata": {
  "kernelspec": {
   "display_name": "Python 3",
   "language": "python",
   "name": "python3"
  },
  "language_info": {
   "codemirror_mode": {
    "name": "ipython",
    "version": 3
   },
   "file_extension": ".py",
   "mimetype": "text/x-python",
   "name": "python",
   "nbconvert_exporter": "python",
   "pygments_lexer": "ipython3",
   "version": "3.6.9"
  }
 },
 "nbformat": 4,
 "nbformat_minor": 2
}
