{
 "cells": [
  {
   "cell_type": "code",
   "execution_count": 1,
   "metadata": {},
   "outputs": [],
   "source": [
    "import sys\n",
    "if \"../../\" not in sys.path:\n",
    "    sys.path.append(\"../../\")"
   ]
  },
  {
   "cell_type": "code",
   "execution_count": 75,
   "metadata": {},
   "outputs": [],
   "source": [
    "import pandas as pd\n",
    "import numpy as np\n",
    "from importlib import reload\n",
    "from tqdm import tqdm_notebook as tqdm\n",
    "import time\n",
    "\n",
    "import pdaactconn as pc\n",
    "from trialexplorer import AACTStudySet\n",
    "\n",
    "import matplotlib.pyplot\n",
    "%matplotlib inline"
   ]
  },
  {
   "cell_type": "code",
   "execution_count": 3,
   "metadata": {},
   "outputs": [
    {
     "name": "stdout",
     "output_type": "stream",
     "text": [
      "257484 studies loaded!\n"
     ]
    }
   ],
   "source": [
    "conn = pc.AACTConnection(source=pc.AACTConnection.REMOTE)\n",
    "ss = AACTStudySet.AACTStudySet(conn=conn, \n",
    "                               tqdm_handler=tqdm)\n",
    "ss.add_constraint(\"study_type = 'Interventional'\")\n",
    "ss.load_studies()"
   ]
  },
  {
   "cell_type": "code",
   "execution_count": 232,
   "metadata": {},
   "outputs": [
    {
     "name": "stdout",
     "output_type": "stream",
     "text": [
      "Successfuly added these 1 dimensions: ['baseline_measurements']\n",
      "Failed to add these 0 dimensions: []\n",
      "Successfuly added these 1 dimensions: ['result_groups']\n",
      "Failed to add these 0 dimensions: []\n",
      "Successfuly added these 1 dimensions: ['eligibilities']\n",
      "Failed to add these 0 dimensions: []\n"
     ]
    },
    {
     "data": {
      "application/vnd.jupyter.widget-view+json": {
       "model_id": "926750b17df648268071ea77a3feaeed",
       "version_major": 2,
       "version_minor": 0
      },
      "text/plain": [
       "HBox(children=(IntProgress(value=0, max=515), HTML(value='')))"
      ]
     },
     "metadata": {},
     "output_type": "display_data"
    },
    {
     "name": "stdout",
     "output_type": "stream",
     "text": [
      "Syncing the temp table temp_cur_studies in 515 chunks x 500 records each\n",
      "\n",
      "Creating index on the temp table\n",
      " - Loading dimension baseline_measurements\n",
      " -- Loading raw data\n",
      " -- Sorting index\n",
      " - Loading dimension eligibilities\n",
      " -- Loading raw data\n",
      " -- Sorting index\n",
      " - Loading dimension result_groups\n",
      " -- Loading raw data\n",
      " -- Sorting index\n"
     ]
    }
   ],
   "source": [
    "ss.add_dimensions(['baseline_measurements'])\n",
    "ss.add_dimensions(['result_groups'])\n",
    "ss.add_dimensions(['eligibilities'])\n",
    "ss.refresh_dim_data()"
   ]
  },
  {
   "cell_type": "code",
   "execution_count": 233,
   "metadata": {},
   "outputs": [
    {
     "data": {
      "text/plain": [
       "257484"
      ]
     },
     "execution_count": 233,
     "metadata": {},
     "output_type": "execute_result"
    }
   ],
   "source": [
    "num_all = ss.studies.shape[0]\n",
    "num_all"
   ]
  },
  {
   "cell_type": "code",
   "execution_count": 234,
   "metadata": {},
   "outputs": [],
   "source": [
    "bm = ss.dimensions['baseline_measurements'].data\n",
    "rg = ss.dimensions['result_groups'].data\n",
    "el = ss.dimensions['eligibilities'].data"
   ]
  },
  {
   "cell_type": "markdown",
   "metadata": {},
   "source": [
    "## Where are all the places we can find gender information in bm?"
   ]
  },
  {
   "cell_type": "code",
   "execution_count": 24,
   "metadata": {},
   "outputs": [
    {
     "data": {
      "text/html": [
       "<div>\n",
       "<style scoped>\n",
       "    .dataframe tbody tr th:only-of-type {\n",
       "        vertical-align: middle;\n",
       "    }\n",
       "\n",
       "    .dataframe tbody tr th {\n",
       "        vertical-align: top;\n",
       "    }\n",
       "\n",
       "    .dataframe thead th {\n",
       "        text-align: right;\n",
       "    }\n",
       "</style>\n",
       "<table border=\"1\" class=\"dataframe\">\n",
       "  <thead>\n",
       "    <tr style=\"text-align: right;\">\n",
       "      <th></th>\n",
       "      <th></th>\n",
       "      <th>id</th>\n",
       "      <th>ctgov_group_code</th>\n",
       "      <th>classification</th>\n",
       "      <th>category</th>\n",
       "      <th>title</th>\n",
       "      <th>description</th>\n",
       "      <th>units</th>\n",
       "      <th>param_type</th>\n",
       "      <th>param_value</th>\n",
       "      <th>param_value_num</th>\n",
       "      <th>dispersion_type</th>\n",
       "      <th>dispersion_value</th>\n",
       "      <th>dispersion_value_num</th>\n",
       "      <th>dispersion_lower_limit</th>\n",
       "      <th>dispersion_upper_limit</th>\n",
       "      <th>explanation_of_na</th>\n",
       "    </tr>\n",
       "    <tr>\n",
       "      <th>nct_id</th>\n",
       "      <th>result_group_id</th>\n",
       "      <th></th>\n",
       "      <th></th>\n",
       "      <th></th>\n",
       "      <th></th>\n",
       "      <th></th>\n",
       "      <th></th>\n",
       "      <th></th>\n",
       "      <th></th>\n",
       "      <th></th>\n",
       "      <th></th>\n",
       "      <th></th>\n",
       "      <th></th>\n",
       "      <th></th>\n",
       "      <th></th>\n",
       "      <th></th>\n",
       "      <th></th>\n",
       "    </tr>\n",
       "  </thead>\n",
       "  <tbody>\n",
       "    <tr>\n",
       "      <td rowspan=\"5\" valign=\"top\">NCT00000125</td>\n",
       "      <td>3090367</td>\n",
       "      <td>3368138</td>\n",
       "      <td>B3</td>\n",
       "      <td>Other</td>\n",
       "      <td></td>\n",
       "      <td>Race/Ethnicity, Customized</td>\n",
       "      <td></td>\n",
       "      <td>participants</td>\n",
       "      <td>Number</td>\n",
       "      <td>14</td>\n",
       "      <td>14.0</td>\n",
       "      <td></td>\n",
       "      <td>None</td>\n",
       "      <td>NaN</td>\n",
       "      <td>NaN</td>\n",
       "      <td>NaN</td>\n",
       "      <td></td>\n",
       "    </tr>\n",
       "    <tr>\n",
       "      <td>3090367</td>\n",
       "      <td>3368141</td>\n",
       "      <td>B3</td>\n",
       "      <td>White</td>\n",
       "      <td></td>\n",
       "      <td>Race/Ethnicity, Customized</td>\n",
       "      <td></td>\n",
       "      <td>participants</td>\n",
       "      <td>Number</td>\n",
       "      <td>1137</td>\n",
       "      <td>1137.0</td>\n",
       "      <td></td>\n",
       "      <td>None</td>\n",
       "      <td>NaN</td>\n",
       "      <td>NaN</td>\n",
       "      <td>NaN</td>\n",
       "      <td></td>\n",
       "    </tr>\n",
       "    <tr>\n",
       "      <td>3090367</td>\n",
       "      <td>3368144</td>\n",
       "      <td>B3</td>\n",
       "      <td>Hispanic</td>\n",
       "      <td></td>\n",
       "      <td>Race/Ethnicity, Customized</td>\n",
       "      <td></td>\n",
       "      <td>participants</td>\n",
       "      <td>Number</td>\n",
       "      <td>59</td>\n",
       "      <td>59.0</td>\n",
       "      <td></td>\n",
       "      <td>None</td>\n",
       "      <td>NaN</td>\n",
       "      <td>NaN</td>\n",
       "      <td>NaN</td>\n",
       "      <td></td>\n",
       "    </tr>\n",
       "    <tr>\n",
       "      <td>3090367</td>\n",
       "      <td>3368147</td>\n",
       "      <td>B3</td>\n",
       "      <td>African American</td>\n",
       "      <td></td>\n",
       "      <td>Race/Ethnicity, Customized</td>\n",
       "      <td></td>\n",
       "      <td>participants</td>\n",
       "      <td>Number</td>\n",
       "      <td>408</td>\n",
       "      <td>408.0</td>\n",
       "      <td></td>\n",
       "      <td>None</td>\n",
       "      <td>NaN</td>\n",
       "      <td>NaN</td>\n",
       "      <td>NaN</td>\n",
       "      <td></td>\n",
       "    </tr>\n",
       "    <tr>\n",
       "      <td>3090367</td>\n",
       "      <td>3368150</td>\n",
       "      <td>B3</td>\n",
       "      <td>Asian</td>\n",
       "      <td></td>\n",
       "      <td>Race/Ethnicity, Customized</td>\n",
       "      <td></td>\n",
       "      <td>participants</td>\n",
       "      <td>Number</td>\n",
       "      <td>14</td>\n",
       "      <td>14.0</td>\n",
       "      <td></td>\n",
       "      <td>None</td>\n",
       "      <td>NaN</td>\n",
       "      <td>NaN</td>\n",
       "      <td>NaN</td>\n",
       "      <td></td>\n",
       "    </tr>\n",
       "  </tbody>\n",
       "</table>\n",
       "</div>"
      ],
      "text/plain": [
       "                                  id ctgov_group_code    classification  \\\n",
       "nct_id      result_group_id                                               \n",
       "NCT00000125 3090367          3368138               B3             Other   \n",
       "            3090367          3368141               B3             White   \n",
       "            3090367          3368144               B3          Hispanic   \n",
       "            3090367          3368147               B3  African American   \n",
       "            3090367          3368150               B3             Asian   \n",
       "\n",
       "                            category                       title description  \\\n",
       "nct_id      result_group_id                                                    \n",
       "NCT00000125 3090367                   Race/Ethnicity, Customized               \n",
       "            3090367                   Race/Ethnicity, Customized               \n",
       "            3090367                   Race/Ethnicity, Customized               \n",
       "            3090367                   Race/Ethnicity, Customized               \n",
       "            3090367                   Race/Ethnicity, Customized               \n",
       "\n",
       "                                    units param_type param_value  \\\n",
       "nct_id      result_group_id                                        \n",
       "NCT00000125 3090367          participants     Number          14   \n",
       "            3090367          participants     Number        1137   \n",
       "            3090367          participants     Number          59   \n",
       "            3090367          participants     Number         408   \n",
       "            3090367          participants     Number          14   \n",
       "\n",
       "                             param_value_num dispersion_type dispersion_value  \\\n",
       "nct_id      result_group_id                                                     \n",
       "NCT00000125 3090367                     14.0                             None   \n",
       "            3090367                   1137.0                             None   \n",
       "            3090367                     59.0                             None   \n",
       "            3090367                    408.0                             None   \n",
       "            3090367                     14.0                             None   \n",
       "\n",
       "                             dispersion_value_num  dispersion_lower_limit  \\\n",
       "nct_id      result_group_id                                                 \n",
       "NCT00000125 3090367                           NaN                     NaN   \n",
       "            3090367                           NaN                     NaN   \n",
       "            3090367                           NaN                     NaN   \n",
       "            3090367                           NaN                     NaN   \n",
       "            3090367                           NaN                     NaN   \n",
       "\n",
       "                             dispersion_upper_limit explanation_of_na  \n",
       "nct_id      result_group_id                                            \n",
       "NCT00000125 3090367                             NaN                    \n",
       "            3090367                             NaN                    \n",
       "            3090367                             NaN                    \n",
       "            3090367                             NaN                    \n",
       "            3090367                             NaN                    "
      ]
     },
     "execution_count": 24,
     "metadata": {},
     "output_type": "execute_result"
    }
   ],
   "source": [
    "bm.head()"
   ]
  },
  {
   "cell_type": "code",
   "execution_count": 80,
   "metadata": {},
   "outputs": [
    {
     "data": {
      "text/plain": [
       "(1084151, 16)"
      ]
     },
     "execution_count": 80,
     "metadata": {},
     "output_type": "execute_result"
    }
   ],
   "source": [
    "bm.shape"
   ]
  },
  {
   "cell_type": "code",
   "execution_count": 83,
   "metadata": {},
   "outputs": [
    {
     "data": {
      "text/plain": [
       "38198"
      ]
     },
     "execution_count": 83,
     "metadata": {},
     "output_type": "execute_result"
    }
   ],
   "source": [
    "bm_all = bm.index.get_level_values(0).unique().shape[0]\n",
    "bm_all"
   ]
  },
  {
   "cell_type": "markdown",
   "metadata": {},
   "source": [
    "<hr>"
   ]
  },
  {
   "cell_type": "markdown",
   "metadata": {},
   "source": [
    "##### searching in the \"classification\" field"
   ]
  },
  {
   "cell_type": "code",
   "execution_count": 84,
   "metadata": {},
   "outputs": [],
   "source": [
    "possible_classes = [x for x in bm['classification'].unique() if 'male' in x.lower()]"
   ]
  },
  {
   "cell_type": "code",
   "execution_count": 85,
   "metadata": {},
   "outputs": [
    {
     "data": {
      "text/plain": [
       "((5445, 16), 0.02167652756688832)"
      ]
     },
     "execution_count": 85,
     "metadata": {},
     "output_type": "execute_result"
    }
   ],
   "source": [
    "dfc = bm[bm['classification'].isin(possible_classes)]\n",
    "dfc.shape, dfc.index.get_level_values(0).unique().shape[0]/bm_all"
   ]
  },
  {
   "cell_type": "code",
   "execution_count": 88,
   "metadata": {},
   "outputs": [
    {
     "data": {
      "text/plain": [
       "array(['Gender', 'Sex/Gender, Customized',\n",
       "       'Family History of Coronary Artery Disease', 'Visit type', 'Age',\n",
       "       'History of Vomiting with Pregnancy',\n",
       "       'Clayton Sexual Functioning Questionnaire (CSFQ)',\n",
       "       'Gender at Beginning of Long term Follow-up Period',\n",
       "       'Gender, by Disease Type', 'Donor gender'], dtype=object)"
      ]
     },
     "execution_count": 88,
     "metadata": {},
     "output_type": "execute_result"
    }
   ],
   "source": [
    "dfc['title'].unique()[:10]"
   ]
  },
  {
   "cell_type": "code",
   "execution_count": 94,
   "metadata": {},
   "outputs": [
    {
     "data": {
      "text/plain": [
       "classification\n",
       "Female                                 1866\n",
       "Male                                   1848\n",
       "Female of Childbearing Potential        113\n",
       "Females                                  57\n",
       "Males                                    40\n",
       "N/A (Subject is Male)                    30\n",
       "Female of childbearing potential         30\n",
       "Females of Child-bearing Potential       26\n",
       "Sterilized Females                       26\n",
       "Males (Excluded from this analysis)      26\n",
       "dtype: int64"
      ]
     },
     "execution_count": 94,
     "metadata": {},
     "output_type": "execute_result"
    }
   ],
   "source": [
    "dfc.groupby('classification').size().sort_values(ascending=False)[:10]"
   ]
  },
  {
   "cell_type": "markdown",
   "metadata": {},
   "source": [
    "##### Use Female, Male and their plurals"
   ]
  },
  {
   "cell_type": "code",
   "execution_count": 95,
   "metadata": {},
   "outputs": [],
   "source": [
    "used_classes = ['female', 'male', 'females', 'males']"
   ]
  },
  {
   "cell_type": "code",
   "execution_count": 99,
   "metadata": {},
   "outputs": [
    {
     "data": {
      "text/plain": [
       "681"
      ]
     },
     "execution_count": 99,
     "metadata": {},
     "output_type": "execute_result"
    }
   ],
   "source": [
    "used_dfc = dfc[dfc['classification'].apply(lambda x: x.lower()).isin(used_classes)]\n",
    "res_studies_dfc = used_dfc.index.get_level_values(0).unique().shape[0]\n",
    "res_studies_dfc"
   ]
  },
  {
   "cell_type": "code",
   "execution_count": 161,
   "metadata": {},
   "outputs": [
    {
     "data": {
      "text/plain": [
       "array(['Male', 'Female', 'male', 'Males', 'Females', 'female', 'FEMALE',\n",
       "       'MALE', 'females', 'males'], dtype=object)"
      ]
     },
     "execution_count": 161,
     "metadata": {},
     "output_type": "execute_result"
    }
   ],
   "source": [
    "used_dfc['classification'].unique()"
   ]
  },
  {
   "cell_type": "code",
   "execution_count": 110,
   "metadata": {},
   "outputs": [
    {
     "data": {
      "text/plain": [
       "0.017828158542332058"
      ]
     },
     "execution_count": 110,
     "metadata": {},
     "output_type": "execute_result"
    }
   ],
   "source": [
    "pct_classes = res_studies_dfc / bm_all\n",
    "pct_classes"
   ]
  },
  {
   "cell_type": "markdown",
   "metadata": {},
   "source": [
    "##### conclusion: using the \"classification\" field for the gender infor gets us just under 2% of the 38k studies with baseline metrics, where else can we get gender information?"
   ]
  },
  {
   "cell_type": "markdown",
   "metadata": {},
   "source": [
    "<hr>"
   ]
  },
  {
   "cell_type": "markdown",
   "metadata": {},
   "source": [
    "##### searching in the \"category\" field"
   ]
  },
  {
   "cell_type": "code",
   "execution_count": 101,
   "metadata": {},
   "outputs": [
    {
     "data": {
      "text/plain": [
       "category\n",
       "                                        488158\n",
       "Male                                    107680\n",
       "Female                                  107662\n",
       "Unknown or Not Reported                  41277\n",
       ">=65 years                               35213\n",
       "                                         ...  \n",
       "Non-dominant Hand                            1\n",
       "Non-cystic fibrosis related diabetes         1\n",
       "> 200,000 copies/mL                          1\n",
       "> 21 years                                   1\n",
       "Follicular Lymphoma, Grade 1                 1\n",
       "Length: 7662, dtype: int64"
      ]
     },
     "execution_count": 101,
     "metadata": {},
     "output_type": "execute_result"
    }
   ],
   "source": [
    "bm.groupby('category').size().sort_values(ascending=False)"
   ]
  },
  {
   "cell_type": "code",
   "execution_count": 102,
   "metadata": {
    "scrolled": true
   },
   "outputs": [
    {
     "data": {
      "text/plain": [
       "['Male',\n",
       " 'Female',\n",
       " 'not applicable (male)',\n",
       " 'Female-Female',\n",
       " 'Male-Male',\n",
       " 'Female-Male',\n",
       " 'Male-Female',\n",
       " 'Male patients',\n",
       " 'High (>=102 cm for male and >=88 cm for female)',\n",
       " 'Low (<102 cm for male and <88 cm for female)',\n",
       " 'male',\n",
       " 'female',\n",
       " 'Male Donor, Male Recipient',\n",
       " 'Male Donor, Female Recipient',\n",
       " 'Female Donor, Male Recipient',\n",
       " 'Female Donor, Female Recipient',\n",
       " 'MALE',\n",
       " 'FEMALE',\n",
       " 'Transfemale',\n",
       " 'Females',\n",
       " 'Males',\n",
       " 'Sex (Female Only)',\n",
       " 'Female donor / Female Recipient',\n",
       " 'Female donor / Male Recipient',\n",
       " 'Male donor / Female Recipient',\n",
       " 'Male donor / Male Recipient',\n",
       " 'Female ≥4',\n",
       " 'Female <4',\n",
       " 'Male ≥8',\n",
       " 'Male <8',\n",
       " 'Female of Childbearing Potential',\n",
       " 'Female of childbearing potential',\n",
       " 'Not applicable (male participants)',\n",
       " 'Female - shirt collar >=16 in/41 cm',\n",
       " 'Female - shirt collar <16 in/41 cm',\n",
       " 'Male - shirt collar >= 17 in/43 cm',\n",
       " 'Male - shirt collar <17 in/43 cm',\n",
       " 'Not Applicable (Male)',\n",
       " 'Tubal and male factors',\n",
       " 'Male factor',\n",
       " 'Not applicable (Male)',\n",
       " 'Transmale',\n",
       " 'Female/Transfemale',\n",
       " 'Wife/Females Partner/Girlfriend']"
      ]
     },
     "execution_count": 102,
     "metadata": {},
     "output_type": "execute_result"
    }
   ],
   "source": [
    "possible_class_cat = [x for x in bm['category'].unique() if 'male' in x.lower()]\n",
    "possible_class_cat"
   ]
  },
  {
   "cell_type": "code",
   "execution_count": 103,
   "metadata": {},
   "outputs": [
    {
     "data": {
      "text/html": [
       "<div>\n",
       "<style scoped>\n",
       "    .dataframe tbody tr th:only-of-type {\n",
       "        vertical-align: middle;\n",
       "    }\n",
       "\n",
       "    .dataframe tbody tr th {\n",
       "        vertical-align: top;\n",
       "    }\n",
       "\n",
       "    .dataframe thead th {\n",
       "        text-align: right;\n",
       "    }\n",
       "</style>\n",
       "<table border=\"1\" class=\"dataframe\">\n",
       "  <thead>\n",
       "    <tr style=\"text-align: right;\">\n",
       "      <th></th>\n",
       "      <th></th>\n",
       "      <th>id</th>\n",
       "      <th>ctgov_group_code</th>\n",
       "      <th>classification</th>\n",
       "      <th>category</th>\n",
       "      <th>title</th>\n",
       "      <th>description</th>\n",
       "      <th>units</th>\n",
       "      <th>param_type</th>\n",
       "      <th>param_value</th>\n",
       "      <th>param_value_num</th>\n",
       "      <th>dispersion_type</th>\n",
       "      <th>dispersion_value</th>\n",
       "      <th>dispersion_value_num</th>\n",
       "      <th>dispersion_lower_limit</th>\n",
       "      <th>dispersion_upper_limit</th>\n",
       "      <th>explanation_of_na</th>\n",
       "    </tr>\n",
       "    <tr>\n",
       "      <th>nct_id</th>\n",
       "      <th>result_group_id</th>\n",
       "      <th></th>\n",
       "      <th></th>\n",
       "      <th></th>\n",
       "      <th></th>\n",
       "      <th></th>\n",
       "      <th></th>\n",
       "      <th></th>\n",
       "      <th></th>\n",
       "      <th></th>\n",
       "      <th></th>\n",
       "      <th></th>\n",
       "      <th></th>\n",
       "      <th></th>\n",
       "      <th></th>\n",
       "      <th></th>\n",
       "      <th></th>\n",
       "    </tr>\n",
       "  </thead>\n",
       "  <tbody>\n",
       "    <tr>\n",
       "      <td rowspan=\"4\" valign=\"top\">NCT00448357</td>\n",
       "      <td>2950959</td>\n",
       "      <td>3218413</td>\n",
       "      <td>B1</td>\n",
       "      <td></td>\n",
       "      <td>Female-Female</td>\n",
       "      <td>Donor-recipient sex</td>\n",
       "      <td></td>\n",
       "      <td>Participants</td>\n",
       "      <td>Count of Participants</td>\n",
       "      <td>14</td>\n",
       "      <td>14.0</td>\n",
       "      <td></td>\n",
       "      <td>None</td>\n",
       "      <td>NaN</td>\n",
       "      <td>NaN</td>\n",
       "      <td>NaN</td>\n",
       "      <td></td>\n",
       "    </tr>\n",
       "    <tr>\n",
       "      <td>2950959</td>\n",
       "      <td>3218414</td>\n",
       "      <td>B1</td>\n",
       "      <td></td>\n",
       "      <td>Male-Male</td>\n",
       "      <td>Donor-recipient sex</td>\n",
       "      <td></td>\n",
       "      <td>Participants</td>\n",
       "      <td>Count of Participants</td>\n",
       "      <td>22</td>\n",
       "      <td>22.0</td>\n",
       "      <td></td>\n",
       "      <td>None</td>\n",
       "      <td>NaN</td>\n",
       "      <td>NaN</td>\n",
       "      <td>NaN</td>\n",
       "      <td></td>\n",
       "    </tr>\n",
       "    <tr>\n",
       "      <td>2950959</td>\n",
       "      <td>3218415</td>\n",
       "      <td>B1</td>\n",
       "      <td></td>\n",
       "      <td>Female-Male</td>\n",
       "      <td>Donor-recipient sex</td>\n",
       "      <td></td>\n",
       "      <td>Participants</td>\n",
       "      <td>Count of Participants</td>\n",
       "      <td>12</td>\n",
       "      <td>12.0</td>\n",
       "      <td></td>\n",
       "      <td>None</td>\n",
       "      <td>NaN</td>\n",
       "      <td>NaN</td>\n",
       "      <td>NaN</td>\n",
       "      <td></td>\n",
       "    </tr>\n",
       "    <tr>\n",
       "      <td>2950959</td>\n",
       "      <td>3218416</td>\n",
       "      <td>B1</td>\n",
       "      <td></td>\n",
       "      <td>Male-Female</td>\n",
       "      <td>Donor-recipient sex</td>\n",
       "      <td></td>\n",
       "      <td>Participants</td>\n",
       "      <td>Count of Participants</td>\n",
       "      <td>6</td>\n",
       "      <td>6.0</td>\n",
       "      <td></td>\n",
       "      <td>None</td>\n",
       "      <td>NaN</td>\n",
       "      <td>NaN</td>\n",
       "      <td>NaN</td>\n",
       "      <td></td>\n",
       "    </tr>\n",
       "  </tbody>\n",
       "</table>\n",
       "</div>"
      ],
      "text/plain": [
       "                                  id ctgov_group_code classification  \\\n",
       "nct_id      result_group_id                                            \n",
       "NCT00448357 2950959          3218413               B1                  \n",
       "            2950959          3218414               B1                  \n",
       "            2950959          3218415               B1                  \n",
       "            2950959          3218416               B1                  \n",
       "\n",
       "                                  category                title description  \\\n",
       "nct_id      result_group_id                                                   \n",
       "NCT00448357 2950959          Female-Female  Donor-recipient sex               \n",
       "            2950959              Male-Male  Donor-recipient sex               \n",
       "            2950959            Female-Male  Donor-recipient sex               \n",
       "            2950959            Male-Female  Donor-recipient sex               \n",
       "\n",
       "                                    units             param_type param_value  \\\n",
       "nct_id      result_group_id                                                    \n",
       "NCT00448357 2950959          Participants  Count of Participants          14   \n",
       "            2950959          Participants  Count of Participants          22   \n",
       "            2950959          Participants  Count of Participants          12   \n",
       "            2950959          Participants  Count of Participants           6   \n",
       "\n",
       "                             param_value_num dispersion_type dispersion_value  \\\n",
       "nct_id      result_group_id                                                     \n",
       "NCT00448357 2950959                     14.0                             None   \n",
       "            2950959                     22.0                             None   \n",
       "            2950959                     12.0                             None   \n",
       "            2950959                      6.0                             None   \n",
       "\n",
       "                             dispersion_value_num  dispersion_lower_limit  \\\n",
       "nct_id      result_group_id                                                 \n",
       "NCT00448357 2950959                           NaN                     NaN   \n",
       "            2950959                           NaN                     NaN   \n",
       "            2950959                           NaN                     NaN   \n",
       "            2950959                           NaN                     NaN   \n",
       "\n",
       "                             dispersion_upper_limit explanation_of_na  \n",
       "nct_id      result_group_id                                            \n",
       "NCT00448357 2950959                             NaN                    \n",
       "            2950959                             NaN                    \n",
       "            2950959                             NaN                    \n",
       "            2950959                             NaN                    "
      ]
     },
     "execution_count": 103,
     "metadata": {},
     "output_type": "execute_result"
    }
   ],
   "source": [
    "# aside: what are those with both genders listed, such as 'Female-Male'?\n",
    "cur_list = ['Female-Female',\n",
    "'Male-Male',\n",
    "'Female-Male',\n",
    "'Male-Female',]\n",
    "\n",
    "cur_df = bm[bm['category'].isin(cur_list)]\n",
    "cur_df\n",
    "\n",
    "# ah donor to recipients"
   ]
  },
  {
   "cell_type": "code",
   "execution_count": 104,
   "metadata": {},
   "outputs": [
    {
     "data": {
      "text/plain": [
       "(215608, 16)"
      ]
     },
     "execution_count": 104,
     "metadata": {},
     "output_type": "execute_result"
    }
   ],
   "source": [
    "dfcat = bm[bm['category'].isin(possible_class_cat)]\n",
    "dfcat.shape"
   ]
  },
  {
   "cell_type": "code",
   "execution_count": 106,
   "metadata": {
    "scrolled": true
   },
   "outputs": [
    {
     "data": {
      "text/plain": [
       "category\n",
       "Male                                107680\n",
       "Female                              107662\n",
       "FEMALE                                  68\n",
       "MALE                                    68\n",
       "Female of childbearing potential        18\n",
       "Not Applicable (Male)                    5\n",
       "dtype: int64"
      ]
     },
     "execution_count": 106,
     "metadata": {},
     "output_type": "execute_result"
    }
   ],
   "source": [
    "dfcat.groupby('category').size().sort_values(ascending=False)[:6]"
   ]
  },
  {
   "cell_type": "markdown",
   "metadata": {},
   "source": [
    "Seems like if we just use \"Male, Female\" in any case, we will capture the vast majority of cases in this category"
   ]
  },
  {
   "cell_type": "code",
   "execution_count": 112,
   "metadata": {},
   "outputs": [],
   "source": [
    "used_cats = ['male', 'female']\n",
    "used_dfcat = bm[bm['category'].apply(lambda x: x.lower()).isin(used_cats)]"
   ]
  },
  {
   "cell_type": "code",
   "execution_count": 160,
   "metadata": {},
   "outputs": [
    {
     "data": {
      "text/plain": [
       "array(['Male', 'Female', 'male', 'female', 'MALE', 'FEMALE'], dtype=object)"
      ]
     },
     "execution_count": 160,
     "metadata": {},
     "output_type": "execute_result"
    }
   ],
   "source": [
    "used_dfcat['category'].unique()"
   ]
  },
  {
   "cell_type": "code",
   "execution_count": 113,
   "metadata": {},
   "outputs": [
    {
     "data": {
      "text/plain": [
       "0.9784281899575894"
      ]
     },
     "execution_count": 113,
     "metadata": {},
     "output_type": "execute_result"
    }
   ],
   "source": [
    "pct_cats = np.unique(used_dfcat.index.get_level_values(0)).shape[0] / bm_all\n",
    "pct_cats"
   ]
  },
  {
   "cell_type": "markdown",
   "metadata": {},
   "source": [
    "#### This seems a majority of our studies, is there overlap between identifying gender using classification vs using category?\n",
    "\n",
    "Let's analyse their intersections"
   ]
  },
  {
   "cell_type": "code",
   "execution_count": 181,
   "metadata": {},
   "outputs": [
    {
     "data": {
      "text/plain": [
       "array(['Male', 'Female', 'male', 'Males', 'Females', 'female', 'FEMALE',\n",
       "       'MALE', 'females', 'males'], dtype=object)"
      ]
     },
     "execution_count": 181,
     "metadata": {},
     "output_type": "execute_result"
    }
   ],
   "source": [
    "used_dfc['classification'].unique()"
   ]
  },
  {
   "cell_type": "code",
   "execution_count": 182,
   "metadata": {},
   "outputs": [
    {
     "data": {
      "text/plain": [
       "category\n",
       "                           3849\n",
       "Male                          7\n",
       "Female                        4\n",
       "Between 18 and 65 years       4\n",
       ">=65 years                    4\n",
       "<=18 years                    4\n",
       "Transfemale                   3\n",
       "dtype: int64"
      ]
     },
     "execution_count": 182,
     "metadata": {},
     "output_type": "execute_result"
    }
   ],
   "source": [
    "used_dfc.groupby('category').size().sort_values(ascending=False)"
   ]
  },
  {
   "cell_type": "markdown",
   "metadata": {},
   "source": [
    "Most of the valid classifications have null as category, what about the others?"
   ]
  },
  {
   "cell_type": "code",
   "execution_count": 185,
   "metadata": {},
   "outputs": [
    {
     "data": {
      "text/html": [
       "<div>\n",
       "<style scoped>\n",
       "    .dataframe tbody tr th:only-of-type {\n",
       "        vertical-align: middle;\n",
       "    }\n",
       "\n",
       "    .dataframe tbody tr th {\n",
       "        vertical-align: top;\n",
       "    }\n",
       "\n",
       "    .dataframe thead th {\n",
       "        text-align: right;\n",
       "    }\n",
       "</style>\n",
       "<table border=\"1\" class=\"dataframe\">\n",
       "  <thead>\n",
       "    <tr style=\"text-align: right;\">\n",
       "      <th></th>\n",
       "      <th></th>\n",
       "      <th>id</th>\n",
       "      <th>ctgov_group_code</th>\n",
       "      <th>classification</th>\n",
       "      <th>category</th>\n",
       "      <th>title</th>\n",
       "      <th>description</th>\n",
       "      <th>units</th>\n",
       "      <th>param_type</th>\n",
       "      <th>param_value</th>\n",
       "      <th>param_value_num</th>\n",
       "      <th>dispersion_type</th>\n",
       "      <th>dispersion_value</th>\n",
       "      <th>dispersion_value_num</th>\n",
       "      <th>dispersion_lower_limit</th>\n",
       "      <th>dispersion_upper_limit</th>\n",
       "      <th>explanation_of_na</th>\n",
       "    </tr>\n",
       "    <tr>\n",
       "      <th>nct_id</th>\n",
       "      <th>result_group_id</th>\n",
       "      <th></th>\n",
       "      <th></th>\n",
       "      <th></th>\n",
       "      <th></th>\n",
       "      <th></th>\n",
       "      <th></th>\n",
       "      <th></th>\n",
       "      <th></th>\n",
       "      <th></th>\n",
       "      <th></th>\n",
       "      <th></th>\n",
       "      <th></th>\n",
       "      <th></th>\n",
       "      <th></th>\n",
       "      <th></th>\n",
       "      <th></th>\n",
       "    </tr>\n",
       "  </thead>\n",
       "  <tbody>\n",
       "    <tr>\n",
       "      <td rowspan=\"3\" valign=\"top\">NCT01781806</td>\n",
       "      <td>2384509</td>\n",
       "      <td>2641670</td>\n",
       "      <td>B3</td>\n",
       "      <td>Male</td>\n",
       "      <td>Transfemale</td>\n",
       "      <td>Sex/Gender, Customized</td>\n",
       "      <td></td>\n",
       "      <td>Participants</td>\n",
       "      <td>Count of Participants</td>\n",
       "      <td>1</td>\n",
       "      <td>1.0</td>\n",
       "      <td></td>\n",
       "      <td>None</td>\n",
       "      <td>NaN</td>\n",
       "      <td>NaN</td>\n",
       "      <td>NaN</td>\n",
       "      <td></td>\n",
       "    </tr>\n",
       "    <tr>\n",
       "      <td>2384510</td>\n",
       "      <td>2641671</td>\n",
       "      <td>B2</td>\n",
       "      <td>Male</td>\n",
       "      <td>Transfemale</td>\n",
       "      <td>Sex/Gender, Customized</td>\n",
       "      <td></td>\n",
       "      <td>Participants</td>\n",
       "      <td>Count of Participants</td>\n",
       "      <td>0</td>\n",
       "      <td>0.0</td>\n",
       "      <td></td>\n",
       "      <td>None</td>\n",
       "      <td>NaN</td>\n",
       "      <td>NaN</td>\n",
       "      <td>NaN</td>\n",
       "      <td></td>\n",
       "    </tr>\n",
       "    <tr>\n",
       "      <td>2384511</td>\n",
       "      <td>2641672</td>\n",
       "      <td>B1</td>\n",
       "      <td>Male</td>\n",
       "      <td>Transfemale</td>\n",
       "      <td>Sex/Gender, Customized</td>\n",
       "      <td></td>\n",
       "      <td>Participants</td>\n",
       "      <td>Count of Participants</td>\n",
       "      <td>1</td>\n",
       "      <td>1.0</td>\n",
       "      <td></td>\n",
       "      <td>None</td>\n",
       "      <td>NaN</td>\n",
       "      <td>NaN</td>\n",
       "      <td>NaN</td>\n",
       "      <td></td>\n",
       "    </tr>\n",
       "    <tr>\n",
       "      <td rowspan=\"12\" valign=\"top\">NCT02844998</td>\n",
       "      <td>2115438</td>\n",
       "      <td>2314833</td>\n",
       "      <td>B4</td>\n",
       "      <td>Male</td>\n",
       "      <td>&gt;=65 years</td>\n",
       "      <td>Age</td>\n",
       "      <td></td>\n",
       "      <td>Participants</td>\n",
       "      <td>Count of Participants</td>\n",
       "      <td>0</td>\n",
       "      <td>0.0</td>\n",
       "      <td></td>\n",
       "      <td>None</td>\n",
       "      <td>NaN</td>\n",
       "      <td>NaN</td>\n",
       "      <td>NaN</td>\n",
       "      <td></td>\n",
       "    </tr>\n",
       "    <tr>\n",
       "      <td>2115438</td>\n",
       "      <td>2314837</td>\n",
       "      <td>B4</td>\n",
       "      <td>Male</td>\n",
       "      <td>Between 18 and 65 years</td>\n",
       "      <td>Age</td>\n",
       "      <td></td>\n",
       "      <td>Participants</td>\n",
       "      <td>Count of Participants</td>\n",
       "      <td>105</td>\n",
       "      <td>105.0</td>\n",
       "      <td></td>\n",
       "      <td>None</td>\n",
       "      <td>NaN</td>\n",
       "      <td>NaN</td>\n",
       "      <td>NaN</td>\n",
       "      <td></td>\n",
       "    </tr>\n",
       "    <tr>\n",
       "      <td>2115438</td>\n",
       "      <td>2314841</td>\n",
       "      <td>B4</td>\n",
       "      <td>Male</td>\n",
       "      <td>&lt;=18 years</td>\n",
       "      <td>Age</td>\n",
       "      <td></td>\n",
       "      <td>Participants</td>\n",
       "      <td>Count of Participants</td>\n",
       "      <td>0</td>\n",
       "      <td>0.0</td>\n",
       "      <td></td>\n",
       "      <td>None</td>\n",
       "      <td>NaN</td>\n",
       "      <td>NaN</td>\n",
       "      <td>NaN</td>\n",
       "      <td></td>\n",
       "    </tr>\n",
       "    <tr>\n",
       "      <td>2115439</td>\n",
       "      <td>2314834</td>\n",
       "      <td>B3</td>\n",
       "      <td>Male</td>\n",
       "      <td>&gt;=65 years</td>\n",
       "      <td>Age</td>\n",
       "      <td></td>\n",
       "      <td>Participants</td>\n",
       "      <td>Count of Participants</td>\n",
       "      <td>0</td>\n",
       "      <td>0.0</td>\n",
       "      <td></td>\n",
       "      <td>None</td>\n",
       "      <td>NaN</td>\n",
       "      <td>NaN</td>\n",
       "      <td>NaN</td>\n",
       "      <td></td>\n",
       "    </tr>\n",
       "    <tr>\n",
       "      <td>2115439</td>\n",
       "      <td>2314838</td>\n",
       "      <td>B3</td>\n",
       "      <td>Male</td>\n",
       "      <td>Between 18 and 65 years</td>\n",
       "      <td>Age</td>\n",
       "      <td></td>\n",
       "      <td>Participants</td>\n",
       "      <td>Count of Participants</td>\n",
       "      <td>35</td>\n",
       "      <td>35.0</td>\n",
       "      <td></td>\n",
       "      <td>None</td>\n",
       "      <td>NaN</td>\n",
       "      <td>NaN</td>\n",
       "      <td>NaN</td>\n",
       "      <td></td>\n",
       "    </tr>\n",
       "    <tr>\n",
       "      <td>2115439</td>\n",
       "      <td>2314842</td>\n",
       "      <td>B3</td>\n",
       "      <td>Male</td>\n",
       "      <td>&lt;=18 years</td>\n",
       "      <td>Age</td>\n",
       "      <td></td>\n",
       "      <td>Participants</td>\n",
       "      <td>Count of Participants</td>\n",
       "      <td>0</td>\n",
       "      <td>0.0</td>\n",
       "      <td></td>\n",
       "      <td>None</td>\n",
       "      <td>NaN</td>\n",
       "      <td>NaN</td>\n",
       "      <td>NaN</td>\n",
       "      <td></td>\n",
       "    </tr>\n",
       "    <tr>\n",
       "      <td>2115440</td>\n",
       "      <td>2314835</td>\n",
       "      <td>B2</td>\n",
       "      <td>Male</td>\n",
       "      <td>&gt;=65 years</td>\n",
       "      <td>Age</td>\n",
       "      <td></td>\n",
       "      <td>Participants</td>\n",
       "      <td>Count of Participants</td>\n",
       "      <td>0</td>\n",
       "      <td>0.0</td>\n",
       "      <td></td>\n",
       "      <td>None</td>\n",
       "      <td>NaN</td>\n",
       "      <td>NaN</td>\n",
       "      <td>NaN</td>\n",
       "      <td></td>\n",
       "    </tr>\n",
       "    <tr>\n",
       "      <td>2115440</td>\n",
       "      <td>2314839</td>\n",
       "      <td>B2</td>\n",
       "      <td>Male</td>\n",
       "      <td>Between 18 and 65 years</td>\n",
       "      <td>Age</td>\n",
       "      <td></td>\n",
       "      <td>Participants</td>\n",
       "      <td>Count of Participants</td>\n",
       "      <td>35</td>\n",
       "      <td>35.0</td>\n",
       "      <td></td>\n",
       "      <td>None</td>\n",
       "      <td>NaN</td>\n",
       "      <td>NaN</td>\n",
       "      <td>NaN</td>\n",
       "      <td></td>\n",
       "    </tr>\n",
       "    <tr>\n",
       "      <td>2115440</td>\n",
       "      <td>2314843</td>\n",
       "      <td>B2</td>\n",
       "      <td>Male</td>\n",
       "      <td>&lt;=18 years</td>\n",
       "      <td>Age</td>\n",
       "      <td></td>\n",
       "      <td>Participants</td>\n",
       "      <td>Count of Participants</td>\n",
       "      <td>0</td>\n",
       "      <td>0.0</td>\n",
       "      <td></td>\n",
       "      <td>None</td>\n",
       "      <td>NaN</td>\n",
       "      <td>NaN</td>\n",
       "      <td>NaN</td>\n",
       "      <td></td>\n",
       "    </tr>\n",
       "    <tr>\n",
       "      <td>2115441</td>\n",
       "      <td>2314836</td>\n",
       "      <td>B1</td>\n",
       "      <td>Male</td>\n",
       "      <td>&gt;=65 years</td>\n",
       "      <td>Age</td>\n",
       "      <td></td>\n",
       "      <td>Participants</td>\n",
       "      <td>Count of Participants</td>\n",
       "      <td>0</td>\n",
       "      <td>0.0</td>\n",
       "      <td></td>\n",
       "      <td>None</td>\n",
       "      <td>NaN</td>\n",
       "      <td>NaN</td>\n",
       "      <td>NaN</td>\n",
       "      <td></td>\n",
       "    </tr>\n",
       "    <tr>\n",
       "      <td>2115441</td>\n",
       "      <td>2314840</td>\n",
       "      <td>B1</td>\n",
       "      <td>Male</td>\n",
       "      <td>Between 18 and 65 years</td>\n",
       "      <td>Age</td>\n",
       "      <td></td>\n",
       "      <td>Participants</td>\n",
       "      <td>Count of Participants</td>\n",
       "      <td>35</td>\n",
       "      <td>35.0</td>\n",
       "      <td></td>\n",
       "      <td>None</td>\n",
       "      <td>NaN</td>\n",
       "      <td>NaN</td>\n",
       "      <td>NaN</td>\n",
       "      <td></td>\n",
       "    </tr>\n",
       "    <tr>\n",
       "      <td>2115441</td>\n",
       "      <td>2314844</td>\n",
       "      <td>B1</td>\n",
       "      <td>Male</td>\n",
       "      <td>&lt;=18 years</td>\n",
       "      <td>Age</td>\n",
       "      <td></td>\n",
       "      <td>Participants</td>\n",
       "      <td>Count of Participants</td>\n",
       "      <td>0</td>\n",
       "      <td>0.0</td>\n",
       "      <td></td>\n",
       "      <td>None</td>\n",
       "      <td>NaN</td>\n",
       "      <td>NaN</td>\n",
       "      <td>NaN</td>\n",
       "      <td></td>\n",
       "    </tr>\n",
       "  </tbody>\n",
       "</table>\n",
       "</div>"
      ],
      "text/plain": [
       "                                  id ctgov_group_code classification  \\\n",
       "nct_id      result_group_id                                            \n",
       "NCT01781806 2384509          2641670               B3           Male   \n",
       "            2384510          2641671               B2           Male   \n",
       "            2384511          2641672               B1           Male   \n",
       "NCT02844998 2115438          2314833               B4           Male   \n",
       "            2115438          2314837               B4           Male   \n",
       "            2115438          2314841               B4           Male   \n",
       "            2115439          2314834               B3           Male   \n",
       "            2115439          2314838               B3           Male   \n",
       "            2115439          2314842               B3           Male   \n",
       "            2115440          2314835               B2           Male   \n",
       "            2115440          2314839               B2           Male   \n",
       "            2115440          2314843               B2           Male   \n",
       "            2115441          2314836               B1           Male   \n",
       "            2115441          2314840               B1           Male   \n",
       "            2115441          2314844               B1           Male   \n",
       "\n",
       "                                            category                   title  \\\n",
       "nct_id      result_group_id                                                    \n",
       "NCT01781806 2384509                      Transfemale  Sex/Gender, Customized   \n",
       "            2384510                      Transfemale  Sex/Gender, Customized   \n",
       "            2384511                      Transfemale  Sex/Gender, Customized   \n",
       "NCT02844998 2115438                       >=65 years                     Age   \n",
       "            2115438          Between 18 and 65 years                     Age   \n",
       "            2115438                       <=18 years                     Age   \n",
       "            2115439                       >=65 years                     Age   \n",
       "            2115439          Between 18 and 65 years                     Age   \n",
       "            2115439                       <=18 years                     Age   \n",
       "            2115440                       >=65 years                     Age   \n",
       "            2115440          Between 18 and 65 years                     Age   \n",
       "            2115440                       <=18 years                     Age   \n",
       "            2115441                       >=65 years                     Age   \n",
       "            2115441          Between 18 and 65 years                     Age   \n",
       "            2115441                       <=18 years                     Age   \n",
       "\n",
       "                            description         units             param_type  \\\n",
       "nct_id      result_group_id                                                    \n",
       "NCT01781806 2384509                      Participants  Count of Participants   \n",
       "            2384510                      Participants  Count of Participants   \n",
       "            2384511                      Participants  Count of Participants   \n",
       "NCT02844998 2115438                      Participants  Count of Participants   \n",
       "            2115438                      Participants  Count of Participants   \n",
       "            2115438                      Participants  Count of Participants   \n",
       "            2115439                      Participants  Count of Participants   \n",
       "            2115439                      Participants  Count of Participants   \n",
       "            2115439                      Participants  Count of Participants   \n",
       "            2115440                      Participants  Count of Participants   \n",
       "            2115440                      Participants  Count of Participants   \n",
       "            2115440                      Participants  Count of Participants   \n",
       "            2115441                      Participants  Count of Participants   \n",
       "            2115441                      Participants  Count of Participants   \n",
       "            2115441                      Participants  Count of Participants   \n",
       "\n",
       "                            param_value  param_value_num dispersion_type  \\\n",
       "nct_id      result_group_id                                                \n",
       "NCT01781806 2384509                   1              1.0                   \n",
       "            2384510                   0              0.0                   \n",
       "            2384511                   1              1.0                   \n",
       "NCT02844998 2115438                   0              0.0                   \n",
       "            2115438                 105            105.0                   \n",
       "            2115438                   0              0.0                   \n",
       "            2115439                   0              0.0                   \n",
       "            2115439                  35             35.0                   \n",
       "            2115439                   0              0.0                   \n",
       "            2115440                   0              0.0                   \n",
       "            2115440                  35             35.0                   \n",
       "            2115440                   0              0.0                   \n",
       "            2115441                   0              0.0                   \n",
       "            2115441                  35             35.0                   \n",
       "            2115441                   0              0.0                   \n",
       "\n",
       "                            dispersion_value  dispersion_value_num  \\\n",
       "nct_id      result_group_id                                          \n",
       "NCT01781806 2384509                     None                   NaN   \n",
       "            2384510                     None                   NaN   \n",
       "            2384511                     None                   NaN   \n",
       "NCT02844998 2115438                     None                   NaN   \n",
       "            2115438                     None                   NaN   \n",
       "            2115438                     None                   NaN   \n",
       "            2115439                     None                   NaN   \n",
       "            2115439                     None                   NaN   \n",
       "            2115439                     None                   NaN   \n",
       "            2115440                     None                   NaN   \n",
       "            2115440                     None                   NaN   \n",
       "            2115440                     None                   NaN   \n",
       "            2115441                     None                   NaN   \n",
       "            2115441                     None                   NaN   \n",
       "            2115441                     None                   NaN   \n",
       "\n",
       "                             dispersion_lower_limit  dispersion_upper_limit  \\\n",
       "nct_id      result_group_id                                                   \n",
       "NCT01781806 2384509                             NaN                     NaN   \n",
       "            2384510                             NaN                     NaN   \n",
       "            2384511                             NaN                     NaN   \n",
       "NCT02844998 2115438                             NaN                     NaN   \n",
       "            2115438                             NaN                     NaN   \n",
       "            2115438                             NaN                     NaN   \n",
       "            2115439                             NaN                     NaN   \n",
       "            2115439                             NaN                     NaN   \n",
       "            2115439                             NaN                     NaN   \n",
       "            2115440                             NaN                     NaN   \n",
       "            2115440                             NaN                     NaN   \n",
       "            2115440                             NaN                     NaN   \n",
       "            2115441                             NaN                     NaN   \n",
       "            2115441                             NaN                     NaN   \n",
       "            2115441                             NaN                     NaN   \n",
       "\n",
       "                            explanation_of_na  \n",
       "nct_id      result_group_id                    \n",
       "NCT01781806 2384509                            \n",
       "            2384510                            \n",
       "            2384511                            \n",
       "NCT02844998 2115438                            \n",
       "            2115438                            \n",
       "            2115438                            \n",
       "            2115439                            \n",
       "            2115439                            \n",
       "            2115439                            \n",
       "            2115440                            \n",
       "            2115440                            \n",
       "            2115440                            \n",
       "            2115441                            \n",
       "            2115441                            \n",
       "            2115441                            "
      ]
     },
     "execution_count": 185,
     "metadata": {},
     "output_type": "execute_result"
    }
   ],
   "source": [
    "cur_to_investigate = used_dfc.groupby('category').size().sort_values(ascending=False)[3:].index\n",
    "used_dfc[used_dfc['category'].isin(cur_to_investigate)]"
   ]
  },
  {
   "cell_type": "markdown",
   "metadata": {},
   "source": [
    "### looks like this is only 2 studies, one is on transgender and the other is male only so we can exclude from our balance analysis"
   ]
  },
  {
   "cell_type": "code",
   "execution_count": 187,
   "metadata": {},
   "outputs": [
    {
     "data": {
      "text/plain": [
       "array(['Male', 'Female', 'male', 'female', 'MALE', 'FEMALE'], dtype=object)"
      ]
     },
     "execution_count": 187,
     "metadata": {},
     "output_type": "execute_result"
    }
   ],
   "source": [
    "used_dfcat['category'].unique()"
   ]
  },
  {
   "cell_type": "code",
   "execution_count": 188,
   "metadata": {},
   "outputs": [
    {
     "data": {
      "text/plain": [
       "classification\n",
       "                           214362\n",
       "Part 2                         60\n",
       "Sex                            58\n",
       "Gender                         46\n",
       "Part A                         34\n",
       "                            ...  \n",
       "Full analysis set (FAS)         2\n",
       "GIST                            2\n",
       "BiRD Phase                      2\n",
       "Baseline Period Sex             2\n",
       "Neuro-typical                   2\n",
       "Length: 147, dtype: int64"
      ]
     },
     "execution_count": 188,
     "metadata": {},
     "output_type": "execute_result"
    }
   ],
   "source": [
    "used_dfcat.groupby('classification').size().sort_values(ascending=False)"
   ]
  },
  {
   "cell_type": "code",
   "execution_count": 189,
   "metadata": {},
   "outputs": [
    {
     "data": {
      "text/plain": [
       "classification\n",
       "                           0.994793\n",
       "Part 2                     0.000278\n",
       "Sex                        0.000269\n",
       "Gender                     0.000213\n",
       "Part A                     0.000158\n",
       "                             ...   \n",
       "Full analysis set (FAS)    0.000009\n",
       "GIST                       0.000009\n",
       "BiRD Phase                 0.000009\n",
       "Baseline Period Sex        0.000009\n",
       "Neuro-typical              0.000009\n",
       "Length: 147, dtype: float64"
      ]
     },
     "execution_count": 189,
     "metadata": {},
     "output_type": "execute_result"
    }
   ],
   "source": [
    "used_dfcat.groupby('classification').size().sort_values(ascending=False) / used_dfcat.shape[0]"
   ]
  },
  {
   "cell_type": "markdown",
   "metadata": {},
   "source": [
    "##### This one looks like there is more crosses, but most of it still has '' - for simplicity let's just take the null studies"
   ]
  },
  {
   "cell_type": "code",
   "execution_count": 191,
   "metadata": {},
   "outputs": [
    {
     "data": {
      "text/plain": [
       "(3849, 16)"
      ]
     },
     "execution_count": 191,
     "metadata": {},
     "output_type": "execute_result"
    }
   ],
   "source": [
    "used_dfc_final = used_dfc[used_dfc['category'] == '']\n",
    "used_dfc_final.shape"
   ]
  },
  {
   "cell_type": "code",
   "execution_count": 192,
   "metadata": {},
   "outputs": [
    {
     "data": {
      "text/plain": [
       "(214362, 16)"
      ]
     },
     "execution_count": 192,
     "metadata": {},
     "output_type": "execute_result"
    }
   ],
   "source": [
    "used_dfcat_final = used_dfcat[used_dfcat['classification'] == '']\n",
    "used_dfcat_final.shape"
   ]
  },
  {
   "cell_type": "markdown",
   "metadata": {},
   "source": [
    "### what about the overlap between the two sets?"
   ]
  },
  {
   "cell_type": "code",
   "execution_count": 197,
   "metadata": {},
   "outputs": [],
   "source": [
    "i1 = used_dfc_final.index.get_level_values(0).unique()\n",
    "i2 = used_dfcat_final.index.get_level_values(0).unique()"
   ]
  },
  {
   "cell_type": "code",
   "execution_count": 198,
   "metadata": {},
   "outputs": [
    {
     "data": {
      "text/plain": [
       "(680, 37278, 38198)"
      ]
     },
     "execution_count": 198,
     "metadata": {},
     "output_type": "execute_result"
    }
   ],
   "source": [
    "len(i1), len(i2), bm_all"
   ]
  },
  {
   "cell_type": "code",
   "execution_count": 199,
   "metadata": {},
   "outputs": [
    {
     "data": {
      "text/plain": [
       "42"
      ]
     },
     "execution_count": 199,
     "metadata": {},
     "output_type": "execute_result"
    }
   ],
   "source": [
    "len_overlap = len([x for x in i1 if x in i2])\n",
    "len_overlap"
   ]
  },
  {
   "cell_type": "code",
   "execution_count": 200,
   "metadata": {},
   "outputs": [
    {
     "data": {
      "text/plain": [
       "['NCT00095303', 'NCT00247611', 'NCT00284089', 'NCT00287469', 'NCT00340834']"
      ]
     },
     "execution_count": 200,
     "metadata": {},
     "output_type": "execute_result"
    }
   ],
   "source": [
    "overlap_nctids = [x for x in i1 if x in i2]\n",
    "overlap_nctids[:5]"
   ]
  },
  {
   "cell_type": "markdown",
   "metadata": {},
   "source": [
    "Looks like 44 studies can be identified both ways"
   ]
  },
  {
   "cell_type": "code",
   "execution_count": 201,
   "metadata": {},
   "outputs": [
    {
     "data": {
      "text/plain": [
       "0.9926174145243206"
      ]
     },
     "execution_count": 201,
     "metadata": {},
     "output_type": "execute_result"
    }
   ],
   "source": [
    "(len(i1) + len(i2) - len_overlap) / bm_all"
   ]
  },
  {
   "cell_type": "markdown",
   "metadata": {},
   "source": [
    "##### we can cover 99.3% of our studies with baseline measurements just using these 2 ways of identifying gender - this is good enough"
   ]
  },
  {
   "cell_type": "code",
   "execution_count": 230,
   "metadata": {},
   "outputs": [
    {
     "data": {
      "text/plain": [
       "('NCT00002525', 'NCT00000125')"
      ]
     },
     "execution_count": 230,
     "metadata": {},
     "output_type": "execute_result"
    }
   ],
   "source": [
    "used_dfc_final.index[2][0], used_dfcat_final.index[0][0]"
   ]
  },
  {
   "cell_type": "code",
   "execution_count": 231,
   "metadata": {},
   "outputs": [
    {
     "data": {
      "text/html": [
       "<div>\n",
       "<style scoped>\n",
       "    .dataframe tbody tr th:only-of-type {\n",
       "        vertical-align: middle;\n",
       "    }\n",
       "\n",
       "    .dataframe tbody tr th {\n",
       "        vertical-align: top;\n",
       "    }\n",
       "\n",
       "    .dataframe thead th {\n",
       "        text-align: right;\n",
       "    }\n",
       "</style>\n",
       "<table border=\"1\" class=\"dataframe\">\n",
       "  <thead>\n",
       "    <tr style=\"text-align: right;\">\n",
       "      <th></th>\n",
       "      <th>id</th>\n",
       "      <th>ctgov_group_code</th>\n",
       "      <th>classification</th>\n",
       "      <th>category</th>\n",
       "      <th>title</th>\n",
       "      <th>description</th>\n",
       "      <th>units</th>\n",
       "      <th>param_type</th>\n",
       "      <th>param_value</th>\n",
       "      <th>param_value_num</th>\n",
       "      <th>dispersion_type</th>\n",
       "      <th>dispersion_value</th>\n",
       "      <th>dispersion_value_num</th>\n",
       "      <th>dispersion_lower_limit</th>\n",
       "      <th>dispersion_upper_limit</th>\n",
       "      <th>explanation_of_na</th>\n",
       "    </tr>\n",
       "    <tr>\n",
       "      <th>result_group_id</th>\n",
       "      <th></th>\n",
       "      <th></th>\n",
       "      <th></th>\n",
       "      <th></th>\n",
       "      <th></th>\n",
       "      <th></th>\n",
       "      <th></th>\n",
       "      <th></th>\n",
       "      <th></th>\n",
       "      <th></th>\n",
       "      <th></th>\n",
       "      <th></th>\n",
       "      <th></th>\n",
       "      <th></th>\n",
       "      <th></th>\n",
       "      <th></th>\n",
       "    </tr>\n",
       "  </thead>\n",
       "  <tbody>\n",
       "    <tr>\n",
       "      <td>3077994</td>\n",
       "      <td>3350816</td>\n",
       "      <td>B3</td>\n",
       "      <td>Male</td>\n",
       "      <td></td>\n",
       "      <td>Gender</td>\n",
       "      <td>1 patient on \"No perioperative 5-FU arm\" had m...</td>\n",
       "      <td>participants</td>\n",
       "      <td>Number</td>\n",
       "      <td>195</td>\n",
       "      <td>195.0</td>\n",
       "      <td></td>\n",
       "      <td>None</td>\n",
       "      <td>NaN</td>\n",
       "      <td>NaN</td>\n",
       "      <td>NaN</td>\n",
       "      <td></td>\n",
       "    </tr>\n",
       "    <tr>\n",
       "      <td>3077994</td>\n",
       "      <td>3350819</td>\n",
       "      <td>B3</td>\n",
       "      <td>Female</td>\n",
       "      <td></td>\n",
       "      <td>Gender</td>\n",
       "      <td>1 patient on \"No perioperative 5-FU arm\" had m...</td>\n",
       "      <td>participants</td>\n",
       "      <td>Number</td>\n",
       "      <td>118</td>\n",
       "      <td>118.0</td>\n",
       "      <td></td>\n",
       "      <td>None</td>\n",
       "      <td>NaN</td>\n",
       "      <td>NaN</td>\n",
       "      <td>NaN</td>\n",
       "      <td></td>\n",
       "    </tr>\n",
       "    <tr>\n",
       "      <td>3077995</td>\n",
       "      <td>3350817</td>\n",
       "      <td>B2</td>\n",
       "      <td>Male</td>\n",
       "      <td></td>\n",
       "      <td>Gender</td>\n",
       "      <td>1 patient on \"No perioperative 5-FU arm\" had m...</td>\n",
       "      <td>participants</td>\n",
       "      <td>Number</td>\n",
       "      <td>96</td>\n",
       "      <td>96.0</td>\n",
       "      <td></td>\n",
       "      <td>None</td>\n",
       "      <td>NaN</td>\n",
       "      <td>NaN</td>\n",
       "      <td>NaN</td>\n",
       "      <td></td>\n",
       "    </tr>\n",
       "    <tr>\n",
       "      <td>3077995</td>\n",
       "      <td>3350820</td>\n",
       "      <td>B2</td>\n",
       "      <td>Female</td>\n",
       "      <td></td>\n",
       "      <td>Gender</td>\n",
       "      <td>1 patient on \"No perioperative 5-FU arm\" had m...</td>\n",
       "      <td>participants</td>\n",
       "      <td>Number</td>\n",
       "      <td>61</td>\n",
       "      <td>61.0</td>\n",
       "      <td></td>\n",
       "      <td>None</td>\n",
       "      <td>NaN</td>\n",
       "      <td>NaN</td>\n",
       "      <td>NaN</td>\n",
       "      <td></td>\n",
       "    </tr>\n",
       "    <tr>\n",
       "      <td>3077996</td>\n",
       "      <td>3350818</td>\n",
       "      <td>B1</td>\n",
       "      <td>Male</td>\n",
       "      <td></td>\n",
       "      <td>Gender</td>\n",
       "      <td>1 patient on \"No perioperative 5-FU arm\" had m...</td>\n",
       "      <td>participants</td>\n",
       "      <td>Number</td>\n",
       "      <td>99</td>\n",
       "      <td>99.0</td>\n",
       "      <td></td>\n",
       "      <td>None</td>\n",
       "      <td>NaN</td>\n",
       "      <td>NaN</td>\n",
       "      <td>NaN</td>\n",
       "      <td></td>\n",
       "    </tr>\n",
       "    <tr>\n",
       "      <td>3077996</td>\n",
       "      <td>3350821</td>\n",
       "      <td>B1</td>\n",
       "      <td>Female</td>\n",
       "      <td></td>\n",
       "      <td>Gender</td>\n",
       "      <td>1 patient on \"No perioperative 5-FU arm\" had m...</td>\n",
       "      <td>participants</td>\n",
       "      <td>Number</td>\n",
       "      <td>57</td>\n",
       "      <td>57.0</td>\n",
       "      <td></td>\n",
       "      <td>None</td>\n",
       "      <td>NaN</td>\n",
       "      <td>NaN</td>\n",
       "      <td>NaN</td>\n",
       "      <td></td>\n",
       "    </tr>\n",
       "  </tbody>\n",
       "</table>\n",
       "</div>"
      ],
      "text/plain": [
       "                      id ctgov_group_code classification category   title  \\\n",
       "result_group_id                                                             \n",
       "3077994          3350816               B3           Male           Gender   \n",
       "3077994          3350819               B3         Female           Gender   \n",
       "3077995          3350817               B2           Male           Gender   \n",
       "3077995          3350820               B2         Female           Gender   \n",
       "3077996          3350818               B1           Male           Gender   \n",
       "3077996          3350821               B1         Female           Gender   \n",
       "\n",
       "                                                       description  \\\n",
       "result_group_id                                                      \n",
       "3077994          1 patient on \"No perioperative 5-FU arm\" had m...   \n",
       "3077994          1 patient on \"No perioperative 5-FU arm\" had m...   \n",
       "3077995          1 patient on \"No perioperative 5-FU arm\" had m...   \n",
       "3077995          1 patient on \"No perioperative 5-FU arm\" had m...   \n",
       "3077996          1 patient on \"No perioperative 5-FU arm\" had m...   \n",
       "3077996          1 patient on \"No perioperative 5-FU arm\" had m...   \n",
       "\n",
       "                        units param_type param_value  param_value_num  \\\n",
       "result_group_id                                                         \n",
       "3077994          participants     Number         195            195.0   \n",
       "3077994          participants     Number         118            118.0   \n",
       "3077995          participants     Number          96             96.0   \n",
       "3077995          participants     Number          61             61.0   \n",
       "3077996          participants     Number          99             99.0   \n",
       "3077996          participants     Number          57             57.0   \n",
       "\n",
       "                dispersion_type dispersion_value  dispersion_value_num  \\\n",
       "result_group_id                                                          \n",
       "3077994                                     None                   NaN   \n",
       "3077994                                     None                   NaN   \n",
       "3077995                                     None                   NaN   \n",
       "3077995                                     None                   NaN   \n",
       "3077996                                     None                   NaN   \n",
       "3077996                                     None                   NaN   \n",
       "\n",
       "                 dispersion_lower_limit  dispersion_upper_limit  \\\n",
       "result_group_id                                                   \n",
       "3077994                             NaN                     NaN   \n",
       "3077994                             NaN                     NaN   \n",
       "3077995                             NaN                     NaN   \n",
       "3077995                             NaN                     NaN   \n",
       "3077996                             NaN                     NaN   \n",
       "3077996                             NaN                     NaN   \n",
       "\n",
       "                explanation_of_na  \n",
       "result_group_id                    \n",
       "3077994                            \n",
       "3077994                            \n",
       "3077995                            \n",
       "3077995                            \n",
       "3077996                            \n",
       "3077996                            "
      ]
     },
     "execution_count": 231,
     "metadata": {},
     "output_type": "execute_result"
    }
   ],
   "source": [
    "used_dfc_final.loc['NCT00002525']"
   ]
  },
  {
   "cell_type": "code",
   "execution_count": 236,
   "metadata": {},
   "outputs": [
    {
     "data": {
      "text/html": [
       "<div>\n",
       "<style scoped>\n",
       "    .dataframe tbody tr th:only-of-type {\n",
       "        vertical-align: middle;\n",
       "    }\n",
       "\n",
       "    .dataframe tbody tr th {\n",
       "        vertical-align: top;\n",
       "    }\n",
       "\n",
       "    .dataframe thead th {\n",
       "        text-align: right;\n",
       "    }\n",
       "</style>\n",
       "<table border=\"1\" class=\"dataframe\">\n",
       "  <thead>\n",
       "    <tr style=\"text-align: right;\">\n",
       "      <th></th>\n",
       "      <th>id</th>\n",
       "      <th>ctgov_group_code</th>\n",
       "      <th>result_type</th>\n",
       "      <th>title</th>\n",
       "      <th>description</th>\n",
       "    </tr>\n",
       "    <tr>\n",
       "      <th>nct_id</th>\n",
       "      <th></th>\n",
       "      <th></th>\n",
       "      <th></th>\n",
       "      <th></th>\n",
       "      <th></th>\n",
       "    </tr>\n",
       "  </thead>\n",
       "  <tbody>\n",
       "    <tr>\n",
       "      <td>NCT00002525</td>\n",
       "      <td>3077994</td>\n",
       "      <td>B3</td>\n",
       "      <td>Baseline</td>\n",
       "      <td>Total</td>\n",
       "      <td>Total of all reporting groups</td>\n",
       "    </tr>\n",
       "    <tr>\n",
       "      <td>NCT00002525</td>\n",
       "      <td>3077995</td>\n",
       "      <td>B2</td>\n",
       "      <td>Baseline</td>\n",
       "      <td>No Perioperative 5-FU</td>\n",
       "      <td>Patients receive no perioperative fluorouracil...</td>\n",
       "    </tr>\n",
       "    <tr>\n",
       "      <td>NCT00002525</td>\n",
       "      <td>3077996</td>\n",
       "      <td>B1</td>\n",
       "      <td>Baseline</td>\n",
       "      <td>Perioperative 5-FU</td>\n",
       "      <td>Within 24 hours of the colon resection, patien...</td>\n",
       "    </tr>\n",
       "    <tr>\n",
       "      <td>NCT00002525</td>\n",
       "      <td>3077997</td>\n",
       "      <td>P2</td>\n",
       "      <td>Participant Flow</td>\n",
       "      <td>No Perioperative 5-FU</td>\n",
       "      <td>Patients receive no perioperative fluorouracil...</td>\n",
       "    </tr>\n",
       "    <tr>\n",
       "      <td>NCT00002525</td>\n",
       "      <td>3077998</td>\n",
       "      <td>P1</td>\n",
       "      <td>Participant Flow</td>\n",
       "      <td>Perioperative 5-FU</td>\n",
       "      <td>Within 24 hours of the colon resection, patien...</td>\n",
       "    </tr>\n",
       "    <tr>\n",
       "      <td>NCT00002525</td>\n",
       "      <td>3077999</td>\n",
       "      <td>O2</td>\n",
       "      <td>Outcome</td>\n",
       "      <td>No Perioperative 5-FU</td>\n",
       "      <td>Patients receive no perioperative fluorouracil...</td>\n",
       "    </tr>\n",
       "    <tr>\n",
       "      <td>NCT00002525</td>\n",
       "      <td>3078000</td>\n",
       "      <td>O1</td>\n",
       "      <td>Outcome</td>\n",
       "      <td>Perioperative 5-FU</td>\n",
       "      <td>Within 24 hours of the colon resection, patien...</td>\n",
       "    </tr>\n",
       "    <tr>\n",
       "      <td>NCT00002525</td>\n",
       "      <td>3078001</td>\n",
       "      <td>O2</td>\n",
       "      <td>Outcome</td>\n",
       "      <td>No Perioperative 5-FU</td>\n",
       "      <td>Patients receive no perioperative fluorouracil...</td>\n",
       "    </tr>\n",
       "    <tr>\n",
       "      <td>NCT00002525</td>\n",
       "      <td>3078002</td>\n",
       "      <td>O1</td>\n",
       "      <td>Outcome</td>\n",
       "      <td>Perioperative 5-FU</td>\n",
       "      <td>Within 24 hours of the colon resection, patien...</td>\n",
       "    </tr>\n",
       "    <tr>\n",
       "      <td>NCT00002525</td>\n",
       "      <td>3078003</td>\n",
       "      <td>O2</td>\n",
       "      <td>Outcome</td>\n",
       "      <td>No Perioperative 5-FU</td>\n",
       "      <td>Patients receive no perioperative fluorouracil...</td>\n",
       "    </tr>\n",
       "    <tr>\n",
       "      <td>NCT00002525</td>\n",
       "      <td>3078004</td>\n",
       "      <td>O1</td>\n",
       "      <td>Outcome</td>\n",
       "      <td>Perioperative 5-FU</td>\n",
       "      <td>Within 24 hours of the colon resection, patien...</td>\n",
       "    </tr>\n",
       "    <tr>\n",
       "      <td>NCT00002525</td>\n",
       "      <td>3078005</td>\n",
       "      <td>O2</td>\n",
       "      <td>Outcome</td>\n",
       "      <td>No Perioperative 5-FU</td>\n",
       "      <td>Patients receive no perioperative fluorouracil...</td>\n",
       "    </tr>\n",
       "    <tr>\n",
       "      <td>NCT00002525</td>\n",
       "      <td>3078006</td>\n",
       "      <td>O1</td>\n",
       "      <td>Outcome</td>\n",
       "      <td>Perioperative 5-FU</td>\n",
       "      <td>Within 24 hours of the colon resection, patien...</td>\n",
       "    </tr>\n",
       "    <tr>\n",
       "      <td>NCT00002525</td>\n",
       "      <td>3078007</td>\n",
       "      <td>E4</td>\n",
       "      <td>Reported Event</td>\n",
       "      <td>Adjuvant Chemotherapy-- 5-FU+Leucovovin</td>\n",
       "      <td>After surgery, patients with stage IIC or III ...</td>\n",
       "    </tr>\n",
       "    <tr>\n",
       "      <td>NCT00002525</td>\n",
       "      <td>3078008</td>\n",
       "      <td>E3</td>\n",
       "      <td>Reported Event</td>\n",
       "      <td>Adjuvant Chemotherapy-- 5-FU+Levamisolem</td>\n",
       "      <td>Beginning 21-35 days after surgery, patients w...</td>\n",
       "    </tr>\n",
       "    <tr>\n",
       "      <td>NCT00002525</td>\n",
       "      <td>3078009</td>\n",
       "      <td>E2</td>\n",
       "      <td>Reported Event</td>\n",
       "      <td>Arm II (No Perioperative 5-FU)</td>\n",
       "      <td>Patients receive no perioperative fluorouracil...</td>\n",
       "    </tr>\n",
       "    <tr>\n",
       "      <td>NCT00002525</td>\n",
       "      <td>3078010</td>\n",
       "      <td>E1</td>\n",
       "      <td>Reported Event</td>\n",
       "      <td>Arm I (Perioperative 5-FU)</td>\n",
       "      <td>Within 24 hours of the colon resection, patien...</td>\n",
       "    </tr>\n",
       "  </tbody>\n",
       "</table>\n",
       "</div>"
      ],
      "text/plain": [
       "                  id ctgov_group_code       result_type  \\\n",
       "nct_id                                                    \n",
       "NCT00002525  3077994               B3          Baseline   \n",
       "NCT00002525  3077995               B2          Baseline   \n",
       "NCT00002525  3077996               B1          Baseline   \n",
       "NCT00002525  3077997               P2  Participant Flow   \n",
       "NCT00002525  3077998               P1  Participant Flow   \n",
       "NCT00002525  3077999               O2           Outcome   \n",
       "NCT00002525  3078000               O1           Outcome   \n",
       "NCT00002525  3078001               O2           Outcome   \n",
       "NCT00002525  3078002               O1           Outcome   \n",
       "NCT00002525  3078003               O2           Outcome   \n",
       "NCT00002525  3078004               O1           Outcome   \n",
       "NCT00002525  3078005               O2           Outcome   \n",
       "NCT00002525  3078006               O1           Outcome   \n",
       "NCT00002525  3078007               E4    Reported Event   \n",
       "NCT00002525  3078008               E3    Reported Event   \n",
       "NCT00002525  3078009               E2    Reported Event   \n",
       "NCT00002525  3078010               E1    Reported Event   \n",
       "\n",
       "                                                title  \\\n",
       "nct_id                                                  \n",
       "NCT00002525                                     Total   \n",
       "NCT00002525                     No Perioperative 5-FU   \n",
       "NCT00002525                        Perioperative 5-FU   \n",
       "NCT00002525                     No Perioperative 5-FU   \n",
       "NCT00002525                        Perioperative 5-FU   \n",
       "NCT00002525                     No Perioperative 5-FU   \n",
       "NCT00002525                        Perioperative 5-FU   \n",
       "NCT00002525                     No Perioperative 5-FU   \n",
       "NCT00002525                        Perioperative 5-FU   \n",
       "NCT00002525                     No Perioperative 5-FU   \n",
       "NCT00002525                        Perioperative 5-FU   \n",
       "NCT00002525                     No Perioperative 5-FU   \n",
       "NCT00002525                        Perioperative 5-FU   \n",
       "NCT00002525   Adjuvant Chemotherapy-- 5-FU+Leucovovin   \n",
       "NCT00002525  Adjuvant Chemotherapy-- 5-FU+Levamisolem   \n",
       "NCT00002525            Arm II (No Perioperative 5-FU)   \n",
       "NCT00002525                Arm I (Perioperative 5-FU)   \n",
       "\n",
       "                                                   description  \n",
       "nct_id                                                          \n",
       "NCT00002525                      Total of all reporting groups  \n",
       "NCT00002525  Patients receive no perioperative fluorouracil...  \n",
       "NCT00002525  Within 24 hours of the colon resection, patien...  \n",
       "NCT00002525  Patients receive no perioperative fluorouracil...  \n",
       "NCT00002525  Within 24 hours of the colon resection, patien...  \n",
       "NCT00002525  Patients receive no perioperative fluorouracil...  \n",
       "NCT00002525  Within 24 hours of the colon resection, patien...  \n",
       "NCT00002525  Patients receive no perioperative fluorouracil...  \n",
       "NCT00002525  Within 24 hours of the colon resection, patien...  \n",
       "NCT00002525  Patients receive no perioperative fluorouracil...  \n",
       "NCT00002525  Within 24 hours of the colon resection, patien...  \n",
       "NCT00002525  Patients receive no perioperative fluorouracil...  \n",
       "NCT00002525  Within 24 hours of the colon resection, patien...  \n",
       "NCT00002525  After surgery, patients with stage IIC or III ...  \n",
       "NCT00002525  Beginning 21-35 days after surgery, patients w...  \n",
       "NCT00002525  Patients receive no perioperative fluorouracil...  \n",
       "NCT00002525  Within 24 hours of the colon resection, patien...  "
      ]
     },
     "execution_count": 236,
     "metadata": {},
     "output_type": "execute_result"
    }
   ],
   "source": [
    "rg.loc['NCT00002525']"
   ]
  },
  {
   "cell_type": "markdown",
   "metadata": {},
   "source": [
    "### let's build the gender information df using these 2 methods"
   ]
  },
  {
   "cell_type": "code",
   "execution_count": 202,
   "metadata": {},
   "outputs": [
    {
     "data": {
      "text/plain": [
       "(218211, 16)"
      ]
     },
     "execution_count": 202,
     "metadata": {},
     "output_type": "execute_result"
    }
   ],
   "source": [
    "used_df_both = pd.concat([used_dfc_final, used_dfcat_final])\n",
    "used_df_both.shape"
   ]
  },
  {
   "cell_type": "code",
   "execution_count": 207,
   "metadata": {},
   "outputs": [
    {
     "data": {
      "text/plain": [
       "array(['Male', 'Female', 'male', 'Males', 'Females', 'female', 'FEMALE',\n",
       "       'MALE', 'females', 'males', ''], dtype=object)"
      ]
     },
     "execution_count": 207,
     "metadata": {},
     "output_type": "execute_result"
    }
   ],
   "source": [
    "used_df_both['classification'].unique()"
   ]
  },
  {
   "cell_type": "code",
   "execution_count": 209,
   "metadata": {},
   "outputs": [
    {
     "data": {
      "text/plain": [
       "['female', 'male', 'females', 'males']"
      ]
     },
     "execution_count": 209,
     "metadata": {},
     "output_type": "execute_result"
    }
   ],
   "source": [
    "used_classes"
   ]
  },
  {
   "cell_type": "code",
   "execution_count": 208,
   "metadata": {},
   "outputs": [
    {
     "data": {
      "text/plain": [
       "array(['', 'Male', 'Female', 'male', 'female', 'MALE', 'FEMALE'],\n",
       "      dtype=object)"
      ]
     },
     "execution_count": 208,
     "metadata": {},
     "output_type": "execute_result"
    }
   ],
   "source": [
    "used_df_both['category'].unique()"
   ]
  },
  {
   "cell_type": "code",
   "execution_count": 210,
   "metadata": {},
   "outputs": [
    {
     "data": {
      "text/plain": [
       "['male', 'female']"
      ]
     },
     "execution_count": 210,
     "metadata": {},
     "output_type": "execute_result"
    }
   ],
   "source": [
    "used_cats"
   ]
  },
  {
   "cell_type": "code",
   "execution_count": 215,
   "metadata": {},
   "outputs": [],
   "source": [
    "def is_male(row):\n",
    "    cur_class = row['classification']\n",
    "    cur_cat = row['category']\n",
    "    if 'female' in cur_class.lower() or 'female' in cur_cat.lower():\n",
    "        return False\n",
    "    return True"
   ]
  },
  {
   "cell_type": "code",
   "execution_count": 217,
   "metadata": {},
   "outputs": [],
   "source": [
    "used_df_both['is_male'] = used_df_both.apply(is_male, axis=1)"
   ]
  },
  {
   "cell_type": "code",
   "execution_count": 218,
   "metadata": {},
   "outputs": [
    {
     "data": {
      "text/html": [
       "<div>\n",
       "<style scoped>\n",
       "    .dataframe tbody tr th:only-of-type {\n",
       "        vertical-align: middle;\n",
       "    }\n",
       "\n",
       "    .dataframe tbody tr th {\n",
       "        vertical-align: top;\n",
       "    }\n",
       "\n",
       "    .dataframe thead th {\n",
       "        text-align: right;\n",
       "    }\n",
       "</style>\n",
       "<table border=\"1\" class=\"dataframe\">\n",
       "  <thead>\n",
       "    <tr style=\"text-align: right;\">\n",
       "      <th></th>\n",
       "      <th></th>\n",
       "      <th>id</th>\n",
       "      <th>ctgov_group_code</th>\n",
       "      <th>classification</th>\n",
       "      <th>category</th>\n",
       "      <th>title</th>\n",
       "      <th>description</th>\n",
       "      <th>units</th>\n",
       "      <th>param_type</th>\n",
       "      <th>param_value</th>\n",
       "      <th>param_value_num</th>\n",
       "      <th>dispersion_type</th>\n",
       "      <th>dispersion_value</th>\n",
       "      <th>dispersion_value_num</th>\n",
       "      <th>dispersion_lower_limit</th>\n",
       "      <th>dispersion_upper_limit</th>\n",
       "      <th>explanation_of_na</th>\n",
       "      <th>is_male</th>\n",
       "    </tr>\n",
       "    <tr>\n",
       "      <th>nct_id</th>\n",
       "      <th>result_group_id</th>\n",
       "      <th></th>\n",
       "      <th></th>\n",
       "      <th></th>\n",
       "      <th></th>\n",
       "      <th></th>\n",
       "      <th></th>\n",
       "      <th></th>\n",
       "      <th></th>\n",
       "      <th></th>\n",
       "      <th></th>\n",
       "      <th></th>\n",
       "      <th></th>\n",
       "      <th></th>\n",
       "      <th></th>\n",
       "      <th></th>\n",
       "      <th></th>\n",
       "      <th></th>\n",
       "    </tr>\n",
       "  </thead>\n",
       "  <tbody>\n",
       "    <tr>\n",
       "      <td rowspan=\"2\" valign=\"top\">NCT00001213</td>\n",
       "      <td>3090179</td>\n",
       "      <td>3367810</td>\n",
       "      <td>B1</td>\n",
       "      <td>Male</td>\n",
       "      <td></td>\n",
       "      <td>Gender</td>\n",
       "      <td>Gender was captured for 326 out of 328 partici...</td>\n",
       "      <td>participants</td>\n",
       "      <td>Number</td>\n",
       "      <td>173</td>\n",
       "      <td>173.0</td>\n",
       "      <td></td>\n",
       "      <td>None</td>\n",
       "      <td>NaN</td>\n",
       "      <td>NaN</td>\n",
       "      <td>NaN</td>\n",
       "      <td></td>\n",
       "      <td>True</td>\n",
       "    </tr>\n",
       "    <tr>\n",
       "      <td>3090179</td>\n",
       "      <td>3367811</td>\n",
       "      <td>B1</td>\n",
       "      <td>Female</td>\n",
       "      <td></td>\n",
       "      <td>Gender</td>\n",
       "      <td>Gender was captured for 326 out of 328 partici...</td>\n",
       "      <td>participants</td>\n",
       "      <td>Number</td>\n",
       "      <td>153</td>\n",
       "      <td>153.0</td>\n",
       "      <td></td>\n",
       "      <td>None</td>\n",
       "      <td>NaN</td>\n",
       "      <td>NaN</td>\n",
       "      <td>NaN</td>\n",
       "      <td></td>\n",
       "      <td>False</td>\n",
       "    </tr>\n",
       "    <tr>\n",
       "      <td rowspan=\"3\" valign=\"top\">NCT00002525</td>\n",
       "      <td>3077994</td>\n",
       "      <td>3350816</td>\n",
       "      <td>B3</td>\n",
       "      <td>Male</td>\n",
       "      <td></td>\n",
       "      <td>Gender</td>\n",
       "      <td>1 patient on \"No perioperative 5-FU arm\" had m...</td>\n",
       "      <td>participants</td>\n",
       "      <td>Number</td>\n",
       "      <td>195</td>\n",
       "      <td>195.0</td>\n",
       "      <td></td>\n",
       "      <td>None</td>\n",
       "      <td>NaN</td>\n",
       "      <td>NaN</td>\n",
       "      <td>NaN</td>\n",
       "      <td></td>\n",
       "      <td>True</td>\n",
       "    </tr>\n",
       "    <tr>\n",
       "      <td>3077994</td>\n",
       "      <td>3350819</td>\n",
       "      <td>B3</td>\n",
       "      <td>Female</td>\n",
       "      <td></td>\n",
       "      <td>Gender</td>\n",
       "      <td>1 patient on \"No perioperative 5-FU arm\" had m...</td>\n",
       "      <td>participants</td>\n",
       "      <td>Number</td>\n",
       "      <td>118</td>\n",
       "      <td>118.0</td>\n",
       "      <td></td>\n",
       "      <td>None</td>\n",
       "      <td>NaN</td>\n",
       "      <td>NaN</td>\n",
       "      <td>NaN</td>\n",
       "      <td></td>\n",
       "      <td>False</td>\n",
       "    </tr>\n",
       "    <tr>\n",
       "      <td>3077995</td>\n",
       "      <td>3350817</td>\n",
       "      <td>B2</td>\n",
       "      <td>Male</td>\n",
       "      <td></td>\n",
       "      <td>Gender</td>\n",
       "      <td>1 patient on \"No perioperative 5-FU arm\" had m...</td>\n",
       "      <td>participants</td>\n",
       "      <td>Number</td>\n",
       "      <td>96</td>\n",
       "      <td>96.0</td>\n",
       "      <td></td>\n",
       "      <td>None</td>\n",
       "      <td>NaN</td>\n",
       "      <td>NaN</td>\n",
       "      <td>NaN</td>\n",
       "      <td></td>\n",
       "      <td>True</td>\n",
       "    </tr>\n",
       "  </tbody>\n",
       "</table>\n",
       "</div>"
      ],
      "text/plain": [
       "                                  id ctgov_group_code classification category  \\\n",
       "nct_id      result_group_id                                                     \n",
       "NCT00001213 3090179          3367810               B1           Male            \n",
       "            3090179          3367811               B1         Female            \n",
       "NCT00002525 3077994          3350816               B3           Male            \n",
       "            3077994          3350819               B3         Female            \n",
       "            3077995          3350817               B2           Male            \n",
       "\n",
       "                              title  \\\n",
       "nct_id      result_group_id           \n",
       "NCT00001213 3090179          Gender   \n",
       "            3090179          Gender   \n",
       "NCT00002525 3077994          Gender   \n",
       "            3077994          Gender   \n",
       "            3077995          Gender   \n",
       "\n",
       "                                                                   description  \\\n",
       "nct_id      result_group_id                                                      \n",
       "NCT00001213 3090179          Gender was captured for 326 out of 328 partici...   \n",
       "            3090179          Gender was captured for 326 out of 328 partici...   \n",
       "NCT00002525 3077994          1 patient on \"No perioperative 5-FU arm\" had m...   \n",
       "            3077994          1 patient on \"No perioperative 5-FU arm\" had m...   \n",
       "            3077995          1 patient on \"No perioperative 5-FU arm\" had m...   \n",
       "\n",
       "                                    units param_type param_value  \\\n",
       "nct_id      result_group_id                                        \n",
       "NCT00001213 3090179          participants     Number         173   \n",
       "            3090179          participants     Number         153   \n",
       "NCT00002525 3077994          participants     Number         195   \n",
       "            3077994          participants     Number         118   \n",
       "            3077995          participants     Number          96   \n",
       "\n",
       "                             param_value_num dispersion_type dispersion_value  \\\n",
       "nct_id      result_group_id                                                     \n",
       "NCT00001213 3090179                    173.0                             None   \n",
       "            3090179                    153.0                             None   \n",
       "NCT00002525 3077994                    195.0                             None   \n",
       "            3077994                    118.0                             None   \n",
       "            3077995                     96.0                             None   \n",
       "\n",
       "                             dispersion_value_num  dispersion_lower_limit  \\\n",
       "nct_id      result_group_id                                                 \n",
       "NCT00001213 3090179                           NaN                     NaN   \n",
       "            3090179                           NaN                     NaN   \n",
       "NCT00002525 3077994                           NaN                     NaN   \n",
       "            3077994                           NaN                     NaN   \n",
       "            3077995                           NaN                     NaN   \n",
       "\n",
       "                             dispersion_upper_limit explanation_of_na  is_male  \n",
       "nct_id      result_group_id                                                     \n",
       "NCT00001213 3090179                             NaN                       True  \n",
       "            3090179                             NaN                      False  \n",
       "NCT00002525 3077994                             NaN                       True  \n",
       "            3077994                             NaN                      False  \n",
       "            3077995                             NaN                       True  "
      ]
     },
     "execution_count": 218,
     "metadata": {},
     "output_type": "execute_result"
    }
   ],
   "source": [
    "used_df_both.head()"
   ]
  },
  {
   "cell_type": "markdown",
   "metadata": {},
   "source": [
    "### Q1: what is the distribution of studies by gender eligibility?"
   ]
  },
  {
   "cell_type": "code",
   "execution_count": 237,
   "metadata": {},
   "outputs": [
    {
     "data": {
      "text/plain": [
       "((257484,), (257484,))"
      ]
     },
     "execution_count": 237,
     "metadata": {},
     "output_type": "execute_result"
    }
   ],
   "source": [
    "# is the index on eligibility unique?\n",
    "el.index.shape, el.index.unique().shape\n",
    "\n",
    "# Yes"
   ]
  },
  {
   "cell_type": "code",
   "execution_count": 238,
   "metadata": {},
   "outputs": [
    {
     "data": {
      "text/plain": [
       "gender\n",
       "          0.000050\n",
       "All       0.850628\n",
       "Female    0.097707\n",
       "Male      0.051615\n",
       "dtype: float64"
      ]
     },
     "execution_count": 238,
     "metadata": {},
     "output_type": "execute_result"
    }
   ],
   "source": [
    "el.groupby('gender').size()/el.shape[0]"
   ]
  },
  {
   "cell_type": "markdown",
   "metadata": {},
   "source": [
    "### Q2: if the eligibility is only by gender, do the studies accurately recruit that gender?"
   ]
  },
  {
   "cell_type": "code",
   "execution_count": 239,
   "metadata": {},
   "outputs": [
    {
     "data": {
      "text/plain": [
       "(25158, 10)"
      ]
     },
     "execution_count": 239,
     "metadata": {},
     "output_type": "execute_result"
    }
   ],
   "source": [
    "el_female = el[el['gender'] == 'Female']\n",
    "el_female.shape"
   ]
  },
  {
   "cell_type": "code",
   "execution_count": 241,
   "metadata": {},
   "outputs": [
    {
     "data": {
      "text/html": [
       "<div>\n",
       "<style scoped>\n",
       "    .dataframe tbody tr th:only-of-type {\n",
       "        vertical-align: middle;\n",
       "    }\n",
       "\n",
       "    .dataframe tbody tr th {\n",
       "        vertical-align: top;\n",
       "    }\n",
       "\n",
       "    .dataframe thead th {\n",
       "        text-align: right;\n",
       "    }\n",
       "</style>\n",
       "<table border=\"1\" class=\"dataframe\">\n",
       "  <thead>\n",
       "    <tr style=\"text-align: right;\">\n",
       "      <th></th>\n",
       "      <th></th>\n",
       "      <th>id</th>\n",
       "      <th>ctgov_group_code</th>\n",
       "      <th>classification</th>\n",
       "      <th>category</th>\n",
       "      <th>title</th>\n",
       "      <th>description</th>\n",
       "      <th>units</th>\n",
       "      <th>param_type</th>\n",
       "      <th>param_value</th>\n",
       "      <th>param_value_num</th>\n",
       "      <th>dispersion_type</th>\n",
       "      <th>dispersion_value</th>\n",
       "      <th>dispersion_value_num</th>\n",
       "      <th>dispersion_lower_limit</th>\n",
       "      <th>dispersion_upper_limit</th>\n",
       "      <th>explanation_of_na</th>\n",
       "      <th>is_male</th>\n",
       "    </tr>\n",
       "    <tr>\n",
       "      <th>nct_id</th>\n",
       "      <th>result_group_id</th>\n",
       "      <th></th>\n",
       "      <th></th>\n",
       "      <th></th>\n",
       "      <th></th>\n",
       "      <th></th>\n",
       "      <th></th>\n",
       "      <th></th>\n",
       "      <th></th>\n",
       "      <th></th>\n",
       "      <th></th>\n",
       "      <th></th>\n",
       "      <th></th>\n",
       "      <th></th>\n",
       "      <th></th>\n",
       "      <th></th>\n",
       "      <th></th>\n",
       "      <th></th>\n",
       "    </tr>\n",
       "  </thead>\n",
       "  <tbody>\n",
       "    <tr>\n",
       "      <td rowspan=\"3\" valign=\"top\">NCT00004888</td>\n",
       "      <td>3085562</td>\n",
       "      <td>3362332</td>\n",
       "      <td>B3</td>\n",
       "      <td>Female</td>\n",
       "      <td></td>\n",
       "      <td>Sex/Gender, Customized</td>\n",
       "      <td>All participants are female.</td>\n",
       "      <td>participants</td>\n",
       "      <td>Number</td>\n",
       "      <td>84</td>\n",
       "      <td>84.0</td>\n",
       "      <td></td>\n",
       "      <td>None</td>\n",
       "      <td>NaN</td>\n",
       "      <td>NaN</td>\n",
       "      <td>NaN</td>\n",
       "      <td></td>\n",
       "      <td>False</td>\n",
       "    </tr>\n",
       "    <tr>\n",
       "      <td>3085563</td>\n",
       "      <td>3362333</td>\n",
       "      <td>B2</td>\n",
       "      <td>Female</td>\n",
       "      <td></td>\n",
       "      <td>Sex/Gender, Customized</td>\n",
       "      <td>All participants are female.</td>\n",
       "      <td>participants</td>\n",
       "      <td>Number</td>\n",
       "      <td>46</td>\n",
       "      <td>46.0</td>\n",
       "      <td></td>\n",
       "      <td>None</td>\n",
       "      <td>NaN</td>\n",
       "      <td>NaN</td>\n",
       "      <td>NaN</td>\n",
       "      <td></td>\n",
       "      <td>False</td>\n",
       "    </tr>\n",
       "    <tr>\n",
       "      <td>3085564</td>\n",
       "      <td>3362334</td>\n",
       "      <td>B1</td>\n",
       "      <td>Female</td>\n",
       "      <td></td>\n",
       "      <td>Sex/Gender, Customized</td>\n",
       "      <td>All participants are female.</td>\n",
       "      <td>participants</td>\n",
       "      <td>Number</td>\n",
       "      <td>38</td>\n",
       "      <td>38.0</td>\n",
       "      <td></td>\n",
       "      <td>None</td>\n",
       "      <td>NaN</td>\n",
       "      <td>NaN</td>\n",
       "      <td>NaN</td>\n",
       "      <td></td>\n",
       "      <td>False</td>\n",
       "    </tr>\n",
       "    <tr>\n",
       "      <td rowspan=\"2\" valign=\"top\">NCT00062751</td>\n",
       "      <td>3082311</td>\n",
       "      <td>3357259</td>\n",
       "      <td>B6</td>\n",
       "      <td>Female</td>\n",
       "      <td></td>\n",
       "      <td>Sex/Gender, Customized</td>\n",
       "      <td></td>\n",
       "      <td>participants</td>\n",
       "      <td>Number</td>\n",
       "      <td>108</td>\n",
       "      <td>108.0</td>\n",
       "      <td></td>\n",
       "      <td>None</td>\n",
       "      <td>NaN</td>\n",
       "      <td>NaN</td>\n",
       "      <td>NaN</td>\n",
       "      <td></td>\n",
       "      <td>False</td>\n",
       "    </tr>\n",
       "    <tr>\n",
       "      <td>3082312</td>\n",
       "      <td>3357260</td>\n",
       "      <td>B5</td>\n",
       "      <td>Female</td>\n",
       "      <td></td>\n",
       "      <td>Sex/Gender, Customized</td>\n",
       "      <td></td>\n",
       "      <td>participants</td>\n",
       "      <td>Number</td>\n",
       "      <td>6</td>\n",
       "      <td>6.0</td>\n",
       "      <td></td>\n",
       "      <td>None</td>\n",
       "      <td>NaN</td>\n",
       "      <td>NaN</td>\n",
       "      <td>NaN</td>\n",
       "      <td></td>\n",
       "      <td>False</td>\n",
       "    </tr>\n",
       "  </tbody>\n",
       "</table>\n",
       "</div>"
      ],
      "text/plain": [
       "                                  id ctgov_group_code classification category  \\\n",
       "nct_id      result_group_id                                                     \n",
       "NCT00004888 3085562          3362332               B3         Female            \n",
       "            3085563          3362333               B2         Female            \n",
       "            3085564          3362334               B1         Female            \n",
       "NCT00062751 3082311          3357259               B6         Female            \n",
       "            3082312          3357260               B5         Female            \n",
       "\n",
       "                                              title  \\\n",
       "nct_id      result_group_id                           \n",
       "NCT00004888 3085562          Sex/Gender, Customized   \n",
       "            3085563          Sex/Gender, Customized   \n",
       "            3085564          Sex/Gender, Customized   \n",
       "NCT00062751 3082311          Sex/Gender, Customized   \n",
       "            3082312          Sex/Gender, Customized   \n",
       "\n",
       "                                              description         units  \\\n",
       "nct_id      result_group_id                                               \n",
       "NCT00004888 3085562          All participants are female.  participants   \n",
       "            3085563          All participants are female.  participants   \n",
       "            3085564          All participants are female.  participants   \n",
       "NCT00062751 3082311                                        participants   \n",
       "            3082312                                        participants   \n",
       "\n",
       "                            param_type param_value  param_value_num  \\\n",
       "nct_id      result_group_id                                           \n",
       "NCT00004888 3085562             Number          84             84.0   \n",
       "            3085563             Number          46             46.0   \n",
       "            3085564             Number          38             38.0   \n",
       "NCT00062751 3082311             Number         108            108.0   \n",
       "            3082312             Number           6              6.0   \n",
       "\n",
       "                            dispersion_type dispersion_value  \\\n",
       "nct_id      result_group_id                                    \n",
       "NCT00004888 3085562                                     None   \n",
       "            3085563                                     None   \n",
       "            3085564                                     None   \n",
       "NCT00062751 3082311                                     None   \n",
       "            3082312                                     None   \n",
       "\n",
       "                             dispersion_value_num  dispersion_lower_limit  \\\n",
       "nct_id      result_group_id                                                 \n",
       "NCT00004888 3085562                           NaN                     NaN   \n",
       "            3085563                           NaN                     NaN   \n",
       "            3085564                           NaN                     NaN   \n",
       "NCT00062751 3082311                           NaN                     NaN   \n",
       "            3082312                           NaN                     NaN   \n",
       "\n",
       "                             dispersion_upper_limit explanation_of_na  is_male  \n",
       "nct_id      result_group_id                                                     \n",
       "NCT00004888 3085562                             NaN                      False  \n",
       "            3085563                             NaN                      False  \n",
       "            3085564                             NaN                      False  \n",
       "NCT00062751 3082311                             NaN                      False  \n",
       "            3082312                             NaN                      False  "
      ]
     },
     "execution_count": 241,
     "metadata": {},
     "output_type": "execute_result"
    }
   ],
   "source": [
    "df_female = el_female[[]].join(used_df_both)\n",
    "df_female.head()"
   ]
  },
  {
   "cell_type": "code",
   "execution_count": 247,
   "metadata": {},
   "outputs": [],
   "source": [
    "df_male_in_f_study = df_female[df_female['is_male']]"
   ]
  },
  {
   "cell_type": "code",
   "execution_count": 257,
   "metadata": {
    "scrolled": true
   },
   "outputs": [],
   "source": [
    "df_non_zero = df_male_in_f_study[(df_male_in_f_study['param_value'] != '0') & \n",
    "                                 (df_male_in_f_study['param_value'] != '0.0') &\n",
    "                                 (df_male_in_f_study['param_value'] != 'NA')]"
   ]
  },
  {
   "cell_type": "code",
   "execution_count": 259,
   "metadata": {},
   "outputs": [
    {
     "data": {
      "text/plain": [
       "Index(['NCT03628885', 'NCT00080301', 'NCT00275301', 'NCT00291577',\n",
       "       'NCT00394524', 'NCT00412841', 'NCT00421889', 'NCT00719862',\n",
       "       'NCT00743119', 'NCT00810108', 'NCT00846027', 'NCT00874094',\n",
       "       'NCT00878995', 'NCT00920621', 'NCT01032135', 'NCT01121250',\n",
       "       'NCT01147744', 'NCT01156792', 'NCT01181323', 'NCT01193920',\n",
       "       'NCT01211340', 'NCT01251744', 'NCT01269346', 'NCT01412801',\n",
       "       'NCT01443130', 'NCT01446289', 'NCT01615367', 'NCT01722266',\n",
       "       'NCT01737710', 'NCT01801475', 'NCT01919216', 'NCT02078713',\n",
       "       'NCT02175628', 'NCT02244424', 'NCT02263118', 'NCT02415166',\n",
       "       'NCT02487771', 'NCT02721147', 'NCT03098615'],\n",
       "      dtype='object', name='nct_id')"
      ]
     },
     "execution_count": 259,
     "metadata": {},
     "output_type": "execute_result"
    }
   ],
   "source": [
    "df_non_zero.index.get_level_values(0).unique()"
   ]
  },
  {
   "cell_type": "markdown",
   "metadata": {},
   "source": [
    "- Looks like some of the results included the genders of childern of those studied: NCT03628885\n",
    "- sometimes despite a female study such as breast cancer, we get a odd male participant: NCT00080301\n",
    "- sometimes the implementation is different from design, resulting in many males: NCT00275301\n",
    "\n",
    "Take away: we should limit it to studies that intended to study both genders at the start, which represents 85% of our study pop"
   ]
  },
  {
   "cell_type": "code",
   "execution_count": 263,
   "metadata": {},
   "outputs": [],
   "source": [
    "df_all_gender_idx = el[el['gender'] == 'All'][[]]"
   ]
  },
  {
   "cell_type": "markdown",
   "metadata": {},
   "source": [
    "### rebuilding the joint gender dataframe"
   ]
  },
  {
   "cell_type": "code",
   "execution_count": 270,
   "metadata": {},
   "outputs": [
    {
     "data": {
      "text/plain": [
       "(3849, 3092)"
      ]
     },
     "execution_count": 270,
     "metadata": {},
     "output_type": "execute_result"
    }
   ],
   "source": [
    "used_dfc_final2 = used_dfc_final.join(df_all_gender_idx, how='inner')\n",
    "used_dfc_final.shape[0], used_dfc_final2.shape[0]"
   ]
  },
  {
   "cell_type": "code",
   "execution_count": 271,
   "metadata": {},
   "outputs": [
    {
     "data": {
      "text/plain": [
       "(214362, 188290)"
      ]
     },
     "execution_count": 271,
     "metadata": {},
     "output_type": "execute_result"
    }
   ],
   "source": [
    "used_dfcat_final2 = used_dfcat_final.join(df_all_gender_idx, how='inner')\n",
    "used_dfcat_final.shape[0], used_dfcat_final2.shape[0]"
   ]
  },
  {
   "cell_type": "code",
   "execution_count": 272,
   "metadata": {},
   "outputs": [
    {
     "data": {
      "text/plain": [
       "(191382, 16)"
      ]
     },
     "execution_count": 272,
     "metadata": {},
     "output_type": "execute_result"
    }
   ],
   "source": [
    "used_df_both = pd.concat([used_dfc_final2, used_dfcat_final2])\n",
    "used_df_both.shape"
   ]
  },
  {
   "cell_type": "code",
   "execution_count": 273,
   "metadata": {},
   "outputs": [],
   "source": [
    "used_df_both['is_male'] = used_df_both.apply(is_male, axis=1)"
   ]
  },
  {
   "cell_type": "markdown",
   "metadata": {},
   "source": [
    "### removing odd param_types"
   ]
  },
  {
   "cell_type": "code",
   "execution_count": 333,
   "metadata": {},
   "outputs": [
    {
     "data": {
      "text/plain": [
       "param_type\n",
       "                             31\n",
       "Count of Participants    188520\n",
       "Count of Units              117\n",
       "Mean                         74\n",
       "Median                        6\n",
       "Number                     2634\n",
       "dtype: int64"
      ]
     },
     "execution_count": 333,
     "metadata": {},
     "output_type": "execute_result"
    }
   ],
   "source": [
    "used_df_both.groupby('param_type').size()"
   ]
  },
  {
   "cell_type": "code",
   "execution_count": 336,
   "metadata": {},
   "outputs": [],
   "source": [
    "used_df_both = used_df_both[used_df_both['param_type'].isin(['Count of Participants','Number'])]"
   ]
  },
  {
   "cell_type": "code",
   "execution_count": 337,
   "metadata": {},
   "outputs": [
    {
     "data": {
      "text/plain": [
       "(33080, 0.8660139274307556)"
      ]
     },
     "execution_count": 337,
     "metadata": {},
     "output_type": "execute_result"
    }
   ],
   "source": [
    "num_remain = used_df_both.index.get_level_values(0).unique().shape[0]\n",
    "num_remain, num_remain / bm_all"
   ]
  },
  {
   "cell_type": "markdown",
   "metadata": {},
   "source": [
    "##### we still have 33k and 87% of our studies that we started with in baseline measurements"
   ]
  },
  {
   "cell_type": "markdown",
   "metadata": {},
   "source": [
    "### Joining to result groups to get the group labels"
   ]
  },
  {
   "cell_type": "code",
   "execution_count": 345,
   "metadata": {},
   "outputs": [],
   "source": [
    "dfm = used_df_both.reset_index().merge(rg.reset_index()[['nct_id', 'ctgov_group_code', 'title']], \n",
    "                                       on=['nct_id', 'ctgov_group_code'], \n",
    "                                       how='inner', \n",
    "                                       suffixes=('', '_rg'))"
   ]
  },
  {
   "cell_type": "code",
   "execution_count": 557,
   "metadata": {
    "scrolled": true
   },
   "outputs": [
    {
     "data": {
      "text/plain": [
       "Index(['Total', 'Placebo', 'Control', 'All Participants', 'Control Group',\n",
       "       'All Study Participants', 'Usual Care', 'Entire Study Population',\n",
       "       'Overall Study', 'Treatment', 'Placebo Group', 'Group 1',\n",
       "       'Intervention', 'Standard of Care', 'Overall', 'Arm 1', 'Vehicle',\n",
       "       'Group 2', 'Sugar Pill', 'All Subjects', 'Arm 2', 'Cohort 1',\n",
       "       'Cohort 2', 'Arm I', 'Total Title', 'Group B', 'All Patients',\n",
       "       'Standard Care', 'Group A', 'Control Arm', 'Pregabalin', 'Sitagliptin',\n",
       "       'Varenicline', 'Intervention Group', 'Experimental', 'Normal Saline',\n",
       "       'Duloxetine', 'Cohort 3', 'Metformin', 'Etanercept', 'Saline',\n",
       "       'Treatment Arm', 'Sham', 'Arm A', 'Erlotinib', 'Arm B', 'Active',\n",
       "       'Treatment Group', 'Rituximab', 'Pioglitazone'],\n",
       "      dtype='object', name='title_rg')"
      ]
     },
     "execution_count": 557,
     "metadata": {},
     "output_type": "execute_result"
    }
   ],
   "source": [
    "dfm.groupby('title_rg').size().sort_values(ascending=False)[:50].index"
   ]
  },
  {
   "cell_type": "code",
   "execution_count": 558,
   "metadata": {},
   "outputs": [],
   "source": [
    "total_strings = ['Total', \n",
    "                 'All Participants', \n",
    "                 'All Study Participants', \n",
    "                 'Entire Study Population',\n",
    "                 'Overall Study',\n",
    "                 'Overall', \n",
    "                 'Total Title']"
   ]
  },
  {
   "cell_type": "markdown",
   "metadata": {},
   "source": [
    "- exclude the 'percent' unit types\n",
    "- just exclude the total group up front\n",
    "- remove studies where the number of people < x\n",
    "- then remove studies where there is only 1 non-zero group"
   ]
  },
  {
   "cell_type": "code",
   "execution_count": 564,
   "metadata": {},
   "outputs": [
    {
     "data": {
      "text/plain": [
       "(191154, 20)"
      ]
     },
     "execution_count": 564,
     "metadata": {},
     "output_type": "execute_result"
    }
   ],
   "source": [
    "dfm.shape"
   ]
  },
  {
   "cell_type": "markdown",
   "metadata": {},
   "source": [
    "### Excluding total groups"
   ]
  },
  {
   "cell_type": "code",
   "execution_count": 565,
   "metadata": {},
   "outputs": [
    {
     "data": {
      "text/plain": [
       "(143372, 20)"
      ]
     },
     "execution_count": 565,
     "metadata": {},
     "output_type": "execute_result"
    }
   ],
   "source": [
    "dfm_nontot = dfm[~dfm['title_rg'].isin(total_strings)]\n",
    "dfm_nontot.shape"
   ]
  },
  {
   "cell_type": "markdown",
   "metadata": {},
   "source": [
    "### excluding percent unit types"
   ]
  },
  {
   "cell_type": "code",
   "execution_count": 566,
   "metadata": {},
   "outputs": [
    {
     "data": {
      "text/plain": [
       "(143360, 20)"
      ]
     },
     "execution_count": 566,
     "metadata": {},
     "output_type": "execute_result"
    }
   ],
   "source": [
    "dfm2 = dfm_nontot[dfm_nontot['units'].apply(lambda x: False if 'percent' in x.lower() else True)]\n",
    "dfm2.shape"
   ]
  },
  {
   "cell_type": "markdown",
   "metadata": {},
   "source": [
    "### Total participants:"
   ]
  },
  {
   "cell_type": "code",
   "execution_count": 569,
   "metadata": {},
   "outputs": [
    {
     "data": {
      "text/html": [
       "<div>\n",
       "<style scoped>\n",
       "    .dataframe tbody tr th:only-of-type {\n",
       "        vertical-align: middle;\n",
       "    }\n",
       "\n",
       "    .dataframe tbody tr th {\n",
       "        vertical-align: top;\n",
       "    }\n",
       "\n",
       "    .dataframe thead th {\n",
       "        text-align: right;\n",
       "    }\n",
       "</style>\n",
       "<table border=\"1\" class=\"dataframe\">\n",
       "  <thead>\n",
       "    <tr style=\"text-align: right;\">\n",
       "      <th></th>\n",
       "      <th>param_value_num</th>\n",
       "    </tr>\n",
       "    <tr>\n",
       "      <th>nct_id</th>\n",
       "      <th></th>\n",
       "    </tr>\n",
       "  </thead>\n",
       "  <tbody>\n",
       "    <tr>\n",
       "      <td>NCT00000125</td>\n",
       "      <td>1636.0</td>\n",
       "    </tr>\n",
       "    <tr>\n",
       "      <td>NCT00000134</td>\n",
       "      <td>279.0</td>\n",
       "    </tr>\n",
       "    <tr>\n",
       "      <td>NCT00000135</td>\n",
       "      <td>209.0</td>\n",
       "    </tr>\n",
       "    <tr>\n",
       "      <td>NCT00000136</td>\n",
       "      <td>234.0</td>\n",
       "    </tr>\n",
       "    <tr>\n",
       "      <td>NCT00000142</td>\n",
       "      <td>64.0</td>\n",
       "    </tr>\n",
       "  </tbody>\n",
       "</table>\n",
       "</div>"
      ],
      "text/plain": [
       "             param_value_num\n",
       "nct_id                      \n",
       "NCT00000125           1636.0\n",
       "NCT00000134            279.0\n",
       "NCT00000135            209.0\n",
       "NCT00000136            234.0\n",
       "NCT00000142             64.0"
      ]
     },
     "execution_count": 569,
     "metadata": {},
     "output_type": "execute_result"
    }
   ],
   "source": [
    "dftotals = dfm2.groupby('nct_id')[['param_value_num']].sum()\n",
    "dftotals.head()"
   ]
  },
  {
   "cell_type": "code",
   "execution_count": 571,
   "metadata": {
    "scrolled": true
   },
   "outputs": [
    {
     "name": "stdout",
     "output_type": "stream",
     "text": [
      "10 2947 0.09186981732028181\n",
      "11 3219 0.10034914894943575\n",
      "12 3628 0.11309932040650914\n",
      "13 3876 0.1208304757154436\n",
      "14 4160 0.12968389550470727\n",
      "15 4476 0.13953488372093023\n",
      "16 4813 0.15004052621734523\n",
      "17 5038 0.1570546792194027\n",
      "18 5356 0.16696801546231063\n",
      "19 5597 0.17448095267784774\n",
      "20 6201 0.1933100567367043\n",
      "21 6482 0.2020699544859405\n",
      "22 6744 0.2102375459816697\n",
      "23 6983 0.21768813517052185\n",
      "24 7399 0.23065652472099257\n"
     ]
    }
   ],
   "source": [
    "for i in range(10, 25):\n",
    "    sub_df = dftotals[dftotals['param_value_num'] <= i]\n",
    "    print(i, sub_df.shape[0], sub_df.shape[0]/dftotals.shape[0])"
   ]
  },
  {
   "cell_type": "markdown",
   "metadata": {},
   "source": [
    "##### Decision: exclude any studies with less than 20 people"
   ]
  },
  {
   "cell_type": "code",
   "execution_count": 572,
   "metadata": {},
   "outputs": [
    {
     "data": {
      "text/plain": [
       "(26481, 1)"
      ]
     },
     "execution_count": 572,
     "metadata": {},
     "output_type": "execute_result"
    }
   ],
   "source": [
    "df_totals_used = dftotals[dftotals['param_value_num'] >= 20]\n",
    "df_totals_used.shape"
   ]
  },
  {
   "cell_type": "code",
   "execution_count": 573,
   "metadata": {},
   "outputs": [
    {
     "data": {
      "text/plain": [
       "(126824, 20)"
      ]
     },
     "execution_count": 573,
     "metadata": {},
     "output_type": "execute_result"
    }
   ],
   "source": [
    "# excluding studies with < 30 total participants\n",
    "dfm3 = dfm2[dfm2['nct_id'].isin(df_totals_used.index)]\n",
    "dfm3.shape"
   ]
  },
  {
   "cell_type": "markdown",
   "metadata": {},
   "source": [
    "## what are the studies that do not have atleast 2 non-zero groups?"
   ]
  },
  {
   "cell_type": "code",
   "execution_count": 576,
   "metadata": {},
   "outputs": [
    {
     "data": {
      "text/html": [
       "<div>\n",
       "<style scoped>\n",
       "    .dataframe tbody tr th:only-of-type {\n",
       "        vertical-align: middle;\n",
       "    }\n",
       "\n",
       "    .dataframe tbody tr th {\n",
       "        vertical-align: top;\n",
       "    }\n",
       "\n",
       "    .dataframe thead th {\n",
       "        text-align: right;\n",
       "    }\n",
       "</style>\n",
       "<table border=\"1\" class=\"dataframe\">\n",
       "  <thead>\n",
       "    <tr style=\"text-align: right;\">\n",
       "      <th></th>\n",
       "      <th>nct_id</th>\n",
       "      <th>result_group_id</th>\n",
       "      <th>id</th>\n",
       "      <th>ctgov_group_code</th>\n",
       "      <th>classification</th>\n",
       "      <th>category</th>\n",
       "      <th>title</th>\n",
       "      <th>description</th>\n",
       "      <th>units</th>\n",
       "      <th>param_type</th>\n",
       "      <th>param_value</th>\n",
       "      <th>param_value_num</th>\n",
       "      <th>dispersion_type</th>\n",
       "      <th>dispersion_value</th>\n",
       "      <th>dispersion_value_num</th>\n",
       "      <th>dispersion_lower_limit</th>\n",
       "      <th>dispersion_upper_limit</th>\n",
       "      <th>explanation_of_na</th>\n",
       "      <th>is_male</th>\n",
       "      <th>title_rg</th>\n",
       "    </tr>\n",
       "  </thead>\n",
       "  <tbody>\n",
       "    <tr>\n",
       "      <td>0</td>\n",
       "      <td>NCT00001213</td>\n",
       "      <td>3090179</td>\n",
       "      <td>3367810</td>\n",
       "      <td>B1</td>\n",
       "      <td>Male</td>\n",
       "      <td></td>\n",
       "      <td>Gender</td>\n",
       "      <td>Gender was captured for 326 out of 328 partici...</td>\n",
       "      <td>participants</td>\n",
       "      <td>Number</td>\n",
       "      <td>173</td>\n",
       "      <td>173.0</td>\n",
       "      <td></td>\n",
       "      <td>None</td>\n",
       "      <td>NaN</td>\n",
       "      <td>NaN</td>\n",
       "      <td>NaN</td>\n",
       "      <td></td>\n",
       "      <td>True</td>\n",
       "      <td>Cysteamine Topical Solution</td>\n",
       "    </tr>\n",
       "    <tr>\n",
       "      <td>1</td>\n",
       "      <td>NCT00001213</td>\n",
       "      <td>3090179</td>\n",
       "      <td>3367811</td>\n",
       "      <td>B1</td>\n",
       "      <td>Female</td>\n",
       "      <td></td>\n",
       "      <td>Gender</td>\n",
       "      <td>Gender was captured for 326 out of 328 partici...</td>\n",
       "      <td>participants</td>\n",
       "      <td>Number</td>\n",
       "      <td>153</td>\n",
       "      <td>153.0</td>\n",
       "      <td></td>\n",
       "      <td>None</td>\n",
       "      <td>NaN</td>\n",
       "      <td>NaN</td>\n",
       "      <td>NaN</td>\n",
       "      <td></td>\n",
       "      <td>False</td>\n",
       "      <td>Cysteamine Topical Solution</td>\n",
       "    </tr>\n",
       "    <tr>\n",
       "      <td>4</td>\n",
       "      <td>NCT00002525</td>\n",
       "      <td>3077995</td>\n",
       "      <td>3350817</td>\n",
       "      <td>B2</td>\n",
       "      <td>Male</td>\n",
       "      <td></td>\n",
       "      <td>Gender</td>\n",
       "      <td>1 patient on \"No perioperative 5-FU arm\" had m...</td>\n",
       "      <td>participants</td>\n",
       "      <td>Number</td>\n",
       "      <td>96</td>\n",
       "      <td>96.0</td>\n",
       "      <td></td>\n",
       "      <td>None</td>\n",
       "      <td>NaN</td>\n",
       "      <td>NaN</td>\n",
       "      <td>NaN</td>\n",
       "      <td></td>\n",
       "      <td>True</td>\n",
       "      <td>No Perioperative 5-FU</td>\n",
       "    </tr>\n",
       "    <tr>\n",
       "      <td>5</td>\n",
       "      <td>NCT00002525</td>\n",
       "      <td>3077995</td>\n",
       "      <td>3350820</td>\n",
       "      <td>B2</td>\n",
       "      <td>Female</td>\n",
       "      <td></td>\n",
       "      <td>Gender</td>\n",
       "      <td>1 patient on \"No perioperative 5-FU arm\" had m...</td>\n",
       "      <td>participants</td>\n",
       "      <td>Number</td>\n",
       "      <td>61</td>\n",
       "      <td>61.0</td>\n",
       "      <td></td>\n",
       "      <td>None</td>\n",
       "      <td>NaN</td>\n",
       "      <td>NaN</td>\n",
       "      <td>NaN</td>\n",
       "      <td></td>\n",
       "      <td>False</td>\n",
       "      <td>No Perioperative 5-FU</td>\n",
       "    </tr>\n",
       "    <tr>\n",
       "      <td>6</td>\n",
       "      <td>NCT00002525</td>\n",
       "      <td>3077996</td>\n",
       "      <td>3350818</td>\n",
       "      <td>B1</td>\n",
       "      <td>Male</td>\n",
       "      <td></td>\n",
       "      <td>Gender</td>\n",
       "      <td>1 patient on \"No perioperative 5-FU arm\" had m...</td>\n",
       "      <td>participants</td>\n",
       "      <td>Number</td>\n",
       "      <td>99</td>\n",
       "      <td>99.0</td>\n",
       "      <td></td>\n",
       "      <td>None</td>\n",
       "      <td>NaN</td>\n",
       "      <td>NaN</td>\n",
       "      <td>NaN</td>\n",
       "      <td></td>\n",
       "      <td>True</td>\n",
       "      <td>Perioperative 5-FU</td>\n",
       "    </tr>\n",
       "  </tbody>\n",
       "</table>\n",
       "</div>"
      ],
      "text/plain": [
       "        nct_id  result_group_id       id ctgov_group_code classification  \\\n",
       "0  NCT00001213          3090179  3367810               B1           Male   \n",
       "1  NCT00001213          3090179  3367811               B1         Female   \n",
       "4  NCT00002525          3077995  3350817               B2           Male   \n",
       "5  NCT00002525          3077995  3350820               B2         Female   \n",
       "6  NCT00002525          3077996  3350818               B1           Male   \n",
       "\n",
       "  category   title                                        description  \\\n",
       "0           Gender  Gender was captured for 326 out of 328 partici...   \n",
       "1           Gender  Gender was captured for 326 out of 328 partici...   \n",
       "4           Gender  1 patient on \"No perioperative 5-FU arm\" had m...   \n",
       "5           Gender  1 patient on \"No perioperative 5-FU arm\" had m...   \n",
       "6           Gender  1 patient on \"No perioperative 5-FU arm\" had m...   \n",
       "\n",
       "          units param_type param_value  param_value_num dispersion_type  \\\n",
       "0  participants     Number         173            173.0                   \n",
       "1  participants     Number         153            153.0                   \n",
       "4  participants     Number          96             96.0                   \n",
       "5  participants     Number          61             61.0                   \n",
       "6  participants     Number          99             99.0                   \n",
       "\n",
       "  dispersion_value  dispersion_value_num  dispersion_lower_limit  \\\n",
       "0             None                   NaN                     NaN   \n",
       "1             None                   NaN                     NaN   \n",
       "4             None                   NaN                     NaN   \n",
       "5             None                   NaN                     NaN   \n",
       "6             None                   NaN                     NaN   \n",
       "\n",
       "   dispersion_upper_limit explanation_of_na  is_male  \\\n",
       "0                     NaN                       True   \n",
       "1                     NaN                      False   \n",
       "4                     NaN                       True   \n",
       "5                     NaN                      False   \n",
       "6                     NaN                       True   \n",
       "\n",
       "                      title_rg  \n",
       "0  Cysteamine Topical Solution  \n",
       "1  Cysteamine Topical Solution  \n",
       "4        No Perioperative 5-FU  \n",
       "5        No Perioperative 5-FU  \n",
       "6           Perioperative 5-FU  "
      ]
     },
     "execution_count": 576,
     "metadata": {},
     "output_type": "execute_result"
    }
   ],
   "source": [
    "dfm3.head()"
   ]
  },
  {
   "cell_type": "code",
   "execution_count": 577,
   "metadata": {},
   "outputs": [
    {
     "data": {
      "text/plain": [
       "(123485, 20)"
      ]
     },
     "execution_count": 577,
     "metadata": {},
     "output_type": "execute_result"
    }
   ],
   "source": [
    "df_nonzero = dfm3[dfm3['param_value_num'] > 0]\n",
    "df_nonzero.shape"
   ]
  },
  {
   "cell_type": "code",
   "execution_count": 579,
   "metadata": {},
   "outputs": [
    {
     "data": {
      "text/plain": [
       "(26481,)"
      ]
     },
     "execution_count": 579,
     "metadata": {},
     "output_type": "execute_result"
    }
   ],
   "source": [
    "df_nonzero_groups = df_nonzero.groupby(['nct_id'])['ctgov_group_code'].nunique()\n",
    "df_nonzero_groups.shape"
   ]
  },
  {
   "cell_type": "code",
   "execution_count": 581,
   "metadata": {},
   "outputs": [
    {
     "data": {
      "text/plain": [
       "nct_id\n",
       "NCT00001213    1\n",
       "NCT00001305    1\n",
       "NCT00001566    1\n",
       "NCT00001575    1\n",
       "NCT00001941    1\n",
       "              ..\n",
       "NCT03783780    1\n",
       "NCT03870737    1\n",
       "NCT03905642    1\n",
       "NCT03927950    1\n",
       "NCT04036838    1\n",
       "Name: ctgov_group_code, Length: 5942, dtype: int64"
      ]
     },
     "execution_count": 581,
     "metadata": {},
     "output_type": "execute_result"
    }
   ],
   "source": [
    "df_nonzero_groups[df_nonzero_groups <= 1]"
   ]
  },
  {
   "cell_type": "code",
   "execution_count": 582,
   "metadata": {},
   "outputs": [
    {
     "data": {
      "text/plain": [
       "20539"
      ]
     },
     "execution_count": 582,
     "metadata": {},
     "output_type": "execute_result"
    }
   ],
   "source": [
    "df_nonzero_used = df_nonzero_groups[df_nonzero_groups > 1].index\n",
    "len(df_nonzero_used)"
   ]
  },
  {
   "cell_type": "code",
   "execution_count": 586,
   "metadata": {},
   "outputs": [
    {
     "data": {
      "text/plain": [
       "(114878, 20)"
      ]
     },
     "execution_count": 586,
     "metadata": {},
     "output_type": "execute_result"
    }
   ],
   "source": [
    "dfm4 = dfm3[dfm3['nct_id'].isin(df_nonzero_used)]\n",
    "dfm4.shape"
   ]
  },
  {
   "cell_type": "code",
   "execution_count": 591,
   "metadata": {},
   "outputs": [
    {
     "data": {
      "text/plain": [
       "(0.5376983088119797, 20539)"
      ]
     },
     "execution_count": 591,
     "metadata": {},
     "output_type": "execute_result"
    }
   ],
   "source": [
    "len(dfm4['nct_id'].unique()) / bm_all, len(dfm4['nct_id'].unique()) "
   ]
  },
  {
   "cell_type": "markdown",
   "metadata": {},
   "source": [
    "## we have 54% or 21k of the studies remaining that have:\n",
    "- atleast 2 non-zero non-total groups\n",
    "- not measured in percent\n",
    "- have atleast a total of 20 participants"
   ]
  },
  {
   "cell_type": "code",
   "execution_count": 593,
   "metadata": {},
   "outputs": [],
   "source": [
    "dfm4.to_pickle('balance_curated.p')"
   ]
  },
  {
   "cell_type": "code",
   "execution_count": null,
   "metadata": {},
   "outputs": [],
   "source": []
  },
  {
   "cell_type": "code",
   "execution_count": null,
   "metadata": {},
   "outputs": [],
   "source": []
  },
  {
   "cell_type": "code",
   "execution_count": null,
   "metadata": {},
   "outputs": [],
   "source": []
  },
  {
   "cell_type": "markdown",
   "metadata": {},
   "source": [
    "### Old Work ..."
   ]
  },
  {
   "cell_type": "code",
   "execution_count": 466,
   "metadata": {},
   "outputs": [
    {
     "data": {
      "text/plain": [
       "array(['Number', 'Count of Participants'], dtype=object)"
      ]
     },
     "execution_count": 466,
     "metadata": {},
     "output_type": "execute_result"
    }
   ],
   "source": [
    "dfm['param_type'].unique()"
   ]
  },
  {
   "cell_type": "code",
   "execution_count": 467,
   "metadata": {
    "scrolled": true
   },
   "outputs": [
    {
     "data": {
      "text/html": [
       "<div>\n",
       "<style scoped>\n",
       "    .dataframe tbody tr th:only-of-type {\n",
       "        vertical-align: middle;\n",
       "    }\n",
       "\n",
       "    .dataframe tbody tr th {\n",
       "        vertical-align: top;\n",
       "    }\n",
       "\n",
       "    .dataframe thead th {\n",
       "        text-align: right;\n",
       "    }\n",
       "</style>\n",
       "<table border=\"1\" class=\"dataframe\">\n",
       "  <thead>\n",
       "    <tr style=\"text-align: right;\">\n",
       "      <th></th>\n",
       "      <th>nct_id</th>\n",
       "      <th>result_group_id</th>\n",
       "      <th>id</th>\n",
       "      <th>ctgov_group_code</th>\n",
       "      <th>classification</th>\n",
       "      <th>category</th>\n",
       "      <th>title</th>\n",
       "      <th>description</th>\n",
       "      <th>units</th>\n",
       "      <th>param_type</th>\n",
       "      <th>param_value</th>\n",
       "      <th>param_value_num</th>\n",
       "      <th>dispersion_type</th>\n",
       "      <th>dispersion_value</th>\n",
       "      <th>dispersion_value_num</th>\n",
       "      <th>dispersion_lower_limit</th>\n",
       "      <th>dispersion_upper_limit</th>\n",
       "      <th>explanation_of_na</th>\n",
       "      <th>is_male</th>\n",
       "      <th>title_rg</th>\n",
       "    </tr>\n",
       "  </thead>\n",
       "  <tbody>\n",
       "    <tr>\n",
       "      <td>0</td>\n",
       "      <td>NCT00001213</td>\n",
       "      <td>3090179</td>\n",
       "      <td>3367810</td>\n",
       "      <td>B1</td>\n",
       "      <td>Male</td>\n",
       "      <td></td>\n",
       "      <td>Gender</td>\n",
       "      <td>Gender was captured for 326 out of 328 partici...</td>\n",
       "      <td>participants</td>\n",
       "      <td>Number</td>\n",
       "      <td>173</td>\n",
       "      <td>173.0</td>\n",
       "      <td></td>\n",
       "      <td>None</td>\n",
       "      <td>NaN</td>\n",
       "      <td>NaN</td>\n",
       "      <td>NaN</td>\n",
       "      <td></td>\n",
       "      <td>True</td>\n",
       "      <td>Cysteamine Topical Solution</td>\n",
       "    </tr>\n",
       "    <tr>\n",
       "      <td>1</td>\n",
       "      <td>NCT00001213</td>\n",
       "      <td>3090179</td>\n",
       "      <td>3367811</td>\n",
       "      <td>B1</td>\n",
       "      <td>Female</td>\n",
       "      <td></td>\n",
       "      <td>Gender</td>\n",
       "      <td>Gender was captured for 326 out of 328 partici...</td>\n",
       "      <td>participants</td>\n",
       "      <td>Number</td>\n",
       "      <td>153</td>\n",
       "      <td>153.0</td>\n",
       "      <td></td>\n",
       "      <td>None</td>\n",
       "      <td>NaN</td>\n",
       "      <td>NaN</td>\n",
       "      <td>NaN</td>\n",
       "      <td></td>\n",
       "      <td>False</td>\n",
       "      <td>Cysteamine Topical Solution</td>\n",
       "    </tr>\n",
       "  </tbody>\n",
       "</table>\n",
       "</div>"
      ],
      "text/plain": [
       "        nct_id  result_group_id       id ctgov_group_code classification  \\\n",
       "0  NCT00001213          3090179  3367810               B1           Male   \n",
       "1  NCT00001213          3090179  3367811               B1         Female   \n",
       "\n",
       "  category   title                                        description  \\\n",
       "0           Gender  Gender was captured for 326 out of 328 partici...   \n",
       "1           Gender  Gender was captured for 326 out of 328 partici...   \n",
       "\n",
       "          units param_type param_value  param_value_num dispersion_type  \\\n",
       "0  participants     Number         173            173.0                   \n",
       "1  participants     Number         153            153.0                   \n",
       "\n",
       "  dispersion_value  dispersion_value_num  dispersion_lower_limit  \\\n",
       "0             None                   NaN                     NaN   \n",
       "1             None                   NaN                     NaN   \n",
       "\n",
       "   dispersion_upper_limit explanation_of_na  is_male  \\\n",
       "0                     NaN                       True   \n",
       "1                     NaN                      False   \n",
       "\n",
       "                      title_rg  \n",
       "0  Cysteamine Topical Solution  \n",
       "1  Cysteamine Topical Solution  "
      ]
     },
     "execution_count": 467,
     "metadata": {},
     "output_type": "execute_result"
    }
   ],
   "source": [
    "dfm.head(2)"
   ]
  },
  {
   "cell_type": "markdown",
   "metadata": {},
   "source": [
    "### In each nct_id, keep the group witht he largest sum of param_value_num"
   ]
  },
  {
   "cell_type": "code",
   "execution_count": 470,
   "metadata": {},
   "outputs": [
    {
     "data": {
      "text/html": [
       "<div>\n",
       "<style scoped>\n",
       "    .dataframe tbody tr th:only-of-type {\n",
       "        vertical-align: middle;\n",
       "    }\n",
       "\n",
       "    .dataframe tbody tr th {\n",
       "        vertical-align: top;\n",
       "    }\n",
       "\n",
       "    .dataframe thead th {\n",
       "        text-align: right;\n",
       "    }\n",
       "</style>\n",
       "<table border=\"1\" class=\"dataframe\">\n",
       "  <thead>\n",
       "    <tr style=\"text-align: right;\">\n",
       "      <th></th>\n",
       "      <th>nct_id</th>\n",
       "      <th>ctgov_group_code</th>\n",
       "      <th>param_value_num</th>\n",
       "    </tr>\n",
       "  </thead>\n",
       "  <tbody>\n",
       "    <tr>\n",
       "      <td>0</td>\n",
       "      <td>NCT00000125</td>\n",
       "      <td>B1</td>\n",
       "      <td>819.0</td>\n",
       "    </tr>\n",
       "    <tr>\n",
       "      <td>1</td>\n",
       "      <td>NCT00000125</td>\n",
       "      <td>B2</td>\n",
       "      <td>817.0</td>\n",
       "    </tr>\n",
       "    <tr>\n",
       "      <td>2</td>\n",
       "      <td>NCT00000125</td>\n",
       "      <td>B3</td>\n",
       "      <td>1636.0</td>\n",
       "    </tr>\n",
       "    <tr>\n",
       "      <td>3</td>\n",
       "      <td>NCT00000134</td>\n",
       "      <td>B1</td>\n",
       "      <td>89.0</td>\n",
       "    </tr>\n",
       "    <tr>\n",
       "      <td>4</td>\n",
       "      <td>NCT00000134</td>\n",
       "      <td>B2</td>\n",
       "      <td>94.0</td>\n",
       "    </tr>\n",
       "    <tr>\n",
       "      <td>...</td>\n",
       "      <td>...</td>\n",
       "      <td>...</td>\n",
       "      <td>...</td>\n",
       "    </tr>\n",
       "    <tr>\n",
       "      <td>95300</td>\n",
       "      <td>NCT04137627</td>\n",
       "      <td>B3</td>\n",
       "      <td>25.0</td>\n",
       "    </tr>\n",
       "    <tr>\n",
       "      <td>95301</td>\n",
       "      <td>NCT04144088</td>\n",
       "      <td>B1</td>\n",
       "      <td>20.0</td>\n",
       "    </tr>\n",
       "    <tr>\n",
       "      <td>95302</td>\n",
       "      <td>NCT04144088</td>\n",
       "      <td>B2</td>\n",
       "      <td>20.0</td>\n",
       "    </tr>\n",
       "    <tr>\n",
       "      <td>95303</td>\n",
       "      <td>NCT04144088</td>\n",
       "      <td>B3</td>\n",
       "      <td>20.0</td>\n",
       "    </tr>\n",
       "    <tr>\n",
       "      <td>95304</td>\n",
       "      <td>NCT04144088</td>\n",
       "      <td>B4</td>\n",
       "      <td>60.0</td>\n",
       "    </tr>\n",
       "  </tbody>\n",
       "</table>\n",
       "<p>95305 rows × 3 columns</p>\n",
       "</div>"
      ],
      "text/plain": [
       "            nct_id ctgov_group_code  param_value_num\n",
       "0      NCT00000125               B1            819.0\n",
       "1      NCT00000125               B2            817.0\n",
       "2      NCT00000125               B3           1636.0\n",
       "3      NCT00000134               B1             89.0\n",
       "4      NCT00000134               B2             94.0\n",
       "...            ...              ...              ...\n",
       "95300  NCT04137627               B3             25.0\n",
       "95301  NCT04144088               B1             20.0\n",
       "95302  NCT04144088               B2             20.0\n",
       "95303  NCT04144088               B3             20.0\n",
       "95304  NCT04144088               B4             60.0\n",
       "\n",
       "[95305 rows x 3 columns]"
      ]
     },
     "execution_count": 470,
     "metadata": {},
     "output_type": "execute_result"
    }
   ],
   "source": [
    "dfm_grptot = dfm.groupby(['nct_id', 'ctgov_group_code'])[['param_value_num']].sum().reset_index()\n",
    "dfm_grptot"
   ]
  },
  {
   "cell_type": "code",
   "execution_count": 471,
   "metadata": {},
   "outputs": [],
   "source": [
    "idx = dfm_grptot.groupby(['nct_id'], sort=False)['param_value_num'].transform(max) == dfm_grptot['param_value_num']\n",
    "dfm_max_rows = dfm_grptot[idx]"
   ]
  },
  {
   "cell_type": "code",
   "execution_count": 481,
   "metadata": {},
   "outputs": [],
   "source": [
    "dfm_maxgrp_titles = dfm_max_rows.merge(rg.reset_index()[['nct_id', 'ctgov_group_code', 'title']],\n",
    "                                       on=['nct_id', 'ctgov_group_code'],\n",
    "                                       how='inner').set_index('nct_id')"
   ]
  },
  {
   "cell_type": "code",
   "execution_count": 485,
   "metadata": {},
   "outputs": [
    {
     "data": {
      "text/plain": [
       "title\n",
       "Total                          22775\n",
       "All Participants                 281\n",
       "All Study Participants           279\n",
       "Entire Study Population          185\n",
       "Overall Study                    130\n",
       "Overall                          105\n",
       "Treatment                         78\n",
       "All Subjects                      78\n",
       "Total Title                       62\n",
       "All Patients                      60\n",
       "Group 1                           42\n",
       "Single Arm                        38\n",
       "Arm I                             37\n",
       "Arm 1                             32\n",
       "All Randomized Participants       30\n",
       "Intervention                      30\n",
       "Overall Study Population          30\n",
       "Treatment Arm                     29\n",
       "Tocilizumab                       27\n",
       "Overall Participants              25\n",
       "dtype: int64"
      ]
     },
     "execution_count": 485,
     "metadata": {},
     "output_type": "execute_result"
    }
   ],
   "source": [
    "dfm_maxgrp_titles.groupby('title').size().sort_values(ascending=False)[:20]"
   ]
  },
  {
   "cell_type": "code",
   "execution_count": 486,
   "metadata": {
    "scrolled": true
   },
   "outputs": [
    {
     "data": {
      "text/html": [
       "<div>\n",
       "<style scoped>\n",
       "    .dataframe tbody tr th:only-of-type {\n",
       "        vertical-align: middle;\n",
       "    }\n",
       "\n",
       "    .dataframe tbody tr th {\n",
       "        vertical-align: top;\n",
       "    }\n",
       "\n",
       "    .dataframe thead th {\n",
       "        text-align: right;\n",
       "    }\n",
       "</style>\n",
       "<table border=\"1\" class=\"dataframe\">\n",
       "  <thead>\n",
       "    <tr style=\"text-align: right;\">\n",
       "      <th></th>\n",
       "      <th>ctgov_group_code</th>\n",
       "      <th>param_value_num</th>\n",
       "      <th>title</th>\n",
       "    </tr>\n",
       "    <tr>\n",
       "      <th>nct_id</th>\n",
       "      <th></th>\n",
       "      <th></th>\n",
       "      <th></th>\n",
       "    </tr>\n",
       "  </thead>\n",
       "  <tbody>\n",
       "    <tr>\n",
       "      <td>NCT00001151</td>\n",
       "      <td>B1</td>\n",
       "      <td>6.0</td>\n",
       "      <td>Group 1</td>\n",
       "    </tr>\n",
       "    <tr>\n",
       "      <td>NCT00123734</td>\n",
       "      <td>B1</td>\n",
       "      <td>82.0</td>\n",
       "      <td>Group 1</td>\n",
       "    </tr>\n",
       "    <tr>\n",
       "      <td>NCT00178477</td>\n",
       "      <td>B1</td>\n",
       "      <td>10.0</td>\n",
       "      <td>Group 1</td>\n",
       "    </tr>\n",
       "    <tr>\n",
       "      <td>NCT00180323</td>\n",
       "      <td>B1</td>\n",
       "      <td>43.0</td>\n",
       "      <td>Group 1</td>\n",
       "    </tr>\n",
       "    <tr>\n",
       "      <td>NCT00238615</td>\n",
       "      <td>B1</td>\n",
       "      <td>13.0</td>\n",
       "      <td>Group 1</td>\n",
       "    </tr>\n",
       "    <tr>\n",
       "      <td>NCT00305760</td>\n",
       "      <td>B1</td>\n",
       "      <td>60.0</td>\n",
       "      <td>Group 1</td>\n",
       "    </tr>\n",
       "    <tr>\n",
       "      <td>NCT00311181</td>\n",
       "      <td>B1</td>\n",
       "      <td>217.0</td>\n",
       "      <td>Group 1</td>\n",
       "    </tr>\n",
       "    <tr>\n",
       "      <td>NCT00330343</td>\n",
       "      <td>B1</td>\n",
       "      <td>64.0</td>\n",
       "      <td>Group 1</td>\n",
       "    </tr>\n",
       "    <tr>\n",
       "      <td>NCT00346905</td>\n",
       "      <td>B1</td>\n",
       "      <td>16.0</td>\n",
       "      <td>Group 1</td>\n",
       "    </tr>\n",
       "    <tr>\n",
       "      <td>NCT00365846</td>\n",
       "      <td>B1</td>\n",
       "      <td>29.0</td>\n",
       "      <td>Group 1</td>\n",
       "    </tr>\n",
       "    <tr>\n",
       "      <td>NCT00374335</td>\n",
       "      <td>B1</td>\n",
       "      <td>261.0</td>\n",
       "      <td>Group 1</td>\n",
       "    </tr>\n",
       "    <tr>\n",
       "      <td>NCT00400985</td>\n",
       "      <td>B1</td>\n",
       "      <td>501.0</td>\n",
       "      <td>Group 1</td>\n",
       "    </tr>\n",
       "    <tr>\n",
       "      <td>NCT00401102</td>\n",
       "      <td>B1</td>\n",
       "      <td>12.0</td>\n",
       "      <td>Group 1</td>\n",
       "    </tr>\n",
       "    <tr>\n",
       "      <td>NCT00402740</td>\n",
       "      <td>B1</td>\n",
       "      <td>322.0</td>\n",
       "      <td>Group 1</td>\n",
       "    </tr>\n",
       "    <tr>\n",
       "      <td>NCT00426855</td>\n",
       "      <td>B1</td>\n",
       "      <td>12.0</td>\n",
       "      <td>Group 1</td>\n",
       "    </tr>\n",
       "    <tr>\n",
       "      <td>NCT00467610</td>\n",
       "      <td>B1</td>\n",
       "      <td>6.0</td>\n",
       "      <td>Group 1</td>\n",
       "    </tr>\n",
       "    <tr>\n",
       "      <td>NCT00499746</td>\n",
       "      <td>B1</td>\n",
       "      <td>8.0</td>\n",
       "      <td>Group 1</td>\n",
       "    </tr>\n",
       "    <tr>\n",
       "      <td>NCT00529035</td>\n",
       "      <td>B1</td>\n",
       "      <td>29.0</td>\n",
       "      <td>Group 1</td>\n",
       "    </tr>\n",
       "    <tr>\n",
       "      <td>NCT00573534</td>\n",
       "      <td>B1</td>\n",
       "      <td>8.0</td>\n",
       "      <td>Group 1</td>\n",
       "    </tr>\n",
       "    <tr>\n",
       "      <td>NCT00581854</td>\n",
       "      <td>B1</td>\n",
       "      <td>22.0</td>\n",
       "      <td>Group 1</td>\n",
       "    </tr>\n",
       "    <tr>\n",
       "      <td>NCT00585221</td>\n",
       "      <td>B1</td>\n",
       "      <td>8.0</td>\n",
       "      <td>Group 1</td>\n",
       "    </tr>\n",
       "    <tr>\n",
       "      <td>NCT00590772</td>\n",
       "      <td>B1</td>\n",
       "      <td>0.0</td>\n",
       "      <td>Group 1</td>\n",
       "    </tr>\n",
       "    <tr>\n",
       "      <td>NCT00591942</td>\n",
       "      <td>B1</td>\n",
       "      <td>36.0</td>\n",
       "      <td>Group 1</td>\n",
       "    </tr>\n",
       "    <tr>\n",
       "      <td>NCT00594646</td>\n",
       "      <td>B1</td>\n",
       "      <td>100.0</td>\n",
       "      <td>Group 1</td>\n",
       "    </tr>\n",
       "    <tr>\n",
       "      <td>NCT00618371</td>\n",
       "      <td>B1</td>\n",
       "      <td>12.0</td>\n",
       "      <td>Group 1</td>\n",
       "    </tr>\n",
       "    <tr>\n",
       "      <td>NCT00626093</td>\n",
       "      <td>B1</td>\n",
       "      <td>77.0</td>\n",
       "      <td>Group 1</td>\n",
       "    </tr>\n",
       "    <tr>\n",
       "      <td>NCT00728910</td>\n",
       "      <td>B1</td>\n",
       "      <td>25.0</td>\n",
       "      <td>Group 1</td>\n",
       "    </tr>\n",
       "    <tr>\n",
       "      <td>NCT00787852</td>\n",
       "      <td>B1</td>\n",
       "      <td>11.0</td>\n",
       "      <td>Group 1</td>\n",
       "    </tr>\n",
       "    <tr>\n",
       "      <td>NCT00795184</td>\n",
       "      <td>B1</td>\n",
       "      <td>101.0</td>\n",
       "      <td>Group 1</td>\n",
       "    </tr>\n",
       "    <tr>\n",
       "      <td>NCT00802659</td>\n",
       "      <td>B2</td>\n",
       "      <td>1.0</td>\n",
       "      <td>Group 1</td>\n",
       "    </tr>\n",
       "    <tr>\n",
       "      <td>NCT00820872</td>\n",
       "      <td>B1</td>\n",
       "      <td>30.0</td>\n",
       "      <td>Group 1</td>\n",
       "    </tr>\n",
       "    <tr>\n",
       "      <td>NCT00823095</td>\n",
       "      <td>B1</td>\n",
       "      <td>7.0</td>\n",
       "      <td>Group 1</td>\n",
       "    </tr>\n",
       "    <tr>\n",
       "      <td>NCT00823199</td>\n",
       "      <td>B1</td>\n",
       "      <td>10.0</td>\n",
       "      <td>Group 1</td>\n",
       "    </tr>\n",
       "    <tr>\n",
       "      <td>NCT00862186</td>\n",
       "      <td>B1</td>\n",
       "      <td>15.0</td>\n",
       "      <td>Group 1</td>\n",
       "    </tr>\n",
       "    <tr>\n",
       "      <td>NCT00953329</td>\n",
       "      <td>B1</td>\n",
       "      <td>1.0</td>\n",
       "      <td>Group 1</td>\n",
       "    </tr>\n",
       "    <tr>\n",
       "      <td>NCT01005914</td>\n",
       "      <td>B1</td>\n",
       "      <td>11.0</td>\n",
       "      <td>Group 1</td>\n",
       "    </tr>\n",
       "    <tr>\n",
       "      <td>NCT01027468</td>\n",
       "      <td>B1</td>\n",
       "      <td>160.0</td>\n",
       "      <td>Group 1</td>\n",
       "    </tr>\n",
       "    <tr>\n",
       "      <td>NCT01112696</td>\n",
       "      <td>B1</td>\n",
       "      <td>100.0</td>\n",
       "      <td>Group 1</td>\n",
       "    </tr>\n",
       "    <tr>\n",
       "      <td>NCT01167140</td>\n",
       "      <td>B1</td>\n",
       "      <td>42.0</td>\n",
       "      <td>Group 1</td>\n",
       "    </tr>\n",
       "    <tr>\n",
       "      <td>NCT01314703</td>\n",
       "      <td>B1</td>\n",
       "      <td>27.0</td>\n",
       "      <td>Group 1</td>\n",
       "    </tr>\n",
       "    <tr>\n",
       "      <td>NCT01415986</td>\n",
       "      <td>B1</td>\n",
       "      <td>1.0</td>\n",
       "      <td>Group 1</td>\n",
       "    </tr>\n",
       "    <tr>\n",
       "      <td>NCT02287415</td>\n",
       "      <td>B1</td>\n",
       "      <td>13.0</td>\n",
       "      <td>Group 1</td>\n",
       "    </tr>\n",
       "  </tbody>\n",
       "</table>\n",
       "</div>"
      ],
      "text/plain": [
       "            ctgov_group_code  param_value_num    title\n",
       "nct_id                                                \n",
       "NCT00001151               B1              6.0  Group 1\n",
       "NCT00123734               B1             82.0  Group 1\n",
       "NCT00178477               B1             10.0  Group 1\n",
       "NCT00180323               B1             43.0  Group 1\n",
       "NCT00238615               B1             13.0  Group 1\n",
       "NCT00305760               B1             60.0  Group 1\n",
       "NCT00311181               B1            217.0  Group 1\n",
       "NCT00330343               B1             64.0  Group 1\n",
       "NCT00346905               B1             16.0  Group 1\n",
       "NCT00365846               B1             29.0  Group 1\n",
       "NCT00374335               B1            261.0  Group 1\n",
       "NCT00400985               B1            501.0  Group 1\n",
       "NCT00401102               B1             12.0  Group 1\n",
       "NCT00402740               B1            322.0  Group 1\n",
       "NCT00426855               B1             12.0  Group 1\n",
       "NCT00467610               B1              6.0  Group 1\n",
       "NCT00499746               B1              8.0  Group 1\n",
       "NCT00529035               B1             29.0  Group 1\n",
       "NCT00573534               B1              8.0  Group 1\n",
       "NCT00581854               B1             22.0  Group 1\n",
       "NCT00585221               B1              8.0  Group 1\n",
       "NCT00590772               B1              0.0  Group 1\n",
       "NCT00591942               B1             36.0  Group 1\n",
       "NCT00594646               B1            100.0  Group 1\n",
       "NCT00618371               B1             12.0  Group 1\n",
       "NCT00626093               B1             77.0  Group 1\n",
       "NCT00728910               B1             25.0  Group 1\n",
       "NCT00787852               B1             11.0  Group 1\n",
       "NCT00795184               B1            101.0  Group 1\n",
       "NCT00802659               B2              1.0  Group 1\n",
       "NCT00820872               B1             30.0  Group 1\n",
       "NCT00823095               B1              7.0  Group 1\n",
       "NCT00823199               B1             10.0  Group 1\n",
       "NCT00862186               B1             15.0  Group 1\n",
       "NCT00953329               B1              1.0  Group 1\n",
       "NCT01005914               B1             11.0  Group 1\n",
       "NCT01027468               B1            160.0  Group 1\n",
       "NCT01112696               B1            100.0  Group 1\n",
       "NCT01167140               B1             42.0  Group 1\n",
       "NCT01314703               B1             27.0  Group 1\n",
       "NCT01415986               B1              1.0  Group 1\n",
       "NCT02287415               B1             13.0  Group 1"
      ]
     },
     "execution_count": 486,
     "metadata": {},
     "output_type": "execute_result"
    }
   ],
   "source": [
    "dfm_maxgrp_titles[dfm_maxgrp_titles['title'] == 'Group 1']"
   ]
  },
  {
   "cell_type": "code",
   "execution_count": 376,
   "metadata": {},
   "outputs": [
    {
     "data": {
      "text/html": [
       "<div>\n",
       "<style scoped>\n",
       "    .dataframe tbody tr th:only-of-type {\n",
       "        vertical-align: middle;\n",
       "    }\n",
       "\n",
       "    .dataframe tbody tr th {\n",
       "        vertical-align: top;\n",
       "    }\n",
       "\n",
       "    .dataframe thead th {\n",
       "        text-align: right;\n",
       "    }\n",
       "</style>\n",
       "<table border=\"1\" class=\"dataframe\">\n",
       "  <thead>\n",
       "    <tr style=\"text-align: right;\">\n",
       "      <th></th>\n",
       "      <th>nct_id</th>\n",
       "      <th>result_group_id</th>\n",
       "      <th>id</th>\n",
       "      <th>ctgov_group_code</th>\n",
       "      <th>classification</th>\n",
       "      <th>category</th>\n",
       "      <th>title</th>\n",
       "      <th>description</th>\n",
       "      <th>units</th>\n",
       "      <th>param_type</th>\n",
       "      <th>param_value</th>\n",
       "      <th>param_value_num</th>\n",
       "      <th>dispersion_type</th>\n",
       "      <th>dispersion_value</th>\n",
       "      <th>dispersion_value_num</th>\n",
       "      <th>dispersion_lower_limit</th>\n",
       "      <th>dispersion_upper_limit</th>\n",
       "      <th>explanation_of_na</th>\n",
       "      <th>is_male</th>\n",
       "      <th>title_rg</th>\n",
       "    </tr>\n",
       "  </thead>\n",
       "  <tbody>\n",
       "    <tr>\n",
       "      <td>1310</td>\n",
       "      <td>NCT00802659</td>\n",
       "      <td>2786943</td>\n",
       "      <td>3060259</td>\n",
       "      <td>B5</td>\n",
       "      <td>Female</td>\n",
       "      <td></td>\n",
       "      <td>Gender</td>\n",
       "      <td></td>\n",
       "      <td>participants</td>\n",
       "      <td>Number</td>\n",
       "      <td>1</td>\n",
       "      <td>1.0</td>\n",
       "      <td></td>\n",
       "      <td>None</td>\n",
       "      <td>NaN</td>\n",
       "      <td>NaN</td>\n",
       "      <td>NaN</td>\n",
       "      <td></td>\n",
       "      <td>False</td>\n",
       "      <td>Total</td>\n",
       "    </tr>\n",
       "    <tr>\n",
       "      <td>1312</td>\n",
       "      <td>NCT00802659</td>\n",
       "      <td>2786946</td>\n",
       "      <td>3060260</td>\n",
       "      <td>B2</td>\n",
       "      <td>Female</td>\n",
       "      <td></td>\n",
       "      <td>Gender</td>\n",
       "      <td></td>\n",
       "      <td>participants</td>\n",
       "      <td>Number</td>\n",
       "      <td>1</td>\n",
       "      <td>1.0</td>\n",
       "      <td></td>\n",
       "      <td>None</td>\n",
       "      <td>NaN</td>\n",
       "      <td>NaN</td>\n",
       "      <td>NaN</td>\n",
       "      <td></td>\n",
       "      <td>False</td>\n",
       "      <td>Group 1</td>\n",
       "    </tr>\n",
       "  </tbody>\n",
       "</table>\n",
       "</div>"
      ],
      "text/plain": [
       "           nct_id  result_group_id       id ctgov_group_code classification  \\\n",
       "1310  NCT00802659          2786943  3060259               B5         Female   \n",
       "1312  NCT00802659          2786946  3060260               B2         Female   \n",
       "\n",
       "     category   title description         units param_type param_value  \\\n",
       "1310           Gender              participants     Number           1   \n",
       "1312           Gender              participants     Number           1   \n",
       "\n",
       "      param_value_num dispersion_type dispersion_value  dispersion_value_num  \\\n",
       "1310              1.0                             None                   NaN   \n",
       "1312              1.0                             None                   NaN   \n",
       "\n",
       "      dispersion_lower_limit  dispersion_upper_limit explanation_of_na  \\\n",
       "1310                     NaN                     NaN                     \n",
       "1312                     NaN                     NaN                     \n",
       "\n",
       "      is_male title_rg  \n",
       "1310    False    Total  \n",
       "1312    False  Group 1  "
      ]
     },
     "execution_count": 376,
     "metadata": {},
     "output_type": "execute_result"
    }
   ],
   "source": [
    "dfm_max_rows[dfm_max_rows['nct_id'] == 'NCT00802659']"
   ]
  },
  {
   "cell_type": "markdown",
   "metadata": {},
   "source": [
    "### notes:\n",
    "- we want studies such that there is atleast 2 non-total groups with non-zero counts\n",
    "- want studies such there there is atleast x number of people (let's pick based on distribution)"
   ]
  },
  {
   "cell_type": "markdown",
   "metadata": {},
   "source": [
    "### First let's look at total counts"
   ]
  },
  {
   "cell_type": "code",
   "execution_count": 382,
   "metadata": {},
   "outputs": [
    {
     "data": {
      "text/html": [
       "<div>\n",
       "<style scoped>\n",
       "    .dataframe tbody tr th:only-of-type {\n",
       "        vertical-align: middle;\n",
       "    }\n",
       "\n",
       "    .dataframe tbody tr th {\n",
       "        vertical-align: top;\n",
       "    }\n",
       "\n",
       "    .dataframe thead th {\n",
       "        text-align: right;\n",
       "    }\n",
       "</style>\n",
       "<table border=\"1\" class=\"dataframe\">\n",
       "  <thead>\n",
       "    <tr style=\"text-align: right;\">\n",
       "      <th></th>\n",
       "      <th>param_value_num</th>\n",
       "    </tr>\n",
       "    <tr>\n",
       "      <th>nct_id</th>\n",
       "      <th></th>\n",
       "    </tr>\n",
       "  </thead>\n",
       "  <tbody>\n",
       "    <tr>\n",
       "      <td>NCT00000125</td>\n",
       "      <td>3272.0</td>\n",
       "    </tr>\n",
       "    <tr>\n",
       "      <td>NCT00000134</td>\n",
       "      <td>558.0</td>\n",
       "    </tr>\n",
       "    <tr>\n",
       "      <td>NCT00000135</td>\n",
       "      <td>418.0</td>\n",
       "    </tr>\n",
       "    <tr>\n",
       "      <td>NCT00000136</td>\n",
       "      <td>468.0</td>\n",
       "    </tr>\n",
       "    <tr>\n",
       "      <td>NCT00000142</td>\n",
       "      <td>128.0</td>\n",
       "    </tr>\n",
       "    <tr>\n",
       "      <td>...</td>\n",
       "      <td>...</td>\n",
       "    </tr>\n",
       "    <tr>\n",
       "      <td>NCT04069221</td>\n",
       "      <td>52.0</td>\n",
       "    </tr>\n",
       "    <tr>\n",
       "      <td>NCT04106817</td>\n",
       "      <td>70.0</td>\n",
       "    </tr>\n",
       "    <tr>\n",
       "      <td>NCT04109703</td>\n",
       "      <td>200.0</td>\n",
       "    </tr>\n",
       "    <tr>\n",
       "      <td>NCT04137627</td>\n",
       "      <td>50.0</td>\n",
       "    </tr>\n",
       "    <tr>\n",
       "      <td>NCT04144088</td>\n",
       "      <td>120.0</td>\n",
       "    </tr>\n",
       "  </tbody>\n",
       "</table>\n",
       "<p>33080 rows × 1 columns</p>\n",
       "</div>"
      ],
      "text/plain": [
       "             param_value_num\n",
       "nct_id                      \n",
       "NCT00000125           3272.0\n",
       "NCT00000134            558.0\n",
       "NCT00000135            418.0\n",
       "NCT00000136            468.0\n",
       "NCT00000142            128.0\n",
       "...                      ...\n",
       "NCT04069221             52.0\n",
       "NCT04106817             70.0\n",
       "NCT04109703            200.0\n",
       "NCT04137627             50.0\n",
       "NCT04144088            120.0\n",
       "\n",
       "[33080 rows x 1 columns]"
      ]
     },
     "execution_count": 382,
     "metadata": {},
     "output_type": "execute_result"
    }
   ],
   "source": [
    "dftotals = dfm.groupby('nct_id')[['param_value_num']].sum()\n",
    "dftotals"
   ]
  },
  {
   "cell_type": "code",
   "execution_count": 388,
   "metadata": {},
   "outputs": [
    {
     "data": {
      "text/plain": [
       "<matplotlib.axes._subplots.AxesSubplot at 0x7f114f0b9780>"
      ]
     },
     "execution_count": 388,
     "metadata": {},
     "output_type": "execute_result"
    },
    {
     "data": {
      "image/png": "[encoded data removed]",
      "text/plain": [
       "<Figure size 432x288 with 1 Axes>"
      ]
     },
     "metadata": {
      "needs_background": "light"
     },
     "output_type": "display_data"
    }
   ],
   "source": [
    "dftotals.clip(0, 2000).plot.hist(bins=100)"
   ]
  },
  {
   "cell_type": "code",
   "execution_count": 392,
   "metadata": {},
   "outputs": [
    {
     "name": "stdout",
     "output_type": "stream",
     "text": [
      "0 55 0.0016626360338573155\n",
      "1 269 0.00813180169286578\n",
      "2 526 0.015900846432889963\n",
      "3 696 0.021039903264812577\n",
      "4 967 0.02923216444981862\n",
      "5 1170 0.03536880290205562\n",
      "6 1475 0.04458887545344619\n",
      "7 1638 0.04951632406287787\n",
      "8 1915 0.057889963724304716\n",
      "9 2082 0.06293833131801693\n",
      "10 2518 0.07611850060459492\n",
      "11 2683 0.08110640870616687\n",
      "12 3046 0.09207980652962515\n",
      "13 3211 0.0970677146311971\n",
      "14 3472 0.10495767835550181\n",
      "15 3686 0.11142684401451028\n",
      "16 3974 0.12013301088270859\n",
      "17 4106 0.12412333736396615\n",
      "18 4399 0.13298065296251513\n",
      "19 4524 0.13675937122128173\n",
      "20 5037 0.15226723095525999\n",
      "21 5197 0.15710399032648126\n",
      "22 5454 0.16487303506650544\n",
      "23 5557 0.16798669891172915\n",
      "24 5928 0.17920193470374848\n",
      "25 6112 0.18476420798065296\n",
      "26 6323 0.19114268440145102\n",
      "27 6422 0.1941354292623942\n",
      "28 6667 0.2015417170495768\n",
      "29 6761 0.20438331318016928\n",
      "30 7136 0.21571946795646915\n"
     ]
    }
   ],
   "source": [
    "for i in range(0, 31):\n",
    "    sub_df = dftotals[dftotals['param_value_num'] <= i]\n",
    "    print(i, sub_df.shape[0], sub_df.shape[0]/dftotals.shape[0])"
   ]
  },
  {
   "cell_type": "markdown",
   "metadata": {},
   "source": [
    "### Decision: let's pick 30 as the total cut-off, which leave roughly 80% or 25k studies"
   ]
  },
  {
   "cell_type": "code",
   "execution_count": 411,
   "metadata": {},
   "outputs": [
    {
     "data": {
      "text/plain": [
       "(26319, 1)"
      ]
     },
     "execution_count": 411,
     "metadata": {},
     "output_type": "execute_result"
    }
   ],
   "source": [
    "df_totals_used = dftotals[dftotals['param_value_num'] >= 30]\n",
    "df_totals_used.shape"
   ]
  },
  {
   "cell_type": "markdown",
   "metadata": {},
   "source": [
    "## what are the studies that do not have atleast 2 non-zero-non-total groups?"
   ]
  },
  {
   "cell_type": "code",
   "execution_count": 418,
   "metadata": {},
   "outputs": [
    {
     "data": {
      "text/plain": [
       "(171076, 20)"
      ]
     },
     "execution_count": 418,
     "metadata": {},
     "output_type": "execute_result"
    }
   ],
   "source": [
    "# excluding studies with < 30 total participants\n",
    "dfm_sub = dfm[dfm['nct_id'].isin(df_totals_used.index)]\n",
    "dfm_sub.shape"
   ]
  },
  {
   "cell_type": "code",
   "execution_count": 419,
   "metadata": {},
   "outputs": [
    {
     "data": {
      "text/plain": [
       "(167103, 20)"
      ]
     },
     "execution_count": 419,
     "metadata": {},
     "output_type": "execute_result"
    }
   ],
   "source": [
    "df_nonzero = dfm_sub[dfm_sub['param_value_num'] > 0]\n",
    "df_nonzero.shape"
   ]
  },
  {
   "cell_type": "code",
   "execution_count": 510,
   "metadata": {},
   "outputs": [
    {
     "data": {
      "text/plain": [
       "Index(['Total', 'Placebo', 'Control', 'Control Group', 'Usual Care',\n",
       "       'All Participants', 'Placebo Group', 'Intervention',\n",
       "       'All Study Participants', 'Standard of Care', 'Entire Study Population',\n",
       "       'Vehicle', 'Group 1', 'Treatment', 'Group 2', 'Overall Study',\n",
       "       'Overall', 'Arm 1', 'Sugar Pill', 'Arm 2', 'Total Title',\n",
       "       'Standard Care', 'Cohort 2', 'Cohort 1', 'Control Arm', 'Group B',\n",
       "       'Pregabalin', 'Sitagliptin', 'Group A', 'All Subjects', 'Varenicline',\n",
       "       'Normal Saline', 'Intervention Group', 'Arm I', 'Duloxetine',\n",
       "       'Etanercept', 'Sham', 'Saline', 'Metformin', 'Treatment as Usual',\n",
       "       'Active', 'Arm A', 'Cohort 3', 'Experimental', 'Group 3', 'Arm B',\n",
       "       'Pioglitazone', 'Placebo Arm', 'Escitalopram', 'Adalimumab'],\n",
       "      dtype='object', name='title_rg')"
      ]
     },
     "execution_count": 510,
     "metadata": {},
     "output_type": "execute_result"
    }
   ],
   "source": [
    "df_nonzero.groupby('title_rg').size().sort_values(ascending=False)[:50].index"
   ]
  },
  {
   "cell_type": "code",
   "execution_count": 511,
   "metadata": {},
   "outputs": [],
   "source": [
    "total_strings = ['Total', \n",
    "                 'All Participants', \n",
    "                 'All Study Participants', \n",
    "                 'Entire Study Population',\n",
    "                 'Overall Study',\n",
    "                 'Overall', \n",
    "                 'Total Title']"
   ]
  },
  {
   "cell_type": "code",
   "execution_count": 514,
   "metadata": {},
   "outputs": [],
   "source": [
    "df_nonzero_non_total = df_nonzero[~df_nonzero['title_rg'].isin(total_strings)]"
   ]
  },
  {
   "cell_type": "code",
   "execution_count": 516,
   "metadata": {},
   "outputs": [
    {
     "data": {
      "text/plain": [
       "(25849,)"
      ]
     },
     "execution_count": 516,
     "metadata": {},
     "output_type": "execute_result"
    }
   ],
   "source": [
    "df_nonzero_groups = df_nonzero_non_total.groupby(['nct_id'])['ctgov_group_code'].nunique()\n",
    "df_nonzero_groups.shape"
   ]
  },
  {
   "cell_type": "code",
   "execution_count": 517,
   "metadata": {},
   "outputs": [
    {
     "data": {
      "text/plain": [
       "21239"
      ]
     },
     "execution_count": 517,
     "metadata": {},
     "output_type": "execute_result"
    }
   ],
   "source": [
    "df_nonzero_used = df_nonzero_groups[df_nonzero_groups > 1].index\n",
    "len(df_nonzero_used)"
   ]
  },
  {
   "cell_type": "code",
   "execution_count": 518,
   "metadata": {},
   "outputs": [],
   "source": [
    "# excluding studies with less than 1 group where there is a non-zero number\n",
    "dfm_used = dfm_sub[dfm_sub['nct_id'].isin(df_nonzero_used)]"
   ]
  },
  {
   "cell_type": "code",
   "execution_count": 519,
   "metadata": {},
   "outputs": [
    {
     "data": {
      "text/plain": [
       "(0.556023875595581, 21239)"
      ]
     },
     "execution_count": 519,
     "metadata": {},
     "output_type": "execute_result"
    }
   ],
   "source": [
    "num_final = dfm_used.groupby('nct_id').sum().shape[0] \n",
    "num_final / bm_all, num_final"
   ]
  },
  {
   "cell_type": "markdown",
   "metadata": {},
   "source": [
    "at the end, we are left with 56% of our studies (21k)"
   ]
  },
  {
   "cell_type": "markdown",
   "metadata": {},
   "source": [
    "### rerunning code from before to get the largest groups"
   ]
  },
  {
   "cell_type": "code",
   "execution_count": 549,
   "metadata": {},
   "outputs": [],
   "source": [
    "dfm_used_no_pct = dfm_used[dfm_used['units'].apply(lambda x: False if 'percent' in x.lower() else True)]"
   ]
  },
  {
   "cell_type": "code",
   "execution_count": 550,
   "metadata": {},
   "outputs": [
    {
     "data": {
      "text/html": [
       "<div>\n",
       "<style scoped>\n",
       "    .dataframe tbody tr th:only-of-type {\n",
       "        vertical-align: middle;\n",
       "    }\n",
       "\n",
       "    .dataframe tbody tr th {\n",
       "        vertical-align: top;\n",
       "    }\n",
       "\n",
       "    .dataframe thead th {\n",
       "        text-align: right;\n",
       "    }\n",
       "</style>\n",
       "<table border=\"1\" class=\"dataframe\">\n",
       "  <thead>\n",
       "    <tr style=\"text-align: right;\">\n",
       "      <th></th>\n",
       "      <th>nct_id</th>\n",
       "      <th>ctgov_group_code</th>\n",
       "      <th>param_value_num</th>\n",
       "    </tr>\n",
       "  </thead>\n",
       "  <tbody>\n",
       "    <tr>\n",
       "      <td>0</td>\n",
       "      <td>NCT00000125</td>\n",
       "      <td>B1</td>\n",
       "      <td>819.0</td>\n",
       "    </tr>\n",
       "    <tr>\n",
       "      <td>1</td>\n",
       "      <td>NCT00000125</td>\n",
       "      <td>B2</td>\n",
       "      <td>817.0</td>\n",
       "    </tr>\n",
       "    <tr>\n",
       "      <td>2</td>\n",
       "      <td>NCT00000125</td>\n",
       "      <td>B3</td>\n",
       "      <td>1636.0</td>\n",
       "    </tr>\n",
       "    <tr>\n",
       "      <td>3</td>\n",
       "      <td>NCT00000134</td>\n",
       "      <td>B1</td>\n",
       "      <td>89.0</td>\n",
       "    </tr>\n",
       "    <tr>\n",
       "      <td>4</td>\n",
       "      <td>NCT00000134</td>\n",
       "      <td>B2</td>\n",
       "      <td>94.0</td>\n",
       "    </tr>\n",
       "    <tr>\n",
       "      <td>...</td>\n",
       "      <td>...</td>\n",
       "      <td>...</td>\n",
       "      <td>...</td>\n",
       "    </tr>\n",
       "    <tr>\n",
       "      <td>80127</td>\n",
       "      <td>NCT04137627</td>\n",
       "      <td>B3</td>\n",
       "      <td>25.0</td>\n",
       "    </tr>\n",
       "    <tr>\n",
       "      <td>80128</td>\n",
       "      <td>NCT04144088</td>\n",
       "      <td>B1</td>\n",
       "      <td>20.0</td>\n",
       "    </tr>\n",
       "    <tr>\n",
       "      <td>80129</td>\n",
       "      <td>NCT04144088</td>\n",
       "      <td>B2</td>\n",
       "      <td>20.0</td>\n",
       "    </tr>\n",
       "    <tr>\n",
       "      <td>80130</td>\n",
       "      <td>NCT04144088</td>\n",
       "      <td>B3</td>\n",
       "      <td>20.0</td>\n",
       "    </tr>\n",
       "    <tr>\n",
       "      <td>80131</td>\n",
       "      <td>NCT04144088</td>\n",
       "      <td>B4</td>\n",
       "      <td>60.0</td>\n",
       "    </tr>\n",
       "  </tbody>\n",
       "</table>\n",
       "<p>80132 rows × 3 columns</p>\n",
       "</div>"
      ],
      "text/plain": [
       "            nct_id ctgov_group_code  param_value_num\n",
       "0      NCT00000125               B1            819.0\n",
       "1      NCT00000125               B2            817.0\n",
       "2      NCT00000125               B3           1636.0\n",
       "3      NCT00000134               B1             89.0\n",
       "4      NCT00000134               B2             94.0\n",
       "...            ...              ...              ...\n",
       "80127  NCT04137627               B3             25.0\n",
       "80128  NCT04144088               B1             20.0\n",
       "80129  NCT04144088               B2             20.0\n",
       "80130  NCT04144088               B3             20.0\n",
       "80131  NCT04144088               B4             60.0\n",
       "\n",
       "[80132 rows x 3 columns]"
      ]
     },
     "execution_count": 550,
     "metadata": {},
     "output_type": "execute_result"
    }
   ],
   "source": [
    "dfm_grptot = dfm_used_no_pct.groupby(['nct_id', 'ctgov_group_code'])[['param_value_num']].sum().reset_index()\n",
    "dfm_grptot"
   ]
  },
  {
   "cell_type": "code",
   "execution_count": 551,
   "metadata": {},
   "outputs": [],
   "source": [
    "idx = dfm_grptot.groupby(['nct_id'], sort=False)['param_value_num'].transform(max) == dfm_grptot['param_value_num']\n",
    "dfm_max_rows = dfm_grptot[idx]"
   ]
  },
  {
   "cell_type": "code",
   "execution_count": 552,
   "metadata": {},
   "outputs": [],
   "source": [
    "dfm_maxgrp_titles = dfm_max_rows.merge(rg.reset_index()[['nct_id', 'ctgov_group_code', 'title']],\n",
    "                                       on=['nct_id', 'ctgov_group_code'],\n",
    "                                       how='inner').set_index('nct_id')"
   ]
  },
  {
   "cell_type": "code",
   "execution_count": 553,
   "metadata": {},
   "outputs": [
    {
     "data": {
      "text/plain": [
       "title\n",
       "Total                                                        21150\n",
       "Total Title                                                     62\n",
       "TOTAL                                                           15\n",
       "IDeg                                                             1\n",
       "10PP-HD 3+0d Group                                               1\n",
       "10PP-LD 3+0d Group                                               1\n",
       "Clinically Driven Monitoring (CDM)                               1\n",
       "Continuous Glucose Monitoring                                    1\n",
       "Electronically-Measuring Adherence Intervention: Patients        1\n",
       "GSK134612A Form1 (C), Primary Group                              1\n",
       "MenACWY (6-10 Years Old)                                         1\n",
       "MenACWY-PS (6-10 Years Old)                                      1\n",
       "Part 2: Placebo Cohort 1-4                                       1\n",
       "Pooled AF37702 Inj.                                              1\n",
       "Prevnar13 3+0d Group                                             1\n",
       "Synflorix 2+1d Group                                             1\n",
       "Synflorix 3+0d Group                                             1\n",
       "10PP-HD 2+1d Group                                               1\n",
       "dtype: int64"
      ]
     },
     "execution_count": 553,
     "metadata": {},
     "output_type": "execute_result"
    }
   ],
   "source": [
    "dfm_maxgrp_titles.groupby('title').size().sort_values(ascending=False)"
   ]
  },
  {
   "cell_type": "code",
   "execution_count": 554,
   "metadata": {},
   "outputs": [
    {
     "data": {
      "text/html": [
       "<div>\n",
       "<style scoped>\n",
       "    .dataframe tbody tr th:only-of-type {\n",
       "        vertical-align: middle;\n",
       "    }\n",
       "\n",
       "    .dataframe tbody tr th {\n",
       "        vertical-align: top;\n",
       "    }\n",
       "\n",
       "    .dataframe thead th {\n",
       "        text-align: right;\n",
       "    }\n",
       "</style>\n",
       "<table border=\"1\" class=\"dataframe\">\n",
       "  <thead>\n",
       "    <tr style=\"text-align: right;\">\n",
       "      <th></th>\n",
       "      <th>ctgov_group_code</th>\n",
       "      <th>param_value_num</th>\n",
       "      <th>title</th>\n",
       "    </tr>\n",
       "    <tr>\n",
       "      <th>nct_id</th>\n",
       "      <th></th>\n",
       "      <th></th>\n",
       "      <th></th>\n",
       "    </tr>\n",
       "  </thead>\n",
       "  <tbody>\n",
       "    <tr>\n",
       "      <td>NCT01388361</td>\n",
       "      <td>B1</td>\n",
       "      <td>236.0</td>\n",
       "      <td>IDeg</td>\n",
       "    </tr>\n",
       "  </tbody>\n",
       "</table>\n",
       "</div>"
      ],
      "text/plain": [
       "            ctgov_group_code  param_value_num title\n",
       "nct_id                                             \n",
       "NCT01388361               B1            236.0  IDeg"
      ]
     },
     "execution_count": 554,
     "metadata": {},
     "output_type": "execute_result"
    }
   ],
   "source": [
    "dfm_maxgrp_titles[dfm_maxgrp_titles['title'] == 'IDeg']"
   ]
  },
  {
   "cell_type": "code",
   "execution_count": 555,
   "metadata": {},
   "outputs": [
    {
     "data": {
      "text/html": [
       "<div>\n",
       "<style scoped>\n",
       "    .dataframe tbody tr th:only-of-type {\n",
       "        vertical-align: middle;\n",
       "    }\n",
       "\n",
       "    .dataframe tbody tr th {\n",
       "        vertical-align: top;\n",
       "    }\n",
       "\n",
       "    .dataframe thead th {\n",
       "        text-align: right;\n",
       "    }\n",
       "</style>\n",
       "<table border=\"1\" class=\"dataframe\">\n",
       "  <thead>\n",
       "    <tr style=\"text-align: right;\">\n",
       "      <th></th>\n",
       "      <th>nct_id</th>\n",
       "      <th>result_group_id</th>\n",
       "      <th>id</th>\n",
       "      <th>ctgov_group_code</th>\n",
       "      <th>classification</th>\n",
       "      <th>category</th>\n",
       "      <th>title</th>\n",
       "      <th>description</th>\n",
       "      <th>units</th>\n",
       "      <th>param_type</th>\n",
       "      <th>param_value</th>\n",
       "      <th>param_value_num</th>\n",
       "      <th>dispersion_type</th>\n",
       "      <th>dispersion_value</th>\n",
       "      <th>dispersion_value_num</th>\n",
       "      <th>dispersion_lower_limit</th>\n",
       "      <th>dispersion_upper_limit</th>\n",
       "      <th>explanation_of_na</th>\n",
       "      <th>is_male</th>\n",
       "      <th>title_rg</th>\n",
       "    </tr>\n",
       "  </thead>\n",
       "  <tbody>\n",
       "    <tr>\n",
       "      <td>107686</td>\n",
       "      <td>NCT01388361</td>\n",
       "      <td>2525098</td>\n",
       "      <td>2794247</td>\n",
       "      <td>B4</td>\n",
       "      <td></td>\n",
       "      <td>Male</td>\n",
       "      <td>Sex: Female, Male</td>\n",
       "      <td>Randomised population.</td>\n",
       "      <td>Participants</td>\n",
       "      <td>Count of Participants</td>\n",
       "      <td>NA</td>\n",
       "      <td>NaN</td>\n",
       "      <td></td>\n",
       "      <td>None</td>\n",
       "      <td>NaN</td>\n",
       "      <td>NaN</td>\n",
       "      <td>NaN</td>\n",
       "      <td>Total not calculated because data are not avai...</td>\n",
       "      <td>True</td>\n",
       "      <td>Total</td>\n",
       "    </tr>\n",
       "    <tr>\n",
       "      <td>107687</td>\n",
       "      <td>NCT01388361</td>\n",
       "      <td>2525098</td>\n",
       "      <td>2794251</td>\n",
       "      <td>B4</td>\n",
       "      <td></td>\n",
       "      <td>Female</td>\n",
       "      <td>Sex: Female, Male</td>\n",
       "      <td>Randomised population.</td>\n",
       "      <td>Participants</td>\n",
       "      <td>Count of Participants</td>\n",
       "      <td>NA</td>\n",
       "      <td>NaN</td>\n",
       "      <td></td>\n",
       "      <td>None</td>\n",
       "      <td>NaN</td>\n",
       "      <td>NaN</td>\n",
       "      <td>NaN</td>\n",
       "      <td>Total not calculated because data are not avai...</td>\n",
       "      <td>False</td>\n",
       "      <td>Total</td>\n",
       "    </tr>\n",
       "    <tr>\n",
       "      <td>107688</td>\n",
       "      <td>NCT01388361</td>\n",
       "      <td>2525098</td>\n",
       "      <td>2794255</td>\n",
       "      <td>B4</td>\n",
       "      <td></td>\n",
       "      <td>Male</td>\n",
       "      <td>Sex: Female, Male</td>\n",
       "      <td>Non-randomised population.</td>\n",
       "      <td>Participants</td>\n",
       "      <td>Count of Participants</td>\n",
       "      <td>NA</td>\n",
       "      <td>NaN</td>\n",
       "      <td></td>\n",
       "      <td>None</td>\n",
       "      <td>NaN</td>\n",
       "      <td>NaN</td>\n",
       "      <td>NaN</td>\n",
       "      <td>Total not calculated because data are not avai...</td>\n",
       "      <td>True</td>\n",
       "      <td>Total</td>\n",
       "    </tr>\n",
       "    <tr>\n",
       "      <td>107689</td>\n",
       "      <td>NCT01388361</td>\n",
       "      <td>2525098</td>\n",
       "      <td>2794259</td>\n",
       "      <td>B4</td>\n",
       "      <td></td>\n",
       "      <td>Female</td>\n",
       "      <td>Sex: Female, Male</td>\n",
       "      <td>Non-randomised population.</td>\n",
       "      <td>Participants</td>\n",
       "      <td>Count of Participants</td>\n",
       "      <td>NA</td>\n",
       "      <td>NaN</td>\n",
       "      <td></td>\n",
       "      <td>None</td>\n",
       "      <td>NaN</td>\n",
       "      <td>NaN</td>\n",
       "      <td>NaN</td>\n",
       "      <td>Total not calculated because data are not avai...</td>\n",
       "      <td>False</td>\n",
       "      <td>Total</td>\n",
       "    </tr>\n",
       "    <tr>\n",
       "      <td>107690</td>\n",
       "      <td>NCT01388361</td>\n",
       "      <td>2525099</td>\n",
       "      <td>2794248</td>\n",
       "      <td>B3</td>\n",
       "      <td></td>\n",
       "      <td>Male</td>\n",
       "      <td>Sex: Female, Male</td>\n",
       "      <td>Randomised population.</td>\n",
       "      <td>Participants</td>\n",
       "      <td>Count of Participants</td>\n",
       "      <td>53</td>\n",
       "      <td>53.0</td>\n",
       "      <td></td>\n",
       "      <td>None</td>\n",
       "      <td>NaN</td>\n",
       "      <td>NaN</td>\n",
       "      <td>NaN</td>\n",
       "      <td></td>\n",
       "      <td>True</td>\n",
       "      <td>IDeg + IAsp OD</td>\n",
       "    </tr>\n",
       "    <tr>\n",
       "      <td>107691</td>\n",
       "      <td>NCT01388361</td>\n",
       "      <td>2525099</td>\n",
       "      <td>2794252</td>\n",
       "      <td>B3</td>\n",
       "      <td></td>\n",
       "      <td>Female</td>\n",
       "      <td>Sex: Female, Male</td>\n",
       "      <td>Randomised population.</td>\n",
       "      <td>Participants</td>\n",
       "      <td>Count of Participants</td>\n",
       "      <td>36</td>\n",
       "      <td>36.0</td>\n",
       "      <td></td>\n",
       "      <td>None</td>\n",
       "      <td>NaN</td>\n",
       "      <td>NaN</td>\n",
       "      <td>NaN</td>\n",
       "      <td></td>\n",
       "      <td>False</td>\n",
       "      <td>IDeg + IAsp OD</td>\n",
       "    </tr>\n",
       "    <tr>\n",
       "      <td>107692</td>\n",
       "      <td>NCT01388361</td>\n",
       "      <td>2525099</td>\n",
       "      <td>2794256</td>\n",
       "      <td>B3</td>\n",
       "      <td></td>\n",
       "      <td>Male</td>\n",
       "      <td>Sex: Female, Male</td>\n",
       "      <td>Non-randomised population.</td>\n",
       "      <td>Participants</td>\n",
       "      <td>Count of Participants</td>\n",
       "      <td>NA</td>\n",
       "      <td>NaN</td>\n",
       "      <td></td>\n",
       "      <td>None</td>\n",
       "      <td>NaN</td>\n",
       "      <td>NaN</td>\n",
       "      <td>NaN</td>\n",
       "      <td>Values available in the next row, baseline val...</td>\n",
       "      <td>True</td>\n",
       "      <td>IDeg + IAsp OD</td>\n",
       "    </tr>\n",
       "    <tr>\n",
       "      <td>107693</td>\n",
       "      <td>NCT01388361</td>\n",
       "      <td>2525099</td>\n",
       "      <td>2794260</td>\n",
       "      <td>B3</td>\n",
       "      <td></td>\n",
       "      <td>Female</td>\n",
       "      <td>Sex: Female, Male</td>\n",
       "      <td>Non-randomised population.</td>\n",
       "      <td>Participants</td>\n",
       "      <td>Count of Participants</td>\n",
       "      <td>NA</td>\n",
       "      <td>NaN</td>\n",
       "      <td></td>\n",
       "      <td>None</td>\n",
       "      <td>NaN</td>\n",
       "      <td>NaN</td>\n",
       "      <td>NaN</td>\n",
       "      <td>Values available in the next row, baseline val...</td>\n",
       "      <td>False</td>\n",
       "      <td>IDeg + IAsp OD</td>\n",
       "    </tr>\n",
       "    <tr>\n",
       "      <td>107694</td>\n",
       "      <td>NCT01388361</td>\n",
       "      <td>2525100</td>\n",
       "      <td>2794249</td>\n",
       "      <td>B2</td>\n",
       "      <td></td>\n",
       "      <td>Male</td>\n",
       "      <td>Sex: Female, Male</td>\n",
       "      <td>Randomised population.</td>\n",
       "      <td>Participants</td>\n",
       "      <td>Count of Participants</td>\n",
       "      <td>63</td>\n",
       "      <td>63.0</td>\n",
       "      <td></td>\n",
       "      <td>None</td>\n",
       "      <td>NaN</td>\n",
       "      <td>NaN</td>\n",
       "      <td>NaN</td>\n",
       "      <td></td>\n",
       "      <td>True</td>\n",
       "      <td>IDeg + Liraglutide</td>\n",
       "    </tr>\n",
       "    <tr>\n",
       "      <td>107695</td>\n",
       "      <td>NCT01388361</td>\n",
       "      <td>2525100</td>\n",
       "      <td>2794253</td>\n",
       "      <td>B2</td>\n",
       "      <td></td>\n",
       "      <td>Female</td>\n",
       "      <td>Sex: Female, Male</td>\n",
       "      <td>Randomised population.</td>\n",
       "      <td>Participants</td>\n",
       "      <td>Count of Participants</td>\n",
       "      <td>25</td>\n",
       "      <td>25.0</td>\n",
       "      <td></td>\n",
       "      <td>None</td>\n",
       "      <td>NaN</td>\n",
       "      <td>NaN</td>\n",
       "      <td>NaN</td>\n",
       "      <td></td>\n",
       "      <td>False</td>\n",
       "      <td>IDeg + Liraglutide</td>\n",
       "    </tr>\n",
       "    <tr>\n",
       "      <td>107696</td>\n",
       "      <td>NCT01388361</td>\n",
       "      <td>2525100</td>\n",
       "      <td>2794257</td>\n",
       "      <td>B2</td>\n",
       "      <td></td>\n",
       "      <td>Male</td>\n",
       "      <td>Sex: Female, Male</td>\n",
       "      <td>Non-randomised population.</td>\n",
       "      <td>Participants</td>\n",
       "      <td>Count of Participants</td>\n",
       "      <td>NA</td>\n",
       "      <td>NaN</td>\n",
       "      <td></td>\n",
       "      <td>None</td>\n",
       "      <td>NaN</td>\n",
       "      <td>NaN</td>\n",
       "      <td>NaN</td>\n",
       "      <td>Values available in the next row, baseline val...</td>\n",
       "      <td>True</td>\n",
       "      <td>IDeg + Liraglutide</td>\n",
       "    </tr>\n",
       "    <tr>\n",
       "      <td>107697</td>\n",
       "      <td>NCT01388361</td>\n",
       "      <td>2525100</td>\n",
       "      <td>2794261</td>\n",
       "      <td>B2</td>\n",
       "      <td></td>\n",
       "      <td>Female</td>\n",
       "      <td>Sex: Female, Male</td>\n",
       "      <td>Non-randomised population.</td>\n",
       "      <td>Participants</td>\n",
       "      <td>Count of Participants</td>\n",
       "      <td>NA</td>\n",
       "      <td>NaN</td>\n",
       "      <td></td>\n",
       "      <td>None</td>\n",
       "      <td>NaN</td>\n",
       "      <td>NaN</td>\n",
       "      <td>NaN</td>\n",
       "      <td>Values available in the next row, baseline val...</td>\n",
       "      <td>False</td>\n",
       "      <td>IDeg + Liraglutide</td>\n",
       "    </tr>\n",
       "    <tr>\n",
       "      <td>107698</td>\n",
       "      <td>NCT01388361</td>\n",
       "      <td>2525101</td>\n",
       "      <td>2794250</td>\n",
       "      <td>B1</td>\n",
       "      <td></td>\n",
       "      <td>Male</td>\n",
       "      <td>Sex: Female, Male</td>\n",
       "      <td>Randomised population.</td>\n",
       "      <td>Participants</td>\n",
       "      <td>Count of Participants</td>\n",
       "      <td>NA</td>\n",
       "      <td>NaN</td>\n",
       "      <td></td>\n",
       "      <td>None</td>\n",
       "      <td>NaN</td>\n",
       "      <td>NaN</td>\n",
       "      <td>NaN</td>\n",
       "      <td>Values available in the previous row, baseline...</td>\n",
       "      <td>True</td>\n",
       "      <td>IDeg</td>\n",
       "    </tr>\n",
       "    <tr>\n",
       "      <td>107699</td>\n",
       "      <td>NCT01388361</td>\n",
       "      <td>2525101</td>\n",
       "      <td>2794254</td>\n",
       "      <td>B1</td>\n",
       "      <td></td>\n",
       "      <td>Female</td>\n",
       "      <td>Sex: Female, Male</td>\n",
       "      <td>Randomised population.</td>\n",
       "      <td>Participants</td>\n",
       "      <td>Count of Participants</td>\n",
       "      <td>NA</td>\n",
       "      <td>NaN</td>\n",
       "      <td></td>\n",
       "      <td>None</td>\n",
       "      <td>NaN</td>\n",
       "      <td>NaN</td>\n",
       "      <td>NaN</td>\n",
       "      <td>Values available in the previous row, baseline...</td>\n",
       "      <td>False</td>\n",
       "      <td>IDeg</td>\n",
       "    </tr>\n",
       "    <tr>\n",
       "      <td>107700</td>\n",
       "      <td>NCT01388361</td>\n",
       "      <td>2525101</td>\n",
       "      <td>2794258</td>\n",
       "      <td>B1</td>\n",
       "      <td></td>\n",
       "      <td>Male</td>\n",
       "      <td>Sex: Female, Male</td>\n",
       "      <td>Non-randomised population.</td>\n",
       "      <td>Participants</td>\n",
       "      <td>Count of Participants</td>\n",
       "      <td>146</td>\n",
       "      <td>146.0</td>\n",
       "      <td></td>\n",
       "      <td>None</td>\n",
       "      <td>NaN</td>\n",
       "      <td>NaN</td>\n",
       "      <td>NaN</td>\n",
       "      <td></td>\n",
       "      <td>True</td>\n",
       "      <td>IDeg</td>\n",
       "    </tr>\n",
       "    <tr>\n",
       "      <td>107701</td>\n",
       "      <td>NCT01388361</td>\n",
       "      <td>2525101</td>\n",
       "      <td>2794262</td>\n",
       "      <td>B1</td>\n",
       "      <td></td>\n",
       "      <td>Female</td>\n",
       "      <td>Sex: Female, Male</td>\n",
       "      <td>Non-randomised population.</td>\n",
       "      <td>Participants</td>\n",
       "      <td>Count of Participants</td>\n",
       "      <td>90</td>\n",
       "      <td>90.0</td>\n",
       "      <td></td>\n",
       "      <td>None</td>\n",
       "      <td>NaN</td>\n",
       "      <td>NaN</td>\n",
       "      <td>NaN</td>\n",
       "      <td></td>\n",
       "      <td>False</td>\n",
       "      <td>IDeg</td>\n",
       "    </tr>\n",
       "  </tbody>\n",
       "</table>\n",
       "</div>"
      ],
      "text/plain": [
       "             nct_id  result_group_id       id ctgov_group_code classification  \\\n",
       "107686  NCT01388361          2525098  2794247               B4                  \n",
       "107687  NCT01388361          2525098  2794251               B4                  \n",
       "107688  NCT01388361          2525098  2794255               B4                  \n",
       "107689  NCT01388361          2525098  2794259               B4                  \n",
       "107690  NCT01388361          2525099  2794248               B3                  \n",
       "107691  NCT01388361          2525099  2794252               B3                  \n",
       "107692  NCT01388361          2525099  2794256               B3                  \n",
       "107693  NCT01388361          2525099  2794260               B3                  \n",
       "107694  NCT01388361          2525100  2794249               B2                  \n",
       "107695  NCT01388361          2525100  2794253               B2                  \n",
       "107696  NCT01388361          2525100  2794257               B2                  \n",
       "107697  NCT01388361          2525100  2794261               B2                  \n",
       "107698  NCT01388361          2525101  2794250               B1                  \n",
       "107699  NCT01388361          2525101  2794254               B1                  \n",
       "107700  NCT01388361          2525101  2794258               B1                  \n",
       "107701  NCT01388361          2525101  2794262               B1                  \n",
       "\n",
       "       category              title                 description         units  \\\n",
       "107686     Male  Sex: Female, Male      Randomised population.  Participants   \n",
       "107687   Female  Sex: Female, Male      Randomised population.  Participants   \n",
       "107688     Male  Sex: Female, Male  Non-randomised population.  Participants   \n",
       "107689   Female  Sex: Female, Male  Non-randomised population.  Participants   \n",
       "107690     Male  Sex: Female, Male      Randomised population.  Participants   \n",
       "107691   Female  Sex: Female, Male      Randomised population.  Participants   \n",
       "107692     Male  Sex: Female, Male  Non-randomised population.  Participants   \n",
       "107693   Female  Sex: Female, Male  Non-randomised population.  Participants   \n",
       "107694     Male  Sex: Female, Male      Randomised population.  Participants   \n",
       "107695   Female  Sex: Female, Male      Randomised population.  Participants   \n",
       "107696     Male  Sex: Female, Male  Non-randomised population.  Participants   \n",
       "107697   Female  Sex: Female, Male  Non-randomised population.  Participants   \n",
       "107698     Male  Sex: Female, Male      Randomised population.  Participants   \n",
       "107699   Female  Sex: Female, Male      Randomised population.  Participants   \n",
       "107700     Male  Sex: Female, Male  Non-randomised population.  Participants   \n",
       "107701   Female  Sex: Female, Male  Non-randomised population.  Participants   \n",
       "\n",
       "                   param_type param_value  param_value_num dispersion_type  \\\n",
       "107686  Count of Participants          NA              NaN                   \n",
       "107687  Count of Participants          NA              NaN                   \n",
       "107688  Count of Participants          NA              NaN                   \n",
       "107689  Count of Participants          NA              NaN                   \n",
       "107690  Count of Participants          53             53.0                   \n",
       "107691  Count of Participants          36             36.0                   \n",
       "107692  Count of Participants          NA              NaN                   \n",
       "107693  Count of Participants          NA              NaN                   \n",
       "107694  Count of Participants          63             63.0                   \n",
       "107695  Count of Participants          25             25.0                   \n",
       "107696  Count of Participants          NA              NaN                   \n",
       "107697  Count of Participants          NA              NaN                   \n",
       "107698  Count of Participants          NA              NaN                   \n",
       "107699  Count of Participants          NA              NaN                   \n",
       "107700  Count of Participants         146            146.0                   \n",
       "107701  Count of Participants          90             90.0                   \n",
       "\n",
       "       dispersion_value  dispersion_value_num  dispersion_lower_limit  \\\n",
       "107686             None                   NaN                     NaN   \n",
       "107687             None                   NaN                     NaN   \n",
       "107688             None                   NaN                     NaN   \n",
       "107689             None                   NaN                     NaN   \n",
       "107690             None                   NaN                     NaN   \n",
       "107691             None                   NaN                     NaN   \n",
       "107692             None                   NaN                     NaN   \n",
       "107693             None                   NaN                     NaN   \n",
       "107694             None                   NaN                     NaN   \n",
       "107695             None                   NaN                     NaN   \n",
       "107696             None                   NaN                     NaN   \n",
       "107697             None                   NaN                     NaN   \n",
       "107698             None                   NaN                     NaN   \n",
       "107699             None                   NaN                     NaN   \n",
       "107700             None                   NaN                     NaN   \n",
       "107701             None                   NaN                     NaN   \n",
       "\n",
       "        dispersion_upper_limit  \\\n",
       "107686                     NaN   \n",
       "107687                     NaN   \n",
       "107688                     NaN   \n",
       "107689                     NaN   \n",
       "107690                     NaN   \n",
       "107691                     NaN   \n",
       "107692                     NaN   \n",
       "107693                     NaN   \n",
       "107694                     NaN   \n",
       "107695                     NaN   \n",
       "107696                     NaN   \n",
       "107697                     NaN   \n",
       "107698                     NaN   \n",
       "107699                     NaN   \n",
       "107700                     NaN   \n",
       "107701                     NaN   \n",
       "\n",
       "                                        explanation_of_na  is_male  \\\n",
       "107686  Total not calculated because data are not avai...     True   \n",
       "107687  Total not calculated because data are not avai...    False   \n",
       "107688  Total not calculated because data are not avai...     True   \n",
       "107689  Total not calculated because data are not avai...    False   \n",
       "107690                                                        True   \n",
       "107691                                                       False   \n",
       "107692  Values available in the next row, baseline val...     True   \n",
       "107693  Values available in the next row, baseline val...    False   \n",
       "107694                                                        True   \n",
       "107695                                                       False   \n",
       "107696  Values available in the next row, baseline val...     True   \n",
       "107697  Values available in the next row, baseline val...    False   \n",
       "107698  Values available in the previous row, baseline...     True   \n",
       "107699  Values available in the previous row, baseline...    False   \n",
       "107700                                                        True   \n",
       "107701                                                       False   \n",
       "\n",
       "                  title_rg  \n",
       "107686               Total  \n",
       "107687               Total  \n",
       "107688               Total  \n",
       "107689               Total  \n",
       "107690      IDeg + IAsp OD  \n",
       "107691      IDeg + IAsp OD  \n",
       "107692      IDeg + IAsp OD  \n",
       "107693      IDeg + IAsp OD  \n",
       "107694  IDeg + Liraglutide  \n",
       "107695  IDeg + Liraglutide  \n",
       "107696  IDeg + Liraglutide  \n",
       "107697  IDeg + Liraglutide  \n",
       "107698                IDeg  \n",
       "107699                IDeg  \n",
       "107700                IDeg  \n",
       "107701                IDeg  "
      ]
     },
     "execution_count": 555,
     "metadata": {},
     "output_type": "execute_result"
    }
   ],
   "source": [
    "dfm[dfm['nct_id'] == 'NCT01388361']"
   ]
  },
  {
   "cell_type": "code",
   "execution_count": 530,
   "metadata": {},
   "outputs": [
    {
     "data": {
      "text/plain": [
       "array(['participants', 'Participants', 'participants in follow up study',\n",
       "       'percent', 'Patients', 'Number', 'Subjects', 'Participant',\n",
       "       'participant', 'hips', 'infants', 'percentage of participants',\n",
       "       'subjects', 'partipants', 'participants with data available',\n",
       "       'Paricipants', 'eyes', 'male/female', 'Percentage of participants',\n",
       "       'blood samples', 'Count of participants', 'patients'], dtype=object)"
      ]
     },
     "execution_count": 530,
     "metadata": {},
     "output_type": "execute_result"
    }
   ],
   "source": [
    "dfm['units'].unique()"
   ]
  },
  {
   "cell_type": "code",
   "execution_count": null,
   "metadata": {},
   "outputs": [],
   "source": []
  }
 ],
 "metadata": {
  "kernelspec": {
   "display_name": "Python 3",
   "language": "python",
   "name": "python3"
  },
  "language_info": {
   "codemirror_mode": {
    "name": "ipython",
    "version": 3
   },
   "file_extension": ".py",
   "mimetype": "text/x-python",
   "name": "python",
   "nbconvert_exporter": "python",
   "pygments_lexer": "ipython3",
   "version": "3.6.9"
  }
 },
 "nbformat": 4,
 "nbformat_minor": 2
}
