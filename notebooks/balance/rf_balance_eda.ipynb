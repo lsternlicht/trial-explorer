{
 "cells": [
  {
   "cell_type": "code",
   "execution_count": 1,
   "metadata": {},
   "outputs": [],
   "source": [
    "import sys\n",
    "if \"../../\" not in sys.path:\n",
    "    sys.path.append(\"../../\")"
   ]
  },
  {
   "cell_type": "code",
   "execution_count": 2,
   "metadata": {},
   "outputs": [],
   "source": [
    "import pandas as pd\n",
    "import numpy as np\n",
    "from importlib import reload\n",
    "from tqdm import tqdm_notebook as tqdm\n",
    "import time\n",
    "\n",
    "import pdaactconn as pc\n",
    "from trialexplorer import AACTStudySet\n",
    "\n",
    "import matplotlib.pyplot\n",
    "%matplotlib inline"
   ]
  },
  {
   "cell_type": "code",
   "execution_count": 3,
   "metadata": {},
   "outputs": [
    {
     "name": "stdout",
     "output_type": "stream",
     "text": [
      "257905 studies loaded!\n"
     ]
    }
   ],
   "source": [
    "conn = pc.AACTConnection(source=pc.AACTConnection.REMOTE)\n",
    "ss = AACTStudySet.AACTStudySet(conn=conn, \n",
    "                               tqdm_handler=tqdm)\n",
    "ss.add_constraint(\"study_type = 'Interventional'\")\n",
    "ss.load_studies()"
   ]
  },
  {
   "cell_type": "code",
   "execution_count": 4,
   "metadata": {},
   "outputs": [
    {
     "name": "stdout",
     "output_type": "stream",
     "text": [
      "Successfuly added these 1 dimensions: ['baseline_measurements']\n",
      "Failed to add these 0 dimensions: []\n",
      "Successfuly added these 1 dimensions: ['result_groups']\n",
      "Failed to add these 0 dimensions: []\n",
      "Successfuly added these 1 dimensions: ['eligibilities']\n",
      "Failed to add these 0 dimensions: []\n",
      "Successfuly added these 1 dimensions: ['outcomes']\n",
      "Failed to add these 0 dimensions: []\n",
      "Successfuly added these 1 dimensions: ['outcome_measurements']\n",
      "Failed to add these 0 dimensions: []\n"
     ]
    },
    {
     "data": {
      "application/vnd.jupyter.widget-view+json": {
       "model_id": "f15b0b714e2b43f6abc0f882a30ba847",
       "version_major": 2,
       "version_minor": 0
      },
      "text/plain": [
       "HBox(children=(IntProgress(value=0, max=516), HTML(value='')))"
      ]
     },
     "metadata": {},
     "output_type": "display_data"
    },
    {
     "name": "stdout",
     "output_type": "stream",
     "text": [
      "Syncing the temp table temp_cur_studies in 516 chunks x 500 records each\n",
      "\n",
      "Creating index on the temp table\n",
      " - Loading dimension baseline_measurements\n",
      " -- Loading raw data\n",
      " -- Sorting index\n",
      " - Loading dimension result_groups\n",
      " -- Loading raw data\n",
      " -- Sorting index\n",
      " - Loading dimension eligibilities\n",
      " -- Loading raw data\n",
      " -- Sorting index\n",
      " - Loading dimension outcomes\n",
      " -- Loading raw data\n",
      " -- Sorting index\n",
      " - Loading dimension outcome_measurements\n",
      " -- Loading raw data\n",
      " -- Sorting index\n"
     ]
    }
   ],
   "source": [
    "ss.add_dimensions(['baseline_measurements'])\n",
    "ss.add_dimensions(['result_groups'])\n",
    "ss.add_dimensions(['eligibilities'])\n",
    "ss.add_dimensions(['outcomes'])\n",
    "ss.add_dimensions(['outcome_measurements'])\n",
    "ss.refresh_dim_data()"
   ]
  },
  {
   "cell_type": "code",
   "execution_count": 5,
   "metadata": {},
   "outputs": [
    {
     "data": {
      "text/plain": [
       "257905"
      ]
     },
     "execution_count": 5,
     "metadata": {},
     "output_type": "execute_result"
    }
   ],
   "source": [
    "num_all = ss.studies.shape[0]\n",
    "num_all"
   ]
  },
  {
   "cell_type": "code",
   "execution_count": 7,
   "metadata": {},
   "outputs": [],
   "source": [
    "bm = ss.dimensions['baseline_measurements'].data\n",
    "rg = ss.dimensions['result_groups'].data\n",
    "el = ss.dimensions['eligibilities'].data\n",
    "out = ss.dimensions['outcomes'].data\n",
    "om = ss.dimensions['outcome_measurements'].data"
   ]
  },
  {
   "cell_type": "markdown",
   "metadata": {},
   "source": [
    "## Where are all the places we can find gender information in bm?"
   ]
  },
  {
   "cell_type": "code",
   "execution_count": 8,
   "metadata": {},
   "outputs": [
    {
     "data": {
      "text/html": [
       "<div>\n",
       "<style scoped>\n",
       "    .dataframe tbody tr th:only-of-type {\n",
       "        vertical-align: middle;\n",
       "    }\n",
       "\n",
       "    .dataframe tbody tr th {\n",
       "        vertical-align: top;\n",
       "    }\n",
       "\n",
       "    .dataframe thead th {\n",
       "        text-align: right;\n",
       "    }\n",
       "</style>\n",
       "<table border=\"1\" class=\"dataframe\">\n",
       "  <thead>\n",
       "    <tr style=\"text-align: right;\">\n",
       "      <th></th>\n",
       "      <th></th>\n",
       "      <th>id</th>\n",
       "      <th>ctgov_group_code</th>\n",
       "      <th>classification</th>\n",
       "      <th>category</th>\n",
       "      <th>title</th>\n",
       "      <th>description</th>\n",
       "      <th>units</th>\n",
       "      <th>param_type</th>\n",
       "      <th>param_value</th>\n",
       "      <th>param_value_num</th>\n",
       "      <th>dispersion_type</th>\n",
       "      <th>dispersion_value</th>\n",
       "      <th>dispersion_value_num</th>\n",
       "      <th>dispersion_lower_limit</th>\n",
       "      <th>dispersion_upper_limit</th>\n",
       "      <th>explanation_of_na</th>\n",
       "    </tr>\n",
       "    <tr>\n",
       "      <th>nct_id</th>\n",
       "      <th>result_group_id</th>\n",
       "      <th></th>\n",
       "      <th></th>\n",
       "      <th></th>\n",
       "      <th></th>\n",
       "      <th></th>\n",
       "      <th></th>\n",
       "      <th></th>\n",
       "      <th></th>\n",
       "      <th></th>\n",
       "      <th></th>\n",
       "      <th></th>\n",
       "      <th></th>\n",
       "      <th></th>\n",
       "      <th></th>\n",
       "      <th></th>\n",
       "      <th></th>\n",
       "    </tr>\n",
       "  </thead>\n",
       "  <tbody>\n",
       "    <tr>\n",
       "      <th rowspan=\"5\" valign=\"top\">NCT00000125</th>\n",
       "      <th>3090367</th>\n",
       "      <td>3368138</td>\n",
       "      <td>B3</td>\n",
       "      <td>Other</td>\n",
       "      <td></td>\n",
       "      <td>Race/Ethnicity, Customized</td>\n",
       "      <td></td>\n",
       "      <td>participants</td>\n",
       "      <td>Number</td>\n",
       "      <td>14</td>\n",
       "      <td>14.0</td>\n",
       "      <td></td>\n",
       "      <td>None</td>\n",
       "      <td>NaN</td>\n",
       "      <td>NaN</td>\n",
       "      <td>NaN</td>\n",
       "      <td></td>\n",
       "    </tr>\n",
       "    <tr>\n",
       "      <th>3090367</th>\n",
       "      <td>3368141</td>\n",
       "      <td>B3</td>\n",
       "      <td>White</td>\n",
       "      <td></td>\n",
       "      <td>Race/Ethnicity, Customized</td>\n",
       "      <td></td>\n",
       "      <td>participants</td>\n",
       "      <td>Number</td>\n",
       "      <td>1137</td>\n",
       "      <td>1137.0</td>\n",
       "      <td></td>\n",
       "      <td>None</td>\n",
       "      <td>NaN</td>\n",
       "      <td>NaN</td>\n",
       "      <td>NaN</td>\n",
       "      <td></td>\n",
       "    </tr>\n",
       "    <tr>\n",
       "      <th>3090367</th>\n",
       "      <td>3368144</td>\n",
       "      <td>B3</td>\n",
       "      <td>Hispanic</td>\n",
       "      <td></td>\n",
       "      <td>Race/Ethnicity, Customized</td>\n",
       "      <td></td>\n",
       "      <td>participants</td>\n",
       "      <td>Number</td>\n",
       "      <td>59</td>\n",
       "      <td>59.0</td>\n",
       "      <td></td>\n",
       "      <td>None</td>\n",
       "      <td>NaN</td>\n",
       "      <td>NaN</td>\n",
       "      <td>NaN</td>\n",
       "      <td></td>\n",
       "    </tr>\n",
       "    <tr>\n",
       "      <th>3090367</th>\n",
       "      <td>3368147</td>\n",
       "      <td>B3</td>\n",
       "      <td>African American</td>\n",
       "      <td></td>\n",
       "      <td>Race/Ethnicity, Customized</td>\n",
       "      <td></td>\n",
       "      <td>participants</td>\n",
       "      <td>Number</td>\n",
       "      <td>408</td>\n",
       "      <td>408.0</td>\n",
       "      <td></td>\n",
       "      <td>None</td>\n",
       "      <td>NaN</td>\n",
       "      <td>NaN</td>\n",
       "      <td>NaN</td>\n",
       "      <td></td>\n",
       "    </tr>\n",
       "    <tr>\n",
       "      <th>3090367</th>\n",
       "      <td>3368150</td>\n",
       "      <td>B3</td>\n",
       "      <td>Asian</td>\n",
       "      <td></td>\n",
       "      <td>Race/Ethnicity, Customized</td>\n",
       "      <td></td>\n",
       "      <td>participants</td>\n",
       "      <td>Number</td>\n",
       "      <td>14</td>\n",
       "      <td>14.0</td>\n",
       "      <td></td>\n",
       "      <td>None</td>\n",
       "      <td>NaN</td>\n",
       "      <td>NaN</td>\n",
       "      <td>NaN</td>\n",
       "      <td></td>\n",
       "    </tr>\n",
       "  </tbody>\n",
       "</table>\n",
       "</div>"
      ],
      "text/plain": [
       "                                  id ctgov_group_code    classification  \\\n",
       "nct_id      result_group_id                                               \n",
       "NCT00000125 3090367          3368138               B3             Other   \n",
       "            3090367          3368141               B3             White   \n",
       "            3090367          3368144               B3          Hispanic   \n",
       "            3090367          3368147               B3  African American   \n",
       "            3090367          3368150               B3             Asian   \n",
       "\n",
       "                            category                       title description  \\\n",
       "nct_id      result_group_id                                                    \n",
       "NCT00000125 3090367                   Race/Ethnicity, Customized               \n",
       "            3090367                   Race/Ethnicity, Customized               \n",
       "            3090367                   Race/Ethnicity, Customized               \n",
       "            3090367                   Race/Ethnicity, Customized               \n",
       "            3090367                   Race/Ethnicity, Customized               \n",
       "\n",
       "                                    units param_type param_value  \\\n",
       "nct_id      result_group_id                                        \n",
       "NCT00000125 3090367          participants     Number          14   \n",
       "            3090367          participants     Number        1137   \n",
       "            3090367          participants     Number          59   \n",
       "            3090367          participants     Number         408   \n",
       "            3090367          participants     Number          14   \n",
       "\n",
       "                             param_value_num dispersion_type dispersion_value  \\\n",
       "nct_id      result_group_id                                                     \n",
       "NCT00000125 3090367                     14.0                             None   \n",
       "            3090367                   1137.0                             None   \n",
       "            3090367                     59.0                             None   \n",
       "            3090367                    408.0                             None   \n",
       "            3090367                     14.0                             None   \n",
       "\n",
       "                             dispersion_value_num  dispersion_lower_limit  \\\n",
       "nct_id      result_group_id                                                 \n",
       "NCT00000125 3090367                           NaN                     NaN   \n",
       "            3090367                           NaN                     NaN   \n",
       "            3090367                           NaN                     NaN   \n",
       "            3090367                           NaN                     NaN   \n",
       "            3090367                           NaN                     NaN   \n",
       "\n",
       "                             dispersion_upper_limit explanation_of_na  \n",
       "nct_id      result_group_id                                            \n",
       "NCT00000125 3090367                             NaN                    \n",
       "            3090367                             NaN                    \n",
       "            3090367                             NaN                    \n",
       "            3090367                             NaN                    \n",
       "            3090367                             NaN                    "
      ]
     },
     "execution_count": 8,
     "metadata": {},
     "output_type": "execute_result"
    }
   ],
   "source": [
    "bm.head()"
   ]
  },
  {
   "cell_type": "code",
   "execution_count": 9,
   "metadata": {},
   "outputs": [
    {
     "data": {
      "text/plain": [
       "(1087993, 16)"
      ]
     },
     "execution_count": 9,
     "metadata": {},
     "output_type": "execute_result"
    }
   ],
   "source": [
    "bm.shape"
   ]
  },
  {
   "cell_type": "code",
   "execution_count": 10,
   "metadata": {},
   "outputs": [
    {
     "data": {
      "text/plain": [
       "38296"
      ]
     },
     "execution_count": 10,
     "metadata": {},
     "output_type": "execute_result"
    }
   ],
   "source": [
    "bm_all = bm.index.get_level_values(0).unique().shape[0]\n",
    "bm_all"
   ]
  },
  {
   "cell_type": "markdown",
   "metadata": {},
   "source": [
    "<hr>"
   ]
  },
  {
   "cell_type": "markdown",
   "metadata": {},
   "source": [
    "##### searching in the \"classification\" field"
   ]
  },
  {
   "cell_type": "code",
   "execution_count": 11,
   "metadata": {},
   "outputs": [],
   "source": [
    "possible_classes = [x for x in bm['classification'].unique() if 'male' in x.lower()]"
   ]
  },
  {
   "cell_type": "code",
   "execution_count": 12,
   "metadata": {},
   "outputs": [
    {
     "data": {
      "text/plain": [
       "((5445, 16), 0.021621057029454775)"
      ]
     },
     "execution_count": 12,
     "metadata": {},
     "output_type": "execute_result"
    }
   ],
   "source": [
    "dfc = bm[bm['classification'].isin(possible_classes)]\n",
    "dfc.shape, dfc.index.get_level_values(0).unique().shape[0]/bm_all"
   ]
  },
  {
   "cell_type": "code",
   "execution_count": 13,
   "metadata": {},
   "outputs": [
    {
     "data": {
      "text/plain": [
       "array(['Gender', 'Sex/Gender, Customized',\n",
       "       'Family History of Coronary Artery Disease', 'Visit type', 'Age',\n",
       "       'History of Vomiting with Pregnancy',\n",
       "       'Clayton Sexual Functioning Questionnaire (CSFQ)',\n",
       "       'Gender at Beginning of Long term Follow-up Period',\n",
       "       'Gender, by Disease Type', 'Donor gender'], dtype=object)"
      ]
     },
     "execution_count": 13,
     "metadata": {},
     "output_type": "execute_result"
    }
   ],
   "source": [
    "dfc['title'].unique()[:10]"
   ]
  },
  {
   "cell_type": "code",
   "execution_count": 14,
   "metadata": {},
   "outputs": [
    {
     "data": {
      "text/plain": [
       "classification\n",
       "Female                                 1866\n",
       "Male                                   1848\n",
       "Female of Childbearing Potential        113\n",
       "Females                                  57\n",
       "Males                                    40\n",
       "N/A (Subject is Male)                    30\n",
       "Female of childbearing potential         30\n",
       "Females of Child-bearing Potential       26\n",
       "Sterilized Females                       26\n",
       "Males (Excluded from this analysis)      26\n",
       "dtype: int64"
      ]
     },
     "execution_count": 14,
     "metadata": {},
     "output_type": "execute_result"
    }
   ],
   "source": [
    "dfc.groupby('classification').size().sort_values(ascending=False)[:10]"
   ]
  },
  {
   "cell_type": "markdown",
   "metadata": {},
   "source": [
    "##### Use Female, Male and their plurals"
   ]
  },
  {
   "cell_type": "code",
   "execution_count": 15,
   "metadata": {},
   "outputs": [],
   "source": [
    "used_classes = ['female', 'male', 'females', 'males']"
   ]
  },
  {
   "cell_type": "code",
   "execution_count": 16,
   "metadata": {},
   "outputs": [
    {
     "data": {
      "text/plain": [
       "681"
      ]
     },
     "execution_count": 16,
     "metadata": {},
     "output_type": "execute_result"
    }
   ],
   "source": [
    "used_dfc = dfc[dfc['classification'].apply(lambda x: x.lower()).isin(used_classes)]\n",
    "res_studies_dfc = used_dfc.index.get_level_values(0).unique().shape[0]\n",
    "res_studies_dfc"
   ]
  },
  {
   "cell_type": "code",
   "execution_count": 17,
   "metadata": {},
   "outputs": [
    {
     "data": {
      "text/plain": [
       "array(['Male', 'Female', 'male', 'Males', 'Females', 'female', 'FEMALE',\n",
       "       'MALE', 'females', 'males'], dtype=object)"
      ]
     },
     "execution_count": 17,
     "metadata": {},
     "output_type": "execute_result"
    }
   ],
   "source": [
    "used_dfc['classification'].unique()"
   ]
  },
  {
   "cell_type": "code",
   "execution_count": 18,
   "metadata": {},
   "outputs": [
    {
     "data": {
      "text/plain": [
       "0.01778253603509505"
      ]
     },
     "execution_count": 18,
     "metadata": {},
     "output_type": "execute_result"
    }
   ],
   "source": [
    "pct_classes = res_studies_dfc / bm_all\n",
    "pct_classes"
   ]
  },
  {
   "cell_type": "markdown",
   "metadata": {},
   "source": [
    "##### conclusion: using the \"classification\" field for the gender infor gets us just under 2% of the 38k studies with baseline metrics, where else can we get gender information?"
   ]
  },
  {
   "cell_type": "markdown",
   "metadata": {},
   "source": [
    "<hr>"
   ]
  },
  {
   "cell_type": "markdown",
   "metadata": {},
   "source": [
    "##### searching in the \"category\" field"
   ]
  },
  {
   "cell_type": "code",
   "execution_count": 19,
   "metadata": {},
   "outputs": [
    {
     "data": {
      "text/plain": [
       "category\n",
       "                                          489196\n",
       "Male                                      107991\n",
       "Female                                    107973\n",
       "Unknown or Not Reported                    41581\n",
       ">=65 years                                 35307\n",
       "                                           ...  \n",
       "Age group at baseline: >12 to 18 years         1\n",
       "Age group at baseline: >18 years               1\n",
       "Age ≥ 60 years                                 1\n",
       "Aggressive systemic mastocytosis (ASM)         1\n",
       "Study provided device                          1\n",
       "Length: 7697, dtype: int64"
      ]
     },
     "execution_count": 19,
     "metadata": {},
     "output_type": "execute_result"
    }
   ],
   "source": [
    "bm.groupby('category').size().sort_values(ascending=False)"
   ]
  },
  {
   "cell_type": "code",
   "execution_count": 20,
   "metadata": {
    "scrolled": true
   },
   "outputs": [
    {
     "data": {
      "text/plain": [
       "['Male',\n",
       " 'Female',\n",
       " 'not applicable (male)',\n",
       " 'Female-Female',\n",
       " 'Male-Male',\n",
       " 'Female-Male',\n",
       " 'Male-Female',\n",
       " 'Male patients',\n",
       " 'High (>=102 cm for male and >=88 cm for female)',\n",
       " 'Low (<102 cm for male and <88 cm for female)',\n",
       " 'male',\n",
       " 'female',\n",
       " 'Male Donor, Male Recipient',\n",
       " 'Male Donor, Female Recipient',\n",
       " 'Female Donor, Male Recipient',\n",
       " 'Female Donor, Female Recipient',\n",
       " 'MALE',\n",
       " 'FEMALE',\n",
       " 'Transfemale',\n",
       " 'Females',\n",
       " 'Males',\n",
       " 'Sex (Female Only)',\n",
       " 'Female donor / Female Recipient',\n",
       " 'Female donor / Male Recipient',\n",
       " 'Male donor / Female Recipient',\n",
       " 'Male donor / Male Recipient',\n",
       " 'Female ≥4',\n",
       " 'Female <4',\n",
       " 'Male ≥8',\n",
       " 'Male <8',\n",
       " 'Female of Childbearing Potential',\n",
       " 'Female of childbearing potential',\n",
       " 'Not applicable (male participants)',\n",
       " 'Female - shirt collar >=16 in/41 cm',\n",
       " 'Female - shirt collar <16 in/41 cm',\n",
       " 'Male - shirt collar >= 17 in/43 cm',\n",
       " 'Male - shirt collar <17 in/43 cm',\n",
       " 'Not Applicable (Male)',\n",
       " 'Tubal and male factors',\n",
       " 'Male factor',\n",
       " 'Not applicable (Male)',\n",
       " 'Wife/Females Partner/Girlfriend',\n",
       " 'Transmale',\n",
       " 'Female/Transfemale']"
      ]
     },
     "execution_count": 20,
     "metadata": {},
     "output_type": "execute_result"
    }
   ],
   "source": [
    "possible_class_cat = [x for x in bm['category'].unique() if 'male' in x.lower()]\n",
    "possible_class_cat"
   ]
  },
  {
   "cell_type": "code",
   "execution_count": 21,
   "metadata": {},
   "outputs": [
    {
     "data": {
      "text/html": [
       "<div>\n",
       "<style scoped>\n",
       "    .dataframe tbody tr th:only-of-type {\n",
       "        vertical-align: middle;\n",
       "    }\n",
       "\n",
       "    .dataframe tbody tr th {\n",
       "        vertical-align: top;\n",
       "    }\n",
       "\n",
       "    .dataframe thead th {\n",
       "        text-align: right;\n",
       "    }\n",
       "</style>\n",
       "<table border=\"1\" class=\"dataframe\">\n",
       "  <thead>\n",
       "    <tr style=\"text-align: right;\">\n",
       "      <th></th>\n",
       "      <th></th>\n",
       "      <th>id</th>\n",
       "      <th>ctgov_group_code</th>\n",
       "      <th>classification</th>\n",
       "      <th>category</th>\n",
       "      <th>title</th>\n",
       "      <th>description</th>\n",
       "      <th>units</th>\n",
       "      <th>param_type</th>\n",
       "      <th>param_value</th>\n",
       "      <th>param_value_num</th>\n",
       "      <th>dispersion_type</th>\n",
       "      <th>dispersion_value</th>\n",
       "      <th>dispersion_value_num</th>\n",
       "      <th>dispersion_lower_limit</th>\n",
       "      <th>dispersion_upper_limit</th>\n",
       "      <th>explanation_of_na</th>\n",
       "    </tr>\n",
       "    <tr>\n",
       "      <th>nct_id</th>\n",
       "      <th>result_group_id</th>\n",
       "      <th></th>\n",
       "      <th></th>\n",
       "      <th></th>\n",
       "      <th></th>\n",
       "      <th></th>\n",
       "      <th></th>\n",
       "      <th></th>\n",
       "      <th></th>\n",
       "      <th></th>\n",
       "      <th></th>\n",
       "      <th></th>\n",
       "      <th></th>\n",
       "      <th></th>\n",
       "      <th></th>\n",
       "      <th></th>\n",
       "      <th></th>\n",
       "    </tr>\n",
       "  </thead>\n",
       "  <tbody>\n",
       "    <tr>\n",
       "      <th rowspan=\"4\" valign=\"top\">NCT00448357</th>\n",
       "      <th>2950959</th>\n",
       "      <td>3218413</td>\n",
       "      <td>B1</td>\n",
       "      <td></td>\n",
       "      <td>Female-Female</td>\n",
       "      <td>Donor-recipient sex</td>\n",
       "      <td></td>\n",
       "      <td>Participants</td>\n",
       "      <td>Count of Participants</td>\n",
       "      <td>14</td>\n",
       "      <td>14.0</td>\n",
       "      <td></td>\n",
       "      <td>None</td>\n",
       "      <td>NaN</td>\n",
       "      <td>NaN</td>\n",
       "      <td>NaN</td>\n",
       "      <td></td>\n",
       "    </tr>\n",
       "    <tr>\n",
       "      <th>2950959</th>\n",
       "      <td>3218414</td>\n",
       "      <td>B1</td>\n",
       "      <td></td>\n",
       "      <td>Male-Male</td>\n",
       "      <td>Donor-recipient sex</td>\n",
       "      <td></td>\n",
       "      <td>Participants</td>\n",
       "      <td>Count of Participants</td>\n",
       "      <td>22</td>\n",
       "      <td>22.0</td>\n",
       "      <td></td>\n",
       "      <td>None</td>\n",
       "      <td>NaN</td>\n",
       "      <td>NaN</td>\n",
       "      <td>NaN</td>\n",
       "      <td></td>\n",
       "    </tr>\n",
       "    <tr>\n",
       "      <th>2950959</th>\n",
       "      <td>3218415</td>\n",
       "      <td>B1</td>\n",
       "      <td></td>\n",
       "      <td>Female-Male</td>\n",
       "      <td>Donor-recipient sex</td>\n",
       "      <td></td>\n",
       "      <td>Participants</td>\n",
       "      <td>Count of Participants</td>\n",
       "      <td>12</td>\n",
       "      <td>12.0</td>\n",
       "      <td></td>\n",
       "      <td>None</td>\n",
       "      <td>NaN</td>\n",
       "      <td>NaN</td>\n",
       "      <td>NaN</td>\n",
       "      <td></td>\n",
       "    </tr>\n",
       "    <tr>\n",
       "      <th>2950959</th>\n",
       "      <td>3218416</td>\n",
       "      <td>B1</td>\n",
       "      <td></td>\n",
       "      <td>Male-Female</td>\n",
       "      <td>Donor-recipient sex</td>\n",
       "      <td></td>\n",
       "      <td>Participants</td>\n",
       "      <td>Count of Participants</td>\n",
       "      <td>6</td>\n",
       "      <td>6.0</td>\n",
       "      <td></td>\n",
       "      <td>None</td>\n",
       "      <td>NaN</td>\n",
       "      <td>NaN</td>\n",
       "      <td>NaN</td>\n",
       "      <td></td>\n",
       "    </tr>\n",
       "  </tbody>\n",
       "</table>\n",
       "</div>"
      ],
      "text/plain": [
       "                                  id ctgov_group_code classification  \\\n",
       "nct_id      result_group_id                                            \n",
       "NCT00448357 2950959          3218413               B1                  \n",
       "            2950959          3218414               B1                  \n",
       "            2950959          3218415               B1                  \n",
       "            2950959          3218416               B1                  \n",
       "\n",
       "                                  category                title description  \\\n",
       "nct_id      result_group_id                                                   \n",
       "NCT00448357 2950959          Female-Female  Donor-recipient sex               \n",
       "            2950959              Male-Male  Donor-recipient sex               \n",
       "            2950959            Female-Male  Donor-recipient sex               \n",
       "            2950959            Male-Female  Donor-recipient sex               \n",
       "\n",
       "                                    units             param_type param_value  \\\n",
       "nct_id      result_group_id                                                    \n",
       "NCT00448357 2950959          Participants  Count of Participants          14   \n",
       "            2950959          Participants  Count of Participants          22   \n",
       "            2950959          Participants  Count of Participants          12   \n",
       "            2950959          Participants  Count of Participants           6   \n",
       "\n",
       "                             param_value_num dispersion_type dispersion_value  \\\n",
       "nct_id      result_group_id                                                     \n",
       "NCT00448357 2950959                     14.0                             None   \n",
       "            2950959                     22.0                             None   \n",
       "            2950959                     12.0                             None   \n",
       "            2950959                      6.0                             None   \n",
       "\n",
       "                             dispersion_value_num  dispersion_lower_limit  \\\n",
       "nct_id      result_group_id                                                 \n",
       "NCT00448357 2950959                           NaN                     NaN   \n",
       "            2950959                           NaN                     NaN   \n",
       "            2950959                           NaN                     NaN   \n",
       "            2950959                           NaN                     NaN   \n",
       "\n",
       "                             dispersion_upper_limit explanation_of_na  \n",
       "nct_id      result_group_id                                            \n",
       "NCT00448357 2950959                             NaN                    \n",
       "            2950959                             NaN                    \n",
       "            2950959                             NaN                    \n",
       "            2950959                             NaN                    "
      ]
     },
     "execution_count": 21,
     "metadata": {},
     "output_type": "execute_result"
    }
   ],
   "source": [
    "# aside: what are those with both genders listed, such as 'Female-Male'?\n",
    "cur_list = ['Female-Female',\n",
    "'Male-Male',\n",
    "'Female-Male',\n",
    "'Male-Female',]\n",
    "\n",
    "cur_df = bm[bm['category'].isin(cur_list)]\n",
    "cur_df\n",
    "\n",
    "# ah donor to recipients"
   ]
  },
  {
   "cell_type": "code",
   "execution_count": 22,
   "metadata": {},
   "outputs": [
    {
     "data": {
      "text/plain": [
       "(216230, 16)"
      ]
     },
     "execution_count": 22,
     "metadata": {},
     "output_type": "execute_result"
    }
   ],
   "source": [
    "dfcat = bm[bm['category'].isin(possible_class_cat)]\n",
    "dfcat.shape"
   ]
  },
  {
   "cell_type": "code",
   "execution_count": 23,
   "metadata": {
    "scrolled": true
   },
   "outputs": [
    {
     "data": {
      "text/plain": [
       "category\n",
       "Male                                107991\n",
       "Female                              107973\n",
       "FEMALE                                  68\n",
       "MALE                                    68\n",
       "Female of childbearing potential        18\n",
       "Not Applicable (Male)                    5\n",
       "dtype: int64"
      ]
     },
     "execution_count": 23,
     "metadata": {},
     "output_type": "execute_result"
    }
   ],
   "source": [
    "dfcat.groupby('category').size().sort_values(ascending=False)[:6]"
   ]
  },
  {
   "cell_type": "markdown",
   "metadata": {},
   "source": [
    "Seems like if we just use \"Male, Female\" in any case, we will capture the vast majority of cases in this category"
   ]
  },
  {
   "cell_type": "code",
   "execution_count": 24,
   "metadata": {},
   "outputs": [],
   "source": [
    "used_cats = ['male', 'female']\n",
    "used_dfcat = bm[bm['category'].apply(lambda x: x.lower()).isin(used_cats)]"
   ]
  },
  {
   "cell_type": "code",
   "execution_count": 25,
   "metadata": {},
   "outputs": [
    {
     "data": {
      "text/plain": [
       "array(['Male', 'Female', 'male', 'female', 'MALE', 'FEMALE'], dtype=object)"
      ]
     },
     "execution_count": 25,
     "metadata": {},
     "output_type": "execute_result"
    }
   ],
   "source": [
    "used_dfcat['category'].unique()"
   ]
  },
  {
   "cell_type": "code",
   "execution_count": 26,
   "metadata": {},
   "outputs": [
    {
     "data": {
      "text/plain": [
       "0.9784311677459787"
      ]
     },
     "execution_count": 26,
     "metadata": {},
     "output_type": "execute_result"
    }
   ],
   "source": [
    "pct_cats = np.unique(used_dfcat.index.get_level_values(0)).shape[0] / bm_all\n",
    "pct_cats"
   ]
  },
  {
   "cell_type": "markdown",
   "metadata": {},
   "source": [
    "#### This seems a majority of our studies, is there overlap between identifying gender using classification vs using category?\n",
    "\n",
    "Let's analyse their intersections"
   ]
  },
  {
   "cell_type": "code",
   "execution_count": 27,
   "metadata": {},
   "outputs": [
    {
     "data": {
      "text/plain": [
       "array(['Male', 'Female', 'male', 'Males', 'Females', 'female', 'FEMALE',\n",
       "       'MALE', 'females', 'males'], dtype=object)"
      ]
     },
     "execution_count": 27,
     "metadata": {},
     "output_type": "execute_result"
    }
   ],
   "source": [
    "used_dfc['classification'].unique()"
   ]
  },
  {
   "cell_type": "code",
   "execution_count": 28,
   "metadata": {},
   "outputs": [
    {
     "data": {
      "text/plain": [
       "category\n",
       "                           3849\n",
       "Male                          7\n",
       "Female                        4\n",
       "Between 18 and 65 years       4\n",
       ">=65 years                    4\n",
       "<=18 years                    4\n",
       "Transfemale                   3\n",
       "dtype: int64"
      ]
     },
     "execution_count": 28,
     "metadata": {},
     "output_type": "execute_result"
    }
   ],
   "source": [
    "used_dfc.groupby('category').size().sort_values(ascending=False)"
   ]
  },
  {
   "cell_type": "markdown",
   "metadata": {},
   "source": [
    "Most of the valid classifications have null as category, what about the others?"
   ]
  },
  {
   "cell_type": "code",
   "execution_count": 29,
   "metadata": {},
   "outputs": [
    {
     "data": {
      "text/html": [
       "<div>\n",
       "<style scoped>\n",
       "    .dataframe tbody tr th:only-of-type {\n",
       "        vertical-align: middle;\n",
       "    }\n",
       "\n",
       "    .dataframe tbody tr th {\n",
       "        vertical-align: top;\n",
       "    }\n",
       "\n",
       "    .dataframe thead th {\n",
       "        text-align: right;\n",
       "    }\n",
       "</style>\n",
       "<table border=\"1\" class=\"dataframe\">\n",
       "  <thead>\n",
       "    <tr style=\"text-align: right;\">\n",
       "      <th></th>\n",
       "      <th></th>\n",
       "      <th>id</th>\n",
       "      <th>ctgov_group_code</th>\n",
       "      <th>classification</th>\n",
       "      <th>category</th>\n",
       "      <th>title</th>\n",
       "      <th>description</th>\n",
       "      <th>units</th>\n",
       "      <th>param_type</th>\n",
       "      <th>param_value</th>\n",
       "      <th>param_value_num</th>\n",
       "      <th>dispersion_type</th>\n",
       "      <th>dispersion_value</th>\n",
       "      <th>dispersion_value_num</th>\n",
       "      <th>dispersion_lower_limit</th>\n",
       "      <th>dispersion_upper_limit</th>\n",
       "      <th>explanation_of_na</th>\n",
       "    </tr>\n",
       "    <tr>\n",
       "      <th>nct_id</th>\n",
       "      <th>result_group_id</th>\n",
       "      <th></th>\n",
       "      <th></th>\n",
       "      <th></th>\n",
       "      <th></th>\n",
       "      <th></th>\n",
       "      <th></th>\n",
       "      <th></th>\n",
       "      <th></th>\n",
       "      <th></th>\n",
       "      <th></th>\n",
       "      <th></th>\n",
       "      <th></th>\n",
       "      <th></th>\n",
       "      <th></th>\n",
       "      <th></th>\n",
       "      <th></th>\n",
       "    </tr>\n",
       "  </thead>\n",
       "  <tbody>\n",
       "    <tr>\n",
       "      <th rowspan=\"3\" valign=\"top\">NCT01781806</th>\n",
       "      <th>2384509</th>\n",
       "      <td>2641670</td>\n",
       "      <td>B3</td>\n",
       "      <td>Male</td>\n",
       "      <td>Transfemale</td>\n",
       "      <td>Sex/Gender, Customized</td>\n",
       "      <td></td>\n",
       "      <td>Participants</td>\n",
       "      <td>Count of Participants</td>\n",
       "      <td>1</td>\n",
       "      <td>1.0</td>\n",
       "      <td></td>\n",
       "      <td>None</td>\n",
       "      <td>NaN</td>\n",
       "      <td>NaN</td>\n",
       "      <td>NaN</td>\n",
       "      <td></td>\n",
       "    </tr>\n",
       "    <tr>\n",
       "      <th>2384510</th>\n",
       "      <td>2641671</td>\n",
       "      <td>B2</td>\n",
       "      <td>Male</td>\n",
       "      <td>Transfemale</td>\n",
       "      <td>Sex/Gender, Customized</td>\n",
       "      <td></td>\n",
       "      <td>Participants</td>\n",
       "      <td>Count of Participants</td>\n",
       "      <td>0</td>\n",
       "      <td>0.0</td>\n",
       "      <td></td>\n",
       "      <td>None</td>\n",
       "      <td>NaN</td>\n",
       "      <td>NaN</td>\n",
       "      <td>NaN</td>\n",
       "      <td></td>\n",
       "    </tr>\n",
       "    <tr>\n",
       "      <th>2384511</th>\n",
       "      <td>2641672</td>\n",
       "      <td>B1</td>\n",
       "      <td>Male</td>\n",
       "      <td>Transfemale</td>\n",
       "      <td>Sex/Gender, Customized</td>\n",
       "      <td></td>\n",
       "      <td>Participants</td>\n",
       "      <td>Count of Participants</td>\n",
       "      <td>1</td>\n",
       "      <td>1.0</td>\n",
       "      <td></td>\n",
       "      <td>None</td>\n",
       "      <td>NaN</td>\n",
       "      <td>NaN</td>\n",
       "      <td>NaN</td>\n",
       "      <td></td>\n",
       "    </tr>\n",
       "    <tr>\n",
       "      <th rowspan=\"12\" valign=\"top\">NCT02844998</th>\n",
       "      <th>2115438</th>\n",
       "      <td>2314833</td>\n",
       "      <td>B4</td>\n",
       "      <td>Male</td>\n",
       "      <td>&gt;=65 years</td>\n",
       "      <td>Age</td>\n",
       "      <td></td>\n",
       "      <td>Participants</td>\n",
       "      <td>Count of Participants</td>\n",
       "      <td>0</td>\n",
       "      <td>0.0</td>\n",
       "      <td></td>\n",
       "      <td>None</td>\n",
       "      <td>NaN</td>\n",
       "      <td>NaN</td>\n",
       "      <td>NaN</td>\n",
       "      <td></td>\n",
       "    </tr>\n",
       "    <tr>\n",
       "      <th>2115438</th>\n",
       "      <td>2314837</td>\n",
       "      <td>B4</td>\n",
       "      <td>Male</td>\n",
       "      <td>Between 18 and 65 years</td>\n",
       "      <td>Age</td>\n",
       "      <td></td>\n",
       "      <td>Participants</td>\n",
       "      <td>Count of Participants</td>\n",
       "      <td>105</td>\n",
       "      <td>105.0</td>\n",
       "      <td></td>\n",
       "      <td>None</td>\n",
       "      <td>NaN</td>\n",
       "      <td>NaN</td>\n",
       "      <td>NaN</td>\n",
       "      <td></td>\n",
       "    </tr>\n",
       "    <tr>\n",
       "      <th>2115438</th>\n",
       "      <td>2314841</td>\n",
       "      <td>B4</td>\n",
       "      <td>Male</td>\n",
       "      <td>&lt;=18 years</td>\n",
       "      <td>Age</td>\n",
       "      <td></td>\n",
       "      <td>Participants</td>\n",
       "      <td>Count of Participants</td>\n",
       "      <td>0</td>\n",
       "      <td>0.0</td>\n",
       "      <td></td>\n",
       "      <td>None</td>\n",
       "      <td>NaN</td>\n",
       "      <td>NaN</td>\n",
       "      <td>NaN</td>\n",
       "      <td></td>\n",
       "    </tr>\n",
       "    <tr>\n",
       "      <th>2115439</th>\n",
       "      <td>2314834</td>\n",
       "      <td>B3</td>\n",
       "      <td>Male</td>\n",
       "      <td>&gt;=65 years</td>\n",
       "      <td>Age</td>\n",
       "      <td></td>\n",
       "      <td>Participants</td>\n",
       "      <td>Count of Participants</td>\n",
       "      <td>0</td>\n",
       "      <td>0.0</td>\n",
       "      <td></td>\n",
       "      <td>None</td>\n",
       "      <td>NaN</td>\n",
       "      <td>NaN</td>\n",
       "      <td>NaN</td>\n",
       "      <td></td>\n",
       "    </tr>\n",
       "    <tr>\n",
       "      <th>2115439</th>\n",
       "      <td>2314838</td>\n",
       "      <td>B3</td>\n",
       "      <td>Male</td>\n",
       "      <td>Between 18 and 65 years</td>\n",
       "      <td>Age</td>\n",
       "      <td></td>\n",
       "      <td>Participants</td>\n",
       "      <td>Count of Participants</td>\n",
       "      <td>35</td>\n",
       "      <td>35.0</td>\n",
       "      <td></td>\n",
       "      <td>None</td>\n",
       "      <td>NaN</td>\n",
       "      <td>NaN</td>\n",
       "      <td>NaN</td>\n",
       "      <td></td>\n",
       "    </tr>\n",
       "    <tr>\n",
       "      <th>2115439</th>\n",
       "      <td>2314842</td>\n",
       "      <td>B3</td>\n",
       "      <td>Male</td>\n",
       "      <td>&lt;=18 years</td>\n",
       "      <td>Age</td>\n",
       "      <td></td>\n",
       "      <td>Participants</td>\n",
       "      <td>Count of Participants</td>\n",
       "      <td>0</td>\n",
       "      <td>0.0</td>\n",
       "      <td></td>\n",
       "      <td>None</td>\n",
       "      <td>NaN</td>\n",
       "      <td>NaN</td>\n",
       "      <td>NaN</td>\n",
       "      <td></td>\n",
       "    </tr>\n",
       "    <tr>\n",
       "      <th>2115440</th>\n",
       "      <td>2314835</td>\n",
       "      <td>B2</td>\n",
       "      <td>Male</td>\n",
       "      <td>&gt;=65 years</td>\n",
       "      <td>Age</td>\n",
       "      <td></td>\n",
       "      <td>Participants</td>\n",
       "      <td>Count of Participants</td>\n",
       "      <td>0</td>\n",
       "      <td>0.0</td>\n",
       "      <td></td>\n",
       "      <td>None</td>\n",
       "      <td>NaN</td>\n",
       "      <td>NaN</td>\n",
       "      <td>NaN</td>\n",
       "      <td></td>\n",
       "    </tr>\n",
       "    <tr>\n",
       "      <th>2115440</th>\n",
       "      <td>2314839</td>\n",
       "      <td>B2</td>\n",
       "      <td>Male</td>\n",
       "      <td>Between 18 and 65 years</td>\n",
       "      <td>Age</td>\n",
       "      <td></td>\n",
       "      <td>Participants</td>\n",
       "      <td>Count of Participants</td>\n",
       "      <td>35</td>\n",
       "      <td>35.0</td>\n",
       "      <td></td>\n",
       "      <td>None</td>\n",
       "      <td>NaN</td>\n",
       "      <td>NaN</td>\n",
       "      <td>NaN</td>\n",
       "      <td></td>\n",
       "    </tr>\n",
       "    <tr>\n",
       "      <th>2115440</th>\n",
       "      <td>2314843</td>\n",
       "      <td>B2</td>\n",
       "      <td>Male</td>\n",
       "      <td>&lt;=18 years</td>\n",
       "      <td>Age</td>\n",
       "      <td></td>\n",
       "      <td>Participants</td>\n",
       "      <td>Count of Participants</td>\n",
       "      <td>0</td>\n",
       "      <td>0.0</td>\n",
       "      <td></td>\n",
       "      <td>None</td>\n",
       "      <td>NaN</td>\n",
       "      <td>NaN</td>\n",
       "      <td>NaN</td>\n",
       "      <td></td>\n",
       "    </tr>\n",
       "    <tr>\n",
       "      <th>2115441</th>\n",
       "      <td>2314836</td>\n",
       "      <td>B1</td>\n",
       "      <td>Male</td>\n",
       "      <td>&gt;=65 years</td>\n",
       "      <td>Age</td>\n",
       "      <td></td>\n",
       "      <td>Participants</td>\n",
       "      <td>Count of Participants</td>\n",
       "      <td>0</td>\n",
       "      <td>0.0</td>\n",
       "      <td></td>\n",
       "      <td>None</td>\n",
       "      <td>NaN</td>\n",
       "      <td>NaN</td>\n",
       "      <td>NaN</td>\n",
       "      <td></td>\n",
       "    </tr>\n",
       "    <tr>\n",
       "      <th>2115441</th>\n",
       "      <td>2314840</td>\n",
       "      <td>B1</td>\n",
       "      <td>Male</td>\n",
       "      <td>Between 18 and 65 years</td>\n",
       "      <td>Age</td>\n",
       "      <td></td>\n",
       "      <td>Participants</td>\n",
       "      <td>Count of Participants</td>\n",
       "      <td>35</td>\n",
       "      <td>35.0</td>\n",
       "      <td></td>\n",
       "      <td>None</td>\n",
       "      <td>NaN</td>\n",
       "      <td>NaN</td>\n",
       "      <td>NaN</td>\n",
       "      <td></td>\n",
       "    </tr>\n",
       "    <tr>\n",
       "      <th>2115441</th>\n",
       "      <td>2314844</td>\n",
       "      <td>B1</td>\n",
       "      <td>Male</td>\n",
       "      <td>&lt;=18 years</td>\n",
       "      <td>Age</td>\n",
       "      <td></td>\n",
       "      <td>Participants</td>\n",
       "      <td>Count of Participants</td>\n",
       "      <td>0</td>\n",
       "      <td>0.0</td>\n",
       "      <td></td>\n",
       "      <td>None</td>\n",
       "      <td>NaN</td>\n",
       "      <td>NaN</td>\n",
       "      <td>NaN</td>\n",
       "      <td></td>\n",
       "    </tr>\n",
       "  </tbody>\n",
       "</table>\n",
       "</div>"
      ],
      "text/plain": [
       "                                  id ctgov_group_code classification  \\\n",
       "nct_id      result_group_id                                            \n",
       "NCT01781806 2384509          2641670               B3           Male   \n",
       "            2384510          2641671               B2           Male   \n",
       "            2384511          2641672               B1           Male   \n",
       "NCT02844998 2115438          2314833               B4           Male   \n",
       "            2115438          2314837               B4           Male   \n",
       "            2115438          2314841               B4           Male   \n",
       "            2115439          2314834               B3           Male   \n",
       "            2115439          2314838               B3           Male   \n",
       "            2115439          2314842               B3           Male   \n",
       "            2115440          2314835               B2           Male   \n",
       "            2115440          2314839               B2           Male   \n",
       "            2115440          2314843               B2           Male   \n",
       "            2115441          2314836               B1           Male   \n",
       "            2115441          2314840               B1           Male   \n",
       "            2115441          2314844               B1           Male   \n",
       "\n",
       "                                            category                   title  \\\n",
       "nct_id      result_group_id                                                    \n",
       "NCT01781806 2384509                      Transfemale  Sex/Gender, Customized   \n",
       "            2384510                      Transfemale  Sex/Gender, Customized   \n",
       "            2384511                      Transfemale  Sex/Gender, Customized   \n",
       "NCT02844998 2115438                       >=65 years                     Age   \n",
       "            2115438          Between 18 and 65 years                     Age   \n",
       "            2115438                       <=18 years                     Age   \n",
       "            2115439                       >=65 years                     Age   \n",
       "            2115439          Between 18 and 65 years                     Age   \n",
       "            2115439                       <=18 years                     Age   \n",
       "            2115440                       >=65 years                     Age   \n",
       "            2115440          Between 18 and 65 years                     Age   \n",
       "            2115440                       <=18 years                     Age   \n",
       "            2115441                       >=65 years                     Age   \n",
       "            2115441          Between 18 and 65 years                     Age   \n",
       "            2115441                       <=18 years                     Age   \n",
       "\n",
       "                            description         units             param_type  \\\n",
       "nct_id      result_group_id                                                    \n",
       "NCT01781806 2384509                      Participants  Count of Participants   \n",
       "            2384510                      Participants  Count of Participants   \n",
       "            2384511                      Participants  Count of Participants   \n",
       "NCT02844998 2115438                      Participants  Count of Participants   \n",
       "            2115438                      Participants  Count of Participants   \n",
       "            2115438                      Participants  Count of Participants   \n",
       "            2115439                      Participants  Count of Participants   \n",
       "            2115439                      Participants  Count of Participants   \n",
       "            2115439                      Participants  Count of Participants   \n",
       "            2115440                      Participants  Count of Participants   \n",
       "            2115440                      Participants  Count of Participants   \n",
       "            2115440                      Participants  Count of Participants   \n",
       "            2115441                      Participants  Count of Participants   \n",
       "            2115441                      Participants  Count of Participants   \n",
       "            2115441                      Participants  Count of Participants   \n",
       "\n",
       "                            param_value  param_value_num dispersion_type  \\\n",
       "nct_id      result_group_id                                                \n",
       "NCT01781806 2384509                   1              1.0                   \n",
       "            2384510                   0              0.0                   \n",
       "            2384511                   1              1.0                   \n",
       "NCT02844998 2115438                   0              0.0                   \n",
       "            2115438                 105            105.0                   \n",
       "            2115438                   0              0.0                   \n",
       "            2115439                   0              0.0                   \n",
       "            2115439                  35             35.0                   \n",
       "            2115439                   0              0.0                   \n",
       "            2115440                   0              0.0                   \n",
       "            2115440                  35             35.0                   \n",
       "            2115440                   0              0.0                   \n",
       "            2115441                   0              0.0                   \n",
       "            2115441                  35             35.0                   \n",
       "            2115441                   0              0.0                   \n",
       "\n",
       "                            dispersion_value  dispersion_value_num  \\\n",
       "nct_id      result_group_id                                          \n",
       "NCT01781806 2384509                     None                   NaN   \n",
       "            2384510                     None                   NaN   \n",
       "            2384511                     None                   NaN   \n",
       "NCT02844998 2115438                     None                   NaN   \n",
       "            2115438                     None                   NaN   \n",
       "            2115438                     None                   NaN   \n",
       "            2115439                     None                   NaN   \n",
       "            2115439                     None                   NaN   \n",
       "            2115439                     None                   NaN   \n",
       "            2115440                     None                   NaN   \n",
       "            2115440                     None                   NaN   \n",
       "            2115440                     None                   NaN   \n",
       "            2115441                     None                   NaN   \n",
       "            2115441                     None                   NaN   \n",
       "            2115441                     None                   NaN   \n",
       "\n",
       "                             dispersion_lower_limit  dispersion_upper_limit  \\\n",
       "nct_id      result_group_id                                                   \n",
       "NCT01781806 2384509                             NaN                     NaN   \n",
       "            2384510                             NaN                     NaN   \n",
       "            2384511                             NaN                     NaN   \n",
       "NCT02844998 2115438                             NaN                     NaN   \n",
       "            2115438                             NaN                     NaN   \n",
       "            2115438                             NaN                     NaN   \n",
       "            2115439                             NaN                     NaN   \n",
       "            2115439                             NaN                     NaN   \n",
       "            2115439                             NaN                     NaN   \n",
       "            2115440                             NaN                     NaN   \n",
       "            2115440                             NaN                     NaN   \n",
       "            2115440                             NaN                     NaN   \n",
       "            2115441                             NaN                     NaN   \n",
       "            2115441                             NaN                     NaN   \n",
       "            2115441                             NaN                     NaN   \n",
       "\n",
       "                            explanation_of_na  \n",
       "nct_id      result_group_id                    \n",
       "NCT01781806 2384509                            \n",
       "            2384510                            \n",
       "            2384511                            \n",
       "NCT02844998 2115438                            \n",
       "            2115438                            \n",
       "            2115438                            \n",
       "            2115439                            \n",
       "            2115439                            \n",
       "            2115439                            \n",
       "            2115440                            \n",
       "            2115440                            \n",
       "            2115440                            \n",
       "            2115441                            \n",
       "            2115441                            \n",
       "            2115441                            "
      ]
     },
     "execution_count": 29,
     "metadata": {},
     "output_type": "execute_result"
    }
   ],
   "source": [
    "cur_to_investigate = used_dfc.groupby('category').size().sort_values(ascending=False)[3:].index\n",
    "used_dfc[used_dfc['category'].isin(cur_to_investigate)]"
   ]
  },
  {
   "cell_type": "markdown",
   "metadata": {},
   "source": [
    "### looks like this is only 2 studies, one is on transgender and the other is male only so we can exclude from our balance analysis"
   ]
  },
  {
   "cell_type": "code",
   "execution_count": 30,
   "metadata": {},
   "outputs": [
    {
     "data": {
      "text/plain": [
       "array(['Male', 'Female', 'male', 'female', 'MALE', 'FEMALE'], dtype=object)"
      ]
     },
     "execution_count": 30,
     "metadata": {},
     "output_type": "execute_result"
    }
   ],
   "source": [
    "used_dfcat['category'].unique()"
   ]
  },
  {
   "cell_type": "code",
   "execution_count": 31,
   "metadata": {},
   "outputs": [
    {
     "data": {
      "text/plain": [
       "classification\n",
       "                           214980\n",
       "Part 2                         60\n",
       "Sex                            58\n",
       "Gender                         50\n",
       "Part A                         34\n",
       "                            ...  \n",
       "Full analysis set (FAS)         2\n",
       "GIST                            2\n",
       "BiRD Phase                      2\n",
       "Baseline Period Sex             2\n",
       "Neuro-typical                   2\n",
       "Length: 147, dtype: int64"
      ]
     },
     "execution_count": 31,
     "metadata": {},
     "output_type": "execute_result"
    }
   ],
   "source": [
    "used_dfcat.groupby('classification').size().sort_values(ascending=False)"
   ]
  },
  {
   "cell_type": "code",
   "execution_count": 32,
   "metadata": {},
   "outputs": [
    {
     "data": {
      "text/plain": [
       "classification\n",
       "                           0.994790\n",
       "Part 2                     0.000278\n",
       "Sex                        0.000268\n",
       "Gender                     0.000231\n",
       "Part A                     0.000157\n",
       "                             ...   \n",
       "Full analysis set (FAS)    0.000009\n",
       "GIST                       0.000009\n",
       "BiRD Phase                 0.000009\n",
       "Baseline Period Sex        0.000009\n",
       "Neuro-typical              0.000009\n",
       "Length: 147, dtype: float64"
      ]
     },
     "execution_count": 32,
     "metadata": {},
     "output_type": "execute_result"
    }
   ],
   "source": [
    "used_dfcat.groupby('classification').size().sort_values(ascending=False) / used_dfcat.shape[0]"
   ]
  },
  {
   "cell_type": "markdown",
   "metadata": {},
   "source": [
    "##### This one looks like there is more crosses, but most of it still has '' - for simplicity let's just take the null studies"
   ]
  },
  {
   "cell_type": "code",
   "execution_count": 33,
   "metadata": {},
   "outputs": [
    {
     "data": {
      "text/plain": [
       "(3849, 16)"
      ]
     },
     "execution_count": 33,
     "metadata": {},
     "output_type": "execute_result"
    }
   ],
   "source": [
    "used_dfc_final = used_dfc[used_dfc['category'] == '']\n",
    "used_dfc_final.shape"
   ]
  },
  {
   "cell_type": "code",
   "execution_count": 34,
   "metadata": {},
   "outputs": [
    {
     "data": {
      "text/plain": [
       "(214980, 16)"
      ]
     },
     "execution_count": 34,
     "metadata": {},
     "output_type": "execute_result"
    }
   ],
   "source": [
    "used_dfcat_final = used_dfcat[used_dfcat['classification'] == '']\n",
    "used_dfcat_final.shape"
   ]
  },
  {
   "cell_type": "markdown",
   "metadata": {},
   "source": [
    "### what about the overlap between the two sets?"
   ]
  },
  {
   "cell_type": "code",
   "execution_count": 35,
   "metadata": {},
   "outputs": [],
   "source": [
    "i1 = used_dfc_final.index.get_level_values(0).unique()\n",
    "i2 = used_dfcat_final.index.get_level_values(0).unique()"
   ]
  },
  {
   "cell_type": "code",
   "execution_count": 36,
   "metadata": {},
   "outputs": [
    {
     "data": {
      "text/plain": [
       "(680, 37373, 38296)"
      ]
     },
     "execution_count": 36,
     "metadata": {},
     "output_type": "execute_result"
    }
   ],
   "source": [
    "len(i1), len(i2), bm_all"
   ]
  },
  {
   "cell_type": "code",
   "execution_count": 37,
   "metadata": {},
   "outputs": [
    {
     "data": {
      "text/plain": [
       "42"
      ]
     },
     "execution_count": 37,
     "metadata": {},
     "output_type": "execute_result"
    }
   ],
   "source": [
    "len_overlap = len([x for x in i1 if x in i2])\n",
    "len_overlap"
   ]
  },
  {
   "cell_type": "code",
   "execution_count": 38,
   "metadata": {},
   "outputs": [
    {
     "data": {
      "text/plain": [
       "['NCT00095303', 'NCT00247611', 'NCT00284089', 'NCT00287469', 'NCT00340834']"
      ]
     },
     "execution_count": 38,
     "metadata": {},
     "output_type": "execute_result"
    }
   ],
   "source": [
    "overlap_nctids = [x for x in i1 if x in i2]\n",
    "overlap_nctids[:5]"
   ]
  },
  {
   "cell_type": "markdown",
   "metadata": {},
   "source": [
    "Looks like 44 studies can be identified both ways"
   ]
  },
  {
   "cell_type": "code",
   "execution_count": 39,
   "metadata": {},
   "outputs": [
    {
     "data": {
      "text/plain": [
       "0.9925579695007312"
      ]
     },
     "execution_count": 39,
     "metadata": {},
     "output_type": "execute_result"
    }
   ],
   "source": [
    "(len(i1) + len(i2) - len_overlap) / bm_all"
   ]
  },
  {
   "cell_type": "markdown",
   "metadata": {},
   "source": [
    "##### we can cover 99.3% of our studies with baseline measurements just using these 2 ways of identifying gender - this is good enough"
   ]
  },
  {
   "cell_type": "code",
   "execution_count": 40,
   "metadata": {},
   "outputs": [
    {
     "data": {
      "text/plain": [
       "('NCT00002525', 'NCT00000125')"
      ]
     },
     "execution_count": 40,
     "metadata": {},
     "output_type": "execute_result"
    }
   ],
   "source": [
    "used_dfc_final.index[2][0], used_dfcat_final.index[0][0]"
   ]
  },
  {
   "cell_type": "code",
   "execution_count": 41,
   "metadata": {},
   "outputs": [
    {
     "data": {
      "text/html": [
       "<div>\n",
       "<style scoped>\n",
       "    .dataframe tbody tr th:only-of-type {\n",
       "        vertical-align: middle;\n",
       "    }\n",
       "\n",
       "    .dataframe tbody tr th {\n",
       "        vertical-align: top;\n",
       "    }\n",
       "\n",
       "    .dataframe thead th {\n",
       "        text-align: right;\n",
       "    }\n",
       "</style>\n",
       "<table border=\"1\" class=\"dataframe\">\n",
       "  <thead>\n",
       "    <tr style=\"text-align: right;\">\n",
       "      <th></th>\n",
       "      <th>id</th>\n",
       "      <th>ctgov_group_code</th>\n",
       "      <th>classification</th>\n",
       "      <th>category</th>\n",
       "      <th>title</th>\n",
       "      <th>description</th>\n",
       "      <th>units</th>\n",
       "      <th>param_type</th>\n",
       "      <th>param_value</th>\n",
       "      <th>param_value_num</th>\n",
       "      <th>dispersion_type</th>\n",
       "      <th>dispersion_value</th>\n",
       "      <th>dispersion_value_num</th>\n",
       "      <th>dispersion_lower_limit</th>\n",
       "      <th>dispersion_upper_limit</th>\n",
       "      <th>explanation_of_na</th>\n",
       "    </tr>\n",
       "    <tr>\n",
       "      <th>result_group_id</th>\n",
       "      <th></th>\n",
       "      <th></th>\n",
       "      <th></th>\n",
       "      <th></th>\n",
       "      <th></th>\n",
       "      <th></th>\n",
       "      <th></th>\n",
       "      <th></th>\n",
       "      <th></th>\n",
       "      <th></th>\n",
       "      <th></th>\n",
       "      <th></th>\n",
       "      <th></th>\n",
       "      <th></th>\n",
       "      <th></th>\n",
       "      <th></th>\n",
       "    </tr>\n",
       "  </thead>\n",
       "  <tbody>\n",
       "    <tr>\n",
       "      <th>3077994</th>\n",
       "      <td>3350816</td>\n",
       "      <td>B3</td>\n",
       "      <td>Male</td>\n",
       "      <td></td>\n",
       "      <td>Gender</td>\n",
       "      <td>1 patient on \"No perioperative 5-FU arm\" had m...</td>\n",
       "      <td>participants</td>\n",
       "      <td>Number</td>\n",
       "      <td>195</td>\n",
       "      <td>195.0</td>\n",
       "      <td></td>\n",
       "      <td>None</td>\n",
       "      <td>NaN</td>\n",
       "      <td>NaN</td>\n",
       "      <td>NaN</td>\n",
       "      <td></td>\n",
       "    </tr>\n",
       "    <tr>\n",
       "      <th>3077994</th>\n",
       "      <td>3350819</td>\n",
       "      <td>B3</td>\n",
       "      <td>Female</td>\n",
       "      <td></td>\n",
       "      <td>Gender</td>\n",
       "      <td>1 patient on \"No perioperative 5-FU arm\" had m...</td>\n",
       "      <td>participants</td>\n",
       "      <td>Number</td>\n",
       "      <td>118</td>\n",
       "      <td>118.0</td>\n",
       "      <td></td>\n",
       "      <td>None</td>\n",
       "      <td>NaN</td>\n",
       "      <td>NaN</td>\n",
       "      <td>NaN</td>\n",
       "      <td></td>\n",
       "    </tr>\n",
       "    <tr>\n",
       "      <th>3077995</th>\n",
       "      <td>3350817</td>\n",
       "      <td>B2</td>\n",
       "      <td>Male</td>\n",
       "      <td></td>\n",
       "      <td>Gender</td>\n",
       "      <td>1 patient on \"No perioperative 5-FU arm\" had m...</td>\n",
       "      <td>participants</td>\n",
       "      <td>Number</td>\n",
       "      <td>96</td>\n",
       "      <td>96.0</td>\n",
       "      <td></td>\n",
       "      <td>None</td>\n",
       "      <td>NaN</td>\n",
       "      <td>NaN</td>\n",
       "      <td>NaN</td>\n",
       "      <td></td>\n",
       "    </tr>\n",
       "    <tr>\n",
       "      <th>3077995</th>\n",
       "      <td>3350820</td>\n",
       "      <td>B2</td>\n",
       "      <td>Female</td>\n",
       "      <td></td>\n",
       "      <td>Gender</td>\n",
       "      <td>1 patient on \"No perioperative 5-FU arm\" had m...</td>\n",
       "      <td>participants</td>\n",
       "      <td>Number</td>\n",
       "      <td>61</td>\n",
       "      <td>61.0</td>\n",
       "      <td></td>\n",
       "      <td>None</td>\n",
       "      <td>NaN</td>\n",
       "      <td>NaN</td>\n",
       "      <td>NaN</td>\n",
       "      <td></td>\n",
       "    </tr>\n",
       "    <tr>\n",
       "      <th>3077996</th>\n",
       "      <td>3350818</td>\n",
       "      <td>B1</td>\n",
       "      <td>Male</td>\n",
       "      <td></td>\n",
       "      <td>Gender</td>\n",
       "      <td>1 patient on \"No perioperative 5-FU arm\" had m...</td>\n",
       "      <td>participants</td>\n",
       "      <td>Number</td>\n",
       "      <td>99</td>\n",
       "      <td>99.0</td>\n",
       "      <td></td>\n",
       "      <td>None</td>\n",
       "      <td>NaN</td>\n",
       "      <td>NaN</td>\n",
       "      <td>NaN</td>\n",
       "      <td></td>\n",
       "    </tr>\n",
       "    <tr>\n",
       "      <th>3077996</th>\n",
       "      <td>3350821</td>\n",
       "      <td>B1</td>\n",
       "      <td>Female</td>\n",
       "      <td></td>\n",
       "      <td>Gender</td>\n",
       "      <td>1 patient on \"No perioperative 5-FU arm\" had m...</td>\n",
       "      <td>participants</td>\n",
       "      <td>Number</td>\n",
       "      <td>57</td>\n",
       "      <td>57.0</td>\n",
       "      <td></td>\n",
       "      <td>None</td>\n",
       "      <td>NaN</td>\n",
       "      <td>NaN</td>\n",
       "      <td>NaN</td>\n",
       "      <td></td>\n",
       "    </tr>\n",
       "  </tbody>\n",
       "</table>\n",
       "</div>"
      ],
      "text/plain": [
       "                      id ctgov_group_code classification category   title  \\\n",
       "result_group_id                                                             \n",
       "3077994          3350816               B3           Male           Gender   \n",
       "3077994          3350819               B3         Female           Gender   \n",
       "3077995          3350817               B2           Male           Gender   \n",
       "3077995          3350820               B2         Female           Gender   \n",
       "3077996          3350818               B1           Male           Gender   \n",
       "3077996          3350821               B1         Female           Gender   \n",
       "\n",
       "                                                       description  \\\n",
       "result_group_id                                                      \n",
       "3077994          1 patient on \"No perioperative 5-FU arm\" had m...   \n",
       "3077994          1 patient on \"No perioperative 5-FU arm\" had m...   \n",
       "3077995          1 patient on \"No perioperative 5-FU arm\" had m...   \n",
       "3077995          1 patient on \"No perioperative 5-FU arm\" had m...   \n",
       "3077996          1 patient on \"No perioperative 5-FU arm\" had m...   \n",
       "3077996          1 patient on \"No perioperative 5-FU arm\" had m...   \n",
       "\n",
       "                        units param_type param_value  param_value_num  \\\n",
       "result_group_id                                                         \n",
       "3077994          participants     Number         195            195.0   \n",
       "3077994          participants     Number         118            118.0   \n",
       "3077995          participants     Number          96             96.0   \n",
       "3077995          participants     Number          61             61.0   \n",
       "3077996          participants     Number          99             99.0   \n",
       "3077996          participants     Number          57             57.0   \n",
       "\n",
       "                dispersion_type dispersion_value  dispersion_value_num  \\\n",
       "result_group_id                                                          \n",
       "3077994                                     None                   NaN   \n",
       "3077994                                     None                   NaN   \n",
       "3077995                                     None                   NaN   \n",
       "3077995                                     None                   NaN   \n",
       "3077996                                     None                   NaN   \n",
       "3077996                                     None                   NaN   \n",
       "\n",
       "                 dispersion_lower_limit  dispersion_upper_limit  \\\n",
       "result_group_id                                                   \n",
       "3077994                             NaN                     NaN   \n",
       "3077994                             NaN                     NaN   \n",
       "3077995                             NaN                     NaN   \n",
       "3077995                             NaN                     NaN   \n",
       "3077996                             NaN                     NaN   \n",
       "3077996                             NaN                     NaN   \n",
       "\n",
       "                explanation_of_na  \n",
       "result_group_id                    \n",
       "3077994                            \n",
       "3077994                            \n",
       "3077995                            \n",
       "3077995                            \n",
       "3077996                            \n",
       "3077996                            "
      ]
     },
     "execution_count": 41,
     "metadata": {},
     "output_type": "execute_result"
    }
   ],
   "source": [
    "used_dfc_final.loc['NCT00002525']"
   ]
  },
  {
   "cell_type": "code",
   "execution_count": 42,
   "metadata": {},
   "outputs": [
    {
     "data": {
      "text/html": [
       "<div>\n",
       "<style scoped>\n",
       "    .dataframe tbody tr th:only-of-type {\n",
       "        vertical-align: middle;\n",
       "    }\n",
       "\n",
       "    .dataframe tbody tr th {\n",
       "        vertical-align: top;\n",
       "    }\n",
       "\n",
       "    .dataframe thead th {\n",
       "        text-align: right;\n",
       "    }\n",
       "</style>\n",
       "<table border=\"1\" class=\"dataframe\">\n",
       "  <thead>\n",
       "    <tr style=\"text-align: right;\">\n",
       "      <th></th>\n",
       "      <th>id</th>\n",
       "      <th>ctgov_group_code</th>\n",
       "      <th>result_type</th>\n",
       "      <th>title</th>\n",
       "      <th>description</th>\n",
       "    </tr>\n",
       "    <tr>\n",
       "      <th>nct_id</th>\n",
       "      <th></th>\n",
       "      <th></th>\n",
       "      <th></th>\n",
       "      <th></th>\n",
       "      <th></th>\n",
       "    </tr>\n",
       "  </thead>\n",
       "  <tbody>\n",
       "    <tr>\n",
       "      <th>NCT00002525</th>\n",
       "      <td>3077994</td>\n",
       "      <td>B3</td>\n",
       "      <td>Baseline</td>\n",
       "      <td>Total</td>\n",
       "      <td>Total of all reporting groups</td>\n",
       "    </tr>\n",
       "    <tr>\n",
       "      <th>NCT00002525</th>\n",
       "      <td>3077995</td>\n",
       "      <td>B2</td>\n",
       "      <td>Baseline</td>\n",
       "      <td>No Perioperative 5-FU</td>\n",
       "      <td>Patients receive no perioperative fluorouracil...</td>\n",
       "    </tr>\n",
       "    <tr>\n",
       "      <th>NCT00002525</th>\n",
       "      <td>3077996</td>\n",
       "      <td>B1</td>\n",
       "      <td>Baseline</td>\n",
       "      <td>Perioperative 5-FU</td>\n",
       "      <td>Within 24 hours of the colon resection, patien...</td>\n",
       "    </tr>\n",
       "    <tr>\n",
       "      <th>NCT00002525</th>\n",
       "      <td>3077997</td>\n",
       "      <td>P2</td>\n",
       "      <td>Participant Flow</td>\n",
       "      <td>No Perioperative 5-FU</td>\n",
       "      <td>Patients receive no perioperative fluorouracil...</td>\n",
       "    </tr>\n",
       "    <tr>\n",
       "      <th>NCT00002525</th>\n",
       "      <td>3077998</td>\n",
       "      <td>P1</td>\n",
       "      <td>Participant Flow</td>\n",
       "      <td>Perioperative 5-FU</td>\n",
       "      <td>Within 24 hours of the colon resection, patien...</td>\n",
       "    </tr>\n",
       "    <tr>\n",
       "      <th>NCT00002525</th>\n",
       "      <td>3077999</td>\n",
       "      <td>O2</td>\n",
       "      <td>Outcome</td>\n",
       "      <td>No Perioperative 5-FU</td>\n",
       "      <td>Patients receive no perioperative fluorouracil...</td>\n",
       "    </tr>\n",
       "    <tr>\n",
       "      <th>NCT00002525</th>\n",
       "      <td>3078000</td>\n",
       "      <td>O1</td>\n",
       "      <td>Outcome</td>\n",
       "      <td>Perioperative 5-FU</td>\n",
       "      <td>Within 24 hours of the colon resection, patien...</td>\n",
       "    </tr>\n",
       "    <tr>\n",
       "      <th>NCT00002525</th>\n",
       "      <td>3078001</td>\n",
       "      <td>O2</td>\n",
       "      <td>Outcome</td>\n",
       "      <td>No Perioperative 5-FU</td>\n",
       "      <td>Patients receive no perioperative fluorouracil...</td>\n",
       "    </tr>\n",
       "    <tr>\n",
       "      <th>NCT00002525</th>\n",
       "      <td>3078002</td>\n",
       "      <td>O1</td>\n",
       "      <td>Outcome</td>\n",
       "      <td>Perioperative 5-FU</td>\n",
       "      <td>Within 24 hours of the colon resection, patien...</td>\n",
       "    </tr>\n",
       "    <tr>\n",
       "      <th>NCT00002525</th>\n",
       "      <td>3078003</td>\n",
       "      <td>O2</td>\n",
       "      <td>Outcome</td>\n",
       "      <td>No Perioperative 5-FU</td>\n",
       "      <td>Patients receive no perioperative fluorouracil...</td>\n",
       "    </tr>\n",
       "    <tr>\n",
       "      <th>NCT00002525</th>\n",
       "      <td>3078004</td>\n",
       "      <td>O1</td>\n",
       "      <td>Outcome</td>\n",
       "      <td>Perioperative 5-FU</td>\n",
       "      <td>Within 24 hours of the colon resection, patien...</td>\n",
       "    </tr>\n",
       "    <tr>\n",
       "      <th>NCT00002525</th>\n",
       "      <td>3078005</td>\n",
       "      <td>O2</td>\n",
       "      <td>Outcome</td>\n",
       "      <td>No Perioperative 5-FU</td>\n",
       "      <td>Patients receive no perioperative fluorouracil...</td>\n",
       "    </tr>\n",
       "    <tr>\n",
       "      <th>NCT00002525</th>\n",
       "      <td>3078006</td>\n",
       "      <td>O1</td>\n",
       "      <td>Outcome</td>\n",
       "      <td>Perioperative 5-FU</td>\n",
       "      <td>Within 24 hours of the colon resection, patien...</td>\n",
       "    </tr>\n",
       "    <tr>\n",
       "      <th>NCT00002525</th>\n",
       "      <td>3078007</td>\n",
       "      <td>E4</td>\n",
       "      <td>Reported Event</td>\n",
       "      <td>Adjuvant Chemotherapy-- 5-FU+Leucovovin</td>\n",
       "      <td>After surgery, patients with stage IIC or III ...</td>\n",
       "    </tr>\n",
       "    <tr>\n",
       "      <th>NCT00002525</th>\n",
       "      <td>3078008</td>\n",
       "      <td>E3</td>\n",
       "      <td>Reported Event</td>\n",
       "      <td>Adjuvant Chemotherapy-- 5-FU+Levamisolem</td>\n",
       "      <td>Beginning 21-35 days after surgery, patients w...</td>\n",
       "    </tr>\n",
       "    <tr>\n",
       "      <th>NCT00002525</th>\n",
       "      <td>3078009</td>\n",
       "      <td>E2</td>\n",
       "      <td>Reported Event</td>\n",
       "      <td>Arm II (No Perioperative 5-FU)</td>\n",
       "      <td>Patients receive no perioperative fluorouracil...</td>\n",
       "    </tr>\n",
       "    <tr>\n",
       "      <th>NCT00002525</th>\n",
       "      <td>3078010</td>\n",
       "      <td>E1</td>\n",
       "      <td>Reported Event</td>\n",
       "      <td>Arm I (Perioperative 5-FU)</td>\n",
       "      <td>Within 24 hours of the colon resection, patien...</td>\n",
       "    </tr>\n",
       "  </tbody>\n",
       "</table>\n",
       "</div>"
      ],
      "text/plain": [
       "                  id ctgov_group_code       result_type  \\\n",
       "nct_id                                                    \n",
       "NCT00002525  3077994               B3          Baseline   \n",
       "NCT00002525  3077995               B2          Baseline   \n",
       "NCT00002525  3077996               B1          Baseline   \n",
       "NCT00002525  3077997               P2  Participant Flow   \n",
       "NCT00002525  3077998               P1  Participant Flow   \n",
       "NCT00002525  3077999               O2           Outcome   \n",
       "NCT00002525  3078000               O1           Outcome   \n",
       "NCT00002525  3078001               O2           Outcome   \n",
       "NCT00002525  3078002               O1           Outcome   \n",
       "NCT00002525  3078003               O2           Outcome   \n",
       "NCT00002525  3078004               O1           Outcome   \n",
       "NCT00002525  3078005               O2           Outcome   \n",
       "NCT00002525  3078006               O1           Outcome   \n",
       "NCT00002525  3078007               E4    Reported Event   \n",
       "NCT00002525  3078008               E3    Reported Event   \n",
       "NCT00002525  3078009               E2    Reported Event   \n",
       "NCT00002525  3078010               E1    Reported Event   \n",
       "\n",
       "                                                title  \\\n",
       "nct_id                                                  \n",
       "NCT00002525                                     Total   \n",
       "NCT00002525                     No Perioperative 5-FU   \n",
       "NCT00002525                        Perioperative 5-FU   \n",
       "NCT00002525                     No Perioperative 5-FU   \n",
       "NCT00002525                        Perioperative 5-FU   \n",
       "NCT00002525                     No Perioperative 5-FU   \n",
       "NCT00002525                        Perioperative 5-FU   \n",
       "NCT00002525                     No Perioperative 5-FU   \n",
       "NCT00002525                        Perioperative 5-FU   \n",
       "NCT00002525                     No Perioperative 5-FU   \n",
       "NCT00002525                        Perioperative 5-FU   \n",
       "NCT00002525                     No Perioperative 5-FU   \n",
       "NCT00002525                        Perioperative 5-FU   \n",
       "NCT00002525   Adjuvant Chemotherapy-- 5-FU+Leucovovin   \n",
       "NCT00002525  Adjuvant Chemotherapy-- 5-FU+Levamisolem   \n",
       "NCT00002525            Arm II (No Perioperative 5-FU)   \n",
       "NCT00002525                Arm I (Perioperative 5-FU)   \n",
       "\n",
       "                                                   description  \n",
       "nct_id                                                          \n",
       "NCT00002525                      Total of all reporting groups  \n",
       "NCT00002525  Patients receive no perioperative fluorouracil...  \n",
       "NCT00002525  Within 24 hours of the colon resection, patien...  \n",
       "NCT00002525  Patients receive no perioperative fluorouracil...  \n",
       "NCT00002525  Within 24 hours of the colon resection, patien...  \n",
       "NCT00002525  Patients receive no perioperative fluorouracil...  \n",
       "NCT00002525  Within 24 hours of the colon resection, patien...  \n",
       "NCT00002525  Patients receive no perioperative fluorouracil...  \n",
       "NCT00002525  Within 24 hours of the colon resection, patien...  \n",
       "NCT00002525  Patients receive no perioperative fluorouracil...  \n",
       "NCT00002525  Within 24 hours of the colon resection, patien...  \n",
       "NCT00002525  Patients receive no perioperative fluorouracil...  \n",
       "NCT00002525  Within 24 hours of the colon resection, patien...  \n",
       "NCT00002525  After surgery, patients with stage IIC or III ...  \n",
       "NCT00002525  Beginning 21-35 days after surgery, patients w...  \n",
       "NCT00002525  Patients receive no perioperative fluorouracil...  \n",
       "NCT00002525  Within 24 hours of the colon resection, patien...  "
      ]
     },
     "execution_count": 42,
     "metadata": {},
     "output_type": "execute_result"
    }
   ],
   "source": [
    "rg.loc['NCT00002525']"
   ]
  },
  {
   "cell_type": "markdown",
   "metadata": {},
   "source": [
    "### let's build the gender information df using these 2 methods"
   ]
  },
  {
   "cell_type": "code",
   "execution_count": 43,
   "metadata": {},
   "outputs": [
    {
     "data": {
      "text/plain": [
       "(218829, 16)"
      ]
     },
     "execution_count": 43,
     "metadata": {},
     "output_type": "execute_result"
    }
   ],
   "source": [
    "used_df_both = pd.concat([used_dfc_final, used_dfcat_final])\n",
    "used_df_both.shape"
   ]
  },
  {
   "cell_type": "code",
   "execution_count": 44,
   "metadata": {},
   "outputs": [
    {
     "data": {
      "text/plain": [
       "array(['Male', 'Female', 'male', 'Males', 'Females', 'female', 'FEMALE',\n",
       "       'MALE', 'females', 'males', ''], dtype=object)"
      ]
     },
     "execution_count": 44,
     "metadata": {},
     "output_type": "execute_result"
    }
   ],
   "source": [
    "used_df_both['classification'].unique()"
   ]
  },
  {
   "cell_type": "code",
   "execution_count": 45,
   "metadata": {},
   "outputs": [
    {
     "data": {
      "text/plain": [
       "['female', 'male', 'females', 'males']"
      ]
     },
     "execution_count": 45,
     "metadata": {},
     "output_type": "execute_result"
    }
   ],
   "source": [
    "used_classes"
   ]
  },
  {
   "cell_type": "code",
   "execution_count": 46,
   "metadata": {},
   "outputs": [
    {
     "data": {
      "text/plain": [
       "array(['', 'Male', 'Female', 'male', 'female', 'MALE', 'FEMALE'],\n",
       "      dtype=object)"
      ]
     },
     "execution_count": 46,
     "metadata": {},
     "output_type": "execute_result"
    }
   ],
   "source": [
    "used_df_both['category'].unique()"
   ]
  },
  {
   "cell_type": "code",
   "execution_count": 47,
   "metadata": {},
   "outputs": [
    {
     "data": {
      "text/plain": [
       "['male', 'female']"
      ]
     },
     "execution_count": 47,
     "metadata": {},
     "output_type": "execute_result"
    }
   ],
   "source": [
    "used_cats"
   ]
  },
  {
   "cell_type": "code",
   "execution_count": 48,
   "metadata": {},
   "outputs": [],
   "source": [
    "def is_male(row):\n",
    "    cur_class = row['classification']\n",
    "    cur_cat = row['category']\n",
    "    if 'female' in cur_class.lower() or 'female' in cur_cat.lower():\n",
    "        return False\n",
    "    return True"
   ]
  },
  {
   "cell_type": "code",
   "execution_count": 49,
   "metadata": {},
   "outputs": [],
   "source": [
    "used_df_both['is_male'] = used_df_both.apply(is_male, axis=1)"
   ]
  },
  {
   "cell_type": "code",
   "execution_count": 50,
   "metadata": {},
   "outputs": [
    {
     "data": {
      "text/html": [
       "<div>\n",
       "<style scoped>\n",
       "    .dataframe tbody tr th:only-of-type {\n",
       "        vertical-align: middle;\n",
       "    }\n",
       "\n",
       "    .dataframe tbody tr th {\n",
       "        vertical-align: top;\n",
       "    }\n",
       "\n",
       "    .dataframe thead th {\n",
       "        text-align: right;\n",
       "    }\n",
       "</style>\n",
       "<table border=\"1\" class=\"dataframe\">\n",
       "  <thead>\n",
       "    <tr style=\"text-align: right;\">\n",
       "      <th></th>\n",
       "      <th></th>\n",
       "      <th>id</th>\n",
       "      <th>ctgov_group_code</th>\n",
       "      <th>classification</th>\n",
       "      <th>category</th>\n",
       "      <th>title</th>\n",
       "      <th>description</th>\n",
       "      <th>units</th>\n",
       "      <th>param_type</th>\n",
       "      <th>param_value</th>\n",
       "      <th>param_value_num</th>\n",
       "      <th>dispersion_type</th>\n",
       "      <th>dispersion_value</th>\n",
       "      <th>dispersion_value_num</th>\n",
       "      <th>dispersion_lower_limit</th>\n",
       "      <th>dispersion_upper_limit</th>\n",
       "      <th>explanation_of_na</th>\n",
       "      <th>is_male</th>\n",
       "    </tr>\n",
       "    <tr>\n",
       "      <th>nct_id</th>\n",
       "      <th>result_group_id</th>\n",
       "      <th></th>\n",
       "      <th></th>\n",
       "      <th></th>\n",
       "      <th></th>\n",
       "      <th></th>\n",
       "      <th></th>\n",
       "      <th></th>\n",
       "      <th></th>\n",
       "      <th></th>\n",
       "      <th></th>\n",
       "      <th></th>\n",
       "      <th></th>\n",
       "      <th></th>\n",
       "      <th></th>\n",
       "      <th></th>\n",
       "      <th></th>\n",
       "      <th></th>\n",
       "    </tr>\n",
       "  </thead>\n",
       "  <tbody>\n",
       "    <tr>\n",
       "      <th rowspan=\"2\" valign=\"top\">NCT00001213</th>\n",
       "      <th>3090179</th>\n",
       "      <td>3367810</td>\n",
       "      <td>B1</td>\n",
       "      <td>Male</td>\n",
       "      <td></td>\n",
       "      <td>Gender</td>\n",
       "      <td>Gender was captured for 326 out of 328 partici...</td>\n",
       "      <td>participants</td>\n",
       "      <td>Number</td>\n",
       "      <td>173</td>\n",
       "      <td>173.0</td>\n",
       "      <td></td>\n",
       "      <td>None</td>\n",
       "      <td>NaN</td>\n",
       "      <td>NaN</td>\n",
       "      <td>NaN</td>\n",
       "      <td></td>\n",
       "      <td>True</td>\n",
       "    </tr>\n",
       "    <tr>\n",
       "      <th>3090179</th>\n",
       "      <td>3367811</td>\n",
       "      <td>B1</td>\n",
       "      <td>Female</td>\n",
       "      <td></td>\n",
       "      <td>Gender</td>\n",
       "      <td>Gender was captured for 326 out of 328 partici...</td>\n",
       "      <td>participants</td>\n",
       "      <td>Number</td>\n",
       "      <td>153</td>\n",
       "      <td>153.0</td>\n",
       "      <td></td>\n",
       "      <td>None</td>\n",
       "      <td>NaN</td>\n",
       "      <td>NaN</td>\n",
       "      <td>NaN</td>\n",
       "      <td></td>\n",
       "      <td>False</td>\n",
       "    </tr>\n",
       "    <tr>\n",
       "      <th rowspan=\"3\" valign=\"top\">NCT00002525</th>\n",
       "      <th>3077994</th>\n",
       "      <td>3350816</td>\n",
       "      <td>B3</td>\n",
       "      <td>Male</td>\n",
       "      <td></td>\n",
       "      <td>Gender</td>\n",
       "      <td>1 patient on \"No perioperative 5-FU arm\" had m...</td>\n",
       "      <td>participants</td>\n",
       "      <td>Number</td>\n",
       "      <td>195</td>\n",
       "      <td>195.0</td>\n",
       "      <td></td>\n",
       "      <td>None</td>\n",
       "      <td>NaN</td>\n",
       "      <td>NaN</td>\n",
       "      <td>NaN</td>\n",
       "      <td></td>\n",
       "      <td>True</td>\n",
       "    </tr>\n",
       "    <tr>\n",
       "      <th>3077994</th>\n",
       "      <td>3350819</td>\n",
       "      <td>B3</td>\n",
       "      <td>Female</td>\n",
       "      <td></td>\n",
       "      <td>Gender</td>\n",
       "      <td>1 patient on \"No perioperative 5-FU arm\" had m...</td>\n",
       "      <td>participants</td>\n",
       "      <td>Number</td>\n",
       "      <td>118</td>\n",
       "      <td>118.0</td>\n",
       "      <td></td>\n",
       "      <td>None</td>\n",
       "      <td>NaN</td>\n",
       "      <td>NaN</td>\n",
       "      <td>NaN</td>\n",
       "      <td></td>\n",
       "      <td>False</td>\n",
       "    </tr>\n",
       "    <tr>\n",
       "      <th>3077995</th>\n",
       "      <td>3350817</td>\n",
       "      <td>B2</td>\n",
       "      <td>Male</td>\n",
       "      <td></td>\n",
       "      <td>Gender</td>\n",
       "      <td>1 patient on \"No perioperative 5-FU arm\" had m...</td>\n",
       "      <td>participants</td>\n",
       "      <td>Number</td>\n",
       "      <td>96</td>\n",
       "      <td>96.0</td>\n",
       "      <td></td>\n",
       "      <td>None</td>\n",
       "      <td>NaN</td>\n",
       "      <td>NaN</td>\n",
       "      <td>NaN</td>\n",
       "      <td></td>\n",
       "      <td>True</td>\n",
       "    </tr>\n",
       "  </tbody>\n",
       "</table>\n",
       "</div>"
      ],
      "text/plain": [
       "                                  id ctgov_group_code classification category  \\\n",
       "nct_id      result_group_id                                                     \n",
       "NCT00001213 3090179          3367810               B1           Male            \n",
       "            3090179          3367811               B1         Female            \n",
       "NCT00002525 3077994          3350816               B3           Male            \n",
       "            3077994          3350819               B3         Female            \n",
       "            3077995          3350817               B2           Male            \n",
       "\n",
       "                              title  \\\n",
       "nct_id      result_group_id           \n",
       "NCT00001213 3090179          Gender   \n",
       "            3090179          Gender   \n",
       "NCT00002525 3077994          Gender   \n",
       "            3077994          Gender   \n",
       "            3077995          Gender   \n",
       "\n",
       "                                                                   description  \\\n",
       "nct_id      result_group_id                                                      \n",
       "NCT00001213 3090179          Gender was captured for 326 out of 328 partici...   \n",
       "            3090179          Gender was captured for 326 out of 328 partici...   \n",
       "NCT00002525 3077994          1 patient on \"No perioperative 5-FU arm\" had m...   \n",
       "            3077994          1 patient on \"No perioperative 5-FU arm\" had m...   \n",
       "            3077995          1 patient on \"No perioperative 5-FU arm\" had m...   \n",
       "\n",
       "                                    units param_type param_value  \\\n",
       "nct_id      result_group_id                                        \n",
       "NCT00001213 3090179          participants     Number         173   \n",
       "            3090179          participants     Number         153   \n",
       "NCT00002525 3077994          participants     Number         195   \n",
       "            3077994          participants     Number         118   \n",
       "            3077995          participants     Number          96   \n",
       "\n",
       "                             param_value_num dispersion_type dispersion_value  \\\n",
       "nct_id      result_group_id                                                     \n",
       "NCT00001213 3090179                    173.0                             None   \n",
       "            3090179                    153.0                             None   \n",
       "NCT00002525 3077994                    195.0                             None   \n",
       "            3077994                    118.0                             None   \n",
       "            3077995                     96.0                             None   \n",
       "\n",
       "                             dispersion_value_num  dispersion_lower_limit  \\\n",
       "nct_id      result_group_id                                                 \n",
       "NCT00001213 3090179                           NaN                     NaN   \n",
       "            3090179                           NaN                     NaN   \n",
       "NCT00002525 3077994                           NaN                     NaN   \n",
       "            3077994                           NaN                     NaN   \n",
       "            3077995                           NaN                     NaN   \n",
       "\n",
       "                             dispersion_upper_limit explanation_of_na  is_male  \n",
       "nct_id      result_group_id                                                     \n",
       "NCT00001213 3090179                             NaN                       True  \n",
       "            3090179                             NaN                      False  \n",
       "NCT00002525 3077994                             NaN                       True  \n",
       "            3077994                             NaN                      False  \n",
       "            3077995                             NaN                       True  "
      ]
     },
     "execution_count": 50,
     "metadata": {},
     "output_type": "execute_result"
    }
   ],
   "source": [
    "used_df_both.head()"
   ]
  },
  {
   "cell_type": "markdown",
   "metadata": {},
   "source": [
    "### Q1: what is the distribution of studies by gender eligibility?"
   ]
  },
  {
   "cell_type": "code",
   "execution_count": 51,
   "metadata": {},
   "outputs": [
    {
     "data": {
      "text/plain": [
       "((257905,), (257905,))"
      ]
     },
     "execution_count": 51,
     "metadata": {},
     "output_type": "execute_result"
    }
   ],
   "source": [
    "# is the index on eligibility unique?\n",
    "el.index.shape, el.index.unique().shape\n",
    "\n",
    "# Yes"
   ]
  },
  {
   "cell_type": "code",
   "execution_count": 52,
   "metadata": {},
   "outputs": [
    {
     "data": {
      "text/plain": [
       "gender\n",
       "          0.000050\n",
       "All       0.850689\n",
       "Female    0.097679\n",
       "Male      0.051581\n",
       "dtype: float64"
      ]
     },
     "execution_count": 52,
     "metadata": {},
     "output_type": "execute_result"
    }
   ],
   "source": [
    "el.groupby('gender').size()/el.shape[0]"
   ]
  },
  {
   "cell_type": "markdown",
   "metadata": {},
   "source": [
    "### Q2: if the eligibility is only by gender, do the studies accurately recruit that gender?"
   ]
  },
  {
   "cell_type": "code",
   "execution_count": 53,
   "metadata": {},
   "outputs": [
    {
     "data": {
      "text/plain": [
       "(25192, 10)"
      ]
     },
     "execution_count": 53,
     "metadata": {},
     "output_type": "execute_result"
    }
   ],
   "source": [
    "el_female = el[el['gender'] == 'Female']\n",
    "el_female.shape"
   ]
  },
  {
   "cell_type": "code",
   "execution_count": 54,
   "metadata": {},
   "outputs": [
    {
     "data": {
      "text/html": [
       "<div>\n",
       "<style scoped>\n",
       "    .dataframe tbody tr th:only-of-type {\n",
       "        vertical-align: middle;\n",
       "    }\n",
       "\n",
       "    .dataframe tbody tr th {\n",
       "        vertical-align: top;\n",
       "    }\n",
       "\n",
       "    .dataframe thead th {\n",
       "        text-align: right;\n",
       "    }\n",
       "</style>\n",
       "<table border=\"1\" class=\"dataframe\">\n",
       "  <thead>\n",
       "    <tr style=\"text-align: right;\">\n",
       "      <th></th>\n",
       "      <th></th>\n",
       "      <th>id</th>\n",
       "      <th>ctgov_group_code</th>\n",
       "      <th>classification</th>\n",
       "      <th>category</th>\n",
       "      <th>title</th>\n",
       "      <th>description</th>\n",
       "      <th>units</th>\n",
       "      <th>param_type</th>\n",
       "      <th>param_value</th>\n",
       "      <th>param_value_num</th>\n",
       "      <th>dispersion_type</th>\n",
       "      <th>dispersion_value</th>\n",
       "      <th>dispersion_value_num</th>\n",
       "      <th>dispersion_lower_limit</th>\n",
       "      <th>dispersion_upper_limit</th>\n",
       "      <th>explanation_of_na</th>\n",
       "      <th>is_male</th>\n",
       "    </tr>\n",
       "    <tr>\n",
       "      <th>nct_id</th>\n",
       "      <th>result_group_id</th>\n",
       "      <th></th>\n",
       "      <th></th>\n",
       "      <th></th>\n",
       "      <th></th>\n",
       "      <th></th>\n",
       "      <th></th>\n",
       "      <th></th>\n",
       "      <th></th>\n",
       "      <th></th>\n",
       "      <th></th>\n",
       "      <th></th>\n",
       "      <th></th>\n",
       "      <th></th>\n",
       "      <th></th>\n",
       "      <th></th>\n",
       "      <th></th>\n",
       "      <th></th>\n",
       "    </tr>\n",
       "  </thead>\n",
       "  <tbody>\n",
       "    <tr>\n",
       "      <th rowspan=\"3\" valign=\"top\">NCT00004888</th>\n",
       "      <th>3085562</th>\n",
       "      <td>3362332</td>\n",
       "      <td>B3</td>\n",
       "      <td>Female</td>\n",
       "      <td></td>\n",
       "      <td>Sex/Gender, Customized</td>\n",
       "      <td>All participants are female.</td>\n",
       "      <td>participants</td>\n",
       "      <td>Number</td>\n",
       "      <td>84</td>\n",
       "      <td>84.0</td>\n",
       "      <td></td>\n",
       "      <td>None</td>\n",
       "      <td>NaN</td>\n",
       "      <td>NaN</td>\n",
       "      <td>NaN</td>\n",
       "      <td></td>\n",
       "      <td>False</td>\n",
       "    </tr>\n",
       "    <tr>\n",
       "      <th>3085563</th>\n",
       "      <td>3362333</td>\n",
       "      <td>B2</td>\n",
       "      <td>Female</td>\n",
       "      <td></td>\n",
       "      <td>Sex/Gender, Customized</td>\n",
       "      <td>All participants are female.</td>\n",
       "      <td>participants</td>\n",
       "      <td>Number</td>\n",
       "      <td>46</td>\n",
       "      <td>46.0</td>\n",
       "      <td></td>\n",
       "      <td>None</td>\n",
       "      <td>NaN</td>\n",
       "      <td>NaN</td>\n",
       "      <td>NaN</td>\n",
       "      <td></td>\n",
       "      <td>False</td>\n",
       "    </tr>\n",
       "    <tr>\n",
       "      <th>3085564</th>\n",
       "      <td>3362334</td>\n",
       "      <td>B1</td>\n",
       "      <td>Female</td>\n",
       "      <td></td>\n",
       "      <td>Sex/Gender, Customized</td>\n",
       "      <td>All participants are female.</td>\n",
       "      <td>participants</td>\n",
       "      <td>Number</td>\n",
       "      <td>38</td>\n",
       "      <td>38.0</td>\n",
       "      <td></td>\n",
       "      <td>None</td>\n",
       "      <td>NaN</td>\n",
       "      <td>NaN</td>\n",
       "      <td>NaN</td>\n",
       "      <td></td>\n",
       "      <td>False</td>\n",
       "    </tr>\n",
       "    <tr>\n",
       "      <th rowspan=\"2\" valign=\"top\">NCT00062751</th>\n",
       "      <th>3082311</th>\n",
       "      <td>3357259</td>\n",
       "      <td>B6</td>\n",
       "      <td>Female</td>\n",
       "      <td></td>\n",
       "      <td>Sex/Gender, Customized</td>\n",
       "      <td></td>\n",
       "      <td>participants</td>\n",
       "      <td>Number</td>\n",
       "      <td>108</td>\n",
       "      <td>108.0</td>\n",
       "      <td></td>\n",
       "      <td>None</td>\n",
       "      <td>NaN</td>\n",
       "      <td>NaN</td>\n",
       "      <td>NaN</td>\n",
       "      <td></td>\n",
       "      <td>False</td>\n",
       "    </tr>\n",
       "    <tr>\n",
       "      <th>3082312</th>\n",
       "      <td>3357260</td>\n",
       "      <td>B5</td>\n",
       "      <td>Female</td>\n",
       "      <td></td>\n",
       "      <td>Sex/Gender, Customized</td>\n",
       "      <td></td>\n",
       "      <td>participants</td>\n",
       "      <td>Number</td>\n",
       "      <td>6</td>\n",
       "      <td>6.0</td>\n",
       "      <td></td>\n",
       "      <td>None</td>\n",
       "      <td>NaN</td>\n",
       "      <td>NaN</td>\n",
       "      <td>NaN</td>\n",
       "      <td></td>\n",
       "      <td>False</td>\n",
       "    </tr>\n",
       "  </tbody>\n",
       "</table>\n",
       "</div>"
      ],
      "text/plain": [
       "                                  id ctgov_group_code classification category  \\\n",
       "nct_id      result_group_id                                                     \n",
       "NCT00004888 3085562          3362332               B3         Female            \n",
       "            3085563          3362333               B2         Female            \n",
       "            3085564          3362334               B1         Female            \n",
       "NCT00062751 3082311          3357259               B6         Female            \n",
       "            3082312          3357260               B5         Female            \n",
       "\n",
       "                                              title  \\\n",
       "nct_id      result_group_id                           \n",
       "NCT00004888 3085562          Sex/Gender, Customized   \n",
       "            3085563          Sex/Gender, Customized   \n",
       "            3085564          Sex/Gender, Customized   \n",
       "NCT00062751 3082311          Sex/Gender, Customized   \n",
       "            3082312          Sex/Gender, Customized   \n",
       "\n",
       "                                              description         units  \\\n",
       "nct_id      result_group_id                                               \n",
       "NCT00004888 3085562          All participants are female.  participants   \n",
       "            3085563          All participants are female.  participants   \n",
       "            3085564          All participants are female.  participants   \n",
       "NCT00062751 3082311                                        participants   \n",
       "            3082312                                        participants   \n",
       "\n",
       "                            param_type param_value  param_value_num  \\\n",
       "nct_id      result_group_id                                           \n",
       "NCT00004888 3085562             Number          84             84.0   \n",
       "            3085563             Number          46             46.0   \n",
       "            3085564             Number          38             38.0   \n",
       "NCT00062751 3082311             Number         108            108.0   \n",
       "            3082312             Number           6              6.0   \n",
       "\n",
       "                            dispersion_type dispersion_value  \\\n",
       "nct_id      result_group_id                                    \n",
       "NCT00004888 3085562                                     None   \n",
       "            3085563                                     None   \n",
       "            3085564                                     None   \n",
       "NCT00062751 3082311                                     None   \n",
       "            3082312                                     None   \n",
       "\n",
       "                             dispersion_value_num  dispersion_lower_limit  \\\n",
       "nct_id      result_group_id                                                 \n",
       "NCT00004888 3085562                           NaN                     NaN   \n",
       "            3085563                           NaN                     NaN   \n",
       "            3085564                           NaN                     NaN   \n",
       "NCT00062751 3082311                           NaN                     NaN   \n",
       "            3082312                           NaN                     NaN   \n",
       "\n",
       "                             dispersion_upper_limit explanation_of_na  is_male  \n",
       "nct_id      result_group_id                                                     \n",
       "NCT00004888 3085562                             NaN                      False  \n",
       "            3085563                             NaN                      False  \n",
       "            3085564                             NaN                      False  \n",
       "NCT00062751 3082311                             NaN                      False  \n",
       "            3082312                             NaN                      False  "
      ]
     },
     "execution_count": 54,
     "metadata": {},
     "output_type": "execute_result"
    }
   ],
   "source": [
    "df_female = el_female[[]].join(used_df_both)\n",
    "df_female.head()"
   ]
  },
  {
   "cell_type": "code",
   "execution_count": 55,
   "metadata": {},
   "outputs": [],
   "source": [
    "df_male_in_f_study = df_female[df_female['is_male']]"
   ]
  },
  {
   "cell_type": "code",
   "execution_count": 56,
   "metadata": {
    "scrolled": true
   },
   "outputs": [],
   "source": [
    "df_non_zero = df_male_in_f_study[(df_male_in_f_study['param_value'] != '0') & \n",
    "                                 (df_male_in_f_study['param_value'] != '0.0') &\n",
    "                                 (df_male_in_f_study['param_value'] != 'NA')]"
   ]
  },
  {
   "cell_type": "code",
   "execution_count": 57,
   "metadata": {},
   "outputs": [
    {
     "data": {
      "text/plain": [
       "Index(['NCT03628885', 'NCT00080301', 'NCT00275301', 'NCT00291577',\n",
       "       'NCT00394524', 'NCT00412841', 'NCT00421889', 'NCT00719862',\n",
       "       'NCT00743119', 'NCT00810108', 'NCT00846027', 'NCT00874094',\n",
       "       'NCT00878995', 'NCT00920621', 'NCT01032135', 'NCT01121250',\n",
       "       'NCT01147744', 'NCT01156792', 'NCT01181323', 'NCT01193920',\n",
       "       'NCT01211340', 'NCT01251744', 'NCT01269346', 'NCT01412801',\n",
       "       'NCT01443130', 'NCT01446289', 'NCT01615367', 'NCT01722266',\n",
       "       'NCT01737710', 'NCT01801475', 'NCT01919216', 'NCT02078713',\n",
       "       'NCT02175628', 'NCT02244424', 'NCT02263118', 'NCT02415166',\n",
       "       'NCT02487771', 'NCT02721147', 'NCT03098615'],\n",
       "      dtype='object', name='nct_id')"
      ]
     },
     "execution_count": 57,
     "metadata": {},
     "output_type": "execute_result"
    }
   ],
   "source": [
    "df_non_zero.index.get_level_values(0).unique()"
   ]
  },
  {
   "cell_type": "markdown",
   "metadata": {},
   "source": [
    "- Looks like some of the results included the genders of childern of those studied: NCT03628885\n",
    "- sometimes despite a female study such as breast cancer, we get a odd male participant: NCT00080301\n",
    "- sometimes the implementation is different from design, resulting in many males: NCT00275301\n",
    "\n",
    "Take away: we should limit it to studies that intended to study both genders at the start, which represents 85% of our study pop"
   ]
  },
  {
   "cell_type": "code",
   "execution_count": 58,
   "metadata": {},
   "outputs": [],
   "source": [
    "df_all_gender_idx = el[el['gender'] == 'All'][[]]"
   ]
  },
  {
   "cell_type": "markdown",
   "metadata": {},
   "source": [
    "### rebuilding the joint gender dataframe"
   ]
  },
  {
   "cell_type": "code",
   "execution_count": 59,
   "metadata": {},
   "outputs": [
    {
     "data": {
      "text/plain": [
       "(3849, 3092)"
      ]
     },
     "execution_count": 59,
     "metadata": {},
     "output_type": "execute_result"
    }
   ],
   "source": [
    "used_dfc_final2 = used_dfc_final.join(df_all_gender_idx, how='inner')\n",
    "used_dfc_final.shape[0], used_dfc_final2.shape[0]"
   ]
  },
  {
   "cell_type": "code",
   "execution_count": 60,
   "metadata": {},
   "outputs": [
    {
     "data": {
      "text/plain": [
       "(214980, 188856)"
      ]
     },
     "execution_count": 60,
     "metadata": {},
     "output_type": "execute_result"
    }
   ],
   "source": [
    "used_dfcat_final2 = used_dfcat_final.join(df_all_gender_idx, how='inner')\n",
    "used_dfcat_final.shape[0], used_dfcat_final2.shape[0]"
   ]
  },
  {
   "cell_type": "code",
   "execution_count": 61,
   "metadata": {},
   "outputs": [
    {
     "data": {
      "text/plain": [
       "(191948, 16)"
      ]
     },
     "execution_count": 61,
     "metadata": {},
     "output_type": "execute_result"
    }
   ],
   "source": [
    "used_df_both = pd.concat([used_dfc_final2, used_dfcat_final2])\n",
    "used_df_both.shape"
   ]
  },
  {
   "cell_type": "code",
   "execution_count": 62,
   "metadata": {},
   "outputs": [],
   "source": [
    "used_df_both['is_male'] = used_df_both.apply(is_male, axis=1)"
   ]
  },
  {
   "cell_type": "markdown",
   "metadata": {},
   "source": [
    "### removing odd param_types"
   ]
  },
  {
   "cell_type": "code",
   "execution_count": 63,
   "metadata": {},
   "outputs": [
    {
     "data": {
      "text/plain": [
       "param_type\n",
       "                             31\n",
       "Count of Participants    189080\n",
       "Count of Units              123\n",
       "Mean                         74\n",
       "Median                        6\n",
       "Number                     2634\n",
       "dtype: int64"
      ]
     },
     "execution_count": 63,
     "metadata": {},
     "output_type": "execute_result"
    }
   ],
   "source": [
    "used_df_both.groupby('param_type').size()"
   ]
  },
  {
   "cell_type": "code",
   "execution_count": 64,
   "metadata": {},
   "outputs": [],
   "source": [
    "used_df_both = used_df_both[used_df_both['param_type'].isin(['Count of Participants','Number'])]"
   ]
  },
  {
   "cell_type": "code",
   "execution_count": 65,
   "metadata": {},
   "outputs": [
    {
     "data": {
      "text/plain": [
       "(33164, 0.8659912262377272)"
      ]
     },
     "execution_count": 65,
     "metadata": {},
     "output_type": "execute_result"
    }
   ],
   "source": [
    "num_remain = used_df_both.index.get_level_values(0).unique().shape[0]\n",
    "num_remain, num_remain / bm_all"
   ]
  },
  {
   "cell_type": "markdown",
   "metadata": {},
   "source": [
    "##### we still have 33k and 87% of our studies that we started with in baseline measurements"
   ]
  },
  {
   "cell_type": "markdown",
   "metadata": {},
   "source": [
    "### Joining to result groups to get the group labels"
   ]
  },
  {
   "cell_type": "code",
   "execution_count": 66,
   "metadata": {},
   "outputs": [],
   "source": [
    "dfm = used_df_both.reset_index().merge(rg.reset_index()[['nct_id', 'ctgov_group_code', 'title']], \n",
    "                                       on=['nct_id', 'ctgov_group_code'], \n",
    "                                       how='inner', \n",
    "                                       suffixes=('', '_rg'))"
   ]
  },
  {
   "cell_type": "code",
   "execution_count": 67,
   "metadata": {
    "scrolled": true
   },
   "outputs": [
    {
     "data": {
      "text/plain": [
       "Index(['Total', 'Placebo', 'Control', 'Control Group', 'All Participants',\n",
       "       'All Study Participants', 'Usual Care', 'Entire Study Population',\n",
       "       'Overall Study', 'Treatment', 'Intervention', 'Placebo Group',\n",
       "       'Group 1', 'Standard of Care', 'Overall', 'Arm 1', 'Vehicle', 'Group 2',\n",
       "       'Sugar Pill', 'All Subjects', 'Arm 2', 'Cohort 1', 'Cohort 2', 'Arm I',\n",
       "       'Total Title', 'Group B', 'All Patients', 'Standard Care', 'Group A',\n",
       "       'Control Arm', 'Sitagliptin', 'Pregabalin', 'Varenicline',\n",
       "       'Intervention Group', 'Experimental', 'Normal Saline', 'Duloxetine',\n",
       "       'Cohort 3', 'Etanercept', 'Saline', 'Metformin', 'Treatment Arm',\n",
       "       'Sham', 'Arm A', 'Arm B', 'Erlotinib', 'Active', 'Treatment Group',\n",
       "       'Rituximab', 'Pioglitazone'],\n",
       "      dtype='object', name='title_rg')"
      ]
     },
     "execution_count": 67,
     "metadata": {},
     "output_type": "execute_result"
    }
   ],
   "source": [
    "dfm.groupby('title_rg').size().sort_values(ascending=False)[:50].index"
   ]
  },
  {
   "cell_type": "code",
   "execution_count": 68,
   "metadata": {},
   "outputs": [],
   "source": [
    "total_strings = ['Total', \n",
    "                 'All Participants', \n",
    "                 'All Study Participants', \n",
    "                 'Entire Study Population',\n",
    "                 'Overall Study',\n",
    "                 'Overall', \n",
    "                 'Total Title']"
   ]
  },
  {
   "cell_type": "markdown",
   "metadata": {},
   "source": [
    "- exclude the 'percent' unit types\n",
    "- just exclude the total group up front\n",
    "- remove studies where the number of people < x\n",
    "- then remove studies where there is only 1 non-zero group"
   ]
  },
  {
   "cell_type": "code",
   "execution_count": 69,
   "metadata": {},
   "outputs": [
    {
     "data": {
      "text/plain": [
       "(191714, 20)"
      ]
     },
     "execution_count": 69,
     "metadata": {},
     "output_type": "execute_result"
    }
   ],
   "source": [
    "dfm.shape"
   ]
  },
  {
   "cell_type": "markdown",
   "metadata": {},
   "source": [
    "### Excluding total groups"
   ]
  },
  {
   "cell_type": "code",
   "execution_count": 70,
   "metadata": {},
   "outputs": [
    {
     "data": {
      "text/plain": [
       "(143802, 20)"
      ]
     },
     "execution_count": 70,
     "metadata": {},
     "output_type": "execute_result"
    }
   ],
   "source": [
    "dfm_nontot = dfm[~dfm['title_rg'].isin(total_strings)]\n",
    "dfm_nontot.shape"
   ]
  },
  {
   "cell_type": "markdown",
   "metadata": {},
   "source": [
    "### excluding percent unit types"
   ]
  },
  {
   "cell_type": "code",
   "execution_count": 71,
   "metadata": {},
   "outputs": [
    {
     "data": {
      "text/plain": [
       "(143790, 20)"
      ]
     },
     "execution_count": 71,
     "metadata": {},
     "output_type": "execute_result"
    }
   ],
   "source": [
    "dfm2 = dfm_nontot[dfm_nontot['units'].apply(lambda x: False if 'percent' in x.lower() else True)]\n",
    "dfm2.shape"
   ]
  },
  {
   "cell_type": "markdown",
   "metadata": {},
   "source": [
    "### Total participants:"
   ]
  },
  {
   "cell_type": "code",
   "execution_count": 72,
   "metadata": {},
   "outputs": [
    {
     "data": {
      "text/html": [
       "<div>\n",
       "<style scoped>\n",
       "    .dataframe tbody tr th:only-of-type {\n",
       "        vertical-align: middle;\n",
       "    }\n",
       "\n",
       "    .dataframe tbody tr th {\n",
       "        vertical-align: top;\n",
       "    }\n",
       "\n",
       "    .dataframe thead th {\n",
       "        text-align: right;\n",
       "    }\n",
       "</style>\n",
       "<table border=\"1\" class=\"dataframe\">\n",
       "  <thead>\n",
       "    <tr style=\"text-align: right;\">\n",
       "      <th></th>\n",
       "      <th>param_value_num</th>\n",
       "    </tr>\n",
       "    <tr>\n",
       "      <th>nct_id</th>\n",
       "      <th></th>\n",
       "    </tr>\n",
       "  </thead>\n",
       "  <tbody>\n",
       "    <tr>\n",
       "      <th>NCT00000125</th>\n",
       "      <td>1636.0</td>\n",
       "    </tr>\n",
       "    <tr>\n",
       "      <th>NCT00000134</th>\n",
       "      <td>279.0</td>\n",
       "    </tr>\n",
       "    <tr>\n",
       "      <th>NCT00000135</th>\n",
       "      <td>209.0</td>\n",
       "    </tr>\n",
       "    <tr>\n",
       "      <th>NCT00000136</th>\n",
       "      <td>234.0</td>\n",
       "    </tr>\n",
       "    <tr>\n",
       "      <th>NCT00000142</th>\n",
       "      <td>64.0</td>\n",
       "    </tr>\n",
       "  </tbody>\n",
       "</table>\n",
       "</div>"
      ],
      "text/plain": [
       "             param_value_num\n",
       "nct_id                      \n",
       "NCT00000125           1636.0\n",
       "NCT00000134            279.0\n",
       "NCT00000135            209.0\n",
       "NCT00000136            234.0\n",
       "NCT00000142             64.0"
      ]
     },
     "execution_count": 72,
     "metadata": {},
     "output_type": "execute_result"
    }
   ],
   "source": [
    "dftotals = dfm2.groupby('nct_id')[['param_value_num']].sum()\n",
    "dftotals.head()"
   ]
  },
  {
   "cell_type": "code",
   "execution_count": 73,
   "metadata": {
    "scrolled": true
   },
   "outputs": [
    {
     "name": "stdout",
     "output_type": "stream",
     "text": [
      "10 2954 0.09185037778676036\n",
      "11 3227 0.10033891980970741\n",
      "12 3637 0.11308727962438979\n",
      "13 3885 0.12079848263424645\n",
      "14 4169 0.12962905382295326\n",
      "15 4486 0.1394857125089394\n",
      "16 4824 0.14999533596592146\n",
      "17 5049 0.15699138708373495\n",
      "18 5369 0.16694132645129195\n",
      "19 5611 0.1744659680980069\n",
      "20 6215 0.1932464786542707\n",
      "21 6496 0.20198376916140667\n",
      "22 6758 0.21013028201859396\n",
      "23 6998 0.21759273654426167\n",
      "24 7415 0.23055875128260936\n"
     ]
    }
   ],
   "source": [
    "for i in range(10, 25):\n",
    "    sub_df = dftotals[dftotals['param_value_num'] <= i]\n",
    "    print(i, sub_df.shape[0], sub_df.shape[0]/dftotals.shape[0])"
   ]
  },
  {
   "cell_type": "markdown",
   "metadata": {},
   "source": [
    "##### Decision: exclude any studies with less than 20 people"
   ]
  },
  {
   "cell_type": "code",
   "execution_count": 74,
   "metadata": {},
   "outputs": [
    {
     "data": {
      "text/plain": [
       "(26550, 1)"
      ]
     },
     "execution_count": 74,
     "metadata": {},
     "output_type": "execute_result"
    }
   ],
   "source": [
    "df_totals_used = dftotals[dftotals['param_value_num'] >= 20]\n",
    "df_totals_used.shape"
   ]
  },
  {
   "cell_type": "code",
   "execution_count": 75,
   "metadata": {},
   "outputs": [
    {
     "data": {
      "text/plain": [
       "(127200, 20)"
      ]
     },
     "execution_count": 75,
     "metadata": {},
     "output_type": "execute_result"
    }
   ],
   "source": [
    "# excluding studies with < 30 total participants\n",
    "dfm3 = dfm2[dfm2['nct_id'].isin(df_totals_used.index)]\n",
    "dfm3.shape"
   ]
  },
  {
   "cell_type": "markdown",
   "metadata": {},
   "source": [
    "## what are the studies that do not have atleast 2 non-zero groups?"
   ]
  },
  {
   "cell_type": "code",
   "execution_count": 76,
   "metadata": {},
   "outputs": [
    {
     "data": {
      "text/html": [
       "<div>\n",
       "<style scoped>\n",
       "    .dataframe tbody tr th:only-of-type {\n",
       "        vertical-align: middle;\n",
       "    }\n",
       "\n",
       "    .dataframe tbody tr th {\n",
       "        vertical-align: top;\n",
       "    }\n",
       "\n",
       "    .dataframe thead th {\n",
       "        text-align: right;\n",
       "    }\n",
       "</style>\n",
       "<table border=\"1\" class=\"dataframe\">\n",
       "  <thead>\n",
       "    <tr style=\"text-align: right;\">\n",
       "      <th></th>\n",
       "      <th>nct_id</th>\n",
       "      <th>result_group_id</th>\n",
       "      <th>id</th>\n",
       "      <th>ctgov_group_code</th>\n",
       "      <th>classification</th>\n",
       "      <th>category</th>\n",
       "      <th>title</th>\n",
       "      <th>description</th>\n",
       "      <th>units</th>\n",
       "      <th>param_type</th>\n",
       "      <th>param_value</th>\n",
       "      <th>param_value_num</th>\n",
       "      <th>dispersion_type</th>\n",
       "      <th>dispersion_value</th>\n",
       "      <th>dispersion_value_num</th>\n",
       "      <th>dispersion_lower_limit</th>\n",
       "      <th>dispersion_upper_limit</th>\n",
       "      <th>explanation_of_na</th>\n",
       "      <th>is_male</th>\n",
       "      <th>title_rg</th>\n",
       "    </tr>\n",
       "  </thead>\n",
       "  <tbody>\n",
       "    <tr>\n",
       "      <th>0</th>\n",
       "      <td>NCT00001213</td>\n",
       "      <td>3090179</td>\n",
       "      <td>3367810</td>\n",
       "      <td>B1</td>\n",
       "      <td>Male</td>\n",
       "      <td></td>\n",
       "      <td>Gender</td>\n",
       "      <td>Gender was captured for 326 out of 328 partici...</td>\n",
       "      <td>participants</td>\n",
       "      <td>Number</td>\n",
       "      <td>173</td>\n",
       "      <td>173.0</td>\n",
       "      <td></td>\n",
       "      <td>None</td>\n",
       "      <td>NaN</td>\n",
       "      <td>NaN</td>\n",
       "      <td>NaN</td>\n",
       "      <td></td>\n",
       "      <td>True</td>\n",
       "      <td>Cysteamine Topical Solution</td>\n",
       "    </tr>\n",
       "    <tr>\n",
       "      <th>1</th>\n",
       "      <td>NCT00001213</td>\n",
       "      <td>3090179</td>\n",
       "      <td>3367811</td>\n",
       "      <td>B1</td>\n",
       "      <td>Female</td>\n",
       "      <td></td>\n",
       "      <td>Gender</td>\n",
       "      <td>Gender was captured for 326 out of 328 partici...</td>\n",
       "      <td>participants</td>\n",
       "      <td>Number</td>\n",
       "      <td>153</td>\n",
       "      <td>153.0</td>\n",
       "      <td></td>\n",
       "      <td>None</td>\n",
       "      <td>NaN</td>\n",
       "      <td>NaN</td>\n",
       "      <td>NaN</td>\n",
       "      <td></td>\n",
       "      <td>False</td>\n",
       "      <td>Cysteamine Topical Solution</td>\n",
       "    </tr>\n",
       "    <tr>\n",
       "      <th>4</th>\n",
       "      <td>NCT00002525</td>\n",
       "      <td>3077995</td>\n",
       "      <td>3350817</td>\n",
       "      <td>B2</td>\n",
       "      <td>Male</td>\n",
       "      <td></td>\n",
       "      <td>Gender</td>\n",
       "      <td>1 patient on \"No perioperative 5-FU arm\" had m...</td>\n",
       "      <td>participants</td>\n",
       "      <td>Number</td>\n",
       "      <td>96</td>\n",
       "      <td>96.0</td>\n",
       "      <td></td>\n",
       "      <td>None</td>\n",
       "      <td>NaN</td>\n",
       "      <td>NaN</td>\n",
       "      <td>NaN</td>\n",
       "      <td></td>\n",
       "      <td>True</td>\n",
       "      <td>No Perioperative 5-FU</td>\n",
       "    </tr>\n",
       "    <tr>\n",
       "      <th>5</th>\n",
       "      <td>NCT00002525</td>\n",
       "      <td>3077995</td>\n",
       "      <td>3350820</td>\n",
       "      <td>B2</td>\n",
       "      <td>Female</td>\n",
       "      <td></td>\n",
       "      <td>Gender</td>\n",
       "      <td>1 patient on \"No perioperative 5-FU arm\" had m...</td>\n",
       "      <td>participants</td>\n",
       "      <td>Number</td>\n",
       "      <td>61</td>\n",
       "      <td>61.0</td>\n",
       "      <td></td>\n",
       "      <td>None</td>\n",
       "      <td>NaN</td>\n",
       "      <td>NaN</td>\n",
       "      <td>NaN</td>\n",
       "      <td></td>\n",
       "      <td>False</td>\n",
       "      <td>No Perioperative 5-FU</td>\n",
       "    </tr>\n",
       "    <tr>\n",
       "      <th>6</th>\n",
       "      <td>NCT00002525</td>\n",
       "      <td>3077996</td>\n",
       "      <td>3350818</td>\n",
       "      <td>B1</td>\n",
       "      <td>Male</td>\n",
       "      <td></td>\n",
       "      <td>Gender</td>\n",
       "      <td>1 patient on \"No perioperative 5-FU arm\" had m...</td>\n",
       "      <td>participants</td>\n",
       "      <td>Number</td>\n",
       "      <td>99</td>\n",
       "      <td>99.0</td>\n",
       "      <td></td>\n",
       "      <td>None</td>\n",
       "      <td>NaN</td>\n",
       "      <td>NaN</td>\n",
       "      <td>NaN</td>\n",
       "      <td></td>\n",
       "      <td>True</td>\n",
       "      <td>Perioperative 5-FU</td>\n",
       "    </tr>\n",
       "  </tbody>\n",
       "</table>\n",
       "</div>"
      ],
      "text/plain": [
       "        nct_id  result_group_id       id ctgov_group_code classification  \\\n",
       "0  NCT00001213          3090179  3367810               B1           Male   \n",
       "1  NCT00001213          3090179  3367811               B1         Female   \n",
       "4  NCT00002525          3077995  3350817               B2           Male   \n",
       "5  NCT00002525          3077995  3350820               B2         Female   \n",
       "6  NCT00002525          3077996  3350818               B1           Male   \n",
       "\n",
       "  category   title                                        description  \\\n",
       "0           Gender  Gender was captured for 326 out of 328 partici...   \n",
       "1           Gender  Gender was captured for 326 out of 328 partici...   \n",
       "4           Gender  1 patient on \"No perioperative 5-FU arm\" had m...   \n",
       "5           Gender  1 patient on \"No perioperative 5-FU arm\" had m...   \n",
       "6           Gender  1 patient on \"No perioperative 5-FU arm\" had m...   \n",
       "\n",
       "          units param_type param_value  param_value_num dispersion_type  \\\n",
       "0  participants     Number         173            173.0                   \n",
       "1  participants     Number         153            153.0                   \n",
       "4  participants     Number          96             96.0                   \n",
       "5  participants     Number          61             61.0                   \n",
       "6  participants     Number          99             99.0                   \n",
       "\n",
       "  dispersion_value  dispersion_value_num  dispersion_lower_limit  \\\n",
       "0             None                   NaN                     NaN   \n",
       "1             None                   NaN                     NaN   \n",
       "4             None                   NaN                     NaN   \n",
       "5             None                   NaN                     NaN   \n",
       "6             None                   NaN                     NaN   \n",
       "\n",
       "   dispersion_upper_limit explanation_of_na  is_male  \\\n",
       "0                     NaN                       True   \n",
       "1                     NaN                      False   \n",
       "4                     NaN                       True   \n",
       "5                     NaN                      False   \n",
       "6                     NaN                       True   \n",
       "\n",
       "                      title_rg  \n",
       "0  Cysteamine Topical Solution  \n",
       "1  Cysteamine Topical Solution  \n",
       "4        No Perioperative 5-FU  \n",
       "5        No Perioperative 5-FU  \n",
       "6           Perioperative 5-FU  "
      ]
     },
     "execution_count": 76,
     "metadata": {},
     "output_type": "execute_result"
    }
   ],
   "source": [
    "dfm3.head()"
   ]
  },
  {
   "cell_type": "code",
   "execution_count": 77,
   "metadata": {},
   "outputs": [
    {
     "data": {
      "text/plain": [
       "(123859, 20)"
      ]
     },
     "execution_count": 77,
     "metadata": {},
     "output_type": "execute_result"
    }
   ],
   "source": [
    "df_nonzero = dfm3[dfm3['param_value_num'] > 0]\n",
    "df_nonzero.shape"
   ]
  },
  {
   "cell_type": "code",
   "execution_count": 78,
   "metadata": {},
   "outputs": [
    {
     "data": {
      "text/plain": [
       "(26550,)"
      ]
     },
     "execution_count": 78,
     "metadata": {},
     "output_type": "execute_result"
    }
   ],
   "source": [
    "df_nonzero_groups = df_nonzero.groupby(['nct_id'])['ctgov_group_code'].nunique()\n",
    "df_nonzero_groups.shape"
   ]
  },
  {
   "cell_type": "code",
   "execution_count": 79,
   "metadata": {},
   "outputs": [
    {
     "data": {
      "text/plain": [
       "nct_id\n",
       "NCT00001213    1\n",
       "NCT00001305    1\n",
       "NCT00001566    1\n",
       "NCT00001575    1\n",
       "NCT00001941    1\n",
       "              ..\n",
       "NCT03783780    1\n",
       "NCT03870737    1\n",
       "NCT03905642    1\n",
       "NCT03927950    1\n",
       "NCT04036838    1\n",
       "Name: ctgov_group_code, Length: 5953, dtype: int64"
      ]
     },
     "execution_count": 79,
     "metadata": {},
     "output_type": "execute_result"
    }
   ],
   "source": [
    "df_nonzero_groups[df_nonzero_groups <= 1]"
   ]
  },
  {
   "cell_type": "code",
   "execution_count": 80,
   "metadata": {},
   "outputs": [
    {
     "data": {
      "text/plain": [
       "20597"
      ]
     },
     "execution_count": 80,
     "metadata": {},
     "output_type": "execute_result"
    }
   ],
   "source": [
    "df_nonzero_used = df_nonzero_groups[df_nonzero_groups > 1].index\n",
    "len(df_nonzero_used)"
   ]
  },
  {
   "cell_type": "code",
   "execution_count": 81,
   "metadata": {},
   "outputs": [
    {
     "data": {
      "text/plain": [
       "(115232, 20)"
      ]
     },
     "execution_count": 81,
     "metadata": {},
     "output_type": "execute_result"
    }
   ],
   "source": [
    "dfm4 = dfm3[dfm3['nct_id'].isin(df_nonzero_used)]\n",
    "dfm4.shape"
   ]
  },
  {
   "cell_type": "code",
   "execution_count": 82,
   "metadata": {},
   "outputs": [
    {
     "data": {
      "text/plain": [
       "(0.5378368498015459, 20597)"
      ]
     },
     "execution_count": 82,
     "metadata": {},
     "output_type": "execute_result"
    }
   ],
   "source": [
    "len(dfm4['nct_id'].unique()) / bm_all, len(dfm4['nct_id'].unique()) "
   ]
  },
  {
   "cell_type": "markdown",
   "metadata": {},
   "source": [
    "## we have 54% or 21k of the studies remaining that have:\n",
    "- atleast 2 non-zero non-total groups\n",
    "- not measured in percent\n",
    "- have atleast a total of 20 participants"
   ]
  },
  {
   "cell_type": "code",
   "execution_count": 83,
   "metadata": {},
   "outputs": [],
   "source": [
    "dfm4.to_pickle('balance_curated.p')"
   ]
  },
  {
   "cell_type": "markdown",
   "metadata": {},
   "source": [
    "## Notes to detect imbalance issues:\n",
    "\n",
    "if the treatment effect is large, then the expectation of absolute value of effect should be around the true effect regardless of imbalance or no imbalance. On the otherhand if the treatment effect is small, then the expectation of absolute value of the treatmentment effect is larger for imbalanced datasets compared to balanced datasets\n",
    "\n",
    "The what we need to do:\n",
    "- create universe of studies\n",
    "- measure imbalance on each study\n",
    "- measure treatment effect\n",
    "- compare the average treatment effect on a grid of studies:\n",
    "    - high/low treatment effect \n",
    "    - high/low imbalance"
   ]
  },
  {
   "cell_type": "markdown",
   "metadata": {},
   "source": [
    "### let's take a look at the outcome measurement data"
   ]
  },
  {
   "cell_type": "code",
   "execution_count": 88,
   "metadata": {},
   "outputs": [
    {
     "data": {
      "text/plain": [
       "(295661, 12)"
      ]
     },
     "execution_count": 88,
     "metadata": {},
     "output_type": "execute_result"
    }
   ],
   "source": [
    "out.shape"
   ]
  },
  {
   "cell_type": "code",
   "execution_count": 110,
   "metadata": {},
   "outputs": [
    {
     "data": {
      "text/html": [
       "<div>\n",
       "<style scoped>\n",
       "    .dataframe tbody tr th:only-of-type {\n",
       "        vertical-align: middle;\n",
       "    }\n",
       "\n",
       "    .dataframe tbody tr th {\n",
       "        vertical-align: top;\n",
       "    }\n",
       "\n",
       "    .dataframe thead th {\n",
       "        text-align: right;\n",
       "    }\n",
       "</style>\n",
       "<table border=\"1\" class=\"dataframe\">\n",
       "  <thead>\n",
       "    <tr style=\"text-align: right;\">\n",
       "      <th></th>\n",
       "      <th>id</th>\n",
       "      <th>outcome_type</th>\n",
       "      <th>title</th>\n",
       "      <th>description</th>\n",
       "      <th>time_frame</th>\n",
       "      <th>population</th>\n",
       "      <th>anticipated_posting_date</th>\n",
       "      <th>anticipated_posting_month_year</th>\n",
       "      <th>units</th>\n",
       "      <th>units_analyzed</th>\n",
       "      <th>dispersion_type</th>\n",
       "      <th>param_type</th>\n",
       "    </tr>\n",
       "    <tr>\n",
       "      <th>nct_id</th>\n",
       "      <th></th>\n",
       "      <th></th>\n",
       "      <th></th>\n",
       "      <th></th>\n",
       "      <th></th>\n",
       "      <th></th>\n",
       "      <th></th>\n",
       "      <th></th>\n",
       "      <th></th>\n",
       "      <th></th>\n",
       "      <th></th>\n",
       "      <th></th>\n",
       "    </tr>\n",
       "  </thead>\n",
       "  <tbody>\n",
       "    <tr>\n",
       "      <th>NCT00000125</th>\n",
       "      <td>930727</td>\n",
       "      <td>Primary</td>\n",
       "      <td>Incidence of Primary Open-Angle Glaucoma in Hy...</td>\n",
       "      <td>Comparison of the cumulative proportion of par...</td>\n",
       "      <td>5 yrs (OHTS I, June 2002) and 13.0 yrs (comple...</td>\n",
       "      <td>1636 ocular hypertensive participants were ran...</td>\n",
       "      <td>None</td>\n",
       "      <td></td>\n",
       "      <td>percent of participants</td>\n",
       "      <td></td>\n",
       "      <td></td>\n",
       "      <td>Number</td>\n",
       "    </tr>\n",
       "    <tr>\n",
       "      <th>NCT00000134</th>\n",
       "      <td>930726</td>\n",
       "      <td>Primary</td>\n",
       "      <td>Morbidity</td>\n",
       "      <td>To determine the best therapeutic regimen, usi...</td>\n",
       "      <td>Patients will be seen at baseline, monthly for...</td>\n",
       "      <td></td>\n",
       "      <td>None</td>\n",
       "      <td></td>\n",
       "      <td>participants</td>\n",
       "      <td></td>\n",
       "      <td></td>\n",
       "      <td>Number</td>\n",
       "    </tr>\n",
       "    <tr>\n",
       "      <th>NCT00000135</th>\n",
       "      <td>930725</td>\n",
       "      <td>Primary</td>\n",
       "      <td>Mortality Rate</td>\n",
       "      <td>to evaluate the efficacy of an intravenous hum...</td>\n",
       "      <td>All patients enrolled were followed for a 17 m...</td>\n",
       "      <td></td>\n",
       "      <td>None</td>\n",
       "      <td></td>\n",
       "      <td>deaths per person-year</td>\n",
       "      <td></td>\n",
       "      <td></td>\n",
       "      <td>Number</td>\n",
       "    </tr>\n",
       "    <tr>\n",
       "      <th>NCT00000136</th>\n",
       "      <td>930724</td>\n",
       "      <td>Primary</td>\n",
       "      <td>Mortality</td>\n",
       "      <td></td>\n",
       "      <td>All patients enrolled will be followed until a...</td>\n",
       "      <td></td>\n",
       "      <td>None</td>\n",
       "      <td></td>\n",
       "      <td>participants</td>\n",
       "      <td></td>\n",
       "      <td></td>\n",
       "      <td>Number</td>\n",
       "    </tr>\n",
       "    <tr>\n",
       "      <th>NCT00000142</th>\n",
       "      <td>930723</td>\n",
       "      <td>Primary</td>\n",
       "      <td>Survival</td>\n",
       "      <td></td>\n",
       "      <td>All patients enrolled will be followed until a...</td>\n",
       "      <td></td>\n",
       "      <td>None</td>\n",
       "      <td></td>\n",
       "      <td>participants</td>\n",
       "      <td></td>\n",
       "      <td></td>\n",
       "      <td>Number</td>\n",
       "    </tr>\n",
       "  </tbody>\n",
       "</table>\n",
       "</div>"
      ],
      "text/plain": [
       "                 id outcome_type  \\\n",
       "nct_id                             \n",
       "NCT00000125  930727      Primary   \n",
       "NCT00000134  930726      Primary   \n",
       "NCT00000135  930725      Primary   \n",
       "NCT00000136  930724      Primary   \n",
       "NCT00000142  930723      Primary   \n",
       "\n",
       "                                                         title  \\\n",
       "nct_id                                                           \n",
       "NCT00000125  Incidence of Primary Open-Angle Glaucoma in Hy...   \n",
       "NCT00000134                                          Morbidity   \n",
       "NCT00000135                                     Mortality Rate   \n",
       "NCT00000136                                          Mortality   \n",
       "NCT00000142                                           Survival   \n",
       "\n",
       "                                                   description  \\\n",
       "nct_id                                                           \n",
       "NCT00000125  Comparison of the cumulative proportion of par...   \n",
       "NCT00000134  To determine the best therapeutic regimen, usi...   \n",
       "NCT00000135  to evaluate the efficacy of an intravenous hum...   \n",
       "NCT00000136                                                      \n",
       "NCT00000142                                                      \n",
       "\n",
       "                                                    time_frame  \\\n",
       "nct_id                                                           \n",
       "NCT00000125  5 yrs (OHTS I, June 2002) and 13.0 yrs (comple...   \n",
       "NCT00000134  Patients will be seen at baseline, monthly for...   \n",
       "NCT00000135  All patients enrolled were followed for a 17 m...   \n",
       "NCT00000136  All patients enrolled will be followed until a...   \n",
       "NCT00000142  All patients enrolled will be followed until a...   \n",
       "\n",
       "                                                    population  \\\n",
       "nct_id                                                           \n",
       "NCT00000125  1636 ocular hypertensive participants were ran...   \n",
       "NCT00000134                                                      \n",
       "NCT00000135                                                      \n",
       "NCT00000136                                                      \n",
       "NCT00000142                                                      \n",
       "\n",
       "            anticipated_posting_date anticipated_posting_month_year  \\\n",
       "nct_id                                                                \n",
       "NCT00000125                     None                                  \n",
       "NCT00000134                     None                                  \n",
       "NCT00000135                     None                                  \n",
       "NCT00000136                     None                                  \n",
       "NCT00000142                     None                                  \n",
       "\n",
       "                               units units_analyzed dispersion_type param_type  \n",
       "nct_id                                                                          \n",
       "NCT00000125  percent of participants                                    Number  \n",
       "NCT00000134             participants                                    Number  \n",
       "NCT00000135   deaths per person-year                                    Number  \n",
       "NCT00000136             participants                                    Number  \n",
       "NCT00000142             participants                                    Number  "
      ]
     },
     "execution_count": 110,
     "metadata": {},
     "output_type": "execute_result"
    }
   ],
   "source": [
    "out.head()"
   ]
  },
  {
   "cell_type": "code",
   "execution_count": 111,
   "metadata": {},
   "outputs": [
    {
     "data": {
      "text/plain": [
       "(29067, 12)"
      ]
     },
     "execution_count": 111,
     "metadata": {},
     "output_type": "execute_result"
    }
   ],
   "source": [
    "primary_out_means = out[(out['outcome_type'] == 'Primary') & (out['param_type'] == 'Mean')]\n",
    "primary_out_means.shape"
   ]
  },
  {
   "cell_type": "code",
   "execution_count": 112,
   "metadata": {},
   "outputs": [
    {
     "data": {
      "text/plain": [
       "14027"
      ]
     },
     "execution_count": 112,
     "metadata": {},
     "output_type": "execute_result"
    }
   ],
   "source": [
    "len(primary_out_means.index.unique())"
   ]
  },
  {
   "cell_type": "code",
   "execution_count": 105,
   "metadata": {},
   "outputs": [],
   "source": [
    "num_primary_oc = primary_out_means.groupby(primary_out_means.index).size().sort_values(ascending=False)"
   ]
  },
  {
   "cell_type": "code",
   "execution_count": 109,
   "metadata": {},
   "outputs": [
    {
     "data": {
      "text/plain": [
       "<matplotlib.axes._subplots.AxesSubplot at 0x1a6b61b00>"
      ]
     },
     "execution_count": 109,
     "metadata": {},
     "output_type": "execute_result"
    },
    {
     "data": {
      "image/png": "[encoded data removed]",
      "text/plain": [
       "<Figure size 432x288 with 1 Axes>"
      ]
     },
     "metadata": {
      "needs_background": "light"
     },
     "output_type": "display_data"
    }
   ],
   "source": [
    "np.log(num_primary_oc).plot()"
   ]
  },
  {
   "cell_type": "markdown",
   "metadata": {},
   "source": [
    "##### Note: studies can have many primary outcome measurements: NCT01094184\n",
    "\n",
    "for our purposes, we should take just 1 primary outcome per study"
   ]
  },
  {
   "cell_type": "code",
   "execution_count": null,
   "metadata": {},
   "outputs": [],
   "source": []
  }
 ],
 "metadata": {
  "kernelspec": {
   "display_name": "Python 3",
   "language": "python",
   "name": "python3"
  },
  "language_info": {
   "codemirror_mode": {
    "name": "ipython",
    "version": 3
   },
   "file_extension": ".py",
   "mimetype": "text/x-python",
   "name": "python",
   "nbconvert_exporter": "python",
   "pygments_lexer": "ipython3",
   "version": "3.6.8"
  }
 },
 "nbformat": 4,
 "nbformat_minor": 2
}
