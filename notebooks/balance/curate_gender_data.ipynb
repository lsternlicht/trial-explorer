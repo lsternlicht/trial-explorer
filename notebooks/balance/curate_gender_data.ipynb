{
 "cells": [
  {
   "cell_type": "code",
   "execution_count": 1,
   "metadata": {},
   "outputs": [],
   "source": [
    "import sys\n",
    "if \"../../\" not in sys.path:\n",
    "    sys.path.append(\"../../\")"
   ]
  },
  {
   "cell_type": "code",
   "execution_count": 2,
   "metadata": {},
   "outputs": [],
   "source": [
    "import pandas as pd\n",
    "import numpy as np\n",
    "from importlib import reload\n",
    "from tqdm import tqdm_notebook as tqdm\n",
    "import time\n",
    "\n",
    "import pdaactconn as pc\n",
    "from trialexplorer import AACTStudySet\n",
    "\n",
    "import matplotlib.pyplot\n",
    "%matplotlib inline"
   ]
  },
  {
   "cell_type": "code",
   "execution_count": 3,
   "metadata": {},
   "outputs": [
    {
     "name": "stdout",
     "output_type": "stream",
     "text": [
      "258163 studies loaded!\n"
     ]
    }
   ],
   "source": [
    "# loading all interventional studies\n",
    "conn = pc.AACTConnection(source=pc.AACTConnection.REMOTE)\n",
    "ss = AACTStudySet.AACTStudySet(conn=conn, \n",
    "                               tqdm_handler=tqdm)\n",
    "ss.add_constraint(\"study_type = 'Interventional'\")\n",
    "ss.load_studies()"
   ]
  },
  {
   "cell_type": "code",
   "execution_count": 6,
   "metadata": {},
   "outputs": [
    {
     "name": "stdout",
     "output_type": "stream",
     "text": [
      "Successfuly added these 5 dimensions: ['baseline_measurements', 'result_groups', 'eligibilities', 'outcomes', 'outcome_measurements']\n",
      "Failed to add these 0 dimensions: []\n"
     ]
    },
    {
     "data": {
      "application/vnd.jupyter.widget-view+json": {
       "model_id": "f8baac8acae744b287b64c5971f6d80d",
       "version_major": 2,
       "version_minor": 0
      },
      "text/plain": [
       "HBox(children=(IntProgress(value=0, max=517), HTML(value='')))"
      ]
     },
     "metadata": {},
     "output_type": "display_data"
    },
    {
     "name": "stdout",
     "output_type": "stream",
     "text": [
      "Syncing the temp table temp_cur_studies in 517 chunks x 500 records each\n",
      "\n",
      "Creating index on the temp table\n",
      " - Loading dimension baseline_measurements\n",
      " -- Loading raw data\n",
      " -- Sorting index\n",
      " - Loading dimension result_groups\n",
      " -- Loading raw data\n",
      " -- Sorting index\n",
      " - Loading dimension eligibilities\n",
      " -- Loading raw data\n",
      " -- Sorting index\n",
      " - Loading dimension outcomes\n",
      " -- Loading raw data\n",
      " -- Sorting index\n",
      " - Loading dimension outcome_measurements\n",
      " -- Loading raw data\n",
      " -- Sorting index\n"
     ]
    }
   ],
   "source": [
    "# adding and loading dimensional data\n",
    "ss.add_dimensions(['baseline_measurements',\n",
    "                   'result_groups',\n",
    "                   'eligibilities',\n",
    "                   'outcomes',\n",
    "                   'outcome_measurements'])\n",
    "ss.refresh_dim_data()"
   ]
  },
  {
   "cell_type": "code",
   "execution_count": 7,
   "metadata": {},
   "outputs": [
    {
     "data": {
      "text/plain": [
       "258163"
      ]
     },
     "execution_count": 7,
     "metadata": {},
     "output_type": "execute_result"
    }
   ],
   "source": [
    "num_all = ss.studies.shape[0]\n",
    "num_all"
   ]
  },
  {
   "cell_type": "markdown",
   "metadata": {},
   "source": [
    "The total number of studies is 258k"
   ]
  },
  {
   "cell_type": "code",
   "execution_count": 9,
   "metadata": {},
   "outputs": [],
   "source": [
    "# setting all the dimensional data to variables\n",
    "bm = ss.dimensions['baseline_measurements'].data\n",
    "rg = ss.dimensions['result_groups'].data\n",
    "el = ss.dimensions['eligibilities'].data\n",
    "out = ss.dimensions['outcomes'].data\n",
    "om = ss.dimensions['outcome_measurements'].data"
   ]
  },
  {
   "cell_type": "code",
   "execution_count": 11,
   "metadata": {},
   "outputs": [
    {
     "data": {
      "text/plain": [
       "(38368, 0.14861928316606174)"
      ]
     },
     "execution_count": 11,
     "metadata": {},
     "output_type": "execute_result"
    }
   ],
   "source": [
    "bm_all = bm.index.get_level_values(0).unique().shape[0]\n",
    "bm_all, bm_all / num_all"
   ]
  },
  {
   "cell_type": "markdown",
   "metadata": {},
   "source": [
    "only 38k studies have baseline measurements, which represents 15% of the total number of studies"
   ]
  },
  {
   "cell_type": "markdown",
   "metadata": {},
   "source": [
    "## Looking in the \"classification\" field of baseline measurements"
   ]
  },
  {
   "cell_type": "code",
   "execution_count": 14,
   "metadata": {},
   "outputs": [
    {
     "data": {
      "text/plain": [
       "classification\n",
       "Female                                 1866\n",
       "Male                                   1848\n",
       "Female of Childbearing Potential        113\n",
       "Females                                  57\n",
       "Males                                    40\n",
       "N/A (Subject is Male)                    30\n",
       "Female of childbearing potential         30\n",
       "Females of Child-bearing Potential       26\n",
       "Sterilized Females                       26\n",
       "Males (Excluded from this analysis)      26\n",
       "dtype: int64"
      ]
     },
     "execution_count": 14,
     "metadata": {},
     "output_type": "execute_result"
    }
   ],
   "source": [
    "possible_classes = [x for x in bm['classification'].unique() if 'male' in x.lower()]\n",
    "dfc = bm[bm['classification'].isin(possible_classes)]\n",
    "dfc.groupby('classification').size().sort_values(ascending=False)[:10]"
   ]
  },
  {
   "cell_type": "markdown",
   "metadata": {},
   "source": [
    "looks like if we just used Female, Male and their plurals we can cover most of the cases"
   ]
  },
  {
   "cell_type": "code",
   "execution_count": 37,
   "metadata": {},
   "outputs": [
    {
     "name": "stdout",
     "output_type": "stream",
     "text": [
      "Found these classes in the 'classification' field that matched used_classes: \n",
      "['Male' 'Female' 'male' 'Males' 'Females' 'female' 'FEMALE' 'MALE'\n",
      " 'females' 'males']\n",
      "\n",
      "This applies to 681 studies, or 1.8% of the those that report baseline measurements \n"
     ]
    }
   ],
   "source": [
    "used_classes = ['female', 'male', 'females', 'males']\n",
    "used_df_class = dfc[dfc['classification'].apply(lambda x: x.lower()).isin(used_classes)].copy()\n",
    "selected_classes = used_df_class['classification'].unique()\n",
    "print(\"Found these classes in the 'classification' field that matched used_classes: \\n%s\\n\" % selected_classes)\n",
    "\n",
    "res_studies_dfc = used_df_class.index.get_level_values(0).unique().shape[0]\n",
    "print(\"This applies to %s studies, or %.1f%% of the those that report baseline measurements \" %\n",
    "      (res_studies_dfc, res_studies_dfc / bm_all * 100))"
   ]
  },
  {
   "cell_type": "markdown",
   "metadata": {},
   "source": [
    "## Looking in the \"category\" field of baseline measurements"
   ]
  },
  {
   "cell_type": "code",
   "execution_count": 24,
   "metadata": {},
   "outputs": [
    {
     "data": {
      "text/plain": [
       "category\n",
       "Male                                  108202\n",
       "Female                                108184\n",
       "FEMALE                                    68\n",
       "MALE                                      68\n",
       "Female of childbearing potential          18\n",
       "Not Applicable (Male)                      5\n",
       "Male <8                                    4\n",
       "Male donor / Male Recipient                4\n",
       "Female donor / Male Recipient              4\n",
       "Not applicable (male participants)         4\n",
       "dtype: int64"
      ]
     },
     "execution_count": 24,
     "metadata": {},
     "output_type": "execute_result"
    }
   ],
   "source": [
    "possible_class_cat = [x for x in bm['category'].unique() if 'male' in x.lower()]\n",
    "dfcat = bm[bm['category'].isin(possible_class_cat)]\n",
    "dfcat.groupby('category').size().sort_values(ascending=False)[:10]"
   ]
  },
  {
   "cell_type": "markdown",
   "metadata": {},
   "source": [
    "if can use male and female, in any caps"
   ]
  },
  {
   "cell_type": "code",
   "execution_count": 36,
   "metadata": {},
   "outputs": [
    {
     "name": "stdout",
     "output_type": "stream",
     "text": [
      "Found these categories in the 'category' field that matched used_cats: \n",
      "['Male' 'Female' 'male' 'female' 'MALE' 'FEMALE']\n",
      "\n",
      "This applies to 37542 studies, or 97.8% of the those that report baseline measurements \n"
     ]
    }
   ],
   "source": [
    "used_cats = ['male', 'female']\n",
    "used_df_cat = bm[bm['category'].apply(lambda x: x.lower()).isin(used_cats)].copy()\n",
    "selected_cats = used_df_cat['category'].unique()\n",
    "print(\"Found these categories in the 'category' field that matched used_cats: \\n%s\\n\" % selected_cats)\n",
    "\n",
    "res_studies_dfcat = used_df_cat.index.get_level_values(0).unique().shape[0]\n",
    "print(\"This applies to %s studies, or %.1f%% of the those that report baseline measurements \" %\n",
    "      (res_studies_dfcat, res_studies_dfcat / bm_all * 100))"
   ]
  },
  {
   "cell_type": "markdown",
   "metadata": {},
   "source": [
    "### We will transform the classfication and category raw fields into just 2 boolean fields:\n",
    "- is_male_class\n",
    "- is_male_cat"
   ]
  },
  {
   "cell_type": "code",
   "execution_count": 38,
   "metadata": {},
   "outputs": [
    {
     "data": {
      "text/plain": [
       "array(['Male', 'Female', 'male', 'Males', 'Females', 'female', 'FEMALE',\n",
       "       'MALE', 'females', 'males'], dtype=object)"
      ]
     },
     "execution_count": 38,
     "metadata": {},
     "output_type": "execute_result"
    }
   ],
   "source": [
    "used_df_class['classification'].unique()"
   ]
  },
  {
   "cell_type": "code",
   "execution_count": 40,
   "metadata": {},
   "outputs": [],
   "source": [
    "used_df_class['is_male_class'] = used_df_class['classification'].apply(lambda x: \n",
    "                                                                       False if 'female' in x.lower() \n",
    "                                                                       else True)"
   ]
  },
  {
   "cell_type": "code",
   "execution_count": 42,
   "metadata": {
    "scrolled": true
   },
   "outputs": [
    {
     "data": {
      "text/plain": [
       "array(['Male', 'Female', 'male', 'female', 'MALE', 'FEMALE'], dtype=object)"
      ]
     },
     "execution_count": 42,
     "metadata": {},
     "output_type": "execute_result"
    }
   ],
   "source": [
    "used_df_cat['category'].unique()"
   ]
  },
  {
   "cell_type": "code",
   "execution_count": 43,
   "metadata": {},
   "outputs": [],
   "source": [
    "used_df_cat['is_male_cat'] = used_df_cat['category'].apply(lambda x: \n",
    "                                                           False if 'female' in x.lower() \n",
    "                                                           else True)"
   ]
  },
  {
   "cell_type": "markdown",
   "metadata": {},
   "source": [
    "#### This seems a majority of our studies, is there overlap between identifying gender using classification vs using category?"
   ]
  },
  {
   "cell_type": "markdown",
   "metadata": {},
   "source": [
    "### Let's analyse their intersections"
   ]
  },
  {
   "cell_type": "code",
   "execution_count": 45,
   "metadata": {},
   "outputs": [
    {
     "data": {
      "text/plain": [
       "is_male_class  category               \n",
       "False                                     1943\n",
       "               Female                        4\n",
       "               Male                          4\n",
       "True                                      1906\n",
       "               <=18 years                    4\n",
       "               >=65 years                    4\n",
       "               Between 18 and 65 years       4\n",
       "               Male                          3\n",
       "               Transfemale                   3\n",
       "dtype: int64"
      ]
     },
     "execution_count": 45,
     "metadata": {},
     "output_type": "execute_result"
    }
   ],
   "source": [
    "used_df_class.groupby(['is_male_class', 'category']).size()"
   ]
  },
  {
   "cell_type": "code",
   "execution_count": 52,
   "metadata": {},
   "outputs": [
    {
     "data": {
      "text/plain": [
       "is_male_cat  classification             \n",
       "True                                        107707\n",
       "False                                       107695\n",
       "True         Part 2                             30\n",
       "False        Part 2                             30\n",
       "             Sex                                29\n",
       "True         Sex                                29\n",
       "             Gender                             25\n",
       "False        Gender                             25\n",
       "             Part A                             17\n",
       "True         Part A                             17\n",
       "             Part 1                             16\n",
       "False        Part 1                             16\n",
       "True         Part 1b                            13\n",
       "             Part 1a                            13\n",
       "False        Part 1b                            13\n",
       "             Part 1a                            13\n",
       "True         Part B                             11\n",
       "False        Part B                             11\n",
       "             All patients and clinicians        10\n",
       "True         All patients and clinicians        10\n",
       "dtype: int64"
      ]
     },
     "execution_count": 52,
     "metadata": {},
     "output_type": "execute_result"
    }
   ],
   "source": [
    "used_df_cat.groupby(['is_male_cat', 'classification']).size().sort_values(ascending=False)[:20]"
   ]
  },
  {
   "cell_type": "markdown",
   "metadata": {},
   "source": [
    "### we wouldn't miss much if we required: \n",
    "- the category be \"\" for records from used_df_class\n",
    "- the classification be \"\" for record from used_df_cat"
   ]
  },
  {
   "cell_type": "code",
   "execution_count": 81,
   "metadata": {},
   "outputs": [
    {
     "name": "stdout",
     "output_type": "stream",
     "text": [
      "(3875, 17)\n",
      "(3849, 17)\n"
     ]
    }
   ],
   "source": [
    "print(used_df_class.shape)\n",
    "df_class_no_collide = used_df_class[used_df_class['category'] == \"\"]\n",
    "print(used_df_class_final.shape)"
   ]
  },
  {
   "cell_type": "code",
   "execution_count": 82,
   "metadata": {},
   "outputs": [
    {
     "name": "stdout",
     "output_type": "stream",
     "text": [
      "(216528, 17)\n",
      "(215402, 17)\n"
     ]
    }
   ],
   "source": [
    "print(used_df_cat.shape)\n",
    "df_cat_no_collide = used_df_cat[used_df_cat['classification'] == \"\"]\n",
    "print(used_df_cat_final.shape)"
   ]
  },
  {
   "cell_type": "code",
   "execution_count": 83,
   "metadata": {},
   "outputs": [
    {
     "name": "stdout",
     "output_type": "stream",
     "text": [
      "Combined, we have gender for 38083 studies, or 99.3% of the those that report baseline measurements \n"
     ]
    }
   ],
   "source": [
    "i1 = df_class_no_collide.index.get_level_values(0).unique()\n",
    "i2 = df_cat_no_collide.index.get_level_values(0).unique()\n",
    "\n",
    "i1_overlap = [x for x in i1 if x in i2]\n",
    "tot_uniq = len(i1) + len(i2) - len(i1_overlap)\n",
    "print(\"Combined, we have gender for %s studies, or %.1f%% of the those that report baseline measurements \" %\n",
    "      (tot_uniq, tot_uniq / bm_all * 100))"
   ]
  },
  {
   "cell_type": "markdown",
   "metadata": {},
   "source": [
    "### Pretty good!"
   ]
  },
  {
   "cell_type": "markdown",
   "metadata": {},
   "source": [
    "### Some examples:\n",
    "- gender in \"category\"\n",
    "    - https://clinicaltrials.gov/ct2/show/results/NCT00000125\n",
    "- gender in \"classification\"\n",
    "    - https://clinicaltrials.gov/ct2/show/results/NCT00001213"
   ]
  },
  {
   "cell_type": "markdown",
   "metadata": {},
   "source": [
    "### Only some studies are eligible since they are designed to capture both genders"
   ]
  },
  {
   "cell_type": "code",
   "execution_count": 63,
   "metadata": {},
   "outputs": [
    {
     "data": {
      "text/plain": [
       "219613"
      ]
     },
     "execution_count": 63,
     "metadata": {},
     "output_type": "execute_result"
    }
   ],
   "source": [
    "# note that el is unique on its index of nct_id\n",
    "df_all_gender_idx = el[el['gender'] == 'All'][[]]\n",
    "len(df_all_gender_idx)"
   ]
  },
  {
   "cell_type": "code",
   "execution_count": 84,
   "metadata": {},
   "outputs": [],
   "source": [
    "df_class_final = df_class_no_collide.loc[df_all_gender_idx.index]\n",
    "df_cat_final = df_cat_no_collide.loc[df_all_gender_idx.index]"
   ]
  },
  {
   "cell_type": "code",
   "execution_count": 88,
   "metadata": {},
   "outputs": [
    {
     "name": "stdout",
     "output_type": "stream",
     "text": [
      "After excluding single gender studies, we have gender data for 33261 studies, or 86.7% of the those that report baseline measurements \n"
     ]
    }
   ],
   "source": [
    "# how do our counts go after we've excluded studies that are uni-gendered?\n",
    "i1 = df_class_final.index.get_level_values(0).unique()\n",
    "i2 = df_cat_final.index.get_level_values(0).unique()\n",
    "\n",
    "i1_overlap = [x for x in i1 if x in i2]\n",
    "tot_uniq = len(i1) + len(i2) - len(i1_overlap)\n",
    "print(\"After excluding single gender studies, we have gender data for %s studies, or %.1f%% of the those that report baseline measurements \" %\n",
    "      (tot_uniq, tot_uniq / bm_all * 100))"
   ]
  },
  {
   "cell_type": "markdown",
   "metadata": {},
   "source": [
    "## Joining the dataframes and making 1 is_male column"
   ]
  },
  {
   "cell_type": "code",
   "execution_count": 90,
   "metadata": {},
   "outputs": [
    {
     "data": {
      "text/plain": [
       "(192324, 18)"
      ]
     },
     "execution_count": 90,
     "metadata": {},
     "output_type": "execute_result"
    }
   ],
   "source": [
    "used_df_both = pd.concat([df_class_final, df_cat_final], sort=False)\n",
    "used_df_both.shape"
   ]
  },
  {
   "cell_type": "code",
   "execution_count": 92,
   "metadata": {},
   "outputs": [],
   "source": [
    "def is_male(row):\n",
    "    cur_class = row['classification']\n",
    "    cur_cat = row['category']\n",
    "    if 'female' in cur_class.lower() or 'female' in cur_cat.lower():\n",
    "        return False\n",
    "    return True\n",
    "\n",
    "used_df_both['is_male'] = used_df_both.apply(is_male, axis=1)"
   ]
  },
  {
   "cell_type": "code",
   "execution_count": 103,
   "metadata": {},
   "outputs": [
    {
     "data": {
      "text/plain": [
       "33261"
      ]
     },
     "execution_count": 103,
     "metadata": {},
     "output_type": "execute_result"
    }
   ],
   "source": [
    "len(used_df_both.index.get_level_values(0).unique())"
   ]
  },
  {
   "cell_type": "markdown",
   "metadata": {},
   "source": [
    "### Only some param_types / unit combinations are valid for our purposes to count the number of people:\n",
    "- param_type = Count of Participants\n",
    "- param_type = Number"
   ]
  },
  {
   "cell_type": "code",
   "execution_count": 93,
   "metadata": {},
   "outputs": [
    {
     "data": {
      "text/plain": [
       "param_type\n",
       "                             31\n",
       "Count of Participants    189456\n",
       "Count of Units              123\n",
       "Mean                         74\n",
       "Median                        6\n",
       "Number                     2634\n",
       "dtype: int64"
      ]
     },
     "execution_count": 93,
     "metadata": {},
     "output_type": "execute_result"
    }
   ],
   "source": [
    "used_df_both.groupby('param_type').size()"
   ]
  },
  {
   "cell_type": "code",
   "execution_count": 100,
   "metadata": {},
   "outputs": [
    {
     "data": {
      "text/plain": [
       "array(['Participants'], dtype=object)"
      ]
     },
     "execution_count": 100,
     "metadata": {},
     "output_type": "execute_result"
    }
   ],
   "source": [
    "used_df_both[used_df_both['param_type'] == 'Count of Participants']['units'].unique()"
   ]
  },
  {
   "cell_type": "code",
   "execution_count": 99,
   "metadata": {},
   "outputs": [
    {
     "data": {
      "text/plain": [
       "array(['participants', 'Participants', 'participants in follow up study',\n",
       "       'percent', 'Patients', 'Number', 'Subjects', 'Participant',\n",
       "       'participant', 'hips', 'infants', 'percentage of participants',\n",
       "       'subjects', 'partipants', 'participants with data available',\n",
       "       'Paricipants', 'eyes', 'male/female', 'Percentage of participants',\n",
       "       'blood samples', 'Count of participants', 'patients'], dtype=object)"
      ]
     },
     "execution_count": 99,
     "metadata": {},
     "output_type": "execute_result"
    }
   ],
   "source": [
    "used_df_both[used_df_both['param_type'] == 'Number']['units'].unique()"
   ]
  },
  {
   "cell_type": "code",
   "execution_count": 114,
   "metadata": {},
   "outputs": [
    {
     "data": {
      "text/plain": [
       "33222"
      ]
     },
     "execution_count": 114,
     "metadata": {},
     "output_type": "execute_result"
    }
   ],
   "source": [
    "# keep only those param_types and no \"percent\" units\n",
    "used_df_both = used_df_both[(used_df_both['param_type'].isin(['Count of Participants','Number'])) &\n",
    "                            (used_df_both['units'].apply(lambda x: False if 'percent' in x.lower() else True))]\n",
    "len(used_df_both.index.get_level_values(0).unique())"
   ]
  },
  {
   "cell_type": "markdown",
   "metadata": {},
   "source": [
    "## Joining to result groups to get the group labels:"
   ]
  },
  {
   "cell_type": "code",
   "execution_count": 115,
   "metadata": {},
   "outputs": [],
   "source": [
    "dfm = used_df_both.reset_index().merge(rg.reset_index()[['nct_id', 'ctgov_group_code', 'title']], \n",
    "                                       on=['nct_id', 'ctgov_group_code'], \n",
    "                                       how='inner', \n",
    "                                       suffixes=('', '_rg'))"
   ]
  },
  {
   "cell_type": "code",
   "execution_count": 116,
   "metadata": {},
   "outputs": [
    {
     "data": {
      "text/plain": [
       "Index(['Total', 'Placebo', 'Control', 'Control Group', 'All Participants',\n",
       "       'All Study Participants', 'Usual Care', 'Entire Study Population',\n",
       "       'Overall Study', 'Treatment', 'Placebo Group', 'Intervention',\n",
       "       'Group 1', 'Standard of Care', 'Overall', 'Arm 1', 'Vehicle', 'Group 2',\n",
       "       'Sugar Pill', 'All Subjects', 'Arm 2', 'Cohort 1', 'Cohort 2', 'Arm I',\n",
       "       'Total Title', 'Group B', 'All Patients', 'Standard Care', 'Group A',\n",
       "       'Control Arm', 'Sitagliptin', 'Pregabalin', 'Varenicline',\n",
       "       'Intervention Group', 'Normal Saline', 'Experimental', 'Duloxetine',\n",
       "       'Cohort 3', 'Treatment Arm', 'Sham', 'Etanercept', 'Saline',\n",
       "       'Metformin', 'Arm A', 'Arm B', 'Erlotinib', 'Active', 'Pioglitazone',\n",
       "       'Treatment Group', 'Rituximab'],\n",
       "      dtype='object', name='title_rg')"
      ]
     },
     "execution_count": 116,
     "metadata": {},
     "output_type": "execute_result"
    }
   ],
   "source": [
    "dfm.groupby('title_rg').size().sort_values(ascending=False)[:50].index"
   ]
  },
  {
   "cell_type": "code",
   "execution_count": 117,
   "metadata": {},
   "outputs": [],
   "source": [
    "total_strings = ['Total', \n",
    "                 'All Participants', \n",
    "                 'All Study Participants', \n",
    "                 'Entire Study Population',\n",
    "                 'Overall Study',\n",
    "                 'Overall', \n",
    "                 'Total Title']"
   ]
  },
  {
   "cell_type": "code",
   "execution_count": 122,
   "metadata": {},
   "outputs": [
    {
     "data": {
      "text/plain": [
       "32220"
      ]
     },
     "execution_count": 122,
     "metadata": {},
     "output_type": "execute_result"
    }
   ],
   "source": [
    "dfm_nontot = dfm[~dfm['title_rg'].isin(total_strings)]\n",
    "len(dfm_nontot['nct_id'].unique())"
   ]
  },
  {
   "cell_type": "markdown",
   "metadata": {},
   "source": [
    "## only keep groups that have non-zero number of participants"
   ]
  },
  {
   "cell_type": "code",
   "execution_count": 139,
   "metadata": {},
   "outputs": [
    {
     "data": {
      "text/plain": [
       "32173"
      ]
     },
     "execution_count": 139,
     "metadata": {},
     "output_type": "execute_result"
    }
   ],
   "source": [
    "df_nonzero = dfm_nontot[dfm_nontot['param_value_num'] > 0]\n",
    "len(df_nonzero['nct_id'].unique())"
   ]
  },
  {
   "cell_type": "markdown",
   "metadata": {},
   "source": [
    "## What is the distribution of total participants by study?\n",
    "- where can we set an appropriate cutoff?"
   ]
  },
  {
   "cell_type": "code",
   "execution_count": 140,
   "metadata": {},
   "outputs": [
    {
     "data": {
      "text/html": [
       "<div>\n",
       "<style scoped>\n",
       "    .dataframe tbody tr th:only-of-type {\n",
       "        vertical-align: middle;\n",
       "    }\n",
       "\n",
       "    .dataframe tbody tr th {\n",
       "        vertical-align: top;\n",
       "    }\n",
       "\n",
       "    .dataframe thead th {\n",
       "        text-align: right;\n",
       "    }\n",
       "</style>\n",
       "<table border=\"1\" class=\"dataframe\">\n",
       "  <thead>\n",
       "    <tr style=\"text-align: right;\">\n",
       "      <th></th>\n",
       "      <th>param_value_num</th>\n",
       "    </tr>\n",
       "    <tr>\n",
       "      <th>nct_id</th>\n",
       "      <th></th>\n",
       "    </tr>\n",
       "  </thead>\n",
       "  <tbody>\n",
       "    <tr>\n",
       "      <td>NCT00000125</td>\n",
       "      <td>1636.0</td>\n",
       "    </tr>\n",
       "    <tr>\n",
       "      <td>NCT00000134</td>\n",
       "      <td>279.0</td>\n",
       "    </tr>\n",
       "    <tr>\n",
       "      <td>NCT00000135</td>\n",
       "      <td>209.0</td>\n",
       "    </tr>\n",
       "    <tr>\n",
       "      <td>NCT00000136</td>\n",
       "      <td>234.0</td>\n",
       "    </tr>\n",
       "    <tr>\n",
       "      <td>NCT00000142</td>\n",
       "      <td>64.0</td>\n",
       "    </tr>\n",
       "  </tbody>\n",
       "</table>\n",
       "</div>"
      ],
      "text/plain": [
       "             param_value_num\n",
       "nct_id                      \n",
       "NCT00000125           1636.0\n",
       "NCT00000134            279.0\n",
       "NCT00000135            209.0\n",
       "NCT00000136            234.0\n",
       "NCT00000142             64.0"
      ]
     },
     "execution_count": 140,
     "metadata": {},
     "output_type": "execute_result"
    }
   ],
   "source": [
    "dftotals = df_nonzero.groupby('nct_id')[['param_value_num']].sum()\n",
    "dftotals.head()"
   ]
  },
  {
   "cell_type": "code",
   "execution_count": 141,
   "metadata": {},
   "outputs": [
    {
     "data": {
      "text/html": [
       "<div>\n",
       "<style scoped>\n",
       "    .dataframe tbody tr th:only-of-type {\n",
       "        vertical-align: middle;\n",
       "    }\n",
       "\n",
       "    .dataframe tbody tr th {\n",
       "        vertical-align: top;\n",
       "    }\n",
       "\n",
       "    .dataframe thead th {\n",
       "        text-align: right;\n",
       "    }\n",
       "</style>\n",
       "<table border=\"1\" class=\"dataframe\">\n",
       "  <thead>\n",
       "    <tr style=\"text-align: right;\">\n",
       "      <th></th>\n",
       "      <th>percentile</th>\n",
       "      <th>param_value_num</th>\n",
       "    </tr>\n",
       "  </thead>\n",
       "  <tbody>\n",
       "    <tr>\n",
       "      <td>19</td>\n",
       "      <td>15%</td>\n",
       "      <td>17.0</td>\n",
       "    </tr>\n",
       "    <tr>\n",
       "      <td>20</td>\n",
       "      <td>16%</td>\n",
       "      <td>18.0</td>\n",
       "    </tr>\n",
       "    <tr>\n",
       "      <td>21</td>\n",
       "      <td>17%</td>\n",
       "      <td>19.0</td>\n",
       "    </tr>\n",
       "    <tr>\n",
       "      <td>22</td>\n",
       "      <td>18%</td>\n",
       "      <td>20.0</td>\n",
       "    </tr>\n",
       "    <tr>\n",
       "      <td>23</td>\n",
       "      <td>19%</td>\n",
       "      <td>20.0</td>\n",
       "    </tr>\n",
       "    <tr>\n",
       "      <td>24</td>\n",
       "      <td>20%</td>\n",
       "      <td>21.0</td>\n",
       "    </tr>\n",
       "    <tr>\n",
       "      <td>25</td>\n",
       "      <td>21%</td>\n",
       "      <td>23.0</td>\n",
       "    </tr>\n",
       "    <tr>\n",
       "      <td>26</td>\n",
       "      <td>22%</td>\n",
       "      <td>24.0</td>\n",
       "    </tr>\n",
       "    <tr>\n",
       "      <td>27</td>\n",
       "      <td>23%</td>\n",
       "      <td>25.0</td>\n",
       "    </tr>\n",
       "    <tr>\n",
       "      <td>28</td>\n",
       "      <td>24%</td>\n",
       "      <td>26.0</td>\n",
       "    </tr>\n",
       "  </tbody>\n",
       "</table>\n",
       "</div>"
      ],
      "text/plain": [
       "   percentile  param_value_num\n",
       "19        15%             17.0\n",
       "20        16%             18.0\n",
       "21        17%             19.0\n",
       "22        18%             20.0\n",
       "23        19%             20.0\n",
       "24        20%             21.0\n",
       "25        21%             23.0\n",
       "26        22%             24.0\n",
       "27        23%             25.0\n",
       "28        24%             26.0"
      ]
     },
     "execution_count": 141,
     "metadata": {},
     "output_type": "execute_result"
    }
   ],
   "source": [
    "df_percentile_totals = dftotals.describe(np.arange(0,1,0.01))\n",
    "df_percentile_totals.index.name='percentile'\n",
    "df_percentile_totals.reset_index(inplace=True)\n",
    "df_percentile_totals = df_percentile_totals[df_percentile_totals['percentile'].apply(lambda x: \n",
    "                                                                                     True if '%' in x \n",
    "                                                                                     else False)]\n",
    "df_percentile_totals[15:25]"
   ]
  },
  {
   "cell_type": "markdown",
   "metadata": {},
   "source": [
    "### We picked to keep 80% of the data and exclude any studies such the total <= 20"
   ]
  },
  {
   "cell_type": "code",
   "execution_count": 142,
   "metadata": {},
   "outputs": [
    {
     "data": {
      "text/plain": [
       "(25991, 1)"
      ]
     },
     "execution_count": 142,
     "metadata": {},
     "output_type": "execute_result"
    }
   ],
   "source": [
    "df_totals_used = dftotals[dftotals['param_value_num'] > 20]\n",
    "df_totals_used.shape"
   ]
  },
  {
   "cell_type": "code",
   "execution_count": 144,
   "metadata": {},
   "outputs": [
    {
     "data": {
      "text/plain": [
       "25991"
      ]
     },
     "execution_count": 144,
     "metadata": {},
     "output_type": "execute_result"
    }
   ],
   "source": [
    "# excluding studies with < 30 total participants\n",
    "dfm_large = df_nonzero[df_nonzero['nct_id'].isin(df_totals_used.index)]\n",
    "len(dfm_large['nct_id'].unique())"
   ]
  },
  {
   "cell_type": "code",
   "execution_count": 146,
   "metadata": {},
   "outputs": [
    {
     "data": {
      "text/plain": [
       "Index(['nct_id', 'result_group_id', 'id', 'ctgov_group_code', 'classification',\n",
       "       'category', 'title', 'description', 'units', 'param_type',\n",
       "       'param_value', 'param_value_num', 'dispersion_type', 'dispersion_value',\n",
       "       'dispersion_value_num', 'dispersion_lower_limit',\n",
       "       'dispersion_upper_limit', 'explanation_of_na', 'is_male_class',\n",
       "       'is_male_cat', 'is_male', 'title_rg'],\n",
       "      dtype='object')"
      ]
     },
     "execution_count": 146,
     "metadata": {},
     "output_type": "execute_result"
    }
   ],
   "source": [
    "dfm_large.columns"
   ]
  },
  {
   "cell_type": "markdown",
   "metadata": {},
   "source": [
    "## Constricting to the set of studies with only 2 groups and 4 gender boxes"
   ]
  },
  {
   "cell_type": "code",
   "execution_count": 188,
   "metadata": {},
   "outputs": [
    {
     "data": {
      "text/plain": [
       "3262"
      ]
     },
     "execution_count": 188,
     "metadata": {},
     "output_type": "execute_result"
    }
   ],
   "source": [
    "# 2 arms\n",
    "df_nonzero_groups = dfm_large.groupby(['nct_id'])['ctgov_group_code'].nunique()\n",
    "two_grp_ids = df_nonzero_groups[df_nonzero_groups == 2].index\n",
    "dfm_large_two_arm = dfm_large[dfm_large['nct_id'].isin(two_grp_ids)]\n",
    "\n",
    "# 4 buckets\n",
    "num_arm_genders = dfm_large_two_arm_i.groupby('nct_id').size()\n",
    "keeponly4 = num_arm_genders[num_arm_genders == 4].index\n",
    "\n",
    "dfbm_final = dfm_large_two_arm[dfm_large_two_arm['nct_id'].isin(keeponly4)]\n",
    "len(dfbm_final['nct_id'].unique())"
   ]
  },
  {
   "cell_type": "markdown",
   "metadata": {},
   "source": [
    "## On the outcome measurement side, we need:\n",
    "- out_param_type = Mean\n",
    "- out_outcome_type = Primary"
   ]
  },
  {
   "cell_type": "code",
   "execution_count": 153,
   "metadata": {},
   "outputs": [],
   "source": [
    "omj = om.reset_index().add_prefix('om_')\n",
    "outj = out.reset_index().add_prefix('out_')"
   ]
  },
  {
   "cell_type": "code",
   "execution_count": 154,
   "metadata": {},
   "outputs": [],
   "source": [
    "dfj = omj.merge(outj, \n",
    "                how='inner',\n",
    "                left_on=['om_nct_id', 'om_outcome_id'],\n",
    "                right_on=['out_nct_id', 'out_id'],)"
   ]
  },
  {
   "cell_type": "code",
   "execution_count": 158,
   "metadata": {},
   "outputs": [
    {
     "data": {
      "text/plain": [
       "13041"
      ]
     },
     "execution_count": 158,
     "metadata": {},
     "output_type": "execute_result"
    }
   ],
   "source": [
    "# studies from the baseline measurement gender requirements above\n",
    "studies_w_gender_info = dfm_large_two_arm['nct_id'].unique()\n",
    "len(studies_w_gender_info)"
   ]
  },
  {
   "cell_type": "code",
   "execution_count": 160,
   "metadata": {},
   "outputs": [
    {
     "data": {
      "text/plain": [
       "38531"
      ]
     },
     "execution_count": 160,
     "metadata": {},
     "output_type": "execute_result"
    }
   ],
   "source": [
    "# studies with 1 primary outcome\n",
    "outj_primary = outj[outj['out_outcome_type'] == 'Primary']\n",
    "num_outcomes_per_study = outj_primary.groupby('out_nct_id')['out_id'].size()\n",
    "studies_w_1_outcome = num_outcomes_per_study[num_outcomes_per_study == 1].index\n",
    "len(num_outcomes_per_study)"
   ]
  },
  {
   "cell_type": "code",
   "execution_count": 161,
   "metadata": {},
   "outputs": [],
   "source": [
    "dfj_used = dfj[(dfj['om_nct_id'].isin(studies_w_gender_info)) &\n",
    "               (dfj['om_nct_id'].isin(studies_w_1_outcome))]"
   ]
  },
  {
   "cell_type": "code",
   "execution_count": 202,
   "metadata": {},
   "outputs": [
    {
     "data": {
      "text/plain": [
       "3363"
      ]
     },
     "execution_count": 202,
     "metadata": {},
     "output_type": "execute_result"
    }
   ],
   "source": [
    "dfom_prim = dfj_used[(dfj_used['out_param_type'] == 'Mean') & (dfj_used['out_outcome_type'] == 'Primary')]\n",
    "len(dfom_prim['om_nct_id'].unique())"
   ]
  },
  {
   "cell_type": "markdown",
   "metadata": {},
   "source": [
    "### Some studies report more than 1 set of outcomes in their primar results:\n",
    "- for example: NCT00000378\n",
    "- we can exclude these as well"
   ]
  },
  {
   "cell_type": "code",
   "execution_count": 203,
   "metadata": {},
   "outputs": [],
   "source": [
    "num_group_codes = dfom_prim.groupby('om_nct_id')['om_ctgov_group_code'].size()\n",
    "with_2_g_codes = num_group_codes[num_group_codes == 2].index"
   ]
  },
  {
   "cell_type": "code",
   "execution_count": 205,
   "metadata": {},
   "outputs": [
    {
     "data": {
      "text/plain": [
       "2423"
      ]
     },
     "execution_count": 205,
     "metadata": {},
     "output_type": "execute_result"
    }
   ],
   "source": [
    "dfom_final = dfom_prim[dfom_prim['om_nct_id'].isin(with_2_g_codes)]\n",
    "len(dfom_final['om_nct_id'].unique())"
   ]
  },
  {
   "cell_type": "markdown",
   "metadata": {},
   "source": [
    "## Taking the intersection of the 2 datasets"
   ]
  },
  {
   "cell_type": "code",
   "execution_count": 206,
   "metadata": {},
   "outputs": [],
   "source": [
    "dfbm_final_i = dfbm_final[dfbm_final['nct_id'].isin(dfom_final['om_nct_id'].unique())]\n",
    "dfom_final_i = dfom_final[dfom_final['om_nct_id'].isin(dfbm_final['nct_id'].unique())]"
   ]
  },
  {
   "cell_type": "code",
   "execution_count": 207,
   "metadata": {},
   "outputs": [
    {
     "data": {
      "text/plain": [
       "(13048, 22)"
      ]
     },
     "execution_count": 207,
     "metadata": {},
     "output_type": "execute_result"
    }
   ],
   "source": [
    "dfm_final_i.shape"
   ]
  },
  {
   "cell_type": "code",
   "execution_count": 208,
   "metadata": {},
   "outputs": [
    {
     "data": {
      "text/plain": [
       "Index(['nct_id', 'result_group_id', 'id', 'ctgov_group_code', 'classification',\n",
       "       'category', 'title', 'description', 'units', 'param_type',\n",
       "       'param_value', 'param_value_num', 'dispersion_type', 'dispersion_value',\n",
       "       'dispersion_value_num', 'dispersion_lower_limit',\n",
       "       'dispersion_upper_limit', 'explanation_of_na', 'is_male_class',\n",
       "       'is_male_cat', 'is_male', 'title_rg'],\n",
       "      dtype='object')"
      ]
     },
     "execution_count": 208,
     "metadata": {},
     "output_type": "execute_result"
    }
   ],
   "source": [
    "dfbm_final_i.columns"
   ]
  },
  {
   "cell_type": "code",
   "execution_count": 209,
   "metadata": {},
   "outputs": [
    {
     "data": {
      "text/plain": [
       "Index(['om_nct_id', 'om_result_group_id', 'om_outcome_id', 'om_id',\n",
       "       'om_ctgov_group_code', 'om_classification', 'om_category', 'om_title',\n",
       "       'om_description', 'om_units', 'om_param_type', 'om_param_value',\n",
       "       'om_param_value_num', 'om_dispersion_type', 'om_dispersion_value',\n",
       "       'om_dispersion_value_num', 'om_dispersion_lower_limit',\n",
       "       'om_dispersion_upper_limit', 'om_explanation_of_na', 'out_nct_id',\n",
       "       'out_id', 'out_outcome_type', 'out_title', 'out_description',\n",
       "       'out_time_frame', 'out_population', 'out_anticipated_posting_date',\n",
       "       'out_anticipated_posting_month_year', 'out_units', 'out_units_analyzed',\n",
       "       'out_dispersion_type', 'out_param_type'],\n",
       "      dtype='object')"
      ]
     },
     "execution_count": 209,
     "metadata": {},
     "output_type": "execute_result"
    }
   ],
   "source": [
    "dfom_final_i.columns"
   ]
  },
  {
   "cell_type": "code",
   "execution_count": 227,
   "metadata": {},
   "outputs": [],
   "source": [
    "dfbm_final_i.to_pickle('bm.p')\n",
    "dfom_final_i.to_pickle('om.p')"
   ]
  },
  {
   "cell_type": "markdown",
   "metadata": {},
   "source": [
    "## Computing the imbalance from the bm dataset"
   ]
  },
  {
   "cell_type": "code",
   "execution_count": 225,
   "metadata": {},
   "outputs": [
    {
     "data": {
      "application/vnd.jupyter.widget-view+json": {
       "model_id": "15da540d33dd42eba3cc61f9246fe4db",
       "version_major": 2,
       "version_minor": 0
      },
      "text/plain": [
       "HBox(children=(IntProgress(value=0, max=2347), HTML(value='')))"
      ]
     },
     "metadata": {},
     "output_type": "display_data"
    },
    {
     "name": "stdout",
     "output_type": "stream",
     "text": [
      "\n"
     ]
    }
   ],
   "source": [
    "imbal_dict = {}\n",
    "for nct_id in tqdm(dfbm_final_i['nct_id'].unique()):\n",
    "    sub_df = dfbm_final_i[dfbm_final_i['nct_id'] == nct_id]\n",
    "    df_tot = sub_df.groupby('ctgov_group_code')[['param_value_num']].sum()\n",
    "    df_male = sub_df[sub_df['is_male']][['ctgov_group_code', 'param_value_num']].set_index('ctgov_group_code')\n",
    "    dfj = df_male.join(df_tot, rsuffix='_tot')\n",
    "    dfj['pct_male'] = dfj['param_value_num'] / dfj['param_value_num_tot']\n",
    "    imbal = abs(dfj['pct_male'].values[1] - dfj['pct_male'].values[0])\n",
    "    imbal_dict[nct_id] = imbal"
   ]
  },
  {
   "cell_type": "code",
   "execution_count": 223,
   "metadata": {},
   "outputs": [
    {
     "data": {
      "text/html": [
       "<div>\n",
       "<style scoped>\n",
       "    .dataframe tbody tr th:only-of-type {\n",
       "        vertical-align: middle;\n",
       "    }\n",
       "\n",
       "    .dataframe tbody tr th {\n",
       "        vertical-align: top;\n",
       "    }\n",
       "\n",
       "    .dataframe thead th {\n",
       "        text-align: right;\n",
       "    }\n",
       "</style>\n",
       "<table border=\"1\" class=\"dataframe\">\n",
       "  <thead>\n",
       "    <tr style=\"text-align: right;\">\n",
       "      <th></th>\n",
       "      <th>imbal</th>\n",
       "    </tr>\n",
       "  </thead>\n",
       "  <tbody>\n",
       "    <tr>\n",
       "      <td>NCT00114127</td>\n",
       "      <td>0.271795</td>\n",
       "    </tr>\n",
       "    <tr>\n",
       "      <td>NCT00180479</td>\n",
       "      <td>0.044420</td>\n",
       "    </tr>\n",
       "    <tr>\n",
       "      <td>NCT00405275</td>\n",
       "      <td>0.055921</td>\n",
       "    </tr>\n",
       "    <tr>\n",
       "      <td>NCT00446654</td>\n",
       "      <td>0.066667</td>\n",
       "    </tr>\n",
       "    <tr>\n",
       "      <td>NCT00728754</td>\n",
       "      <td>0.014009</td>\n",
       "    </tr>\n",
       "  </tbody>\n",
       "</table>\n",
       "</div>"
      ],
      "text/plain": [
       "                imbal\n",
       "NCT00114127  0.271795\n",
       "NCT00180479  0.044420\n",
       "NCT00405275  0.055921\n",
       "NCT00446654  0.066667\n",
       "NCT00728754  0.014009"
      ]
     },
     "execution_count": 223,
     "metadata": {},
     "output_type": "execute_result"
    }
   ],
   "source": [
    "# this is the dataframe where we can calculate an imbalance score\n",
    "df_imbal = pd.DataFrame(imbal_dict, index=['imbal']).T\n",
    "df_imbal.head()"
   ]
  },
  {
   "cell_type": "markdown",
   "metadata": {},
   "source": [
    "## Computing the effect size from the om dataset"
   ]
  },
  {
   "cell_type": "code",
   "execution_count": 217,
   "metadata": {},
   "outputs": [
    {
     "data": {
      "text/html": [
       "<div>\n",
       "<style scoped>\n",
       "    .dataframe tbody tr th:only-of-type {\n",
       "        vertical-align: middle;\n",
       "    }\n",
       "\n",
       "    .dataframe tbody tr th {\n",
       "        vertical-align: top;\n",
       "    }\n",
       "\n",
       "    .dataframe thead th {\n",
       "        text-align: right;\n",
       "    }\n",
       "</style>\n",
       "<table border=\"1\" class=\"dataframe\">\n",
       "  <thead>\n",
       "    <tr style=\"text-align: right;\">\n",
       "      <th></th>\n",
       "      <th>om_ctgov_group_code</th>\n",
       "      <th>om_param_value_num</th>\n",
       "    </tr>\n",
       "  </thead>\n",
       "  <tbody>\n",
       "    <tr>\n",
       "      <td>22</td>\n",
       "      <td>O2</td>\n",
       "      <td>-0.41</td>\n",
       "    </tr>\n",
       "    <tr>\n",
       "      <td>23</td>\n",
       "      <td>O1</td>\n",
       "      <td>-0.46</td>\n",
       "    </tr>\n",
       "    <tr>\n",
       "      <td>42</td>\n",
       "      <td>O2</td>\n",
       "      <td>0.16</td>\n",
       "    </tr>\n",
       "    <tr>\n",
       "      <td>43</td>\n",
       "      <td>O1</td>\n",
       "      <td>0.24</td>\n",
       "    </tr>\n",
       "    <tr>\n",
       "      <td>173</td>\n",
       "      <td>O2</td>\n",
       "      <td>-20.93</td>\n",
       "    </tr>\n",
       "  </tbody>\n",
       "</table>\n",
       "</div>"
      ],
      "text/plain": [
       "    om_ctgov_group_code  om_param_value_num\n",
       "22                   O2               -0.41\n",
       "23                   O1               -0.46\n",
       "42                   O2                0.16\n",
       "43                   O1                0.24\n",
       "173                  O2              -20.93"
      ]
     },
     "execution_count": 217,
     "metadata": {},
     "output_type": "execute_result"
    }
   ],
   "source": [
    "dfom_final_i[['om_ctgov_group_code', 'om_param_value_num']].head()"
   ]
  },
  {
   "cell_type": "code",
   "execution_count": 218,
   "metadata": {},
   "outputs": [
    {
     "data": {
      "application/vnd.jupyter.widget-view+json": {
       "model_id": "9c134456a7534dd7bb0d2f13378f35ea",
       "version_major": 2,
       "version_minor": 0
      },
      "text/plain": [
       "HBox(children=(IntProgress(value=0, max=2347), HTML(value='')))"
      ]
     },
     "metadata": {},
     "output_type": "display_data"
    },
    {
     "name": "stdout",
     "output_type": "stream",
     "text": [
      "\n"
     ]
    }
   ],
   "source": [
    "effect_dict = {}\n",
    "for nct_id in tqdm(dfom_final_i['om_nct_id'].unique()):\n",
    "    sub_df = dfom_final_i[dfom_final_i['om_nct_id'] == nct_id]\n",
    "    m1 = sub_df['om_param_value_num'].values[0]\n",
    "    m2 = sub_df['om_param_value_num'].values[1]\n",
    "    \n",
    "    if m1 * m2 > 0:\n",
    "    \n",
    "        abs_sum = abs(m1) + abs(m2)\n",
    "        abs_diff = abs(m1 - m2)\n",
    "        abs_effect = abs_diff / abs_sum\n",
    "\n",
    "        effect_dict[nct_id] = abs_effect"
   ]
  },
  {
   "cell_type": "code",
   "execution_count": 224,
   "metadata": {},
   "outputs": [
    {
     "data": {
      "text/html": [
       "<div>\n",
       "<style scoped>\n",
       "    .dataframe tbody tr th:only-of-type {\n",
       "        vertical-align: middle;\n",
       "    }\n",
       "\n",
       "    .dataframe tbody tr th {\n",
       "        vertical-align: top;\n",
       "    }\n",
       "\n",
       "    .dataframe thead th {\n",
       "        text-align: right;\n",
       "    }\n",
       "</style>\n",
       "<table border=\"1\" class=\"dataframe\">\n",
       "  <thead>\n",
       "    <tr style=\"text-align: right;\">\n",
       "      <th></th>\n",
       "      <th>effect</th>\n",
       "    </tr>\n",
       "  </thead>\n",
       "  <tbody>\n",
       "    <tr>\n",
       "      <td>NCT00000371</td>\n",
       "      <td>0.057471</td>\n",
       "    </tr>\n",
       "    <tr>\n",
       "      <td>NCT00000392</td>\n",
       "      <td>0.200000</td>\n",
       "    </tr>\n",
       "    <tr>\n",
       "      <td>NCT00001596</td>\n",
       "      <td>0.058268</td>\n",
       "    </tr>\n",
       "    <tr>\n",
       "      <td>NCT00001723</td>\n",
       "      <td>0.333333</td>\n",
       "    </tr>\n",
       "    <tr>\n",
       "      <td>NCT00004500</td>\n",
       "      <td>0.114754</td>\n",
       "    </tr>\n",
       "  </tbody>\n",
       "</table>\n",
       "</div>"
      ],
      "text/plain": [
       "               effect\n",
       "NCT00000371  0.057471\n",
       "NCT00000392  0.200000\n",
       "NCT00001596  0.058268\n",
       "NCT00001723  0.333333\n",
       "NCT00004500  0.114754"
      ]
     },
     "execution_count": 224,
     "metadata": {},
     "output_type": "execute_result"
    }
   ],
   "source": [
    "# this is the dataframe where we can calculate an effect score\n",
    "df_effect = pd.DataFrame(effect_dict, index=['effect']).T\n",
    "df_effect.head()"
   ]
  },
  {
   "cell_type": "code",
   "execution_count": null,
   "metadata": {},
   "outputs": [],
   "source": []
  }
 ],
 "metadata": {
  "kernelspec": {
   "display_name": "Python 3",
   "language": "python",
   "name": "python3"
  },
  "language_info": {
   "codemirror_mode": {
    "name": "ipython",
    "version": 3
   },
   "file_extension": ".py",
   "mimetype": "text/x-python",
   "name": "python",
   "nbconvert_exporter": "python",
   "pygments_lexer": "ipython3",
   "version": "3.6.9"
  }
 },
 "nbformat": 4,
 "nbformat_minor": 2
}
