{
 "cells": [
  {
   "cell_type": "markdown",
   "metadata": {},
   "source": [
    "## Featurizing Conditions of the Studies:\n",
    "\n",
    "How to determine if 2 studies are studing the same condition?\n",
    "- condition names (lev distance)\n",
    "- condition bing results (bag of words)\n",
    "- mesh terms (jaccard distance)\n",
    "- mesh tree location (tree distance)\n",
    "- adjective descriptors (such as \"chronic\")\n",
    "- type, grade, stage, AJCC (type1, type2) etc.\n"
   ]
  },
  {
   "cell_type": "code",
   "execution_count": 48,
   "metadata": {},
   "outputs": [],
   "source": [
    "import pandas as pd\n",
    "import numpy as np\n",
    "from tqdm import tqdm_notebook\n",
    "from tqdm import tqdm\n",
    "import datetime as dt\n",
    "import pickle\n",
    "from collections import Counter\n",
    "\n",
    "import nltk\n",
    "\n",
    "import pdaactconn as pc\n",
    "from trialexplorer.mesh_terms import MeSHCatalog\n",
    "from trialexplorer import AACTStudySet\n",
    "\n",
    "import matplotlib.pyplot as plt\n",
    "%matplotlib inline"
   ]
  },
  {
   "cell_type": "code",
   "execution_count": 2,
   "metadata": {},
   "outputs": [],
   "source": [
    "tqdm.pandas()"
   ]
  },
  {
   "cell_type": "code",
   "execution_count": 3,
   "metadata": {},
   "outputs": [
    {
     "name": "stdout",
     "output_type": "stream",
     "text": [
      "255092 studies loaded!\n"
     ]
    }
   ],
   "source": [
    "# selecting all interventional studies\n",
    "conn = pc.AACTConnection(source=pc.AACTConnection.REMOTE)\n",
    "ss = AACTStudySet.AACTStudySet(conn= conn, tqdm_handler=tqdm_notebook)\n",
    "ss.add_constraint(\"study_type = 'Interventional'\")\n",
    "ss.load_studies()"
   ]
  },
  {
   "cell_type": "code",
   "execution_count": 4,
   "metadata": {},
   "outputs": [
    {
     "name": "stdout",
     "output_type": "stream",
     "text": [
      "Successfuly added these 1 dimensions: ['browse_conditions']\n",
      "Failed to add these 0 dimensions: []\n",
      "Successfuly added these 1 dimensions: ['conditions']\n",
      "Failed to add these 0 dimensions: []\n"
     ]
    },
    {
     "data": {
      "application/vnd.jupyter.widget-view+json": {
       "model_id": "c7f9e0eeb72b49bbafb57d430b3f4bcc",
       "version_major": 2,
       "version_minor": 0
      },
      "text/plain": [
       "HBox(children=(IntProgress(value=0, max=511), HTML(value='')))"
      ]
     },
     "metadata": {},
     "output_type": "display_data"
    },
    {
     "name": "stdout",
     "output_type": "stream",
     "text": [
      "Syncing the temp table temp_cur_studies in 511 chunks x 500 records each\n",
      "\n",
      "Creating index on the temp table\n",
      " - Loading dimension browse_conditions\n",
      " -- Loading raw data\n",
      " -- Sorting index\n",
      " - Loading dimension conditions\n",
      " -- Loading raw data\n",
      " -- Sorting index\n"
     ]
    }
   ],
   "source": [
    "# loading all dimensional data\n",
    "ss.add_dimensions('browse_conditions')\n",
    "ss.add_dimensions('conditions')\n",
    "ss.refresh_dim_data()"
   ]
  },
  {
   "cell_type": "markdown",
   "metadata": {},
   "source": [
    "# 1. Mesh Terms"
   ]
  },
  {
   "cell_type": "code",
   "execution_count": 5,
   "metadata": {},
   "outputs": [
    {
     "name": "stdout",
     "output_type": "stream",
     "text": [
      "Parsing MeSH xml: xml/desc2020.xml ...\n",
      "Parse Complete! (parsed ElementTree root can be found in the .root attribute)\n"
     ]
    }
   ],
   "source": [
    "# intializing MeSH object\n",
    "mc = MeSHCatalog()  "
   ]
  },
  {
   "cell_type": "code",
   "execution_count": 50,
   "metadata": {},
   "outputs": [],
   "source": [
    "bc = ss.dimensions['browse_conditions']\n",
    "c = ss.dimensions['conditions']"
   ]
  },
  {
   "cell_type": "code",
   "execution_count": 7,
   "metadata": {},
   "outputs": [
    {
     "data": {
      "text/html": [
       "<div>\n",
       "<style scoped>\n",
       "    .dataframe tbody tr th:only-of-type {\n",
       "        vertical-align: middle;\n",
       "    }\n",
       "\n",
       "    .dataframe tbody tr th {\n",
       "        vertical-align: top;\n",
       "    }\n",
       "\n",
       "    .dataframe thead th {\n",
       "        text-align: right;\n",
       "    }\n",
       "</style>\n",
       "<table border=\"1\" class=\"dataframe\">\n",
       "  <thead>\n",
       "    <tr style=\"text-align: right;\">\n",
       "      <th></th>\n",
       "      <th>id</th>\n",
       "      <th>mesh_term</th>\n",
       "      <th>downcase_mesh_term</th>\n",
       "    </tr>\n",
       "    <tr>\n",
       "      <th>nct_id</th>\n",
       "      <th></th>\n",
       "      <th></th>\n",
       "      <th></th>\n",
       "    </tr>\n",
       "  </thead>\n",
       "  <tbody>\n",
       "    <tr>\n",
       "      <td>NCT00000102</td>\n",
       "      <td>10563497</td>\n",
       "      <td>Adrenal Hyperplasia, Congenital</td>\n",
       "      <td>adrenal hyperplasia, congenital</td>\n",
       "    </tr>\n",
       "    <tr>\n",
       "      <td>NCT00000102</td>\n",
       "      <td>10563498</td>\n",
       "      <td>Adrenogenital Syndrome</td>\n",
       "      <td>adrenogenital syndrome</td>\n",
       "    </tr>\n",
       "    <tr>\n",
       "      <td>NCT00000102</td>\n",
       "      <td>10563499</td>\n",
       "      <td>Adrenocortical Hyperfunction</td>\n",
       "      <td>adrenocortical hyperfunction</td>\n",
       "    </tr>\n",
       "    <tr>\n",
       "      <td>NCT00000102</td>\n",
       "      <td>10563500</td>\n",
       "      <td>Hyperplasia</td>\n",
       "      <td>hyperplasia</td>\n",
       "    </tr>\n",
       "    <tr>\n",
       "      <td>NCT00000106</td>\n",
       "      <td>10562244</td>\n",
       "      <td>Rheumatic Diseases</td>\n",
       "      <td>rheumatic diseases</td>\n",
       "    </tr>\n",
       "  </tbody>\n",
       "</table>\n",
       "</div>"
      ],
      "text/plain": [
       "                   id                        mesh_term  \\\n",
       "nct_id                                                   \n",
       "NCT00000102  10563497  Adrenal Hyperplasia, Congenital   \n",
       "NCT00000102  10563498           Adrenogenital Syndrome   \n",
       "NCT00000102  10563499     Adrenocortical Hyperfunction   \n",
       "NCT00000102  10563500                      Hyperplasia   \n",
       "NCT00000106  10562244               Rheumatic Diseases   \n",
       "\n",
       "                          downcase_mesh_term  \n",
       "nct_id                                        \n",
       "NCT00000102  adrenal hyperplasia, congenital  \n",
       "NCT00000102           adrenogenital syndrome  \n",
       "NCT00000102     adrenocortical hyperfunction  \n",
       "NCT00000102                      hyperplasia  \n",
       "NCT00000106               rheumatic diseases  "
      ]
     },
     "execution_count": 7,
     "metadata": {},
     "output_type": "execute_result"
    }
   ],
   "source": [
    "bc.data.head()"
   ]
  },
  {
   "cell_type": "code",
   "execution_count": 8,
   "metadata": {},
   "outputs": [
    {
     "data": {
      "text/plain": [
       "3745"
      ]
     },
     "execution_count": 8,
     "metadata": {},
     "output_type": "execute_result"
    }
   ],
   "source": [
    "len(bc.data['mesh_term'].unique())"
   ]
  },
  {
   "cell_type": "code",
   "execution_count": 11,
   "metadata": {},
   "outputs": [],
   "source": [
    "s_mesh = bc.data.groupby('mesh_term').size().sort_values(ascending=False)"
   ]
  },
  {
   "cell_type": "markdown",
   "metadata": {},
   "source": [
    "### Assign an index value to each mesh_term in the vocab"
   ]
  },
  {
   "cell_type": "code",
   "execution_count": 18,
   "metadata": {},
   "outputs": [],
   "source": [
    "mesh2idx = dict(zip(s_mesh.index, range(len(s_mesh))))\n",
    "idx2mesh = dict(zip(range(len(s_mesh)), s_mesh.index))"
   ]
  },
  {
   "cell_type": "markdown",
   "metadata": {},
   "source": [
    "### Compute jaccard distance of studies on mesh"
   ]
  },
  {
   "cell_type": "code",
   "execution_count": 65,
   "metadata": {},
   "outputs": [],
   "source": [
    "def get_mesh_terms(nctid1, nctid2, data):\n",
    "    \"\"\" returns 2 lists of mesh terms \"\"\"\n",
    "    if nctid1 not in data.index:\n",
    "        s1terms = []\n",
    "    else:\n",
    "        sub_df1 = data.loc[[nctid1]]\n",
    "        s1terms = list(sub_df1['mesh_term'].unique())\n",
    "        \n",
    "    if nctid2 not in data.index:\n",
    "        s2terms = []\n",
    "    else:\n",
    "        sub_df2 = data.loc[[nctid2]]\n",
    "        s2terms = list(sub_df2['mesh_term'].unique())\n",
    "    return s1terms, s2terms"
   ]
  },
  {
   "cell_type": "code",
   "execution_count": 63,
   "metadata": {},
   "outputs": [],
   "source": [
    "def list_jaccard_dist(l1, l2):\n",
    "    full_list = []\n",
    "    for cur_term in l1:\n",
    "        full_list.append(cur_term)\n",
    "    for cur_term in l2:\n",
    "        if cur_term not in full_list:\n",
    "            full_list.append(cur_term)\n",
    "            \n",
    "    if len(full_list) == 0:\n",
    "        return -1.\n",
    "    intersect_count = 0\n",
    "    for term in full_list:\n",
    "        if term in l1 and term in l2:\n",
    "            intersect_count += 1\n",
    "    \n",
    "    return intersect_count / len(full_list)\n",
    "\n",
    "def mesh_jaccard_dist(nctid1, nctid2, data):\n",
    "    s1terms, s2terms = get_mesh_terms(nctid1, nctid2, data)\n",
    "    return list_jaccard_dist(s1terms, s2terms)"
   ]
  },
  {
   "cell_type": "code",
   "execution_count": 64,
   "metadata": {},
   "outputs": [
    {
     "data": {
      "text/plain": [
       "0.09090909090909091"
      ]
     },
     "execution_count": 64,
     "metadata": {},
     "output_type": "execute_result"
    }
   ],
   "source": [
    "mesh_jaccard_dist('NCT00000102', 'NCT03323658', bc.data)"
   ]
  },
  {
   "cell_type": "markdown",
   "metadata": {},
   "source": [
    "### To compute the jaccard distance, for 1 study vs all the others, takes approx 3.5min"
   ]
  },
  {
   "cell_type": "code",
   "execution_count": 31,
   "metadata": {},
   "outputs": [
    {
     "name": "stderr",
     "output_type": "stream",
     "text": [
      "100%|██████████| 211869/211869 [03:32<00:00, 999.23it/s] \n"
     ]
    }
   ],
   "source": [
    "jaccard_dist = {}\n",
    "for cur_nct in tqdm(list(bc.data.index.unique())):\n",
    "    jaccard_dist[cur_nct] = mesh_jaccard_dist('NCT00000102', cur_nct, bc.data)"
   ]
  },
  {
   "cell_type": "code",
   "execution_count": 38,
   "metadata": {},
   "outputs": [],
   "source": [
    "dfjac = pd.DataFrame(jaccard_dist, index=['jdist']).T"
   ]
  },
  {
   "cell_type": "code",
   "execution_count": 39,
   "metadata": {},
   "outputs": [
    {
     "data": {
      "text/html": [
       "<div>\n",
       "<style scoped>\n",
       "    .dataframe tbody tr th:only-of-type {\n",
       "        vertical-align: middle;\n",
       "    }\n",
       "\n",
       "    .dataframe tbody tr th {\n",
       "        vertical-align: top;\n",
       "    }\n",
       "\n",
       "    .dataframe thead th {\n",
       "        text-align: right;\n",
       "    }\n",
       "</style>\n",
       "<table border=\"1\" class=\"dataframe\">\n",
       "  <thead>\n",
       "    <tr style=\"text-align: right;\">\n",
       "      <th></th>\n",
       "      <th>jdist</th>\n",
       "    </tr>\n",
       "  </thead>\n",
       "  <tbody>\n",
       "    <tr>\n",
       "      <td>NCT00000102</td>\n",
       "      <td>1.000000</td>\n",
       "    </tr>\n",
       "    <tr>\n",
       "      <td>NCT00519818</td>\n",
       "      <td>1.000000</td>\n",
       "    </tr>\n",
       "    <tr>\n",
       "      <td>NCT00621985</td>\n",
       "      <td>1.000000</td>\n",
       "    </tr>\n",
       "    <tr>\n",
       "      <td>NCT00151710</td>\n",
       "      <td>1.000000</td>\n",
       "    </tr>\n",
       "    <tr>\n",
       "      <td>NCT01771328</td>\n",
       "      <td>1.000000</td>\n",
       "    </tr>\n",
       "    <tr>\n",
       "      <td>...</td>\n",
       "      <td>...</td>\n",
       "    </tr>\n",
       "    <tr>\n",
       "      <td>NCT03868475</td>\n",
       "      <td>0.090909</td>\n",
       "    </tr>\n",
       "    <tr>\n",
       "      <td>NCT03323658</td>\n",
       "      <td>0.090909</td>\n",
       "    </tr>\n",
       "    <tr>\n",
       "      <td>NCT02928978</td>\n",
       "      <td>0.083333</td>\n",
       "    </tr>\n",
       "    <tr>\n",
       "      <td>NCT02109224</td>\n",
       "      <td>0.037037</td>\n",
       "    </tr>\n",
       "    <tr>\n",
       "      <td>NCT01050465</td>\n",
       "      <td>0.033333</td>\n",
       "    </tr>\n",
       "  </tbody>\n",
       "</table>\n",
       "<p>520 rows × 1 columns</p>\n",
       "</div>"
      ],
      "text/plain": [
       "                jdist\n",
       "NCT00000102  1.000000\n",
       "NCT00519818  1.000000\n",
       "NCT00621985  1.000000\n",
       "NCT00151710  1.000000\n",
       "NCT01771328  1.000000\n",
       "...               ...\n",
       "NCT03868475  0.090909\n",
       "NCT03323658  0.090909\n",
       "NCT02928978  0.083333\n",
       "NCT02109224  0.037037\n",
       "NCT01050465  0.033333\n",
       "\n",
       "[520 rows x 1 columns]"
      ]
     },
     "execution_count": 39,
     "metadata": {},
     "output_type": "execute_result"
    }
   ],
   "source": [
    "dfjac[dfjac['jdist'] > 0].sort_values('jdist', ascending=False)"
   ]
  },
  {
   "cell_type": "markdown",
   "metadata": {},
   "source": [
    "## Computing the min, max, mean distance between the tagged mesh terms"
   ]
  },
  {
   "cell_type": "code",
   "execution_count": 45,
   "metadata": {},
   "outputs": [],
   "source": [
    "def mesh_tree_dist(nctid1, nctid2, data, mc):\n",
    "    \"\"\" compute the set of all tree distances and returns tuple of min, max, mean \"\"\"\n",
    "    s1terms, s2terms = get_mesh_terms(nctid1, nctid2, data)\n",
    "    \n",
    "    all_dist = []\n",
    "    for t1 in s1terms:\n",
    "        for t2 in s2terms:\n",
    "            cur_dist = mc.shortest_mesh_dist(t1, t2)\n",
    "            all_dist.append(cur_dist)\n",
    "    \n",
    "    return min(all_dist), max(all_dist), np.mean(all_dist)"
   ]
  },
  {
   "cell_type": "code",
   "execution_count": 46,
   "metadata": {},
   "outputs": [
    {
     "data": {
      "text/plain": [
       "(0, 9, 7.0625)"
      ]
     },
     "execution_count": 46,
     "metadata": {},
     "output_type": "execute_result"
    }
   ],
   "source": [
    "mesh_tree_dist('NCT00000102', 'NCT03323658', bc.data, mc)"
   ]
  },
  {
   "cell_type": "code",
   "execution_count": null,
   "metadata": {},
   "outputs": [],
   "source": []
  }
 ],
 "metadata": {
  "kernelspec": {
   "display_name": "Python 3",
   "language": "python",
   "name": "python3"
  },
  "language_info": {
   "codemirror_mode": {
    "name": "ipython",
    "version": 3
   },
   "file_extension": ".py",
   "mimetype": "text/x-python",
   "name": "python",
   "nbconvert_exporter": "python",
   "pygments_lexer": "ipython3",
   "version": "3.6.9"
  }
 },
 "nbformat": 4,
 "nbformat_minor": 2
}
