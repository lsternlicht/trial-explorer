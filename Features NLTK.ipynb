{
 "cells": [
  {
   "cell_type": "code",
   "execution_count": 5,
   "metadata": {},
   "outputs": [],
   "source": [
    "import pandas as pd\n",
    "import numpy as np\n",
    "\n",
    "from tqdm import tqdm_notebook\n",
    "from tqdm import tqdm\n",
    "import datetime as dt\n",
    "import pickle\n",
    "\n",
    "import pdaactconn as pc\n",
    "from trialexplorer.mesh_terms import MeSHCatalog\n",
    "from trialexplorer import AACTStudySet\n",
    "from trialexplorer import studysimilarity as ssim\n",
    "\n",
    "import matplotlib.pyplot as plt\n",
    "%matplotlib inline\n",
    "\n",
    "tqdm.pandas()"
   ]
  },
  {
   "cell_type": "code",
   "execution_count": 2,
   "metadata": {},
   "outputs": [
    {
     "name": "stdout",
     "output_type": "stream",
     "text": [
      "255092 studies loaded!\n"
     ]
    }
   ],
   "source": [
    "# selecting all interventional studies\n",
    "conn = pc.AACTConnection(source=pc.AACTConnection.REMOTE)\n",
    "ss = AACTStudySet.AACTStudySet(conn= conn, tqdm_handler=tqdm_notebook)\n",
    "ss.add_constraint(\"study_type = 'Interventional'\")\n",
    "ss.load_studies()"
   ]
  },
  {
   "cell_type": "code",
   "execution_count": 3,
   "metadata": {},
   "outputs": [
    {
     "name": "stdout",
     "output_type": "stream",
     "text": [
      "Successfuly added these 1 dimensions: ['conditions']\n",
      "Failed to add these 0 dimensions: []\n"
     ]
    },
    {
     "data": {
      "application/vnd.jupyter.widget-view+json": {
       "model_id": "10c9e83eb06c414584218820678c7022",
       "version_major": 2,
       "version_minor": 0
      },
      "text/plain": [
       "HBox(children=(IntProgress(value=0, max=511), HTML(value='')))"
      ]
     },
     "metadata": {},
     "output_type": "display_data"
    },
    {
     "name": "stdout",
     "output_type": "stream",
     "text": [
      "Syncing the temp table temp_cur_studies in 511 chunks x 500 records each\n",
      "\n",
      "Creating index on the temp table\n",
      " - Loading dimension conditions\n",
      " -- Loading raw data\n",
      " -- Sorting index\n"
     ]
    }
   ],
   "source": [
    "# loading all dimensional data\n",
    "ss.add_dimensions('conditions')\n",
    "ss.refresh_dim_data()"
   ]
  },
  {
   "cell_type": "code",
   "execution_count": 4,
   "metadata": {},
   "outputs": [
    {
     "data": {
      "text/html": [
       "<div>\n",
       "<style scoped>\n",
       "    .dataframe tbody tr th:only-of-type {\n",
       "        vertical-align: middle;\n",
       "    }\n",
       "\n",
       "    .dataframe tbody tr th {\n",
       "        vertical-align: top;\n",
       "    }\n",
       "\n",
       "    .dataframe thead th {\n",
       "        text-align: right;\n",
       "    }\n",
       "</style>\n",
       "<table border=\"1\" class=\"dataframe\">\n",
       "  <thead>\n",
       "    <tr style=\"text-align: right;\">\n",
       "      <th></th>\n",
       "      <th>id</th>\n",
       "      <th>name</th>\n",
       "      <th>downcase_name</th>\n",
       "    </tr>\n",
       "    <tr>\n",
       "      <th>nct_id</th>\n",
       "      <th></th>\n",
       "      <th></th>\n",
       "      <th></th>\n",
       "    </tr>\n",
       "  </thead>\n",
       "  <tbody>\n",
       "    <tr>\n",
       "      <td>NCT00000102</td>\n",
       "      <td>10058348</td>\n",
       "      <td>Congenital Adrenal Hyperplasia</td>\n",
       "      <td>congenital adrenal hyperplasia</td>\n",
       "    </tr>\n",
       "    <tr>\n",
       "      <td>NCT00000106</td>\n",
       "      <td>10057277</td>\n",
       "      <td>Rheumatic Diseases</td>\n",
       "      <td>rheumatic diseases</td>\n",
       "    </tr>\n",
       "    <tr>\n",
       "      <td>NCT00000108</td>\n",
       "      <td>10057274</td>\n",
       "      <td>Cardiovascular Diseases</td>\n",
       "      <td>cardiovascular diseases</td>\n",
       "    </tr>\n",
       "    <tr>\n",
       "      <td>NCT00000108</td>\n",
       "      <td>10057275</td>\n",
       "      <td>Coronary Disease</td>\n",
       "      <td>coronary disease</td>\n",
       "    </tr>\n",
       "    <tr>\n",
       "      <td>NCT00000110</td>\n",
       "      <td>10057273</td>\n",
       "      <td>Obesity</td>\n",
       "      <td>obesity</td>\n",
       "    </tr>\n",
       "  </tbody>\n",
       "</table>\n",
       "</div>"
      ],
      "text/plain": [
       "                   id                            name  \\\n",
       "nct_id                                                  \n",
       "NCT00000102  10058348  Congenital Adrenal Hyperplasia   \n",
       "NCT00000106  10057277              Rheumatic Diseases   \n",
       "NCT00000108  10057274         Cardiovascular Diseases   \n",
       "NCT00000108  10057275                Coronary Disease   \n",
       "NCT00000110  10057273                         Obesity   \n",
       "\n",
       "                              downcase_name  \n",
       "nct_id                                       \n",
       "NCT00000102  congenital adrenal hyperplasia  \n",
       "NCT00000106              rheumatic diseases  \n",
       "NCT00000108         cardiovascular diseases  \n",
       "NCT00000108                coronary disease  \n",
       "NCT00000110                         obesity  "
      ]
     },
     "execution_count": 4,
     "metadata": {},
     "output_type": "execute_result"
    }
   ],
   "source": [
    "c = ss.dimensions['conditions']\n",
    "c.data.head()"
   ]
  },
  {
   "cell_type": "code",
   "execution_count": 21,
   "metadata": {},
   "outputs": [
    {
     "name": "stderr",
     "output_type": "stream",
     "text": [
      "100%|██████████| 64114/64114 [00:20<00:00, 3107.12it/s]\n"
     ]
    }
   ],
   "source": [
    "all_conds = c.data['downcase_name'].unique()\n",
    "\n",
    "extracted_adj_vb = {}\n",
    "extracted_stages = {}\n",
    "\n",
    "for cur_cond in tqdm(all_conds):\n",
    "    extracted_adj_vb[cur_cond] = ssim.extract_adj_and_vb(cur_cond)\n",
    "    extracted_stages[cur_cond] = ssim.full_extract(cur_cond)"
   ]
  },
  {
   "cell_type": "code",
   "execution_count": 22,
   "metadata": {},
   "outputs": [
    {
     "name": "stdout",
     "output_type": "stream",
     "text": [
      "patients undergoing laparoscopic nephrectomy\n",
      "(['laparoscopic'], ['undergoing'])\n",
      "None\n",
      "\n",
      "wound; hip\n",
      "([], [])\n",
      "None\n",
      "\n",
      "bleeding complication\n",
      "([], ['bleeding'])\n",
      "None\n",
      "\n",
      "parent management training\n",
      "([], [])\n",
      "None\n",
      "\n",
      "pathologic stage iiia esophageal squamous cell carcinoma\n",
      "(['pathologic', 'iiia', 'squamous'], [])\n",
      "{'type': [], 'genotyp_': [], 'grade': [], 'stage': ['3a'], 'ajcc': [], 'hepatitis': []}\n",
      "\n",
      "ptsd post traumatic syndrome disorder\n",
      "(['traumatic'], [])\n",
      "None\n",
      "\n",
      "managed care\n",
      "([], ['managed'])\n",
      "None\n",
      "\n",
      "malignant melanoma\n",
      "(['malignant'], [])\n",
      "None\n",
      "\n",
      "stage iva thyroid gland papillary carcinoma\n",
      "(['iva', 'thyroid', 'papillary'], [])\n",
      "{'type': [], 'genotyp_': [], 'grade': [], 'stage': ['4a'], 'ajcc': [], 'hepatitis': []}\n",
      "\n",
      "cardiac rehab\n",
      "(['cardiac'], [])\n",
      "None\n",
      "\n",
      "breast cancer metastatic to the liver\n",
      "([], [])\n",
      "None\n",
      "\n",
      "mre11 gene mutation\n",
      "(['mre11'], [])\n",
      "None\n",
      "\n",
      "stage iv adult diffuse mixed cell lymphoma\n",
      "(['mixed'], [])\n",
      "{'type': [], 'genotyp_': [], 'grade': [], 'stage': ['4'], 'ajcc': [], 'hepatitis': []}\n",
      "\n",
      "ankle fracture - medial malleolus\n",
      "(['ankle', 'medial'], [])\n",
      "None\n",
      "\n",
      "adult malignant meningioma\n",
      "(['malignant'], [])\n",
      "None\n",
      "\n",
      "clinically isolated syndrome (cis)\n",
      "(['isolated'], [])\n",
      "None\n",
      "\n",
      "eye dryness\n",
      "([], [])\n",
      "None\n",
      "\n",
      "stage ii adenoid cystic carcinoma of the oral cavity\n",
      "(['ii', 'adenoid', 'cystic', 'oral'], [])\n",
      "{'type': [], 'genotyp_': [], 'grade': [], 'stage': ['2'], 'ajcc': [], 'hepatitis': []}\n",
      "\n",
      "veteran\n",
      "([], [])\n",
      "None\n",
      "\n",
      "secondary osteoarthritis of hip\n",
      "(['secondary'], [])\n",
      "None\n",
      "\n"
     ]
    }
   ],
   "source": [
    "for cur_cond in np.random.choice(all_conds, 20):\n",
    "    print(cur_cond)\n",
    "    print(extracted_adj_vb[cur_cond])\n",
    "    print(extracted_stages[cur_cond])\n",
    "    print('')"
   ]
  },
  {
   "cell_type": "code",
   "execution_count": null,
   "metadata": {},
   "outputs": [],
   "source": []
  }
 ],
 "metadata": {
  "kernelspec": {
   "display_name": "Python 3",
   "language": "python",
   "name": "python3"
  },
  "language_info": {
   "codemirror_mode": {
    "name": "ipython",
    "version": 3
   },
   "file_extension": ".py",
   "mimetype": "text/x-python",
   "name": "python",
   "nbconvert_exporter": "python",
   "pygments_lexer": "ipython3",
   "version": "3.6.9"
  }
 },
 "nbformat": 4,
 "nbformat_minor": 2
}
