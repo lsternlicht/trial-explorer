{
 "cells": [
  {
   "cell_type": "code",
   "execution_count": 1,
   "metadata": {},
   "outputs": [],
   "source": [
    "import numpy as np\n",
    "import pandas as pd\n",
    "from importlib import reload\n",
    "\n",
    "from bs4 import BeautifulSoup\n",
    "import urllib\n",
    "import requests\n",
    "\n",
    "from tqdm import tqdm_notebook\n",
    "from tqdm import tqdm\n",
    "import datetime as dt\n",
    "\n",
    "import pdaactconn as pc\n",
    "from trialexplorer import AACTStudySet\n",
    "from trialexplorer import bing\n",
    "import pickle\n",
    "from collections import Counter\n",
    "\n",
    "import matplotlib.pyplot as plt\n",
    "%matplotlib inline\n",
    "\n",
    "tqdm.pandas()"
   ]
  },
  {
   "cell_type": "markdown",
   "metadata": {},
   "source": [
    "### Example"
   ]
  },
  {
   "cell_type": "code",
   "execution_count": null,
   "metadata": {},
   "outputs": [],
   "source": [
    "feat_doc, feat_links, feat_wiki = bing.bing('non small cell lung cancer')"
   ]
  },
  {
   "cell_type": "code",
   "execution_count": null,
   "metadata": {},
   "outputs": [],
   "source": [
    "feat_doc2, feat_links2, feat_wiki2 = bing.bing(\"carcinoma, non-small-cell lung\")"
   ]
  },
  {
   "cell_type": "code",
   "execution_count": null,
   "metadata": {},
   "outputs": [],
   "source": [
    "print(\"---STRING 1 ---\\n\")\n",
    "print(feat_doc)\n",
    "\n",
    "print(\"\\n---STRING 2 ---\\n\")\n",
    "print(feat_doc2)"
   ]
  },
  {
   "cell_type": "code",
   "execution_count": null,
   "metadata": {},
   "outputs": [],
   "source": [
    "print(\"---LINK 1 ---\\n\")\n",
    "print(feat_links)\n",
    "\n",
    "print(\"\\n---LINK 2 ---\\n\")\n",
    "print(feat_links2)"
   ]
  },
  {
   "cell_type": "code",
   "execution_count": null,
   "metadata": {},
   "outputs": [],
   "source": [
    "feat_wiki, feat_wiki2"
   ]
  },
  {
   "cell_type": "markdown",
   "metadata": {},
   "source": [
    "# What are all of the terms that we have to classify?"
   ]
  },
  {
   "cell_type": "code",
   "execution_count": 2,
   "metadata": {},
   "outputs": [
    {
     "name": "stdout",
     "output_type": "stream",
     "text": [
      "255092 studies loaded!\n"
     ]
    }
   ],
   "source": [
    "# selecting all interventional studies\n",
    "conn = pc.AACTConnection(source=pc.AACTConnection.REMOTE)\n",
    "ss = AACTStudySet.AACTStudySet(conn= conn, tqdm_handler=tqdm_notebook)\n",
    "ss.add_constraint(\"study_type = 'Interventional'\")\n",
    "ss.load_studies()"
   ]
  },
  {
   "cell_type": "code",
   "execution_count": 3,
   "metadata": {},
   "outputs": [
    {
     "name": "stdout",
     "output_type": "stream",
     "text": [
      "Successfuly added these 1 dimensions: ['browse_conditions']\n",
      "Failed to add these 0 dimensions: []\n",
      "Successfuly added these 1 dimensions: ['conditions']\n",
      "Failed to add these 0 dimensions: []\n"
     ]
    },
    {
     "data": {
      "application/vnd.jupyter.widget-view+json": {
       "model_id": "56f5d7db684741ddb151108c5c67de4a",
       "version_major": 2,
       "version_minor": 0
      },
      "text/plain": [
       "HBox(children=(IntProgress(value=0, max=511), HTML(value='')))"
      ]
     },
     "metadata": {},
     "output_type": "display_data"
    },
    {
     "name": "stdout",
     "output_type": "stream",
     "text": [
      "Syncing the temp table temp_cur_studies in 511 chunks x 500 records each\n",
      "\n",
      "Creating index on the temp table\n",
      " - Loading dimension browse_conditions\n",
      " -- Loading raw data\n",
      " -- Sorting index\n",
      " - Loading dimension conditions\n",
      " -- Loading raw data\n",
      " -- Sorting index\n"
     ]
    }
   ],
   "source": [
    "# loading all dimensional data\n",
    "ss.add_dimensions('browse_conditions')\n",
    "ss.add_dimensions('conditions')\n",
    "ss.refresh_dim_data()"
   ]
  },
  {
   "cell_type": "code",
   "execution_count": 4,
   "metadata": {},
   "outputs": [],
   "source": [
    "bc = ss.dimensions['browse_conditions']\n",
    "c = ss.dimensions['conditions']"
   ]
  },
  {
   "cell_type": "code",
   "execution_count": 5,
   "metadata": {},
   "outputs": [
    {
     "data": {
      "text/plain": [
       "65144"
      ]
     },
     "execution_count": 5,
     "metadata": {},
     "output_type": "execute_result"
    }
   ],
   "source": [
    "len(c.data['name'].unique())"
   ]
  },
  {
   "cell_type": "markdown",
   "metadata": {},
   "source": [
    "## Features:\n",
    "\n",
    "How to determine if 2 studies are studing the same condition?\n",
    "- condition names (lev distance)\n",
    "- condition bing results (bag of words)\n",
    "- mesh terms (jaccard distance)\n",
    "- mesh tree location (tree distance)\n",
    "- adjective descriptors (such as \"chronic\")\n",
    "- type, grade, stage, AJCC (type1, type2) etc.\n",
    "\n",
    "    "
   ]
  },
  {
   "cell_type": "code",
   "execution_count": 6,
   "metadata": {},
   "outputs": [],
   "source": [
    "c.data.to_pickle('raw_data/all_conditions.p')"
   ]
  },
  {
   "cell_type": "markdown",
   "metadata": {},
   "source": [
    "### doing top 100:"
   ]
  },
  {
   "cell_type": "code",
   "execution_count": 7,
   "metadata": {},
   "outputs": [],
   "source": [
    "NUM_BINGS = 100"
   ]
  },
  {
   "cell_type": "code",
   "execution_count": 8,
   "metadata": {},
   "outputs": [],
   "source": [
    "cond_counts = c.data.groupby('name').size().sort_values(ascending=False)\n",
    "to_bing = list(cond_counts[:NUM_BINGS].index)"
   ]
  },
  {
   "cell_type": "code",
   "execution_count": null,
   "metadata": {},
   "outputs": [],
   "source": [
    "bing_res = {}\n",
    "for cur_term in to_bing:\n",
    "    feat_doc, feat_links, feat_wiki = bing.bing(cur_term)\n",
    "    bing_res[cur_term] = {\n",
    "        'doc': feat_doc,\n",
    "        'links': feat_links,\n",
    "        'wiki': feat_wiki\n",
    "    }\n",
    "    bing.do_wait()  # don't forget to wait !!"
   ]
  },
  {
   "cell_type": "markdown",
   "metadata": {},
   "source": [
    "### next 900"
   ]
  },
  {
   "cell_type": "code",
   "execution_count": 17,
   "metadata": {},
   "outputs": [],
   "source": [
    "to_bing = list(cond_counts[100:1000].index)"
   ]
  },
  {
   "cell_type": "code",
   "execution_count": 19,
   "metadata": {},
   "outputs": [
    {
     "name": "stderr",
     "output_type": "stream",
     "text": [
      "100%|██████████| 900/900 [32:13<00:00,  2.15s/it]\n"
     ]
    }
   ],
   "source": [
    "for cur_term in tqdm(to_bing):\n",
    "    feat_doc, feat_links, feat_wiki = bing.bing(cur_term, do_print=False)\n",
    "    bing_res[cur_term] = {\n",
    "        'doc': feat_doc,\n",
    "        'links': feat_links,\n",
    "        'wiki': feat_wiki\n",
    "    }\n",
    "    bing.do_wait(multiple=0.5)  # don't forget to wait !!"
   ]
  },
  {
   "cell_type": "code",
   "execution_count": 21,
   "metadata": {},
   "outputs": [],
   "source": [
    "pickle.dump(bing_res, open('raw_data/top1000.p', 'wb'))"
   ]
  },
  {
   "cell_type": "markdown",
   "metadata": {},
   "source": [
    "### Top 10000"
   ]
  },
  {
   "cell_type": "code",
   "execution_count": 22,
   "metadata": {},
   "outputs": [],
   "source": [
    "to_bing = list(cond_counts[1000:10000].index)"
   ]
  },
  {
   "cell_type": "code",
   "execution_count": 23,
   "metadata": {},
   "outputs": [
    {
     "name": "stderr",
     "output_type": "stream",
     "text": [
      "100%|██████████| 9000/9000 [5:31:04<00:00,  2.21s/it]  \n"
     ]
    }
   ],
   "source": [
    "for cur_term in tqdm(to_bing):\n",
    "    feat_doc, feat_links, feat_wiki = bing.bing(cur_term, do_print=False)\n",
    "    bing_res[cur_term] = {\n",
    "        'doc': feat_doc,\n",
    "        'links': feat_links,\n",
    "        'wiki': feat_wiki\n",
    "    }\n",
    "    bing.do_wait(multiple=0.5)  # don't forget to wait !!"
   ]
  },
  {
   "cell_type": "code",
   "execution_count": 24,
   "metadata": {},
   "outputs": [],
   "source": [
    "pickle.dump(bing_res, open('raw_data/top10000.p', 'wb'))"
   ]
  },
  {
   "cell_type": "markdown",
   "metadata": {},
   "source": [
    "### Everything else:"
   ]
  },
  {
   "cell_type": "code",
   "execution_count": 26,
   "metadata": {},
   "outputs": [],
   "source": [
    "to_bing = list(cond_counts[10000:].index)"
   ]
  },
  {
   "cell_type": "code",
   "execution_count": null,
   "metadata": {},
   "outputs": [
    {
     "name": "stderr",
     "output_type": "stream",
     "text": [
      " 18%|█▊        | 9946/55144 [6:17:30<26:20:16,  2.10s/it]"
     ]
    }
   ],
   "source": [
    "for cur_term in tqdm(to_bing):\n",
    "    feat_doc, feat_links, feat_wiki = bing.bing(cur_term, do_print=False)\n",
    "    bing_res[cur_term] = {\n",
    "        'doc': feat_doc,\n",
    "        'links': feat_links,\n",
    "        'wiki': feat_wiki\n",
    "    }\n",
    "    bing.do_wait(multiple=0.5)  # don't forget to wait !!"
   ]
  },
  {
   "cell_type": "code",
   "execution_count": null,
   "metadata": {},
   "outputs": [],
   "source": [
    "pickle.dump(bing_res, open('raw_data/all_bing.p', 'wb'))"
   ]
  },
  {
   "cell_type": "code",
   "execution_count": null,
   "metadata": {},
   "outputs": [],
   "source": []
  }
 ],
 "metadata": {
  "kernelspec": {
   "display_name": "Python 3",
   "language": "python",
   "name": "python3"
  },
  "language_info": {
   "codemirror_mode": {
    "name": "ipython",
    "version": 3
   },
   "file_extension": ".py",
   "mimetype": "text/x-python",
   "name": "python",
   "nbconvert_exporter": "python",
   "pygments_lexer": "ipython3",
   "version": "3.6.9"
  }
 },
 "nbformat": 4,
 "nbformat_minor": 2
}
