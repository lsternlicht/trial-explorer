{
 "cells": [
  {
   "cell_type": "code",
   "execution_count": 1,
   "metadata": {},
   "outputs": [],
   "source": [
    "import sys\n",
    "if \"../\" not in sys.path:\n",
    "    sys.path.append(\"../\")"
   ]
  },
  {
   "cell_type": "code",
   "execution_count": 2,
   "metadata": {},
   "outputs": [],
   "source": [
    "import pandas as pd\n",
    "import numpy as np\n",
    "from tqdm import tqdm_notebook\n",
    "from tqdm import tqdm\n",
    "tqdm.pandas()\n",
    "\n",
    "import pdaactconn as pc\n",
    "from trialexplorer.mesh_terms import MeSHCatalog\n",
    "from trialexplorer import AACTStudySet\n",
    "\n",
    "import matplotlib.pyplot as plt\n",
    "%matplotlib inline"
   ]
  },
  {
   "cell_type": "markdown",
   "metadata": {},
   "source": [
    "### Initialization\n",
    "\n",
    "The mesh catalog from nih is saved in the ./xml folder. When initialized for the first time, if the xml is not found locally, the util will download it from the internet save it locally."
   ]
  },
  {
   "cell_type": "code",
   "execution_count": 3,
   "metadata": {},
   "outputs": [
    {
     "name": "stdout",
     "output_type": "stream",
     "text": [
      "Parsing MeSH xml: xml/desc2020.xml ...\n",
      "Parse Complete! (parsed ElementTree root can be found in the .root attribute)\n"
     ]
    }
   ],
   "source": [
    "# intializing MeSH object\n",
    "mc = MeSHCatalog()  "
   ]
  },
  {
   "cell_type": "markdown",
   "metadata": {},
   "source": [
    "### Using the main tool, load some MeSH terms to demostrate the MeSH Utility"
   ]
  },
  {
   "cell_type": "code",
   "execution_count": 5,
   "metadata": {},
   "outputs": [
    {
     "name": "stdout",
     "output_type": "stream",
     "text": [
      "266207 studies loaded!\n",
      "Successfuly added these 1 dimensions: ['browse_conditions']\n",
      "Failed to add these 0 dimensions: []\n",
      "Successfuly added these 1 dimensions: ['sponsors']\n",
      "Failed to add these 0 dimensions: []\n"
     ]
    },
    {
     "data": {
      "application/vnd.jupyter.widget-view+json": {
       "model_id": "ad1e8f9fc61e4c55ae71d9bb19bea05d",
       "version_major": 2,
       "version_minor": 0
      },
      "text/plain": [
       "HBox(children=(IntProgress(value=0, max=533), HTML(value='')))"
      ]
     },
     "metadata": {},
     "output_type": "display_data"
    },
    {
     "name": "stdout",
     "output_type": "stream",
     "text": [
      "Syncing the temp table temp_cur_studies in 533 chunks x 500 records each\n",
      "\n",
      "Creating index on the temp table\n",
      " - Loading dimension browse_conditions\n",
      " -- Loading raw data\n",
      " -- Sorting index\n",
      " - Loading dimension sponsors\n",
      " -- Loading raw data\n",
      " -- Sorting index\n"
     ]
    }
   ],
   "source": [
    "# selecting all interventional studies\n",
    "conn = pc.AACTConnection(source=pc.AACTConnection.REMOTE)\n",
    "ss = AACTStudySet.AACTStudySet(conn= conn, tqdm_handler=tqdm_notebook)\n",
    "ss.add_constraint(\"study_type = 'Interventional'\")\n",
    "ss.load_studies()\n",
    "\n",
    "# loading all dimensional data\n",
    "ss.add_dimensions('browse_conditions')\n",
    "ss.add_dimensions('sponsors')\n",
    "ss.refresh_dim_data()"
   ]
  },
  {
   "cell_type": "markdown",
   "metadata": {},
   "source": [
    "### The dimension browse_conditions stores MeSH terms about diseases/conditions that are associated with each study:\n",
    "\n",
    "The mesh_term field contains mesh terms at any level"
   ]
  },
  {
   "cell_type": "code",
   "execution_count": 6,
   "metadata": {},
   "outputs": [
    {
     "data": {
      "text/html": [
       "<div>\n",
       "<style scoped>\n",
       "    .dataframe tbody tr th:only-of-type {\n",
       "        vertical-align: middle;\n",
       "    }\n",
       "\n",
       "    .dataframe tbody tr th {\n",
       "        vertical-align: top;\n",
       "    }\n",
       "\n",
       "    .dataframe thead th {\n",
       "        text-align: right;\n",
       "    }\n",
       "</style>\n",
       "<table border=\"1\" class=\"dataframe\">\n",
       "  <thead>\n",
       "    <tr style=\"text-align: right;\">\n",
       "      <th></th>\n",
       "      <th>id</th>\n",
       "      <th>mesh_term</th>\n",
       "      <th>downcase_mesh_term</th>\n",
       "    </tr>\n",
       "    <tr>\n",
       "      <th>nct_id</th>\n",
       "      <th></th>\n",
       "      <th></th>\n",
       "      <th></th>\n",
       "    </tr>\n",
       "  </thead>\n",
       "  <tbody>\n",
       "    <tr>\n",
       "      <td>NCT00000102</td>\n",
       "      <td>5750378</td>\n",
       "      <td>Adrenal Hyperplasia, Congenital</td>\n",
       "      <td>adrenal hyperplasia, congenital</td>\n",
       "    </tr>\n",
       "    <tr>\n",
       "      <td>NCT00000102</td>\n",
       "      <td>5750379</td>\n",
       "      <td>Adrenogenital Syndrome</td>\n",
       "      <td>adrenogenital syndrome</td>\n",
       "    </tr>\n",
       "    <tr>\n",
       "      <td>NCT00000102</td>\n",
       "      <td>5750380</td>\n",
       "      <td>Adrenocortical Hyperfunction</td>\n",
       "      <td>adrenocortical hyperfunction</td>\n",
       "    </tr>\n",
       "    <tr>\n",
       "      <td>NCT00000102</td>\n",
       "      <td>5750381</td>\n",
       "      <td>Hyperplasia</td>\n",
       "      <td>hyperplasia</td>\n",
       "    </tr>\n",
       "    <tr>\n",
       "      <td>NCT00000106</td>\n",
       "      <td>5749144</td>\n",
       "      <td>Rheumatic Diseases</td>\n",
       "      <td>rheumatic diseases</td>\n",
       "    </tr>\n",
       "  </tbody>\n",
       "</table>\n",
       "</div>"
      ],
      "text/plain": [
       "                  id                        mesh_term  \\\n",
       "nct_id                                                  \n",
       "NCT00000102  5750378  Adrenal Hyperplasia, Congenital   \n",
       "NCT00000102  5750379           Adrenogenital Syndrome   \n",
       "NCT00000102  5750380     Adrenocortical Hyperfunction   \n",
       "NCT00000102  5750381                      Hyperplasia   \n",
       "NCT00000106  5749144               Rheumatic Diseases   \n",
       "\n",
       "                          downcase_mesh_term  \n",
       "nct_id                                        \n",
       "NCT00000102  adrenal hyperplasia, congenital  \n",
       "NCT00000102           adrenogenital syndrome  \n",
       "NCT00000102     adrenocortical hyperfunction  \n",
       "NCT00000102                      hyperplasia  \n",
       "NCT00000106               rheumatic diseases  "
      ]
     },
     "execution_count": 6,
     "metadata": {},
     "output_type": "execute_result"
    }
   ],
   "source": [
    "bc = ss.dimensions['browse_conditions']\n",
    "bc.data.head()"
   ]
  },
  {
   "cell_type": "markdown",
   "metadata": {},
   "source": [
    "Let's use the first mesh term as an example:"
   ]
  },
  {
   "cell_type": "code",
   "execution_count": 11,
   "metadata": {},
   "outputs": [],
   "source": [
    "cur_mesh = 'Adrenal Hyperplasia, Congenital'"
   ]
  },
  {
   "cell_type": "markdown",
   "metadata": {},
   "source": [
    "For any single MeSH, we can look at which levels it appears in the tree structure"
   ]
  },
  {
   "cell_type": "code",
   "execution_count": 12,
   "metadata": {},
   "outputs": [
    {
     "data": {
      "text/plain": [
       "[3, 5, 6]"
      ]
     },
     "execution_count": 12,
     "metadata": {},
     "output_type": "execute_result"
    }
   ],
   "source": [
    "mc.get_levels(cur_mesh)"
   ]
  },
  {
   "cell_type": "markdown",
   "metadata": {},
   "source": [
    "MeSH is organized by a index structure as specified by NIH, with each . delimiting a node transition.\n",
    "\n",
    "This method returns all off the indices that lead to the follow mesh term.\n",
    "\n",
    "Note that often each mesh term appears multiple times on the tree"
   ]
  },
  {
   "cell_type": "code",
   "execution_count": 14,
   "metadata": {},
   "outputs": [
    {
     "data": {
      "text/plain": [
       "['C12.706.316.090.500',\n",
       " 'C13.351.875.253.090.500',\n",
       " 'C16.131.939.316.129.500',\n",
       " 'C16.320.033',\n",
       " 'C16.320.565.925.249',\n",
       " 'C18.452.648.925.249',\n",
       " 'C19.053.440',\n",
       " 'C19.391.119.090.500']"
      ]
     },
     "execution_count": 14,
     "metadata": {},
     "output_type": "execute_result"
    }
   ],
   "source": [
    "mc.get_trees(cur_mesh)"
   ]
  },
  {
   "cell_type": "markdown",
   "metadata": {},
   "source": [
    "With trees, the level of a node is defined as the number of steps it takes to reach the node from the root of the tree. \n",
    "\n",
    "For any particular MeSH term, we can look at what is above it in the tree:"
   ]
  },
  {
   "cell_type": "code",
   "execution_count": 21,
   "metadata": {
    "scrolled": true
   },
   "outputs": [
    {
     "data": {
      "text/plain": [
       "['Congenital, Hereditary, and Neonatal Diseases and Abnormalities',\n",
       " 'Endocrine System Diseases',\n",
       " 'Female Urogenital Diseases and Pregnancy Complications',\n",
       " 'Male Urogenital Diseases',\n",
       " 'Nutritional and Metabolic Diseases']"
      ]
     },
     "execution_count": 21,
     "metadata": {},
     "output_type": "execute_result"
    }
   ],
   "source": [
    "mc.lookup_higher_level(cur_mesh, 1)"
   ]
  },
  {
   "cell_type": "code",
   "execution_count": 23,
   "metadata": {},
   "outputs": [
    {
     "data": {
      "text/plain": [
       "['Adrenal Gland Diseases',\n",
       " 'Congenital Abnormalities',\n",
       " 'Female Urogenital Diseases',\n",
       " 'Genetic Diseases, Inborn',\n",
       " 'Gonadal Disorders',\n",
       " 'Metabolic Diseases',\n",
       " 'Urogenital Abnormalities']"
      ]
     },
     "execution_count": 23,
     "metadata": {},
     "output_type": "execute_result"
    }
   ],
   "source": [
    "mc.lookup_higher_level(cur_mesh, 2)"
   ]
  },
  {
   "cell_type": "code",
   "execution_count": 24,
   "metadata": {},
   "outputs": [
    {
     "data": {
      "text/plain": [
       "['Adrenal Hyperplasia, Congenital',\n",
       " 'Disorders of Sex Development',\n",
       " 'Metabolism, Inborn Errors',\n",
       " 'Urogenital Abnormalities']"
      ]
     },
     "execution_count": 24,
     "metadata": {},
     "output_type": "execute_result"
    }
   ],
   "source": [
    "mc.lookup_higher_level(cur_mesh, 3)"
   ]
  },
  {
   "cell_type": "markdown",
   "metadata": {},
   "source": [
    "For any 2 MeSH terms, we can measure their closest distance on the tree structure"
   ]
  },
  {
   "cell_type": "code",
   "execution_count": 28,
   "metadata": {},
   "outputs": [
    {
     "data": {
      "text/plain": [
       "6"
      ]
     },
     "execution_count": 28,
     "metadata": {},
     "output_type": "execute_result"
    }
   ],
   "source": [
    "m1 = 'Adrenal Hyperplasia, Congenital'\n",
    "m2 = 'Hyperplasia'\n",
    "mc.shortest_mesh_dist(m1, m2)"
   ]
  },
  {
   "cell_type": "code",
   "execution_count": 29,
   "metadata": {},
   "outputs": [
    {
     "data": {
      "text/plain": [
       "1"
      ]
     },
     "execution_count": 29,
     "metadata": {},
     "output_type": "execute_result"
    }
   ],
   "source": [
    "m1 = 'Adrenal Hyperplasia, Congenital'\n",
    "m2 = 'Adrenogenital Syndrome'\n",
    "mc.shortest_mesh_dist(m1, m2)"
   ]
  }
 ],
 "metadata": {
  "kernelspec": {
   "display_name": "Python 3",
   "language": "python",
   "name": "python3"
  },
  "language_info": {
   "codemirror_mode": {
    "name": "ipython",
    "version": 3
   },
   "file_extension": ".py",
   "mimetype": "text/x-python",
   "name": "python",
   "nbconvert_exporter": "python",
   "pygments_lexer": "ipython3",
   "version": "3.6.9"
  }
 },
 "nbformat": 4,
 "nbformat_minor": 2
}
