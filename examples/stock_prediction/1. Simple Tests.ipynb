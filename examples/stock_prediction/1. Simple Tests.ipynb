{
 "cells": [
  {
   "cell_type": "code",
   "execution_count": 1,
   "metadata": {},
   "outputs": [],
   "source": [
    "import sys\n",
    "if \"../../\" not in sys.path:\n",
    "    sys.path.append(\"../../\")"
   ]
  },
  {
   "cell_type": "code",
   "execution_count": 2,
   "metadata": {},
   "outputs": [],
   "source": [
    "import pandas as pd\n",
    "import numpy as np\n",
    "from tqdm import tqdm_notebook as tqdm\n",
    "\n",
    "import pdaactconn as pc\n",
    "from trialexplorer import AACTStudySet\n",
    "\n",
    "import matplotlib.pyplot as plt\n",
    "%matplotlib inline"
   ]
  },
  {
   "cell_type": "code",
   "execution_count": 3,
   "metadata": {},
   "outputs": [
    {
     "name": "stdout",
     "output_type": "stream",
     "text": [
      "262772 studies loaded!\n"
     ]
    }
   ],
   "source": [
    "# loading all interventional studies\n",
    "conn = pc.AACTConnection(source=pc.AACTConnection.REMOTE)\n",
    "ss = AACTStudySet.AACTStudySet(conn=conn, \n",
    "                               tqdm_handler=tqdm)\n",
    "ss.add_constraint(\"study_type = 'Interventional'\")\n",
    "ss.load_studies()"
   ]
  },
  {
   "cell_type": "code",
   "execution_count": 4,
   "metadata": {},
   "outputs": [
    {
     "name": "stdout",
     "output_type": "stream",
     "text": [
      "Successfuly added these 2 dimensions: ['sponsors', 'result_groups']\n",
      "Failed to add these 0 dimensions: []\n"
     ]
    },
    {
     "data": {
      "application/vnd.jupyter.widget-view+json": {
       "model_id": "c10f9a696b1f4ae6a641b727f0a14fd8",
       "version_major": 2,
       "version_minor": 0
      },
      "text/plain": [
       "HBox(children=(IntProgress(value=0, max=526), HTML(value='')))"
      ]
     },
     "metadata": {},
     "output_type": "display_data"
    },
    {
     "name": "stdout",
     "output_type": "stream",
     "text": [
      "Syncing the temp table temp_cur_studies in 526 chunks x 500 records each\n",
      "\n",
      "Creating index on the temp table\n",
      " - Loading dimension sponsors\n",
      " -- Loading raw data\n",
      " -- Sorting index\n",
      " - Loading dimension result_groups\n",
      " -- Loading raw data\n",
      " -- Sorting index\n"
     ]
    }
   ],
   "source": [
    "# adding and loading dimensional data\n",
    "ss.add_dimensions(['sponsors',\n",
    "                   'result_groups'])\n",
    "ss.refresh_dim_data()"
   ]
  },
  {
   "cell_type": "code",
   "execution_count": 5,
   "metadata": {},
   "outputs": [],
   "source": [
    "rg = ss.dimensions['result_groups'].data\n",
    "sp = ss.dimensions['sponsors'].data"
   ]
  },
  {
   "cell_type": "markdown",
   "metadata": {},
   "source": [
    "## refreshing so that sponsors only include result-containing studies"
   ]
  },
  {
   "cell_type": "code",
   "execution_count": 6,
   "metadata": {},
   "outputs": [
    {
     "data": {
      "application/vnd.jupyter.widget-view+json": {
       "model_id": "4877b9a76e104cc4aa1c395901b7e55c",
       "version_major": 2,
       "version_minor": 0
      },
      "text/plain": [
       "HBox(children=(IntProgress(value=0, max=80), HTML(value='')))"
      ]
     },
     "metadata": {},
     "output_type": "display_data"
    },
    {
     "name": "stdout",
     "output_type": "stream",
     "text": [
      "Syncing the temp table temp_cur_studies in 80 chunks x 500 records each\n",
      "\n",
      "Creating index on the temp table\n",
      " - Loading dimension sponsors\n",
      " -- Loading raw data\n",
      " -- Sorting index\n",
      " - Loading dimension result_groups\n",
      " -- Loading raw data\n",
      " -- Sorting index\n"
     ]
    }
   ],
   "source": [
    "res_idx = rg.index.get_level_values(0).unique()\n",
    "ss.studies = ss.studies.loc[res_idx]\n",
    "ss.refresh_dim_data()\n",
    "\n",
    "rg = ss.dimensions['result_groups'].data\n",
    "sp = ss.dimensions['sponsors'].data"
   ]
  },
  {
   "cell_type": "markdown",
   "metadata": {},
   "source": [
    "### The types of results have too much variety to be able to process all at the same time, as a result, I think we should just look at specific diseases that have common measurements such as Cancer to start."
   ]
  },
  {
   "cell_type": "code",
   "execution_count": null,
   "metadata": {},
   "outputs": [],
   "source": []
  },
  {
   "cell_type": "code",
   "execution_count": null,
   "metadata": {},
   "outputs": [],
   "source": []
  },
  {
   "cell_type": "code",
   "execution_count": null,
   "metadata": {},
   "outputs": [],
   "source": []
  },
  {
   "cell_type": "markdown",
   "metadata": {},
   "source": [
    "## Loading the stock return data"
   ]
  },
  {
   "cell_type": "code",
   "execution_count": 13,
   "metadata": {},
   "outputs": [],
   "source": [
    "df_tr = pd.read_pickle(\"stock_data.p\")"
   ]
  },
  {
   "cell_type": "markdown",
   "metadata": {},
   "source": [
    "# Test 1:\n",
    "\n",
    "@Desc: test whether stocks that publish non-significant tests underperform others in a n-day period after publishing the study"
   ]
  },
  {
   "cell_type": "code",
   "execution_count": 15,
   "metadata": {},
   "outputs": [
    {
     "data": {
      "text/html": [
       "<div>\n",
       "<style scoped>\n",
       "    .dataframe tbody tr th:only-of-type {\n",
       "        vertical-align: middle;\n",
       "    }\n",
       "\n",
       "    .dataframe tbody tr th {\n",
       "        vertical-align: top;\n",
       "    }\n",
       "\n",
       "    .dataframe thead th {\n",
       "        text-align: right;\n",
       "    }\n",
       "</style>\n",
       "<table border=\"1\" class=\"dataframe\">\n",
       "  <thead>\n",
       "    <tr style=\"text-align: right;\">\n",
       "      <th></th>\n",
       "      <th>id</th>\n",
       "      <th>ctgov_group_code</th>\n",
       "      <th>result_type</th>\n",
       "      <th>title</th>\n",
       "      <th>description</th>\n",
       "    </tr>\n",
       "    <tr>\n",
       "      <th>nct_id</th>\n",
       "      <th></th>\n",
       "      <th></th>\n",
       "      <th></th>\n",
       "      <th></th>\n",
       "      <th></th>\n",
       "    </tr>\n",
       "  </thead>\n",
       "  <tbody>\n",
       "    <tr>\n",
       "      <td>NCT00000125</td>\n",
       "      <td>6437753</td>\n",
       "      <td>B3</td>\n",
       "      <td>Baseline</td>\n",
       "      <td>Total</td>\n",
       "      <td>Total of all reporting groups</td>\n",
       "    </tr>\n",
       "    <tr>\n",
       "      <td>NCT00000125</td>\n",
       "      <td>6437754</td>\n",
       "      <td>B2</td>\n",
       "      <td>Baseline</td>\n",
       "      <td>Treatment</td>\n",
       "      <td>Topical Antiglaucoma Agents: Topical Antiglauc...</td>\n",
       "    </tr>\n",
       "    <tr>\n",
       "      <td>NCT00000125</td>\n",
       "      <td>6437755</td>\n",
       "      <td>B1</td>\n",
       "      <td>Baseline</td>\n",
       "      <td>Observation</td>\n",
       "      <td>Observation only</td>\n",
       "    </tr>\n",
       "    <tr>\n",
       "      <td>NCT00000125</td>\n",
       "      <td>6437756</td>\n",
       "      <td>P2</td>\n",
       "      <td>Participant Flow</td>\n",
       "      <td>Treatment</td>\n",
       "      <td>Topical ocular hypotensive eye drops.</td>\n",
       "    </tr>\n",
       "    <tr>\n",
       "      <td>NCT00000125</td>\n",
       "      <td>6437757</td>\n",
       "      <td>P1</td>\n",
       "      <td>Participant Flow</td>\n",
       "      <td>Observation</td>\n",
       "      <td>Close Observation</td>\n",
       "    </tr>\n",
       "    <tr>\n",
       "      <td>...</td>\n",
       "      <td>...</td>\n",
       "      <td>...</td>\n",
       "      <td>...</td>\n",
       "      <td>...</td>\n",
       "      <td>...</td>\n",
       "    </tr>\n",
       "    <tr>\n",
       "      <td>NCT04272775</td>\n",
       "      <td>6851607</td>\n",
       "      <td>O1</td>\n",
       "      <td>Outcome</td>\n",
       "      <td>Cohort 1: Ixazomib 4.0 mg</td>\n",
       "      <td>Ixazomib 4.0 mg, capsules, orally, once, on Da...</td>\n",
       "    </tr>\n",
       "    <tr>\n",
       "      <td>NCT04272775</td>\n",
       "      <td>6851608</td>\n",
       "      <td>O2</td>\n",
       "      <td>Outcome</td>\n",
       "      <td>Cohort 2: Ixazomib 4.0 mg + Lenalidomide and D...</td>\n",
       "      <td>Ixazomib 4.0 mg, capsules, orally, once, on Da...</td>\n",
       "    </tr>\n",
       "    <tr>\n",
       "      <td>NCT04272775</td>\n",
       "      <td>6851609</td>\n",
       "      <td>O1</td>\n",
       "      <td>Outcome</td>\n",
       "      <td>Cohort 1: Ixazomib 4.0 mg</td>\n",
       "      <td>Ixazomib 4.0 mg, capsules, orally, once, on Da...</td>\n",
       "    </tr>\n",
       "    <tr>\n",
       "      <td>NCT04272775</td>\n",
       "      <td>6851610</td>\n",
       "      <td>E2</td>\n",
       "      <td>Reported Event</td>\n",
       "      <td>Cohort 2: Ixazomib 4.0 mg + Lenalidomide and D...</td>\n",
       "      <td>Ixazomib 4.0 mg, capsules, orally, once, on Da...</td>\n",
       "    </tr>\n",
       "    <tr>\n",
       "      <td>NCT04272775</td>\n",
       "      <td>6851611</td>\n",
       "      <td>E1</td>\n",
       "      <td>Reported Event</td>\n",
       "      <td>Cohort 1: Ixazomib 4.0 mg</td>\n",
       "      <td>Ixazomib 4.0 mg, capsules, orally, once, on Da...</td>\n",
       "    </tr>\n",
       "  </tbody>\n",
       "</table>\n",
       "<p>1030908 rows × 5 columns</p>\n",
       "</div>"
      ],
      "text/plain": [
       "                  id ctgov_group_code       result_type  \\\n",
       "nct_id                                                    \n",
       "NCT00000125  6437753               B3          Baseline   \n",
       "NCT00000125  6437754               B2          Baseline   \n",
       "NCT00000125  6437755               B1          Baseline   \n",
       "NCT00000125  6437756               P2  Participant Flow   \n",
       "NCT00000125  6437757               P1  Participant Flow   \n",
       "...              ...              ...               ...   \n",
       "NCT04272775  6851607               O1           Outcome   \n",
       "NCT04272775  6851608               O2           Outcome   \n",
       "NCT04272775  6851609               O1           Outcome   \n",
       "NCT04272775  6851610               E2    Reported Event   \n",
       "NCT04272775  6851611               E1    Reported Event   \n",
       "\n",
       "                                                         title  \\\n",
       "nct_id                                                           \n",
       "NCT00000125                                              Total   \n",
       "NCT00000125                                          Treatment   \n",
       "NCT00000125                                        Observation   \n",
       "NCT00000125                                          Treatment   \n",
       "NCT00000125                                        Observation   \n",
       "...                                                        ...   \n",
       "NCT04272775                          Cohort 1: Ixazomib 4.0 mg   \n",
       "NCT04272775  Cohort 2: Ixazomib 4.0 mg + Lenalidomide and D...   \n",
       "NCT04272775                          Cohort 1: Ixazomib 4.0 mg   \n",
       "NCT04272775  Cohort 2: Ixazomib 4.0 mg + Lenalidomide and D...   \n",
       "NCT04272775                          Cohort 1: Ixazomib 4.0 mg   \n",
       "\n",
       "                                                   description  \n",
       "nct_id                                                          \n",
       "NCT00000125                      Total of all reporting groups  \n",
       "NCT00000125  Topical Antiglaucoma Agents: Topical Antiglauc...  \n",
       "NCT00000125                                   Observation only  \n",
       "NCT00000125              Topical ocular hypotensive eye drops.  \n",
       "NCT00000125                                  Close Observation  \n",
       "...                                                        ...  \n",
       "NCT04272775  Ixazomib 4.0 mg, capsules, orally, once, on Da...  \n",
       "NCT04272775  Ixazomib 4.0 mg, capsules, orally, once, on Da...  \n",
       "NCT04272775  Ixazomib 4.0 mg, capsules, orally, once, on Da...  \n",
       "NCT04272775  Ixazomib 4.0 mg, capsules, orally, once, on Da...  \n",
       "NCT04272775  Ixazomib 4.0 mg, capsules, orally, once, on Da...  \n",
       "\n",
       "[1030908 rows x 5 columns]"
      ]
     },
     "execution_count": 15,
     "metadata": {},
     "output_type": "execute_result"
    }
   ],
   "source": [
    "rg"
   ]
  },
  {
   "cell_type": "code",
   "execution_count": null,
   "metadata": {},
   "outputs": [],
   "source": []
  }
 ],
 "metadata": {
  "kernelspec": {
   "display_name": "Python 3",
   "language": "python",
   "name": "python3"
  },
  "language_info": {
   "codemirror_mode": {
    "name": "ipython",
    "version": 3
   },
   "file_extension": ".py",
   "mimetype": "text/x-python",
   "name": "python",
   "nbconvert_exporter": "python",
   "pygments_lexer": "ipython3",
   "version": "3.6.9"
  }
 },
 "nbformat": 4,
 "nbformat_minor": 2
}
