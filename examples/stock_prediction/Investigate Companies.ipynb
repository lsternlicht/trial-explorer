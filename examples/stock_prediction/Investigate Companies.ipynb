{
 "cells": [
  {
   "cell_type": "code",
   "execution_count": 1,
   "metadata": {},
   "outputs": [],
   "source": [
    "import sys\n",
    "if \"../../\" not in sys.path:\n",
    "    sys.path.append(\"../../\")"
   ]
  },
  {
   "cell_type": "code",
   "execution_count": 2,
   "metadata": {},
   "outputs": [],
   "source": [
    "import pandas as pd\n",
    "import numpy as np\n",
    "import scipy.stats as stats\n",
    "import string\n",
    "from importlib import reload\n",
    "from collections import Counter\n",
    "from tqdm import tqdm_notebook as tqdm\n",
    "from tqdm import tqdm as tqdm_apply\n",
    "tqdm_apply.pandas()\n",
    "\n",
    "from fuzzywuzzy import fuzz\n",
    "from fuzzywuzzy import process\n",
    "import time\n",
    "\n",
    "import pdaactconn as pc\n",
    "from trialexplorer import AACTStudySet\n",
    "\n",
    "import matplotlib.pyplot as plt\n",
    "%matplotlib inline"
   ]
  },
  {
   "cell_type": "code",
   "execution_count": 3,
   "metadata": {},
   "outputs": [],
   "source": [
    "import nltk\n",
    "from nltk.corpus import stopwords\n",
    "stop_words_nltk = set(stopwords.words('english'))"
   ]
  },
  {
   "cell_type": "code",
   "execution_count": 4,
   "metadata": {},
   "outputs": [
    {
     "name": "stdout",
     "output_type": "stream",
     "text": [
      "262271 studies loaded!\n"
     ]
    }
   ],
   "source": [
    "# loading all interventional studies\n",
    "conn = pc.AACTConnection(source=pc.AACTConnection.REMOTE)\n",
    "ss = AACTStudySet.AACTStudySet(conn=conn, \n",
    "                               tqdm_handler=tqdm)\n",
    "ss.add_constraint(\"study_type = 'Interventional'\")\n",
    "ss.load_studies()"
   ]
  },
  {
   "cell_type": "code",
   "execution_count": 5,
   "metadata": {},
   "outputs": [
    {
     "name": "stdout",
     "output_type": "stream",
     "text": [
      "Successfuly added these 2 dimensions: ['sponsors', 'result_groups']\n",
      "Failed to add these 0 dimensions: []\n"
     ]
    },
    {
     "data": {
      "application/vnd.jupyter.widget-view+json": {
       "model_id": "8f2322ca3a984813b122eadbb2065968",
       "version_major": 2,
       "version_minor": 0
      },
      "text/plain": [
       "HBox(children=(IntProgress(value=0, max=525), HTML(value='')))"
      ]
     },
     "metadata": {},
     "output_type": "display_data"
    },
    {
     "name": "stdout",
     "output_type": "stream",
     "text": [
      "Syncing the temp table temp_cur_studies in 525 chunks x 500 records each\n",
      "\n",
      "Creating index on the temp table\n",
      " - Loading dimension sponsors\n",
      " -- Loading raw data\n",
      " -- Sorting index\n",
      " - Loading dimension result_groups\n",
      " -- Loading raw data\n",
      " -- Sorting index\n"
     ]
    }
   ],
   "source": [
    "# adding and loading dimensional data\n",
    "ss.add_dimensions(['sponsors',\n",
    "                   'result_groups'])\n",
    "ss.refresh_dim_data()"
   ]
  },
  {
   "cell_type": "code",
   "execution_count": 6,
   "metadata": {},
   "outputs": [],
   "source": [
    "rg = ss.dimensions['result_groups'].data\n",
    "sp = ss.dimensions['sponsors'].data"
   ]
  },
  {
   "cell_type": "markdown",
   "metadata": {},
   "source": [
    "### Filtering for those studies with results"
   ]
  },
  {
   "cell_type": "code",
   "execution_count": 7,
   "metadata": {},
   "outputs": [],
   "source": [
    "res_idx = rg.index.get_level_values(0).unique()"
   ]
  },
  {
   "cell_type": "code",
   "execution_count": 8,
   "metadata": {},
   "outputs": [],
   "source": [
    "ss.studies = ss.studies.loc[res_idx]"
   ]
  },
  {
   "cell_type": "code",
   "execution_count": 9,
   "metadata": {},
   "outputs": [
    {
     "data": {
      "application/vnd.jupyter.widget-view+json": {
       "model_id": "fff49102249d4a42aae54687db04a500",
       "version_major": 2,
       "version_minor": 0
      },
      "text/plain": [
       "HBox(children=(IntProgress(value=0, max=79), HTML(value='')))"
      ]
     },
     "metadata": {},
     "output_type": "display_data"
    },
    {
     "name": "stdout",
     "output_type": "stream",
     "text": [
      "Syncing the temp table temp_cur_studies in 79 chunks x 500 records each\n",
      "\n",
      "Creating index on the temp table\n",
      " - Loading dimension sponsors\n",
      " -- Loading raw data\n",
      " -- Sorting index\n",
      " - Loading dimension result_groups\n",
      " -- Loading raw data\n",
      " -- Sorting index\n"
     ]
    }
   ],
   "source": [
    "# refreshing so that sponsors only include result-containing studies\n",
    "ss.refresh_dim_data()"
   ]
  },
  {
   "cell_type": "code",
   "execution_count": 10,
   "metadata": {},
   "outputs": [],
   "source": [
    "sp = ss.dimensions['sponsors'].data"
   ]
  },
  {
   "cell_type": "code",
   "execution_count": 11,
   "metadata": {},
   "outputs": [
    {
     "data": {
      "text/plain": [
       "2477"
      ]
     },
     "execution_count": 11,
     "metadata": {},
     "output_type": "execute_result"
    }
   ],
   "source": [
    "all_ind = sp[sp['agency_class'] == 'Industry'].copy()\n",
    "uniq_names = list(all_ind['name'].unique())\n",
    "len(uniq_names)"
   ]
  },
  {
   "cell_type": "code",
   "execution_count": 12,
   "metadata": {},
   "outputs": [],
   "source": [
    "all_ind['name'] = all_ind['name'].apply(lambda x: x.lower())"
   ]
  },
  {
   "cell_type": "code",
   "execution_count": 13,
   "metadata": {},
   "outputs": [],
   "source": [
    "pharma_counts = all_ind.groupby('name').size().sort_values(ascending=False)"
   ]
  },
  {
   "cell_type": "code",
   "execution_count": 14,
   "metadata": {},
   "outputs": [
    {
     "data": {
      "text/html": [
       "<div>\n",
       "<style scoped>\n",
       "    .dataframe tbody tr th:only-of-type {\n",
       "        vertical-align: middle;\n",
       "    }\n",
       "\n",
       "    .dataframe tbody tr th {\n",
       "        vertical-align: top;\n",
       "    }\n",
       "\n",
       "    .dataframe thead th {\n",
       "        text-align: right;\n",
       "    }\n",
       "</style>\n",
       "<table border=\"1\" class=\"dataframe\">\n",
       "  <thead>\n",
       "    <tr style=\"text-align: right;\">\n",
       "      <th></th>\n",
       "      <th>name</th>\n",
       "      <th>count</th>\n",
       "    </tr>\n",
       "  </thead>\n",
       "  <tbody>\n",
       "    <tr>\n",
       "      <td>0</td>\n",
       "      <td>glaxosmithkline</td>\n",
       "      <td>1704</td>\n",
       "    </tr>\n",
       "    <tr>\n",
       "      <td>1</td>\n",
       "      <td>merck sharp &amp; dohme corp.</td>\n",
       "      <td>1357</td>\n",
       "    </tr>\n",
       "    <tr>\n",
       "      <td>2</td>\n",
       "      <td>pfizer</td>\n",
       "      <td>1239</td>\n",
       "    </tr>\n",
       "    <tr>\n",
       "      <td>3</td>\n",
       "      <td>eli lilly and company</td>\n",
       "      <td>1026</td>\n",
       "    </tr>\n",
       "    <tr>\n",
       "      <td>4</td>\n",
       "      <td>novartis pharmaceuticals</td>\n",
       "      <td>884</td>\n",
       "    </tr>\n",
       "    <tr>\n",
       "      <td>...</td>\n",
       "      <td>...</td>\n",
       "      <td>...</td>\n",
       "    </tr>\n",
       "    <tr>\n",
       "      <td>2472</td>\n",
       "      <td>provectus pharmaceuticals</td>\n",
       "      <td>1</td>\n",
       "    </tr>\n",
       "    <tr>\n",
       "      <td>2473</td>\n",
       "      <td>entrinsic health solutions, inc.</td>\n",
       "      <td>1</td>\n",
       "    </tr>\n",
       "    <tr>\n",
       "      <td>2474</td>\n",
       "      <td>envisia therapeutics</td>\n",
       "      <td>1</td>\n",
       "    </tr>\n",
       "    <tr>\n",
       "      <td>2475</td>\n",
       "      <td>envoy medical corporation</td>\n",
       "      <td>1</td>\n",
       "    </tr>\n",
       "    <tr>\n",
       "      <td>2476</td>\n",
       "      <td>retrophin, inc.</td>\n",
       "      <td>1</td>\n",
       "    </tr>\n",
       "  </tbody>\n",
       "</table>\n",
       "<p>2477 rows × 2 columns</p>\n",
       "</div>"
      ],
      "text/plain": [
       "                                  name  count\n",
       "0                      glaxosmithkline   1704\n",
       "1            merck sharp & dohme corp.   1357\n",
       "2                               pfizer   1239\n",
       "3                eli lilly and company   1026\n",
       "4             novartis pharmaceuticals    884\n",
       "...                                ...    ...\n",
       "2472         provectus pharmaceuticals      1\n",
       "2473  entrinsic health solutions, inc.      1\n",
       "2474              envisia therapeutics      1\n",
       "2475         envoy medical corporation      1\n",
       "2476                   retrophin, inc.      1\n",
       "\n",
       "[2477 rows x 2 columns]"
      ]
     },
     "execution_count": 14,
     "metadata": {},
     "output_type": "execute_result"
    }
   ],
   "source": [
    "df_ct = pd.DataFrame(pharma_counts, columns=['count']).reset_index()\n",
    "df_ct"
   ]
  },
  {
   "cell_type": "markdown",
   "metadata": {},
   "source": [
    "Looking at the companies that researched the top 50% of studies, we can see that they are located in:\n",
    "- mostly US\n",
    "- Some Swiss (Roche, Novartis)\n",
    "- Some German (Bayer)\n",
    "- Some French (Sanofi)"
   ]
  },
  {
   "cell_type": "markdown",
   "metadata": {},
   "source": [
    "We'll start with the US ones for now:"
   ]
  },
  {
   "cell_type": "markdown",
   "metadata": {},
   "source": [
    "## From ETF holdings\n",
    "\n",
    "If we have more stocks to add, add them here"
   ]
  },
  {
   "cell_type": "code",
   "execution_count": 99,
   "metadata": {},
   "outputs": [],
   "source": [
    "df_iwm = pd.read_csv('IWM_holdings.csv', skiprows=9)\n",
    "df_iwb = pd.read_csv('IWB_holdings.csv', skiprows=9)\n",
    "df_exsa = pd.read_csv('EXSA_holdings.csv', skiprows=2)\n",
    "df_ewj = pd.read_csv('EWJ_holdings.csv', skiprows=9)\n",
    "df_ewa = pd.read_csv('EWA_holdings.csv', skiprows=9)\n",
    "\n",
    "\n",
    "dfj_iwm = df_iwm[df_iwm['Asset Class'] == 'Equity'][['Name', 'Ticker']]\n",
    "dfj_iwm['source'] = 'Russell'\n",
    "\n",
    "dfj_iwb = df_iwb[df_iwb['Asset Class'] == 'Equity'][['Name', 'Ticker']]\n",
    "dfj_iwb['source'] = 'Russell'\n",
    "\n",
    "df_exsa = df_exsa[df_exsa['Asset Class'] == 'Equity'][['Name', \n",
    "                                                       'Issuer Ticker']].rename(columns={'Issuer Ticker': 'Ticker'})\n",
    "df_exsa['source'] = 'Stoxx'\n",
    "\n",
    "df_ewj = df_ewj[df_ewj['Asset Class'] == 'Equity'][['Name', 'Ticker']]\n",
    "df_ewj['source'] = 'Japan'\n",
    "\n",
    "df_ewa = df_ewa[df_ewa['Asset Class'] == 'Equity'][['Name', 'Ticker']]\n",
    "df_ewa['source'] = 'Australia'\n"
   ]
  },
  {
   "cell_type": "code",
   "execution_count": 100,
   "metadata": {},
   "outputs": [],
   "source": [
    "df_stk = pd.concat([dfj_iwm, dfj_iwb, df_exsa, df_ewj, df_ewa], sort=False).reset_index(drop=True)\n",
    "df_stk['Name'] = df_stk['Name'].apply(lambda x: x.lower())"
   ]
  },
  {
   "cell_type": "code",
   "execution_count": 108,
   "metadata": {},
   "outputs": [
    {
     "data": {
      "text/html": [
       "<div>\n",
       "<style scoped>\n",
       "    .dataframe tbody tr th:only-of-type {\n",
       "        vertical-align: middle;\n",
       "    }\n",
       "\n",
       "    .dataframe tbody tr th {\n",
       "        vertical-align: top;\n",
       "    }\n",
       "\n",
       "    .dataframe thead th {\n",
       "        text-align: right;\n",
       "    }\n",
       "</style>\n",
       "<table border=\"1\" class=\"dataframe\">\n",
       "  <thead>\n",
       "    <tr style=\"text-align: right;\">\n",
       "      <th></th>\n",
       "      <th>Name</th>\n",
       "      <th>Ticker</th>\n",
       "      <th>source</th>\n",
       "    </tr>\n",
       "  </thead>\n",
       "  <tbody>\n",
       "    <tr>\n",
       "      <td>3964</td>\n",
       "      <td>cimic group ltd</td>\n",
       "      <td>CIM</td>\n",
       "      <td>Australia</td>\n",
       "    </tr>\n",
       "    <tr>\n",
       "      <td>3965</td>\n",
       "      <td>wisetechglobal pty ltd</td>\n",
       "      <td>WTC</td>\n",
       "      <td>Australia</td>\n",
       "    </tr>\n",
       "    <tr>\n",
       "      <td>3966</td>\n",
       "      <td>harvey norman holdings ltd</td>\n",
       "      <td>HVN</td>\n",
       "      <td>Australia</td>\n",
       "    </tr>\n",
       "    <tr>\n",
       "      <td>3967</td>\n",
       "      <td>flight centre travel group ltd</td>\n",
       "      <td>FLT</td>\n",
       "      <td>Australia</td>\n",
       "    </tr>\n",
       "    <tr>\n",
       "      <td>3968</td>\n",
       "      <td>bgp holdings plc - unlisted prvt</td>\n",
       "      <td>3357358Z</td>\n",
       "      <td>Australia</td>\n",
       "    </tr>\n",
       "  </tbody>\n",
       "</table>\n",
       "</div>"
      ],
      "text/plain": [
       "                                  Name    Ticker     source\n",
       "3964                   cimic group ltd       CIM  Australia\n",
       "3965            wisetechglobal pty ltd       WTC  Australia\n",
       "3966        harvey norman holdings ltd       HVN  Australia\n",
       "3967    flight centre travel group ltd       FLT  Australia\n",
       "3968  bgp holdings plc - unlisted prvt  3357358Z  Australia"
      ]
     },
     "execution_count": 108,
     "metadata": {},
     "output_type": "execute_result"
    }
   ],
   "source": [
    "df_stk.tail()"
   ]
  },
  {
   "cell_type": "code",
   "execution_count": 109,
   "metadata": {},
   "outputs": [
    {
     "data": {
      "text/plain": [
       "(3969, 3)"
      ]
     },
     "execution_count": 109,
     "metadata": {},
     "output_type": "execute_result"
    }
   ],
   "source": [
    "df_stk.shape"
   ]
  },
  {
   "cell_type": "markdown",
   "metadata": {},
   "source": [
    "## what are the stop words in this corpus?"
   ]
  },
  {
   "cell_type": "code",
   "execution_count": 110,
   "metadata": {},
   "outputs": [],
   "source": [
    "def tokenize_and_count(list_names):\n",
    "    c = Counter()\n",
    "    for cur_name in list_names:\n",
    "        tokens = cur_name.split()\n",
    "        for t in tokens:\n",
    "            c[t] += 1\n",
    "    return c"
   ]
  },
  {
   "cell_type": "code",
   "execution_count": 111,
   "metadata": {},
   "outputs": [],
   "source": [
    "c_stk = tokenize_and_count(df_stk['Name'])\n",
    "c_ct = tokenize_and_count(df_ct['name'])"
   ]
  },
  {
   "cell_type": "code",
   "execution_count": 112,
   "metadata": {
    "scrolled": true
   },
   "outputs": [
    {
     "data": {
      "text/plain": [
       "['inc',\n",
       " 'corp',\n",
       " 'class',\n",
       " 'ltd',\n",
       " 'group',\n",
       " 'a',\n",
       " 'holdings',\n",
       " 'plc',\n",
       " 'reit',\n",
       " 'sa',\n",
       " 'financial',\n",
       " 'ag',\n",
       " 'bancorp',\n",
       " 'international',\n",
       " 'therapeutics',\n",
       " 'energy',\n",
       " 'pharmaceuticals',\n",
       " 'technologies',\n",
       " 'b',\n",
       " 'trust',\n",
       " 'industries',\n",
       " 'and',\n",
       " 'bank',\n",
       " 'holding',\n",
       " 'nv',\n",
       " 'services',\n",
       " 'realty',\n",
       " 'systems',\n",
       " 'first',\n",
       " 'national']"
      ]
     },
     "execution_count": 112,
     "metadata": {},
     "output_type": "execute_result"
    }
   ],
   "source": [
    "# looking through, these all look like valid stop words\n",
    "stop_words_stocks = [x[0] for x in c_stk.most_common(30)]\n",
    "stop_words_stocks"
   ]
  },
  {
   "cell_type": "code",
   "execution_count": 113,
   "metadata": {
    "scrolled": true
   },
   "outputs": [
    {
     "data": {
      "text/plain": [
       "['inc.',\n",
       " 'pharmaceuticals',\n",
       " 'ltd.',\n",
       " 'llc',\n",
       " 'medical',\n",
       " 'corporation',\n",
       " 'pharmaceuticals,',\n",
       " 'pharma',\n",
       " 'inc',\n",
       " 'therapeutics',\n",
       " 'ltd',\n",
       " 'co.,',\n",
       " 'therapeutics,',\n",
       " 'pharmaceutical',\n",
       " 'research',\n",
       " 'gmbh',\n",
       " 'limited',\n",
       " '&',\n",
       " 'medical,',\n",
       " 'company',\n",
       " 'international',\n",
       " 'technologies',\n",
       " 'ag',\n",
       " 'of',\n",
       " 'health',\n",
       " 'group',\n",
       " 'a',\n",
       " 's.a.']"
      ]
     },
     "execution_count": 113,
     "metadata": {},
     "output_type": "execute_result"
    }
   ],
   "source": [
    "# looking through, 'merck' should not be a stop word\n",
    "stop_words_ct = [x[0] for x in c_ct.most_common(30)]\n",
    "stop_words_ct = [x for x in stop_words_ct if x != 'merck' and x != 'johnson']\n",
    "stop_words_ct"
   ]
  },
  {
   "cell_type": "markdown",
   "metadata": {},
   "source": [
    "### let's join all of the stopwords"
   ]
  },
  {
   "cell_type": "code",
   "execution_count": 114,
   "metadata": {},
   "outputs": [
    {
     "data": {
      "text/plain": [
       "225"
      ]
     },
     "execution_count": 114,
     "metadata": {},
     "output_type": "execute_result"
    }
   ],
   "source": [
    "all_stopwords = list(stop_words_nltk)\n",
    "for w in stop_words_stocks:\n",
    "    if w not in all_stopwords:\n",
    "        all_stopwords.append(w)\n",
    "        \n",
    "for w in stop_words_ct:\n",
    "    if w not in all_stopwords:\n",
    "        all_stopwords.append(w)\n",
    "\n",
    "len(all_stopwords)"
   ]
  },
  {
   "cell_type": "markdown",
   "metadata": {},
   "source": [
    "## Removing stopwords from each corpus"
   ]
  },
  {
   "cell_type": "code",
   "execution_count": 115,
   "metadata": {},
   "outputs": [],
   "source": [
    "def remove_stopwords(list_names, stop_words):\n",
    "    rt_list = []\n",
    "    orig_map = {}\n",
    "        \n",
    "    no_punct = str.maketrans('', '', string.punctuation)\n",
    "    \n",
    "    for cur_name in list_names:\n",
    "        cur_name_no_punct = cur_name.translate(no_punct)\n",
    "        cur_tokens = cur_name_no_punct.split()\n",
    "        nostop_tokens = [x for x in cur_tokens if x not in stop_words]\n",
    "        if len(nostop_tokens) > 0:\n",
    "            no_stop = \" \".join(nostop_tokens)\n",
    "            rt_list.append(no_stop)\n",
    "            orig_map[no_stop] = cur_name\n",
    "        else:\n",
    "            rt_list.append(\"\")\n",
    "    return rt_list"
   ]
  },
  {
   "cell_type": "code",
   "execution_count": 116,
   "metadata": {
    "scrolled": true
   },
   "outputs": [
    {
     "data": {
      "text/html": [
       "<div>\n",
       "<style scoped>\n",
       "    .dataframe tbody tr th:only-of-type {\n",
       "        vertical-align: middle;\n",
       "    }\n",
       "\n",
       "    .dataframe tbody tr th {\n",
       "        vertical-align: top;\n",
       "    }\n",
       "\n",
       "    .dataframe thead th {\n",
       "        text-align: right;\n",
       "    }\n",
       "</style>\n",
       "<table border=\"1\" class=\"dataframe\">\n",
       "  <thead>\n",
       "    <tr style=\"text-align: right;\">\n",
       "      <th></th>\n",
       "      <th>name</th>\n",
       "      <th>count</th>\n",
       "      <th>to_match</th>\n",
       "      <th>matched</th>\n",
       "    </tr>\n",
       "  </thead>\n",
       "  <tbody>\n",
       "    <tr>\n",
       "      <td>0</td>\n",
       "      <td>glaxosmithkline</td>\n",
       "      <td>1704</td>\n",
       "      <td>glaxosmithkline</td>\n",
       "      <td>glaxosmithkline</td>\n",
       "    </tr>\n",
       "    <tr>\n",
       "      <td>1</td>\n",
       "      <td>merck sharp &amp; dohme corp.</td>\n",
       "      <td>1357</td>\n",
       "      <td>merck sharp dohme</td>\n",
       "      <td>None</td>\n",
       "    </tr>\n",
       "    <tr>\n",
       "      <td>2</td>\n",
       "      <td>pfizer</td>\n",
       "      <td>1239</td>\n",
       "      <td>pfizer</td>\n",
       "      <td>pfizer</td>\n",
       "    </tr>\n",
       "    <tr>\n",
       "      <td>3</td>\n",
       "      <td>eli lilly and company</td>\n",
       "      <td>1026</td>\n",
       "      <td>eli lilly</td>\n",
       "      <td>eli lilly</td>\n",
       "    </tr>\n",
       "    <tr>\n",
       "      <td>4</td>\n",
       "      <td>novartis pharmaceuticals</td>\n",
       "      <td>884</td>\n",
       "      <td>novartis</td>\n",
       "      <td>novartis</td>\n",
       "    </tr>\n",
       "    <tr>\n",
       "      <td>5</td>\n",
       "      <td>astrazeneca</td>\n",
       "      <td>794</td>\n",
       "      <td>astrazeneca</td>\n",
       "      <td>astrazeneca</td>\n",
       "    </tr>\n",
       "    <tr>\n",
       "      <td>6</td>\n",
       "      <td>hoffmann-la roche</td>\n",
       "      <td>621</td>\n",
       "      <td>hoffmannla roche</td>\n",
       "      <td>None</td>\n",
       "    </tr>\n",
       "    <tr>\n",
       "      <td>7</td>\n",
       "      <td>boehringer ingelheim</td>\n",
       "      <td>584</td>\n",
       "      <td>boehringer ingelheim</td>\n",
       "      <td>None</td>\n",
       "    </tr>\n",
       "    <tr>\n",
       "      <td>8</td>\n",
       "      <td>genentech, inc.</td>\n",
       "      <td>501</td>\n",
       "      <td>genentech</td>\n",
       "      <td>None</td>\n",
       "    </tr>\n",
       "    <tr>\n",
       "      <td>9</td>\n",
       "      <td>bristol-myers squibb</td>\n",
       "      <td>475</td>\n",
       "      <td>bristolmyers squibb</td>\n",
       "      <td>bristol myers squibb</td>\n",
       "    </tr>\n",
       "  </tbody>\n",
       "</table>\n",
       "</div>"
      ],
      "text/plain": [
       "                        name  count              to_match  \\\n",
       "0            glaxosmithkline   1704       glaxosmithkline   \n",
       "1  merck sharp & dohme corp.   1357     merck sharp dohme   \n",
       "2                     pfizer   1239                pfizer   \n",
       "3      eli lilly and company   1026             eli lilly   \n",
       "4   novartis pharmaceuticals    884              novartis   \n",
       "5                astrazeneca    794           astrazeneca   \n",
       "6          hoffmann-la roche    621      hoffmannla roche   \n",
       "7       boehringer ingelheim    584  boehringer ingelheim   \n",
       "8            genentech, inc.    501             genentech   \n",
       "9       bristol-myers squibb    475   bristolmyers squibb   \n",
       "\n",
       "                matched  \n",
       "0       glaxosmithkline  \n",
       "1                  None  \n",
       "2                pfizer  \n",
       "3             eli lilly  \n",
       "4              novartis  \n",
       "5           astrazeneca  \n",
       "6                  None  \n",
       "7                  None  \n",
       "8                  None  \n",
       "9  bristol myers squibb  "
      ]
     },
     "execution_count": 116,
     "metadata": {},
     "output_type": "execute_result"
    }
   ],
   "source": [
    "df_ct['to_match'] = remove_stopwords(df_ct['name'], all_stopwords)\n",
    "df_ct.head(10)"
   ]
  },
  {
   "cell_type": "code",
   "execution_count": 117,
   "metadata": {},
   "outputs": [
    {
     "data": {
      "text/html": [
       "<div>\n",
       "<style scoped>\n",
       "    .dataframe tbody tr th:only-of-type {\n",
       "        vertical-align: middle;\n",
       "    }\n",
       "\n",
       "    .dataframe tbody tr th {\n",
       "        vertical-align: top;\n",
       "    }\n",
       "\n",
       "    .dataframe thead th {\n",
       "        text-align: right;\n",
       "    }\n",
       "</style>\n",
       "<table border=\"1\" class=\"dataframe\">\n",
       "  <thead>\n",
       "    <tr style=\"text-align: right;\">\n",
       "      <th></th>\n",
       "      <th>Name</th>\n",
       "      <th>Ticker</th>\n",
       "      <th>source</th>\n",
       "      <th>to_match</th>\n",
       "    </tr>\n",
       "  </thead>\n",
       "  <tbody>\n",
       "    <tr>\n",
       "      <td>0</td>\n",
       "      <td>teladoc health inc</td>\n",
       "      <td>TDOC</td>\n",
       "      <td>Russell</td>\n",
       "      <td>teladoc</td>\n",
       "    </tr>\n",
       "    <tr>\n",
       "      <td>1</td>\n",
       "      <td>generac holdings inc</td>\n",
       "      <td>GNRC</td>\n",
       "      <td>Russell</td>\n",
       "      <td>generac</td>\n",
       "    </tr>\n",
       "    <tr>\n",
       "      <td>2</td>\n",
       "      <td>lumentum holdings inc</td>\n",
       "      <td>LITE</td>\n",
       "      <td>Russell</td>\n",
       "      <td>lumentum</td>\n",
       "    </tr>\n",
       "    <tr>\n",
       "      <td>3</td>\n",
       "      <td>trex inc</td>\n",
       "      <td>TREX</td>\n",
       "      <td>Russell</td>\n",
       "      <td>trex</td>\n",
       "    </tr>\n",
       "    <tr>\n",
       "      <td>4</td>\n",
       "      <td>novocure ltd</td>\n",
       "      <td>NVCR</td>\n",
       "      <td>Russell</td>\n",
       "      <td>novocure</td>\n",
       "    </tr>\n",
       "    <tr>\n",
       "      <td>5</td>\n",
       "      <td>rexford industrial realty reit inc</td>\n",
       "      <td>REXR</td>\n",
       "      <td>Russell</td>\n",
       "      <td>rexford industrial</td>\n",
       "    </tr>\n",
       "    <tr>\n",
       "      <td>6</td>\n",
       "      <td>haemonetics corp</td>\n",
       "      <td>HAE</td>\n",
       "      <td>Russell</td>\n",
       "      <td>haemonetics</td>\n",
       "    </tr>\n",
       "    <tr>\n",
       "      <td>7</td>\n",
       "      <td>portland general electric</td>\n",
       "      <td>POR</td>\n",
       "      <td>Russell</td>\n",
       "      <td>portland general electric</td>\n",
       "    </tr>\n",
       "    <tr>\n",
       "      <td>8</td>\n",
       "      <td>amedisys inc</td>\n",
       "      <td>AMED</td>\n",
       "      <td>Russell</td>\n",
       "      <td>amedisys</td>\n",
       "    </tr>\n",
       "    <tr>\n",
       "      <td>9</td>\n",
       "      <td>enphase energy inc</td>\n",
       "      <td>ENPH</td>\n",
       "      <td>Russell</td>\n",
       "      <td>enphase</td>\n",
       "    </tr>\n",
       "  </tbody>\n",
       "</table>\n",
       "</div>"
      ],
      "text/plain": [
       "                                 Name Ticker   source  \\\n",
       "0                  teladoc health inc   TDOC  Russell   \n",
       "1                generac holdings inc   GNRC  Russell   \n",
       "2               lumentum holdings inc   LITE  Russell   \n",
       "3                            trex inc   TREX  Russell   \n",
       "4                        novocure ltd   NVCR  Russell   \n",
       "5  rexford industrial realty reit inc   REXR  Russell   \n",
       "6                    haemonetics corp    HAE  Russell   \n",
       "7           portland general electric    POR  Russell   \n",
       "8                        amedisys inc   AMED  Russell   \n",
       "9                  enphase energy inc   ENPH  Russell   \n",
       "\n",
       "                    to_match  \n",
       "0                    teladoc  \n",
       "1                    generac  \n",
       "2                   lumentum  \n",
       "3                       trex  \n",
       "4                   novocure  \n",
       "5         rexford industrial  \n",
       "6                haemonetics  \n",
       "7  portland general electric  \n",
       "8                   amedisys  \n",
       "9                    enphase  "
      ]
     },
     "execution_count": 117,
     "metadata": {},
     "output_type": "execute_result"
    }
   ],
   "source": [
    "df_stk['to_match'] = remove_stopwords(df_stk['Name'], all_stopwords)\n",
    "df_stk.head(10)"
   ]
  },
  {
   "cell_type": "markdown",
   "metadata": {},
   "source": [
    "## Matching the two lists"
   ]
  },
  {
   "cell_type": "code",
   "execution_count": 118,
   "metadata": {},
   "outputs": [],
   "source": [
    "def gen_extract_fn(threshold, match_to_list):\n",
    "    def extract_fn(in_str):\n",
    "        res = process.extract(in_str, match_to_list, limit=1, scorer=fuzz.ratio)\n",
    "        company_name = res[0][0]\n",
    "        match_score = res[0][1]\n",
    "        \n",
    "        if match_score >= threshold:\n",
    "            return company_name\n",
    "        else:\n",
    "            return None\n",
    "    return extract_fn"
   ]
  },
  {
   "cell_type": "code",
   "execution_count": 119,
   "metadata": {
    "scrolled": false
   },
   "outputs": [
    {
     "name": "stderr",
     "output_type": "stream",
     "text": [
      "WARNING:root:Applied processor reduces input query to empty string, all comparisons will have score 0. [Query: '']\n",
      "WARNING:root:Applied processor reduces input query to empty string, all comparisons will have score 0. [Query: '']\n"
     ]
    }
   ],
   "source": [
    "df_ct['matched'] = df_ct['to_match'].apply(gen_extract_fn(90, df_stk['to_match']))"
   ]
  },
  {
   "cell_type": "code",
   "execution_count": 159,
   "metadata": {},
   "outputs": [],
   "source": [
    "df_result = df_ct.drop('to_match', axis=1).merge(df_stk[['to_match', 'Ticker', 'source']], \n",
    "                                                 how='left',\n",
    "                                                 left_on='matched',\n",
    "                                                 right_on='to_match').drop('to_match', axis=1)"
   ]
  },
  {
   "cell_type": "code",
   "execution_count": 160,
   "metadata": {},
   "outputs": [
    {
     "data": {
      "text/plain": [
       "0.45618044887406795"
      ]
     },
     "execution_count": 160,
     "metadata": {},
     "output_type": "execute_result"
    }
   ],
   "source": [
    "pct_match = df_result.dropna()['count'].sum() / df_result['count'].sum()\n",
    "pct_match"
   ]
  },
  {
   "cell_type": "code",
   "execution_count": 161,
   "metadata": {},
   "outputs": [
    {
     "data": {
      "text/html": [
       "<div>\n",
       "<style scoped>\n",
       "    .dataframe tbody tr th:only-of-type {\n",
       "        vertical-align: middle;\n",
       "    }\n",
       "\n",
       "    .dataframe tbody tr th {\n",
       "        vertical-align: top;\n",
       "    }\n",
       "\n",
       "    .dataframe thead th {\n",
       "        text-align: right;\n",
       "    }\n",
       "</style>\n",
       "<table border=\"1\" class=\"dataframe\">\n",
       "  <thead>\n",
       "    <tr style=\"text-align: right;\">\n",
       "      <th></th>\n",
       "      <th>name</th>\n",
       "      <th>count</th>\n",
       "      <th>matched</th>\n",
       "      <th>Ticker</th>\n",
       "      <th>source</th>\n",
       "    </tr>\n",
       "  </thead>\n",
       "  <tbody>\n",
       "    <tr>\n",
       "      <td>0</td>\n",
       "      <td>glaxosmithkline</td>\n",
       "      <td>1704</td>\n",
       "      <td>glaxosmithkline</td>\n",
       "      <td>GSK</td>\n",
       "      <td>Stoxx</td>\n",
       "    </tr>\n",
       "    <tr>\n",
       "      <td>1</td>\n",
       "      <td>merck sharp &amp; dohme corp.</td>\n",
       "      <td>1357</td>\n",
       "      <td>None</td>\n",
       "      <td>NaN</td>\n",
       "      <td>NaN</td>\n",
       "    </tr>\n",
       "    <tr>\n",
       "      <td>2</td>\n",
       "      <td>pfizer</td>\n",
       "      <td>1239</td>\n",
       "      <td>pfizer</td>\n",
       "      <td>PFE</td>\n",
       "      <td>Russell</td>\n",
       "    </tr>\n",
       "    <tr>\n",
       "      <td>3</td>\n",
       "      <td>eli lilly and company</td>\n",
       "      <td>1026</td>\n",
       "      <td>eli lilly</td>\n",
       "      <td>LLY</td>\n",
       "      <td>Russell</td>\n",
       "    </tr>\n",
       "    <tr>\n",
       "      <td>4</td>\n",
       "      <td>novartis pharmaceuticals</td>\n",
       "      <td>884</td>\n",
       "      <td>novartis</td>\n",
       "      <td>NOVN</td>\n",
       "      <td>Stoxx</td>\n",
       "    </tr>\n",
       "  </tbody>\n",
       "</table>\n",
       "</div>"
      ],
      "text/plain": [
       "                        name  count          matched Ticker   source\n",
       "0            glaxosmithkline   1704  glaxosmithkline    GSK    Stoxx\n",
       "1  merck sharp & dohme corp.   1357             None    NaN      NaN\n",
       "2                     pfizer   1239           pfizer    PFE  Russell\n",
       "3      eli lilly and company   1026        eli lilly    LLY  Russell\n",
       "4   novartis pharmaceuticals    884         novartis   NOVN    Stoxx"
      ]
     },
     "execution_count": 161,
     "metadata": {},
     "output_type": "execute_result"
    }
   ],
   "source": [
    "df_result.head()"
   ]
  },
  {
   "cell_type": "markdown",
   "metadata": {},
   "source": [
    "## What is still unmatched?"
   ]
  },
  {
   "cell_type": "code",
   "execution_count": 33,
   "metadata": {},
   "outputs": [],
   "source": [
    "df_result[pd.isnull(df_result['matched'])].to_csv('unmatched.csv')"
   ]
  },
  {
   "cell_type": "markdown",
   "metadata": {},
   "source": [
    "### Let's manually match these remaining"
   ]
  },
  {
   "cell_type": "code",
   "execution_count": 124,
   "metadata": {},
   "outputs": [],
   "source": [
    "df_stk.to_csv('all_stocks.csv')"
   ]
  },
  {
   "cell_type": "markdown",
   "metadata": {},
   "source": [
    "## manually mapped:"
   ]
  },
  {
   "cell_type": "code",
   "execution_count": 162,
   "metadata": {},
   "outputs": [
    {
     "data": {
      "text/html": [
       "<div>\n",
       "<style scoped>\n",
       "    .dataframe tbody tr th:only-of-type {\n",
       "        vertical-align: middle;\n",
       "    }\n",
       "\n",
       "    .dataframe tbody tr th {\n",
       "        vertical-align: top;\n",
       "    }\n",
       "\n",
       "    .dataframe thead th {\n",
       "        text-align: right;\n",
       "    }\n",
       "</style>\n",
       "<table border=\"1\" class=\"dataframe\">\n",
       "  <thead>\n",
       "    <tr style=\"text-align: right;\">\n",
       "      <th></th>\n",
       "      <th>name</th>\n",
       "      <th>count</th>\n",
       "      <th>manual match</th>\n",
       "    </tr>\n",
       "  </thead>\n",
       "  <tbody>\n",
       "    <tr>\n",
       "      <td>0</td>\n",
       "      <td>merck sharp &amp; dohme corp.</td>\n",
       "      <td>1357</td>\n",
       "      <td>merck co</td>\n",
       "    </tr>\n",
       "    <tr>\n",
       "      <td>1</td>\n",
       "      <td>hoffmann-la roche</td>\n",
       "      <td>621</td>\n",
       "      <td>roche par</td>\n",
       "    </tr>\n",
       "    <tr>\n",
       "      <td>3</td>\n",
       "      <td>genentech, inc.</td>\n",
       "      <td>501</td>\n",
       "      <td>roche par</td>\n",
       "    </tr>\n",
       "    <tr>\n",
       "      <td>4</td>\n",
       "      <td>shire</td>\n",
       "      <td>232</td>\n",
       "      <td>takeda</td>\n",
       "    </tr>\n",
       "    <tr>\n",
       "      <td>5</td>\n",
       "      <td>forest laboratories</td>\n",
       "      <td>190</td>\n",
       "      <td>allergan</td>\n",
       "    </tr>\n",
       "  </tbody>\n",
       "</table>\n",
       "</div>"
      ],
      "text/plain": [
       "                        name  count manual match\n",
       "0  merck sharp & dohme corp.   1357     merck co\n",
       "1          hoffmann-la roche    621    roche par\n",
       "3            genentech, inc.    501    roche par\n",
       "4                      shire    232       takeda\n",
       "5        forest laboratories    190     allergan"
      ]
     },
     "execution_count": 162,
     "metadata": {},
     "output_type": "execute_result"
    }
   ],
   "source": [
    "df_manual = pd.read_csv('manual_map.csv').dropna()\n",
    "df_manual.head()"
   ]
  },
  {
   "cell_type": "code",
   "execution_count": 163,
   "metadata": {},
   "outputs": [],
   "source": [
    "dict_man = df_manual.set_index('name')['manual match'].to_dict()"
   ]
  },
  {
   "cell_type": "code",
   "execution_count": 164,
   "metadata": {},
   "outputs": [],
   "source": [
    "def combine_columns(c1, c2):\n",
    "    final_c = []\n",
    "    for i in range(len(c1)):\n",
    "        if pd.isnull(c1[i]):\n",
    "            final_c.append(c2[i])\n",
    "        else:\n",
    "            final_c.append(c1[i])\n",
    "    return final_c"
   ]
  },
  {
   "cell_type": "code",
   "execution_count": 165,
   "metadata": {},
   "outputs": [],
   "source": [
    "df_result['manual_map'] = df_result['name'].apply(lambda x: dict_man[x] if x in dict_man.keys() else None)\n",
    "\n",
    "df_stk_man = df_stk[['to_match', 'Ticker', 'source']].add_prefix('man_')\n",
    "\n",
    "df_result = df_result.merge(df_stk_man, how='left',\n",
    "                            left_on='manual_map',\n",
    "                            right_on='man_to_match')\n",
    "\n",
    "df_result['matched_f'] = combine_columns(df_result['matched'].values, df_result['manual_map'].values)\n",
    "df_result['Ticker_f'] = combine_columns(df_result['Ticker'].values, df_result['man_Ticker'].values)\n",
    "df_result['source_f'] = combine_columns(df_result['source'].values, df_result['man_source'].values)\n",
    "df_result = df_result[['name', 'count', 'matched_f', 'Ticker_f', 'source_f']]"
   ]
  },
  {
   "cell_type": "code",
   "execution_count": 166,
   "metadata": {},
   "outputs": [
    {
     "data": {
      "text/html": [
       "<div>\n",
       "<style scoped>\n",
       "    .dataframe tbody tr th:only-of-type {\n",
       "        vertical-align: middle;\n",
       "    }\n",
       "\n",
       "    .dataframe tbody tr th {\n",
       "        vertical-align: top;\n",
       "    }\n",
       "\n",
       "    .dataframe thead th {\n",
       "        text-align: right;\n",
       "    }\n",
       "</style>\n",
       "<table border=\"1\" class=\"dataframe\">\n",
       "  <thead>\n",
       "    <tr style=\"text-align: right;\">\n",
       "      <th></th>\n",
       "      <th>name</th>\n",
       "      <th>count</th>\n",
       "      <th>matched_f</th>\n",
       "      <th>Ticker_f</th>\n",
       "      <th>source_f</th>\n",
       "    </tr>\n",
       "  </thead>\n",
       "  <tbody>\n",
       "    <tr>\n",
       "      <td>0</td>\n",
       "      <td>glaxosmithkline</td>\n",
       "      <td>1704</td>\n",
       "      <td>glaxosmithkline</td>\n",
       "      <td>GSK</td>\n",
       "      <td>Stoxx</td>\n",
       "    </tr>\n",
       "    <tr>\n",
       "      <td>1</td>\n",
       "      <td>merck sharp &amp; dohme corp.</td>\n",
       "      <td>1357</td>\n",
       "      <td>merck co</td>\n",
       "      <td>MRK</td>\n",
       "      <td>Russell</td>\n",
       "    </tr>\n",
       "    <tr>\n",
       "      <td>2</td>\n",
       "      <td>pfizer</td>\n",
       "      <td>1239</td>\n",
       "      <td>pfizer</td>\n",
       "      <td>PFE</td>\n",
       "      <td>Russell</td>\n",
       "    </tr>\n",
       "    <tr>\n",
       "      <td>3</td>\n",
       "      <td>eli lilly and company</td>\n",
       "      <td>1026</td>\n",
       "      <td>eli lilly</td>\n",
       "      <td>LLY</td>\n",
       "      <td>Russell</td>\n",
       "    </tr>\n",
       "    <tr>\n",
       "      <td>4</td>\n",
       "      <td>novartis pharmaceuticals</td>\n",
       "      <td>884</td>\n",
       "      <td>novartis</td>\n",
       "      <td>NOVN</td>\n",
       "      <td>Stoxx</td>\n",
       "    </tr>\n",
       "    <tr>\n",
       "      <td>...</td>\n",
       "      <td>...</td>\n",
       "      <td>...</td>\n",
       "      <td>...</td>\n",
       "      <td>...</td>\n",
       "      <td>...</td>\n",
       "    </tr>\n",
       "    <tr>\n",
       "      <td>2503</td>\n",
       "      <td>provectus pharmaceuticals</td>\n",
       "      <td>1</td>\n",
       "      <td>None</td>\n",
       "      <td>NaN</td>\n",
       "      <td>NaN</td>\n",
       "    </tr>\n",
       "    <tr>\n",
       "      <td>2504</td>\n",
       "      <td>entrinsic health solutions, inc.</td>\n",
       "      <td>1</td>\n",
       "      <td>None</td>\n",
       "      <td>NaN</td>\n",
       "      <td>NaN</td>\n",
       "    </tr>\n",
       "    <tr>\n",
       "      <td>2505</td>\n",
       "      <td>envisia therapeutics</td>\n",
       "      <td>1</td>\n",
       "      <td>None</td>\n",
       "      <td>NaN</td>\n",
       "      <td>NaN</td>\n",
       "    </tr>\n",
       "    <tr>\n",
       "      <td>2506</td>\n",
       "      <td>envoy medical corporation</td>\n",
       "      <td>1</td>\n",
       "      <td>None</td>\n",
       "      <td>NaN</td>\n",
       "      <td>NaN</td>\n",
       "    </tr>\n",
       "    <tr>\n",
       "      <td>2507</td>\n",
       "      <td>retrophin, inc.</td>\n",
       "      <td>1</td>\n",
       "      <td>retrophin</td>\n",
       "      <td>RTRX</td>\n",
       "      <td>Russell</td>\n",
       "    </tr>\n",
       "  </tbody>\n",
       "</table>\n",
       "<p>2508 rows × 5 columns</p>\n",
       "</div>"
      ],
      "text/plain": [
       "                                  name  count        matched_f Ticker_f  \\\n",
       "0                      glaxosmithkline   1704  glaxosmithkline      GSK   \n",
       "1            merck sharp & dohme corp.   1357         merck co      MRK   \n",
       "2                               pfizer   1239           pfizer      PFE   \n",
       "3                eli lilly and company   1026        eli lilly      LLY   \n",
       "4             novartis pharmaceuticals    884         novartis     NOVN   \n",
       "...                                ...    ...              ...      ...   \n",
       "2503         provectus pharmaceuticals      1             None      NaN   \n",
       "2504  entrinsic health solutions, inc.      1             None      NaN   \n",
       "2505              envisia therapeutics      1             None      NaN   \n",
       "2506         envoy medical corporation      1             None      NaN   \n",
       "2507                   retrophin, inc.      1        retrophin     RTRX   \n",
       "\n",
       "     source_f  \n",
       "0       Stoxx  \n",
       "1     Russell  \n",
       "2     Russell  \n",
       "3     Russell  \n",
       "4       Stoxx  \n",
       "...       ...  \n",
       "2503      NaN  \n",
       "2504      NaN  \n",
       "2505      NaN  \n",
       "2506      NaN  \n",
       "2507  Russell  \n",
       "\n",
       "[2508 rows x 5 columns]"
      ]
     },
     "execution_count": 166,
     "metadata": {},
     "output_type": "execute_result"
    }
   ],
   "source": [
    "df_result"
   ]
  },
  {
   "cell_type": "code",
   "execution_count": 167,
   "metadata": {},
   "outputs": [
    {
     "data": {
      "text/plain": [
       "0.7176041395227637"
      ]
     },
     "execution_count": 167,
     "metadata": {},
     "output_type": "execute_result"
    }
   ],
   "source": [
    "pct_match = df_result.dropna()['count'].sum() / df_result['count'].sum()\n",
    "pct_match"
   ]
  },
  {
   "cell_type": "markdown",
   "metadata": {},
   "source": [
    "### what is still remaining to be unmatched?"
   ]
  },
  {
   "cell_type": "code",
   "execution_count": 171,
   "metadata": {},
   "outputs": [
    {
     "data": {
      "text/html": [
       "<div>\n",
       "<style scoped>\n",
       "    .dataframe tbody tr th:only-of-type {\n",
       "        vertical-align: middle;\n",
       "    }\n",
       "\n",
       "    .dataframe tbody tr th {\n",
       "        vertical-align: top;\n",
       "    }\n",
       "\n",
       "    .dataframe thead th {\n",
       "        text-align: right;\n",
       "    }\n",
       "</style>\n",
       "<table border=\"1\" class=\"dataframe\">\n",
       "  <thead>\n",
       "    <tr style=\"text-align: right;\">\n",
       "      <th></th>\n",
       "      <th>name</th>\n",
       "      <th>count</th>\n",
       "      <th>matched_f</th>\n",
       "      <th>Ticker_f</th>\n",
       "      <th>source_f</th>\n",
       "    </tr>\n",
       "  </thead>\n",
       "  <tbody>\n",
       "    <tr>\n",
       "      <td>7</td>\n",
       "      <td>boehringer ingelheim</td>\n",
       "      <td>584</td>\n",
       "      <td>None</td>\n",
       "      <td>NaN</td>\n",
       "      <td>NaN</td>\n",
       "    </tr>\n",
       "    <tr>\n",
       "      <td>44</td>\n",
       "      <td>ferring pharmaceuticals</td>\n",
       "      <td>87</td>\n",
       "      <td>None</td>\n",
       "      <td>NaN</td>\n",
       "      <td>NaN</td>\n",
       "    </tr>\n",
       "    <tr>\n",
       "      <td>52</td>\n",
       "      <td>bial - portela c s.a.</td>\n",
       "      <td>76</td>\n",
       "      <td>None</td>\n",
       "      <td>NaN</td>\n",
       "      <td>NaN</td>\n",
       "    </tr>\n",
       "    <tr>\n",
       "      <td>60</td>\n",
       "      <td>coopervision, inc.</td>\n",
       "      <td>65</td>\n",
       "      <td>None</td>\n",
       "      <td>NaN</td>\n",
       "      <td>NaN</td>\n",
       "    </tr>\n",
       "    <tr>\n",
       "      <td>69</td>\n",
       "      <td>leo pharma</td>\n",
       "      <td>55</td>\n",
       "      <td>None</td>\n",
       "      <td>NaN</td>\n",
       "      <td>NaN</td>\n",
       "    </tr>\n",
       "    <tr>\n",
       "      <td>80</td>\n",
       "      <td>parexel</td>\n",
       "      <td>43</td>\n",
       "      <td>None</td>\n",
       "      <td>NaN</td>\n",
       "      <td>NaN</td>\n",
       "    </tr>\n",
       "    <tr>\n",
       "      <td>83</td>\n",
       "      <td>mutual pharmaceutical company, inc.</td>\n",
       "      <td>42</td>\n",
       "      <td>None</td>\n",
       "      <td>NaN</td>\n",
       "      <td>NaN</td>\n",
       "    </tr>\n",
       "    <tr>\n",
       "      <td>84</td>\n",
       "      <td>the emmes company, llc</td>\n",
       "      <td>41</td>\n",
       "      <td>None</td>\n",
       "      <td>NaN</td>\n",
       "      <td>NaN</td>\n",
       "    </tr>\n",
       "    <tr>\n",
       "      <td>86</td>\n",
       "      <td>grünenthal gmbh</td>\n",
       "      <td>41</td>\n",
       "      <td>None</td>\n",
       "      <td>NaN</td>\n",
       "      <td>NaN</td>\n",
       "    </tr>\n",
       "    <tr>\n",
       "      <td>87</td>\n",
       "      <td>purdue pharma lp</td>\n",
       "      <td>40</td>\n",
       "      <td>None</td>\n",
       "      <td>NaN</td>\n",
       "      <td>NaN</td>\n",
       "    </tr>\n",
       "    <tr>\n",
       "      <td>96</td>\n",
       "      <td>ascensia diabetes care</td>\n",
       "      <td>35</td>\n",
       "      <td>None</td>\n",
       "      <td>NaN</td>\n",
       "      <td>NaN</td>\n",
       "    </tr>\n",
       "    <tr>\n",
       "      <td>101</td>\n",
       "      <td>ppd</td>\n",
       "      <td>34</td>\n",
       "      <td>None</td>\n",
       "      <td>NaN</td>\n",
       "      <td>NaN</td>\n",
       "    </tr>\n",
       "    <tr>\n",
       "      <td>104</td>\n",
       "      <td>w.l.gore &amp; associates</td>\n",
       "      <td>32</td>\n",
       "      <td>None</td>\n",
       "      <td>NaN</td>\n",
       "      <td>NaN</td>\n",
       "    </tr>\n",
       "    <tr>\n",
       "      <td>108</td>\n",
       "      <td>cumberland pharmaceuticals</td>\n",
       "      <td>30</td>\n",
       "      <td>None</td>\n",
       "      <td>NaN</td>\n",
       "      <td>NaN</td>\n",
       "    </tr>\n",
       "    <tr>\n",
       "      <td>117</td>\n",
       "      <td>gw pharmaceuticals ltd.</td>\n",
       "      <td>27</td>\n",
       "      <td>None</td>\n",
       "      <td>NaN</td>\n",
       "      <td>NaN</td>\n",
       "    </tr>\n",
       "    <tr>\n",
       "      <td>119</td>\n",
       "      <td>molnlycke health care ab</td>\n",
       "      <td>27</td>\n",
       "      <td>None</td>\n",
       "      <td>NaN</td>\n",
       "      <td>NaN</td>\n",
       "    </tr>\n",
       "    <tr>\n",
       "      <td>120</td>\n",
       "      <td>pacira pharmaceuticals, inc</td>\n",
       "      <td>26</td>\n",
       "      <td>None</td>\n",
       "      <td>NaN</td>\n",
       "      <td>NaN</td>\n",
       "    </tr>\n",
       "    <tr>\n",
       "      <td>121</td>\n",
       "      <td>warner chilcott</td>\n",
       "      <td>26</td>\n",
       "      <td>None</td>\n",
       "      <td>NaN</td>\n",
       "      <td>NaN</td>\n",
       "    </tr>\n",
       "    <tr>\n",
       "      <td>122</td>\n",
       "      <td>healthpoint</td>\n",
       "      <td>26</td>\n",
       "      <td>None</td>\n",
       "      <td>NaN</td>\n",
       "      <td>NaN</td>\n",
       "    </tr>\n",
       "    <tr>\n",
       "      <td>126</td>\n",
       "      <td>ethicon endo-surgery</td>\n",
       "      <td>25</td>\n",
       "      <td>None</td>\n",
       "      <td>NaN</td>\n",
       "      <td>NaN</td>\n",
       "    </tr>\n",
       "  </tbody>\n",
       "</table>\n",
       "</div>"
      ],
      "text/plain": [
       "                                    name  count matched_f Ticker_f source_f\n",
       "7                   boehringer ingelheim    584      None      NaN      NaN\n",
       "44               ferring pharmaceuticals     87      None      NaN      NaN\n",
       "52                 bial - portela c s.a.     76      None      NaN      NaN\n",
       "60                    coopervision, inc.     65      None      NaN      NaN\n",
       "69                            leo pharma     55      None      NaN      NaN\n",
       "80                               parexel     43      None      NaN      NaN\n",
       "83   mutual pharmaceutical company, inc.     42      None      NaN      NaN\n",
       "84                the emmes company, llc     41      None      NaN      NaN\n",
       "86                       grünenthal gmbh     41      None      NaN      NaN\n",
       "87                      purdue pharma lp     40      None      NaN      NaN\n",
       "96                ascensia diabetes care     35      None      NaN      NaN\n",
       "101                                  ppd     34      None      NaN      NaN\n",
       "104                w.l.gore & associates     32      None      NaN      NaN\n",
       "108           cumberland pharmaceuticals     30      None      NaN      NaN\n",
       "117              gw pharmaceuticals ltd.     27      None      NaN      NaN\n",
       "119             molnlycke health care ab     27      None      NaN      NaN\n",
       "120          pacira pharmaceuticals, inc     26      None      NaN      NaN\n",
       "121                      warner chilcott     26      None      NaN      NaN\n",
       "122                          healthpoint     26      None      NaN      NaN\n",
       "126                 ethicon endo-surgery     25      None      NaN      NaN"
      ]
     },
     "execution_count": 171,
     "metadata": {},
     "output_type": "execute_result"
    }
   ],
   "source": [
    "df_result[pd.isnull(df_result['matched_f'])][:20]"
   ]
  },
  {
   "cell_type": "markdown",
   "metadata": {},
   "source": [
    "### all private companies ..."
   ]
  },
  {
   "cell_type": "code",
   "execution_count": null,
   "metadata": {},
   "outputs": [],
   "source": []
  }
 ],
 "metadata": {
  "kernelspec": {
   "display_name": "Python 3",
   "language": "python",
   "name": "python3"
  },
  "language_info": {
   "codemirror_mode": {
    "name": "ipython",
    "version": 3
   },
   "file_extension": ".py",
   "mimetype": "text/x-python",
   "name": "python",
   "nbconvert_exporter": "python",
   "pygments_lexer": "ipython3",
   "version": "3.6.9"
  }
 },
 "nbformat": 4,
 "nbformat_minor": 2
}
