{
 "cells": [
  {
   "cell_type": "code",
   "execution_count": 1,
   "metadata": {},
   "outputs": [],
   "source": [
    "import pandas as pd\n",
    "import numpy as np\n",
    "\n",
    "from tqdm import tqdm_notebook\n",
    "from tqdm import tqdm\n",
    "import datetime as dt\n",
    "import pickle\n",
    "from importlib import reload\n",
    "\n",
    "import pdaactconn as pc\n",
    "from trialexplorer import AACTStudySet\n",
    "from trialexplorer import studysimilarity as ssim\n",
    "\n",
    "import nltk\n",
    "from nltk.corpus import stopwords\n",
    "from nltk.probability import FreqDist\n",
    "import string\n",
    "import re\n",
    "\n",
    "import matplotlib.pyplot as plt\n",
    "%matplotlib inline\n",
    "\n",
    "tqdm.pandas()"
   ]
  },
  {
   "cell_type": "code",
   "execution_count": 2,
   "metadata": {},
   "outputs": [],
   "source": [
    "bd = pickle.load(open('raw_data/all_bing.p', 'rb'))"
   ]
  },
  {
   "cell_type": "code",
   "execution_count": 3,
   "metadata": {},
   "outputs": [
    {
     "data": {
      "text/plain": [
       "39345"
      ]
     },
     "execution_count": 3,
     "metadata": {},
     "output_type": "execute_result"
    }
   ],
   "source": [
    "len(bd)"
   ]
  },
  {
   "cell_type": "code",
   "execution_count": 4,
   "metadata": {},
   "outputs": [
    {
     "name": "stdout",
     "output_type": "stream",
     "text": [
      "Healthy\n"
     ]
    }
   ],
   "source": [
    "for k in bd.keys():\n",
    "    print(k)\n",
    "    break"
   ]
  },
  {
   "cell_type": "code",
   "execution_count": 5,
   "metadata": {},
   "outputs": [
    {
     "data": {
      "text/plain": [
       "dict_keys(['doc', 'links', 'wiki'])"
      ]
     },
     "execution_count": 5,
     "metadata": {},
     "output_type": "execute_result"
    }
   ],
   "source": [
    "bd['Healthy'].keys()"
   ]
  },
  {
   "cell_type": "code",
   "execution_count": 6,
   "metadata": {},
   "outputs": [
    {
     "data": {
      "text/plain": [
       "['Bing Translator',\n",
       " 'Healthy | Definition of Healthy by Merriam-Webster',\n",
       " 'Healthy Recipes, Tips and Meal Ideas | Food Network',\n",
       " 'Healthy Dinners in 40 Minutes or Less',\n",
       " 'Healthy Appetizer Recipes',\n",
       " '300-Calorie Breakfasts',\n",
       " '65+ Healthy Dessert Ideas',\n",
       " '15 Foods You Should Not Refrigerate',\n",
       " 'Healthy Casseroles',\n",
       " 'Healthy Shrimp Recipes',\n",
       " 'Healthy Side Dish Recipes',\n",
       " 'Healthy - definition of healthy by The Free Dictionary',\n",
       " 'Healthy Synonyms, Healthy Antonyms | Thesaurus.com',\n",
       " 'Healthy Recipes - Allrecipes.com',\n",
       " 'Autumn Apple Pepita Salad',\n",
       " 'Turmeric Milk',\n",
       " 'Raw Super Food Oat Smoothie',\n",
       " 'Orange Roasted Salmon',\n",
       " 'Roasted Yam and Kale Salad',\n",
       " 'Blueberry and Banana Steel Cut Oats',\n",
       " 'Greek Zoodle Salad',\n",
       " 'Instant Pot® Bone Broth with Turmeric and Ginger',\n",
       " 'Quinoa and Black Beans',\n",
       " 'Healthy (@healthy) | Twitter',\n",
       " 'Easy Healthy Recipes - Best Healthy Meal Ideas - Delish.com',\n",
       " '50 Foods That Are Super Healthy',\n",
       " 'Healthy People 2020',\n",
       " 'Healthy Kids: Home']"
      ]
     },
     "execution_count": 6,
     "metadata": {},
     "output_type": "execute_result"
    }
   ],
   "source": [
    "bd['Healthy']['doc']"
   ]
  },
  {
   "cell_type": "code",
   "execution_count": 7,
   "metadata": {},
   "outputs": [
    {
     "data": {
      "text/plain": [
       "['https://www.bing.com/translator',\n",
       " 'https://www.merriam-webster.com/dictionary/healthy',\n",
       " 'https://www.foodnetwork.com/healthy',\n",
       " 'https://www.foodnetwork.com/healthy/packages/healthy-every-week/quick-and-simple/healthy-dinners-in-40-minutes-or-less',\n",
       " 'https://www.foodnetwork.com/healthy/packages/healthy-every-week/healthy-appetizer-recipes/healthy-appetizer-recipes',\n",
       " 'https://www.foodnetwork.com/healthy/packages/healthy-every-week/healthy-mains/300-calorie-breakfasts',\n",
       " 'https://www.foodnetwork.com/healthy/packages/healthy-every-week/healthy-desserts/healthy-dessert-recipe-ideas',\n",
       " 'https://www.foodnetwork.com/healthy/packages/healthy-every-week/healthy-tips/foods-you-should-not-refrigerate',\n",
       " 'https://www.foodnetwork.com/healthy/packages/healthy-every-week/healthy-mains/healthy-casseroles',\n",
       " 'https://www.foodnetwork.com/healthy/packages/healthy-every-week/healthy-mains/healthy-shrimp-recipes',\n",
       " 'https://www.foodnetwork.com/healthy/packages/healthy-every-week/healthy-sides/healthy-side-dishes',\n",
       " 'https://www.thefreedictionary.com/healthy',\n",
       " 'https://www.thesaurus.com/browse/healthy',\n",
       " 'https://www.allrecipes.com/recipes/84/healthy-recipes/',\n",
       " 'https://www.allrecipes.com/recipe/261393/autumn-apple-pepita-salad/',\n",
       " 'https://www.allrecipes.com/recipe/244623/turmeric-milk/',\n",
       " 'https://www.allrecipes.com/recipe/246097/raw-super-food-oat-smoothie/',\n",
       " 'https://www.allrecipes.com/recipe/72381/orange-roasted-salmon/',\n",
       " 'https://www.allrecipes.com/recipe/217266/roasted-yam-and-kale-salad/',\n",
       " 'https://www.allrecipes.com/recipe/240977/blueberry-and-banana-steel-cut-oats/',\n",
       " 'https://www.allrecipes.com/recipe/241792/greek-zoodle-salad/',\n",
       " 'https://www.allrecipes.com/recipe/261497/instant-pot-bone-broth-with-turmeric-and-ginger/',\n",
       " 'https://www.allrecipes.com/recipe/49552/quinoa-and-black-beans/',\n",
       " 'https://twitter.com/healthy',\n",
       " 'https://www.delish.com/healthy-recipes/',\n",
       " 'https://www.healthline.com/nutrition/50-super-healthy-foods',\n",
       " 'https://www.healthypeople.gov/',\n",
       " 'https://www.healthykids.org/']"
      ]
     },
     "execution_count": 7,
     "metadata": {},
     "output_type": "execute_result"
    }
   ],
   "source": [
    "bd['Healthy']['links']"
   ]
  },
  {
   "cell_type": "markdown",
   "metadata": {},
   "source": [
    "# 1. Bag of words for \"doc\""
   ]
  },
  {
   "cell_type": "code",
   "execution_count": 8,
   "metadata": {},
   "outputs": [
    {
     "data": {
      "text/plain": [
       "<module 'trialexplorer.studysimilarity' from '/home/rmfeng/Documents/GradSchool/capstone/trial-explorer/trialexplorer/studysimilarity.py'>"
      ]
     },
     "execution_count": 8,
     "metadata": {},
     "output_type": "execute_result"
    }
   ],
   "source": [
    "reload(ssim)"
   ]
  },
  {
   "cell_type": "code",
   "execution_count": 10,
   "metadata": {},
   "outputs": [
    {
     "data": {
      "text/plain": [
       "50"
      ]
     },
     "execution_count": 10,
     "metadata": {},
     "output_type": "execute_result"
    }
   ],
   "source": [
    "cur_doc1 = bd[list(bd.keys())[0]]['doc']\n",
    "token_counts1 = ssim.doc_to_tokencount(cur_doc1)\n",
    "\n",
    "cur_doc2 = bd[list(bd.keys())[2]]['doc']\n",
    "token_counts2 = ssim.doc_to_tokencount(cur_doc2)\n",
    "\n",
    "ssim.wasserstein_dist(token_counts1, token_counts2)"
   ]
  },
  {
   "cell_type": "code",
   "execution_count": 11,
   "metadata": {},
   "outputs": [],
   "source": [
    "all_conds = list(bd.keys())"
   ]
  },
  {
   "cell_type": "code",
   "execution_count": 12,
   "metadata": {},
   "outputs": [
    {
     "name": "stdout",
     "output_type": "stream",
     "text": [
      "Dermatitis, Atopic\n",
      "{'dermatitis': 25}\n",
      "Dermatitis, Atopic\n",
      "{'dermatitis': 25}\n",
      "--- 0\n",
      "\n",
      "Dermatitis, Atopic\n",
      "{'dermatitis': 25}\n",
      "Effect of Two Protocols of Ovarian Stimulation on Oocyte Quality\n",
      "{'ovarian': 6, 'stimulation': 6, 'protocols': 5, 'oocyte': 3, 'based': 2, 'follicle': 2, 'effect': 1}\n",
      "--- 50\n",
      "\n",
      "Dermatitis, Atopic\n",
      "{'dermatitis': 25}\n",
      "Gastric Emptying\n",
      "{'gastric': 8, 'emptying': 6, 'gastroparesis': 6, 'causes': 4, 'study': 1}\n",
      "--- 50\n",
      "\n",
      "Dermatitis, Atopic\n",
      "{'dermatitis': 25}\n",
      "Bacterial Skin Diseases\n",
      "{'skin': 5, 'bacterial': 4, 'infections': 3, 'infection': 2, 'treatments': 2, 'pictures': 2, 'diseases': 1, 'cliffsnotescom': 1, 'wikipedia': 1, 'see': 1, 'full': 1, 'list': 1, 'enwikipediaorg': 1}\n",
      "--- 50\n",
      "\n",
      "Dermatitis, Atopic\n",
      "{'dermatitis': 25}\n",
      "Displaced Midshaft Fracture of the Collar Bone\n",
      "{}\n",
      "--- 25\n",
      "\n",
      "Dermatitis, Atopic\n",
      "{'dermatitis': 25}\n",
      "Anterior Cruciate Ligament Rupture\n",
      "{'ligament': 11, 'cruciate': 10, 'anterior': 4}\n",
      "--- 50\n",
      "\n",
      "Dermatitis, Atopic\n",
      "{'dermatitis': 25}\n",
      "Metastasis, Neoplasm\n",
      "{'cancer': 15, 'metastatic': 10}\n",
      "--- 50\n",
      "\n",
      "Dermatitis, Atopic\n",
      "{'dermatitis': 25}\n",
      "Egg Freezing\n",
      "{'freezing': 11, 'egg': 10, 'eggs': 3, 'freeze': 1}\n",
      "--- 50\n",
      "\n",
      "Dermatitis, Atopic\n",
      "{'dermatitis': 25}\n",
      "Azoospermia\n",
      "{'azoospermia': 15, 'body': 5, '1': 3, 'treatment': 2}\n",
      "--- 50\n",
      "\n",
      "Dermatitis, Atopic\n",
      "{'dermatitis': 25}\n",
      "Diabetes Mellitus, Type 1\n",
      "{'diabetes': 19, 'type': 6}\n",
      "--- 50\n",
      "\n",
      "Dermatitis, Atopic\n",
      "{'dermatitis': 25}\n",
      "Cesarean\n",
      "{'cesarean': 13, 'section': 7, 'delivery': 3, 'definition': 2}\n",
      "--- 50\n",
      "\n",
      "Dermatitis, Atopic\n",
      "{'dermatitis': 25}\n",
      "Thoracic Esophageal Squamous Cell Carcinoma\n",
      "{'esophageal': 7, 'squamous': 6, 'cell': 6, 'thoracic': 5, 'neck': 1}\n",
      "--- 50\n",
      "\n",
      "Dermatitis, Atopic\n",
      "{'dermatitis': 25}\n",
      "Compulsive Shopping\n",
      "{}\n",
      "--- 25\n",
      "\n",
      "Dermatitis, Atopic\n",
      "{'dermatitis': 25}\n",
      "Facial Defect\n",
      "{'craniofacial': 4, 'fascial': 4, 'defects': 3, 'face': 2, 'introduction': 1, 'birth': 1, 'bones': 1, 'joints': 1, 'anomalies': 1, 'abnormalities': 1, '11': 1, 'skin': 1, 'trying': 1, 'tell': 1, 'importance': 1, 'size': 1}\n",
      "--- 50\n",
      "\n",
      "Dermatitis, Atopic\n",
      "{'dermatitis': 25}\n",
      "Ewing's Sarcoma (ES)\n",
      "{'ewing': 10, 'sarcoma': 10, 'symptoms': 3, 'causes': 2}\n",
      "--- 50\n",
      "\n",
      "Dermatitis, Atopic\n",
      "{'dermatitis': 25}\n",
      "Circadian Rhythm Sleep Disorder\n",
      "{'circadian': 9, 'sleep': 9, 'rhythm': 7}\n",
      "--- 50\n",
      "\n",
      "Dermatitis, Atopic\n",
      "{'dermatitis': 25}\n",
      "Fetal Anemia\n",
      "{'fetal': 11, 'anemia': 10, 'items': 2, 'parent': 2}\n",
      "--- 50\n",
      "\n",
      "Dermatitis, Atopic\n",
      "{'dermatitis': 25}\n",
      "Gastro-Intestinal Cancer\n",
      "{'cancer': 14, 'symptoms': 6, 'stomach': 5}\n",
      "--- 50\n",
      "\n",
      "Dermatitis, Atopic\n",
      "{'dermatitis': 25}\n",
      "Adherence to Care\n",
      "{}\n",
      "--- 25\n",
      "\n",
      "Dermatitis, Atopic\n",
      "{'dermatitis': 25}\n",
      "Antiplatelet Effect\n",
      "{'antiplatelet': 11, 'drugs': 6, 'effects': 4, 'aspirin': 3, 'therapy': 1}\n",
      "--- 50\n",
      "\n"
     ]
    }
   ],
   "source": [
    "cur_conds = np.random.choice(all_conds, 20)\n",
    "c1 = cur_conds[0]\n",
    "\n",
    "for c2 in cur_conds:\n",
    "    print(c1)\n",
    "    cur_doc1 = bd[c1]['doc']\n",
    "    token_counts1 = ssim.doc_to_tokencount(cur_doc1)\n",
    "    print(token_counts1)\n",
    "    \n",
    "    print(c2)\n",
    "    cur_doc2 = bd[c2]['doc']\n",
    "    token_counts2 = ssim.doc_to_tokencount(cur_doc2)\n",
    "    print(token_counts2)\n",
    "    \n",
    "    print('---', ssim.wasserstein_dist(token_counts1, token_counts2))\n",
    "    print()"
   ]
  },
  {
   "cell_type": "markdown",
   "metadata": {},
   "source": [
    "### let's check the various parkinson's disease conditions"
   ]
  },
  {
   "cell_type": "code",
   "execution_count": 14,
   "metadata": {},
   "outputs": [
    {
     "data": {
      "text/plain": [
       "[\"Parkinson's Disease\",\n",
       " 'Parkinson Disease',\n",
       " \"Idiopathic Parkinson's Disease\",\n",
       " \"Parkinson's Disease (PD)\",\n",
       " 'Parkinson',\n",
       " 'Idiopathic Parkinson Disease']"
      ]
     },
     "execution_count": 14,
     "metadata": {},
     "output_type": "execute_result"
    }
   ],
   "source": [
    "park_list = [x for x in all_conds if 'park' in x.lower()][:6]\n",
    "park_list"
   ]
  },
  {
   "cell_type": "code",
   "execution_count": 15,
   "metadata": {
    "scrolled": true
   },
   "outputs": [
    {
     "name": "stdout",
     "output_type": "stream",
     "text": [
      "Parkinson's Disease\n",
      "Parkinson's Disease\n",
      "--- 0\n",
      "\n",
      "Parkinson's Disease\n",
      "Parkinson Disease\n",
      "--- 14\n",
      "\n",
      "Parkinson's Disease\n",
      "Idiopathic Parkinson's Disease\n",
      "--- 12\n",
      "\n",
      "Parkinson's Disease\n",
      "Parkinson's Disease (PD)\n",
      "--- 10\n",
      "\n",
      "Parkinson's Disease\n",
      "Parkinson\n",
      "--- 2\n",
      "\n",
      "Parkinson's Disease\n",
      "Idiopathic Parkinson Disease\n",
      "--- 18\n",
      "\n",
      "Parkinson Disease\n",
      "Parkinson Disease\n",
      "--- 0\n",
      "\n",
      "Parkinson Disease\n",
      "Idiopathic Parkinson's Disease\n",
      "--- 14\n",
      "\n",
      "Parkinson Disease\n",
      "Parkinson's Disease (PD)\n",
      "--- 8\n",
      "\n",
      "Parkinson Disease\n",
      "Parkinson\n",
      "--- 16\n",
      "\n",
      "Parkinson Disease\n",
      "Idiopathic Parkinson Disease\n",
      "--- 12\n",
      "\n",
      "Idiopathic Parkinson's Disease\n",
      "Idiopathic Parkinson's Disease\n",
      "--- 0\n",
      "\n",
      "Idiopathic Parkinson's Disease\n",
      "Parkinson's Disease (PD)\n",
      "--- 12\n",
      "\n",
      "Idiopathic Parkinson's Disease\n",
      "Parkinson\n",
      "--- 14\n",
      "\n",
      "Idiopathic Parkinson's Disease\n",
      "Idiopathic Parkinson Disease\n",
      "--- 6\n",
      "\n",
      "Parkinson's Disease (PD)\n",
      "Parkinson's Disease (PD)\n",
      "--- 0\n",
      "\n",
      "Parkinson's Disease (PD)\n",
      "Parkinson\n",
      "--- 12\n",
      "\n",
      "Parkinson's Disease (PD)\n",
      "Idiopathic Parkinson Disease\n",
      "--- 12\n",
      "\n",
      "Parkinson\n",
      "Parkinson\n",
      "--- 0\n",
      "\n",
      "Parkinson\n",
      "Idiopathic Parkinson Disease\n",
      "--- 18\n",
      "\n",
      "Idiopathic Parkinson Disease\n",
      "Idiopathic Parkinson Disease\n",
      "--- 0\n",
      "\n"
     ]
    }
   ],
   "source": [
    "for i in range(0, 6):\n",
    "    for j in range(i, 6):\n",
    "        print(park_list[i])\n",
    "        cur_doc1 = bd[park_list[i]]['doc']\n",
    "        token_counts1 = ssim.doc_to_tokencount(cur_doc1)\n",
    "\n",
    "        print(park_list[j])\n",
    "        cur_doc2 = bd[park_list[j]]['doc']\n",
    "        token_counts2 = ssim.doc_to_tokencount(cur_doc2)\n",
    "        \n",
    "        print('---', ssim.wasserstein_dist(token_counts1, token_counts2))\n",
    "        print()"
   ]
  },
  {
   "cell_type": "markdown",
   "metadata": {},
   "source": [
    "# 2. Links - jaccard -  remember to take unique on raw list"
   ]
  },
  {
   "cell_type": "code",
   "execution_count": 22,
   "metadata": {},
   "outputs": [
    {
     "data": {
      "text/plain": [
       "0.25"
      ]
     },
     "execution_count": 22,
     "metadata": {},
     "output_type": "execute_result"
    }
   ],
   "source": [
    "l1 = ssim.unique_list(bd[park_list[0]]['links'])\n",
    "l2 = ssim.unique_list(bd[park_list[1]]['links'])\n",
    "\n",
    "ssim.compute_link_list_sim(l1, l2)"
   ]
  },
  {
   "cell_type": "code",
   "execution_count": 35,
   "metadata": {
    "scrolled": true
   },
   "outputs": [
    {
     "name": "stdout",
     "output_type": "stream",
     "text": [
      "HIV-infection\n",
      "HIV-infection\n",
      "--- 1.0\n",
      "\n",
      "HIV-infection\n",
      "Catheter; Complications (Indwelling Catheter)\n",
      "--- 0.0\n",
      "\n",
      "HIV-infection\n",
      "Recurrent Enteropathy-Associated T-Cell Lymphoma\n",
      "--- 0.0\n",
      "\n",
      "HIV-infection\n",
      "Alveolar Echinococcosis\n",
      "--- 0.0\n",
      "\n",
      "HIV-infection\n",
      "Female Pelvic Exam\n",
      "--- 0.0\n",
      "\n",
      "HIV-infection\n",
      "Gastro-Entero-Pancreatic Tumors (GEPs)\n",
      "--- 0.0\n",
      "\n",
      "HIV-infection\n",
      "Tauopathies\n",
      "--- 0.0\n",
      "\n",
      "HIV-infection\n",
      "Microscopic Polyangiitis (MPA)\n",
      "--- 0.0\n",
      "\n",
      "HIV-infection\n",
      "Aromatherapy\n",
      "--- 0.0\n",
      "\n",
      "HIV-infection\n",
      "Benign Gallbladder Disease\n",
      "--- 0.0\n",
      "\n",
      "HIV-infection\n",
      "Breast Neoplasm Malignant Primary\n",
      "--- 0.0\n",
      "\n",
      "HIV-infection\n",
      "Fuel Management\n",
      "--- 0.0\n",
      "\n",
      "HIV-infection\n",
      "Cardiac X Syndrome\n",
      "--- 0.0\n",
      "\n",
      "HIV-infection\n",
      "Granulomatous Disease, Chronic, X-linked\n",
      "--- 0.0\n",
      "\n",
      "HIV-infection\n",
      "Gastro-Esophageal Reflux Disease With Ulceration\n",
      "--- 0.0\n",
      "\n",
      "HIV-infection\n",
      "Congenital Hypoplastic Anemia\n",
      "--- 0.0\n",
      "\n",
      "HIV-infection\n",
      "EGFR and/or ROS Mutant NSCLC\n",
      "--- 0.0\n",
      "\n",
      "HIV-infection\n",
      "Female Athlete Triad\n",
      "--- 0.0\n",
      "\n",
      "HIV-infection\n",
      "Corneal Dermoid\n",
      "--- 0.0\n",
      "\n",
      "HIV-infection\n",
      "Functional Fitness\n",
      "--- 0.0\n",
      "\n"
     ]
    }
   ],
   "source": [
    "cur_conds = np.random.choice(all_conds, 20)\n",
    "c1 = cur_conds[0]\n",
    "\n",
    "for c2 in cur_conds:\n",
    "    print(c1)\n",
    "    l1 = ssim.unique_list(bd[c1]['links'])\n",
    "    print(c2)\n",
    "    l2 = ssim.unique_list(bd[c2]['links'])\n",
    "    \n",
    "    print('---', ssim.compute_link_list_sim(l1, l2))\n",
    "    print()"
   ]
  },
  {
   "cell_type": "code",
   "execution_count": 36,
   "metadata": {
    "scrolled": true
   },
   "outputs": [
    {
     "name": "stdout",
     "output_type": "stream",
     "text": [
      "Parkinson's Disease\n",
      "Parkinson's Disease\n",
      "--- 1.0\n",
      "\n",
      "Parkinson's Disease\n",
      "Parkinson Disease\n",
      "--- 0.25\n",
      "\n",
      "Parkinson's Disease\n",
      "Idiopathic Parkinson's Disease\n",
      "--- 0.08\n",
      "\n",
      "Parkinson's Disease\n",
      "Parkinson's Disease (PD)\n",
      "--- 0.38095238095238093\n",
      "\n",
      "Parkinson's Disease\n",
      "Parkinson\n",
      "--- 0.14285714285714285\n",
      "\n",
      "Parkinson's Disease\n",
      "Idiopathic Parkinson Disease\n",
      "--- 0.08\n",
      "\n",
      "Parkinson Disease\n",
      "Parkinson Disease\n",
      "--- 1.0\n",
      "\n",
      "Parkinson Disease\n",
      "Idiopathic Parkinson's Disease\n",
      "--- 0.09090909090909091\n",
      "\n",
      "Parkinson Disease\n",
      "Parkinson's Disease (PD)\n",
      "--- 0.4444444444444444\n",
      "\n",
      "Parkinson Disease\n",
      "Parkinson\n",
      "--- 0.2608695652173913\n",
      "\n",
      "Parkinson Disease\n",
      "Idiopathic Parkinson Disease\n",
      "--- 0.09090909090909091\n",
      "\n",
      "Idiopathic Parkinson's Disease\n",
      "Idiopathic Parkinson's Disease\n",
      "--- 1.0\n",
      "\n",
      "Idiopathic Parkinson's Disease\n",
      "Parkinson's Disease (PD)\n",
      "--- 0.07692307692307693\n",
      "\n",
      "Idiopathic Parkinson's Disease\n",
      "Parkinson\n",
      "--- 0.10714285714285714\n",
      "\n",
      "Idiopathic Parkinson's Disease\n",
      "Idiopathic Parkinson Disease\n",
      "--- 0.625\n",
      "\n",
      "Parkinson's Disease (PD)\n",
      "Parkinson's Disease (PD)\n",
      "--- 1.0\n",
      "\n",
      "Parkinson's Disease (PD)\n",
      "Parkinson\n",
      "--- 0.2222222222222222\n",
      "\n",
      "Parkinson's Disease (PD)\n",
      "Idiopathic Parkinson Disease\n",
      "--- 0.07692307692307693\n",
      "\n",
      "Parkinson\n",
      "Parkinson\n",
      "--- 1.0\n",
      "\n",
      "Parkinson\n",
      "Idiopathic Parkinson Disease\n",
      "--- 0.10714285714285714\n",
      "\n",
      "Idiopathic Parkinson Disease\n",
      "Idiopathic Parkinson Disease\n",
      "--- 1.0\n",
      "\n"
     ]
    }
   ],
   "source": [
    "for i in range(0, 6):\n",
    "    for j in range(i, 6):\n",
    "        print(park_list[i])\n",
    "        l1 = ssim.unique_list(bd[park_list[i]]['links'])\n",
    "\n",
    "        print(park_list[j])\n",
    "        l2 = ssim.unique_list(bd[park_list[j]]['links'])\n",
    "        \n",
    "        print('---', ssim.compute_link_list_sim(l1, l2))\n",
    "        print()"
   ]
  },
  {
   "cell_type": "markdown",
   "metadata": {},
   "source": [
    "# 3. Same wiki page (some wiki pages redirect to same page)"
   ]
  },
  {
   "cell_type": "code",
   "execution_count": 43,
   "metadata": {},
   "outputs": [
    {
     "data": {
      "text/plain": [
       "([\"Parkinson's disease - Wikipedia\"], [\"Parkinson's disease - Wikipedia\"])"
      ]
     },
     "execution_count": 43,
     "metadata": {},
     "output_type": "execute_result"
    }
   ],
   "source": [
    "w1 = bd[park_list[0]]['wiki']\n",
    "w2 = bd[park_list[1]]['wiki']\n",
    "w1, w2"
   ]
  },
  {
   "cell_type": "code",
   "execution_count": 45,
   "metadata": {
    "scrolled": true
   },
   "outputs": [
    {
     "data": {
      "text/plain": [
       "1.0"
      ]
     },
     "execution_count": 45,
     "metadata": {},
     "output_type": "execute_result"
    }
   ],
   "source": [
    "ssim.compute_wiki_sim(w1, w2)"
   ]
  },
  {
   "cell_type": "code",
   "execution_count": 47,
   "metadata": {},
   "outputs": [
    {
     "name": "stdout",
     "output_type": "stream",
     "text": [
      "Emergency Medical Services\n",
      "wiki: ['Emergency medical services - Wikipedia']\n",
      "Emergency Medical Services\n",
      "wiki: ['Emergency medical services - Wikipedia']\n",
      "--- 1.0\n",
      "\n",
      "Emergency Medical Services\n",
      "wiki: ['Emergency medical services - Wikipedia']\n",
      "Advanced Biliary Tract Cancer\n",
      "wiki: ['Cholangiocarcinoma - Wikipedia']\n",
      "--- 0.0\n",
      "\n",
      "Emergency Medical Services\n",
      "wiki: ['Emergency medical services - Wikipedia']\n",
      "DTP Vaccine Series Completion\n",
      "wiki: []\n",
      "--- 0.0\n",
      "\n",
      "Emergency Medical Services\n",
      "wiki: ['Emergency medical services - Wikipedia']\n",
      "Central Auditory Processing Disorder\n",
      "wiki: ['Auditory processing disorder - Wikipedia']\n",
      "--- 0.0\n",
      "\n",
      "Emergency Medical Services\n",
      "wiki: ['Emergency medical services - Wikipedia']\n",
      "External Wounds Measured for Length by Width Using a Ruler\n",
      "wiki: []\n",
      "--- 0.0\n",
      "\n",
      "Emergency Medical Services\n",
      "wiki: ['Emergency medical services - Wikipedia']\n",
      "Bacterial Translocation\n",
      "wiki: ['Chromosomal translocation - Wikipedia']\n",
      "--- 0.0\n",
      "\n",
      "Emergency Medical Services\n",
      "wiki: ['Emergency medical services - Wikipedia']\n",
      "Diphtheria\n",
      "wiki: ['Diphtheria - Wikipedia']\n",
      "--- 0.0\n",
      "\n",
      "Emergency Medical Services\n",
      "wiki: ['Emergency medical services - Wikipedia']\n",
      "Chondral or Osteochondral Lesion of Trochlea\n",
      "wiki: []\n",
      "--- 0.0\n",
      "\n",
      "Emergency Medical Services\n",
      "wiki: ['Emergency medical services - Wikipedia']\n",
      "Pemphigus Foliaceus\n",
      "wiki: ['Pemphigus foliaceus - Wikipedia']\n",
      "--- 0.0\n",
      "\n",
      "Emergency Medical Services\n",
      "wiki: ['Emergency medical services - Wikipedia']\n",
      "Cardioembolic Stroke\n",
      "wiki: ['Stroke - Wikipedia']\n",
      "--- 0.0\n",
      "\n",
      "Emergency Medical Services\n",
      "wiki: ['Emergency medical services - Wikipedia']\n",
      "Arthroplasties\n",
      "wiki: ['Arthroplasty - Wikipedia']\n",
      "--- 0.0\n",
      "\n",
      "Emergency Medical Services\n",
      "wiki: ['Emergency medical services - Wikipedia']\n",
      "Maxillary Sinusitis\n",
      "wiki: ['Maxillary sinus - Wikipedia']\n",
      "--- 0.0\n",
      "\n",
      "Emergency Medical Services\n",
      "wiki: ['Emergency medical services - Wikipedia']\n",
      "Ovarian Function\n",
      "wiki: ['Ovary - Wikipedia']\n",
      "--- 0.0\n",
      "\n",
      "Emergency Medical Services\n",
      "wiki: ['Emergency medical services - Wikipedia']\n",
      "Stage IV Squamous Cell Carcinoma of the Nasopharynx\n",
      "wiki: ['Nasopharynx cancer - Wikipedia']\n",
      "--- 0.0\n",
      "\n",
      "Emergency Medical Services\n",
      "wiki: ['Emergency medical services - Wikipedia']\n",
      "Mediastinal Tumor\n",
      "wiki: ['Mediastinal tumor - Wikipedia']\n",
      "--- 0.0\n",
      "\n",
      "Emergency Medical Services\n",
      "wiki: ['Emergency medical services - Wikipedia']\n",
      "Leakage\n",
      "wiki: ['Leakage - Wikipedia']\n",
      "--- 0.0\n",
      "\n",
      "Emergency Medical Services\n",
      "wiki: ['Emergency medical services - Wikipedia']\n",
      "Appendiceal Neoplasm\n",
      "wiki: ['Appendix cancer - Wikipedia']\n",
      "--- 0.0\n",
      "\n",
      "Emergency Medical Services\n",
      "wiki: ['Emergency medical services - Wikipedia']\n",
      "Stage IIIA Lung Small Cell Carcinoma AJCC v7\n",
      "wiki: ['Lung cancer staging - Wikipedia']\n",
      "--- 0.0\n",
      "\n",
      "Emergency Medical Services\n",
      "wiki: ['Emergency medical services - Wikipedia']\n",
      "Acute Lymphoblastic Leukaemia Recurrent\n",
      "wiki: ['Acute lymphoblastic leukemia - Wikipedia']\n",
      "--- 0.0\n",
      "\n",
      "Emergency Medical Services\n",
      "wiki: ['Emergency medical services - Wikipedia']\n",
      "Amyloid Pathology\n",
      "wiki: []\n",
      "--- 0.0\n",
      "\n"
     ]
    }
   ],
   "source": [
    "cur_conds = np.random.choice(all_conds, 20)\n",
    "c1 = cur_conds[0]\n",
    "\n",
    "for c2 in cur_conds:\n",
    "    print(c1)\n",
    "    w1 = bd[c1]['wiki']\n",
    "    print('wiki:', w1)\n",
    "    print(c2)\n",
    "    w2 = bd[c2]['wiki']\n",
    "    print('wiki:', w2)\n",
    "    \n",
    "    print('---', ssim.compute_wiki_sim(w1, w2))\n",
    "    print()"
   ]
  },
  {
   "cell_type": "code",
   "execution_count": 48,
   "metadata": {
    "scrolled": true
   },
   "outputs": [
    {
     "name": "stdout",
     "output_type": "stream",
     "text": [
      "Parkinson's Disease\n",
      "Parkinson's Disease\n",
      "--- 1.0\n",
      "\n",
      "Parkinson's Disease\n",
      "Parkinson Disease\n",
      "--- 1.0\n",
      "\n",
      "Parkinson's Disease\n",
      "Idiopathic Parkinson's Disease\n",
      "--- 1.0\n",
      "\n",
      "Parkinson's Disease\n",
      "Parkinson's Disease (PD)\n",
      "--- 1.0\n",
      "\n",
      "Parkinson's Disease\n",
      "Parkinson\n",
      "--- 1.0\n",
      "\n",
      "Parkinson's Disease\n",
      "Idiopathic Parkinson Disease\n",
      "--- 1.0\n",
      "\n",
      "Parkinson Disease\n",
      "Parkinson Disease\n",
      "--- 1.0\n",
      "\n",
      "Parkinson Disease\n",
      "Idiopathic Parkinson's Disease\n",
      "--- 1.0\n",
      "\n",
      "Parkinson Disease\n",
      "Parkinson's Disease (PD)\n",
      "--- 1.0\n",
      "\n",
      "Parkinson Disease\n",
      "Parkinson\n",
      "--- 1.0\n",
      "\n",
      "Parkinson Disease\n",
      "Idiopathic Parkinson Disease\n",
      "--- 1.0\n",
      "\n",
      "Idiopathic Parkinson's Disease\n",
      "Idiopathic Parkinson's Disease\n",
      "--- 1.0\n",
      "\n",
      "Idiopathic Parkinson's Disease\n",
      "Parkinson's Disease (PD)\n",
      "--- 1.0\n",
      "\n",
      "Idiopathic Parkinson's Disease\n",
      "Parkinson\n",
      "--- 1.0\n",
      "\n",
      "Idiopathic Parkinson's Disease\n",
      "Idiopathic Parkinson Disease\n",
      "--- 1.0\n",
      "\n",
      "Parkinson's Disease (PD)\n",
      "Parkinson's Disease (PD)\n",
      "--- 1.0\n",
      "\n",
      "Parkinson's Disease (PD)\n",
      "Parkinson\n",
      "--- 1.0\n",
      "\n",
      "Parkinson's Disease (PD)\n",
      "Idiopathic Parkinson Disease\n",
      "--- 1.0\n",
      "\n",
      "Parkinson\n",
      "Parkinson\n",
      "--- 1.0\n",
      "\n",
      "Parkinson\n",
      "Idiopathic Parkinson Disease\n",
      "--- 1.0\n",
      "\n",
      "Idiopathic Parkinson Disease\n",
      "Idiopathic Parkinson Disease\n",
      "--- 1.0\n",
      "\n"
     ]
    }
   ],
   "source": [
    "for i in range(0, 6):\n",
    "    for j in range(i, 6):\n",
    "        print(park_list[i])\n",
    "        w1 = ssim.unique_list(bd[park_list[i]]['wiki'])\n",
    "\n",
    "        print(park_list[j])\n",
    "        w2 = ssim.unique_list(bd[park_list[j]]['wiki'])\n",
    "        \n",
    "        print('---', ssim.compute_wiki_sim(w1, w2))\n",
    "        print()"
   ]
  },
  {
   "cell_type": "code",
   "execution_count": null,
   "metadata": {},
   "outputs": [],
   "source": []
  }
 ],
 "metadata": {
  "kernelspec": {
   "display_name": "Python 3",
   "language": "python",
   "name": "python3"
  },
  "language_info": {
   "codemirror_mode": {
    "name": "ipython",
    "version": 3
   },
   "file_extension": ".py",
   "mimetype": "text/x-python",
   "name": "python",
   "nbconvert_exporter": "python",
   "pygments_lexer": "ipython3",
   "version": "3.6.9"
  }
 },
 "nbformat": 4,
 "nbformat_minor": 2
}
