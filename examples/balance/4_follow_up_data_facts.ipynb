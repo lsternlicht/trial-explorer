{
 "cells": [
  {
   "cell_type": "code",
   "execution_count": 1,
   "metadata": {},
   "outputs": [],
   "source": [
    "import sys\n",
    "if \"../../\" not in sys.path:\n",
    "    sys.path.append(\"../../\")"
   ]
  },
  {
   "cell_type": "code",
   "execution_count": 2,
   "metadata": {},
   "outputs": [],
   "source": [
    "import numpy as np\n",
    "import pandas as pd\n",
    "import seaborn as sns\n",
    "from tqdm import tqdm_notebook as tqdm\n",
    "\n",
    "import pdaactconn as pc\n",
    "from trialexplorer import AACTStudySet\n",
    "\n",
    "import matplotlib.pyplot as plt\n",
    "%matplotlib inline"
   ]
  },
  {
   "cell_type": "code",
   "execution_count": 62,
   "metadata": {},
   "outputs": [
    {
     "name": "stdout",
     "output_type": "stream",
     "text": [
      "2042\n"
     ]
    }
   ],
   "source": [
    "data = pd.read_pickle('withphase.p')\n",
    "valid_idx = data.index\n",
    "print(len(data))"
   ]
  },
  {
   "cell_type": "code",
   "execution_count": 4,
   "metadata": {},
   "outputs": [
    {
     "name": "stdout",
     "output_type": "stream",
     "text": [
      "259683 studies loaded!\n"
     ]
    }
   ],
   "source": [
    "# loading all interventional studies\n",
    "conn = pc.AACTConnection(source=pc.AACTConnection.REMOTE)\n",
    "ss = AACTStudySet.AACTStudySet(conn=conn, \n",
    "                               tqdm_handler=tqdm)\n",
    "ss.add_constraint(\"study_type = 'Interventional'\")\n",
    "ss.load_studies()"
   ]
  },
  {
   "cell_type": "code",
   "execution_count": 5,
   "metadata": {},
   "outputs": [],
   "source": [
    "# constraining to our interested studies\n",
    "ss.studies = ss.studies.loc[valid_idx]"
   ]
  },
  {
   "cell_type": "code",
   "execution_count": 6,
   "metadata": {},
   "outputs": [
    {
     "data": {
      "text/plain": [
       "(2042, 63)"
      ]
     },
     "execution_count": 6,
     "metadata": {},
     "output_type": "execute_result"
    }
   ],
   "source": [
    "ss.studies.shape"
   ]
  },
  {
   "cell_type": "markdown",
   "metadata": {},
   "source": [
    "### Example NCT IDs"
   ]
  },
  {
   "cell_type": "code",
   "execution_count": null,
   "metadata": {},
   "outputs": [],
   "source": [
    "data.head()"
   ]
  },
  {
   "cell_type": "markdown",
   "metadata": {},
   "source": [
    "## Geographic Breakdown"
   ]
  },
  {
   "cell_type": "code",
   "execution_count": null,
   "metadata": {},
   "outputs": [],
   "source": [
    "# adding and loading dimensional data\n",
    "ss.add_dimensions(['countries'])\n",
    "ss.refresh_dim_data()"
   ]
  },
  {
   "cell_type": "code",
   "execution_count": null,
   "metadata": {},
   "outputs": [],
   "source": [
    "df = ss.dimensions['countries'].data\n",
    "df = df[df['removed'] != True]"
   ]
  },
  {
   "cell_type": "code",
   "execution_count": null,
   "metadata": {},
   "outputs": [],
   "source": [
    "pct_countries = df.groupby('name').size().sort_values(ascending=False) / df.shape[0]"
   ]
  },
  {
   "cell_type": "code",
   "execution_count": null,
   "metadata": {},
   "outputs": [],
   "source": [
    "pct_countries.to_csv('countries.csv')"
   ]
  },
  {
   "cell_type": "code",
   "execution_count": null,
   "metadata": {},
   "outputs": [],
   "source": [
    "# getting top 5\n",
    "pct_dict = {}\n",
    "for c in pct_countries[:5].index:\n",
    "    pct_dict[c] = pct_countries[c]\n",
    "    \n",
    "pct_dict['Other'] = pct_countries[5:].sum()\n",
    "df_countries = pd.DataFrame(pct_dict, index=['pct']).T\n",
    "df_countries.head()"
   ]
  },
  {
   "cell_type": "markdown",
   "metadata": {},
   "source": [
    "## Phase Breakdown"
   ]
  },
  {
   "cell_type": "code",
   "execution_count": 30,
   "metadata": {},
   "outputs": [],
   "source": [
    "df = ss.studies"
   ]
  },
  {
   "cell_type": "code",
   "execution_count": 35,
   "metadata": {},
   "outputs": [
    {
     "data": {
      "text/plain": [
       "phase\n",
       "N/A                0.346719\n",
       "Phase 4            0.234574\n",
       "Phase 3            0.206660\n",
       "Phase 2            0.146915\n",
       "Phase 2/Phase 3    0.031832\n",
       "Phase 1/Phase 2    0.015671\n",
       "Phase 1            0.015181\n",
       "Early Phase 1      0.002449\n",
       "dtype: float64"
      ]
     },
     "execution_count": 35,
     "metadata": {},
     "output_type": "execute_result"
    }
   ],
   "source": [
    "df_phase = df.groupby('phase').size().sort_values(ascending=False)\n",
    "df_phase / df_phase.sum()"
   ]
  },
  {
   "cell_type": "code",
   "execution_count": 40,
   "metadata": {},
   "outputs": [
    {
     "data": {
      "text/html": [
       "<div>\n",
       "<style scoped>\n",
       "    .dataframe tbody tr th:only-of-type {\n",
       "        vertical-align: middle;\n",
       "    }\n",
       "\n",
       "    .dataframe tbody tr th {\n",
       "        vertical-align: top;\n",
       "    }\n",
       "\n",
       "    .dataframe thead th {\n",
       "        text-align: right;\n",
       "    }\n",
       "</style>\n",
       "<table border=\"1\" class=\"dataframe\">\n",
       "  <thead>\n",
       "    <tr style=\"text-align: right;\">\n",
       "      <th></th>\n",
       "      <th>g1m</th>\n",
       "      <th>g1f</th>\n",
       "      <th>g2m</th>\n",
       "      <th>g2f</th>\n",
       "      <th>g1_mean</th>\n",
       "      <th>g2_mean</th>\n",
       "      <th>num_parts1</th>\n",
       "      <th>num_parts2</th>\n",
       "      <th>num_measures1</th>\n",
       "      <th>num_measures2</th>\n",
       "      <th>g1t</th>\n",
       "      <th>g2t</th>\n",
       "      <th>g1_sd_sample</th>\n",
       "      <th>g2_sd_sample</th>\n",
       "      <th>imbal</th>\n",
       "      <th>effect</th>\n",
       "      <th>phase</th>\n",
       "    </tr>\n",
       "  </thead>\n",
       "  <tbody>\n",
       "    <tr>\n",
       "      <td>NCT00114127</td>\n",
       "      <td>6.0</td>\n",
       "      <td>7.0</td>\n",
       "      <td>11.0</td>\n",
       "      <td>4.0</td>\n",
       "      <td>67.900</td>\n",
       "      <td>53.7000</td>\n",
       "      <td>13</td>\n",
       "      <td>15</td>\n",
       "      <td>13</td>\n",
       "      <td>15</td>\n",
       "      <td>13.0</td>\n",
       "      <td>15.0</td>\n",
       "      <td>27.402190</td>\n",
       "      <td>30.596568</td>\n",
       "      <td>0.271795</td>\n",
       "      <td>0.140169</td>\n",
       "      <td>Phase 3</td>\n",
       "    </tr>\n",
       "    <tr>\n",
       "      <td>NCT00180479</td>\n",
       "      <td>469.0</td>\n",
       "      <td>200.0</td>\n",
       "      <td>218.0</td>\n",
       "      <td>114.0</td>\n",
       "      <td>0.140</td>\n",
       "      <td>0.2800</td>\n",
       "      <td>301</td>\n",
       "      <td>134</td>\n",
       "      <td>301</td>\n",
       "      <td>134</td>\n",
       "      <td>669.0</td>\n",
       "      <td>332.0</td>\n",
       "      <td>0.410000</td>\n",
       "      <td>0.480000</td>\n",
       "      <td>0.044420</td>\n",
       "      <td>0.019668</td>\n",
       "      <td>Phase 3</td>\n",
       "    </tr>\n",
       "    <tr>\n",
       "      <td>NCT00405275</td>\n",
       "      <td>101.0</td>\n",
       "      <td>77.0</td>\n",
       "      <td>89.0</td>\n",
       "      <td>85.0</td>\n",
       "      <td>-2.120</td>\n",
       "      <td>-2.2900</td>\n",
       "      <td>154</td>\n",
       "      <td>155</td>\n",
       "      <td>154</td>\n",
       "      <td>155</td>\n",
       "      <td>178.0</td>\n",
       "      <td>174.0</td>\n",
       "      <td>1.280000</td>\n",
       "      <td>1.300000</td>\n",
       "      <td>0.055921</td>\n",
       "      <td>0.010684</td>\n",
       "      <td>N/A</td>\n",
       "    </tr>\n",
       "    <tr>\n",
       "      <td>NCT00446654</td>\n",
       "      <td>8.0</td>\n",
       "      <td>12.0</td>\n",
       "      <td>6.0</td>\n",
       "      <td>12.0</td>\n",
       "      <td>-0.010</td>\n",
       "      <td>0.0800</td>\n",
       "      <td>21</td>\n",
       "      <td>21</td>\n",
       "      <td>21</td>\n",
       "      <td>21</td>\n",
       "      <td>20.0</td>\n",
       "      <td>18.0</td>\n",
       "      <td>0.210000</td>\n",
       "      <td>0.250000</td>\n",
       "      <td>0.066667</td>\n",
       "      <td>0.091983</td>\n",
       "      <td>Phase 1</td>\n",
       "    </tr>\n",
       "    <tr>\n",
       "      <td>NCT00728754</td>\n",
       "      <td>15.0</td>\n",
       "      <td>14.0</td>\n",
       "      <td>17.0</td>\n",
       "      <td>15.0</td>\n",
       "      <td>-0.744</td>\n",
       "      <td>-0.8445</td>\n",
       "      <td>24</td>\n",
       "      <td>28</td>\n",
       "      <td>65</td>\n",
       "      <td>68</td>\n",
       "      <td>29.0</td>\n",
       "      <td>32.0</td>\n",
       "      <td>1.516511</td>\n",
       "      <td>1.186630</td>\n",
       "      <td>0.014009</td>\n",
       "      <td>0.008200</td>\n",
       "      <td>N/A</td>\n",
       "    </tr>\n",
       "  </tbody>\n",
       "</table>\n",
       "</div>"
      ],
      "text/plain": [
       "               g1m    g1f    g2m    g2f  g1_mean  g2_mean  num_parts1  \\\n",
       "NCT00114127    6.0    7.0   11.0    4.0   67.900  53.7000          13   \n",
       "NCT00180479  469.0  200.0  218.0  114.0    0.140   0.2800         301   \n",
       "NCT00405275  101.0   77.0   89.0   85.0   -2.120  -2.2900         154   \n",
       "NCT00446654    8.0   12.0    6.0   12.0   -0.010   0.0800          21   \n",
       "NCT00728754   15.0   14.0   17.0   15.0   -0.744  -0.8445          24   \n",
       "\n",
       "             num_parts2  num_measures1  num_measures2    g1t    g2t  \\\n",
       "NCT00114127          15             13             15   13.0   15.0   \n",
       "NCT00180479         134            301            134  669.0  332.0   \n",
       "NCT00405275         155            154            155  178.0  174.0   \n",
       "NCT00446654          21             21             21   20.0   18.0   \n",
       "NCT00728754          28             65             68   29.0   32.0   \n",
       "\n",
       "             g1_sd_sample  g2_sd_sample     imbal    effect    phase  \n",
       "NCT00114127     27.402190     30.596568  0.271795  0.140169  Phase 3  \n",
       "NCT00180479      0.410000      0.480000  0.044420  0.019668  Phase 3  \n",
       "NCT00405275      1.280000      1.300000  0.055921  0.010684      N/A  \n",
       "NCT00446654      0.210000      0.250000  0.066667  0.091983  Phase 1  \n",
       "NCT00728754      1.516511      1.186630  0.014009  0.008200      N/A  "
      ]
     },
     "execution_count": 40,
     "metadata": {},
     "output_type": "execute_result"
    }
   ],
   "source": [
    "data_phase = data.join(df[['phase']])\n",
    "data_phase.head()"
   ]
  },
  {
   "cell_type": "code",
   "execution_count": 45,
   "metadata": {},
   "outputs": [
    {
     "name": "stdout",
     "output_type": "stream",
     "text": [
      "613\n"
     ]
    },
    {
     "data": {
      "text/plain": [
       "phase\n",
       "Early Phase 1        3\n",
       "N/A                251\n",
       "Phase 1             21\n",
       "Phase 1/Phase 2     22\n",
       "Phase 2            111\n",
       "Phase 2/Phase 3     23\n",
       "Phase 3             50\n",
       "Phase 4            132\n",
       "dtype: int64"
      ]
     },
     "execution_count": 45,
     "metadata": {},
     "output_type": "execute_result"
    }
   ],
   "source": [
    "CUTOFF = 50\n",
    "\n",
    "data_phase['totp'] = data_phase['g1t'] + data_phase['g2t']\n",
    "small_data = data_phase[data_phase['totp'] < CUTOFF]\n",
    "print(small_data.shape[0])\n",
    "\n",
    "small_data.groupby('phase').size()"
   ]
  },
  {
   "cell_type": "code",
   "execution_count": 47,
   "metadata": {},
   "outputs": [],
   "source": [
    "data_phase.to_pickle('withphase.p')"
   ]
  },
  {
   "cell_type": "markdown",
   "metadata": {},
   "source": [
    "## Attrition"
   ]
  },
  {
   "cell_type": "code",
   "execution_count": 11,
   "metadata": {},
   "outputs": [
    {
     "name": "stdout",
     "output_type": "stream",
     "text": [
      "Successfuly added these 1 dimensions: ['milestones']\n",
      "Failed to add these 0 dimensions: []\n"
     ]
    },
    {
     "data": {
      "application/vnd.jupyter.widget-view+json": {
       "model_id": "29685e07d57f43689d53066db4f3d24b",
       "version_major": 2,
       "version_minor": 0
      },
      "text/plain": [
       "HBox(children=(IntProgress(value=0, max=5), HTML(value='')))"
      ]
     },
     "metadata": {},
     "output_type": "display_data"
    },
    {
     "name": "stdout",
     "output_type": "stream",
     "text": [
      "Syncing the temp table temp_cur_studies in 5 chunks x 500 records each\n",
      "\n",
      "Creating index on the temp table\n",
      " - Loading dimension participant_flows\n",
      " -- Loading raw data\n",
      " -- Sorting index\n",
      " - Loading dimension milestones\n",
      " -- Loading raw data\n",
      " -- Sorting index\n"
     ]
    }
   ],
   "source": [
    "# adding and loading dimensional data\n",
    "ss.add_dimensions(['milestones'])\n",
    "ss.refresh_dim_data()"
   ]
  },
  {
   "cell_type": "code",
   "execution_count": 12,
   "metadata": {},
   "outputs": [
    {
     "data": {
      "text/html": [
       "<div>\n",
       "<style scoped>\n",
       "    .dataframe tbody tr th:only-of-type {\n",
       "        vertical-align: middle;\n",
       "    }\n",
       "\n",
       "    .dataframe tbody tr th {\n",
       "        vertical-align: top;\n",
       "    }\n",
       "\n",
       "    .dataframe thead th {\n",
       "        text-align: right;\n",
       "    }\n",
       "</style>\n",
       "<table border=\"1\" class=\"dataframe\">\n",
       "  <thead>\n",
       "    <tr style=\"text-align: right;\">\n",
       "      <th></th>\n",
       "      <th></th>\n",
       "      <th>id</th>\n",
       "      <th>ctgov_group_code</th>\n",
       "      <th>title</th>\n",
       "      <th>period</th>\n",
       "      <th>description</th>\n",
       "      <th>count</th>\n",
       "    </tr>\n",
       "    <tr>\n",
       "      <th>nct_id</th>\n",
       "      <th>result_group_id</th>\n",
       "      <th></th>\n",
       "      <th></th>\n",
       "      <th></th>\n",
       "      <th></th>\n",
       "      <th></th>\n",
       "      <th></th>\n",
       "    </tr>\n",
       "  </thead>\n",
       "  <tbody>\n",
       "    <tr>\n",
       "      <td rowspan=\"5\" valign=\"top\">NCT00000371</td>\n",
       "      <td>4233000</td>\n",
       "      <td>1727630</td>\n",
       "      <td>P2</td>\n",
       "      <td>NOT COMPLETED</td>\n",
       "      <td>Overall Study</td>\n",
       "      <td></td>\n",
       "      <td>16</td>\n",
       "    </tr>\n",
       "    <tr>\n",
       "      <td>4233000</td>\n",
       "      <td>1727632</td>\n",
       "      <td>P2</td>\n",
       "      <td>COMPLETED</td>\n",
       "      <td>Overall Study</td>\n",
       "      <td></td>\n",
       "      <td>12</td>\n",
       "    </tr>\n",
       "    <tr>\n",
       "      <td>4233000</td>\n",
       "      <td>1727634</td>\n",
       "      <td>P2</td>\n",
       "      <td>STARTED</td>\n",
       "      <td>Overall Study</td>\n",
       "      <td></td>\n",
       "      <td>28</td>\n",
       "    </tr>\n",
       "    <tr>\n",
       "      <td>4233001</td>\n",
       "      <td>1727631</td>\n",
       "      <td>P1</td>\n",
       "      <td>NOT COMPLETED</td>\n",
       "      <td>Overall Study</td>\n",
       "      <td></td>\n",
       "      <td>13</td>\n",
       "    </tr>\n",
       "    <tr>\n",
       "      <td>4233001</td>\n",
       "      <td>1727633</td>\n",
       "      <td>P1</td>\n",
       "      <td>COMPLETED</td>\n",
       "      <td>Overall Study</td>\n",
       "      <td></td>\n",
       "      <td>14</td>\n",
       "    </tr>\n",
       "  </tbody>\n",
       "</table>\n",
       "</div>"
      ],
      "text/plain": [
       "                                  id ctgov_group_code          title  \\\n",
       "nct_id      result_group_id                                            \n",
       "NCT00000371 4233000          1727630               P2  NOT COMPLETED   \n",
       "            4233000          1727632               P2      COMPLETED   \n",
       "            4233000          1727634               P2        STARTED   \n",
       "            4233001          1727631               P1  NOT COMPLETED   \n",
       "            4233001          1727633               P1      COMPLETED   \n",
       "\n",
       "                                    period description  count  \n",
       "nct_id      result_group_id                                    \n",
       "NCT00000371 4233000          Overall Study                 16  \n",
       "            4233000          Overall Study                 12  \n",
       "            4233000          Overall Study                 28  \n",
       "            4233001          Overall Study                 13  \n",
       "            4233001          Overall Study                 14  "
      ]
     },
     "execution_count": 12,
     "metadata": {},
     "output_type": "execute_result"
    }
   ],
   "source": [
    "ms = ss.dimensions['milestones'].data\n",
    "ms.head()"
   ]
  },
  {
   "cell_type": "code",
   "execution_count": 18,
   "metadata": {},
   "outputs": [
    {
     "data": {
      "text/html": [
       "<div>\n",
       "<style scoped>\n",
       "    .dataframe tbody tr th:only-of-type {\n",
       "        vertical-align: middle;\n",
       "    }\n",
       "\n",
       "    .dataframe tbody tr th {\n",
       "        vertical-align: top;\n",
       "    }\n",
       "\n",
       "    .dataframe thead th {\n",
       "        text-align: right;\n",
       "    }\n",
       "</style>\n",
       "<table border=\"1\" class=\"dataframe\">\n",
       "  <thead>\n",
       "    <tr style=\"text-align: right;\">\n",
       "      <th></th>\n",
       "      <th>nct_id</th>\n",
       "      <th>title</th>\n",
       "      <th>count</th>\n",
       "    </tr>\n",
       "  </thead>\n",
       "  <tbody>\n",
       "    <tr>\n",
       "      <td>0</td>\n",
       "      <td>NCT00000371</td>\n",
       "      <td>COMPLETED</td>\n",
       "      <td>26</td>\n",
       "    </tr>\n",
       "    <tr>\n",
       "      <td>1</td>\n",
       "      <td>NCT00000371</td>\n",
       "      <td>NOT COMPLETED</td>\n",
       "      <td>29</td>\n",
       "    </tr>\n",
       "    <tr>\n",
       "      <td>2</td>\n",
       "      <td>NCT00000371</td>\n",
       "      <td>STARTED</td>\n",
       "      <td>55</td>\n",
       "    </tr>\n",
       "    <tr>\n",
       "      <td>3</td>\n",
       "      <td>NCT00000392</td>\n",
       "      <td>COMPLETED</td>\n",
       "      <td>143</td>\n",
       "    </tr>\n",
       "    <tr>\n",
       "      <td>4</td>\n",
       "      <td>NCT00000392</td>\n",
       "      <td>NOT COMPLETED</td>\n",
       "      <td>72</td>\n",
       "    </tr>\n",
       "  </tbody>\n",
       "</table>\n",
       "</div>"
      ],
      "text/plain": [
       "        nct_id          title  count\n",
       "0  NCT00000371      COMPLETED     26\n",
       "1  NCT00000371  NOT COMPLETED     29\n",
       "2  NCT00000371        STARTED     55\n",
       "3  NCT00000392      COMPLETED    143\n",
       "4  NCT00000392  NOT COMPLETED     72"
      ]
     },
     "execution_count": 18,
     "metadata": {},
     "output_type": "execute_result"
    }
   ],
   "source": [
    "ms_counts = ms.reset_index().groupby(['nct_id', 'title'])[['count']].sum().reset_index()\n",
    "ms_counts.head()"
   ]
  },
  {
   "cell_type": "code",
   "execution_count": 24,
   "metadata": {},
   "outputs": [],
   "source": [
    "ms_counts = ms_counts[ms_counts['title'].isin(['COMPLETED', 'NOT COMPLETED', 'STARTED'])]"
   ]
  },
  {
   "cell_type": "code",
   "execution_count": 27,
   "metadata": {},
   "outputs": [
    {
     "data": {
      "text/html": [
       "<div>\n",
       "<style scoped>\n",
       "    .dataframe tbody tr th:only-of-type {\n",
       "        vertical-align: middle;\n",
       "    }\n",
       "\n",
       "    .dataframe tbody tr th {\n",
       "        vertical-align: top;\n",
       "    }\n",
       "\n",
       "    .dataframe thead th {\n",
       "        text-align: right;\n",
       "    }\n",
       "</style>\n",
       "<table border=\"1\" class=\"dataframe\">\n",
       "  <thead>\n",
       "    <tr style=\"text-align: right;\">\n",
       "      <th>title</th>\n",
       "      <th>COMPLETED</th>\n",
       "      <th>NOT COMPLETED</th>\n",
       "      <th>STARTED</th>\n",
       "    </tr>\n",
       "    <tr>\n",
       "      <th>nct_id</th>\n",
       "      <th></th>\n",
       "      <th></th>\n",
       "      <th></th>\n",
       "    </tr>\n",
       "  </thead>\n",
       "  <tbody>\n",
       "    <tr>\n",
       "      <td>NCT00000371</td>\n",
       "      <td>26</td>\n",
       "      <td>29</td>\n",
       "      <td>55</td>\n",
       "    </tr>\n",
       "    <tr>\n",
       "      <td>NCT00000392</td>\n",
       "      <td>143</td>\n",
       "      <td>72</td>\n",
       "      <td>215</td>\n",
       "    </tr>\n",
       "    <tr>\n",
       "      <td>NCT00001596</td>\n",
       "      <td>8</td>\n",
       "      <td>27</td>\n",
       "      <td>35</td>\n",
       "    </tr>\n",
       "    <tr>\n",
       "      <td>NCT00001723</td>\n",
       "      <td>171</td>\n",
       "      <td>29</td>\n",
       "      <td>200</td>\n",
       "    </tr>\n",
       "    <tr>\n",
       "      <td>NCT00004500</td>\n",
       "      <td>69</td>\n",
       "      <td>0</td>\n",
       "      <td>69</td>\n",
       "    </tr>\n",
       "  </tbody>\n",
       "</table>\n",
       "</div>"
      ],
      "text/plain": [
       "title        COMPLETED  NOT COMPLETED  STARTED\n",
       "nct_id                                        \n",
       "NCT00000371         26             29       55\n",
       "NCT00000392        143             72      215\n",
       "NCT00001596          8             27       35\n",
       "NCT00001723        171             29      200\n",
       "NCT00004500         69              0       69"
      ]
     },
     "execution_count": 27,
     "metadata": {},
     "output_type": "execute_result"
    }
   ],
   "source": [
    "msp = ms_counts.pivot(index='nct_id', columns='title', values='count')\n",
    "msp.head()"
   ]
  },
  {
   "cell_type": "code",
   "execution_count": 28,
   "metadata": {},
   "outputs": [],
   "source": [
    "msp['attrition'] = msp['COMPLETED'] / msp['STARTED'] - 1"
   ]
  },
  {
   "cell_type": "code",
   "execution_count": 29,
   "metadata": {},
   "outputs": [
    {
     "data": {
      "text/plain": [
       "count    2042.000000\n",
       "mean       -0.131295\n",
       "std         0.149146\n",
       "min        -1.000000\n",
       "25%        -0.189170\n",
       "50%        -0.090000\n",
       "75%        -0.025398\n",
       "max         0.000000\n",
       "Name: attrition, dtype: float64"
      ]
     },
     "execution_count": 29,
     "metadata": {},
     "output_type": "execute_result"
    }
   ],
   "source": [
    "msp['attrition'].describe()"
   ]
  },
  {
   "cell_type": "markdown",
   "metadata": {},
   "source": [
    "### Notes:\n",
    "- mean attrition = 13.1%\n",
    "- 25% of studies have 19% or more attrition\n",
    "- 25% of studies have 3% or less attrition"
   ]
  },
  {
   "cell_type": "markdown",
   "metadata": {},
   "source": [
    "## Sponsor Breakdown"
   ]
  },
  {
   "cell_type": "code",
   "execution_count": 48,
   "metadata": {},
   "outputs": [
    {
     "name": "stdout",
     "output_type": "stream",
     "text": [
      "Successfuly added these 1 dimensions: ['sponsors']\n",
      "Failed to add these 0 dimensions: []\n"
     ]
    },
    {
     "data": {
      "application/vnd.jupyter.widget-view+json": {
       "model_id": "52ce439ca1e44954b2b7416668afec97",
       "version_major": 2,
       "version_minor": 0
      },
      "text/plain": [
       "HBox(children=(IntProgress(value=0, max=5), HTML(value='')))"
      ]
     },
     "metadata": {},
     "output_type": "display_data"
    },
    {
     "name": "stdout",
     "output_type": "stream",
     "text": [
      "Syncing the temp table temp_cur_studies in 5 chunks x 500 records each\n",
      "\n",
      "Creating index on the temp table\n",
      " - Loading dimension participant_flows\n",
      " -- Loading raw data\n",
      " -- Sorting index\n",
      " - Loading dimension milestones\n",
      " -- Loading raw data\n",
      " -- Sorting index\n",
      " - Loading dimension sponsors\n",
      " -- Loading raw data\n",
      " -- Sorting index\n"
     ]
    }
   ],
   "source": [
    "# adding and loading dimensional data\n",
    "ss.add_dimensions(['sponsors'])\n",
    "ss.refresh_dim_data()"
   ]
  },
  {
   "cell_type": "code",
   "execution_count": 51,
   "metadata": {},
   "outputs": [
    {
     "data": {
      "text/html": [
       "<div>\n",
       "<style scoped>\n",
       "    .dataframe tbody tr th:only-of-type {\n",
       "        vertical-align: middle;\n",
       "    }\n",
       "\n",
       "    .dataframe tbody tr th {\n",
       "        vertical-align: top;\n",
       "    }\n",
       "\n",
       "    .dataframe thead th {\n",
       "        text-align: right;\n",
       "    }\n",
       "</style>\n",
       "<table border=\"1\" class=\"dataframe\">\n",
       "  <thead>\n",
       "    <tr style=\"text-align: right;\">\n",
       "      <th></th>\n",
       "      <th>id</th>\n",
       "      <th>agency_class</th>\n",
       "      <th>lead_or_collaborator</th>\n",
       "      <th>name</th>\n",
       "    </tr>\n",
       "    <tr>\n",
       "      <th>nct_id</th>\n",
       "      <th></th>\n",
       "      <th></th>\n",
       "      <th></th>\n",
       "      <th></th>\n",
       "    </tr>\n",
       "  </thead>\n",
       "  <tbody>\n",
       "    <tr>\n",
       "      <td>NCT00000371</td>\n",
       "      <td>2230942</td>\n",
       "      <td>Other</td>\n",
       "      <td>lead</td>\n",
       "      <td>Massachusetts General Hospital</td>\n",
       "    </tr>\n",
       "    <tr>\n",
       "      <td>NCT00000392</td>\n",
       "      <td>2230360</td>\n",
       "      <td>NIH</td>\n",
       "      <td>lead</td>\n",
       "      <td>National Institute of Mental Health (NIMH)</td>\n",
       "    </tr>\n",
       "    <tr>\n",
       "      <td>NCT00001596</td>\n",
       "      <td>2230537</td>\n",
       "      <td>NIH</td>\n",
       "      <td>collaborator</td>\n",
       "      <td>National Human Genome Research Institute (NHGRI)</td>\n",
       "    </tr>\n",
       "    <tr>\n",
       "      <td>NCT00001596</td>\n",
       "      <td>2230536</td>\n",
       "      <td>NIH</td>\n",
       "      <td>lead</td>\n",
       "      <td>William Gahl, M.D.</td>\n",
       "    </tr>\n",
       "    <tr>\n",
       "      <td>NCT00001723</td>\n",
       "      <td>2230467</td>\n",
       "      <td>Industry</td>\n",
       "      <td>collaborator</td>\n",
       "      <td>Roche Pharma AG</td>\n",
       "    </tr>\n",
       "    <tr>\n",
       "      <td>...</td>\n",
       "      <td>...</td>\n",
       "      <td>...</td>\n",
       "      <td>...</td>\n",
       "      <td>...</td>\n",
       "    </tr>\n",
       "    <tr>\n",
       "      <td>NCT03831451</td>\n",
       "      <td>1760582</td>\n",
       "      <td>Other</td>\n",
       "      <td>lead</td>\n",
       "      <td>University of Michigan</td>\n",
       "    </tr>\n",
       "    <tr>\n",
       "      <td>NCT04109703</td>\n",
       "      <td>1725661</td>\n",
       "      <td>Other</td>\n",
       "      <td>collaborator</td>\n",
       "      <td>Northern California Research Corporation</td>\n",
       "    </tr>\n",
       "    <tr>\n",
       "      <td>NCT04109703</td>\n",
       "      <td>1725662</td>\n",
       "      <td>Other</td>\n",
       "      <td>collaborator</td>\n",
       "      <td>University of Washington</td>\n",
       "    </tr>\n",
       "    <tr>\n",
       "      <td>NCT04109703</td>\n",
       "      <td>1725660</td>\n",
       "      <td>Industry</td>\n",
       "      <td>lead</td>\n",
       "      <td>Carewave Medical, Inc.</td>\n",
       "    </tr>\n",
       "    <tr>\n",
       "      <td>NCT04123665</td>\n",
       "      <td>2239579</td>\n",
       "      <td>Industry</td>\n",
       "      <td>lead</td>\n",
       "      <td>GlaxoSmithKline</td>\n",
       "    </tr>\n",
       "  </tbody>\n",
       "</table>\n",
       "<p>3154 rows × 4 columns</p>\n",
       "</div>"
      ],
      "text/plain": [
       "                  id agency_class lead_or_collaborator  \\\n",
       "nct_id                                                   \n",
       "NCT00000371  2230942        Other                 lead   \n",
       "NCT00000392  2230360          NIH                 lead   \n",
       "NCT00001596  2230537          NIH         collaborator   \n",
       "NCT00001596  2230536          NIH                 lead   \n",
       "NCT00001723  2230467     Industry         collaborator   \n",
       "...              ...          ...                  ...   \n",
       "NCT03831451  1760582        Other                 lead   \n",
       "NCT04109703  1725661        Other         collaborator   \n",
       "NCT04109703  1725662        Other         collaborator   \n",
       "NCT04109703  1725660     Industry                 lead   \n",
       "NCT04123665  2239579     Industry                 lead   \n",
       "\n",
       "                                                         name  \n",
       "nct_id                                                         \n",
       "NCT00000371                    Massachusetts General Hospital  \n",
       "NCT00000392        National Institute of Mental Health (NIMH)  \n",
       "NCT00001596  National Human Genome Research Institute (NHGRI)  \n",
       "NCT00001596                                William Gahl, M.D.  \n",
       "NCT00001723                                   Roche Pharma AG  \n",
       "...                                                       ...  \n",
       "NCT03831451                            University of Michigan  \n",
       "NCT04109703          Northern California Research Corporation  \n",
       "NCT04109703                          University of Washington  \n",
       "NCT04109703                            Carewave Medical, Inc.  \n",
       "NCT04123665                                   GlaxoSmithKline  \n",
       "\n",
       "[3154 rows x 4 columns]"
      ]
     },
     "execution_count": 51,
     "metadata": {},
     "output_type": "execute_result"
    }
   ],
   "source": [
    "sp = ss.dimensions['sponsors'].data\n",
    "sp"
   ]
  },
  {
   "cell_type": "code",
   "execution_count": 54,
   "metadata": {},
   "outputs": [],
   "source": [
    "sp_lead = sp[sp['lead_or_collaborator'] == 'lead']"
   ]
  },
  {
   "cell_type": "code",
   "execution_count": 60,
   "metadata": {},
   "outputs": [
    {
     "data": {
      "text/plain": [
       "agency_class\n",
       "Industry    0.402547\n",
       "NIH         0.012243\n",
       "Other       0.546523\n",
       "U.S. Fed    0.038688\n",
       "dtype: float64"
      ]
     },
     "execution_count": 60,
     "metadata": {},
     "output_type": "execute_result"
    }
   ],
   "source": [
    "sp_lead.groupby('agency_class').size() / sp_lead.groupby('agency_class').size().sum()"
   ]
  },
  {
   "cell_type": "code",
   "execution_count": 56,
   "metadata": {},
   "outputs": [],
   "source": [
    "# Industry\n",
    "sp_ind = sp_lead[sp_lead['agency_class'] == 'Industry']\n",
    "sp_oth = sp_lead[sp_lead['agency_class'] == 'Other']"
   ]
  },
  {
   "cell_type": "code",
   "execution_count": 58,
   "metadata": {},
   "outputs": [
    {
     "data": {
      "text/plain": [
       "name\n",
       "GlaxoSmithKline                            45\n",
       "Novartis Pharmaceuticals                   45\n",
       "Novo Nordisk A/S                           44\n",
       "Alcon Research                             37\n",
       "AstraZeneca                                28\n",
       "                                           ..\n",
       "Healthpoint                                 1\n",
       "Halyard Health                              1\n",
       "Pascoe Pharmazeutische Praeparate GmbH      1\n",
       "Philips Respironics                         1\n",
       "Johnson & Johnson Consumer Inc. (J&JCI)     1\n",
       "Length: 273, dtype: int64"
      ]
     },
     "execution_count": 58,
     "metadata": {},
     "output_type": "execute_result"
    }
   ],
   "source": [
    "sp_ind.groupby('name').size().sort_values(ascending=False)"
   ]
  },
  {
   "cell_type": "code",
   "execution_count": 59,
   "metadata": {},
   "outputs": [
    {
     "data": {
      "text/plain": [
       "name\n",
       "Massachusetts General Hospital    36\n",
       "Mayo Clinic                       32\n",
       "Duke University                   21\n",
       "Brigham and Women's Hospital      17\n",
       "University of Colorado, Denver    16\n",
       "                                  ..\n",
       "NxStage Medical                    1\n",
       "Ohio University                    1\n",
       "Oregon State University            1\n",
       "Oslo University Hospital           1\n",
       "AIDS Clinical Trials Group         1\n",
       "Length: 447, dtype: int64"
      ]
     },
     "execution_count": 59,
     "metadata": {},
     "output_type": "execute_result"
    }
   ],
   "source": [
    "sp_oth.groupby('name').size().sort_values(ascending=False)"
   ]
  },
  {
   "cell_type": "code",
   "execution_count": 71,
   "metadata": {},
   "outputs": [],
   "source": [
    "data = data.join(sp_lead[['agency_class', 'name']].add_prefix('sp_'))"
   ]
  },
  {
   "cell_type": "markdown",
   "metadata": {},
   "source": [
    "## Pivoting Imbalance Metrics"
   ]
  },
  {
   "cell_type": "code",
   "execution_count": 72,
   "metadata": {},
   "outputs": [
    {
     "data": {
      "text/html": [
       "<div>\n",
       "<style scoped>\n",
       "    .dataframe tbody tr th:only-of-type {\n",
       "        vertical-align: middle;\n",
       "    }\n",
       "\n",
       "    .dataframe tbody tr th {\n",
       "        vertical-align: top;\n",
       "    }\n",
       "\n",
       "    .dataframe thead th {\n",
       "        text-align: right;\n",
       "    }\n",
       "</style>\n",
       "<table border=\"1\" class=\"dataframe\">\n",
       "  <thead>\n",
       "    <tr style=\"text-align: right;\">\n",
       "      <th></th>\n",
       "      <th>g1m</th>\n",
       "      <th>g1f</th>\n",
       "      <th>g2m</th>\n",
       "      <th>g2f</th>\n",
       "      <th>g1_mean</th>\n",
       "      <th>g2_mean</th>\n",
       "      <th>num_parts1</th>\n",
       "      <th>num_parts2</th>\n",
       "      <th>num_measures1</th>\n",
       "      <th>num_measures2</th>\n",
       "      <th>...</th>\n",
       "      <th>g2t</th>\n",
       "      <th>g1_sd_sample</th>\n",
       "      <th>g2_sd_sample</th>\n",
       "      <th>imbal</th>\n",
       "      <th>effect</th>\n",
       "      <th>phase</th>\n",
       "      <th>totp</th>\n",
       "      <th>relative_imbalance</th>\n",
       "      <th>sp_agency_class</th>\n",
       "      <th>sp_name</th>\n",
       "    </tr>\n",
       "  </thead>\n",
       "  <tbody>\n",
       "    <tr>\n",
       "      <td>NCT00114127</td>\n",
       "      <td>6.0</td>\n",
       "      <td>7.0</td>\n",
       "      <td>11.0</td>\n",
       "      <td>4.0</td>\n",
       "      <td>67.900</td>\n",
       "      <td>53.7000</td>\n",
       "      <td>13</td>\n",
       "      <td>15</td>\n",
       "      <td>13</td>\n",
       "      <td>15</td>\n",
       "      <td>...</td>\n",
       "      <td>15.0</td>\n",
       "      <td>27.402190</td>\n",
       "      <td>30.596568</td>\n",
       "      <td>0.271795</td>\n",
       "      <td>0.140169</td>\n",
       "      <td>Phase 3</td>\n",
       "      <td>28.0</td>\n",
       "      <td>0.588889</td>\n",
       "      <td>Other</td>\n",
       "      <td>Massachusetts General Hospital</td>\n",
       "    </tr>\n",
       "    <tr>\n",
       "      <td>NCT00180479</td>\n",
       "      <td>469.0</td>\n",
       "      <td>200.0</td>\n",
       "      <td>218.0</td>\n",
       "      <td>114.0</td>\n",
       "      <td>0.140</td>\n",
       "      <td>0.2800</td>\n",
       "      <td>301</td>\n",
       "      <td>134</td>\n",
       "      <td>301</td>\n",
       "      <td>134</td>\n",
       "      <td>...</td>\n",
       "      <td>332.0</td>\n",
       "      <td>0.410000</td>\n",
       "      <td>0.480000</td>\n",
       "      <td>0.044420</td>\n",
       "      <td>0.019668</td>\n",
       "      <td>Phase 3</td>\n",
       "      <td>1001.0</td>\n",
       "      <td>0.067649</td>\n",
       "      <td>Industry</td>\n",
       "      <td>Abbott Medical Devices</td>\n",
       "    </tr>\n",
       "    <tr>\n",
       "      <td>NCT00405275</td>\n",
       "      <td>101.0</td>\n",
       "      <td>77.0</td>\n",
       "      <td>89.0</td>\n",
       "      <td>85.0</td>\n",
       "      <td>-2.120</td>\n",
       "      <td>-2.2900</td>\n",
       "      <td>154</td>\n",
       "      <td>155</td>\n",
       "      <td>154</td>\n",
       "      <td>155</td>\n",
       "      <td>...</td>\n",
       "      <td>174.0</td>\n",
       "      <td>1.280000</td>\n",
       "      <td>1.300000</td>\n",
       "      <td>0.055921</td>\n",
       "      <td>0.010684</td>\n",
       "      <td>N/A</td>\n",
       "      <td>352.0</td>\n",
       "      <td>0.109330</td>\n",
       "      <td>U.S. Fed</td>\n",
       "      <td>US Department of Veterans Affairs</td>\n",
       "    </tr>\n",
       "    <tr>\n",
       "      <td>NCT00446654</td>\n",
       "      <td>8.0</td>\n",
       "      <td>12.0</td>\n",
       "      <td>6.0</td>\n",
       "      <td>12.0</td>\n",
       "      <td>-0.010</td>\n",
       "      <td>0.0800</td>\n",
       "      <td>21</td>\n",
       "      <td>21</td>\n",
       "      <td>21</td>\n",
       "      <td>21</td>\n",
       "      <td>...</td>\n",
       "      <td>18.0</td>\n",
       "      <td>0.210000</td>\n",
       "      <td>0.250000</td>\n",
       "      <td>0.066667</td>\n",
       "      <td>0.091983</td>\n",
       "      <td>Phase 1</td>\n",
       "      <td>38.0</td>\n",
       "      <td>0.200000</td>\n",
       "      <td>Industry</td>\n",
       "      <td>Progen Pharmaceuticals</td>\n",
       "    </tr>\n",
       "    <tr>\n",
       "      <td>NCT00728754</td>\n",
       "      <td>15.0</td>\n",
       "      <td>14.0</td>\n",
       "      <td>17.0</td>\n",
       "      <td>15.0</td>\n",
       "      <td>-0.744</td>\n",
       "      <td>-0.8445</td>\n",
       "      <td>24</td>\n",
       "      <td>28</td>\n",
       "      <td>65</td>\n",
       "      <td>68</td>\n",
       "      <td>...</td>\n",
       "      <td>32.0</td>\n",
       "      <td>1.516511</td>\n",
       "      <td>1.186630</td>\n",
       "      <td>0.014009</td>\n",
       "      <td>0.008200</td>\n",
       "      <td>N/A</td>\n",
       "      <td>61.0</td>\n",
       "      <td>0.027083</td>\n",
       "      <td>Industry</td>\n",
       "      <td>Zimmer Biomet</td>\n",
       "    </tr>\n",
       "  </tbody>\n",
       "</table>\n",
       "<p>5 rows × 21 columns</p>\n",
       "</div>"
      ],
      "text/plain": [
       "               g1m    g1f    g2m    g2f  g1_mean  g2_mean  num_parts1  \\\n",
       "NCT00114127    6.0    7.0   11.0    4.0   67.900  53.7000          13   \n",
       "NCT00180479  469.0  200.0  218.0  114.0    0.140   0.2800         301   \n",
       "NCT00405275  101.0   77.0   89.0   85.0   -2.120  -2.2900         154   \n",
       "NCT00446654    8.0   12.0    6.0   12.0   -0.010   0.0800          21   \n",
       "NCT00728754   15.0   14.0   17.0   15.0   -0.744  -0.8445          24   \n",
       "\n",
       "             num_parts2  num_measures1  num_measures2  ...    g2t  \\\n",
       "NCT00114127          15             13             15  ...   15.0   \n",
       "NCT00180479         134            301            134  ...  332.0   \n",
       "NCT00405275         155            154            155  ...  174.0   \n",
       "NCT00446654          21             21             21  ...   18.0   \n",
       "NCT00728754          28             65             68  ...   32.0   \n",
       "\n",
       "             g1_sd_sample  g2_sd_sample     imbal    effect    phase    totp  \\\n",
       "NCT00114127     27.402190     30.596568  0.271795  0.140169  Phase 3    28.0   \n",
       "NCT00180479      0.410000      0.480000  0.044420  0.019668  Phase 3  1001.0   \n",
       "NCT00405275      1.280000      1.300000  0.055921  0.010684      N/A   352.0   \n",
       "NCT00446654      0.210000      0.250000  0.066667  0.091983  Phase 1    38.0   \n",
       "NCT00728754      1.516511      1.186630  0.014009  0.008200      N/A    61.0   \n",
       "\n",
       "             relative_imbalance  sp_agency_class  \\\n",
       "NCT00114127            0.588889            Other   \n",
       "NCT00180479            0.067649         Industry   \n",
       "NCT00405275            0.109330         U.S. Fed   \n",
       "NCT00446654            0.200000         Industry   \n",
       "NCT00728754            0.027083         Industry   \n",
       "\n",
       "                                       sp_name  \n",
       "NCT00114127     Massachusetts General Hospital  \n",
       "NCT00180479             Abbott Medical Devices  \n",
       "NCT00405275  US Department of Veterans Affairs  \n",
       "NCT00446654             Progen Pharmaceuticals  \n",
       "NCT00728754                      Zimmer Biomet  \n",
       "\n",
       "[5 rows x 21 columns]"
      ]
     },
     "execution_count": 72,
     "metadata": {},
     "output_type": "execute_result"
    }
   ],
   "source": [
    "# relative imbalance\n",
    "def relative_imbalance(x):\n",
    "    g1m, g1t, g2m, g2t = x\n",
    "    s1, s2 = g1m/g1t, g2m/g2t\n",
    "    return max(s1, s2)/min(s1, s2) -1\n",
    "\n",
    "data['relative_imbalance'] = data[['g1m', 'g1t', 'g2m', 'g2t']].apply(\n",
    "    relative_imbalance, axis=1\n",
    ")\n",
    "data.head()"
   ]
  },
  {
   "cell_type": "markdown",
   "metadata": {},
   "source": [
    "### imbalance by agency class = Industry"
   ]
  },
  {
   "cell_type": "code",
   "execution_count": 75,
   "metadata": {},
   "outputs": [
    {
     "data": {
      "text/plain": [
       "count    822.000000\n",
       "mean       0.064316\n",
       "std        0.062978\n",
       "min        0.000000\n",
       "25%        0.020873\n",
       "50%        0.046488\n",
       "75%        0.088106\n",
       "max        0.439408\n",
       "Name: imbal, dtype: float64"
      ]
     },
     "execution_count": 75,
     "metadata": {},
     "output_type": "execute_result"
    }
   ],
   "source": [
    "data[data['sp_agency_class'] == 'Industry']['imbal'].describe()"
   ]
  },
  {
   "cell_type": "code",
   "execution_count": 76,
   "metadata": {},
   "outputs": [
    {
     "data": {
      "text/plain": [
       "count    822.000000\n",
       "mean       0.193564\n",
       "std        0.301672\n",
       "min        0.000000\n",
       "25%        0.041715\n",
       "50%        0.105263\n",
       "75%        0.227745\n",
       "max        3.860465\n",
       "Name: relative_imbalance, dtype: float64"
      ]
     },
     "execution_count": 76,
     "metadata": {},
     "output_type": "execute_result"
    }
   ],
   "source": [
    "data[data['sp_agency_class'] == 'Industry']['relative_imbalance'].describe()"
   ]
  },
  {
   "cell_type": "markdown",
   "metadata": {},
   "source": [
    "### Agency Class = Other"
   ]
  },
  {
   "cell_type": "code",
   "execution_count": 77,
   "metadata": {},
   "outputs": [
    {
     "data": {
      "text/plain": [
       "count    1116.000000\n",
       "mean        0.084752\n",
       "std         0.080248\n",
       "min         0.000000\n",
       "25%         0.026975\n",
       "50%         0.062500\n",
       "75%         0.120000\n",
       "max         0.576190\n",
       "Name: imbal, dtype: float64"
      ]
     },
     "execution_count": 77,
     "metadata": {},
     "output_type": "execute_result"
    }
   ],
   "source": [
    "data[data['sp_agency_class'] == 'Other']['imbal'].describe()"
   ]
  },
  {
   "cell_type": "code",
   "execution_count": 78,
   "metadata": {},
   "outputs": [
    {
     "data": {
      "text/plain": [
       "count    1116.000000\n",
       "mean        0.276243\n",
       "std         0.464226\n",
       "min         0.000000\n",
       "25%         0.053102\n",
       "50%         0.133333\n",
       "75%         0.305073\n",
       "max         8.000000\n",
       "Name: relative_imbalance, dtype: float64"
      ]
     },
     "execution_count": 78,
     "metadata": {},
     "output_type": "execute_result"
    }
   ],
   "source": [
    "data[data['sp_agency_class'] == 'Other']['relative_imbalance'].describe()"
   ]
  },
  {
   "cell_type": "markdown",
   "metadata": {},
   "source": [
    "### Phase"
   ]
  },
  {
   "cell_type": "code",
   "execution_count": 80,
   "metadata": {},
   "outputs": [
    {
     "data": {
      "text/plain": [
       "array(['Phase 3', 'N/A', 'Phase 1', 'Phase 2', 'Phase 2/Phase 3',\n",
       "       'Phase 4', 'Phase 1/Phase 2', 'Early Phase 1'], dtype=object)"
      ]
     },
     "execution_count": 80,
     "metadata": {},
     "output_type": "execute_result"
    }
   ],
   "source": [
    "data['phase'].unique()"
   ]
  },
  {
   "cell_type": "code",
   "execution_count": 82,
   "metadata": {},
   "outputs": [
    {
     "data": {
      "text/plain": [
       "count    332.000000\n",
       "mean       0.246867\n",
       "std        0.351698\n",
       "min        0.000000\n",
       "25%        0.047209\n",
       "50%        0.121941\n",
       "75%        0.287233\n",
       "max        2.304348\n",
       "Name: relative_imbalance, dtype: float64"
      ]
     },
     "execution_count": 82,
     "metadata": {},
     "output_type": "execute_result"
    }
   ],
   "source": [
    "data[data['phase'].isin(['Phase 2', 'Phase 1/Phase 2'])]['relative_imbalance'].describe()"
   ]
  },
  {
   "cell_type": "code",
   "execution_count": 84,
   "metadata": {},
   "outputs": [
    {
     "data": {
      "text/plain": [
       "count    422.000000\n",
       "mean       0.173255\n",
       "std        0.262841\n",
       "min        0.000000\n",
       "25%        0.040581\n",
       "50%        0.106017\n",
       "75%        0.206888\n",
       "max        3.000000\n",
       "Name: relative_imbalance, dtype: float64"
      ]
     },
     "execution_count": 84,
     "metadata": {},
     "output_type": "execute_result"
    }
   ],
   "source": [
    "data[data['phase'].isin(['Phase 3'])]['relative_imbalance'].describe()"
   ]
  },
  {
   "cell_type": "code",
   "execution_count": 85,
   "metadata": {},
   "outputs": [],
   "source": [
    "data.to_pickle('with_add_data.p')"
   ]
  },
  {
   "cell_type": "code",
   "execution_count": null,
   "metadata": {},
   "outputs": [],
   "source": []
  }
 ],
 "metadata": {
  "kernelspec": {
   "display_name": "Python 3",
   "language": "python",
   "name": "python3"
  },
  "language_info": {
   "codemirror_mode": {
    "name": "ipython",
    "version": 3
   },
   "file_extension": ".py",
   "mimetype": "text/x-python",
   "name": "python",
   "nbconvert_exporter": "python",
   "pygments_lexer": "ipython3",
   "version": "3.6.9"
  }
 },
 "nbformat": 4,
 "nbformat_minor": 2
}
