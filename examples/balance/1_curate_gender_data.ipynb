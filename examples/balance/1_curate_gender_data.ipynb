{
 "cells": [
  {
   "cell_type": "code",
   "execution_count": 1,
   "metadata": {},
   "outputs": [],
   "source": [
    "import sys\n",
    "if \"../../\" not in sys.path:\n",
    "    sys.path.append(\"../../\")"
   ]
  },
  {
   "cell_type": "code",
   "execution_count": 2,
   "metadata": {},
   "outputs": [],
   "source": [
    "import pandas as pd\n",
    "import numpy as np\n",
    "import scipy.stats as stats\n",
    "from importlib import reload\n",
    "from tqdm import tqdm_notebook as tqdm\n",
    "from fuzzywuzzy import fuzz\n",
    "import time\n",
    "\n",
    "import pdaactconn as pc\n",
    "from trialexplorer import AACTStudySet\n",
    "\n",
    "import matplotlib.pyplot as plt\n",
    "%matplotlib inline"
   ]
  },
  {
   "cell_type": "code",
   "execution_count": 4,
   "metadata": {},
   "outputs": [
    {
     "name": "stdout",
     "output_type": "stream",
     "text": [
      "266207 studies loaded!\n"
     ]
    }
   ],
   "source": [
    "# loading all interventional studies\n",
    "conn = pc.AACTConnection(source=pc.AACTConnection.REMOTE)\n",
    "ss = AACTStudySet.AACTStudySet(conn=conn, \n",
    "                               tqdm_handler=tqdm)\n",
    "ss.add_constraint(\"study_type = 'Interventional'\")\n",
    "ss.load_studies()"
   ]
  },
  {
   "cell_type": "code",
   "execution_count": 5,
   "metadata": {},
   "outputs": [
    {
     "name": "stdout",
     "output_type": "stream",
     "text": [
      "Successfuly added these 6 dimensions: ['baseline_measurements', 'result_groups', 'eligibilities', 'outcomes', 'outcome_counts', 'outcome_measurements']\n",
      "Failed to add these 0 dimensions: []\n"
     ]
    },
    {
     "data": {
      "application/vnd.jupyter.widget-view+json": {
       "model_id": "3bbb30b50c7f4882bfd18acfe27f1ec2",
       "version_major": 2,
       "version_minor": 0
      },
      "text/plain": [
       "HBox(children=(IntProgress(value=0, max=533), HTML(value='')))"
      ]
     },
     "metadata": {},
     "output_type": "display_data"
    },
    {
     "name": "stdout",
     "output_type": "stream",
     "text": [
      "Syncing the temp table temp_cur_studies in 533 chunks x 500 records each\n",
      "\n",
      "Creating index on the temp table\n",
      " - Loading dimension baseline_measurements\n",
      " -- Loading raw data\n",
      " -- Sorting index\n",
      " - Loading dimension result_groups\n",
      " -- Loading raw data\n",
      " -- Sorting index\n",
      " - Loading dimension eligibilities\n",
      " -- Loading raw data\n",
      " -- Sorting index\n",
      " - Loading dimension outcomes\n",
      " -- Loading raw data\n",
      " -- Sorting index\n",
      " - Loading dimension outcome_counts\n",
      " -- Loading raw data\n",
      " -- Sorting index\n",
      " - Loading dimension outcome_measurements\n",
      " -- Loading raw data\n",
      " -- Sorting index\n"
     ]
    }
   ],
   "source": [
    "# adding and loading dimensional data\n",
    "ss.add_dimensions(['baseline_measurements',\n",
    "                   'result_groups',\n",
    "                   'eligibilities',\n",
    "                   'outcomes',\n",
    "                   'outcome_counts',\n",
    "                   'outcome_measurements'])\n",
    "ss.refresh_dim_data()"
   ]
  },
  {
   "cell_type": "code",
   "execution_count": 6,
   "metadata": {},
   "outputs": [
    {
     "data": {
      "text/plain": [
       "266207"
      ]
     },
     "execution_count": 6,
     "metadata": {},
     "output_type": "execute_result"
    }
   ],
   "source": [
    "num_all = ss.studies.shape[0]\n",
    "num_all"
   ]
  },
  {
   "cell_type": "markdown",
   "metadata": {},
   "source": [
    "The total number of studies is 258k"
   ]
  },
  {
   "cell_type": "code",
   "execution_count": 6,
   "metadata": {},
   "outputs": [],
   "source": [
    "# setting all the dimensional data to variables\n",
    "bm = ss.dimensions['baseline_measurements'].data\n",
    "rg = ss.dimensions['result_groups'].data\n",
    "el = ss.dimensions['eligibilities'].data\n",
    "out = ss.dimensions['outcomes'].data\n",
    "oc = ss.dimensions['outcome_counts'].data\n",
    "om = ss.dimensions['outcome_measurements'].data\n"
   ]
  },
  {
   "cell_type": "code",
   "execution_count": 9,
   "metadata": {},
   "outputs": [
    {
     "data": {
      "text/plain": [
       "(38564, 0.14884575451489268)"
      ]
     },
     "execution_count": 9,
     "metadata": {},
     "output_type": "execute_result"
    }
   ],
   "source": [
    "bm_all = bm.index.get_level_values(0).unique().shape[0]\n",
    "bm_all, bm_all / num_all"
   ]
  },
  {
   "cell_type": "markdown",
   "metadata": {},
   "source": [
    "only 38k studies have baseline measurements, which represents 15% of the total number of studies"
   ]
  },
  {
   "cell_type": "markdown",
   "metadata": {},
   "source": [
    "## Looking in the \"classification\" field of baseline measurements"
   ]
  },
  {
   "cell_type": "code",
   "execution_count": 10,
   "metadata": {},
   "outputs": [
    {
     "data": {
      "text/plain": [
       "classification\n",
       "Female                                 1872\n",
       "Male                                   1854\n",
       "Female of Childbearing Potential        113\n",
       "Females                                  57\n",
       "Males                                    40\n",
       "N/A (Subject is Male)                    30\n",
       "Female of childbearing potential         30\n",
       "Females of Child-bearing Potential       26\n",
       "Sterilized Females                       26\n",
       "Males (Excluded from this analysis)      26\n",
       "dtype: int64"
      ]
     },
     "execution_count": 10,
     "metadata": {},
     "output_type": "execute_result"
    }
   ],
   "source": [
    "possible_classes = [x for x in bm['classification'].unique() if 'male' in x.lower()]\n",
    "dfc = bm[bm['classification'].isin(possible_classes)]\n",
    "dfc.groupby('classification').size().sort_values(ascending=False)[:10]"
   ]
  },
  {
   "cell_type": "markdown",
   "metadata": {},
   "source": [
    "looks like if we just used Female, Male and their plurals we can cover most of the cases"
   ]
  },
  {
   "cell_type": "code",
   "execution_count": 11,
   "metadata": {},
   "outputs": [
    {
     "name": "stdout",
     "output_type": "stream",
     "text": [
      "Found these classes in the 'classification' field that matched used_classes: \n",
      "['Male' 'Female' 'male' 'Males' 'Females' 'female' 'FEMALE' 'MALE'\n",
      " 'females' 'males']\n",
      "\n",
      "This applies to 682 studies, or 1.8% of the those that report baseline measurements \n"
     ]
    }
   ],
   "source": [
    "used_classes = ['female', 'male', 'females', 'males']\n",
    "used_df_class = dfc[dfc['classification'].apply(lambda x: x.lower()).isin(used_classes)].copy()\n",
    "selected_classes = used_df_class['classification'].unique()\n",
    "print(\"Found these classes in the 'classification' field that matched used_classes: \\n%s\\n\" % selected_classes)\n",
    "\n",
    "res_studies_dfc = used_df_class.index.get_level_values(0).unique().shape[0]\n",
    "print(\"This applies to %s studies, or %.1f%% of the those that report baseline measurements \" %\n",
    "      (res_studies_dfc, res_studies_dfc / bm_all * 100))"
   ]
  },
  {
   "cell_type": "markdown",
   "metadata": {},
   "source": [
    "## Looking in the \"category\" field of baseline measurements"
   ]
  },
  {
   "cell_type": "code",
   "execution_count": 12,
   "metadata": {},
   "outputs": [
    {
     "data": {
      "text/plain": [
       "category\n",
       "Male                                108795\n",
       "Female                              108777\n",
       "FEMALE                                  68\n",
       "MALE                                    68\n",
       "Female of childbearing potential        18\n",
       "Female of Childbearing Potential         8\n",
       "Participant is a male                    5\n",
       "Not Applicable (Male)                    5\n",
       "Male ≥8                                  4\n",
       "Female <4                                4\n",
       "dtype: int64"
      ]
     },
     "execution_count": 12,
     "metadata": {},
     "output_type": "execute_result"
    }
   ],
   "source": [
    "possible_class_cat = [x for x in bm['category'].unique() if 'male' in x.lower()]\n",
    "dfcat = bm[bm['category'].isin(possible_class_cat)]\n",
    "dfcat.groupby('category').size().sort_values(ascending=False)[:10]"
   ]
  },
  {
   "cell_type": "markdown",
   "metadata": {},
   "source": [
    "if can use male and female, in any caps"
   ]
  },
  {
   "cell_type": "code",
   "execution_count": 13,
   "metadata": {},
   "outputs": [
    {
     "name": "stdout",
     "output_type": "stream",
     "text": [
      "Found these categories in the 'category' field that matched used_cats: \n",
      "['Male' 'Female' 'male' 'female' 'MALE' 'FEMALE']\n",
      "\n",
      "This applies to 37737 studies, or 97.9% of the those that report baseline measurements \n"
     ]
    }
   ],
   "source": [
    "used_cats = ['male', 'female']\n",
    "used_df_cat = bm[bm['category'].apply(lambda x: x.lower()).isin(used_cats)].copy()\n",
    "selected_cats = used_df_cat['category'].unique()\n",
    "print(\"Found these categories in the 'category' field that matched used_cats: \\n%s\\n\" % selected_cats)\n",
    "\n",
    "res_studies_dfcat = used_df_cat.index.get_level_values(0).unique().shape[0]\n",
    "print(\"This applies to %s studies, or %.1f%% of the those that report baseline measurements \" %\n",
    "      (res_studies_dfcat, res_studies_dfcat / bm_all * 100))"
   ]
  },
  {
   "cell_type": "markdown",
   "metadata": {},
   "source": [
    "### We will transform the classfication and category raw fields into just 2 boolean fields:\n",
    "- is_male_class\n",
    "- is_male_cat"
   ]
  },
  {
   "cell_type": "code",
   "execution_count": 14,
   "metadata": {},
   "outputs": [
    {
     "data": {
      "text/plain": [
       "array(['Male', 'Female', 'male', 'Males', 'Females', 'female', 'FEMALE',\n",
       "       'MALE', 'females', 'males'], dtype=object)"
      ]
     },
     "execution_count": 14,
     "metadata": {},
     "output_type": "execute_result"
    }
   ],
   "source": [
    "used_df_class['classification'].unique()"
   ]
  },
  {
   "cell_type": "code",
   "execution_count": 15,
   "metadata": {},
   "outputs": [],
   "source": [
    "used_df_class['is_male_class'] = used_df_class['classification'].apply(lambda x: \n",
    "                                                                       False if 'female' in x.lower() \n",
    "                                                                       else True)"
   ]
  },
  {
   "cell_type": "code",
   "execution_count": 16,
   "metadata": {
    "scrolled": true
   },
   "outputs": [
    {
     "data": {
      "text/plain": [
       "array(['Male', 'Female', 'male', 'female', 'MALE', 'FEMALE'], dtype=object)"
      ]
     },
     "execution_count": 16,
     "metadata": {},
     "output_type": "execute_result"
    }
   ],
   "source": [
    "used_df_cat['category'].unique()"
   ]
  },
  {
   "cell_type": "code",
   "execution_count": 17,
   "metadata": {},
   "outputs": [],
   "source": [
    "used_df_cat['is_male_cat'] = used_df_cat['category'].apply(lambda x: \n",
    "                                                           False if 'female' in x.lower() \n",
    "                                                           else True)"
   ]
  },
  {
   "cell_type": "markdown",
   "metadata": {},
   "source": [
    "#### This seems a majority of our studies, is there overlap between identifying gender using classification vs using category?"
   ]
  },
  {
   "cell_type": "markdown",
   "metadata": {},
   "source": [
    "### Let's analyse their intersections"
   ]
  },
  {
   "cell_type": "code",
   "execution_count": 18,
   "metadata": {},
   "outputs": [
    {
     "data": {
      "text/plain": [
       "is_male_class  category                           \n",
       "False                                                 1943\n",
       "               Female                                    4\n",
       "               MGI less than or equal to [<=] 2.00       3\n",
       "               MGI more than [>] 2.00                    3\n",
       "               Male                                      4\n",
       "True                                                  1906\n",
       "               <=18 years                                4\n",
       "               >=65 years                                4\n",
       "               Between 18 and 65 years                   4\n",
       "               MGI less than or equal to [<=] 2.00       3\n",
       "               MGI more than [>] 2.00                    3\n",
       "               Male                                      3\n",
       "               Transfemale                               3\n",
       "dtype: int64"
      ]
     },
     "execution_count": 18,
     "metadata": {},
     "output_type": "execute_result"
    }
   ],
   "source": [
    "used_df_class.groupby(['is_male_class', 'category']).size()"
   ]
  },
  {
   "cell_type": "code",
   "execution_count": 19,
   "metadata": {},
   "outputs": [
    {
     "data": {
      "text/plain": [
       "is_male_cat  classification             \n",
       "True                                        108290\n",
       "False                                       108278\n",
       "             Sex                                33\n",
       "True         Sex                                33\n",
       "             Part 2                             30\n",
       "False        Part 2                             30\n",
       "True         Gender                             28\n",
       "False        Gender                             28\n",
       "             Part A                             17\n",
       "True         Part A                             17\n",
       "             Part 1                             16\n",
       "False        Part 1                             16\n",
       "True         Part 1b                            13\n",
       "             Part 1a                            13\n",
       "False        Part 1b                            13\n",
       "             Part 1a                            13\n",
       "True         Part B                             11\n",
       "False        Part B                             11\n",
       "             All patients and clinicians        10\n",
       "True         All patients and clinicians        10\n",
       "dtype: int64"
      ]
     },
     "execution_count": 19,
     "metadata": {},
     "output_type": "execute_result"
    }
   ],
   "source": [
    "used_df_cat.groupby(['is_male_cat', 'classification']).size().sort_values(ascending=False)[:20]"
   ]
  },
  {
   "cell_type": "markdown",
   "metadata": {},
   "source": [
    "### we wouldn't miss much if we required: \n",
    "- the category be \"\" for records from used_df_class\n",
    "- the classification be \"\" for record from used_df_cat"
   ]
  },
  {
   "cell_type": "code",
   "execution_count": 20,
   "metadata": {},
   "outputs": [
    {
     "name": "stdout",
     "output_type": "stream",
     "text": [
      "(3887, 17)\n",
      "(3849, 17)\n"
     ]
    }
   ],
   "source": [
    "print(used_df_class.shape)\n",
    "df_class_no_collide = used_df_class[used_df_class['category'] == \"\"]\n",
    "print(df_class_no_collide.shape)"
   ]
  },
  {
   "cell_type": "code",
   "execution_count": 21,
   "metadata": {},
   "outputs": [
    {
     "name": "stdout",
     "output_type": "stream",
     "text": [
      "(217714, 17)\n",
      "(216568, 17)\n"
     ]
    }
   ],
   "source": [
    "print(used_df_cat.shape)\n",
    "df_cat_no_collide = used_df_cat[used_df_cat['classification'] == \"\"]\n",
    "print(df_cat_no_collide.shape)"
   ]
  },
  {
   "cell_type": "code",
   "execution_count": 22,
   "metadata": {},
   "outputs": [
    {
     "name": "stdout",
     "output_type": "stream",
     "text": [
      "Combined, we have gender for 38275 studies, or 99.3% of the those that report baseline measurements \n"
     ]
    }
   ],
   "source": [
    "i1 = df_class_no_collide.index.get_level_values(0).unique()\n",
    "i2 = df_cat_no_collide.index.get_level_values(0).unique()\n",
    "\n",
    "i1_overlap = [x for x in i1 if x in i2]\n",
    "tot_uniq = len(i1) + len(i2) - len(i1_overlap)\n",
    "print(\"Combined, we have gender for %s studies, or %.1f%% of the those that report baseline measurements \" %\n",
    "      (tot_uniq, tot_uniq / bm_all * 100))"
   ]
  },
  {
   "cell_type": "markdown",
   "metadata": {},
   "source": [
    "### Pretty good!"
   ]
  },
  {
   "cell_type": "markdown",
   "metadata": {},
   "source": [
    "### Some examples:\n",
    "- gender in \"category\"\n",
    "    - https://clinicaltrials.gov/ct2/show/results/NCT00000125\n",
    "- gender in \"classification\"\n",
    "    - https://clinicaltrials.gov/ct2/show/results/NCT00001213"
   ]
  },
  {
   "cell_type": "markdown",
   "metadata": {},
   "source": [
    "### Only some studies are eligible since they are designed to capture both genders"
   ]
  },
  {
   "cell_type": "code",
   "execution_count": 26,
   "metadata": {},
   "outputs": [
    {
     "data": {
      "text/plain": [
       "220406"
      ]
     },
     "execution_count": 26,
     "metadata": {},
     "output_type": "execute_result"
    }
   ],
   "source": [
    "# note that el is unique on its index of nct_id\n",
    "df_all_gender_idx = el[el['gender'] == 'All'][[]]\n",
    "len(df_all_gender_idx)"
   ]
  },
  {
   "cell_type": "code",
   "execution_count": 27,
   "metadata": {},
   "outputs": [],
   "source": [
    "df_class_final = df_class_no_collide.loc[df_all_gender_idx.index]\n",
    "df_cat_final = df_cat_no_collide.loc[df_all_gender_idx.index]"
   ]
  },
  {
   "cell_type": "code",
   "execution_count": 28,
   "metadata": {},
   "outputs": [
    {
     "name": "stdout",
     "output_type": "stream",
     "text": [
      "After excluding single gender studies, we have gender data for 33439 studies, or 86.7% of the those that report baseline measurements \n"
     ]
    }
   ],
   "source": [
    "# how do our counts go after we've excluded studies that are uni-gendered?\n",
    "i1 = df_class_final.index.get_level_values(0).unique()\n",
    "i2 = df_cat_final.index.get_level_values(0).unique()\n",
    "\n",
    "i1_overlap = [x for x in i1 if x in i2]\n",
    "tot_uniq = len(i1) + len(i2) - len(i1_overlap)\n",
    "print(\"After excluding single gender studies, we have gender data for %s studies, or %.1f%% of the those that report baseline measurements \" %\n",
    "      (tot_uniq, tot_uniq / bm_all * 100))"
   ]
  },
  {
   "cell_type": "markdown",
   "metadata": {},
   "source": [
    "## Joining the dataframes and making 1 is_male column"
   ]
  },
  {
   "cell_type": "code",
   "execution_count": 29,
   "metadata": {},
   "outputs": [
    {
     "data": {
      "text/plain": [
       "(193410, 18)"
      ]
     },
     "execution_count": 29,
     "metadata": {},
     "output_type": "execute_result"
    }
   ],
   "source": [
    "used_df_both = pd.concat([df_class_final, df_cat_final], sort=False)\n",
    "used_df_both.shape"
   ]
  },
  {
   "cell_type": "code",
   "execution_count": 30,
   "metadata": {},
   "outputs": [],
   "source": [
    "def is_male(row):\n",
    "    cur_class = row['classification']\n",
    "    cur_cat = row['category']\n",
    "    if 'female' in cur_class.lower() or 'female' in cur_cat.lower():\n",
    "        return False\n",
    "    return True\n",
    "\n",
    "used_df_both['is_male'] = used_df_both.apply(is_male, axis=1)"
   ]
  },
  {
   "cell_type": "code",
   "execution_count": 31,
   "metadata": {},
   "outputs": [
    {
     "data": {
      "text/plain": [
       "33439"
      ]
     },
     "execution_count": 31,
     "metadata": {},
     "output_type": "execute_result"
    }
   ],
   "source": [
    "len(used_df_both.index.get_level_values(0).unique())"
   ]
  },
  {
   "cell_type": "markdown",
   "metadata": {},
   "source": [
    "### Only some param_types / unit combinations are valid for our purposes to count the number of people:\n",
    "- param_type = Count of Participants\n",
    "- param_type = Number"
   ]
  },
  {
   "cell_type": "code",
   "execution_count": 32,
   "metadata": {},
   "outputs": [
    {
     "data": {
      "text/plain": [
       "param_type\n",
       "                             31\n",
       "Count of Participants    190542\n",
       "Count of Units              123\n",
       "Mean                         74\n",
       "Median                        6\n",
       "Number                     2634\n",
       "dtype: int64"
      ]
     },
     "execution_count": 32,
     "metadata": {},
     "output_type": "execute_result"
    }
   ],
   "source": [
    "used_df_both.groupby('param_type').size()"
   ]
  },
  {
   "cell_type": "code",
   "execution_count": 33,
   "metadata": {},
   "outputs": [
    {
     "data": {
      "text/plain": [
       "array(['Participants'], dtype=object)"
      ]
     },
     "execution_count": 33,
     "metadata": {},
     "output_type": "execute_result"
    }
   ],
   "source": [
    "used_df_both[used_df_both['param_type'] == 'Count of Participants']['units'].unique()"
   ]
  },
  {
   "cell_type": "code",
   "execution_count": 34,
   "metadata": {},
   "outputs": [
    {
     "data": {
      "text/plain": [
       "array(['participants', 'Participants', 'participants in follow up study',\n",
       "       'percent', 'Patients', 'Number', 'Subjects', 'Participant',\n",
       "       'participant', 'hips', 'infants', 'percentage of participants',\n",
       "       'subjects', 'partipants', 'participants with data available',\n",
       "       'Paricipants', 'eyes', 'male/female', 'Percentage of participants',\n",
       "       'blood samples', 'Count of participants', 'patients'], dtype=object)"
      ]
     },
     "execution_count": 34,
     "metadata": {},
     "output_type": "execute_result"
    }
   ],
   "source": [
    "used_df_both[used_df_both['param_type'] == 'Number']['units'].unique()"
   ]
  },
  {
   "cell_type": "code",
   "execution_count": 35,
   "metadata": {},
   "outputs": [
    {
     "data": {
      "text/plain": [
       "33400"
      ]
     },
     "execution_count": 35,
     "metadata": {},
     "output_type": "execute_result"
    }
   ],
   "source": [
    "# keep only those param_types and no \"percent\" units\n",
    "used_df_both = used_df_both[(used_df_both['param_type'].isin(['Count of Participants','Number'])) &\n",
    "                            (used_df_both['units'].apply(lambda x: False if 'percent' in x.lower() else True))]\n",
    "len(used_df_both.index.get_level_values(0).unique())"
   ]
  },
  {
   "cell_type": "markdown",
   "metadata": {},
   "source": [
    "## Joining to result groups to get the group labels:"
   ]
  },
  {
   "cell_type": "code",
   "execution_count": 36,
   "metadata": {},
   "outputs": [],
   "source": [
    "dfm = used_df_both.reset_index().merge(rg.reset_index()[['nct_id', 'ctgov_group_code', 'title']], \n",
    "                                       on=['nct_id', 'ctgov_group_code'], \n",
    "                                       how='inner', \n",
    "                                       suffixes=('', '_rg'))"
   ]
  },
  {
   "cell_type": "code",
   "execution_count": 37,
   "metadata": {},
   "outputs": [
    {
     "data": {
      "text/plain": [
       "Index(['Total', 'Placebo', 'Control', 'All Participants', 'Control Group',\n",
       "       'All Study Participants', 'Usual Care', 'Entire Study Population',\n",
       "       'Overall Study', 'Treatment', 'Intervention', 'Placebo Group',\n",
       "       'Group 1', 'Standard of Care', 'Overall', 'Arm 1', 'Vehicle', 'Group 2',\n",
       "       'Sugar Pill', 'All Subjects', 'Arm 2', 'Cohort 1', 'Cohort 2', 'Arm I',\n",
       "       'Total Title', 'All Patients', 'Group B', 'Standard Care', 'Group A',\n",
       "       'Control Arm', 'Pregabalin', 'Sitagliptin', 'Varenicline',\n",
       "       'Intervention Group', 'Experimental', 'Normal Saline', 'Duloxetine',\n",
       "       'Cohort 3', 'Saline', 'Treatment Arm', 'Sham', 'Etanercept',\n",
       "       'Metformin', 'Arm A', 'Active', 'Erlotinib', 'Arm B', 'Ketamine',\n",
       "       'Rituximab', 'Treatment Group'],\n",
       "      dtype='object', name='title_rg')"
      ]
     },
     "execution_count": 37,
     "metadata": {},
     "output_type": "execute_result"
    }
   ],
   "source": [
    "dfm.groupby('title_rg').size().sort_values(ascending=False)[:50].index"
   ]
  },
  {
   "cell_type": "code",
   "execution_count": 38,
   "metadata": {},
   "outputs": [],
   "source": [
    "total_strings = ['Total', \n",
    "                 'All Participants', \n",
    "                 'All Study Participants', \n",
    "                 'Entire Study Population',\n",
    "                 'Overall Study',\n",
    "                 'Overall', \n",
    "                 'Total Title']"
   ]
  },
  {
   "cell_type": "code",
   "execution_count": 39,
   "metadata": {},
   "outputs": [
    {
     "data": {
      "text/plain": [
       "32389"
      ]
     },
     "execution_count": 39,
     "metadata": {},
     "output_type": "execute_result"
    }
   ],
   "source": [
    "dfm_nontot = dfm[~dfm['title_rg'].isin(total_strings)]\n",
    "len(dfm_nontot['nct_id'].unique())"
   ]
  },
  {
   "cell_type": "markdown",
   "metadata": {},
   "source": [
    "## only keep groups that have non-zero number of participants"
   ]
  },
  {
   "cell_type": "code",
   "execution_count": 40,
   "metadata": {},
   "outputs": [
    {
     "data": {
      "text/plain": [
       "32342"
      ]
     },
     "execution_count": 40,
     "metadata": {},
     "output_type": "execute_result"
    }
   ],
   "source": [
    "df_nonzero = dfm_nontot[dfm_nontot['param_value_num'] > 0]\n",
    "len(df_nonzero['nct_id'].unique())"
   ]
  },
  {
   "cell_type": "markdown",
   "metadata": {},
   "source": [
    "## What is the distribution of total participants by study?\n",
    "- where can we set an appropriate cutoff?"
   ]
  },
  {
   "cell_type": "code",
   "execution_count": 41,
   "metadata": {},
   "outputs": [
    {
     "data": {
      "text/html": [
       "<div>\n",
       "<style scoped>\n",
       "    .dataframe tbody tr th:only-of-type {\n",
       "        vertical-align: middle;\n",
       "    }\n",
       "\n",
       "    .dataframe tbody tr th {\n",
       "        vertical-align: top;\n",
       "    }\n",
       "\n",
       "    .dataframe thead th {\n",
       "        text-align: right;\n",
       "    }\n",
       "</style>\n",
       "<table border=\"1\" class=\"dataframe\">\n",
       "  <thead>\n",
       "    <tr style=\"text-align: right;\">\n",
       "      <th></th>\n",
       "      <th>param_value_num</th>\n",
       "    </tr>\n",
       "    <tr>\n",
       "      <th>nct_id</th>\n",
       "      <th></th>\n",
       "    </tr>\n",
       "  </thead>\n",
       "  <tbody>\n",
       "    <tr>\n",
       "      <td>NCT00000125</td>\n",
       "      <td>1636.0</td>\n",
       "    </tr>\n",
       "    <tr>\n",
       "      <td>NCT00000134</td>\n",
       "      <td>279.0</td>\n",
       "    </tr>\n",
       "    <tr>\n",
       "      <td>NCT00000135</td>\n",
       "      <td>209.0</td>\n",
       "    </tr>\n",
       "    <tr>\n",
       "      <td>NCT00000136</td>\n",
       "      <td>234.0</td>\n",
       "    </tr>\n",
       "    <tr>\n",
       "      <td>NCT00000142</td>\n",
       "      <td>64.0</td>\n",
       "    </tr>\n",
       "  </tbody>\n",
       "</table>\n",
       "</div>"
      ],
      "text/plain": [
       "             param_value_num\n",
       "nct_id                      \n",
       "NCT00000125           1636.0\n",
       "NCT00000134            279.0\n",
       "NCT00000135            209.0\n",
       "NCT00000136            234.0\n",
       "NCT00000142             64.0"
      ]
     },
     "execution_count": 41,
     "metadata": {},
     "output_type": "execute_result"
    }
   ],
   "source": [
    "dftotals = df_nonzero.groupby('nct_id')[['param_value_num']].sum()\n",
    "dftotals.head()"
   ]
  },
  {
   "cell_type": "code",
   "execution_count": 42,
   "metadata": {},
   "outputs": [
    {
     "data": {
      "text/html": [
       "<div>\n",
       "<style scoped>\n",
       "    .dataframe tbody tr th:only-of-type {\n",
       "        vertical-align: middle;\n",
       "    }\n",
       "\n",
       "    .dataframe tbody tr th {\n",
       "        vertical-align: top;\n",
       "    }\n",
       "\n",
       "    .dataframe thead th {\n",
       "        text-align: right;\n",
       "    }\n",
       "</style>\n",
       "<table border=\"1\" class=\"dataframe\">\n",
       "  <thead>\n",
       "    <tr style=\"text-align: right;\">\n",
       "      <th></th>\n",
       "      <th>percentile</th>\n",
       "      <th>param_value_num</th>\n",
       "    </tr>\n",
       "  </thead>\n",
       "  <tbody>\n",
       "    <tr>\n",
       "      <td>19</td>\n",
       "      <td>15%</td>\n",
       "      <td>17.0</td>\n",
       "    </tr>\n",
       "    <tr>\n",
       "      <td>20</td>\n",
       "      <td>16%</td>\n",
       "      <td>18.0</td>\n",
       "    </tr>\n",
       "    <tr>\n",
       "      <td>21</td>\n",
       "      <td>17%</td>\n",
       "      <td>19.0</td>\n",
       "    </tr>\n",
       "    <tr>\n",
       "      <td>22</td>\n",
       "      <td>18%</td>\n",
       "      <td>20.0</td>\n",
       "    </tr>\n",
       "    <tr>\n",
       "      <td>23</td>\n",
       "      <td>19%</td>\n",
       "      <td>20.0</td>\n",
       "    </tr>\n",
       "    <tr>\n",
       "      <td>24</td>\n",
       "      <td>20%</td>\n",
       "      <td>21.0</td>\n",
       "    </tr>\n",
       "    <tr>\n",
       "      <td>25</td>\n",
       "      <td>21%</td>\n",
       "      <td>23.0</td>\n",
       "    </tr>\n",
       "    <tr>\n",
       "      <td>26</td>\n",
       "      <td>22%</td>\n",
       "      <td>24.0</td>\n",
       "    </tr>\n",
       "    <tr>\n",
       "      <td>27</td>\n",
       "      <td>23%</td>\n",
       "      <td>25.0</td>\n",
       "    </tr>\n",
       "    <tr>\n",
       "      <td>28</td>\n",
       "      <td>24%</td>\n",
       "      <td>26.0</td>\n",
       "    </tr>\n",
       "  </tbody>\n",
       "</table>\n",
       "</div>"
      ],
      "text/plain": [
       "   percentile  param_value_num\n",
       "19        15%             17.0\n",
       "20        16%             18.0\n",
       "21        17%             19.0\n",
       "22        18%             20.0\n",
       "23        19%             20.0\n",
       "24        20%             21.0\n",
       "25        21%             23.0\n",
       "26        22%             24.0\n",
       "27        23%             25.0\n",
       "28        24%             26.0"
      ]
     },
     "execution_count": 42,
     "metadata": {},
     "output_type": "execute_result"
    }
   ],
   "source": [
    "df_percentile_totals = dftotals.describe(np.arange(0,1,0.01))\n",
    "df_percentile_totals.index.name='percentile'\n",
    "df_percentile_totals.reset_index(inplace=True)\n",
    "df_percentile_totals = df_percentile_totals[df_percentile_totals['percentile'].apply(lambda x: \n",
    "                                                                                     True if '%' in x \n",
    "                                                                                     else False)]\n",
    "df_percentile_totals[15:25]"
   ]
  },
  {
   "cell_type": "markdown",
   "metadata": {},
   "source": [
    "### We picked to keep 80% of the data and exclude any studies such the total <= 20"
   ]
  },
  {
   "cell_type": "code",
   "execution_count": 43,
   "metadata": {},
   "outputs": [
    {
     "data": {
      "text/plain": [
       "(26121, 1)"
      ]
     },
     "execution_count": 43,
     "metadata": {},
     "output_type": "execute_result"
    }
   ],
   "source": [
    "df_totals_used = dftotals[dftotals['param_value_num'] > 20]\n",
    "df_totals_used.shape"
   ]
  },
  {
   "cell_type": "code",
   "execution_count": 44,
   "metadata": {},
   "outputs": [
    {
     "data": {
      "text/plain": [
       "26121"
      ]
     },
     "execution_count": 44,
     "metadata": {},
     "output_type": "execute_result"
    }
   ],
   "source": [
    "# excluding studies with < 30 total participants\n",
    "dfm_large = df_nonzero[df_nonzero['nct_id'].isin(df_totals_used.index)]\n",
    "len(dfm_large['nct_id'].unique())"
   ]
  },
  {
   "cell_type": "code",
   "execution_count": 45,
   "metadata": {},
   "outputs": [
    {
     "data": {
      "text/plain": [
       "Index(['nct_id', 'result_group_id', 'id', 'ctgov_group_code', 'classification',\n",
       "       'category', 'title', 'description', 'units', 'param_type',\n",
       "       'param_value', 'param_value_num', 'dispersion_type', 'dispersion_value',\n",
       "       'dispersion_value_num', 'dispersion_lower_limit',\n",
       "       'dispersion_upper_limit', 'explanation_of_na', 'is_male_class',\n",
       "       'is_male_cat', 'is_male', 'title_rg'],\n",
       "      dtype='object')"
      ]
     },
     "execution_count": 45,
     "metadata": {},
     "output_type": "execute_result"
    }
   ],
   "source": [
    "dfm_large.columns"
   ]
  },
  {
   "cell_type": "markdown",
   "metadata": {},
   "source": [
    "## Constricting to the set of studies with only 2 groups and 4 gender boxes"
   ]
  },
  {
   "cell_type": "code",
   "execution_count": 46,
   "metadata": {},
   "outputs": [
    {
     "data": {
      "text/plain": [
       "12665"
      ]
     },
     "execution_count": 46,
     "metadata": {},
     "output_type": "execute_result"
    }
   ],
   "source": [
    "# 2 arms\n",
    "df_nonzero_groups = dfm_large.groupby(['nct_id'])['ctgov_group_code'].nunique()\n",
    "two_grp_ids = df_nonzero_groups[df_nonzero_groups == 2].index\n",
    "dfm_large_two_arm = dfm_large[dfm_large['nct_id'].isin(two_grp_ids)]\n",
    "\n",
    "# 4 buckets\n",
    "num_arm_genders = dfm_large_two_arm.groupby('nct_id').size()\n",
    "keeponly4 = num_arm_genders[num_arm_genders == 4].index\n",
    "\n",
    "dfbm_final = dfm_large_two_arm[dfm_large_two_arm['nct_id'].isin(keeponly4)]\n",
    "len(dfbm_final['nct_id'].unique())"
   ]
  },
  {
   "cell_type": "markdown",
   "metadata": {},
   "source": [
    "## On the outcome measurement side, we need:\n",
    "- out_param_type = Mean\n",
    "- out_outcome_type = Primary"
   ]
  },
  {
   "cell_type": "code",
   "execution_count": 47,
   "metadata": {},
   "outputs": [],
   "source": [
    "omj = om.reset_index().add_prefix('om_')\n",
    "outj = out.reset_index().add_prefix('out_')"
   ]
  },
  {
   "cell_type": "code",
   "execution_count": 48,
   "metadata": {},
   "outputs": [],
   "source": [
    "dfj = omj.merge(outj, \n",
    "                how='inner',\n",
    "                left_on=['om_nct_id', 'om_outcome_id'],\n",
    "                right_on=['out_nct_id', 'out_id'],)"
   ]
  },
  {
   "cell_type": "code",
   "execution_count": 49,
   "metadata": {},
   "outputs": [
    {
     "data": {
      "text/plain": [
       "13114"
      ]
     },
     "execution_count": 49,
     "metadata": {},
     "output_type": "execute_result"
    }
   ],
   "source": [
    "# studies from the baseline measurement gender requirements above\n",
    "studies_w_gender_info = dfm_large_two_arm['nct_id'].unique()\n",
    "len(studies_w_gender_info)"
   ]
  },
  {
   "cell_type": "code",
   "execution_count": 50,
   "metadata": {},
   "outputs": [
    {
     "data": {
      "text/plain": [
       "38728"
      ]
     },
     "execution_count": 50,
     "metadata": {},
     "output_type": "execute_result"
    }
   ],
   "source": [
    "# studies with 1 primary outcome\n",
    "outj_primary = outj[outj['out_outcome_type'] == 'Primary']\n",
    "num_outcomes_per_study = outj_primary.groupby('out_nct_id')['out_id'].size()\n",
    "studies_w_1_outcome = num_outcomes_per_study[num_outcomes_per_study == 1].index\n",
    "len(num_outcomes_per_study)"
   ]
  },
  {
   "cell_type": "code",
   "execution_count": 51,
   "metadata": {},
   "outputs": [],
   "source": [
    "dfj_used = dfj[(dfj['om_nct_id'].isin(studies_w_gender_info)) &\n",
    "               (dfj['om_nct_id'].isin(studies_w_1_outcome))]"
   ]
  },
  {
   "cell_type": "code",
   "execution_count": 52,
   "metadata": {},
   "outputs": [
    {
     "data": {
      "text/plain": [
       "3380"
      ]
     },
     "execution_count": 52,
     "metadata": {},
     "output_type": "execute_result"
    }
   ],
   "source": [
    "dfom_prim = dfj_used[(dfj_used['out_param_type'] == 'Mean') & (dfj_used['out_outcome_type'] == 'Primary')]\n",
    "len(dfom_prim['om_nct_id'].unique())"
   ]
  },
  {
   "cell_type": "markdown",
   "metadata": {},
   "source": [
    "### Some studies report more than 1 set of outcomes in their primar results:\n",
    "- for example: NCT00000378\n",
    "- we can exclude these as well"
   ]
  },
  {
   "cell_type": "code",
   "execution_count": 53,
   "metadata": {},
   "outputs": [],
   "source": [
    "# needs to have exactly 2 unique group codes\n",
    "num_group_codes = dfom_prim.groupby('om_nct_id')['om_ctgov_group_code'].size()\n",
    "with_2_g_codes = num_group_codes[num_group_codes == 2].index\n",
    "\n",
    "num_uniq_group_codes = dfom_prim.groupby('om_nct_id')['om_ctgov_group_code'].nunique()\n",
    "with_2_uniq_g_codes = num_uniq_group_codes[num_uniq_group_codes == 2].index"
   ]
  },
  {
   "cell_type": "code",
   "execution_count": 54,
   "metadata": {},
   "outputs": [
    {
     "data": {
      "text/plain": [
       "2435"
      ]
     },
     "execution_count": 54,
     "metadata": {},
     "output_type": "execute_result"
    }
   ],
   "source": [
    "dfom_all_types = dfom_prim[(dfom_prim['om_nct_id'].isin(with_2_g_codes)) &\n",
    "                       (dfom_prim['om_nct_id'].isin(with_2_uniq_g_codes))]\n",
    "len(dfom_all_types['om_nct_id'].unique())"
   ]
  },
  {
   "cell_type": "markdown",
   "metadata": {},
   "source": [
    "upon study, only the dispersion types Standard Deviation and Standard Error have good coverage for a dispersion metric, so we will only keep those studies"
   ]
  },
  {
   "cell_type": "code",
   "execution_count": 55,
   "metadata": {},
   "outputs": [
    {
     "data": {
      "text/plain": [
       "om_dispersion_type\n",
       "90% Confidence Interval         2\n",
       "95% Confidence Interval       504\n",
       "97.5% Confidence Interval       2\n",
       "99% Confidence Interval         2\n",
       "Full Range                    114\n",
       "Inter-Quartile Range           26\n",
       "Standard Deviation           3556\n",
       "Standard Error                664\n",
       "dtype: int64"
      ]
     },
     "execution_count": 55,
     "metadata": {},
     "output_type": "execute_result"
    }
   ],
   "source": [
    "dfom_all_types.groupby('om_dispersion_type').size()"
   ]
  },
  {
   "cell_type": "code",
   "execution_count": 56,
   "metadata": {},
   "outputs": [
    {
     "data": {
      "text/plain": [
       "2110"
      ]
     },
     "execution_count": 56,
     "metadata": {},
     "output_type": "execute_result"
    }
   ],
   "source": [
    "used_dispersion_types = ['Standard Deviation', 'Standard Error']\n",
    "dfom_final = dfom_all_types[dfom_all_types['om_dispersion_type'].isin(used_dispersion_types)]\n",
    "len(dfom_final['om_nct_id'].unique())"
   ]
  },
  {
   "cell_type": "markdown",
   "metadata": {},
   "source": [
    "## On the outcome counts, getting the primary counts"
   ]
  },
  {
   "cell_type": "code",
   "execution_count": 57,
   "metadata": {},
   "outputs": [],
   "source": [
    "ocj = oc.reset_index().add_prefix('oc_')\n",
    "out_ocj = out[['id', 'outcome_type']].reset_index().add_prefix('oco_')"
   ]
  },
  {
   "cell_type": "code",
   "execution_count": 58,
   "metadata": {},
   "outputs": [
    {
     "data": {
      "text/plain": [
       "Index(['oc_nct_id', 'oc_result_group_id', 'oc_outcome_id', 'oc_id',\n",
       "       'oc_ctgov_group_code', 'oc_scope', 'oc_units', 'oc_count'],\n",
       "      dtype='object')"
      ]
     },
     "execution_count": 58,
     "metadata": {},
     "output_type": "execute_result"
    }
   ],
   "source": [
    "ocj.columns"
   ]
  },
  {
   "cell_type": "code",
   "execution_count": 59,
   "metadata": {},
   "outputs": [
    {
     "data": {
      "text/plain": [
       "Index(['oco_nct_id', 'oco_id', 'oco_outcome_type'], dtype='object')"
      ]
     },
     "execution_count": 59,
     "metadata": {},
     "output_type": "execute_result"
    }
   ],
   "source": [
    "out_ocj.columns"
   ]
  },
  {
   "cell_type": "code",
   "execution_count": 60,
   "metadata": {},
   "outputs": [],
   "source": [
    "ocoj = ocj.merge(out_ocj,\n",
    "                 how='inner', \n",
    "                 left_on=['oc_nct_id', 'oc_outcome_id'],\n",
    "                 right_on=['oco_nct_id', 'oco_id'])\n",
    "ocoj_in_set = ocoj[ocoj['oc_nct_id'].isin(dfom_final['om_nct_id'].unique())]"
   ]
  },
  {
   "cell_type": "code",
   "execution_count": 61,
   "metadata": {},
   "outputs": [],
   "source": [
    "# only keep counts on primary out comes\n",
    "ocoj_primary = ocoj_in_set[ocoj_in_set['oco_outcome_type'] == 'Primary']"
   ]
  },
  {
   "cell_type": "code",
   "execution_count": 62,
   "metadata": {},
   "outputs": [
    {
     "data": {
      "text/html": [
       "<div>\n",
       "<style scoped>\n",
       "    .dataframe tbody tr th:only-of-type {\n",
       "        vertical-align: middle;\n",
       "    }\n",
       "\n",
       "    .dataframe tbody tr th {\n",
       "        vertical-align: top;\n",
       "    }\n",
       "\n",
       "    .dataframe thead th {\n",
       "        text-align: right;\n",
       "    }\n",
       "</style>\n",
       "<table border=\"1\" class=\"dataframe\">\n",
       "  <thead>\n",
       "    <tr style=\"text-align: right;\">\n",
       "      <th></th>\n",
       "      <th>oc_nct_id</th>\n",
       "      <th>oc_result_group_id</th>\n",
       "      <th>oc_outcome_id</th>\n",
       "      <th>oc_id</th>\n",
       "      <th>oc_ctgov_group_code</th>\n",
       "      <th>oc_scope</th>\n",
       "      <th>oc_units</th>\n",
       "      <th>oc_count</th>\n",
       "      <th>oco_nct_id</th>\n",
       "      <th>oco_id</th>\n",
       "      <th>oco_outcome_type</th>\n",
       "    </tr>\n",
       "  </thead>\n",
       "  <tbody>\n",
       "    <tr>\n",
       "      <td>272264</td>\n",
       "      <td>NCT00993473</td>\n",
       "      <td>3839331</td>\n",
       "      <td>1157565</td>\n",
       "      <td>2750701</td>\n",
       "      <td>O2</td>\n",
       "      <td>Measure</td>\n",
       "      <td>Participants</td>\n",
       "      <td>64</td>\n",
       "      <td>NCT00993473</td>\n",
       "      <td>1157565</td>\n",
       "      <td>Primary</td>\n",
       "    </tr>\n",
       "    <tr>\n",
       "      <td>272265</td>\n",
       "      <td>NCT00993473</td>\n",
       "      <td>3839332</td>\n",
       "      <td>1157565</td>\n",
       "      <td>2750702</td>\n",
       "      <td>O1</td>\n",
       "      <td>Measure</td>\n",
       "      <td>Participants</td>\n",
       "      <td>61</td>\n",
       "      <td>NCT00993473</td>\n",
       "      <td>1157565</td>\n",
       "      <td>Primary</td>\n",
       "    </tr>\n",
       "  </tbody>\n",
       "</table>\n",
       "</div>"
      ],
      "text/plain": [
       "          oc_nct_id  oc_result_group_id  oc_outcome_id    oc_id  \\\n",
       "272264  NCT00993473             3839331        1157565  2750701   \n",
       "272265  NCT00993473             3839332        1157565  2750702   \n",
       "\n",
       "       oc_ctgov_group_code oc_scope      oc_units  oc_count   oco_nct_id  \\\n",
       "272264                  O2  Measure  Participants        64  NCT00993473   \n",
       "272265                  O1  Measure  Participants        61  NCT00993473   \n",
       "\n",
       "         oco_id oco_outcome_type  \n",
       "272264  1157565          Primary  \n",
       "272265  1157565          Primary  "
      ]
     },
     "execution_count": 62,
     "metadata": {},
     "output_type": "execute_result"
    }
   ],
   "source": [
    "ocoj_primary[ocoj_primary['oc_nct_id'] == 'NCT00993473']"
   ]
  },
  {
   "cell_type": "markdown",
   "metadata": {},
   "source": [
    "Notes: After manually investigating the above cases, we need to compute the standard error divisor using the non-\"Participant\" row for oc_units"
   ]
  },
  {
   "cell_type": "code",
   "execution_count": 63,
   "metadata": {},
   "outputs": [
    {
     "data": {
      "application/vnd.jupyter.widget-view+json": {
       "model_id": "52f5d2e604ec4b26b93be2fa2baf234f",
       "version_major": 2,
       "version_minor": 0
      },
      "text/plain": [
       "HBox(children=(IntProgress(value=0, max=2110), HTML(value='')))"
      ]
     },
     "metadata": {},
     "output_type": "display_data"
    },
    {
     "name": "stdout",
     "output_type": "stream",
     "text": [
      "\n"
     ]
    }
   ],
   "source": [
    "# extracting the out_come counts:\n",
    "res_dict = {}\n",
    "\n",
    "for nct_id in tqdm(ocoj_primary['oc_nct_id'].unique()):\n",
    "    #print(nct_id)\n",
    "    sub_df = ocoj_primary[ocoj_primary['oc_nct_id'] == nct_id]\n",
    "    for gcode in sub_df['oc_ctgov_group_code'].unique():\n",
    "        sub_df_gc = sub_df[sub_df['oc_ctgov_group_code'] == gcode]\n",
    "        type_units = sub_df_gc['oc_units'].unique()\n",
    "\n",
    "        if len(type_units) == 1:\n",
    "            num_participants = sub_df_gc['oc_count'].values[0]\n",
    "            num_measures = sub_df_gc['oc_count'].values[0]  # same as participants\n",
    "        elif len(type_units) == 2:\n",
    "            num_participants = sub_df_gc[sub_df_gc['oc_units'] == 'Participants']['oc_count'].values[0]\n",
    "            num_measures = sub_df_gc[sub_df_gc['oc_units'] != 'Participants']['oc_count'].values[0]\n",
    "\n",
    "        res_dict[(nct_id, gcode)] = {\n",
    "            'num_participants': num_participants,\n",
    "            'num_measures': num_measures,\n",
    "        }"
   ]
  },
  {
   "cell_type": "code",
   "execution_count": 64,
   "metadata": {},
   "outputs": [
    {
     "data": {
      "text/html": [
       "<div>\n",
       "<style scoped>\n",
       "    .dataframe tbody tr th:only-of-type {\n",
       "        vertical-align: middle;\n",
       "    }\n",
       "\n",
       "    .dataframe tbody tr th {\n",
       "        vertical-align: top;\n",
       "    }\n",
       "\n",
       "    .dataframe thead th {\n",
       "        text-align: right;\n",
       "    }\n",
       "</style>\n",
       "<table border=\"1\" class=\"dataframe\">\n",
       "  <thead>\n",
       "    <tr style=\"text-align: right;\">\n",
       "      <th></th>\n",
       "      <th>ct_nct_id</th>\n",
       "      <th>ct_ctgov_group_code</th>\n",
       "      <th>ct_num_participants</th>\n",
       "      <th>ct_num_measures</th>\n",
       "    </tr>\n",
       "  </thead>\n",
       "  <tbody>\n",
       "    <tr>\n",
       "      <td>0</td>\n",
       "      <td>NCT00000371</td>\n",
       "      <td>O2</td>\n",
       "      <td>27</td>\n",
       "      <td>27</td>\n",
       "    </tr>\n",
       "    <tr>\n",
       "      <td>1</td>\n",
       "      <td>NCT00000371</td>\n",
       "      <td>O1</td>\n",
       "      <td>28</td>\n",
       "      <td>28</td>\n",
       "    </tr>\n",
       "    <tr>\n",
       "      <td>2</td>\n",
       "      <td>NCT00000392</td>\n",
       "      <td>O2</td>\n",
       "      <td>77</td>\n",
       "      <td>77</td>\n",
       "    </tr>\n",
       "    <tr>\n",
       "      <td>3</td>\n",
       "      <td>NCT00000392</td>\n",
       "      <td>O1</td>\n",
       "      <td>66</td>\n",
       "      <td>66</td>\n",
       "    </tr>\n",
       "    <tr>\n",
       "      <td>4</td>\n",
       "      <td>NCT00001596</td>\n",
       "      <td>O2</td>\n",
       "      <td>3</td>\n",
       "      <td>3</td>\n",
       "    </tr>\n",
       "    <tr>\n",
       "      <td>...</td>\n",
       "      <td>...</td>\n",
       "      <td>...</td>\n",
       "      <td>...</td>\n",
       "      <td>...</td>\n",
       "    </tr>\n",
       "    <tr>\n",
       "      <td>4219</td>\n",
       "      <td>NCT03831451</td>\n",
       "      <td>O1</td>\n",
       "      <td>74</td>\n",
       "      <td>74</td>\n",
       "    </tr>\n",
       "    <tr>\n",
       "      <td>4220</td>\n",
       "      <td>NCT04109703</td>\n",
       "      <td>O2</td>\n",
       "      <td>51</td>\n",
       "      <td>51</td>\n",
       "    </tr>\n",
       "    <tr>\n",
       "      <td>4221</td>\n",
       "      <td>NCT04109703</td>\n",
       "      <td>O1</td>\n",
       "      <td>49</td>\n",
       "      <td>49</td>\n",
       "    </tr>\n",
       "    <tr>\n",
       "      <td>4222</td>\n",
       "      <td>NCT04123665</td>\n",
       "      <td>O2</td>\n",
       "      <td>48</td>\n",
       "      <td>48</td>\n",
       "    </tr>\n",
       "    <tr>\n",
       "      <td>4223</td>\n",
       "      <td>NCT04123665</td>\n",
       "      <td>O1</td>\n",
       "      <td>43</td>\n",
       "      <td>43</td>\n",
       "    </tr>\n",
       "  </tbody>\n",
       "</table>\n",
       "<p>4224 rows × 4 columns</p>\n",
       "</div>"
      ],
      "text/plain": [
       "        ct_nct_id ct_ctgov_group_code  ct_num_participants  ct_num_measures\n",
       "0     NCT00000371                  O2                   27               27\n",
       "1     NCT00000371                  O1                   28               28\n",
       "2     NCT00000392                  O2                   77               77\n",
       "3     NCT00000392                  O1                   66               66\n",
       "4     NCT00001596                  O2                    3                3\n",
       "...           ...                 ...                  ...              ...\n",
       "4219  NCT03831451                  O1                   74               74\n",
       "4220  NCT04109703                  O2                   51               51\n",
       "4221  NCT04109703                  O1                   49               49\n",
       "4222  NCT04123665                  O2                   48               48\n",
       "4223  NCT04123665                  O1                   43               43\n",
       "\n",
       "[4224 rows x 4 columns]"
      ]
     },
     "execution_count": 64,
     "metadata": {},
     "output_type": "execute_result"
    }
   ],
   "source": [
    "df_counts = pd.DataFrame(res_dict).T\n",
    "df_counts.index.names = ['nct_id', 'ctgov_group_code']\n",
    "df_counts = df_counts.reset_index().add_prefix('ct_')\n",
    "df_counts"
   ]
  },
  {
   "cell_type": "markdown",
   "metadata": {},
   "source": [
    "for each record in dfom_final_i, we have to associate it with a \"num_participants\" and \"num_measured\""
   ]
  },
  {
   "cell_type": "markdown",
   "metadata": {},
   "source": [
    "## Joining the counts to dfom_final_i"
   ]
  },
  {
   "cell_type": "code",
   "execution_count": 65,
   "metadata": {},
   "outputs": [
    {
     "data": {
      "text/plain": [
       "(4220, 32)"
      ]
     },
     "execution_count": 65,
     "metadata": {},
     "output_type": "execute_result"
    }
   ],
   "source": [
    "dfom_final.shape"
   ]
  },
  {
   "cell_type": "code",
   "execution_count": 66,
   "metadata": {},
   "outputs": [
    {
     "data": {
      "text/plain": [
       "(4220, 36)"
      ]
     },
     "execution_count": 66,
     "metadata": {},
     "output_type": "execute_result"
    }
   ],
   "source": [
    "df_om_final_w_counts = dfom_final.merge(df_counts,\n",
    "                                        how='inner',\n",
    "                                        left_on=['om_nct_id', 'om_ctgov_group_code'],\n",
    "                                        right_on=['ct_nct_id', 'ct_ctgov_group_code'])\n",
    "df_om_final_w_counts.shape"
   ]
  },
  {
   "cell_type": "markdown",
   "metadata": {},
   "source": [
    "## Taking the intersection of the 2 datasets"
   ]
  },
  {
   "cell_type": "code",
   "execution_count": 67,
   "metadata": {},
   "outputs": [],
   "source": [
    "dfbm_final_i = dfbm_final[dfbm_final['nct_id'].isin(df_om_final_w_counts['om_nct_id'].unique())]\n",
    "dfbm_final_i = dfbm_final_i.add_prefix('bm_')\n",
    "dfom_final_i = df_om_final_w_counts[df_om_final_w_counts['om_nct_id'].isin(dfbm_final['nct_id'].unique())]"
   ]
  },
  {
   "cell_type": "code",
   "execution_count": 68,
   "metadata": {},
   "outputs": [
    {
     "data": {
      "text/plain": [
       "((8168, 22), (4084, 36))"
      ]
     },
     "execution_count": 68,
     "metadata": {},
     "output_type": "execute_result"
    }
   ],
   "source": [
    "dfbm_final_i.shape, dfom_final_i.shape"
   ]
  },
  {
   "cell_type": "code",
   "execution_count": 69,
   "metadata": {},
   "outputs": [],
   "source": [
    "# checkpoint outputting data pickels\n",
    "dfbm_final_i.to_pickle('bm.p')\n",
    "dfom_final_i.to_pickle('om.p')"
   ]
  },
  {
   "cell_type": "markdown",
   "metadata": {},
   "source": [
    "## Incorporate result group data into the output measurements "
   ]
  },
  {
   "cell_type": "code",
   "execution_count": 70,
   "metadata": {},
   "outputs": [
    {
     "data": {
      "text/plain": [
       "(4084, 42)"
      ]
     },
     "execution_count": 70,
     "metadata": {},
     "output_type": "execute_result"
    }
   ],
   "source": [
    "# joining the result groups to dfom\n",
    "rg_omj = rg.reset_index().add_prefix(\"rgom_\")\n",
    "dfom_final_ij = dfom_final_i.merge(rg_omj,\n",
    "                                   how='inner',\n",
    "                                   left_on=['om_nct_id', 'om_result_group_id'],\n",
    "                                   right_on=['rgom_nct_id', 'rgom_id'])\n",
    "dfom_final_ij.shape"
   ]
  },
  {
   "cell_type": "code",
   "execution_count": 71,
   "metadata": {},
   "outputs": [
    {
     "data": {
      "text/plain": [
       "(8168, 28)"
      ]
     },
     "execution_count": 71,
     "metadata": {},
     "output_type": "execute_result"
    }
   ],
   "source": [
    "# joining the result groups to dfbm\n",
    "rg_bmj = rg.reset_index().add_prefix(\"rgbm_\")\n",
    "dfbm_final_ij = dfbm_final_i.merge(rg_bmj,\n",
    "                                   how='inner',\n",
    "                                   left_on=['bm_nct_id', 'bm_result_group_id'],\n",
    "                                   right_on=['rgbm_nct_id', 'rgbm_id'])\n",
    "dfbm_final_ij.shape"
   ]
  },
  {
   "cell_type": "code",
   "execution_count": 72,
   "metadata": {},
   "outputs": [
    {
     "data": {
      "text/plain": [
       "Index(['om_nct_id', 'om_result_group_id', 'om_outcome_id', 'om_id',\n",
       "       'om_ctgov_group_code', 'om_classification', 'om_category', 'om_title',\n",
       "       'om_description', 'om_units', 'om_param_type', 'om_param_value',\n",
       "       'om_param_value_num', 'om_dispersion_type', 'om_dispersion_value',\n",
       "       'om_dispersion_value_num', 'om_dispersion_lower_limit',\n",
       "       'om_dispersion_upper_limit', 'om_explanation_of_na', 'out_nct_id',\n",
       "       'out_id', 'out_outcome_type', 'out_title', 'out_description',\n",
       "       'out_time_frame', 'out_population', 'out_anticipated_posting_date',\n",
       "       'out_anticipated_posting_month_year', 'out_units', 'out_units_analyzed',\n",
       "       'out_dispersion_type', 'out_param_type', 'ct_nct_id',\n",
       "       'ct_ctgov_group_code', 'ct_num_participants', 'ct_num_measures',\n",
       "       'rgom_nct_id', 'rgom_id', 'rgom_ctgov_group_code', 'rgom_result_type',\n",
       "       'rgom_title', 'rgom_description'],\n",
       "      dtype='object')"
      ]
     },
     "execution_count": 72,
     "metadata": {},
     "output_type": "execute_result"
    }
   ],
   "source": [
    "dfom_final_ij.columns"
   ]
  },
  {
   "cell_type": "markdown",
   "metadata": {},
   "source": [
    "## Using the group_code suffix to identify groups across bm and om"
   ]
  },
  {
   "cell_type": "code",
   "execution_count": 73,
   "metadata": {},
   "outputs": [],
   "source": [
    "dfom_final_ij['grp_num'] = dfom_final_ij['om_ctgov_group_code'].apply(lambda x: int(x[1]))\n",
    "dfbm_final_ij['grp_num'] = dfbm_final_ij['bm_ctgov_group_code'].apply(lambda x: int(x[1]))"
   ]
  },
  {
   "cell_type": "markdown",
   "metadata": {},
   "source": [
    "## Pivotting both datasets so that there is only 1 row per study"
   ]
  },
  {
   "cell_type": "code",
   "execution_count": 74,
   "metadata": {},
   "outputs": [
    {
     "data": {
      "text/plain": [
       "Index(['bm_nct_id', 'bm_result_group_id', 'bm_id', 'bm_ctgov_group_code',\n",
       "       'bm_classification', 'bm_category', 'bm_title', 'bm_description',\n",
       "       'bm_units', 'bm_param_type', 'bm_param_value', 'bm_param_value_num',\n",
       "       'bm_dispersion_type', 'bm_dispersion_value', 'bm_dispersion_value_num',\n",
       "       'bm_dispersion_lower_limit', 'bm_dispersion_upper_limit',\n",
       "       'bm_explanation_of_na', 'bm_is_male_class', 'bm_is_male_cat',\n",
       "       'bm_is_male', 'bm_title_rg', 'rgbm_nct_id', 'rgbm_id',\n",
       "       'rgbm_ctgov_group_code', 'rgbm_result_type', 'rgbm_title',\n",
       "       'rgbm_description', 'grp_num'],\n",
       "      dtype='object')"
      ]
     },
     "execution_count": 74,
     "metadata": {},
     "output_type": "execute_result"
    }
   ],
   "source": [
    "dfbm_final_ij.columns"
   ]
  },
  {
   "cell_type": "code",
   "execution_count": 75,
   "metadata": {},
   "outputs": [
    {
     "data": {
      "application/vnd.jupyter.widget-view+json": {
       "model_id": "a1720c44fe134d1992f2715bbdad3626",
       "version_major": 2,
       "version_minor": 0
      },
      "text/plain": [
       "HBox(children=(IntProgress(value=0, max=2042), HTML(value='')))"
      ]
     },
     "metadata": {},
     "output_type": "display_data"
    },
    {
     "name": "stdout",
     "output_type": "stream",
     "text": [
      "\n"
     ]
    }
   ],
   "source": [
    "res_dict = {}\n",
    "for nct_id in tqdm(dfbm_final_ij['bm_nct_id'].unique()):\n",
    "    sub_df = dfbm_final_ij[dfbm_final_ij['bm_nct_id'] == nct_id]\n",
    "    g1m = sub_df[(sub_df['bm_is_male']) & (sub_df['grp_num'] == 1)]['bm_param_value_num'].values[0]\n",
    "    g1f = sub_df[(~sub_df['bm_is_male']) & (sub_df['grp_num'] == 1)]['bm_param_value_num'].values[0]\n",
    "    g2m = sub_df[(sub_df['bm_is_male']) & (sub_df['grp_num'] == 2)]['bm_param_value_num'].values[0]\n",
    "    g2f = sub_df[(~sub_df['bm_is_male']) & (sub_df['grp_num'] == 2)]['bm_param_value_num'].values[0]\n",
    "    \n",
    "    g1title = sub_df[(sub_df['grp_num'] == 1)]['rgbm_title'].values[0]\n",
    "    g1des = sub_df[(sub_df['grp_num'] == 1)]['rgbm_description'].values[0]\n",
    "    g2title = sub_df[(sub_df['grp_num'] == 2)]['rgbm_title'].values[0]\n",
    "    g2des = sub_df[(sub_df['grp_num'] == 2)]['rgbm_description'].values[0]\n",
    "    \n",
    "    res_dict[nct_id] = {\n",
    "        'g1m': g1m,\n",
    "        'g1f': g1f,\n",
    "        'g2m': g2m,\n",
    "        'g2f': g2f,\n",
    "        'g1title': g1title,\n",
    "        'g1des': g1des,\n",
    "        'g2title': g2title,\n",
    "        'g2des': g2des,\n",
    "    }"
   ]
  },
  {
   "cell_type": "code",
   "execution_count": 76,
   "metadata": {},
   "outputs": [
    {
     "data": {
      "text/html": [
       "<div>\n",
       "<style scoped>\n",
       "    .dataframe tbody tr th:only-of-type {\n",
       "        vertical-align: middle;\n",
       "    }\n",
       "\n",
       "    .dataframe tbody tr th {\n",
       "        vertical-align: top;\n",
       "    }\n",
       "\n",
       "    .dataframe thead th {\n",
       "        text-align: right;\n",
       "    }\n",
       "</style>\n",
       "<table border=\"1\" class=\"dataframe\">\n",
       "  <thead>\n",
       "    <tr style=\"text-align: right;\">\n",
       "      <th></th>\n",
       "      <th>g1m</th>\n",
       "      <th>g1f</th>\n",
       "      <th>g2m</th>\n",
       "      <th>g2f</th>\n",
       "      <th>g1title</th>\n",
       "      <th>g1des</th>\n",
       "      <th>g2title</th>\n",
       "      <th>g2des</th>\n",
       "    </tr>\n",
       "  </thead>\n",
       "  <tbody>\n",
       "    <tr>\n",
       "      <td>NCT00114127</td>\n",
       "      <td>6.0</td>\n",
       "      <td>7.0</td>\n",
       "      <td>11.0</td>\n",
       "      <td>4.0</td>\n",
       "      <td>Duloxetine 60mg/Day + Placebo for 18 Weeks(Pha...</td>\n",
       "      <td>Participants who did not achieve remission at ...</td>\n",
       "      <td>Duloxetine 120mg/Day for 18 Weeks (Phase 2)</td>\n",
       "      <td>Participants who did not achieve remission at ...</td>\n",
       "    </tr>\n",
       "    <tr>\n",
       "      <td>NCT00180479</td>\n",
       "      <td>469.0</td>\n",
       "      <td>200.0</td>\n",
       "      <td>218.0</td>\n",
       "      <td>114.0</td>\n",
       "      <td>XIENCE V® EECSS</td>\n",
       "      <td>XIENCE V® Everolimus Eluting Coronary Stent Sy...</td>\n",
       "      <td>TAXUS® EXPRESS2™ ECSS</td>\n",
       "      <td>TAXUS® EXPRESS2™ Paclitaxel Eluting Coronary S...</td>\n",
       "    </tr>\n",
       "    <tr>\n",
       "      <td>NCT00405275</td>\n",
       "      <td>101.0</td>\n",
       "      <td>77.0</td>\n",
       "      <td>89.0</td>\n",
       "      <td>85.0</td>\n",
       "      <td>Triple</td>\n",
       "      <td>Hydroxychloroquine, sulfasalazine and methotre...</td>\n",
       "      <td>Etanercept</td>\n",
       "      <td>Etanercept and Methotrexate</td>\n",
       "    </tr>\n",
       "    <tr>\n",
       "      <td>NCT00446654</td>\n",
       "      <td>8.0</td>\n",
       "      <td>12.0</td>\n",
       "      <td>6.0</td>\n",
       "      <td>12.0</td>\n",
       "      <td>CGC-11047 Once Every 2 Weeks</td>\n",
       "      <td>16.5 mg CGC-11047 as a subconjunctival injecti...</td>\n",
       "      <td>CGC-11047 Once Every Four Weeks</td>\n",
       "      <td>16.5 mg CGC-11047 as a subconjunctival injecti...</td>\n",
       "    </tr>\n",
       "    <tr>\n",
       "      <td>NCT00728754</td>\n",
       "      <td>15.0</td>\n",
       "      <td>14.0</td>\n",
       "      <td>17.0</td>\n",
       "      <td>15.0</td>\n",
       "      <td>Osseotite Certain Prevail Implant</td>\n",
       "      <td>Patients with dental implant with internal con...</td>\n",
       "      <td>Osseotite Certain Implant</td>\n",
       "      <td>Patients with dental implant with internal con...</td>\n",
       "    </tr>\n",
       "  </tbody>\n",
       "</table>\n",
       "</div>"
      ],
      "text/plain": [
       "               g1m    g1f    g2m    g2f  \\\n",
       "NCT00114127    6.0    7.0   11.0    4.0   \n",
       "NCT00180479  469.0  200.0  218.0  114.0   \n",
       "NCT00405275  101.0   77.0   89.0   85.0   \n",
       "NCT00446654    8.0   12.0    6.0   12.0   \n",
       "NCT00728754   15.0   14.0   17.0   15.0   \n",
       "\n",
       "                                                       g1title  \\\n",
       "NCT00114127  Duloxetine 60mg/Day + Placebo for 18 Weeks(Pha...   \n",
       "NCT00180479                                    XIENCE V® EECSS   \n",
       "NCT00405275                                             Triple   \n",
       "NCT00446654                       CGC-11047 Once Every 2 Weeks   \n",
       "NCT00728754                  Osseotite Certain Prevail Implant   \n",
       "\n",
       "                                                         g1des  \\\n",
       "NCT00114127  Participants who did not achieve remission at ...   \n",
       "NCT00180479  XIENCE V® Everolimus Eluting Coronary Stent Sy...   \n",
       "NCT00405275  Hydroxychloroquine, sulfasalazine and methotre...   \n",
       "NCT00446654  16.5 mg CGC-11047 as a subconjunctival injecti...   \n",
       "NCT00728754  Patients with dental implant with internal con...   \n",
       "\n",
       "                                                 g2title  \\\n",
       "NCT00114127  Duloxetine 120mg/Day for 18 Weeks (Phase 2)   \n",
       "NCT00180479                        TAXUS® EXPRESS2™ ECSS   \n",
       "NCT00405275                                   Etanercept   \n",
       "NCT00446654              CGC-11047 Once Every Four Weeks   \n",
       "NCT00728754                    Osseotite Certain Implant   \n",
       "\n",
       "                                                         g2des  \n",
       "NCT00114127  Participants who did not achieve remission at ...  \n",
       "NCT00180479  TAXUS® EXPRESS2™ Paclitaxel Eluting Coronary S...  \n",
       "NCT00405275                        Etanercept and Methotrexate  \n",
       "NCT00446654  16.5 mg CGC-11047 as a subconjunctival injecti...  \n",
       "NCT00728754  Patients with dental implant with internal con...  "
      ]
     },
     "execution_count": 76,
     "metadata": {},
     "output_type": "execute_result"
    }
   ],
   "source": [
    "df_pivot_bm = pd.DataFrame(res_dict).T\n",
    "float_type_cols = ['g1m', 'g1f', 'g2m', 'g2f']\n",
    "for col in float_type_cols:\n",
    "    df_pivot_bm[col] = df_pivot_bm[col].astype(float)\n",
    "df_pivot_bm.head()"
   ]
  },
  {
   "cell_type": "code",
   "execution_count": 77,
   "metadata": {},
   "outputs": [
    {
     "data": {
      "text/plain": [
       "Index(['om_nct_id', 'om_result_group_id', 'om_outcome_id', 'om_id',\n",
       "       'om_ctgov_group_code', 'om_classification', 'om_category', 'om_title',\n",
       "       'om_description', 'om_units', 'om_param_type', 'om_param_value',\n",
       "       'om_param_value_num', 'om_dispersion_type', 'om_dispersion_value',\n",
       "       'om_dispersion_value_num', 'om_dispersion_lower_limit',\n",
       "       'om_dispersion_upper_limit', 'om_explanation_of_na', 'out_nct_id',\n",
       "       'out_id', 'out_outcome_type', 'out_title', 'out_description',\n",
       "       'out_time_frame', 'out_population', 'out_anticipated_posting_date',\n",
       "       'out_anticipated_posting_month_year', 'out_units', 'out_units_analyzed',\n",
       "       'out_dispersion_type', 'out_param_type', 'ct_nct_id',\n",
       "       'ct_ctgov_group_code', 'ct_num_participants', 'ct_num_measures',\n",
       "       'rgom_nct_id', 'rgom_id', 'rgom_ctgov_group_code', 'rgom_result_type',\n",
       "       'rgom_title', 'rgom_description', 'grp_num'],\n",
       "      dtype='object')"
      ]
     },
     "execution_count": 77,
     "metadata": {},
     "output_type": "execute_result"
    }
   ],
   "source": [
    "dfom_final_ij.columns"
   ]
  },
  {
   "cell_type": "code",
   "execution_count": 78,
   "metadata": {},
   "outputs": [
    {
     "data": {
      "application/vnd.jupyter.widget-view+json": {
       "model_id": "99cbb5857b1d420f825698912253fd90",
       "version_major": 2,
       "version_minor": 0
      },
      "text/plain": [
       "HBox(children=(IntProgress(value=0, max=2042), HTML(value='')))"
      ]
     },
     "metadata": {},
     "output_type": "display_data"
    },
    {
     "name": "stdout",
     "output_type": "stream",
     "text": [
      "\n"
     ]
    }
   ],
   "source": [
    "res_dict = {}\n",
    "for nct_id in tqdm(dfom_final_ij['om_nct_id'].unique()):\n",
    "    sub_df = dfom_final_ij[dfom_final_ij['om_nct_id'] == nct_id]\n",
    "    \n",
    "    g1_mean = sub_df[sub_df['grp_num'] == 1]['om_param_value_num'].values[0]\n",
    "    g2_mean = sub_df[sub_df['grp_num'] == 2]['om_param_value_num'].values[0]\n",
    "    \n",
    "    g1_dtype = sub_df[sub_df['grp_num'] == 1]['om_dispersion_type'].values[0]\n",
    "    g2_dtype = sub_df[sub_df['grp_num'] == 2]['om_dispersion_type'].values[0]\n",
    "    \n",
    "    g1_sd = sub_df[sub_df['grp_num'] == 1]['om_dispersion_value_num'].values[0]\n",
    "    g2_sd = sub_df[sub_df['grp_num'] == 2]['om_dispersion_value_num'].values[0]\n",
    "    \n",
    "    g1title_om = sub_df[sub_df['grp_num'] == 1]['rgom_title'].values[0]\n",
    "    g1des_om = sub_df[sub_df['grp_num'] == 1]['rgom_description'].values[0]\n",
    "    g2title_om = sub_df[sub_df['grp_num'] == 2]['rgom_title'].values[0]\n",
    "    g2des_om = sub_df[sub_df['grp_num'] == 2]['rgom_description'].values[0]\n",
    "    \n",
    "    num_parts1 = sub_df[sub_df['grp_num'] == 1]['ct_num_participants'].values[0]\n",
    "    num_parts2 = sub_df[sub_df['grp_num'] == 2]['ct_num_participants'].values[0]\n",
    "    num_measures1 = sub_df[sub_df['grp_num'] == 1]['ct_num_measures'].values[0]\n",
    "    num_measures2 = sub_df[sub_df['grp_num'] == 2]['ct_num_measures'].values[0]\n",
    "    \n",
    "    res_dict[nct_id] = {\n",
    "        'g1_mean': g1_mean,\n",
    "        'g2_mean': g2_mean,\n",
    "        'g1_dtype': g1_dtype,\n",
    "        'g2_dtype': g2_dtype,\n",
    "        'g1_sd': g1_sd,\n",
    "        'g2_sd': g2_sd,\n",
    "        'g1title_om': g1title_om,\n",
    "        'g1des_om': g1des_om,\n",
    "        'g2title_om': g2title_om,\n",
    "        'g2des_om': g2des_om,\n",
    "        'num_parts1': num_parts1,\n",
    "        'num_parts2': num_parts2,\n",
    "        'num_measures1': num_measures1,\n",
    "        'num_measures2': num_measures2,\n",
    "    }\n",
    "    "
   ]
  },
  {
   "cell_type": "code",
   "execution_count": 79,
   "metadata": {},
   "outputs": [
    {
     "data": {
      "text/html": [
       "<div>\n",
       "<style scoped>\n",
       "    .dataframe tbody tr th:only-of-type {\n",
       "        vertical-align: middle;\n",
       "    }\n",
       "\n",
       "    .dataframe tbody tr th {\n",
       "        vertical-align: top;\n",
       "    }\n",
       "\n",
       "    .dataframe thead th {\n",
       "        text-align: right;\n",
       "    }\n",
       "</style>\n",
       "<table border=\"1\" class=\"dataframe\">\n",
       "  <thead>\n",
       "    <tr style=\"text-align: right;\">\n",
       "      <th></th>\n",
       "      <th>g1_mean</th>\n",
       "      <th>g2_mean</th>\n",
       "      <th>g1_dtype</th>\n",
       "      <th>g2_dtype</th>\n",
       "      <th>g1_sd</th>\n",
       "      <th>g2_sd</th>\n",
       "      <th>g1title_om</th>\n",
       "      <th>g1des_om</th>\n",
       "      <th>g2title_om</th>\n",
       "      <th>g2des_om</th>\n",
       "      <th>num_parts1</th>\n",
       "      <th>num_parts2</th>\n",
       "      <th>num_measures1</th>\n",
       "      <th>num_measures2</th>\n",
       "    </tr>\n",
       "  </thead>\n",
       "  <tbody>\n",
       "    <tr>\n",
       "      <td>NCT00000371</td>\n",
       "      <td>-0.46</td>\n",
       "      <td>-0.41</td>\n",
       "      <td>Standard Error</td>\n",
       "      <td>Standard Error</td>\n",
       "      <td>0.29</td>\n",
       "      <td>0.31</td>\n",
       "      <td>D-Cycloserine</td>\n",
       "      <td>Patients were given 50 mg of D-Cycloserine dai...</td>\n",
       "      <td>Placebo</td>\n",
       "      <td>Patients were given 50 mg of placebo daily in ...</td>\n",
       "      <td>28</td>\n",
       "      <td>27</td>\n",
       "      <td>28</td>\n",
       "      <td>27</td>\n",
       "    </tr>\n",
       "    <tr>\n",
       "      <td>NCT00000392</td>\n",
       "      <td>0.24</td>\n",
       "      <td>0.16</td>\n",
       "      <td>Standard Error</td>\n",
       "      <td>Standard Error</td>\n",
       "      <td>0.05</td>\n",
       "      <td>0.03</td>\n",
       "      <td>Peptide T</td>\n",
       "      <td>Peptide T given intranasally at a dosage of 2m...</td>\n",
       "      <td>Placebo</td>\n",
       "      <td>Placebo given intranasally at a dosage of 2mg ...</td>\n",
       "      <td>66</td>\n",
       "      <td>77</td>\n",
       "      <td>66</td>\n",
       "      <td>77</td>\n",
       "    </tr>\n",
       "    <tr>\n",
       "      <td>NCT00001596</td>\n",
       "      <td>-23.52</td>\n",
       "      <td>-20.93</td>\n",
       "      <td>Standard Deviation</td>\n",
       "      <td>Standard Deviation</td>\n",
       "      <td>24.32</td>\n",
       "      <td>25.59</td>\n",
       "      <td>Pirfenidone</td>\n",
       "      <td>Subjects received pirfenidone 801 mg (3 pills ...</td>\n",
       "      <td>Placebo</td>\n",
       "      <td>Subjects received placebo (3 pills), three tim...</td>\n",
       "      <td>11</td>\n",
       "      <td>3</td>\n",
       "      <td>11</td>\n",
       "      <td>3</td>\n",
       "    </tr>\n",
       "    <tr>\n",
       "      <td>NCT00001723</td>\n",
       "      <td>-0.12</td>\n",
       "      <td>-0.06</td>\n",
       "      <td>Standard Error</td>\n",
       "      <td>Standard Error</td>\n",
       "      <td>0.02</td>\n",
       "      <td>0.02</td>\n",
       "      <td>Orlistat</td>\n",
       "      <td>Orlistat 120 mg TID for 6 months plus a behavi...</td>\n",
       "      <td>Placebo</td>\n",
       "      <td>Matching placebo 120 mg TID x 6 months plus a ...</td>\n",
       "      <td>100</td>\n",
       "      <td>100</td>\n",
       "      <td>100</td>\n",
       "      <td>100</td>\n",
       "    </tr>\n",
       "    <tr>\n",
       "      <td>NCT00004500</td>\n",
       "      <td>10.20</td>\n",
       "      <td>8.10</td>\n",
       "      <td>Standard Deviation</td>\n",
       "      <td>Standard Deviation</td>\n",
       "      <td>9.96</td>\n",
       "      <td>8.52</td>\n",
       "      <td>Lucinactant</td>\n",
       "      <td>Lucinactant via bronchoaveolar lavage</td>\n",
       "      <td>Standard Care</td>\n",
       "      <td>Standard Care included the use of oxygen, CMV,...</td>\n",
       "      <td>38</td>\n",
       "      <td>31</td>\n",
       "      <td>38</td>\n",
       "      <td>31</td>\n",
       "    </tr>\n",
       "  </tbody>\n",
       "</table>\n",
       "</div>"
      ],
      "text/plain": [
       "             g1_mean  g2_mean            g1_dtype            g2_dtype  g1_sd  \\\n",
       "NCT00000371    -0.46    -0.41      Standard Error      Standard Error   0.29   \n",
       "NCT00000392     0.24     0.16      Standard Error      Standard Error   0.05   \n",
       "NCT00001596   -23.52   -20.93  Standard Deviation  Standard Deviation  24.32   \n",
       "NCT00001723    -0.12    -0.06      Standard Error      Standard Error   0.02   \n",
       "NCT00004500    10.20     8.10  Standard Deviation  Standard Deviation   9.96   \n",
       "\n",
       "             g2_sd     g1title_om  \\\n",
       "NCT00000371   0.31  D-Cycloserine   \n",
       "NCT00000392   0.03      Peptide T   \n",
       "NCT00001596  25.59    Pirfenidone   \n",
       "NCT00001723   0.02       Orlistat   \n",
       "NCT00004500   8.52    Lucinactant   \n",
       "\n",
       "                                                      g1des_om     g2title_om  \\\n",
       "NCT00000371  Patients were given 50 mg of D-Cycloserine dai...        Placebo   \n",
       "NCT00000392  Peptide T given intranasally at a dosage of 2m...        Placebo   \n",
       "NCT00001596  Subjects received pirfenidone 801 mg (3 pills ...        Placebo   \n",
       "NCT00001723  Orlistat 120 mg TID for 6 months plus a behavi...        Placebo   \n",
       "NCT00004500              Lucinactant via bronchoaveolar lavage  Standard Care   \n",
       "\n",
       "                                                      g2des_om  num_parts1  \\\n",
       "NCT00000371  Patients were given 50 mg of placebo daily in ...          28   \n",
       "NCT00000392  Placebo given intranasally at a dosage of 2mg ...          66   \n",
       "NCT00001596  Subjects received placebo (3 pills), three tim...          11   \n",
       "NCT00001723  Matching placebo 120 mg TID x 6 months plus a ...         100   \n",
       "NCT00004500  Standard Care included the use of oxygen, CMV,...          38   \n",
       "\n",
       "             num_parts2  num_measures1  num_measures2  \n",
       "NCT00000371          27             28             27  \n",
       "NCT00000392          77             66             77  \n",
       "NCT00001596           3             11              3  \n",
       "NCT00001723         100            100            100  \n",
       "NCT00004500          31             38             31  "
      ]
     },
     "execution_count": 79,
     "metadata": {},
     "output_type": "execute_result"
    }
   ],
   "source": [
    "df_pivot_om = pd.DataFrame(res_dict).T\n",
    "float_type_cols = ['g1_mean', 'g2_mean', 'g1_sd', 'g2_sd']\n",
    "for col in float_type_cols:\n",
    "    df_pivot_om[col] = df_pivot_om[col].astype(float)\n",
    "    \n",
    "int_type_cols = ['num_parts1', 'num_parts2', 'num_measures1', 'num_measures2']\n",
    "for col in int_type_cols:\n",
    "    df_pivot_om[col] = df_pivot_om[col].astype(int)\n",
    "    \n",
    "df_pivot_om.head()"
   ]
  },
  {
   "cell_type": "markdown",
   "metadata": {},
   "source": [
    "## Joining both pivoted datasets"
   ]
  },
  {
   "cell_type": "code",
   "execution_count": 1,
   "metadata": {},
   "outputs": [
    {
     "data": {
      "text/plain": [
       "36522"
      ]
     },
     "execution_count": 1,
     "metadata": {},
     "output_type": "execute_result"
    }
   ],
   "source": [
    "38564 - 2042"
   ]
  },
  {
   "cell_type": "code",
   "execution_count": 80,
   "metadata": {},
   "outputs": [
    {
     "data": {
      "text/plain": [
       "(2042, 22)"
      ]
     },
     "execution_count": 80,
     "metadata": {},
     "output_type": "execute_result"
    }
   ],
   "source": [
    "dfj = df_pivot_bm.join(df_pivot_om, how='inner')\n",
    "dfj.shape"
   ]
  },
  {
   "cell_type": "markdown",
   "metadata": {},
   "source": [
    "## let's make sure the groups didn't get mixed up"
   ]
  },
  {
   "cell_type": "code",
   "execution_count": 81,
   "metadata": {},
   "outputs": [
    {
     "data": {
      "text/html": [
       "<div>\n",
       "<style scoped>\n",
       "    .dataframe tbody tr th:only-of-type {\n",
       "        vertical-align: middle;\n",
       "    }\n",
       "\n",
       "    .dataframe tbody tr th {\n",
       "        vertical-align: top;\n",
       "    }\n",
       "\n",
       "    .dataframe thead th {\n",
       "        text-align: right;\n",
       "    }\n",
       "</style>\n",
       "<table border=\"1\" class=\"dataframe\">\n",
       "  <thead>\n",
       "    <tr style=\"text-align: right;\">\n",
       "      <th></th>\n",
       "      <th>g1title</th>\n",
       "      <th>g2title</th>\n",
       "      <th>g1title_om</th>\n",
       "      <th>g2title_om</th>\n",
       "    </tr>\n",
       "  </thead>\n",
       "  <tbody>\n",
       "    <tr>\n",
       "      <td>NCT00114127</td>\n",
       "      <td>Duloxetine 60mg/Day + Placebo for 18 Weeks(Pha...</td>\n",
       "      <td>Duloxetine 120mg/Day for 18 Weeks (Phase 2)</td>\n",
       "      <td>Duloxetine 60mg/Day + Placebo for 18 Weeks (Ph...</td>\n",
       "      <td>Duloxetine 120mg/Day for 18 Weeks (Phase 2)</td>\n",
       "    </tr>\n",
       "    <tr>\n",
       "      <td>NCT00180479</td>\n",
       "      <td>XIENCE V® EECSS</td>\n",
       "      <td>TAXUS® EXPRESS2™ ECSS</td>\n",
       "      <td>XIENCE V® EECSS</td>\n",
       "      <td>TAXUS® EXPRESS2™ ECSS</td>\n",
       "    </tr>\n",
       "    <tr>\n",
       "      <td>NCT00405275</td>\n",
       "      <td>Triple</td>\n",
       "      <td>Etanercept</td>\n",
       "      <td>Triple</td>\n",
       "      <td>Etanercept</td>\n",
       "    </tr>\n",
       "    <tr>\n",
       "      <td>NCT00446654</td>\n",
       "      <td>CGC-11047 Once Every 2 Weeks</td>\n",
       "      <td>CGC-11047 Once Every Four Weeks</td>\n",
       "      <td>CGC-11047 Once Every 2 Weeks</td>\n",
       "      <td>CGC-11047 Once Every Four Weeks</td>\n",
       "    </tr>\n",
       "    <tr>\n",
       "      <td>NCT00728754</td>\n",
       "      <td>Osseotite Certain Prevail Implant</td>\n",
       "      <td>Osseotite Certain Implant</td>\n",
       "      <td>Osseotite Certain Prevail Implant</td>\n",
       "      <td>Osseotite Certain Implant</td>\n",
       "    </tr>\n",
       "    <tr>\n",
       "      <td>...</td>\n",
       "      <td>...</td>\n",
       "      <td>...</td>\n",
       "      <td>...</td>\n",
       "      <td>...</td>\n",
       "    </tr>\n",
       "    <tr>\n",
       "      <td>NCT03663179</td>\n",
       "      <td>Active TMS</td>\n",
       "      <td>Sham TMS</td>\n",
       "      <td>Active TMS</td>\n",
       "      <td>Sham TMS</td>\n",
       "    </tr>\n",
       "    <tr>\n",
       "      <td>NCT03739242</td>\n",
       "      <td>Nutraceutical Combination</td>\n",
       "      <td>Placebo</td>\n",
       "      <td>Nutraceutical Combination</td>\n",
       "      <td>Placebo</td>\n",
       "    </tr>\n",
       "    <tr>\n",
       "      <td>NCT03831451</td>\n",
       "      <td>Stroke Preparedness Intervention</td>\n",
       "      <td>Healthy Lifestyle Intervention</td>\n",
       "      <td>Stroke Preparedness Intervention</td>\n",
       "      <td>Healthy Lifestyle Intervention</td>\n",
       "    </tr>\n",
       "    <tr>\n",
       "      <td>NCT04109703</td>\n",
       "      <td>High Level Pulsed Heat</td>\n",
       "      <td>Low Level Steady Heat</td>\n",
       "      <td>High Level Pulsed Heat</td>\n",
       "      <td>Low Level Steady Heat</td>\n",
       "    </tr>\n",
       "    <tr>\n",
       "      <td>NCT04123665</td>\n",
       "      <td>Experimental Test Stannous Fluoride Dentifrice</td>\n",
       "      <td>Control Sodium Monofluorophosphate Dentifrice</td>\n",
       "      <td>Experimental Test Stannous Fluoride Dentifrice</td>\n",
       "      <td>Control Sodium Monofluorophosphate Dentifrice</td>\n",
       "    </tr>\n",
       "  </tbody>\n",
       "</table>\n",
       "<p>2042 rows × 4 columns</p>\n",
       "</div>"
      ],
      "text/plain": [
       "                                                       g1title  \\\n",
       "NCT00114127  Duloxetine 60mg/Day + Placebo for 18 Weeks(Pha...   \n",
       "NCT00180479                                    XIENCE V® EECSS   \n",
       "NCT00405275                                             Triple   \n",
       "NCT00446654                       CGC-11047 Once Every 2 Weeks   \n",
       "NCT00728754                  Osseotite Certain Prevail Implant   \n",
       "...                                                        ...   \n",
       "NCT03663179                                         Active TMS   \n",
       "NCT03739242                          Nutraceutical Combination   \n",
       "NCT03831451                   Stroke Preparedness Intervention   \n",
       "NCT04109703                             High Level Pulsed Heat   \n",
       "NCT04123665     Experimental Test Stannous Fluoride Dentifrice   \n",
       "\n",
       "                                                   g2title  \\\n",
       "NCT00114127    Duloxetine 120mg/Day for 18 Weeks (Phase 2)   \n",
       "NCT00180479                          TAXUS® EXPRESS2™ ECSS   \n",
       "NCT00405275                                     Etanercept   \n",
       "NCT00446654                CGC-11047 Once Every Four Weeks   \n",
       "NCT00728754                      Osseotite Certain Implant   \n",
       "...                                                    ...   \n",
       "NCT03663179                                       Sham TMS   \n",
       "NCT03739242                                        Placebo   \n",
       "NCT03831451                 Healthy Lifestyle Intervention   \n",
       "NCT04109703                          Low Level Steady Heat   \n",
       "NCT04123665  Control Sodium Monofluorophosphate Dentifrice   \n",
       "\n",
       "                                                    g1title_om  \\\n",
       "NCT00114127  Duloxetine 60mg/Day + Placebo for 18 Weeks (Ph...   \n",
       "NCT00180479                                    XIENCE V® EECSS   \n",
       "NCT00405275                                             Triple   \n",
       "NCT00446654                       CGC-11047 Once Every 2 Weeks   \n",
       "NCT00728754                  Osseotite Certain Prevail Implant   \n",
       "...                                                        ...   \n",
       "NCT03663179                                         Active TMS   \n",
       "NCT03739242                          Nutraceutical Combination   \n",
       "NCT03831451                   Stroke Preparedness Intervention   \n",
       "NCT04109703                             High Level Pulsed Heat   \n",
       "NCT04123665     Experimental Test Stannous Fluoride Dentifrice   \n",
       "\n",
       "                                                g2title_om  \n",
       "NCT00114127    Duloxetine 120mg/Day for 18 Weeks (Phase 2)  \n",
       "NCT00180479                          TAXUS® EXPRESS2™ ECSS  \n",
       "NCT00405275                                     Etanercept  \n",
       "NCT00446654                CGC-11047 Once Every Four Weeks  \n",
       "NCT00728754                      Osseotite Certain Implant  \n",
       "...                                                    ...  \n",
       "NCT03663179                                       Sham TMS  \n",
       "NCT03739242                                        Placebo  \n",
       "NCT03831451                 Healthy Lifestyle Intervention  \n",
       "NCT04109703                          Low Level Steady Heat  \n",
       "NCT04123665  Control Sodium Monofluorophosphate Dentifrice  \n",
       "\n",
       "[2042 rows x 4 columns]"
      ]
     },
     "execution_count": 81,
     "metadata": {},
     "output_type": "execute_result"
    }
   ],
   "source": [
    "dfj[[x for x in dfj.columns if 'title' in x]]"
   ]
  },
  {
   "cell_type": "code",
   "execution_count": 82,
   "metadata": {},
   "outputs": [
    {
     "data": {
      "text/html": [
       "<div>\n",
       "<style scoped>\n",
       "    .dataframe tbody tr th:only-of-type {\n",
       "        vertical-align: middle;\n",
       "    }\n",
       "\n",
       "    .dataframe tbody tr th {\n",
       "        vertical-align: top;\n",
       "    }\n",
       "\n",
       "    .dataframe thead th {\n",
       "        text-align: right;\n",
       "    }\n",
       "</style>\n",
       "<table border=\"1\" class=\"dataframe\">\n",
       "  <thead>\n",
       "    <tr style=\"text-align: right;\">\n",
       "      <th></th>\n",
       "      <th>g1title</th>\n",
       "      <th>g2title</th>\n",
       "      <th>g1title_om</th>\n",
       "      <th>g2title_om</th>\n",
       "    </tr>\n",
       "  </thead>\n",
       "  <tbody>\n",
       "    <tr>\n",
       "      <td>NCT00114127</td>\n",
       "      <td>Duloxetine 60mg/Day + Placebo for 18 Weeks(Pha...</td>\n",
       "      <td>Duloxetine 120mg/Day for 18 Weeks (Phase 2)</td>\n",
       "      <td>Duloxetine 60mg/Day + Placebo for 18 Weeks (Ph...</td>\n",
       "      <td>Duloxetine 120mg/Day for 18 Weeks (Phase 2)</td>\n",
       "    </tr>\n",
       "    <tr>\n",
       "      <td>NCT00909779</td>\n",
       "      <td>Placebo Comparator: Placebo Twice Daily</td>\n",
       "      <td>Experimental: Arformoterol 15 Mcg Twice Daily</td>\n",
       "      <td>Experimental: Arformoterol 15 Mcg Twice Daily</td>\n",
       "      <td>Placebo</td>\n",
       "    </tr>\n",
       "    <tr>\n",
       "      <td>NCT03698591</td>\n",
       "      <td>Transcranial Magnetic Stimulation (TMS), Then ...</td>\n",
       "      <td>Sham TMS, Then Transcranial Magnetic Stimulation</td>\n",
       "      <td>Transcranial Magnetic Stimulation (TMS)</td>\n",
       "      <td>Sham TMS</td>\n",
       "    </tr>\n",
       "    <tr>\n",
       "      <td>NCT00064792</td>\n",
       "      <td>Placebo Followed by Simvastatin</td>\n",
       "      <td>Simvastatin Followed by Placebo</td>\n",
       "      <td>Not Simvastatin</td>\n",
       "      <td>Simvastatin</td>\n",
       "    </tr>\n",
       "    <tr>\n",
       "      <td>NCT00116844</td>\n",
       "      <td>Sequence 1: VALTREX 1 g Once Daily, Placebo</td>\n",
       "      <td>Sequence 2: Placebo, VALTREX 1 g Once Daily</td>\n",
       "      <td>VALTREX 1 g Once Daily</td>\n",
       "      <td>Placebo</td>\n",
       "    </tr>\n",
       "    <tr>\n",
       "      <td>...</td>\n",
       "      <td>...</td>\n",
       "      <td>...</td>\n",
       "      <td>...</td>\n",
       "      <td>...</td>\n",
       "    </tr>\n",
       "    <tr>\n",
       "      <td>NCT02986139</td>\n",
       "      <td>Sequence AB</td>\n",
       "      <td>Sequence BA</td>\n",
       "      <td>Etanercept Commercial Formulation</td>\n",
       "      <td>Etanercept New Formulation</td>\n",
       "    </tr>\n",
       "    <tr>\n",
       "      <td>NCT02997904</td>\n",
       "      <td>Resultz Lice and Egg Removal Kit</td>\n",
       "      <td>Sham Lice and Egg Removal Kit</td>\n",
       "      <td>Resultz Lice and Egg Elimination Kit</td>\n",
       "      <td>Sham Lice and Egg Elimination Kit</td>\n",
       "    </tr>\n",
       "    <tr>\n",
       "      <td>NCT03001778</td>\n",
       "      <td>Community Usability Testing</td>\n",
       "      <td>ILF Usability Testing</td>\n",
       "      <td>Community Residents</td>\n",
       "      <td>ILF Resident Usability Testing</td>\n",
       "    </tr>\n",
       "    <tr>\n",
       "      <td>NCT03141086</td>\n",
       "      <td>Group 1</td>\n",
       "      <td>Group 2</td>\n",
       "      <td>LML134 5mg</td>\n",
       "      <td>Placebo</td>\n",
       "    </tr>\n",
       "    <tr>\n",
       "      <td>NCT03365011</td>\n",
       "      <td>Placebo First</td>\n",
       "      <td>Nitrous Oxide</td>\n",
       "      <td>Placebo</td>\n",
       "      <td>Nitrous Oxide</td>\n",
       "    </tr>\n",
       "  </tbody>\n",
       "</table>\n",
       "<p>234 rows × 4 columns</p>\n",
       "</div>"
      ],
      "text/plain": [
       "                                                       g1title  \\\n",
       "NCT00114127  Duloxetine 60mg/Day + Placebo for 18 Weeks(Pha...   \n",
       "NCT00909779            Placebo Comparator: Placebo Twice Daily   \n",
       "NCT03698591  Transcranial Magnetic Stimulation (TMS), Then ...   \n",
       "NCT00064792                    Placebo Followed by Simvastatin   \n",
       "NCT00116844        Sequence 1: VALTREX 1 g Once Daily, Placebo   \n",
       "...                                                        ...   \n",
       "NCT02986139                                        Sequence AB   \n",
       "NCT02997904                   Resultz Lice and Egg Removal Kit   \n",
       "NCT03001778                        Community Usability Testing   \n",
       "NCT03141086                                            Group 1   \n",
       "NCT03365011                                      Placebo First   \n",
       "\n",
       "                                                      g2title  \\\n",
       "NCT00114127       Duloxetine 120mg/Day for 18 Weeks (Phase 2)   \n",
       "NCT00909779     Experimental: Arformoterol 15 Mcg Twice Daily   \n",
       "NCT03698591  Sham TMS, Then Transcranial Magnetic Stimulation   \n",
       "NCT00064792                   Simvastatin Followed by Placebo   \n",
       "NCT00116844       Sequence 2: Placebo, VALTREX 1 g Once Daily   \n",
       "...                                                       ...   \n",
       "NCT02986139                                       Sequence BA   \n",
       "NCT02997904                     Sham Lice and Egg Removal Kit   \n",
       "NCT03001778                             ILF Usability Testing   \n",
       "NCT03141086                                           Group 2   \n",
       "NCT03365011                                     Nitrous Oxide   \n",
       "\n",
       "                                                    g1title_om  \\\n",
       "NCT00114127  Duloxetine 60mg/Day + Placebo for 18 Weeks (Ph...   \n",
       "NCT00909779      Experimental: Arformoterol 15 Mcg Twice Daily   \n",
       "NCT03698591            Transcranial Magnetic Stimulation (TMS)   \n",
       "NCT00064792                                    Not Simvastatin   \n",
       "NCT00116844                             VALTREX 1 g Once Daily   \n",
       "...                                                        ...   \n",
       "NCT02986139                  Etanercept Commercial Formulation   \n",
       "NCT02997904               Resultz Lice and Egg Elimination Kit   \n",
       "NCT03001778                                Community Residents   \n",
       "NCT03141086                                         LML134 5mg   \n",
       "NCT03365011                                            Placebo   \n",
       "\n",
       "                                              g2title_om  \n",
       "NCT00114127  Duloxetine 120mg/Day for 18 Weeks (Phase 2)  \n",
       "NCT00909779                                      Placebo  \n",
       "NCT03698591                                     Sham TMS  \n",
       "NCT00064792                                  Simvastatin  \n",
       "NCT00116844                                      Placebo  \n",
       "...                                                  ...  \n",
       "NCT02986139                   Etanercept New Formulation  \n",
       "NCT02997904            Sham Lice and Egg Elimination Kit  \n",
       "NCT03001778               ILF Resident Usability Testing  \n",
       "NCT03141086                                      Placebo  \n",
       "NCT03365011                                Nitrous Oxide  \n",
       "\n",
       "[234 rows x 4 columns]"
      ]
     },
     "execution_count": 82,
     "metadata": {},
     "output_type": "execute_result"
    }
   ],
   "source": [
    "dfj[dfj['g1title'] != dfj['g1title_om']][[x for x in dfj.columns if 'title' in x]]"
   ]
  },
  {
   "cell_type": "markdown",
   "metadata": {},
   "source": [
    "Notes: we can tell that some of groups did get mixed up:\n",
    "\n",
    "for example, NCT00909779, group 1 from bm is the placebo, where as group 2 from the om is the placebo\n",
    "\n",
    "\n",
    "##### Since imbalance is calculated only from BM measures, and effect only from OM measures, we don't need to match them, but if we were to use this dataset for other purposes we'd have to complete the work below to link the groups"
   ]
  },
  {
   "cell_type": "markdown",
   "metadata": {},
   "source": [
    "### Correcting for the SD"
   ]
  },
  {
   "cell_type": "code",
   "execution_count": 83,
   "metadata": {},
   "outputs": [],
   "source": [
    "drop_cols = ['g1title', 'g1des', 'g2title', 'g2des', \n",
    "             'g1title_om', 'g1des_om', 'g2title_om', 'g2des_om']\n",
    "dfj = dfj.drop(drop_cols, axis=1)"
   ]
  },
  {
   "cell_type": "code",
   "execution_count": 84,
   "metadata": {},
   "outputs": [
    {
     "data": {
      "text/plain": [
       "Index(['g1m', 'g1f', 'g2m', 'g2f', 'g1_mean', 'g2_mean', 'g1_dtype',\n",
       "       'g2_dtype', 'g1_sd', 'g2_sd', 'num_parts1', 'num_parts2',\n",
       "       'num_measures1', 'num_measures2'],\n",
       "      dtype='object')"
      ]
     },
     "execution_count": 84,
     "metadata": {},
     "output_type": "execute_result"
    }
   ],
   "source": [
    "dfj.columns"
   ]
  },
  {
   "cell_type": "code",
   "execution_count": 85,
   "metadata": {},
   "outputs": [],
   "source": [
    "def generate_sd_fn(sdcol, tcol, dtypecol):\n",
    "    def standardize_sd(row):\n",
    "        g_sd = row[sdcol]\n",
    "        gt = row[tcol]\n",
    "        if row[dtypecol] == 'Standard Error':\n",
    "            g_sd = g_sd * np.sqrt(gt)\n",
    "        return g_sd\n",
    "    return standardize_sd\n",
    "\n",
    "dfj['g1t'] = dfj['g1f'] + dfj['g1m']\n",
    "dfj['g2t'] = dfj['g2f'] + dfj['g2m']\n",
    "\n",
    "# use num_measures as the unit to scale the listed sd\n",
    "dfj['g1_sd_sample'] = dfj.apply(generate_sd_fn('g1_sd', 'num_measures1', 'g1_dtype'), axis=1)\n",
    "dfj['g2_sd_sample'] = dfj.apply(generate_sd_fn('g2_sd', 'num_measures2', 'g2_dtype'), axis=1)\n",
    "\n",
    "dfj = dfj.drop(['g1_sd', 'g2_sd', 'g1_dtype', 'g2_dtype'], axis=1)"
   ]
  },
  {
   "cell_type": "markdown",
   "metadata": {},
   "source": [
    "## Imbalance"
   ]
  },
  {
   "cell_type": "code",
   "execution_count": 86,
   "metadata": {},
   "outputs": [],
   "source": [
    "dfj['imbal'] = np.abs((dfj['g1m'] / dfj['g1t']) - (dfj['g2m'] / dfj['g2t']))"
   ]
  },
  {
   "cell_type": "markdown",
   "metadata": {},
   "source": [
    "## Effect"
   ]
  },
  {
   "cell_type": "code",
   "execution_count": 87,
   "metadata": {},
   "outputs": [],
   "source": [
    "numer = np.abs(dfj['g1_mean'] - dfj['g2_mean'])\n",
    "denom = np.sqrt((dfj['num_measures1'] * dfj['g1_sd_sample'] ** 2)  + \\\n",
    "                 (dfj['num_measures2'] * dfj['g2_sd_sample'] ** 2) / \n",
    "                 (dfj['num_measures1'] + dfj['num_measures2']))\n",
    "\n",
    "dfj['effect'] = numer / denom\n"
   ]
  },
  {
   "cell_type": "code",
   "execution_count": 88,
   "metadata": {},
   "outputs": [],
   "source": [
    "dfj.to_pickle('effect_imbal_enhanced.p')"
   ]
  },
  {
   "cell_type": "code",
   "execution_count": null,
   "metadata": {},
   "outputs": [],
   "source": []
  },
  {
   "cell_type": "code",
   "execution_count": 90,
   "metadata": {},
   "outputs": [
    {
     "data": {
      "text/html": [
       "<div>\n",
       "<style scoped>\n",
       "    .dataframe tbody tr th:only-of-type {\n",
       "        vertical-align: middle;\n",
       "    }\n",
       "\n",
       "    .dataframe tbody tr th {\n",
       "        vertical-align: top;\n",
       "    }\n",
       "\n",
       "    .dataframe thead th {\n",
       "        text-align: right;\n",
       "    }\n",
       "</style>\n",
       "<table border=\"1\" class=\"dataframe\">\n",
       "  <thead>\n",
       "    <tr style=\"text-align: right;\">\n",
       "      <th></th>\n",
       "      <th>g1m</th>\n",
       "      <th>g1f</th>\n",
       "      <th>g2m</th>\n",
       "      <th>g2f</th>\n",
       "      <th>g1_mean</th>\n",
       "      <th>g2_mean</th>\n",
       "      <th>num_parts1</th>\n",
       "      <th>num_parts2</th>\n",
       "      <th>num_measures1</th>\n",
       "      <th>num_measures2</th>\n",
       "      <th>g1t</th>\n",
       "      <th>g2t</th>\n",
       "      <th>g1_sd_sample</th>\n",
       "      <th>g2_sd_sample</th>\n",
       "      <th>imbal</th>\n",
       "      <th>effect</th>\n",
       "    </tr>\n",
       "  </thead>\n",
       "  <tbody>\n",
       "    <tr>\n",
       "      <td>NCT00909779</td>\n",
       "      <td>243.0</td>\n",
       "      <td>178.0</td>\n",
       "      <td>236.0</td>\n",
       "      <td>183.0</td>\n",
       "      <td>155.0</td>\n",
       "      <td>171.7</td>\n",
       "      <td>420</td>\n",
       "      <td>421</td>\n",
       "      <td>63</td>\n",
       "      <td>40</td>\n",
       "      <td>421.0</td>\n",
       "      <td>419.0</td>\n",
       "      <td>91.200000</td>\n",
       "      <td>98.7</td>\n",
       "      <td>0.013951</td>\n",
       "      <td>0.022987</td>\n",
       "    </tr>\n",
       "    <tr>\n",
       "      <td>NCT01481935</td>\n",
       "      <td>63.0</td>\n",
       "      <td>30.0</td>\n",
       "      <td>56.0</td>\n",
       "      <td>41.0</td>\n",
       "      <td>20.5</td>\n",
       "      <td>17.2</td>\n",
       "      <td>97</td>\n",
       "      <td>93</td>\n",
       "      <td>55</td>\n",
       "      <td>49</td>\n",
       "      <td>93.0</td>\n",
       "      <td>97.0</td>\n",
       "      <td>15.574017</td>\n",
       "      <td>17.5</td>\n",
       "      <td>0.100100</td>\n",
       "      <td>0.028418</td>\n",
       "    </tr>\n",
       "    <tr>\n",
       "      <td>NCT02004977</td>\n",
       "      <td>209.0</td>\n",
       "      <td>254.0</td>\n",
       "      <td>204.0</td>\n",
       "      <td>237.0</td>\n",
       "      <td>8.3</td>\n",
       "      <td>0.9</td>\n",
       "      <td>463</td>\n",
       "      <td>441</td>\n",
       "      <td>8</td>\n",
       "      <td>8</td>\n",
       "      <td>463.0</td>\n",
       "      <td>441.0</td>\n",
       "      <td>9.800000</td>\n",
       "      <td>1.6</td>\n",
       "      <td>0.011181</td>\n",
       "      <td>0.266747</td>\n",
       "    </tr>\n",
       "  </tbody>\n",
       "</table>\n",
       "</div>"
      ],
      "text/plain": [
       "               g1m    g1f    g2m    g2f  g1_mean  g2_mean  num_parts1  \\\n",
       "NCT00909779  243.0  178.0  236.0  183.0    155.0    171.7         420   \n",
       "NCT01481935   63.0   30.0   56.0   41.0     20.5     17.2          97   \n",
       "NCT02004977  209.0  254.0  204.0  237.0      8.3      0.9         463   \n",
       "\n",
       "             num_parts2  num_measures1  num_measures2    g1t    g2t  \\\n",
       "NCT00909779         421             63             40  421.0  419.0   \n",
       "NCT01481935          93             55             49   93.0   97.0   \n",
       "NCT02004977         441              8              8  463.0  441.0   \n",
       "\n",
       "             g1_sd_sample  g2_sd_sample     imbal    effect  \n",
       "NCT00909779     91.200000          98.7  0.013951  0.022987  \n",
       "NCT01481935     15.574017          17.5  0.100100  0.028418  \n",
       "NCT02004977      9.800000           1.6  0.011181  0.266747  "
      ]
     },
     "execution_count": 90,
     "metadata": {},
     "output_type": "execute_result"
    }
   ],
   "source": [
    "dfj[dfj['num_parts1'] > dfj['num_measures1']]"
   ]
  },
  {
   "cell_type": "code",
   "execution_count": 91,
   "metadata": {},
   "outputs": [
    {
     "data": {
      "text/html": [
       "<div>\n",
       "<style scoped>\n",
       "    .dataframe tbody tr th:only-of-type {\n",
       "        vertical-align: middle;\n",
       "    }\n",
       "\n",
       "    .dataframe tbody tr th {\n",
       "        vertical-align: top;\n",
       "    }\n",
       "\n",
       "    .dataframe thead th {\n",
       "        text-align: right;\n",
       "    }\n",
       "</style>\n",
       "<table border=\"1\" class=\"dataframe\">\n",
       "  <thead>\n",
       "    <tr style=\"text-align: right;\">\n",
       "      <th></th>\n",
       "      <th>g1m</th>\n",
       "      <th>g1f</th>\n",
       "      <th>g2m</th>\n",
       "      <th>g2f</th>\n",
       "      <th>g1_mean</th>\n",
       "      <th>g2_mean</th>\n",
       "      <th>num_parts1</th>\n",
       "      <th>num_parts2</th>\n",
       "      <th>num_measures1</th>\n",
       "      <th>num_measures2</th>\n",
       "      <th>g1t</th>\n",
       "      <th>g2t</th>\n",
       "      <th>g1_sd_sample</th>\n",
       "      <th>g2_sd_sample</th>\n",
       "      <th>imbal</th>\n",
       "      <th>effect</th>\n",
       "    </tr>\n",
       "  </thead>\n",
       "  <tbody>\n",
       "    <tr>\n",
       "      <td>NCT00909779</td>\n",
       "      <td>243.0</td>\n",
       "      <td>178.0</td>\n",
       "      <td>236.0</td>\n",
       "      <td>183.0</td>\n",
       "      <td>155.0</td>\n",
       "      <td>171.7</td>\n",
       "      <td>420</td>\n",
       "      <td>421</td>\n",
       "      <td>63</td>\n",
       "      <td>40</td>\n",
       "      <td>421.0</td>\n",
       "      <td>419.0</td>\n",
       "      <td>91.200000</td>\n",
       "      <td>98.7</td>\n",
       "      <td>0.013951</td>\n",
       "      <td>0.022987</td>\n",
       "    </tr>\n",
       "    <tr>\n",
       "      <td>NCT01481935</td>\n",
       "      <td>63.0</td>\n",
       "      <td>30.0</td>\n",
       "      <td>56.0</td>\n",
       "      <td>41.0</td>\n",
       "      <td>20.5</td>\n",
       "      <td>17.2</td>\n",
       "      <td>97</td>\n",
       "      <td>93</td>\n",
       "      <td>55</td>\n",
       "      <td>49</td>\n",
       "      <td>93.0</td>\n",
       "      <td>97.0</td>\n",
       "      <td>15.574017</td>\n",
       "      <td>17.5</td>\n",
       "      <td>0.100100</td>\n",
       "      <td>0.028418</td>\n",
       "    </tr>\n",
       "    <tr>\n",
       "      <td>NCT02004977</td>\n",
       "      <td>209.0</td>\n",
       "      <td>254.0</td>\n",
       "      <td>204.0</td>\n",
       "      <td>237.0</td>\n",
       "      <td>8.3</td>\n",
       "      <td>0.9</td>\n",
       "      <td>463</td>\n",
       "      <td>441</td>\n",
       "      <td>8</td>\n",
       "      <td>8</td>\n",
       "      <td>463.0</td>\n",
       "      <td>441.0</td>\n",
       "      <td>9.800000</td>\n",
       "      <td>1.6</td>\n",
       "      <td>0.011181</td>\n",
       "      <td>0.266747</td>\n",
       "    </tr>\n",
       "  </tbody>\n",
       "</table>\n",
       "</div>"
      ],
      "text/plain": [
       "               g1m    g1f    g2m    g2f  g1_mean  g2_mean  num_parts1  \\\n",
       "NCT00909779  243.0  178.0  236.0  183.0    155.0    171.7         420   \n",
       "NCT01481935   63.0   30.0   56.0   41.0     20.5     17.2          97   \n",
       "NCT02004977  209.0  254.0  204.0  237.0      8.3      0.9         463   \n",
       "\n",
       "             num_parts2  num_measures1  num_measures2    g1t    g2t  \\\n",
       "NCT00909779         421             63             40  421.0  419.0   \n",
       "NCT01481935          93             55             49   93.0   97.0   \n",
       "NCT02004977         441              8              8  463.0  441.0   \n",
       "\n",
       "             g1_sd_sample  g2_sd_sample     imbal    effect  \n",
       "NCT00909779     91.200000          98.7  0.013951  0.022987  \n",
       "NCT01481935     15.574017          17.5  0.100100  0.028418  \n",
       "NCT02004977      9.800000           1.6  0.011181  0.266747  "
      ]
     },
     "execution_count": 91,
     "metadata": {},
     "output_type": "execute_result"
    }
   ],
   "source": [
    "dfj[dfj['num_parts2'] > dfj['num_measures2']]"
   ]
  },
  {
   "cell_type": "code",
   "execution_count": null,
   "metadata": {},
   "outputs": [],
   "source": []
  },
  {
   "cell_type": "code",
   "execution_count": null,
   "metadata": {},
   "outputs": [],
   "source": []
  },
  {
   "cell_type": "code",
   "execution_count": null,
   "metadata": {},
   "outputs": [],
   "source": []
  },
  {
   "cell_type": "code",
   "execution_count": null,
   "metadata": {},
   "outputs": [],
   "source": []
  }
 ],
 "metadata": {
  "kernelspec": {
   "display_name": "Python 3",
   "language": "python",
   "name": "python3"
  },
  "language_info": {
   "codemirror_mode": {
    "name": "ipython",
    "version": 3
   },
   "file_extension": ".py",
   "mimetype": "text/x-python",
   "name": "python",
   "nbconvert_exporter": "python",
   "pygments_lexer": "ipython3",
   "version": "3.6.9"
  }
 },
 "nbformat": 4,
 "nbformat_minor": 2
}
