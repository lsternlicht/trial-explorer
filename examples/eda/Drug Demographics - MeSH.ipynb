{
 "cells": [
  {
   "cell_type": "code",
   "execution_count": 1,
   "metadata": {},
   "outputs": [],
   "source": [
    "import pandas as pd\n",
    "import numpy as np\n",
    "from tqdm import tqdm_notebook\n",
    "from tqdm import tqdm\n",
    "tqdm.pandas()\n",
    "\n",
    "import pdaactconn as pc\n",
    "from trialexplorer.mesh_terms import MeSHCatalog\n",
    "from trialexplorer import AACTStudySet\n",
    "\n",
    "import matplotlib.pyplot as plt\n",
    "%matplotlib inline"
   ]
  },
  {
   "cell_type": "code",
   "execution_count": 2,
   "metadata": {},
   "outputs": [
    {
     "name": "stdout",
     "output_type": "stream",
     "text": [
      "No Local XML detected at xml/desc2020.xml, Fetching file from FTP server for the first time ...\n",
      "Remote Server: nlmpubs.nlm.nih.gov\n",
      "Remote Dir: online/mesh/MESH_FILES/xmlmesh\n",
      "local file written to xml/desc2020.xml\n",
      "Parsing MeSH xml: xml/desc2020.xml ...\n",
      "Parse Complete! (parsed ElementTree root can be found in the .root attribute)\n"
     ]
    }
   ],
   "source": [
    "# intializing MeSH object\n",
    "mc = MeSHCatalog()  "
   ]
  },
  {
   "cell_type": "code",
   "execution_count": 59,
   "metadata": {},
   "outputs": [
    {
     "name": "stdout",
     "output_type": "stream",
     "text": [
      "250890 studies loaded!\n"
     ]
    }
   ],
   "source": [
    "# selecting all interventional studies\n",
    "conn = pc.AACTConnection(source=pc.AACTConnection.LOCAL)\n",
    "ss = AACTStudySet.AACTStudySet(conn= conn, tqdm_handler=tqdm_notebook)\n",
    "ss.add_constraint(\"study_type = 'Interventional'\")\n",
    "ss.load_studies()"
   ]
  },
  {
   "cell_type": "code",
   "execution_count": 61,
   "metadata": {},
   "outputs": [
    {
     "name": "stdout",
     "output_type": "stream",
     "text": [
      "Successfuly added these 1 dimensions: ['browse_conditions']\n",
      "Failed to add these 0 dimensions: []\n",
      "Successfuly added these 1 dimensions: ['sponsors']\n",
      "Failed to add these 0 dimensions: []\n"
     ]
    },
    {
     "data": {
      "application/vnd.jupyter.widget-view+json": {
       "model_id": "330a7d36ab5b4c4e822329baebbef6b0",
       "version_major": 2,
       "version_minor": 0
      },
      "text/plain": [
       "HBox(children=(IntProgress(value=0, max=502), HTML(value='')))"
      ]
     },
     "metadata": {},
     "output_type": "display_data"
    },
    {
     "name": "stdout",
     "output_type": "stream",
     "text": [
      "Syncing the temp table temp_cur_studies in 502 chunks x 500 records each\n",
      "\n",
      "Creating index on the temp table\n",
      " - Loading dimension browse_conditions\n",
      " -- Loading raw data\n",
      " -- Sorting index\n",
      " - Loading dimension sponsors\n",
      " -- Loading raw data\n",
      " -- Sorting index\n"
     ]
    }
   ],
   "source": [
    "# loading all dimensional data\n",
    "ss.add_dimensions('browse_conditions')\n",
    "ss.add_dimensions('sponsors')\n",
    "ss.refresh_dim_data()"
   ]
  },
  {
   "cell_type": "code",
   "execution_count": 69,
   "metadata": {},
   "outputs": [
    {
     "name": "stderr",
     "output_type": "stream",
     "text": [
      "100%|██████████| 424545/424545 [00:01<00:00, 340864.26it/s]\n"
     ]
    },
    {
     "data": {
      "text/html": [
       "<div>\n",
       "<style scoped>\n",
       "    .dataframe tbody tr th:only-of-type {\n",
       "        vertical-align: middle;\n",
       "    }\n",
       "\n",
       "    .dataframe tbody tr th {\n",
       "        vertical-align: top;\n",
       "    }\n",
       "\n",
       "    .dataframe thead th {\n",
       "        text-align: right;\n",
       "    }\n",
       "</style>\n",
       "<table border=\"1\" class=\"dataframe\">\n",
       "  <thead>\n",
       "    <tr style=\"text-align: right;\">\n",
       "      <th></th>\n",
       "      <th>id</th>\n",
       "      <th>mesh_term</th>\n",
       "      <th>downcase_mesh_term</th>\n",
       "      <th>mesh_l1</th>\n",
       "    </tr>\n",
       "    <tr>\n",
       "      <th>nct_id</th>\n",
       "      <th></th>\n",
       "      <th></th>\n",
       "      <th></th>\n",
       "      <th></th>\n",
       "    </tr>\n",
       "  </thead>\n",
       "  <tbody>\n",
       "    <tr>\n",
       "      <td>NCT00000102</td>\n",
       "      <td>9144384</td>\n",
       "      <td>Adrenal Hyperplasia, Congenital</td>\n",
       "      <td>adrenal hyperplasia, congenital</td>\n",
       "      <td>[Congenital, Hereditary, and Neonatal Diseases...</td>\n",
       "    </tr>\n",
       "    <tr>\n",
       "      <td>NCT00000102</td>\n",
       "      <td>9144385</td>\n",
       "      <td>Adrenogenital Syndrome</td>\n",
       "      <td>adrenogenital syndrome</td>\n",
       "      <td>[Congenital, Hereditary, and Neonatal Diseases...</td>\n",
       "    </tr>\n",
       "    <tr>\n",
       "      <td>NCT00000102</td>\n",
       "      <td>9144386</td>\n",
       "      <td>Adrenocortical Hyperfunction</td>\n",
       "      <td>adrenocortical hyperfunction</td>\n",
       "      <td>[Endocrine System Diseases]</td>\n",
       "    </tr>\n",
       "    <tr>\n",
       "      <td>NCT00000102</td>\n",
       "      <td>9144387</td>\n",
       "      <td>Hyperplasia</td>\n",
       "      <td>hyperplasia</td>\n",
       "      <td>[Pathological Conditions, Signs and Symptoms]</td>\n",
       "    </tr>\n",
       "    <tr>\n",
       "      <td>NCT00000106</td>\n",
       "      <td>9143121</td>\n",
       "      <td>Rheumatic Diseases</td>\n",
       "      <td>rheumatic diseases</td>\n",
       "      <td>[Musculoskeletal Diseases, Skin and Connective...</td>\n",
       "    </tr>\n",
       "  </tbody>\n",
       "</table>\n",
       "</div>"
      ],
      "text/plain": [
       "                  id                        mesh_term  \\\n",
       "nct_id                                                  \n",
       "NCT00000102  9144384  Adrenal Hyperplasia, Congenital   \n",
       "NCT00000102  9144385           Adrenogenital Syndrome   \n",
       "NCT00000102  9144386     Adrenocortical Hyperfunction   \n",
       "NCT00000102  9144387                      Hyperplasia   \n",
       "NCT00000106  9143121               Rheumatic Diseases   \n",
       "\n",
       "                          downcase_mesh_term  \\\n",
       "nct_id                                         \n",
       "NCT00000102  adrenal hyperplasia, congenital   \n",
       "NCT00000102           adrenogenital syndrome   \n",
       "NCT00000102     adrenocortical hyperfunction   \n",
       "NCT00000102                      hyperplasia   \n",
       "NCT00000106               rheumatic diseases   \n",
       "\n",
       "                                                       mesh_l1  \n",
       "nct_id                                                          \n",
       "NCT00000102  [Congenital, Hereditary, and Neonatal Diseases...  \n",
       "NCT00000102  [Congenital, Hereditary, and Neonatal Diseases...  \n",
       "NCT00000102                        [Endocrine System Diseases]  \n",
       "NCT00000102      [Pathological Conditions, Signs and Symptoms]  \n",
       "NCT00000106  [Musculoskeletal Diseases, Skin and Connective...  "
      ]
     },
     "execution_count": 69,
     "metadata": {},
     "output_type": "execute_result"
    }
   ],
   "source": [
    "# map the mesh term in the browse_conditions dimension to the level 1 mesh term\n",
    "bc = ss.dimensions['browse_conditions']\n",
    "MESH_LEVEL = 1  # level that we're interested in classifying the studies\n",
    "\n",
    "bc.data['mesh_l1'] = bc.data['mesh_term'].progress_apply(lambda x: mc.lookup_higher_level(x, MESH_LEVEL))\n",
    "bc.data.head()"
   ]
  },
  {
   "cell_type": "markdown",
   "metadata": {},
   "source": [
    "### Now, need to collect all of the level 1 mesh terms from the dimension into the main table"
   ]
  },
  {
   "cell_type": "code",
   "execution_count": 71,
   "metadata": {},
   "outputs": [],
   "source": [
    "# method for combining all of the level mesh values for a specific nct_id\n",
    "def combine_all_mesh_l1(df, nct_id):\n",
    "    all_mesh_l1 = []\n",
    "    if nct_id in df.index:\n",
    "        sub_df = df.loc[[nct_id]]\n",
    "        for meshes in sub_df['mesh_l1']:\n",
    "            for mesh in meshes:\n",
    "                if mesh not in all_mesh_l1:\n",
    "                    all_mesh_l1.append(mesh)\n",
    "    return all_mesh_l1"
   ]
  },
  {
   "cell_type": "code",
   "execution_count": 84,
   "metadata": {},
   "outputs": [
    {
     "name": "stderr",
     "output_type": "stream",
     "text": [
      "100%|██████████| 250890/250890 [01:27<00:00, 2882.50it/s]\n"
     ]
    }
   ],
   "source": [
    "s_mesh_l1 = ss.studies.reset_index()['nct_id'].progress_apply(lambda x: \n",
    "                                                              combine_all_mesh_l1(bc.data, x)).values"
   ]
  },
  {
   "cell_type": "code",
   "execution_count": 85,
   "metadata": {},
   "outputs": [
    {
     "data": {
      "text/plain": [
       "array([list([]), list(['Pathological Conditions, Signs and Symptoms']),\n",
       "       list(['Diagnosis', 'Nutritional and Metabolic Diseases', 'Pathological Conditions, Signs and Symptoms', 'Physiological Phenomena']),\n",
       "       list(['Female Urogenital Diseases and Pregnancy Complications', 'Mental Disorders', 'Behavior and Behavior Mechanisms']),\n",
       "       list(['Neoplasms', 'Pathological Conditions, Signs and Symptoms', 'Chemically-Induced Disorders']),\n",
       "       list(['Mental Disorders']), list(['Musculoskeletal Diseases']),\n",
       "       list(['Female Urogenital Diseases and Pregnancy Complications', 'Neoplasms', 'Infections']),\n",
       "       list(['Neoplasms']), list(['Respiratory Tract Diseases'])],\n",
       "      dtype=object)"
      ]
     },
     "execution_count": 85,
     "metadata": {},
     "output_type": "execute_result"
    }
   ],
   "source": [
    "s_mesh_l1[:10]"
   ]
  },
  {
   "cell_type": "code",
   "execution_count": 86,
   "metadata": {},
   "outputs": [],
   "source": [
    "ss.studies['mesh_l1_list'] = s_mesh_l1"
   ]
  },
  {
   "cell_type": "code",
   "execution_count": 89,
   "metadata": {},
   "outputs": [
    {
     "data": {
      "text/html": [
       "<div>\n",
       "<style scoped>\n",
       "    .dataframe tbody tr th:only-of-type {\n",
       "        vertical-align: middle;\n",
       "    }\n",
       "\n",
       "    .dataframe tbody tr th {\n",
       "        vertical-align: top;\n",
       "    }\n",
       "\n",
       "    .dataframe thead th {\n",
       "        text-align: right;\n",
       "    }\n",
       "</style>\n",
       "<table border=\"1\" class=\"dataframe\">\n",
       "  <thead>\n",
       "    <tr style=\"text-align: right;\">\n",
       "      <th></th>\n",
       "      <th>mesh_l1_list</th>\n",
       "    </tr>\n",
       "    <tr>\n",
       "      <th>nct_id</th>\n",
       "      <th></th>\n",
       "    </tr>\n",
       "  </thead>\n",
       "  <tbody>\n",
       "    <tr>\n",
       "      <td>NCT04072757</td>\n",
       "      <td>[]</td>\n",
       "    </tr>\n",
       "    <tr>\n",
       "      <td>NCT04073069</td>\n",
       "      <td>[Pathological Conditions, Signs and Symptoms]</td>\n",
       "    </tr>\n",
       "    <tr>\n",
       "      <td>NCT04073056</td>\n",
       "      <td>[Diagnosis, Nutritional and Metabolic Diseases...</td>\n",
       "    </tr>\n",
       "    <tr>\n",
       "      <td>NCT04073043</td>\n",
       "      <td>[Female Urogenital Diseases and Pregnancy Comp...</td>\n",
       "    </tr>\n",
       "    <tr>\n",
       "      <td>NCT04073017</td>\n",
       "      <td>[Neoplasms, Pathological Conditions, Signs and...</td>\n",
       "    </tr>\n",
       "  </tbody>\n",
       "</table>\n",
       "</div>"
      ],
      "text/plain": [
       "                                                  mesh_l1_list\n",
       "nct_id                                                        \n",
       "NCT04072757                                                 []\n",
       "NCT04073069      [Pathological Conditions, Signs and Symptoms]\n",
       "NCT04073056  [Diagnosis, Nutritional and Metabolic Diseases...\n",
       "NCT04073043  [Female Urogenital Diseases and Pregnancy Comp...\n",
       "NCT04073017  [Neoplasms, Pathological Conditions, Signs and..."
      ]
     },
     "execution_count": 89,
     "metadata": {},
     "output_type": "execute_result"
    }
   ],
   "source": [
    "ss.studies[['mesh_l1_list']].head()"
   ]
  },
  {
   "cell_type": "code",
   "execution_count": null,
   "metadata": {},
   "outputs": [],
   "source": []
  }
 ],
 "metadata": {
  "kernelspec": {
   "display_name": "Python 3",
   "language": "python",
   "name": "python3"
  },
  "language_info": {
   "codemirror_mode": {
    "name": "ipython",
    "version": 3
   },
   "file_extension": ".py",
   "mimetype": "text/x-python",
   "name": "python",
   "nbconvert_exporter": "python",
   "pygments_lexer": "ipython3",
   "version": "3.6.9"
  }
 },
 "nbformat": 4,
 "nbformat_minor": 2
}
