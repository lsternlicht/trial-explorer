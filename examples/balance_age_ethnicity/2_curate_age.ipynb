{
 "cells": [
  {
   "cell_type": "code",
   "execution_count": 1,
   "metadata": {},
   "outputs": [],
   "source": [
    "import sys\n",
    "if \"../../\" not in sys.path:\n",
    "    sys.path.append(\"../../\")"
   ]
  },
  {
   "cell_type": "code",
   "execution_count": 2,
   "metadata": {},
   "outputs": [],
   "source": [
    "import pandas as pd\n",
    "import numpy as np\n",
    "import scipy.stats as stats\n",
    "from importlib import reload\n",
    "from tqdm import tqdm_notebook as tqdm\n",
    "from sklearn import linear_model as lm\n",
    "from fuzzywuzzy import fuzz\n",
    "import time\n",
    "\n",
    "import pdaactconn as pc\n",
    "from trialexplorer import AACTStudySet\n",
    "\n",
    "import matplotlib.pyplot as plt\n",
    "%matplotlib inline"
   ]
  },
  {
   "cell_type": "code",
   "execution_count": 3,
   "metadata": {},
   "outputs": [
    {
     "name": "stdout",
     "output_type": "stream",
     "text": [
      "278931 studies loaded!\n"
     ]
    }
   ],
   "source": [
    "# loading all interventional studies\n",
    "conn = pc.AACTConnection(source=pc.AACTConnection.REMOTE)\n",
    "ss = AACTStudySet.AACTStudySet(conn=conn, \n",
    "                               tqdm_handler=tqdm)\n",
    "ss.add_constraint(\"study_type = 'Interventional'\")\n",
    "ss.load_studies()"
   ]
  },
  {
   "cell_type": "code",
   "execution_count": 4,
   "metadata": {},
   "outputs": [
    {
     "name": "stdout",
     "output_type": "stream",
     "text": [
      "Successfuly added these 6 dimensions: ['baseline_measurements', 'result_groups', 'eligibilities', 'outcomes', 'outcome_counts', 'outcome_measurements']\n",
      "Failed to add these 0 dimensions: []\n"
     ]
    },
    {
     "data": {
      "application/vnd.jupyter.widget-view+json": {
       "model_id": "8da7c28fd4ba49528e944c89a7faf5d9",
       "version_major": 2,
       "version_minor": 0
      },
      "text/plain": [
       "HBox(children=(IntProgress(value=0, max=558), HTML(value='')))"
      ]
     },
     "metadata": {},
     "output_type": "display_data"
    },
    {
     "name": "stdout",
     "output_type": "stream",
     "text": [
      "Syncing the temp table temp_cur_studies in 558 chunks x 500 records each\n",
      "\n",
      "Creating index on the temp table\n",
      " - Loading dimension baseline_measurements\n",
      " -- Loading raw data\n",
      " -- Sorting index\n",
      " - Loading dimension result_groups\n",
      " -- Loading raw data\n",
      " -- Sorting index\n",
      " - Loading dimension eligibilities\n",
      " -- Loading raw data\n",
      " -- Sorting index\n",
      " - Loading dimension outcomes\n",
      " -- Loading raw data\n",
      " -- Sorting index\n",
      " - Loading dimension outcome_counts\n",
      " -- Loading raw data\n",
      " -- Sorting index\n",
      " - Loading dimension outcome_measurements\n",
      " -- Loading raw data\n",
      " -- Sorting index\n"
     ]
    }
   ],
   "source": [
    "# adding and loading dimensional data\n",
    "ss.add_dimensions(['baseline_measurements',\n",
    "                   'result_groups',\n",
    "                   'eligibilities',\n",
    "                   'outcomes',\n",
    "                   'outcome_counts',\n",
    "                   'outcome_measurements'])\n",
    "ss.refresh_dim_data()"
   ]
  },
  {
   "cell_type": "code",
   "execution_count": 5,
   "metadata": {},
   "outputs": [],
   "source": [
    "# setting all the dimensional data to variables\n",
    "bm = ss.dimensions['baseline_measurements'].data\n",
    "rg = ss.dimensions['result_groups'].data\n",
    "el = ss.dimensions['eligibilities'].data\n",
    "out = ss.dimensions['outcomes'].data\n",
    "oc = ss.dimensions['outcome_counts'].data\n",
    "om = ss.dimensions['outcome_measurements'].data"
   ]
  },
  {
   "cell_type": "code",
   "execution_count": 6,
   "metadata": {},
   "outputs": [
    {
     "data": {
      "text/plain": [
       "278931"
      ]
     },
     "execution_count": 6,
     "metadata": {},
     "output_type": "execute_result"
    }
   ],
   "source": [
    "# total number of studies\n",
    "num_all = ss.studies.shape[0]\n",
    "num_all"
   ]
  },
  {
   "cell_type": "code",
   "execution_count": 7,
   "metadata": {},
   "outputs": [
    {
     "data": {
      "text/plain": [
       "(42773, 0.1533461680487289)"
      ]
     },
     "execution_count": 7,
     "metadata": {},
     "output_type": "execute_result"
    }
   ],
   "source": [
    "# baseline measurement studies\n",
    "bm_all = bm.index.get_level_values(0).unique().shape[0]\n",
    "bm_all, bm_all / num_all"
   ]
  },
  {
   "cell_type": "markdown",
   "metadata": {},
   "source": [
    "### Finding age like fields:"
   ]
  },
  {
   "cell_type": "code",
   "execution_count": 13,
   "metadata": {},
   "outputs": [
    {
     "data": {
      "text/plain": [
       "Index(['id', 'ctgov_group_code', 'classification', 'category', 'title',\n",
       "       'description', 'units', 'param_type', 'param_value', 'param_value_num',\n",
       "       'dispersion_type', 'dispersion_value', 'dispersion_value_num',\n",
       "       'dispersion_lower_limit', 'dispersion_upper_limit',\n",
       "       'explanation_of_na'],\n",
       "      dtype='object')"
      ]
     },
     "execution_count": 13,
     "metadata": {},
     "output_type": "execute_result"
    }
   ],
   "source": [
    "bm.columns"
   ]
  },
  {
   "cell_type": "code",
   "execution_count": 14,
   "metadata": {},
   "outputs": [
    {
     "data": {
      "text/plain": [
       "title\n",
       "Sex: Female, Male                                               236263\n",
       "Age                                                             224845\n",
       "Race (NIH/OMB)                                                  216063\n",
       "Region of Enrollment                                            116346\n",
       "Race/Ethnicity, Customized                                      102616\n",
       "Ethnicity (NIH/OMB)                                              70455\n",
       "Age, Customized                                                  34821\n",
       "Gender                                                            7426\n",
       "Weight                                                            4956\n",
       "Sex/Gender, Customized                                            4947\n",
       "Height                                                            3698\n",
       "Body Mass Index (BMI)                                             3165\n",
       "Education                                                         2415\n",
       "Eastern Cooperative Oncology Group (ECOG) Performance Status      2169\n",
       "BMI                                                               2131\n",
       "Body Mass Index                                                   2026\n",
       "Smoking Classification                                            1471\n",
       "Race                                                              1468\n",
       "Marital Status                                                    1371\n",
       "Race/Ethnicity                                                    1231\n",
       "dtype: int64"
      ]
     },
     "execution_count": 14,
     "metadata": {},
     "output_type": "execute_result"
    }
   ],
   "source": [
    "bm.groupby('title').size().sort_values(ascending=False)[:20]"
   ]
  },
  {
   "cell_type": "code",
   "execution_count": 15,
   "metadata": {},
   "outputs": [],
   "source": [
    "used_titles = ['Age', 'Age, Customized']\n",
    "used_types = ['Count of Participants', 'Number']\n",
    "\n",
    "bm_used = bm[(bm['title'].isin(used_titles)) & (bm['param_type'].isin(used_types))]"
   ]
  },
  {
   "cell_type": "markdown",
   "metadata": {},
   "source": [
    "# Steps 1-3 are investigative, step 4 starts implementation"
   ]
  },
  {
   "cell_type": "markdown",
   "metadata": {},
   "source": [
    "# 1. Category column in BM"
   ]
  },
  {
   "cell_type": "code",
   "execution_count": 44,
   "metadata": {},
   "outputs": [],
   "source": [
    "bmr = bm_used.reset_index()"
   ]
  },
  {
   "cell_type": "code",
   "execution_count": 45,
   "metadata": {},
   "outputs": [
    {
     "data": {
      "text/plain": [
       "category\n",
       ">=65 years                                  39350\n",
       "Between 18 and 65 years                     39323\n",
       "<=18 years                                  39315\n",
       "                                            29953\n",
       "≥ 65 years                                    188\n",
       "< 65 years                                    162\n",
       "18 - 64 years                                  58\n",
       "50-59 years                                    56\n",
       "GTE65                                          52\n",
       "BTWN                                           52\n",
       "LTE18                                          52\n",
       "60-69 years                                    51\n",
       "≥ 75 years                                     49\n",
       "<65 years                                      49\n",
       "Children (2-11 years)                          47\n",
       "40-49 years                                    46\n",
       ">=75 years                                     43\n",
       "30-39 years                                    42\n",
       "18-64 years                                    42\n",
       "65 - 74 years                                  42\n",
       "< 40 years                                     40\n",
       "Adults (18-64 years)                           39\n",
       "< 65 Years                                     37\n",
       "Infants and toddlers (28 days-23 months)       36\n",
       "18-44 years                                    34\n",
       "Adolescents (12-17 years)                      33\n",
       "70-79 years                                    32\n",
       "45-64 years                                    31\n",
       ">=85 years                                     30\n",
       "Greater than or equal to (>=) 65 years         29\n",
       "Name: nct_id, dtype: int64"
      ]
     },
     "execution_count": 45,
     "metadata": {},
     "output_type": "execute_result"
    }
   ],
   "source": [
    "all_cats = bmr.groupby('category')['nct_id'].count().sort_values(ascending=False)\n",
    "all_cats[:30]"
   ]
  },
  {
   "cell_type": "markdown",
   "metadata": {},
   "source": [
    "### we can use all of these categories ..."
   ]
  },
  {
   "cell_type": "code",
   "execution_count": 46,
   "metadata": {},
   "outputs": [
    {
     "data": {
      "text/plain": [
       "18554"
      ]
     },
     "execution_count": 46,
     "metadata": {},
     "output_type": "execute_result"
    }
   ],
   "source": [
    "num_used = len(bm_used.index.get_level_values(0).unique())\n",
    "num_used"
   ]
  },
  {
   "cell_type": "code",
   "execution_count": 47,
   "metadata": {},
   "outputs": [
    {
     "data": {
      "text/plain": [
       "0.4337783180978655"
      ]
     },
     "execution_count": 47,
     "metadata": {},
     "output_type": "execute_result"
    }
   ],
   "source": [
    "# this % of studies is covered by the current set\n",
    "num_used / bm_all"
   ]
  },
  {
   "cell_type": "code",
   "execution_count": 48,
   "metadata": {},
   "outputs": [
    {
     "data": {
      "text/plain": [
       "array(['NCT02971631', 'NCT00018031', 'NCT03124927', 'NCT02525055',\n",
       "       'NCT01065844'], dtype=object)"
      ]
     },
     "execution_count": 48,
     "metadata": {},
     "output_type": "execute_result"
    }
   ],
   "source": [
    "# eye balling through some of them\n",
    "np.random.choice(bm_used.index.get_level_values(0).unique(), 5)"
   ]
  },
  {
   "cell_type": "markdown",
   "metadata": {},
   "source": [
    "# 2. Merging the category and classification into 1 used study set"
   ]
  },
  {
   "cell_type": "code",
   "execution_count": 49,
   "metadata": {},
   "outputs": [
    {
     "data": {
      "text/plain": [
       "classification           category               \n",
       "                         >=65 years                 39240\n",
       "                         Between 18 and 65 years    39213\n",
       "                         <=18 years                 39202\n",
       ">=65 years                                           1462\n",
       "Between 18 and 65 years                               666\n",
       "<=18 years                                            626\n",
       "<65 years                                             564\n",
       "< 65 years                                            540\n",
       "Name: id, dtype: int64"
      ]
     },
     "execution_count": 49,
     "metadata": {},
     "output_type": "execute_result"
    }
   ],
   "source": [
    "double_counts = bm_used.groupby(['classification', 'category'])['id'].count().sort_values(ascending=False)\n",
    "double_counts[double_counts > 500]"
   ]
  },
  {
   "cell_type": "markdown",
   "metadata": {},
   "source": [
    "### Plan: We look at category first, then in the remaining where category is blank, look at the classification"
   ]
  },
  {
   "cell_type": "markdown",
   "metadata": {},
   "source": [
    "## 3 a) Case 1: Category is non-blank"
   ]
  },
  {
   "cell_type": "code",
   "execution_count": 50,
   "metadata": {},
   "outputs": [],
   "source": [
    "bm_used_case1 = bm_used[bm_used['category'] != '']"
   ]
  },
  {
   "cell_type": "code",
   "execution_count": 51,
   "metadata": {},
   "outputs": [
    {
     "data": {
      "text/plain": [
       "param_type\n",
       "Count of Participants    122761\n",
       "dtype: int64"
      ]
     },
     "execution_count": 51,
     "metadata": {},
     "output_type": "execute_result"
    }
   ],
   "source": [
    "bm_used_case1.groupby('param_type').size()"
   ]
  },
  {
   "cell_type": "code",
   "execution_count": 52,
   "metadata": {},
   "outputs": [
    {
     "name": "stdout",
     "output_type": "stream",
     "text": [
      "Pct of bm rows: 80.4%\n"
     ]
    }
   ],
   "source": [
    "bm_used_case1 = bm_used_case1[bm_used_case1['param_type'] == 'Count of Participants']\n",
    "\n",
    "# % of the data ..\n",
    "print(\"Pct of bm rows: %.1f%%\" % (bm_used_case1.shape[0] / bm_used.shape[0] * 100))\n",
    "\n",
    "# unique ids for this case\n",
    "case1_nct_ids = bm_used_case1.index.get_level_values(0).unique()"
   ]
  },
  {
   "cell_type": "code",
   "execution_count": 53,
   "metadata": {},
   "outputs": [
    {
     "name": "stdout",
     "output_type": "stream",
     "text": [
      "Pct of bm rows: 80.5%\n"
     ]
    }
   ],
   "source": [
    "bm_full_case1 = bm_used.loc[case1_nct_ids]\n",
    "bm_full_case1 = bm_full_case1[bm_full_case1['param_type'] == 'Count of Participants']\n",
    "print(\"Pct of bm rows: %.1f%%\" % (bm_full_case1.shape[0] / bm_used.shape[0] * 100))"
   ]
  },
  {
   "cell_type": "markdown",
   "metadata": {},
   "source": [
    "## Joining to result groups to get the group labels:"
   ]
  },
  {
   "cell_type": "code",
   "execution_count": 54,
   "metadata": {},
   "outputs": [],
   "source": [
    "dfm_case1 = bm_full_case1.reset_index().merge(rg.reset_index()[['nct_id', 'ctgov_group_code', 'title']], \n",
    "                                              on=['nct_id', 'ctgov_group_code'], \n",
    "                                              how='inner', \n",
    "                                              suffixes=('', '_rg'))"
   ]
  },
  {
   "cell_type": "code",
   "execution_count": 55,
   "metadata": {},
   "outputs": [
    {
     "data": {
      "text/plain": [
       "Index(['Total', 'Placebo', 'Control', 'All Study Participants',\n",
       "       'Control Group', 'All Participants', 'Group 1', 'Usual Care',\n",
       "       'Treatment', 'Intervention', 'Entire Study Population', 'Placebo Group',\n",
       "       'Overall Study', 'Arm 1', 'Sugar Pill', 'Group 2', 'Total Title',\n",
       "       'Standard of Care', 'Arm I', 'Single Arm', 'Arm 2', 'Group B',\n",
       "       'Group A', 'All Patients', 'Cohort 1', 'Experimental',\n",
       "       'Intervention Group', 'Vehicle', 'All Subjects', 'Active', 'Cohort 2',\n",
       "       'Treatment Group', 'Normal Saline', 'Treatment Arm', 'Metformin',\n",
       "       'Standard Care', 'Group 3', 'Control Arm', 'Saline',\n",
       "       'Healthy Volunteers', 'Lacosamide', 'Placebo Arm', 'Varenicline',\n",
       "       'Cohort 3', 'Levetiracetam', 'Aripiprazole', 'Arm A', 'Escitalopram',\n",
       "       'Rotigotine', 'Pioglitazone'],\n",
       "      dtype='object', name='title_rg')"
      ]
     },
     "execution_count": 55,
     "metadata": {},
     "output_type": "execute_result"
    }
   ],
   "source": [
    "dfm_case1.groupby('title_rg').size().sort_values(ascending=False)[:50].index"
   ]
  },
  {
   "cell_type": "code",
   "execution_count": 56,
   "metadata": {},
   "outputs": [],
   "source": [
    "total_strings = ['Total', \n",
    "                 'All Participants', \n",
    "                 'All Study Participants', \n",
    "                 'Entire Study Population',\n",
    "                 'Overall Study',\n",
    "                 'Overall', \n",
    "                 'Total Title']"
   ]
  },
  {
   "cell_type": "code",
   "execution_count": 57,
   "metadata": {},
   "outputs": [
    {
     "data": {
      "text/plain": [
       "14926"
      ]
     },
     "execution_count": 57,
     "metadata": {},
     "output_type": "execute_result"
    }
   ],
   "source": [
    "dfm_case1_nontot = dfm_case1[~dfm_case1['title_rg'].isin(total_strings)].copy()\n",
    "len(dfm_case1_nontot['nct_id'].unique())"
   ]
  },
  {
   "cell_type": "code",
   "execution_count": 58,
   "metadata": {},
   "outputs": [
    {
     "data": {
      "text/plain": [
       "array(['Count of Participants'], dtype=object)"
      ]
     },
     "execution_count": 58,
     "metadata": {},
     "output_type": "execute_result"
    }
   ],
   "source": [
    "dfm_case1_nontot['param_type'].unique()"
   ]
  },
  {
   "cell_type": "code",
   "execution_count": 59,
   "metadata": {},
   "outputs": [
    {
     "data": {
      "text/html": [
       "<div>\n",
       "<style scoped>\n",
       "    .dataframe tbody tr th:only-of-type {\n",
       "        vertical-align: middle;\n",
       "    }\n",
       "\n",
       "    .dataframe tbody tr th {\n",
       "        vertical-align: top;\n",
       "    }\n",
       "\n",
       "    .dataframe thead th {\n",
       "        text-align: right;\n",
       "    }\n",
       "</style>\n",
       "<table border=\"1\" class=\"dataframe\">\n",
       "  <thead>\n",
       "    <tr style=\"text-align: right;\">\n",
       "      <th></th>\n",
       "      <th>param_value_num</th>\n",
       "      <th>enrollment</th>\n",
       "      <th>tot_per_enroll</th>\n",
       "    </tr>\n",
       "    <tr>\n",
       "      <th>nct_id</th>\n",
       "      <th></th>\n",
       "      <th></th>\n",
       "      <th></th>\n",
       "    </tr>\n",
       "  </thead>\n",
       "  <tbody>\n",
       "    <tr>\n",
       "      <td>NCT00000134</td>\n",
       "      <td>279.0</td>\n",
       "      <td>279.0</td>\n",
       "      <td>1.0</td>\n",
       "    </tr>\n",
       "    <tr>\n",
       "      <td>NCT00000135</td>\n",
       "      <td>209.0</td>\n",
       "      <td>209.0</td>\n",
       "      <td>1.0</td>\n",
       "    </tr>\n",
       "    <tr>\n",
       "      <td>NCT00000136</td>\n",
       "      <td>234.0</td>\n",
       "      <td>234.0</td>\n",
       "      <td>1.0</td>\n",
       "    </tr>\n",
       "    <tr>\n",
       "      <td>NCT00000142</td>\n",
       "      <td>64.0</td>\n",
       "      <td>64.0</td>\n",
       "      <td>1.0</td>\n",
       "    </tr>\n",
       "    <tr>\n",
       "      <td>NCT00000143</td>\n",
       "      <td>61.0</td>\n",
       "      <td>61.0</td>\n",
       "      <td>1.0</td>\n",
       "    </tr>\n",
       "  </tbody>\n",
       "</table>\n",
       "</div>"
      ],
      "text/plain": [
       "             param_value_num  enrollment  tot_per_enroll\n",
       "nct_id                                                  \n",
       "NCT00000134            279.0       279.0             1.0\n",
       "NCT00000135            209.0       209.0             1.0\n",
       "NCT00000136            234.0       234.0             1.0\n",
       "NCT00000142             64.0        64.0             1.0\n",
       "NCT00000143             61.0        61.0             1.0"
      ]
     },
     "execution_count": 59,
     "metadata": {},
     "output_type": "execute_result"
    }
   ],
   "source": [
    "df_case1_totcounts = dfm_case1_nontot.groupby('nct_id')[['param_value_num']].sum()\n",
    "df_c1j = df_case1_totcounts.join(ss.studies[['enrollment']])\n",
    "df_c1j['tot_per_enroll'] = df_c1j['param_value_num'] / df_c1j['enrollment']\n",
    "df_c1j.head()"
   ]
  },
  {
   "cell_type": "code",
   "execution_count": 60,
   "metadata": {},
   "outputs": [
    {
     "data": {
      "text/plain": [
       "<matplotlib.axes._subplots.AxesSubplot at 0x7fe05b4175f8>"
      ]
     },
     "execution_count": 60,
     "metadata": {},
     "output_type": "execute_result"
    },
    {
     "data": {
      "image/png": "[encoded data removed]",
      "text/plain": [
       "<Figure size 432x288 with 1 Axes>"
      ]
     },
     "metadata": {
      "needs_background": "light"
     },
     "output_type": "display_data"
    }
   ],
   "source": [
    "df_c1j[df_c1j['tot_per_enroll'] != 1.0]['tot_per_enroll'].clip(0, 4).hist(bins=50)"
   ]
  },
  {
   "cell_type": "markdown",
   "metadata": {},
   "source": [
    "### Idea: let's just keep those studies with totals that sum up to smaller or equal to total enrollment"
   ]
  },
  {
   "cell_type": "code",
   "execution_count": 61,
   "metadata": {},
   "outputs": [
    {
     "data": {
      "text/plain": [
       "0.9863995712180088"
      ]
     },
     "execution_count": 61,
     "metadata": {},
     "output_type": "execute_result"
    }
   ],
   "source": [
    "non_double_counted = df_c1j[df_c1j['param_value_num'] <= df_c1j['enrollment']]\n",
    "non_double_counted.shape[0] / df_c1j.shape[0]"
   ]
  },
  {
   "cell_type": "code",
   "execution_count": 62,
   "metadata": {},
   "outputs": [],
   "source": [
    "df_final_case1 = dfm_case1_nontot[dfm_case1_nontot['nct_id'].isin(non_double_counted.index)].copy()"
   ]
  },
  {
   "cell_type": "code",
   "execution_count": 63,
   "metadata": {},
   "outputs": [
    {
     "data": {
      "text/plain": [
       "0.5897822072632503"
      ]
     },
     "execution_count": 63,
     "metadata": {},
     "output_type": "execute_result"
    }
   ],
   "source": [
    "# % of rows in bm_used\n",
    "df_final_case1.shape[0] / bm_used.shape[0]"
   ]
  },
  {
   "cell_type": "code",
   "execution_count": 64,
   "metadata": {},
   "outputs": [
    {
     "data": {
      "text/plain": [
       "0.793521612590277"
      ]
     },
     "execution_count": 64,
     "metadata": {},
     "output_type": "execute_result"
    }
   ],
   "source": [
    "# % of nct_ids in bm_used\n",
    "len(df_final_case1['nct_id'].unique()) / len(bm_used.index.get_level_values(0).unique())"
   ]
  },
  {
   "cell_type": "markdown",
   "metadata": {},
   "source": [
    "## 3 b) Case 2: Category is blank (look in the classification field)"
   ]
  },
  {
   "cell_type": "code",
   "execution_count": 65,
   "metadata": {},
   "outputs": [],
   "source": [
    "bm_used_case2 = bm_used[bm_used['category'] == '']"
   ]
  },
  {
   "cell_type": "code",
   "execution_count": 66,
   "metadata": {},
   "outputs": [
    {
     "data": {
      "text/plain": [
       "param_type\n",
       "Count of Participants     5378\n",
       "Number                   24575\n",
       "dtype: int64"
      ]
     },
     "execution_count": 66,
     "metadata": {},
     "output_type": "execute_result"
    }
   ],
   "source": [
    "bm_used_case2.groupby('param_type').size()"
   ]
  },
  {
   "cell_type": "code",
   "execution_count": 67,
   "metadata": {},
   "outputs": [
    {
     "name": "stdout",
     "output_type": "stream",
     "text": [
      "Pct of bm rows: 19.6%\n"
     ]
    }
   ],
   "source": [
    "# checked that these 2 are the dominate characterstics\n",
    "bm_used_case2 = bm_used_case2[bm_used_case2['param_type'].isin(['Count of Participants', \n",
    "                                                                'Number'])]\n",
    "\n",
    "\n",
    "# % of the data ..\n",
    "print(\"Pct of bm rows: %.1f%%\" % (bm_used_case2.shape[0] / bm_used.shape[0] * 100))\n",
    "\n",
    "# unique ids for this case\n",
    "case2_nct_ids = bm_used_case2.index.get_level_values(0).unique()"
   ]
  },
  {
   "cell_type": "code",
   "execution_count": 68,
   "metadata": {},
   "outputs": [
    {
     "name": "stdout",
     "output_type": "stream",
     "text": [
      "Pct of bm rows: 19.9%\n"
     ]
    }
   ],
   "source": [
    "bm_full_case2 = bm_used.loc[case2_nct_ids]\n",
    "bm_full_case2 = bm_full_case2[bm_full_case2['param_type'].isin(['Count of Participants', 'Number'])]\n",
    "print(\"Pct of bm rows: %.1f%%\" % (bm_full_case2.shape[0] / bm_used.shape[0] * 100))"
   ]
  },
  {
   "cell_type": "markdown",
   "metadata": {},
   "source": [
    "## Joining to result groups to get the group labels:"
   ]
  },
  {
   "cell_type": "code",
   "execution_count": 69,
   "metadata": {},
   "outputs": [],
   "source": [
    "dfm_case2 = bm_full_case2.reset_index().merge(rg.reset_index()[['nct_id', 'ctgov_group_code', 'title']], \n",
    "                                              on=['nct_id', 'ctgov_group_code'], \n",
    "                                              how='inner', \n",
    "                                              suffixes=('', '_rg'))"
   ]
  },
  {
   "cell_type": "code",
   "execution_count": 70,
   "metadata": {},
   "outputs": [
    {
     "data": {
      "text/plain": [
       "Index(['Total', 'Placebo', 'Control', 'Vehicle', 'All Participants',\n",
       "       'Pregabalin', 'Placebo QD', 'Cohort 1', 'Cohort 2',\n",
       "       'Entire Study Population', 'Control Group', 'Dasatinib', 'Doripenem',\n",
       "       'Usual Care', 'Standard of Care', 'Bevacizumab',\n",
       "       'Azilsartan Medoxomil 40 mg QD', 'Dexlansoprazole MR 60 mg QD',\n",
       "       'Azilsartan Medoxomil 80 mg QD', 'Blinatumomab', 'Intervention',\n",
       "       'Varenicline', 'Treatment', 'Group 1', 'Maraviroc QD', 'Dimebon',\n",
       "       'Ziprasidone', 'Dexlansoprazole MR 90 mg QD', 'Celecoxib',\n",
       "       'Subcutaneous Insulin', 'Adalimumab', 'Maraviroc BID',\n",
       "       'Alogliptin 12.5 mg QD', 'Alogliptin 25 mg QD', 'Fesoterodine',\n",
       "       'Inhaled Insulin', 'Dapagliflozin 10 mg', 'Total Title',\n",
       "       'Fingolimod 0.5 mg', 'Ixabepilone', 'Sunitinib', 'Dapagliflozin 5 mg',\n",
       "       'All Study Participants', 'Rivaroxaban (Xarelto, BAY59-7939)',\n",
       "       'Placebo MDPI', 'Anidulafungin', 'Standard of Care (SOC)', 'Imatinib',\n",
       "       'Docetaxel', 'Capecitabine'],\n",
       "      dtype='object', name='title_rg')"
      ]
     },
     "execution_count": 70,
     "metadata": {},
     "output_type": "execute_result"
    }
   ],
   "source": [
    "dfm_case2.groupby('title_rg').size().sort_values(ascending=False)[:50].index"
   ]
  },
  {
   "cell_type": "code",
   "execution_count": 71,
   "metadata": {},
   "outputs": [],
   "source": [
    "# still the same total strings:\n",
    "total_strings = ['Total', \n",
    "                 'All Participants', \n",
    "                 'All Study Participants', \n",
    "                 'Entire Study Population',\n",
    "                 'Overall Study',\n",
    "                 'Overall', \n",
    "                 'Total Title']"
   ]
  },
  {
   "cell_type": "code",
   "execution_count": 72,
   "metadata": {},
   "outputs": [
    {
     "data": {
      "text/plain": [
       "3169"
      ]
     },
     "execution_count": 72,
     "metadata": {},
     "output_type": "execute_result"
    }
   ],
   "source": [
    "dfm_case2_nontot = dfm_case2[~dfm_case2['title_rg'].isin(total_strings)].copy()\n",
    "len(dfm_case2_nontot['nct_id'].unique())"
   ]
  },
  {
   "cell_type": "code",
   "execution_count": 73,
   "metadata": {},
   "outputs": [
    {
     "data": {
      "text/html": [
       "<div>\n",
       "<style scoped>\n",
       "    .dataframe tbody tr th:only-of-type {\n",
       "        vertical-align: middle;\n",
       "    }\n",
       "\n",
       "    .dataframe tbody tr th {\n",
       "        vertical-align: top;\n",
       "    }\n",
       "\n",
       "    .dataframe thead th {\n",
       "        text-align: right;\n",
       "    }\n",
       "</style>\n",
       "<table border=\"1\" class=\"dataframe\">\n",
       "  <thead>\n",
       "    <tr style=\"text-align: right;\">\n",
       "      <th></th>\n",
       "      <th>param_value_num</th>\n",
       "      <th>enrollment</th>\n",
       "      <th>tot_per_enroll</th>\n",
       "    </tr>\n",
       "    <tr>\n",
       "      <th>nct_id</th>\n",
       "      <th></th>\n",
       "      <th></th>\n",
       "      <th></th>\n",
       "    </tr>\n",
       "  </thead>\n",
       "  <tbody>\n",
       "    <tr>\n",
       "      <td>NCT00000392</td>\n",
       "      <td>122.0</td>\n",
       "      <td>215.0</td>\n",
       "      <td>0.567442</td>\n",
       "    </tr>\n",
       "    <tr>\n",
       "      <td>NCT00003377</td>\n",
       "      <td>29.0</td>\n",
       "      <td>29.0</td>\n",
       "      <td>1.000000</td>\n",
       "    </tr>\n",
       "    <tr>\n",
       "      <td>NCT00003644</td>\n",
       "      <td>542.0</td>\n",
       "      <td>571.0</td>\n",
       "      <td>0.949212</td>\n",
       "    </tr>\n",
       "    <tr>\n",
       "      <td>NCT00003869</td>\n",
       "      <td>186.0</td>\n",
       "      <td>186.0</td>\n",
       "      <td>1.000000</td>\n",
       "    </tr>\n",
       "    <tr>\n",
       "      <td>NCT00006227</td>\n",
       "      <td>31.0</td>\n",
       "      <td>31.0</td>\n",
       "      <td>1.000000</td>\n",
       "    </tr>\n",
       "  </tbody>\n",
       "</table>\n",
       "</div>"
      ],
      "text/plain": [
       "             param_value_num  enrollment  tot_per_enroll\n",
       "nct_id                                                  \n",
       "NCT00000392            122.0       215.0        0.567442\n",
       "NCT00003377             29.0        29.0        1.000000\n",
       "NCT00003644            542.0       571.0        0.949212\n",
       "NCT00003869            186.0       186.0        1.000000\n",
       "NCT00006227             31.0        31.0        1.000000"
      ]
     },
     "execution_count": 73,
     "metadata": {},
     "output_type": "execute_result"
    }
   ],
   "source": [
    "df_case2_totcounts = dfm_case2_nontot.groupby('nct_id')[['param_value_num']].sum()\n",
    "df_c2j = df_case2_totcounts.join(ss.studies[['enrollment']])\n",
    "df_c2j['tot_per_enroll'] = df_c2j['param_value_num'] / df_c2j['enrollment']\n",
    "df_c2j.head()"
   ]
  },
  {
   "cell_type": "code",
   "execution_count": 74,
   "metadata": {},
   "outputs": [
    {
     "data": {
      "text/plain": [
       "<matplotlib.axes._subplots.AxesSubplot at 0x7fe067d7df60>"
      ]
     },
     "execution_count": 74,
     "metadata": {},
     "output_type": "execute_result"
    },
    {
     "data": {
      "image/png": "[encoded data removed]",
      "text/plain": [
       "<Figure size 432x288 with 1 Axes>"
      ]
     },
     "metadata": {
      "needs_background": "light"
     },
     "output_type": "display_data"
    }
   ],
   "source": [
    "df_c2j[df_c2j['tot_per_enroll'] != 1.0]['tot_per_enroll'].clip(0, 4).hist(bins=50)"
   ]
  },
  {
   "cell_type": "code",
   "execution_count": 75,
   "metadata": {},
   "outputs": [
    {
     "data": {
      "text/plain": [
       "0.9517197854212686"
      ]
     },
     "execution_count": 75,
     "metadata": {},
     "output_type": "execute_result"
    }
   ],
   "source": [
    "non_double_counted_case2 = df_c2j[df_c2j['param_value_num'] <= df_c2j['enrollment']]\n",
    "non_double_counted_case2.shape[0] / df_c2j.shape[0]"
   ]
  },
  {
   "cell_type": "code",
   "execution_count": 76,
   "metadata": {},
   "outputs": [],
   "source": [
    "df_final_case2 = dfm_case2_nontot[dfm_case2_nontot['nct_id'].isin(non_double_counted_case2.index)].copy()"
   ]
  },
  {
   "cell_type": "code",
   "execution_count": 77,
   "metadata": {},
   "outputs": [
    {
     "data": {
      "text/plain": [
       "0.1386316906112079"
      ]
     },
     "execution_count": 77,
     "metadata": {},
     "output_type": "execute_result"
    }
   ],
   "source": [
    "# % of rows in bm_used\n",
    "df_final_case2.shape[0] / bm_used.shape[0]"
   ]
  },
  {
   "cell_type": "code",
   "execution_count": 78,
   "metadata": {},
   "outputs": [
    {
     "data": {
      "text/plain": [
       "0.16255254931551147"
      ]
     },
     "execution_count": 78,
     "metadata": {},
     "output_type": "execute_result"
    }
   ],
   "source": [
    "# % of nct_ids in bm_used\n",
    "len(df_final_case2['nct_id'].unique()) / len(bm_used.index.get_level_values(0).unique())"
   ]
  },
  {
   "cell_type": "markdown",
   "metadata": {},
   "source": [
    "### Do we have any nct_ids in both cases?"
   ]
  },
  {
   "cell_type": "code",
   "execution_count": 79,
   "metadata": {},
   "outputs": [
    {
     "data": {
      "text/plain": [
       "[]"
      ]
     },
     "execution_count": 79,
     "metadata": {},
     "output_type": "execute_result"
    }
   ],
   "source": [
    "c1_nct = df_final_case1['nct_id'].unique()\n",
    "c2_nct = df_final_case2['nct_id'].unique()\n",
    "\n",
    "[x for x in c1_nct if x in c2_nct]"
   ]
  },
  {
   "cell_type": "code",
   "execution_count": 80,
   "metadata": {},
   "outputs": [],
   "source": [
    "df_final_case1['used_age'] = df_final_case1['category']\n",
    "df_final_case2['used_age'] = df_final_case2['classification']"
   ]
  },
  {
   "cell_type": "code",
   "execution_count": 81,
   "metadata": {},
   "outputs": [],
   "source": [
    "req_columns = [\n",
    "    'nct_id', \n",
    "    'result_group_id',\n",
    "    'title',\n",
    "    'ctgov_group_code',\n",
    "    'used_age',\n",
    "    'param_value_num'\n",
    "]"
   ]
  },
  {
   "cell_type": "markdown",
   "metadata": {},
   "source": [
    "## 4 Joining together the cases"
   ]
  },
  {
   "cell_type": "code",
   "execution_count": 82,
   "metadata": {},
   "outputs": [],
   "source": [
    "df_final_all = pd.concat([df_final_case1[req_columns], df_final_case2[req_columns]])"
   ]
  },
  {
   "cell_type": "code",
   "execution_count": 83,
   "metadata": {},
   "outputs": [
    {
     "data": {
      "text/plain": [
       "0.7284138978744581"
      ]
     },
     "execution_count": 83,
     "metadata": {},
     "output_type": "execute_result"
    }
   ],
   "source": [
    "df_final_all.shape[0] / bm_used.shape[0]"
   ]
  },
  {
   "cell_type": "code",
   "execution_count": 84,
   "metadata": {},
   "outputs": [
    {
     "data": {
      "text/plain": [
       "(0.41472424192831925, 17739)"
      ]
     },
     "execution_count": 84,
     "metadata": {},
     "output_type": "execute_result"
    }
   ],
   "source": [
    "# % of all nctids that report baseline measures\n",
    "num_studies_report_race = len(df_final_all['nct_id'].unique())\n",
    "num_studies_report_race / len(bm.index.get_level_values(0).unique()), num_studies_report_race"
   ]
  },
  {
   "cell_type": "code",
   "execution_count": 85,
   "metadata": {},
   "outputs": [],
   "source": [
    "dftotals = df_final_all.groupby('nct_id')[['param_value_num']].sum()"
   ]
  },
  {
   "cell_type": "code",
   "execution_count": 86,
   "metadata": {},
   "outputs": [
    {
     "data": {
      "text/html": [
       "<div>\n",
       "<style scoped>\n",
       "    .dataframe tbody tr th:only-of-type {\n",
       "        vertical-align: middle;\n",
       "    }\n",
       "\n",
       "    .dataframe tbody tr th {\n",
       "        vertical-align: top;\n",
       "    }\n",
       "\n",
       "    .dataframe thead th {\n",
       "        text-align: right;\n",
       "    }\n",
       "</style>\n",
       "<table border=\"1\" class=\"dataframe\">\n",
       "  <thead>\n",
       "    <tr style=\"text-align: right;\">\n",
       "      <th></th>\n",
       "      <th>percentile</th>\n",
       "      <th>param_value_num</th>\n",
       "    </tr>\n",
       "  </thead>\n",
       "  <tbody>\n",
       "    <tr>\n",
       "      <td>19</td>\n",
       "      <td>15%</td>\n",
       "      <td>11.0</td>\n",
       "    </tr>\n",
       "    <tr>\n",
       "      <td>20</td>\n",
       "      <td>16%</td>\n",
       "      <td>12.0</td>\n",
       "    </tr>\n",
       "    <tr>\n",
       "      <td>21</td>\n",
       "      <td>17%</td>\n",
       "      <td>12.0</td>\n",
       "    </tr>\n",
       "    <tr>\n",
       "      <td>22</td>\n",
       "      <td>18%</td>\n",
       "      <td>13.0</td>\n",
       "    </tr>\n",
       "    <tr>\n",
       "      <td>23</td>\n",
       "      <td>19%</td>\n",
       "      <td>14.0</td>\n",
       "    </tr>\n",
       "    <tr>\n",
       "      <td>24</td>\n",
       "      <td>20%</td>\n",
       "      <td>15.0</td>\n",
       "    </tr>\n",
       "    <tr>\n",
       "      <td>25</td>\n",
       "      <td>21%</td>\n",
       "      <td>16.0</td>\n",
       "    </tr>\n",
       "    <tr>\n",
       "      <td>26</td>\n",
       "      <td>22%</td>\n",
       "      <td>16.0</td>\n",
       "    </tr>\n",
       "    <tr>\n",
       "      <td>27</td>\n",
       "      <td>23%</td>\n",
       "      <td>17.0</td>\n",
       "    </tr>\n",
       "    <tr>\n",
       "      <td>28</td>\n",
       "      <td>24%</td>\n",
       "      <td>18.0</td>\n",
       "    </tr>\n",
       "  </tbody>\n",
       "</table>\n",
       "</div>"
      ],
      "text/plain": [
       "   percentile  param_value_num\n",
       "19        15%             11.0\n",
       "20        16%             12.0\n",
       "21        17%             12.0\n",
       "22        18%             13.0\n",
       "23        19%             14.0\n",
       "24        20%             15.0\n",
       "25        21%             16.0\n",
       "26        22%             16.0\n",
       "27        23%             17.0\n",
       "28        24%             18.0"
      ]
     },
     "execution_count": 86,
     "metadata": {},
     "output_type": "execute_result"
    }
   ],
   "source": [
    "df_percentile_totals = dftotals.describe(np.arange(0,1,0.01))\n",
    "df_percentile_totals.index.name='percentile'\n",
    "df_percentile_totals.reset_index(inplace=True)\n",
    "df_percentile_totals = df_percentile_totals[df_percentile_totals['percentile'].apply(lambda x: \n",
    "                                                                                     True if '%' in x \n",
    "                                                                                     else False)]\n",
    "df_percentile_totals[15:25]"
   ]
  },
  {
   "cell_type": "markdown",
   "metadata": {},
   "source": [
    "### We picked to keep 80% of the data and exclude any studies such the total <= 15"
   ]
  },
  {
   "cell_type": "code",
   "execution_count": 87,
   "metadata": {},
   "outputs": [
    {
     "data": {
      "text/plain": [
       "(14020, 1)"
      ]
     },
     "execution_count": 87,
     "metadata": {},
     "output_type": "execute_result"
    }
   ],
   "source": [
    "df_totals_used = dftotals[dftotals['param_value_num'] > 15]\n",
    "df_totals_used.shape"
   ]
  },
  {
   "cell_type": "code",
   "execution_count": 88,
   "metadata": {},
   "outputs": [
    {
     "data": {
      "text/html": [
       "<div>\n",
       "<style scoped>\n",
       "    .dataframe tbody tr th:only-of-type {\n",
       "        vertical-align: middle;\n",
       "    }\n",
       "\n",
       "    .dataframe tbody tr th {\n",
       "        vertical-align: top;\n",
       "    }\n",
       "\n",
       "    .dataframe thead th {\n",
       "        text-align: right;\n",
       "    }\n",
       "</style>\n",
       "<table border=\"1\" class=\"dataframe\">\n",
       "  <thead>\n",
       "    <tr style=\"text-align: right;\">\n",
       "      <th></th>\n",
       "      <th>nct_id</th>\n",
       "      <th>result_group_id</th>\n",
       "      <th>title</th>\n",
       "      <th>ctgov_group_code</th>\n",
       "      <th>used_age</th>\n",
       "      <th>param_value_num</th>\n",
       "    </tr>\n",
       "  </thead>\n",
       "  <tbody>\n",
       "    <tr>\n",
       "      <td>3</td>\n",
       "      <td>NCT00000134</td>\n",
       "      <td>17107284</td>\n",
       "      <td>Age</td>\n",
       "      <td>B3</td>\n",
       "      <td>&gt;=65 years</td>\n",
       "      <td>0.0</td>\n",
       "    </tr>\n",
       "    <tr>\n",
       "      <td>4</td>\n",
       "      <td>NCT00000134</td>\n",
       "      <td>17107284</td>\n",
       "      <td>Age</td>\n",
       "      <td>B3</td>\n",
       "      <td>Between 18 and 65 years</td>\n",
       "      <td>96.0</td>\n",
       "    </tr>\n",
       "    <tr>\n",
       "      <td>5</td>\n",
       "      <td>NCT00000134</td>\n",
       "      <td>17107284</td>\n",
       "      <td>Age</td>\n",
       "      <td>B3</td>\n",
       "      <td>&lt;=18 years</td>\n",
       "      <td>0.0</td>\n",
       "    </tr>\n",
       "    <tr>\n",
       "      <td>6</td>\n",
       "      <td>NCT00000134</td>\n",
       "      <td>17107285</td>\n",
       "      <td>Age</td>\n",
       "      <td>B2</td>\n",
       "      <td>&gt;=65 years</td>\n",
       "      <td>0.0</td>\n",
       "    </tr>\n",
       "    <tr>\n",
       "      <td>7</td>\n",
       "      <td>NCT00000134</td>\n",
       "      <td>17107285</td>\n",
       "      <td>Age</td>\n",
       "      <td>B2</td>\n",
       "      <td>Between 18 and 65 years</td>\n",
       "      <td>94.0</td>\n",
       "    </tr>\n",
       "  </tbody>\n",
       "</table>\n",
       "</div>"
      ],
      "text/plain": [
       "        nct_id  result_group_id title ctgov_group_code  \\\n",
       "3  NCT00000134         17107284   Age               B3   \n",
       "4  NCT00000134         17107284   Age               B3   \n",
       "5  NCT00000134         17107284   Age               B3   \n",
       "6  NCT00000134         17107285   Age               B2   \n",
       "7  NCT00000134         17107285   Age               B2   \n",
       "\n",
       "                  used_age  param_value_num  \n",
       "3               >=65 years              0.0  \n",
       "4  Between 18 and 65 years             96.0  \n",
       "5               <=18 years              0.0  \n",
       "6               >=65 years              0.0  \n",
       "7  Between 18 and 65 years             94.0  "
      ]
     },
     "execution_count": 88,
     "metadata": {},
     "output_type": "execute_result"
    }
   ],
   "source": [
    "df_final_g15 = df_final_all[df_final_all['nct_id'].isin(df_totals_used.index.unique())]\n",
    "df_final_g15.head()"
   ]
  },
  {
   "cell_type": "markdown",
   "metadata": {},
   "source": [
    "### Only keep those with 2 Arms"
   ]
  },
  {
   "cell_type": "code",
   "execution_count": 89,
   "metadata": {},
   "outputs": [
    {
     "data": {
      "text/plain": [
       "array([[<matplotlib.axes._subplots.AxesSubplot object at 0x7fe062509fd0>]],\n",
       "      dtype=object)"
      ]
     },
     "execution_count": 89,
     "metadata": {},
     "output_type": "execute_result"
    },
    {
     "data": {
      "image/png": "[encoded data removed]",
      "text/plain": [
       "<Figure size 432x288 with 1 Axes>"
      ]
     },
     "metadata": {
      "needs_background": "light"
     },
     "output_type": "display_data"
    }
   ],
   "source": [
    "df_final_g15.groupby('nct_id')[['ctgov_group_code']].nunique().clip(0, 10).hist(bins=10)"
   ]
  },
  {
   "cell_type": "code",
   "execution_count": 90,
   "metadata": {},
   "outputs": [
    {
     "data": {
      "text/plain": [
       "7204"
      ]
     },
     "execution_count": 90,
     "metadata": {},
     "output_type": "execute_result"
    }
   ],
   "source": [
    "# only keep studies with exactly 2 arms\n",
    "s_ngrps = df_final_g15.groupby('nct_id')['ctgov_group_code'].nunique()\n",
    "nct_id_2arm = s_ngrps[s_ngrps == 2].index\n",
    "len(nct_id_2arm)"
   ]
  },
  {
   "cell_type": "code",
   "execution_count": 91,
   "metadata": {},
   "outputs": [
    {
     "data": {
      "text/plain": [
       "(0.16842400579805017, 0.025827175896547892)"
      ]
     },
     "execution_count": 91,
     "metadata": {},
     "output_type": "execute_result"
    }
   ],
   "source": [
    "# % of studies with bm\n",
    "# % of all studies in database\n",
    "len(nct_id_2arm) / bm_all, len(nct_id_2arm) / num_all "
   ]
  },
  {
   "cell_type": "code",
   "execution_count": 92,
   "metadata": {},
   "outputs": [
    {
     "data": {
      "text/plain": [
       "(43001, 6)"
      ]
     },
     "execution_count": 92,
     "metadata": {},
     "output_type": "execute_result"
    }
   ],
   "source": [
    "df_final_two_arm = df_final_g15[df_final_g15['nct_id'].isin(nct_id_2arm)]\n",
    "df_final_two_arm.shape"
   ]
  },
  {
   "cell_type": "code",
   "execution_count": 93,
   "metadata": {},
   "outputs": [
    {
     "data": {
      "text/html": [
       "<div>\n",
       "<style scoped>\n",
       "    .dataframe tbody tr th:only-of-type {\n",
       "        vertical-align: middle;\n",
       "    }\n",
       "\n",
       "    .dataframe tbody tr th {\n",
       "        vertical-align: top;\n",
       "    }\n",
       "\n",
       "    .dataframe thead th {\n",
       "        text-align: right;\n",
       "    }\n",
       "</style>\n",
       "<table border=\"1\" class=\"dataframe\">\n",
       "  <thead>\n",
       "    <tr style=\"text-align: right;\">\n",
       "      <th></th>\n",
       "      <th>nct_id</th>\n",
       "      <th>result_group_id</th>\n",
       "      <th>title</th>\n",
       "      <th>ctgov_group_code</th>\n",
       "      <th>used_age</th>\n",
       "      <th>param_value_num</th>\n",
       "    </tr>\n",
       "  </thead>\n",
       "  <tbody>\n",
       "    <tr>\n",
       "      <td>15</td>\n",
       "      <td>NCT00000135</td>\n",
       "      <td>17107275</td>\n",
       "      <td>Age</td>\n",
       "      <td>B2</td>\n",
       "      <td>&gt;=65 years</td>\n",
       "      <td>0.0</td>\n",
       "    </tr>\n",
       "    <tr>\n",
       "      <td>16</td>\n",
       "      <td>NCT00000135</td>\n",
       "      <td>17107275</td>\n",
       "      <td>Age</td>\n",
       "      <td>B2</td>\n",
       "      <td>Between 18 and 65 years</td>\n",
       "      <td>105.0</td>\n",
       "    </tr>\n",
       "    <tr>\n",
       "      <td>17</td>\n",
       "      <td>NCT00000135</td>\n",
       "      <td>17107275</td>\n",
       "      <td>Age</td>\n",
       "      <td>B2</td>\n",
       "      <td>&lt;=18 years</td>\n",
       "      <td>0.0</td>\n",
       "    </tr>\n",
       "    <tr>\n",
       "      <td>18</td>\n",
       "      <td>NCT00000135</td>\n",
       "      <td>17107276</td>\n",
       "      <td>Age</td>\n",
       "      <td>B1</td>\n",
       "      <td>&gt;=65 years</td>\n",
       "      <td>0.0</td>\n",
       "    </tr>\n",
       "    <tr>\n",
       "      <td>19</td>\n",
       "      <td>NCT00000135</td>\n",
       "      <td>17107276</td>\n",
       "      <td>Age</td>\n",
       "      <td>B1</td>\n",
       "      <td>Between 18 and 65 years</td>\n",
       "      <td>104.0</td>\n",
       "    </tr>\n",
       "  </tbody>\n",
       "</table>\n",
       "</div>"
      ],
      "text/plain": [
       "         nct_id  result_group_id title ctgov_group_code  \\\n",
       "15  NCT00000135         17107275   Age               B2   \n",
       "16  NCT00000135         17107275   Age               B2   \n",
       "17  NCT00000135         17107275   Age               B2   \n",
       "18  NCT00000135         17107276   Age               B1   \n",
       "19  NCT00000135         17107276   Age               B1   \n",
       "\n",
       "                   used_age  param_value_num  \n",
       "15               >=65 years              0.0  \n",
       "16  Between 18 and 65 years            105.0  \n",
       "17               <=18 years              0.0  \n",
       "18               >=65 years              0.0  \n",
       "19  Between 18 and 65 years            104.0  "
      ]
     },
     "execution_count": 93,
     "metadata": {},
     "output_type": "execute_result"
    }
   ],
   "source": [
    "df_final_two_arm.head()"
   ]
  },
  {
   "cell_type": "markdown",
   "metadata": {},
   "source": [
    "# 5. Outcome measurements"
   ]
  },
  {
   "cell_type": "code",
   "execution_count": 94,
   "metadata": {},
   "outputs": [],
   "source": [
    "omj = om.reset_index().add_prefix('om_')\n",
    "outj = out.reset_index().add_prefix('out_')"
   ]
  },
  {
   "cell_type": "code",
   "execution_count": 95,
   "metadata": {},
   "outputs": [],
   "source": [
    "dfj = omj.merge(outj, \n",
    "                how='inner',\n",
    "                left_on=['om_nct_id', 'om_outcome_id'],\n",
    "                right_on=['out_nct_id', 'out_id'],)"
   ]
  },
  {
   "cell_type": "code",
   "execution_count": 96,
   "metadata": {},
   "outputs": [
    {
     "data": {
      "text/plain": [
       "7204"
      ]
     },
     "execution_count": 96,
     "metadata": {},
     "output_type": "execute_result"
    }
   ],
   "source": [
    "# studies from the baseline measurement race requirements above\n",
    "studies_w_race_info = df_final_two_arm['nct_id'].unique()\n",
    "len(studies_w_race_info)"
   ]
  },
  {
   "cell_type": "code",
   "execution_count": 97,
   "metadata": {},
   "outputs": [
    {
     "data": {
      "text/plain": [
       "28745"
      ]
     },
     "execution_count": 97,
     "metadata": {},
     "output_type": "execute_result"
    }
   ],
   "source": [
    "# studies with 1 primary outcome\n",
    "outj_primary = outj[outj['out_outcome_type'] == 'Primary']\n",
    "num_outcomes_per_study = outj_primary.groupby('out_nct_id')['out_id'].size()\n",
    "studies_w_1_outcome = num_outcomes_per_study[num_outcomes_per_study == 1].index\n",
    "len(studies_w_1_outcome)"
   ]
  },
  {
   "cell_type": "code",
   "execution_count": 98,
   "metadata": {},
   "outputs": [
    {
     "data": {
      "text/plain": [
       "4949"
      ]
     },
     "execution_count": 98,
     "metadata": {},
     "output_type": "execute_result"
    }
   ],
   "source": [
    "# intersection of the two requirements\n",
    "dfj_used = dfj[(dfj['om_nct_id'].isin(studies_w_race_info)) &\n",
    "               (dfj['om_nct_id'].isin(studies_w_1_outcome))]\n",
    "len(dfj_used['om_nct_id'].unique())"
   ]
  },
  {
   "cell_type": "code",
   "execution_count": 99,
   "metadata": {},
   "outputs": [
    {
     "data": {
      "text/plain": [
       "2063"
      ]
     },
     "execution_count": 99,
     "metadata": {},
     "output_type": "execute_result"
    }
   ],
   "source": [
    "dfom_prim = dfj_used[(dfj_used['out_param_type'] == 'Mean') & (dfj_used['out_outcome_type'] == 'Primary')]\n",
    "len(dfom_prim['om_nct_id'].unique())"
   ]
  },
  {
   "cell_type": "code",
   "execution_count": 100,
   "metadata": {},
   "outputs": [],
   "source": [
    "# needs to have exactly 2 unique group codes\n",
    "num_group_codes = dfom_prim.groupby('om_nct_id')['om_ctgov_group_code'].size()\n",
    "with_2_g_codes = num_group_codes[num_group_codes == 2].index\n",
    "\n",
    "num_uniq_group_codes = dfom_prim.groupby('om_nct_id')['om_ctgov_group_code'].nunique()\n",
    "with_2_uniq_g_codes = num_uniq_group_codes[num_uniq_group_codes == 2].index"
   ]
  },
  {
   "cell_type": "code",
   "execution_count": 101,
   "metadata": {},
   "outputs": [
    {
     "data": {
      "text/plain": [
       "1491"
      ]
     },
     "execution_count": 101,
     "metadata": {},
     "output_type": "execute_result"
    }
   ],
   "source": [
    "dfom_all_types = dfom_prim[(dfom_prim['om_nct_id'].isin(with_2_g_codes)) &\n",
    "                       (dfom_prim['om_nct_id'].isin(with_2_uniq_g_codes))]\n",
    "len(dfom_all_types['om_nct_id'].unique())"
   ]
  },
  {
   "cell_type": "code",
   "execution_count": 102,
   "metadata": {},
   "outputs": [
    {
     "data": {
      "text/plain": [
       "om_dispersion_type\n",
       "80% Confidence Interval         2\n",
       "90% Confidence Interval         2\n",
       "95% Confidence Interval       292\n",
       "97.5% Confidence Interval       2\n",
       "Full Range                     94\n",
       "Inter-Quartile Range           20\n",
       "Standard Deviation           2234\n",
       "Standard Error                336\n",
       "dtype: int64"
      ]
     },
     "execution_count": 102,
     "metadata": {},
     "output_type": "execute_result"
    }
   ],
   "source": [
    "dfom_all_types.groupby('om_dispersion_type').size()"
   ]
  },
  {
   "cell_type": "code",
   "execution_count": 103,
   "metadata": {},
   "outputs": [
    {
     "data": {
      "text/plain": [
       "1285"
      ]
     },
     "execution_count": 103,
     "metadata": {},
     "output_type": "execute_result"
    }
   ],
   "source": [
    "used_dispersion_types = ['Standard Deviation', 'Standard Error']\n",
    "dfom_final = dfom_all_types[dfom_all_types['om_dispersion_type'].isin(used_dispersion_types)]\n",
    "len(dfom_final['om_nct_id'].unique())"
   ]
  },
  {
   "cell_type": "markdown",
   "metadata": {},
   "source": [
    "#### We arrive at a final om dataset of 1264 studies"
   ]
  },
  {
   "cell_type": "markdown",
   "metadata": {},
   "source": [
    "## On the outcome counts, getting the primary counts"
   ]
  },
  {
   "cell_type": "code",
   "execution_count": 104,
   "metadata": {},
   "outputs": [
    {
     "data": {
      "text/plain": [
       "1285"
      ]
     },
     "execution_count": 104,
     "metadata": {},
     "output_type": "execute_result"
    }
   ],
   "source": [
    "# requires the outcome table and the outcome_counts table\n",
    "ocj = oc.reset_index().add_prefix('oc_')\n",
    "out_ocj = out[['id', 'outcome_type']].reset_index().add_prefix('oco_')\n",
    "\n",
    "ocoj = ocj.merge(out_ocj,\n",
    "                 how='inner', \n",
    "                 left_on=['oc_nct_id', 'oc_outcome_id'],\n",
    "                 right_on=['oco_nct_id', 'oco_id'])\n",
    "ocoj_in_set = ocoj[ocoj['oc_nct_id'].isin(dfom_final['om_nct_id'].unique())]\n",
    "\n",
    "# only keep counts on primary out comes\n",
    "ocoj_primary = ocoj_in_set[ocoj_in_set['oco_outcome_type'] == 'Primary']\n",
    "\n",
    "len(ocoj_primary['oc_nct_id'].unique())"
   ]
  },
  {
   "cell_type": "code",
   "execution_count": 105,
   "metadata": {},
   "outputs": [
    {
     "data": {
      "application/vnd.jupyter.widget-view+json": {
       "model_id": "d97dc71143b14ab096db41497183ced9",
       "version_major": 2,
       "version_minor": 0
      },
      "text/plain": [
       "HBox(children=(IntProgress(value=0, max=1285), HTML(value='')))"
      ]
     },
     "metadata": {},
     "output_type": "display_data"
    },
    {
     "name": "stdout",
     "output_type": "stream",
     "text": [
      "\n"
     ]
    },
    {
     "data": {
      "text/html": [
       "<div>\n",
       "<style scoped>\n",
       "    .dataframe tbody tr th:only-of-type {\n",
       "        vertical-align: middle;\n",
       "    }\n",
       "\n",
       "    .dataframe tbody tr th {\n",
       "        vertical-align: top;\n",
       "    }\n",
       "\n",
       "    .dataframe thead th {\n",
       "        text-align: right;\n",
       "    }\n",
       "</style>\n",
       "<table border=\"1\" class=\"dataframe\">\n",
       "  <thead>\n",
       "    <tr style=\"text-align: right;\">\n",
       "      <th></th>\n",
       "      <th>ct_nct_id</th>\n",
       "      <th>ct_ctgov_group_code</th>\n",
       "      <th>ct_num_participants</th>\n",
       "      <th>ct_num_measures</th>\n",
       "    </tr>\n",
       "  </thead>\n",
       "  <tbody>\n",
       "    <tr>\n",
       "      <td>0</td>\n",
       "      <td>NCT00000371</td>\n",
       "      <td>O2</td>\n",
       "      <td>27</td>\n",
       "      <td>27</td>\n",
       "    </tr>\n",
       "    <tr>\n",
       "      <td>1</td>\n",
       "      <td>NCT00000371</td>\n",
       "      <td>O1</td>\n",
       "      <td>28</td>\n",
       "      <td>28</td>\n",
       "    </tr>\n",
       "    <tr>\n",
       "      <td>2</td>\n",
       "      <td>NCT00000392</td>\n",
       "      <td>O2</td>\n",
       "      <td>77</td>\n",
       "      <td>77</td>\n",
       "    </tr>\n",
       "    <tr>\n",
       "      <td>3</td>\n",
       "      <td>NCT00000392</td>\n",
       "      <td>O1</td>\n",
       "      <td>66</td>\n",
       "      <td>66</td>\n",
       "    </tr>\n",
       "    <tr>\n",
       "      <td>4</td>\n",
       "      <td>NCT00001596</td>\n",
       "      <td>O2</td>\n",
       "      <td>3</td>\n",
       "      <td>3</td>\n",
       "    </tr>\n",
       "    <tr>\n",
       "      <td>...</td>\n",
       "      <td>...</td>\n",
       "      <td>...</td>\n",
       "      <td>...</td>\n",
       "      <td>...</td>\n",
       "    </tr>\n",
       "    <tr>\n",
       "      <td>2568</td>\n",
       "      <td>NCT04195880</td>\n",
       "      <td>O1</td>\n",
       "      <td>3205</td>\n",
       "      <td>3205</td>\n",
       "    </tr>\n",
       "    <tr>\n",
       "      <td>2569</td>\n",
       "      <td>NCT04266925</td>\n",
       "      <td>O2</td>\n",
       "      <td>49</td>\n",
       "      <td>49</td>\n",
       "    </tr>\n",
       "    <tr>\n",
       "      <td>2570</td>\n",
       "      <td>NCT04266925</td>\n",
       "      <td>O1</td>\n",
       "      <td>49</td>\n",
       "      <td>49</td>\n",
       "    </tr>\n",
       "    <tr>\n",
       "      <td>2571</td>\n",
       "      <td>NCT04502979</td>\n",
       "      <td>O2</td>\n",
       "      <td>26</td>\n",
       "      <td>26</td>\n",
       "    </tr>\n",
       "    <tr>\n",
       "      <td>2572</td>\n",
       "      <td>NCT04502979</td>\n",
       "      <td>O1</td>\n",
       "      <td>28</td>\n",
       "      <td>28</td>\n",
       "    </tr>\n",
       "  </tbody>\n",
       "</table>\n",
       "<p>2573 rows × 4 columns</p>\n",
       "</div>"
      ],
      "text/plain": [
       "        ct_nct_id ct_ctgov_group_code  ct_num_participants  ct_num_measures\n",
       "0     NCT00000371                  O2                   27               27\n",
       "1     NCT00000371                  O1                   28               28\n",
       "2     NCT00000392                  O2                   77               77\n",
       "3     NCT00000392                  O1                   66               66\n",
       "4     NCT00001596                  O2                    3                3\n",
       "...           ...                 ...                  ...              ...\n",
       "2568  NCT04195880                  O1                 3205             3205\n",
       "2569  NCT04266925                  O2                   49               49\n",
       "2570  NCT04266925                  O1                   49               49\n",
       "2571  NCT04502979                  O2                   26               26\n",
       "2572  NCT04502979                  O1                   28               28\n",
       "\n",
       "[2573 rows x 4 columns]"
      ]
     },
     "execution_count": 105,
     "metadata": {},
     "output_type": "execute_result"
    }
   ],
   "source": [
    "# extracting the out_come counts:\n",
    "res_dict = {}\n",
    "\n",
    "for nct_id in tqdm(ocoj_primary['oc_nct_id'].unique()):\n",
    "    #print(nct_id)\n",
    "    sub_df = ocoj_primary[ocoj_primary['oc_nct_id'] == nct_id]\n",
    "    for gcode in sub_df['oc_ctgov_group_code'].unique():\n",
    "        sub_df_gc = sub_df[sub_df['oc_ctgov_group_code'] == gcode]\n",
    "        type_units = sub_df_gc['oc_units'].unique()\n",
    "\n",
    "        if len(type_units) == 1:\n",
    "            num_participants = sub_df_gc['oc_count'].values[0]\n",
    "            num_measures = sub_df_gc['oc_count'].values[0]  # same as participants\n",
    "        elif len(type_units) == 2:\n",
    "            num_participants = sub_df_gc[sub_df_gc['oc_units'] == 'Participants']['oc_count'].values[0]\n",
    "            num_measures = sub_df_gc[sub_df_gc['oc_units'] != 'Participants']['oc_count'].values[0]\n",
    "\n",
    "        res_dict[(nct_id, gcode)] = {\n",
    "            'num_participants': num_participants,\n",
    "            'num_measures': num_measures,\n",
    "        }\n",
    "        \n",
    "df_counts = pd.DataFrame(res_dict).T\n",
    "df_counts.index.names = ['nct_id', 'ctgov_group_code']\n",
    "df_counts = df_counts.reset_index().add_prefix('ct_')\n",
    "df_counts"
   ]
  },
  {
   "cell_type": "markdown",
   "metadata": {},
   "source": [
    "## Joining the counts to dfom_final"
   ]
  },
  {
   "cell_type": "code",
   "execution_count": 106,
   "metadata": {},
   "outputs": [
    {
     "data": {
      "text/plain": [
       "(2570, 32)"
      ]
     },
     "execution_count": 106,
     "metadata": {},
     "output_type": "execute_result"
    }
   ],
   "source": [
    "dfom_final.shape"
   ]
  },
  {
   "cell_type": "code",
   "execution_count": 107,
   "metadata": {},
   "outputs": [
    {
     "data": {
      "text/plain": [
       "(2570, 36)"
      ]
     },
     "execution_count": 107,
     "metadata": {},
     "output_type": "execute_result"
    }
   ],
   "source": [
    "df_om_final_w_counts = dfom_final.merge(df_counts,\n",
    "                                        how='inner',\n",
    "                                        left_on=['om_nct_id', 'om_ctgov_group_code'],\n",
    "                                        right_on=['ct_nct_id', 'ct_ctgov_group_code'])\n",
    "df_om_final_w_counts.shape"
   ]
  },
  {
   "cell_type": "code",
   "execution_count": 108,
   "metadata": {},
   "outputs": [
    {
     "data": {
      "text/plain": [
       "Index(['om_nct_id', 'om_result_group_id', 'om_outcome_id', 'om_id',\n",
       "       'om_ctgov_group_code', 'om_classification', 'om_category', 'om_title',\n",
       "       'om_description', 'om_units', 'om_param_type', 'om_param_value',\n",
       "       'om_param_value_num', 'om_dispersion_type', 'om_dispersion_value',\n",
       "       'om_dispersion_value_num', 'om_dispersion_lower_limit',\n",
       "       'om_dispersion_upper_limit', 'om_explanation_of_na', 'out_nct_id',\n",
       "       'out_id', 'out_outcome_type', 'out_title', 'out_description',\n",
       "       'out_time_frame', 'out_population', 'out_anticipated_posting_date',\n",
       "       'out_anticipated_posting_month_year', 'out_units', 'out_units_analyzed',\n",
       "       'out_dispersion_type', 'out_param_type', 'ct_nct_id',\n",
       "       'ct_ctgov_group_code', 'ct_num_participants', 'ct_num_measures'],\n",
       "      dtype='object')"
      ]
     },
     "execution_count": 108,
     "metadata": {},
     "output_type": "execute_result"
    }
   ],
   "source": [
    "df_om_final_w_counts.columns"
   ]
  },
  {
   "cell_type": "markdown",
   "metadata": {},
   "source": [
    "## Taking the intersection of the 2 datasets"
   ]
  },
  {
   "cell_type": "code",
   "execution_count": 109,
   "metadata": {},
   "outputs": [],
   "source": [
    "dfbm_final_i = df_final_two_arm[df_final_two_arm['nct_id'].isin(df_om_final_w_counts['om_nct_id'].unique())]\n",
    "dfbm_final_i = dfbm_final_i.add_prefix('bm_')\n",
    "dfom_final_i = df_om_final_w_counts[df_om_final_w_counts['om_nct_id'].isin(df_final_two_arm['nct_id'].unique())]"
   ]
  },
  {
   "cell_type": "code",
   "execution_count": 110,
   "metadata": {},
   "outputs": [
    {
     "data": {
      "text/plain": [
       "((7646, 6), (2570, 36))"
      ]
     },
     "execution_count": 110,
     "metadata": {},
     "output_type": "execute_result"
    }
   ],
   "source": [
    "dfbm_final_i.shape, dfom_final_i.shape"
   ]
  },
  {
   "cell_type": "code",
   "execution_count": 111,
   "metadata": {},
   "outputs": [],
   "source": [
    "# checkpoint outputting data pickels\n",
    "dfbm_final_i.to_pickle('bm_age.p')\n",
    "dfom_final_i.to_pickle('om_age.p')"
   ]
  },
  {
   "cell_type": "code",
   "execution_count": 112,
   "metadata": {},
   "outputs": [],
   "source": [
    "sample_nct_id = 'NCT00000392'"
   ]
  },
  {
   "cell_type": "code",
   "execution_count": 113,
   "metadata": {},
   "outputs": [
    {
     "data": {
      "text/plain": [
       "(2570, 42)"
      ]
     },
     "execution_count": 113,
     "metadata": {},
     "output_type": "execute_result"
    }
   ],
   "source": [
    "# joining the result groups to dfom\n",
    "rg_omj = rg.reset_index().add_prefix(\"rgom_\")\n",
    "dfom_final_ij = dfom_final_i.merge(rg_omj,\n",
    "                                   how='inner',\n",
    "                                   left_on=['om_nct_id', 'om_result_group_id'],\n",
    "                                   right_on=['rgom_nct_id', 'rgom_id'])\n",
    "dfom_final_ij.shape"
   ]
  },
  {
   "cell_type": "code",
   "execution_count": 114,
   "metadata": {},
   "outputs": [
    {
     "data": {
      "text/html": [
       "<div>\n",
       "<style scoped>\n",
       "    .dataframe tbody tr th:only-of-type {\n",
       "        vertical-align: middle;\n",
       "    }\n",
       "\n",
       "    .dataframe tbody tr th {\n",
       "        vertical-align: top;\n",
       "    }\n",
       "\n",
       "    .dataframe thead th {\n",
       "        text-align: right;\n",
       "    }\n",
       "</style>\n",
       "<table border=\"1\" class=\"dataframe\">\n",
       "  <thead>\n",
       "    <tr style=\"text-align: right;\">\n",
       "      <th></th>\n",
       "      <th>2</th>\n",
       "      <th>3</th>\n",
       "    </tr>\n",
       "  </thead>\n",
       "  <tbody>\n",
       "    <tr>\n",
       "      <td>om_nct_id</td>\n",
       "      <td>NCT00000392</td>\n",
       "      <td>NCT00000392</td>\n",
       "    </tr>\n",
       "    <tr>\n",
       "      <td>om_result_group_id</td>\n",
       "      <td>17106864</td>\n",
       "      <td>17106865</td>\n",
       "    </tr>\n",
       "    <tr>\n",
       "      <td>om_outcome_id</td>\n",
       "      <td>5194677</td>\n",
       "      <td>5194677</td>\n",
       "    </tr>\n",
       "    <tr>\n",
       "      <td>om_id</td>\n",
       "      <td>39880275</td>\n",
       "      <td>39880276</td>\n",
       "    </tr>\n",
       "    <tr>\n",
       "      <td>om_ctgov_group_code</td>\n",
       "      <td>O2</td>\n",
       "      <td>O1</td>\n",
       "    </tr>\n",
       "    <tr>\n",
       "      <td>om_classification</td>\n",
       "      <td></td>\n",
       "      <td></td>\n",
       "    </tr>\n",
       "    <tr>\n",
       "      <td>om_category</td>\n",
       "      <td></td>\n",
       "      <td></td>\n",
       "    </tr>\n",
       "    <tr>\n",
       "      <td>om_title</td>\n",
       "      <td>Change in Global Neurocognitive Performance z ...</td>\n",
       "      <td>Change in Global Neurocognitive Performance z ...</td>\n",
       "    </tr>\n",
       "    <tr>\n",
       "      <td>om_description</td>\n",
       "      <td>Higher values for change in z-score represent ...</td>\n",
       "      <td>Higher values for change in z-score represent ...</td>\n",
       "    </tr>\n",
       "    <tr>\n",
       "      <td>om_units</td>\n",
       "      <td>z score</td>\n",
       "      <td>z score</td>\n",
       "    </tr>\n",
       "    <tr>\n",
       "      <td>om_param_type</td>\n",
       "      <td>Mean</td>\n",
       "      <td>Mean</td>\n",
       "    </tr>\n",
       "    <tr>\n",
       "      <td>om_param_value</td>\n",
       "      <td>0.16</td>\n",
       "      <td>0.24</td>\n",
       "    </tr>\n",
       "    <tr>\n",
       "      <td>om_param_value_num</td>\n",
       "      <td>0.16</td>\n",
       "      <td>0.24</td>\n",
       "    </tr>\n",
       "    <tr>\n",
       "      <td>om_dispersion_type</td>\n",
       "      <td>Standard Error</td>\n",
       "      <td>Standard Error</td>\n",
       "    </tr>\n",
       "    <tr>\n",
       "      <td>om_dispersion_value</td>\n",
       "      <td>0.03</td>\n",
       "      <td>0.05</td>\n",
       "    </tr>\n",
       "    <tr>\n",
       "      <td>om_dispersion_value_num</td>\n",
       "      <td>0.03</td>\n",
       "      <td>0.05</td>\n",
       "    </tr>\n",
       "    <tr>\n",
       "      <td>om_dispersion_lower_limit</td>\n",
       "      <td>NaN</td>\n",
       "      <td>NaN</td>\n",
       "    </tr>\n",
       "    <tr>\n",
       "      <td>om_dispersion_upper_limit</td>\n",
       "      <td>NaN</td>\n",
       "      <td>NaN</td>\n",
       "    </tr>\n",
       "    <tr>\n",
       "      <td>om_explanation_of_na</td>\n",
       "      <td></td>\n",
       "      <td></td>\n",
       "    </tr>\n",
       "    <tr>\n",
       "      <td>out_nct_id</td>\n",
       "      <td>NCT00000392</td>\n",
       "      <td>NCT00000392</td>\n",
       "    </tr>\n",
       "    <tr>\n",
       "      <td>out_id</td>\n",
       "      <td>5194677</td>\n",
       "      <td>5194677</td>\n",
       "    </tr>\n",
       "    <tr>\n",
       "      <td>out_outcome_type</td>\n",
       "      <td>Primary</td>\n",
       "      <td>Primary</td>\n",
       "    </tr>\n",
       "    <tr>\n",
       "      <td>out_title</td>\n",
       "      <td>Change in Global Neurocognitive Performance z ...</td>\n",
       "      <td>Change in Global Neurocognitive Performance z ...</td>\n",
       "    </tr>\n",
       "    <tr>\n",
       "      <td>out_description</td>\n",
       "      <td>Higher values for change in z-score represent ...</td>\n",
       "      <td>Higher values for change in z-score represent ...</td>\n",
       "    </tr>\n",
       "    <tr>\n",
       "      <td>out_time_frame</td>\n",
       "      <td>Baseline and 6 months</td>\n",
       "      <td>Baseline and 6 months</td>\n",
       "    </tr>\n",
       "    <tr>\n",
       "      <td>out_population</td>\n",
       "      <td></td>\n",
       "      <td></td>\n",
       "    </tr>\n",
       "    <tr>\n",
       "      <td>out_anticipated_posting_date</td>\n",
       "      <td>None</td>\n",
       "      <td>None</td>\n",
       "    </tr>\n",
       "    <tr>\n",
       "      <td>out_anticipated_posting_month_year</td>\n",
       "      <td></td>\n",
       "      <td></td>\n",
       "    </tr>\n",
       "    <tr>\n",
       "      <td>out_units</td>\n",
       "      <td>z score</td>\n",
       "      <td>z score</td>\n",
       "    </tr>\n",
       "    <tr>\n",
       "      <td>out_units_analyzed</td>\n",
       "      <td></td>\n",
       "      <td></td>\n",
       "    </tr>\n",
       "    <tr>\n",
       "      <td>out_dispersion_type</td>\n",
       "      <td>Standard Error</td>\n",
       "      <td>Standard Error</td>\n",
       "    </tr>\n",
       "    <tr>\n",
       "      <td>out_param_type</td>\n",
       "      <td>Mean</td>\n",
       "      <td>Mean</td>\n",
       "    </tr>\n",
       "    <tr>\n",
       "      <td>ct_nct_id</td>\n",
       "      <td>NCT00000392</td>\n",
       "      <td>NCT00000392</td>\n",
       "    </tr>\n",
       "    <tr>\n",
       "      <td>ct_ctgov_group_code</td>\n",
       "      <td>O2</td>\n",
       "      <td>O1</td>\n",
       "    </tr>\n",
       "    <tr>\n",
       "      <td>ct_num_participants</td>\n",
       "      <td>77</td>\n",
       "      <td>66</td>\n",
       "    </tr>\n",
       "    <tr>\n",
       "      <td>ct_num_measures</td>\n",
       "      <td>77</td>\n",
       "      <td>66</td>\n",
       "    </tr>\n",
       "    <tr>\n",
       "      <td>rgom_nct_id</td>\n",
       "      <td>NCT00000392</td>\n",
       "      <td>NCT00000392</td>\n",
       "    </tr>\n",
       "    <tr>\n",
       "      <td>rgom_id</td>\n",
       "      <td>17106864</td>\n",
       "      <td>17106865</td>\n",
       "    </tr>\n",
       "    <tr>\n",
       "      <td>rgom_ctgov_group_code</td>\n",
       "      <td>O2</td>\n",
       "      <td>O1</td>\n",
       "    </tr>\n",
       "    <tr>\n",
       "      <td>rgom_result_type</td>\n",
       "      <td>Outcome</td>\n",
       "      <td>Outcome</td>\n",
       "    </tr>\n",
       "    <tr>\n",
       "      <td>rgom_title</td>\n",
       "      <td>Placebo</td>\n",
       "      <td>Peptide T</td>\n",
       "    </tr>\n",
       "    <tr>\n",
       "      <td>rgom_description</td>\n",
       "      <td>Placebo given intranasally at a dosage of 2mg ...</td>\n",
       "      <td>Peptide T given intranasally at a dosage of 2m...</td>\n",
       "    </tr>\n",
       "  </tbody>\n",
       "</table>\n",
       "</div>"
      ],
      "text/plain": [
       "                                                                                    2  \\\n",
       "om_nct_id                                                                 NCT00000392   \n",
       "om_result_group_id                                                           17106864   \n",
       "om_outcome_id                                                                 5194677   \n",
       "om_id                                                                        39880275   \n",
       "om_ctgov_group_code                                                                O2   \n",
       "om_classification                                                                       \n",
       "om_category                                                                             \n",
       "om_title                            Change in Global Neurocognitive Performance z ...   \n",
       "om_description                      Higher values for change in z-score represent ...   \n",
       "om_units                                                                      z score   \n",
       "om_param_type                                                                    Mean   \n",
       "om_param_value                                                                   0.16   \n",
       "om_param_value_num                                                               0.16   \n",
       "om_dispersion_type                                                     Standard Error   \n",
       "om_dispersion_value                                                              0.03   \n",
       "om_dispersion_value_num                                                          0.03   \n",
       "om_dispersion_lower_limit                                                         NaN   \n",
       "om_dispersion_upper_limit                                                         NaN   \n",
       "om_explanation_of_na                                                                    \n",
       "out_nct_id                                                                NCT00000392   \n",
       "out_id                                                                        5194677   \n",
       "out_outcome_type                                                              Primary   \n",
       "out_title                           Change in Global Neurocognitive Performance z ...   \n",
       "out_description                     Higher values for change in z-score represent ...   \n",
       "out_time_frame                                                  Baseline and 6 months   \n",
       "out_population                                                                          \n",
       "out_anticipated_posting_date                                                     None   \n",
       "out_anticipated_posting_month_year                                                      \n",
       "out_units                                                                     z score   \n",
       "out_units_analyzed                                                                      \n",
       "out_dispersion_type                                                    Standard Error   \n",
       "out_param_type                                                                   Mean   \n",
       "ct_nct_id                                                                 NCT00000392   \n",
       "ct_ctgov_group_code                                                                O2   \n",
       "ct_num_participants                                                                77   \n",
       "ct_num_measures                                                                    77   \n",
       "rgom_nct_id                                                               NCT00000392   \n",
       "rgom_id                                                                      17106864   \n",
       "rgom_ctgov_group_code                                                              O2   \n",
       "rgom_result_type                                                              Outcome   \n",
       "rgom_title                                                                    Placebo   \n",
       "rgom_description                    Placebo given intranasally at a dosage of 2mg ...   \n",
       "\n",
       "                                                                                    3  \n",
       "om_nct_id                                                                 NCT00000392  \n",
       "om_result_group_id                                                           17106865  \n",
       "om_outcome_id                                                                 5194677  \n",
       "om_id                                                                        39880276  \n",
       "om_ctgov_group_code                                                                O1  \n",
       "om_classification                                                                      \n",
       "om_category                                                                            \n",
       "om_title                            Change in Global Neurocognitive Performance z ...  \n",
       "om_description                      Higher values for change in z-score represent ...  \n",
       "om_units                                                                      z score  \n",
       "om_param_type                                                                    Mean  \n",
       "om_param_value                                                                   0.24  \n",
       "om_param_value_num                                                               0.24  \n",
       "om_dispersion_type                                                     Standard Error  \n",
       "om_dispersion_value                                                              0.05  \n",
       "om_dispersion_value_num                                                          0.05  \n",
       "om_dispersion_lower_limit                                                         NaN  \n",
       "om_dispersion_upper_limit                                                         NaN  \n",
       "om_explanation_of_na                                                                   \n",
       "out_nct_id                                                                NCT00000392  \n",
       "out_id                                                                        5194677  \n",
       "out_outcome_type                                                              Primary  \n",
       "out_title                           Change in Global Neurocognitive Performance z ...  \n",
       "out_description                     Higher values for change in z-score represent ...  \n",
       "out_time_frame                                                  Baseline and 6 months  \n",
       "out_population                                                                         \n",
       "out_anticipated_posting_date                                                     None  \n",
       "out_anticipated_posting_month_year                                                     \n",
       "out_units                                                                     z score  \n",
       "out_units_analyzed                                                                     \n",
       "out_dispersion_type                                                    Standard Error  \n",
       "out_param_type                                                                   Mean  \n",
       "ct_nct_id                                                                 NCT00000392  \n",
       "ct_ctgov_group_code                                                                O1  \n",
       "ct_num_participants                                                                66  \n",
       "ct_num_measures                                                                    66  \n",
       "rgom_nct_id                                                               NCT00000392  \n",
       "rgom_id                                                                      17106865  \n",
       "rgom_ctgov_group_code                                                              O1  \n",
       "rgom_result_type                                                              Outcome  \n",
       "rgom_title                                                                  Peptide T  \n",
       "rgom_description                    Peptide T given intranasally at a dosage of 2m...  "
      ]
     },
     "execution_count": 114,
     "metadata": {},
     "output_type": "execute_result"
    }
   ],
   "source": [
    "dfom_final_ij[dfom_final_ij['om_nct_id'] == sample_nct_id].T"
   ]
  },
  {
   "cell_type": "code",
   "execution_count": 115,
   "metadata": {},
   "outputs": [
    {
     "data": {
      "text/plain": [
       "(7646, 12)"
      ]
     },
     "execution_count": 115,
     "metadata": {},
     "output_type": "execute_result"
    }
   ],
   "source": [
    "# joining the result groups to dfbm\n",
    "rg_bmj = rg.reset_index().add_prefix(\"rgbm_\")\n",
    "dfbm_final_ij = dfbm_final_i.merge(rg_bmj,\n",
    "                                   how='inner',\n",
    "                                   left_on=['bm_nct_id', 'bm_result_group_id'],\n",
    "                                   right_on=['rgbm_nct_id', 'rgbm_id'])\n",
    "dfbm_final_ij.shape"
   ]
  },
  {
   "cell_type": "code",
   "execution_count": 116,
   "metadata": {},
   "outputs": [
    {
     "data": {
      "text/html": [
       "<div>\n",
       "<style scoped>\n",
       "    .dataframe tbody tr th:only-of-type {\n",
       "        vertical-align: middle;\n",
       "    }\n",
       "\n",
       "    .dataframe tbody tr th {\n",
       "        vertical-align: top;\n",
       "    }\n",
       "\n",
       "    .dataframe thead th {\n",
       "        text-align: right;\n",
       "    }\n",
       "</style>\n",
       "<table border=\"1\" class=\"dataframe\">\n",
       "  <thead>\n",
       "    <tr style=\"text-align: right;\">\n",
       "      <th></th>\n",
       "      <th>7102</th>\n",
       "      <th>7103</th>\n",
       "    </tr>\n",
       "  </thead>\n",
       "  <tbody>\n",
       "    <tr>\n",
       "      <td>bm_nct_id</td>\n",
       "      <td>NCT00000392</td>\n",
       "      <td>NCT00000392</td>\n",
       "    </tr>\n",
       "    <tr>\n",
       "      <td>bm_result_group_id</td>\n",
       "      <td>17106858</td>\n",
       "      <td>17106859</td>\n",
       "    </tr>\n",
       "    <tr>\n",
       "      <td>bm_title</td>\n",
       "      <td>Age, Customized</td>\n",
       "      <td>Age, Customized</td>\n",
       "    </tr>\n",
       "    <tr>\n",
       "      <td>bm_ctgov_group_code</td>\n",
       "      <td>B2</td>\n",
       "      <td>B1</td>\n",
       "    </tr>\n",
       "    <tr>\n",
       "      <td>bm_used_age</td>\n",
       "      <td>18-39 years</td>\n",
       "      <td>18-39 years</td>\n",
       "    </tr>\n",
       "    <tr>\n",
       "      <td>bm_param_value_num</td>\n",
       "      <td>62</td>\n",
       "      <td>60</td>\n",
       "    </tr>\n",
       "    <tr>\n",
       "      <td>rgbm_nct_id</td>\n",
       "      <td>NCT00000392</td>\n",
       "      <td>NCT00000392</td>\n",
       "    </tr>\n",
       "    <tr>\n",
       "      <td>rgbm_id</td>\n",
       "      <td>17106858</td>\n",
       "      <td>17106859</td>\n",
       "    </tr>\n",
       "    <tr>\n",
       "      <td>rgbm_ctgov_group_code</td>\n",
       "      <td>B2</td>\n",
       "      <td>B1</td>\n",
       "    </tr>\n",
       "    <tr>\n",
       "      <td>rgbm_result_type</td>\n",
       "      <td>Baseline</td>\n",
       "      <td>Baseline</td>\n",
       "    </tr>\n",
       "    <tr>\n",
       "      <td>rgbm_title</td>\n",
       "      <td>Placebo</td>\n",
       "      <td>Peptide T</td>\n",
       "    </tr>\n",
       "    <tr>\n",
       "      <td>rgbm_description</td>\n",
       "      <td>Placebo given intranasally at a dosage of 2mg ...</td>\n",
       "      <td>Peptide T given intranasally at a dosage of 2m...</td>\n",
       "    </tr>\n",
       "  </tbody>\n",
       "</table>\n",
       "</div>"
      ],
      "text/plain": [
       "                                                                    7102  \\\n",
       "bm_nct_id                                                    NCT00000392   \n",
       "bm_result_group_id                                              17106858   \n",
       "bm_title                                                 Age, Customized   \n",
       "bm_ctgov_group_code                                                   B2   \n",
       "bm_used_age                                                  18-39 years   \n",
       "bm_param_value_num                                                    62   \n",
       "rgbm_nct_id                                                  NCT00000392   \n",
       "rgbm_id                                                         17106858   \n",
       "rgbm_ctgov_group_code                                                 B2   \n",
       "rgbm_result_type                                                Baseline   \n",
       "rgbm_title                                                       Placebo   \n",
       "rgbm_description       Placebo given intranasally at a dosage of 2mg ...   \n",
       "\n",
       "                                                                    7103  \n",
       "bm_nct_id                                                    NCT00000392  \n",
       "bm_result_group_id                                              17106859  \n",
       "bm_title                                                 Age, Customized  \n",
       "bm_ctgov_group_code                                                   B1  \n",
       "bm_used_age                                                  18-39 years  \n",
       "bm_param_value_num                                                    60  \n",
       "rgbm_nct_id                                                  NCT00000392  \n",
       "rgbm_id                                                         17106859  \n",
       "rgbm_ctgov_group_code                                                 B1  \n",
       "rgbm_result_type                                                Baseline  \n",
       "rgbm_title                                                     Peptide T  \n",
       "rgbm_description       Peptide T given intranasally at a dosage of 2m...  "
      ]
     },
     "execution_count": 116,
     "metadata": {},
     "output_type": "execute_result"
    }
   ],
   "source": [
    "dfbm_final_ij[dfbm_final_ij['bm_nct_id'] == sample_nct_id].T"
   ]
  },
  {
   "cell_type": "code",
   "execution_count": 117,
   "metadata": {},
   "outputs": [],
   "source": [
    "# saving pickles\n",
    "dfbm_final_ij.to_pickle('final_bm_age.p')\n",
    "dfom_final_ij.to_pickle('final_om_age.p')"
   ]
  },
  {
   "cell_type": "markdown",
   "metadata": {},
   "source": [
    "# 7. Compute imbalance and effect from the data"
   ]
  },
  {
   "cell_type": "code",
   "execution_count": 121,
   "metadata": {},
   "outputs": [
    {
     "data": {
      "application/vnd.jupyter.widget-view+json": {
       "model_id": "6b4256f500fa4cdb8d122ef301fe4121",
       "version_major": 2,
       "version_minor": 0
      },
      "text/plain": [
       "HBox(children=(IntProgress(value=0, max=1285), HTML(value='')))"
      ]
     },
     "metadata": {},
     "output_type": "display_data"
    },
    {
     "name": "stderr",
     "output_type": "stream",
     "text": [
      "/home/rmfeng/miniconda3/envs/capstone/lib/python3.6/site-packages/ipykernel_launcher.py:28: RuntimeWarning: invalid value encountered in double_scalars\n"
     ]
    },
    {
     "name": "stdout",
     "output_type": "stream",
     "text": [
      "\n"
     ]
    },
    {
     "data": {
      "text/html": [
       "<div>\n",
       "<style scoped>\n",
       "    .dataframe tbody tr th:only-of-type {\n",
       "        vertical-align: middle;\n",
       "    }\n",
       "\n",
       "    .dataframe tbody tr th {\n",
       "        vertical-align: top;\n",
       "    }\n",
       "\n",
       "    .dataframe thead th {\n",
       "        text-align: right;\n",
       "    }\n",
       "</style>\n",
       "<table border=\"1\" class=\"dataframe\">\n",
       "  <thead>\n",
       "    <tr style=\"text-align: right;\">\n",
       "      <th></th>\n",
       "      <th>effect</th>\n",
       "      <th>g1_mean</th>\n",
       "      <th>g2_mean</th>\n",
       "      <th>g1_sd_sample</th>\n",
       "      <th>g2_sd_sample</th>\n",
       "      <th>imbal</th>\n",
       "      <th>ngrps</th>\n",
       "      <th>g1t</th>\n",
       "      <th>g2t</th>\n",
       "      <th>g1counts</th>\n",
       "      <th>g2counts</th>\n",
       "      <th>grouplabels</th>\n",
       "    </tr>\n",
       "  </thead>\n",
       "  <tbody>\n",
       "    <tr>\n",
       "      <td>NCT00000371</td>\n",
       "      <td>0.0317977</td>\n",
       "      <td>27</td>\n",
       "      <td>28</td>\n",
       "      <td>1.61081</td>\n",
       "      <td>1.53454</td>\n",
       "      <td>0</td>\n",
       "      <td>3</td>\n",
       "      <td>27</td>\n",
       "      <td>28</td>\n",
       "      <td>[0.0, 0.0, 27.0]</td>\n",
       "      <td>[0.0, 0.0, 28.0]</td>\n",
       "      <td>[&lt;=18 years, &gt;=65 years, Between 18 and 65 years]</td>\n",
       "    </tr>\n",
       "    <tr>\n",
       "      <td>NCT00000392</td>\n",
       "      <td>0.237493</td>\n",
       "      <td>77</td>\n",
       "      <td>66</td>\n",
       "      <td>0.263249</td>\n",
       "      <td>0.406202</td>\n",
       "      <td>0</td>\n",
       "      <td>1</td>\n",
       "      <td>60</td>\n",
       "      <td>62</td>\n",
       "      <td>[60.0]</td>\n",
       "      <td>[62.0]</td>\n",
       "      <td>[18-39 years]</td>\n",
       "    </tr>\n",
       "    <tr>\n",
       "      <td>NCT00001596</td>\n",
       "      <td>0.105295</td>\n",
       "      <td>3</td>\n",
       "      <td>11</td>\n",
       "      <td>25.59</td>\n",
       "      <td>24.32</td>\n",
       "      <td>0.0434783</td>\n",
       "      <td>3</td>\n",
       "      <td>23</td>\n",
       "      <td>12</td>\n",
       "      <td>[0.0, 1.0, 22.0]</td>\n",
       "      <td>[0.0, 0.0, 12.0]</td>\n",
       "      <td>[&lt;=18 years, &gt;=65 years, Between 18 and 65 years]</td>\n",
       "    </tr>\n",
       "    <tr>\n",
       "      <td>NCT00001723</td>\n",
       "      <td>0.3</td>\n",
       "      <td>100</td>\n",
       "      <td>100</td>\n",
       "      <td>0.2</td>\n",
       "      <td>0.2</td>\n",
       "      <td>0</td>\n",
       "      <td>3</td>\n",
       "      <td>100</td>\n",
       "      <td>100</td>\n",
       "      <td>[100.0, 0.0, 0.0]</td>\n",
       "      <td>[100.0, 0.0, 0.0]</td>\n",
       "      <td>[&lt;=18 years, &gt;=65 years, Between 18 and 65 years]</td>\n",
       "    </tr>\n",
       "    <tr>\n",
       "      <td>NCT00004500</td>\n",
       "      <td>0.224826</td>\n",
       "      <td>31</td>\n",
       "      <td>38</td>\n",
       "      <td>8.52</td>\n",
       "      <td>9.96</td>\n",
       "      <td>0</td>\n",
       "      <td>3</td>\n",
       "      <td>38</td>\n",
       "      <td>31</td>\n",
       "      <td>[38.0, 0.0, 0.0]</td>\n",
       "      <td>[31.0, 0.0, 0.0]</td>\n",
       "      <td>[&lt;=18 years, &gt;=65 years, Between 18 and 65 years]</td>\n",
       "    </tr>\n",
       "  </tbody>\n",
       "</table>\n",
       "</div>"
      ],
      "text/plain": [
       "                effect g1_mean g2_mean g1_sd_sample g2_sd_sample      imbal  \\\n",
       "NCT00000371  0.0317977      27      28      1.61081      1.53454          0   \n",
       "NCT00000392   0.237493      77      66     0.263249     0.406202          0   \n",
       "NCT00001596   0.105295       3      11        25.59        24.32  0.0434783   \n",
       "NCT00001723        0.3     100     100          0.2          0.2          0   \n",
       "NCT00004500   0.224826      31      38         8.52         9.96          0   \n",
       "\n",
       "            ngrps  g1t  g2t           g1counts           g2counts  \\\n",
       "NCT00000371     3   27   28   [0.0, 0.0, 27.0]   [0.0, 0.0, 28.0]   \n",
       "NCT00000392     1   60   62             [60.0]             [62.0]   \n",
       "NCT00001596     3   23   12   [0.0, 1.0, 22.0]   [0.0, 0.0, 12.0]   \n",
       "NCT00001723     3  100  100  [100.0, 0.0, 0.0]  [100.0, 0.0, 0.0]   \n",
       "NCT00004500     3   38   31   [38.0, 0.0, 0.0]   [31.0, 0.0, 0.0]   \n",
       "\n",
       "                                                   grouplabels  \n",
       "NCT00000371  [<=18 years, >=65 years, Between 18 and 65 years]  \n",
       "NCT00000392                                      [18-39 years]  \n",
       "NCT00001596  [<=18 years, >=65 years, Between 18 and 65 years]  \n",
       "NCT00001723  [<=18 years, >=65 years, Between 18 and 65 years]  \n",
       "NCT00004500  [<=18 years, >=65 years, Between 18 and 65 years]  "
      ]
     },
     "execution_count": 121,
     "metadata": {},
     "output_type": "execute_result"
    }
   ],
   "source": [
    "# loop to compute all effects and imbalances\n",
    "all_res = {}  # storing final results\n",
    "\n",
    "for nct_id in tqdm(dfom_final_ij['om_nct_id'].unique()):\n",
    "    all_res[nct_id] = {}  # inner dict for storage\n",
    "    sub_om = dfom_final_ij[dfom_final_ij['om_nct_id'] == nct_id]\n",
    "    sub_bm = dfbm_final_ij[dfbm_final_ij['bm_nct_id'] == nct_id]\n",
    "    \n",
    "    # difference in mean\n",
    "    abs_mean_diff = np.abs(sub_om['om_param_value_num'].values[0] - sub_om['om_param_value_num'].values[1])\n",
    "    \n",
    "    # standard error estimate\n",
    "    sd_type1 = sub_om['out_dispersion_type'].values[0]\n",
    "    sd_type2 = sub_om['out_dispersion_type'].values[1]\n",
    "    num_m1 = sub_om['ct_num_measures'].values[0]\n",
    "    num_m2 = sub_om['ct_num_measures'].values[1]\n",
    "    sd_1 = sub_om['om_dispersion_value_num'].values[0]\n",
    "    sd_2 = sub_om['om_dispersion_value_num'].values[1]\n",
    "    \n",
    "    # if the type is Standard Error, then we need to scale it by the sqrt of the count, since it has been adjusted\n",
    "    if sd_type1 == 'Standard Error':\n",
    "        sd_1 = sd_1 * np.sqrt(num_m1)\n",
    "    if sd_type2 == 'Standard Error':\n",
    "        sd_2 = sd_2 * np.sqrt(num_m2)\n",
    "    \n",
    "    sd_est = np.sqrt((num_m1 * sd_1 ** 2 + num_m2 * sd_2 **2) / (num_m1 + num_m2))\n",
    "    \n",
    "    effect = abs_mean_diff / sd_est\n",
    "    all_res[nct_id]['effect'] = effect\n",
    "    \n",
    "    # details\n",
    "    all_res[nct_id]['g1_mean'] = num_m1\n",
    "    all_res[nct_id]['g2_mean'] = num_m2\n",
    "    all_res[nct_id]['g1_sd_sample'] = sd_1\n",
    "    all_res[nct_id]['g2_sd_sample'] = sd_2\n",
    "    \n",
    "    # imbalance\n",
    "    bm_g_sums = sub_bm.groupby(['bm_ctgov_group_code', 'bm_used_age'])[['bm_param_value_num']].sum().reset_index()\n",
    "    dfp = bm_g_sums.pivot(columns='bm_used_age', index='bm_ctgov_group_code', values='bm_param_value_num')\n",
    "    dfp.index = ['g1', 'g2']\n",
    "    dfpct = dfp.T / dfp.sum(axis=1)\n",
    "    imbal = 1 - dfpct.min(axis=1).sum()\n",
    "    all_res[nct_id]['imbal'] = imbal\n",
    "    \n",
    "    # number of groups\n",
    "    all_res[nct_id]['ngrps'] = sub_bm.shape[0] / 2\n",
    "    \n",
    "    # other details\n",
    "    all_res[nct_id]['g1t'] = dfp.T['g1'].sum()\n",
    "    all_res[nct_id]['g2t'] = dfp.T['g2'].sum()\n",
    "    all_res[nct_id]['g1counts'] = dfp.T['g1'].values\n",
    "    all_res[nct_id]['g2counts'] = dfp.T['g2'].values\n",
    "    all_res[nct_id]['grouplabels'] = list(dfp.T.index)\n",
    "\n",
    "df_res = pd.DataFrame(all_res).T.dropna()\n",
    "df_res.head()\n",
    "\n"
   ]
  },
  {
   "cell_type": "code",
   "execution_count": 122,
   "metadata": {},
   "outputs": [
    {
     "data": {
      "text/plain": [
       "(1281, 12)"
      ]
     },
     "execution_count": 122,
     "metadata": {},
     "output_type": "execute_result"
    }
   ],
   "source": [
    "# lost 4 records due to Nan in the numerical values\n",
    "df_res.shape"
   ]
  },
  {
   "cell_type": "markdown",
   "metadata": {},
   "source": [
    "### Exclude those with just 1 group"
   ]
  },
  {
   "cell_type": "code",
   "execution_count": 124,
   "metadata": {},
   "outputs": [
    {
     "data": {
      "text/plain": [
       "(1281, 1261)"
      ]
     },
     "execution_count": 124,
     "metadata": {},
     "output_type": "execute_result"
    }
   ],
   "source": [
    "df_res_mult_grps = df_res[df_res['ngrps'] > 1].copy()\n",
    "df_res.shape[0], df_res_mult_grps.shape[0]"
   ]
  },
  {
   "cell_type": "code",
   "execution_count": 126,
   "metadata": {},
   "outputs": [],
   "source": [
    "# casting ...\n",
    "df_res_mult_grps['effect'] = df_res_mult_grps['effect'].astype(float)\n",
    "df_res_mult_grps['g1_mean'] = df_res_mult_grps['g1_mean'].astype(float)\n",
    "df_res_mult_grps['g2_mean'] = df_res_mult_grps['g2_mean'].astype(float)\n",
    "df_res_mult_grps['g1_sd_sample'] = df_res_mult_grps['g1_sd_sample'].astype(float)\n",
    "df_res_mult_grps['g2_sd_sample'] = df_res_mult_grps['g2_sd_sample'].astype(float)\n",
    "df_res_mult_grps['imbal'] = df_res_mult_grps['imbal'].astype(float)\n",
    "df_res_mult_grps['ngrps'] = df_res_mult_grps['ngrps'].astype(int)\n",
    "df_res_mult_grps['g1t'] = df_res_mult_grps['g1t'].astype(int)\n",
    "df_res_mult_grps['g2t'] = df_res_mult_grps['g2t'].astype(int)\n"
   ]
  },
  {
   "cell_type": "code",
   "execution_count": 127,
   "metadata": {},
   "outputs": [],
   "source": [
    "df_res_mult_grps.to_pickle('res_age.p')"
   ]
  },
  {
   "cell_type": "code",
   "execution_count": null,
   "metadata": {},
   "outputs": [],
   "source": []
  }
 ],
 "metadata": {
  "kernelspec": {
   "display_name": "Python 3",
   "language": "python",
   "name": "python3"
  },
  "language_info": {
   "codemirror_mode": {
    "name": "ipython",
    "version": 3
   },
   "file_extension": ".py",
   "mimetype": "text/x-python",
   "name": "python",
   "nbconvert_exporter": "python",
   "pygments_lexer": "ipython3",
   "version": "3.6.9"
  }
 },
 "nbformat": 4,
 "nbformat_minor": 2
}
