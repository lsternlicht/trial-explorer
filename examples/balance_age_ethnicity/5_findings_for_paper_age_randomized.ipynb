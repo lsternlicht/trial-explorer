{
 "cells": [
  {
   "cell_type": "code",
   "execution_count": 1,
   "metadata": {},
   "outputs": [],
   "source": [
    "import numpy as np\n",
    "import pandas as pd\n",
    "import seaborn as sns\n",
    "import statsmodels.api as sm\n",
    "import statsmodels.formula.api as smf\n",
    "import scipy.stats as st\n",
    "import itertools\n",
    "from tqdm import tqdm_notebook as tqdm\n",
    "import matplotlib.pyplot as plt\n",
    "%matplotlib inline\n",
    "params = {'xtick.labelsize':'x-large', 'ytick.labelsize':'x-large',\n",
    "         'figure.figsize': (12,5), \"axes.labelsize\":'x-large'}\n",
    "plt.rcParams.update(params)"
   ]
  },
  {
   "cell_type": "code",
   "execution_count": 2,
   "metadata": {},
   "outputs": [
    {
     "name": "stdout",
     "output_type": "stream",
     "text": [
      "3738\n"
     ]
    }
   ],
   "source": [
    "data = pd.read_pickle('res_age_randomized.p')\n",
    "print(len(data))"
   ]
  },
  {
   "cell_type": "code",
   "execution_count": 3,
   "metadata": {},
   "outputs": [
    {
     "data": {
      "text/html": [
       "<div>\n",
       "<style scoped>\n",
       "    .dataframe tbody tr th:only-of-type {\n",
       "        vertical-align: middle;\n",
       "    }\n",
       "\n",
       "    .dataframe tbody tr th {\n",
       "        vertical-align: top;\n",
       "    }\n",
       "\n",
       "    .dataframe thead th {\n",
       "        text-align: right;\n",
       "    }\n",
       "</style>\n",
       "<table border=\"1\" class=\"dataframe\">\n",
       "  <thead>\n",
       "    <tr style=\"text-align: right;\">\n",
       "      <th></th>\n",
       "      <th>effect</th>\n",
       "      <th>g1_mean</th>\n",
       "      <th>g2_mean</th>\n",
       "      <th>g1_sd_sample</th>\n",
       "      <th>g2_sd_sample</th>\n",
       "      <th>imbalance</th>\n",
       "      <th>ngrps</th>\n",
       "      <th>g1t</th>\n",
       "      <th>g2t</th>\n",
       "      <th>g1counts</th>\n",
       "      <th>g2counts</th>\n",
       "      <th>grouplabels</th>\n",
       "      <th>sample_size</th>\n",
       "    </tr>\n",
       "  </thead>\n",
       "  <tbody>\n",
       "    <tr>\n",
       "      <td>NCT00000371</td>\n",
       "      <td>0.031798</td>\n",
       "      <td>27.0</td>\n",
       "      <td>28.0</td>\n",
       "      <td>1.610807</td>\n",
       "      <td>1.534536</td>\n",
       "      <td>0.000000</td>\n",
       "      <td>3</td>\n",
       "      <td>27</td>\n",
       "      <td>28</td>\n",
       "      <td>[0.0, 0.0, 27.0]</td>\n",
       "      <td>[0.0, 0.0, 28.0]</td>\n",
       "      <td>[&lt;=18 years, &gt;=65 years, Between 18 and 65 years]</td>\n",
       "      <td>55</td>\n",
       "    </tr>\n",
       "    <tr>\n",
       "      <td>NCT00000378</td>\n",
       "      <td>2.981997</td>\n",
       "      <td>52.0</td>\n",
       "      <td>52.0</td>\n",
       "      <td>7.700000</td>\n",
       "      <td>4.400000</td>\n",
       "      <td>0.086278</td>\n",
       "      <td>3</td>\n",
       "      <td>58</td>\n",
       "      <td>52</td>\n",
       "      <td>[0.0, 50.0, 8.0]</td>\n",
       "      <td>[0.0, 48.0, 4.0]</td>\n",
       "      <td>[&lt;=18 years, &gt;=65 years, Between 18 and 65 years]</td>\n",
       "      <td>110</td>\n",
       "    </tr>\n",
       "    <tr>\n",
       "      <td>NCT00000575</td>\n",
       "      <td>0.114583</td>\n",
       "      <td>307.0</td>\n",
       "      <td>306.0</td>\n",
       "      <td>9.600000</td>\n",
       "      <td>9.600000</td>\n",
       "      <td>0.000000</td>\n",
       "      <td>3</td>\n",
       "      <td>311</td>\n",
       "      <td>312</td>\n",
       "      <td>[311.0, 0.0, 0.0]</td>\n",
       "      <td>[312.0, 0.0, 0.0]</td>\n",
       "      <td>[&lt;=18 years, &gt;=65 years, Between 18 and 65 years]</td>\n",
       "      <td>623</td>\n",
       "    </tr>\n",
       "    <tr>\n",
       "      <td>NCT00001262</td>\n",
       "      <td>1.371846</td>\n",
       "      <td>22.0</td>\n",
       "      <td>35.0</td>\n",
       "      <td>1.652000</td>\n",
       "      <td>12.762000</td>\n",
       "      <td>0.000000</td>\n",
       "      <td>3</td>\n",
       "      <td>35</td>\n",
       "      <td>22</td>\n",
       "      <td>[35.0, 0.0, 0.0]</td>\n",
       "      <td>[22.0, 0.0, 0.0]</td>\n",
       "      <td>[&lt;=18 years, &gt;=65 years, Between 18 and 65 years]</td>\n",
       "      <td>57</td>\n",
       "    </tr>\n",
       "    <tr>\n",
       "      <td>NCT00001304</td>\n",
       "      <td>5.004346</td>\n",
       "      <td>14.0</td>\n",
       "      <td>13.0</td>\n",
       "      <td>0.020000</td>\n",
       "      <td>0.010000</td>\n",
       "      <td>0.168279</td>\n",
       "      <td>3</td>\n",
       "      <td>13</td>\n",
       "      <td>14</td>\n",
       "      <td>[1.0, 0.0, 12.0]</td>\n",
       "      <td>[2.0, 1.0, 11.0]</td>\n",
       "      <td>[&lt;=18 years, &gt;=65 years, Between 18 and 65 years]</td>\n",
       "      <td>27</td>\n",
       "    </tr>\n",
       "  </tbody>\n",
       "</table>\n",
       "</div>"
      ],
      "text/plain": [
       "               effect  g1_mean  g2_mean  g1_sd_sample  g2_sd_sample  \\\n",
       "NCT00000371  0.031798     27.0     28.0      1.610807      1.534536   \n",
       "NCT00000378  2.981997     52.0     52.0      7.700000      4.400000   \n",
       "NCT00000575  0.114583    307.0    306.0      9.600000      9.600000   \n",
       "NCT00001262  1.371846     22.0     35.0      1.652000     12.762000   \n",
       "NCT00001304  5.004346     14.0     13.0      0.020000      0.010000   \n",
       "\n",
       "             imbalance  ngrps  g1t  g2t           g1counts           g2counts  \\\n",
       "NCT00000371   0.000000      3   27   28   [0.0, 0.0, 27.0]   [0.0, 0.0, 28.0]   \n",
       "NCT00000378   0.086278      3   58   52   [0.0, 50.0, 8.0]   [0.0, 48.0, 4.0]   \n",
       "NCT00000575   0.000000      3  311  312  [311.0, 0.0, 0.0]  [312.0, 0.0, 0.0]   \n",
       "NCT00001262   0.000000      3   35   22   [35.0, 0.0, 0.0]   [22.0, 0.0, 0.0]   \n",
       "NCT00001304   0.168279      3   13   14   [1.0, 0.0, 12.0]   [2.0, 1.0, 11.0]   \n",
       "\n",
       "                                                   grouplabels  sample_size  \n",
       "NCT00000371  [<=18 years, >=65 years, Between 18 and 65 years]           55  \n",
       "NCT00000378  [<=18 years, >=65 years, Between 18 and 65 years]          110  \n",
       "NCT00000575  [<=18 years, >=65 years, Between 18 and 65 years]          623  \n",
       "NCT00001262  [<=18 years, >=65 years, Between 18 and 65 years]           57  \n",
       "NCT00001304  [<=18 years, >=65 years, Between 18 and 65 years]           27  "
      ]
     },
     "execution_count": 3,
     "metadata": {},
     "output_type": "execute_result"
    }
   ],
   "source": [
    "data['sample_size'] = data.g1t + data.g2t\n",
    "data = data.rename(columns={'imbal':'imbalance'})\n",
    "data.head()"
   ]
  },
  {
   "cell_type": "code",
   "execution_count": 4,
   "metadata": {},
   "outputs": [
    {
     "data": {
      "text/plain": [
       "<matplotlib.axes._subplots.AxesSubplot at 0x7fb14b57d4a8>"
      ]
     },
     "execution_count": 4,
     "metadata": {},
     "output_type": "execute_result"
    },
    {
     "data": {
      "image/png": "[encoded data removed]",
      "text/plain": [
       "<Figure size 432x288 with 1 Axes>"
      ]
     },
     "metadata": {
      "needs_background": "light"
     },
     "output_type": "display_data"
    }
   ],
   "source": [
    "sns.distplot(data['imbalance'], kde=False, bins=100)"
   ]
  },
  {
   "cell_type": "code",
   "execution_count": 5,
   "metadata": {
    "scrolled": false
   },
   "outputs": [
    {
     "data": {
      "text/plain": [
       "count    3738.000000\n",
       "mean        0.063830\n",
       "std         0.132089\n",
       "min         0.000000\n",
       "0%          0.000000\n",
       "5%          0.000000\n",
       "10%         0.000000\n",
       "15%         0.000000\n",
       "20%         0.000000\n",
       "25%         0.000000\n",
       "30%         0.000000\n",
       "35%         0.000000\n",
       "40%         0.000000\n",
       "45%         0.000000\n",
       "50%         0.001528\n",
       "55%         0.016287\n",
       "60%         0.030965\n",
       "65%         0.044902\n",
       "70%         0.061214\n",
       "75%         0.079116\n",
       "80%         0.103003\n",
       "85%         0.136377\n",
       "90%         0.178719\n",
       "95%         0.282843\n",
       "max         1.414214\n",
       "Name: imbalance, dtype: float64"
      ]
     },
     "execution_count": 5,
     "metadata": {},
     "output_type": "execute_result"
    }
   ],
   "source": [
    "data.imbalance.describe(np.arange(0, 1, 0.05))"
   ]
  },
  {
   "cell_type": "code",
   "execution_count": 6,
   "metadata": {},
   "outputs": [
    {
     "data": {
      "image/png": "[encoded data removed]",
      "text/plain": [
       "<Figure size 432x288 with 1 Axes>"
      ]
     },
     "metadata": {
      "needs_background": "light"
     },
     "output_type": "display_data"
    }
   ],
   "source": [
    "sns.distplot(\n",
    "    data['imbalance'], kde=False, hist_kws={'cumulative': True}, norm_hist=True,\n",
    "    bins=100\n",
    ")\n",
    "plt.ylabel('Cumulative Distribution Function')\n",
    "plt.show()"
   ]
  },
  {
   "cell_type": "code",
   "execution_count": 7,
   "metadata": {},
   "outputs": [
    {
     "data": {
      "image/png": "[encoded data removed]",
      "text/plain": [
       "<Figure size 504x504 with 1 Axes>"
      ]
     },
     "metadata": {},
     "output_type": "display_data"
    }
   ],
   "source": [
    "# trial size distribution\n",
    "labels = []\n",
    "shares = []\n",
    "\n",
    "sample_sizes = [0, 50, 100, 200, 400, 800, 1600]\n",
    "for i in range(len(sample_sizes)-1):\n",
    "    lower, upper = sample_sizes[i:i+2]\n",
    "    shares.append(\n",
    "        data.sample_size.between(lower, upper).mean().round(2))\n",
    "    labels.append('{}-{}'.format(lower, upper))    \n",
    "    \n",
    "plt.figure(figsize=(7, 7))\n",
    "plt.pie(shares, explode=[.01] * len(shares), labels=labels, autopct='%.1f%%')\n",
    "plt.show()"
   ]
  },
  {
   "cell_type": "code",
   "execution_count": 8,
   "metadata": {},
   "outputs": [
    {
     "data": {
      "text/plain": [
       "count     3738.000000\n",
       "mean       131.721776\n",
       "std        385.122108\n",
       "min          5.000000\n",
       "25%         31.000000\n",
       "50%         56.000000\n",
       "75%        120.750000\n",
       "max      16395.000000\n",
       "Name: sample_size, dtype: float64"
      ]
     },
     "execution_count": 8,
     "metadata": {},
     "output_type": "execute_result"
    }
   ],
   "source": [
    "data.sample_size.describe()"
   ]
  },
  {
   "cell_type": "code",
   "execution_count": 9,
   "metadata": {},
   "outputs": [
    {
     "name": "stdout",
     "output_type": "stream",
     "text": [
      "(3687, 13)\n"
     ]
    }
   ],
   "source": [
    "# ensure treatment and control groups are of similar sizes?\n",
    "data = data.loc[np.log(data.g1t/data.g2t).abs() <= np.log(3)]\n",
    "print(data.shape)"
   ]
  },
  {
   "cell_type": "code",
   "execution_count": 10,
   "metadata": {},
   "outputs": [
    {
     "data": {
      "image/png": "[encoded data removed]",
      "text/plain": [
       "<Figure size 432x288 with 1 Axes>"
      ]
     },
     "metadata": {
      "needs_background": "light"
     },
     "output_type": "display_data"
    }
   ],
   "source": [
    "sns.distplot(\n",
    "    data['imbalance'].loc[data.sample_size.between(0,100)], hist=False,\n",
    "    kde_kws={'cumulative': True, \"lw\": 2, \"label\": \"small trials $(N \\leq 100)$\"}, \n",
    "    norm_hist=True, \n",
    "    bins=100\n",
    ")\n",
    "sns.distplot(\n",
    "    data['imbalance'].loc[data.sample_size > 100], hist=False,\n",
    "    kde_kws={'cumulative': True, \"lw\": 2, \"label\": 'large trials $(N > 100)$'}, \n",
    "    norm_hist=True,\n",
    "    bins=100\n",
    ")\n",
    "plt.xlim(0, .3)\n",
    "plt.ylabel('Cumulative Distribution Function')\n",
    "plt.show()"
   ]
  },
  {
   "cell_type": "markdown",
   "metadata": {},
   "source": [
    "### Relative Imbalance was skipped, potentially it can be implementable if we look through the multi buckets"
   ]
  },
  {
   "cell_type": "code",
   "execution_count": 11,
   "metadata": {},
   "outputs": [
    {
     "data": {
      "text/html": [
       "<div>\n",
       "<style scoped>\n",
       "    .dataframe tbody tr th:only-of-type {\n",
       "        vertical-align: middle;\n",
       "    }\n",
       "\n",
       "    .dataframe tbody tr th {\n",
       "        vertical-align: top;\n",
       "    }\n",
       "\n",
       "    .dataframe thead th {\n",
       "        text-align: right;\n",
       "    }\n",
       "</style>\n",
       "<table border=\"1\" class=\"dataframe\">\n",
       "  <thead>\n",
       "    <tr style=\"text-align: right;\">\n",
       "      <th></th>\n",
       "      <th>NCT00000371</th>\n",
       "      <th>NCT00000378</th>\n",
       "      <th>NCT00000575</th>\n",
       "      <th>NCT00001262</th>\n",
       "      <th>NCT00001304</th>\n",
       "    </tr>\n",
       "  </thead>\n",
       "  <tbody>\n",
       "    <tr>\n",
       "      <td>effect</td>\n",
       "      <td>0.0317977</td>\n",
       "      <td>2.982</td>\n",
       "      <td>0.114583</td>\n",
       "      <td>1.37185</td>\n",
       "      <td>5.00435</td>\n",
       "    </tr>\n",
       "    <tr>\n",
       "      <td>g1_mean</td>\n",
       "      <td>27</td>\n",
       "      <td>52</td>\n",
       "      <td>307</td>\n",
       "      <td>22</td>\n",
       "      <td>14</td>\n",
       "    </tr>\n",
       "    <tr>\n",
       "      <td>g2_mean</td>\n",
       "      <td>28</td>\n",
       "      <td>52</td>\n",
       "      <td>306</td>\n",
       "      <td>35</td>\n",
       "      <td>13</td>\n",
       "    </tr>\n",
       "    <tr>\n",
       "      <td>g1_sd_sample</td>\n",
       "      <td>1.61081</td>\n",
       "      <td>7.7</td>\n",
       "      <td>9.6</td>\n",
       "      <td>1.652</td>\n",
       "      <td>0.02</td>\n",
       "    </tr>\n",
       "    <tr>\n",
       "      <td>g2_sd_sample</td>\n",
       "      <td>1.53454</td>\n",
       "      <td>4.4</td>\n",
       "      <td>9.6</td>\n",
       "      <td>12.762</td>\n",
       "      <td>0.01</td>\n",
       "    </tr>\n",
       "    <tr>\n",
       "      <td>imbalance</td>\n",
       "      <td>0</td>\n",
       "      <td>0.0862783</td>\n",
       "      <td>0</td>\n",
       "      <td>0</td>\n",
       "      <td>0.168279</td>\n",
       "    </tr>\n",
       "    <tr>\n",
       "      <td>ngrps</td>\n",
       "      <td>3</td>\n",
       "      <td>3</td>\n",
       "      <td>3</td>\n",
       "      <td>3</td>\n",
       "      <td>3</td>\n",
       "    </tr>\n",
       "    <tr>\n",
       "      <td>g1t</td>\n",
       "      <td>27</td>\n",
       "      <td>58</td>\n",
       "      <td>311</td>\n",
       "      <td>35</td>\n",
       "      <td>13</td>\n",
       "    </tr>\n",
       "    <tr>\n",
       "      <td>g2t</td>\n",
       "      <td>28</td>\n",
       "      <td>52</td>\n",
       "      <td>312</td>\n",
       "      <td>22</td>\n",
       "      <td>14</td>\n",
       "    </tr>\n",
       "    <tr>\n",
       "      <td>g1counts</td>\n",
       "      <td>[0.0, 0.0, 27.0]</td>\n",
       "      <td>[0.0, 50.0, 8.0]</td>\n",
       "      <td>[311.0, 0.0, 0.0]</td>\n",
       "      <td>[35.0, 0.0, 0.0]</td>\n",
       "      <td>[1.0, 0.0, 12.0]</td>\n",
       "    </tr>\n",
       "    <tr>\n",
       "      <td>g2counts</td>\n",
       "      <td>[0.0, 0.0, 28.0]</td>\n",
       "      <td>[0.0, 48.0, 4.0]</td>\n",
       "      <td>[312.0, 0.0, 0.0]</td>\n",
       "      <td>[22.0, 0.0, 0.0]</td>\n",
       "      <td>[2.0, 1.0, 11.0]</td>\n",
       "    </tr>\n",
       "    <tr>\n",
       "      <td>grouplabels</td>\n",
       "      <td>[&lt;=18 years, &gt;=65 years, Between 18 and 65 years]</td>\n",
       "      <td>[&lt;=18 years, &gt;=65 years, Between 18 and 65 years]</td>\n",
       "      <td>[&lt;=18 years, &gt;=65 years, Between 18 and 65 years]</td>\n",
       "      <td>[&lt;=18 years, &gt;=65 years, Between 18 and 65 years]</td>\n",
       "      <td>[&lt;=18 years, &gt;=65 years, Between 18 and 65 years]</td>\n",
       "    </tr>\n",
       "    <tr>\n",
       "      <td>sample_size</td>\n",
       "      <td>55</td>\n",
       "      <td>110</td>\n",
       "      <td>623</td>\n",
       "      <td>57</td>\n",
       "      <td>27</td>\n",
       "    </tr>\n",
       "    <tr>\n",
       "      <td>average_sd</td>\n",
       "      <td>1.57244</td>\n",
       "      <td>6.3572</td>\n",
       "      <td>9.6</td>\n",
       "      <td>8.03351</td>\n",
       "      <td>0.0156347</td>\n",
       "    </tr>\n",
       "  </tbody>\n",
       "</table>\n",
       "</div>"
      ],
      "text/plain": [
       "                                                    NCT00000371  \\\n",
       "effect                                                0.0317977   \n",
       "g1_mean                                                      27   \n",
       "g2_mean                                                      28   \n",
       "g1_sd_sample                                            1.61081   \n",
       "g2_sd_sample                                            1.53454   \n",
       "imbalance                                                     0   \n",
       "ngrps                                                         3   \n",
       "g1t                                                          27   \n",
       "g2t                                                          28   \n",
       "g1counts                                       [0.0, 0.0, 27.0]   \n",
       "g2counts                                       [0.0, 0.0, 28.0]   \n",
       "grouplabels   [<=18 years, >=65 years, Between 18 and 65 years]   \n",
       "sample_size                                                  55   \n",
       "average_sd                                              1.57244   \n",
       "\n",
       "                                                    NCT00000378  \\\n",
       "effect                                                    2.982   \n",
       "g1_mean                                                      52   \n",
       "g2_mean                                                      52   \n",
       "g1_sd_sample                                                7.7   \n",
       "g2_sd_sample                                                4.4   \n",
       "imbalance                                             0.0862783   \n",
       "ngrps                                                         3   \n",
       "g1t                                                          58   \n",
       "g2t                                                          52   \n",
       "g1counts                                       [0.0, 50.0, 8.0]   \n",
       "g2counts                                       [0.0, 48.0, 4.0]   \n",
       "grouplabels   [<=18 years, >=65 years, Between 18 and 65 years]   \n",
       "sample_size                                                 110   \n",
       "average_sd                                               6.3572   \n",
       "\n",
       "                                                    NCT00000575  \\\n",
       "effect                                                 0.114583   \n",
       "g1_mean                                                     307   \n",
       "g2_mean                                                     306   \n",
       "g1_sd_sample                                                9.6   \n",
       "g2_sd_sample                                                9.6   \n",
       "imbalance                                                     0   \n",
       "ngrps                                                         3   \n",
       "g1t                                                         311   \n",
       "g2t                                                         312   \n",
       "g1counts                                      [311.0, 0.0, 0.0]   \n",
       "g2counts                                      [312.0, 0.0, 0.0]   \n",
       "grouplabels   [<=18 years, >=65 years, Between 18 and 65 years]   \n",
       "sample_size                                                 623   \n",
       "average_sd                                                  9.6   \n",
       "\n",
       "                                                    NCT00001262  \\\n",
       "effect                                                  1.37185   \n",
       "g1_mean                                                      22   \n",
       "g2_mean                                                      35   \n",
       "g1_sd_sample                                              1.652   \n",
       "g2_sd_sample                                             12.762   \n",
       "imbalance                                                     0   \n",
       "ngrps                                                         3   \n",
       "g1t                                                          35   \n",
       "g2t                                                          22   \n",
       "g1counts                                       [35.0, 0.0, 0.0]   \n",
       "g2counts                                       [22.0, 0.0, 0.0]   \n",
       "grouplabels   [<=18 years, >=65 years, Between 18 and 65 years]   \n",
       "sample_size                                                  57   \n",
       "average_sd                                              8.03351   \n",
       "\n",
       "                                                    NCT00001304  \n",
       "effect                                                  5.00435  \n",
       "g1_mean                                                      14  \n",
       "g2_mean                                                      13  \n",
       "g1_sd_sample                                               0.02  \n",
       "g2_sd_sample                                               0.01  \n",
       "imbalance                                              0.168279  \n",
       "ngrps                                                         3  \n",
       "g1t                                                          13  \n",
       "g2t                                                          14  \n",
       "g1counts                                       [1.0, 0.0, 12.0]  \n",
       "g2counts                                       [2.0, 1.0, 11.0]  \n",
       "grouplabels   [<=18 years, >=65 years, Between 18 and 65 years]  \n",
       "sample_size                                                  27  \n",
       "average_sd                                            0.0156347  "
      ]
     },
     "execution_count": 11,
     "metadata": {},
     "output_type": "execute_result"
    }
   ],
   "source": [
    "# additional variables\n",
    "\n",
    "def average_sd(x):\n",
    "    g1t, g2t, g1_sd_sample, g2_sd_sample = x\n",
    "    return np.sqrt(g1t * g1_sd_sample **2 + g2t * g2_sd_sample ** 2) / np.sqrt(g1t + g2t)\n",
    "    \n",
    "data['average_sd'] = data[['g1t', 'g2t', 'g1_sd_sample', 'g2_sd_sample']].apply(\n",
    "    average_sd, axis=1\n",
    ")\n",
    "data.head().T"
   ]
  },
  {
   "cell_type": "code",
   "execution_count": 12,
   "metadata": {},
   "outputs": [],
   "source": [
    "data['signed_effect'] = (data['g1_mean'] - data['g2_mean']) / data['average_sd']\n",
    "data['effect_size'] = data.signed_effect.abs()\n",
    "data['bias'] = (1/data.g1t) + (1/data.g2t)\n",
    "data['inverse_sample_size'] = 1/data.sample_size\n",
    "data = data.loc[data.signed_effect.abs() < 3]"
   ]
  },
  {
   "cell_type": "code",
   "execution_count": 13,
   "metadata": {},
   "outputs": [
    {
     "data": {
      "text/plain": [
       "<matplotlib.axes._subplots.AxesSubplot at 0x7fb14af5f208>"
      ]
     },
     "execution_count": 13,
     "metadata": {},
     "output_type": "execute_result"
    },
    {
     "data": {
      "image/png": "[encoded data removed]",
      "text/plain": [
       "<Figure size 432x288 with 1 Axes>"
      ]
     },
     "metadata": {
      "needs_background": "light"
     },
     "output_type": "display_data"
    }
   ],
   "source": [
    "sns.distplot(data.signed_effect)"
   ]
  },
  {
   "cell_type": "code",
   "execution_count": 14,
   "metadata": {},
   "outputs": [],
   "source": [
    "selected_data = data.copy()\n",
    "selected_data = selected_data.loc[selected_data.imbalance.between(.02, .25)]"
   ]
  },
  {
   "cell_type": "code",
   "execution_count": 15,
   "metadata": {},
   "outputs": [],
   "source": [
    "selected_data['residuals'] = np.square(selected_data.signed_effect\n",
    "                                       - selected_data.signed_effect.mean()) - selected_data.bias\n",
    "selected_data['square_imbalance'] = np.square(selected_data.imbalance)"
   ]
  },
  {
   "cell_type": "code",
   "execution_count": 16,
   "metadata": {},
   "outputs": [
    {
     "data": {
      "text/plain": [
       "<matplotlib.axes._subplots.AxesSubplot at 0x7fb14ae12c18>"
      ]
     },
     "execution_count": 16,
     "metadata": {},
     "output_type": "execute_result"
    },
    {
     "data": {
      "image/png": "[encoded data removed]",
      "text/plain": [
       "<Figure size 432x288 with 1 Axes>"
      ]
     },
     "metadata": {
      "needs_background": "light"
     },
     "output_type": "display_data"
    }
   ],
   "source": [
    "sns.regplot('square_imbalance', 'residuals', selected_data)"
   ]
  },
  {
   "cell_type": "code",
   "execution_count": 17,
   "metadata": {},
   "outputs": [],
   "source": [
    "import matplotlib.ticker as mtick"
   ]
  },
  {
   "cell_type": "code",
   "execution_count": 18,
   "metadata": {},
   "outputs": [
    {
     "data": {
      "image/png": "[encoded data removed]",
      "text/plain": [
       "<Figure size 432x288 with 1 Axes>"
      ]
     },
     "metadata": {
      "needs_background": "light"
     },
     "output_type": "display_data"
    }
   ],
   "source": [
    "ax = sns.regplot('imbalance', 'effect_size', selected_data.loc[selected_data.effect_size <2])\n",
    "plt.ylabel('Effect Size')\n",
    "plt.xlabel('Absolute Imbalance')\n",
    "ax.xaxis.set_major_formatter(mtick.PercentFormatter(1, decimals=0))\n",
    "plt.xlim(0.019,.251)\n",
    "plt.tight_layout()\n",
    "# plt.savefig('figs/regplot_imbalance_effect_size.pdf')\n",
    "plt.show()"
   ]
  },
  {
   "cell_type": "code",
   "execution_count": 19,
   "metadata": {},
   "outputs": [
    {
     "data": {
      "image/png": "[encoded data removed]",
      "text/plain": [
       "<Figure size 432x288 with 1 Axes>"
      ]
     },
     "metadata": {
      "needs_background": "light"
     },
     "output_type": "display_data"
    }
   ],
   "source": [
    "step = .025\n",
    "share_large_effects = []\n",
    "\n",
    "for imbalance in np.linspace(.02, .25, 20):\n",
    "    is_large = (selected_data.loc[selected_data.imbalance.between(imbalance - step, imbalance + step)\n",
    "                             ].effect_size >= 1)\n",
    "    share_large_effects.append(is_large.mean())\n",
    "    std_error = [is_large.std()]\n",
    "share_large_effects\n",
    "\n",
    "fig, ax = plt.subplots()\n",
    "plt.plot(np.linspace(.02, .25, 20), share_large_effects)\n",
    "plt.xlabel('Absolute Imbalance')\n",
    "plt.ylabel('Share of experiments with Effect Size $\\geq$ 1')\n",
    "ax.xaxis.set_major_formatter(mtick.PercentFormatter(1, decimals=0))\n",
    "ax.yaxis.set_major_formatter(mtick.PercentFormatter(1, decimals=0))\n",
    "\n",
    "plt.tight_layout()\n",
    "# plt.savefig('figs/regplot_imbalance_large_effect_size.pdf')\n",
    "plt.show()"
   ]
  },
  {
   "cell_type": "code",
   "execution_count": 20,
   "metadata": {},
   "outputs": [
    {
     "name": "stdout",
     "output_type": "stream",
     "text": [
      "                            OLS Regression Results                            \n",
      "==============================================================================\n",
      "Dep. Variable:            effect_size   R-squared:                       0.003\n",
      "Model:                            OLS   Adj. R-squared:                  0.002\n",
      "Method:                 Least Squares   F-statistic:                     3.783\n",
      "Date:                Sun, 27 Dec 2020   Prob (F-statistic):             0.0520\n",
      "Time:                        17:52:07   Log-Likelihood:                -1074.7\n",
      "No. Observations:                1185   AIC:                             2153.\n",
      "Df Residuals:                    1183   BIC:                             2164.\n",
      "Df Model:                           1                                         \n",
      "Covariance Type:            nonrobust                                         \n",
      "==============================================================================\n",
      "                 coef    std err          t      P>|t|      [0.025      0.975]\n",
      "------------------------------------------------------------------------------\n",
      "Intercept      0.3665      0.034     10.717      0.000       0.299       0.434\n",
      "imbalance     -0.5997      0.308     -1.945      0.052      -1.205       0.005\n",
      "==============================================================================\n",
      "Omnibus:                      589.002   Durbin-Watson:                   1.959\n",
      "Prob(Omnibus):                  0.000   Jarque-Bera (JB):             2640.167\n",
      "Skew:                           2.434   Prob(JB):                         0.00\n",
      "Kurtosis:                       8.457   Cond. No.                         17.9\n",
      "==============================================================================\n",
      "\n",
      "Warnings:\n",
      "[1] Standard Errors assume that the covariance matrix of the errors is correctly specified.\n"
     ]
    }
   ],
   "source": [
    "mod = smf.ols('effect_size ~ imbalance', selected_data)\n",
    "res = mod.fit()\n",
    "print(res.summary())"
   ]
  },
  {
   "cell_type": "code",
   "execution_count": 21,
   "metadata": {},
   "outputs": [
    {
     "name": "stdout",
     "output_type": "stream",
     "text": [
      "                            OLS Regression Results                            \n",
      "==============================================================================\n",
      "Dep. Variable:            effect_size   R-squared:                       0.016\n",
      "Model:                            OLS   Adj. R-squared:                  0.014\n",
      "Method:                 Least Squares   F-statistic:                     9.653\n",
      "Date:                Sun, 27 Dec 2020   Prob (F-statistic):           6.94e-05\n",
      "Time:                        17:52:08   Log-Likelihood:                -1067.0\n",
      "No. Observations:                1185   AIC:                             2140.\n",
      "Df Residuals:                    1182   BIC:                             2155.\n",
      "Df Model:                           2                                         \n",
      "Covariance Type:            nonrobust                                         \n",
      "=======================================================================================\n",
      "                          coef    std err          t      P>|t|      [0.025      0.975]\n",
      "---------------------------------------------------------------------------------------\n",
      "Intercept               0.4055      0.035     11.453      0.000       0.336       0.475\n",
      "imbalance              -0.1034      0.331     -0.312      0.755      -0.754       0.547\n",
      "inverse_sample_size    -4.8331      1.229     -3.934      0.000      -7.243      -2.423\n",
      "==============================================================================\n",
      "Omnibus:                      576.554   Durbin-Watson:                   1.958\n",
      "Prob(Omnibus):                  0.000   Jarque-Bera (JB):             2503.682\n",
      "Skew:                           2.387   Prob(JB):                         0.00\n",
      "Kurtosis:                       8.283   Cond. No.                         71.7\n",
      "==============================================================================\n",
      "\n",
      "Warnings:\n",
      "[1] Standard Errors assume that the covariance matrix of the errors is correctly specified.\n"
     ]
    }
   ],
   "source": [
    "mod = smf.ols('effect_size ~ imbalance + inverse_sample_size' , selected_data)\n",
    "res = mod.fit()\n",
    "print(res.summary())"
   ]
  },
  {
   "cell_type": "code",
   "execution_count": 22,
   "metadata": {},
   "outputs": [
    {
     "name": "stdout",
     "output_type": "stream",
     "text": [
      "                            OLS Regression Results                            \n",
      "==============================================================================\n",
      "Dep. Variable:              residuals   R-squared:                       0.005\n",
      "Model:                            OLS   Adj. R-squared:                  0.004\n",
      "Method:                 Least Squares   F-statistic:                     5.672\n",
      "Date:                Sun, 27 Dec 2020   Prob (F-statistic):             0.0174\n",
      "Time:                        17:52:08   Log-Likelihood:                -2021.1\n",
      "No. Observations:                1185   AIC:                             4046.\n",
      "Df Residuals:                    1183   BIC:                             4056.\n",
      "Df Model:                           1                                         \n",
      "Covariance Type:            nonrobust                                         \n",
      "====================================================================================\n",
      "                       coef    std err          t      P>|t|      [0.025      0.975]\n",
      "------------------------------------------------------------------------------------\n",
      "Intercept            0.4659      0.052      8.938      0.000       0.364       0.568\n",
      "square_imbalance    -6.7570      2.837     -2.382      0.017     -12.323      -1.191\n",
      "==============================================================================\n",
      "Omnibus:                      933.709   Durbin-Watson:                   1.969\n",
      "Prob(Omnibus):                  0.000   Jarque-Bera (JB):            13012.320\n",
      "Skew:                           3.750   Prob(JB):                         0.00\n",
      "Kurtosis:                      17.397   Cond. No.                         73.3\n",
      "==============================================================================\n",
      "\n",
      "Warnings:\n",
      "[1] Standard Errors assume that the covariance matrix of the errors is correctly specified.\n"
     ]
    }
   ],
   "source": [
    "mod = smf.ols('residuals ~ square_imbalance', selected_data)\n",
    "res = mod.fit()\n",
    "print(res.summary())"
   ]
  },
  {
   "cell_type": "code",
   "execution_count": 23,
   "metadata": {},
   "outputs": [
    {
     "name": "stdout",
     "output_type": "stream",
     "text": [
      "                            OLS Regression Results                            \n",
      "==============================================================================\n",
      "Dep. Variable:              residuals   R-squared:                       0.028\n",
      "Model:                            OLS   Adj. R-squared:                  0.026\n",
      "Method:                 Least Squares   F-statistic:                     16.86\n",
      "Date:                Sun, 27 Dec 2020   Prob (F-statistic):           6.04e-08\n",
      "Time:                        17:52:08   Log-Likelihood:                -2007.2\n",
      "No. Observations:                1185   AIC:                             4020.\n",
      "Df Residuals:                    1182   BIC:                             4036.\n",
      "Df Model:                           2                                         \n",
      "Covariance Type:            nonrobust                                         \n",
      "=======================================================================================\n",
      "                          coef    std err          t      P>|t|      [0.025      0.975]\n",
      "---------------------------------------------------------------------------------------\n",
      "Intercept               0.6503      0.062     10.447      0.000       0.528       0.772\n",
      "square_imbalance       -1.1373      3.000     -0.379      0.705      -7.024       4.749\n",
      "inverse_sample_size   -14.1923      2.686     -5.283      0.000     -19.463      -8.922\n",
      "==============================================================================\n",
      "Omnibus:                      924.709   Durbin-Watson:                   1.959\n",
      "Prob(Omnibus):                  0.000   Jarque-Bera (JB):            12635.774\n",
      "Skew:                           3.706   Prob(JB):                         0.00\n",
      "Kurtosis:                      17.177   Cond. No.                         87.0\n",
      "==============================================================================\n",
      "\n",
      "Warnings:\n",
      "[1] Standard Errors assume that the covariance matrix of the errors is correctly specified.\n"
     ]
    }
   ],
   "source": [
    "mod = smf.ols('residuals ~ square_imbalance + inverse_sample_size', selected_data)\n",
    "res = mod.fit()\n",
    "print(res.summary())"
   ]
  },
  {
   "cell_type": "code",
   "execution_count": 24,
   "metadata": {},
   "outputs": [
    {
     "name": "stdout",
     "output_type": "stream",
     "text": [
      "                         QuantReg Regression Results                          \n",
      "==============================================================================\n",
      "Dep. Variable:              residuals   Pseudo R-squared:             0.003461\n",
      "Model:                       QuantReg   Bandwidth:                     0.04497\n",
      "Method:                 Least Squares   Sparsity:                       0.1694\n",
      "Date:                Sun, 27 Dec 2020   No. Observations:                 1185\n",
      "Time:                        17:52:09   Df Residuals:                     1183\n",
      "                                        Df Model:                            1\n",
      "====================================================================================\n",
      "                       coef    std err          t      P>|t|      [0.025      0.975]\n",
      "------------------------------------------------------------------------------------\n",
      "Intercept           -0.0194      0.003     -5.869      0.000      -0.026      -0.013\n",
      "square_imbalance    -1.1680      0.180     -6.480      0.000      -1.522      -0.814\n",
      "====================================================================================\n"
     ]
    }
   ],
   "source": [
    "mod = smf.quantreg('residuals ~ square_imbalance', selected_data)\n",
    "res = mod.fit(q=.5)\n",
    "print(res.summary())"
   ]
  },
  {
   "cell_type": "code",
   "execution_count": 25,
   "metadata": {},
   "outputs": [
    {
     "name": "stdout",
     "output_type": "stream",
     "text": [
      "                         QuantReg Regression Results                          \n",
      "==============================================================================\n",
      "Dep. Variable:              residuals   Pseudo R-squared:              0.05650\n",
      "Model:                       QuantReg   Bandwidth:                     0.03475\n",
      "Method:                 Least Squares   Sparsity:                      0.07003\n",
      "Date:                Sun, 27 Dec 2020   No. Observations:                 1185\n",
      "Time:                        17:52:09   Df Residuals:                     1182\n",
      "                                        Df Model:                            2\n",
      "=======================================================================================\n",
      "                          coef    std err          t      P>|t|      [0.025      0.975]\n",
      "---------------------------------------------------------------------------------------\n",
      "Intercept               0.0008      0.002      0.462      0.644      -0.002       0.004\n",
      "square_imbalance     6.422e-06      0.080   8.06e-05      1.000      -0.156       0.156\n",
      "inverse_sample_size    -4.0000      0.071    -56.053      0.000      -4.140      -3.860\n",
      "=======================================================================================\n"
     ]
    }
   ],
   "source": [
    "mod = smf.quantreg('residuals ~ square_imbalance + inverse_sample_size', selected_data)\n",
    "res = mod.fit(q=.5)\n",
    "print(res.summary())"
   ]
  },
  {
   "cell_type": "code",
   "execution_count": null,
   "metadata": {},
   "outputs": [],
   "source": []
  }
 ],
 "metadata": {
  "kernelspec": {
   "display_name": "Python 3",
   "language": "python",
   "name": "python3"
  },
  "language_info": {
   "codemirror_mode": {
    "name": "ipython",
    "version": 3
   },
   "file_extension": ".py",
   "mimetype": "text/x-python",
   "name": "python",
   "nbconvert_exporter": "python",
   "pygments_lexer": "ipython3",
   "version": "3.6.9"
  }
 },
 "nbformat": 4,
 "nbformat_minor": 2
}
