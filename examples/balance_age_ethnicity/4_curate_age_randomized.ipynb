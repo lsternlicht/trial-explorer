{
 "cells": [
  {
   "cell_type": "code",
   "execution_count": 1,
   "metadata": {},
   "outputs": [],
   "source": [
    "import sys\n",
    "if \"../../\" not in sys.path:\n",
    "    sys.path.append(\"../../\")"
   ]
  },
  {
   "cell_type": "code",
   "execution_count": 2,
   "metadata": {},
   "outputs": [],
   "source": [
    "import pandas as pd\n",
    "import numpy as np\n",
    "import scipy.stats as stats\n",
    "from importlib import reload\n",
    "from tqdm import tqdm_notebook as tqdm\n",
    "from sklearn import linear_model as lm\n",
    "from fuzzywuzzy import fuzz\n",
    "import time\n",
    "\n",
    "import pdaactconn as pc\n",
    "from trialexplorer import AACTStudySet\n",
    "\n",
    "import matplotlib.pyplot as plt\n",
    "%matplotlib inline"
   ]
  },
  {
   "cell_type": "code",
   "execution_count": 3,
   "metadata": {},
   "outputs": [
    {
     "name": "stdout",
     "output_type": "stream",
     "text": [
      "282833 studies loaded!\n"
     ]
    }
   ],
   "source": [
    "# loading all interventional studies\n",
    "conn = pc.AACTConnection(source=pc.AACTConnection.REMOTE)\n",
    "ss = AACTStudySet.AACTStudySet(conn=conn, \n",
    "                               tqdm_handler=tqdm)\n",
    "ss.add_constraint(\"study_type = 'Interventional'\")\n",
    "ss.load_studies()"
   ]
  },
  {
   "cell_type": "code",
   "execution_count": 4,
   "metadata": {},
   "outputs": [
    {
     "name": "stdout",
     "output_type": "stream",
     "text": [
      "Successfuly added these 6 dimensions: ['baseline_measurements', 'result_groups', 'eligibilities', 'outcomes', 'outcome_counts', 'outcome_measurements']\n",
      "Failed to add these 0 dimensions: []\n"
     ]
    },
    {
     "data": {
      "application/vnd.jupyter.widget-view+json": {
       "model_id": "65204e3fb92b4a3882880904f1c27ebb",
       "version_major": 2,
       "version_minor": 0
      },
      "text/plain": [
       "HBox(children=(IntProgress(value=0, max=566), HTML(value='')))"
      ]
     },
     "metadata": {},
     "output_type": "display_data"
    },
    {
     "name": "stdout",
     "output_type": "stream",
     "text": [
      "Syncing the temp table temp_cur_studies in 566 chunks x 500 records each\n",
      "\n",
      "Creating index on the temp table\n",
      " - Loading dimension baseline_measurements\n",
      " -- Loading raw data\n",
      " -- Sorting index\n",
      " - Loading dimension result_groups\n",
      " -- Loading raw data\n",
      " -- Sorting index\n",
      " - Loading dimension eligibilities\n",
      " -- Loading raw data\n",
      " -- Sorting index\n",
      " - Loading dimension outcomes\n",
      " -- Loading raw data\n",
      " -- Sorting index\n",
      " - Loading dimension outcome_counts\n",
      " -- Loading raw data\n",
      " -- Sorting index\n",
      " - Loading dimension outcome_measurements\n",
      " -- Loading raw data\n",
      " -- Sorting index\n"
     ]
    }
   ],
   "source": [
    "# adding and loading dimensional data\n",
    "ss.add_dimensions(['baseline_measurements',\n",
    "                   'result_groups',\n",
    "                   'eligibilities',\n",
    "                   'outcomes',\n",
    "                   'outcome_counts',\n",
    "                   'outcome_measurements'])\n",
    "ss.refresh_dim_data()"
   ]
  },
  {
   "cell_type": "code",
   "execution_count": 5,
   "metadata": {},
   "outputs": [],
   "source": [
    "# setting all the dimensional data to variables\n",
    "bm = ss.dimensions['baseline_measurements'].data\n",
    "rg = ss.dimensions['result_groups'].data\n",
    "el = ss.dimensions['eligibilities'].data\n",
    "out = ss.dimensions['outcomes'].data\n",
    "oc = ss.dimensions['outcome_counts'].data\n",
    "om = ss.dimensions['outcome_measurements'].data"
   ]
  },
  {
   "cell_type": "code",
   "execution_count": 6,
   "metadata": {},
   "outputs": [
    {
     "data": {
      "text/plain": [
       "282833"
      ]
     },
     "execution_count": 6,
     "metadata": {},
     "output_type": "execute_result"
    }
   ],
   "source": [
    "# total number of studies\n",
    "num_all = ss.studies.shape[0]\n",
    "num_all"
   ]
  },
  {
   "cell_type": "code",
   "execution_count": 7,
   "metadata": {},
   "outputs": [
    {
     "data": {
      "text/plain": [
       "(43592, 0.15412628653657812)"
      ]
     },
     "execution_count": 7,
     "metadata": {},
     "output_type": "execute_result"
    }
   ],
   "source": [
    "# baseline measurement studies\n",
    "bm_all = bm.index.get_level_values(0).unique().shape[0]\n",
    "bm_all, bm_all / num_all"
   ]
  },
  {
   "cell_type": "markdown",
   "metadata": {},
   "source": [
    "### Finding age like fields:"
   ]
  },
  {
   "cell_type": "code",
   "execution_count": 8,
   "metadata": {},
   "outputs": [
    {
     "data": {
      "text/plain": [
       "Index(['id', 'ctgov_group_code', 'classification', 'category', 'title',\n",
       "       'description', 'units', 'param_type', 'param_value', 'param_value_num',\n",
       "       'dispersion_type', 'dispersion_value', 'dispersion_value_num',\n",
       "       'dispersion_lower_limit', 'dispersion_upper_limit',\n",
       "       'explanation_of_na'],\n",
       "      dtype='object')"
      ]
     },
     "execution_count": 8,
     "metadata": {},
     "output_type": "execute_result"
    }
   ],
   "source": [
    "bm.columns"
   ]
  },
  {
   "cell_type": "code",
   "execution_count": 9,
   "metadata": {},
   "outputs": [
    {
     "data": {
      "text/plain": [
       "title\n",
       "Sex: Female, Male                                               241101\n",
       "Age                                                             229132\n",
       "Race (NIH/OMB)                                                  225548\n",
       "Region of Enrollment                                            118678\n",
       "Race/Ethnicity, Customized                                      105003\n",
       "Ethnicity (NIH/OMB)                                              73674\n",
       "Age, Customized                                                  35540\n",
       "Gender                                                            7416\n",
       "Sex/Gender, Customized                                            5120\n",
       "Weight                                                            5060\n",
       "Height                                                            3788\n",
       "Body Mass Index (BMI)                                             3263\n",
       "Education                                                         2534\n",
       "Eastern Cooperative Oncology Group (ECOG) Performance Status      2199\n",
       "BMI                                                               2183\n",
       "Body Mass Index                                                   2057\n",
       "Smoking Classification                                            1534\n",
       "Race                                                              1474\n",
       "Marital Status                                                    1374\n",
       "Race/Ethnicity                                                    1231\n",
       "dtype: int64"
      ]
     },
     "execution_count": 9,
     "metadata": {},
     "output_type": "execute_result"
    }
   ],
   "source": [
    "bm.groupby('title').size().sort_values(ascending=False)[:20]"
   ]
  },
  {
   "cell_type": "code",
   "execution_count": 10,
   "metadata": {},
   "outputs": [],
   "source": [
    "used_titles = ['Age', 'Age, Customized']\n",
    "used_types = ['Count of Participants', 'Number']\n",
    "\n",
    "bm_used = bm[(bm['title'].isin(used_titles)) & (bm['param_type'].isin(used_types))]"
   ]
  },
  {
   "cell_type": "markdown",
   "metadata": {},
   "source": [
    "# Steps 1-3 are investigative, step 4 starts implementation"
   ]
  },
  {
   "cell_type": "markdown",
   "metadata": {},
   "source": [
    "# 1. Category column in BM"
   ]
  },
  {
   "cell_type": "code",
   "execution_count": 11,
   "metadata": {},
   "outputs": [],
   "source": [
    "bmr = bm_used.reset_index()"
   ]
  },
  {
   "cell_type": "code",
   "execution_count": 12,
   "metadata": {},
   "outputs": [
    {
     "data": {
      "text/plain": [
       "category\n",
       ">=65 years                                  40104\n",
       "<=18 years                                  40069\n",
       "Between 18 and 65 years                     40062\n",
       "                                            30320\n",
       "≥ 65 years                                    191\n",
       "< 65 years                                    175\n",
       "18 - 64 years                                  58\n",
       "≥ 75 years                                     56\n",
       "50-59 years                                    56\n",
       "LTE18                                          52\n",
       "GTE65                                          52\n",
       "Children (2-11 years)                          52\n",
       "<65 years                                      52\n",
       "BTWN                                           52\n",
       "60-69 years                                    51\n",
       "40-49 years                                    46\n",
       "Adults (18-64 years)                           44\n",
       ">=75 years                                     43\n",
       "30-39 years                                    42\n",
       "18-64 years                                    42\n",
       "65 - 74 years                                  42\n",
       "Infants and toddlers (28 days-23 months)       41\n",
       "< 40 years                                     40\n",
       "Adolescents (12-17 years)                      38\n",
       "18-44 years                                    37\n",
       "< 65 Years                                     37\n",
       "70-79 years                                    32\n",
       "45-64 years                                    31\n",
       ">=65                                           30\n",
       ">=85 years                                     30\n",
       "Name: nct_id, dtype: int64"
      ]
     },
     "execution_count": 12,
     "metadata": {},
     "output_type": "execute_result"
    }
   ],
   "source": [
    "all_cats = bmr.groupby('category')['nct_id'].count().sort_values(ascending=False)\n",
    "all_cats[:30]"
   ]
  },
  {
   "cell_type": "markdown",
   "metadata": {},
   "source": [
    "### we can use all of these categories ..."
   ]
  },
  {
   "cell_type": "code",
   "execution_count": 13,
   "metadata": {},
   "outputs": [
    {
     "data": {
      "text/plain": [
       "18872"
      ]
     },
     "execution_count": 13,
     "metadata": {},
     "output_type": "execute_result"
    }
   ],
   "source": [
    "num_used = len(bm_used.index.get_level_values(0).unique())\n",
    "num_used"
   ]
  },
  {
   "cell_type": "code",
   "execution_count": 14,
   "metadata": {},
   "outputs": [
    {
     "data": {
      "text/plain": [
       "0.4329234721967333"
      ]
     },
     "execution_count": 14,
     "metadata": {},
     "output_type": "execute_result"
    }
   ],
   "source": [
    "# this % of studies is covered by the current set\n",
    "num_used / bm_all"
   ]
  },
  {
   "cell_type": "code",
   "execution_count": 15,
   "metadata": {},
   "outputs": [
    {
     "data": {
      "text/plain": [
       "array(['NCT01557894', 'NCT00353418', 'NCT01055782', 'NCT01072032',\n",
       "       'NCT01044966'], dtype=object)"
      ]
     },
     "execution_count": 15,
     "metadata": {},
     "output_type": "execute_result"
    }
   ],
   "source": [
    "# eye balling through some of them\n",
    "np.random.choice(bm_used.index.get_level_values(0).unique(), 5)"
   ]
  },
  {
   "cell_type": "markdown",
   "metadata": {},
   "source": [
    "# 2. Merging the category and classification into 1 used study set"
   ]
  },
  {
   "cell_type": "code",
   "execution_count": 16,
   "metadata": {},
   "outputs": [
    {
     "data": {
      "text/plain": [
       "classification           category               \n",
       "                         >=65 years                 39979\n",
       "                         <=18 years                 39941\n",
       "                         Between 18 and 65 years    39937\n",
       ">=65 years                                           1462\n",
       "Between 18 and 65 years                               666\n",
       "<=18 years                                            626\n",
       "<65 years                                             570\n",
       "< 65 years                                            540\n",
       "Name: id, dtype: int64"
      ]
     },
     "execution_count": 16,
     "metadata": {},
     "output_type": "execute_result"
    }
   ],
   "source": [
    "double_counts = bm_used.groupby(['classification', 'category'])['id'].count().sort_values(ascending=False)\n",
    "double_counts[double_counts > 500]"
   ]
  },
  {
   "cell_type": "markdown",
   "metadata": {},
   "source": [
    "### Plan: We look at category first, then in the remaining where category is blank, look at the classification"
   ]
  },
  {
   "cell_type": "markdown",
   "metadata": {},
   "source": [
    "## 3 a) Case 1: Category is non-blank"
   ]
  },
  {
   "cell_type": "code",
   "execution_count": 17,
   "metadata": {},
   "outputs": [],
   "source": [
    "bm_used_case1 = bm_used[bm_used['category'] != '']"
   ]
  },
  {
   "cell_type": "code",
   "execution_count": 18,
   "metadata": {},
   "outputs": [
    {
     "data": {
      "text/plain": [
       "param_type\n",
       "Count of Participants    125293\n",
       "dtype: int64"
      ]
     },
     "execution_count": 18,
     "metadata": {},
     "output_type": "execute_result"
    }
   ],
   "source": [
    "bm_used_case1.groupby('param_type').size()"
   ]
  },
  {
   "cell_type": "code",
   "execution_count": 19,
   "metadata": {},
   "outputs": [
    {
     "name": "stdout",
     "output_type": "stream",
     "text": [
      "Pct of bm rows: 80.5%\n"
     ]
    }
   ],
   "source": [
    "bm_used_case1 = bm_used_case1[bm_used_case1['param_type'] == 'Count of Participants']\n",
    "\n",
    "# % of the data ..\n",
    "print(\"Pct of bm rows: %.1f%%\" % (bm_used_case1.shape[0] / bm_used.shape[0] * 100))\n",
    "\n",
    "# unique ids for this case\n",
    "case1_nct_ids = bm_used_case1.index.get_level_values(0).unique()"
   ]
  },
  {
   "cell_type": "code",
   "execution_count": 20,
   "metadata": {},
   "outputs": [
    {
     "name": "stdout",
     "output_type": "stream",
     "text": [
      "Pct of bm rows: 80.6%\n"
     ]
    }
   ],
   "source": [
    "bm_full_case1 = bm_used.loc[case1_nct_ids]\n",
    "bm_full_case1 = bm_full_case1[bm_full_case1['param_type'] == 'Count of Participants']\n",
    "print(\"Pct of bm rows: %.1f%%\" % (bm_full_case1.shape[0] / bm_used.shape[0] * 100))"
   ]
  },
  {
   "cell_type": "markdown",
   "metadata": {},
   "source": [
    "## Joining to result groups to get the group labels:"
   ]
  },
  {
   "cell_type": "code",
   "execution_count": 21,
   "metadata": {},
   "outputs": [],
   "source": [
    "dfm_case1 = bm_full_case1.reset_index().merge(rg.reset_index()[['nct_id', 'ctgov_group_code', 'title']], \n",
    "                                              on=['nct_id', 'ctgov_group_code'], \n",
    "                                              how='inner', \n",
    "                                              suffixes=('', '_rg'))"
   ]
  },
  {
   "cell_type": "code",
   "execution_count": 22,
   "metadata": {},
   "outputs": [
    {
     "data": {
      "text/plain": [
       "Index(['Total', 'Placebo', 'Control', 'All Study Participants',\n",
       "       'Control Group', 'All Participants', 'Usual Care', 'Group 1',\n",
       "       'Treatment', 'Intervention', 'Overall Study', 'Placebo Group',\n",
       "       'Entire Study Population', 'Arm 1', 'Sugar Pill', 'Group 2',\n",
       "       'Total Title', 'Standard of Care', 'Arm I', 'Single Arm', 'Arm 2',\n",
       "       'All Patients', 'Group B', 'Group A', 'Cohort 1', 'Experimental',\n",
       "       'Vehicle', 'Intervention Group', 'Cohort 2', 'All Subjects',\n",
       "       'Treatment Group', 'Active', 'Metformin', 'Normal Saline',\n",
       "       'Treatment Arm', 'Group 3', 'Standard Care', 'Control Arm',\n",
       "       'Healthy Volunteers', 'Lacosamide', 'Saline', 'Placebo Arm', 'Cohort 3',\n",
       "       'Varenicline', 'Arm A', 'Aripiprazole', 'Ketamine', 'Levetiracetam',\n",
       "       'Arm B', 'Sitagliptin'],\n",
       "      dtype='object', name='title_rg')"
      ]
     },
     "execution_count": 22,
     "metadata": {},
     "output_type": "execute_result"
    }
   ],
   "source": [
    "dfm_case1.groupby('title_rg').size().sort_values(ascending=False)[:50].index"
   ]
  },
  {
   "cell_type": "code",
   "execution_count": 23,
   "metadata": {},
   "outputs": [],
   "source": [
    "total_strings = ['Total', \n",
    "                 'All Participants', \n",
    "                 'All Study Participants', \n",
    "                 'Entire Study Population',\n",
    "                 'Overall Study',\n",
    "                 'Overall', \n",
    "                 'Total Title']"
   ]
  },
  {
   "cell_type": "code",
   "execution_count": 24,
   "metadata": {},
   "outputs": [
    {
     "data": {
      "text/plain": [
       "15205"
      ]
     },
     "execution_count": 24,
     "metadata": {},
     "output_type": "execute_result"
    }
   ],
   "source": [
    "dfm_case1_nontot = dfm_case1[~dfm_case1['title_rg'].isin(total_strings)].copy()\n",
    "len(dfm_case1_nontot['nct_id'].unique())"
   ]
  },
  {
   "cell_type": "code",
   "execution_count": 25,
   "metadata": {},
   "outputs": [
    {
     "data": {
      "text/plain": [
       "array(['Count of Participants'], dtype=object)"
      ]
     },
     "execution_count": 25,
     "metadata": {},
     "output_type": "execute_result"
    }
   ],
   "source": [
    "dfm_case1_nontot['param_type'].unique()"
   ]
  },
  {
   "cell_type": "code",
   "execution_count": 26,
   "metadata": {},
   "outputs": [
    {
     "data": {
      "text/html": [
       "<div>\n",
       "<style scoped>\n",
       "    .dataframe tbody tr th:only-of-type {\n",
       "        vertical-align: middle;\n",
       "    }\n",
       "\n",
       "    .dataframe tbody tr th {\n",
       "        vertical-align: top;\n",
       "    }\n",
       "\n",
       "    .dataframe thead th {\n",
       "        text-align: right;\n",
       "    }\n",
       "</style>\n",
       "<table border=\"1\" class=\"dataframe\">\n",
       "  <thead>\n",
       "    <tr style=\"text-align: right;\">\n",
       "      <th></th>\n",
       "      <th>param_value_num</th>\n",
       "      <th>enrollment</th>\n",
       "      <th>tot_per_enroll</th>\n",
       "    </tr>\n",
       "    <tr>\n",
       "      <th>nct_id</th>\n",
       "      <th></th>\n",
       "      <th></th>\n",
       "      <th></th>\n",
       "    </tr>\n",
       "  </thead>\n",
       "  <tbody>\n",
       "    <tr>\n",
       "      <td>NCT00000134</td>\n",
       "      <td>279.0</td>\n",
       "      <td>279.0</td>\n",
       "      <td>1.0</td>\n",
       "    </tr>\n",
       "    <tr>\n",
       "      <td>NCT00000135</td>\n",
       "      <td>209.0</td>\n",
       "      <td>209.0</td>\n",
       "      <td>1.0</td>\n",
       "    </tr>\n",
       "    <tr>\n",
       "      <td>NCT00000136</td>\n",
       "      <td>234.0</td>\n",
       "      <td>234.0</td>\n",
       "      <td>1.0</td>\n",
       "    </tr>\n",
       "    <tr>\n",
       "      <td>NCT00000142</td>\n",
       "      <td>64.0</td>\n",
       "      <td>64.0</td>\n",
       "      <td>1.0</td>\n",
       "    </tr>\n",
       "    <tr>\n",
       "      <td>NCT00000143</td>\n",
       "      <td>61.0</td>\n",
       "      <td>61.0</td>\n",
       "      <td>1.0</td>\n",
       "    </tr>\n",
       "  </tbody>\n",
       "</table>\n",
       "</div>"
      ],
      "text/plain": [
       "             param_value_num  enrollment  tot_per_enroll\n",
       "nct_id                                                  \n",
       "NCT00000134            279.0       279.0             1.0\n",
       "NCT00000135            209.0       209.0             1.0\n",
       "NCT00000136            234.0       234.0             1.0\n",
       "NCT00000142             64.0        64.0             1.0\n",
       "NCT00000143             61.0        61.0             1.0"
      ]
     },
     "execution_count": 26,
     "metadata": {},
     "output_type": "execute_result"
    }
   ],
   "source": [
    "df_case1_totcounts = dfm_case1_nontot.groupby('nct_id')[['param_value_num']].sum()\n",
    "df_c1j = df_case1_totcounts.join(ss.studies[['enrollment']])\n",
    "df_c1j['tot_per_enroll'] = df_c1j['param_value_num'] / df_c1j['enrollment']\n",
    "df_c1j.head()"
   ]
  },
  {
   "cell_type": "code",
   "execution_count": 27,
   "metadata": {},
   "outputs": [
    {
     "data": {
      "text/plain": [
       "<matplotlib.axes._subplots.AxesSubplot at 0x7fdf94cae588>"
      ]
     },
     "execution_count": 27,
     "metadata": {},
     "output_type": "execute_result"
    },
    {
     "data": {
      "image/png": "[encoded data removed]",
      "text/plain": [
       "<Figure size 432x288 with 1 Axes>"
      ]
     },
     "metadata": {
      "needs_background": "light"
     },
     "output_type": "display_data"
    }
   ],
   "source": [
    "df_c1j[df_c1j['tot_per_enroll'] != 1.0]['tot_per_enroll'].clip(0, 4).hist(bins=50)"
   ]
  },
  {
   "cell_type": "markdown",
   "metadata": {},
   "source": [
    "### Idea: let's just keep those studies with totals that sum up to smaller or equal to total enrollment"
   ]
  },
  {
   "cell_type": "code",
   "execution_count": 28,
   "metadata": {},
   "outputs": [
    {
     "data": {
      "text/plain": [
       "0.9861887536994409"
      ]
     },
     "execution_count": 28,
     "metadata": {},
     "output_type": "execute_result"
    }
   ],
   "source": [
    "non_double_counted = df_c1j[df_c1j['param_value_num'] <= df_c1j['enrollment']]\n",
    "non_double_counted.shape[0] / df_c1j.shape[0]"
   ]
  },
  {
   "cell_type": "code",
   "execution_count": 29,
   "metadata": {},
   "outputs": [],
   "source": [
    "df_final_case1 = dfm_case1_nontot[dfm_case1_nontot['nct_id'].isin(non_double_counted.index)].copy()"
   ]
  },
  {
   "cell_type": "code",
   "execution_count": 30,
   "metadata": {},
   "outputs": [
    {
     "data": {
      "text/plain": [
       "0.5905997570897032"
      ]
     },
     "execution_count": 30,
     "metadata": {},
     "output_type": "execute_result"
    }
   ],
   "source": [
    "# % of rows in bm_used\n",
    "df_final_case1.shape[0] / bm_used.shape[0]"
   ]
  },
  {
   "cell_type": "code",
   "execution_count": 31,
   "metadata": {},
   "outputs": [
    {
     "data": {
      "text/plain": [
       "0.7945633743111488"
      ]
     },
     "execution_count": 31,
     "metadata": {},
     "output_type": "execute_result"
    }
   ],
   "source": [
    "# % of nct_ids in bm_used\n",
    "len(df_final_case1['nct_id'].unique()) / len(bm_used.index.get_level_values(0).unique())"
   ]
  },
  {
   "cell_type": "markdown",
   "metadata": {},
   "source": [
    "## 3 b) Case 2: Category is blank (look in the classification field)"
   ]
  },
  {
   "cell_type": "code",
   "execution_count": 32,
   "metadata": {},
   "outputs": [],
   "source": [
    "bm_used_case2 = bm_used[bm_used['category'] == '']"
   ]
  },
  {
   "cell_type": "code",
   "execution_count": 33,
   "metadata": {},
   "outputs": [
    {
     "data": {
      "text/plain": [
       "param_type\n",
       "Count of Participants     5673\n",
       "Number                   24647\n",
       "dtype: int64"
      ]
     },
     "execution_count": 33,
     "metadata": {},
     "output_type": "execute_result"
    }
   ],
   "source": [
    "bm_used_case2.groupby('param_type').size()"
   ]
  },
  {
   "cell_type": "code",
   "execution_count": 34,
   "metadata": {},
   "outputs": [
    {
     "name": "stdout",
     "output_type": "stream",
     "text": [
      "Pct of bm rows: 19.5%\n"
     ]
    }
   ],
   "source": [
    "# checked that these 2 are the dominate characterstics\n",
    "bm_used_case2 = bm_used_case2[bm_used_case2['param_type'].isin(['Count of Participants', \n",
    "                                                                'Number'])]\n",
    "\n",
    "\n",
    "# % of the data ..\n",
    "print(\"Pct of bm rows: %.1f%%\" % (bm_used_case2.shape[0] / bm_used.shape[0] * 100))\n",
    "\n",
    "# unique ids for this case\n",
    "case2_nct_ids = bm_used_case2.index.get_level_values(0).unique()"
   ]
  },
  {
   "cell_type": "code",
   "execution_count": 35,
   "metadata": {},
   "outputs": [
    {
     "name": "stdout",
     "output_type": "stream",
     "text": [
      "Pct of bm rows: 19.7%\n"
     ]
    }
   ],
   "source": [
    "bm_full_case2 = bm_used.loc[case2_nct_ids]\n",
    "bm_full_case2 = bm_full_case2[bm_full_case2['param_type'].isin(['Count of Participants', 'Number'])]\n",
    "print(\"Pct of bm rows: %.1f%%\" % (bm_full_case2.shape[0] / bm_used.shape[0] * 100))"
   ]
  },
  {
   "cell_type": "markdown",
   "metadata": {},
   "source": [
    "## Joining to result groups to get the group labels:"
   ]
  },
  {
   "cell_type": "code",
   "execution_count": 36,
   "metadata": {},
   "outputs": [],
   "source": [
    "dfm_case2 = bm_full_case2.reset_index().merge(rg.reset_index()[['nct_id', 'ctgov_group_code', 'title']], \n",
    "                                              on=['nct_id', 'ctgov_group_code'], \n",
    "                                              how='inner', \n",
    "                                              suffixes=('', '_rg'))"
   ]
  },
  {
   "cell_type": "code",
   "execution_count": 37,
   "metadata": {},
   "outputs": [
    {
     "data": {
      "text/plain": [
       "Index(['Total', 'Placebo', 'Control', 'Vehicle', 'All Participants',\n",
       "       'Pregabalin', 'Cohort 1', 'Placebo QD', 'Cohort 2',\n",
       "       'Entire Study Population', 'Control Group', 'Dasatinib', 'Doripenem',\n",
       "       'Standard of Care', 'Usual Care', 'Dexlansoprazole MR 60 mg QD',\n",
       "       'Bevacizumab', 'Azilsartan Medoxomil 40 mg QD',\n",
       "       'Azilsartan Medoxomil 80 mg QD', 'Blinatumomab', 'Intervention',\n",
       "       'Varenicline', 'Treatment', 'Group 1', 'Maraviroc QD', 'Celecoxib',\n",
       "       'Adalimumab', 'Maraviroc BID', 'Alogliptin 25 mg QD', 'Ziprasidone',\n",
       "       'Dexlansoprazole MR 90 mg QD', 'Dimebon', 'Alogliptin 12.5 mg QD',\n",
       "       'Subcutaneous Insulin', 'Total Title', 'Inhaled Insulin',\n",
       "       'Fesoterodine', 'Dapagliflozin 10 mg', 'Fingolimod 0.5 mg', 'Sunitinib',\n",
       "       'All Study Participants', 'Dapagliflozin 5 mg', 'Ixabepilone',\n",
       "       'Placebo MDPI', 'Rivaroxaban (Xarelto, BAY59-7939)', 'Arm I',\n",
       "       'Anidulafungin', 'Standard of Care (SOC)', 'Sitagliptin 100 mg',\n",
       "       'Docetaxel'],\n",
       "      dtype='object', name='title_rg')"
      ]
     },
     "execution_count": 37,
     "metadata": {},
     "output_type": "execute_result"
    }
   ],
   "source": [
    "dfm_case2.groupby('title_rg').size().sort_values(ascending=False)[:50].index"
   ]
  },
  {
   "cell_type": "code",
   "execution_count": 38,
   "metadata": {},
   "outputs": [],
   "source": [
    "# still the same total strings:\n",
    "total_strings = ['Total', \n",
    "                 'All Participants', \n",
    "                 'All Study Participants', \n",
    "                 'Entire Study Population',\n",
    "                 'Overall Study',\n",
    "                 'Overall', \n",
    "                 'Total Title']"
   ]
  },
  {
   "cell_type": "code",
   "execution_count": 39,
   "metadata": {},
   "outputs": [
    {
     "data": {
      "text/plain": [
       "3198"
      ]
     },
     "execution_count": 39,
     "metadata": {},
     "output_type": "execute_result"
    }
   ],
   "source": [
    "dfm_case2_nontot = dfm_case2[~dfm_case2['title_rg'].isin(total_strings)].copy()\n",
    "len(dfm_case2_nontot['nct_id'].unique())"
   ]
  },
  {
   "cell_type": "code",
   "execution_count": 40,
   "metadata": {},
   "outputs": [
    {
     "data": {
      "text/html": [
       "<div>\n",
       "<style scoped>\n",
       "    .dataframe tbody tr th:only-of-type {\n",
       "        vertical-align: middle;\n",
       "    }\n",
       "\n",
       "    .dataframe tbody tr th {\n",
       "        vertical-align: top;\n",
       "    }\n",
       "\n",
       "    .dataframe thead th {\n",
       "        text-align: right;\n",
       "    }\n",
       "</style>\n",
       "<table border=\"1\" class=\"dataframe\">\n",
       "  <thead>\n",
       "    <tr style=\"text-align: right;\">\n",
       "      <th></th>\n",
       "      <th>param_value_num</th>\n",
       "      <th>enrollment</th>\n",
       "      <th>tot_per_enroll</th>\n",
       "    </tr>\n",
       "    <tr>\n",
       "      <th>nct_id</th>\n",
       "      <th></th>\n",
       "      <th></th>\n",
       "      <th></th>\n",
       "    </tr>\n",
       "  </thead>\n",
       "  <tbody>\n",
       "    <tr>\n",
       "      <td>NCT00000392</td>\n",
       "      <td>122.0</td>\n",
       "      <td>215.0</td>\n",
       "      <td>0.567442</td>\n",
       "    </tr>\n",
       "    <tr>\n",
       "      <td>NCT00003377</td>\n",
       "      <td>29.0</td>\n",
       "      <td>29.0</td>\n",
       "      <td>1.000000</td>\n",
       "    </tr>\n",
       "    <tr>\n",
       "      <td>NCT00003644</td>\n",
       "      <td>542.0</td>\n",
       "      <td>571.0</td>\n",
       "      <td>0.949212</td>\n",
       "    </tr>\n",
       "    <tr>\n",
       "      <td>NCT00003869</td>\n",
       "      <td>186.0</td>\n",
       "      <td>186.0</td>\n",
       "      <td>1.000000</td>\n",
       "    </tr>\n",
       "    <tr>\n",
       "      <td>NCT00006227</td>\n",
       "      <td>31.0</td>\n",
       "      <td>31.0</td>\n",
       "      <td>1.000000</td>\n",
       "    </tr>\n",
       "  </tbody>\n",
       "</table>\n",
       "</div>"
      ],
      "text/plain": [
       "             param_value_num  enrollment  tot_per_enroll\n",
       "nct_id                                                  \n",
       "NCT00000392            122.0       215.0        0.567442\n",
       "NCT00003377             29.0        29.0        1.000000\n",
       "NCT00003644            542.0       571.0        0.949212\n",
       "NCT00003869            186.0       186.0        1.000000\n",
       "NCT00006227             31.0        31.0        1.000000"
      ]
     },
     "execution_count": 40,
     "metadata": {},
     "output_type": "execute_result"
    }
   ],
   "source": [
    "df_case2_totcounts = dfm_case2_nontot.groupby('nct_id')[['param_value_num']].sum()\n",
    "df_c2j = df_case2_totcounts.join(ss.studies[['enrollment']])\n",
    "df_c2j['tot_per_enroll'] = df_c2j['param_value_num'] / df_c2j['enrollment']\n",
    "df_c2j.head()"
   ]
  },
  {
   "cell_type": "code",
   "execution_count": 41,
   "metadata": {},
   "outputs": [
    {
     "data": {
      "text/plain": [
       "<matplotlib.axes._subplots.AxesSubplot at 0x7fdf85b4b710>"
      ]
     },
     "execution_count": 41,
     "metadata": {},
     "output_type": "execute_result"
    },
    {
     "data": {
      "image/png": "[encoded data removed]",
      "text/plain": [
       "<Figure size 432x288 with 1 Axes>"
      ]
     },
     "metadata": {
      "needs_background": "light"
     },
     "output_type": "display_data"
    }
   ],
   "source": [
    "df_c2j[df_c2j['tot_per_enroll'] != 1.0]['tot_per_enroll'].clip(0, 4).hist(bins=50)"
   ]
  },
  {
   "cell_type": "code",
   "execution_count": 42,
   "metadata": {},
   "outputs": [
    {
     "data": {
      "text/plain": [
       "0.9521575984990619"
      ]
     },
     "execution_count": 42,
     "metadata": {},
     "output_type": "execute_result"
    }
   ],
   "source": [
    "non_double_counted_case2 = df_c2j[df_c2j['param_value_num'] <= df_c2j['enrollment']]\n",
    "non_double_counted_case2.shape[0] / df_c2j.shape[0]"
   ]
  },
  {
   "cell_type": "code",
   "execution_count": 43,
   "metadata": {},
   "outputs": [],
   "source": [
    "df_final_case2 = dfm_case2_nontot[dfm_case2_nontot['nct_id'].isin(non_double_counted_case2.index)].copy()"
   ]
  },
  {
   "cell_type": "code",
   "execution_count": 44,
   "metadata": {},
   "outputs": [
    {
     "data": {
      "text/plain": [
       "0.13800903523484542"
      ]
     },
     "execution_count": 44,
     "metadata": {},
     "output_type": "execute_result"
    }
   ],
   "source": [
    "# % of rows in bm_used\n",
    "df_final_case2.shape[0] / bm_used.shape[0]"
   ]
  },
  {
   "cell_type": "code",
   "execution_count": 45,
   "metadata": {},
   "outputs": [
    {
     "data": {
      "text/plain": [
       "0.16135014836795253"
      ]
     },
     "execution_count": 45,
     "metadata": {},
     "output_type": "execute_result"
    }
   ],
   "source": [
    "# % of nct_ids in bm_used\n",
    "len(df_final_case2['nct_id'].unique()) / len(bm_used.index.get_level_values(0).unique())"
   ]
  },
  {
   "cell_type": "markdown",
   "metadata": {},
   "source": [
    "### Do we have any nct_ids in both cases?"
   ]
  },
  {
   "cell_type": "code",
   "execution_count": 46,
   "metadata": {},
   "outputs": [
    {
     "data": {
      "text/plain": [
       "[]"
      ]
     },
     "execution_count": 46,
     "metadata": {},
     "output_type": "execute_result"
    }
   ],
   "source": [
    "c1_nct = df_final_case1['nct_id'].unique()\n",
    "c2_nct = df_final_case2['nct_id'].unique()\n",
    "\n",
    "[x for x in c1_nct if x in c2_nct]"
   ]
  },
  {
   "cell_type": "code",
   "execution_count": 47,
   "metadata": {},
   "outputs": [],
   "source": [
    "df_final_case1['used_age'] = df_final_case1['category']\n",
    "df_final_case2['used_age'] = df_final_case2['classification']"
   ]
  },
  {
   "cell_type": "code",
   "execution_count": 48,
   "metadata": {},
   "outputs": [],
   "source": [
    "req_columns = [\n",
    "    'nct_id', \n",
    "    'result_group_id',\n",
    "    'title',\n",
    "    'ctgov_group_code',\n",
    "    'used_age',\n",
    "    'param_value_num'\n",
    "]"
   ]
  },
  {
   "cell_type": "markdown",
   "metadata": {},
   "source": [
    "## 4 Joining together the cases"
   ]
  },
  {
   "cell_type": "code",
   "execution_count": 49,
   "metadata": {},
   "outputs": [],
   "source": [
    "df_final_all = pd.concat([df_final_case1[req_columns], df_final_case2[req_columns]])"
   ]
  },
  {
   "cell_type": "code",
   "execution_count": 50,
   "metadata": {},
   "outputs": [
    {
     "data": {
      "text/plain": [
       "0.7286087923245487"
      ]
     },
     "execution_count": 50,
     "metadata": {},
     "output_type": "execute_result"
    }
   ],
   "source": [
    "df_final_all.shape[0] / bm_used.shape[0]"
   ]
  },
  {
   "cell_type": "code",
   "execution_count": 51,
   "metadata": {},
   "outputs": [
    {
     "data": {
      "text/plain": [
       "(0.41383740135804736, 18040)"
      ]
     },
     "execution_count": 51,
     "metadata": {},
     "output_type": "execute_result"
    }
   ],
   "source": [
    "# % of all nctids that report baseline measures\n",
    "num_studies_report_race = len(df_final_all['nct_id'].unique())\n",
    "num_studies_report_race / len(bm.index.get_level_values(0).unique()), num_studies_report_race"
   ]
  },
  {
   "cell_type": "code",
   "execution_count": 52,
   "metadata": {},
   "outputs": [],
   "source": [
    "dftotals = df_final_all.groupby('nct_id')[['param_value_num']].sum()"
   ]
  },
  {
   "cell_type": "code",
   "execution_count": 53,
   "metadata": {},
   "outputs": [
    {
     "data": {
      "text/html": [
       "<div>\n",
       "<style scoped>\n",
       "    .dataframe tbody tr th:only-of-type {\n",
       "        vertical-align: middle;\n",
       "    }\n",
       "\n",
       "    .dataframe tbody tr th {\n",
       "        vertical-align: top;\n",
       "    }\n",
       "\n",
       "    .dataframe thead th {\n",
       "        text-align: right;\n",
       "    }\n",
       "</style>\n",
       "<table border=\"1\" class=\"dataframe\">\n",
       "  <thead>\n",
       "    <tr style=\"text-align: right;\">\n",
       "      <th></th>\n",
       "      <th>percentile</th>\n",
       "      <th>param_value_num</th>\n",
       "    </tr>\n",
       "  </thead>\n",
       "  <tbody>\n",
       "    <tr>\n",
       "      <td>19</td>\n",
       "      <td>15%</td>\n",
       "      <td>11.00</td>\n",
       "    </tr>\n",
       "    <tr>\n",
       "      <td>20</td>\n",
       "      <td>16%</td>\n",
       "      <td>11.24</td>\n",
       "    </tr>\n",
       "    <tr>\n",
       "      <td>21</td>\n",
       "      <td>17%</td>\n",
       "      <td>12.00</td>\n",
       "    </tr>\n",
       "    <tr>\n",
       "      <td>22</td>\n",
       "      <td>18%</td>\n",
       "      <td>13.00</td>\n",
       "    </tr>\n",
       "    <tr>\n",
       "      <td>23</td>\n",
       "      <td>19%</td>\n",
       "      <td>14.00</td>\n",
       "    </tr>\n",
       "    <tr>\n",
       "      <td>24</td>\n",
       "      <td>20%</td>\n",
       "      <td>15.00</td>\n",
       "    </tr>\n",
       "    <tr>\n",
       "      <td>25</td>\n",
       "      <td>21%</td>\n",
       "      <td>15.00</td>\n",
       "    </tr>\n",
       "    <tr>\n",
       "      <td>26</td>\n",
       "      <td>22%</td>\n",
       "      <td>16.00</td>\n",
       "    </tr>\n",
       "    <tr>\n",
       "      <td>27</td>\n",
       "      <td>23%</td>\n",
       "      <td>17.00</td>\n",
       "    </tr>\n",
       "    <tr>\n",
       "      <td>28</td>\n",
       "      <td>24%</td>\n",
       "      <td>18.00</td>\n",
       "    </tr>\n",
       "  </tbody>\n",
       "</table>\n",
       "</div>"
      ],
      "text/plain": [
       "   percentile  param_value_num\n",
       "19        15%            11.00\n",
       "20        16%            11.24\n",
       "21        17%            12.00\n",
       "22        18%            13.00\n",
       "23        19%            14.00\n",
       "24        20%            15.00\n",
       "25        21%            15.00\n",
       "26        22%            16.00\n",
       "27        23%            17.00\n",
       "28        24%            18.00"
      ]
     },
     "execution_count": 53,
     "metadata": {},
     "output_type": "execute_result"
    }
   ],
   "source": [
    "df_percentile_totals = dftotals.describe(np.arange(0,1,0.01))\n",
    "df_percentile_totals.index.name='percentile'\n",
    "df_percentile_totals.reset_index(inplace=True)\n",
    "df_percentile_totals = df_percentile_totals[df_percentile_totals['percentile'].apply(lambda x: \n",
    "                                                                                     True if '%' in x \n",
    "                                                                                     else False)]\n",
    "df_percentile_totals[15:25]"
   ]
  },
  {
   "cell_type": "markdown",
   "metadata": {},
   "source": [
    "### We picked to keep 80% of the data and exclude any studies such the total <= 15"
   ]
  },
  {
   "cell_type": "code",
   "execution_count": 54,
   "metadata": {},
   "outputs": [
    {
     "data": {
      "text/plain": [
       "(14249, 1)"
      ]
     },
     "execution_count": 54,
     "metadata": {},
     "output_type": "execute_result"
    }
   ],
   "source": [
    "df_totals_used = dftotals[dftotals['param_value_num'] > 15]\n",
    "df_totals_used.shape"
   ]
  },
  {
   "cell_type": "code",
   "execution_count": 55,
   "metadata": {},
   "outputs": [
    {
     "data": {
      "text/html": [
       "<div>\n",
       "<style scoped>\n",
       "    .dataframe tbody tr th:only-of-type {\n",
       "        vertical-align: middle;\n",
       "    }\n",
       "\n",
       "    .dataframe tbody tr th {\n",
       "        vertical-align: top;\n",
       "    }\n",
       "\n",
       "    .dataframe thead th {\n",
       "        text-align: right;\n",
       "    }\n",
       "</style>\n",
       "<table border=\"1\" class=\"dataframe\">\n",
       "  <thead>\n",
       "    <tr style=\"text-align: right;\">\n",
       "      <th></th>\n",
       "      <th>nct_id</th>\n",
       "      <th>result_group_id</th>\n",
       "      <th>title</th>\n",
       "      <th>ctgov_group_code</th>\n",
       "      <th>used_age</th>\n",
       "      <th>param_value_num</th>\n",
       "    </tr>\n",
       "  </thead>\n",
       "  <tbody>\n",
       "    <tr>\n",
       "      <td>3</td>\n",
       "      <td>NCT00000134</td>\n",
       "      <td>18405159</td>\n",
       "      <td>Age</td>\n",
       "      <td>B3</td>\n",
       "      <td>&gt;=65 years</td>\n",
       "      <td>0.0</td>\n",
       "    </tr>\n",
       "    <tr>\n",
       "      <td>4</td>\n",
       "      <td>NCT00000134</td>\n",
       "      <td>18405159</td>\n",
       "      <td>Age</td>\n",
       "      <td>B3</td>\n",
       "      <td>Between 18 and 65 years</td>\n",
       "      <td>96.0</td>\n",
       "    </tr>\n",
       "    <tr>\n",
       "      <td>5</td>\n",
       "      <td>NCT00000134</td>\n",
       "      <td>18405159</td>\n",
       "      <td>Age</td>\n",
       "      <td>B3</td>\n",
       "      <td>&lt;=18 years</td>\n",
       "      <td>0.0</td>\n",
       "    </tr>\n",
       "    <tr>\n",
       "      <td>6</td>\n",
       "      <td>NCT00000134</td>\n",
       "      <td>18405160</td>\n",
       "      <td>Age</td>\n",
       "      <td>B2</td>\n",
       "      <td>&gt;=65 years</td>\n",
       "      <td>0.0</td>\n",
       "    </tr>\n",
       "    <tr>\n",
       "      <td>7</td>\n",
       "      <td>NCT00000134</td>\n",
       "      <td>18405160</td>\n",
       "      <td>Age</td>\n",
       "      <td>B2</td>\n",
       "      <td>Between 18 and 65 years</td>\n",
       "      <td>94.0</td>\n",
       "    </tr>\n",
       "  </tbody>\n",
       "</table>\n",
       "</div>"
      ],
      "text/plain": [
       "        nct_id  result_group_id title ctgov_group_code  \\\n",
       "3  NCT00000134         18405159   Age               B3   \n",
       "4  NCT00000134         18405159   Age               B3   \n",
       "5  NCT00000134         18405159   Age               B3   \n",
       "6  NCT00000134         18405160   Age               B2   \n",
       "7  NCT00000134         18405160   Age               B2   \n",
       "\n",
       "                  used_age  param_value_num  \n",
       "3               >=65 years              0.0  \n",
       "4  Between 18 and 65 years             96.0  \n",
       "5               <=18 years              0.0  \n",
       "6               >=65 years              0.0  \n",
       "7  Between 18 and 65 years             94.0  "
      ]
     },
     "execution_count": 55,
     "metadata": {},
     "output_type": "execute_result"
    }
   ],
   "source": [
    "df_final_g15 = df_final_all[df_final_all['nct_id'].isin(df_totals_used.index.unique())]\n",
    "df_final_g15.head()"
   ]
  },
  {
   "cell_type": "markdown",
   "metadata": {},
   "source": [
    "### Only keep those with 2 Arms or More"
   ]
  },
  {
   "cell_type": "code",
   "execution_count": 56,
   "metadata": {},
   "outputs": [
    {
     "data": {
      "text/plain": [
       "array([[<matplotlib.axes._subplots.AxesSubplot object at 0x7fdf86a2cc18>]],\n",
       "      dtype=object)"
      ]
     },
     "execution_count": 56,
     "metadata": {},
     "output_type": "execute_result"
    },
    {
     "data": {
      "image/png": "[encoded data removed]",
      "text/plain": [
       "<Figure size 432x288 with 1 Axes>"
      ]
     },
     "metadata": {
      "needs_background": "light"
     },
     "output_type": "display_data"
    }
   ],
   "source": [
    "df_final_g15.groupby('nct_id')[['ctgov_group_code']].nunique().clip(0, 10).hist(bins=10)"
   ]
  },
  {
   "cell_type": "code",
   "execution_count": 57,
   "metadata": {},
   "outputs": [
    {
     "data": {
      "text/plain": [
       "10782"
      ]
     },
     "execution_count": 57,
     "metadata": {},
     "output_type": "execute_result"
    }
   ],
   "source": [
    "# only keep studies with greater than 2 arms\n",
    "s_ngrps = df_final_g15.groupby('nct_id')['ctgov_group_code'].nunique()\n",
    "nct_id_more_than_2arm = s_ngrps[s_ngrps >= 2].index\n",
    "len(nct_id_more_than_2arm)"
   ]
  },
  {
   "cell_type": "code",
   "execution_count": 59,
   "metadata": {},
   "outputs": [
    {
     "data": {
      "text/plain": [
       "(0.2473389612772986, 0.038121435617484524)"
      ]
     },
     "execution_count": 59,
     "metadata": {},
     "output_type": "execute_result"
    }
   ],
   "source": [
    "# % of studies with bm\n",
    "# % of all studies in database\n",
    "len(nct_id_more_than_2arm) / bm_all, len(nct_id_more_than_2arm) / num_all "
   ]
  },
  {
   "cell_type": "code",
   "execution_count": 61,
   "metadata": {},
   "outputs": [
    {
     "data": {
      "text/html": [
       "<div>\n",
       "<style scoped>\n",
       "    .dataframe tbody tr th:only-of-type {\n",
       "        vertical-align: middle;\n",
       "    }\n",
       "\n",
       "    .dataframe tbody tr th {\n",
       "        vertical-align: top;\n",
       "    }\n",
       "\n",
       "    .dataframe thead th {\n",
       "        text-align: right;\n",
       "    }\n",
       "</style>\n",
       "<table border=\"1\" class=\"dataframe\">\n",
       "  <thead>\n",
       "    <tr style=\"text-align: right;\">\n",
       "      <th></th>\n",
       "      <th>nct_id</th>\n",
       "      <th>result_group_id</th>\n",
       "      <th>title</th>\n",
       "      <th>ctgov_group_code</th>\n",
       "      <th>used_age</th>\n",
       "      <th>param_value_num</th>\n",
       "    </tr>\n",
       "  </thead>\n",
       "  <tbody>\n",
       "    <tr>\n",
       "      <td>0</td>\n",
       "      <td>NCT00000134</td>\n",
       "      <td>18405159</td>\n",
       "      <td>Age</td>\n",
       "      <td>B3</td>\n",
       "      <td>&gt;=65 years</td>\n",
       "      <td>0.0</td>\n",
       "    </tr>\n",
       "    <tr>\n",
       "      <td>1</td>\n",
       "      <td>NCT00000134</td>\n",
       "      <td>18405159</td>\n",
       "      <td>Age</td>\n",
       "      <td>B3</td>\n",
       "      <td>Between 18 and 65 years</td>\n",
       "      <td>96.0</td>\n",
       "    </tr>\n",
       "    <tr>\n",
       "      <td>2</td>\n",
       "      <td>NCT00000134</td>\n",
       "      <td>18405159</td>\n",
       "      <td>Age</td>\n",
       "      <td>B3</td>\n",
       "      <td>&lt;=18 years</td>\n",
       "      <td>0.0</td>\n",
       "    </tr>\n",
       "    <tr>\n",
       "      <td>3</td>\n",
       "      <td>NCT00000134</td>\n",
       "      <td>18405160</td>\n",
       "      <td>Age</td>\n",
       "      <td>B2</td>\n",
       "      <td>&gt;=65 years</td>\n",
       "      <td>0.0</td>\n",
       "    </tr>\n",
       "    <tr>\n",
       "      <td>4</td>\n",
       "      <td>NCT00000134</td>\n",
       "      <td>18405160</td>\n",
       "      <td>Age</td>\n",
       "      <td>B2</td>\n",
       "      <td>Between 18 and 65 years</td>\n",
       "      <td>94.0</td>\n",
       "    </tr>\n",
       "  </tbody>\n",
       "</table>\n",
       "</div>"
      ],
      "text/plain": [
       "        nct_id  result_group_id title ctgov_group_code  \\\n",
       "0  NCT00000134         18405159   Age               B3   \n",
       "1  NCT00000134         18405159   Age               B3   \n",
       "2  NCT00000134         18405159   Age               B3   \n",
       "3  NCT00000134         18405160   Age               B2   \n",
       "4  NCT00000134         18405160   Age               B2   \n",
       "\n",
       "                  used_age  param_value_num  \n",
       "0               >=65 years              0.0  \n",
       "1  Between 18 and 65 years             96.0  \n",
       "2               <=18 years              0.0  \n",
       "3               >=65 years              0.0  \n",
       "4  Between 18 and 65 years             94.0  "
      ]
     },
     "execution_count": 61,
     "metadata": {},
     "output_type": "execute_result"
    }
   ],
   "source": [
    "df_more_than_two_arm = df_final_g15[df_final_g15['nct_id'].isin(nct_id_more_than_2arm)].reset_index(drop=True)\n",
    "df_more_than_two_arm.head()"
   ]
  },
  {
   "cell_type": "markdown",
   "metadata": {},
   "source": [
    "# 5. Outcome measurements"
   ]
  },
  {
   "cell_type": "code",
   "execution_count": 62,
   "metadata": {},
   "outputs": [],
   "source": [
    "omj = om.reset_index().add_prefix('om_')\n",
    "out_is_prim = out.set_index('id')['outcome_type']\n",
    "omj['isprim'] = omj['om_outcome_id'].apply(lambda x: out_is_prim[x])"
   ]
  },
  {
   "cell_type": "code",
   "execution_count": 63,
   "metadata": {},
   "outputs": [
    {
     "data": {
      "text/plain": [
       "(184406, 20)"
      ]
     },
     "execution_count": 63,
     "metadata": {},
     "output_type": "execute_result"
    }
   ],
   "source": [
    "used_dispersion_types = ['Standard Deviation', 'Standard Error']\n",
    "\n",
    "# filter outcome measurements by just those with mean and std measures\n",
    "omj_used = omj[(omj['om_param_type'] == 'Mean') & \n",
    "               (omj['om_dispersion_type'].isin(used_dispersion_types)) &\n",
    "               (omj['isprim'] == 'Primary')]\n",
    "\n",
    "omj_used.shape"
   ]
  },
  {
   "cell_type": "code",
   "execution_count": 65,
   "metadata": {},
   "outputs": [
    {
     "data": {
      "text/plain": [
       "10782"
      ]
     },
     "execution_count": 65,
     "metadata": {},
     "output_type": "execute_result"
    }
   ],
   "source": [
    "# studies from the baseline measurement race requirements above\n",
    "studies_w_race_info = df_more_than_two_arm['nct_id'].unique()\n",
    "len(studies_w_race_info)"
   ]
  },
  {
   "cell_type": "code",
   "execution_count": 66,
   "metadata": {},
   "outputs": [
    {
     "data": {
      "text/html": [
       "<div>\n",
       "<style scoped>\n",
       "    .dataframe tbody tr th:only-of-type {\n",
       "        vertical-align: middle;\n",
       "    }\n",
       "\n",
       "    .dataframe tbody tr th {\n",
       "        vertical-align: top;\n",
       "    }\n",
       "\n",
       "    .dataframe thead th {\n",
       "        text-align: right;\n",
       "    }\n",
       "</style>\n",
       "<table border=\"1\" class=\"dataframe\">\n",
       "  <thead>\n",
       "    <tr style=\"text-align: right;\">\n",
       "      <th></th>\n",
       "      <th>om_nct_id</th>\n",
       "      <th>om_result_group_id</th>\n",
       "      <th>om_outcome_id</th>\n",
       "      <th>om_id</th>\n",
       "      <th>om_ctgov_group_code</th>\n",
       "      <th>om_classification</th>\n",
       "      <th>om_category</th>\n",
       "      <th>om_title</th>\n",
       "      <th>om_description</th>\n",
       "      <th>om_units</th>\n",
       "      <th>om_param_type</th>\n",
       "      <th>om_param_value</th>\n",
       "      <th>om_param_value_num</th>\n",
       "      <th>om_dispersion_type</th>\n",
       "      <th>om_dispersion_value</th>\n",
       "      <th>om_dispersion_value_num</th>\n",
       "      <th>om_dispersion_lower_limit</th>\n",
       "      <th>om_dispersion_upper_limit</th>\n",
       "      <th>om_explanation_of_na</th>\n",
       "      <th>isprim</th>\n",
       "    </tr>\n",
       "  </thead>\n",
       "  <tbody>\n",
       "    <tr>\n",
       "      <td>22</td>\n",
       "      <td>NCT00000371</td>\n",
       "      <td>18405001</td>\n",
       "      <td>5589265</td>\n",
       "      <td>42918129</td>\n",
       "      <td>O2</td>\n",
       "      <td></td>\n",
       "      <td></td>\n",
       "      <td>Scale for the Assessment of Negative Symptoms ...</td>\n",
       "      <td>The slope of SANS total score from baseline to...</td>\n",
       "      <td>units on a scale/weeks</td>\n",
       "      <td>Mean</td>\n",
       "      <td>-.41</td>\n",
       "      <td>-0.41</td>\n",
       "      <td>Standard Error</td>\n",
       "      <td>.31</td>\n",
       "      <td>0.31</td>\n",
       "      <td>NaN</td>\n",
       "      <td>NaN</td>\n",
       "      <td></td>\n",
       "      <td>Primary</td>\n",
       "    </tr>\n",
       "    <tr>\n",
       "      <td>23</td>\n",
       "      <td>NCT00000371</td>\n",
       "      <td>18405002</td>\n",
       "      <td>5589265</td>\n",
       "      <td>42918130</td>\n",
       "      <td>O1</td>\n",
       "      <td></td>\n",
       "      <td></td>\n",
       "      <td>Scale for the Assessment of Negative Symptoms ...</td>\n",
       "      <td>The slope of SANS total score from baseline to...</td>\n",
       "      <td>units on a scale/weeks</td>\n",
       "      <td>Mean</td>\n",
       "      <td>-.46</td>\n",
       "      <td>-0.46</td>\n",
       "      <td>Standard Error</td>\n",
       "      <td>.29</td>\n",
       "      <td>0.29</td>\n",
       "      <td>NaN</td>\n",
       "      <td>NaN</td>\n",
       "      <td></td>\n",
       "      <td>Primary</td>\n",
       "    </tr>\n",
       "    <tr>\n",
       "      <td>24</td>\n",
       "      <td>NCT00000378</td>\n",
       "      <td>18404992</td>\n",
       "      <td>5589264</td>\n",
       "      <td>42918125</td>\n",
       "      <td>O2</td>\n",
       "      <td>12 WEEK DATA</td>\n",
       "      <td></td>\n",
       "      <td>HAMILTON Rating Scale for DEPRESSION Range</td>\n",
       "      <td>Hamilton scale range 0-40, values below 7 are ...</td>\n",
       "      <td>units on a scale</td>\n",
       "      <td>Mean</td>\n",
       "      <td>8.4</td>\n",
       "      <td>8.40</td>\n",
       "      <td>Standard Deviation</td>\n",
       "      <td>7.7</td>\n",
       "      <td>7.70</td>\n",
       "      <td>NaN</td>\n",
       "      <td>NaN</td>\n",
       "      <td></td>\n",
       "      <td>Primary</td>\n",
       "    </tr>\n",
       "    <tr>\n",
       "      <td>25</td>\n",
       "      <td>NCT00000378</td>\n",
       "      <td>18404992</td>\n",
       "      <td>5589264</td>\n",
       "      <td>42918127</td>\n",
       "      <td>O2</td>\n",
       "      <td>BASELINE</td>\n",
       "      <td></td>\n",
       "      <td>HAMILTON Rating Scale for DEPRESSION Range</td>\n",
       "      <td>Hamilton scale range 0-40, values below 7 are ...</td>\n",
       "      <td>units on a scale</td>\n",
       "      <td>Mean</td>\n",
       "      <td>27.1</td>\n",
       "      <td>27.10</td>\n",
       "      <td>Standard Deviation</td>\n",
       "      <td>4.4</td>\n",
       "      <td>4.40</td>\n",
       "      <td>NaN</td>\n",
       "      <td>NaN</td>\n",
       "      <td></td>\n",
       "      <td>Primary</td>\n",
       "    </tr>\n",
       "    <tr>\n",
       "      <td>26</td>\n",
       "      <td>NCT00000378</td>\n",
       "      <td>18404993</td>\n",
       "      <td>5589264</td>\n",
       "      <td>42918126</td>\n",
       "      <td>O1</td>\n",
       "      <td>12 WEEK DATA</td>\n",
       "      <td></td>\n",
       "      <td>HAMILTON Rating Scale for DEPRESSION Range</td>\n",
       "      <td>Hamilton scale range 0-40, values below 7 are ...</td>\n",
       "      <td>units on a scale</td>\n",
       "      <td>Mean</td>\n",
       "      <td>10.7</td>\n",
       "      <td>10.70</td>\n",
       "      <td>Standard Deviation</td>\n",
       "      <td>8.3</td>\n",
       "      <td>8.30</td>\n",
       "      <td>NaN</td>\n",
       "      <td>NaN</td>\n",
       "      <td></td>\n",
       "      <td>Primary</td>\n",
       "    </tr>\n",
       "  </tbody>\n",
       "</table>\n",
       "</div>"
      ],
      "text/plain": [
       "      om_nct_id  om_result_group_id  om_outcome_id     om_id  \\\n",
       "22  NCT00000371            18405001        5589265  42918129   \n",
       "23  NCT00000371            18405002        5589265  42918130   \n",
       "24  NCT00000378            18404992        5589264  42918125   \n",
       "25  NCT00000378            18404992        5589264  42918127   \n",
       "26  NCT00000378            18404993        5589264  42918126   \n",
       "\n",
       "   om_ctgov_group_code om_classification om_category  \\\n",
       "22                  O2                                 \n",
       "23                  O1                                 \n",
       "24                  O2      12 WEEK DATA               \n",
       "25                  O2          BASELINE               \n",
       "26                  O1      12 WEEK DATA               \n",
       "\n",
       "                                             om_title  \\\n",
       "22  Scale for the Assessment of Negative Symptoms ...   \n",
       "23  Scale for the Assessment of Negative Symptoms ...   \n",
       "24         HAMILTON Rating Scale for DEPRESSION Range   \n",
       "25         HAMILTON Rating Scale for DEPRESSION Range   \n",
       "26         HAMILTON Rating Scale for DEPRESSION Range   \n",
       "\n",
       "                                       om_description                om_units  \\\n",
       "22  The slope of SANS total score from baseline to...  units on a scale/weeks   \n",
       "23  The slope of SANS total score from baseline to...  units on a scale/weeks   \n",
       "24  Hamilton scale range 0-40, values below 7 are ...        units on a scale   \n",
       "25  Hamilton scale range 0-40, values below 7 are ...        units on a scale   \n",
       "26  Hamilton scale range 0-40, values below 7 are ...        units on a scale   \n",
       "\n",
       "   om_param_type om_param_value  om_param_value_num  om_dispersion_type  \\\n",
       "22          Mean           -.41               -0.41      Standard Error   \n",
       "23          Mean           -.46               -0.46      Standard Error   \n",
       "24          Mean            8.4                8.40  Standard Deviation   \n",
       "25          Mean           27.1               27.10  Standard Deviation   \n",
       "26          Mean           10.7               10.70  Standard Deviation   \n",
       "\n",
       "   om_dispersion_value  om_dispersion_value_num  om_dispersion_lower_limit  \\\n",
       "22                 .31                     0.31                        NaN   \n",
       "23                 .29                     0.29                        NaN   \n",
       "24                 7.7                     7.70                        NaN   \n",
       "25                 4.4                     4.40                        NaN   \n",
       "26                 8.3                     8.30                        NaN   \n",
       "\n",
       "    om_dispersion_upper_limit om_explanation_of_na   isprim  \n",
       "22                        NaN                       Primary  \n",
       "23                        NaN                       Primary  \n",
       "24                        NaN                       Primary  \n",
       "25                        NaN                       Primary  \n",
       "26                        NaN                       Primary  "
      ]
     },
     "execution_count": 66,
     "metadata": {},
     "output_type": "execute_result"
    }
   ],
   "source": [
    "omj_used.head()"
   ]
  },
  {
   "cell_type": "markdown",
   "metadata": {},
   "source": [
    "filter results to those that have equal number of groups"
   ]
  },
  {
   "cell_type": "code",
   "execution_count": 67,
   "metadata": {},
   "outputs": [
    {
     "data": {
      "text/plain": [
       "((4239, 2), (3859, 2))"
      ]
     },
     "execution_count": 67,
     "metadata": {},
     "output_type": "execute_result"
    }
   ],
   "source": [
    "omj_counts = omj_used.groupby('om_nct_id')[['om_ctgov_group_code']].nunique()\n",
    "df_counts = df_more_than_two_arm.groupby('nct_id')[['ctgov_group_code']].nunique()\n",
    "df_intersection = omj_counts.join(df_counts, how='inner')\n",
    "df_intersection_used = df_intersection[df_intersection['om_ctgov_group_code'] ==\n",
    "                                       df_intersection['ctgov_group_code']]\n",
    "\n",
    "df_intersection.shape, df_intersection_used.shape"
   ]
  },
  {
   "cell_type": "code",
   "execution_count": 69,
   "metadata": {},
   "outputs": [
    {
     "data": {
      "text/plain": [
       "(27808, 6)"
      ]
     },
     "execution_count": 69,
     "metadata": {},
     "output_type": "execute_result"
    }
   ],
   "source": [
    "# this dataframe contains the bucket splits for the baseline measurements, already filtered to intersection\n",
    "df_mta_intersect = df_more_than_two_arm[df_more_than_two_arm['nct_id'].isin(df_intersection_used.index)].copy()\n",
    "df_mta_intersect.shape"
   ]
  },
  {
   "cell_type": "code",
   "execution_count": 70,
   "metadata": {},
   "outputs": [
    {
     "data": {
      "text/plain": [
       "(34531, 20)"
      ]
     },
     "execution_count": 70,
     "metadata": {},
     "output_type": "execute_result"
    }
   ],
   "source": [
    "# this dataframe contains the bucket splits for the outcome measurements, now filtered to intersection\n",
    "omj_used_intersect = omj_used[omj_used['om_nct_id'].isin(df_intersection_used.index)].copy()\n",
    "omj_used_intersect.shape"
   ]
  },
  {
   "cell_type": "code",
   "execution_count": 71,
   "metadata": {},
   "outputs": [],
   "source": [
    "# extracting the numerical group numbers from each dataframe\n",
    "df_mta_intersect['group_num'] = df_mta_intersect['ctgov_group_code'].apply(lambda x: int(x[1:]))\n",
    "omj_used_intersect['group_num'] = omj_used_intersect['om_ctgov_group_code'].apply(lambda x: int(x[1:]))"
   ]
  },
  {
   "cell_type": "code",
   "execution_count": 72,
   "metadata": {},
   "outputs": [
    {
     "data": {
      "text/html": [
       "<div>\n",
       "<style scoped>\n",
       "    .dataframe tbody tr th:only-of-type {\n",
       "        vertical-align: middle;\n",
       "    }\n",
       "\n",
       "    .dataframe tbody tr th {\n",
       "        vertical-align: top;\n",
       "    }\n",
       "\n",
       "    .dataframe thead th {\n",
       "        text-align: right;\n",
       "    }\n",
       "</style>\n",
       "<table border=\"1\" class=\"dataframe\">\n",
       "  <thead>\n",
       "    <tr style=\"text-align: right;\">\n",
       "      <th></th>\n",
       "      <th>nct_id</th>\n",
       "      <th>result_group_id</th>\n",
       "      <th>title</th>\n",
       "      <th>ctgov_group_code</th>\n",
       "      <th>used_age</th>\n",
       "      <th>param_value_num</th>\n",
       "      <th>group_num</th>\n",
       "    </tr>\n",
       "  </thead>\n",
       "  <tbody>\n",
       "    <tr>\n",
       "      <td>36</td>\n",
       "      <td>NCT00000371</td>\n",
       "      <td>18404997</td>\n",
       "      <td>Age</td>\n",
       "      <td>B2</td>\n",
       "      <td>&gt;=65 years</td>\n",
       "      <td>0.0</td>\n",
       "      <td>2</td>\n",
       "    </tr>\n",
       "    <tr>\n",
       "      <td>37</td>\n",
       "      <td>NCT00000371</td>\n",
       "      <td>18404997</td>\n",
       "      <td>Age</td>\n",
       "      <td>B2</td>\n",
       "      <td>Between 18 and 65 years</td>\n",
       "      <td>28.0</td>\n",
       "      <td>2</td>\n",
       "    </tr>\n",
       "    <tr>\n",
       "      <td>38</td>\n",
       "      <td>NCT00000371</td>\n",
       "      <td>18404997</td>\n",
       "      <td>Age</td>\n",
       "      <td>B2</td>\n",
       "      <td>&lt;=18 years</td>\n",
       "      <td>0.0</td>\n",
       "      <td>2</td>\n",
       "    </tr>\n",
       "    <tr>\n",
       "      <td>39</td>\n",
       "      <td>NCT00000371</td>\n",
       "      <td>18404998</td>\n",
       "      <td>Age</td>\n",
       "      <td>B1</td>\n",
       "      <td>&gt;=65 years</td>\n",
       "      <td>0.0</td>\n",
       "      <td>1</td>\n",
       "    </tr>\n",
       "    <tr>\n",
       "      <td>40</td>\n",
       "      <td>NCT00000371</td>\n",
       "      <td>18404998</td>\n",
       "      <td>Age</td>\n",
       "      <td>B1</td>\n",
       "      <td>Between 18 and 65 years</td>\n",
       "      <td>27.0</td>\n",
       "      <td>1</td>\n",
       "    </tr>\n",
       "  </tbody>\n",
       "</table>\n",
       "</div>"
      ],
      "text/plain": [
       "         nct_id  result_group_id title ctgov_group_code  \\\n",
       "36  NCT00000371         18404997   Age               B2   \n",
       "37  NCT00000371         18404997   Age               B2   \n",
       "38  NCT00000371         18404997   Age               B2   \n",
       "39  NCT00000371         18404998   Age               B1   \n",
       "40  NCT00000371         18404998   Age               B1   \n",
       "\n",
       "                   used_age  param_value_num  group_num  \n",
       "36               >=65 years              0.0          2  \n",
       "37  Between 18 and 65 years             28.0          2  \n",
       "38               <=18 years              0.0          2  \n",
       "39               >=65 years              0.0          1  \n",
       "40  Between 18 and 65 years             27.0          1  "
      ]
     },
     "execution_count": 72,
     "metadata": {},
     "output_type": "execute_result"
    }
   ],
   "source": [
    "df_mta_intersect.head()"
   ]
  },
  {
   "cell_type": "code",
   "execution_count": 73,
   "metadata": {},
   "outputs": [
    {
     "data": {
      "text/html": [
       "<div>\n",
       "<style scoped>\n",
       "    .dataframe tbody tr th:only-of-type {\n",
       "        vertical-align: middle;\n",
       "    }\n",
       "\n",
       "    .dataframe tbody tr th {\n",
       "        vertical-align: top;\n",
       "    }\n",
       "\n",
       "    .dataframe thead th {\n",
       "        text-align: right;\n",
       "    }\n",
       "</style>\n",
       "<table border=\"1\" class=\"dataframe\">\n",
       "  <thead>\n",
       "    <tr style=\"text-align: right;\">\n",
       "      <th></th>\n",
       "      <th>om_nct_id</th>\n",
       "      <th>om_result_group_id</th>\n",
       "      <th>om_outcome_id</th>\n",
       "      <th>om_id</th>\n",
       "      <th>om_ctgov_group_code</th>\n",
       "      <th>om_classification</th>\n",
       "      <th>om_category</th>\n",
       "      <th>om_title</th>\n",
       "      <th>om_description</th>\n",
       "      <th>om_units</th>\n",
       "      <th>...</th>\n",
       "      <th>om_param_value</th>\n",
       "      <th>om_param_value_num</th>\n",
       "      <th>om_dispersion_type</th>\n",
       "      <th>om_dispersion_value</th>\n",
       "      <th>om_dispersion_value_num</th>\n",
       "      <th>om_dispersion_lower_limit</th>\n",
       "      <th>om_dispersion_upper_limit</th>\n",
       "      <th>om_explanation_of_na</th>\n",
       "      <th>isprim</th>\n",
       "      <th>group_num</th>\n",
       "    </tr>\n",
       "  </thead>\n",
       "  <tbody>\n",
       "    <tr>\n",
       "      <td>22</td>\n",
       "      <td>NCT00000371</td>\n",
       "      <td>18405001</td>\n",
       "      <td>5589265</td>\n",
       "      <td>42918129</td>\n",
       "      <td>O2</td>\n",
       "      <td></td>\n",
       "      <td></td>\n",
       "      <td>Scale for the Assessment of Negative Symptoms ...</td>\n",
       "      <td>The slope of SANS total score from baseline to...</td>\n",
       "      <td>units on a scale/weeks</td>\n",
       "      <td>...</td>\n",
       "      <td>-.41</td>\n",
       "      <td>-0.41</td>\n",
       "      <td>Standard Error</td>\n",
       "      <td>.31</td>\n",
       "      <td>0.31</td>\n",
       "      <td>NaN</td>\n",
       "      <td>NaN</td>\n",
       "      <td></td>\n",
       "      <td>Primary</td>\n",
       "      <td>2</td>\n",
       "    </tr>\n",
       "    <tr>\n",
       "      <td>23</td>\n",
       "      <td>NCT00000371</td>\n",
       "      <td>18405002</td>\n",
       "      <td>5589265</td>\n",
       "      <td>42918130</td>\n",
       "      <td>O1</td>\n",
       "      <td></td>\n",
       "      <td></td>\n",
       "      <td>Scale for the Assessment of Negative Symptoms ...</td>\n",
       "      <td>The slope of SANS total score from baseline to...</td>\n",
       "      <td>units on a scale/weeks</td>\n",
       "      <td>...</td>\n",
       "      <td>-.46</td>\n",
       "      <td>-0.46</td>\n",
       "      <td>Standard Error</td>\n",
       "      <td>.29</td>\n",
       "      <td>0.29</td>\n",
       "      <td>NaN</td>\n",
       "      <td>NaN</td>\n",
       "      <td></td>\n",
       "      <td>Primary</td>\n",
       "      <td>1</td>\n",
       "    </tr>\n",
       "  </tbody>\n",
       "</table>\n",
       "<p>2 rows × 21 columns</p>\n",
       "</div>"
      ],
      "text/plain": [
       "      om_nct_id  om_result_group_id  om_outcome_id     om_id  \\\n",
       "22  NCT00000371            18405001        5589265  42918129   \n",
       "23  NCT00000371            18405002        5589265  42918130   \n",
       "\n",
       "   om_ctgov_group_code om_classification om_category  \\\n",
       "22                  O2                                 \n",
       "23                  O1                                 \n",
       "\n",
       "                                             om_title  \\\n",
       "22  Scale for the Assessment of Negative Symptoms ...   \n",
       "23  Scale for the Assessment of Negative Symptoms ...   \n",
       "\n",
       "                                       om_description                om_units  \\\n",
       "22  The slope of SANS total score from baseline to...  units on a scale/weeks   \n",
       "23  The slope of SANS total score from baseline to...  units on a scale/weeks   \n",
       "\n",
       "    ... om_param_value om_param_value_num  om_dispersion_type  \\\n",
       "22  ...           -.41              -0.41      Standard Error   \n",
       "23  ...           -.46              -0.46      Standard Error   \n",
       "\n",
       "   om_dispersion_value om_dispersion_value_num  om_dispersion_lower_limit  \\\n",
       "22                 .31                    0.31                        NaN   \n",
       "23                 .29                    0.29                        NaN   \n",
       "\n",
       "    om_dispersion_upper_limit  om_explanation_of_na   isprim group_num  \n",
       "22                        NaN                        Primary         2  \n",
       "23                        NaN                        Primary         1  \n",
       "\n",
       "[2 rows x 21 columns]"
      ]
     },
     "execution_count": 73,
     "metadata": {},
     "output_type": "execute_result"
    }
   ],
   "source": [
    "omj_used_intersect.head(2)"
   ]
  },
  {
   "cell_type": "code",
   "execution_count": 74,
   "metadata": {},
   "outputs": [
    {
     "data": {
      "application/vnd.jupyter.widget-view+json": {
       "model_id": "d3bf0b2fd2274b2c9873a734b7f10eb8",
       "version_major": 2,
       "version_minor": 0
      },
      "text/plain": [
       "HBox(children=(IntProgress(value=0, max=3859), HTML(value='')))"
      ]
     },
     "metadata": {},
     "output_type": "display_data"
    },
    {
     "name": "stdout",
     "output_type": "stream",
     "text": [
      "did not add NCT00121641\n",
      "did not add NCT00128193\n",
      "did not add NCT00131378\n",
      "did not add NCT00381849\n",
      "did not add NCT00457743\n",
      "did not add NCT00624520\n",
      "did not add NCT00655083\n",
      "did not add NCT00671671\n",
      "did not add NCT00909155\n",
      "did not add NCT00915525\n",
      "did not add NCT01079390\n",
      "did not add NCT01642147\n",
      "did not add NCT01808209\n",
      "did not add NCT01822535\n",
      "did not add NCT01920854\n",
      "did not add NCT01933880\n",
      "did not add NCT01947283\n",
      "did not add NCT01947907\n",
      "did not add NCT02277119\n",
      "did not add NCT02310763\n",
      "did not add NCT02384993\n",
      "did not add NCT02511782\n",
      "did not add NCT02568475\n",
      "\n"
     ]
    }
   ],
   "source": [
    "# Set random seed here\n",
    "USED_RANDOM_SEED = 100\n",
    "np.random.seed(USED_RANDOM_SEED)\n",
    "\n",
    "selected_bm_rows = []\n",
    "selected_om_rows = []\n",
    "random_summary = {}\n",
    "\n",
    "\n",
    "# loop through studies to randomely select the groups, and 1 random primary outcome\n",
    "for nct_id in tqdm(df_intersection_used.index):\n",
    "    subdf_bm = df_mta_intersect[df_mta_intersect['nct_id'] == nct_id]\n",
    "    subdf_om = omj_used_intersect[omj_used_intersect['om_nct_id'] == nct_id]\n",
    "    \n",
    "    # 1 random outcome measure\n",
    "    possible_outcome_ids = subdf_om['om_outcome_id'].unique()\n",
    "    selected_outcome_id = np.random.choice(possible_outcome_ids)\n",
    "    subdf_om_used = subdf_om[subdf_om['om_outcome_id'] == selected_outcome_id]\n",
    "    \n",
    "    possible_groups = subdf_bm['group_num'].unique()\n",
    "    selected_groups = np.random.choice(possible_groups, 2, replace=False)  # no replacement\n",
    "    \n",
    "    selected_bm = subdf_bm[subdf_bm['group_num'].isin(selected_groups)]\n",
    "    selected_om = subdf_om_used[subdf_om_used['group_num'].isin(selected_groups)]\n",
    "    \n",
    "    select_bm_num_groups = len(selected_bm['group_num'].unique())\n",
    "    select_om_num_groups = len(selected_om['group_num'].unique())\n",
    "    \n",
    "    if select_bm_num_groups == select_om_num_groups:\n",
    "        # only capture the entry if there are rows in both\n",
    "        selected_bm_rows.append(selected_bm)\n",
    "        selected_om_rows.append(selected_om)\n",
    "\n",
    "        random_summary_entry = {\n",
    "            'total_bm_rows': subdf_bm.shape[0],\n",
    "            'total_om_rows': subdf_om.shape[0],\n",
    "            'num_outcome_measures': len(possible_outcome_ids),\n",
    "            'num_possible_groups': len(possible_groups),\n",
    "            'num_selected_groups': len(selected_groups),\n",
    "            'selected_bm_rows': selected_bm.shape[0],\n",
    "            'selected_om_rows': selected_om.shape[0]\n",
    "        }\n",
    "\n",
    "        random_summary[nct_id] = random_summary_entry\n",
    "    else:\n",
    "        print(\"did not add %s\" % nct_id)"
   ]
  },
  {
   "cell_type": "code",
   "execution_count": 75,
   "metadata": {},
   "outputs": [
    {
     "data": {
      "text/html": [
       "<div>\n",
       "<style scoped>\n",
       "    .dataframe tbody tr th:only-of-type {\n",
       "        vertical-align: middle;\n",
       "    }\n",
       "\n",
       "    .dataframe tbody tr th {\n",
       "        vertical-align: top;\n",
       "    }\n",
       "\n",
       "    .dataframe thead th {\n",
       "        text-align: right;\n",
       "    }\n",
       "</style>\n",
       "<table border=\"1\" class=\"dataframe\">\n",
       "  <thead>\n",
       "    <tr style=\"text-align: right;\">\n",
       "      <th></th>\n",
       "      <th>total_bm_rows</th>\n",
       "      <th>total_om_rows</th>\n",
       "      <th>num_outcome_measures</th>\n",
       "      <th>num_possible_groups</th>\n",
       "      <th>num_selected_groups</th>\n",
       "      <th>selected_bm_rows</th>\n",
       "      <th>selected_om_rows</th>\n",
       "    </tr>\n",
       "    <tr>\n",
       "      <th>nct_id</th>\n",
       "      <th></th>\n",
       "      <th></th>\n",
       "      <th></th>\n",
       "      <th></th>\n",
       "      <th></th>\n",
       "      <th></th>\n",
       "      <th></th>\n",
       "    </tr>\n",
       "  </thead>\n",
       "  <tbody>\n",
       "    <tr>\n",
       "      <td>NCT00000371</td>\n",
       "      <td>6</td>\n",
       "      <td>2</td>\n",
       "      <td>1</td>\n",
       "      <td>2</td>\n",
       "      <td>2</td>\n",
       "      <td>6</td>\n",
       "      <td>2</td>\n",
       "    </tr>\n",
       "    <tr>\n",
       "      <td>NCT00000378</td>\n",
       "      <td>6</td>\n",
       "      <td>4</td>\n",
       "      <td>1</td>\n",
       "      <td>2</td>\n",
       "      <td>2</td>\n",
       "      <td>6</td>\n",
       "      <td>4</td>\n",
       "    </tr>\n",
       "    <tr>\n",
       "      <td>NCT00000392</td>\n",
       "      <td>2</td>\n",
       "      <td>2</td>\n",
       "      <td>1</td>\n",
       "      <td>2</td>\n",
       "      <td>2</td>\n",
       "      <td>2</td>\n",
       "      <td>2</td>\n",
       "    </tr>\n",
       "    <tr>\n",
       "      <td>NCT00000575</td>\n",
       "      <td>9</td>\n",
       "      <td>3</td>\n",
       "      <td>1</td>\n",
       "      <td>3</td>\n",
       "      <td>2</td>\n",
       "      <td>6</td>\n",
       "      <td>2</td>\n",
       "    </tr>\n",
       "    <tr>\n",
       "      <td>NCT00001262</td>\n",
       "      <td>9</td>\n",
       "      <td>12</td>\n",
       "      <td>4</td>\n",
       "      <td>3</td>\n",
       "      <td>2</td>\n",
       "      <td>6</td>\n",
       "      <td>2</td>\n",
       "    </tr>\n",
       "  </tbody>\n",
       "</table>\n",
       "</div>"
      ],
      "text/plain": [
       "             total_bm_rows  total_om_rows  num_outcome_measures  \\\n",
       "nct_id                                                            \n",
       "NCT00000371              6              2                     1   \n",
       "NCT00000378              6              4                     1   \n",
       "NCT00000392              2              2                     1   \n",
       "NCT00000575              9              3                     1   \n",
       "NCT00001262              9             12                     4   \n",
       "\n",
       "             num_possible_groups  num_selected_groups  selected_bm_rows  \\\n",
       "nct_id                                                                    \n",
       "NCT00000371                    2                    2                 6   \n",
       "NCT00000378                    2                    2                 6   \n",
       "NCT00000392                    2                    2                 2   \n",
       "NCT00000575                    3                    2                 6   \n",
       "NCT00001262                    3                    2                 6   \n",
       "\n",
       "             selected_om_rows  \n",
       "nct_id                         \n",
       "NCT00000371                 2  \n",
       "NCT00000378                 4  \n",
       "NCT00000392                 2  \n",
       "NCT00000575                 2  \n",
       "NCT00001262                 2  "
      ]
     },
     "execution_count": 75,
     "metadata": {},
     "output_type": "execute_result"
    }
   ],
   "source": [
    "df_random_summ = pd.DataFrame(random_summary).T\n",
    "df_random_summ.index.name = 'nct_id'\n",
    "df_random_summ.head()"
   ]
  },
  {
   "cell_type": "code",
   "execution_count": 76,
   "metadata": {},
   "outputs": [],
   "source": [
    "df_selected_bm = pd.concat(selected_bm_rows)\n",
    "df_selected_om = pd.concat(selected_om_rows)"
   ]
  },
  {
   "cell_type": "code",
   "execution_count": 77,
   "metadata": {},
   "outputs": [
    {
     "data": {
      "text/plain": [
       "2    3836\n",
       "Name: ctgov_group_code, dtype: int64"
      ]
     },
     "execution_count": 77,
     "metadata": {},
     "output_type": "execute_result"
    }
   ],
   "source": [
    "num_groups_bm = df_selected_bm.groupby('nct_id')['ctgov_group_code'].nunique()\n",
    "num_groups_bm.value_counts()"
   ]
  },
  {
   "cell_type": "code",
   "execution_count": 78,
   "metadata": {},
   "outputs": [
    {
     "data": {
      "text/plain": [
       "2    3836\n",
       "Name: om_ctgov_group_code, dtype: int64"
      ]
     },
     "execution_count": 78,
     "metadata": {},
     "output_type": "execute_result"
    }
   ],
   "source": [
    "df_selected_om.groupby('om_nct_id')['om_ctgov_group_code'].nunique().value_counts()"
   ]
  },
  {
   "cell_type": "code",
   "execution_count": 79,
   "metadata": {},
   "outputs": [
    {
     "data": {
      "text/plain": [
       "(3836, 3836)"
      ]
     },
     "execution_count": 79,
     "metadata": {},
     "output_type": "execute_result"
    }
   ],
   "source": [
    "# number of final studies to compute imbalance and measurements\n",
    "nct_id_bm = df_selected_bm['nct_id'].unique()\n",
    "nct_id_om = df_selected_om['om_nct_id'].unique() \n",
    "\n",
    "len(nct_id_bm), len(nct_id_om)"
   ]
  },
  {
   "cell_type": "code",
   "execution_count": 80,
   "metadata": {},
   "outputs": [
    {
     "data": {
      "text/plain": [
       "array(['NCT00000371', 'NCT00000378', 'NCT00000392', ..., 'NCT04502979',\n",
       "       'NCT04512482', 'NCT04574999'], dtype=object)"
      ]
     },
     "execution_count": 80,
     "metadata": {},
     "output_type": "execute_result"
    }
   ],
   "source": [
    "final_nct_id_list = df_selected_bm['nct_id'].unique()\n",
    "final_nct_id_list"
   ]
  },
  {
   "cell_type": "markdown",
   "metadata": {},
   "source": [
    "### Previously this count was 1.2k"
   ]
  },
  {
   "cell_type": "markdown",
   "metadata": {},
   "source": [
    "## On the outcome counts, getting the primary counts"
   ]
  },
  {
   "cell_type": "code",
   "execution_count": 81,
   "metadata": {},
   "outputs": [
    {
     "data": {
      "text/plain": [
       "3836"
      ]
     },
     "execution_count": 81,
     "metadata": {},
     "output_type": "execute_result"
    }
   ],
   "source": [
    "# requires the outcome table and the outcome_counts table\n",
    "ocj = oc.reset_index().add_prefix('oc_')\n",
    "out_ocj = out[['id', 'outcome_type']].reset_index().add_prefix('oco_')\n",
    "\n",
    "ocoj = ocj.merge(out_ocj,\n",
    "                 how='inner', \n",
    "                 left_on=['oc_nct_id', 'oc_outcome_id'],\n",
    "                 right_on=['oco_nct_id', 'oco_id'])\n",
    "ocoj_in_set = ocoj[ocoj['oc_nct_id'].isin(final_nct_id_list)]\n",
    "\n",
    "# only keep counts on primary out comes\n",
    "ocoj_primary = ocoj_in_set[ocoj_in_set['oco_outcome_type'] == 'Primary']\n",
    "\n",
    "len(ocoj_primary['oc_nct_id'].unique())"
   ]
  },
  {
   "cell_type": "code",
   "execution_count": 82,
   "metadata": {},
   "outputs": [
    {
     "data": {
      "application/vnd.jupyter.widget-view+json": {
       "model_id": "53084e4de453416aaed4a3ba54d2abab",
       "version_major": 2,
       "version_minor": 0
      },
      "text/plain": [
       "HBox(children=(IntProgress(value=0, max=3836), HTML(value='')))"
      ]
     },
     "metadata": {},
     "output_type": "display_data"
    },
    {
     "name": "stdout",
     "output_type": "stream",
     "text": [
      "\n"
     ]
    },
    {
     "data": {
      "text/html": [
       "<div>\n",
       "<style scoped>\n",
       "    .dataframe tbody tr th:only-of-type {\n",
       "        vertical-align: middle;\n",
       "    }\n",
       "\n",
       "    .dataframe tbody tr th {\n",
       "        vertical-align: top;\n",
       "    }\n",
       "\n",
       "    .dataframe thead th {\n",
       "        text-align: right;\n",
       "    }\n",
       "</style>\n",
       "<table border=\"1\" class=\"dataframe\">\n",
       "  <thead>\n",
       "    <tr style=\"text-align: right;\">\n",
       "      <th></th>\n",
       "      <th>ct_nct_id</th>\n",
       "      <th>ct_ctgov_group_code</th>\n",
       "      <th>ct_num_participants</th>\n",
       "      <th>ct_num_measures</th>\n",
       "    </tr>\n",
       "  </thead>\n",
       "  <tbody>\n",
       "    <tr>\n",
       "      <td>0</td>\n",
       "      <td>NCT00000371</td>\n",
       "      <td>O2</td>\n",
       "      <td>27</td>\n",
       "      <td>27</td>\n",
       "    </tr>\n",
       "    <tr>\n",
       "      <td>1</td>\n",
       "      <td>NCT00000371</td>\n",
       "      <td>O1</td>\n",
       "      <td>28</td>\n",
       "      <td>28</td>\n",
       "    </tr>\n",
       "    <tr>\n",
       "      <td>2</td>\n",
       "      <td>NCT00000378</td>\n",
       "      <td>O2</td>\n",
       "      <td>52</td>\n",
       "      <td>52</td>\n",
       "    </tr>\n",
       "    <tr>\n",
       "      <td>3</td>\n",
       "      <td>NCT00000378</td>\n",
       "      <td>O1</td>\n",
       "      <td>58</td>\n",
       "      <td>58</td>\n",
       "    </tr>\n",
       "    <tr>\n",
       "      <td>4</td>\n",
       "      <td>NCT00000392</td>\n",
       "      <td>O2</td>\n",
       "      <td>77</td>\n",
       "      <td>77</td>\n",
       "    </tr>\n",
       "    <tr>\n",
       "      <td>...</td>\n",
       "      <td>...</td>\n",
       "      <td>...</td>\n",
       "      <td>...</td>\n",
       "      <td>...</td>\n",
       "    </tr>\n",
       "    <tr>\n",
       "      <td>9269</td>\n",
       "      <td>NCT04502979</td>\n",
       "      <td>O1</td>\n",
       "      <td>28</td>\n",
       "      <td>28</td>\n",
       "    </tr>\n",
       "    <tr>\n",
       "      <td>9270</td>\n",
       "      <td>NCT04512482</td>\n",
       "      <td>O2</td>\n",
       "      <td>43</td>\n",
       "      <td>43</td>\n",
       "    </tr>\n",
       "    <tr>\n",
       "      <td>9271</td>\n",
       "      <td>NCT04512482</td>\n",
       "      <td>O1</td>\n",
       "      <td>43</td>\n",
       "      <td>43</td>\n",
       "    </tr>\n",
       "    <tr>\n",
       "      <td>9272</td>\n",
       "      <td>NCT04574999</td>\n",
       "      <td>O2</td>\n",
       "      <td>53</td>\n",
       "      <td>53</td>\n",
       "    </tr>\n",
       "    <tr>\n",
       "      <td>9273</td>\n",
       "      <td>NCT04574999</td>\n",
       "      <td>O1</td>\n",
       "      <td>114</td>\n",
       "      <td>114</td>\n",
       "    </tr>\n",
       "  </tbody>\n",
       "</table>\n",
       "<p>9274 rows × 4 columns</p>\n",
       "</div>"
      ],
      "text/plain": [
       "        ct_nct_id ct_ctgov_group_code  ct_num_participants  ct_num_measures\n",
       "0     NCT00000371                  O2                   27               27\n",
       "1     NCT00000371                  O1                   28               28\n",
       "2     NCT00000378                  O2                   52               52\n",
       "3     NCT00000378                  O1                   58               58\n",
       "4     NCT00000392                  O2                   77               77\n",
       "...           ...                 ...                  ...              ...\n",
       "9269  NCT04502979                  O1                   28               28\n",
       "9270  NCT04512482                  O2                   43               43\n",
       "9271  NCT04512482                  O1                   43               43\n",
       "9272  NCT04574999                  O2                   53               53\n",
       "9273  NCT04574999                  O1                  114              114\n",
       "\n",
       "[9274 rows x 4 columns]"
      ]
     },
     "execution_count": 82,
     "metadata": {},
     "output_type": "execute_result"
    }
   ],
   "source": [
    "# extracting the outcome counts:\n",
    "res_dict = {}\n",
    "\n",
    "for nct_id in tqdm(ocoj_primary['oc_nct_id'].unique()):\n",
    "    #print(nct_id)\n",
    "    sub_df = ocoj_primary[ocoj_primary['oc_nct_id'] == nct_id]\n",
    "    for gcode in sub_df['oc_ctgov_group_code'].unique():\n",
    "        sub_df_gc = sub_df[sub_df['oc_ctgov_group_code'] == gcode]\n",
    "        type_units = sub_df_gc['oc_units'].unique()\n",
    "\n",
    "        if len(type_units) == 1:\n",
    "            num_participants = sub_df_gc['oc_count'].values[0]\n",
    "            num_measures = sub_df_gc['oc_count'].values[0]  # same as participants\n",
    "        elif len(type_units) == 2:\n",
    "            num_participants = sub_df_gc[sub_df_gc['oc_units'] == 'Participants']['oc_count'].values[0]\n",
    "            num_measures = sub_df_gc[sub_df_gc['oc_units'] != 'Participants']['oc_count'].values[0]\n",
    "\n",
    "        res_dict[(nct_id, gcode)] = {\n",
    "            'num_participants': num_participants,\n",
    "            'num_measures': num_measures,\n",
    "        }\n",
    "        \n",
    "df_counts = pd.DataFrame(res_dict).T\n",
    "df_counts.index.names = ['nct_id', 'ctgov_group_code']\n",
    "df_counts = df_counts.reset_index().add_prefix('ct_')\n",
    "df_counts"
   ]
  },
  {
   "cell_type": "code",
   "execution_count": 83,
   "metadata": {},
   "outputs": [],
   "source": [
    "df_selected_om_w_counts = df_selected_om.merge(df_counts,\n",
    "                                               how='inner',\n",
    "                                               left_on=['om_nct_id', 'om_ctgov_group_code'],\n",
    "                                               right_on=['ct_nct_id', 'ct_ctgov_group_code'])"
   ]
  },
  {
   "cell_type": "code",
   "execution_count": 84,
   "metadata": {},
   "outputs": [
    {
     "data": {
      "text/plain": [
       "(13430, 25)"
      ]
     },
     "execution_count": 84,
     "metadata": {},
     "output_type": "execute_result"
    }
   ],
   "source": [
    "df_selected_om_w_counts.shape"
   ]
  },
  {
   "cell_type": "code",
   "execution_count": 85,
   "metadata": {},
   "outputs": [
    {
     "data": {
      "text/plain": [
       "(22868, 7)"
      ]
     },
     "execution_count": 85,
     "metadata": {},
     "output_type": "execute_result"
    }
   ],
   "source": [
    "df_selected_bm.shape"
   ]
  },
  {
   "cell_type": "code",
   "execution_count": 86,
   "metadata": {},
   "outputs": [
    {
     "data": {
      "text/html": [
       "<div>\n",
       "<style scoped>\n",
       "    .dataframe tbody tr th:only-of-type {\n",
       "        vertical-align: middle;\n",
       "    }\n",
       "\n",
       "    .dataframe tbody tr th {\n",
       "        vertical-align: top;\n",
       "    }\n",
       "\n",
       "    .dataframe thead th {\n",
       "        text-align: right;\n",
       "    }\n",
       "</style>\n",
       "<table border=\"1\" class=\"dataframe\">\n",
       "  <thead>\n",
       "    <tr style=\"text-align: right;\">\n",
       "      <th></th>\n",
       "      <th>nct_id</th>\n",
       "      <th>result_group_id</th>\n",
       "      <th>title</th>\n",
       "      <th>ctgov_group_code</th>\n",
       "      <th>used_age</th>\n",
       "      <th>param_value_num</th>\n",
       "      <th>group_num</th>\n",
       "    </tr>\n",
       "  </thead>\n",
       "  <tbody>\n",
       "    <tr>\n",
       "      <td>36</td>\n",
       "      <td>NCT00000371</td>\n",
       "      <td>18404997</td>\n",
       "      <td>Age</td>\n",
       "      <td>B2</td>\n",
       "      <td>&gt;=65 years</td>\n",
       "      <td>0.0</td>\n",
       "      <td>2</td>\n",
       "    </tr>\n",
       "    <tr>\n",
       "      <td>37</td>\n",
       "      <td>NCT00000371</td>\n",
       "      <td>18404997</td>\n",
       "      <td>Age</td>\n",
       "      <td>B2</td>\n",
       "      <td>Between 18 and 65 years</td>\n",
       "      <td>28.0</td>\n",
       "      <td>2</td>\n",
       "    </tr>\n",
       "    <tr>\n",
       "      <td>38</td>\n",
       "      <td>NCT00000371</td>\n",
       "      <td>18404997</td>\n",
       "      <td>Age</td>\n",
       "      <td>B2</td>\n",
       "      <td>&lt;=18 years</td>\n",
       "      <td>0.0</td>\n",
       "      <td>2</td>\n",
       "    </tr>\n",
       "    <tr>\n",
       "      <td>39</td>\n",
       "      <td>NCT00000371</td>\n",
       "      <td>18404998</td>\n",
       "      <td>Age</td>\n",
       "      <td>B1</td>\n",
       "      <td>&gt;=65 years</td>\n",
       "      <td>0.0</td>\n",
       "      <td>1</td>\n",
       "    </tr>\n",
       "    <tr>\n",
       "      <td>40</td>\n",
       "      <td>NCT00000371</td>\n",
       "      <td>18404998</td>\n",
       "      <td>Age</td>\n",
       "      <td>B1</td>\n",
       "      <td>Between 18 and 65 years</td>\n",
       "      <td>27.0</td>\n",
       "      <td>1</td>\n",
       "    </tr>\n",
       "  </tbody>\n",
       "</table>\n",
       "</div>"
      ],
      "text/plain": [
       "         nct_id  result_group_id title ctgov_group_code  \\\n",
       "36  NCT00000371         18404997   Age               B2   \n",
       "37  NCT00000371         18404997   Age               B2   \n",
       "38  NCT00000371         18404997   Age               B2   \n",
       "39  NCT00000371         18404998   Age               B1   \n",
       "40  NCT00000371         18404998   Age               B1   \n",
       "\n",
       "                   used_age  param_value_num  group_num  \n",
       "36               >=65 years              0.0          2  \n",
       "37  Between 18 and 65 years             28.0          2  \n",
       "38               <=18 years              0.0          2  \n",
       "39               >=65 years              0.0          1  \n",
       "40  Between 18 and 65 years             27.0          1  "
      ]
     },
     "execution_count": 86,
     "metadata": {},
     "output_type": "execute_result"
    }
   ],
   "source": [
    "df_selected_bm.head()"
   ]
  },
  {
   "cell_type": "code",
   "execution_count": 87,
   "metadata": {},
   "outputs": [],
   "source": [
    "df_selected_om_w_counts.to_pickle('om.p')\n",
    "df_selected_bm.to_pickle('bm.p')"
   ]
  },
  {
   "cell_type": "markdown",
   "metadata": {},
   "source": [
    "## Incorporate result group data into the output measurements "
   ]
  },
  {
   "cell_type": "code",
   "execution_count": 88,
   "metadata": {},
   "outputs": [
    {
     "data": {
      "text/plain": [
       "(13430, 31)"
      ]
     },
     "execution_count": 88,
     "metadata": {},
     "output_type": "execute_result"
    }
   ],
   "source": [
    "# joining the result groups to dfom\n",
    "rg_omj = rg.reset_index().add_prefix(\"rgom_\")\n",
    "dfom_final_ij = df_selected_om_w_counts.merge(rg_omj,\n",
    "                                              how='inner',\n",
    "                                              left_on=['om_nct_id', 'om_result_group_id'],\n",
    "                                              right_on=['rgom_nct_id', 'rgom_id'])\n",
    "dfom_final_ij.shape"
   ]
  },
  {
   "cell_type": "code",
   "execution_count": 89,
   "metadata": {},
   "outputs": [
    {
     "data": {
      "text/plain": [
       "(22868, 13)"
      ]
     },
     "execution_count": 89,
     "metadata": {},
     "output_type": "execute_result"
    }
   ],
   "source": [
    "# joining the result groups to dfbm\n",
    "rg_bmj = rg.reset_index().add_prefix(\"rgbm_\")\n",
    "dfbm_final_ij = df_selected_bm.merge(rg_bmj,\n",
    "                                     how='inner',\n",
    "                                     left_on=['nct_id', 'result_group_id'],\n",
    "                                     right_on=['rgbm_nct_id', 'rgbm_id'])\n",
    "dfbm_final_ij.shape"
   ]
  },
  {
   "cell_type": "code",
   "execution_count": 90,
   "metadata": {},
   "outputs": [],
   "source": [
    "# saving pickles\n",
    "dfbm_final_ij.to_pickle('final_bm.p')\n",
    "dfom_final_ij.to_pickle('final_om.p')"
   ]
  },
  {
   "cell_type": "markdown",
   "metadata": {},
   "source": [
    "# 7. Compute imbalance and effect from the data\n",
    "\n",
    "**Imbalance:**\n",
    "\n",
    "Let $a_1, a_2, ..., a_n$ be % of the participants by race in group 1\n",
    "\n",
    "Let $b_1, b_2, ..., b_n$ be % of the participants by race in group 2\n",
    "\n",
    "Where n is the number of race classes in the study.\n",
    "\n",
    "Define imbalance as: \n",
    "\n",
    "$ \\sqrt{ \\Sigma_{i=1}^{n} (a_i - b_i) ^ 2 }$\n",
    "\n",
    "Can see in the extreme cases:\n",
    "\n",
    "1) if $a_i = b_i, \\forall i$ Then the imbalance measure = 0\n",
    "\n",
    "2) if fully disjoint, i.e. $a_i = 0 \\text{ or } b_i = 0 , \\forall i$, then imbalance measure = 1"
   ]
  },
  {
   "cell_type": "markdown",
   "metadata": {},
   "source": [
    "**Effect:**\n",
    "\n",
    "$$ \\left\\lvert \\frac{\\text{Mean Outcome in Arm 1 − Mean Outcome in Arm 2}}{\\text{Standard Error of Outcomes}} \\right\\rvert $$\n",
    "\n",
    "Where denominator: Standard Error of Outcomes is estimated as Follows:\n",
    "\n",
    "Let $n_1, n_2$ be reported number of measurements in group 1 and 2 respectively\n",
    "\n",
    "Let $\\sigma_1, \\sigma_2$ be the reported standard deviation of the measurements in group 1 and 2 respectively\n",
    "\n",
    "Estimated Standard Error of Outcomes = \n",
    "$$\\sqrt{\\frac{n_1 \\sigma_1^2 + n_2 \\sigma_2^2}{n_1 + n_2}}$$"
   ]
  },
  {
   "cell_type": "code",
   "execution_count": 94,
   "metadata": {},
   "outputs": [
    {
     "data": {
      "application/vnd.jupyter.widget-view+json": {
       "model_id": "0983b90e2acc4396aa74acf7d12d92a4",
       "version_major": 2,
       "version_minor": 0
      },
      "text/plain": [
       "HBox(children=(IntProgress(value=0, max=3836), HTML(value='')))"
      ]
     },
     "metadata": {},
     "output_type": "display_data"
    },
    {
     "name": "stderr",
     "output_type": "stream",
     "text": [
      "/home/rmfeng/miniconda3/envs/capstone/lib/python3.6/site-packages/ipykernel_launcher.py:26: RuntimeWarning: invalid value encountered in double_scalars\n",
      "/home/rmfeng/miniconda3/envs/capstone/lib/python3.6/site-packages/ipykernel_launcher.py:28: RuntimeWarning: divide by zero encountered in double_scalars\n",
      "/home/rmfeng/miniconda3/envs/capstone/lib/python3.6/site-packages/ipykernel_launcher.py:28: RuntimeWarning: invalid value encountered in double_scalars\n"
     ]
    },
    {
     "name": "stdout",
     "output_type": "stream",
     "text": [
      "\n"
     ]
    },
    {
     "data": {
      "text/html": [
       "<div>\n",
       "<style scoped>\n",
       "    .dataframe tbody tr th:only-of-type {\n",
       "        vertical-align: middle;\n",
       "    }\n",
       "\n",
       "    .dataframe tbody tr th {\n",
       "        vertical-align: top;\n",
       "    }\n",
       "\n",
       "    .dataframe thead th {\n",
       "        text-align: right;\n",
       "    }\n",
       "</style>\n",
       "<table border=\"1\" class=\"dataframe\">\n",
       "  <thead>\n",
       "    <tr style=\"text-align: right;\">\n",
       "      <th></th>\n",
       "      <th>effect</th>\n",
       "      <th>g1_mean</th>\n",
       "      <th>g2_mean</th>\n",
       "      <th>g1_sd_sample</th>\n",
       "      <th>g2_sd_sample</th>\n",
       "      <th>imbal</th>\n",
       "      <th>ngrps</th>\n",
       "      <th>g1t</th>\n",
       "      <th>g2t</th>\n",
       "      <th>g1counts</th>\n",
       "      <th>g2counts</th>\n",
       "      <th>grouplabels</th>\n",
       "    </tr>\n",
       "  </thead>\n",
       "  <tbody>\n",
       "    <tr>\n",
       "      <td>NCT00000371</td>\n",
       "      <td>0.0317977</td>\n",
       "      <td>27</td>\n",
       "      <td>28</td>\n",
       "      <td>1.61081</td>\n",
       "      <td>1.53454</td>\n",
       "      <td>0</td>\n",
       "      <td>3</td>\n",
       "      <td>27</td>\n",
       "      <td>28</td>\n",
       "      <td>[0.0, 0.0, 27.0]</td>\n",
       "      <td>[0.0, 0.0, 28.0]</td>\n",
       "      <td>[&lt;=18 years, &gt;=65 years, Between 18 and 65 years]</td>\n",
       "    </tr>\n",
       "    <tr>\n",
       "      <td>NCT00000378</td>\n",
       "      <td>2.982</td>\n",
       "      <td>52</td>\n",
       "      <td>52</td>\n",
       "      <td>7.7</td>\n",
       "      <td>4.4</td>\n",
       "      <td>0.0862783</td>\n",
       "      <td>3</td>\n",
       "      <td>58</td>\n",
       "      <td>52</td>\n",
       "      <td>[0.0, 50.0, 8.0]</td>\n",
       "      <td>[0.0, 48.0, 4.0]</td>\n",
       "      <td>[&lt;=18 years, &gt;=65 years, Between 18 and 65 years]</td>\n",
       "    </tr>\n",
       "    <tr>\n",
       "      <td>NCT00000392</td>\n",
       "      <td>0.237493</td>\n",
       "      <td>77</td>\n",
       "      <td>66</td>\n",
       "      <td>0.263249</td>\n",
       "      <td>0.406202</td>\n",
       "      <td>0</td>\n",
       "      <td>1</td>\n",
       "      <td>60</td>\n",
       "      <td>62</td>\n",
       "      <td>[60.0]</td>\n",
       "      <td>[62.0]</td>\n",
       "      <td>[18-39 years]</td>\n",
       "    </tr>\n",
       "    <tr>\n",
       "      <td>NCT00000575</td>\n",
       "      <td>0.114583</td>\n",
       "      <td>307</td>\n",
       "      <td>306</td>\n",
       "      <td>9.6</td>\n",
       "      <td>9.6</td>\n",
       "      <td>0</td>\n",
       "      <td>3</td>\n",
       "      <td>311</td>\n",
       "      <td>312</td>\n",
       "      <td>[311.0, 0.0, 0.0]</td>\n",
       "      <td>[312.0, 0.0, 0.0]</td>\n",
       "      <td>[&lt;=18 years, &gt;=65 years, Between 18 and 65 years]</td>\n",
       "    </tr>\n",
       "    <tr>\n",
       "      <td>NCT00001262</td>\n",
       "      <td>1.37185</td>\n",
       "      <td>22</td>\n",
       "      <td>35</td>\n",
       "      <td>1.652</td>\n",
       "      <td>12.762</td>\n",
       "      <td>0</td>\n",
       "      <td>3</td>\n",
       "      <td>35</td>\n",
       "      <td>22</td>\n",
       "      <td>[35.0, 0.0, 0.0]</td>\n",
       "      <td>[22.0, 0.0, 0.0]</td>\n",
       "      <td>[&lt;=18 years, &gt;=65 years, Between 18 and 65 years]</td>\n",
       "    </tr>\n",
       "  </tbody>\n",
       "</table>\n",
       "</div>"
      ],
      "text/plain": [
       "                effect g1_mean g2_mean g1_sd_sample g2_sd_sample      imbal  \\\n",
       "NCT00000371  0.0317977      27      28      1.61081      1.53454          0   \n",
       "NCT00000378      2.982      52      52          7.7          4.4  0.0862783   \n",
       "NCT00000392   0.237493      77      66     0.263249     0.406202          0   \n",
       "NCT00000575   0.114583     307     306          9.6          9.6          0   \n",
       "NCT00001262    1.37185      22      35        1.652       12.762          0   \n",
       "\n",
       "            ngrps  g1t  g2t           g1counts           g2counts  \\\n",
       "NCT00000371     3   27   28   [0.0, 0.0, 27.0]   [0.0, 0.0, 28.0]   \n",
       "NCT00000378     3   58   52   [0.0, 50.0, 8.0]   [0.0, 48.0, 4.0]   \n",
       "NCT00000392     1   60   62             [60.0]             [62.0]   \n",
       "NCT00000575     3  311  312  [311.0, 0.0, 0.0]  [312.0, 0.0, 0.0]   \n",
       "NCT00001262     3   35   22   [35.0, 0.0, 0.0]   [22.0, 0.0, 0.0]   \n",
       "\n",
       "                                                   grouplabels  \n",
       "NCT00000371  [<=18 years, >=65 years, Between 18 and 65 years]  \n",
       "NCT00000378  [<=18 years, >=65 years, Between 18 and 65 years]  \n",
       "NCT00000392                                      [18-39 years]  \n",
       "NCT00000575  [<=18 years, >=65 years, Between 18 and 65 years]  \n",
       "NCT00001262  [<=18 years, >=65 years, Between 18 and 65 years]  "
      ]
     },
     "execution_count": 94,
     "metadata": {},
     "output_type": "execute_result"
    }
   ],
   "source": [
    "# loop to compute all effects and imbalances\n",
    "all_res = {}  # storing final results\n",
    "\n",
    "for nct_id in tqdm(dfom_final_ij['om_nct_id'].unique()):\n",
    "    all_res[nct_id] = {}  # inner dict for storage\n",
    "    sub_om = dfom_final_ij[dfom_final_ij['om_nct_id'] == nct_id]\n",
    "    sub_bm = dfbm_final_ij[dfbm_final_ij['nct_id'] == nct_id]\n",
    "    \n",
    "    # difference in mean\n",
    "    abs_mean_diff = np.abs(sub_om['om_param_value_num'].values[0] - sub_om['om_param_value_num'].values[1])\n",
    "    \n",
    "    # standard error estimate\n",
    "    sd_type1 = sub_om['om_dispersion_type'].values[0]\n",
    "    sd_type2 = sub_om['om_dispersion_type'].values[1]\n",
    "    num_m1 = sub_om['ct_num_measures'].values[0]\n",
    "    num_m2 = sub_om['ct_num_measures'].values[1]\n",
    "    sd_1 = sub_om['om_dispersion_value_num'].values[0]\n",
    "    sd_2 = sub_om['om_dispersion_value_num'].values[1]\n",
    "    \n",
    "    # if the type is Standard Error, then we need to scale it by the sqrt of the count, since it has been adjusted\n",
    "    if sd_type1 == 'Standard Error':\n",
    "        sd_1 = sd_1 * np.sqrt(num_m1)\n",
    "    if sd_type2 == 'Standard Error':\n",
    "        sd_2 = sd_2 * np.sqrt(num_m2)\n",
    "    \n",
    "    sd_est = np.sqrt((num_m1 * sd_1 ** 2 + num_m2 * sd_2 **2) / (num_m1 + num_m2))\n",
    "    \n",
    "    effect = abs_mean_diff / sd_est\n",
    "    all_res[nct_id]['effect'] = effect\n",
    "    \n",
    "    # details\n",
    "    all_res[nct_id]['g1_mean'] = num_m1\n",
    "    all_res[nct_id]['g2_mean'] = num_m2\n",
    "    all_res[nct_id]['g1_sd_sample'] = sd_1\n",
    "    all_res[nct_id]['g2_sd_sample'] = sd_2\n",
    "    \n",
    "    \n",
    "    # imbalance\n",
    "    bm_g_sums = sub_bm.groupby(['ctgov_group_code', 'used_age'])[['param_value_num']].sum().reset_index()\n",
    "    dfp = bm_g_sums.pivot(columns='used_age', index='ctgov_group_code', values='param_value_num')\n",
    "    \n",
    "    if dfp.shape[0] > 2:\n",
    "        break\n",
    "    \n",
    "    dfp.index = ['g1', 'g2']  # rename to standardize the indices\n",
    "    \n",
    "    dfpct = dfp.T / dfp.sum(axis=1)\n",
    "    dfpct['abs_diff'] = np.abs(dfpct['g1'] - dfpct['g2'])\n",
    "    imbal = np.sqrt((dfpct['abs_diff'] ** 2).sum())\n",
    "    all_res[nct_id]['imbal'] = imbal\n",
    "        \n",
    "    # number of groups\n",
    "    all_res[nct_id]['ngrps'] = sub_bm.shape[0] / 2\n",
    "    \n",
    "    # other details\n",
    "    all_res[nct_id]['g1t'] = dfp.T['g1'].sum()\n",
    "    all_res[nct_id]['g2t'] = dfp.T['g2'].sum()\n",
    "    all_res[nct_id]['g1counts'] = dfp.T['g1'].values\n",
    "    all_res[nct_id]['g2counts'] = dfp.T['g2'].values\n",
    "    all_res[nct_id]['grouplabels'] = list(dfp.T.index)\n",
    "    \n",
    "    \n",
    "df_res = pd.DataFrame(all_res).T.dropna()\n",
    "df_res.head()"
   ]
  },
  {
   "cell_type": "code",
   "execution_count": 95,
   "metadata": {},
   "outputs": [
    {
     "data": {
      "text/plain": [
       "(3803, 12)"
      ]
     },
     "execution_count": 95,
     "metadata": {},
     "output_type": "execute_result"
    }
   ],
   "source": [
    "# lost 1 record due to Nan in the numerical values\n",
    "df_res.shape"
   ]
  },
  {
   "cell_type": "markdown",
   "metadata": {},
   "source": [
    "### Exclude those with just 1 group"
   ]
  },
  {
   "cell_type": "code",
   "execution_count": 96,
   "metadata": {},
   "outputs": [
    {
     "data": {
      "text/plain": [
       "(3803, 3738)"
      ]
     },
     "execution_count": 96,
     "metadata": {},
     "output_type": "execute_result"
    }
   ],
   "source": [
    "df_res_mult_grps = df_res[df_res['ngrps'] > 1].copy()\n",
    "df_res.shape[0], df_res_mult_grps.shape[0]"
   ]
  },
  {
   "cell_type": "code",
   "execution_count": 97,
   "metadata": {},
   "outputs": [],
   "source": [
    "# casting ...\n",
    "df_res_mult_grps['effect'] = df_res_mult_grps['effect'].astype(float)\n",
    "df_res_mult_grps['g1_mean'] = df_res_mult_grps['g1_mean'].astype(float)\n",
    "df_res_mult_grps['g2_mean'] = df_res_mult_grps['g2_mean'].astype(float)\n",
    "df_res_mult_grps['g1_sd_sample'] = df_res_mult_grps['g1_sd_sample'].astype(float)\n",
    "df_res_mult_grps['g2_sd_sample'] = df_res_mult_grps['g2_sd_sample'].astype(float)\n",
    "df_res_mult_grps['imbal'] = df_res_mult_grps['imbal'].astype(float)\n",
    "df_res_mult_grps['ngrps'] = df_res_mult_grps['ngrps'].astype(int)\n",
    "df_res_mult_grps['g1t'] = df_res_mult_grps['g1t'].astype(int)\n",
    "df_res_mult_grps['g2t'] = df_res_mult_grps['g2t'].astype(int)\n"
   ]
  },
  {
   "cell_type": "code",
   "execution_count": 100,
   "metadata": {},
   "outputs": [],
   "source": [
    "# cleaned dataset\n",
    "df_res_mult_grps.to_pickle('res_age_randomized.p')"
   ]
  },
  {
   "cell_type": "code",
   "execution_count": 101,
   "metadata": {},
   "outputs": [
    {
     "data": {
      "text/html": [
       "<div>\n",
       "<style scoped>\n",
       "    .dataframe tbody tr th:only-of-type {\n",
       "        vertical-align: middle;\n",
       "    }\n",
       "\n",
       "    .dataframe tbody tr th {\n",
       "        vertical-align: top;\n",
       "    }\n",
       "\n",
       "    .dataframe thead th {\n",
       "        text-align: right;\n",
       "    }\n",
       "</style>\n",
       "<table border=\"1\" class=\"dataframe\">\n",
       "  <thead>\n",
       "    <tr style=\"text-align: right;\">\n",
       "      <th></th>\n",
       "      <th>effect</th>\n",
       "      <th>g1_mean</th>\n",
       "      <th>g2_mean</th>\n",
       "      <th>g1_sd_sample</th>\n",
       "      <th>g2_sd_sample</th>\n",
       "      <th>imbal</th>\n",
       "      <th>ngrps</th>\n",
       "      <th>g1t</th>\n",
       "      <th>g2t</th>\n",
       "      <th>g1counts</th>\n",
       "      <th>g2counts</th>\n",
       "      <th>grouplabels</th>\n",
       "    </tr>\n",
       "  </thead>\n",
       "  <tbody>\n",
       "    <tr>\n",
       "      <td>NCT00000371</td>\n",
       "      <td>0.031798</td>\n",
       "      <td>27.0</td>\n",
       "      <td>28.0</td>\n",
       "      <td>1.610807</td>\n",
       "      <td>1.534536</td>\n",
       "      <td>0.000000</td>\n",
       "      <td>3</td>\n",
       "      <td>27</td>\n",
       "      <td>28</td>\n",
       "      <td>[0.0, 0.0, 27.0]</td>\n",
       "      <td>[0.0, 0.0, 28.0]</td>\n",
       "      <td>[&lt;=18 years, &gt;=65 years, Between 18 and 65 years]</td>\n",
       "    </tr>\n",
       "    <tr>\n",
       "      <td>NCT00000378</td>\n",
       "      <td>2.981997</td>\n",
       "      <td>52.0</td>\n",
       "      <td>52.0</td>\n",
       "      <td>7.700000</td>\n",
       "      <td>4.400000</td>\n",
       "      <td>0.086278</td>\n",
       "      <td>3</td>\n",
       "      <td>58</td>\n",
       "      <td>52</td>\n",
       "      <td>[0.0, 50.0, 8.0]</td>\n",
       "      <td>[0.0, 48.0, 4.0]</td>\n",
       "      <td>[&lt;=18 years, &gt;=65 years, Between 18 and 65 years]</td>\n",
       "    </tr>\n",
       "    <tr>\n",
       "      <td>NCT00000575</td>\n",
       "      <td>0.114583</td>\n",
       "      <td>307.0</td>\n",
       "      <td>306.0</td>\n",
       "      <td>9.600000</td>\n",
       "      <td>9.600000</td>\n",
       "      <td>0.000000</td>\n",
       "      <td>3</td>\n",
       "      <td>311</td>\n",
       "      <td>312</td>\n",
       "      <td>[311.0, 0.0, 0.0]</td>\n",
       "      <td>[312.0, 0.0, 0.0]</td>\n",
       "      <td>[&lt;=18 years, &gt;=65 years, Between 18 and 65 years]</td>\n",
       "    </tr>\n",
       "    <tr>\n",
       "      <td>NCT00001262</td>\n",
       "      <td>1.371846</td>\n",
       "      <td>22.0</td>\n",
       "      <td>35.0</td>\n",
       "      <td>1.652000</td>\n",
       "      <td>12.762000</td>\n",
       "      <td>0.000000</td>\n",
       "      <td>3</td>\n",
       "      <td>35</td>\n",
       "      <td>22</td>\n",
       "      <td>[35.0, 0.0, 0.0]</td>\n",
       "      <td>[22.0, 0.0, 0.0]</td>\n",
       "      <td>[&lt;=18 years, &gt;=65 years, Between 18 and 65 years]</td>\n",
       "    </tr>\n",
       "    <tr>\n",
       "      <td>NCT00001304</td>\n",
       "      <td>5.004346</td>\n",
       "      <td>14.0</td>\n",
       "      <td>13.0</td>\n",
       "      <td>0.020000</td>\n",
       "      <td>0.010000</td>\n",
       "      <td>0.168279</td>\n",
       "      <td>3</td>\n",
       "      <td>13</td>\n",
       "      <td>14</td>\n",
       "      <td>[1.0, 0.0, 12.0]</td>\n",
       "      <td>[2.0, 1.0, 11.0]</td>\n",
       "      <td>[&lt;=18 years, &gt;=65 years, Between 18 and 65 years]</td>\n",
       "    </tr>\n",
       "  </tbody>\n",
       "</table>\n",
       "</div>"
      ],
      "text/plain": [
       "               effect  g1_mean  g2_mean  g1_sd_sample  g2_sd_sample     imbal  \\\n",
       "NCT00000371  0.031798     27.0     28.0      1.610807      1.534536  0.000000   \n",
       "NCT00000378  2.981997     52.0     52.0      7.700000      4.400000  0.086278   \n",
       "NCT00000575  0.114583    307.0    306.0      9.600000      9.600000  0.000000   \n",
       "NCT00001262  1.371846     22.0     35.0      1.652000     12.762000  0.000000   \n",
       "NCT00001304  5.004346     14.0     13.0      0.020000      0.010000  0.168279   \n",
       "\n",
       "             ngrps  g1t  g2t           g1counts           g2counts  \\\n",
       "NCT00000371      3   27   28   [0.0, 0.0, 27.0]   [0.0, 0.0, 28.0]   \n",
       "NCT00000378      3   58   52   [0.0, 50.0, 8.0]   [0.0, 48.0, 4.0]   \n",
       "NCT00000575      3  311  312  [311.0, 0.0, 0.0]  [312.0, 0.0, 0.0]   \n",
       "NCT00001262      3   35   22   [35.0, 0.0, 0.0]   [22.0, 0.0, 0.0]   \n",
       "NCT00001304      3   13   14   [1.0, 0.0, 12.0]   [2.0, 1.0, 11.0]   \n",
       "\n",
       "                                                   grouplabels  \n",
       "NCT00000371  [<=18 years, >=65 years, Between 18 and 65 years]  \n",
       "NCT00000378  [<=18 years, >=65 years, Between 18 and 65 years]  \n",
       "NCT00000575  [<=18 years, >=65 years, Between 18 and 65 years]  \n",
       "NCT00001262  [<=18 years, >=65 years, Between 18 and 65 years]  \n",
       "NCT00001304  [<=18 years, >=65 years, Between 18 and 65 years]  "
      ]
     },
     "execution_count": 101,
     "metadata": {},
     "output_type": "execute_result"
    }
   ],
   "source": [
    "df_res_mult_grps.head()"
   ]
  },
  {
   "cell_type": "code",
   "execution_count": null,
   "metadata": {},
   "outputs": [],
   "source": []
  }
 ],
 "metadata": {
  "kernelspec": {
   "display_name": "Python 3",
   "language": "python",
   "name": "python3"
  },
  "language_info": {
   "codemirror_mode": {
    "name": "ipython",
    "version": 3
   },
   "file_extension": ".py",
   "mimetype": "text/x-python",
   "name": "python",
   "nbconvert_exporter": "python",
   "pygments_lexer": "ipython3",
   "version": "3.6.9"
  }
 },
 "nbformat": 4,
 "nbformat_minor": 2
}
