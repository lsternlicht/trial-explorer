{
 "cells": [
  {
   "cell_type": "markdown",
   "metadata": {},
   "source": [
    "# Looking for data on Age and Ethnicity"
   ]
  },
  {
   "cell_type": "code",
   "execution_count": 1,
   "metadata": {},
   "outputs": [],
   "source": [
    "import sys\n",
    "if \"../../\" not in sys.path:\n",
    "    sys.path.append(\"../../\")"
   ]
  },
  {
   "cell_type": "code",
   "execution_count": 281,
   "metadata": {},
   "outputs": [],
   "source": [
    "import pandas as pd\n",
    "import numpy as np\n",
    "import scipy.stats as stats\n",
    "from importlib import reload\n",
    "from tqdm import tqdm_notebook as tqdm\n",
    "from sklearn import linear_model as lm\n",
    "import seaborn as sns\n",
    "from fuzzywuzzy import fuzz\n",
    "import time\n",
    "\n",
    "import pdaactconn as pc\n",
    "from trialexplorer import AACTStudySet\n",
    "\n",
    "import matplotlib.pyplot as plt\n",
    "%matplotlib inline\n",
    "\n",
    "params = {'xtick.labelsize':'x-large', 'ytick.labelsize':'x-large',\n",
    "         'figure.figsize': (12,5), \"axes.labelsize\":'x-large'}\n",
    "plt.rcParams.update(params)"
   ]
  },
  {
   "cell_type": "code",
   "execution_count": 3,
   "metadata": {},
   "outputs": [
    {
     "name": "stdout",
     "output_type": "stream",
     "text": [
      "278931 studies loaded!\n"
     ]
    }
   ],
   "source": [
    "# loading all interventional studies\n",
    "conn = pc.AACTConnection(source=pc.AACTConnection.REMOTE)\n",
    "ss = AACTStudySet.AACTStudySet(conn=conn, \n",
    "                               tqdm_handler=tqdm)\n",
    "ss.add_constraint(\"study_type = 'Interventional'\")\n",
    "ss.load_studies()"
   ]
  },
  {
   "cell_type": "code",
   "execution_count": 4,
   "metadata": {},
   "outputs": [
    {
     "name": "stdout",
     "output_type": "stream",
     "text": [
      "Successfuly added these 6 dimensions: ['baseline_measurements', 'result_groups', 'eligibilities', 'outcomes', 'outcome_counts', 'outcome_measurements']\n",
      "Failed to add these 0 dimensions: []\n"
     ]
    },
    {
     "data": {
      "application/vnd.jupyter.widget-view+json": {
       "model_id": "6ff07ec53ef2455abf41a82c7afe6fe0",
       "version_major": 2,
       "version_minor": 0
      },
      "text/plain": [
       "HBox(children=(IntProgress(value=0, max=558), HTML(value='')))"
      ]
     },
     "metadata": {},
     "output_type": "display_data"
    },
    {
     "name": "stdout",
     "output_type": "stream",
     "text": [
      "Syncing the temp table temp_cur_studies in 558 chunks x 500 records each\n",
      "\n",
      "Creating index on the temp table\n",
      " - Loading dimension baseline_measurements\n",
      " -- Loading raw data\n",
      " -- Sorting index\n",
      " - Loading dimension result_groups\n",
      " -- Loading raw data\n",
      " -- Sorting index\n",
      " - Loading dimension eligibilities\n",
      " -- Loading raw data\n",
      " -- Sorting index\n",
      " - Loading dimension outcomes\n",
      " -- Loading raw data\n",
      " -- Sorting index\n",
      " - Loading dimension outcome_counts\n",
      " -- Loading raw data\n",
      " -- Sorting index\n",
      " - Loading dimension outcome_measurements\n",
      " -- Loading raw data\n",
      " -- Sorting index\n"
     ]
    }
   ],
   "source": [
    "# adding and loading dimensional data\n",
    "ss.add_dimensions(['baseline_measurements',\n",
    "                   'result_groups',\n",
    "                   'eligibilities',\n",
    "                   'outcomes',\n",
    "                   'outcome_counts',\n",
    "                   'outcome_measurements'])\n",
    "ss.refresh_dim_data()"
   ]
  },
  {
   "cell_type": "code",
   "execution_count": 5,
   "metadata": {},
   "outputs": [],
   "source": [
    "# setting all the dimensional data to variables\n",
    "bm = ss.dimensions['baseline_measurements'].data\n",
    "rg = ss.dimensions['result_groups'].data\n",
    "el = ss.dimensions['eligibilities'].data\n",
    "out = ss.dimensions['outcomes'].data\n",
    "oc = ss.dimensions['outcome_counts'].data\n",
    "om = ss.dimensions['outcome_measurements'].data"
   ]
  },
  {
   "cell_type": "code",
   "execution_count": 6,
   "metadata": {},
   "outputs": [
    {
     "data": {
      "text/plain": [
       "278931"
      ]
     },
     "execution_count": 6,
     "metadata": {},
     "output_type": "execute_result"
    }
   ],
   "source": [
    "# total number of studies\n",
    "num_all = ss.studies.shape[0]\n",
    "num_all"
   ]
  },
  {
   "cell_type": "code",
   "execution_count": 8,
   "metadata": {
    "scrolled": true
   },
   "outputs": [
    {
     "data": {
      "text/plain": [
       "(42773, 0.1533461680487289)"
      ]
     },
     "execution_count": 8,
     "metadata": {},
     "output_type": "execute_result"
    }
   ],
   "source": [
    "# baseline measurement studies\n",
    "bm_all = bm.index.get_level_values(0).unique().shape[0]\n",
    "bm_all, bm_all / num_all"
   ]
  },
  {
   "cell_type": "markdown",
   "metadata": {},
   "source": [
    "### About 15% of the studies report Baseline Measurements"
   ]
  },
  {
   "cell_type": "code",
   "execution_count": 9,
   "metadata": {
    "scrolled": true
   },
   "outputs": [
    {
     "data": {
      "text/plain": [
       "Index(['id', 'ctgov_group_code', 'classification', 'category', 'title',\n",
       "       'description', 'units', 'param_type', 'param_value', 'param_value_num',\n",
       "       'dispersion_type', 'dispersion_value', 'dispersion_value_num',\n",
       "       'dispersion_lower_limit', 'dispersion_upper_limit',\n",
       "       'explanation_of_na'],\n",
       "      dtype='object')"
      ]
     },
     "execution_count": 9,
     "metadata": {},
     "output_type": "execute_result"
    }
   ],
   "source": [
    "bm.columns"
   ]
  },
  {
   "cell_type": "markdown",
   "metadata": {},
   "source": [
    "# Steps 1-3 are investigative, step 4 starts implementation"
   ]
  },
  {
   "cell_type": "markdown",
   "metadata": {},
   "source": [
    "# 1. Category column in BM\n",
    "\n",
    "investingating the category column in the baseline measurements table"
   ]
  },
  {
   "cell_type": "code",
   "execution_count": 109,
   "metadata": {},
   "outputs": [],
   "source": [
    "bmr = bm.reset_index()"
   ]
  },
  {
   "cell_type": "code",
   "execution_count": 110,
   "metadata": {},
   "outputs": [
    {
     "data": {
      "text/plain": [
       "category\n",
       "                           548040\n",
       "Male                       121470\n",
       "Female                     121470\n",
       "Unknown or Not Reported     54358\n",
       ">=65 years                  39389\n",
       "                            ...  \n",
       "Number of sound teeth           1\n",
       "Number of unsound teeth         1\n",
       "Almost never                    1\n",
       "Almost clear (1)                1\n",
       "sGC stimulator                  1\n",
       "Name: nct_id, Length: 9904, dtype: int64"
      ]
     },
     "execution_count": 110,
     "metadata": {},
     "output_type": "execute_result"
    }
   ],
   "source": [
    "all_cats = bmr.groupby('category')['nct_id'].count().sort_values(ascending=False)\n",
    "all_cats"
   ]
  },
  {
   "cell_type": "code",
   "execution_count": 111,
   "metadata": {},
   "outputs": [],
   "source": [
    "# seaching for specific keywords that indicate race\n",
    "# this list was determined by looking at the top categories by count\n",
    "possible_keywords = ['white', 'asian', 'african', 'indian', \n",
    "                     'native', 'islander', 'latino', 'hispanic']\n",
    "\n",
    "\n",
    "# finding all category labels such that it matches above keywords\n",
    "used_cats = []\n",
    "for cur_cat in all_cats.index:\n",
    "    for kw in possible_keywords:\n",
    "        if kw in cur_cat.lower():\n",
    "            if cur_cat not in used_cats:\n",
    "                used_cats.append(cur_cat)\n",
    "            next"
   ]
  },
  {
   "cell_type": "code",
   "execution_count": 112,
   "metadata": {},
   "outputs": [
    {
     "data": {
      "text/plain": [
       "7"
      ]
     },
     "execution_count": 112,
     "metadata": {},
     "output_type": "execute_result"
    }
   ],
   "source": [
    "# found this many categories that match race with atleast 1000 studies:\n",
    "matched_cat_counts = all_cats.loc[used_cats]\n",
    "used_cat_counts = matched_cat_counts[matched_cat_counts >= 1000]\n",
    "len(used_cat_counts)"
   ]
  },
  {
   "cell_type": "code",
   "execution_count": 16,
   "metadata": {},
   "outputs": [
    {
     "data": {
      "text/plain": [
       "category\n",
       "White                                        33931\n",
       "Asian                                        33328\n",
       "Black or African American                    32616\n",
       "American Indian or Alaska Native             31764\n",
       "Native Hawaiian or Other Pacific Islander    31424\n",
       "Hispanic or Latino                           24278\n",
       "Not Hispanic or Latino                       24115\n",
       "Name: nct_id, dtype: int64"
      ]
     },
     "execution_count": 16,
     "metadata": {},
     "output_type": "execute_result"
    }
   ],
   "source": [
    "# let's eye ball through the list\n",
    "used_cat_counts"
   ]
  },
  {
   "cell_type": "code",
   "execution_count": 17,
   "metadata": {},
   "outputs": [
    {
     "data": {
      "text/plain": [
       "['White',\n",
       " 'Asian',\n",
       " 'Black or African American',\n",
       " 'American Indian or Alaska Native',\n",
       " 'Native Hawaiian or Other Pacific Islander',\n",
       " 'Hispanic or Latino',\n",
       " 'Not Hispanic or Latino']"
      ]
     },
     "execution_count": 17,
     "metadata": {},
     "output_type": "execute_result"
    }
   ],
   "source": [
    "used_cats = list(used_cat_counts.index)\n",
    "used_cats"
   ]
  },
  {
   "cell_type": "markdown",
   "metadata": {},
   "source": [
    "### What are the characteristics of the studies that have these used categories?"
   ]
  },
  {
   "cell_type": "code",
   "execution_count": 18,
   "metadata": {},
   "outputs": [],
   "source": [
    "df_cat = bm[bm['category'].isin(used_cats)]"
   ]
  },
  {
   "cell_type": "code",
   "execution_count": 113,
   "metadata": {},
   "outputs": [
    {
     "data": {
      "text/plain": [
       "title\n",
       "Race (NIH/OMB)                                      153610\n",
       "Ethnicity (NIH/OMB)                                  46850\n",
       "Race/Ethnicity, Customized                           10600\n",
       "Race                                                   206\n",
       "Ethnicity                                              103\n",
       "Race (NIH/OMB) (Influenza Season 2016-2017)             15\n",
       "Race (NIH/OMB) (Influenza Season 2015-2016)             15\n",
       "Race, Customized                                        14\n",
       "Race/Ethnicity                                           9\n",
       "Primary Race                                             9\n",
       "Ethnicty                                                 6\n",
       "Ethnicity (NIH/OMB) (Influenza Season 2016-2017)         6\n",
       "Ethnicity (NIH/OMB) (Influenza Season 2015-2016)         6\n",
       "Race (Asian vs Non-Asian) at Randomization               3\n",
       "Maternal Race                                            3\n",
       "Donor Race/Ethnicity                                     1\n",
       "Name: id, dtype: int64"
      ]
     },
     "execution_count": 113,
     "metadata": {},
     "output_type": "execute_result"
    }
   ],
   "source": [
    "# what are the titles of studies with the short-listed categories\n",
    "s_cat_by_count = df_cat.groupby('title')['id'].count().sort_values(ascending=False)\n",
    "s_cat_by_count"
   ]
  },
  {
   "cell_type": "code",
   "execution_count": 114,
   "metadata": {},
   "outputs": [
    {
     "data": {
      "text/plain": [
       "Index(['Race (NIH/OMB)', 'Ethnicity (NIH/OMB)', 'Race/Ethnicity, Customized',\n",
       "       'Race'],\n",
       "      dtype='object', name='title')"
      ]
     },
     "execution_count": 114,
     "metadata": {},
     "output_type": "execute_result"
    }
   ],
   "source": [
    "# can just use the top few to capture most of the data\n",
    "used_cat_titles = s_cat_by_count.index[:4]\n",
    "used_cat_titles\n"
   ]
  },
  {
   "cell_type": "markdown",
   "metadata": {},
   "source": [
    "### if we filter the original data by these titles, do we get back the original categories?"
   ]
  },
  {
   "cell_type": "code",
   "execution_count": 115,
   "metadata": {},
   "outputs": [
    {
     "data": {
      "text/html": [
       "<div>\n",
       "<style scoped>\n",
       "    .dataframe tbody tr th:only-of-type {\n",
       "        vertical-align: middle;\n",
       "    }\n",
       "\n",
       "    .dataframe tbody tr th {\n",
       "        vertical-align: top;\n",
       "    }\n",
       "\n",
       "    .dataframe thead th {\n",
       "        text-align: right;\n",
       "    }\n",
       "</style>\n",
       "<table border=\"1\" class=\"dataframe\">\n",
       "  <thead>\n",
       "    <tr style=\"text-align: right;\">\n",
       "      <th></th>\n",
       "      <th></th>\n",
       "      <th>id</th>\n",
       "      <th>ctgov_group_code</th>\n",
       "      <th>classification</th>\n",
       "      <th>category</th>\n",
       "      <th>title</th>\n",
       "      <th>description</th>\n",
       "      <th>units</th>\n",
       "      <th>param_type</th>\n",
       "      <th>param_value</th>\n",
       "      <th>param_value_num</th>\n",
       "      <th>dispersion_type</th>\n",
       "      <th>dispersion_value</th>\n",
       "      <th>dispersion_value_num</th>\n",
       "      <th>dispersion_lower_limit</th>\n",
       "      <th>dispersion_upper_limit</th>\n",
       "      <th>explanation_of_na</th>\n",
       "    </tr>\n",
       "    <tr>\n",
       "      <th>nct_id</th>\n",
       "      <th>result_group_id</th>\n",
       "      <th></th>\n",
       "      <th></th>\n",
       "      <th></th>\n",
       "      <th></th>\n",
       "      <th></th>\n",
       "      <th></th>\n",
       "      <th></th>\n",
       "      <th></th>\n",
       "      <th></th>\n",
       "      <th></th>\n",
       "      <th></th>\n",
       "      <th></th>\n",
       "      <th></th>\n",
       "      <th></th>\n",
       "      <th></th>\n",
       "      <th></th>\n",
       "    </tr>\n",
       "  </thead>\n",
       "  <tbody>\n",
       "    <tr>\n",
       "      <td rowspan=\"5\" valign=\"top\">NCT00000125</td>\n",
       "      <td>17107296</td>\n",
       "      <td>19452826</td>\n",
       "      <td>B3</td>\n",
       "      <td>Other</td>\n",
       "      <td></td>\n",
       "      <td>Race/Ethnicity, Customized</td>\n",
       "      <td></td>\n",
       "      <td>participants</td>\n",
       "      <td>Number</td>\n",
       "      <td>14</td>\n",
       "      <td>14.0</td>\n",
       "      <td></td>\n",
       "      <td>None</td>\n",
       "      <td>NaN</td>\n",
       "      <td>NaN</td>\n",
       "      <td>NaN</td>\n",
       "      <td></td>\n",
       "    </tr>\n",
       "    <tr>\n",
       "      <td>17107296</td>\n",
       "      <td>19452829</td>\n",
       "      <td>B3</td>\n",
       "      <td>White</td>\n",
       "      <td></td>\n",
       "      <td>Race/Ethnicity, Customized</td>\n",
       "      <td></td>\n",
       "      <td>participants</td>\n",
       "      <td>Number</td>\n",
       "      <td>1137</td>\n",
       "      <td>1137.0</td>\n",
       "      <td></td>\n",
       "      <td>None</td>\n",
       "      <td>NaN</td>\n",
       "      <td>NaN</td>\n",
       "      <td>NaN</td>\n",
       "      <td></td>\n",
       "    </tr>\n",
       "    <tr>\n",
       "      <td>17107296</td>\n",
       "      <td>19452832</td>\n",
       "      <td>B3</td>\n",
       "      <td>Hispanic</td>\n",
       "      <td></td>\n",
       "      <td>Race/Ethnicity, Customized</td>\n",
       "      <td></td>\n",
       "      <td>participants</td>\n",
       "      <td>Number</td>\n",
       "      <td>59</td>\n",
       "      <td>59.0</td>\n",
       "      <td></td>\n",
       "      <td>None</td>\n",
       "      <td>NaN</td>\n",
       "      <td>NaN</td>\n",
       "      <td>NaN</td>\n",
       "      <td></td>\n",
       "    </tr>\n",
       "    <tr>\n",
       "      <td>17107296</td>\n",
       "      <td>19452835</td>\n",
       "      <td>B3</td>\n",
       "      <td>African American</td>\n",
       "      <td></td>\n",
       "      <td>Race/Ethnicity, Customized</td>\n",
       "      <td></td>\n",
       "      <td>participants</td>\n",
       "      <td>Number</td>\n",
       "      <td>408</td>\n",
       "      <td>408.0</td>\n",
       "      <td></td>\n",
       "      <td>None</td>\n",
       "      <td>NaN</td>\n",
       "      <td>NaN</td>\n",
       "      <td>NaN</td>\n",
       "      <td></td>\n",
       "    </tr>\n",
       "    <tr>\n",
       "      <td>17107296</td>\n",
       "      <td>19452838</td>\n",
       "      <td>B3</td>\n",
       "      <td>Asian</td>\n",
       "      <td></td>\n",
       "      <td>Race/Ethnicity, Customized</td>\n",
       "      <td></td>\n",
       "      <td>participants</td>\n",
       "      <td>Number</td>\n",
       "      <td>14</td>\n",
       "      <td>14.0</td>\n",
       "      <td></td>\n",
       "      <td>None</td>\n",
       "      <td>NaN</td>\n",
       "      <td>NaN</td>\n",
       "      <td>NaN</td>\n",
       "      <td></td>\n",
       "    </tr>\n",
       "  </tbody>\n",
       "</table>\n",
       "</div>"
      ],
      "text/plain": [
       "                                   id ctgov_group_code    classification  \\\n",
       "nct_id      result_group_id                                                \n",
       "NCT00000125 17107296         19452826               B3             Other   \n",
       "            17107296         19452829               B3             White   \n",
       "            17107296         19452832               B3          Hispanic   \n",
       "            17107296         19452835               B3  African American   \n",
       "            17107296         19452838               B3             Asian   \n",
       "\n",
       "                            category                       title description  \\\n",
       "nct_id      result_group_id                                                    \n",
       "NCT00000125 17107296                  Race/Ethnicity, Customized               \n",
       "            17107296                  Race/Ethnicity, Customized               \n",
       "            17107296                  Race/Ethnicity, Customized               \n",
       "            17107296                  Race/Ethnicity, Customized               \n",
       "            17107296                  Race/Ethnicity, Customized               \n",
       "\n",
       "                                    units param_type param_value  \\\n",
       "nct_id      result_group_id                                        \n",
       "NCT00000125 17107296         participants     Number          14   \n",
       "            17107296         participants     Number        1137   \n",
       "            17107296         participants     Number          59   \n",
       "            17107296         participants     Number         408   \n",
       "            17107296         participants     Number          14   \n",
       "\n",
       "                             param_value_num dispersion_type dispersion_value  \\\n",
       "nct_id      result_group_id                                                     \n",
       "NCT00000125 17107296                    14.0                             None   \n",
       "            17107296                  1137.0                             None   \n",
       "            17107296                    59.0                             None   \n",
       "            17107296                   408.0                             None   \n",
       "            17107296                    14.0                             None   \n",
       "\n",
       "                             dispersion_value_num  dispersion_lower_limit  \\\n",
       "nct_id      result_group_id                                                 \n",
       "NCT00000125 17107296                          NaN                     NaN   \n",
       "            17107296                          NaN                     NaN   \n",
       "            17107296                          NaN                     NaN   \n",
       "            17107296                          NaN                     NaN   \n",
       "            17107296                          NaN                     NaN   \n",
       "\n",
       "                             dispersion_upper_limit explanation_of_na  \n",
       "nct_id      result_group_id                                            \n",
       "NCT00000125 17107296                            NaN                    \n",
       "            17107296                            NaN                    \n",
       "            17107296                            NaN                    \n",
       "            17107296                            NaN                    \n",
       "            17107296                            NaN                    "
      ]
     },
     "execution_count": 115,
     "metadata": {},
     "output_type": "execute_result"
    }
   ],
   "source": [
    "df_by_titles = bm[bm['title'].isin(used_cat_titles)]\n",
    "df_by_titles.head()"
   ]
  },
  {
   "cell_type": "code",
   "execution_count": 116,
   "metadata": {},
   "outputs": [
    {
     "data": {
      "text/plain": [
       "category\n",
       "                                             79588\n",
       "Unknown or Not Reported                      54240\n",
       "White                                        33912\n",
       "Asian                                        33310\n",
       "Black or African American                    32599\n",
       "American Indian or Alaska Native             31755\n",
       "Native Hawaiian or Other Pacific Islander    31418\n",
       "More than one race                           30802\n",
       "Hispanic or Latino                           24213\n",
       "Not Hispanic or Latino                       24059\n",
       "Other                                         2454\n",
       "Black                                         1016\n",
       "Name: id, dtype: int64"
      ]
     },
     "execution_count": 116,
     "metadata": {},
     "output_type": "execute_result"
    }
   ],
   "source": [
    "counts_by_title_cats = df_by_titles.groupby('category')['id'].count().sort_values(ascending=False)\n",
    "counts_by_title_cats[counts_by_title_cats > 1000]"
   ]
  },
  {
   "cell_type": "markdown",
   "metadata": {},
   "source": [
    "### Looks like we do, except for a bunch of blank categories"
   ]
  },
  {
   "cell_type": "markdown",
   "metadata": {},
   "source": [
    "### Q: Are the blanks for totals?"
   ]
  },
  {
   "cell_type": "code",
   "execution_count": 118,
   "metadata": {},
   "outputs": [
    {
     "data": {
      "text/plain": [
       "classification\n",
       "White                                        9162\n",
       "Asian                                        8645\n",
       "Other                                        6563\n",
       "Black or African American                    4734\n",
       "Black                                        3643\n",
       "Caucasian                                    2862\n",
       "American Indian or Alaska Native             2807\n",
       "Hispanic                                     2740\n",
       "Hispanic or Latino                           2242\n",
       "Native Hawaiian or Other Pacific Islander    1883\n",
       "Name: id, dtype: int64"
      ]
     },
     "execution_count": 118,
     "metadata": {},
     "output_type": "execute_result"
    }
   ],
   "source": [
    "df_blank_cat = df_by_titles[df_by_titles['category'] == '']\n",
    "df_blank_cat.groupby('classification')['id'].count().sort_values(ascending=False)[:10]"
   ]
  },
  {
   "cell_type": "markdown",
   "metadata": {},
   "source": [
    "### A: Looks like those with blank category will have a classification reported with the ethnicity\n",
    "\n",
    "so either the race is reported in the \"category\" field or the \"classification\" field"
   ]
  },
  {
   "cell_type": "markdown",
   "metadata": {},
   "source": [
    "### \"Category\" Summary:\n",
    "- scanning the category column for matched string ethnicities, we found a short list of titles that narrow down these ethnicities. \n",
    "    -- This is stored in the variable: used_cat_titles\n",
    "- Filtering by these titles, we see that there is still many rows with blank categorys\n",
    "- Found that these rows have the ethnicity tagged in the \"classification\" column"
   ]
  },
  {
   "cell_type": "markdown",
   "metadata": {},
   "source": [
    "# 2. Classification column in BM"
   ]
  },
  {
   "cell_type": "code",
   "execution_count": 120,
   "metadata": {
    "scrolled": true
   },
   "outputs": [
    {
     "data": {
      "text/plain": [
       "classification\n",
       "                                        903141\n",
       "United States                            48246\n",
       "White                                     9313\n",
       "Asian                                     8824\n",
       "Other                                     7914\n",
       "                                         ...  \n",
       "Participants pretreated with opioids         1\n",
       "High school degree                           1\n",
       "T2N2                                         1\n",
       "T2N1                                         1\n",
       "History of previous loss                     1\n",
       "Name: nct_id, Length: 26568, dtype: int64"
      ]
     },
     "execution_count": 120,
     "metadata": {},
     "output_type": "execute_result"
    }
   ],
   "source": [
    "all_classes = bmr.groupby('classification')['nct_id'].count().sort_values(ascending=False)\n",
    "all_classes"
   ]
  },
  {
   "cell_type": "code",
   "execution_count": 121,
   "metadata": {},
   "outputs": [],
   "source": [
    "possible_keywords = ['white', 'asian', 'african', 'indian', \n",
    "                     'native', 'islander', 'latino', 'hispanic']\n",
    "\n",
    "\n",
    "# finding all category labels such that it matches above keywords\n",
    "used_classes = []\n",
    "for cur_class in all_classes.index:\n",
    "    for kw in possible_keywords:\n",
    "        if kw in cur_class.lower():\n",
    "            if cur_class not in used_classes:\n",
    "                used_classes.append(cur_class)\n",
    "            next"
   ]
  },
  {
   "cell_type": "code",
   "execution_count": 122,
   "metadata": {},
   "outputs": [
    {
     "data": {
      "text/plain": [
       "44"
      ]
     },
     "execution_count": 122,
     "metadata": {},
     "output_type": "execute_result"
    }
   ],
   "source": [
    "# found this many categories that match race with atleast 100 studies:\n",
    "matched_class_counts = all_classes.loc[used_classes]\n",
    "used_class_counts = matched_class_counts[matched_class_counts >= 100]\n",
    "len(used_class_counts)"
   ]
  },
  {
   "cell_type": "code",
   "execution_count": 123,
   "metadata": {
    "scrolled": true
   },
   "outputs": [
    {
     "data": {
      "text/plain": [
       "['White',\n",
       " 'Asian',\n",
       " 'Black or African American',\n",
       " 'Caucasian',\n",
       " 'Hispanic',\n",
       " 'American Indian or Alaska Native',\n",
       " 'Hispanic or Latino',\n",
       " 'Native Hawaiian or Other Pacific Islander',\n",
       " 'Not Hispanic or Latino',\n",
       " 'African American',\n",
       " 'African American/African Heritage',\n",
       " 'Black/African American',\n",
       " 'Native American',\n",
       " 'Native Hawaiian or other Pacific Islander',\n",
       " 'American Indian or Alaskan Native',\n",
       " 'White - White/Caucasian/European Heritage',\n",
       " 'Asian - East Asian Heritage',\n",
       " 'Asian - South East Asian Heritage',\n",
       " 'Hispanic/Latino',\n",
       " 'White or Caucasian',\n",
       " 'Asian - Japanese Heritage',\n",
       " 'Asian - Central/South Asian Heritage',\n",
       " 'African',\n",
       " 'White - Arabic/North African Heritage',\n",
       " 'White/Caucasian',\n",
       " 'African-American',\n",
       " 'East Asian',\n",
       " 'Native Hawaiian or Pacific Islander',\n",
       " 'Pacific Islander',\n",
       " 'American Indian',\n",
       " 'White Non-Hispanic',\n",
       " 'American Indian/Alaska Native',\n",
       " 'Asian/Pacific Islander',\n",
       " 'American Indian/Alaskan Native',\n",
       " 'Non-Hispanic White',\n",
       " 'Indian',\n",
       " 'Caucasian/White',\n",
       " 'Non-Hispanic or Latino',\n",
       " 'West Asian',\n",
       " 'Non-Hispanic',\n",
       " 'Not Hispanic/Latino',\n",
       " 'Black Or African American',\n",
       " 'Latino',\n",
       " 'Asian/Oriental']"
      ]
     },
     "execution_count": 123,
     "metadata": {},
     "output_type": "execute_result"
    }
   ],
   "source": [
    "used_classes = list(used_class_counts.index)\n",
    "used_classes"
   ]
  },
  {
   "cell_type": "markdown",
   "metadata": {},
   "source": [
    "### What are the characteristics of the studies that have these used classifications?"
   ]
  },
  {
   "cell_type": "code",
   "execution_count": 124,
   "metadata": {},
   "outputs": [],
   "source": [
    "df_class = bm[bm['classification'].isin(used_classes)]"
   ]
  },
  {
   "cell_type": "code",
   "execution_count": 125,
   "metadata": {},
   "outputs": [
    {
     "data": {
      "text/plain": [
       "title\n",
       "Race/Ethnicity, Customized    45553\n",
       "Race/Ethnicity                  800\n",
       "Race (NIH/OMB)                  696\n",
       "Race                            674\n",
       "Ethnicity                       337\n",
       "Ethnicity (NIH/OMB)             116\n",
       "Predominant Race                 40\n",
       "Race/Ethnicity, customized       40\n",
       "Racial Group                     30\n",
       "Race - U.S.A.                    21\n",
       "Name: id, dtype: int64"
      ]
     },
     "execution_count": 125,
     "metadata": {},
     "output_type": "execute_result"
    }
   ],
   "source": [
    "s_class_by_count = df_class.groupby('title')['id'].count().sort_values(ascending=False)\n",
    "s_class_by_count[:10]"
   ]
  },
  {
   "cell_type": "markdown",
   "metadata": {},
   "source": [
    "### can just go with those with > 100 rows"
   ]
  },
  {
   "cell_type": "code",
   "execution_count": 126,
   "metadata": {},
   "outputs": [
    {
     "data": {
      "text/plain": [
       "['Ethnicity',\n",
       " 'Ethnicity (NIH/OMB)',\n",
       " 'Race',\n",
       " 'Race (NIH/OMB)',\n",
       " 'Race/Ethnicity',\n",
       " 'Race/Ethnicity, Customized']"
      ]
     },
     "execution_count": 126,
     "metadata": {},
     "output_type": "execute_result"
    }
   ],
   "source": [
    "# can just use the top few:\n",
    "used_class_titles = s_class_by_count[s_class_by_count > 100].index\n",
    "sorted(used_class_titles)"
   ]
  },
  {
   "cell_type": "code",
   "execution_count": 127,
   "metadata": {},
   "outputs": [
    {
     "data": {
      "text/plain": [
       "['Ethnicity (NIH/OMB)', 'Race', 'Race (NIH/OMB)', 'Race/Ethnicity, Customized']"
      ]
     },
     "execution_count": 127,
     "metadata": {},
     "output_type": "execute_result"
    }
   ],
   "source": [
    "sorted(used_cat_titles)"
   ]
  },
  {
   "cell_type": "markdown",
   "metadata": {},
   "source": [
    "### Looks like the class titles have extra vs cat titles:\n",
    "- Ethnicity\n",
    "- Race/Ethnicity\n",
    "\n",
    "But is otherwise a superset"
   ]
  },
  {
   "cell_type": "markdown",
   "metadata": {},
   "source": [
    "### if we filter by these titles, do we get back the original classifications?"
   ]
  },
  {
   "cell_type": "code",
   "execution_count": 128,
   "metadata": {},
   "outputs": [
    {
     "data": {
      "text/html": [
       "<div>\n",
       "<style scoped>\n",
       "    .dataframe tbody tr th:only-of-type {\n",
       "        vertical-align: middle;\n",
       "    }\n",
       "\n",
       "    .dataframe tbody tr th {\n",
       "        vertical-align: top;\n",
       "    }\n",
       "\n",
       "    .dataframe thead th {\n",
       "        text-align: right;\n",
       "    }\n",
       "</style>\n",
       "<table border=\"1\" class=\"dataframe\">\n",
       "  <thead>\n",
       "    <tr style=\"text-align: right;\">\n",
       "      <th></th>\n",
       "      <th></th>\n",
       "      <th>id</th>\n",
       "      <th>ctgov_group_code</th>\n",
       "      <th>classification</th>\n",
       "      <th>category</th>\n",
       "      <th>title</th>\n",
       "      <th>description</th>\n",
       "      <th>units</th>\n",
       "      <th>param_type</th>\n",
       "      <th>param_value</th>\n",
       "      <th>param_value_num</th>\n",
       "      <th>dispersion_type</th>\n",
       "      <th>dispersion_value</th>\n",
       "      <th>dispersion_value_num</th>\n",
       "      <th>dispersion_lower_limit</th>\n",
       "      <th>dispersion_upper_limit</th>\n",
       "      <th>explanation_of_na</th>\n",
       "    </tr>\n",
       "    <tr>\n",
       "      <th>nct_id</th>\n",
       "      <th>result_group_id</th>\n",
       "      <th></th>\n",
       "      <th></th>\n",
       "      <th></th>\n",
       "      <th></th>\n",
       "      <th></th>\n",
       "      <th></th>\n",
       "      <th></th>\n",
       "      <th></th>\n",
       "      <th></th>\n",
       "      <th></th>\n",
       "      <th></th>\n",
       "      <th></th>\n",
       "      <th></th>\n",
       "      <th></th>\n",
       "      <th></th>\n",
       "      <th></th>\n",
       "    </tr>\n",
       "  </thead>\n",
       "  <tbody>\n",
       "    <tr>\n",
       "      <td rowspan=\"5\" valign=\"top\">NCT00000125</td>\n",
       "      <td>17107296</td>\n",
       "      <td>19452826</td>\n",
       "      <td>B3</td>\n",
       "      <td>Other</td>\n",
       "      <td></td>\n",
       "      <td>Race/Ethnicity, Customized</td>\n",
       "      <td></td>\n",
       "      <td>participants</td>\n",
       "      <td>Number</td>\n",
       "      <td>14</td>\n",
       "      <td>14.0</td>\n",
       "      <td></td>\n",
       "      <td>None</td>\n",
       "      <td>NaN</td>\n",
       "      <td>NaN</td>\n",
       "      <td>NaN</td>\n",
       "      <td></td>\n",
       "    </tr>\n",
       "    <tr>\n",
       "      <td>17107296</td>\n",
       "      <td>19452829</td>\n",
       "      <td>B3</td>\n",
       "      <td>White</td>\n",
       "      <td></td>\n",
       "      <td>Race/Ethnicity, Customized</td>\n",
       "      <td></td>\n",
       "      <td>participants</td>\n",
       "      <td>Number</td>\n",
       "      <td>1137</td>\n",
       "      <td>1137.0</td>\n",
       "      <td></td>\n",
       "      <td>None</td>\n",
       "      <td>NaN</td>\n",
       "      <td>NaN</td>\n",
       "      <td>NaN</td>\n",
       "      <td></td>\n",
       "    </tr>\n",
       "    <tr>\n",
       "      <td>17107296</td>\n",
       "      <td>19452832</td>\n",
       "      <td>B3</td>\n",
       "      <td>Hispanic</td>\n",
       "      <td></td>\n",
       "      <td>Race/Ethnicity, Customized</td>\n",
       "      <td></td>\n",
       "      <td>participants</td>\n",
       "      <td>Number</td>\n",
       "      <td>59</td>\n",
       "      <td>59.0</td>\n",
       "      <td></td>\n",
       "      <td>None</td>\n",
       "      <td>NaN</td>\n",
       "      <td>NaN</td>\n",
       "      <td>NaN</td>\n",
       "      <td></td>\n",
       "    </tr>\n",
       "    <tr>\n",
       "      <td>17107296</td>\n",
       "      <td>19452835</td>\n",
       "      <td>B3</td>\n",
       "      <td>African American</td>\n",
       "      <td></td>\n",
       "      <td>Race/Ethnicity, Customized</td>\n",
       "      <td></td>\n",
       "      <td>participants</td>\n",
       "      <td>Number</td>\n",
       "      <td>408</td>\n",
       "      <td>408.0</td>\n",
       "      <td></td>\n",
       "      <td>None</td>\n",
       "      <td>NaN</td>\n",
       "      <td>NaN</td>\n",
       "      <td>NaN</td>\n",
       "      <td></td>\n",
       "    </tr>\n",
       "    <tr>\n",
       "      <td>17107296</td>\n",
       "      <td>19452838</td>\n",
       "      <td>B3</td>\n",
       "      <td>Asian</td>\n",
       "      <td></td>\n",
       "      <td>Race/Ethnicity, Customized</td>\n",
       "      <td></td>\n",
       "      <td>participants</td>\n",
       "      <td>Number</td>\n",
       "      <td>14</td>\n",
       "      <td>14.0</td>\n",
       "      <td></td>\n",
       "      <td>None</td>\n",
       "      <td>NaN</td>\n",
       "      <td>NaN</td>\n",
       "      <td>NaN</td>\n",
       "      <td></td>\n",
       "    </tr>\n",
       "  </tbody>\n",
       "</table>\n",
       "</div>"
      ],
      "text/plain": [
       "                                   id ctgov_group_code    classification  \\\n",
       "nct_id      result_group_id                                                \n",
       "NCT00000125 17107296         19452826               B3             Other   \n",
       "            17107296         19452829               B3             White   \n",
       "            17107296         19452832               B3          Hispanic   \n",
       "            17107296         19452835               B3  African American   \n",
       "            17107296         19452838               B3             Asian   \n",
       "\n",
       "                            category                       title description  \\\n",
       "nct_id      result_group_id                                                    \n",
       "NCT00000125 17107296                  Race/Ethnicity, Customized               \n",
       "            17107296                  Race/Ethnicity, Customized               \n",
       "            17107296                  Race/Ethnicity, Customized               \n",
       "            17107296                  Race/Ethnicity, Customized               \n",
       "            17107296                  Race/Ethnicity, Customized               \n",
       "\n",
       "                                    units param_type param_value  \\\n",
       "nct_id      result_group_id                                        \n",
       "NCT00000125 17107296         participants     Number          14   \n",
       "            17107296         participants     Number        1137   \n",
       "            17107296         participants     Number          59   \n",
       "            17107296         participants     Number         408   \n",
       "            17107296         participants     Number          14   \n",
       "\n",
       "                             param_value_num dispersion_type dispersion_value  \\\n",
       "nct_id      result_group_id                                                     \n",
       "NCT00000125 17107296                    14.0                             None   \n",
       "            17107296                  1137.0                             None   \n",
       "            17107296                    59.0                             None   \n",
       "            17107296                   408.0                             None   \n",
       "            17107296                    14.0                             None   \n",
       "\n",
       "                             dispersion_value_num  dispersion_lower_limit  \\\n",
       "nct_id      result_group_id                                                 \n",
       "NCT00000125 17107296                          NaN                     NaN   \n",
       "            17107296                          NaN                     NaN   \n",
       "            17107296                          NaN                     NaN   \n",
       "            17107296                          NaN                     NaN   \n",
       "            17107296                          NaN                     NaN   \n",
       "\n",
       "                             dispersion_upper_limit explanation_of_na  \n",
       "nct_id      result_group_id                                            \n",
       "NCT00000125 17107296                            NaN                    \n",
       "            17107296                            NaN                    \n",
       "            17107296                            NaN                    \n",
       "            17107296                            NaN                    \n",
       "            17107296                            NaN                    "
      ]
     },
     "execution_count": 128,
     "metadata": {},
     "output_type": "execute_result"
    }
   ],
   "source": [
    "df_by_titles = bm[bm['title'].isin(used_class_titles)]\n",
    "df_by_titles.head()"
   ]
  },
  {
   "cell_type": "code",
   "execution_count": 129,
   "metadata": {},
   "outputs": [
    {
     "data": {
      "text/plain": [
       "classification\n",
       "                                             297572\n",
       "White                                          9228\n",
       "Asian                                          8746\n",
       "Other                                          6670\n",
       "Black or African American                      4783\n",
       "Race                                           4584\n",
       "Black                                          3708\n",
       "Caucasian                                      3037\n",
       "Hispanic                                       2955\n",
       "American Indian or Alaska Native               2821\n",
       "Hispanic or Latino                             2364\n",
       "Native Hawaiian or Other Pacific Islander      1904\n",
       "Not Hispanic or Latino                         1450\n",
       "Race/Ethnicity                                 1396\n",
       "Ethnicity                                      1200\n",
       "Unknown                                        1055\n",
       "African American                               1036\n",
       "Name: id, dtype: int64"
      ]
     },
     "execution_count": 129,
     "metadata": {},
     "output_type": "execute_result"
    }
   ],
   "source": [
    "counts_by_title_cats = df_by_titles.groupby('classification')['id'].count().sort_values(ascending=False)\n",
    "counts_by_title_cats[counts_by_title_cats > 1000]"
   ]
  },
  {
   "cell_type": "markdown",
   "metadata": {},
   "source": [
    "### Q: What are the blanks for?"
   ]
  },
  {
   "cell_type": "code",
   "execution_count": 130,
   "metadata": {},
   "outputs": [
    {
     "data": {
      "text/plain": [
       "category\n",
       "Unknown or Not Reported                      53687\n",
       "White                                        32545\n",
       "Asian                                        32213\n",
       "Black or African American                    31798\n",
       "American Indian or Alaska Native             31216\n",
       "Native Hawaiian or Other Pacific Islander    30953\n",
       "More than one race                           30480\n",
       "Hispanic or Latino                           23729\n",
       "Not Hispanic or Latino                       23658\n",
       "Other                                         1406\n",
       "Name: id, dtype: int64"
      ]
     },
     "execution_count": 130,
     "metadata": {},
     "output_type": "execute_result"
    }
   ],
   "source": [
    "df_blank_cat = df_by_titles[df_by_titles['classification'] == '']\n",
    "df_blank_cat.groupby('category')['id'].count().sort_values(ascending=False)[:10]"
   ]
  },
  {
   "cell_type": "markdown",
   "metadata": {},
   "source": [
    "### A: We have cross coverage between classification and category for the same race/ethn titles"
   ]
  },
  {
   "cell_type": "markdown",
   "metadata": {},
   "source": [
    "# 3. Narrowing the studies by Title, Classification and Category"
   ]
  },
  {
   "cell_type": "code",
   "execution_count": 132,
   "metadata": {},
   "outputs": [
    {
     "data": {
      "text/plain": [
       "['Race/Ethnicity, Customized',\n",
       " 'Race/Ethnicity',\n",
       " 'Race (NIH/OMB)',\n",
       " 'Race',\n",
       " 'Ethnicity',\n",
       " 'Ethnicity (NIH/OMB)']"
      ]
     },
     "execution_count": 132,
     "metadata": {},
     "output_type": "execute_result"
    }
   ],
   "source": [
    "# combining the valid titles from both category and classification\n",
    "all_used_titles = []\n",
    "for cur_title in used_class_titles:\n",
    "    if cur_title not in all_used_titles:\n",
    "        all_used_titles.append(cur_title)\n",
    "        \n",
    "for cur_title in used_cat_titles:\n",
    "    if cur_title not in all_used_titles:\n",
    "        all_used_titles.append(cur_title)       \n",
    "\n",
    "all_used_titles        "
   ]
  },
  {
   "cell_type": "markdown",
   "metadata": {},
   "source": [
    "### Let's Eyeball through some examples by title"
   ]
  },
  {
   "cell_type": "code",
   "execution_count": 133,
   "metadata": {},
   "outputs": [
    {
     "name": "stdout",
     "output_type": "stream",
     "text": [
      "BM Title: Race/Ethnicity, Customized\n",
      "['NCT00699153' 'NCT00348348' 'NCT02764190' 'NCT02883452' 'NCT03208088']\n",
      "\n",
      "\n",
      "BM Title: Race/Ethnicity\n",
      "['NCT00191854' 'NCT00401973' 'NCT00350779' 'NCT00063570' 'NCT00192075']\n",
      "\n",
      "\n",
      "BM Title: Race (NIH/OMB)\n",
      "['NCT02671266' 'NCT00390455' 'NCT00989963' 'NCT02929667' 'NCT01458392']\n",
      "\n",
      "\n",
      "BM Title: Race\n",
      "['NCT01297465' 'NCT01324947' 'NCT00549302' 'NCT00373529' 'NCT01476475']\n",
      "\n",
      "\n",
      "BM Title: Ethnicity\n",
      "['NCT00298363' 'NCT01414114' 'NCT01896232' 'NCT03092726' 'NCT01288911']\n",
      "\n",
      "\n",
      "BM Title: Ethnicity (NIH/OMB)\n",
      "['NCT00754845' 'NCT03109184' 'NCT03480152' 'NCT02107599' 'NCT02338973']\n",
      "\n",
      "\n"
     ]
    }
   ],
   "source": [
    "for cur_title in all_used_titles:\n",
    "    print(\"BM Title: %s\" % cur_title)\n",
    "    sub_df = bm[bm['title'] == cur_title]\n",
    "    all_nct_id = sub_df.index.get_level_values(0).unique()\n",
    "    print(np.random.choice(all_nct_id, 5))\n",
    "    print(\"\\n\")"
   ]
  },
  {
   "cell_type": "markdown",
   "metadata": {},
   "source": [
    "### Notes:\n",
    "- Some studies report both race and ethnicity as different metrics: NCT01611194\n",
    "- looks like \"Race (NIH/OMB) is the one that we want if both Ethnicity (NIH/OMB) and that are reported\n",
    "- also drop the 2 ethnicity titles"
   ]
  },
  {
   "cell_type": "code",
   "execution_count": 134,
   "metadata": {},
   "outputs": [
    {
     "data": {
      "text/plain": [
       "['Race/Ethnicity, Customized', 'Race/Ethnicity', 'Race (NIH/OMB)', 'Race']"
      ]
     },
     "execution_count": 134,
     "metadata": {},
     "output_type": "execute_result"
    }
   ],
   "source": [
    "# this determines the set of data used for the final race data set\n",
    "final_used_titles = [x for x in all_used_titles if 'race' in x.lower()]\n",
    "final_used_titles"
   ]
  },
  {
   "cell_type": "code",
   "execution_count": 135,
   "metadata": {},
   "outputs": [],
   "source": [
    "bm_used = bm[bm['title'].isin(final_used_titles)]"
   ]
  },
  {
   "cell_type": "code",
   "execution_count": 136,
   "metadata": {},
   "outputs": [
    {
     "data": {
      "text/plain": [
       "17771"
      ]
     },
     "execution_count": 136,
     "metadata": {},
     "output_type": "execute_result"
    }
   ],
   "source": [
    "num_used = len(bm_used.index.get_level_values(0).unique())\n",
    "num_used"
   ]
  },
  {
   "cell_type": "code",
   "execution_count": 137,
   "metadata": {},
   "outputs": [
    {
     "data": {
      "text/plain": [
       "0.41547237743436277"
      ]
     },
     "execution_count": 137,
     "metadata": {},
     "output_type": "execute_result"
    }
   ],
   "source": [
    "# this % of studies is covered by the current set\n",
    "num_used / bm_all"
   ]
  },
  {
   "cell_type": "markdown",
   "metadata": {},
   "source": [
    "#### turns out to be 41% of those that report baseline measurements"
   ]
  },
  {
   "cell_type": "markdown",
   "metadata": {},
   "source": [
    "# 4. Merging the category and classification into 1 used study set"
   ]
  },
  {
   "cell_type": "code",
   "execution_count": 138,
   "metadata": {},
   "outputs": [
    {
     "data": {
      "text/plain": [
       "classification                             category                                 \n",
       "                                           White                                        32545\n",
       "                                           Asian                                        32213\n",
       "                                           Black or African American                    31798\n",
       "                                           American Indian or Alaska Native             31216\n",
       "                                           Native Hawaiian or Other Pacific Islander    30953\n",
       "                                           Unknown or Not Reported                      30515\n",
       "                                           More than one race                           30480\n",
       "White                                                                                    9223\n",
       "Asian                                                                                    8725\n",
       "Other                                                                                    6651\n",
       "Black or African American                                                                4770\n",
       "Black                                                                                    3707\n",
       "Caucasian                                                                                3029\n",
       "Hispanic                                                                                 2901\n",
       "American Indian or Alaska Native                                                         2821\n",
       "Hispanic or Latino                                                                       2192\n",
       "Native Hawaiian or Other Pacific Islander                                                1894\n",
       "                                           Other                                         1402\n",
       "Not Hispanic or Latino                                                                   1288\n",
       "Unknown                                                                                  1037\n",
       "African American                                                                         1036\n",
       "African American/African Heritage                                                         740\n",
       "Race                                       White                                          678\n",
       "Black/African American                                                                    632\n",
       "Unknown or Not Reported                                                                   608\n",
       "Missing                                                                                   603\n",
       "                                           Black                                          567\n",
       "Native American                                                                           566\n",
       "Native Hawaiian or other Pacific Islander                                                 555\n",
       "Race                                       Other                                          544\n",
       "More than one race                                                                        511\n",
       "Name: id, dtype: int64"
      ]
     },
     "execution_count": 138,
     "metadata": {},
     "output_type": "execute_result"
    }
   ],
   "source": [
    "double_counts = bm_used.groupby(['classification', 'category'])['id'].count().sort_values(ascending=False)\n",
    "double_counts[double_counts > 500]"
   ]
  },
  {
   "cell_type": "markdown",
   "metadata": {},
   "source": [
    "### Plan: We look at category first, then in the remaining where category is blank, look at the classification"
   ]
  },
  {
   "cell_type": "code",
   "execution_count": 139,
   "metadata": {},
   "outputs": [
    {
     "data": {
      "text/plain": [
       "category\n",
       "                                             80553\n",
       "White                                        33915\n",
       "Asian                                        33313\n",
       "Black or African American                    32602\n",
       "American Indian or Alaska Native             31755\n",
       "Native Hawaiian or Other Pacific Islander    31418\n",
       "Unknown or Not Reported                      30832\n",
       "More than one race                           30802\n",
       "Other                                         2457\n",
       "Black                                         1016\n",
       "Hispanic or Latino                             797\n",
       "Not Hispanic or Latino                         625\n",
       "Hispanic                                       596\n",
       "Caucasian                                      502\n",
       "Unknown                                        429\n",
       "Not Permitted                                  334\n",
       "Missing                                        242\n",
       "Multiple                                       234\n",
       "African American                               232\n",
       "American Indian or Alaskan Native              217\n",
       "Not Reported                                   211\n",
       "Native Hawaiian or Pacific Islander            195\n",
       "Native Hawaiian or other Pacific Islander      190\n",
       "White/Caucasian                                142\n",
       "Black/African American                         139\n",
       "Asian - South East Asian Heritage              125\n",
       "Native American                                121\n",
       "Asian - Central/South Asian Heritage           120\n",
       "Asian - East Asian Heritage                    114\n",
       "White - White/Caucasian/European Heritage      111\n",
       "African                                        103\n",
       "Name: id, dtype: int64"
      ]
     },
     "execution_count": 139,
     "metadata": {},
     "output_type": "execute_result"
    }
   ],
   "source": [
    "cat_counts = bm_used.groupby('category')['id'].count().sort_values(ascending=False)\n",
    "cat_counts[cat_counts > 100]"
   ]
  },
  {
   "cell_type": "code",
   "execution_count": 140,
   "metadata": {},
   "outputs": [],
   "source": [
    "# eyeballing which ones are the N/A categories\n",
    "cat_unknowns = ['Unknown or Not Reported', \n",
    "                'More than one race', \n",
    "                'Unknown', \n",
    "                'Not Permitted', \n",
    "                'Missing', \n",
    "                'Multiple', \n",
    "                'Not Reported']"
   ]
  },
  {
   "cell_type": "code",
   "execution_count": 141,
   "metadata": {},
   "outputs": [],
   "source": [
    "# why do we get the \"ethnicity\" labels still? (ex: Hispanic or Latino)\n",
    "eth_cats = ['Hispanic or Latino', 'Not Hispanic or Latino']"
   ]
  },
  {
   "cell_type": "markdown",
   "metadata": {},
   "source": [
    "## 4 a) Case 1: Category is non-blank"
   ]
  },
  {
   "cell_type": "code",
   "execution_count": 142,
   "metadata": {},
   "outputs": [
    {
     "name": "stdout",
     "output_type": "stream",
     "text": [
      "Pct of bm rows: 74.9%\n"
     ]
    }
   ],
   "source": [
    "bm_used_case1 = bm_used[bm_used['category'] != '']\n",
    "\n",
    "# already checked that the \"Count of Participants\" is the dominate param type\n",
    "bm_used_case1 = bm_used_case1[bm_used_case1['param_type'] == 'Count of Participants']\n",
    "\n",
    "# % of the data ..\n",
    "print(\"Pct of bm rows: %.1f%%\" % (bm_used_case1.shape[0] / bm_used.shape[0] * 100))\n",
    "\n",
    "# unique ids for this case\n",
    "case1_nct_ids = bm_used_case1.index.get_level_values(0).unique()"
   ]
  },
  {
   "cell_type": "code",
   "execution_count": 143,
   "metadata": {},
   "outputs": [
    {
     "name": "stdout",
     "output_type": "stream",
     "text": [
      "Pct of bm rows: 75.1%\n"
     ]
    }
   ],
   "source": [
    "bm_full_case1 = bm_used.loc[case1_nct_ids]\n",
    "bm_full_case1 = bm_full_case1[bm_full_case1['param_type'] == 'Count of Participants']\n",
    "print(\"Pct of bm rows: %.1f%%\" % (bm_full_case1.shape[0] / bm_used.shape[0] * 100))"
   ]
  },
  {
   "cell_type": "code",
   "execution_count": 144,
   "metadata": {},
   "outputs": [
    {
     "data": {
      "text/plain": [
       "param_type\n",
       "Count of Participants    241302\n",
       "Name: id, dtype: int64"
      ]
     },
     "execution_count": 144,
     "metadata": {},
     "output_type": "execute_result"
    }
   ],
   "source": [
    "bm_full_case1.groupby('param_type')['id'].count()"
   ]
  },
  {
   "cell_type": "markdown",
   "metadata": {},
   "source": [
    "## Joining to result groups to get the group labels:"
   ]
  },
  {
   "cell_type": "code",
   "execution_count": 145,
   "metadata": {},
   "outputs": [],
   "source": [
    "dfm_case1 = bm_full_case1.reset_index().merge(rg.reset_index()[['nct_id', 'ctgov_group_code', 'title']], \n",
    "                                              on=['nct_id', 'ctgov_group_code'], \n",
    "                                              how='inner', \n",
    "                                              suffixes=('', '_rg'))"
   ]
  },
  {
   "cell_type": "code",
   "execution_count": 146,
   "metadata": {},
   "outputs": [
    {
     "data": {
      "text/plain": [
       "Index(['Total', 'Placebo', 'Control', 'Usual Care', 'All Participants',\n",
       "       'All Study Participants', 'Control Group', 'Intervention',\n",
       "       'Standard of Care', 'Overall Study', 'Treatment', 'Cohort 1',\n",
       "       'Cohort 2', 'Sugar Pill', 'Arm 1', 'Vehicle', 'Overall',\n",
       "       'Treatment Arm', 'Arm 2', 'Placebo Group', 'Cohort 3', 'Control Arm',\n",
       "       'Arm A', 'Arm B', 'Arm I', 'Group 1', 'Group A', 'Group B', 'Group 2',\n",
       "       'Single Arm', 'Arm II (Placebo)', 'All Patients', 'Normal Saline',\n",
       "       'Entire Study Population', 'Standard Care', 'Treatment as Usual',\n",
       "       'Intervention Group', 'Duloxetine', 'Saline', 'Varenicline', 'Active',\n",
       "       'Cohort A', 'Pembrolizumab', 'Ketamine', 'Total Title', 'All Subjects',\n",
       "       'Metformin', 'Placebo Arm', 'Cohort B', 'Dose Level 1'],\n",
       "      dtype='object', name='title_rg')"
      ]
     },
     "execution_count": 146,
     "metadata": {},
     "output_type": "execute_result"
    }
   ],
   "source": [
    "dfm_case1.groupby('title_rg').size().sort_values(ascending=False)[:50].index"
   ]
  },
  {
   "cell_type": "markdown",
   "metadata": {},
   "source": [
    "### Need to get rid of the total rows"
   ]
  },
  {
   "cell_type": "code",
   "execution_count": 147,
   "metadata": {},
   "outputs": [],
   "source": [
    "total_strings = ['Total', \n",
    "                 'All Participants', \n",
    "                 'All Study Participants', \n",
    "                 'Entire Study Population',\n",
    "                 'Overall Study',\n",
    "                 'Overall', \n",
    "                 'Total Title']"
   ]
  },
  {
   "cell_type": "code",
   "execution_count": 148,
   "metadata": {},
   "outputs": [
    {
     "data": {
      "text/plain": [
       "11877"
      ]
     },
     "execution_count": 148,
     "metadata": {},
     "output_type": "execute_result"
    }
   ],
   "source": [
    "dfm_case1_nontot = dfm_case1[~dfm_case1['title_rg'].isin(total_strings)].copy()\n",
    "len(dfm_case1_nontot['nct_id'].unique())"
   ]
  },
  {
   "cell_type": "code",
   "execution_count": 149,
   "metadata": {
    "scrolled": true
   },
   "outputs": [
    {
     "data": {
      "text/html": [
       "<div>\n",
       "<style scoped>\n",
       "    .dataframe tbody tr th:only-of-type {\n",
       "        vertical-align: middle;\n",
       "    }\n",
       "\n",
       "    .dataframe tbody tr th {\n",
       "        vertical-align: top;\n",
       "    }\n",
       "\n",
       "    .dataframe thead th {\n",
       "        text-align: right;\n",
       "    }\n",
       "</style>\n",
       "<table border=\"1\" class=\"dataframe\">\n",
       "  <thead>\n",
       "    <tr style=\"text-align: right;\">\n",
       "      <th></th>\n",
       "      <th>param_value_num</th>\n",
       "      <th>enrollment</th>\n",
       "      <th>tot_per_enroll</th>\n",
       "    </tr>\n",
       "    <tr>\n",
       "      <th>nct_id</th>\n",
       "      <th></th>\n",
       "      <th></th>\n",
       "      <th></th>\n",
       "    </tr>\n",
       "  </thead>\n",
       "  <tbody>\n",
       "    <tr>\n",
       "      <td>NCT00001262</td>\n",
       "      <td>60.0</td>\n",
       "      <td>60.0</td>\n",
       "      <td>1.0</td>\n",
       "    </tr>\n",
       "    <tr>\n",
       "      <td>NCT00001304</td>\n",
       "      <td>27.0</td>\n",
       "      <td>27.0</td>\n",
       "      <td>1.0</td>\n",
       "    </tr>\n",
       "    <tr>\n",
       "      <td>NCT00001305</td>\n",
       "      <td>42.0</td>\n",
       "      <td>42.0</td>\n",
       "      <td>1.0</td>\n",
       "    </tr>\n",
       "    <tr>\n",
       "      <td>NCT00001575</td>\n",
       "      <td>87.0</td>\n",
       "      <td>87.0</td>\n",
       "      <td>1.0</td>\n",
       "    </tr>\n",
       "    <tr>\n",
       "      <td>NCT00001586</td>\n",
       "      <td>105.0</td>\n",
       "      <td>105.0</td>\n",
       "      <td>1.0</td>\n",
       "    </tr>\n",
       "  </tbody>\n",
       "</table>\n",
       "</div>"
      ],
      "text/plain": [
       "             param_value_num  enrollment  tot_per_enroll\n",
       "nct_id                                                  \n",
       "NCT00001262             60.0        60.0             1.0\n",
       "NCT00001304             27.0        27.0             1.0\n",
       "NCT00001305             42.0        42.0             1.0\n",
       "NCT00001575             87.0        87.0             1.0\n",
       "NCT00001586            105.0       105.0             1.0"
      ]
     },
     "execution_count": 149,
     "metadata": {},
     "output_type": "execute_result"
    }
   ],
   "source": [
    "df_case1_totcounts = dfm_case1_nontot.groupby('nct_id')[['param_value_num']].sum()\n",
    "df_c1j = df_case1_totcounts.join(ss.studies[['enrollment']])\n",
    "df_c1j['tot_per_enroll'] = df_c1j['param_value_num'] / df_c1j['enrollment']\n",
    "df_c1j.head()"
   ]
  },
  {
   "cell_type": "code",
   "execution_count": 150,
   "metadata": {},
   "outputs": [
    {
     "data": {
      "text/plain": [
       "<matplotlib.axes._subplots.AxesSubplot at 0x7f8052084978>"
      ]
     },
     "execution_count": 150,
     "metadata": {},
     "output_type": "execute_result"
    },
    {
     "data": {
      "image/png": "[encoded data removed]",
      "text/plain": [
       "<Figure size 432x288 with 1 Axes>"
      ]
     },
     "metadata": {
      "needs_background": "light"
     },
     "output_type": "display_data"
    }
   ],
   "source": [
    "df_c1j[df_c1j['tot_per_enroll'] != 1.0]['tot_per_enroll'].clip(0, 4).hist(bins=50)"
   ]
  },
  {
   "cell_type": "markdown",
   "metadata": {},
   "source": [
    "### Some studies report multiple times for ethnicity - should not be double counted"
   ]
  },
  {
   "cell_type": "markdown",
   "metadata": {},
   "source": [
    "### Idea: let's just keep those studies with totals that sum up to smaller or equal to total enrollment"
   ]
  },
  {
   "cell_type": "code",
   "execution_count": 151,
   "metadata": {},
   "outputs": [
    {
     "data": {
      "text/plain": [
       "0.9692683337543151"
      ]
     },
     "execution_count": 151,
     "metadata": {},
     "output_type": "execute_result"
    }
   ],
   "source": [
    "non_double_counted = df_c1j[df_c1j['param_value_num'] <= df_c1j['enrollment']]\n",
    "non_double_counted.shape[0] / df_c1j.shape[0]"
   ]
  },
  {
   "cell_type": "code",
   "execution_count": 152,
   "metadata": {},
   "outputs": [],
   "source": [
    "df_final_case1 = dfm_case1_nontot[dfm_case1_nontot['nct_id'].isin(non_double_counted.index)].copy()"
   ]
  },
  {
   "cell_type": "code",
   "execution_count": 153,
   "metadata": {},
   "outputs": [
    {
     "data": {
      "text/plain": [
       "0.5399311713931881"
      ]
     },
     "execution_count": 153,
     "metadata": {},
     "output_type": "execute_result"
    }
   ],
   "source": [
    "# % of rows in bm_used\n",
    "df_final_case1.shape[0] / bm_used.shape[0]"
   ]
  },
  {
   "cell_type": "code",
   "execution_count": 154,
   "metadata": {},
   "outputs": [
    {
     "data": {
      "text/plain": [
       "0.6477969725958022"
      ]
     },
     "execution_count": 154,
     "metadata": {},
     "output_type": "execute_result"
    }
   ],
   "source": [
    "# % of nct_ids in bm_used\n",
    "len(df_final_case1['nct_id'].unique()) / len(bm_used.index.get_level_values(0).unique())"
   ]
  },
  {
   "cell_type": "markdown",
   "metadata": {},
   "source": [
    "## 4 b) Case 2: Category is blank (look in the classification field)"
   ]
  },
  {
   "cell_type": "code",
   "execution_count": 155,
   "metadata": {},
   "outputs": [
    {
     "name": "stdout",
     "output_type": "stream",
     "text": [
      "Pct of bm rows: 25.0%\n"
     ]
    }
   ],
   "source": [
    "bm_used_case2 = bm_used[bm_used['category'] == '']\n",
    "\n",
    "# checked that these 2 are the dominate characterstics\n",
    "bm_used_case2 = bm_used_case2[bm_used_case2['param_type'].isin(['Count of Participants', 'Number'])]\n",
    "\n",
    "\n",
    "# % of the data ..\n",
    "print(\"Pct of bm rows: %.1f%%\" % (bm_used_case2.shape[0] / bm_used.shape[0] * 100))\n",
    "\n",
    "# unique ids for this case\n",
    "case2_nct_ids = bm_used_case2.index.get_level_values(0).unique()"
   ]
  },
  {
   "cell_type": "code",
   "execution_count": 156,
   "metadata": {},
   "outputs": [
    {
     "name": "stdout",
     "output_type": "stream",
     "text": [
      "Pct of bm rows: 25.6%\n"
     ]
    }
   ],
   "source": [
    "bm_full_case2 = bm_used.loc[case2_nct_ids]\n",
    "bm_full_case2 = bm_full_case2[bm_full_case2['param_type'].isin(['Count of Participants', 'Number'])]\n",
    "print(\"Pct of bm rows: %.1f%%\" % (bm_full_case2.shape[0] / bm_used.shape[0] * 100))"
   ]
  },
  {
   "cell_type": "markdown",
   "metadata": {},
   "source": [
    "## Joining to result groups to get the group labels:"
   ]
  },
  {
   "cell_type": "code",
   "execution_count": 157,
   "metadata": {},
   "outputs": [],
   "source": [
    "dfm_case2 = bm_full_case2.reset_index().merge(rg.reset_index()[['nct_id', 'ctgov_group_code', 'title']], \n",
    "                                              on=['nct_id', 'ctgov_group_code'], \n",
    "                                              how='inner', \n",
    "                                              suffixes=('', '_rg'))"
   ]
  },
  {
   "cell_type": "code",
   "execution_count": 158,
   "metadata": {},
   "outputs": [
    {
     "data": {
      "text/plain": [
       "Index(['Total', 'Placebo', 'Control', 'Usual Care', 'Control Group',\n",
       "       'All Participants', 'All Study Participants', 'Standard of Care',\n",
       "       'Sitagliptin 100 mg', 'Duloxetine', 'Overall Study', 'Cinacalcet',\n",
       "       'Treatment', 'Cohort 1', 'Cohort 2', 'Overall', 'Lixisenatide',\n",
       "       'Intervention', 'Dispensed Subjects', 'Denosumab',\n",
       "       'Denosumab 60 mg Q6M', 'Lapatinib', 'Placebo MDPI', 'Vehicle Foam',\n",
       "       'Placebo Group', 'Vehicle', 'Iron Isomaltoside/Ferric Derisomaltose',\n",
       "       'Sitagliptin', 'FF 100 µg OD', 'Fp MDPI 100 mcg', 'Standard Care',\n",
       "       'Entire Study Population', 'Arm 1', 'SOF/VEL 12 Weeks', 'Placebo Q2W',\n",
       "       'FF/VI 100/25 µg QD', 'Fasiglifam 50 mg', 'Metformin',\n",
       "       'Vortioxetine 10 mg', 'Escitalopram', 'Placebo QD', 'Trastuzumab',\n",
       "       'Etanercept', 'Insulin Glargine', 'VI 25 µg QD', 'FF/VI 100/25 µg OD',\n",
       "       'Stribild', 'Cohort 3', 'Nimenrix Group', 'Atomoxetine'],\n",
       "      dtype='object', name='title_rg')"
      ]
     },
     "execution_count": 158,
     "metadata": {},
     "output_type": "execute_result"
    }
   ],
   "source": [
    "dfm_case2.groupby('title_rg').size().sort_values(ascending=False)[:50].index"
   ]
  },
  {
   "cell_type": "code",
   "execution_count": 159,
   "metadata": {},
   "outputs": [],
   "source": [
    "# still the same total strings:\n",
    "total_strings = ['Total', \n",
    "                 'All Participants', \n",
    "                 'All Study Participants', \n",
    "                 'Entire Study Population',\n",
    "                 'Overall Study',\n",
    "                 'Overall', \n",
    "                 'Total Title']"
   ]
  },
  {
   "cell_type": "code",
   "execution_count": 160,
   "metadata": {},
   "outputs": [
    {
     "data": {
      "text/plain": [
       "5501"
      ]
     },
     "execution_count": 160,
     "metadata": {},
     "output_type": "execute_result"
    }
   ],
   "source": [
    "dfm_case2_nontot = dfm_case2[~dfm_case2['title_rg'].isin(total_strings)].copy()\n",
    "len(dfm_case2_nontot['nct_id'].unique())"
   ]
  },
  {
   "cell_type": "code",
   "execution_count": 161,
   "metadata": {},
   "outputs": [
    {
     "data": {
      "text/html": [
       "<div>\n",
       "<style scoped>\n",
       "    .dataframe tbody tr th:only-of-type {\n",
       "        vertical-align: middle;\n",
       "    }\n",
       "\n",
       "    .dataframe tbody tr th {\n",
       "        vertical-align: top;\n",
       "    }\n",
       "\n",
       "    .dataframe thead th {\n",
       "        text-align: right;\n",
       "    }\n",
       "</style>\n",
       "<table border=\"1\" class=\"dataframe\">\n",
       "  <thead>\n",
       "    <tr style=\"text-align: right;\">\n",
       "      <th></th>\n",
       "      <th>param_value_num</th>\n",
       "      <th>enrollment</th>\n",
       "      <th>tot_per_enroll</th>\n",
       "    </tr>\n",
       "    <tr>\n",
       "      <th>nct_id</th>\n",
       "      <th></th>\n",
       "      <th></th>\n",
       "      <th></th>\n",
       "    </tr>\n",
       "  </thead>\n",
       "  <tbody>\n",
       "    <tr>\n",
       "      <td>NCT00000125</td>\n",
       "      <td>1636.0</td>\n",
       "      <td>1636.0</td>\n",
       "      <td>1.000000</td>\n",
       "    </tr>\n",
       "    <tr>\n",
       "      <td>NCT00000392</td>\n",
       "      <td>212.0</td>\n",
       "      <td>215.0</td>\n",
       "      <td>0.986047</td>\n",
       "    </tr>\n",
       "    <tr>\n",
       "      <td>NCT00000620</td>\n",
       "      <td>10251.0</td>\n",
       "      <td>10251.0</td>\n",
       "      <td>1.000000</td>\n",
       "    </tr>\n",
       "    <tr>\n",
       "      <td>NCT00001941</td>\n",
       "      <td>34.0</td>\n",
       "      <td>34.0</td>\n",
       "      <td>1.000000</td>\n",
       "    </tr>\n",
       "    <tr>\n",
       "      <td>NCT00002850</td>\n",
       "      <td>212.0</td>\n",
       "      <td>212.0</td>\n",
       "      <td>1.000000</td>\n",
       "    </tr>\n",
       "  </tbody>\n",
       "</table>\n",
       "</div>"
      ],
      "text/plain": [
       "             param_value_num  enrollment  tot_per_enroll\n",
       "nct_id                                                  \n",
       "NCT00000125           1636.0      1636.0        1.000000\n",
       "NCT00000392            212.0       215.0        0.986047\n",
       "NCT00000620          10251.0     10251.0        1.000000\n",
       "NCT00001941             34.0        34.0        1.000000\n",
       "NCT00002850            212.0       212.0        1.000000"
      ]
     },
     "execution_count": 161,
     "metadata": {},
     "output_type": "execute_result"
    }
   ],
   "source": [
    "df_case2_totcounts = dfm_case2_nontot.groupby('nct_id')[['param_value_num']].sum()\n",
    "df_c2j = df_case2_totcounts.join(ss.studies[['enrollment']])\n",
    "df_c2j['tot_per_enroll'] = df_c2j['param_value_num'] / df_c2j['enrollment']\n",
    "df_c2j.head()"
   ]
  },
  {
   "cell_type": "code",
   "execution_count": 162,
   "metadata": {},
   "outputs": [
    {
     "data": {
      "text/plain": [
       "<matplotlib.axes._subplots.AxesSubplot at 0x7f80575cb0f0>"
      ]
     },
     "execution_count": 162,
     "metadata": {},
     "output_type": "execute_result"
    },
    {
     "data": {
      "image/png": "[encoded data removed]",
      "text/plain": [
       "<Figure size 432x288 with 1 Axes>"
      ]
     },
     "metadata": {
      "needs_background": "light"
     },
     "output_type": "display_data"
    }
   ],
   "source": [
    "df_c2j[df_c2j['tot_per_enroll'] != 1.0]['tot_per_enroll'].clip(0, 4).hist(bins=50)"
   ]
  },
  {
   "cell_type": "code",
   "execution_count": 163,
   "metadata": {},
   "outputs": [
    {
     "data": {
      "text/plain": [
       "0.8658425740774405"
      ]
     },
     "execution_count": 163,
     "metadata": {},
     "output_type": "execute_result"
    }
   ],
   "source": [
    "non_double_counted_case2 = df_c2j[df_c2j['param_value_num'] <= df_c2j['enrollment']]\n",
    "non_double_counted_case2.shape[0] / df_c2j.shape[0]"
   ]
  },
  {
   "cell_type": "code",
   "execution_count": 164,
   "metadata": {},
   "outputs": [],
   "source": [
    "df_final_case2 = dfm_case2_nontot[dfm_case2_nontot['nct_id'].isin(non_double_counted_case2.index)].copy()"
   ]
  },
  {
   "cell_type": "code",
   "execution_count": 165,
   "metadata": {},
   "outputs": [
    {
     "data": {
      "text/plain": [
       "0.14844824474606227"
      ]
     },
     "execution_count": 165,
     "metadata": {},
     "output_type": "execute_result"
    }
   ],
   "source": [
    "# % of rows in bm_used\n",
    "df_final_case2.shape[0] / bm_used.shape[0]"
   ]
  },
  {
   "cell_type": "code",
   "execution_count": 166,
   "metadata": {},
   "outputs": [
    {
     "data": {
      "text/plain": [
       "0.2680209329806989"
      ]
     },
     "execution_count": 166,
     "metadata": {},
     "output_type": "execute_result"
    }
   ],
   "source": [
    "# % of nct_ids in bm_used\n",
    "len(df_final_case2['nct_id'].unique()) / len(bm_used.index.get_level_values(0).unique())"
   ]
  },
  {
   "cell_type": "markdown",
   "metadata": {},
   "source": [
    "### Do we have any nct_ids in both cases?"
   ]
  },
  {
   "cell_type": "code",
   "execution_count": 167,
   "metadata": {},
   "outputs": [],
   "source": [
    "c1_nct = df_final_case1['nct_id'].unique()\n",
    "c2_nct = df_final_case2['nct_id'].unique()"
   ]
  },
  {
   "cell_type": "code",
   "execution_count": 168,
   "metadata": {},
   "outputs": [
    {
     "data": {
      "text/plain": [
       "['NCT01960075', 'NCT03237065']"
      ]
     },
     "execution_count": 168,
     "metadata": {},
     "output_type": "execute_result"
    }
   ],
   "source": [
    "[x for x in c1_nct if x in c2_nct]"
   ]
  },
  {
   "cell_type": "markdown",
   "metadata": {},
   "source": [
    "only 2 cases, let's just take their case 1 datapoints"
   ]
  },
  {
   "cell_type": "code",
   "execution_count": 169,
   "metadata": {},
   "outputs": [],
   "source": [
    "df_final_case1['used_race'] = df_final_case1['category']\n",
    "df_final_case2['used_race'] = df_final_case2['classification']\n",
    "\n",
    "df_final_case2_not_case1 = df_final_case2[~df_final_case2['nct_id'].isin(df_final_case1['nct_id'].unique())]"
   ]
  },
  {
   "cell_type": "code",
   "execution_count": 170,
   "metadata": {},
   "outputs": [],
   "source": [
    "req_columns = [\n",
    "    'nct_id', \n",
    "    'result_group_id',\n",
    "    'title',\n",
    "    'ctgov_group_code',\n",
    "    'used_race',\n",
    "    'param_value_num'\n",
    "]"
   ]
  },
  {
   "cell_type": "markdown",
   "metadata": {},
   "source": [
    "## 4 c) Joining together the cases"
   ]
  },
  {
   "cell_type": "code",
   "execution_count": 171,
   "metadata": {},
   "outputs": [],
   "source": [
    "df_final_all = pd.concat([df_final_case1[req_columns], df_final_case2_not_case1[req_columns]])"
   ]
  },
  {
   "cell_type": "code",
   "execution_count": 172,
   "metadata": {},
   "outputs": [
    {
     "data": {
      "text/plain": [
       "0.6882798449178227"
      ]
     },
     "execution_count": 172,
     "metadata": {},
     "output_type": "execute_result"
    }
   ],
   "source": [
    "df_final_all.shape[0] / bm_used.shape[0]"
   ]
  },
  {
   "cell_type": "code",
   "execution_count": 173,
   "metadata": {},
   "outputs": [
    {
     "data": {
      "text/plain": [
       "(0.38045028405769993, 16273)"
      ]
     },
     "execution_count": 173,
     "metadata": {},
     "output_type": "execute_result"
    }
   ],
   "source": [
    "# % of all nctids that report baseline measures\n",
    "num_studies_report_race = len(df_final_all['nct_id'].unique())\n",
    "num_studies_report_race / len(bm.index.get_level_values(0).unique()), num_studies_report_race"
   ]
  },
  {
   "cell_type": "code",
   "execution_count": 174,
   "metadata": {},
   "outputs": [],
   "source": [
    "dftotals = df_final_all.groupby('nct_id')[['param_value_num']].sum()"
   ]
  },
  {
   "cell_type": "code",
   "execution_count": 175,
   "metadata": {},
   "outputs": [
    {
     "data": {
      "text/html": [
       "<div>\n",
       "<style scoped>\n",
       "    .dataframe tbody tr th:only-of-type {\n",
       "        vertical-align: middle;\n",
       "    }\n",
       "\n",
       "    .dataframe tbody tr th {\n",
       "        vertical-align: top;\n",
       "    }\n",
       "\n",
       "    .dataframe thead th {\n",
       "        text-align: right;\n",
       "    }\n",
       "</style>\n",
       "<table border=\"1\" class=\"dataframe\">\n",
       "  <thead>\n",
       "    <tr style=\"text-align: right;\">\n",
       "      <th></th>\n",
       "      <th>percentile</th>\n",
       "      <th>param_value_num</th>\n",
       "    </tr>\n",
       "  </thead>\n",
       "  <tbody>\n",
       "    <tr>\n",
       "      <td>19</td>\n",
       "      <td>15%</td>\n",
       "      <td>16.0</td>\n",
       "    </tr>\n",
       "    <tr>\n",
       "      <td>20</td>\n",
       "      <td>16%</td>\n",
       "      <td>18.0</td>\n",
       "    </tr>\n",
       "    <tr>\n",
       "      <td>21</td>\n",
       "      <td>17%</td>\n",
       "      <td>19.0</td>\n",
       "    </tr>\n",
       "    <tr>\n",
       "      <td>22</td>\n",
       "      <td>18%</td>\n",
       "      <td>20.0</td>\n",
       "    </tr>\n",
       "    <tr>\n",
       "      <td>23</td>\n",
       "      <td>19%</td>\n",
       "      <td>20.0</td>\n",
       "    </tr>\n",
       "    <tr>\n",
       "      <td>24</td>\n",
       "      <td>20%</td>\n",
       "      <td>21.0</td>\n",
       "    </tr>\n",
       "    <tr>\n",
       "      <td>25</td>\n",
       "      <td>21%</td>\n",
       "      <td>23.0</td>\n",
       "    </tr>\n",
       "    <tr>\n",
       "      <td>26</td>\n",
       "      <td>22%</td>\n",
       "      <td>24.0</td>\n",
       "    </tr>\n",
       "    <tr>\n",
       "      <td>27</td>\n",
       "      <td>23%</td>\n",
       "      <td>24.0</td>\n",
       "    </tr>\n",
       "    <tr>\n",
       "      <td>28</td>\n",
       "      <td>24%</td>\n",
       "      <td>25.0</td>\n",
       "    </tr>\n",
       "  </tbody>\n",
       "</table>\n",
       "</div>"
      ],
      "text/plain": [
       "   percentile  param_value_num\n",
       "19        15%             16.0\n",
       "20        16%             18.0\n",
       "21        17%             19.0\n",
       "22        18%             20.0\n",
       "23        19%             20.0\n",
       "24        20%             21.0\n",
       "25        21%             23.0\n",
       "26        22%             24.0\n",
       "27        23%             24.0\n",
       "28        24%             25.0"
      ]
     },
     "execution_count": 175,
     "metadata": {},
     "output_type": "execute_result"
    }
   ],
   "source": [
    "df_percentile_totals = dftotals.describe(np.arange(0,1,0.01))\n",
    "df_percentile_totals.index.name='percentile'\n",
    "df_percentile_totals.reset_index(inplace=True)\n",
    "df_percentile_totals = df_percentile_totals[df_percentile_totals['percentile'].apply(lambda x: \n",
    "                                                                                     True if '%' in x \n",
    "                                                                                     else False)]\n",
    "df_percentile_totals[15:25]"
   ]
  },
  {
   "cell_type": "markdown",
   "metadata": {},
   "source": [
    "### We picked to keep 80% of the data and exclude any studies such the total <= 20"
   ]
  },
  {
   "cell_type": "code",
   "execution_count": 176,
   "metadata": {},
   "outputs": [
    {
     "data": {
      "text/plain": [
       "(13135, 1)"
      ]
     },
     "execution_count": 176,
     "metadata": {},
     "output_type": "execute_result"
    }
   ],
   "source": [
    "df_totals_used = dftotals[dftotals['param_value_num'] > 20]\n",
    "df_totals_used.shape"
   ]
  },
  {
   "cell_type": "code",
   "execution_count": 177,
   "metadata": {},
   "outputs": [
    {
     "data": {
      "text/html": [
       "<div>\n",
       "<style scoped>\n",
       "    .dataframe tbody tr th:only-of-type {\n",
       "        vertical-align: middle;\n",
       "    }\n",
       "\n",
       "    .dataframe tbody tr th {\n",
       "        vertical-align: top;\n",
       "    }\n",
       "\n",
       "    .dataframe thead th {\n",
       "        text-align: right;\n",
       "    }\n",
       "</style>\n",
       "<table border=\"1\" class=\"dataframe\">\n",
       "  <thead>\n",
       "    <tr style=\"text-align: right;\">\n",
       "      <th></th>\n",
       "      <th>nct_id</th>\n",
       "      <th>result_group_id</th>\n",
       "      <th>title</th>\n",
       "      <th>ctgov_group_code</th>\n",
       "      <th>used_race</th>\n",
       "      <th>param_value_num</th>\n",
       "    </tr>\n",
       "  </thead>\n",
       "  <tbody>\n",
       "    <tr>\n",
       "      <td>7</td>\n",
       "      <td>NCT00001262</td>\n",
       "      <td>17107073</td>\n",
       "      <td>Race (NIH/OMB)</td>\n",
       "      <td>B3</td>\n",
       "      <td>Unknown or Not Reported</td>\n",
       "      <td>0.0</td>\n",
       "    </tr>\n",
       "    <tr>\n",
       "      <td>8</td>\n",
       "      <td>NCT00001262</td>\n",
       "      <td>17107073</td>\n",
       "      <td>Race (NIH/OMB)</td>\n",
       "      <td>B3</td>\n",
       "      <td>More than one race</td>\n",
       "      <td>0.0</td>\n",
       "    </tr>\n",
       "    <tr>\n",
       "      <td>9</td>\n",
       "      <td>NCT00001262</td>\n",
       "      <td>17107073</td>\n",
       "      <td>Race (NIH/OMB)</td>\n",
       "      <td>B3</td>\n",
       "      <td>White</td>\n",
       "      <td>3.0</td>\n",
       "    </tr>\n",
       "    <tr>\n",
       "      <td>10</td>\n",
       "      <td>NCT00001262</td>\n",
       "      <td>17107073</td>\n",
       "      <td>Race (NIH/OMB)</td>\n",
       "      <td>B3</td>\n",
       "      <td>Black or African American</td>\n",
       "      <td>0.0</td>\n",
       "    </tr>\n",
       "    <tr>\n",
       "      <td>11</td>\n",
       "      <td>NCT00001262</td>\n",
       "      <td>17107073</td>\n",
       "      <td>Race (NIH/OMB)</td>\n",
       "      <td>B3</td>\n",
       "      <td>Native Hawaiian or Other Pacific Islander</td>\n",
       "      <td>0.0</td>\n",
       "    </tr>\n",
       "  </tbody>\n",
       "</table>\n",
       "</div>"
      ],
      "text/plain": [
       "         nct_id  result_group_id           title ctgov_group_code  \\\n",
       "7   NCT00001262         17107073  Race (NIH/OMB)               B3   \n",
       "8   NCT00001262         17107073  Race (NIH/OMB)               B3   \n",
       "9   NCT00001262         17107073  Race (NIH/OMB)               B3   \n",
       "10  NCT00001262         17107073  Race (NIH/OMB)               B3   \n",
       "11  NCT00001262         17107073  Race (NIH/OMB)               B3   \n",
       "\n",
       "                                    used_race  param_value_num  \n",
       "7                     Unknown or Not Reported              0.0  \n",
       "8                          More than one race              0.0  \n",
       "9                                       White              3.0  \n",
       "10                  Black or African American              0.0  \n",
       "11  Native Hawaiian or Other Pacific Islander              0.0  "
      ]
     },
     "execution_count": 177,
     "metadata": {},
     "output_type": "execute_result"
    }
   ],
   "source": [
    "df_final_g20 = df_final_all[df_final_all['nct_id'].isin(df_totals_used.index.unique())]\n",
    "df_final_g20.head()"
   ]
  },
  {
   "cell_type": "markdown",
   "metadata": {},
   "source": [
    "### Only keep those with 2 Arms"
   ]
  },
  {
   "cell_type": "code",
   "execution_count": 178,
   "metadata": {
    "scrolled": true
   },
   "outputs": [
    {
     "data": {
      "text/plain": [
       "array([[<matplotlib.axes._subplots.AxesSubplot object at 0x7f8051173518>]],\n",
       "      dtype=object)"
      ]
     },
     "execution_count": 178,
     "metadata": {},
     "output_type": "execute_result"
    },
    {
     "data": {
      "image/png": "[encoded data removed]",
      "text/plain": [
       "<Figure size 432x288 with 1 Axes>"
      ]
     },
     "metadata": {
      "needs_background": "light"
     },
     "output_type": "display_data"
    }
   ],
   "source": [
    "df_final_g20.groupby('nct_id')[['ctgov_group_code']].nunique().clip(0, 10).hist(bins=10)"
   ]
  },
  {
   "cell_type": "code",
   "execution_count": 179,
   "metadata": {},
   "outputs": [
    {
     "data": {
      "text/plain": [
       "6617"
      ]
     },
     "execution_count": 179,
     "metadata": {},
     "output_type": "execute_result"
    }
   ],
   "source": [
    "# only keep studies with exactly 2 arms\n",
    "s_ngrps = df_final_g20.groupby('nct_id')['ctgov_group_code'].nunique()\n",
    "nct_id_2arm = s_ngrps[s_ngrps == 2].index\n",
    "len(nct_id_2arm)"
   ]
  },
  {
   "cell_type": "code",
   "execution_count": 180,
   "metadata": {},
   "outputs": [
    {
     "data": {
      "text/plain": [
       "(0.15470039510906414, 0.023722712785599304)"
      ]
     },
     "execution_count": 180,
     "metadata": {},
     "output_type": "execute_result"
    }
   ],
   "source": [
    "# % of studies with bm\n",
    "# % of all studies in database\n",
    "len(nct_id_2arm) / bm_all, len(nct_id_2arm) / num_all "
   ]
  },
  {
   "cell_type": "code",
   "execution_count": 181,
   "metadata": {},
   "outputs": [
    {
     "data": {
      "text/plain": [
       "(77668, 6)"
      ]
     },
     "execution_count": 181,
     "metadata": {},
     "output_type": "execute_result"
    }
   ],
   "source": [
    "df_final_two_arm = df_final_g20[df_final_g20['nct_id'].isin(nct_id_2arm)]\n",
    "df_final_two_arm.shape"
   ]
  },
  {
   "cell_type": "code",
   "execution_count": 182,
   "metadata": {},
   "outputs": [
    {
     "data": {
      "text/html": [
       "<div>\n",
       "<style scoped>\n",
       "    .dataframe tbody tr th:only-of-type {\n",
       "        vertical-align: middle;\n",
       "    }\n",
       "\n",
       "    .dataframe tbody tr th {\n",
       "        vertical-align: top;\n",
       "    }\n",
       "\n",
       "    .dataframe thead th {\n",
       "        text-align: right;\n",
       "    }\n",
       "</style>\n",
       "<table border=\"1\" class=\"dataframe\">\n",
       "  <thead>\n",
       "    <tr style=\"text-align: right;\">\n",
       "      <th></th>\n",
       "      <th>nct_id</th>\n",
       "      <th>result_group_id</th>\n",
       "      <th>title</th>\n",
       "      <th>ctgov_group_code</th>\n",
       "      <th>used_race</th>\n",
       "      <th>param_value_num</th>\n",
       "    </tr>\n",
       "  </thead>\n",
       "  <tbody>\n",
       "    <tr>\n",
       "      <td>35</td>\n",
       "      <td>NCT00001304</td>\n",
       "      <td>17107052</td>\n",
       "      <td>Race (NIH/OMB)</td>\n",
       "      <td>B2</td>\n",
       "      <td>Unknown or Not Reported</td>\n",
       "      <td>1.0</td>\n",
       "    </tr>\n",
       "    <tr>\n",
       "      <td>36</td>\n",
       "      <td>NCT00001304</td>\n",
       "      <td>17107052</td>\n",
       "      <td>Race (NIH/OMB)</td>\n",
       "      <td>B2</td>\n",
       "      <td>More than one race</td>\n",
       "      <td>0.0</td>\n",
       "    </tr>\n",
       "    <tr>\n",
       "      <td>37</td>\n",
       "      <td>NCT00001304</td>\n",
       "      <td>17107052</td>\n",
       "      <td>Race (NIH/OMB)</td>\n",
       "      <td>B2</td>\n",
       "      <td>White</td>\n",
       "      <td>13.0</td>\n",
       "    </tr>\n",
       "    <tr>\n",
       "      <td>38</td>\n",
       "      <td>NCT00001304</td>\n",
       "      <td>17107052</td>\n",
       "      <td>Race (NIH/OMB)</td>\n",
       "      <td>B2</td>\n",
       "      <td>Black or African American</td>\n",
       "      <td>0.0</td>\n",
       "    </tr>\n",
       "    <tr>\n",
       "      <td>39</td>\n",
       "      <td>NCT00001304</td>\n",
       "      <td>17107052</td>\n",
       "      <td>Race (NIH/OMB)</td>\n",
       "      <td>B2</td>\n",
       "      <td>Native Hawaiian or Other Pacific Islander</td>\n",
       "      <td>0.0</td>\n",
       "    </tr>\n",
       "  </tbody>\n",
       "</table>\n",
       "</div>"
      ],
      "text/plain": [
       "         nct_id  result_group_id           title ctgov_group_code  \\\n",
       "35  NCT00001304         17107052  Race (NIH/OMB)               B2   \n",
       "36  NCT00001304         17107052  Race (NIH/OMB)               B2   \n",
       "37  NCT00001304         17107052  Race (NIH/OMB)               B2   \n",
       "38  NCT00001304         17107052  Race (NIH/OMB)               B2   \n",
       "39  NCT00001304         17107052  Race (NIH/OMB)               B2   \n",
       "\n",
       "                                    used_race  param_value_num  \n",
       "35                    Unknown or Not Reported              1.0  \n",
       "36                         More than one race              0.0  \n",
       "37                                      White             13.0  \n",
       "38                  Black or African American              0.0  \n",
       "39  Native Hawaiian or Other Pacific Islander              0.0  "
      ]
     },
     "execution_count": 182,
     "metadata": {},
     "output_type": "execute_result"
    }
   ],
   "source": [
    "df_final_two_arm.head()"
   ]
  },
  {
   "cell_type": "markdown",
   "metadata": {},
   "source": [
    "# 5. Outcome measurements\n",
    "- The report group means and stds has to be retreived from the other table"
   ]
  },
  {
   "cell_type": "code",
   "execution_count": 183,
   "metadata": {},
   "outputs": [],
   "source": [
    "omj = om.reset_index().add_prefix('om_')\n",
    "outj = out.reset_index().add_prefix('out_')"
   ]
  },
  {
   "cell_type": "code",
   "execution_count": 184,
   "metadata": {},
   "outputs": [],
   "source": [
    "dfj = omj.merge(outj, \n",
    "                how='inner',\n",
    "                left_on=['om_nct_id', 'om_outcome_id'],\n",
    "                right_on=['out_nct_id', 'out_id'],)"
   ]
  },
  {
   "cell_type": "code",
   "execution_count": 185,
   "metadata": {},
   "outputs": [
    {
     "data": {
      "text/plain": [
       "6617"
      ]
     },
     "execution_count": 185,
     "metadata": {},
     "output_type": "execute_result"
    }
   ],
   "source": [
    "# studies from the baseline measurement race requirements above\n",
    "studies_w_race_info = df_final_two_arm['nct_id'].unique()\n",
    "len(studies_w_race_info)"
   ]
  },
  {
   "cell_type": "code",
   "execution_count": 186,
   "metadata": {},
   "outputs": [
    {
     "data": {
      "text/plain": [
       "28745"
      ]
     },
     "execution_count": 186,
     "metadata": {},
     "output_type": "execute_result"
    }
   ],
   "source": [
    "# studies with 1 primary outcome\n",
    "outj_primary = outj[outj['out_outcome_type'] == 'Primary']\n",
    "num_outcomes_per_study = outj_primary.groupby('out_nct_id')['out_id'].size()\n",
    "studies_w_1_outcome = num_outcomes_per_study[num_outcomes_per_study == 1].index\n",
    "len(studies_w_1_outcome)"
   ]
  },
  {
   "cell_type": "code",
   "execution_count": 187,
   "metadata": {},
   "outputs": [
    {
     "data": {
      "text/plain": [
       "4467"
      ]
     },
     "execution_count": 187,
     "metadata": {},
     "output_type": "execute_result"
    }
   ],
   "source": [
    "# intersection of the two requirements\n",
    "dfj_used = dfj[(dfj['om_nct_id'].isin(studies_w_race_info)) &\n",
    "               (dfj['om_nct_id'].isin(studies_w_1_outcome))]\n",
    "len(dfj_used['om_nct_id'].unique())"
   ]
  },
  {
   "cell_type": "code",
   "execution_count": 188,
   "metadata": {},
   "outputs": [
    {
     "data": {
      "text/plain": [
       "1474"
      ]
     },
     "execution_count": 188,
     "metadata": {},
     "output_type": "execute_result"
    }
   ],
   "source": [
    "dfom_prim = dfj_used[(dfj_used['out_param_type'] == 'Mean') & (dfj_used['out_outcome_type'] == 'Primary')]\n",
    "len(dfom_prim['om_nct_id'].unique())"
   ]
  },
  {
   "cell_type": "code",
   "execution_count": 189,
   "metadata": {},
   "outputs": [],
   "source": [
    "# needs to have exactly 2 unique group codes\n",
    "num_group_codes = dfom_prim.groupby('om_nct_id')['om_ctgov_group_code'].size()\n",
    "with_2_g_codes = num_group_codes[num_group_codes == 2].index\n",
    "\n",
    "num_uniq_group_codes = dfom_prim.groupby('om_nct_id')['om_ctgov_group_code'].nunique()\n",
    "with_2_uniq_g_codes = num_uniq_group_codes[num_uniq_group_codes == 2].index"
   ]
  },
  {
   "cell_type": "code",
   "execution_count": 190,
   "metadata": {},
   "outputs": [
    {
     "data": {
      "text/plain": [
       "1003"
      ]
     },
     "execution_count": 190,
     "metadata": {},
     "output_type": "execute_result"
    }
   ],
   "source": [
    "dfom_all_types = dfom_prim[(dfom_prim['om_nct_id'].isin(with_2_g_codes)) &\n",
    "                       (dfom_prim['om_nct_id'].isin(with_2_uniq_g_codes))]\n",
    "len(dfom_all_types['om_nct_id'].unique())"
   ]
  },
  {
   "cell_type": "code",
   "execution_count": 191,
   "metadata": {},
   "outputs": [
    {
     "data": {
      "text/plain": [
       "om_dispersion_type\n",
       "80% Confidence Interval         6\n",
       "95% Confidence Interval       226\n",
       "97.5% Confidence Interval       2\n",
       "98% Confidence Interval         2\n",
       "Full Range                     48\n",
       "Inter-Quartile Range           12\n",
       "Standard Deviation           1420\n",
       "Standard Error                290\n",
       "dtype: int64"
      ]
     },
     "execution_count": 191,
     "metadata": {},
     "output_type": "execute_result"
    }
   ],
   "source": [
    "dfom_all_types.groupby('om_dispersion_type').size()"
   ]
  },
  {
   "cell_type": "code",
   "execution_count": 192,
   "metadata": {},
   "outputs": [
    {
     "data": {
      "text/plain": [
       "855"
      ]
     },
     "execution_count": 192,
     "metadata": {},
     "output_type": "execute_result"
    }
   ],
   "source": [
    "used_dispersion_types = ['Standard Deviation', 'Standard Error']\n",
    "dfom_final = dfom_all_types[dfom_all_types['om_dispersion_type'].isin(used_dispersion_types)]\n",
    "len(dfom_final['om_nct_id'].unique())"
   ]
  },
  {
   "cell_type": "markdown",
   "metadata": {},
   "source": [
    "#### We arrive at a final om dataset of 855 studies"
   ]
  },
  {
   "cell_type": "markdown",
   "metadata": {},
   "source": [
    "## On the outcome counts, getting the primary counts"
   ]
  },
  {
   "cell_type": "code",
   "execution_count": 193,
   "metadata": {},
   "outputs": [
    {
     "data": {
      "text/plain": [
       "855"
      ]
     },
     "execution_count": 193,
     "metadata": {},
     "output_type": "execute_result"
    }
   ],
   "source": [
    "# requires the outcome table and the outcome_counts table\n",
    "ocj = oc.reset_index().add_prefix('oc_')\n",
    "out_ocj = out[['id', 'outcome_type']].reset_index().add_prefix('oco_')\n",
    "\n",
    "ocoj = ocj.merge(out_ocj,\n",
    "                 how='inner', \n",
    "                 left_on=['oc_nct_id', 'oc_outcome_id'],\n",
    "                 right_on=['oco_nct_id', 'oco_id'])\n",
    "ocoj_in_set = ocoj[ocoj['oc_nct_id'].isin(dfom_final['om_nct_id'].unique())]\n",
    "\n",
    "# only keep counts on primary out comes\n",
    "ocoj_primary = ocoj_in_set[ocoj_in_set['oco_outcome_type'] == 'Primary']\n",
    "\n",
    "len(ocoj_primary['oc_nct_id'].unique())"
   ]
  },
  {
   "cell_type": "code",
   "execution_count": 194,
   "metadata": {},
   "outputs": [
    {
     "data": {
      "application/vnd.jupyter.widget-view+json": {
       "model_id": "335a2665469943249cf5b358e76bfd8b",
       "version_major": 2,
       "version_minor": 0
      },
      "text/plain": [
       "HBox(children=(IntProgress(value=0, max=855), HTML(value='')))"
      ]
     },
     "metadata": {},
     "output_type": "display_data"
    },
    {
     "name": "stdout",
     "output_type": "stream",
     "text": [
      "\n"
     ]
    },
    {
     "data": {
      "text/html": [
       "<div>\n",
       "<style scoped>\n",
       "    .dataframe tbody tr th:only-of-type {\n",
       "        vertical-align: middle;\n",
       "    }\n",
       "\n",
       "    .dataframe tbody tr th {\n",
       "        vertical-align: top;\n",
       "    }\n",
       "\n",
       "    .dataframe thead th {\n",
       "        text-align: right;\n",
       "    }\n",
       "</style>\n",
       "<table border=\"1\" class=\"dataframe\">\n",
       "  <thead>\n",
       "    <tr style=\"text-align: right;\">\n",
       "      <th></th>\n",
       "      <th>ct_nct_id</th>\n",
       "      <th>ct_ctgov_group_code</th>\n",
       "      <th>ct_num_participants</th>\n",
       "      <th>ct_num_measures</th>\n",
       "    </tr>\n",
       "  </thead>\n",
       "  <tbody>\n",
       "    <tr>\n",
       "      <td>0</td>\n",
       "      <td>NCT00000392</td>\n",
       "      <td>O2</td>\n",
       "      <td>77</td>\n",
       "      <td>77</td>\n",
       "    </tr>\n",
       "    <tr>\n",
       "      <td>1</td>\n",
       "      <td>NCT00000392</td>\n",
       "      <td>O1</td>\n",
       "      <td>66</td>\n",
       "      <td>66</td>\n",
       "    </tr>\n",
       "    <tr>\n",
       "      <td>2</td>\n",
       "      <td>NCT00004732</td>\n",
       "      <td>O2</td>\n",
       "      <td>1240</td>\n",
       "      <td>1240</td>\n",
       "    </tr>\n",
       "    <tr>\n",
       "      <td>3</td>\n",
       "      <td>NCT00004732</td>\n",
       "      <td>O1</td>\n",
       "      <td>1262</td>\n",
       "      <td>1262</td>\n",
       "    </tr>\n",
       "    <tr>\n",
       "      <td>4</td>\n",
       "      <td>NCT00053846</td>\n",
       "      <td>O2</td>\n",
       "      <td>192</td>\n",
       "      <td>192</td>\n",
       "    </tr>\n",
       "    <tr>\n",
       "      <td>...</td>\n",
       "      <td>...</td>\n",
       "      <td>...</td>\n",
       "      <td>...</td>\n",
       "      <td>...</td>\n",
       "    </tr>\n",
       "    <tr>\n",
       "      <td>1706</td>\n",
       "      <td>NCT04179838</td>\n",
       "      <td>O1</td>\n",
       "      <td>25</td>\n",
       "      <td>25</td>\n",
       "    </tr>\n",
       "    <tr>\n",
       "      <td>1707</td>\n",
       "      <td>NCT04195880</td>\n",
       "      <td>O2</td>\n",
       "      <td>3338</td>\n",
       "      <td>3338</td>\n",
       "    </tr>\n",
       "    <tr>\n",
       "      <td>1708</td>\n",
       "      <td>NCT04195880</td>\n",
       "      <td>O1</td>\n",
       "      <td>3205</td>\n",
       "      <td>3205</td>\n",
       "    </tr>\n",
       "    <tr>\n",
       "      <td>1709</td>\n",
       "      <td>NCT04502979</td>\n",
       "      <td>O2</td>\n",
       "      <td>26</td>\n",
       "      <td>26</td>\n",
       "    </tr>\n",
       "    <tr>\n",
       "      <td>1710</td>\n",
       "      <td>NCT04502979</td>\n",
       "      <td>O1</td>\n",
       "      <td>28</td>\n",
       "      <td>28</td>\n",
       "    </tr>\n",
       "  </tbody>\n",
       "</table>\n",
       "<p>1711 rows × 4 columns</p>\n",
       "</div>"
      ],
      "text/plain": [
       "        ct_nct_id ct_ctgov_group_code  ct_num_participants  ct_num_measures\n",
       "0     NCT00000392                  O2                   77               77\n",
       "1     NCT00000392                  O1                   66               66\n",
       "2     NCT00004732                  O2                 1240             1240\n",
       "3     NCT00004732                  O1                 1262             1262\n",
       "4     NCT00053846                  O2                  192              192\n",
       "...           ...                 ...                  ...              ...\n",
       "1706  NCT04179838                  O1                   25               25\n",
       "1707  NCT04195880                  O2                 3338             3338\n",
       "1708  NCT04195880                  O1                 3205             3205\n",
       "1709  NCT04502979                  O2                   26               26\n",
       "1710  NCT04502979                  O1                   28               28\n",
       "\n",
       "[1711 rows x 4 columns]"
      ]
     },
     "execution_count": 194,
     "metadata": {},
     "output_type": "execute_result"
    }
   ],
   "source": [
    "# extracting the out_come counts:\n",
    "res_dict = {}\n",
    "\n",
    "for nct_id in tqdm(ocoj_primary['oc_nct_id'].unique()):\n",
    "    #print(nct_id)\n",
    "    sub_df = ocoj_primary[ocoj_primary['oc_nct_id'] == nct_id]\n",
    "    for gcode in sub_df['oc_ctgov_group_code'].unique():\n",
    "        sub_df_gc = sub_df[sub_df['oc_ctgov_group_code'] == gcode]\n",
    "        type_units = sub_df_gc['oc_units'].unique()\n",
    "\n",
    "        if len(type_units) == 1:\n",
    "            num_participants = sub_df_gc['oc_count'].values[0]\n",
    "            num_measures = sub_df_gc['oc_count'].values[0]  # same as participants\n",
    "        elif len(type_units) == 2:\n",
    "            num_participants = sub_df_gc[sub_df_gc['oc_units'] == 'Participants']['oc_count'].values[0]\n",
    "            num_measures = sub_df_gc[sub_df_gc['oc_units'] != 'Participants']['oc_count'].values[0]\n",
    "\n",
    "        res_dict[(nct_id, gcode)] = {\n",
    "            'num_participants': num_participants,\n",
    "            'num_measures': num_measures,\n",
    "        }\n",
    "        \n",
    "df_counts = pd.DataFrame(res_dict).T\n",
    "df_counts.index.names = ['nct_id', 'ctgov_group_code']\n",
    "df_counts = df_counts.reset_index().add_prefix('ct_')\n",
    "df_counts"
   ]
  },
  {
   "cell_type": "markdown",
   "metadata": {},
   "source": [
    "## Joining the counts to dfom_final"
   ]
  },
  {
   "cell_type": "code",
   "execution_count": 195,
   "metadata": {},
   "outputs": [
    {
     "data": {
      "text/plain": [
       "(1710, 32)"
      ]
     },
     "execution_count": 195,
     "metadata": {},
     "output_type": "execute_result"
    }
   ],
   "source": [
    "dfom_final.shape"
   ]
  },
  {
   "cell_type": "code",
   "execution_count": 196,
   "metadata": {},
   "outputs": [
    {
     "data": {
      "text/plain": [
       "(1710, 36)"
      ]
     },
     "execution_count": 196,
     "metadata": {},
     "output_type": "execute_result"
    }
   ],
   "source": [
    "df_om_final_w_counts = dfom_final.merge(df_counts,\n",
    "                                        how='inner',\n",
    "                                        left_on=['om_nct_id', 'om_ctgov_group_code'],\n",
    "                                        right_on=['ct_nct_id', 'ct_ctgov_group_code'])\n",
    "df_om_final_w_counts.shape"
   ]
  },
  {
   "cell_type": "code",
   "execution_count": 197,
   "metadata": {},
   "outputs": [
    {
     "data": {
      "text/plain": [
       "Index(['om_nct_id', 'om_result_group_id', 'om_outcome_id', 'om_id',\n",
       "       'om_ctgov_group_code', 'om_classification', 'om_category', 'om_title',\n",
       "       'om_description', 'om_units', 'om_param_type', 'om_param_value',\n",
       "       'om_param_value_num', 'om_dispersion_type', 'om_dispersion_value',\n",
       "       'om_dispersion_value_num', 'om_dispersion_lower_limit',\n",
       "       'om_dispersion_upper_limit', 'om_explanation_of_na', 'out_nct_id',\n",
       "       'out_id', 'out_outcome_type', 'out_title', 'out_description',\n",
       "       'out_time_frame', 'out_population', 'out_anticipated_posting_date',\n",
       "       'out_anticipated_posting_month_year', 'out_units', 'out_units_analyzed',\n",
       "       'out_dispersion_type', 'out_param_type', 'ct_nct_id',\n",
       "       'ct_ctgov_group_code', 'ct_num_participants', 'ct_num_measures'],\n",
       "      dtype='object')"
      ]
     },
     "execution_count": 197,
     "metadata": {},
     "output_type": "execute_result"
    }
   ],
   "source": [
    "df_om_final_w_counts.columns"
   ]
  },
  {
   "cell_type": "markdown",
   "metadata": {},
   "source": [
    "## Taking the intersection of the 2 datasets"
   ]
  },
  {
   "cell_type": "code",
   "execution_count": 198,
   "metadata": {},
   "outputs": [],
   "source": [
    "dfbm_final_i = df_final_two_arm[df_final_two_arm['nct_id'].isin(df_om_final_w_counts['om_nct_id'].unique())]\n",
    "dfbm_final_i = dfbm_final_i.add_prefix('bm_')\n",
    "dfom_final_i = df_om_final_w_counts[df_om_final_w_counts['om_nct_id'].isin(df_final_two_arm['nct_id'].unique())]"
   ]
  },
  {
   "cell_type": "code",
   "execution_count": 199,
   "metadata": {},
   "outputs": [
    {
     "data": {
      "text/plain": [
       "((10156, 6), (1710, 36))"
      ]
     },
     "execution_count": 199,
     "metadata": {},
     "output_type": "execute_result"
    }
   ],
   "source": [
    "dfbm_final_i.shape, dfom_final_i.shape"
   ]
  },
  {
   "cell_type": "code",
   "execution_count": 200,
   "metadata": {},
   "outputs": [],
   "source": [
    "# checkpoint outputting data pickels\n",
    "dfbm_final_i.to_pickle('bm.p')\n",
    "dfom_final_i.to_pickle('om.p')"
   ]
  },
  {
   "cell_type": "markdown",
   "metadata": {},
   "source": [
    "## Incorporate result group data into the output measurements "
   ]
  },
  {
   "cell_type": "code",
   "execution_count": 201,
   "metadata": {},
   "outputs": [],
   "source": [
    "sample_nct_id = 'NCT00000392'"
   ]
  },
  {
   "cell_type": "code",
   "execution_count": 202,
   "metadata": {},
   "outputs": [
    {
     "data": {
      "text/plain": [
       "(1710, 42)"
      ]
     },
     "execution_count": 202,
     "metadata": {},
     "output_type": "execute_result"
    }
   ],
   "source": [
    "# joining the result groups to dfom\n",
    "rg_omj = rg.reset_index().add_prefix(\"rgom_\")\n",
    "dfom_final_ij = dfom_final_i.merge(rg_omj,\n",
    "                                   how='inner',\n",
    "                                   left_on=['om_nct_id', 'om_result_group_id'],\n",
    "                                   right_on=['rgom_nct_id', 'rgom_id'])\n",
    "dfom_final_ij.shape"
   ]
  },
  {
   "cell_type": "code",
   "execution_count": 203,
   "metadata": {},
   "outputs": [
    {
     "data": {
      "text/html": [
       "<div>\n",
       "<style scoped>\n",
       "    .dataframe tbody tr th:only-of-type {\n",
       "        vertical-align: middle;\n",
       "    }\n",
       "\n",
       "    .dataframe tbody tr th {\n",
       "        vertical-align: top;\n",
       "    }\n",
       "\n",
       "    .dataframe thead th {\n",
       "        text-align: right;\n",
       "    }\n",
       "</style>\n",
       "<table border=\"1\" class=\"dataframe\">\n",
       "  <thead>\n",
       "    <tr style=\"text-align: right;\">\n",
       "      <th></th>\n",
       "      <th>0</th>\n",
       "      <th>1</th>\n",
       "    </tr>\n",
       "  </thead>\n",
       "  <tbody>\n",
       "    <tr>\n",
       "      <td>om_nct_id</td>\n",
       "      <td>NCT00000392</td>\n",
       "      <td>NCT00000392</td>\n",
       "    </tr>\n",
       "    <tr>\n",
       "      <td>om_result_group_id</td>\n",
       "      <td>17106864</td>\n",
       "      <td>17106865</td>\n",
       "    </tr>\n",
       "    <tr>\n",
       "      <td>om_outcome_id</td>\n",
       "      <td>5194677</td>\n",
       "      <td>5194677</td>\n",
       "    </tr>\n",
       "    <tr>\n",
       "      <td>om_id</td>\n",
       "      <td>39880275</td>\n",
       "      <td>39880276</td>\n",
       "    </tr>\n",
       "    <tr>\n",
       "      <td>om_ctgov_group_code</td>\n",
       "      <td>O2</td>\n",
       "      <td>O1</td>\n",
       "    </tr>\n",
       "    <tr>\n",
       "      <td>om_classification</td>\n",
       "      <td></td>\n",
       "      <td></td>\n",
       "    </tr>\n",
       "    <tr>\n",
       "      <td>om_category</td>\n",
       "      <td></td>\n",
       "      <td></td>\n",
       "    </tr>\n",
       "    <tr>\n",
       "      <td>om_title</td>\n",
       "      <td>Change in Global Neurocognitive Performance z ...</td>\n",
       "      <td>Change in Global Neurocognitive Performance z ...</td>\n",
       "    </tr>\n",
       "    <tr>\n",
       "      <td>om_description</td>\n",
       "      <td>Higher values for change in z-score represent ...</td>\n",
       "      <td>Higher values for change in z-score represent ...</td>\n",
       "    </tr>\n",
       "    <tr>\n",
       "      <td>om_units</td>\n",
       "      <td>z score</td>\n",
       "      <td>z score</td>\n",
       "    </tr>\n",
       "    <tr>\n",
       "      <td>om_param_type</td>\n",
       "      <td>Mean</td>\n",
       "      <td>Mean</td>\n",
       "    </tr>\n",
       "    <tr>\n",
       "      <td>om_param_value</td>\n",
       "      <td>0.16</td>\n",
       "      <td>0.24</td>\n",
       "    </tr>\n",
       "    <tr>\n",
       "      <td>om_param_value_num</td>\n",
       "      <td>0.16</td>\n",
       "      <td>0.24</td>\n",
       "    </tr>\n",
       "    <tr>\n",
       "      <td>om_dispersion_type</td>\n",
       "      <td>Standard Error</td>\n",
       "      <td>Standard Error</td>\n",
       "    </tr>\n",
       "    <tr>\n",
       "      <td>om_dispersion_value</td>\n",
       "      <td>0.03</td>\n",
       "      <td>0.05</td>\n",
       "    </tr>\n",
       "    <tr>\n",
       "      <td>om_dispersion_value_num</td>\n",
       "      <td>0.03</td>\n",
       "      <td>0.05</td>\n",
       "    </tr>\n",
       "    <tr>\n",
       "      <td>om_dispersion_lower_limit</td>\n",
       "      <td>NaN</td>\n",
       "      <td>NaN</td>\n",
       "    </tr>\n",
       "    <tr>\n",
       "      <td>om_dispersion_upper_limit</td>\n",
       "      <td>NaN</td>\n",
       "      <td>NaN</td>\n",
       "    </tr>\n",
       "    <tr>\n",
       "      <td>om_explanation_of_na</td>\n",
       "      <td></td>\n",
       "      <td></td>\n",
       "    </tr>\n",
       "    <tr>\n",
       "      <td>out_nct_id</td>\n",
       "      <td>NCT00000392</td>\n",
       "      <td>NCT00000392</td>\n",
       "    </tr>\n",
       "    <tr>\n",
       "      <td>out_id</td>\n",
       "      <td>5194677</td>\n",
       "      <td>5194677</td>\n",
       "    </tr>\n",
       "    <tr>\n",
       "      <td>out_outcome_type</td>\n",
       "      <td>Primary</td>\n",
       "      <td>Primary</td>\n",
       "    </tr>\n",
       "    <tr>\n",
       "      <td>out_title</td>\n",
       "      <td>Change in Global Neurocognitive Performance z ...</td>\n",
       "      <td>Change in Global Neurocognitive Performance z ...</td>\n",
       "    </tr>\n",
       "    <tr>\n",
       "      <td>out_description</td>\n",
       "      <td>Higher values for change in z-score represent ...</td>\n",
       "      <td>Higher values for change in z-score represent ...</td>\n",
       "    </tr>\n",
       "    <tr>\n",
       "      <td>out_time_frame</td>\n",
       "      <td>Baseline and 6 months</td>\n",
       "      <td>Baseline and 6 months</td>\n",
       "    </tr>\n",
       "    <tr>\n",
       "      <td>out_population</td>\n",
       "      <td></td>\n",
       "      <td></td>\n",
       "    </tr>\n",
       "    <tr>\n",
       "      <td>out_anticipated_posting_date</td>\n",
       "      <td>None</td>\n",
       "      <td>None</td>\n",
       "    </tr>\n",
       "    <tr>\n",
       "      <td>out_anticipated_posting_month_year</td>\n",
       "      <td></td>\n",
       "      <td></td>\n",
       "    </tr>\n",
       "    <tr>\n",
       "      <td>out_units</td>\n",
       "      <td>z score</td>\n",
       "      <td>z score</td>\n",
       "    </tr>\n",
       "    <tr>\n",
       "      <td>out_units_analyzed</td>\n",
       "      <td></td>\n",
       "      <td></td>\n",
       "    </tr>\n",
       "    <tr>\n",
       "      <td>out_dispersion_type</td>\n",
       "      <td>Standard Error</td>\n",
       "      <td>Standard Error</td>\n",
       "    </tr>\n",
       "    <tr>\n",
       "      <td>out_param_type</td>\n",
       "      <td>Mean</td>\n",
       "      <td>Mean</td>\n",
       "    </tr>\n",
       "    <tr>\n",
       "      <td>ct_nct_id</td>\n",
       "      <td>NCT00000392</td>\n",
       "      <td>NCT00000392</td>\n",
       "    </tr>\n",
       "    <tr>\n",
       "      <td>ct_ctgov_group_code</td>\n",
       "      <td>O2</td>\n",
       "      <td>O1</td>\n",
       "    </tr>\n",
       "    <tr>\n",
       "      <td>ct_num_participants</td>\n",
       "      <td>77</td>\n",
       "      <td>66</td>\n",
       "    </tr>\n",
       "    <tr>\n",
       "      <td>ct_num_measures</td>\n",
       "      <td>77</td>\n",
       "      <td>66</td>\n",
       "    </tr>\n",
       "    <tr>\n",
       "      <td>rgom_nct_id</td>\n",
       "      <td>NCT00000392</td>\n",
       "      <td>NCT00000392</td>\n",
       "    </tr>\n",
       "    <tr>\n",
       "      <td>rgom_id</td>\n",
       "      <td>17106864</td>\n",
       "      <td>17106865</td>\n",
       "    </tr>\n",
       "    <tr>\n",
       "      <td>rgom_ctgov_group_code</td>\n",
       "      <td>O2</td>\n",
       "      <td>O1</td>\n",
       "    </tr>\n",
       "    <tr>\n",
       "      <td>rgom_result_type</td>\n",
       "      <td>Outcome</td>\n",
       "      <td>Outcome</td>\n",
       "    </tr>\n",
       "    <tr>\n",
       "      <td>rgom_title</td>\n",
       "      <td>Placebo</td>\n",
       "      <td>Peptide T</td>\n",
       "    </tr>\n",
       "    <tr>\n",
       "      <td>rgom_description</td>\n",
       "      <td>Placebo given intranasally at a dosage of 2mg ...</td>\n",
       "      <td>Peptide T given intranasally at a dosage of 2m...</td>\n",
       "    </tr>\n",
       "  </tbody>\n",
       "</table>\n",
       "</div>"
      ],
      "text/plain": [
       "                                                                                    0  \\\n",
       "om_nct_id                                                                 NCT00000392   \n",
       "om_result_group_id                                                           17106864   \n",
       "om_outcome_id                                                                 5194677   \n",
       "om_id                                                                        39880275   \n",
       "om_ctgov_group_code                                                                O2   \n",
       "om_classification                                                                       \n",
       "om_category                                                                             \n",
       "om_title                            Change in Global Neurocognitive Performance z ...   \n",
       "om_description                      Higher values for change in z-score represent ...   \n",
       "om_units                                                                      z score   \n",
       "om_param_type                                                                    Mean   \n",
       "om_param_value                                                                   0.16   \n",
       "om_param_value_num                                                               0.16   \n",
       "om_dispersion_type                                                     Standard Error   \n",
       "om_dispersion_value                                                              0.03   \n",
       "om_dispersion_value_num                                                          0.03   \n",
       "om_dispersion_lower_limit                                                         NaN   \n",
       "om_dispersion_upper_limit                                                         NaN   \n",
       "om_explanation_of_na                                                                    \n",
       "out_nct_id                                                                NCT00000392   \n",
       "out_id                                                                        5194677   \n",
       "out_outcome_type                                                              Primary   \n",
       "out_title                           Change in Global Neurocognitive Performance z ...   \n",
       "out_description                     Higher values for change in z-score represent ...   \n",
       "out_time_frame                                                  Baseline and 6 months   \n",
       "out_population                                                                          \n",
       "out_anticipated_posting_date                                                     None   \n",
       "out_anticipated_posting_month_year                                                      \n",
       "out_units                                                                     z score   \n",
       "out_units_analyzed                                                                      \n",
       "out_dispersion_type                                                    Standard Error   \n",
       "out_param_type                                                                   Mean   \n",
       "ct_nct_id                                                                 NCT00000392   \n",
       "ct_ctgov_group_code                                                                O2   \n",
       "ct_num_participants                                                                77   \n",
       "ct_num_measures                                                                    77   \n",
       "rgom_nct_id                                                               NCT00000392   \n",
       "rgom_id                                                                      17106864   \n",
       "rgom_ctgov_group_code                                                              O2   \n",
       "rgom_result_type                                                              Outcome   \n",
       "rgom_title                                                                    Placebo   \n",
       "rgom_description                    Placebo given intranasally at a dosage of 2mg ...   \n",
       "\n",
       "                                                                                    1  \n",
       "om_nct_id                                                                 NCT00000392  \n",
       "om_result_group_id                                                           17106865  \n",
       "om_outcome_id                                                                 5194677  \n",
       "om_id                                                                        39880276  \n",
       "om_ctgov_group_code                                                                O1  \n",
       "om_classification                                                                      \n",
       "om_category                                                                            \n",
       "om_title                            Change in Global Neurocognitive Performance z ...  \n",
       "om_description                      Higher values for change in z-score represent ...  \n",
       "om_units                                                                      z score  \n",
       "om_param_type                                                                    Mean  \n",
       "om_param_value                                                                   0.24  \n",
       "om_param_value_num                                                               0.24  \n",
       "om_dispersion_type                                                     Standard Error  \n",
       "om_dispersion_value                                                              0.05  \n",
       "om_dispersion_value_num                                                          0.05  \n",
       "om_dispersion_lower_limit                                                         NaN  \n",
       "om_dispersion_upper_limit                                                         NaN  \n",
       "om_explanation_of_na                                                                   \n",
       "out_nct_id                                                                NCT00000392  \n",
       "out_id                                                                        5194677  \n",
       "out_outcome_type                                                              Primary  \n",
       "out_title                           Change in Global Neurocognitive Performance z ...  \n",
       "out_description                     Higher values for change in z-score represent ...  \n",
       "out_time_frame                                                  Baseline and 6 months  \n",
       "out_population                                                                         \n",
       "out_anticipated_posting_date                                                     None  \n",
       "out_anticipated_posting_month_year                                                     \n",
       "out_units                                                                     z score  \n",
       "out_units_analyzed                                                                     \n",
       "out_dispersion_type                                                    Standard Error  \n",
       "out_param_type                                                                   Mean  \n",
       "ct_nct_id                                                                 NCT00000392  \n",
       "ct_ctgov_group_code                                                                O1  \n",
       "ct_num_participants                                                                66  \n",
       "ct_num_measures                                                                    66  \n",
       "rgom_nct_id                                                               NCT00000392  \n",
       "rgom_id                                                                      17106865  \n",
       "rgom_ctgov_group_code                                                              O1  \n",
       "rgom_result_type                                                              Outcome  \n",
       "rgom_title                                                                  Peptide T  \n",
       "rgom_description                    Peptide T given intranasally at a dosage of 2m...  "
      ]
     },
     "execution_count": 203,
     "metadata": {},
     "output_type": "execute_result"
    }
   ],
   "source": [
    "dfom_final_ij[dfom_final_ij['om_nct_id'] == sample_nct_id].T"
   ]
  },
  {
   "cell_type": "code",
   "execution_count": 204,
   "metadata": {},
   "outputs": [
    {
     "data": {
      "text/plain": [
       "(10156, 12)"
      ]
     },
     "execution_count": 204,
     "metadata": {},
     "output_type": "execute_result"
    }
   ],
   "source": [
    "# joining the result groups to dfbm\n",
    "rg_bmj = rg.reset_index().add_prefix(\"rgbm_\")\n",
    "dfbm_final_ij = dfbm_final_i.merge(rg_bmj,\n",
    "                                   how='inner',\n",
    "                                   left_on=['bm_nct_id', 'bm_result_group_id'],\n",
    "                                   right_on=['rgbm_nct_id', 'rgbm_id'])\n",
    "dfbm_final_ij.shape"
   ]
  },
  {
   "cell_type": "code",
   "execution_count": 205,
   "metadata": {},
   "outputs": [
    {
     "data": {
      "text/html": [
       "<div>\n",
       "<style scoped>\n",
       "    .dataframe tbody tr th:only-of-type {\n",
       "        vertical-align: middle;\n",
       "    }\n",
       "\n",
       "    .dataframe tbody tr th {\n",
       "        vertical-align: top;\n",
       "    }\n",
       "\n",
       "    .dataframe thead th {\n",
       "        text-align: right;\n",
       "    }\n",
       "</style>\n",
       "<table border=\"1\" class=\"dataframe\">\n",
       "  <thead>\n",
       "    <tr style=\"text-align: right;\">\n",
       "      <th></th>\n",
       "      <th>8484</th>\n",
       "      <th>8485</th>\n",
       "      <th>8486</th>\n",
       "      <th>8487</th>\n",
       "      <th>8488</th>\n",
       "      <th>8489</th>\n",
       "    </tr>\n",
       "  </thead>\n",
       "  <tbody>\n",
       "    <tr>\n",
       "      <td>bm_nct_id</td>\n",
       "      <td>NCT00000392</td>\n",
       "      <td>NCT00000392</td>\n",
       "      <td>NCT00000392</td>\n",
       "      <td>NCT00000392</td>\n",
       "      <td>NCT00000392</td>\n",
       "      <td>NCT00000392</td>\n",
       "    </tr>\n",
       "    <tr>\n",
       "      <td>bm_result_group_id</td>\n",
       "      <td>17106858</td>\n",
       "      <td>17106858</td>\n",
       "      <td>17106858</td>\n",
       "      <td>17106859</td>\n",
       "      <td>17106859</td>\n",
       "      <td>17106859</td>\n",
       "    </tr>\n",
       "    <tr>\n",
       "      <td>bm_title</td>\n",
       "      <td>Race/Ethnicity, Customized</td>\n",
       "      <td>Race/Ethnicity, Customized</td>\n",
       "      <td>Race/Ethnicity, Customized</td>\n",
       "      <td>Race/Ethnicity, Customized</td>\n",
       "      <td>Race/Ethnicity, Customized</td>\n",
       "      <td>Race/Ethnicity, Customized</td>\n",
       "    </tr>\n",
       "    <tr>\n",
       "      <td>bm_ctgov_group_code</td>\n",
       "      <td>B2</td>\n",
       "      <td>B2</td>\n",
       "      <td>B2</td>\n",
       "      <td>B1</td>\n",
       "      <td>B1</td>\n",
       "      <td>B1</td>\n",
       "    </tr>\n",
       "    <tr>\n",
       "      <td>bm_used_race</td>\n",
       "      <td>Black</td>\n",
       "      <td>Hispanic</td>\n",
       "      <td>White</td>\n",
       "      <td>Black</td>\n",
       "      <td>Hispanic</td>\n",
       "      <td>White</td>\n",
       "    </tr>\n",
       "    <tr>\n",
       "      <td>bm_param_value_num</td>\n",
       "      <td>5</td>\n",
       "      <td>9</td>\n",
       "      <td>94</td>\n",
       "      <td>5</td>\n",
       "      <td>16</td>\n",
       "      <td>83</td>\n",
       "    </tr>\n",
       "    <tr>\n",
       "      <td>rgbm_nct_id</td>\n",
       "      <td>NCT00000392</td>\n",
       "      <td>NCT00000392</td>\n",
       "      <td>NCT00000392</td>\n",
       "      <td>NCT00000392</td>\n",
       "      <td>NCT00000392</td>\n",
       "      <td>NCT00000392</td>\n",
       "    </tr>\n",
       "    <tr>\n",
       "      <td>rgbm_id</td>\n",
       "      <td>17106858</td>\n",
       "      <td>17106858</td>\n",
       "      <td>17106858</td>\n",
       "      <td>17106859</td>\n",
       "      <td>17106859</td>\n",
       "      <td>17106859</td>\n",
       "    </tr>\n",
       "    <tr>\n",
       "      <td>rgbm_ctgov_group_code</td>\n",
       "      <td>B2</td>\n",
       "      <td>B2</td>\n",
       "      <td>B2</td>\n",
       "      <td>B1</td>\n",
       "      <td>B1</td>\n",
       "      <td>B1</td>\n",
       "    </tr>\n",
       "    <tr>\n",
       "      <td>rgbm_result_type</td>\n",
       "      <td>Baseline</td>\n",
       "      <td>Baseline</td>\n",
       "      <td>Baseline</td>\n",
       "      <td>Baseline</td>\n",
       "      <td>Baseline</td>\n",
       "      <td>Baseline</td>\n",
       "    </tr>\n",
       "    <tr>\n",
       "      <td>rgbm_title</td>\n",
       "      <td>Placebo</td>\n",
       "      <td>Placebo</td>\n",
       "      <td>Placebo</td>\n",
       "      <td>Peptide T</td>\n",
       "      <td>Peptide T</td>\n",
       "      <td>Peptide T</td>\n",
       "    </tr>\n",
       "    <tr>\n",
       "      <td>rgbm_description</td>\n",
       "      <td>Placebo given intranasally at a dosage of 2mg ...</td>\n",
       "      <td>Placebo given intranasally at a dosage of 2mg ...</td>\n",
       "      <td>Placebo given intranasally at a dosage of 2mg ...</td>\n",
       "      <td>Peptide T given intranasally at a dosage of 2m...</td>\n",
       "      <td>Peptide T given intranasally at a dosage of 2m...</td>\n",
       "      <td>Peptide T given intranasally at a dosage of 2m...</td>\n",
       "    </tr>\n",
       "  </tbody>\n",
       "</table>\n",
       "</div>"
      ],
      "text/plain": [
       "                                                                    8484  \\\n",
       "bm_nct_id                                                    NCT00000392   \n",
       "bm_result_group_id                                              17106858   \n",
       "bm_title                                      Race/Ethnicity, Customized   \n",
       "bm_ctgov_group_code                                                   B2   \n",
       "bm_used_race                                                       Black   \n",
       "bm_param_value_num                                                     5   \n",
       "rgbm_nct_id                                                  NCT00000392   \n",
       "rgbm_id                                                         17106858   \n",
       "rgbm_ctgov_group_code                                                 B2   \n",
       "rgbm_result_type                                                Baseline   \n",
       "rgbm_title                                                       Placebo   \n",
       "rgbm_description       Placebo given intranasally at a dosage of 2mg ...   \n",
       "\n",
       "                                                                    8485  \\\n",
       "bm_nct_id                                                    NCT00000392   \n",
       "bm_result_group_id                                              17106858   \n",
       "bm_title                                      Race/Ethnicity, Customized   \n",
       "bm_ctgov_group_code                                                   B2   \n",
       "bm_used_race                                                    Hispanic   \n",
       "bm_param_value_num                                                     9   \n",
       "rgbm_nct_id                                                  NCT00000392   \n",
       "rgbm_id                                                         17106858   \n",
       "rgbm_ctgov_group_code                                                 B2   \n",
       "rgbm_result_type                                                Baseline   \n",
       "rgbm_title                                                       Placebo   \n",
       "rgbm_description       Placebo given intranasally at a dosage of 2mg ...   \n",
       "\n",
       "                                                                    8486  \\\n",
       "bm_nct_id                                                    NCT00000392   \n",
       "bm_result_group_id                                              17106858   \n",
       "bm_title                                      Race/Ethnicity, Customized   \n",
       "bm_ctgov_group_code                                                   B2   \n",
       "bm_used_race                                                       White   \n",
       "bm_param_value_num                                                    94   \n",
       "rgbm_nct_id                                                  NCT00000392   \n",
       "rgbm_id                                                         17106858   \n",
       "rgbm_ctgov_group_code                                                 B2   \n",
       "rgbm_result_type                                                Baseline   \n",
       "rgbm_title                                                       Placebo   \n",
       "rgbm_description       Placebo given intranasally at a dosage of 2mg ...   \n",
       "\n",
       "                                                                    8487  \\\n",
       "bm_nct_id                                                    NCT00000392   \n",
       "bm_result_group_id                                              17106859   \n",
       "bm_title                                      Race/Ethnicity, Customized   \n",
       "bm_ctgov_group_code                                                   B1   \n",
       "bm_used_race                                                       Black   \n",
       "bm_param_value_num                                                     5   \n",
       "rgbm_nct_id                                                  NCT00000392   \n",
       "rgbm_id                                                         17106859   \n",
       "rgbm_ctgov_group_code                                                 B1   \n",
       "rgbm_result_type                                                Baseline   \n",
       "rgbm_title                                                     Peptide T   \n",
       "rgbm_description       Peptide T given intranasally at a dosage of 2m...   \n",
       "\n",
       "                                                                    8488  \\\n",
       "bm_nct_id                                                    NCT00000392   \n",
       "bm_result_group_id                                              17106859   \n",
       "bm_title                                      Race/Ethnicity, Customized   \n",
       "bm_ctgov_group_code                                                   B1   \n",
       "bm_used_race                                                    Hispanic   \n",
       "bm_param_value_num                                                    16   \n",
       "rgbm_nct_id                                                  NCT00000392   \n",
       "rgbm_id                                                         17106859   \n",
       "rgbm_ctgov_group_code                                                 B1   \n",
       "rgbm_result_type                                                Baseline   \n",
       "rgbm_title                                                     Peptide T   \n",
       "rgbm_description       Peptide T given intranasally at a dosage of 2m...   \n",
       "\n",
       "                                                                    8489  \n",
       "bm_nct_id                                                    NCT00000392  \n",
       "bm_result_group_id                                              17106859  \n",
       "bm_title                                      Race/Ethnicity, Customized  \n",
       "bm_ctgov_group_code                                                   B1  \n",
       "bm_used_race                                                       White  \n",
       "bm_param_value_num                                                    83  \n",
       "rgbm_nct_id                                                  NCT00000392  \n",
       "rgbm_id                                                         17106859  \n",
       "rgbm_ctgov_group_code                                                 B1  \n",
       "rgbm_result_type                                                Baseline  \n",
       "rgbm_title                                                     Peptide T  \n",
       "rgbm_description       Peptide T given intranasally at a dosage of 2m...  "
      ]
     },
     "execution_count": 205,
     "metadata": {},
     "output_type": "execute_result"
    }
   ],
   "source": [
    "dfbm_final_ij[dfbm_final_ij['bm_nct_id'] == sample_nct_id].T"
   ]
  },
  {
   "cell_type": "code",
   "execution_count": 206,
   "metadata": {},
   "outputs": [],
   "source": [
    "# saving pickles\n",
    "dfbm_final_ij.to_pickle('final_bm.p')\n",
    "dfom_final_ij.to_pickle('final_om.p')"
   ]
  },
  {
   "cell_type": "markdown",
   "metadata": {},
   "source": [
    "# 7. Compute imbalance and effect from the data\n",
    "\n",
    "**Imbalance:**\n",
    "\n",
    "Let $a_1, a_2, ..., a_n$ be % of the participants by race in group 1\n",
    "\n",
    "Let $b_1, b_2, ..., b_n$ be % of the participants by race in group 2\n",
    "\n",
    "Where n is the number of race classes in the study.\n",
    "\n",
    "Define imbalance as: \n",
    "\n",
    "$ \\sqrt{ \\Sigma_{i=1}^{n} (a_i - b_i) ^ 2 }$\n",
    "\n",
    "Can see in the extreme cases:\n",
    "\n",
    "1) if $a_i = b_i, \\forall i$ Then the imbalance measure = 0\n",
    "\n",
    "2) if fully disjoint, i.e. $a_i = 0 \\text{ or } b_i = 0 , \\forall i$, then imbalance measure = 1"
   ]
  },
  {
   "cell_type": "markdown",
   "metadata": {},
   "source": [
    "**Effect:**\n",
    "\n",
    "$$ \\left\\lvert \\frac{\\text{Mean Outcome in Arm 1 − Mean Outcome in Arm 2}}{\\text{Standard Error of Outcomes}} \\right\\rvert $$\n",
    "\n",
    "Where denominator: Standard Error of Outcomes is estimated as Follows:\n",
    "\n",
    "Let $n_1, n_2$ be reported number of measurements in group 1 and 2 respectively\n",
    "\n",
    "Let $\\sigma_1, \\sigma_2$ be the reported standard deviation of the measurements in group 1 and 2 respectively\n",
    "\n",
    "Estimated Standard Error of Outcomes = \n",
    "$$\\sqrt{\\frac{n_1 \\sigma_1^2 + n_2 \\sigma_2^2}{n_1 + n_2}}$$"
   ]
  },
  {
   "cell_type": "code",
   "execution_count": 252,
   "metadata": {
    "scrolled": false
   },
   "outputs": [
    {
     "data": {
      "application/vnd.jupyter.widget-view+json": {
       "model_id": "698b0ac8862940069f2df0ad864ce0ee",
       "version_major": 2,
       "version_minor": 0
      },
      "text/plain": [
       "HBox(children=(IntProgress(value=0, max=855), HTML(value='')))"
      ]
     },
     "metadata": {},
     "output_type": "display_data"
    },
    {
     "name": "stdout",
     "output_type": "stream",
     "text": [
      "\n"
     ]
    },
    {
     "data": {
      "text/html": [
       "<div>\n",
       "<style scoped>\n",
       "    .dataframe tbody tr th:only-of-type {\n",
       "        vertical-align: middle;\n",
       "    }\n",
       "\n",
       "    .dataframe tbody tr th {\n",
       "        vertical-align: top;\n",
       "    }\n",
       "\n",
       "    .dataframe thead th {\n",
       "        text-align: right;\n",
       "    }\n",
       "</style>\n",
       "<table border=\"1\" class=\"dataframe\">\n",
       "  <thead>\n",
       "    <tr style=\"text-align: right;\">\n",
       "      <th></th>\n",
       "      <th>effect</th>\n",
       "      <th>g1_mean</th>\n",
       "      <th>g2_mean</th>\n",
       "      <th>g1_sd_sample</th>\n",
       "      <th>g2_sd_sample</th>\n",
       "      <th>imbal</th>\n",
       "      <th>ngrps</th>\n",
       "      <th>g1t</th>\n",
       "      <th>g2t</th>\n",
       "      <th>g1counts</th>\n",
       "      <th>g2counts</th>\n",
       "      <th>grouplabels</th>\n",
       "    </tr>\n",
       "  </thead>\n",
       "  <tbody>\n",
       "    <tr>\n",
       "      <td>NCT00000392</td>\n",
       "      <td>0.237493</td>\n",
       "      <td>77</td>\n",
       "      <td>66</td>\n",
       "      <td>0.263249</td>\n",
       "      <td>0.406202</td>\n",
       "      <td>0.101003</td>\n",
       "      <td>3</td>\n",
       "      <td>104</td>\n",
       "      <td>108</td>\n",
       "      <td>[5.0, 16.0, 83.0]</td>\n",
       "      <td>[5.0, 9.0, 94.0]</td>\n",
       "      <td>[Black, Hispanic, White]</td>\n",
       "    </tr>\n",
       "    <tr>\n",
       "      <td>NCT00004732</td>\n",
       "      <td>0.0141359</td>\n",
       "      <td>1240</td>\n",
       "      <td>1262</td>\n",
       "      <td>28.1709</td>\n",
       "      <td>28.4197</td>\n",
       "      <td>0.00970629</td>\n",
       "      <td>3</td>\n",
       "      <td>1262</td>\n",
       "      <td>1240</td>\n",
       "      <td>[81.0, 9.0, 1172.0]</td>\n",
       "      <td>[71.0, 9.0, 1160.0]</td>\n",
       "      <td>[Non-White, Not Specified, White]</td>\n",
       "    </tr>\n",
       "    <tr>\n",
       "      <td>NCT00053846</td>\n",
       "      <td>0.124274</td>\n",
       "      <td>192</td>\n",
       "      <td>187</td>\n",
       "      <td>2.62</td>\n",
       "      <td>2.85</td>\n",
       "      <td>0.00672487</td>\n",
       "      <td>3</td>\n",
       "      <td>187</td>\n",
       "      <td>192</td>\n",
       "      <td>[19.0, 2.0, 166.0]</td>\n",
       "      <td>[20.0, 1.0, 171.0]</td>\n",
       "      <td>[African American, Other, White]</td>\n",
       "    </tr>\n",
       "    <tr>\n",
       "      <td>NCT00065507</td>\n",
       "      <td>0.548554</td>\n",
       "      <td>73</td>\n",
       "      <td>76</td>\n",
       "      <td>2.17872</td>\n",
       "      <td>1.74356</td>\n",
       "      <td>0.0658699</td>\n",
       "      <td>4</td>\n",
       "      <td>100</td>\n",
       "      <td>91</td>\n",
       "      <td>[55.0, 5.0, 5.0, 35.0]</td>\n",
       "      <td>[49.0, 5.0, 9.0, 28.0]</td>\n",
       "      <td>[Asian, Black/African American, Other, White]</td>\n",
       "    </tr>\n",
       "    <tr>\n",
       "      <td>NCT00067470</td>\n",
       "      <td>0.597447</td>\n",
       "      <td>19</td>\n",
       "      <td>19</td>\n",
       "      <td>122</td>\n",
       "      <td>154</td>\n",
       "      <td>0.408633</td>\n",
       "      <td>6</td>\n",
       "      <td>19</td>\n",
       "      <td>20</td>\n",
       "      <td>[1.0, 1.0, 1.0, 1.0, 0.0, 15.0]</td>\n",
       "      <td>[1.0, 2.0, 3.0, 1.0, 4.0, 9.0]</td>\n",
       "      <td>[Asian, Black, Hispanic, Indigenous, Other, Wh...</td>\n",
       "    </tr>\n",
       "  </tbody>\n",
       "</table>\n",
       "</div>"
      ],
      "text/plain": [
       "                effect g1_mean g2_mean g1_sd_sample g2_sd_sample       imbal  \\\n",
       "NCT00000392   0.237493      77      66     0.263249     0.406202    0.101003   \n",
       "NCT00004732  0.0141359    1240    1262      28.1709      28.4197  0.00970629   \n",
       "NCT00053846   0.124274     192     187         2.62         2.85  0.00672487   \n",
       "NCT00065507   0.548554      73      76      2.17872      1.74356   0.0658699   \n",
       "NCT00067470   0.597447      19      19          122          154    0.408633   \n",
       "\n",
       "            ngrps   g1t   g2t                         g1counts  \\\n",
       "NCT00000392     3   104   108                [5.0, 16.0, 83.0]   \n",
       "NCT00004732     3  1262  1240              [81.0, 9.0, 1172.0]   \n",
       "NCT00053846     3   187   192               [19.0, 2.0, 166.0]   \n",
       "NCT00065507     4   100    91           [55.0, 5.0, 5.0, 35.0]   \n",
       "NCT00067470     6    19    20  [1.0, 1.0, 1.0, 1.0, 0.0, 15.0]   \n",
       "\n",
       "                                   g2counts  \\\n",
       "NCT00000392                [5.0, 9.0, 94.0]   \n",
       "NCT00004732             [71.0, 9.0, 1160.0]   \n",
       "NCT00053846              [20.0, 1.0, 171.0]   \n",
       "NCT00065507          [49.0, 5.0, 9.0, 28.0]   \n",
       "NCT00067470  [1.0, 2.0, 3.0, 1.0, 4.0, 9.0]   \n",
       "\n",
       "                                                   grouplabels  \n",
       "NCT00000392                           [Black, Hispanic, White]  \n",
       "NCT00004732                  [Non-White, Not Specified, White]  \n",
       "NCT00053846                   [African American, Other, White]  \n",
       "NCT00065507      [Asian, Black/African American, Other, White]  \n",
       "NCT00067470  [Asian, Black, Hispanic, Indigenous, Other, Wh...  "
      ]
     },
     "execution_count": 252,
     "metadata": {},
     "output_type": "execute_result"
    }
   ],
   "source": [
    "# loop to compute all effects and imbalances\n",
    "all_res = {}  # storing final results\n",
    "\n",
    "for nct_id in tqdm(dfom_final_ij['om_nct_id'].unique()):\n",
    "    all_res[nct_id] = {}  # inner dict for storage\n",
    "    sub_om = dfom_final_ij[dfom_final_ij['om_nct_id'] == nct_id]\n",
    "    sub_bm = dfbm_final_ij[dfbm_final_ij['bm_nct_id'] == nct_id]\n",
    "    \n",
    "    # difference in mean\n",
    "    abs_mean_diff = np.abs(sub_om['om_param_value_num'].values[0] - sub_om['om_param_value_num'].values[1])\n",
    "    \n",
    "    # standard error estimate\n",
    "    sd_type1 = sub_om['out_dispersion_type'].values[0]\n",
    "    sd_type2 = sub_om['out_dispersion_type'].values[1]\n",
    "    num_m1 = sub_om['ct_num_measures'].values[0]\n",
    "    num_m2 = sub_om['ct_num_measures'].values[1]\n",
    "    sd_1 = sub_om['om_dispersion_value_num'].values[0]\n",
    "    sd_2 = sub_om['om_dispersion_value_num'].values[1]\n",
    "    \n",
    "    # if the type is Standard Error, then we need to scale it by the sqrt of the count, since it has been adjusted\n",
    "    if sd_type1 == 'Standard Error':\n",
    "        sd_1 = sd_1 * np.sqrt(num_m1)\n",
    "    if sd_type2 == 'Standard Error':\n",
    "        sd_2 = sd_2 * np.sqrt(num_m2)\n",
    "    \n",
    "    sd_est = np.sqrt((num_m1 * sd_1 ** 2 + num_m2 * sd_2 **2) / (num_m1 + num_m2))\n",
    "    \n",
    "    effect = abs_mean_diff / sd_est\n",
    "    all_res[nct_id]['effect'] = effect\n",
    "    \n",
    "    # details\n",
    "    all_res[nct_id]['g1_mean'] = num_m1\n",
    "    all_res[nct_id]['g2_mean'] = num_m2\n",
    "    all_res[nct_id]['g1_sd_sample'] = sd_1\n",
    "    all_res[nct_id]['g2_sd_sample'] = sd_2\n",
    "    \n",
    "    \n",
    "    # imbalance\n",
    "    bm_g_sums = sub_bm.groupby(['bm_ctgov_group_code', 'bm_used_race'])[['bm_param_value_num']].sum().reset_index()\n",
    "    dfp = bm_g_sums.pivot(columns='bm_used_race', index='bm_ctgov_group_code', values='bm_param_value_num')\n",
    "    dfp.index = ['g1', 'g2']  # rename to standardize the indices\n",
    "    \n",
    "    dfpct = dfp.T / dfp.sum(axis=1)\n",
    "    dfpct['abs_diff'] = np.abs(dfpct['g1'] - dfpct['g2'])\n",
    "    imbal = np.sqrt((dfpct['abs_diff'] ** 2).sum())\n",
    "    all_res[nct_id]['imbal'] = imbal\n",
    "        \n",
    "    # number of groups\n",
    "    all_res[nct_id]['ngrps'] = sub_bm.shape[0] / 2\n",
    "    \n",
    "    # other details\n",
    "    all_res[nct_id]['g1t'] = dfp.T['g1'].sum()\n",
    "    all_res[nct_id]['g2t'] = dfp.T['g2'].sum()\n",
    "    all_res[nct_id]['g1counts'] = dfp.T['g1'].values\n",
    "    all_res[nct_id]['g2counts'] = dfp.T['g2'].values\n",
    "    all_res[nct_id]['grouplabels'] = list(dfp.T.index)\n",
    "    \n",
    "\n",
    "df_res = pd.DataFrame(all_res).T.dropna()\n",
    "df_res.head()"
   ]
  },
  {
   "cell_type": "code",
   "execution_count": 253,
   "metadata": {},
   "outputs": [
    {
     "data": {
      "text/plain": [
       "(854, 12)"
      ]
     },
     "execution_count": 253,
     "metadata": {},
     "output_type": "execute_result"
    }
   ],
   "source": [
    "# lost 1 record due to Nan in the numerical values\n",
    "df_res.shape"
   ]
  },
  {
   "cell_type": "code",
   "execution_count": 254,
   "metadata": {},
   "outputs": [
    {
     "data": {
      "text/plain": [
       "(854, 822)"
      ]
     },
     "execution_count": 254,
     "metadata": {},
     "output_type": "execute_result"
    }
   ],
   "source": [
    "df_res_mult_grps = df_res[df_res['ngrps'] > 1].copy()\n",
    "df_res.shape[0], df_res_mult_grps.shape[0]"
   ]
  },
  {
   "cell_type": "code",
   "execution_count": 294,
   "metadata": {},
   "outputs": [],
   "source": [
    "# casting ...\n",
    "df_res_mult_grps['effect'] = df_res_mult_grps['effect'].astype(float)\n",
    "df_res_mult_grps['g1_mean'] = df_res_mult_grps['g1_mean'].astype(float)\n",
    "df_res_mult_grps['g2_mean'] = df_res_mult_grps['g2_mean'].astype(float)\n",
    "df_res_mult_grps['g1_sd_sample'] = df_res_mult_grps['g1_sd_sample'].astype(float)\n",
    "df_res_mult_grps['g2_sd_sample'] = df_res_mult_grps['g2_sd_sample'].astype(float)\n",
    "df_res_mult_grps['imbal'] = df_res_mult_grps['imbal'].astype(float)\n",
    "df_res_mult_grps['ngrps'] = df_res_mult_grps['ngrps'].astype(int)\n",
    "df_res_mult_grps['g1t'] = df_res_mult_grps['g1t'].astype(int)\n",
    "df_res_mult_grps['g2t'] = df_res_mult_grps['g2t'].astype(int)\n"
   ]
  },
  {
   "cell_type": "code",
   "execution_count": 295,
   "metadata": {},
   "outputs": [],
   "source": [
    "# cleaned dataset\n",
    "df_res_mult_grps.to_pickle('res_race.p')"
   ]
  },
  {
   "cell_type": "code",
   "execution_count": null,
   "metadata": {},
   "outputs": [],
   "source": []
  }
 ],
 "metadata": {
  "kernelspec": {
   "display_name": "Python 3",
   "language": "python",
   "name": "python3"
  },
  "language_info": {
   "codemirror_mode": {
    "name": "ipython",
    "version": 3
   },
   "file_extension": ".py",
   "mimetype": "text/x-python",
   "name": "python",
   "nbconvert_exporter": "python",
   "pygments_lexer": "ipython3",
   "version": "3.6.9"
  }
 },
 "nbformat": 4,
 "nbformat_minor": 2
}
