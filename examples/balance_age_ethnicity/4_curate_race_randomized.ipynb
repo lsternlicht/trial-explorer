{
 "cells": [
  {
   "cell_type": "markdown",
   "metadata": {},
   "source": [
    "# Looking for data on Age and Ethnicity"
   ]
  },
  {
   "cell_type": "code",
   "execution_count": 1,
   "metadata": {},
   "outputs": [],
   "source": [
    "import sys\n",
    "if \"../../\" not in sys.path:\n",
    "    sys.path.append(\"../../\")"
   ]
  },
  {
   "cell_type": "code",
   "execution_count": 2,
   "metadata": {},
   "outputs": [],
   "source": [
    "import pandas as pd\n",
    "import numpy as np\n",
    "import scipy.stats as stats\n",
    "from importlib import reload\n",
    "from tqdm import tqdm_notebook as tqdm\n",
    "from sklearn import linear_model as lm\n",
    "import seaborn as sns\n",
    "from fuzzywuzzy import fuzz\n",
    "import time\n",
    "\n",
    "import pdaactconn as pc\n",
    "from trialexplorer import AACTStudySet\n",
    "\n",
    "import matplotlib.pyplot as plt\n",
    "%matplotlib inline\n",
    "\n",
    "params = {'xtick.labelsize':'x-large', 'ytick.labelsize':'x-large',\n",
    "         'figure.figsize': (12,5), \"axes.labelsize\":'x-large'}\n",
    "plt.rcParams.update(params)"
   ]
  },
  {
   "cell_type": "code",
   "execution_count": 3,
   "metadata": {
    "scrolled": true
   },
   "outputs": [
    {
     "name": "stdout",
     "output_type": "stream",
     "text": [
      "282833 studies loaded!\n"
     ]
    }
   ],
   "source": [
    "# loading all interventional studies\n",
    "conn = pc.AACTConnection(source=pc.AACTConnection.REMOTE)\n",
    "ss = AACTStudySet.AACTStudySet(conn=conn, \n",
    "                               tqdm_handler=tqdm)\n",
    "ss.add_constraint(\"study_type = 'Interventional'\")\n",
    "ss.load_studies()"
   ]
  },
  {
   "cell_type": "code",
   "execution_count": 4,
   "metadata": {},
   "outputs": [
    {
     "name": "stdout",
     "output_type": "stream",
     "text": [
      "Successfuly added these 6 dimensions: ['baseline_measurements', 'result_groups', 'eligibilities', 'outcomes', 'outcome_counts', 'outcome_measurements']\n",
      "Failed to add these 0 dimensions: []\n"
     ]
    },
    {
     "data": {
      "application/vnd.jupyter.widget-view+json": {
       "model_id": "ce4d748944b343a2a7f4e73ebfdfece6",
       "version_major": 2,
       "version_minor": 0
      },
      "text/plain": [
       "HBox(children=(IntProgress(value=0, max=566), HTML(value='')))"
      ]
     },
     "metadata": {},
     "output_type": "display_data"
    },
    {
     "name": "stdout",
     "output_type": "stream",
     "text": [
      "Syncing the temp table temp_cur_studies in 566 chunks x 500 records each\n",
      "\n",
      "Creating index on the temp table\n",
      " - Loading dimension baseline_measurements\n",
      " -- Loading raw data\n",
      " -- Sorting index\n",
      " - Loading dimension result_groups\n",
      " -- Loading raw data\n",
      " -- Sorting index\n",
      " - Loading dimension eligibilities\n",
      " -- Loading raw data\n",
      " -- Sorting index\n",
      " - Loading dimension outcomes\n",
      " -- Loading raw data\n",
      " -- Sorting index\n",
      " - Loading dimension outcome_counts\n",
      " -- Loading raw data\n",
      " -- Sorting index\n",
      " - Loading dimension outcome_measurements\n",
      " -- Loading raw data\n",
      " -- Sorting index\n"
     ]
    }
   ],
   "source": [
    "# adding and loading dimensional data\n",
    "ss.add_dimensions(['baseline_measurements',\n",
    "                   'result_groups',\n",
    "                   'eligibilities',\n",
    "                   'outcomes',\n",
    "                   'outcome_counts',\n",
    "                   'outcome_measurements'])\n",
    "ss.refresh_dim_data()"
   ]
  },
  {
   "cell_type": "code",
   "execution_count": 5,
   "metadata": {},
   "outputs": [],
   "source": [
    "# setting all the dimensional data to variables\n",
    "bm = ss.dimensions['baseline_measurements'].data\n",
    "rg = ss.dimensions['result_groups'].data\n",
    "el = ss.dimensions['eligibilities'].data\n",
    "out = ss.dimensions['outcomes'].data\n",
    "oc = ss.dimensions['outcome_counts'].data\n",
    "om = ss.dimensions['outcome_measurements'].data"
   ]
  },
  {
   "cell_type": "code",
   "execution_count": 6,
   "metadata": {},
   "outputs": [
    {
     "data": {
      "text/plain": [
       "282833"
      ]
     },
     "execution_count": 6,
     "metadata": {},
     "output_type": "execute_result"
    }
   ],
   "source": [
    "# total number of studies\n",
    "num_all = ss.studies.shape[0]\n",
    "num_all"
   ]
  },
  {
   "cell_type": "code",
   "execution_count": 7,
   "metadata": {
    "scrolled": true
   },
   "outputs": [
    {
     "data": {
      "text/plain": [
       "(43592, 0.15412628653657812)"
      ]
     },
     "execution_count": 7,
     "metadata": {},
     "output_type": "execute_result"
    }
   ],
   "source": [
    "# baseline measurement studies\n",
    "bm_all = bm.index.get_level_values(0).unique().shape[0]\n",
    "bm_all, bm_all / num_all"
   ]
  },
  {
   "cell_type": "markdown",
   "metadata": {},
   "source": [
    "### About 15% of the studies report Baseline Measurements"
   ]
  },
  {
   "cell_type": "code",
   "execution_count": 9,
   "metadata": {
    "scrolled": true
   },
   "outputs": [
    {
     "data": {
      "text/plain": [
       "Index(['id', 'ctgov_group_code', 'classification', 'category', 'title',\n",
       "       'description', 'units', 'param_type', 'param_value', 'param_value_num',\n",
       "       'dispersion_type', 'dispersion_value', 'dispersion_value_num',\n",
       "       'dispersion_lower_limit', 'dispersion_upper_limit',\n",
       "       'explanation_of_na'],\n",
       "      dtype='object')"
      ]
     },
     "execution_count": 9,
     "metadata": {},
     "output_type": "execute_result"
    }
   ],
   "source": [
    "bm.columns"
   ]
  },
  {
   "cell_type": "markdown",
   "metadata": {},
   "source": [
    "# Steps 1-3 are investigative, step 4 starts implementation"
   ]
  },
  {
   "cell_type": "markdown",
   "metadata": {},
   "source": [
    "# 1. Category column in BM\n",
    "\n",
    "investingating the category column in the baseline measurements table"
   ]
  },
  {
   "cell_type": "code",
   "execution_count": 10,
   "metadata": {},
   "outputs": [],
   "source": [
    "bmr = bm.reset_index()"
   ]
  },
  {
   "cell_type": "code",
   "execution_count": 11,
   "metadata": {},
   "outputs": [
    {
     "data": {
      "text/plain": [
       "category\n",
       "                                          558506\n",
       "Female                                    123891\n",
       "Male                                      123891\n",
       "Unknown or Not Reported                    56790\n",
       ">=65 years                                 40143\n",
       "                                           ...  \n",
       "Age ≥ 60 years                                 1\n",
       "Age group at baseline: >18 years               1\n",
       "Age group at baseline: >12 to 18 years         1\n",
       "Age group at baseline: 6 to 12 years           1\n",
       "Pancreatic islet cell tumors                   1\n",
       "Name: nct_id, Length: 10341, dtype: int64"
      ]
     },
     "execution_count": 11,
     "metadata": {},
     "output_type": "execute_result"
    }
   ],
   "source": [
    "all_cats = bmr.groupby('category')['nct_id'].count().sort_values(ascending=False)\n",
    "all_cats"
   ]
  },
  {
   "cell_type": "code",
   "execution_count": 12,
   "metadata": {},
   "outputs": [],
   "source": [
    "# seaching for specific keywords that indicate race\n",
    "# this list was determined by looking at the top categories by count\n",
    "possible_keywords = ['white', 'asian', 'african', 'indian', \n",
    "                     'native', 'islander', 'latino', 'hispanic']\n",
    "\n",
    "\n",
    "# finding all category labels such that it matches above keywords\n",
    "used_cats = []\n",
    "for cur_cat in all_cats.index:\n",
    "    for kw in possible_keywords:\n",
    "        if kw in cur_cat.lower():\n",
    "            if cur_cat not in used_cats:\n",
    "                used_cats.append(cur_cat)\n",
    "            next"
   ]
  },
  {
   "cell_type": "code",
   "execution_count": 13,
   "metadata": {},
   "outputs": [
    {
     "data": {
      "text/plain": [
       "7"
      ]
     },
     "execution_count": 13,
     "metadata": {},
     "output_type": "execute_result"
    }
   ],
   "source": [
    "# found this many categories that match race with atleast 1000 studies:\n",
    "matched_cat_counts = all_cats.loc[used_cats]\n",
    "used_cat_counts = matched_cat_counts[matched_cat_counts >= 1000]\n",
    "len(used_cat_counts)"
   ]
  },
  {
   "cell_type": "code",
   "execution_count": 14,
   "metadata": {},
   "outputs": [
    {
     "data": {
      "text/plain": [
       "category\n",
       "White                                        35451\n",
       "Asian                                        34834\n",
       "Black or African American                    34091\n",
       "American Indian or Alaska Native             33170\n",
       "Native Hawaiian or Other Pacific Islander    32815\n",
       "Hispanic or Latino                           25398\n",
       "Not Hispanic or Latino                       25224\n",
       "Name: nct_id, dtype: int64"
      ]
     },
     "execution_count": 14,
     "metadata": {},
     "output_type": "execute_result"
    }
   ],
   "source": [
    "# let's eye ball through the list\n",
    "used_cat_counts"
   ]
  },
  {
   "cell_type": "code",
   "execution_count": 15,
   "metadata": {},
   "outputs": [
    {
     "data": {
      "text/plain": [
       "['White',\n",
       " 'Asian',\n",
       " 'Black or African American',\n",
       " 'American Indian or Alaska Native',\n",
       " 'Native Hawaiian or Other Pacific Islander',\n",
       " 'Hispanic or Latino',\n",
       " 'Not Hispanic or Latino']"
      ]
     },
     "execution_count": 15,
     "metadata": {},
     "output_type": "execute_result"
    }
   ],
   "source": [
    "used_cats = list(used_cat_counts.index)\n",
    "used_cats"
   ]
  },
  {
   "cell_type": "markdown",
   "metadata": {},
   "source": [
    "### What are the characteristics of the studies that have these used categories?"
   ]
  },
  {
   "cell_type": "code",
   "execution_count": 16,
   "metadata": {},
   "outputs": [],
   "source": [
    "df_cat = bm[bm['category'].isin(used_cats)]"
   ]
  },
  {
   "cell_type": "code",
   "execution_count": 17,
   "metadata": {},
   "outputs": [
    {
     "data": {
      "text/plain": [
       "title\n",
       "Race (NIH/OMB)                                      160385\n",
       "Ethnicity (NIH/OMB)                                  48996\n",
       "Race/Ethnicity, Customized                           11202\n",
       "Race                                                   209\n",
       "Ethnicity                                              104\n",
       "Race (NIH/OMB) (Influenza Season 2016-2017)             15\n",
       "Race (NIH/OMB) (Influenza Season 2015-2016)             15\n",
       "Race, Customized                                        14\n",
       "Race/Ethnicity                                           9\n",
       "Primary Race                                             9\n",
       "Ethnicty                                                 6\n",
       "Ethnicity (NIH/OMB) (Influenza Season 2016-2017)         6\n",
       "Ethnicity (NIH/OMB) (Influenza Season 2015-2016)         6\n",
       "Race (Asian vs Non-Asian) at Randomization               3\n",
       "Maternal Race                                            3\n",
       "Donor Race/Ethnicity                                     1\n",
       "Name: id, dtype: int64"
      ]
     },
     "execution_count": 17,
     "metadata": {},
     "output_type": "execute_result"
    }
   ],
   "source": [
    "# what are the titles of studies with the short-listed categories\n",
    "s_cat_by_count = df_cat.groupby('title')['id'].count().sort_values(ascending=False)\n",
    "s_cat_by_count"
   ]
  },
  {
   "cell_type": "code",
   "execution_count": 18,
   "metadata": {},
   "outputs": [
    {
     "data": {
      "text/plain": [
       "Index(['Race (NIH/OMB)', 'Ethnicity (NIH/OMB)', 'Race/Ethnicity, Customized',\n",
       "       'Race'],\n",
       "      dtype='object', name='title')"
      ]
     },
     "execution_count": 18,
     "metadata": {},
     "output_type": "execute_result"
    }
   ],
   "source": [
    "# can just use the top few to capture most of the data\n",
    "used_cat_titles = s_cat_by_count.index[:4]\n",
    "used_cat_titles\n"
   ]
  },
  {
   "cell_type": "markdown",
   "metadata": {},
   "source": [
    "### if we filter the original data by these titles, do we get back the original categories?"
   ]
  },
  {
   "cell_type": "code",
   "execution_count": 19,
   "metadata": {},
   "outputs": [
    {
     "data": {
      "text/html": [
       "<div>\n",
       "<style scoped>\n",
       "    .dataframe tbody tr th:only-of-type {\n",
       "        vertical-align: middle;\n",
       "    }\n",
       "\n",
       "    .dataframe tbody tr th {\n",
       "        vertical-align: top;\n",
       "    }\n",
       "\n",
       "    .dataframe thead th {\n",
       "        text-align: right;\n",
       "    }\n",
       "</style>\n",
       "<table border=\"1\" class=\"dataframe\">\n",
       "  <thead>\n",
       "    <tr style=\"text-align: right;\">\n",
       "      <th></th>\n",
       "      <th></th>\n",
       "      <th>id</th>\n",
       "      <th>ctgov_group_code</th>\n",
       "      <th>classification</th>\n",
       "      <th>category</th>\n",
       "      <th>title</th>\n",
       "      <th>description</th>\n",
       "      <th>units</th>\n",
       "      <th>param_type</th>\n",
       "      <th>param_value</th>\n",
       "      <th>param_value_num</th>\n",
       "      <th>dispersion_type</th>\n",
       "      <th>dispersion_value</th>\n",
       "      <th>dispersion_value_num</th>\n",
       "      <th>dispersion_lower_limit</th>\n",
       "      <th>dispersion_upper_limit</th>\n",
       "      <th>explanation_of_na</th>\n",
       "    </tr>\n",
       "    <tr>\n",
       "      <th>nct_id</th>\n",
       "      <th>result_group_id</th>\n",
       "      <th></th>\n",
       "      <th></th>\n",
       "      <th></th>\n",
       "      <th></th>\n",
       "      <th></th>\n",
       "      <th></th>\n",
       "      <th></th>\n",
       "      <th></th>\n",
       "      <th></th>\n",
       "      <th></th>\n",
       "      <th></th>\n",
       "      <th></th>\n",
       "      <th></th>\n",
       "      <th></th>\n",
       "      <th></th>\n",
       "      <th></th>\n",
       "    </tr>\n",
       "  </thead>\n",
       "  <tbody>\n",
       "    <tr>\n",
       "      <td rowspan=\"5\" valign=\"top\">NCT00000125</td>\n",
       "      <td>18405171</td>\n",
       "      <td>20943952</td>\n",
       "      <td>B3</td>\n",
       "      <td>Other</td>\n",
       "      <td></td>\n",
       "      <td>Race/Ethnicity, Customized</td>\n",
       "      <td></td>\n",
       "      <td>participants</td>\n",
       "      <td>Number</td>\n",
       "      <td>14</td>\n",
       "      <td>14.0</td>\n",
       "      <td></td>\n",
       "      <td>None</td>\n",
       "      <td>NaN</td>\n",
       "      <td>NaN</td>\n",
       "      <td>NaN</td>\n",
       "      <td></td>\n",
       "    </tr>\n",
       "    <tr>\n",
       "      <td>18405171</td>\n",
       "      <td>20943955</td>\n",
       "      <td>B3</td>\n",
       "      <td>White</td>\n",
       "      <td></td>\n",
       "      <td>Race/Ethnicity, Customized</td>\n",
       "      <td></td>\n",
       "      <td>participants</td>\n",
       "      <td>Number</td>\n",
       "      <td>1137</td>\n",
       "      <td>1137.0</td>\n",
       "      <td></td>\n",
       "      <td>None</td>\n",
       "      <td>NaN</td>\n",
       "      <td>NaN</td>\n",
       "      <td>NaN</td>\n",
       "      <td></td>\n",
       "    </tr>\n",
       "    <tr>\n",
       "      <td>18405171</td>\n",
       "      <td>20943958</td>\n",
       "      <td>B3</td>\n",
       "      <td>Hispanic</td>\n",
       "      <td></td>\n",
       "      <td>Race/Ethnicity, Customized</td>\n",
       "      <td></td>\n",
       "      <td>participants</td>\n",
       "      <td>Number</td>\n",
       "      <td>59</td>\n",
       "      <td>59.0</td>\n",
       "      <td></td>\n",
       "      <td>None</td>\n",
       "      <td>NaN</td>\n",
       "      <td>NaN</td>\n",
       "      <td>NaN</td>\n",
       "      <td></td>\n",
       "    </tr>\n",
       "    <tr>\n",
       "      <td>18405171</td>\n",
       "      <td>20943961</td>\n",
       "      <td>B3</td>\n",
       "      <td>African American</td>\n",
       "      <td></td>\n",
       "      <td>Race/Ethnicity, Customized</td>\n",
       "      <td></td>\n",
       "      <td>participants</td>\n",
       "      <td>Number</td>\n",
       "      <td>408</td>\n",
       "      <td>408.0</td>\n",
       "      <td></td>\n",
       "      <td>None</td>\n",
       "      <td>NaN</td>\n",
       "      <td>NaN</td>\n",
       "      <td>NaN</td>\n",
       "      <td></td>\n",
       "    </tr>\n",
       "    <tr>\n",
       "      <td>18405171</td>\n",
       "      <td>20943964</td>\n",
       "      <td>B3</td>\n",
       "      <td>Asian</td>\n",
       "      <td></td>\n",
       "      <td>Race/Ethnicity, Customized</td>\n",
       "      <td></td>\n",
       "      <td>participants</td>\n",
       "      <td>Number</td>\n",
       "      <td>14</td>\n",
       "      <td>14.0</td>\n",
       "      <td></td>\n",
       "      <td>None</td>\n",
       "      <td>NaN</td>\n",
       "      <td>NaN</td>\n",
       "      <td>NaN</td>\n",
       "      <td></td>\n",
       "    </tr>\n",
       "  </tbody>\n",
       "</table>\n",
       "</div>"
      ],
      "text/plain": [
       "                                   id ctgov_group_code    classification  \\\n",
       "nct_id      result_group_id                                                \n",
       "NCT00000125 18405171         20943952               B3             Other   \n",
       "            18405171         20943955               B3             White   \n",
       "            18405171         20943958               B3          Hispanic   \n",
       "            18405171         20943961               B3  African American   \n",
       "            18405171         20943964               B3             Asian   \n",
       "\n",
       "                            category                       title description  \\\n",
       "nct_id      result_group_id                                                    \n",
       "NCT00000125 18405171                  Race/Ethnicity, Customized               \n",
       "            18405171                  Race/Ethnicity, Customized               \n",
       "            18405171                  Race/Ethnicity, Customized               \n",
       "            18405171                  Race/Ethnicity, Customized               \n",
       "            18405171                  Race/Ethnicity, Customized               \n",
       "\n",
       "                                    units param_type param_value  \\\n",
       "nct_id      result_group_id                                        \n",
       "NCT00000125 18405171         participants     Number          14   \n",
       "            18405171         participants     Number        1137   \n",
       "            18405171         participants     Number          59   \n",
       "            18405171         participants     Number         408   \n",
       "            18405171         participants     Number          14   \n",
       "\n",
       "                             param_value_num dispersion_type dispersion_value  \\\n",
       "nct_id      result_group_id                                                     \n",
       "NCT00000125 18405171                    14.0                             None   \n",
       "            18405171                  1137.0                             None   \n",
       "            18405171                    59.0                             None   \n",
       "            18405171                   408.0                             None   \n",
       "            18405171                    14.0                             None   \n",
       "\n",
       "                             dispersion_value_num  dispersion_lower_limit  \\\n",
       "nct_id      result_group_id                                                 \n",
       "NCT00000125 18405171                          NaN                     NaN   \n",
       "            18405171                          NaN                     NaN   \n",
       "            18405171                          NaN                     NaN   \n",
       "            18405171                          NaN                     NaN   \n",
       "            18405171                          NaN                     NaN   \n",
       "\n",
       "                             dispersion_upper_limit explanation_of_na  \n",
       "nct_id      result_group_id                                            \n",
       "NCT00000125 18405171                            NaN                    \n",
       "            18405171                            NaN                    \n",
       "            18405171                            NaN                    \n",
       "            18405171                            NaN                    \n",
       "            18405171                            NaN                    "
      ]
     },
     "execution_count": 19,
     "metadata": {},
     "output_type": "execute_result"
    }
   ],
   "source": [
    "df_by_titles = bm[bm['title'].isin(used_cat_titles)]\n",
    "df_by_titles.head()"
   ]
  },
  {
   "cell_type": "code",
   "execution_count": 20,
   "metadata": {},
   "outputs": [
    {
     "data": {
      "text/plain": [
       "category\n",
       "                                             80826\n",
       "Unknown or Not Reported                      56672\n",
       "White                                        35432\n",
       "Asian                                        34816\n",
       "Black or African American                    34074\n",
       "American Indian or Alaska Native             33161\n",
       "Native Hawaiian or Other Pacific Islander    32809\n",
       "More than one race                           32160\n",
       "Hispanic or Latino                           25333\n",
       "Not Hispanic or Latino                       25167\n",
       "Other                                         2568\n",
       "Black                                         1062\n",
       "Name: id, dtype: int64"
      ]
     },
     "execution_count": 20,
     "metadata": {},
     "output_type": "execute_result"
    }
   ],
   "source": [
    "counts_by_title_cats = df_by_titles.groupby('category')['id'].count().sort_values(ascending=False)\n",
    "counts_by_title_cats[counts_by_title_cats > 1000]"
   ]
  },
  {
   "cell_type": "markdown",
   "metadata": {},
   "source": [
    "### Looks like we do, except for a bunch of blank categories"
   ]
  },
  {
   "cell_type": "markdown",
   "metadata": {},
   "source": [
    "### Q: Are the blanks for totals?"
   ]
  },
  {
   "cell_type": "code",
   "execution_count": 21,
   "metadata": {},
   "outputs": [
    {
     "data": {
      "text/plain": [
       "classification\n",
       "White                                        9317\n",
       "Asian                                        8797\n",
       "Other                                        6703\n",
       "Black or African American                    4813\n",
       "Black                                        3708\n",
       "Caucasian                                    2922\n",
       "American Indian or Alaska Native             2850\n",
       "Hispanic                                     2781\n",
       "Hispanic or Latino                           2262\n",
       "Native Hawaiian or Other Pacific Islander    1892\n",
       "Name: id, dtype: int64"
      ]
     },
     "execution_count": 21,
     "metadata": {},
     "output_type": "execute_result"
    }
   ],
   "source": [
    "df_blank_cat = df_by_titles[df_by_titles['category'] == '']\n",
    "df_blank_cat.groupby('classification')['id'].count().sort_values(ascending=False)[:10]"
   ]
  },
  {
   "cell_type": "markdown",
   "metadata": {},
   "source": [
    "### A: Looks like those with blank category will have a classification reported with the ethnicity\n",
    "\n",
    "so either the race is reported in the \"category\" field or the \"classification\" field"
   ]
  },
  {
   "cell_type": "markdown",
   "metadata": {},
   "source": [
    "### \"Category\" Summary:\n",
    "- scanning the category column for matched string ethnicities, we found a short list of titles that narrow down these ethnicities. \n",
    "    -- This is stored in the variable: used_cat_titles\n",
    "- Filtering by these titles, we see that there is still many rows with blank categorys\n",
    "- Found that these rows have the ethnicity tagged in the \"classification\" column"
   ]
  },
  {
   "cell_type": "markdown",
   "metadata": {},
   "source": [
    "# 2. Classification column in BM"
   ]
  },
  {
   "cell_type": "code",
   "execution_count": 22,
   "metadata": {
    "scrolled": true
   },
   "outputs": [
    {
     "data": {
      "text/plain": [
       "classification\n",
       "                                           929902\n",
       "United States                               49195\n",
       "White                                        9468\n",
       "Asian                                        8976\n",
       "Other                                        8091\n",
       "                                            ...  \n",
       "Unemployed but seeking work                     1\n",
       "First diagnosis                                 1\n",
       "Black or American African                       1\n",
       "PEP (n=89) - Black                              1\n",
       "CYP2C19*17/CYP2C19*2 : Normal Phenotype         1\n",
       "Name: nct_id, Length: 27048, dtype: int64"
      ]
     },
     "execution_count": 22,
     "metadata": {},
     "output_type": "execute_result"
    }
   ],
   "source": [
    "all_classes = bmr.groupby('classification')['nct_id'].count().sort_values(ascending=False)\n",
    "all_classes"
   ]
  },
  {
   "cell_type": "code",
   "execution_count": 23,
   "metadata": {},
   "outputs": [],
   "source": [
    "possible_keywords = ['white', 'asian', 'african', 'indian', \n",
    "                     'native', 'islander', 'latino', 'hispanic']\n",
    "\n",
    "\n",
    "# finding all category labels such that it matches above keywords\n",
    "used_classes = []\n",
    "for cur_class in all_classes.index:\n",
    "    for kw in possible_keywords:\n",
    "        if kw in cur_class.lower():\n",
    "            if cur_class not in used_classes:\n",
    "                used_classes.append(cur_class)\n",
    "            next"
   ]
  },
  {
   "cell_type": "code",
   "execution_count": 24,
   "metadata": {},
   "outputs": [
    {
     "data": {
      "text/plain": [
       "44"
      ]
     },
     "execution_count": 24,
     "metadata": {},
     "output_type": "execute_result"
    }
   ],
   "source": [
    "# found this many categories that match race with atleast 100 studies:\n",
    "matched_class_counts = all_classes.loc[used_classes]\n",
    "used_class_counts = matched_class_counts[matched_class_counts >= 100]\n",
    "len(used_class_counts)"
   ]
  },
  {
   "cell_type": "code",
   "execution_count": 25,
   "metadata": {
    "scrolled": true
   },
   "outputs": [
    {
     "data": {
      "text/plain": [
       "['White',\n",
       " 'Asian',\n",
       " 'Black or African American',\n",
       " 'Caucasian',\n",
       " 'Hispanic',\n",
       " 'American Indian or Alaska Native',\n",
       " 'Hispanic or Latino',\n",
       " 'Native Hawaiian or Other Pacific Islander',\n",
       " 'Not Hispanic or Latino',\n",
       " 'African American',\n",
       " 'African American/African Heritage',\n",
       " 'Black/African American',\n",
       " 'Native American',\n",
       " 'Native Hawaiian or other Pacific Islander',\n",
       " 'American Indian or Alaskan Native',\n",
       " 'White - White/Caucasian/European Heritage',\n",
       " 'Asian - East Asian Heritage',\n",
       " 'Asian - South East Asian Heritage',\n",
       " 'Hispanic/Latino',\n",
       " 'White or Caucasian',\n",
       " 'Asian - Japanese Heritage',\n",
       " 'Asian - Central/South Asian Heritage',\n",
       " 'African',\n",
       " 'White - Arabic/North African Heritage',\n",
       " 'White/Caucasian',\n",
       " 'African-American',\n",
       " 'East Asian',\n",
       " 'Native Hawaiian or Pacific Islander',\n",
       " 'Pacific Islander',\n",
       " 'American Indian',\n",
       " 'White Non-Hispanic',\n",
       " 'American Indian/Alaska Native',\n",
       " 'Asian/Pacific Islander',\n",
       " 'American Indian/Alaskan Native',\n",
       " 'Non-Hispanic White',\n",
       " 'Caucasian/White',\n",
       " 'Indian',\n",
       " 'West Asian',\n",
       " 'Non-Hispanic or Latino',\n",
       " 'Non-Hispanic',\n",
       " 'Black Or African American',\n",
       " 'Not Hispanic/Latino',\n",
       " 'Latino',\n",
       " 'Asian/Oriental']"
      ]
     },
     "execution_count": 25,
     "metadata": {},
     "output_type": "execute_result"
    }
   ],
   "source": [
    "used_classes = list(used_class_counts.index)\n",
    "used_classes"
   ]
  },
  {
   "cell_type": "markdown",
   "metadata": {},
   "source": [
    "### What are the characteristics of the studies that have these used classifications?"
   ]
  },
  {
   "cell_type": "code",
   "execution_count": 26,
   "metadata": {},
   "outputs": [],
   "source": [
    "df_class = bm[bm['classification'].isin(used_classes)]"
   ]
  },
  {
   "cell_type": "code",
   "execution_count": 27,
   "metadata": {},
   "outputs": [
    {
     "data": {
      "text/plain": [
       "title\n",
       "Race/Ethnicity, Customized    46225\n",
       "Race/Ethnicity                  800\n",
       "Race (NIH/OMB)                  696\n",
       "Race                            674\n",
       "Ethnicity                       337\n",
       "Ethnicity (NIH/OMB)             116\n",
       "Predominant Race                 40\n",
       "Race/Ethnicity, customized       40\n",
       "Racial Group                     30\n",
       "Race - U.S.A.                    21\n",
       "Name: id, dtype: int64"
      ]
     },
     "execution_count": 27,
     "metadata": {},
     "output_type": "execute_result"
    }
   ],
   "source": [
    "s_class_by_count = df_class.groupby('title')['id'].count().sort_values(ascending=False)\n",
    "s_class_by_count[:10]"
   ]
  },
  {
   "cell_type": "markdown",
   "metadata": {},
   "source": [
    "### can just go with those with > 100 rows"
   ]
  },
  {
   "cell_type": "code",
   "execution_count": 28,
   "metadata": {},
   "outputs": [
    {
     "data": {
      "text/plain": [
       "['Ethnicity',\n",
       " 'Ethnicity (NIH/OMB)',\n",
       " 'Race',\n",
       " 'Race (NIH/OMB)',\n",
       " 'Race/Ethnicity',\n",
       " 'Race/Ethnicity, Customized']"
      ]
     },
     "execution_count": 28,
     "metadata": {},
     "output_type": "execute_result"
    }
   ],
   "source": [
    "# can just use the top few:\n",
    "used_class_titles = s_class_by_count[s_class_by_count > 100].index\n",
    "sorted(used_class_titles)"
   ]
  },
  {
   "cell_type": "code",
   "execution_count": 29,
   "metadata": {},
   "outputs": [
    {
     "data": {
      "text/plain": [
       "['Ethnicity (NIH/OMB)', 'Race', 'Race (NIH/OMB)', 'Race/Ethnicity, Customized']"
      ]
     },
     "execution_count": 29,
     "metadata": {},
     "output_type": "execute_result"
    }
   ],
   "source": [
    "sorted(used_cat_titles)"
   ]
  },
  {
   "cell_type": "markdown",
   "metadata": {},
   "source": [
    "### Looks like the class titles have extra vs cat titles:\n",
    "- Ethnicity\n",
    "- Race/Ethnicity\n",
    "\n",
    "But is otherwise a superset"
   ]
  },
  {
   "cell_type": "markdown",
   "metadata": {},
   "source": [
    "### if we filter by these titles, do we get back the original classifications?"
   ]
  },
  {
   "cell_type": "code",
   "execution_count": 30,
   "metadata": {},
   "outputs": [
    {
     "data": {
      "text/html": [
       "<div>\n",
       "<style scoped>\n",
       "    .dataframe tbody tr th:only-of-type {\n",
       "        vertical-align: middle;\n",
       "    }\n",
       "\n",
       "    .dataframe tbody tr th {\n",
       "        vertical-align: top;\n",
       "    }\n",
       "\n",
       "    .dataframe thead th {\n",
       "        text-align: right;\n",
       "    }\n",
       "</style>\n",
       "<table border=\"1\" class=\"dataframe\">\n",
       "  <thead>\n",
       "    <tr style=\"text-align: right;\">\n",
       "      <th></th>\n",
       "      <th></th>\n",
       "      <th>id</th>\n",
       "      <th>ctgov_group_code</th>\n",
       "      <th>classification</th>\n",
       "      <th>category</th>\n",
       "      <th>title</th>\n",
       "      <th>description</th>\n",
       "      <th>units</th>\n",
       "      <th>param_type</th>\n",
       "      <th>param_value</th>\n",
       "      <th>param_value_num</th>\n",
       "      <th>dispersion_type</th>\n",
       "      <th>dispersion_value</th>\n",
       "      <th>dispersion_value_num</th>\n",
       "      <th>dispersion_lower_limit</th>\n",
       "      <th>dispersion_upper_limit</th>\n",
       "      <th>explanation_of_na</th>\n",
       "    </tr>\n",
       "    <tr>\n",
       "      <th>nct_id</th>\n",
       "      <th>result_group_id</th>\n",
       "      <th></th>\n",
       "      <th></th>\n",
       "      <th></th>\n",
       "      <th></th>\n",
       "      <th></th>\n",
       "      <th></th>\n",
       "      <th></th>\n",
       "      <th></th>\n",
       "      <th></th>\n",
       "      <th></th>\n",
       "      <th></th>\n",
       "      <th></th>\n",
       "      <th></th>\n",
       "      <th></th>\n",
       "      <th></th>\n",
       "      <th></th>\n",
       "    </tr>\n",
       "  </thead>\n",
       "  <tbody>\n",
       "    <tr>\n",
       "      <td rowspan=\"5\" valign=\"top\">NCT00000125</td>\n",
       "      <td>18405171</td>\n",
       "      <td>20943952</td>\n",
       "      <td>B3</td>\n",
       "      <td>Other</td>\n",
       "      <td></td>\n",
       "      <td>Race/Ethnicity, Customized</td>\n",
       "      <td></td>\n",
       "      <td>participants</td>\n",
       "      <td>Number</td>\n",
       "      <td>14</td>\n",
       "      <td>14.0</td>\n",
       "      <td></td>\n",
       "      <td>None</td>\n",
       "      <td>NaN</td>\n",
       "      <td>NaN</td>\n",
       "      <td>NaN</td>\n",
       "      <td></td>\n",
       "    </tr>\n",
       "    <tr>\n",
       "      <td>18405171</td>\n",
       "      <td>20943955</td>\n",
       "      <td>B3</td>\n",
       "      <td>White</td>\n",
       "      <td></td>\n",
       "      <td>Race/Ethnicity, Customized</td>\n",
       "      <td></td>\n",
       "      <td>participants</td>\n",
       "      <td>Number</td>\n",
       "      <td>1137</td>\n",
       "      <td>1137.0</td>\n",
       "      <td></td>\n",
       "      <td>None</td>\n",
       "      <td>NaN</td>\n",
       "      <td>NaN</td>\n",
       "      <td>NaN</td>\n",
       "      <td></td>\n",
       "    </tr>\n",
       "    <tr>\n",
       "      <td>18405171</td>\n",
       "      <td>20943958</td>\n",
       "      <td>B3</td>\n",
       "      <td>Hispanic</td>\n",
       "      <td></td>\n",
       "      <td>Race/Ethnicity, Customized</td>\n",
       "      <td></td>\n",
       "      <td>participants</td>\n",
       "      <td>Number</td>\n",
       "      <td>59</td>\n",
       "      <td>59.0</td>\n",
       "      <td></td>\n",
       "      <td>None</td>\n",
       "      <td>NaN</td>\n",
       "      <td>NaN</td>\n",
       "      <td>NaN</td>\n",
       "      <td></td>\n",
       "    </tr>\n",
       "    <tr>\n",
       "      <td>18405171</td>\n",
       "      <td>20943961</td>\n",
       "      <td>B3</td>\n",
       "      <td>African American</td>\n",
       "      <td></td>\n",
       "      <td>Race/Ethnicity, Customized</td>\n",
       "      <td></td>\n",
       "      <td>participants</td>\n",
       "      <td>Number</td>\n",
       "      <td>408</td>\n",
       "      <td>408.0</td>\n",
       "      <td></td>\n",
       "      <td>None</td>\n",
       "      <td>NaN</td>\n",
       "      <td>NaN</td>\n",
       "      <td>NaN</td>\n",
       "      <td></td>\n",
       "    </tr>\n",
       "    <tr>\n",
       "      <td>18405171</td>\n",
       "      <td>20943964</td>\n",
       "      <td>B3</td>\n",
       "      <td>Asian</td>\n",
       "      <td></td>\n",
       "      <td>Race/Ethnicity, Customized</td>\n",
       "      <td></td>\n",
       "      <td>participants</td>\n",
       "      <td>Number</td>\n",
       "      <td>14</td>\n",
       "      <td>14.0</td>\n",
       "      <td></td>\n",
       "      <td>None</td>\n",
       "      <td>NaN</td>\n",
       "      <td>NaN</td>\n",
       "      <td>NaN</td>\n",
       "      <td></td>\n",
       "    </tr>\n",
       "  </tbody>\n",
       "</table>\n",
       "</div>"
      ],
      "text/plain": [
       "                                   id ctgov_group_code    classification  \\\n",
       "nct_id      result_group_id                                                \n",
       "NCT00000125 18405171         20943952               B3             Other   \n",
       "            18405171         20943955               B3             White   \n",
       "            18405171         20943958               B3          Hispanic   \n",
       "            18405171         20943961               B3  African American   \n",
       "            18405171         20943964               B3             Asian   \n",
       "\n",
       "                            category                       title description  \\\n",
       "nct_id      result_group_id                                                    \n",
       "NCT00000125 18405171                  Race/Ethnicity, Customized               \n",
       "            18405171                  Race/Ethnicity, Customized               \n",
       "            18405171                  Race/Ethnicity, Customized               \n",
       "            18405171                  Race/Ethnicity, Customized               \n",
       "            18405171                  Race/Ethnicity, Customized               \n",
       "\n",
       "                                    units param_type param_value  \\\n",
       "nct_id      result_group_id                                        \n",
       "NCT00000125 18405171         participants     Number          14   \n",
       "            18405171         participants     Number        1137   \n",
       "            18405171         participants     Number          59   \n",
       "            18405171         participants     Number         408   \n",
       "            18405171         participants     Number          14   \n",
       "\n",
       "                             param_value_num dispersion_type dispersion_value  \\\n",
       "nct_id      result_group_id                                                     \n",
       "NCT00000125 18405171                    14.0                             None   \n",
       "            18405171                  1137.0                             None   \n",
       "            18405171                    59.0                             None   \n",
       "            18405171                   408.0                             None   \n",
       "            18405171                    14.0                             None   \n",
       "\n",
       "                             dispersion_value_num  dispersion_lower_limit  \\\n",
       "nct_id      result_group_id                                                 \n",
       "NCT00000125 18405171                          NaN                     NaN   \n",
       "            18405171                          NaN                     NaN   \n",
       "            18405171                          NaN                     NaN   \n",
       "            18405171                          NaN                     NaN   \n",
       "            18405171                          NaN                     NaN   \n",
       "\n",
       "                             dispersion_upper_limit explanation_of_na  \n",
       "nct_id      result_group_id                                            \n",
       "NCT00000125 18405171                            NaN                    \n",
       "            18405171                            NaN                    \n",
       "            18405171                            NaN                    \n",
       "            18405171                            NaN                    \n",
       "            18405171                            NaN                    "
      ]
     },
     "execution_count": 30,
     "metadata": {},
     "output_type": "execute_result"
    }
   ],
   "source": [
    "df_by_titles = bm[bm['title'].isin(used_class_titles)]\n",
    "df_by_titles.head()"
   ]
  },
  {
   "cell_type": "code",
   "execution_count": 31,
   "metadata": {},
   "outputs": [
    {
     "data": {
      "text/plain": [
       "classification\n",
       "                                             310527\n",
       "White                                          9383\n",
       "Asian                                          8898\n",
       "Other                                          6810\n",
       "Race                                           4891\n",
       "Black or African American                      4862\n",
       "Black                                          3773\n",
       "Caucasian                                      3097\n",
       "Hispanic                                       2996\n",
       "American Indian or Alaska Native               2864\n",
       "Hispanic or Latino                             2384\n",
       "Native Hawaiian or Other Pacific Islander      1913\n",
       "Not Hispanic or Latino                         1460\n",
       "Race/Ethnicity                                 1451\n",
       "Ethnicity                                      1273\n",
       "Unknown                                        1099\n",
       "African American                               1045\n",
       "Name: id, dtype: int64"
      ]
     },
     "execution_count": 31,
     "metadata": {},
     "output_type": "execute_result"
    }
   ],
   "source": [
    "counts_by_title_cats = df_by_titles.groupby('classification')['id'].count().sort_values(ascending=False)\n",
    "counts_by_title_cats[counts_by_title_cats > 1000]"
   ]
  },
  {
   "cell_type": "markdown",
   "metadata": {},
   "source": [
    "### Q: What are the blanks for?"
   ]
  },
  {
   "cell_type": "code",
   "execution_count": 32,
   "metadata": {},
   "outputs": [
    {
     "data": {
      "text/plain": [
       "category\n",
       "Unknown or Not Reported                      56041\n",
       "White                                        33961\n",
       "Asian                                        33610\n",
       "Black or African American                    33188\n",
       "American Indian or Alaska Native             32554\n",
       "Native Hawaiian or Other Pacific Islander    32278\n",
       "More than one race                           31785\n",
       "Hispanic or Latino                           24807\n",
       "Not Hispanic or Latino                       24731\n",
       "Other                                         1466\n",
       "Name: id, dtype: int64"
      ]
     },
     "execution_count": 32,
     "metadata": {},
     "output_type": "execute_result"
    }
   ],
   "source": [
    "df_blank_cat = df_by_titles[df_by_titles['classification'] == '']\n",
    "df_blank_cat.groupby('category')['id'].count().sort_values(ascending=False)[:10]"
   ]
  },
  {
   "cell_type": "markdown",
   "metadata": {},
   "source": [
    "### A: We have cross coverage between classification and category for the same race/ethn titles"
   ]
  },
  {
   "cell_type": "markdown",
   "metadata": {},
   "source": [
    "# 3. Narrowing the studies by Title, Classification and Category"
   ]
  },
  {
   "cell_type": "code",
   "execution_count": 33,
   "metadata": {},
   "outputs": [
    {
     "data": {
      "text/plain": [
       "['Race/Ethnicity, Customized',\n",
       " 'Race/Ethnicity',\n",
       " 'Race (NIH/OMB)',\n",
       " 'Race',\n",
       " 'Ethnicity',\n",
       " 'Ethnicity (NIH/OMB)']"
      ]
     },
     "execution_count": 33,
     "metadata": {},
     "output_type": "execute_result"
    }
   ],
   "source": [
    "# combining the valid titles from both category and classification\n",
    "all_used_titles = []\n",
    "for cur_title in used_class_titles:\n",
    "    if cur_title not in all_used_titles:\n",
    "        all_used_titles.append(cur_title)\n",
    "        \n",
    "for cur_title in used_cat_titles:\n",
    "    if cur_title not in all_used_titles:\n",
    "        all_used_titles.append(cur_title)       \n",
    "\n",
    "all_used_titles        "
   ]
  },
  {
   "cell_type": "markdown",
   "metadata": {},
   "source": [
    "### Let's Eyeball through some examples by title"
   ]
  },
  {
   "cell_type": "code",
   "execution_count": 34,
   "metadata": {},
   "outputs": [
    {
     "name": "stdout",
     "output_type": "stream",
     "text": [
      "BM Title: Race/Ethnicity, Customized\n",
      "['NCT00834613' 'NCT02249182' 'NCT02227706' 'NCT01332292' 'NCT00601965']\n",
      "\n",
      "\n",
      "BM Title: Race/Ethnicity\n",
      "['NCT00356525' 'NCT00190671' 'NCT02001194' 'NCT00146770' 'NCT00191724']\n",
      "\n",
      "\n",
      "BM Title: Race (NIH/OMB)\n",
      "['NCT02944383' 'NCT02570139' 'NCT02522481' 'NCT01099631' 'NCT03138655']\n",
      "\n",
      "\n",
      "BM Title: Race\n",
      "['NCT01576146' 'NCT02194933' 'NCT03633448' 'NCT03649750' 'NCT03649750']\n",
      "\n",
      "\n",
      "BM Title: Ethnicity\n",
      "['NCT01729871' 'NCT00794664' 'NCT01729871' 'NCT00633477' 'NCT00459316']\n",
      "\n",
      "\n",
      "BM Title: Ethnicity (NIH/OMB)\n",
      "['NCT02287584' 'NCT00924066' 'NCT00005803' 'NCT02732951' 'NCT02037295']\n",
      "\n",
      "\n"
     ]
    }
   ],
   "source": [
    "for cur_title in all_used_titles:\n",
    "    print(\"BM Title: %s\" % cur_title)\n",
    "    sub_df = bm[bm['title'] == cur_title]\n",
    "    all_nct_id = sub_df.index.get_level_values(0).unique()\n",
    "    print(np.random.choice(all_nct_id, 5))\n",
    "    print(\"\\n\")"
   ]
  },
  {
   "cell_type": "markdown",
   "metadata": {},
   "source": [
    "### Notes:\n",
    "- Some studies report both race and ethnicity as different metrics: NCT01611194\n",
    "- looks like \"Race (NIH/OMB) is the one that we want if both Ethnicity (NIH/OMB) and that are reported\n",
    "- also drop the 2 ethnicity titles"
   ]
  },
  {
   "cell_type": "code",
   "execution_count": 35,
   "metadata": {},
   "outputs": [
    {
     "data": {
      "text/plain": [
       "['Race/Ethnicity, Customized', 'Race/Ethnicity', 'Race (NIH/OMB)', 'Race']"
      ]
     },
     "execution_count": 35,
     "metadata": {},
     "output_type": "execute_result"
    }
   ],
   "source": [
    "# this determines the set of data used for the final race data set\n",
    "final_used_titles = [x for x in all_used_titles if 'race' in x.lower()]\n",
    "final_used_titles"
   ]
  },
  {
   "cell_type": "code",
   "execution_count": 36,
   "metadata": {},
   "outputs": [],
   "source": [
    "bm_used = bm[bm['title'].isin(final_used_titles)]"
   ]
  },
  {
   "cell_type": "code",
   "execution_count": 37,
   "metadata": {},
   "outputs": [
    {
     "data": {
      "text/plain": [
       "18378"
      ]
     },
     "execution_count": 37,
     "metadata": {},
     "output_type": "execute_result"
    }
   ],
   "source": [
    "num_used = len(bm_used.index.get_level_values(0).unique())\n",
    "num_used"
   ]
  },
  {
   "cell_type": "code",
   "execution_count": 38,
   "metadata": {},
   "outputs": [
    {
     "data": {
      "text/plain": [
       "0.42159111763626356"
      ]
     },
     "execution_count": 38,
     "metadata": {},
     "output_type": "execute_result"
    }
   ],
   "source": [
    "# this % of studies is covered by the current set\n",
    "num_used / bm_all"
   ]
  },
  {
   "cell_type": "markdown",
   "metadata": {},
   "source": [
    "#### turns out to be 41% of those that report baseline measurements"
   ]
  },
  {
   "cell_type": "markdown",
   "metadata": {},
   "source": [
    "# 4. Merging the category and classification into 1 used study set"
   ]
  },
  {
   "cell_type": "code",
   "execution_count": 39,
   "metadata": {},
   "outputs": [
    {
     "data": {
      "text/plain": [
       "classification                             category                                 \n",
       "                                           White                                        33961\n",
       "                                           Asian                                        33610\n",
       "                                           Black or African American                    33188\n",
       "                                           American Indian or Alaska Native             32554\n",
       "                                           Native Hawaiian or Other Pacific Islander    32278\n",
       "                                           Unknown or Not Reported                      31820\n",
       "                                           More than one race                           31785\n",
       "White                                                                                    9378\n",
       "Asian                                                                                    8877\n",
       "Other                                                                                    6791\n",
       "Black or African American                                                                4849\n",
       "Black                                                                                    3772\n",
       "Caucasian                                                                                3089\n",
       "Hispanic                                                                                 2942\n",
       "American Indian or Alaska Native                                                         2864\n",
       "Hispanic or Latino                                                                       2212\n",
       "Native Hawaiian or Other Pacific Islander                                                1903\n",
       "                                           Other                                         1462\n",
       "Not Hispanic or Latino                                                                   1298\n",
       "Unknown                                                                                  1081\n",
       "African American                                                                         1045\n",
       "African American/African Heritage                                                         745\n",
       "Race                                       White                                          726\n",
       "Black/African American                                                                    639\n",
       "Unknown or Not Reported                                                                   612\n",
       "Missing                                                                                   607\n",
       "                                           Black                                          591\n",
       "Race                                       Other                                          583\n",
       "Native American                                                                           579\n",
       "Native Hawaiian or other Pacific Islander                                                 565\n",
       "Race                                       Asian                                          542\n",
       "                                           Hispanic or Latino                             522\n",
       "More than one race                                                                        521\n",
       "Name: id, dtype: int64"
      ]
     },
     "execution_count": 39,
     "metadata": {},
     "output_type": "execute_result"
    }
   ],
   "source": [
    "double_counts = bm_used.groupby(['classification', 'category'])['id'].count().sort_values(ascending=False)\n",
    "double_counts[double_counts > 500]"
   ]
  },
  {
   "cell_type": "markdown",
   "metadata": {},
   "source": [
    "### Plan: We look at category first, then in the remaining where category is blank, look at the classification"
   ]
  },
  {
   "cell_type": "code",
   "execution_count": 40,
   "metadata": {},
   "outputs": [
    {
     "data": {
      "text/plain": [
       "category\n",
       "                                             81791\n",
       "White                                        35435\n",
       "Asian                                        34819\n",
       "Black or African American                    34077\n",
       "American Indian or Alaska Native             33161\n",
       "Native Hawaiian or Other Pacific Islander    32809\n",
       "Unknown or Not Reported                      32191\n",
       "More than one race                           32160\n",
       "Other                                         2571\n",
       "Black                                         1062\n",
       "Hispanic or Latino                             844\n",
       "Not Hispanic or Latino                         660\n",
       "Hispanic                                       630\n",
       "Caucasian                                      512\n",
       "Unknown                                        439\n",
       "Not Permitted                                  350\n",
       "Missing                                        254\n",
       "Multiple                                       249\n",
       "African American                               248\n",
       "American Indian or Alaskan Native              217\n",
       "Not Reported                                   216\n",
       "Native Hawaiian or Pacific Islander            203\n",
       "Native Hawaiian or other Pacific Islander      199\n",
       "White/Caucasian                                145\n",
       "Black/African American                         139\n",
       "Asian - South East Asian Heritage              122\n",
       "Native American                                121\n",
       "Asian - Central/South Asian Heritage           117\n",
       "Asian - East Asian Heritage                    114\n",
       "White - White/Caucasian/European Heritage      111\n",
       "African                                        103\n",
       "Name: id, dtype: int64"
      ]
     },
     "execution_count": 40,
     "metadata": {},
     "output_type": "execute_result"
    }
   ],
   "source": [
    "cat_counts = bm_used.groupby('category')['id'].count().sort_values(ascending=False)\n",
    "cat_counts[cat_counts > 100]"
   ]
  },
  {
   "cell_type": "code",
   "execution_count": 41,
   "metadata": {},
   "outputs": [],
   "source": [
    "# eyeballing which ones are the N/A categories\n",
    "cat_unknowns = ['Unknown or Not Reported', \n",
    "                'More than one race', \n",
    "                'Unknown', \n",
    "                'Not Permitted', \n",
    "                'Missing', \n",
    "                'Multiple', \n",
    "                'Not Reported']"
   ]
  },
  {
   "cell_type": "code",
   "execution_count": 42,
   "metadata": {},
   "outputs": [],
   "source": [
    "# why do we get the \"ethnicity\" labels still? (ex: Hispanic or Latino)\n",
    "eth_cats = ['Hispanic or Latino', 'Not Hispanic or Latino']"
   ]
  },
  {
   "cell_type": "markdown",
   "metadata": {},
   "source": [
    "## 4 a) Case 1: Category is non-blank"
   ]
  },
  {
   "cell_type": "code",
   "execution_count": 43,
   "metadata": {},
   "outputs": [
    {
     "name": "stdout",
     "output_type": "stream",
     "text": [
      "Pct of bm rows: 75.4%\n"
     ]
    }
   ],
   "source": [
    "bm_used_case1 = bm_used[bm_used['category'] != '']\n",
    "\n",
    "# already checked that the \"Count of Participants\" is the dominate param type\n",
    "bm_used_case1 = bm_used_case1[bm_used_case1['param_type'] == 'Count of Participants']\n",
    "\n",
    "# % of the data ..\n",
    "print(\"Pct of bm rows: %.1f%%\" % (bm_used_case1.shape[0] / bm_used.shape[0] * 100))\n",
    "\n",
    "# unique ids for this case\n",
    "case1_nct_ids = bm_used_case1.index.get_level_values(0).unique()"
   ]
  },
  {
   "cell_type": "code",
   "execution_count": 44,
   "metadata": {},
   "outputs": [
    {
     "name": "stdout",
     "output_type": "stream",
     "text": [
      "Pct of bm rows: 75.6%\n"
     ]
    }
   ],
   "source": [
    "bm_full_case1 = bm_used.loc[case1_nct_ids]\n",
    "bm_full_case1 = bm_full_case1[bm_full_case1['param_type'] == 'Count of Participants']\n",
    "print(\"Pct of bm rows: %.1f%%\" % (bm_full_case1.shape[0] / bm_used.shape[0] * 100))"
   ]
  },
  {
   "cell_type": "code",
   "execution_count": 45,
   "metadata": {},
   "outputs": [
    {
     "data": {
      "text/plain": [
       "param_type\n",
       "Count of Participants    251942\n",
       "Name: id, dtype: int64"
      ]
     },
     "execution_count": 45,
     "metadata": {},
     "output_type": "execute_result"
    }
   ],
   "source": [
    "bm_full_case1.groupby('param_type')['id'].count()"
   ]
  },
  {
   "cell_type": "markdown",
   "metadata": {},
   "source": [
    "## Joining to result groups to get the group labels:"
   ]
  },
  {
   "cell_type": "code",
   "execution_count": 46,
   "metadata": {},
   "outputs": [],
   "source": [
    "dfm_case1 = bm_full_case1.reset_index().merge(rg.reset_index()[['nct_id', 'ctgov_group_code', 'title']], \n",
    "                                              on=['nct_id', 'ctgov_group_code'], \n",
    "                                              how='inner', \n",
    "                                              suffixes=('', '_rg'))"
   ]
  },
  {
   "cell_type": "code",
   "execution_count": 47,
   "metadata": {},
   "outputs": [
    {
     "data": {
      "text/plain": [
       "Index(['Total', 'Placebo', 'Control', 'Usual Care', 'All Participants',\n",
       "       'All Study Participants', 'Control Group', 'Intervention',\n",
       "       'Standard of Care', 'Treatment', 'Overall Study', 'Cohort 1',\n",
       "       'Cohort 2', 'Sugar Pill', 'Vehicle', 'Arm 1', 'Overall',\n",
       "       'Treatment Arm', 'Placebo Group', 'Arm 2', 'Cohort 3', 'Group 1',\n",
       "       'Group B', 'Group A', 'Group 2', 'Control Arm', 'Arm A', 'Arm B',\n",
       "       'Arm I', 'Single Arm', 'Treatment as Usual', 'Arm II (Placebo)',\n",
       "       'All Patients', 'Normal Saline', 'Entire Study Population',\n",
       "       'Standard Care', 'Duloxetine', 'Pembrolizumab', 'Intervention Group',\n",
       "       'Saline', 'Total Title', 'Varenicline', 'Active', 'Ketamine',\n",
       "       'Cohort A', 'Metformin', 'Cohort B', 'All Subjects', 'Placebo Arm',\n",
       "       'Dose Level 1'],\n",
       "      dtype='object', name='title_rg')"
      ]
     },
     "execution_count": 47,
     "metadata": {},
     "output_type": "execute_result"
    }
   ],
   "source": [
    "dfm_case1.groupby('title_rg').size().sort_values(ascending=False)[:50].index"
   ]
  },
  {
   "cell_type": "markdown",
   "metadata": {},
   "source": [
    "### Need to get rid of the total rows"
   ]
  },
  {
   "cell_type": "code",
   "execution_count": 48,
   "metadata": {},
   "outputs": [],
   "source": [
    "total_strings = ['Total', \n",
    "                 'All Participants', \n",
    "                 'All Study Participants', \n",
    "                 'Entire Study Population',\n",
    "                 'Overall Study',\n",
    "                 'Overall', \n",
    "                 'Total Title']"
   ]
  },
  {
   "cell_type": "code",
   "execution_count": 49,
   "metadata": {},
   "outputs": [
    {
     "data": {
      "text/plain": [
       "12372"
      ]
     },
     "execution_count": 49,
     "metadata": {},
     "output_type": "execute_result"
    }
   ],
   "source": [
    "dfm_case1_nontot = dfm_case1[~dfm_case1['title_rg'].isin(total_strings)].copy()\n",
    "len(dfm_case1_nontot['nct_id'].unique())"
   ]
  },
  {
   "cell_type": "code",
   "execution_count": 50,
   "metadata": {
    "scrolled": true
   },
   "outputs": [
    {
     "data": {
      "text/html": [
       "<div>\n",
       "<style scoped>\n",
       "    .dataframe tbody tr th:only-of-type {\n",
       "        vertical-align: middle;\n",
       "    }\n",
       "\n",
       "    .dataframe tbody tr th {\n",
       "        vertical-align: top;\n",
       "    }\n",
       "\n",
       "    .dataframe thead th {\n",
       "        text-align: right;\n",
       "    }\n",
       "</style>\n",
       "<table border=\"1\" class=\"dataframe\">\n",
       "  <thead>\n",
       "    <tr style=\"text-align: right;\">\n",
       "      <th></th>\n",
       "      <th>param_value_num</th>\n",
       "      <th>enrollment</th>\n",
       "      <th>tot_per_enroll</th>\n",
       "    </tr>\n",
       "    <tr>\n",
       "      <th>nct_id</th>\n",
       "      <th></th>\n",
       "      <th></th>\n",
       "      <th></th>\n",
       "    </tr>\n",
       "  </thead>\n",
       "  <tbody>\n",
       "    <tr>\n",
       "      <td>NCT00001262</td>\n",
       "      <td>60.0</td>\n",
       "      <td>60.0</td>\n",
       "      <td>1.0</td>\n",
       "    </tr>\n",
       "    <tr>\n",
       "      <td>NCT00001304</td>\n",
       "      <td>27.0</td>\n",
       "      <td>27.0</td>\n",
       "      <td>1.0</td>\n",
       "    </tr>\n",
       "    <tr>\n",
       "      <td>NCT00001305</td>\n",
       "      <td>42.0</td>\n",
       "      <td>42.0</td>\n",
       "      <td>1.0</td>\n",
       "    </tr>\n",
       "    <tr>\n",
       "      <td>NCT00001575</td>\n",
       "      <td>87.0</td>\n",
       "      <td>87.0</td>\n",
       "      <td>1.0</td>\n",
       "    </tr>\n",
       "    <tr>\n",
       "      <td>NCT00001586</td>\n",
       "      <td>105.0</td>\n",
       "      <td>105.0</td>\n",
       "      <td>1.0</td>\n",
       "    </tr>\n",
       "  </tbody>\n",
       "</table>\n",
       "</div>"
      ],
      "text/plain": [
       "             param_value_num  enrollment  tot_per_enroll\n",
       "nct_id                                                  \n",
       "NCT00001262             60.0        60.0             1.0\n",
       "NCT00001304             27.0        27.0             1.0\n",
       "NCT00001305             42.0        42.0             1.0\n",
       "NCT00001575             87.0        87.0             1.0\n",
       "NCT00001586            105.0       105.0             1.0"
      ]
     },
     "execution_count": 50,
     "metadata": {},
     "output_type": "execute_result"
    }
   ],
   "source": [
    "df_case1_totcounts = dfm_case1_nontot.groupby('nct_id')[['param_value_num']].sum()\n",
    "df_c1j = df_case1_totcounts.join(ss.studies[['enrollment']])\n",
    "df_c1j['tot_per_enroll'] = df_c1j['param_value_num'] / df_c1j['enrollment']\n",
    "df_c1j.head()"
   ]
  },
  {
   "cell_type": "code",
   "execution_count": 51,
   "metadata": {},
   "outputs": [
    {
     "data": {
      "text/plain": [
       "<matplotlib.axes._subplots.AxesSubplot at 0x7faff3fd25c0>"
      ]
     },
     "execution_count": 51,
     "metadata": {},
     "output_type": "execute_result"
    },
    {
     "data": {
      "image/png": "[encoded data removed]",
      "text/plain": [
       "<Figure size 432x288 with 1 Axes>"
      ]
     },
     "metadata": {
      "needs_background": "light"
     },
     "output_type": "display_data"
    }
   ],
   "source": [
    "df_c1j[df_c1j['tot_per_enroll'] != 1.0]['tot_per_enroll'].clip(0, 4).hist(bins=50)"
   ]
  },
  {
   "cell_type": "markdown",
   "metadata": {},
   "source": [
    "### Some studies report multiple times for ethnicity - should not be double counted"
   ]
  },
  {
   "cell_type": "markdown",
   "metadata": {},
   "source": [
    "### Idea: let's just keep those studies with totals that sum up to smaller or equal to total enrollment"
   ]
  },
  {
   "cell_type": "code",
   "execution_count": 52,
   "metadata": {},
   "outputs": [
    {
     "data": {
      "text/plain": [
       "0.9688813449725185"
      ]
     },
     "execution_count": 52,
     "metadata": {},
     "output_type": "execute_result"
    }
   ],
   "source": [
    "non_double_counted = df_c1j[df_c1j['param_value_num'] <= df_c1j['enrollment']]\n",
    "non_double_counted.shape[0] / df_c1j.shape[0]"
   ]
  },
  {
   "cell_type": "code",
   "execution_count": 53,
   "metadata": {},
   "outputs": [],
   "source": [
    "df_final_case1 = dfm_case1_nontot[dfm_case1_nontot['nct_id'].isin(non_double_counted.index)].copy()"
   ]
  },
  {
   "cell_type": "code",
   "execution_count": 54,
   "metadata": {},
   "outputs": [
    {
     "data": {
      "text/plain": [
       "0.5435641068727944"
      ]
     },
     "execution_count": 54,
     "metadata": {},
     "output_type": "execute_result"
    }
   ],
   "source": [
    "# % of rows in bm_used\n",
    "df_final_case1.shape[0] / bm_used.shape[0]"
   ]
  },
  {
   "cell_type": "code",
   "execution_count": 55,
   "metadata": {},
   "outputs": [
    {
     "data": {
      "text/plain": [
       "0.652247252149309"
      ]
     },
     "execution_count": 55,
     "metadata": {},
     "output_type": "execute_result"
    }
   ],
   "source": [
    "# % of nct_ids in bm_used\n",
    "len(df_final_case1['nct_id'].unique()) / len(bm_used.index.get_level_values(0).unique())"
   ]
  },
  {
   "cell_type": "markdown",
   "metadata": {},
   "source": [
    "## 4 b) Case 2: Category is blank (look in the classification field)"
   ]
  },
  {
   "cell_type": "code",
   "execution_count": 56,
   "metadata": {},
   "outputs": [
    {
     "name": "stdout",
     "output_type": "stream",
     "text": [
      "Pct of bm rows: 24.5%\n"
     ]
    }
   ],
   "source": [
    "bm_used_case2 = bm_used[bm_used['category'] == '']\n",
    "\n",
    "# checked that these 2 are the dominate characterstics\n",
    "bm_used_case2 = bm_used_case2[bm_used_case2['param_type'].isin(['Count of Participants', 'Number'])]\n",
    "\n",
    "\n",
    "# % of the data ..\n",
    "print(\"Pct of bm rows: %.1f%%\" % (bm_used_case2.shape[0] / bm_used.shape[0] * 100))\n",
    "\n",
    "# unique ids for this case\n",
    "case2_nct_ids = bm_used_case2.index.get_level_values(0).unique()"
   ]
  },
  {
   "cell_type": "code",
   "execution_count": 57,
   "metadata": {},
   "outputs": [
    {
     "name": "stdout",
     "output_type": "stream",
     "text": [
      "Pct of bm rows: 25.0%\n"
     ]
    }
   ],
   "source": [
    "bm_full_case2 = bm_used.loc[case2_nct_ids]\n",
    "bm_full_case2 = bm_full_case2[bm_full_case2['param_type'].isin(['Count of Participants', 'Number'])]\n",
    "print(\"Pct of bm rows: %.1f%%\" % (bm_full_case2.shape[0] / bm_used.shape[0] * 100))"
   ]
  },
  {
   "cell_type": "markdown",
   "metadata": {},
   "source": [
    "## Joining to result groups to get the group labels:"
   ]
  },
  {
   "cell_type": "code",
   "execution_count": 58,
   "metadata": {},
   "outputs": [],
   "source": [
    "dfm_case2 = bm_full_case2.reset_index().merge(rg.reset_index()[['nct_id', 'ctgov_group_code', 'title']], \n",
    "                                              on=['nct_id', 'ctgov_group_code'], \n",
    "                                              how='inner', \n",
    "                                              suffixes=('', '_rg'))"
   ]
  },
  {
   "cell_type": "code",
   "execution_count": 59,
   "metadata": {},
   "outputs": [
    {
     "data": {
      "text/plain": [
       "Index(['Total', 'Placebo', 'Control', 'Usual Care', 'Control Group',\n",
       "       'All Participants', 'All Study Participants', 'Standard of Care',\n",
       "       'Overall Study', 'Sitagliptin 100 mg', 'Duloxetine', 'Cinacalcet',\n",
       "       'Treatment', 'Intervention', 'Cohort 2', 'Cohort 1', 'Overall',\n",
       "       'Lixisenatide', 'Denosumab', 'Dispensed Subjects', 'Lapatinib',\n",
       "       'Denosumab 60 mg Q6M', 'Placebo MDPI', 'Vehicle Foam', 'Placebo Group',\n",
       "       'Vehicle', 'Iron Isomaltoside/Ferric Derisomaltose', 'Standard Care',\n",
       "       'Sitagliptin', 'Fp MDPI 100 mcg', 'FF 100 µg OD',\n",
       "       'Entire Study Population', 'Arm 1', 'SOF/VEL 12 Weeks', 'Placebo Q2W',\n",
       "       'FF/VI 100/25 µg QD', 'Vortioxetine 10 mg', 'Escitalopram', 'Metformin',\n",
       "       'Fasiglifam 50 mg', 'Trastuzumab', 'Placebo QD', 'FF/VI 100/25 µg OD',\n",
       "       'Insulin Glargine', 'Stribild', 'VI 25 µg QD', 'Etanercept', 'Cohort 3',\n",
       "       'Experimental', 'Infanrix Hexa Group'],\n",
       "      dtype='object', name='title_rg')"
      ]
     },
     "execution_count": 59,
     "metadata": {},
     "output_type": "execute_result"
    }
   ],
   "source": [
    "dfm_case2.groupby('title_rg').size().sort_values(ascending=False)[:50].index"
   ]
  },
  {
   "cell_type": "code",
   "execution_count": 60,
   "metadata": {},
   "outputs": [],
   "source": [
    "# still the same total strings:\n",
    "total_strings = ['Total', \n",
    "                 'All Participants', \n",
    "                 'All Study Participants', \n",
    "                 'Entire Study Population',\n",
    "                 'Overall Study',\n",
    "                 'Overall', \n",
    "                 'Total Title']"
   ]
  },
  {
   "cell_type": "code",
   "execution_count": 61,
   "metadata": {},
   "outputs": [
    {
     "data": {
      "text/plain": [
       "5602"
      ]
     },
     "execution_count": 61,
     "metadata": {},
     "output_type": "execute_result"
    }
   ],
   "source": [
    "dfm_case2_nontot = dfm_case2[~dfm_case2['title_rg'].isin(total_strings)].copy()\n",
    "len(dfm_case2_nontot['nct_id'].unique())"
   ]
  },
  {
   "cell_type": "code",
   "execution_count": 62,
   "metadata": {},
   "outputs": [
    {
     "data": {
      "text/html": [
       "<div>\n",
       "<style scoped>\n",
       "    .dataframe tbody tr th:only-of-type {\n",
       "        vertical-align: middle;\n",
       "    }\n",
       "\n",
       "    .dataframe tbody tr th {\n",
       "        vertical-align: top;\n",
       "    }\n",
       "\n",
       "    .dataframe thead th {\n",
       "        text-align: right;\n",
       "    }\n",
       "</style>\n",
       "<table border=\"1\" class=\"dataframe\">\n",
       "  <thead>\n",
       "    <tr style=\"text-align: right;\">\n",
       "      <th></th>\n",
       "      <th>param_value_num</th>\n",
       "      <th>enrollment</th>\n",
       "      <th>tot_per_enroll</th>\n",
       "    </tr>\n",
       "    <tr>\n",
       "      <th>nct_id</th>\n",
       "      <th></th>\n",
       "      <th></th>\n",
       "      <th></th>\n",
       "    </tr>\n",
       "  </thead>\n",
       "  <tbody>\n",
       "    <tr>\n",
       "      <td>NCT00000125</td>\n",
       "      <td>1636.0</td>\n",
       "      <td>1636.0</td>\n",
       "      <td>1.000000</td>\n",
       "    </tr>\n",
       "    <tr>\n",
       "      <td>NCT00000392</td>\n",
       "      <td>212.0</td>\n",
       "      <td>215.0</td>\n",
       "      <td>0.986047</td>\n",
       "    </tr>\n",
       "    <tr>\n",
       "      <td>NCT00000620</td>\n",
       "      <td>10251.0</td>\n",
       "      <td>10251.0</td>\n",
       "      <td>1.000000</td>\n",
       "    </tr>\n",
       "    <tr>\n",
       "      <td>NCT00001941</td>\n",
       "      <td>34.0</td>\n",
       "      <td>34.0</td>\n",
       "      <td>1.000000</td>\n",
       "    </tr>\n",
       "    <tr>\n",
       "      <td>NCT00002850</td>\n",
       "      <td>212.0</td>\n",
       "      <td>212.0</td>\n",
       "      <td>1.000000</td>\n",
       "    </tr>\n",
       "  </tbody>\n",
       "</table>\n",
       "</div>"
      ],
      "text/plain": [
       "             param_value_num  enrollment  tot_per_enroll\n",
       "nct_id                                                  \n",
       "NCT00000125           1636.0      1636.0        1.000000\n",
       "NCT00000392            212.0       215.0        0.986047\n",
       "NCT00000620          10251.0     10251.0        1.000000\n",
       "NCT00001941             34.0        34.0        1.000000\n",
       "NCT00002850            212.0       212.0        1.000000"
      ]
     },
     "execution_count": 62,
     "metadata": {},
     "output_type": "execute_result"
    }
   ],
   "source": [
    "df_case2_totcounts = dfm_case2_nontot.groupby('nct_id')[['param_value_num']].sum()\n",
    "df_c2j = df_case2_totcounts.join(ss.studies[['enrollment']])\n",
    "df_c2j['tot_per_enroll'] = df_c2j['param_value_num'] / df_c2j['enrollment']\n",
    "df_c2j.head()"
   ]
  },
  {
   "cell_type": "code",
   "execution_count": 63,
   "metadata": {},
   "outputs": [
    {
     "data": {
      "text/plain": [
       "<matplotlib.axes._subplots.AxesSubplot at 0x7fafede20d68>"
      ]
     },
     "execution_count": 63,
     "metadata": {},
     "output_type": "execute_result"
    },
    {
     "data": {
      "image/png": "[encoded data removed]",
      "text/plain": [
       "<Figure size 432x288 with 1 Axes>"
      ]
     },
     "metadata": {
      "needs_background": "light"
     },
     "output_type": "display_data"
    }
   ],
   "source": [
    "df_c2j[df_c2j['tot_per_enroll'] != 1.0]['tot_per_enroll'].clip(0, 4).hist(bins=50)"
   ]
  },
  {
   "cell_type": "code",
   "execution_count": 64,
   "metadata": {},
   "outputs": [
    {
     "data": {
      "text/plain": [
       "0.8662977508032845"
      ]
     },
     "execution_count": 64,
     "metadata": {},
     "output_type": "execute_result"
    }
   ],
   "source": [
    "non_double_counted_case2 = df_c2j[df_c2j['param_value_num'] <= df_c2j['enrollment']]\n",
    "non_double_counted_case2.shape[0] / df_c2j.shape[0]"
   ]
  },
  {
   "cell_type": "code",
   "execution_count": 65,
   "metadata": {},
   "outputs": [],
   "source": [
    "df_final_case2 = dfm_case2_nontot[dfm_case2_nontot['nct_id'].isin(non_double_counted_case2.index)].copy()"
   ]
  },
  {
   "cell_type": "code",
   "execution_count": 66,
   "metadata": {},
   "outputs": [
    {
     "data": {
      "text/plain": [
       "0.14548575269462516"
      ]
     },
     "execution_count": 66,
     "metadata": {},
     "output_type": "execute_result"
    }
   ],
   "source": [
    "# % of rows in bm_used\n",
    "df_final_case2.shape[0] / bm_used.shape[0]"
   ]
  },
  {
   "cell_type": "code",
   "execution_count": 67,
   "metadata": {},
   "outputs": [
    {
     "data": {
      "text/plain": [
       "0.26406573076504514"
      ]
     },
     "execution_count": 67,
     "metadata": {},
     "output_type": "execute_result"
    }
   ],
   "source": [
    "# % of nct_ids in bm_used\n",
    "len(df_final_case2['nct_id'].unique()) / len(bm_used.index.get_level_values(0).unique())"
   ]
  },
  {
   "cell_type": "markdown",
   "metadata": {},
   "source": [
    "### Do we have any nct_ids in both cases?"
   ]
  },
  {
   "cell_type": "code",
   "execution_count": 68,
   "metadata": {},
   "outputs": [],
   "source": [
    "c1_nct = df_final_case1['nct_id'].unique()\n",
    "c2_nct = df_final_case2['nct_id'].unique()"
   ]
  },
  {
   "cell_type": "code",
   "execution_count": 69,
   "metadata": {},
   "outputs": [
    {
     "data": {
      "text/plain": [
       "['NCT01960075', 'NCT03237065']"
      ]
     },
     "execution_count": 69,
     "metadata": {},
     "output_type": "execute_result"
    }
   ],
   "source": [
    "[x for x in c1_nct if x in c2_nct]"
   ]
  },
  {
   "cell_type": "markdown",
   "metadata": {},
   "source": [
    "only 2 cases, let's just take their case 1 datapoints"
   ]
  },
  {
   "cell_type": "code",
   "execution_count": 70,
   "metadata": {},
   "outputs": [],
   "source": [
    "df_final_case1['used_race'] = df_final_case1['category']\n",
    "df_final_case2['used_race'] = df_final_case2['classification']\n",
    "\n",
    "df_final_case2_not_case1 = df_final_case2[~df_final_case2['nct_id'].isin(df_final_case1['nct_id'].unique())]"
   ]
  },
  {
   "cell_type": "code",
   "execution_count": 71,
   "metadata": {},
   "outputs": [],
   "source": [
    "req_columns = [\n",
    "    'nct_id', \n",
    "    'result_group_id',\n",
    "    'title',\n",
    "    'ctgov_group_code',\n",
    "    'used_race',\n",
    "    'param_value_num'\n",
    "]"
   ]
  },
  {
   "cell_type": "markdown",
   "metadata": {},
   "source": [
    "## 4 c) Joining together the cases"
   ]
  },
  {
   "cell_type": "code",
   "execution_count": 72,
   "metadata": {},
   "outputs": [],
   "source": [
    "df_final_all = pd.concat([df_final_case1[req_columns], df_final_case2_not_case1[req_columns]])"
   ]
  },
  {
   "cell_type": "code",
   "execution_count": 73,
   "metadata": {},
   "outputs": [
    {
     "data": {
      "text/plain": [
       "0.6889538372902514"
      ]
     },
     "execution_count": 73,
     "metadata": {},
     "output_type": "execute_result"
    }
   ],
   "source": [
    "df_final_all.shape[0] / bm_used.shape[0]"
   ]
  },
  {
   "cell_type": "code",
   "execution_count": 74,
   "metadata": {},
   "outputs": [
    {
     "data": {
      "text/plain": [
       "(0.3862635345935034, 16838)"
      ]
     },
     "execution_count": 74,
     "metadata": {},
     "output_type": "execute_result"
    }
   ],
   "source": [
    "# % of all nctids that report baseline measures\n",
    "num_studies_report_race = len(df_final_all['nct_id'].unique())\n",
    "num_studies_report_race / len(bm.index.get_level_values(0).unique()), num_studies_report_race"
   ]
  },
  {
   "cell_type": "code",
   "execution_count": 75,
   "metadata": {},
   "outputs": [],
   "source": [
    "dftotals = df_final_all.groupby('nct_id')[['param_value_num']].sum()"
   ]
  },
  {
   "cell_type": "code",
   "execution_count": 76,
   "metadata": {},
   "outputs": [
    {
     "data": {
      "text/html": [
       "<div>\n",
       "<style scoped>\n",
       "    .dataframe tbody tr th:only-of-type {\n",
       "        vertical-align: middle;\n",
       "    }\n",
       "\n",
       "    .dataframe tbody tr th {\n",
       "        vertical-align: top;\n",
       "    }\n",
       "\n",
       "    .dataframe thead th {\n",
       "        text-align: right;\n",
       "    }\n",
       "</style>\n",
       "<table border=\"1\" class=\"dataframe\">\n",
       "  <thead>\n",
       "    <tr style=\"text-align: right;\">\n",
       "      <th></th>\n",
       "      <th>percentile</th>\n",
       "      <th>param_value_num</th>\n",
       "    </tr>\n",
       "  </thead>\n",
       "  <tbody>\n",
       "    <tr>\n",
       "      <td>19</td>\n",
       "      <td>15%</td>\n",
       "      <td>16.0</td>\n",
       "    </tr>\n",
       "    <tr>\n",
       "      <td>20</td>\n",
       "      <td>16%</td>\n",
       "      <td>18.0</td>\n",
       "    </tr>\n",
       "    <tr>\n",
       "      <td>21</td>\n",
       "      <td>17%</td>\n",
       "      <td>19.0</td>\n",
       "    </tr>\n",
       "    <tr>\n",
       "      <td>22</td>\n",
       "      <td>18%</td>\n",
       "      <td>20.0</td>\n",
       "    </tr>\n",
       "    <tr>\n",
       "      <td>23</td>\n",
       "      <td>19%</td>\n",
       "      <td>20.0</td>\n",
       "    </tr>\n",
       "    <tr>\n",
       "      <td>24</td>\n",
       "      <td>20%</td>\n",
       "      <td>21.0</td>\n",
       "    </tr>\n",
       "    <tr>\n",
       "      <td>25</td>\n",
       "      <td>21%</td>\n",
       "      <td>23.0</td>\n",
       "    </tr>\n",
       "    <tr>\n",
       "      <td>26</td>\n",
       "      <td>22%</td>\n",
       "      <td>24.0</td>\n",
       "    </tr>\n",
       "    <tr>\n",
       "      <td>27</td>\n",
       "      <td>23%</td>\n",
       "      <td>24.0</td>\n",
       "    </tr>\n",
       "    <tr>\n",
       "      <td>28</td>\n",
       "      <td>24%</td>\n",
       "      <td>25.0</td>\n",
       "    </tr>\n",
       "  </tbody>\n",
       "</table>\n",
       "</div>"
      ],
      "text/plain": [
       "   percentile  param_value_num\n",
       "19        15%             16.0\n",
       "20        16%             18.0\n",
       "21        17%             19.0\n",
       "22        18%             20.0\n",
       "23        19%             20.0\n",
       "24        20%             21.0\n",
       "25        21%             23.0\n",
       "26        22%             24.0\n",
       "27        23%             24.0\n",
       "28        24%             25.0"
      ]
     },
     "execution_count": 76,
     "metadata": {},
     "output_type": "execute_result"
    }
   ],
   "source": [
    "df_percentile_totals = dftotals.describe(np.arange(0,1,0.01))\n",
    "df_percentile_totals.index.name='percentile'\n",
    "df_percentile_totals.reset_index(inplace=True)\n",
    "df_percentile_totals = df_percentile_totals[df_percentile_totals['percentile'].apply(lambda x: \n",
    "                                                                                     True if '%' in x \n",
    "                                                                                     else False)]\n",
    "df_percentile_totals[15:25]"
   ]
  },
  {
   "cell_type": "markdown",
   "metadata": {},
   "source": [
    "### We picked to keep 80% of the data and exclude any studies such the total <= 20"
   ]
  },
  {
   "cell_type": "code",
   "execution_count": 77,
   "metadata": {},
   "outputs": [
    {
     "data": {
      "text/plain": [
       "(13573, 1)"
      ]
     },
     "execution_count": 77,
     "metadata": {},
     "output_type": "execute_result"
    }
   ],
   "source": [
    "df_totals_used = dftotals[dftotals['param_value_num'] > 20]\n",
    "df_totals_used.shape"
   ]
  },
  {
   "cell_type": "code",
   "execution_count": 78,
   "metadata": {},
   "outputs": [
    {
     "data": {
      "text/html": [
       "<div>\n",
       "<style scoped>\n",
       "    .dataframe tbody tr th:only-of-type {\n",
       "        vertical-align: middle;\n",
       "    }\n",
       "\n",
       "    .dataframe tbody tr th {\n",
       "        vertical-align: top;\n",
       "    }\n",
       "\n",
       "    .dataframe thead th {\n",
       "        text-align: right;\n",
       "    }\n",
       "</style>\n",
       "<table border=\"1\" class=\"dataframe\">\n",
       "  <thead>\n",
       "    <tr style=\"text-align: right;\">\n",
       "      <th></th>\n",
       "      <th>nct_id</th>\n",
       "      <th>result_group_id</th>\n",
       "      <th>title</th>\n",
       "      <th>ctgov_group_code</th>\n",
       "      <th>used_race</th>\n",
       "      <th>param_value_num</th>\n",
       "    </tr>\n",
       "  </thead>\n",
       "  <tbody>\n",
       "    <tr>\n",
       "      <td>7</td>\n",
       "      <td>NCT00001262</td>\n",
       "      <td>18404948</td>\n",
       "      <td>Race (NIH/OMB)</td>\n",
       "      <td>B3</td>\n",
       "      <td>Unknown or Not Reported</td>\n",
       "      <td>0.0</td>\n",
       "    </tr>\n",
       "    <tr>\n",
       "      <td>8</td>\n",
       "      <td>NCT00001262</td>\n",
       "      <td>18404948</td>\n",
       "      <td>Race (NIH/OMB)</td>\n",
       "      <td>B3</td>\n",
       "      <td>More than one race</td>\n",
       "      <td>0.0</td>\n",
       "    </tr>\n",
       "    <tr>\n",
       "      <td>9</td>\n",
       "      <td>NCT00001262</td>\n",
       "      <td>18404948</td>\n",
       "      <td>Race (NIH/OMB)</td>\n",
       "      <td>B3</td>\n",
       "      <td>White</td>\n",
       "      <td>3.0</td>\n",
       "    </tr>\n",
       "    <tr>\n",
       "      <td>10</td>\n",
       "      <td>NCT00001262</td>\n",
       "      <td>18404948</td>\n",
       "      <td>Race (NIH/OMB)</td>\n",
       "      <td>B3</td>\n",
       "      <td>Black or African American</td>\n",
       "      <td>0.0</td>\n",
       "    </tr>\n",
       "    <tr>\n",
       "      <td>11</td>\n",
       "      <td>NCT00001262</td>\n",
       "      <td>18404948</td>\n",
       "      <td>Race (NIH/OMB)</td>\n",
       "      <td>B3</td>\n",
       "      <td>Native Hawaiian or Other Pacific Islander</td>\n",
       "      <td>0.0</td>\n",
       "    </tr>\n",
       "  </tbody>\n",
       "</table>\n",
       "</div>"
      ],
      "text/plain": [
       "         nct_id  result_group_id           title ctgov_group_code  \\\n",
       "7   NCT00001262         18404948  Race (NIH/OMB)               B3   \n",
       "8   NCT00001262         18404948  Race (NIH/OMB)               B3   \n",
       "9   NCT00001262         18404948  Race (NIH/OMB)               B3   \n",
       "10  NCT00001262         18404948  Race (NIH/OMB)               B3   \n",
       "11  NCT00001262         18404948  Race (NIH/OMB)               B3   \n",
       "\n",
       "                                    used_race  param_value_num  \n",
       "7                     Unknown or Not Reported              0.0  \n",
       "8                          More than one race              0.0  \n",
       "9                                       White              3.0  \n",
       "10                  Black or African American              0.0  \n",
       "11  Native Hawaiian or Other Pacific Islander              0.0  "
      ]
     },
     "execution_count": 78,
     "metadata": {},
     "output_type": "execute_result"
    }
   ],
   "source": [
    "df_final_g20 = df_final_all[df_final_all['nct_id'].isin(df_totals_used.index.unique())]\n",
    "df_final_g20.head()"
   ]
  },
  {
   "cell_type": "markdown",
   "metadata": {},
   "source": [
    "### Only keep those with 2 Arms or more"
   ]
  },
  {
   "cell_type": "code",
   "execution_count": 79,
   "metadata": {
    "scrolled": true
   },
   "outputs": [
    {
     "data": {
      "text/plain": [
       "array([[<matplotlib.axes._subplots.AxesSubplot object at 0x7fafe7e3f588>]],\n",
       "      dtype=object)"
      ]
     },
     "execution_count": 79,
     "metadata": {},
     "output_type": "execute_result"
    },
    {
     "data": {
      "image/png": "[encoded data removed]",
      "text/plain": [
       "<Figure size 432x288 with 1 Axes>"
      ]
     },
     "metadata": {
      "needs_background": "light"
     },
     "output_type": "display_data"
    }
   ],
   "source": [
    "df_final_g20.groupby('nct_id')[['ctgov_group_code']].nunique().clip(0, 10).hist(bins=10)"
   ]
  },
  {
   "cell_type": "code",
   "execution_count": 80,
   "metadata": {},
   "outputs": [
    {
     "data": {
      "text/plain": [
       "10797"
      ]
     },
     "execution_count": 80,
     "metadata": {},
     "output_type": "execute_result"
    }
   ],
   "source": [
    "# only keep studies with greater than 2 arms\n",
    "s_ngrps = df_final_g20.groupby('nct_id')['ctgov_group_code'].nunique()\n",
    "nct_id_more_than_2arm = s_ngrps[s_ngrps >= 2].index\n",
    "len(nct_id_more_than_2arm)"
   ]
  },
  {
   "cell_type": "code",
   "execution_count": 81,
   "metadata": {},
   "outputs": [
    {
     "data": {
      "text/plain": [
       "(0.24768306111213068, 0.038174470447225044)"
      ]
     },
     "execution_count": 81,
     "metadata": {},
     "output_type": "execute_result"
    }
   ],
   "source": [
    "# % of studies with bm\n",
    "# % of all studies in database\n",
    "len(nct_id_more_than_2arm) / bm_all, len(nct_id_more_than_2arm) / num_all "
   ]
  },
  {
   "cell_type": "code",
   "execution_count": 82,
   "metadata": {},
   "outputs": [
    {
     "data": {
      "text/html": [
       "<div>\n",
       "<style scoped>\n",
       "    .dataframe tbody tr th:only-of-type {\n",
       "        vertical-align: middle;\n",
       "    }\n",
       "\n",
       "    .dataframe tbody tr th {\n",
       "        vertical-align: top;\n",
       "    }\n",
       "\n",
       "    .dataframe thead th {\n",
       "        text-align: right;\n",
       "    }\n",
       "</style>\n",
       "<table border=\"1\" class=\"dataframe\">\n",
       "  <thead>\n",
       "    <tr style=\"text-align: right;\">\n",
       "      <th></th>\n",
       "      <th>nct_id</th>\n",
       "      <th>result_group_id</th>\n",
       "      <th>title</th>\n",
       "      <th>ctgov_group_code</th>\n",
       "      <th>used_race</th>\n",
       "      <th>param_value_num</th>\n",
       "    </tr>\n",
       "  </thead>\n",
       "  <tbody>\n",
       "    <tr>\n",
       "      <td>0</td>\n",
       "      <td>NCT00001262</td>\n",
       "      <td>18404948</td>\n",
       "      <td>Race (NIH/OMB)</td>\n",
       "      <td>B3</td>\n",
       "      <td>Unknown or Not Reported</td>\n",
       "      <td>0.0</td>\n",
       "    </tr>\n",
       "    <tr>\n",
       "      <td>1</td>\n",
       "      <td>NCT00001262</td>\n",
       "      <td>18404948</td>\n",
       "      <td>Race (NIH/OMB)</td>\n",
       "      <td>B3</td>\n",
       "      <td>More than one race</td>\n",
       "      <td>0.0</td>\n",
       "    </tr>\n",
       "    <tr>\n",
       "      <td>2</td>\n",
       "      <td>NCT00001262</td>\n",
       "      <td>18404948</td>\n",
       "      <td>Race (NIH/OMB)</td>\n",
       "      <td>B3</td>\n",
       "      <td>White</td>\n",
       "      <td>3.0</td>\n",
       "    </tr>\n",
       "    <tr>\n",
       "      <td>3</td>\n",
       "      <td>NCT00001262</td>\n",
       "      <td>18404948</td>\n",
       "      <td>Race (NIH/OMB)</td>\n",
       "      <td>B3</td>\n",
       "      <td>Black or African American</td>\n",
       "      <td>0.0</td>\n",
       "    </tr>\n",
       "    <tr>\n",
       "      <td>4</td>\n",
       "      <td>NCT00001262</td>\n",
       "      <td>18404948</td>\n",
       "      <td>Race (NIH/OMB)</td>\n",
       "      <td>B3</td>\n",
       "      <td>Native Hawaiian or Other Pacific Islander</td>\n",
       "      <td>0.0</td>\n",
       "    </tr>\n",
       "  </tbody>\n",
       "</table>\n",
       "</div>"
      ],
      "text/plain": [
       "        nct_id  result_group_id           title ctgov_group_code  \\\n",
       "0  NCT00001262         18404948  Race (NIH/OMB)               B3   \n",
       "1  NCT00001262         18404948  Race (NIH/OMB)               B3   \n",
       "2  NCT00001262         18404948  Race (NIH/OMB)               B3   \n",
       "3  NCT00001262         18404948  Race (NIH/OMB)               B3   \n",
       "4  NCT00001262         18404948  Race (NIH/OMB)               B3   \n",
       "\n",
       "                                   used_race  param_value_num  \n",
       "0                    Unknown or Not Reported              0.0  \n",
       "1                         More than one race              0.0  \n",
       "2                                      White              3.0  \n",
       "3                  Black or African American              0.0  \n",
       "4  Native Hawaiian or Other Pacific Islander              0.0  "
      ]
     },
     "execution_count": 82,
     "metadata": {},
     "output_type": "execute_result"
    }
   ],
   "source": [
    "df_more_than_two_arm = df_final_g20[df_final_g20['nct_id'].isin(nct_id_more_than_2arm)].reset_index(drop=True)\n",
    "df_more_than_two_arm.head()"
   ]
  },
  {
   "cell_type": "markdown",
   "metadata": {},
   "source": [
    "df_more_than_two_arm contains all baseline measurements of studies that report race"
   ]
  },
  {
   "cell_type": "markdown",
   "metadata": {},
   "source": [
    "# 5. Outcome measurements\n",
    "- The report group means and stds has to be retreived from the other table"
   ]
  },
  {
   "cell_type": "code",
   "execution_count": 83,
   "metadata": {},
   "outputs": [],
   "source": [
    "omj = om.reset_index().add_prefix('om_')\n",
    "out_is_prim = out.set_index('id')['outcome_type']\n",
    "omj['isprim'] = omj['om_outcome_id'].apply(lambda x: out_is_prim[x])"
   ]
  },
  {
   "cell_type": "code",
   "execution_count": 84,
   "metadata": {},
   "outputs": [
    {
     "data": {
      "text/plain": [
       "(184406, 20)"
      ]
     },
     "execution_count": 84,
     "metadata": {},
     "output_type": "execute_result"
    }
   ],
   "source": [
    "used_dispersion_types = ['Standard Deviation', 'Standard Error']\n",
    "\n",
    "# filter outcome measurements by just those with mean and std measures\n",
    "omj_used = omj[(omj['om_param_type'] == 'Mean') & \n",
    "               (omj['om_dispersion_type'].isin(used_dispersion_types)) &\n",
    "               (omj['isprim'] == 'Primary')]\n",
    "\n",
    "omj_used.shape"
   ]
  },
  {
   "cell_type": "code",
   "execution_count": 85,
   "metadata": {},
   "outputs": [
    {
     "data": {
      "text/plain": [
       "10797"
      ]
     },
     "execution_count": 85,
     "metadata": {},
     "output_type": "execute_result"
    }
   ],
   "source": [
    "# studies from the baseline measurement race requirements above\n",
    "studies_w_race_info = df_more_than_two_arm['nct_id'].unique()\n",
    "len(studies_w_race_info)"
   ]
  },
  {
   "cell_type": "markdown",
   "metadata": {},
   "source": [
    "omj_used contains all outcome measurements that reports a mean and a standard error/deviation and is a primary outcome."
   ]
  },
  {
   "cell_type": "code",
   "execution_count": 86,
   "metadata": {
    "scrolled": false
   },
   "outputs": [
    {
     "data": {
      "text/html": [
       "<div>\n",
       "<style scoped>\n",
       "    .dataframe tbody tr th:only-of-type {\n",
       "        vertical-align: middle;\n",
       "    }\n",
       "\n",
       "    .dataframe tbody tr th {\n",
       "        vertical-align: top;\n",
       "    }\n",
       "\n",
       "    .dataframe thead th {\n",
       "        text-align: right;\n",
       "    }\n",
       "</style>\n",
       "<table border=\"1\" class=\"dataframe\">\n",
       "  <thead>\n",
       "    <tr style=\"text-align: right;\">\n",
       "      <th></th>\n",
       "      <th>om_nct_id</th>\n",
       "      <th>om_result_group_id</th>\n",
       "      <th>om_outcome_id</th>\n",
       "      <th>om_id</th>\n",
       "      <th>om_ctgov_group_code</th>\n",
       "      <th>om_classification</th>\n",
       "      <th>om_category</th>\n",
       "      <th>om_title</th>\n",
       "      <th>om_description</th>\n",
       "      <th>om_units</th>\n",
       "      <th>om_param_type</th>\n",
       "      <th>om_param_value</th>\n",
       "      <th>om_param_value_num</th>\n",
       "      <th>om_dispersion_type</th>\n",
       "      <th>om_dispersion_value</th>\n",
       "      <th>om_dispersion_value_num</th>\n",
       "      <th>om_dispersion_lower_limit</th>\n",
       "      <th>om_dispersion_upper_limit</th>\n",
       "      <th>om_explanation_of_na</th>\n",
       "      <th>isprim</th>\n",
       "    </tr>\n",
       "  </thead>\n",
       "  <tbody>\n",
       "    <tr>\n",
       "      <td>22</td>\n",
       "      <td>NCT00000371</td>\n",
       "      <td>18405001</td>\n",
       "      <td>5589265</td>\n",
       "      <td>42918129</td>\n",
       "      <td>O2</td>\n",
       "      <td></td>\n",
       "      <td></td>\n",
       "      <td>Scale for the Assessment of Negative Symptoms ...</td>\n",
       "      <td>The slope of SANS total score from baseline to...</td>\n",
       "      <td>units on a scale/weeks</td>\n",
       "      <td>Mean</td>\n",
       "      <td>-.41</td>\n",
       "      <td>-0.41</td>\n",
       "      <td>Standard Error</td>\n",
       "      <td>.31</td>\n",
       "      <td>0.31</td>\n",
       "      <td>NaN</td>\n",
       "      <td>NaN</td>\n",
       "      <td></td>\n",
       "      <td>Primary</td>\n",
       "    </tr>\n",
       "    <tr>\n",
       "      <td>23</td>\n",
       "      <td>NCT00000371</td>\n",
       "      <td>18405002</td>\n",
       "      <td>5589265</td>\n",
       "      <td>42918130</td>\n",
       "      <td>O1</td>\n",
       "      <td></td>\n",
       "      <td></td>\n",
       "      <td>Scale for the Assessment of Negative Symptoms ...</td>\n",
       "      <td>The slope of SANS total score from baseline to...</td>\n",
       "      <td>units on a scale/weeks</td>\n",
       "      <td>Mean</td>\n",
       "      <td>-.46</td>\n",
       "      <td>-0.46</td>\n",
       "      <td>Standard Error</td>\n",
       "      <td>.29</td>\n",
       "      <td>0.29</td>\n",
       "      <td>NaN</td>\n",
       "      <td>NaN</td>\n",
       "      <td></td>\n",
       "      <td>Primary</td>\n",
       "    </tr>\n",
       "    <tr>\n",
       "      <td>24</td>\n",
       "      <td>NCT00000378</td>\n",
       "      <td>18404992</td>\n",
       "      <td>5589264</td>\n",
       "      <td>42918125</td>\n",
       "      <td>O2</td>\n",
       "      <td>12 WEEK DATA</td>\n",
       "      <td></td>\n",
       "      <td>HAMILTON Rating Scale for DEPRESSION Range</td>\n",
       "      <td>Hamilton scale range 0-40, values below 7 are ...</td>\n",
       "      <td>units on a scale</td>\n",
       "      <td>Mean</td>\n",
       "      <td>8.4</td>\n",
       "      <td>8.40</td>\n",
       "      <td>Standard Deviation</td>\n",
       "      <td>7.7</td>\n",
       "      <td>7.70</td>\n",
       "      <td>NaN</td>\n",
       "      <td>NaN</td>\n",
       "      <td></td>\n",
       "      <td>Primary</td>\n",
       "    </tr>\n",
       "    <tr>\n",
       "      <td>25</td>\n",
       "      <td>NCT00000378</td>\n",
       "      <td>18404992</td>\n",
       "      <td>5589264</td>\n",
       "      <td>42918127</td>\n",
       "      <td>O2</td>\n",
       "      <td>BASELINE</td>\n",
       "      <td></td>\n",
       "      <td>HAMILTON Rating Scale for DEPRESSION Range</td>\n",
       "      <td>Hamilton scale range 0-40, values below 7 are ...</td>\n",
       "      <td>units on a scale</td>\n",
       "      <td>Mean</td>\n",
       "      <td>27.1</td>\n",
       "      <td>27.10</td>\n",
       "      <td>Standard Deviation</td>\n",
       "      <td>4.4</td>\n",
       "      <td>4.40</td>\n",
       "      <td>NaN</td>\n",
       "      <td>NaN</td>\n",
       "      <td></td>\n",
       "      <td>Primary</td>\n",
       "    </tr>\n",
       "    <tr>\n",
       "      <td>26</td>\n",
       "      <td>NCT00000378</td>\n",
       "      <td>18404993</td>\n",
       "      <td>5589264</td>\n",
       "      <td>42918126</td>\n",
       "      <td>O1</td>\n",
       "      <td>12 WEEK DATA</td>\n",
       "      <td></td>\n",
       "      <td>HAMILTON Rating Scale for DEPRESSION Range</td>\n",
       "      <td>Hamilton scale range 0-40, values below 7 are ...</td>\n",
       "      <td>units on a scale</td>\n",
       "      <td>Mean</td>\n",
       "      <td>10.7</td>\n",
       "      <td>10.70</td>\n",
       "      <td>Standard Deviation</td>\n",
       "      <td>8.3</td>\n",
       "      <td>8.30</td>\n",
       "      <td>NaN</td>\n",
       "      <td>NaN</td>\n",
       "      <td></td>\n",
       "      <td>Primary</td>\n",
       "    </tr>\n",
       "  </tbody>\n",
       "</table>\n",
       "</div>"
      ],
      "text/plain": [
       "      om_nct_id  om_result_group_id  om_outcome_id     om_id  \\\n",
       "22  NCT00000371            18405001        5589265  42918129   \n",
       "23  NCT00000371            18405002        5589265  42918130   \n",
       "24  NCT00000378            18404992        5589264  42918125   \n",
       "25  NCT00000378            18404992        5589264  42918127   \n",
       "26  NCT00000378            18404993        5589264  42918126   \n",
       "\n",
       "   om_ctgov_group_code om_classification om_category  \\\n",
       "22                  O2                                 \n",
       "23                  O1                                 \n",
       "24                  O2      12 WEEK DATA               \n",
       "25                  O2          BASELINE               \n",
       "26                  O1      12 WEEK DATA               \n",
       "\n",
       "                                             om_title  \\\n",
       "22  Scale for the Assessment of Negative Symptoms ...   \n",
       "23  Scale for the Assessment of Negative Symptoms ...   \n",
       "24         HAMILTON Rating Scale for DEPRESSION Range   \n",
       "25         HAMILTON Rating Scale for DEPRESSION Range   \n",
       "26         HAMILTON Rating Scale for DEPRESSION Range   \n",
       "\n",
       "                                       om_description                om_units  \\\n",
       "22  The slope of SANS total score from baseline to...  units on a scale/weeks   \n",
       "23  The slope of SANS total score from baseline to...  units on a scale/weeks   \n",
       "24  Hamilton scale range 0-40, values below 7 are ...        units on a scale   \n",
       "25  Hamilton scale range 0-40, values below 7 are ...        units on a scale   \n",
       "26  Hamilton scale range 0-40, values below 7 are ...        units on a scale   \n",
       "\n",
       "   om_param_type om_param_value  om_param_value_num  om_dispersion_type  \\\n",
       "22          Mean           -.41               -0.41      Standard Error   \n",
       "23          Mean           -.46               -0.46      Standard Error   \n",
       "24          Mean            8.4                8.40  Standard Deviation   \n",
       "25          Mean           27.1               27.10  Standard Deviation   \n",
       "26          Mean           10.7               10.70  Standard Deviation   \n",
       "\n",
       "   om_dispersion_value  om_dispersion_value_num  om_dispersion_lower_limit  \\\n",
       "22                 .31                     0.31                        NaN   \n",
       "23                 .29                     0.29                        NaN   \n",
       "24                 7.7                     7.70                        NaN   \n",
       "25                 4.4                     4.40                        NaN   \n",
       "26                 8.3                     8.30                        NaN   \n",
       "\n",
       "    om_dispersion_upper_limit om_explanation_of_na   isprim  \n",
       "22                        NaN                       Primary  \n",
       "23                        NaN                       Primary  \n",
       "24                        NaN                       Primary  \n",
       "25                        NaN                       Primary  \n",
       "26                        NaN                       Primary  "
      ]
     },
     "execution_count": 86,
     "metadata": {},
     "output_type": "execute_result"
    }
   ],
   "source": [
    "omj_used.head()"
   ]
  },
  {
   "cell_type": "markdown",
   "metadata": {},
   "source": [
    "### found that when the number of groups in om vs bm are unequal, they don't necessarily line up\n",
    "\n",
    "ex: NCT03816761\n",
    "\n",
    "As a result filter results to those that have equal number of groups"
   ]
  },
  {
   "cell_type": "code",
   "execution_count": 87,
   "metadata": {},
   "outputs": [
    {
     "data": {
      "text/plain": [
       "((3478, 2), (3122, 2))"
      ]
     },
     "execution_count": 87,
     "metadata": {},
     "output_type": "execute_result"
    }
   ],
   "source": [
    "omj_counts = omj_used.groupby('om_nct_id')[['om_ctgov_group_code']].nunique()\n",
    "df_counts = df_more_than_two_arm.groupby('nct_id')[['ctgov_group_code']].nunique()\n",
    "df_intersection = omj_counts.join(df_counts, how='inner')\n",
    "df_intersection_used = df_intersection[df_intersection['om_ctgov_group_code'] ==\n",
    "                                       df_intersection['ctgov_group_code']]\n",
    "\n",
    "df_intersection.shape, df_intersection_used.shape"
   ]
  },
  {
   "cell_type": "markdown",
   "metadata": {},
   "source": [
    "## MANUAL STEP: Let's step through some examples with 3 arms or more"
   ]
  },
  {
   "cell_type": "code",
   "execution_count": 88,
   "metadata": {},
   "outputs": [
    {
     "data": {
      "text/plain": [
       "883"
      ]
     },
     "execution_count": 88,
     "metadata": {},
     "output_type": "execute_result"
    }
   ],
   "source": [
    "df_mta_intersect = df_more_than_two_arm[df_more_than_two_arm['nct_id'].isin(df_intersection_used.index)].copy()\n",
    "num_nct_ids = df_mta_intersect.groupby('nct_id')['ctgov_group_code'].nunique()\n",
    "intersect_morethan2groups = num_nct_ids[num_nct_ids > 2]\n",
    "len(intersect_morethan2groups)"
   ]
  },
  {
   "cell_type": "code",
   "execution_count": 89,
   "metadata": {},
   "outputs": [
    {
     "data": {
      "text/plain": [
       "'NCT03118765'"
      ]
     },
     "execution_count": 89,
     "metadata": {},
     "output_type": "execute_result"
    }
   ],
   "source": [
    "test_nct_id = np.random.choice(intersect_morethan2groups.index)\n",
    "test_nct_id"
   ]
  },
  {
   "cell_type": "code",
   "execution_count": 90,
   "metadata": {},
   "outputs": [
    {
     "data": {
      "text/html": [
       "<div>\n",
       "<style scoped>\n",
       "    .dataframe tbody tr th:only-of-type {\n",
       "        vertical-align: middle;\n",
       "    }\n",
       "\n",
       "    .dataframe tbody tr th {\n",
       "        vertical-align: top;\n",
       "    }\n",
       "\n",
       "    .dataframe thead th {\n",
       "        text-align: right;\n",
       "    }\n",
       "</style>\n",
       "<table border=\"1\" class=\"dataframe\">\n",
       "  <thead>\n",
       "    <tr style=\"text-align: right;\">\n",
       "      <th></th>\n",
       "      <th>2464851</th>\n",
       "      <th>2464852</th>\n",
       "      <th>2464853</th>\n",
       "      <th>2464854</th>\n",
       "      <th>2464855</th>\n",
       "      <th>2464856</th>\n",
       "      <th>2464857</th>\n",
       "      <th>2464858</th>\n",
       "      <th>2464859</th>\n",
       "      <th>2464860</th>\n",
       "      <th>2464861</th>\n",
       "      <th>2464862</th>\n",
       "      <th>2464863</th>\n",
       "    </tr>\n",
       "  </thead>\n",
       "  <tbody>\n",
       "    <tr>\n",
       "      <td>om_nct_id</td>\n",
       "      <td>NCT03118765</td>\n",
       "      <td>NCT03118765</td>\n",
       "      <td>NCT03118765</td>\n",
       "      <td>NCT03118765</td>\n",
       "      <td>NCT03118765</td>\n",
       "      <td>NCT03118765</td>\n",
       "      <td>NCT03118765</td>\n",
       "      <td>NCT03118765</td>\n",
       "      <td>NCT03118765</td>\n",
       "      <td>NCT03118765</td>\n",
       "      <td>NCT03118765</td>\n",
       "      <td>NCT03118765</td>\n",
       "      <td>NCT03118765</td>\n",
       "    </tr>\n",
       "    <tr>\n",
       "      <td>om_result_group_id</td>\n",
       "      <td>17287705</td>\n",
       "      <td>17287706</td>\n",
       "      <td>17287707</td>\n",
       "      <td>17287708</td>\n",
       "      <td>17287709</td>\n",
       "      <td>17287710</td>\n",
       "      <td>17287711</td>\n",
       "      <td>17287712</td>\n",
       "      <td>17287713</td>\n",
       "      <td>17287714</td>\n",
       "      <td>17287715</td>\n",
       "      <td>17287716</td>\n",
       "      <td>17287717</td>\n",
       "    </tr>\n",
       "    <tr>\n",
       "      <td>om_outcome_id</td>\n",
       "      <td>5253515</td>\n",
       "      <td>5253515</td>\n",
       "      <td>5253515</td>\n",
       "      <td>5253515</td>\n",
       "      <td>5253515</td>\n",
       "      <td>5253516</td>\n",
       "      <td>5253516</td>\n",
       "      <td>5253516</td>\n",
       "      <td>5253516</td>\n",
       "      <td>5253517</td>\n",
       "      <td>5253517</td>\n",
       "      <td>5253517</td>\n",
       "      <td>5253517</td>\n",
       "    </tr>\n",
       "    <tr>\n",
       "      <td>om_id</td>\n",
       "      <td>40360683</td>\n",
       "      <td>40360684</td>\n",
       "      <td>40360685</td>\n",
       "      <td>40360686</td>\n",
       "      <td>40360687</td>\n",
       "      <td>40360688</td>\n",
       "      <td>40360689</td>\n",
       "      <td>40360690</td>\n",
       "      <td>40360691</td>\n",
       "      <td>40360692</td>\n",
       "      <td>40360693</td>\n",
       "      <td>40360694</td>\n",
       "      <td>40360695</td>\n",
       "    </tr>\n",
       "    <tr>\n",
       "      <td>om_ctgov_group_code</td>\n",
       "      <td>O5</td>\n",
       "      <td>O4</td>\n",
       "      <td>O3</td>\n",
       "      <td>O2</td>\n",
       "      <td>O1</td>\n",
       "      <td>O4</td>\n",
       "      <td>O3</td>\n",
       "      <td>O2</td>\n",
       "      <td>O1</td>\n",
       "      <td>O4</td>\n",
       "      <td>O3</td>\n",
       "      <td>O2</td>\n",
       "      <td>O1</td>\n",
       "    </tr>\n",
       "    <tr>\n",
       "      <td>om_classification</td>\n",
       "      <td></td>\n",
       "      <td></td>\n",
       "      <td></td>\n",
       "      <td></td>\n",
       "      <td></td>\n",
       "      <td></td>\n",
       "      <td></td>\n",
       "      <td></td>\n",
       "      <td></td>\n",
       "      <td></td>\n",
       "      <td></td>\n",
       "      <td></td>\n",
       "      <td></td>\n",
       "    </tr>\n",
       "    <tr>\n",
       "      <td>om_category</td>\n",
       "      <td></td>\n",
       "      <td></td>\n",
       "      <td></td>\n",
       "      <td></td>\n",
       "      <td></td>\n",
       "      <td></td>\n",
       "      <td></td>\n",
       "      <td></td>\n",
       "      <td></td>\n",
       "      <td></td>\n",
       "      <td></td>\n",
       "      <td></td>\n",
       "      <td></td>\n",
       "    </tr>\n",
       "    <tr>\n",
       "      <td>om_title</td>\n",
       "      <td>Change From Baseline (Day 1) in Trough FEV1 at...</td>\n",
       "      <td>Change From Baseline (Day 1) in Trough FEV1 at...</td>\n",
       "      <td>Change From Baseline (Day 1) in Trough FEV1 at...</td>\n",
       "      <td>Change From Baseline (Day 1) in Trough FEV1 at...</td>\n",
       "      <td>Change From Baseline (Day 1) in Trough FEV1 at...</td>\n",
       "      <td>Relative Bioavailability of Tiotropium With GS...</td>\n",
       "      <td>Relative Bioavailability of Tiotropium With GS...</td>\n",
       "      <td>Relative Bioavailability of Tiotropium With GS...</td>\n",
       "      <td>Relative Bioavailability of Tiotropium With GS...</td>\n",
       "      <td>Relative Bioavailability of Tiotropium With GS...</td>\n",
       "      <td>Relative Bioavailability of Tiotropium With GS...</td>\n",
       "      <td>Relative Bioavailability of Tiotropium With GS...</td>\n",
       "      <td>Relative Bioavailability of Tiotropium With GS...</td>\n",
       "    </tr>\n",
       "    <tr>\n",
       "      <td>om_description</td>\n",
       "      <td>Change from baseline (Day 1) at Day 21 (Week 3...</td>\n",
       "      <td>Change from baseline (Day 1) at Day 21 (Week 3...</td>\n",
       "      <td>Change from baseline (Day 1) at Day 21 (Week 3...</td>\n",
       "      <td>Change from baseline (Day 1) at Day 21 (Week 3...</td>\n",
       "      <td>Change from baseline (Day 1) at Day 21 (Week 3...</td>\n",
       "      <td>The PK endpoint in plasma to assess the relati...</td>\n",
       "      <td>The PK endpoint in plasma to assess the relati...</td>\n",
       "      <td>The PK endpoint in plasma to assess the relati...</td>\n",
       "      <td>The PK endpoint in plasma to assess the relati...</td>\n",
       "      <td>The PK endpoint in plasma to assess the relati...</td>\n",
       "      <td>The PK endpoint in plasma to assess the relati...</td>\n",
       "      <td>The PK endpoint in plasma to assess the relati...</td>\n",
       "      <td>The PK endpoint in plasma to assess the relati...</td>\n",
       "    </tr>\n",
       "    <tr>\n",
       "      <td>om_units</td>\n",
       "      <td>L</td>\n",
       "      <td>L</td>\n",
       "      <td>L</td>\n",
       "      <td>L</td>\n",
       "      <td>L</td>\n",
       "      <td>h*pg/mL</td>\n",
       "      <td>h*pg/mL</td>\n",
       "      <td>h*pg/mL</td>\n",
       "      <td>h*pg/mL</td>\n",
       "      <td>pg/mL</td>\n",
       "      <td>pg/mL</td>\n",
       "      <td>pg/mL</td>\n",
       "      <td>pg/mL</td>\n",
       "    </tr>\n",
       "    <tr>\n",
       "      <td>om_param_type</td>\n",
       "      <td>Mean</td>\n",
       "      <td>Mean</td>\n",
       "      <td>Mean</td>\n",
       "      <td>Mean</td>\n",
       "      <td>Mean</td>\n",
       "      <td>Mean</td>\n",
       "      <td>Mean</td>\n",
       "      <td>Mean</td>\n",
       "      <td>Mean</td>\n",
       "      <td>Mean</td>\n",
       "      <td>Mean</td>\n",
       "      <td>Mean</td>\n",
       "      <td>Mean</td>\n",
       "    </tr>\n",
       "    <tr>\n",
       "      <td>om_param_value</td>\n",
       "      <td>0.14</td>\n",
       "      <td>0.08</td>\n",
       "      <td>0.09</td>\n",
       "      <td>0.10</td>\n",
       "      <td>0.14</td>\n",
       "      <td>57.70</td>\n",
       "      <td>122.00</td>\n",
       "      <td>49.10</td>\n",
       "      <td>22.90</td>\n",
       "      <td>14.00</td>\n",
       "      <td>21.80</td>\n",
       "      <td>8.00</td>\n",
       "      <td>4.10</td>\n",
       "    </tr>\n",
       "    <tr>\n",
       "      <td>om_param_value_num</td>\n",
       "      <td>0.14</td>\n",
       "      <td>0.08</td>\n",
       "      <td>0.09</td>\n",
       "      <td>0.1</td>\n",
       "      <td>0.14</td>\n",
       "      <td>57.7</td>\n",
       "      <td>122</td>\n",
       "      <td>49.1</td>\n",
       "      <td>22.9</td>\n",
       "      <td>14</td>\n",
       "      <td>21.8</td>\n",
       "      <td>8</td>\n",
       "      <td>4.1</td>\n",
       "    </tr>\n",
       "    <tr>\n",
       "      <td>om_dispersion_type</td>\n",
       "      <td>Standard Error</td>\n",
       "      <td>Standard Error</td>\n",
       "      <td>Standard Error</td>\n",
       "      <td>Standard Error</td>\n",
       "      <td>Standard Error</td>\n",
       "      <td>Standard Error</td>\n",
       "      <td>Standard Error</td>\n",
       "      <td>Standard Error</td>\n",
       "      <td>Standard Error</td>\n",
       "      <td>Standard Error</td>\n",
       "      <td>Standard Error</td>\n",
       "      <td>Standard Error</td>\n",
       "      <td>Standard Error</td>\n",
       "    </tr>\n",
       "    <tr>\n",
       "      <td>om_dispersion_value</td>\n",
       "      <td>0.04</td>\n",
       "      <td>0.04</td>\n",
       "      <td>0.04</td>\n",
       "      <td>0.04</td>\n",
       "      <td>0.04</td>\n",
       "      <td>1.130</td>\n",
       "      <td>1.130</td>\n",
       "      <td>1.123</td>\n",
       "      <td>1.130</td>\n",
       "      <td>1.152</td>\n",
       "      <td>1.152</td>\n",
       "      <td>1.140</td>\n",
       "      <td>1.152</td>\n",
       "    </tr>\n",
       "    <tr>\n",
       "      <td>om_dispersion_value_num</td>\n",
       "      <td>0.04</td>\n",
       "      <td>0.04</td>\n",
       "      <td>0.04</td>\n",
       "      <td>0.04</td>\n",
       "      <td>0.04</td>\n",
       "      <td>1.13</td>\n",
       "      <td>1.13</td>\n",
       "      <td>1.123</td>\n",
       "      <td>1.13</td>\n",
       "      <td>1.152</td>\n",
       "      <td>1.152</td>\n",
       "      <td>1.14</td>\n",
       "      <td>1.152</td>\n",
       "    </tr>\n",
       "    <tr>\n",
       "      <td>om_dispersion_lower_limit</td>\n",
       "      <td>NaN</td>\n",
       "      <td>NaN</td>\n",
       "      <td>NaN</td>\n",
       "      <td>NaN</td>\n",
       "      <td>NaN</td>\n",
       "      <td>NaN</td>\n",
       "      <td>NaN</td>\n",
       "      <td>NaN</td>\n",
       "      <td>NaN</td>\n",
       "      <td>NaN</td>\n",
       "      <td>NaN</td>\n",
       "      <td>NaN</td>\n",
       "      <td>NaN</td>\n",
       "    </tr>\n",
       "    <tr>\n",
       "      <td>om_dispersion_upper_limit</td>\n",
       "      <td>NaN</td>\n",
       "      <td>NaN</td>\n",
       "      <td>NaN</td>\n",
       "      <td>NaN</td>\n",
       "      <td>NaN</td>\n",
       "      <td>NaN</td>\n",
       "      <td>NaN</td>\n",
       "      <td>NaN</td>\n",
       "      <td>NaN</td>\n",
       "      <td>NaN</td>\n",
       "      <td>NaN</td>\n",
       "      <td>NaN</td>\n",
       "      <td>NaN</td>\n",
       "    </tr>\n",
       "    <tr>\n",
       "      <td>om_explanation_of_na</td>\n",
       "      <td></td>\n",
       "      <td></td>\n",
       "      <td></td>\n",
       "      <td></td>\n",
       "      <td></td>\n",
       "      <td></td>\n",
       "      <td></td>\n",
       "      <td></td>\n",
       "      <td></td>\n",
       "      <td></td>\n",
       "      <td></td>\n",
       "      <td></td>\n",
       "      <td></td>\n",
       "    </tr>\n",
       "    <tr>\n",
       "      <td>isprim</td>\n",
       "      <td>Primary</td>\n",
       "      <td>Primary</td>\n",
       "      <td>Primary</td>\n",
       "      <td>Primary</td>\n",
       "      <td>Primary</td>\n",
       "      <td>Primary</td>\n",
       "      <td>Primary</td>\n",
       "      <td>Primary</td>\n",
       "      <td>Primary</td>\n",
       "      <td>Primary</td>\n",
       "      <td>Primary</td>\n",
       "      <td>Primary</td>\n",
       "      <td>Primary</td>\n",
       "    </tr>\n",
       "  </tbody>\n",
       "</table>\n",
       "</div>"
      ],
      "text/plain": [
       "                                                                     2464851  \\\n",
       "om_nct_id                                                        NCT03118765   \n",
       "om_result_group_id                                                  17287705   \n",
       "om_outcome_id                                                        5253515   \n",
       "om_id                                                               40360683   \n",
       "om_ctgov_group_code                                                       O5   \n",
       "om_classification                                                              \n",
       "om_category                                                                    \n",
       "om_title                   Change From Baseline (Day 1) in Trough FEV1 at...   \n",
       "om_description             Change from baseline (Day 1) at Day 21 (Week 3...   \n",
       "om_units                                                                   L   \n",
       "om_param_type                                                           Mean   \n",
       "om_param_value                                                          0.14   \n",
       "om_param_value_num                                                      0.14   \n",
       "om_dispersion_type                                            Standard Error   \n",
       "om_dispersion_value                                                     0.04   \n",
       "om_dispersion_value_num                                                 0.04   \n",
       "om_dispersion_lower_limit                                                NaN   \n",
       "om_dispersion_upper_limit                                                NaN   \n",
       "om_explanation_of_na                                                           \n",
       "isprim                                                               Primary   \n",
       "\n",
       "                                                                     2464852  \\\n",
       "om_nct_id                                                        NCT03118765   \n",
       "om_result_group_id                                                  17287706   \n",
       "om_outcome_id                                                        5253515   \n",
       "om_id                                                               40360684   \n",
       "om_ctgov_group_code                                                       O4   \n",
       "om_classification                                                              \n",
       "om_category                                                                    \n",
       "om_title                   Change From Baseline (Day 1) in Trough FEV1 at...   \n",
       "om_description             Change from baseline (Day 1) at Day 21 (Week 3...   \n",
       "om_units                                                                   L   \n",
       "om_param_type                                                           Mean   \n",
       "om_param_value                                                          0.08   \n",
       "om_param_value_num                                                      0.08   \n",
       "om_dispersion_type                                            Standard Error   \n",
       "om_dispersion_value                                                     0.04   \n",
       "om_dispersion_value_num                                                 0.04   \n",
       "om_dispersion_lower_limit                                                NaN   \n",
       "om_dispersion_upper_limit                                                NaN   \n",
       "om_explanation_of_na                                                           \n",
       "isprim                                                               Primary   \n",
       "\n",
       "                                                                     2464853  \\\n",
       "om_nct_id                                                        NCT03118765   \n",
       "om_result_group_id                                                  17287707   \n",
       "om_outcome_id                                                        5253515   \n",
       "om_id                                                               40360685   \n",
       "om_ctgov_group_code                                                       O3   \n",
       "om_classification                                                              \n",
       "om_category                                                                    \n",
       "om_title                   Change From Baseline (Day 1) in Trough FEV1 at...   \n",
       "om_description             Change from baseline (Day 1) at Day 21 (Week 3...   \n",
       "om_units                                                                   L   \n",
       "om_param_type                                                           Mean   \n",
       "om_param_value                                                          0.09   \n",
       "om_param_value_num                                                      0.09   \n",
       "om_dispersion_type                                            Standard Error   \n",
       "om_dispersion_value                                                     0.04   \n",
       "om_dispersion_value_num                                                 0.04   \n",
       "om_dispersion_lower_limit                                                NaN   \n",
       "om_dispersion_upper_limit                                                NaN   \n",
       "om_explanation_of_na                                                           \n",
       "isprim                                                               Primary   \n",
       "\n",
       "                                                                     2464854  \\\n",
       "om_nct_id                                                        NCT03118765   \n",
       "om_result_group_id                                                  17287708   \n",
       "om_outcome_id                                                        5253515   \n",
       "om_id                                                               40360686   \n",
       "om_ctgov_group_code                                                       O2   \n",
       "om_classification                                                              \n",
       "om_category                                                                    \n",
       "om_title                   Change From Baseline (Day 1) in Trough FEV1 at...   \n",
       "om_description             Change from baseline (Day 1) at Day 21 (Week 3...   \n",
       "om_units                                                                   L   \n",
       "om_param_type                                                           Mean   \n",
       "om_param_value                                                          0.10   \n",
       "om_param_value_num                                                       0.1   \n",
       "om_dispersion_type                                            Standard Error   \n",
       "om_dispersion_value                                                     0.04   \n",
       "om_dispersion_value_num                                                 0.04   \n",
       "om_dispersion_lower_limit                                                NaN   \n",
       "om_dispersion_upper_limit                                                NaN   \n",
       "om_explanation_of_na                                                           \n",
       "isprim                                                               Primary   \n",
       "\n",
       "                                                                     2464855  \\\n",
       "om_nct_id                                                        NCT03118765   \n",
       "om_result_group_id                                                  17287709   \n",
       "om_outcome_id                                                        5253515   \n",
       "om_id                                                               40360687   \n",
       "om_ctgov_group_code                                                       O1   \n",
       "om_classification                                                              \n",
       "om_category                                                                    \n",
       "om_title                   Change From Baseline (Day 1) in Trough FEV1 at...   \n",
       "om_description             Change from baseline (Day 1) at Day 21 (Week 3...   \n",
       "om_units                                                                   L   \n",
       "om_param_type                                                           Mean   \n",
       "om_param_value                                                          0.14   \n",
       "om_param_value_num                                                      0.14   \n",
       "om_dispersion_type                                            Standard Error   \n",
       "om_dispersion_value                                                     0.04   \n",
       "om_dispersion_value_num                                                 0.04   \n",
       "om_dispersion_lower_limit                                                NaN   \n",
       "om_dispersion_upper_limit                                                NaN   \n",
       "om_explanation_of_na                                                           \n",
       "isprim                                                               Primary   \n",
       "\n",
       "                                                                     2464856  \\\n",
       "om_nct_id                                                        NCT03118765   \n",
       "om_result_group_id                                                  17287710   \n",
       "om_outcome_id                                                        5253516   \n",
       "om_id                                                               40360688   \n",
       "om_ctgov_group_code                                                       O4   \n",
       "om_classification                                                              \n",
       "om_category                                                                    \n",
       "om_title                   Relative Bioavailability of Tiotropium With GS...   \n",
       "om_description             The PK endpoint in plasma to assess the relati...   \n",
       "om_units                                                             h*pg/mL   \n",
       "om_param_type                                                           Mean   \n",
       "om_param_value                                                         57.70   \n",
       "om_param_value_num                                                      57.7   \n",
       "om_dispersion_type                                            Standard Error   \n",
       "om_dispersion_value                                                    1.130   \n",
       "om_dispersion_value_num                                                 1.13   \n",
       "om_dispersion_lower_limit                                                NaN   \n",
       "om_dispersion_upper_limit                                                NaN   \n",
       "om_explanation_of_na                                                           \n",
       "isprim                                                               Primary   \n",
       "\n",
       "                                                                     2464857  \\\n",
       "om_nct_id                                                        NCT03118765   \n",
       "om_result_group_id                                                  17287711   \n",
       "om_outcome_id                                                        5253516   \n",
       "om_id                                                               40360689   \n",
       "om_ctgov_group_code                                                       O3   \n",
       "om_classification                                                              \n",
       "om_category                                                                    \n",
       "om_title                   Relative Bioavailability of Tiotropium With GS...   \n",
       "om_description             The PK endpoint in plasma to assess the relati...   \n",
       "om_units                                                             h*pg/mL   \n",
       "om_param_type                                                           Mean   \n",
       "om_param_value                                                        122.00   \n",
       "om_param_value_num                                                       122   \n",
       "om_dispersion_type                                            Standard Error   \n",
       "om_dispersion_value                                                    1.130   \n",
       "om_dispersion_value_num                                                 1.13   \n",
       "om_dispersion_lower_limit                                                NaN   \n",
       "om_dispersion_upper_limit                                                NaN   \n",
       "om_explanation_of_na                                                           \n",
       "isprim                                                               Primary   \n",
       "\n",
       "                                                                     2464858  \\\n",
       "om_nct_id                                                        NCT03118765   \n",
       "om_result_group_id                                                  17287712   \n",
       "om_outcome_id                                                        5253516   \n",
       "om_id                                                               40360690   \n",
       "om_ctgov_group_code                                                       O2   \n",
       "om_classification                                                              \n",
       "om_category                                                                    \n",
       "om_title                   Relative Bioavailability of Tiotropium With GS...   \n",
       "om_description             The PK endpoint in plasma to assess the relati...   \n",
       "om_units                                                             h*pg/mL   \n",
       "om_param_type                                                           Mean   \n",
       "om_param_value                                                         49.10   \n",
       "om_param_value_num                                                      49.1   \n",
       "om_dispersion_type                                            Standard Error   \n",
       "om_dispersion_value                                                    1.123   \n",
       "om_dispersion_value_num                                                1.123   \n",
       "om_dispersion_lower_limit                                                NaN   \n",
       "om_dispersion_upper_limit                                                NaN   \n",
       "om_explanation_of_na                                                           \n",
       "isprim                                                               Primary   \n",
       "\n",
       "                                                                     2464859  \\\n",
       "om_nct_id                                                        NCT03118765   \n",
       "om_result_group_id                                                  17287713   \n",
       "om_outcome_id                                                        5253516   \n",
       "om_id                                                               40360691   \n",
       "om_ctgov_group_code                                                       O1   \n",
       "om_classification                                                              \n",
       "om_category                                                                    \n",
       "om_title                   Relative Bioavailability of Tiotropium With GS...   \n",
       "om_description             The PK endpoint in plasma to assess the relati...   \n",
       "om_units                                                             h*pg/mL   \n",
       "om_param_type                                                           Mean   \n",
       "om_param_value                                                         22.90   \n",
       "om_param_value_num                                                      22.9   \n",
       "om_dispersion_type                                            Standard Error   \n",
       "om_dispersion_value                                                    1.130   \n",
       "om_dispersion_value_num                                                 1.13   \n",
       "om_dispersion_lower_limit                                                NaN   \n",
       "om_dispersion_upper_limit                                                NaN   \n",
       "om_explanation_of_na                                                           \n",
       "isprim                                                               Primary   \n",
       "\n",
       "                                                                     2464860  \\\n",
       "om_nct_id                                                        NCT03118765   \n",
       "om_result_group_id                                                  17287714   \n",
       "om_outcome_id                                                        5253517   \n",
       "om_id                                                               40360692   \n",
       "om_ctgov_group_code                                                       O4   \n",
       "om_classification                                                              \n",
       "om_category                                                                    \n",
       "om_title                   Relative Bioavailability of Tiotropium With GS...   \n",
       "om_description             The PK endpoint in plasma to assess the relati...   \n",
       "om_units                                                               pg/mL   \n",
       "om_param_type                                                           Mean   \n",
       "om_param_value                                                         14.00   \n",
       "om_param_value_num                                                        14   \n",
       "om_dispersion_type                                            Standard Error   \n",
       "om_dispersion_value                                                    1.152   \n",
       "om_dispersion_value_num                                                1.152   \n",
       "om_dispersion_lower_limit                                                NaN   \n",
       "om_dispersion_upper_limit                                                NaN   \n",
       "om_explanation_of_na                                                           \n",
       "isprim                                                               Primary   \n",
       "\n",
       "                                                                     2464861  \\\n",
       "om_nct_id                                                        NCT03118765   \n",
       "om_result_group_id                                                  17287715   \n",
       "om_outcome_id                                                        5253517   \n",
       "om_id                                                               40360693   \n",
       "om_ctgov_group_code                                                       O3   \n",
       "om_classification                                                              \n",
       "om_category                                                                    \n",
       "om_title                   Relative Bioavailability of Tiotropium With GS...   \n",
       "om_description             The PK endpoint in plasma to assess the relati...   \n",
       "om_units                                                               pg/mL   \n",
       "om_param_type                                                           Mean   \n",
       "om_param_value                                                         21.80   \n",
       "om_param_value_num                                                      21.8   \n",
       "om_dispersion_type                                            Standard Error   \n",
       "om_dispersion_value                                                    1.152   \n",
       "om_dispersion_value_num                                                1.152   \n",
       "om_dispersion_lower_limit                                                NaN   \n",
       "om_dispersion_upper_limit                                                NaN   \n",
       "om_explanation_of_na                                                           \n",
       "isprim                                                               Primary   \n",
       "\n",
       "                                                                     2464862  \\\n",
       "om_nct_id                                                        NCT03118765   \n",
       "om_result_group_id                                                  17287716   \n",
       "om_outcome_id                                                        5253517   \n",
       "om_id                                                               40360694   \n",
       "om_ctgov_group_code                                                       O2   \n",
       "om_classification                                                              \n",
       "om_category                                                                    \n",
       "om_title                   Relative Bioavailability of Tiotropium With GS...   \n",
       "om_description             The PK endpoint in plasma to assess the relati...   \n",
       "om_units                                                               pg/mL   \n",
       "om_param_type                                                           Mean   \n",
       "om_param_value                                                          8.00   \n",
       "om_param_value_num                                                         8   \n",
       "om_dispersion_type                                            Standard Error   \n",
       "om_dispersion_value                                                    1.140   \n",
       "om_dispersion_value_num                                                 1.14   \n",
       "om_dispersion_lower_limit                                                NaN   \n",
       "om_dispersion_upper_limit                                                NaN   \n",
       "om_explanation_of_na                                                           \n",
       "isprim                                                               Primary   \n",
       "\n",
       "                                                                     2464863  \n",
       "om_nct_id                                                        NCT03118765  \n",
       "om_result_group_id                                                  17287717  \n",
       "om_outcome_id                                                        5253517  \n",
       "om_id                                                               40360695  \n",
       "om_ctgov_group_code                                                       O1  \n",
       "om_classification                                                             \n",
       "om_category                                                                   \n",
       "om_title                   Relative Bioavailability of Tiotropium With GS...  \n",
       "om_description             The PK endpoint in plasma to assess the relati...  \n",
       "om_units                                                               pg/mL  \n",
       "om_param_type                                                           Mean  \n",
       "om_param_value                                                          4.10  \n",
       "om_param_value_num                                                       4.1  \n",
       "om_dispersion_type                                            Standard Error  \n",
       "om_dispersion_value                                                    1.152  \n",
       "om_dispersion_value_num                                                1.152  \n",
       "om_dispersion_lower_limit                                                NaN  \n",
       "om_dispersion_upper_limit                                                NaN  \n",
       "om_explanation_of_na                                                          \n",
       "isprim                                                               Primary  "
      ]
     },
     "execution_count": 90,
     "metadata": {},
     "output_type": "execute_result"
    }
   ],
   "source": [
    "omj_used[omj_used['om_nct_id'] == test_nct_id].T"
   ]
  },
  {
   "cell_type": "code",
   "execution_count": 91,
   "metadata": {
    "scrolled": true
   },
   "outputs": [
    {
     "data": {
      "text/html": [
       "<div>\n",
       "<style scoped>\n",
       "    .dataframe tbody tr th:only-of-type {\n",
       "        vertical-align: middle;\n",
       "    }\n",
       "\n",
       "    .dataframe tbody tr th {\n",
       "        vertical-align: top;\n",
       "    }\n",
       "\n",
       "    .dataframe thead th {\n",
       "        text-align: right;\n",
       "    }\n",
       "</style>\n",
       "<table border=\"1\" class=\"dataframe\">\n",
       "  <thead>\n",
       "    <tr style=\"text-align: right;\">\n",
       "      <th></th>\n",
       "      <th>123099</th>\n",
       "      <th>123100</th>\n",
       "      <th>123101</th>\n",
       "      <th>123102</th>\n",
       "      <th>123103</th>\n",
       "      <th>123104</th>\n",
       "      <th>123105</th>\n",
       "      <th>123106</th>\n",
       "      <th>123107</th>\n",
       "      <th>123108</th>\n",
       "      <th>...</th>\n",
       "      <th>123124</th>\n",
       "      <th>123125</th>\n",
       "      <th>123126</th>\n",
       "      <th>123127</th>\n",
       "      <th>123128</th>\n",
       "      <th>123129</th>\n",
       "      <th>123130</th>\n",
       "      <th>123131</th>\n",
       "      <th>123132</th>\n",
       "      <th>123133</th>\n",
       "    </tr>\n",
       "  </thead>\n",
       "  <tbody>\n",
       "    <tr>\n",
       "      <td>nct_id</td>\n",
       "      <td>NCT03118765</td>\n",
       "      <td>NCT03118765</td>\n",
       "      <td>NCT03118765</td>\n",
       "      <td>NCT03118765</td>\n",
       "      <td>NCT03118765</td>\n",
       "      <td>NCT03118765</td>\n",
       "      <td>NCT03118765</td>\n",
       "      <td>NCT03118765</td>\n",
       "      <td>NCT03118765</td>\n",
       "      <td>NCT03118765</td>\n",
       "      <td>...</td>\n",
       "      <td>NCT03118765</td>\n",
       "      <td>NCT03118765</td>\n",
       "      <td>NCT03118765</td>\n",
       "      <td>NCT03118765</td>\n",
       "      <td>NCT03118765</td>\n",
       "      <td>NCT03118765</td>\n",
       "      <td>NCT03118765</td>\n",
       "      <td>NCT03118765</td>\n",
       "      <td>NCT03118765</td>\n",
       "      <td>NCT03118765</td>\n",
       "    </tr>\n",
       "    <tr>\n",
       "      <td>result_group_id</td>\n",
       "      <td>17287621</td>\n",
       "      <td>17287621</td>\n",
       "      <td>17287621</td>\n",
       "      <td>17287621</td>\n",
       "      <td>17287621</td>\n",
       "      <td>17287621</td>\n",
       "      <td>17287621</td>\n",
       "      <td>17287622</td>\n",
       "      <td>17287622</td>\n",
       "      <td>17287622</td>\n",
       "      <td>...</td>\n",
       "      <td>17287624</td>\n",
       "      <td>17287624</td>\n",
       "      <td>17287624</td>\n",
       "      <td>17287625</td>\n",
       "      <td>17287625</td>\n",
       "      <td>17287625</td>\n",
       "      <td>17287625</td>\n",
       "      <td>17287625</td>\n",
       "      <td>17287625</td>\n",
       "      <td>17287625</td>\n",
       "    </tr>\n",
       "    <tr>\n",
       "      <td>title</td>\n",
       "      <td>Race (NIH/OMB)</td>\n",
       "      <td>Race (NIH/OMB)</td>\n",
       "      <td>Race (NIH/OMB)</td>\n",
       "      <td>Race (NIH/OMB)</td>\n",
       "      <td>Race (NIH/OMB)</td>\n",
       "      <td>Race (NIH/OMB)</td>\n",
       "      <td>Race (NIH/OMB)</td>\n",
       "      <td>Race (NIH/OMB)</td>\n",
       "      <td>Race (NIH/OMB)</td>\n",
       "      <td>Race (NIH/OMB)</td>\n",
       "      <td>...</td>\n",
       "      <td>Race (NIH/OMB)</td>\n",
       "      <td>Race (NIH/OMB)</td>\n",
       "      <td>Race (NIH/OMB)</td>\n",
       "      <td>Race (NIH/OMB)</td>\n",
       "      <td>Race (NIH/OMB)</td>\n",
       "      <td>Race (NIH/OMB)</td>\n",
       "      <td>Race (NIH/OMB)</td>\n",
       "      <td>Race (NIH/OMB)</td>\n",
       "      <td>Race (NIH/OMB)</td>\n",
       "      <td>Race (NIH/OMB)</td>\n",
       "    </tr>\n",
       "    <tr>\n",
       "      <td>ctgov_group_code</td>\n",
       "      <td>B5</td>\n",
       "      <td>B5</td>\n",
       "      <td>B5</td>\n",
       "      <td>B5</td>\n",
       "      <td>B5</td>\n",
       "      <td>B5</td>\n",
       "      <td>B5</td>\n",
       "      <td>B4</td>\n",
       "      <td>B4</td>\n",
       "      <td>B4</td>\n",
       "      <td>...</td>\n",
       "      <td>B2</td>\n",
       "      <td>B2</td>\n",
       "      <td>B2</td>\n",
       "      <td>B1</td>\n",
       "      <td>B1</td>\n",
       "      <td>B1</td>\n",
       "      <td>B1</td>\n",
       "      <td>B1</td>\n",
       "      <td>B1</td>\n",
       "      <td>B1</td>\n",
       "    </tr>\n",
       "    <tr>\n",
       "      <td>used_race</td>\n",
       "      <td>Black or African American</td>\n",
       "      <td>Native Hawaiian or Other Pacific Islander</td>\n",
       "      <td>Asian</td>\n",
       "      <td>American Indian or Alaska Native</td>\n",
       "      <td>Unknown or Not Reported</td>\n",
       "      <td>More than one race</td>\n",
       "      <td>White</td>\n",
       "      <td>Black or African American</td>\n",
       "      <td>Native Hawaiian or Other Pacific Islander</td>\n",
       "      <td>Asian</td>\n",
       "      <td>...</td>\n",
       "      <td>American Indian or Alaska Native</td>\n",
       "      <td>Unknown or Not Reported</td>\n",
       "      <td>More than one race</td>\n",
       "      <td>Unknown or Not Reported</td>\n",
       "      <td>More than one race</td>\n",
       "      <td>White</td>\n",
       "      <td>Black or African American</td>\n",
       "      <td>Native Hawaiian or Other Pacific Islander</td>\n",
       "      <td>Asian</td>\n",
       "      <td>American Indian or Alaska Native</td>\n",
       "    </tr>\n",
       "    <tr>\n",
       "      <td>param_value_num</td>\n",
       "      <td>1</td>\n",
       "      <td>0</td>\n",
       "      <td>0</td>\n",
       "      <td>0</td>\n",
       "      <td>0</td>\n",
       "      <td>0</td>\n",
       "      <td>29</td>\n",
       "      <td>1</td>\n",
       "      <td>0</td>\n",
       "      <td>0</td>\n",
       "      <td>...</td>\n",
       "      <td>0</td>\n",
       "      <td>0</td>\n",
       "      <td>0</td>\n",
       "      <td>0</td>\n",
       "      <td>0</td>\n",
       "      <td>27</td>\n",
       "      <td>2</td>\n",
       "      <td>0</td>\n",
       "      <td>1</td>\n",
       "      <td>0</td>\n",
       "    </tr>\n",
       "  </tbody>\n",
       "</table>\n",
       "<p>6 rows × 35 columns</p>\n",
       "</div>"
      ],
      "text/plain": [
       "                                     123099  \\\n",
       "nct_id                          NCT03118765   \n",
       "result_group_id                    17287621   \n",
       "title                        Race (NIH/OMB)   \n",
       "ctgov_group_code                         B5   \n",
       "used_race         Black or African American   \n",
       "param_value_num                           1   \n",
       "\n",
       "                                                     123100          123101  \\\n",
       "nct_id                                          NCT03118765     NCT03118765   \n",
       "result_group_id                                    17287621        17287621   \n",
       "title                                        Race (NIH/OMB)  Race (NIH/OMB)   \n",
       "ctgov_group_code                                         B5              B5   \n",
       "used_race         Native Hawaiian or Other Pacific Islander           Asian   \n",
       "param_value_num                                           0               0   \n",
       "\n",
       "                                            123102                   123103  \\\n",
       "nct_id                                 NCT03118765              NCT03118765   \n",
       "result_group_id                           17287621                 17287621   \n",
       "title                               Race (NIH/OMB)           Race (NIH/OMB)   \n",
       "ctgov_group_code                                B5                       B5   \n",
       "used_race         American Indian or Alaska Native  Unknown or Not Reported   \n",
       "param_value_num                                  0                        0   \n",
       "\n",
       "                              123104          123105  \\\n",
       "nct_id                   NCT03118765     NCT03118765   \n",
       "result_group_id             17287621        17287621   \n",
       "title                 Race (NIH/OMB)  Race (NIH/OMB)   \n",
       "ctgov_group_code                  B5              B5   \n",
       "used_race         More than one race           White   \n",
       "param_value_num                    0              29   \n",
       "\n",
       "                                     123106  \\\n",
       "nct_id                          NCT03118765   \n",
       "result_group_id                    17287622   \n",
       "title                        Race (NIH/OMB)   \n",
       "ctgov_group_code                         B4   \n",
       "used_race         Black or African American   \n",
       "param_value_num                           1   \n",
       "\n",
       "                                                     123107          123108  \\\n",
       "nct_id                                          NCT03118765     NCT03118765   \n",
       "result_group_id                                    17287622        17287622   \n",
       "title                                        Race (NIH/OMB)  Race (NIH/OMB)   \n",
       "ctgov_group_code                                         B4              B4   \n",
       "used_race         Native Hawaiian or Other Pacific Islander           Asian   \n",
       "param_value_num                                           0               0   \n",
       "\n",
       "                  ...                            123124  \\\n",
       "nct_id            ...                       NCT03118765   \n",
       "result_group_id   ...                          17287624   \n",
       "title             ...                    Race (NIH/OMB)   \n",
       "ctgov_group_code  ...                                B2   \n",
       "used_race         ...  American Indian or Alaska Native   \n",
       "param_value_num   ...                                 0   \n",
       "\n",
       "                                   123125              123126  \\\n",
       "nct_id                        NCT03118765         NCT03118765   \n",
       "result_group_id                  17287624            17287624   \n",
       "title                      Race (NIH/OMB)      Race (NIH/OMB)   \n",
       "ctgov_group_code                       B2                  B2   \n",
       "used_race         Unknown or Not Reported  More than one race   \n",
       "param_value_num                         0                   0   \n",
       "\n",
       "                                   123127              123128          123129  \\\n",
       "nct_id                        NCT03118765         NCT03118765     NCT03118765   \n",
       "result_group_id                  17287625            17287625        17287625   \n",
       "title                      Race (NIH/OMB)      Race (NIH/OMB)  Race (NIH/OMB)   \n",
       "ctgov_group_code                       B1                  B1              B1   \n",
       "used_race         Unknown or Not Reported  More than one race           White   \n",
       "param_value_num                         0                   0              27   \n",
       "\n",
       "                                     123130  \\\n",
       "nct_id                          NCT03118765   \n",
       "result_group_id                    17287625   \n",
       "title                        Race (NIH/OMB)   \n",
       "ctgov_group_code                         B1   \n",
       "used_race         Black or African American   \n",
       "param_value_num                           2   \n",
       "\n",
       "                                                     123131          123132  \\\n",
       "nct_id                                          NCT03118765     NCT03118765   \n",
       "result_group_id                                    17287625        17287625   \n",
       "title                                        Race (NIH/OMB)  Race (NIH/OMB)   \n",
       "ctgov_group_code                                         B1              B1   \n",
       "used_race         Native Hawaiian or Other Pacific Islander           Asian   \n",
       "param_value_num                                           0               1   \n",
       "\n",
       "                                            123133  \n",
       "nct_id                                 NCT03118765  \n",
       "result_group_id                           17287625  \n",
       "title                               Race (NIH/OMB)  \n",
       "ctgov_group_code                                B1  \n",
       "used_race         American Indian or Alaska Native  \n",
       "param_value_num                                  0  \n",
       "\n",
       "[6 rows x 35 columns]"
      ]
     },
     "execution_count": 91,
     "metadata": {},
     "output_type": "execute_result"
    }
   ],
   "source": [
    "df_more_than_two_arm[df_more_than_two_arm['nct_id'] == test_nct_id].T"
   ]
  },
  {
   "cell_type": "markdown",
   "metadata": {},
   "source": [
    "### Results: I manually examined 10 examples with more than 2 groups, and the ctgov_group_code suffix correctly identifies the groups across baseline measurements vs outcome_measurements (i.e. B1 = O1, B2= O2, etc...)"
   ]
  },
  {
   "cell_type": "markdown",
   "metadata": {},
   "source": [
    "## For each of the intersection set of Studies, randomly select 2 groups (the same) from both baseline_measurements and outcome_measurements"
   ]
  },
  {
   "cell_type": "code",
   "execution_count": 92,
   "metadata": {},
   "outputs": [
    {
     "data": {
      "text/plain": [
       "(45785, 6)"
      ]
     },
     "execution_count": 92,
     "metadata": {},
     "output_type": "execute_result"
    }
   ],
   "source": [
    "# this dataframe contains the bucket splits for the baseline measurements, already filtered to intersection\n",
    "df_mta_intersect.shape"
   ]
  },
  {
   "cell_type": "code",
   "execution_count": 93,
   "metadata": {},
   "outputs": [
    {
     "data": {
      "text/plain": [
       "(44472, 20)"
      ]
     },
     "execution_count": 93,
     "metadata": {},
     "output_type": "execute_result"
    }
   ],
   "source": [
    "# this dataframe contains the bucket splits for the outcome measurements, now filtered to intersection\n",
    "omj_used_intersect = omj_used[omj_used['om_nct_id'].isin(df_intersection_used.index)].copy()\n",
    "omj_used_intersect.shape"
   ]
  },
  {
   "cell_type": "code",
   "execution_count": 94,
   "metadata": {},
   "outputs": [],
   "source": [
    "# extracting the numerical group numbers from each dataframe\n",
    "df_mta_intersect['group_num'] = df_mta_intersect['ctgov_group_code'].apply(lambda x: int(x[1:]))\n",
    "omj_used_intersect['group_num'] = omj_used_intersect['om_ctgov_group_code'].apply(lambda x: int(x[1:]))"
   ]
  },
  {
   "cell_type": "code",
   "execution_count": 95,
   "metadata": {},
   "outputs": [
    {
     "data": {
      "text/html": [
       "<div>\n",
       "<style scoped>\n",
       "    .dataframe tbody tr th:only-of-type {\n",
       "        vertical-align: middle;\n",
       "    }\n",
       "\n",
       "    .dataframe tbody tr th {\n",
       "        vertical-align: top;\n",
       "    }\n",
       "\n",
       "    .dataframe thead th {\n",
       "        text-align: right;\n",
       "    }\n",
       "</style>\n",
       "<table border=\"1\" class=\"dataframe\">\n",
       "  <thead>\n",
       "    <tr style=\"text-align: right;\">\n",
       "      <th></th>\n",
       "      <th>nct_id</th>\n",
       "      <th>result_group_id</th>\n",
       "      <th>title</th>\n",
       "      <th>ctgov_group_code</th>\n",
       "      <th>used_race</th>\n",
       "      <th>param_value_num</th>\n",
       "      <th>group_num</th>\n",
       "    </tr>\n",
       "  </thead>\n",
       "  <tbody>\n",
       "    <tr>\n",
       "      <td>0</td>\n",
       "      <td>NCT00001262</td>\n",
       "      <td>18404948</td>\n",
       "      <td>Race (NIH/OMB)</td>\n",
       "      <td>B3</td>\n",
       "      <td>Unknown or Not Reported</td>\n",
       "      <td>0.0</td>\n",
       "      <td>3</td>\n",
       "    </tr>\n",
       "    <tr>\n",
       "      <td>1</td>\n",
       "      <td>NCT00001262</td>\n",
       "      <td>18404948</td>\n",
       "      <td>Race (NIH/OMB)</td>\n",
       "      <td>B3</td>\n",
       "      <td>More than one race</td>\n",
       "      <td>0.0</td>\n",
       "      <td>3</td>\n",
       "    </tr>\n",
       "    <tr>\n",
       "      <td>2</td>\n",
       "      <td>NCT00001262</td>\n",
       "      <td>18404948</td>\n",
       "      <td>Race (NIH/OMB)</td>\n",
       "      <td>B3</td>\n",
       "      <td>White</td>\n",
       "      <td>3.0</td>\n",
       "      <td>3</td>\n",
       "    </tr>\n",
       "    <tr>\n",
       "      <td>3</td>\n",
       "      <td>NCT00001262</td>\n",
       "      <td>18404948</td>\n",
       "      <td>Race (NIH/OMB)</td>\n",
       "      <td>B3</td>\n",
       "      <td>Black or African American</td>\n",
       "      <td>0.0</td>\n",
       "      <td>3</td>\n",
       "    </tr>\n",
       "    <tr>\n",
       "      <td>4</td>\n",
       "      <td>NCT00001262</td>\n",
       "      <td>18404948</td>\n",
       "      <td>Race (NIH/OMB)</td>\n",
       "      <td>B3</td>\n",
       "      <td>Native Hawaiian or Other Pacific Islander</td>\n",
       "      <td>0.0</td>\n",
       "      <td>3</td>\n",
       "    </tr>\n",
       "  </tbody>\n",
       "</table>\n",
       "</div>"
      ],
      "text/plain": [
       "        nct_id  result_group_id           title ctgov_group_code  \\\n",
       "0  NCT00001262         18404948  Race (NIH/OMB)               B3   \n",
       "1  NCT00001262         18404948  Race (NIH/OMB)               B3   \n",
       "2  NCT00001262         18404948  Race (NIH/OMB)               B3   \n",
       "3  NCT00001262         18404948  Race (NIH/OMB)               B3   \n",
       "4  NCT00001262         18404948  Race (NIH/OMB)               B3   \n",
       "\n",
       "                                   used_race  param_value_num  group_num  \n",
       "0                    Unknown or Not Reported              0.0          3  \n",
       "1                         More than one race              0.0          3  \n",
       "2                                      White              3.0          3  \n",
       "3                  Black or African American              0.0          3  \n",
       "4  Native Hawaiian or Other Pacific Islander              0.0          3  "
      ]
     },
     "execution_count": 95,
     "metadata": {},
     "output_type": "execute_result"
    }
   ],
   "source": [
    "df_mta_intersect.head()"
   ]
  },
  {
   "cell_type": "code",
   "execution_count": 96,
   "metadata": {},
   "outputs": [
    {
     "data": {
      "text/html": [
       "<div>\n",
       "<style scoped>\n",
       "    .dataframe tbody tr th:only-of-type {\n",
       "        vertical-align: middle;\n",
       "    }\n",
       "\n",
       "    .dataframe tbody tr th {\n",
       "        vertical-align: top;\n",
       "    }\n",
       "\n",
       "    .dataframe thead th {\n",
       "        text-align: right;\n",
       "    }\n",
       "</style>\n",
       "<table border=\"1\" class=\"dataframe\">\n",
       "  <thead>\n",
       "    <tr style=\"text-align: right;\">\n",
       "      <th></th>\n",
       "      <th>om_nct_id</th>\n",
       "      <th>om_result_group_id</th>\n",
       "      <th>om_outcome_id</th>\n",
       "      <th>om_id</th>\n",
       "      <th>om_ctgov_group_code</th>\n",
       "      <th>om_classification</th>\n",
       "      <th>om_category</th>\n",
       "      <th>om_title</th>\n",
       "      <th>om_description</th>\n",
       "      <th>om_units</th>\n",
       "      <th>...</th>\n",
       "      <th>om_param_value</th>\n",
       "      <th>om_param_value_num</th>\n",
       "      <th>om_dispersion_type</th>\n",
       "      <th>om_dispersion_value</th>\n",
       "      <th>om_dispersion_value_num</th>\n",
       "      <th>om_dispersion_lower_limit</th>\n",
       "      <th>om_dispersion_upper_limit</th>\n",
       "      <th>om_explanation_of_na</th>\n",
       "      <th>isprim</th>\n",
       "      <th>group_num</th>\n",
       "    </tr>\n",
       "  </thead>\n",
       "  <tbody>\n",
       "    <tr>\n",
       "      <td>42</td>\n",
       "      <td>NCT00000392</td>\n",
       "      <td>18404739</td>\n",
       "      <td>5589202</td>\n",
       "      <td>42917899</td>\n",
       "      <td>O2</td>\n",
       "      <td></td>\n",
       "      <td></td>\n",
       "      <td>Change in Global Neurocognitive Performance z ...</td>\n",
       "      <td>Higher values for change in z-score represent ...</td>\n",
       "      <td>z score</td>\n",
       "      <td>...</td>\n",
       "      <td>0.16</td>\n",
       "      <td>0.16</td>\n",
       "      <td>Standard Error</td>\n",
       "      <td>0.03</td>\n",
       "      <td>0.03</td>\n",
       "      <td>NaN</td>\n",
       "      <td>NaN</td>\n",
       "      <td></td>\n",
       "      <td>Primary</td>\n",
       "      <td>2</td>\n",
       "    </tr>\n",
       "    <tr>\n",
       "      <td>43</td>\n",
       "      <td>NCT00000392</td>\n",
       "      <td>18404740</td>\n",
       "      <td>5589202</td>\n",
       "      <td>42917900</td>\n",
       "      <td>O1</td>\n",
       "      <td></td>\n",
       "      <td></td>\n",
       "      <td>Change in Global Neurocognitive Performance z ...</td>\n",
       "      <td>Higher values for change in z-score represent ...</td>\n",
       "      <td>z score</td>\n",
       "      <td>...</td>\n",
       "      <td>0.24</td>\n",
       "      <td>0.24</td>\n",
       "      <td>Standard Error</td>\n",
       "      <td>0.05</td>\n",
       "      <td>0.05</td>\n",
       "      <td>NaN</td>\n",
       "      <td>NaN</td>\n",
       "      <td></td>\n",
       "      <td>Primary</td>\n",
       "      <td>1</td>\n",
       "    </tr>\n",
       "  </tbody>\n",
       "</table>\n",
       "<p>2 rows × 21 columns</p>\n",
       "</div>"
      ],
      "text/plain": [
       "      om_nct_id  om_result_group_id  om_outcome_id     om_id  \\\n",
       "42  NCT00000392            18404739        5589202  42917899   \n",
       "43  NCT00000392            18404740        5589202  42917900   \n",
       "\n",
       "   om_ctgov_group_code om_classification om_category  \\\n",
       "42                  O2                                 \n",
       "43                  O1                                 \n",
       "\n",
       "                                             om_title  \\\n",
       "42  Change in Global Neurocognitive Performance z ...   \n",
       "43  Change in Global Neurocognitive Performance z ...   \n",
       "\n",
       "                                       om_description om_units  ...  \\\n",
       "42  Higher values for change in z-score represent ...  z score  ...   \n",
       "43  Higher values for change in z-score represent ...  z score  ...   \n",
       "\n",
       "   om_param_value om_param_value_num  om_dispersion_type om_dispersion_value  \\\n",
       "42           0.16               0.16      Standard Error                0.03   \n",
       "43           0.24               0.24      Standard Error                0.05   \n",
       "\n",
       "   om_dispersion_value_num  om_dispersion_lower_limit  \\\n",
       "42                    0.03                        NaN   \n",
       "43                    0.05                        NaN   \n",
       "\n",
       "    om_dispersion_upper_limit  om_explanation_of_na   isprim group_num  \n",
       "42                        NaN                        Primary         2  \n",
       "43                        NaN                        Primary         1  \n",
       "\n",
       "[2 rows x 21 columns]"
      ]
     },
     "execution_count": 96,
     "metadata": {},
     "output_type": "execute_result"
    }
   ],
   "source": [
    "omj_used_intersect.head(2)"
   ]
  },
  {
   "cell_type": "code",
   "execution_count": 97,
   "metadata": {},
   "outputs": [
    {
     "data": {
      "application/vnd.jupyter.widget-view+json": {
       "model_id": "92a21a545ed44ec1a5e7b7b242eb400e",
       "version_major": 2,
       "version_minor": 0
      },
      "text/plain": [
       "HBox(children=(IntProgress(value=0, max=3122), HTML(value='')))"
      ]
     },
     "metadata": {},
     "output_type": "display_data"
    },
    {
     "name": "stdout",
     "output_type": "stream",
     "text": [
      "did not add NCT00035932\n",
      "did not add NCT00158600\n",
      "did not add NCT00297427\n",
      "did not add NCT00342563\n",
      "did not add NCT00773175\n",
      "did not add NCT01174264\n",
      "did not add NCT01552343\n",
      "did not add NCT01597388\n",
      "did not add NCT01600105\n",
      "did not add NCT01871545\n",
      "did not add NCT01920854\n",
      "did not add NCT01947283\n",
      "did not add NCT02310763\n",
      "did not add NCT02524145\n",
      "did not add NCT02556554\n",
      "did not add NCT02568475\n",
      "did not add NCT02841787\n",
      "did not add NCT02911818\n",
      "did not add NCT03062891\n",
      "did not add NCT03073876\n",
      "did not add NCT03118765\n",
      "did not add NCT03266172\n",
      "did not add NCT03336502\n",
      "\n"
     ]
    }
   ],
   "source": [
    "# Set random seed here\n",
    "USED_RANDOM_SEED = 100\n",
    "np.random.seed(USED_RANDOM_SEED)\n",
    "\n",
    "selected_bm_rows = []\n",
    "selected_om_rows = []\n",
    "random_summary = {}\n",
    "\n",
    "\n",
    "# loop through studies to randomely select the groups, and 1 random primary outcome\n",
    "for nct_id in tqdm(df_intersection_used.index):\n",
    "    subdf_bm = df_mta_intersect[df_mta_intersect['nct_id'] == nct_id]\n",
    "    subdf_om = omj_used_intersect[omj_used_intersect['om_nct_id'] == nct_id]\n",
    "    \n",
    "    # 1 random outcome measure\n",
    "    possible_outcome_ids = subdf_om['om_outcome_id'].unique()\n",
    "    selected_outcome_id = np.random.choice(possible_outcome_ids)\n",
    "    subdf_om_used = subdf_om[subdf_om['om_outcome_id'] == selected_outcome_id]\n",
    "    \n",
    "    possible_groups = subdf_bm['group_num'].unique()\n",
    "    selected_groups = np.random.choice(possible_groups, 2, replace=False)  # no replacement\n",
    "    \n",
    "    selected_bm = subdf_bm[subdf_bm['group_num'].isin(selected_groups)]\n",
    "    selected_om = subdf_om_used[subdf_om_used['group_num'].isin(selected_groups)]\n",
    "    \n",
    "    select_bm_num_groups = len(selected_bm['group_num'].unique())\n",
    "    select_om_num_groups = len(selected_om['group_num'].unique())\n",
    "    \n",
    "    if select_bm_num_groups == select_om_num_groups:\n",
    "        # only capture the entry if there are rows in both\n",
    "        selected_bm_rows.append(selected_bm)\n",
    "        selected_om_rows.append(selected_om)\n",
    "\n",
    "        random_summary_entry = {\n",
    "            'total_bm_rows': subdf_bm.shape[0],\n",
    "            'total_om_rows': subdf_om.shape[0],\n",
    "            'num_outcome_measures': len(possible_outcome_ids),\n",
    "            'num_possible_groups': len(possible_groups),\n",
    "            'num_selected_groups': len(selected_groups),\n",
    "            'selected_bm_rows': selected_bm.shape[0],\n",
    "            'selected_om_rows': selected_om.shape[0]\n",
    "        }\n",
    "\n",
    "        random_summary[nct_id] = random_summary_entry\n",
    "    else:\n",
    "        print(\"did not add %s\" % nct_id)"
   ]
  },
  {
   "cell_type": "markdown",
   "metadata": {},
   "source": [
    "### Ensuring the randomization went as expected"
   ]
  },
  {
   "cell_type": "code",
   "execution_count": 98,
   "metadata": {},
   "outputs": [
    {
     "data": {
      "text/html": [
       "<div>\n",
       "<style scoped>\n",
       "    .dataframe tbody tr th:only-of-type {\n",
       "        vertical-align: middle;\n",
       "    }\n",
       "\n",
       "    .dataframe tbody tr th {\n",
       "        vertical-align: top;\n",
       "    }\n",
       "\n",
       "    .dataframe thead th {\n",
       "        text-align: right;\n",
       "    }\n",
       "</style>\n",
       "<table border=\"1\" class=\"dataframe\">\n",
       "  <thead>\n",
       "    <tr style=\"text-align: right;\">\n",
       "      <th></th>\n",
       "      <th>total_bm_rows</th>\n",
       "      <th>total_om_rows</th>\n",
       "      <th>num_outcome_measures</th>\n",
       "      <th>num_possible_groups</th>\n",
       "      <th>num_selected_groups</th>\n",
       "      <th>selected_bm_rows</th>\n",
       "      <th>selected_om_rows</th>\n",
       "    </tr>\n",
       "    <tr>\n",
       "      <th>nct_id</th>\n",
       "      <th></th>\n",
       "      <th></th>\n",
       "      <th></th>\n",
       "      <th></th>\n",
       "      <th></th>\n",
       "      <th></th>\n",
       "      <th></th>\n",
       "    </tr>\n",
       "  </thead>\n",
       "  <tbody>\n",
       "    <tr>\n",
       "      <td>NCT00000392</td>\n",
       "      <td>6</td>\n",
       "      <td>2</td>\n",
       "      <td>1</td>\n",
       "      <td>2</td>\n",
       "      <td>2</td>\n",
       "      <td>6</td>\n",
       "      <td>2</td>\n",
       "    </tr>\n",
       "    <tr>\n",
       "      <td>NCT00001262</td>\n",
       "      <td>21</td>\n",
       "      <td>12</td>\n",
       "      <td>4</td>\n",
       "      <td>3</td>\n",
       "      <td>2</td>\n",
       "      <td>14</td>\n",
       "      <td>2</td>\n",
       "    </tr>\n",
       "    <tr>\n",
       "      <td>NCT00001304</td>\n",
       "      <td>14</td>\n",
       "      <td>4</td>\n",
       "      <td>2</td>\n",
       "      <td>2</td>\n",
       "      <td>2</td>\n",
       "      <td>14</td>\n",
       "      <td>2</td>\n",
       "    </tr>\n",
       "    <tr>\n",
       "      <td>NCT00002651</td>\n",
       "      <td>14</td>\n",
       "      <td>6</td>\n",
       "      <td>3</td>\n",
       "      <td>2</td>\n",
       "      <td>2</td>\n",
       "      <td>14</td>\n",
       "      <td>2</td>\n",
       "    </tr>\n",
       "    <tr>\n",
       "      <td>NCT00004732</td>\n",
       "      <td>6</td>\n",
       "      <td>2</td>\n",
       "      <td>1</td>\n",
       "      <td>2</td>\n",
       "      <td>2</td>\n",
       "      <td>6</td>\n",
       "      <td>2</td>\n",
       "    </tr>\n",
       "  </tbody>\n",
       "</table>\n",
       "</div>"
      ],
      "text/plain": [
       "             total_bm_rows  total_om_rows  num_outcome_measures  \\\n",
       "nct_id                                                            \n",
       "NCT00000392              6              2                     1   \n",
       "NCT00001262             21             12                     4   \n",
       "NCT00001304             14              4                     2   \n",
       "NCT00002651             14              6                     3   \n",
       "NCT00004732              6              2                     1   \n",
       "\n",
       "             num_possible_groups  num_selected_groups  selected_bm_rows  \\\n",
       "nct_id                                                                    \n",
       "NCT00000392                    2                    2                 6   \n",
       "NCT00001262                    3                    2                14   \n",
       "NCT00001304                    2                    2                14   \n",
       "NCT00002651                    2                    2                14   \n",
       "NCT00004732                    2                    2                 6   \n",
       "\n",
       "             selected_om_rows  \n",
       "nct_id                         \n",
       "NCT00000392                 2  \n",
       "NCT00001262                 2  \n",
       "NCT00001304                 2  \n",
       "NCT00002651                 2  \n",
       "NCT00004732                 2  "
      ]
     },
     "execution_count": 98,
     "metadata": {},
     "output_type": "execute_result"
    }
   ],
   "source": [
    "df_random_summ = pd.DataFrame(random_summary).T\n",
    "df_random_summ.index.name = 'nct_id'\n",
    "df_random_summ.head()"
   ]
  },
  {
   "cell_type": "code",
   "execution_count": 99,
   "metadata": {},
   "outputs": [],
   "source": [
    "df_selected_bm = pd.concat(selected_bm_rows)\n",
    "df_selected_om = pd.concat(selected_om_rows)"
   ]
  },
  {
   "cell_type": "code",
   "execution_count": 100,
   "metadata": {
    "scrolled": true
   },
   "outputs": [
    {
     "data": {
      "text/plain": [
       "2    3099\n",
       "Name: ctgov_group_code, dtype: int64"
      ]
     },
     "execution_count": 100,
     "metadata": {},
     "output_type": "execute_result"
    }
   ],
   "source": [
    "num_groups_bm = df_selected_bm.groupby('nct_id')['ctgov_group_code'].nunique()\n",
    "num_groups_bm.value_counts()"
   ]
  },
  {
   "cell_type": "code",
   "execution_count": 101,
   "metadata": {},
   "outputs": [
    {
     "data": {
      "text/plain": [
       "2    3099\n",
       "Name: om_ctgov_group_code, dtype: int64"
      ]
     },
     "execution_count": 101,
     "metadata": {},
     "output_type": "execute_result"
    }
   ],
   "source": [
    "df_selected_om.groupby('om_nct_id')['om_ctgov_group_code'].nunique().value_counts()"
   ]
  },
  {
   "cell_type": "code",
   "execution_count": 102,
   "metadata": {},
   "outputs": [
    {
     "data": {
      "text/plain": [
       "(3099, 3099)"
      ]
     },
     "execution_count": 102,
     "metadata": {},
     "output_type": "execute_result"
    }
   ],
   "source": [
    "# number of final studies to compute imbalance and measurements\n",
    "nct_id_bm = df_selected_bm['nct_id'].unique()\n",
    "nct_id_om = df_selected_om['om_nct_id'].unique() \n",
    "\n",
    "len(nct_id_bm), len(nct_id_om)"
   ]
  },
  {
   "cell_type": "code",
   "execution_count": 103,
   "metadata": {},
   "outputs": [
    {
     "data": {
      "text/plain": [
       "array(['NCT00000392', 'NCT00001262', 'NCT00001304', ..., 'NCT04406194',\n",
       "       'NCT04502979', 'NCT04555525'], dtype=object)"
      ]
     },
     "execution_count": 103,
     "metadata": {},
     "output_type": "execute_result"
    }
   ],
   "source": [
    "final_nct_id_list = df_selected_bm['nct_id'].unique()\n",
    "final_nct_id_list"
   ]
  },
  {
   "cell_type": "markdown",
   "metadata": {},
   "source": [
    "#### This increased from around 850 studies! (when we had a more constrained filtering methodology)"
   ]
  },
  {
   "cell_type": "markdown",
   "metadata": {},
   "source": [
    "## On the outcome counts, getting the primary counts"
   ]
  },
  {
   "cell_type": "code",
   "execution_count": 104,
   "metadata": {},
   "outputs": [
    {
     "data": {
      "text/plain": [
       "3099"
      ]
     },
     "execution_count": 104,
     "metadata": {},
     "output_type": "execute_result"
    }
   ],
   "source": [
    "# requires the outcome table and the outcome_counts table\n",
    "ocj = oc.reset_index().add_prefix('oc_')\n",
    "out_ocj = out[['id', 'outcome_type']].reset_index().add_prefix('oco_')\n",
    "\n",
    "ocoj = ocj.merge(out_ocj,\n",
    "                 how='inner', \n",
    "                 left_on=['oc_nct_id', 'oc_outcome_id'],\n",
    "                 right_on=['oco_nct_id', 'oco_id'])\n",
    "ocoj_in_set = ocoj[ocoj['oc_nct_id'].isin(final_nct_id_list)]\n",
    "\n",
    "# only keep counts on primary out comes\n",
    "ocoj_primary = ocoj_in_set[ocoj_in_set['oco_outcome_type'] == 'Primary']\n",
    "\n",
    "len(ocoj_primary['oc_nct_id'].unique())"
   ]
  },
  {
   "cell_type": "code",
   "execution_count": 105,
   "metadata": {},
   "outputs": [
    {
     "data": {
      "application/vnd.jupyter.widget-view+json": {
       "model_id": "b3b5bf108aab42d793b5256dbbd3611f",
       "version_major": 2,
       "version_minor": 0
      },
      "text/plain": [
       "HBox(children=(IntProgress(value=0, max=3099), HTML(value='')))"
      ]
     },
     "metadata": {},
     "output_type": "display_data"
    },
    {
     "name": "stdout",
     "output_type": "stream",
     "text": [
      "\n"
     ]
    },
    {
     "data": {
      "text/html": [
       "<div>\n",
       "<style scoped>\n",
       "    .dataframe tbody tr th:only-of-type {\n",
       "        vertical-align: middle;\n",
       "    }\n",
       "\n",
       "    .dataframe tbody tr th {\n",
       "        vertical-align: top;\n",
       "    }\n",
       "\n",
       "    .dataframe thead th {\n",
       "        text-align: right;\n",
       "    }\n",
       "</style>\n",
       "<table border=\"1\" class=\"dataframe\">\n",
       "  <thead>\n",
       "    <tr style=\"text-align: right;\">\n",
       "      <th></th>\n",
       "      <th>ct_nct_id</th>\n",
       "      <th>ct_ctgov_group_code</th>\n",
       "      <th>ct_num_participants</th>\n",
       "      <th>ct_num_measures</th>\n",
       "    </tr>\n",
       "  </thead>\n",
       "  <tbody>\n",
       "    <tr>\n",
       "      <td>0</td>\n",
       "      <td>NCT00000392</td>\n",
       "      <td>O2</td>\n",
       "      <td>77</td>\n",
       "      <td>77</td>\n",
       "    </tr>\n",
       "    <tr>\n",
       "      <td>1</td>\n",
       "      <td>NCT00000392</td>\n",
       "      <td>O1</td>\n",
       "      <td>66</td>\n",
       "      <td>66</td>\n",
       "    </tr>\n",
       "    <tr>\n",
       "      <td>2</td>\n",
       "      <td>NCT00001262</td>\n",
       "      <td>O3</td>\n",
       "      <td>3</td>\n",
       "      <td>3</td>\n",
       "    </tr>\n",
       "    <tr>\n",
       "      <td>3</td>\n",
       "      <td>NCT00001262</td>\n",
       "      <td>O2</td>\n",
       "      <td>22</td>\n",
       "      <td>22</td>\n",
       "    </tr>\n",
       "    <tr>\n",
       "      <td>4</td>\n",
       "      <td>NCT00001262</td>\n",
       "      <td>O1</td>\n",
       "      <td>35</td>\n",
       "      <td>35</td>\n",
       "    </tr>\n",
       "    <tr>\n",
       "      <td>...</td>\n",
       "      <td>...</td>\n",
       "      <td>...</td>\n",
       "      <td>...</td>\n",
       "      <td>...</td>\n",
       "    </tr>\n",
       "    <tr>\n",
       "      <td>7817</td>\n",
       "      <td>NCT04406194</td>\n",
       "      <td>O1</td>\n",
       "      <td>29</td>\n",
       "      <td>29</td>\n",
       "    </tr>\n",
       "    <tr>\n",
       "      <td>7818</td>\n",
       "      <td>NCT04502979</td>\n",
       "      <td>O2</td>\n",
       "      <td>26</td>\n",
       "      <td>26</td>\n",
       "    </tr>\n",
       "    <tr>\n",
       "      <td>7819</td>\n",
       "      <td>NCT04502979</td>\n",
       "      <td>O1</td>\n",
       "      <td>28</td>\n",
       "      <td>28</td>\n",
       "    </tr>\n",
       "    <tr>\n",
       "      <td>7820</td>\n",
       "      <td>NCT04555525</td>\n",
       "      <td>O2</td>\n",
       "      <td>25</td>\n",
       "      <td>25</td>\n",
       "    </tr>\n",
       "    <tr>\n",
       "      <td>7821</td>\n",
       "      <td>NCT04555525</td>\n",
       "      <td>O1</td>\n",
       "      <td>72</td>\n",
       "      <td>72</td>\n",
       "    </tr>\n",
       "  </tbody>\n",
       "</table>\n",
       "<p>7822 rows × 4 columns</p>\n",
       "</div>"
      ],
      "text/plain": [
       "        ct_nct_id ct_ctgov_group_code  ct_num_participants  ct_num_measures\n",
       "0     NCT00000392                  O2                   77               77\n",
       "1     NCT00000392                  O1                   66               66\n",
       "2     NCT00001262                  O3                    3                3\n",
       "3     NCT00001262                  O2                   22               22\n",
       "4     NCT00001262                  O1                   35               35\n",
       "...           ...                 ...                  ...              ...\n",
       "7817  NCT04406194                  O1                   29               29\n",
       "7818  NCT04502979                  O2                   26               26\n",
       "7819  NCT04502979                  O1                   28               28\n",
       "7820  NCT04555525                  O2                   25               25\n",
       "7821  NCT04555525                  O1                   72               72\n",
       "\n",
       "[7822 rows x 4 columns]"
      ]
     },
     "execution_count": 105,
     "metadata": {},
     "output_type": "execute_result"
    }
   ],
   "source": [
    "# extracting the outcome counts:\n",
    "res_dict = {}\n",
    "\n",
    "for nct_id in tqdm(ocoj_primary['oc_nct_id'].unique()):\n",
    "    #print(nct_id)\n",
    "    sub_df = ocoj_primary[ocoj_primary['oc_nct_id'] == nct_id]\n",
    "    for gcode in sub_df['oc_ctgov_group_code'].unique():\n",
    "        sub_df_gc = sub_df[sub_df['oc_ctgov_group_code'] == gcode]\n",
    "        type_units = sub_df_gc['oc_units'].unique()\n",
    "\n",
    "        if len(type_units) == 1:\n",
    "            num_participants = sub_df_gc['oc_count'].values[0]\n",
    "            num_measures = sub_df_gc['oc_count'].values[0]  # same as participants\n",
    "        elif len(type_units) == 2:\n",
    "            num_participants = sub_df_gc[sub_df_gc['oc_units'] == 'Participants']['oc_count'].values[0]\n",
    "            num_measures = sub_df_gc[sub_df_gc['oc_units'] != 'Participants']['oc_count'].values[0]\n",
    "\n",
    "        res_dict[(nct_id, gcode)] = {\n",
    "            'num_participants': num_participants,\n",
    "            'num_measures': num_measures,\n",
    "        }\n",
    "        \n",
    "df_counts = pd.DataFrame(res_dict).T\n",
    "df_counts.index.names = ['nct_id', 'ctgov_group_code']\n",
    "df_counts = df_counts.reset_index().add_prefix('ct_')\n",
    "df_counts"
   ]
  },
  {
   "cell_type": "code",
   "execution_count": 106,
   "metadata": {},
   "outputs": [],
   "source": [
    "df_selected_om_w_counts = df_selected_om.merge(df_counts,\n",
    "                                               how='inner',\n",
    "                                               left_on=['om_nct_id', 'om_ctgov_group_code'],\n",
    "                                               right_on=['ct_nct_id', 'ct_ctgov_group_code'])"
   ]
  },
  {
   "cell_type": "code",
   "execution_count": 107,
   "metadata": {},
   "outputs": [
    {
     "data": {
      "text/plain": [
       "(12497, 25)"
      ]
     },
     "execution_count": 107,
     "metadata": {},
     "output_type": "execute_result"
    }
   ],
   "source": [
    "df_selected_om_w_counts.shape"
   ]
  },
  {
   "cell_type": "code",
   "execution_count": 108,
   "metadata": {},
   "outputs": [
    {
     "data": {
      "text/plain": [
       "(36164, 7)"
      ]
     },
     "execution_count": 108,
     "metadata": {},
     "output_type": "execute_result"
    }
   ],
   "source": [
    "df_selected_bm.shape"
   ]
  },
  {
   "cell_type": "code",
   "execution_count": 109,
   "metadata": {},
   "outputs": [
    {
     "data": {
      "text/html": [
       "<div>\n",
       "<style scoped>\n",
       "    .dataframe tbody tr th:only-of-type {\n",
       "        vertical-align: middle;\n",
       "    }\n",
       "\n",
       "    .dataframe tbody tr th {\n",
       "        vertical-align: top;\n",
       "    }\n",
       "\n",
       "    .dataframe thead th {\n",
       "        text-align: right;\n",
       "    }\n",
       "</style>\n",
       "<table border=\"1\" class=\"dataframe\">\n",
       "  <thead>\n",
       "    <tr style=\"text-align: right;\">\n",
       "      <th></th>\n",
       "      <th>nct_id</th>\n",
       "      <th>result_group_id</th>\n",
       "      <th>title</th>\n",
       "      <th>ctgov_group_code</th>\n",
       "      <th>used_race</th>\n",
       "      <th>param_value_num</th>\n",
       "      <th>group_num</th>\n",
       "    </tr>\n",
       "  </thead>\n",
       "  <tbody>\n",
       "    <tr>\n",
       "      <td>138786</td>\n",
       "      <td>NCT00000392</td>\n",
       "      <td>18404733</td>\n",
       "      <td>Race/Ethnicity, Customized</td>\n",
       "      <td>B2</td>\n",
       "      <td>Black</td>\n",
       "      <td>5.0</td>\n",
       "      <td>2</td>\n",
       "    </tr>\n",
       "    <tr>\n",
       "      <td>138787</td>\n",
       "      <td>NCT00000392</td>\n",
       "      <td>18404733</td>\n",
       "      <td>Race/Ethnicity, Customized</td>\n",
       "      <td>B2</td>\n",
       "      <td>Hispanic</td>\n",
       "      <td>9.0</td>\n",
       "      <td>2</td>\n",
       "    </tr>\n",
       "    <tr>\n",
       "      <td>138788</td>\n",
       "      <td>NCT00000392</td>\n",
       "      <td>18404733</td>\n",
       "      <td>Race/Ethnicity, Customized</td>\n",
       "      <td>B2</td>\n",
       "      <td>White</td>\n",
       "      <td>94.0</td>\n",
       "      <td>2</td>\n",
       "    </tr>\n",
       "    <tr>\n",
       "      <td>138789</td>\n",
       "      <td>NCT00000392</td>\n",
       "      <td>18404734</td>\n",
       "      <td>Race/Ethnicity, Customized</td>\n",
       "      <td>B1</td>\n",
       "      <td>Black</td>\n",
       "      <td>5.0</td>\n",
       "      <td>1</td>\n",
       "    </tr>\n",
       "    <tr>\n",
       "      <td>138790</td>\n",
       "      <td>NCT00000392</td>\n",
       "      <td>18404734</td>\n",
       "      <td>Race/Ethnicity, Customized</td>\n",
       "      <td>B1</td>\n",
       "      <td>Hispanic</td>\n",
       "      <td>16.0</td>\n",
       "      <td>1</td>\n",
       "    </tr>\n",
       "  </tbody>\n",
       "</table>\n",
       "</div>"
      ],
      "text/plain": [
       "             nct_id  result_group_id                       title  \\\n",
       "138786  NCT00000392         18404733  Race/Ethnicity, Customized   \n",
       "138787  NCT00000392         18404733  Race/Ethnicity, Customized   \n",
       "138788  NCT00000392         18404733  Race/Ethnicity, Customized   \n",
       "138789  NCT00000392         18404734  Race/Ethnicity, Customized   \n",
       "138790  NCT00000392         18404734  Race/Ethnicity, Customized   \n",
       "\n",
       "       ctgov_group_code used_race  param_value_num  group_num  \n",
       "138786               B2     Black              5.0          2  \n",
       "138787               B2  Hispanic              9.0          2  \n",
       "138788               B2     White             94.0          2  \n",
       "138789               B1     Black              5.0          1  \n",
       "138790               B1  Hispanic             16.0          1  "
      ]
     },
     "execution_count": 109,
     "metadata": {},
     "output_type": "execute_result"
    }
   ],
   "source": [
    "df_selected_bm.head()"
   ]
  },
  {
   "cell_type": "code",
   "execution_count": 110,
   "metadata": {},
   "outputs": [],
   "source": [
    "df_selected_om_w_counts.to_pickle('om.p')\n",
    "df_selected_bm.to_pickle('bm.p')"
   ]
  },
  {
   "cell_type": "markdown",
   "metadata": {},
   "source": [
    "## Incorporate result group data into the output measurements "
   ]
  },
  {
   "cell_type": "code",
   "execution_count": 111,
   "metadata": {},
   "outputs": [],
   "source": [
    "sample_nct_id = 'NCT00000392'"
   ]
  },
  {
   "cell_type": "code",
   "execution_count": 112,
   "metadata": {},
   "outputs": [
    {
     "data": {
      "text/plain": [
       "(12497, 31)"
      ]
     },
     "execution_count": 112,
     "metadata": {},
     "output_type": "execute_result"
    }
   ],
   "source": [
    "# joining the result groups to dfom\n",
    "rg_omj = rg.reset_index().add_prefix(\"rgom_\")\n",
    "dfom_final_ij = df_selected_om_w_counts.merge(rg_omj,\n",
    "                                              how='inner',\n",
    "                                              left_on=['om_nct_id', 'om_result_group_id'],\n",
    "                                              right_on=['rgom_nct_id', 'rgom_id'])\n",
    "dfom_final_ij.shape"
   ]
  },
  {
   "cell_type": "code",
   "execution_count": 113,
   "metadata": {},
   "outputs": [
    {
     "data": {
      "text/html": [
       "<div>\n",
       "<style scoped>\n",
       "    .dataframe tbody tr th:only-of-type {\n",
       "        vertical-align: middle;\n",
       "    }\n",
       "\n",
       "    .dataframe tbody tr th {\n",
       "        vertical-align: top;\n",
       "    }\n",
       "\n",
       "    .dataframe thead th {\n",
       "        text-align: right;\n",
       "    }\n",
       "</style>\n",
       "<table border=\"1\" class=\"dataframe\">\n",
       "  <thead>\n",
       "    <tr style=\"text-align: right;\">\n",
       "      <th></th>\n",
       "      <th>0</th>\n",
       "      <th>1</th>\n",
       "    </tr>\n",
       "  </thead>\n",
       "  <tbody>\n",
       "    <tr>\n",
       "      <td>om_nct_id</td>\n",
       "      <td>NCT00000392</td>\n",
       "      <td>NCT00000392</td>\n",
       "    </tr>\n",
       "    <tr>\n",
       "      <td>om_result_group_id</td>\n",
       "      <td>18404739</td>\n",
       "      <td>18404740</td>\n",
       "    </tr>\n",
       "    <tr>\n",
       "      <td>om_outcome_id</td>\n",
       "      <td>5589202</td>\n",
       "      <td>5589202</td>\n",
       "    </tr>\n",
       "    <tr>\n",
       "      <td>om_id</td>\n",
       "      <td>42917899</td>\n",
       "      <td>42917900</td>\n",
       "    </tr>\n",
       "    <tr>\n",
       "      <td>om_ctgov_group_code</td>\n",
       "      <td>O2</td>\n",
       "      <td>O1</td>\n",
       "    </tr>\n",
       "    <tr>\n",
       "      <td>om_classification</td>\n",
       "      <td></td>\n",
       "      <td></td>\n",
       "    </tr>\n",
       "    <tr>\n",
       "      <td>om_category</td>\n",
       "      <td></td>\n",
       "      <td></td>\n",
       "    </tr>\n",
       "    <tr>\n",
       "      <td>om_title</td>\n",
       "      <td>Change in Global Neurocognitive Performance z ...</td>\n",
       "      <td>Change in Global Neurocognitive Performance z ...</td>\n",
       "    </tr>\n",
       "    <tr>\n",
       "      <td>om_description</td>\n",
       "      <td>Higher values for change in z-score represent ...</td>\n",
       "      <td>Higher values for change in z-score represent ...</td>\n",
       "    </tr>\n",
       "    <tr>\n",
       "      <td>om_units</td>\n",
       "      <td>z score</td>\n",
       "      <td>z score</td>\n",
       "    </tr>\n",
       "    <tr>\n",
       "      <td>om_param_type</td>\n",
       "      <td>Mean</td>\n",
       "      <td>Mean</td>\n",
       "    </tr>\n",
       "    <tr>\n",
       "      <td>om_param_value</td>\n",
       "      <td>0.16</td>\n",
       "      <td>0.24</td>\n",
       "    </tr>\n",
       "    <tr>\n",
       "      <td>om_param_value_num</td>\n",
       "      <td>0.16</td>\n",
       "      <td>0.24</td>\n",
       "    </tr>\n",
       "    <tr>\n",
       "      <td>om_dispersion_type</td>\n",
       "      <td>Standard Error</td>\n",
       "      <td>Standard Error</td>\n",
       "    </tr>\n",
       "    <tr>\n",
       "      <td>om_dispersion_value</td>\n",
       "      <td>0.03</td>\n",
       "      <td>0.05</td>\n",
       "    </tr>\n",
       "    <tr>\n",
       "      <td>om_dispersion_value_num</td>\n",
       "      <td>0.03</td>\n",
       "      <td>0.05</td>\n",
       "    </tr>\n",
       "    <tr>\n",
       "      <td>om_dispersion_lower_limit</td>\n",
       "      <td>NaN</td>\n",
       "      <td>NaN</td>\n",
       "    </tr>\n",
       "    <tr>\n",
       "      <td>om_dispersion_upper_limit</td>\n",
       "      <td>NaN</td>\n",
       "      <td>NaN</td>\n",
       "    </tr>\n",
       "    <tr>\n",
       "      <td>om_explanation_of_na</td>\n",
       "      <td></td>\n",
       "      <td></td>\n",
       "    </tr>\n",
       "    <tr>\n",
       "      <td>isprim</td>\n",
       "      <td>Primary</td>\n",
       "      <td>Primary</td>\n",
       "    </tr>\n",
       "    <tr>\n",
       "      <td>group_num</td>\n",
       "      <td>2</td>\n",
       "      <td>1</td>\n",
       "    </tr>\n",
       "    <tr>\n",
       "      <td>ct_nct_id</td>\n",
       "      <td>NCT00000392</td>\n",
       "      <td>NCT00000392</td>\n",
       "    </tr>\n",
       "    <tr>\n",
       "      <td>ct_ctgov_group_code</td>\n",
       "      <td>O2</td>\n",
       "      <td>O1</td>\n",
       "    </tr>\n",
       "    <tr>\n",
       "      <td>ct_num_participants</td>\n",
       "      <td>77</td>\n",
       "      <td>66</td>\n",
       "    </tr>\n",
       "    <tr>\n",
       "      <td>ct_num_measures</td>\n",
       "      <td>77</td>\n",
       "      <td>66</td>\n",
       "    </tr>\n",
       "    <tr>\n",
       "      <td>rgom_nct_id</td>\n",
       "      <td>NCT00000392</td>\n",
       "      <td>NCT00000392</td>\n",
       "    </tr>\n",
       "    <tr>\n",
       "      <td>rgom_id</td>\n",
       "      <td>18404739</td>\n",
       "      <td>18404740</td>\n",
       "    </tr>\n",
       "    <tr>\n",
       "      <td>rgom_ctgov_group_code</td>\n",
       "      <td>O2</td>\n",
       "      <td>O1</td>\n",
       "    </tr>\n",
       "    <tr>\n",
       "      <td>rgom_result_type</td>\n",
       "      <td>Outcome</td>\n",
       "      <td>Outcome</td>\n",
       "    </tr>\n",
       "    <tr>\n",
       "      <td>rgom_title</td>\n",
       "      <td>Placebo</td>\n",
       "      <td>Peptide T</td>\n",
       "    </tr>\n",
       "    <tr>\n",
       "      <td>rgom_description</td>\n",
       "      <td>Placebo given intranasally at a dosage of 2mg ...</td>\n",
       "      <td>Peptide T given intranasally at a dosage of 2m...</td>\n",
       "    </tr>\n",
       "  </tbody>\n",
       "</table>\n",
       "</div>"
      ],
      "text/plain": [
       "                                                                           0  \\\n",
       "om_nct_id                                                        NCT00000392   \n",
       "om_result_group_id                                                  18404739   \n",
       "om_outcome_id                                                        5589202   \n",
       "om_id                                                               42917899   \n",
       "om_ctgov_group_code                                                       O2   \n",
       "om_classification                                                              \n",
       "om_category                                                                    \n",
       "om_title                   Change in Global Neurocognitive Performance z ...   \n",
       "om_description             Higher values for change in z-score represent ...   \n",
       "om_units                                                             z score   \n",
       "om_param_type                                                           Mean   \n",
       "om_param_value                                                          0.16   \n",
       "om_param_value_num                                                      0.16   \n",
       "om_dispersion_type                                            Standard Error   \n",
       "om_dispersion_value                                                     0.03   \n",
       "om_dispersion_value_num                                                 0.03   \n",
       "om_dispersion_lower_limit                                                NaN   \n",
       "om_dispersion_upper_limit                                                NaN   \n",
       "om_explanation_of_na                                                           \n",
       "isprim                                                               Primary   \n",
       "group_num                                                                  2   \n",
       "ct_nct_id                                                        NCT00000392   \n",
       "ct_ctgov_group_code                                                       O2   \n",
       "ct_num_participants                                                       77   \n",
       "ct_num_measures                                                           77   \n",
       "rgom_nct_id                                                      NCT00000392   \n",
       "rgom_id                                                             18404739   \n",
       "rgom_ctgov_group_code                                                     O2   \n",
       "rgom_result_type                                                     Outcome   \n",
       "rgom_title                                                           Placebo   \n",
       "rgom_description           Placebo given intranasally at a dosage of 2mg ...   \n",
       "\n",
       "                                                                           1  \n",
       "om_nct_id                                                        NCT00000392  \n",
       "om_result_group_id                                                  18404740  \n",
       "om_outcome_id                                                        5589202  \n",
       "om_id                                                               42917900  \n",
       "om_ctgov_group_code                                                       O1  \n",
       "om_classification                                                             \n",
       "om_category                                                                   \n",
       "om_title                   Change in Global Neurocognitive Performance z ...  \n",
       "om_description             Higher values for change in z-score represent ...  \n",
       "om_units                                                             z score  \n",
       "om_param_type                                                           Mean  \n",
       "om_param_value                                                          0.24  \n",
       "om_param_value_num                                                      0.24  \n",
       "om_dispersion_type                                            Standard Error  \n",
       "om_dispersion_value                                                     0.05  \n",
       "om_dispersion_value_num                                                 0.05  \n",
       "om_dispersion_lower_limit                                                NaN  \n",
       "om_dispersion_upper_limit                                                NaN  \n",
       "om_explanation_of_na                                                          \n",
       "isprim                                                               Primary  \n",
       "group_num                                                                  1  \n",
       "ct_nct_id                                                        NCT00000392  \n",
       "ct_ctgov_group_code                                                       O1  \n",
       "ct_num_participants                                                       66  \n",
       "ct_num_measures                                                           66  \n",
       "rgom_nct_id                                                      NCT00000392  \n",
       "rgom_id                                                             18404740  \n",
       "rgom_ctgov_group_code                                                     O1  \n",
       "rgom_result_type                                                     Outcome  \n",
       "rgom_title                                                         Peptide T  \n",
       "rgom_description           Peptide T given intranasally at a dosage of 2m...  "
      ]
     },
     "execution_count": 113,
     "metadata": {},
     "output_type": "execute_result"
    }
   ],
   "source": [
    "dfom_final_ij[dfom_final_ij['om_nct_id'] == sample_nct_id].T"
   ]
  },
  {
   "cell_type": "code",
   "execution_count": 114,
   "metadata": {},
   "outputs": [
    {
     "data": {
      "text/plain": [
       "(36164, 13)"
      ]
     },
     "execution_count": 114,
     "metadata": {},
     "output_type": "execute_result"
    }
   ],
   "source": [
    "# joining the result groups to dfbm\n",
    "rg_bmj = rg.reset_index().add_prefix(\"rgbm_\")\n",
    "dfbm_final_ij = df_selected_bm.merge(rg_bmj,\n",
    "                                     how='inner',\n",
    "                                     left_on=['nct_id', 'result_group_id'],\n",
    "                                     right_on=['rgbm_nct_id', 'rgbm_id'])\n",
    "dfbm_final_ij.shape"
   ]
  },
  {
   "cell_type": "code",
   "execution_count": 115,
   "metadata": {},
   "outputs": [
    {
     "data": {
      "text/html": [
       "<div>\n",
       "<style scoped>\n",
       "    .dataframe tbody tr th:only-of-type {\n",
       "        vertical-align: middle;\n",
       "    }\n",
       "\n",
       "    .dataframe tbody tr th {\n",
       "        vertical-align: top;\n",
       "    }\n",
       "\n",
       "    .dataframe thead th {\n",
       "        text-align: right;\n",
       "    }\n",
       "</style>\n",
       "<table border=\"1\" class=\"dataframe\">\n",
       "  <thead>\n",
       "    <tr style=\"text-align: right;\">\n",
       "      <th></th>\n",
       "      <th>0</th>\n",
       "      <th>1</th>\n",
       "      <th>2</th>\n",
       "      <th>3</th>\n",
       "      <th>4</th>\n",
       "      <th>5</th>\n",
       "    </tr>\n",
       "  </thead>\n",
       "  <tbody>\n",
       "    <tr>\n",
       "      <td>nct_id</td>\n",
       "      <td>NCT00000392</td>\n",
       "      <td>NCT00000392</td>\n",
       "      <td>NCT00000392</td>\n",
       "      <td>NCT00000392</td>\n",
       "      <td>NCT00000392</td>\n",
       "      <td>NCT00000392</td>\n",
       "    </tr>\n",
       "    <tr>\n",
       "      <td>result_group_id</td>\n",
       "      <td>18404733</td>\n",
       "      <td>18404733</td>\n",
       "      <td>18404733</td>\n",
       "      <td>18404734</td>\n",
       "      <td>18404734</td>\n",
       "      <td>18404734</td>\n",
       "    </tr>\n",
       "    <tr>\n",
       "      <td>title</td>\n",
       "      <td>Race/Ethnicity, Customized</td>\n",
       "      <td>Race/Ethnicity, Customized</td>\n",
       "      <td>Race/Ethnicity, Customized</td>\n",
       "      <td>Race/Ethnicity, Customized</td>\n",
       "      <td>Race/Ethnicity, Customized</td>\n",
       "      <td>Race/Ethnicity, Customized</td>\n",
       "    </tr>\n",
       "    <tr>\n",
       "      <td>ctgov_group_code</td>\n",
       "      <td>B2</td>\n",
       "      <td>B2</td>\n",
       "      <td>B2</td>\n",
       "      <td>B1</td>\n",
       "      <td>B1</td>\n",
       "      <td>B1</td>\n",
       "    </tr>\n",
       "    <tr>\n",
       "      <td>used_race</td>\n",
       "      <td>Black</td>\n",
       "      <td>Hispanic</td>\n",
       "      <td>White</td>\n",
       "      <td>Black</td>\n",
       "      <td>Hispanic</td>\n",
       "      <td>White</td>\n",
       "    </tr>\n",
       "    <tr>\n",
       "      <td>param_value_num</td>\n",
       "      <td>5</td>\n",
       "      <td>9</td>\n",
       "      <td>94</td>\n",
       "      <td>5</td>\n",
       "      <td>16</td>\n",
       "      <td>83</td>\n",
       "    </tr>\n",
       "    <tr>\n",
       "      <td>group_num</td>\n",
       "      <td>2</td>\n",
       "      <td>2</td>\n",
       "      <td>2</td>\n",
       "      <td>1</td>\n",
       "      <td>1</td>\n",
       "      <td>1</td>\n",
       "    </tr>\n",
       "    <tr>\n",
       "      <td>rgbm_nct_id</td>\n",
       "      <td>NCT00000392</td>\n",
       "      <td>NCT00000392</td>\n",
       "      <td>NCT00000392</td>\n",
       "      <td>NCT00000392</td>\n",
       "      <td>NCT00000392</td>\n",
       "      <td>NCT00000392</td>\n",
       "    </tr>\n",
       "    <tr>\n",
       "      <td>rgbm_id</td>\n",
       "      <td>18404733</td>\n",
       "      <td>18404733</td>\n",
       "      <td>18404733</td>\n",
       "      <td>18404734</td>\n",
       "      <td>18404734</td>\n",
       "      <td>18404734</td>\n",
       "    </tr>\n",
       "    <tr>\n",
       "      <td>rgbm_ctgov_group_code</td>\n",
       "      <td>B2</td>\n",
       "      <td>B2</td>\n",
       "      <td>B2</td>\n",
       "      <td>B1</td>\n",
       "      <td>B1</td>\n",
       "      <td>B1</td>\n",
       "    </tr>\n",
       "    <tr>\n",
       "      <td>rgbm_result_type</td>\n",
       "      <td>Baseline</td>\n",
       "      <td>Baseline</td>\n",
       "      <td>Baseline</td>\n",
       "      <td>Baseline</td>\n",
       "      <td>Baseline</td>\n",
       "      <td>Baseline</td>\n",
       "    </tr>\n",
       "    <tr>\n",
       "      <td>rgbm_title</td>\n",
       "      <td>Placebo</td>\n",
       "      <td>Placebo</td>\n",
       "      <td>Placebo</td>\n",
       "      <td>Peptide T</td>\n",
       "      <td>Peptide T</td>\n",
       "      <td>Peptide T</td>\n",
       "    </tr>\n",
       "    <tr>\n",
       "      <td>rgbm_description</td>\n",
       "      <td>Placebo given intranasally at a dosage of 2mg ...</td>\n",
       "      <td>Placebo given intranasally at a dosage of 2mg ...</td>\n",
       "      <td>Placebo given intranasally at a dosage of 2mg ...</td>\n",
       "      <td>Peptide T given intranasally at a dosage of 2m...</td>\n",
       "      <td>Peptide T given intranasally at a dosage of 2m...</td>\n",
       "      <td>Peptide T given intranasally at a dosage of 2m...</td>\n",
       "    </tr>\n",
       "  </tbody>\n",
       "</table>\n",
       "</div>"
      ],
      "text/plain": [
       "                                                                       0  \\\n",
       "nct_id                                                       NCT00000392   \n",
       "result_group_id                                                 18404733   \n",
       "title                                         Race/Ethnicity, Customized   \n",
       "ctgov_group_code                                                      B2   \n",
       "used_race                                                          Black   \n",
       "param_value_num                                                        5   \n",
       "group_num                                                              2   \n",
       "rgbm_nct_id                                                  NCT00000392   \n",
       "rgbm_id                                                         18404733   \n",
       "rgbm_ctgov_group_code                                                 B2   \n",
       "rgbm_result_type                                                Baseline   \n",
       "rgbm_title                                                       Placebo   \n",
       "rgbm_description       Placebo given intranasally at a dosage of 2mg ...   \n",
       "\n",
       "                                                                       1  \\\n",
       "nct_id                                                       NCT00000392   \n",
       "result_group_id                                                 18404733   \n",
       "title                                         Race/Ethnicity, Customized   \n",
       "ctgov_group_code                                                      B2   \n",
       "used_race                                                       Hispanic   \n",
       "param_value_num                                                        9   \n",
       "group_num                                                              2   \n",
       "rgbm_nct_id                                                  NCT00000392   \n",
       "rgbm_id                                                         18404733   \n",
       "rgbm_ctgov_group_code                                                 B2   \n",
       "rgbm_result_type                                                Baseline   \n",
       "rgbm_title                                                       Placebo   \n",
       "rgbm_description       Placebo given intranasally at a dosage of 2mg ...   \n",
       "\n",
       "                                                                       2  \\\n",
       "nct_id                                                       NCT00000392   \n",
       "result_group_id                                                 18404733   \n",
       "title                                         Race/Ethnicity, Customized   \n",
       "ctgov_group_code                                                      B2   \n",
       "used_race                                                          White   \n",
       "param_value_num                                                       94   \n",
       "group_num                                                              2   \n",
       "rgbm_nct_id                                                  NCT00000392   \n",
       "rgbm_id                                                         18404733   \n",
       "rgbm_ctgov_group_code                                                 B2   \n",
       "rgbm_result_type                                                Baseline   \n",
       "rgbm_title                                                       Placebo   \n",
       "rgbm_description       Placebo given intranasally at a dosage of 2mg ...   \n",
       "\n",
       "                                                                       3  \\\n",
       "nct_id                                                       NCT00000392   \n",
       "result_group_id                                                 18404734   \n",
       "title                                         Race/Ethnicity, Customized   \n",
       "ctgov_group_code                                                      B1   \n",
       "used_race                                                          Black   \n",
       "param_value_num                                                        5   \n",
       "group_num                                                              1   \n",
       "rgbm_nct_id                                                  NCT00000392   \n",
       "rgbm_id                                                         18404734   \n",
       "rgbm_ctgov_group_code                                                 B1   \n",
       "rgbm_result_type                                                Baseline   \n",
       "rgbm_title                                                     Peptide T   \n",
       "rgbm_description       Peptide T given intranasally at a dosage of 2m...   \n",
       "\n",
       "                                                                       4  \\\n",
       "nct_id                                                       NCT00000392   \n",
       "result_group_id                                                 18404734   \n",
       "title                                         Race/Ethnicity, Customized   \n",
       "ctgov_group_code                                                      B1   \n",
       "used_race                                                       Hispanic   \n",
       "param_value_num                                                       16   \n",
       "group_num                                                              1   \n",
       "rgbm_nct_id                                                  NCT00000392   \n",
       "rgbm_id                                                         18404734   \n",
       "rgbm_ctgov_group_code                                                 B1   \n",
       "rgbm_result_type                                                Baseline   \n",
       "rgbm_title                                                     Peptide T   \n",
       "rgbm_description       Peptide T given intranasally at a dosage of 2m...   \n",
       "\n",
       "                                                                       5  \n",
       "nct_id                                                       NCT00000392  \n",
       "result_group_id                                                 18404734  \n",
       "title                                         Race/Ethnicity, Customized  \n",
       "ctgov_group_code                                                      B1  \n",
       "used_race                                                          White  \n",
       "param_value_num                                                       83  \n",
       "group_num                                                              1  \n",
       "rgbm_nct_id                                                  NCT00000392  \n",
       "rgbm_id                                                         18404734  \n",
       "rgbm_ctgov_group_code                                                 B1  \n",
       "rgbm_result_type                                                Baseline  \n",
       "rgbm_title                                                     Peptide T  \n",
       "rgbm_description       Peptide T given intranasally at a dosage of 2m...  "
      ]
     },
     "execution_count": 115,
     "metadata": {},
     "output_type": "execute_result"
    }
   ],
   "source": [
    "dfbm_final_ij[dfbm_final_ij['nct_id'] == sample_nct_id].T"
   ]
  },
  {
   "cell_type": "code",
   "execution_count": 116,
   "metadata": {},
   "outputs": [],
   "source": [
    "# saving pickles\n",
    "dfbm_final_ij.to_pickle('final_bm.p')\n",
    "dfom_final_ij.to_pickle('final_om.p')"
   ]
  },
  {
   "cell_type": "markdown",
   "metadata": {},
   "source": [
    "# 7. Compute imbalance and effect from the data\n",
    "\n",
    "**Imbalance:**\n",
    "\n",
    "Let $a_1, a_2, ..., a_n$ be % of the participants by race in group 1\n",
    "\n",
    "Let $b_1, b_2, ..., b_n$ be % of the participants by race in group 2\n",
    "\n",
    "Where n is the number of race classes in the study.\n",
    "\n",
    "Define imbalance as: \n",
    "\n",
    "$ \\sqrt{ \\Sigma_{i=1}^{n} (a_i - b_i) ^ 2 }$\n",
    "\n",
    "Can see in the extreme cases:\n",
    "\n",
    "1) if $a_i = b_i, \\forall i$ Then the imbalance measure = 0\n",
    "\n",
    "2) if fully disjoint, i.e. $a_i = 0 \\text{ or } b_i = 0 , \\forall i$, then imbalance measure = 1"
   ]
  },
  {
   "cell_type": "markdown",
   "metadata": {},
   "source": [
    "**Effect:**\n",
    "\n",
    "$$ \\left\\lvert \\frac{\\text{Mean Outcome in Arm 1 − Mean Outcome in Arm 2}}{\\text{Standard Error of Outcomes}} \\right\\rvert $$\n",
    "\n",
    "Where denominator: Standard Error of Outcomes is estimated as Follows:\n",
    "\n",
    "Let $n_1, n_2$ be reported number of measurements in group 1 and 2 respectively\n",
    "\n",
    "Let $\\sigma_1, \\sigma_2$ be the reported standard deviation of the measurements in group 1 and 2 respectively\n",
    "\n",
    "Estimated Standard Error of Outcomes = \n",
    "$$\\sqrt{\\frac{n_1 \\sigma_1^2 + n_2 \\sigma_2^2}{n_1 + n_2}}$$"
   ]
  },
  {
   "cell_type": "code",
   "execution_count": 117,
   "metadata": {
    "scrolled": false
   },
   "outputs": [
    {
     "data": {
      "application/vnd.jupyter.widget-view+json": {
       "model_id": "0f29fb2c48584dfaa90e7028a5e578a6",
       "version_major": 2,
       "version_minor": 0
      },
      "text/plain": [
       "HBox(children=(IntProgress(value=0, max=3099), HTML(value='')))"
      ]
     },
     "metadata": {},
     "output_type": "display_data"
    },
    {
     "name": "stderr",
     "output_type": "stream",
     "text": [
      "/home/rmfeng/miniconda3/envs/capstone/lib/python3.6/site-packages/ipykernel_launcher.py:26: RuntimeWarning: invalid value encountered in double_scalars\n",
      "/home/rmfeng/miniconda3/envs/capstone/lib/python3.6/site-packages/ipykernel_launcher.py:28: RuntimeWarning: invalid value encountered in double_scalars\n"
     ]
    },
    {
     "name": "stdout",
     "output_type": "stream",
     "text": [
      "\n"
     ]
    },
    {
     "data": {
      "text/html": [
       "<div>\n",
       "<style scoped>\n",
       "    .dataframe tbody tr th:only-of-type {\n",
       "        vertical-align: middle;\n",
       "    }\n",
       "\n",
       "    .dataframe tbody tr th {\n",
       "        vertical-align: top;\n",
       "    }\n",
       "\n",
       "    .dataframe thead th {\n",
       "        text-align: right;\n",
       "    }\n",
       "</style>\n",
       "<table border=\"1\" class=\"dataframe\">\n",
       "  <thead>\n",
       "    <tr style=\"text-align: right;\">\n",
       "      <th></th>\n",
       "      <th>effect</th>\n",
       "      <th>g1_mean</th>\n",
       "      <th>g2_mean</th>\n",
       "      <th>g1_sd_sample</th>\n",
       "      <th>g2_sd_sample</th>\n",
       "      <th>imbal</th>\n",
       "      <th>ngrps</th>\n",
       "      <th>g1t</th>\n",
       "      <th>g2t</th>\n",
       "      <th>g1counts</th>\n",
       "      <th>g2counts</th>\n",
       "      <th>grouplabels</th>\n",
       "    </tr>\n",
       "  </thead>\n",
       "  <tbody>\n",
       "    <tr>\n",
       "      <td>NCT00000392</td>\n",
       "      <td>0.237493</td>\n",
       "      <td>77</td>\n",
       "      <td>66</td>\n",
       "      <td>0.263249</td>\n",
       "      <td>0.406202</td>\n",
       "      <td>0.101003</td>\n",
       "      <td>3</td>\n",
       "      <td>104</td>\n",
       "      <td>108</td>\n",
       "      <td>[5.0, 16.0, 83.0]</td>\n",
       "      <td>[5.0, 9.0, 94.0]</td>\n",
       "      <td>[Black, Hispanic, White]</td>\n",
       "    </tr>\n",
       "    <tr>\n",
       "      <td>NCT00001262</td>\n",
       "      <td>1.30894</td>\n",
       "      <td>22</td>\n",
       "      <td>35</td>\n",
       "      <td>2.943</td>\n",
       "      <td>12.034</td>\n",
       "      <td>0.323374</td>\n",
       "      <td>7</td>\n",
       "      <td>35</td>\n",
       "      <td>22</td>\n",
       "      <td>[0.0, 0.0, 9.0, 1.0, 0.0, 3.0, 22.0]</td>\n",
       "      <td>[0.0, 1.0, 1.0, 0.0, 0.0, 1.0, 19.0]</td>\n",
       "      <td>[American Indian or Alaska Native, Asian, Blac...</td>\n",
       "    </tr>\n",
       "    <tr>\n",
       "      <td>NCT00001304</td>\n",
       "      <td>5.94392</td>\n",
       "      <td>14</td>\n",
       "      <td>13</td>\n",
       "      <td>0.27</td>\n",
       "      <td>0.51</td>\n",
       "      <td>0.101015</td>\n",
       "      <td>7</td>\n",
       "      <td>13</td>\n",
       "      <td>14</td>\n",
       "      <td>[0.0, 0.0, 0.0, 0.0, 0.0, 0.0, 13.0]</td>\n",
       "      <td>[0.0, 0.0, 0.0, 0.0, 0.0, 1.0, 13.0]</td>\n",
       "      <td>[American Indian or Alaska Native, Asian, Blac...</td>\n",
       "    </tr>\n",
       "    <tr>\n",
       "      <td>NCT00002651</td>\n",
       "      <td>0.110639</td>\n",
       "      <td>465</td>\n",
       "      <td>446</td>\n",
       "      <td>17.4322</td>\n",
       "      <td>15.556</td>\n",
       "      <td>0.0190241</td>\n",
       "      <td>7</td>\n",
       "      <td>765</td>\n",
       "      <td>770</td>\n",
       "      <td>[2.0, 5.0, 93.0, 2.0, 2.0, 154.0, 507.0]</td>\n",
       "      <td>[4.0, 8.0, 94.0, 1.0, 0.0, 144.0, 519.0]</td>\n",
       "      <td>[American Indian or Alaska Native, Asian, Blac...</td>\n",
       "    </tr>\n",
       "    <tr>\n",
       "      <td>NCT00004732</td>\n",
       "      <td>0.0141359</td>\n",
       "      <td>1240</td>\n",
       "      <td>1262</td>\n",
       "      <td>28.1709</td>\n",
       "      <td>28.4197</td>\n",
       "      <td>0.00970629</td>\n",
       "      <td>3</td>\n",
       "      <td>1262</td>\n",
       "      <td>1240</td>\n",
       "      <td>[81.0, 9.0, 1172.0]</td>\n",
       "      <td>[71.0, 9.0, 1160.0]</td>\n",
       "      <td>[Non-White, Not Specified, White]</td>\n",
       "    </tr>\n",
       "  </tbody>\n",
       "</table>\n",
       "</div>"
      ],
      "text/plain": [
       "                effect g1_mean g2_mean g1_sd_sample g2_sd_sample       imbal  \\\n",
       "NCT00000392   0.237493      77      66     0.263249     0.406202    0.101003   \n",
       "NCT00001262    1.30894      22      35        2.943       12.034    0.323374   \n",
       "NCT00001304    5.94392      14      13         0.27         0.51    0.101015   \n",
       "NCT00002651   0.110639     465     446      17.4322       15.556   0.0190241   \n",
       "NCT00004732  0.0141359    1240    1262      28.1709      28.4197  0.00970629   \n",
       "\n",
       "            ngrps   g1t   g2t                                  g1counts  \\\n",
       "NCT00000392     3   104   108                         [5.0, 16.0, 83.0]   \n",
       "NCT00001262     7    35    22      [0.0, 0.0, 9.0, 1.0, 0.0, 3.0, 22.0]   \n",
       "NCT00001304     7    13    14      [0.0, 0.0, 0.0, 0.0, 0.0, 0.0, 13.0]   \n",
       "NCT00002651     7   765   770  [2.0, 5.0, 93.0, 2.0, 2.0, 154.0, 507.0]   \n",
       "NCT00004732     3  1262  1240                       [81.0, 9.0, 1172.0]   \n",
       "\n",
       "                                             g2counts  \\\n",
       "NCT00000392                          [5.0, 9.0, 94.0]   \n",
       "NCT00001262      [0.0, 1.0, 1.0, 0.0, 0.0, 1.0, 19.0]   \n",
       "NCT00001304      [0.0, 0.0, 0.0, 0.0, 0.0, 1.0, 13.0]   \n",
       "NCT00002651  [4.0, 8.0, 94.0, 1.0, 0.0, 144.0, 519.0]   \n",
       "NCT00004732                       [71.0, 9.0, 1160.0]   \n",
       "\n",
       "                                                   grouplabels  \n",
       "NCT00000392                           [Black, Hispanic, White]  \n",
       "NCT00001262  [American Indian or Alaska Native, Asian, Blac...  \n",
       "NCT00001304  [American Indian or Alaska Native, Asian, Blac...  \n",
       "NCT00002651  [American Indian or Alaska Native, Asian, Blac...  \n",
       "NCT00004732                  [Non-White, Not Specified, White]  "
      ]
     },
     "execution_count": 117,
     "metadata": {},
     "output_type": "execute_result"
    }
   ],
   "source": [
    "# loop to compute all effects and imbalances\n",
    "all_res = {}  # storing final results\n",
    "\n",
    "for nct_id in tqdm(dfom_final_ij['om_nct_id'].unique()):\n",
    "    all_res[nct_id] = {}  # inner dict for storage\n",
    "    sub_om = dfom_final_ij[dfom_final_ij['om_nct_id'] == nct_id]\n",
    "    sub_bm = dfbm_final_ij[dfbm_final_ij['nct_id'] == nct_id]\n",
    "    \n",
    "    # difference in mean\n",
    "    abs_mean_diff = np.abs(sub_om['om_param_value_num'].values[0] - sub_om['om_param_value_num'].values[1])\n",
    "    \n",
    "    # standard error estimate\n",
    "    sd_type1 = sub_om['om_dispersion_type'].values[0]\n",
    "    sd_type2 = sub_om['om_dispersion_type'].values[1]\n",
    "    num_m1 = sub_om['ct_num_measures'].values[0]\n",
    "    num_m2 = sub_om['ct_num_measures'].values[1]\n",
    "    sd_1 = sub_om['om_dispersion_value_num'].values[0]\n",
    "    sd_2 = sub_om['om_dispersion_value_num'].values[1]\n",
    "    \n",
    "    # if the type is Standard Error, then we need to scale it by the sqrt of the count, since it has been adjusted\n",
    "    if sd_type1 == 'Standard Error':\n",
    "        sd_1 = sd_1 * np.sqrt(num_m1)\n",
    "    if sd_type2 == 'Standard Error':\n",
    "        sd_2 = sd_2 * np.sqrt(num_m2)\n",
    "    \n",
    "    sd_est = np.sqrt((num_m1 * sd_1 ** 2 + num_m2 * sd_2 **2) / (num_m1 + num_m2))\n",
    "    \n",
    "    effect = abs_mean_diff / sd_est\n",
    "    all_res[nct_id]['effect'] = effect\n",
    "    \n",
    "    # details\n",
    "    all_res[nct_id]['g1_mean'] = num_m1\n",
    "    all_res[nct_id]['g2_mean'] = num_m2\n",
    "    all_res[nct_id]['g1_sd_sample'] = sd_1\n",
    "    all_res[nct_id]['g2_sd_sample'] = sd_2\n",
    "    \n",
    "    \n",
    "    # imbalance\n",
    "    bm_g_sums = sub_bm.groupby(['ctgov_group_code', 'used_race'])[['param_value_num']].sum().reset_index()\n",
    "    dfp = bm_g_sums.pivot(columns='used_race', index='ctgov_group_code', values='param_value_num')\n",
    "    \n",
    "    if dfp.shape[0] > 2:\n",
    "        break\n",
    "    \n",
    "    dfp.index = ['g1', 'g2']  # rename to standardize the indices\n",
    "    \n",
    "    dfpct = dfp.T / dfp.sum(axis=1)\n",
    "    dfpct['abs_diff'] = np.abs(dfpct['g1'] - dfpct['g2'])\n",
    "    imbal = np.sqrt((dfpct['abs_diff'] ** 2).sum())\n",
    "    all_res[nct_id]['imbal'] = imbal\n",
    "        \n",
    "    # number of groups\n",
    "    all_res[nct_id]['ngrps'] = sub_bm.shape[0] / 2\n",
    "    \n",
    "    # other details\n",
    "    all_res[nct_id]['g1t'] = dfp.T['g1'].sum()\n",
    "    all_res[nct_id]['g2t'] = dfp.T['g2'].sum()\n",
    "    all_res[nct_id]['g1counts'] = dfp.T['g1'].values\n",
    "    all_res[nct_id]['g2counts'] = dfp.T['g2'].values\n",
    "    all_res[nct_id]['grouplabels'] = list(dfp.T.index)\n",
    "    \n",
    "    \n",
    "df_res = pd.DataFrame(all_res).T.dropna()\n",
    "df_res.head()"
   ]
  },
  {
   "cell_type": "code",
   "execution_count": 118,
   "metadata": {},
   "outputs": [
    {
     "data": {
      "text/plain": [
       "(3071, 12)"
      ]
     },
     "execution_count": 118,
     "metadata": {},
     "output_type": "execute_result"
    }
   ],
   "source": [
    "# lost 1 record due to Nan in the numerical values\n",
    "df_res.shape"
   ]
  },
  {
   "cell_type": "code",
   "execution_count": 119,
   "metadata": {},
   "outputs": [
    {
     "data": {
      "text/plain": [
       "(3071, 2972)"
      ]
     },
     "execution_count": 119,
     "metadata": {},
     "output_type": "execute_result"
    }
   ],
   "source": [
    "df_res_mult_grps = df_res[df_res['ngrps'] > 1].copy()\n",
    "df_res.shape[0], df_res_mult_grps.shape[0]"
   ]
  },
  {
   "cell_type": "code",
   "execution_count": 120,
   "metadata": {},
   "outputs": [],
   "source": [
    "# casting ...\n",
    "df_res_mult_grps['effect'] = df_res_mult_grps['effect'].astype(float)\n",
    "df_res_mult_grps['g1_mean'] = df_res_mult_grps['g1_mean'].astype(float)\n",
    "df_res_mult_grps['g2_mean'] = df_res_mult_grps['g2_mean'].astype(float)\n",
    "df_res_mult_grps['g1_sd_sample'] = df_res_mult_grps['g1_sd_sample'].astype(float)\n",
    "df_res_mult_grps['g2_sd_sample'] = df_res_mult_grps['g2_sd_sample'].astype(float)\n",
    "df_res_mult_grps['imbal'] = df_res_mult_grps['imbal'].astype(float)\n",
    "df_res_mult_grps['ngrps'] = df_res_mult_grps['ngrps'].astype(int)\n",
    "df_res_mult_grps['g1t'] = df_res_mult_grps['g1t'].astype(int)\n",
    "df_res_mult_grps['g2t'] = df_res_mult_grps['g2t'].astype(int)\n"
   ]
  },
  {
   "cell_type": "code",
   "execution_count": 121,
   "metadata": {},
   "outputs": [],
   "source": [
    "# cleaned dataset\n",
    "df_res_mult_grps.to_pickle('res_race_randomized.p')"
   ]
  },
  {
   "cell_type": "code",
   "execution_count": 122,
   "metadata": {},
   "outputs": [
    {
     "data": {
      "text/html": [
       "<div>\n",
       "<style scoped>\n",
       "    .dataframe tbody tr th:only-of-type {\n",
       "        vertical-align: middle;\n",
       "    }\n",
       "\n",
       "    .dataframe tbody tr th {\n",
       "        vertical-align: top;\n",
       "    }\n",
       "\n",
       "    .dataframe thead th {\n",
       "        text-align: right;\n",
       "    }\n",
       "</style>\n",
       "<table border=\"1\" class=\"dataframe\">\n",
       "  <thead>\n",
       "    <tr style=\"text-align: right;\">\n",
       "      <th></th>\n",
       "      <th>effect</th>\n",
       "      <th>g1_mean</th>\n",
       "      <th>g2_mean</th>\n",
       "      <th>g1_sd_sample</th>\n",
       "      <th>g2_sd_sample</th>\n",
       "      <th>imbal</th>\n",
       "      <th>ngrps</th>\n",
       "      <th>g1t</th>\n",
       "      <th>g2t</th>\n",
       "      <th>g1counts</th>\n",
       "      <th>g2counts</th>\n",
       "      <th>grouplabels</th>\n",
       "    </tr>\n",
       "  </thead>\n",
       "  <tbody>\n",
       "    <tr>\n",
       "      <td>NCT00000392</td>\n",
       "      <td>0.237493</td>\n",
       "      <td>77.0</td>\n",
       "      <td>66.0</td>\n",
       "      <td>0.263249</td>\n",
       "      <td>0.406202</td>\n",
       "      <td>0.101003</td>\n",
       "      <td>3</td>\n",
       "      <td>104</td>\n",
       "      <td>108</td>\n",
       "      <td>[5.0, 16.0, 83.0]</td>\n",
       "      <td>[5.0, 9.0, 94.0]</td>\n",
       "      <td>[Black, Hispanic, White]</td>\n",
       "    </tr>\n",
       "    <tr>\n",
       "      <td>NCT00001262</td>\n",
       "      <td>1.308937</td>\n",
       "      <td>22.0</td>\n",
       "      <td>35.0</td>\n",
       "      <td>2.943000</td>\n",
       "      <td>12.034000</td>\n",
       "      <td>0.323374</td>\n",
       "      <td>7</td>\n",
       "      <td>35</td>\n",
       "      <td>22</td>\n",
       "      <td>[0.0, 0.0, 9.0, 1.0, 0.0, 3.0, 22.0]</td>\n",
       "      <td>[0.0, 1.0, 1.0, 0.0, 0.0, 1.0, 19.0]</td>\n",
       "      <td>[American Indian or Alaska Native, Asian, Blac...</td>\n",
       "    </tr>\n",
       "    <tr>\n",
       "      <td>NCT00001304</td>\n",
       "      <td>5.943921</td>\n",
       "      <td>14.0</td>\n",
       "      <td>13.0</td>\n",
       "      <td>0.270000</td>\n",
       "      <td>0.510000</td>\n",
       "      <td>0.101015</td>\n",
       "      <td>7</td>\n",
       "      <td>13</td>\n",
       "      <td>14</td>\n",
       "      <td>[0.0, 0.0, 0.0, 0.0, 0.0, 0.0, 13.0]</td>\n",
       "      <td>[0.0, 0.0, 0.0, 0.0, 0.0, 1.0, 13.0]</td>\n",
       "      <td>[American Indian or Alaska Native, Asian, Blac...</td>\n",
       "    </tr>\n",
       "    <tr>\n",
       "      <td>NCT00002651</td>\n",
       "      <td>0.110639</td>\n",
       "      <td>465.0</td>\n",
       "      <td>446.0</td>\n",
       "      <td>17.432223</td>\n",
       "      <td>15.556043</td>\n",
       "      <td>0.019024</td>\n",
       "      <td>7</td>\n",
       "      <td>765</td>\n",
       "      <td>770</td>\n",
       "      <td>[2.0, 5.0, 93.0, 2.0, 2.0, 154.0, 507.0]</td>\n",
       "      <td>[4.0, 8.0, 94.0, 1.0, 0.0, 144.0, 519.0]</td>\n",
       "      <td>[American Indian or Alaska Native, Asian, Blac...</td>\n",
       "    </tr>\n",
       "    <tr>\n",
       "      <td>NCT00004732</td>\n",
       "      <td>0.014136</td>\n",
       "      <td>1240.0</td>\n",
       "      <td>1262.0</td>\n",
       "      <td>28.170907</td>\n",
       "      <td>28.419711</td>\n",
       "      <td>0.009706</td>\n",
       "      <td>3</td>\n",
       "      <td>1262</td>\n",
       "      <td>1240</td>\n",
       "      <td>[81.0, 9.0, 1172.0]</td>\n",
       "      <td>[71.0, 9.0, 1160.0]</td>\n",
       "      <td>[Non-White, Not Specified, White]</td>\n",
       "    </tr>\n",
       "  </tbody>\n",
       "</table>\n",
       "</div>"
      ],
      "text/plain": [
       "               effect  g1_mean  g2_mean  g1_sd_sample  g2_sd_sample     imbal  \\\n",
       "NCT00000392  0.237493     77.0     66.0      0.263249      0.406202  0.101003   \n",
       "NCT00001262  1.308937     22.0     35.0      2.943000     12.034000  0.323374   \n",
       "NCT00001304  5.943921     14.0     13.0      0.270000      0.510000  0.101015   \n",
       "NCT00002651  0.110639    465.0    446.0     17.432223     15.556043  0.019024   \n",
       "NCT00004732  0.014136   1240.0   1262.0     28.170907     28.419711  0.009706   \n",
       "\n",
       "             ngrps   g1t   g2t                                  g1counts  \\\n",
       "NCT00000392      3   104   108                         [5.0, 16.0, 83.0]   \n",
       "NCT00001262      7    35    22      [0.0, 0.0, 9.0, 1.0, 0.0, 3.0, 22.0]   \n",
       "NCT00001304      7    13    14      [0.0, 0.0, 0.0, 0.0, 0.0, 0.0, 13.0]   \n",
       "NCT00002651      7   765   770  [2.0, 5.0, 93.0, 2.0, 2.0, 154.0, 507.0]   \n",
       "NCT00004732      3  1262  1240                       [81.0, 9.0, 1172.0]   \n",
       "\n",
       "                                             g2counts  \\\n",
       "NCT00000392                          [5.0, 9.0, 94.0]   \n",
       "NCT00001262      [0.0, 1.0, 1.0, 0.0, 0.0, 1.0, 19.0]   \n",
       "NCT00001304      [0.0, 0.0, 0.0, 0.0, 0.0, 1.0, 13.0]   \n",
       "NCT00002651  [4.0, 8.0, 94.0, 1.0, 0.0, 144.0, 519.0]   \n",
       "NCT00004732                       [71.0, 9.0, 1160.0]   \n",
       "\n",
       "                                                   grouplabels  \n",
       "NCT00000392                           [Black, Hispanic, White]  \n",
       "NCT00001262  [American Indian or Alaska Native, Asian, Blac...  \n",
       "NCT00001304  [American Indian or Alaska Native, Asian, Blac...  \n",
       "NCT00002651  [American Indian or Alaska Native, Asian, Blac...  \n",
       "NCT00004732                  [Non-White, Not Specified, White]  "
      ]
     },
     "execution_count": 122,
     "metadata": {},
     "output_type": "execute_result"
    }
   ],
   "source": [
    "df_res_mult_grps.head()"
   ]
  },
  {
   "cell_type": "code",
   "execution_count": null,
   "metadata": {},
   "outputs": [],
   "source": []
  }
 ],
 "metadata": {
  "kernelspec": {
   "display_name": "Python 3",
   "language": "python",
   "name": "python3"
  },
  "language_info": {
   "codemirror_mode": {
    "name": "ipython",
    "version": 3
   },
   "file_extension": ".py",
   "mimetype": "text/x-python",
   "name": "python",
   "nbconvert_exporter": "python",
   "pygments_lexer": "ipython3",
   "version": "3.6.9"
  }
 },
 "nbformat": 4,
 "nbformat_minor": 2
}
